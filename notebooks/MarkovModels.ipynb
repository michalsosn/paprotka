{
 "cells": [
  {
   "cell_type": "markdown",
   "metadata": {},
   "source": [
    "# Markov Models\n",
    "\n",
    "* Forward algorithm - calculate the probability that a certain sequence of observations occurs\n",
    "* Viterbi algorithm - find the most probable sequence of hidden states given a sequence of observations\n",
    "* Baum-Welch algorithm - find the parameters of a model that maximize the likelihood of a certain sequence of observations occuring\n",
    "\n",
    "The model must have a Markov property, which means that the distribution of the next hidden state and observation can only depend on the current state or a fixed number of past states. The model is also uniform, which means that the conditional distributions don't change. It should also have a property that the probability of getting from one state to any other one is always non zero.\n",
    "\n",
    "The model has weights determining the distribution of hidden states in each hidden state, weights for distributions of observations in each given state and also an initial state (or a vector of probabilities of initial state).\n",
    "\n",
    "The hidden states seem to be usually discrete, while the observations can be discrete continuous.\n",
    "\n",
    "Number of hidden states grow exponentially with a number of features that are modelled. That is, if the model of a person speech has N states and you need to additionaly include information whether the person is male or female, you now need 2N states."
   ]
  },
  {
   "cell_type": "code",
   "execution_count": 1,
   "metadata": {},
   "outputs": [],
   "source": [
    "import functools as ft\n",
    "import itertools as it\n",
    "import json\n",
    "import math\n",
    "import operator as op\n",
    "import os\n",
    "\n",
    "from IPython.display import display\n",
    "from ipywidgets import interact, interact_manual, widgets\n",
    "import matplotlib.pyplot as plt\n",
    "import numpy as np\n",
    "import pandas as pd\n",
    "from scipy import misc, stats\n",
    "from sklearn import metrics"
   ]
  },
  {
   "cell_type": "markdown",
   "metadata": {},
   "source": [
    "# Discrete Observations\n",
    "\n",
    "First I will consider a simpler case where hidden states and observations are discrete. Markov model is defined by choosing a number of hidden features $h$ and visible observations $v$ (we don't care about assigning symbols to them and will use numbers $0 \\dots h$ and $0 \\dots v$ as states. It's then necessary to define two matrices of probabilities.\n",
    "\n",
    "First is a matrix of probabilities of transitions between hidden states $H$ of size $h \\times h$ where $h$ is a number of hidden states. $H_{i, j}$ is probability of going from hidden state $i$ to hidden state $j$, for all $i$ $\\sum_{j=0}^{h-1} H_{i, j} = 1$ and for all $i, j$ $H_{i, j} > 0$.\n",
    "\n",
    "Second matrix is a matrix of probabilities of emitting observations while being in a certain state $V$ of size $h \\times v$ where $v$ is a number of possible observations (visible states). $V_{i, k}$ is a probability of emitting observation $k$ while in hidden state $i$. For all $i$ $\\sum_{k=0}^{v-1} V_{i, k} = 1$"
   ]
  },
  {
   "cell_type": "code",
   "execution_count": 11,
   "metadata": {},
   "outputs": [
    {
     "name": "stdout",
     "output_type": "stream",
     "text": [
      "[ 0.  0.  1.  0.]\n",
      "[ 0.25  0.25  0.25  0.25]\n",
      "[ 0.1  0.1  0.7  0.1]\n"
     ]
    }
   ],
   "source": [
    "hidden_n = 4\n",
    "visible_n = 3\n",
    "\n",
    "# square matrix h x h, each row sums to 1\n",
    "hidden_weights = np.array([[0.1, 0.4, 0.4, 0.1], \n",
    "                           [0.3, 0.3, 0.2, 0.4], \n",
    "                           [0.4, 0.2, 0.3, 0.1], \n",
    "                           [0.3, 0.3, 0.1, 0.3]]) \n",
    "# matrix h x v, each row sums to 1\n",
    "visible_weights = np.array([[0.3, 0.4, 0.3], \n",
    "                            [0.1, 0.9, 0.0], \n",
    "                            [0.5, 0.4, 0.1],\n",
    "                            [0.2, 0.1, 0.6]]) \n",
    "\n",
    "def hidden_selected(hidden_n, index):\n",
    "    hidden_states = np.zeros(hidden_n, dtype=np.float64)\n",
    "    hidden_states[index] = 1.0\n",
    "    return hidden_states\n",
    "\n",
    "print(hidden_selected(hidden_n, 2))\n",
    "\n",
    "def hidden_uniform(hidden_n):\n",
    "    return np.ones(hidden_n, dtype=np.float64) / hidden_n\n",
    "\n",
    "print(hidden_uniform(hidden_n))\n",
    "\n",
    "initial_hidden = np.array([0.1, 0.1, 0.7, 0.1])\n",
    "print(initial_hidden)"
   ]
  },
  {
   "cell_type": "code",
   "execution_count": 12,
   "metadata": {},
   "outputs": [
    {
     "name": "stdout",
     "output_type": "stream",
     "text": [
      "[ 0.5  0.4  0.1]\n",
      "[ 0.275  0.45   0.25 ]\n",
      "[ 0.41  0.42  0.16]\n"
     ]
    }
   ],
   "source": [
    "def generate_visible(visible_weights, hidden_weights):\n",
    "    return hidden_weights @ visible_weights\n",
    "\n",
    "print(generate_visible(visible_weights, hidden_selected(hidden_n, 2)))\n",
    "print(generate_visible(visible_weights, hidden_uniform(hidden_n)))\n",
    "print(generate_visible(visible_weights, initial_hidden))"
   ]
  },
  {
   "cell_type": "markdown",
   "metadata": {},
   "source": [
    "## Forward Algorithm\n",
    "\n",
    "Calculate probability of a certain sequence of observations occuring."
   ]
  },
  {
   "cell_type": "code",
   "execution_count": null,
   "metadata": {},
   "outputs": [],
   "source": [
    "def forward_probability(hidden_weights, visible_weights, initial_hidden, observations):\n",
    "    pass"
   ]
  },
  {
   "cell_type": "markdown",
   "metadata": {},
   "source": [
    "## Viterbi Algorithm\n",
    "\n",
    "Calculate the most likely sequence of hidden states given a sequence of observations."
   ]
  },
  {
   "cell_type": "code",
   "execution_count": null,
   "metadata": {},
   "outputs": [],
   "source": [
    "def most_likely_hidden_viterbi(hidden_weights, visible_weights, initial_hidden, observations):\n",
    "    pass"
   ]
  },
  {
   "cell_type": "markdown",
   "metadata": {},
   "source": [
    "## Baum-Welch Algorithm\n",
    "\n",
    "Estimate the weights $H$ and $V$ given sequences of observations."
   ]
  },
  {
   "cell_type": "code",
   "execution_count": null,
   "metadata": {},
   "outputs": [],
   "source": [
    "def estimate_weights_baum_welch(hidden_n, visible_n, initial_hidden, observations):\n",
    "    pass"
   ]
  }
 ],
 "metadata": {
  "kernelspec": {
   "display_name": "Python 3",
   "language": "python",
   "name": "python3"
  },
  "language_info": {
   "codemirror_mode": {
    "name": "ipython",
    "version": 3
   },
   "file_extension": ".py",
   "mimetype": "text/x-python",
   "name": "python",
   "nbconvert_exporter": "python",
   "pygments_lexer": "ipython3",
   "version": "3.5.2"
  }
 },
 "nbformat": 4,
 "nbformat_minor": 2
}
