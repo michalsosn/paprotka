{
 "cells": [
  {
   "cell_type": "code",
   "execution_count": 99,
   "metadata": {},
   "outputs": [
    {
     "name": "stdout",
     "output_type": "stream",
     "text": [
      "The autoreload extension is already loaded. To reload it, use:\n",
      "  %reload_ext autoreload\n"
     ]
    }
   ],
   "source": [
    "%load_ext autoreload\n",
    "%autoreload 2\n",
    "\n",
    "import functools as ft\n",
    "import itertools as it\n",
    "import math\n",
    "import operator as op\n",
    "import os\n",
    "\n",
    "from IPython.display import display\n",
    "from ipywidgets import interact, interact_manual, widgets\n",
    "import matplotlib.pyplot as plt\n",
    "import numpy as np\n",
    "from scipy import misc, signal\n",
    "from sklearn import metrics as skmetrics\n",
    "\n",
    "from paprotka.dataset import reddots\n",
    "import paprotka.io as pio"
   ]
  },
  {
   "cell_type": "code",
   "execution_count": 103,
   "metadata": {},
   "outputs": [],
   "source": [
    "enrollments = reddots.load_enrollments('../input/reddots_r2015q4_v1/ndx/f_part_01.trn', \n",
    "                                       '../input/reddots_r2015q4_v1/ndx/m_part_01.trn')\n",
    "trials = reddots.load_trials('../input/reddots_r2015q4_v1/ndx/f_part_01.ndx', \n",
    "                             '../input/reddots_r2015q4_v1/ndx/m_part_01.ndx')\n",
    "load_pcm = ft.partial(reddots.load_pcm, '../input/reddots_r2015q4_v1/pcm')"
   ]
  },
  {
   "cell_type": "code",
   "execution_count": 116,
   "metadata": {},
   "outputs": [],
   "source": [
    "correct_sentence_trials = reddots.filter_correct_sentence(trials)\n",
    "sentence_groups = reddots.group_same_sentence(enrollments, correct_sentence_trials)"
   ]
  },
  {
   "cell_type": "code",
   "execution_count": 120,
   "metadata": {},
   "outputs": [
    {
     "data": {
      "application/vnd.jupyter.widget-view+json": {
       "model_id": "cfe73c97b67c4f87bac593ff42c10943"
      }
     },
     "metadata": {},
     "output_type": "display_data"
    }
   ],
   "source": [
    "def show_enrollments(enrollments):\n",
    "    def show_enrollment(index):\n",
    "        person, pcm_triple = (col[index] for col in enrollments)\n",
    "        print(person)\n",
    "        print(pcm_triple)\n",
    "        for pcm_path in pcm_triple:\n",
    "            pcm = load_pcm(pcm_path)\n",
    "            pio.play_sound(pcm)\n",
    "\n",
    "    interact_manual(\n",
    "        show_enrollment, \n",
    "        index=(0, len(enrollments[0]) - 1)\n",
    "    );\n",
    "show_enrollments(sentence_groups[31][0])"
   ]
  },
  {
   "cell_type": "code",
   "execution_count": 96,
   "metadata": {},
   "outputs": [
    {
     "data": {
      "application/vnd.jupyter.widget-view+json": {
       "model_id": "524824f6382346f89d718047de0e53f3"
      }
     },
     "metadata": {},
     "output_type": "display_data"
    }
   ],
   "source": [
    "def present_trials(trials):\n",
    "    def show_trial(index):\n",
    "        person, pcm_path, truth_row = (col[index] for col in trials)\n",
    "        print(person)\n",
    "        print(pcm_path)\n",
    "        print(truth_row)\n",
    "        pcm = load_pcm(pcm_path)\n",
    "        pio.play_sound(pcm)\n",
    "\n",
    "    interact_manual(\n",
    "        show_trial, \n",
    "        index=(0, len(trials[0]) - 1)\n",
    "    );\n",
    "present_trials(sentence_groups[31][0])"
   ]
  }
 ],
 "metadata": {
  "kernelspec": {
   "display_name": "Python 3",
   "language": "python",
   "name": "python3"
  },
  "language_info": {
   "codemirror_mode": {
    "name": "ipython",
    "version": 3
   },
   "file_extension": ".py",
   "mimetype": "text/x-python",
   "name": "python",
   "nbconvert_exporter": "python",
   "pygments_lexer": "ipython3",
   "version": "3.5.3"
  }
 },
 "nbformat": 4,
 "nbformat_minor": 2
}
