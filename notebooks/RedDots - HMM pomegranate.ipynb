{
 "cells": [
  {
   "cell_type": "markdown",
   "metadata": {},
   "source": [
    "# HMM GMM\n",
    "\n",
    "We use 3-state mono-phone HMMs to construct this recognizer. The emission probability of every state is modeled by a GMM. Say we have F mono-phones (F = 39 in our English lexicon), and a G-mixture GMM for each mono-phone state. Thus the GMM-HMM has 3FG mixture components in total. Compared to GMM-UBM, these mixtures are better separated in the phoneme space.\n",
    "\n",
    "MFCC:  MFCCs  are  extracted  from  16kHz  utterance  with  40 filter-banks distributed between 0 and 8kHz. Static 19-dimensional coefficients plus energy and their delta and delta-delta form a 60-dimensional vector. CMVN is applied per utterance.\n",
    "\n",
    "Hmm, deepspeech ma 26 MFCC features i zdaje się, że usuwa co drugi, ale to w związku z jakąś sztuczką uczenia RNN. Mają tak: features = mfcc(audio, samplerate=fs, numcep=numcep) gdzie mfcc jest z psf jak u nas xD a numcep=26 domyślnie, a fs=16000 domyślnie\n",
    "\n",
    "Hmm, inny papier: In our HMM-based method, a phoneme recognizer is firsttrained with 3-state, GMM-based, mono-phone HMMs. Thisrecognizer is the same as in speech recognition. LetFbe thetotal number of mono-phones (i.e. 39),S=3Fbe the numberof all states,Gthe number of Gaussian components per state,andC=SGthe number of all individual Gaussians, and let(s, g)denote Gaussian componentgin states.\n",
    "3-state - what are you?\n",
    "\n",
    "Given a transcription, a graph of HMM is composed.\n",
    "\n",
    "The  Viterbi  and  forward-backward  (FB)  algorithms  are  twomeans to align frames to states and mixtures.\n",
    "\n",
    "Speaker adaption is the same with Eq. 4 except mixtures here are phonetic dependent.\n",
    "\n",
    "During the test phase,  the Viterbi-based log-likelihood ratio is expressed as:\n",
    "sum_t log P(x_t | model_user,qt) - log P(x_t | model_ubm,qt)\n",
    "\n",
    "HMM: To generate the alignment for the HMM-based modeling,we use MFCCs to train the HMM. 39 mono-phones plus a silencemodel are used,  each of which contains 3 states.  To model thecomplexity of silence, a GMM with 16 mixtures is used for every silence state, while other states are all modeled by 8 Gaussians,resulting 984 Gaussians in total. This HMM is further extended toa triphone system and remains 2142 senones.  The transcriptionsfor  DNN  training  is  generated  by  the  senone  alignment.   OnlyMFCCs are used for HMM training and alignment.\n",
    "\n",
    "GMM-HMM and i-vector/HMM: The GMM of every state is re-estimated using the HMM alignments and different speaker fea-tures.   The total number of mixtures in our model is 984.   Thedimension of i-vector is again set to 600.  Viterbi and FB align-ments are both investigated\n",
    "\n",
    "* 39 x 3 states"
   ]
  },
  {
   "cell_type": "markdown",
   "metadata": {},
   "source": [
    "## MAP - Książka Rabinera:\n",
    "\n",
    "MAP adaptation of speaker-independent model to a speaker of parameters is obtained by solving \n",
    "\n",
    "$$\\frac{d}{d\\lambda} P(\\lambda | O) = 0$$\n",
    "\n",
    "where\n",
    "\n",
    "$$P(\\lambda | O) = \\frac{P(O | \\lambda)P(\\lambda)}{P(O)}$$\n",
    "\n",
    "If we have a good prior estimated from a lot of data, then we can use it to get a model for a speaker for which data is scarce.\n",
    "\n",
    "Conjugate priors for a random vector is defined as the prior distribution for the parameters of the parameters of the probaiblity density function of the random vector, such that the posterior distribution $P(\\lambda | O)$ and the prior distribution $P(\\lambda)$ belong to the same distribution family for any sample observations $O$.\n",
    "For example, it is well known that the conjugate prior for the mean of a Gaussian density is also a Gaussian density.\n",
    "\n",
    "$$\\bar{u_{MAP}} = \\frac{n \\tau^2}{\\sigma^2 + n \\tau^2} \\bar{o} + \\frac{\\sigma^2}{\\sigma^2 + n \\tau^2} \\rho$$\n",
    "\n",
    "where $\\bar{o}$ - sample mean of new data, $n$ - number of training observations, $\\tau^2$ - variance of prior, $\\rho$ - mean of prior distribution\n",
    "\n",
    "How do we estimate $\\rho$ and $\\tau^2$ of prior? From a collection of speaker-dependent models (and $c_m$ is a weight of a model) or from a speaker-independent model with mixture of distributions in each state ($c_m$ is a weight of a mixture component)\n",
    "\n",
    "$\\rho = \\sum_{m=1}^M c_m \\rho_m$\n",
    "\n",
    "$\\tau^2 = \\sum_{m=1}^M c_m (\\rho_m - \\rho)$\n",
    "\n",
    "System do rozpoznawania słowa:\n",
    "\n",
    "po jednym modelu na słowo, rozpoznając matchujemy z każdym po kolei i bierzemy max prob\n",
    "model left-to-right zamiast ergodic :OOOO"
   ]
  },
  {
   "cell_type": "markdown",
   "metadata": {},
   "source": [
    "https://web.stanford.edu/class/cs224s/lectures/\n",
    "\n",
    "Hmm, Viterbi learning, hard assignment: Bahm ~ o3 \n",
    "EM learning, soft assignment: Bahm ~ 0*o1 + 0.15*o2 + 0.5*o3 + 0.05*o\n",
    "\n",
    "Typical training procedure in LVCSR\n",
    "Generate a forced alignment with existing model\n",
    "Viterbi decoding with a very constrained prior (the transcript)\n",
    "Assigns observations to HMM states\n",
    "Create new observation models from update alignments\n",
    "Iteratively repeat the above steps, occasionally introducing a more complex observation model or adding more difficult training examples\n",
    "\n",
    "Viterbi Beam search\n",
    "\n",
    "Applying FB to speech: Caveats\n",
    "Network structure of HMM is always created by hand\n",
    "no algorithm for double-induction of optimal structure and probabilities has been able to beat simple hand-built structures.\n",
    "Always Bakisnetwork = links go forward in time\n",
    "Subcase of Bakisnet: beads-on-string net\n",
    "\n",
    "Assume that the features in the feature vector are uncorrelated\n",
    "This isn’t true for FFT features, but is true for MFCC features, as we will see later\n",
    "\n",
    "\n",
    "Initialization: “Flat start”Transition probabilities:set to zero any that you want to be “structurally zero”Set the rest to identical valuesLikelihoods:initialize μand sof each state to global mean and variance of all training data\n",
    "\n",
    "Embedded TrainingGiven: phoneset, lexicon, transcribed wavefilesBuild a whole sentence HMM for each sentenceInitialize A probsto 0.5, or to zeroInitialize B probsto global mean and varianceRun multiple iterations of Baum WelchDuring each iteration, we compute forward and backward probabilitiesUse them to re-estimate A and BRun Baum-Welch until convergence\n",
    "\n",
    "Viterbi training rather than Baum-Welch training. Computing the “Viterbi path” over the training data is called “forced alignment”\n",
    "Because we know which word string to assign to each observation sequence.\n",
    "We just don’t know the state sequence.\n",
    "So we use aijto constrain the path to go through the correct words\n",
    "\n",
    "Modeling phonetic context\n",
    "The strongest factor affecting phonetic variability is the neighboring phone\n",
    "Idea: have phone models which are specific to context\n",
    "Instead of Context-Independent (CI) phonesWe’ll have Context-Dependent (CD) phones\n",
    "\n",
    "\n",
    "Speech signal is not constantslope of formants, change from stop burst to releaseSo in addition to the cepstralfeaturesNeed to model changes in the cepstralfeatures over time.“delta features”“double delta” (acceleration) features\n",
    "\n",
    "Typical MFCC featuresWindow size: 25msWindow shift: 10msPre-emphasis coefficient: 0.97MFCC:12 MFCC (mel frequency cepstral coefficients)1 energy feature12 delta MFCC features 12 double-delta MFCC features1 delta energy feature1 double-delta energy featureTotal 39-dimensional features\n",
    "\n",
    "\n",
    "Acoustic Model AdaptationShift the means and variances of Gaussians to better match the input feature distributionMaximum Likelihood Linear Regression (MLLR)Maximum A Posteriori (MAP) AdaptationFor both speaker adaptation and environment adaptation\n",
    "\n",
    "MAP Adaptation: u_new = N / (N + a) u_estimated + a / (N + a) u_old, where a is some weight of old\n",
    "\n",
    "DUŻO BYŁO W lec5\n",
    "\n",
    "SIL is a phoneme to a recognizerAlways inserted at start and end of utteranceCorrupting silence with bad forced alignments can break recognizer training (silence eats everything)"
   ]
  },
  {
   "cell_type": "markdown",
   "metadata": {},
   "source": [
    "## Hmm, no dobra, plan działania:\n",
    "\n",
    "Preprocessing:\n",
    "wytnij ciszę z dźwięków, voice activity detection \n",
    "Wylicz MFCC, 20 stanów + d + dd \n",
    "\n",
    "Training:\n",
    "Dla każdego sentence_id (jest ich 10):\n",
    "    Utwórz HMMGMM z całego zbioru treningowego sequence_id:\n",
    "        HMM with 3 states and 8 Gaussian components for each of 39 mono-phones were used for the alignment (resulting in to-tal number of 936 Gaussian components) ?? \n",
    "        albo unique(znaki) * 3 stany\n",
    "        albo znaki * 3 stany trójkątna! (Bakis)\n",
    "        \n",
    "Enrollment:\n",
    "Dla każdego gspeaker_id:\n",
    "    Dla każdego sentence_id:\n",
    "        Weź dane (gspeaker_id, sequence_id)\n",
    "        Naucz HMM taki jak wyżej tylko na nich\n",
    "        Dokonaj MAP adaptacji\n",
    "        \n",
    "Trial:\n",
    "likelihood HMM_{podany speaker, podane zdanie} - likelihood HMM_{UBM, podane zdanie} ? "
   ]
  },
  {
   "cell_type": "code",
   "execution_count": 3,
   "metadata": {},
   "outputs": [],
   "source": [
    "%load_ext autoreload"
   ]
  },
  {
   "cell_type": "code",
   "execution_count": 4,
   "metadata": {},
   "outputs": [],
   "source": [
    "%autoreload 2\n",
    "\n",
    "import concurrent.futures as cf\n",
    "import functools as ft\n",
    "import itertools as it\n",
    "import json\n",
    "import math\n",
    "import operator as op\n",
    "import os\n",
    "import re\n",
    "\n",
    "from IPython.display import display\n",
    "from ipywidgets import interact, interact_manual, widgets\n",
    "import matplotlib.pyplot as plt\n",
    "import numpy as np\n",
    "import pandas as pd\n",
    "import pomegranate as pg\n",
    "from scipy import interpolate, linalg, misc, optimize, spatial, stats\n",
    "from sklearn import metrics, mixture, cluster, utils\n",
    "\n",
    "from paprotka.dataset import reddots\n",
    "from paprotka.feature import cepstral"
   ]
  },
  {
   "cell_type": "code",
   "execution_count": 5,
   "metadata": {},
   "outputs": [],
   "source": [
    "%autoreload 0"
   ]
  },
  {
   "cell_type": "code",
   "execution_count": 6,
   "metadata": {},
   "outputs": [],
   "source": [
    "import warnings\n",
    "warnings.filterwarnings('once')"
   ]
  },
  {
   "cell_type": "markdown",
   "metadata": {},
   "source": [
    "# Load"
   ]
  },
  {
   "cell_type": "code",
   "execution_count": 7,
   "metadata": {},
   "outputs": [],
   "source": [
    "root = reddots.get_root()\n",
    "load_pcm = ft.partial(reddots.load_pcm, root)\n",
    "load_mfcc = ft.partial(reddots.load_npy, root, 'wac2_mfcc13_ddd_lifter22_hamming')"
   ]
  },
  {
   "cell_type": "code",
   "execution_count": 8,
   "metadata": {},
   "outputs": [
    {
     "name": "stdout",
     "output_type": "stream",
     "text": [
      "15305 f0002/20150224142650384_f0002_14438.pcm\n"
     ]
    }
   ],
   "source": [
    "all_paths = [os.path.join(os.path.basename(root), file) for root, _, files in os.walk(root + '/pcm') \n",
    "                                      for file in files \n",
    "                                      if file.endswith('.pcm')]\n",
    "print(len(all_paths), all_paths[0])"
   ]
  },
  {
   "cell_type": "code",
   "execution_count": 9,
   "metadata": {},
   "outputs": [],
   "source": [
    "all_mfcc = {path: load_mfcc(path) for path in all_paths}"
   ]
  },
  {
   "cell_type": "code",
   "execution_count": 10,
   "metadata": {},
   "outputs": [
    {
     "name": "stdout",
     "output_type": "stream",
     "text": [
      "      sentence_id                  content  \\\n",
      "1609           31  My voice is my password   \n",
      "\n",
      "                                                 phones  \n",
      "1609  M AY1 _ V OY1 S _ IH1 Z _ M AY1 _ P AE1 S W ER2 D  \n"
     ]
    }
   ],
   "source": [
    "script = pd.read_csv(root + '/infos/phones.csv', sep=';')\n",
    "print(script.loc[script['sentence_id'] == 31])"
   ]
  },
  {
   "cell_type": "code",
   "execution_count": 11,
   "metadata": {},
   "outputs": [],
   "source": [
    "def load_sets(eid, tid=None):\n",
    "    tid = tid if tid else eid\n",
    "    \n",
    "    enrollments = reddots.load_enrollments(root + '/ndx/f_part_{}.trn'.format(eid), \n",
    "                                           root + '/ndx/m_part_{}.trn'.format(eid))\n",
    "    trials = reddots.load_trials(root + '/ndx/f_part_{}.ndx'.format(tid), \n",
    "                                 root + '/ndx/m_part_{}.ndx'.format(tid))\n",
    "    \n",
    "    enrollments = enrollments.merge(script, how='left', on='sentence_id')\n",
    "    trials = trials.merge(script, how='left', left_on='expected_sentence_id', right_on='sentence_id')\n",
    "    del trials['sentence_id']\n",
    "    trials.rename(columns={'content': 'expected_content', 'phones': 'expected_phones'}, inplace=True)\n",
    "    trials = trials.merge(script, how='left', left_on='trial_sentence_id', right_on='sentence_id')\n",
    "    del trials['sentence_id']\n",
    "    trials.rename(columns={'content': 'trial_content', 'phones': 'trial_phones'}, inplace=True)\n",
    "    \n",
    "    return enrollments, trials"
   ]
  },
  {
   "cell_type": "code",
   "execution_count": 12,
   "metadata": {},
   "outputs": [
    {
     "name": "stdout",
     "output_type": "stream",
     "text": [
      "Enrollments\n",
      "is_male                  bool\n",
      "pcm_path               object\n",
      "sentence_id             int16\n",
      "speaker_id              int16\n",
      "timestamp      datetime64[ns]\n",
      "content                object\n",
      "phones                 object\n",
      "dtype: object\n",
      "Trials\n",
      "correct_sentence                  bool\n",
      "expected_is_male                  bool\n",
      "expected_sentence_id             int16\n",
      "expected_speaker_id              int16\n",
      "pcm_path                        object\n",
      "target_person                     bool\n",
      "trial_is_male                     bool\n",
      "trial_sentence_id                int16\n",
      "trial_speaker_id                 int16\n",
      "trial_timestamp         datetime64[ns]\n",
      "expected_content                object\n",
      "expected_phones                 object\n",
      "trial_content                   object\n",
      "trial_phones                    object\n",
      "dtype: object\n"
     ]
    }
   ],
   "source": [
    "enrollments_1, trials_1 = load_sets('01')\n",
    "print('Enrollments', enrollments_1.dtypes, sep='\\n')\n",
    "print('Trials', trials_1.dtypes, sep='\\n')"
   ]
  },
  {
   "cell_type": "code",
   "execution_count": 13,
   "metadata": {},
   "outputs": [],
   "source": [
    "enrollments_2, trials_2 = load_sets('02')\n",
    "enrollments_3, trials_3 = load_sets('03')\n",
    "enrollments_4_td, trials_4_td = load_sets('04_td', '04')"
   ]
  },
  {
   "cell_type": "code",
   "execution_count": 14,
   "metadata": {},
   "outputs": [
    {
     "name": "stdout",
     "output_type": "stream",
     "text": [
      "10857 4448\n"
     ]
    }
   ],
   "source": [
    "trialed_paths = set(path for trials in (trials_1, trials_2, trials_3, trials_4_td) for path in trials.pcm_path)\n",
    "untrialed_paths = [path for path in all_paths if path not in trialed_paths]\n",
    "print(len(trialed_paths), len(untrialed_paths))"
   ]
  },
  {
   "cell_type": "code",
   "execution_count": 15,
   "metadata": {},
   "outputs": [
    {
     "name": "stdout",
     "output_type": "stream",
     "text": [
      "1 316.151323097 1219 [342  86 417 ..., 412 181 345]\n",
      "[ 1  1  1  7  8  9  9  9 11 12 12 12 12 13 23 27 60 60 78 79 80 85 86 87 87\n",
      " 87 89 89 89 89 89 89 89 89 91 91 92 92 93 93]\n",
      "[1047 1047 1057 1058 1059 1059 1063 1065 1065 1067 1067 1067 1069 1069 1071\n",
      " 1076 1078 1078 1078 1082 1086 1088 1088 1090 1181 1181 1181 1181 1181 1181\n",
      " 1185 1185 1200 1200 1202 1202 1219 1219 1219 1219]\n"
     ]
    }
   ],
   "source": [
    "shit_lengths = np.array([mfcc.shape[0] for mfcc in all_mfcc.values()])\n",
    "print(shit_lengths.min(), shit_lengths.mean(), shit_lengths.max(), shit_lengths)\n",
    "\n",
    "shit_lengths_sorted = np.sort(shit_lengths)\n",
    "\n",
    "print(shit_lengths_sorted[:40])\n",
    "print(shit_lengths_sorted[-40:])"
   ]
  },
  {
   "cell_type": "code",
   "execution_count": 16,
   "metadata": {},
   "outputs": [],
   "source": [
    "trialed_paths = [path for path in trialed_paths if all_mfcc[path].shape[0] >= 85]\n",
    "untrialed_paths = [path for path in untrialed_paths if all_mfcc[path].shape[0] >= 85]"
   ]
  },
  {
   "cell_type": "code",
   "execution_count": 17,
   "metadata": {},
   "outputs": [],
   "source": [
    "# memory blew up\n",
    "# enrollments_1.mfcc = enrollments_1.apply(lambda row: load_mfcc(row.pcm_path), axis=1)\n",
    "# trials_1.mfcc = trials_1.apply(lambda row: load_mfcc(row.pcm_path), axis=1)\n",
    "# enrollments_4_td.mfcc = enrollments_4_td.apply(lambda row: load_mfcc(row.pcm_path), axis=1)"
   ]
  },
  {
   "cell_type": "code",
   "execution_count": 18,
   "metadata": {},
   "outputs": [],
   "source": [
    "# got_this_back = pg.GeneralMixtureModel(bg_model.distributions, np.exp(bg_model.weights) * bg_model.weights.sum())\n",
    "# got_this_back = pg.MultivariateGaussianDistribution(means=bg_model.distributions[0].mu, covariance=bg_model.distributions[0].cov)\n",
    "\n",
    "def with_opened_file(mode='r'):\n",
    "    def decorator(fun):\n",
    "        @ft.wraps(fun)\n",
    "        def wrapped(path, *args, **kwargs):\n",
    "            with open(path, mode=mode) as opened:\n",
    "                return fun(opened, *args, **kwargs)\n",
    "        return wrapped\n",
    "    return decorator\n",
    "\n",
    "def write_model(path, model):\n",
    "    with open(path, 'w') as opened:\n",
    "        opened.write(model.to_json())\n",
    "        \n",
    "def read_mvgaussian(path):\n",
    "    with open(path, 'r') as opened:\n",
    "        parsed = json.load(opened)\n",
    "        means, covariance = parsed['parameters']\n",
    "        return pg.MultivariateGaussianDistribution(means=means, covariance=covariance)\n",
    "        \n",
    "def read_gmm(path):\n",
    "    with open(path, 'r') as opened:\n",
    "        parsed = json.load(opened)\n",
    "        distributions_parsed = parsed['distributions']\n",
    "        weights_parsed = np.array(parsed['weights'])\n",
    "        \n",
    "        distributions = []\n",
    "        for i, distribution in enumerate(distributions_parsed):\n",
    "            try:\n",
    "                distribution = pg.MultivariateGaussianDistribution(*distribution['parameters'])\n",
    "                distributions.append(distribution)\n",
    "            except Exception as exception:\n",
    "                raise IOError('Cannot read mixture at {}'.format(i)) from exception\n",
    "                        \n",
    "        weights_exp = np.exp(weights_parsed) * weights_parsed.sum()\n",
    "        \n",
    "        return pg.GeneralMixtureModel(distributions=distributions, weights=weights_exp)\n",
    "    \n",
    "def write_triples(path, triples):\n",
    "    for phone, triple in triples.items():\n",
    "        for i, model in enumerate(triple):\n",
    "            c = chr(ord('a') + i)\n",
    "            write_model(path + '/{}-{}'.format(phone, c), model)\n",
    "            \n",
    "def read_triples(path, phones):\n",
    "    triples = {}\n",
    "    for phone in phones:\n",
    "        triple = []\n",
    "        for c in ('a', 'b', 'c'):\n",
    "            try:\n",
    "                model = read_gmm(path + '/{}-{}'.format(phone, c))\n",
    "                triple.append(model)\n",
    "            except Exception as exception:\n",
    "                raise IOError('Cannot read model {}-{}'.format(phone, c)) from exception\n",
    "        triples[phone] = tuple(triple)\n",
    "    return triples"
   ]
  },
  {
   "cell_type": "markdown",
   "metadata": {},
   "source": [
    "# Train"
   ]
  },
  {
   "cell_type": "code",
   "execution_count": null,
   "metadata": {},
   "outputs": [],
   "source": [
    "example = enrollments_1[enrollments_1.sentence_id == 31]\n",
    "example_features = [all_mfcc[path] for path in example['pcm_path']]\n",
    "example_lengths = [mfcc.shape[0] for mfcc in example_features] \n",
    "example_features_stack = np.vstack(example_features)\n",
    "\n",
    "print(len(example_features), example_features_stack.shape)"
   ]
  },
  {
   "cell_type": "code",
   "execution_count": 19,
   "metadata": {},
   "outputs": [
    {
     "name": "stdout",
     "output_type": "stream",
     "text": [
      "4445 (1442782, 39)\n"
     ]
    }
   ],
   "source": [
    "untrialed_features = [all_mfcc[path] for path in untrialed_paths]\n",
    "untrialed_features_stack = np.vstack(untrialed_features)\n",
    "\n",
    "print(len(untrialed_features), untrialed_features_stack.shape)"
   ]
  },
  {
   "cell_type": "markdown",
   "metadata": {},
   "source": [
    "## Make 8 and 16 mixtures all sentence models"
   ]
  },
  {
   "cell_type": "code",
   "execution_count": 20,
   "metadata": {
    "scrolled": true
   },
   "outputs": [
    {
     "name": "stdout",
     "output_type": "stream",
     "text": [
      "[1] Improvement: 2473702.901794061\tTime (s): 1.224\n",
      "[2] Improvement: 633268.254008323\tTime (s): 1.141\n",
      "[3] Improvement: 352966.4639593363\tTime (s): 1.166\n",
      "[4] Improvement: 262230.85166698694\tTime (s): 1.137\n",
      "[5] Improvement: 169611.8659812212\tTime (s): 1.165\n",
      "[6] Improvement: 114529.26232421398\tTime (s): 1.118\n",
      "[7] Improvement: 84511.80233338475\tTime (s): 1.199\n",
      "[8] Improvement: 65141.83384655416\tTime (s): 1.157\n",
      "[9] Improvement: 51947.90546943247\tTime (s): 1.177\n",
      "[10] Improvement: 43309.55319856107\tTime (s): 1.199\n",
      "[11] Improvement: 37513.69882506132\tTime (s): 1.12\n",
      "[12] Improvement: 32930.84429334104\tTime (s): 1.095\n",
      "[13] Improvement: 29065.06633129716\tTime (s): 1.079\n",
      "[14] Improvement: 25951.691959545016\tTime (s): 1.126\n",
      "[15] Improvement: 23539.73283688724\tTime (s): 1.164\n",
      "[16] Improvement: 21588.393727973104\tTime (s): 1.177\n",
      "[17] Improvement: 19916.06888127327\tTime (s): 1.196\n",
      "[18] Improvement: 18325.81861205399\tTime (s): 1.053\n",
      "[19] Improvement: 16639.165491849184\tTime (s): 1.185\n",
      "[20] Improvement: 14839.540760427713\tTime (s): 1.127\n",
      "[21] Improvement: 13336.968251019716\tTime (s): 1.186\n",
      "[22] Improvement: 12329.276334419847\tTime (s): 1.189\n",
      "[23] Improvement: 11422.729983076453\tTime (s): 1.076\n",
      "[24] Improvement: 10213.686264395714\tTime (s): 1.09\n",
      "[25] Improvement: 8722.410295411944\tTime (s): 1.133\n",
      "[26] Improvement: 7443.470452874899\tTime (s): 1.16\n",
      "[27] Improvement: 6369.744426816702\tTime (s): 1.061\n",
      "[28] Improvement: 5424.640152797103\tTime (s): 1.025\n",
      "[29] Improvement: 4493.047835350037\tTime (s): 1.173\n",
      "[30] Improvement: 3604.1402892023325\tTime (s): 1.043\n",
      "[31] Improvement: 2819.4131384938955\tTime (s): 1.259\n",
      "[32] Improvement: 2169.9349350482225\tTime (s): 1.194\n",
      "[33] Improvement: 1694.0167678892612\tTime (s): 1.361\n",
      "[34] Improvement: 1363.0803797543049\tTime (s): 1.215\n",
      "[35] Improvement: 1123.4517738372087\tTime (s): 1.206\n",
      "[36] Improvement: 941.0384749770164\tTime (s): 1.169\n",
      "[37] Improvement: 796.4019656777382\tTime (s): 1.187\n",
      "[38] Improvement: 678.0576354265213\tTime (s): 1.123\n",
      "[39] Improvement: 579.3881832361221\tTime (s): 1.165\n",
      "[40] Improvement: 496.405467659235\tTime (s): 1.135\n",
      "[41] Improvement: 426.36832797527313\tTime (s): 1.123\n",
      "[42] Improvement: 367.25815880298615\tTime (s): 1.133\n",
      "[43] Improvement: 317.56002700328827\tTime (s): 1.13\n",
      "[44] Improvement: 276.03783693909645\tTime (s): 1.075\n",
      "[45] Improvement: 241.5736851543188\tTime (s): 1.136\n",
      "[46] Improvement: 213.1251615434885\tTime (s): 1.158\n",
      "[47] Improvement: 189.7407187372446\tTime (s): 1.196\n",
      "[48] Improvement: 170.57783901691437\tTime (s): 1.192\n",
      "[49] Improvement: 154.9082960486412\tTime (s): 1.176\n",
      "[50] Improvement: 142.11271145939827\tTime (s): 1.135\n",
      "[51] Improvement: 131.6692245453596\tTime (s): 1.153\n",
      "[52] Improvement: 123.14027287065983\tTime (s): 1.142\n",
      "[53] Improvement: 116.15998183190823\tTime (s): 1.274\n",
      "[54] Improvement: 110.42311578989029\tTime (s): 1.175\n",
      "[55] Improvement: 105.67562371492386\tTime (s): 1.136\n",
      "[56] Improvement: 101.70651532709599\tTime (s): 1.131\n",
      "[57] Improvement: 98.34087993204594\tTime (s): 1.269\n",
      "[58] Improvement: 95.43393908441067\tTime (s): 1.223\n",
      "[59] Improvement: 92.86612287163734\tTime (s): 1.252\n",
      "[60] Improvement: 90.53917445242405\tTime (s): 1.153\n",
      "[61] Improvement: 88.37321384251118\tTime (s): 1.344\n",
      "[62] Improvement: 86.30458921194077\tTime (s): 1.219\n",
      "[63] Improvement: 84.28427861630917\tTime (s): 1.283\n",
      "[64] Improvement: 82.2765845656395\tTime (s): 1.24\n",
      "[65] Improvement: 80.25784470140934\tTime (s): 1.229\n",
      "[66] Improvement: 78.21492056548595\tTime (s): 1.239\n",
      "[67] Improvement: 76.14334696531296\tTime (s): 1.168\n",
      "[68] Improvement: 74.04521216452122\tTime (s): 1.247\n",
      "[69] Improvement: 71.9270413517952\tTime (s): 1.27\n",
      "[70] Improvement: 69.79793797433376\tTime (s): 1.246\n",
      "[71] Improvement: 67.66815443336964\tTime (s): 1.241\n",
      "[72] Improvement: 65.54811151325703\tTime (s): 1.209\n",
      "[73] Improvement: 63.4478390365839\tTime (s): 1.348\n",
      "[74] Improvement: 61.37671418488026\tTime (s): 1.3\n",
      "[75] Improvement: 59.34349484741688\tTime (s): 1.238\n",
      "[76] Improvement: 57.35650762915611\tTime (s): 1.248\n",
      "[77] Improvement: 55.4239262342453\tTime (s): 1.302\n",
      "[78] Improvement: 53.55401937663555\tTime (s): 1.362\n",
      "[79] Improvement: 51.75527469813824\tTime (s): 1.305\n",
      "[80] Improvement: 50.03634996712208\tTime (s): 1.33\n",
      "[81] Improvement: 48.405886113643646\tTime (s): 1.284\n",
      "[82] Improvement: 46.872192710638046\tTime (s): 1.304\n",
      "[83] Improvement: 45.44287657737732\tTime (s): 1.19\n",
      "[84] Improvement: 44.12443049252033\tTime (s): 1.298\n",
      "[85] Improvement: 42.92181017994881\tTime (s): 1.321\n",
      "[86] Improvement: 41.83802616596222\tTime (s): 1.21\n",
      "[87] Improvement: 40.87380097806454\tTime (s): 1.247\n",
      "[88] Improvement: 40.027318730950356\tTime (s): 1.25\n",
      "[89] Improvement: 39.29412241280079\tTime (s): 1.236\n",
      "[90] Improvement: 38.66722546517849\tTime (s): 1.252\n",
      "[91] Improvement: 38.13753394782543\tTime (s): 1.293\n",
      "[92] Improvement: 37.6947490721941\tTime (s): 1.326\n",
      "[93] Improvement: 37.328666403889656\tTime (s): 1.305\n",
      "[94] Improvement: 37.03056301176548\tTime (s): 1.287\n",
      "[95] Improvement: 36.794144317507744\tTime (s): 1.267\n",
      "[96] Improvement: 36.61563730239868\tTime (s): 1.429\n",
      "[97] Improvement: 36.49288411438465\tTime (s): 1.244\n",
      "[98] Improvement: 36.42366003990173\tTime (s): 1.235\n",
      "[99] Improvement: 36.403661638498306\tTime (s): 1.129\n",
      "[100] Improvement: 36.42505845427513\tTime (s): 1.156\n",
      "[101] Improvement: 36.476556956768036\tTime (s): 1.251\n",
      "[102] Improvement: 36.545275032520294\tTime (s): 1.34\n",
      "[103] Improvement: 36.619287088513374\tTime (s): 1.443\n",
      "[104] Improvement: 36.68913473188877\tTime (s): 1.327\n",
      "[105] Improvement: 36.747569531202316\tTime (s): 1.316\n",
      "[106] Improvement: 36.788094729185104\tTime (s): 1.591\n",
      "[107] Improvement: 36.803127601742744\tTime (s): 1.236\n",
      "[108] Improvement: 36.78238108754158\tTime (s): 1.181\n",
      "[109] Improvement: 36.71221552789211\tTime (s): 1.286\n",
      "[110] Improvement: 36.57691916823387\tTime (s): 1.233\n",
      "[111] Improvement: 36.362056374549866\tTime (s): 1.132\n",
      "[112] Improvement: 36.05826033651829\tTime (s): 1.127\n",
      "[113] Improvement: 35.66309350728989\tTime (s): 1.124\n",
      "[114] Improvement: 35.17994038760662\tTime (s): 1.493\n",
      "[115] Improvement: 34.61499910056591\tTime (s): 1.113\n",
      "[116] Improvement: 33.97419831156731\tTime (s): 1.202\n",
      "[117] Improvement: 33.26130174100399\tTime (s): 1.127\n",
      "[118] Improvement: 32.47746416926384\tTime (s): 1.184\n",
      "[119] Improvement: 31.621993377804756\tTime (s): 1.231\n",
      "[120] Improvement: 30.6938419342041\tTime (s): 1.152\n",
      "[121] Improvement: 29.69335927069187\tTime (s): 1.252\n",
      "[122] Improvement: 28.623792305588722\tTime (s): 1.194\n",
      "[123] Improvement: 27.492077752947807\tTime (s): 1.219\n",
      "[124] Improvement: 26.30869647860527\tTime (s): 1.285\n",
      "[125] Improvement: 25.08671300113201\tTime (s): 1.201\n",
      "[126] Improvement: 23.840382859110832\tTime (s): 1.291\n",
      "[127] Improvement: 22.58379092812538\tTime (s): 1.524\n",
      "[128] Improvement: 21.329827219247818\tTime (s): 1.218\n",
      "[129] Improvement: 20.08960358798504\tTime (s): 1.096\n",
      "[130] Improvement: 18.8722555488348\tTime (s): 1.275\n",
      "[131] Improvement: 17.68504038453102\tTime (s): 1.207\n",
      "[132] Improvement: 16.533604130148888\tTime (s): 1.176\n",
      "[133] Improvement: 15.422292292118073\tTime (s): 1.271\n",
      "[134] Improvement: 14.354442596435547\tTime (s): 1.216\n",
      "[135] Improvement: 13.332589417696\tTime (s): 1.207\n",
      "[136] Improvement: 12.358590632677078\tTime (s): 1.238\n",
      "[137] Improvement: 11.433703631162643\tTime (s): 1.296\n",
      "[138] Improvement: 10.558619245886803\tTime (s): 1.254\n",
      "[139] Improvement: 9.733507320284843\tTime (s): 1.302\n",
      "[140] Improvement: 8.958050325512886\tTime (s): 1.296\n",
      "[141] Improvement: 8.231500566005707\tTime (s): 1.309\n",
      "[142] Improvement: 7.552732288837433\tTime (s): 1.272\n",
      "[143] Improvement: 6.920305714011192\tTime (s): 1.228\n",
      "[144] Improvement: 6.332530453801155\tTime (s): 1.267\n",
      "[145] Improvement: 5.787520676851273\tTime (s): 1.292\n",
      "[146] Improvement: 5.283258646726608\tTime (s): 1.22\n",
      "[147] Improvement: 4.817637145519257\tTime (s): 1.185\n",
      "[148] Improvement: 4.388503760099411\tTime (s): 1.203\n",
      "[149] Improvement: 3.9936966747045517\tTime (s): 1.216\n",
      "[150] Improvement: 3.6310742050409317\tTime (s): 1.261\n",
      "[151] Improvement: 3.298532322049141\tTime (s): 1.216\n",
      "[152] Improvement: 2.994026482105255\tTime (s): 1.313\n",
      "[153] Improvement: 2.715583086013794\tTime (s): 1.431\n",
      "[154] Improvement: 2.4613060504198074\tTime (s): 1.172\n",
      "[155] Improvement: 2.2293873876333237\tTime (s): 1.16\n",
      "[156] Improvement: 2.018109515309334\tTime (s): 1.23\n",
      "[157] Improvement: 1.8258470445871353\tTime (s): 1.187\n"
     ]
    },
    {
     "name": "stdout",
     "output_type": "stream",
     "text": [
      "[158] Improvement: 1.6510690450668335\tTime (s): 1.242\n",
      "[159] Improvement: 1.4923385977745056\tTime (s): 1.189\n",
      "[160] Improvement: 1.3483123779296875\tTime (s): 1.309\n",
      "[161] Improvement: 1.2177345752716064\tTime (s): 1.27\n",
      "[162] Improvement: 1.0994422435760498\tTime (s): 1.337\n",
      "[163] Improvement: 0.9923547059297562\tTime (s): 1.325\n",
      "[164] Improvement: 0.895471379160881\tTime (s): 1.224\n",
      "[165] Improvement: 0.8078731149435043\tTime (s): 1.268\n",
      "[166] Improvement: 0.7287118434906006\tTime (s): 1.38\n",
      "[167] Improvement: 0.657207801938057\tTime (s): 1.192\n",
      "[168] Improvement: 0.5926496088504791\tTime (s): 1.233\n",
      "[169] Improvement: 0.5343829095363617\tTime (s): 1.258\n",
      "[170] Improvement: 0.4818141609430313\tTime (s): 1.343\n",
      "[171] Improvement: 0.4343985468149185\tTime (s): 1.229\n",
      "[172] Improvement: 0.3916418254375458\tTime (s): 1.318\n",
      "[173] Improvement: 0.3530950993299484\tTime (s): 1.236\n",
      "[174] Improvement: 0.3183496445417404\tTime (s): 1.5\n",
      "[175] Improvement: 0.287035197019577\tTime (s): 1.168\n",
      "[176] Improvement: 0.2588164955377579\tTime (s): 1.262\n",
      "[177] Improvement: 0.23338906466960907\tTime (s): 1.282\n",
      "[178] Improvement: 0.21047872304916382\tTime (s): 1.312\n",
      "[179] Improvement: 0.18983764946460724\tTime (s): 1.253\n",
      "[180] Improvement: 0.17123855650424957\tTime (s): 1.527\n",
      "[181] Improvement: 0.15448349714279175\tTime (s): 1.25\n",
      "[182] Improvement: 0.13938528299331665\tTime (s): 1.305\n",
      "[183] Improvement: 0.12578226625919342\tTime (s): 1.355\n",
      "[184] Improvement: 0.11352367699146271\tTime (s): 1.288\n",
      "[185] Improvement: 0.1024770736694336\tTime (s): 1.362\n",
      "[186] Improvement: 0.09252084791660309\tTime (s): 1.394\n",
      "Total Improvement: 4594463.682549715\n",
      "Total Time (s): 230.4334\n"
     ]
    }
   ],
   "source": [
    "bg_model = pg.GeneralMixtureModel.from_samples(\n",
    "    pg.MultivariateGaussianDistribution, n_components=8, X=untrialed_features_stack,\n",
    "    max_iterations=2000, verbose=True, n_jobs=20\n",
    ")"
   ]
  },
  {
   "cell_type": "code",
   "execution_count": 21,
   "metadata": {},
   "outputs": [],
   "source": [
    "bg_model.freeze()"
   ]
  },
  {
   "cell_type": "code",
   "execution_count": 22,
   "metadata": {
    "scrolled": true
   },
   "outputs": [
    {
     "name": "stdout",
     "output_type": "stream",
     "text": [
      "[1] Improvement: 2326001.4778058827\tTime (s): 2.332\n",
      "[2] Improvement: 1048936.2273376584\tTime (s): 2.422\n",
      "[3] Improvement: 503788.152314499\tTime (s): 2.523\n",
      "[4] Improvement: 378417.29803210497\tTime (s): 2.198\n",
      "[5] Improvement: 287822.1143409461\tTime (s): 2.189\n",
      "[6] Improvement: 227266.7865781635\tTime (s): 2.281\n",
      "[7] Improvement: 146496.442282781\tTime (s): 2.389\n",
      "[8] Improvement: 87120.31746590137\tTime (s): 2.296\n",
      "[9] Improvement: 58981.893899172544\tTime (s): 2.225\n",
      "[10] Improvement: 44090.7145973593\tTime (s): 2.132\n",
      "[11] Improvement: 35726.543679997325\tTime (s): 2.146\n",
      "[12] Improvement: 30658.29612390697\tTime (s): 2.24\n",
      "[13] Improvement: 27045.763345122337\tTime (s): 2.405\n",
      "[14] Improvement: 23897.952405139804\tTime (s): 2.121\n",
      "[15] Improvement: 21720.208472058177\tTime (s): 2.162\n",
      "[16] Improvement: 20499.78999952972\tTime (s): 2.08\n",
      "[17] Improvement: 18468.090148806572\tTime (s): 2.217\n",
      "[18] Improvement: 15723.550213769078\tTime (s): 2.166\n",
      "[19] Improvement: 13953.234100610018\tTime (s): 2.121\n",
      "[20] Improvement: 12728.481355398893\tTime (s): 2.277\n",
      "[21] Improvement: 11702.891603797674\tTime (s): 2.165\n",
      "[22] Improvement: 10667.446908816695\tTime (s): 2.233\n",
      "[23] Improvement: 9596.963354483247\tTime (s): 2.08\n",
      "[24] Improvement: 8575.221089482307\tTime (s): 2.071\n",
      "[25] Improvement: 7688.570145919919\tTime (s): 2.21\n",
      "[26] Improvement: 7024.256619378924\tTime (s): 2.273\n",
      "[27] Improvement: 6580.752773150802\tTime (s): 2.211\n",
      "[28] Improvement: 6333.625048160553\tTime (s): 2.325\n",
      "[29] Improvement: 6279.092220067978\tTime (s): 2.347\n",
      "[30] Improvement: 6439.073005512357\tTime (s): 2.324\n",
      "[31] Improvement: 6699.01453730464\tTime (s): 2.186\n",
      "[32] Improvement: 6716.779825285077\tTime (s): 2.308\n",
      "[33] Improvement: 6374.912853553891\tTime (s): 2.268\n",
      "[34] Improvement: 5975.872371599078\tTime (s): 2.166\n",
      "[35] Improvement: 5636.408734962344\tTime (s): 2.113\n",
      "[36] Improvement: 5351.007583424449\tTime (s): 2.184\n",
      "[37] Improvement: 5117.914665147662\tTime (s): 2.222\n",
      "[38] Improvement: 4946.308024480939\tTime (s): 2.421\n",
      "[39] Improvement: 4823.483766973019\tTime (s): 2.344\n",
      "[40] Improvement: 4591.1700113117695\tTime (s): 2.639\n",
      "[41] Improvement: 4149.8726434111595\tTime (s): 2.502\n",
      "[42] Improvement: 3700.8408290594816\tTime (s): 2.108\n",
      "[43] Improvement: 3373.035646393895\tTime (s): 2.095\n",
      "[44] Improvement: 3113.653878942132\tTime (s): 2.202\n",
      "[45] Improvement: 2878.006572186947\tTime (s): 2.174\n",
      "[46] Improvement: 2665.5765686780214\tTime (s): 2.186\n",
      "[47] Improvement: 2483.329447761178\tTime (s): 2.199\n",
      "[48] Improvement: 2326.24731092155\tTime (s): 2.127\n",
      "[49] Improvement: 2213.8882640898228\tTime (s): 2.223\n",
      "[50] Improvement: 2135.9119934290648\tTime (s): 2.116\n",
      "[51] Improvement: 2052.8800737708807\tTime (s): 2.181\n",
      "[52] Improvement: 1950.7930164039135\tTime (s): 2.062\n",
      "[53] Improvement: 1816.321112692356\tTime (s): 2.295\n",
      "[54] Improvement: 1651.5388931930065\tTime (s): 2.507\n",
      "[55] Improvement: 1477.689070135355\tTime (s): 2.434\n",
      "[56] Improvement: 1311.4165899455547\tTime (s): 2.44\n",
      "[57] Improvement: 1159.744300827384\tTime (s): 2.34\n",
      "[58] Improvement: 1026.1878173947334\tTime (s): 2.306\n",
      "[59] Improvement: 911.7817846536636\tTime (s): 2.305\n",
      "[60] Improvement: 815.2780981659889\tTime (s): 2.33\n",
      "[61] Improvement: 733.2518305778503\tTime (s): 2.26\n",
      "[62] Improvement: 662.9013109207153\tTime (s): 2.165\n",
      "[63] Improvement: 603.2992408871651\tTime (s): 2.224\n",
      "[64] Improvement: 553.0201503485441\tTime (s): 2.104\n",
      "[65] Improvement: 509.980146497488\tTime (s): 2.178\n",
      "[66] Improvement: 472.46166428923607\tTime (s): 2.206\n",
      "[67] Improvement: 439.39188908040524\tTime (s): 2.261\n",
      "[68] Improvement: 410.0791652351618\tTime (s): 2.1\n",
      "[69] Improvement: 384.0212247520685\tTime (s): 2.22\n",
      "[70] Improvement: 360.67483301460743\tTime (s): 2.203\n",
      "[71] Improvement: 339.3526721596718\tTime (s): 2.113\n",
      "[72] Improvement: 319.48200672864914\tTime (s): 2.233\n",
      "[73] Improvement: 300.7857260853052\tTime (s): 2.244\n",
      "[74] Improvement: 283.12126475572586\tTime (s): 2.405\n",
      "[75] Improvement: 266.47246415913105\tTime (s): 2.332\n",
      "[76] Improvement: 250.9300001859665\tTime (s): 2.322\n",
      "[77] Improvement: 236.5881111472845\tTime (s): 2.212\n",
      "[78] Improvement: 223.4873959571123\tTime (s): 2.23\n",
      "[79] Improvement: 211.5961896032095\tTime (s): 2.162\n",
      "[80] Improvement: 200.8007465749979\tTime (s): 2.244\n",
      "[81] Improvement: 190.89244003593922\tTime (s): 2.272\n",
      "[82] Improvement: 181.62514148652554\tTime (s): 2.261\n",
      "[83] Improvement: 172.85432821512222\tTime (s): 2.221\n",
      "[84] Improvement: 164.5710752904415\tTime (s): 2.185\n",
      "[85] Improvement: 156.8310266584158\tTime (s): 2.258\n",
      "[86] Improvement: 149.69624869525433\tTime (s): 2.322\n",
      "[87] Improvement: 143.2115597575903\tTime (s): 2.332\n",
      "[88] Improvement: 137.40061110258102\tTime (s): 2.376\n",
      "[89] Improvement: 132.25842548906803\tTime (s): 2.355\n",
      "[90] Improvement: 127.7350505888462\tTime (s): 2.408\n",
      "[91] Improvement: 123.73243534564972\tTime (s): 2.423\n",
      "[92] Improvement: 120.14117896556854\tTime (s): 2.493\n",
      "[93] Improvement: 116.87071838974953\tTime (s): 2.15\n",
      "[94] Improvement: 113.81945253908634\tTime (s): 2.448\n",
      "[95] Improvement: 110.84401525557041\tTime (s): 2.34\n",
      "[96] Improvement: 107.80460488796234\tTime (s): 2.264\n",
      "[97] Improvement: 104.68401989340782\tTime (s): 2.213\n",
      "[98] Improvement: 101.64206744730473\tTime (s): 2.156\n",
      "[99] Improvement: 98.93203240633011\tTime (s): 2.226\n",
      "[100] Improvement: 96.76175464689732\tTime (s): 2.303\n",
      "[101] Improvement: 95.19245292246342\tTime (s): 2.197\n",
      "[102] Improvement: 94.15528862178326\tTime (s): 2.01\n",
      "[103] Improvement: 93.61346228420734\tTime (s): 1.983\n",
      "[104] Improvement: 93.61277873814106\tTime (s): 2.094\n",
      "[105] Improvement: 94.07416723668575\tTime (s): 2.172\n",
      "[106] Improvement: 94.92708513140678\tTime (s): 2.243\n",
      "[107] Improvement: 96.28470347821712\tTime (s): 2.157\n",
      "[108] Improvement: 98.0912165492773\tTime (s): 2.225\n",
      "[109] Improvement: 100.14653860032558\tTime (s): 2.178\n",
      "[110] Improvement: 102.33584596216679\tTime (s): 2.234\n",
      "[111] Improvement: 104.58744522929192\tTime (s): 2.216\n",
      "[112] Improvement: 106.6312527358532\tTime (s): 2.26\n",
      "[113] Improvement: 108.24020417034626\tTime (s): 2.235\n",
      "[114] Improvement: 109.93273600935936\tTime (s): 2.124\n",
      "[115] Improvement: 112.3939346075058\tTime (s): 2.196\n",
      "[116] Improvement: 115.75315469503403\tTime (s): 2.02\n",
      "[117] Improvement: 119.68943248689175\tTime (s): 2.176\n",
      "[118] Improvement: 123.95674473047256\tTime (s): 2.165\n",
      "[119] Improvement: 128.75714223086834\tTime (s): 2.186\n",
      "[120] Improvement: 134.3600347340107\tTime (s): 2.082\n",
      "[121] Improvement: 140.85617500543594\tTime (s): 2.178\n",
      "[122] Improvement: 148.32574446499348\tTime (s): 2.212\n",
      "[123] Improvement: 156.6460777670145\tTime (s): 2.201\n",
      "[124] Improvement: 165.3008171916008\tTime (s): 2.241\n",
      "[125] Improvement: 174.4143015742302\tTime (s): 2.115\n",
      "[126] Improvement: 185.31252796947956\tTime (s): 2.186\n",
      "[127] Improvement: 199.34684963524342\tTime (s): 2.172\n",
      "[128] Improvement: 216.89558386802673\tTime (s): 2.119\n",
      "[129] Improvement: 237.59585152566433\tTime (s): 2.121\n",
      "[130] Improvement: 261.3990357220173\tTime (s): 2.262\n",
      "[131] Improvement: 288.8374851644039\tTime (s): 2.251\n",
      "[132] Improvement: 321.2415421307087\tTime (s): 2.191\n",
      "[133] Improvement: 359.3902619481087\tTime (s): 2.091\n",
      "[134] Improvement: 400.2157526910305\tTime (s): 2.191\n",
      "[135] Improvement: 438.21678960323334\tTime (s): 2.086\n",
      "[136] Improvement: 473.26308339834213\tTime (s): 2.164\n",
      "[137] Improvement: 509.69029550254345\tTime (s): 2.201\n",
      "[138] Improvement: 543.6607943028212\tTime (s): 2.196\n",
      "[139] Improvement: 566.7370255440474\tTime (s): 2.195\n",
      "[140] Improvement: 578.8218565434217\tTime (s): 2.202\n",
      "[141] Improvement: 586.843987300992\tTime (s): 2.201\n",
      "[142] Improvement: 590.6322759389877\tTime (s): 2.14\n",
      "[143] Improvement: 583.7312771379948\tTime (s): 2.139\n",
      "[144] Improvement: 568.560236170888\tTime (s): 2.272\n",
      "[145] Improvement: 547.2531977146864\tTime (s): 2.156\n",
      "[146] Improvement: 514.787567794323\tTime (s): 2.121\n",
      "[147] Improvement: 472.62242428958416\tTime (s): 2.204\n",
      "[148] Improvement: 426.85697588324547\tTime (s): 2.124\n",
      "[149] Improvement: 380.351760417223\tTime (s): 2.1\n",
      "[150] Improvement: 333.5557994097471\tTime (s): 2.126\n",
      "[151] Improvement: 287.45220436155796\tTime (s): 2.029\n",
      "[152] Improvement: 244.22041508555412\tTime (s): 2.114\n",
      "[153] Improvement: 205.34361542761326\tTime (s): 2.092\n",
      "[154] Improvement: 171.41754442453384\tTime (s): 2.289\n",
      "[155] Improvement: 142.50045561790466\tTime (s): 2.109\n",
      "[156] Improvement: 118.30787718296051\tTime (s): 1.998\n"
     ]
    },
    {
     "name": "stdout",
     "output_type": "stream",
     "text": [
      "[157] Improvement: 98.31619562208652\tTime (s): 2.139\n",
      "[158] Improvement: 81.87848582863808\tTime (s): 2.229\n",
      "[159] Improvement: 68.34950263798237\tTime (s): 2.059\n",
      "[160] Improvement: 57.1679525077343\tTime (s): 2.088\n",
      "[161] Improvement: 47.888062715530396\tTime (s): 2.373\n",
      "[162] Improvement: 40.17306137084961\tTime (s): 2.0\n",
      "[163] Improvement: 33.767528876662254\tTime (s): 2.013\n",
      "[164] Improvement: 28.466753646731377\tTime (s): 2.217\n",
      "[165] Improvement: 24.095846578478813\tTime (s): 2.145\n",
      "[166] Improvement: 20.50084213912487\tTime (s): 2.248\n",
      "[167] Improvement: 17.546802565455437\tTime (s): 2.511\n",
      "[168] Improvement: 15.11777876317501\tTime (s): 2.511\n",
      "[169] Improvement: 13.116219311952591\tTime (s): 2.556\n",
      "[170] Improvement: 11.461442783474922\tTime (s): 2.581\n",
      "[171] Improvement: 10.087551802396774\tTime (s): 2.581\n",
      "[172] Improvement: 8.941186621785164\tTime (s): 2.65\n",
      "[173] Improvement: 7.9793776869773865\tTime (s): 2.642\n",
      "[174] Improvement: 7.16763973236084\tTime (s): 2.722\n",
      "[175] Improvement: 6.478336751461029\tTime (s): 2.679\n",
      "[176] Improvement: 5.889329358935356\tTime (s): 2.677\n",
      "[177] Improvement: 5.3828583508729935\tTime (s): 2.718\n",
      "[178] Improvement: 4.944658517837524\tTime (s): 2.65\n",
      "[179] Improvement: 4.563231945037842\tTime (s): 2.669\n",
      "[180] Improvement: 4.229284837841988\tTime (s): 2.647\n",
      "[181] Improvement: 3.935274824500084\tTime (s): 2.627\n",
      "[182] Improvement: 3.675051271915436\tTime (s): 2.365\n",
      "[183] Improvement: 3.443579465150833\tTime (s): 2.34\n",
      "[184] Improvement: 3.2367122769355774\tTime (s): 2.305\n",
      "[185] Improvement: 3.0510184019804\tTime (s): 2.394\n",
      "[186] Improvement: 2.8836436569690704\tTime (s): 2.289\n",
      "[187] Improvement: 2.7321996092796326\tTime (s): 2.306\n",
      "[188] Improvement: 2.5946774929761887\tTime (s): 2.315\n",
      "[189] Improvement: 2.46937994658947\tTime (s): 2.283\n",
      "[190] Improvement: 2.3548613786697388\tTime (s): 2.168\n",
      "[191] Improvement: 2.249892085790634\tTime (s): 2.318\n",
      "[192] Improvement: 2.153409332036972\tTime (s): 2.237\n",
      "[193] Improvement: 2.0645024180412292\tTime (s): 2.352\n",
      "[194] Improvement: 1.9823775440454483\tTime (s): 2.271\n",
      "[195] Improvement: 1.9063474237918854\tTime (s): 2.477\n",
      "[196] Improvement: 1.835809588432312\tTime (s): 2.265\n",
      "[197] Improvement: 1.770235225558281\tTime (s): 2.342\n",
      "[198] Improvement: 1.7091603428125381\tTime (s): 2.248\n",
      "[199] Improvement: 1.652173101902008\tTime (s): 2.251\n",
      "[200] Improvement: 1.5989104807376862\tTime (s): 2.211\n",
      "[201] Improvement: 1.549048826098442\tTime (s): 2.214\n",
      "[202] Improvement: 1.5022983849048615\tTime (s): 2.228\n",
      "[203] Improvement: 1.4584021121263504\tTime (s): 2.202\n",
      "[204] Improvement: 1.4171275049448013\tTime (s): 2.12\n",
      "[205] Improvement: 1.3782682716846466\tTime (s): 2.069\n",
      "[206] Improvement: 1.3416352719068527\tTime (s): 2.103\n",
      "[207] Improvement: 1.3070602267980576\tTime (s): 2.218\n",
      "[208] Improvement: 1.274390533566475\tTime (s): 2.267\n",
      "[209] Improvement: 1.243485450744629\tTime (s): 2.224\n",
      "[210] Improvement: 1.214221641421318\tTime (s): 2.136\n",
      "[211] Improvement: 1.1864811033010483\tTime (s): 2.167\n",
      "[212] Improvement: 1.1601622998714447\tTime (s): 2.274\n",
      "[213] Improvement: 1.1351663619279861\tTime (s): 2.254\n",
      "[214] Improvement: 1.111407831311226\tTime (s): 2.076\n",
      "[215] Improvement: 1.0888052582740784\tTime (s): 2.239\n",
      "[216] Improvement: 1.0672848373651505\tTime (s): 2.22\n",
      "[217] Improvement: 1.0467790216207504\tTime (s): 2.327\n",
      "[218] Improvement: 1.027225375175476\tTime (s): 2.405\n",
      "[219] Improvement: 1.008565902709961\tTime (s): 2.43\n",
      "[220] Improvement: 0.9907469749450684\tTime (s): 2.269\n",
      "[221] Improvement: 0.9737185835838318\tTime (s): 2.396\n",
      "[222] Improvement: 0.9574373811483383\tTime (s): 2.499\n",
      "[223] Improvement: 0.9418581277132034\tTime (s): 2.309\n",
      "[224] Improvement: 0.926942840218544\tTime (s): 2.457\n",
      "[225] Improvement: 0.9126547127962112\tTime (s): 2.454\n",
      "[226] Improvement: 0.8989596664905548\tTime (s): 2.383\n",
      "[227] Improvement: 0.8858254551887512\tTime (s): 2.378\n",
      "[228] Improvement: 0.873222678899765\tTime (s): 2.379\n",
      "[229] Improvement: 0.8611237108707428\tTime (s): 2.309\n",
      "[230] Improvement: 0.8495016545057297\tTime (s): 2.396\n",
      "[231] Improvement: 0.8383338302373886\tTime (s): 2.373\n",
      "[232] Improvement: 0.8275972157716751\tTime (s): 2.214\n",
      "[233] Improvement: 0.8172691911458969\tTime (s): 2.254\n",
      "[234] Improvement: 0.807330921292305\tTime (s): 2.125\n",
      "[235] Improvement: 0.7977637648582458\tTime (s): 2.292\n",
      "[236] Improvement: 0.7885497063398361\tTime (s): 2.191\n",
      "[237] Improvement: 0.7796721011400223\tTime (s): 2.361\n",
      "[238] Improvement: 0.7711149901151657\tTime (s): 2.323\n",
      "[239] Improvement: 0.7628662288188934\tTime (s): 2.416\n",
      "[240] Improvement: 0.7549077421426773\tTime (s): 2.495\n",
      "[241] Improvement: 0.7472306787967682\tTime (s): 2.365\n",
      "[242] Improvement: 0.7398209720849991\tTime (s): 2.303\n",
      "[243] Improvement: 0.7326661497354507\tTime (s): 2.27\n",
      "[244] Improvement: 0.7257575690746307\tTime (s): 2.344\n",
      "[245] Improvement: 0.7190832197666168\tTime (s): 2.295\n",
      "[246] Improvement: 0.7126343101263046\tTime (s): 2.307\n",
      "[247] Improvement: 0.7064015418291092\tTime (s): 2.597\n",
      "[248] Improvement: 0.7003759890794754\tTime (s): 2.379\n",
      "[249] Improvement: 0.6945500373840332\tTime (s): 2.291\n",
      "[250] Improvement: 0.688914880156517\tTime (s): 2.316\n",
      "[251] Improvement: 0.6834651380777359\tTime (s): 2.352\n",
      "[252] Improvement: 0.678192064166069\tTime (s): 2.261\n",
      "[253] Improvement: 0.6730901598930359\tTime (s): 2.241\n",
      "[254] Improvement: 0.6681527495384216\tTime (s): 2.41\n",
      "[255] Improvement: 0.6633744239807129\tTime (s): 2.914\n",
      "[256] Improvement: 0.6587502956390381\tTime (s): 2.387\n",
      "[257] Improvement: 0.6542734205722809\tTime (s): 2.299\n",
      "[258] Improvement: 0.6499396860599518\tTime (s): 2.313\n",
      "[259] Improvement: 0.6457457542419434\tTime (s): 2.256\n",
      "[260] Improvement: 0.6416861414909363\tTime (s): 2.158\n",
      "[261] Improvement: 0.6377551704645157\tTime (s): 2.229\n",
      "[262] Improvement: 0.6339516341686249\tTime (s): 2.253\n",
      "[263] Improvement: 0.6302694976329803\tTime (s): 2.462\n",
      "[264] Improvement: 0.626707136631012\tTime (s): 2.476\n",
      "[265] Improvement: 0.6232595294713974\tTime (s): 2.223\n",
      "[266] Improvement: 0.6199246495962143\tTime (s): 2.327\n",
      "[267] Improvement: 0.6166992634534836\tTime (s): 2.304\n",
      "[268] Improvement: 0.613579735159874\tTime (s): 2.89\n",
      "[269] Improvement: 0.6105639636516571\tTime (s): 2.766\n",
      "[270] Improvement: 0.6076497882604599\tTime (s): 2.323\n",
      "[271] Improvement: 0.6048340201377869\tTime (s): 2.309\n",
      "[272] Improvement: 0.602115273475647\tTime (s): 2.555\n",
      "[273] Improvement: 0.5994892865419388\tTime (s): 2.544\n",
      "[274] Improvement: 0.5969569534063339\tTime (s): 2.534\n",
      "[275] Improvement: 0.5945145636796951\tTime (s): 2.622\n",
      "[276] Improvement: 0.5921605080366135\tTime (s): 2.544\n",
      "[277] Improvement: 0.5898924618959427\tTime (s): 2.39\n",
      "[278] Improvement: 0.5877104550600052\tTime (s): 2.435\n",
      "[279] Improvement: 0.5856103748083115\tTime (s): 2.99\n",
      "[280] Improvement: 0.5835937112569809\tTime (s): 2.374\n",
      "[281] Improvement: 0.581655740737915\tTime (s): 2.406\n",
      "[282] Improvement: 0.5797992199659348\tTime (s): 2.338\n",
      "[283] Improvement: 0.5780181586742401\tTime (s): 2.406\n",
      "[284] Improvement: 0.5763150006532669\tTime (s): 2.554\n",
      "[285] Improvement: 0.5746869593858719\tTime (s): 2.32\n",
      "[286] Improvement: 0.5731336921453476\tTime (s): 2.14\n",
      "[287] Improvement: 0.5716539770364761\tTime (s): 2.245\n",
      "[288] Improvement: 0.570245772600174\tTime (s): 2.318\n",
      "[289] Improvement: 0.5689099580049515\tTime (s): 2.334\n",
      "[290] Improvement: 0.5676445513963699\tTime (s): 2.326\n",
      "[291] Improvement: 0.5664487183094025\tTime (s): 2.323\n",
      "[292] Improvement: 0.5653228461742401\tTime (s): 2.112\n",
      "[293] Improvement: 0.5642639696598053\tTime (s): 2.274\n",
      "[294] Improvement: 0.5632739961147308\tTime (s): 2.245\n",
      "[295] Improvement: 0.5623518377542496\tTime (s): 2.231\n",
      "[296] Improvement: 0.5614947527647018\tTime (s): 2.203\n",
      "[297] Improvement: 0.5607035011053085\tTime (s): 2.241\n",
      "[298] Improvement: 0.5599790662527084\tTime (s): 2.217\n",
      "[299] Improvement: 0.5593189597129822\tTime (s): 2.163\n",
      "[300] Improvement: 0.5587234497070312\tTime (s): 2.188\n",
      "[301] Improvement: 0.5581923872232437\tTime (s): 2.209\n",
      "[302] Improvement: 0.5577257126569748\tTime (s): 2.062\n",
      "[303] Improvement: 0.5573222190141678\tTime (s): 2.107\n",
      "[304] Improvement: 0.5569818168878555\tTime (s): 2.083\n",
      "[305] Improvement: 0.5567054450511932\tTime (s): 2.335\n",
      "[306] Improvement: 0.5564907640218735\tTime (s): 2.281\n",
      "[307] Improvement: 0.5563401132822037\tTime (s): 2.192\n",
      "[308] Improvement: 0.5562510788440704\tTime (s): 2.349\n",
      "[309] Improvement: 0.5562256425619125\tTime (s): 2.068\n"
     ]
    },
    {
     "name": "stdout",
     "output_type": "stream",
     "text": [
      "[310] Improvement: 0.5562622249126434\tTime (s): 2.277\n",
      "[311] Improvement: 0.5563607662916183\tTime (s): 2.292\n",
      "[312] Improvement: 0.5565235018730164\tTime (s): 2.145\n",
      "[313] Improvement: 0.5567473769187927\tTime (s): 2.187\n",
      "[314] Improvement: 0.5570349991321564\tTime (s): 2.289\n",
      "[315] Improvement: 0.557384729385376\tTime (s): 2.183\n",
      "[316] Improvement: 0.5577975213527679\tTime (s): 2.225\n",
      "[317] Improvement: 0.5582743436098099\tTime (s): 2.244\n",
      "[318] Improvement: 0.5588139295578003\tTime (s): 2.208\n",
      "[319] Improvement: 0.5594174116849899\tTime (s): 2.227\n",
      "[320] Improvement: 0.5600849837064743\tTime (s): 1.985\n",
      "[321] Improvement: 0.5608172565698624\tTime (s): 2.116\n",
      "[322] Improvement: 0.561614140868187\tTime (s): 2.059\n",
      "[323] Improvement: 0.5624764561653137\tTime (s): 2.135\n",
      "[324] Improvement: 0.5634038597345352\tTime (s): 1.998\n",
      "[325] Improvement: 0.5643981695175171\tTime (s): 2.045\n",
      "[326] Improvement: 0.5654593110084534\tTime (s): 2.182\n",
      "[327] Improvement: 0.5665865391492844\tTime (s): 2.212\n",
      "[328] Improvement: 0.5677829086780548\tTime (s): 2.236\n",
      "[329] Improvement: 0.5690473318099976\tTime (s): 2.248\n",
      "[330] Improvement: 0.5703807920217514\tTime (s): 2.157\n",
      "[331] Improvement: 0.5717838704586029\tTime (s): 2.033\n",
      "[332] Improvement: 0.5732579082250595\tTime (s): 2.207\n",
      "[333] Improvement: 0.5748035758733749\tTime (s): 2.177\n",
      "[334] Improvement: 0.5764203816652298\tTime (s): 2.065\n",
      "[335] Improvement: 0.578110933303833\tTime (s): 2.317\n",
      "[336] Improvement: 0.5798751562833786\tTime (s): 2.341\n",
      "[337] Improvement: 0.5817135870456696\tTime (s): 2.273\n",
      "[338] Improvement: 0.5836277455091476\tTime (s): 2.333\n",
      "[339] Improvement: 0.5856182426214218\tTime (s): 2.159\n",
      "[340] Improvement: 0.5876864194869995\tTime (s): 2.19\n",
      "[341] Improvement: 0.5898326337337494\tTime (s): 2.124\n",
      "[342] Improvement: 0.5920588672161102\tTime (s): 2.201\n",
      "[343] Improvement: 0.5943647623062134\tTime (s): 2.432\n",
      "[344] Improvement: 0.5967520177364349\tTime (s): 2.188\n",
      "[345] Improvement: 0.5992225706577301\tTime (s): 2.168\n",
      "[346] Improvement: 0.6017763465642929\tTime (s): 2.045\n",
      "[347] Improvement: 0.6044146716594696\tTime (s): 2.166\n",
      "[348] Improvement: 0.6071386188268661\tTime (s): 2.082\n",
      "[349] Improvement: 0.609949991106987\tTime (s): 2.088\n",
      "[350] Improvement: 0.6128488332033157\tTime (s): 1.978\n",
      "[351] Improvement: 0.6158377081155777\tTime (s): 2.353\n",
      "[352] Improvement: 0.6189168989658356\tTime (s): 2.08\n",
      "[353] Improvement: 0.622087225317955\tTime (s): 2.025\n",
      "[354] Improvement: 0.6253511011600494\tTime (s): 2.301\n",
      "[355] Improvement: 0.6287089884281158\tTime (s): 2.308\n",
      "[356] Improvement: 0.6321621835231781\tTime (s): 2.359\n",
      "[357] Improvement: 0.6357123106718063\tTime (s): 2.337\n",
      "[358] Improvement: 0.6393601894378662\tTime (s): 2.297\n",
      "[359] Improvement: 0.6431072354316711\tTime (s): 2.851\n",
      "[360] Improvement: 0.6469556987285614\tTime (s): 2.447\n",
      "[361] Improvement: 0.6509054899215698\tTime (s): 2.227\n",
      "[362] Improvement: 0.6549584567546844\tTime (s): 2.135\n",
      "[363] Improvement: 0.6591170132160187\tTime (s): 2.138\n",
      "[364] Improvement: 0.6633808016777039\tTime (s): 2.246\n",
      "[365] Improvement: 0.6677531749010086\tTime (s): 2.071\n",
      "[366] Improvement: 0.6722341030836105\tTime (s): 2.171\n",
      "[367] Improvement: 0.6768260598182678\tTime (s): 2.294\n",
      "[368] Improvement: 0.6815291792154312\tTime (s): 2.228\n",
      "[369] Improvement: 0.686347171664238\tTime (s): 2.117\n",
      "[370] Improvement: 0.6912793815135956\tTime (s): 2.088\n",
      "[371] Improvement: 0.6963293552398682\tTime (s): 2.264\n",
      "[372] Improvement: 0.7014970928430557\tTime (s): 2.147\n",
      "[373] Improvement: 0.7067858576774597\tTime (s): 2.247\n",
      "[374] Improvement: 0.7121968269348145\tTime (s): 2.347\n",
      "[375] Improvement: 0.7177314162254333\tTime (s): 2.132\n",
      "[376] Improvement: 0.723392054438591\tTime (s): 2.176\n",
      "[377] Improvement: 0.7291809767484665\tTime (s): 2.275\n",
      "[378] Improvement: 0.7350986748933792\tTime (s): 2.109\n",
      "[379] Improvement: 0.7411491572856903\tTime (s): 2.391\n",
      "[380] Improvement: 0.7473340183496475\tTime (s): 1.996\n",
      "[381] Improvement: 0.7536543756723404\tTime (s): 2.036\n",
      "[382] Improvement: 0.7601147443056107\tTime (s): 1.997\n",
      "[383] Improvement: 0.7667159289121628\tTime (s): 1.992\n",
      "[384] Improvement: 0.7734608203172684\tTime (s): 1.947\n",
      "[385] Improvement: 0.7803525179624557\tTime (s): 2.001\n",
      "[386] Improvement: 0.7873933613300323\tTime (s): 1.968\n",
      "[387] Improvement: 0.7945869266986847\tTime (s): 2.102\n",
      "[388] Improvement: 0.8019354343414307\tTime (s): 2.114\n",
      "[389] Improvement: 0.8094425201416016\tTime (s): 1.975\n",
      "[390] Improvement: 0.8171120285987854\tTime (s): 2.013\n",
      "[391] Improvement: 0.8249457776546478\tTime (s): 2.035\n",
      "[392] Improvement: 0.8329498767852783\tTime (s): 2.095\n",
      "[393] Improvement: 0.8411255329847336\tTime (s): 2.48\n",
      "[394] Improvement: 0.8494784832000732\tTime (s): 2.187\n",
      "[395] Improvement: 0.8580119460821152\tTime (s): 2.236\n",
      "[396] Improvement: 0.8667307496070862\tTime (s): 2.046\n",
      "[397] Improvement: 0.8756392151117325\tTime (s): 2.209\n",
      "[398] Improvement: 0.8847416490316391\tTime (s): 2.113\n",
      "[399] Improvement: 0.894044041633606\tTime (s): 2.175\n",
      "[400] Improvement: 0.9035495519638062\tTime (s): 2.101\n",
      "[401] Improvement: 0.9132664650678635\tTime (s): 2.111\n",
      "[402] Improvement: 0.9231963008642197\tTime (s): 1.95\n",
      "[403] Improvement: 0.9333480894565582\tTime (s): 2.247\n",
      "[404] Improvement: 0.9437260329723358\tTime (s): 2.136\n",
      "[405] Improvement: 0.9543373435735703\tTime (s): 2.193\n",
      "[406] Improvement: 0.9651879370212555\tTime (s): 1.976\n",
      "[407] Improvement: 0.9762826859951019\tTime (s): 2.203\n",
      "[408] Improvement: 0.9876310974359512\tTime (s): 2.352\n",
      "[409] Improvement: 0.9992399960756302\tTime (s): 2.156\n",
      "[410] Improvement: 1.0111150294542313\tTime (s): 2.031\n",
      "[411] Improvement: 1.0232644081115723\tTime (s): 1.954\n",
      "[412] Improvement: 1.035695657134056\tTime (s): 2.251\n",
      "[413] Improvement: 1.0484173893928528\tTime (s): 1.96\n",
      "[414] Improvement: 1.0614387542009354\tTime (s): 2.231\n",
      "[415] Improvement: 1.0747656375169754\tTime (s): 1.87\n",
      "[416] Improvement: 1.088409185409546\tTime (s): 2.284\n",
      "[417] Improvement: 1.102376714348793\tTime (s): 2.044\n",
      "[418] Improvement: 1.1166795492172241\tTime (s): 2.097\n",
      "[419] Improvement: 1.1313254982233047\tTime (s): 2.167\n",
      "[420] Improvement: 1.1463249772787094\tTime (s): 2.096\n",
      "[421] Improvement: 1.16168874502182\tTime (s): 2.103\n",
      "[422] Improvement: 1.1774269044399261\tTime (s): 1.981\n",
      "[423] Improvement: 1.1935495436191559\tTime (s): 2.069\n",
      "[424] Improvement: 1.210070013999939\tTime (s): 2.036\n",
      "[425] Improvement: 1.2269974648952484\tTime (s): 1.942\n",
      "[426] Improvement: 1.244345799088478\tTime (s): 1.951\n",
      "[427] Improvement: 1.2621274590492249\tTime (s): 2.055\n",
      "[428] Improvement: 1.2803541868925095\tTime (s): 2.148\n",
      "[429] Improvement: 1.299040675163269\tTime (s): 2.11\n",
      "[430] Improvement: 1.3182012736797333\tTime (s): 2.043\n",
      "[431] Improvement: 1.3378523290157318\tTime (s): 2.314\n",
      "[432] Improvement: 1.3580065667629242\tTime (s): 2.044\n",
      "[433] Improvement: 1.3786841332912445\tTime (s): 2.196\n",
      "[434] Improvement: 1.3999003767967224\tTime (s): 1.876\n",
      "[435] Improvement: 1.4216755777597427\tTime (s): 2.057\n",
      "[436] Improvement: 1.4440297782421112\tTime (s): 2.055\n",
      "[437] Improvement: 1.4669842272996902\tTime (s): 2.014\n",
      "[438] Improvement: 1.4905621409416199\tTime (s): 1.965\n",
      "[439] Improvement: 1.5147887915372849\tTime (s): 1.982\n",
      "[440] Improvement: 1.5396905839443207\tTime (s): 2.006\n",
      "[441] Improvement: 1.565295472741127\tTime (s): 1.947\n",
      "[442] Improvement: 1.5916350930929184\tTime (s): 2.021\n",
      "[443] Improvement: 1.6187433451414108\tTime (s): 1.961\n",
      "[444] Improvement: 1.6466562896966934\tTime (s): 2.034\n",
      "[445] Improvement: 1.675411969423294\tTime (s): 2.13\n",
      "[446] Improvement: 1.7050531506538391\tTime (s): 1.857\n",
      "[447] Improvement: 1.7356271296739578\tTime (s): 2.173\n",
      "[448] Improvement: 1.7671795934438705\tTime (s): 2.055\n",
      "[449] Improvement: 1.799767628312111\tTime (s): 2.053\n",
      "[450] Improvement: 1.8334466367959976\tTime (s): 1.901\n",
      "[451] Improvement: 1.8682805448770523\tTime (s): 1.992\n",
      "[452] Improvement: 1.9043356776237488\tTime (s): 1.878\n",
      "[453] Improvement: 1.9416864663362503\tTime (s): 2.055\n",
      "[454] Improvement: 1.9804096072912216\tTime (s): 2.078\n",
      "[455] Improvement: 2.0205921977758408\tTime (s): 1.897\n",
      "[456] Improvement: 2.0623253881931305\tTime (s): 2.476\n",
      "[457] Improvement: 2.1057088375091553\tTime (s): 2.341\n",
      "[458] Improvement: 2.150849625468254\tTime (s): 2.126\n",
      "[459] Improvement: 2.197865307331085\tTime (s): 2.31\n",
      "[460] Improvement: 2.2468798756599426\tTime (s): 2.386\n",
      "[461] Improvement: 2.2980290800333023\tTime (s): 2.135\n",
      "[462] Improvement: 2.3514617681503296\tTime (s): 2.3\n"
     ]
    },
    {
     "name": "stdout",
     "output_type": "stream",
     "text": [
      "[463] Improvement: 2.407333627343178\tTime (s): 2.082\n",
      "[464] Improvement: 2.46581894159317\tTime (s): 2.012\n",
      "[465] Improvement: 2.5271037369966507\tTime (s): 2.544\n",
      "[466] Improvement: 2.5913877487182617\tTime (s): 2.254\n",
      "[467] Improvement: 2.658891499042511\tTime (s): 2.279\n",
      "[468] Improvement: 2.7298512905836105\tTime (s): 1.961\n",
      "[469] Improvement: 2.804524302482605\tTime (s): 1.987\n",
      "[470] Improvement: 2.8831889778375626\tTime (s): 2.387\n",
      "[471] Improvement: 2.966150715947151\tTime (s): 1.984\n",
      "[472] Improvement: 3.053736090660095\tTime (s): 1.947\n",
      "[473] Improvement: 3.146306410431862\tTime (s): 2.083\n",
      "[474] Improvement: 3.244249552488327\tTime (s): 2.066\n",
      "[475] Improvement: 3.3479903787374496\tTime (s): 2.071\n",
      "[476] Improvement: 3.457990139722824\tTime (s): 2.051\n",
      "[477] Improvement: 3.5747537314891815\tTime (s): 2.36\n",
      "[478] Improvement: 3.6988263577222824\tTime (s): 2.076\n",
      "[479] Improvement: 3.83080692589283\tTime (s): 2.04\n",
      "[480] Improvement: 3.9713441282510757\tTime (s): 2.087\n",
      "[481] Improvement: 4.121147394180298\tTime (s): 2.093\n",
      "[482] Improvement: 4.280984744429588\tTime (s): 2.096\n",
      "[483] Improvement: 4.451700195670128\tTime (s): 2.241\n",
      "[484] Improvement: 4.634203940629959\tTime (s): 2.268\n",
      "[485] Improvement: 4.829491406679153\tTime (s): 2.122\n",
      "[486] Improvement: 5.038644686341286\tTime (s): 2.253\n",
      "[487] Improvement: 5.262837529182434\tTime (s): 2.204\n",
      "[488] Improvement: 5.503348469734192\tTime (s): 2.24\n",
      "[489] Improvement: 5.7615653574466705\tTime (s): 2.261\n",
      "[490] Improvement: 6.038995623588562\tTime (s): 2.147\n",
      "[491] Improvement: 6.337277382612228\tTime (s): 2.205\n",
      "[492] Improvement: 6.658189967274666\tTime (s): 2.106\n",
      "[493] Improvement: 7.003666117787361\tTime (s): 2.106\n",
      "[494] Improvement: 7.375805824995041\tTime (s): 2.095\n",
      "[495] Improvement: 7.776893079280853\tTime (s): 2.095\n",
      "[496] Improvement: 8.209408164024353\tTime (s): 1.917\n",
      "[497] Improvement: 8.676043838262558\tTime (s): 2.002\n",
      "[498] Improvement: 9.179724797606468\tTime (s): 2.423\n",
      "[499] Improvement: 9.723622933030128\tTime (s): 1.96\n",
      "[500] Improvement: 10.311176031827927\tTime (s): 2.019\n",
      "[501] Improvement: 10.94611294567585\tTime (s): 2.067\n",
      "[502] Improvement: 11.632481127977371\tTime (s): 2.135\n",
      "[503] Improvement: 12.374699085950851\tTime (s): 2.067\n",
      "[504] Improvement: 13.177621066570282\tTime (s): 2.21\n",
      "[505] Improvement: 14.046650975942612\tTime (s): 2.31\n",
      "[506] Improvement: 14.987898513674736\tTime (s): 2.516\n",
      "[507] Improvement: 16.008413285017014\tTime (s): 2.095\n",
      "[508] Improvement: 17.116495221853256\tTime (s): 2.01\n",
      "[509] Improvement: 18.32207642495632\tTime (s): 2.147\n",
      "[510] Improvement: 19.637174278497696\tTime (s): 2.645\n",
      "[511] Improvement: 21.076302215456963\tTime (s): 2.022\n",
      "[512] Improvement: 22.656773805618286\tTime (s): 1.97\n",
      "[513] Improvement: 24.3987278342247\tTime (s): 1.985\n",
      "[514] Improvement: 26.324716955423355\tTime (s): 2.037\n",
      "[515] Improvement: 28.45871974527836\tTime (s): 2.04\n",
      "[516] Improvement: 30.824453473091125\tTime (s): 2.015\n",
      "[517] Improvement: 33.44322496652603\tTime (s): 1.888\n",
      "[518] Improvement: 36.3322419077158\tTime (s): 2.02\n",
      "[519] Improvement: 39.50498175621033\tTime (s): 2.153\n",
      "[520] Improvement: 42.974674329161644\tTime (s): 2.284\n",
      "[521] Improvement: 46.760252863168716\tTime (s): 2.067\n",
      "[522] Improvement: 50.893024921417236\tTime (s): 1.992\n",
      "[523] Improvement: 55.42313429713249\tTime (s): 2.097\n",
      "[524] Improvement: 60.42628616094589\tTime (s): 2.142\n",
      "[525] Improvement: 66.01197656989098\tTime (s): 2.466\n",
      "[526] Improvement: 72.3336863964796\tTime (s): 2.196\n",
      "[527] Improvement: 79.59947192668915\tTime (s): 2.042\n",
      "[528] Improvement: 88.07888023555279\tTime (s): 2.225\n",
      "[529] Improvement: 98.0989236831665\tTime (s): 2.045\n",
      "[530] Improvement: 110.02056442201138\tTime (s): 1.896\n",
      "[531] Improvement: 124.2068165242672\tTime (s): 1.94\n",
      "[532] Improvement: 141.03741951286793\tTime (s): 2.111\n",
      "[533] Improvement: 160.95823599398136\tTime (s): 2.091\n",
      "[534] Improvement: 184.25742284953594\tTime (s): 2.178\n",
      "[535] Improvement: 210.22002263367176\tTime (s): 2.185\n",
      "[536] Improvement: 236.29598857462406\tTime (s): 2.185\n",
      "[537] Improvement: 259.0564945489168\tTime (s): 2.134\n",
      "[538] Improvement: 276.25335666537285\tTime (s): 2.051\n",
      "[539] Improvement: 287.15785375237465\tTime (s): 2.156\n",
      "[540] Improvement: 291.3841164559126\tTime (s): 2.314\n",
      "[541] Improvement: 287.69729571044445\tTime (s): 2.308\n",
      "[542] Improvement: 275.34816263616085\tTime (s): 2.136\n",
      "[543] Improvement: 257.71055284142494\tTime (s): 2.139\n",
      "[544] Improvement: 238.55936315655708\tTime (s): 2.348\n",
      "[545] Improvement: 219.3668039292097\tTime (s): 2.393\n",
      "[546] Improvement: 200.59955215454102\tTime (s): 2.107\n",
      "[547] Improvement: 182.57631462812424\tTime (s): 2.109\n",
      "[548] Improvement: 165.55814239382744\tTime (s): 1.999\n",
      "[549] Improvement: 149.69166427850723\tTime (s): 2.116\n",
      "[550] Improvement: 135.04517632722855\tTime (s): 2.06\n",
      "[551] Improvement: 121.6503432393074\tTime (s): 2.062\n",
      "[552] Improvement: 109.49178321659565\tTime (s): 2.07\n",
      "[553] Improvement: 98.50272990763187\tTime (s): 1.958\n",
      "[554] Improvement: 88.5872563868761\tTime (s): 1.948\n",
      "[555] Improvement: 79.64726114273071\tTime (s): 2.143\n",
      "[556] Improvement: 71.59814991056919\tTime (s): 2.183\n",
      "[557] Improvement: 64.37025648355484\tTime (s): 2.029\n",
      "[558] Improvement: 57.902729868888855\tTime (s): 2.171\n",
      "[559] Improvement: 52.13744252920151\tTime (s): 2.026\n",
      "[560] Improvement: 47.01602052152157\tTime (s): 2.058\n",
      "[561] Improvement: 42.479593724012375\tTime (s): 2.039\n",
      "[562] Improvement: 38.469997465610504\tTime (s): 1.919\n",
      "[563] Improvement: 34.931321784853935\tTime (s): 1.983\n",
      "[564] Improvement: 31.81114612519741\tTime (s): 1.981\n",
      "[565] Improvement: 29.061277106404305\tTime (s): 1.967\n",
      "[566] Improvement: 26.638004660606384\tTime (s): 2.034\n",
      "[567] Improvement: 24.50204908847809\tTime (s): 1.982\n",
      "[568] Improvement: 22.61831672489643\tTime (s): 1.985\n",
      "[569] Improvement: 20.95560097694397\tTime (s): 2.153\n",
      "[570] Improvement: 19.486250802874565\tTime (s): 1.998\n",
      "[571] Improvement: 18.185848206281662\tTime (s): 2.169\n",
      "[572] Improvement: 17.03290605545044\tTime (s): 2.318\n",
      "[573] Improvement: 16.008573353290558\tTime (s): 2.032\n",
      "[574] Improvement: 15.096362173557281\tTime (s): 2.178\n",
      "[575] Improvement: 14.281898841261864\tTime (s): 1.971\n",
      "[576] Improvement: 13.552680552005768\tTime (s): 2.104\n",
      "[577] Improvement: 12.897861391305923\tTime (s): 1.986\n",
      "[578] Improvement: 12.308049902319908\tTime (s): 2.399\n",
      "[579] Improvement: 11.775131687521935\tTime (s): 2.051\n",
      "[580] Improvement: 11.29210376739502\tTime (s): 1.973\n",
      "[581] Improvement: 10.852928057312965\tTime (s): 2.116\n",
      "[582] Improvement: 10.452408567070961\tTime (s): 1.885\n",
      "[583] Improvement: 10.086076766252518\tTime (s): 2.021\n",
      "[584] Improvement: 9.750093430280685\tTime (s): 2.014\n",
      "[585] Improvement: 9.441164165735245\tTime (s): 1.977\n",
      "[586] Improvement: 9.156461954116821\tTime (s): 2.054\n",
      "[587] Improvement: 8.893561959266663\tTime (s): 1.956\n",
      "[588] Improvement: 8.650377735495567\tTime (s): 2.234\n",
      "[589] Improvement: 8.425105556845665\tTime (s): 1.964\n",
      "[590] Improvement: 8.216182500123978\tTime (s): 2.027\n",
      "[591] Improvement: 8.022234618663788\tTime (s): 2.07\n",
      "[592] Improvement: 7.842045649886131\tTime (s): 2.121\n",
      "[593] Improvement: 7.674526736140251\tTime (s): 2.109\n",
      "[594] Improvement: 7.5186857879161835\tTime (s): 2.04\n",
      "[595] Improvement: 7.373616248369217\tTime (s): 1.91\n",
      "[596] Improvement: 7.238473266363144\tTime (s): 2.059\n",
      "[597] Improvement: 7.11247181892395\tTime (s): 2.098\n",
      "[598] Improvement: 6.99487692117691\tTime (s): 2.127\n",
      "[599] Improvement: 6.884994059801102\tTime (s): 1.987\n",
      "[600] Improvement: 6.78217838704586\tTime (s): 1.867\n",
      "[601] Improvement: 6.685820817947388\tTime (s): 1.931\n",
      "[602] Improvement: 6.595358148217201\tTime (s): 1.956\n",
      "[603] Improvement: 6.510262221097946\tTime (s): 2.094\n",
      "[604] Improvement: 6.4300456047058105\tTime (s): 2.643\n",
      "[605] Improvement: 6.354257240891457\tTime (s): 1.987\n",
      "[606] Improvement: 6.282479077577591\tTime (s): 2.206\n",
      "[607] Improvement: 6.2143252938985825\tTime (s): 2.064\n",
      "[608] Improvement: 6.149439692497253\tTime (s): 1.991\n",
      "[609] Improvement: 6.087492570281029\tTime (s): 1.946\n",
      "[610] Improvement: 6.028179287910461\tTime (s): 1.934\n",
      "[611] Improvement: 5.971217975020409\tTime (s): 1.968\n",
      "[612] Improvement: 5.91635037958622\tTime (s): 2.187\n",
      "[613] Improvement: 5.863340064883232\tTime (s): 2.196\n",
      "[614] Improvement: 5.8119692504405975\tTime (s): 2.247\n",
      "[615] Improvement: 5.762046188116074\tTime (s): 2.119\n",
      "[616] Improvement: 5.7134008556604385\tTime (s): 2.24\n"
     ]
    },
    {
     "name": "stdout",
     "output_type": "stream",
     "text": [
      "[617] Improvement: 5.665886670351028\tTime (s): 2.147\n",
      "[618] Improvement: 5.619381815195084\tTime (s): 2.274\n",
      "[619] Improvement: 5.573790267109871\tTime (s): 2.079\n",
      "[620] Improvement: 5.529041960835457\tTime (s): 2.07\n",
      "[621] Improvement: 5.485089689493179\tTime (s): 2.058\n",
      "[622] Improvement: 5.44191275537014\tTime (s): 2.087\n",
      "[623] Improvement: 5.399513140320778\tTime (s): 2.034\n",
      "[624] Improvement: 5.35791140794754\tTime (s): 2.229\n",
      "[625] Improvement: 5.317148655653\tTime (s): 1.975\n",
      "[626] Improvement: 5.277283847332001\tTime (s): 2.102\n",
      "[627] Improvement: 5.238384664058685\tTime (s): 2.107\n",
      "[628] Improvement: 5.2005340456962585\tTime (s): 1.984\n",
      "[629] Improvement: 5.163822203874588\tTime (s): 2.063\n",
      "[630] Improvement: 5.128344848752022\tTime (s): 2.007\n",
      "[631] Improvement: 5.094201892614365\tTime (s): 1.91\n",
      "[632] Improvement: 5.06149660050869\tTime (s): 1.957\n",
      "[633] Improvement: 5.030330389738083\tTime (s): 2.013\n",
      "[634] Improvement: 5.000803366303444\tTime (s): 2.396\n",
      "[635] Improvement: 4.973017111420631\tTime (s): 1.937\n",
      "[636] Improvement: 4.9470671862363815\tTime (s): 2.626\n",
      "[637] Improvement: 4.923044115304947\tTime (s): 1.991\n",
      "[638] Improvement: 4.901039436459541\tTime (s): 2.028\n",
      "[639] Improvement: 4.881136506795883\tTime (s): 2.228\n",
      "[640] Improvement: 4.863419353961945\tTime (s): 2.2\n",
      "[641] Improvement: 4.847965866327286\tTime (s): 2.471\n",
      "[642] Improvement: 4.834855109453201\tTime (s): 2.058\n",
      "[643] Improvement: 4.82416307926178\tTime (s): 1.884\n",
      "[644] Improvement: 4.815970450639725\tTime (s): 2.584\n",
      "[645] Improvement: 4.810356259346008\tTime (s): 2.119\n",
      "[646] Improvement: 4.807407766580582\tTime (s): 1.929\n",
      "[647] Improvement: 4.807215079665184\tTime (s): 2.009\n",
      "[648] Improvement: 4.8098791390657425\tTime (s): 2.029\n",
      "[649] Improvement: 4.8155094385147095\tTime (s): 1.918\n",
      "[650] Improvement: 4.824228465557098\tTime (s): 1.85\n",
      "[651] Improvement: 4.836173668503761\tTime (s): 1.878\n",
      "[652] Improvement: 4.851496085524559\tTime (s): 2.092\n",
      "[653] Improvement: 4.870368376374245\tTime (s): 1.886\n",
      "[654] Improvement: 4.892981752753258\tTime (s): 1.863\n",
      "[655] Improvement: 4.919547975063324\tTime (s): 2.387\n",
      "[656] Improvement: 4.950305461883545\tTime (s): 1.901\n",
      "[657] Improvement: 4.98551407456398\tTime (s): 1.869\n",
      "[658] Improvement: 5.025462940335274\tTime (s): 1.852\n",
      "[659] Improvement: 5.070466980338097\tTime (s): 1.925\n",
      "[660] Improvement: 5.120868757367134\tTime (s): 2.037\n",
      "[661] Improvement: 5.17704065144062\tTime (s): 2.658\n",
      "[662] Improvement: 5.239384025335312\tTime (s): 2.058\n",
      "[663] Improvement: 5.308327853679657\tTime (s): 2.001\n",
      "[664] Improvement: 5.384329542517662\tTime (s): 1.957\n",
      "[665] Improvement: 5.467875152826309\tTime (s): 2.143\n",
      "[666] Improvement: 5.559476584196091\tTime (s): 1.923\n",
      "[667] Improvement: 5.659670144319534\tTime (s): 2.105\n",
      "[668] Improvement: 5.76901750266552\tTime (s): 1.922\n",
      "[669] Improvement: 5.888102933764458\tTime (s): 1.958\n",
      "[670] Improvement: 6.0175342708826065\tTime (s): 2.09\n",
      "[671] Improvement: 6.157937839627266\tTime (s): 2.075\n",
      "[672] Improvement: 6.3099659234285355\tTime (s): 2.33\n",
      "[673] Improvement: 6.474295794963837\tTime (s): 2.013\n",
      "[674] Improvement: 6.651630058884621\tTime (s): 2.004\n",
      "[675] Improvement: 6.842704951763153\tTime (s): 2.169\n",
      "[676] Improvement: 7.048298329114914\tTime (s): 2.085\n",
      "[677] Improvement: 7.269230291247368\tTime (s): 2.162\n",
      "[678] Improvement: 7.506380185484886\tTime (s): 2.305\n",
      "[679] Improvement: 7.760686933994293\tTime (s): 2.069\n",
      "[680] Improvement: 8.033162906765938\tTime (s): 2.162\n",
      "[681] Improvement: 8.324894413352013\tTime (s): 2.018\n",
      "[682] Improvement: 8.637054041028023\tTime (s): 2.016\n",
      "[683] Improvement: 8.970892697572708\tTime (s): 2.168\n",
      "[684] Improvement: 9.327750891447067\tTime (s): 2.142\n",
      "[685] Improvement: 9.709052309393883\tTime (s): 2.055\n",
      "[686] Improvement: 10.116308063268661\tTime (s): 2.031\n",
      "[687] Improvement: 10.551106691360474\tTime (s): 2.388\n",
      "[688] Improvement: 11.015122771263123\tTime (s): 2.148\n",
      "[689] Improvement: 11.510106921195984\tTime (s): 2.018\n",
      "[690] Improvement: 12.037895455956459\tTime (s): 2.075\n",
      "[691] Improvement: 12.60042105615139\tTime (s): 2.097\n",
      "[692] Improvement: 13.199750453233719\tTime (s): 2.139\n",
      "[693] Improvement: 13.838130161166191\tTime (s): 2.184\n",
      "[694] Improvement: 14.518047660589218\tTime (s): 2.295\n",
      "[695] Improvement: 15.24228610098362\tTime (s): 2.087\n",
      "[696] Improvement: 16.013932928442955\tTime (s): 1.986\n",
      "[697] Improvement: 16.836337462067604\tTime (s): 2.003\n",
      "[698] Improvement: 17.712987259030342\tTime (s): 1.999\n",
      "[699] Improvement: 18.647330671548843\tTime (s): 2.181\n",
      "[700] Improvement: 19.64256753027439\tTime (s): 2.01\n",
      "[701] Improvement: 20.701463252305984\tTime (s): 1.934\n",
      "[702] Improvement: 21.826228603720665\tTime (s): 1.896\n",
      "[703] Improvement: 23.018523320555687\tTime (s): 1.975\n",
      "[704] Improvement: 24.27959854900837\tTime (s): 1.928\n",
      "[705] Improvement: 25.610600516200066\tTime (s): 2.029\n",
      "[706] Improvement: 27.013017550110817\tTime (s): 1.894\n",
      "[707] Improvement: 28.489162027835846\tTime (s): 2.06\n",
      "[708] Improvement: 30.042580783367157\tTime (s): 1.899\n",
      "[709] Improvement: 31.67823128402233\tTime (s): 2.035\n",
      "[710] Improvement: 33.402373701334\tTime (s): 1.962\n",
      "[711] Improvement: 35.22209520637989\tTime (s): 1.857\n",
      "[712] Improvement: 37.14432215690613\tTime (s): 2.063\n",
      "[713] Improvement: 39.174465492367744\tTime (s): 1.958\n",
      "[714] Improvement: 41.315486297011375\tTime (s): 2.115\n",
      "[715] Improvement: 43.568758264184\tTime (s): 2.031\n",
      "[716] Improvement: 45.93725323677063\tTime (s): 2.159\n",
      "[717] Improvement: 48.42998021841049\tTime (s): 2.157\n",
      "[718] Improvement: 51.06581491231918\tTime (s): 1.983\n",
      "[719] Improvement: 53.87548543512821\tTime (s): 2.096\n",
      "[720] Improvement: 56.900905922055244\tTime (s): 1.899\n",
      "[721] Improvement: 60.19203731417656\tTime (s): 2.072\n",
      "[722] Improvement: 63.803898736834526\tTime (s): 1.96\n",
      "[723] Improvement: 67.7976195961237\tTime (s): 1.955\n",
      "[724] Improvement: 72.24703723192215\tTime (s): 1.969\n",
      "[725] Improvement: 77.24939522147179\tTime (s): 2.278\n",
      "[726] Improvement: 82.93661238253117\tTime (s): 1.996\n",
      "[727] Improvement: 89.48206962645054\tTime (s): 1.946\n",
      "[728] Improvement: 97.09946152567863\tTime (s): 2.116\n",
      "[729] Improvement: 106.03047938644886\tTime (s): 1.983\n",
      "[730] Improvement: 116.51494708657265\tTime (s): 2.282\n",
      "[731] Improvement: 128.7542289942503\tTime (s): 2.095\n",
      "[732] Improvement: 142.91985182464123\tTime (s): 2.113\n",
      "[733] Improvement: 159.23316249251366\tTime (s): 1.935\n",
      "[734] Improvement: 178.0272146165371\tTime (s): 2.208\n",
      "[735] Improvement: 199.68532538414001\tTime (s): 1.934\n",
      "[736] Improvement: 224.5142396837473\tTime (s): 2.09\n",
      "[737] Improvement: 252.70288705825806\tTime (s): 2.187\n",
      "[738] Improvement: 284.5105255693197\tTime (s): 1.982\n",
      "[739] Improvement: 320.80256147682667\tTime (s): 2.088\n",
      "[740] Improvement: 363.2553773075342\tTime (s): 2.267\n",
      "[741] Improvement: 414.00921708345413\tTime (s): 2.205\n",
      "[742] Improvement: 475.98997259140015\tTime (s): 2.055\n",
      "[743] Improvement: 551.567822650075\tTime (s): 2.102\n",
      "[744] Improvement: 639.7400666028261\tTime (s): 2.238\n",
      "[745] Improvement: 736.0761902481318\tTime (s): 1.934\n",
      "[746] Improvement: 830.8833132386208\tTime (s): 2.004\n",
      "[747] Improvement: 915.8172740489244\tTime (s): 1.91\n",
      "[748] Improvement: 981.9386176168919\tTime (s): 1.931\n",
      "[749] Improvement: 1010.0611114650965\tTime (s): 2.09\n",
      "[750] Improvement: 1000.1305549442768\tTime (s): 1.959\n",
      "[751] Improvement: 974.7781477570534\tTime (s): 1.915\n",
      "[752] Improvement: 951.6165558099747\tTime (s): 1.956\n",
      "[753] Improvement: 929.5469656139612\tTime (s): 2.152\n",
      "[754] Improvement: 897.9091994166374\tTime (s): 2.291\n",
      "[755] Improvement: 849.8765823841095\tTime (s): 2.104\n",
      "[756] Improvement: 789.4033805578947\tTime (s): 2.022\n",
      "[757] Improvement: 724.5294850468636\tTime (s): 1.992\n",
      "[758] Improvement: 660.9709853976965\tTime (s): 1.979\n",
      "[759] Improvement: 597.734459772706\tTime (s): 2.287\n",
      "[760] Improvement: 534.0745434015989\tTime (s): 2.261\n",
      "[761] Improvement: 474.1582099497318\tTime (s): 2.336\n",
      "[762] Improvement: 421.58973574638367\tTime (s): 2.268\n",
      "[763] Improvement: 375.3766656368971\tTime (s): 2.183\n",
      "[764] Improvement: 332.80029264092445\tTime (s): 2.156\n",
      "[765] Improvement: 293.40805105865\tTime (s): 2.24\n",
      "[766] Improvement: 257.1866984665394\tTime (s): 2.261\n",
      "[767] Improvement: 222.92636331915855\tTime (s): 2.307\n",
      "[768] Improvement: 190.44938150048256\tTime (s): 2.171\n",
      "[769] Improvement: 160.45873859524727\tTime (s): 2.263\n",
      "[770] Improvement: 133.4773895740509\tTime (s): 2.247\n",
      "[771] Improvement: 109.82138361036777\tTime (s): 2.341\n"
     ]
    },
    {
     "name": "stdout",
     "output_type": "stream",
     "text": [
      "[772] Improvement: 89.67437157034874\tTime (s): 1.925\n",
      "[773] Improvement: 72.94396761059761\tTime (s): 2.171\n",
      "[774] Improvement: 59.26004804670811\tTime (s): 1.994\n",
      "[775] Improvement: 48.14210344851017\tTime (s): 2.185\n",
      "[776] Improvement: 39.14132699370384\tTime (s): 1.979\n",
      "[777] Improvement: 31.88197973370552\tTime (s): 2.16\n",
      "[778] Improvement: 26.04896242916584\tTime (s): 1.978\n",
      "[779] Improvement: 21.37303240597248\tTime (s): 2.063\n",
      "[780] Improvement: 17.625661700963974\tTime (s): 2.004\n",
      "[781] Improvement: 14.617224916815758\tTime (s): 1.837\n",
      "[782] Improvement: 12.193961188197136\tTime (s): 1.867\n",
      "[783] Improvement: 10.233311846852303\tTime (s): 2.181\n",
      "[784] Improvement: 8.638650625944138\tTime (s): 2.0\n",
      "[785] Improvement: 7.334250673651695\tTime (s): 2.108\n",
      "[786] Improvement: 6.26090295612812\tTime (s): 2.128\n",
      "[787] Improvement: 5.372316658496857\tTime (s): 1.961\n",
      "[788] Improvement: 4.632232293486595\tTime (s): 1.887\n",
      "[789] Improvement: 4.012163937091827\tTime (s): 2.113\n",
      "[790] Improvement: 3.489649996161461\tTime (s): 2.054\n",
      "[791] Improvement: 3.0468951165676117\tTime (s): 2.169\n",
      "[792] Improvement: 2.669740676879883\tTime (s): 2.072\n",
      "[793] Improvement: 2.346853733062744\tTime (s): 2.085\n",
      "[794] Improvement: 2.0691241323947906\tTime (s): 2.153\n",
      "[795] Improvement: 1.8291811347007751\tTime (s): 2.421\n",
      "[796] Improvement: 1.621029794216156\tTime (s): 2.401\n",
      "[797] Improvement: 1.4397712647914886\tTime (s): 2.616\n",
      "[798] Improvement: 1.281371846795082\tTime (s): 2.423\n",
      "[799] Improvement: 1.1425006836652756\tTime (s): 2.416\n",
      "[800] Improvement: 1.0203850120306015\tTime (s): 2.35\n",
      "[801] Improvement: 0.9127087146043777\tTime (s): 2.313\n",
      "[802] Improvement: 0.8175261318683624\tTime (s): 2.352\n",
      "[803] Improvement: 0.7331949025392532\tTime (s): 2.377\n",
      "[804] Improvement: 0.6583206504583359\tTime (s): 2.399\n",
      "[805] Improvement: 0.59171362221241\tTime (s): 2.171\n",
      "[806] Improvement: 0.5323587954044342\tTime (s): 2.114\n",
      "[807] Improvement: 0.47938139736652374\tTime (s): 2.111\n",
      "[808] Improvement: 0.43202686309814453\tTime (s): 2.106\n",
      "[809] Improvement: 0.3896411806344986\tTime (s): 2.184\n",
      "[810] Improvement: 0.35165809094905853\tTime (s): 2.088\n",
      "[811] Improvement: 0.3175784796476364\tTime (s): 2.219\n",
      "[812] Improvement: 0.286973312497139\tTime (s): 2.064\n",
      "[813] Improvement: 0.25946080684661865\tTime (s): 2.21\n",
      "[814] Improvement: 0.23470638692378998\tTime (s): 2.091\n",
      "[815] Improvement: 0.2124169021844864\tTime (s): 2.007\n",
      "[816] Improvement: 0.192329540848732\tTime (s): 1.967\n",
      "[817] Improvement: 0.17421802878379822\tTime (s): 2.101\n",
      "[818] Improvement: 0.1578737199306488\tTime (s): 2.011\n",
      "[819] Improvement: 0.14311784505844116\tTime (s): 1.981\n",
      "[820] Improvement: 0.12978754937648773\tTime (s): 2.112\n",
      "[821] Improvement: 0.1177392303943634\tTime (s): 1.89\n",
      "[822] Improvement: 0.10684388875961304\tTime (s): 2.182\n",
      "[823] Improvement: 0.09698772430419922\tTime (s): 2.2\n",
      "Total Improvement: 5566168.26443927\n",
      "Total Time (s): 1792.5700\n"
     ]
    }
   ],
   "source": [
    "silence_model = pg.GeneralMixtureModel.from_samples(\n",
    "    pg.MultivariateGaussianDistribution, n_components=16, X=untrialed_features_stack,\n",
    "    max_iterations=4000, verbose=True, n_jobs=20\n",
    ")"
   ]
  },
  {
   "cell_type": "code",
   "execution_count": 23,
   "metadata": {
    "scrolled": true
   },
   "outputs": [],
   "source": [
    "silence_model.freeze()"
   ]
  },
  {
   "cell_type": "code",
   "execution_count": 109,
   "metadata": {},
   "outputs": [],
   "source": [
    "# write_model(root + '/models/bg_model', bg_model)\n",
    "# write_model(root + '/models/silence_model', silence_model)"
   ]
  },
  {
   "cell_type": "code",
   "execution_count": 21,
   "metadata": {},
   "outputs": [],
   "source": [
    "bg_model = read_gmm(root + '/models/bg_model')\n",
    "silence_model = read_gmm(root + '/models/silence_model')"
   ]
  },
  {
   "cell_type": "markdown",
   "metadata": {},
   "source": [
    "## Clean sentences, build sentence hmms"
   ]
  },
  {
   "cell_type": "code",
   "execution_count": 24,
   "metadata": {},
   "outputs": [],
   "source": [
    "def wrap_with_silence(phones):\n",
    "    return ['_'] + phones + ['_']\n",
    "\n",
    "def remove_stress_combinations(phones):\n",
    "    def remove_single_phone(phone):\n",
    "        if phone[-1].isdigit():\n",
    "            return phone[:-1]\n",
    "        else:\n",
    "            return phone\n",
    "        \n",
    "    return [remove_single_phone(phone) for phone in phones]\n",
    "\n",
    "# example_phones = example.phones.loc[0].split(' ')\n",
    "# example_phones_cleaned = wrap_with_silence(remove_stress_combinations(example_phones))\n",
    "# example_phones_unique = np.unique(example_phones_cleaned)\n",
    "\n",
    "# print(example_phones)\n",
    "# print(example_phones_cleaned)\n",
    "# print(example_phones_unique)"
   ]
  },
  {
   "cell_type": "code",
   "execution_count": 25,
   "metadata": {},
   "outputs": [],
   "source": [
    "UNIQUE_PHONES = [\n",
    "    'AA', 'AE', 'AH', 'AO', 'AW', 'AY', 'B', 'CH', 'D', 'DH', \n",
    "    'EH', 'ER', 'EY', 'F', 'G', 'HH', 'IH', 'IY', 'JH', 'K', \n",
    "    'L', 'M', 'N', 'NG', 'OW', 'OY', 'P', 'R', 'S', 'SH', 'T', \n",
    "    'TH', 'UH', 'UW', 'V', 'W', 'Y', 'Z', 'ZH'\n",
    "]"
   ]
  },
  {
   "cell_type": "code",
   "execution_count": 26,
   "metadata": {},
   "outputs": [],
   "source": [
    "def make_phone_triple(bg_model):\n",
    "    return tuple(bg_model.copy() for _ in range(3))\n",
    "\n",
    "phone_distribution_triples = {\n",
    "    phone: make_phone_triple(bg_model) for phone in UNIQUE_PHONES\n",
    "}"
   ]
  },
  {
   "cell_type": "code",
   "execution_count": 27,
   "metadata": {},
   "outputs": [],
   "source": [
    "def make_sentence_hmm(phones_cell, phone_triples, silence_model):\n",
    "    phones = phones_cell.split(' ')\n",
    "    cleaned_phones = wrap_with_silence(remove_stress_combinations(phones))\n",
    "    hmm = pg.HiddenMarkovModel('-'.join(cleaned_phones))\n",
    "    \n",
    "    states = []\n",
    "    for i, phone in enumerate(cleaned_phones):\n",
    "        if phone == '_':\n",
    "            phone_state = pg.State(silence_model.copy(), name='{}-SILENCE'.format(i))\n",
    "            states.append(phone_state)\n",
    "        else:\n",
    "            phone_triple = phone_triples[phone]\n",
    "            phone_states = (\n",
    "                pg.State(phone_triple[0], name='{:02}a-{}'.format(i, phone)),\n",
    "                pg.State(phone_triple[1], name='{:02}b-{}'.format(i, phone)),\n",
    "                pg.State(phone_triple[2], name='{:02}c-{}'.format(i, phone))\n",
    "            )\n",
    "            states.extend(phone_states)\n",
    "    hmm.add_states(states)\n",
    "    \n",
    "    hmm.add_transition(hmm.start, states[0], 1.0)\n",
    "    for state in states:\n",
    "        hmm.add_transition(state, state, 0.9)\n",
    "    for prev, then in zip(states, states[1:]):\n",
    "        hmm.add_transition(prev, then, 0.1)\n",
    "    hmm.add_transition(states[-1], hmm.end, 0.1)\n",
    "    hmm.bake()\n",
    "    \n",
    "    return hmm\n",
    "\n",
    "# make_sentence_hmm(\n",
    "#     script[script.sentence_id == 31].phones.iloc[0], \n",
    "#     phone_distribution_triples, silence_model\n",
    "# );"
   ]
  },
  {
   "cell_type": "code",
   "execution_count": 28,
   "metadata": {},
   "outputs": [
    {
     "data": {
      "text/plain": [
       "('f', '0002', '20150216173043137', '31')"
      ]
     },
     "execution_count": 28,
     "metadata": {},
     "output_type": "execute_result"
    }
   ],
   "source": [
    "recording_regex = re.compile(r'([mf])(\\d+)/(\\d+)_[mf]\\d+_(\\d+)')\n",
    "def parse_recording(value):\n",
    "    match = recording_regex.match(value)\n",
    "    if match:\n",
    "        return match.groups()\n",
    "    \n",
    "parse_recording('f0002/20150216173043137_f0002_31.pcm')"
   ]
  },
  {
   "cell_type": "code",
   "execution_count": 29,
   "metadata": {},
   "outputs": [
    {
     "name": "stdout",
     "output_type": "stream",
     "text": [
      "811 769\n"
     ]
    }
   ],
   "source": [
    "unique_sentence_ids = np.sort(np.unique([int(parse_recording(path)[3]) for path in untrialed_paths]))\n",
    "unique_sentence_ids_scripted = [sentence_id for sentence_id in unique_sentence_ids\n",
    "                                if (script.sentence_id == sentence_id).any()\n",
    "                                if isinstance(script[script.sentence_id == sentence_id].phones.iloc[0], str)]\n",
    "print(len(unique_sentence_ids), len(unique_sentence_ids_scripted))"
   ]
  },
  {
   "cell_type": "code",
   "execution_count": 30,
   "metadata": {},
   "outputs": [],
   "source": [
    "sentence_hmms = {\n",
    "    sentence_id: make_sentence_hmm(\n",
    "        script[script.sentence_id == sentence_id].phones.iloc[0], phone_distribution_triples, silence_model\n",
    "    ) for sentence_id in unique_sentence_ids_scripted\n",
    "}"
   ]
  },
  {
   "cell_type": "code",
   "execution_count": 31,
   "metadata": {},
   "outputs": [
    {
     "name": "stdout",
     "output_type": "stream",
     "text": [
      "769\n"
     ]
    }
   ],
   "source": [
    "print(len(sentence_hmms))"
   ]
  },
  {
   "cell_type": "code",
   "execution_count": 32,
   "metadata": {},
   "outputs": [],
   "source": [
    "sentence_sequencess = {\n",
    "    sentence_id: [all_mfcc[path] for path in untrialed_paths \n",
    "                                 if int(parse_recording(path)[3]) == sentence_id\n",
    "                                 if all_mfcc[path].shape[0] >= len(script[script.sentence_id == sentence_id].phones.iloc[0].split(' ') * 3)]\n",
    "    for sentence_id in unique_sentence_ids_scripted\n",
    "}"
   ]
  },
  {
   "cell_type": "markdown",
   "metadata": {},
   "source": [
    "## Train HMMs"
   ]
  },
  {
   "cell_type": "code",
   "execution_count": 33,
   "metadata": {},
   "outputs": [],
   "source": [
    "def update_triples(phone_triples):\n",
    "    empty = 0\n",
    "    lost = 0\n",
    "    for phone_triple in phone_triples.values():\n",
    "        for gmm in phone_triple:\n",
    "            if gmm.summaries.sum() == 0:\n",
    "                empty += 1\n",
    "                continue\n",
    "            try:\n",
    "                gmm.from_summaries()\n",
    "            except Exception:\n",
    "                gmm.clear_summaries()\n",
    "                lost += 1\n",
    "    return empty, lost\n",
    "\n",
    "def train_epoch(sentence_sequencess, unique_sentence_ids, sentence_hmms, phone_triples):\n",
    "    logps = []\n",
    "    \n",
    "    for sentence_id in unique_sentence_ids:\n",
    "        print(sentence_id, end=' ')\n",
    "        \n",
    "        sentence_hmm = sentence_hmms[sentence_id]\n",
    "        sentence_sequences = sentence_sequencess[sentence_id]\n",
    "        weights = np.ones(len(sentence_sequences))\n",
    "        \n",
    "        logp = sentence_hmm.summarize(sequences=sentence_sequences, weights=weights, check_input=False)\n",
    "                                      # algorithm='viterbi', \n",
    "        logps.append(logp)\n",
    "    \n",
    "    update_triples(phone_triples)\n",
    "            \n",
    "    return logps"
   ]
  },
  {
   "cell_type": "code",
   "execution_count": 34,
   "metadata": {},
   "outputs": [
    {
     "ename": "FileNotFoundError",
     "evalue": "[Errno 2] No such file or directory: '../input/reddots_r2015q4_v1/models/triples-init/AW-a'",
     "output_type": "error",
     "traceback": [
      "\u001b[0;31m---------------------------------------------------------------------------\u001b[0m",
      "\u001b[0;31mFileNotFoundError\u001b[0m                         Traceback (most recent call last)",
      "\u001b[0;32m<ipython-input-34-e6ca217e1dd5>\u001b[0m in \u001b[0;36m<module>\u001b[0;34m()\u001b[0m\n\u001b[0;32m----> 1\u001b[0;31m \u001b[0mwrite_triples\u001b[0m\u001b[0;34m(\u001b[0m\u001b[0mroot\u001b[0m \u001b[0;34m+\u001b[0m \u001b[0;34m'/models/triples-init'\u001b[0m\u001b[0;34m,\u001b[0m \u001b[0mphone_distribution_triples\u001b[0m\u001b[0;34m)\u001b[0m\u001b[0;34m\u001b[0m\u001b[0m\n\u001b[0m",
      "\u001b[0;32m<ipython-input-18-0a590023c4e2>\u001b[0m in \u001b[0;36mwrite_triples\u001b[0;34m(path, triples)\u001b[0m\n\u001b[1;32m     43\u001b[0m         \u001b[0;32mfor\u001b[0m \u001b[0mi\u001b[0m\u001b[0;34m,\u001b[0m \u001b[0mmodel\u001b[0m \u001b[0;32min\u001b[0m \u001b[0menumerate\u001b[0m\u001b[0;34m(\u001b[0m\u001b[0mtriple\u001b[0m\u001b[0;34m)\u001b[0m\u001b[0;34m:\u001b[0m\u001b[0;34m\u001b[0m\u001b[0m\n\u001b[1;32m     44\u001b[0m             \u001b[0mc\u001b[0m \u001b[0;34m=\u001b[0m \u001b[0mchr\u001b[0m\u001b[0;34m(\u001b[0m\u001b[0mord\u001b[0m\u001b[0;34m(\u001b[0m\u001b[0;34m'a'\u001b[0m\u001b[0;34m)\u001b[0m \u001b[0;34m+\u001b[0m \u001b[0mi\u001b[0m\u001b[0;34m)\u001b[0m\u001b[0;34m\u001b[0m\u001b[0m\n\u001b[0;32m---> 45\u001b[0;31m             \u001b[0mwrite_model\u001b[0m\u001b[0;34m(\u001b[0m\u001b[0mpath\u001b[0m \u001b[0;34m+\u001b[0m \u001b[0;34m'/{}-{}'\u001b[0m\u001b[0;34m.\u001b[0m\u001b[0mformat\u001b[0m\u001b[0;34m(\u001b[0m\u001b[0mphone\u001b[0m\u001b[0;34m,\u001b[0m \u001b[0mc\u001b[0m\u001b[0;34m)\u001b[0m\u001b[0;34m,\u001b[0m \u001b[0mmodel\u001b[0m\u001b[0;34m)\u001b[0m\u001b[0;34m\u001b[0m\u001b[0m\n\u001b[0m\u001b[1;32m     46\u001b[0m \u001b[0;34m\u001b[0m\u001b[0m\n\u001b[1;32m     47\u001b[0m \u001b[0;32mdef\u001b[0m \u001b[0mread_triples\u001b[0m\u001b[0;34m(\u001b[0m\u001b[0mpath\u001b[0m\u001b[0;34m,\u001b[0m \u001b[0mphones\u001b[0m\u001b[0;34m)\u001b[0m\u001b[0;34m:\u001b[0m\u001b[0;34m\u001b[0m\u001b[0m\n",
      "\u001b[0;32m<ipython-input-18-0a590023c4e2>\u001b[0m in \u001b[0;36mwrite_model\u001b[0;34m(path, model)\u001b[0m\n\u001b[1;32m     12\u001b[0m \u001b[0;34m\u001b[0m\u001b[0m\n\u001b[1;32m     13\u001b[0m \u001b[0;32mdef\u001b[0m \u001b[0mwrite_model\u001b[0m\u001b[0;34m(\u001b[0m\u001b[0mpath\u001b[0m\u001b[0;34m,\u001b[0m \u001b[0mmodel\u001b[0m\u001b[0;34m)\u001b[0m\u001b[0;34m:\u001b[0m\u001b[0;34m\u001b[0m\u001b[0m\n\u001b[0;32m---> 14\u001b[0;31m     \u001b[0;32mwith\u001b[0m \u001b[0mopen\u001b[0m\u001b[0;34m(\u001b[0m\u001b[0mpath\u001b[0m\u001b[0;34m,\u001b[0m \u001b[0;34m'w'\u001b[0m\u001b[0;34m)\u001b[0m \u001b[0;32mas\u001b[0m \u001b[0mopened\u001b[0m\u001b[0;34m:\u001b[0m\u001b[0;34m\u001b[0m\u001b[0m\n\u001b[0m\u001b[1;32m     15\u001b[0m         \u001b[0mopened\u001b[0m\u001b[0;34m.\u001b[0m\u001b[0mwrite\u001b[0m\u001b[0;34m(\u001b[0m\u001b[0mmodel\u001b[0m\u001b[0;34m.\u001b[0m\u001b[0mto_json\u001b[0m\u001b[0;34m(\u001b[0m\u001b[0;34m)\u001b[0m\u001b[0;34m)\u001b[0m\u001b[0;34m\u001b[0m\u001b[0m\n\u001b[1;32m     16\u001b[0m \u001b[0;34m\u001b[0m\u001b[0m\n",
      "\u001b[0;31mFileNotFoundError\u001b[0m: [Errno 2] No such file or directory: '../input/reddots_r2015q4_v1/models/triples-init/AW-a'"
     ]
    }
   ],
   "source": [
    "write_triples(root + '/models/triples-init', phone_distribution_triples)"
   ]
  },
  {
   "cell_type": "code",
   "execution_count": null,
   "metadata": {},
   "outputs": [],
   "source": [
    "enrollments_4_td.phones[~enrollments_4_td.phones.isna()].apply(lambda row: len(row.split(' '))).describe()"
   ]
  },
  {
   "cell_type": "code",
   "execution_count": null,
   "metadata": {
    "scrolled": true
   },
   "outputs": [],
   "source": [
    "for i in range(10):\n",
    "    for j in range(10):\n",
    "        logps = train_epoch(sentence_sequencess, unique_sentence_ids_scripted, \n",
    "                            sentence_hmms, phone_distribution_triples)\n",
    "        print('{}-{} logps'.format(i, j), sum(logps))\n",
    "    path = root + '/models/triples-{}'.format(i)\n",
    "    os.mkdir(path)\n",
    "    write_triples(path, phone_distribution_triples)"
   ]
  },
  {
   "cell_type": "code",
   "execution_count": 160,
   "metadata": {},
   "outputs": [
    {
     "data": {
      "text/plain": [
       "(0, 0)"
      ]
     },
     "execution_count": 160,
     "metadata": {},
     "output_type": "execute_result"
    }
   ],
   "source": [
    "update_triples(phone_distribution_triples)"
   ]
  },
  {
   "cell_type": "code",
   "execution_count": 243,
   "metadata": {
    "scrolled": true
   },
   "outputs": [],
   "source": [
    "write_triples(root + '/models/triples', phone_distribution_triples)"
   ]
  },
  {
   "cell_type": "code",
   "execution_count": 21,
   "metadata": {},
   "outputs": [
    {
     "ename": "OSError",
     "evalue": "Cannot read model AW-a",
     "output_type": "error",
     "traceback": [
      "\u001b[0;31m---------------------------------------------------------------------------\u001b[0m",
      "\u001b[0;31mLinAlgError\u001b[0m                               Traceback (most recent call last)",
      "\u001b[0;32m<ipython-input-11-0a590023c4e2>\u001b[0m in \u001b[0;36mread_gmm\u001b[0;34m(path)\u001b[0m\n\u001b[1;32m     31\u001b[0m             \u001b[0;32mtry\u001b[0m\u001b[0;34m:\u001b[0m\u001b[0;34m\u001b[0m\u001b[0m\n\u001b[0;32m---> 32\u001b[0;31m                 \u001b[0mdistribution\u001b[0m \u001b[0;34m=\u001b[0m \u001b[0mpg\u001b[0m\u001b[0;34m.\u001b[0m\u001b[0mMultivariateGaussianDistribution\u001b[0m\u001b[0;34m(\u001b[0m\u001b[0;34m*\u001b[0m\u001b[0mdistribution\u001b[0m\u001b[0;34m[\u001b[0m\u001b[0;34m'parameters'\u001b[0m\u001b[0;34m]\u001b[0m\u001b[0;34m)\u001b[0m\u001b[0;34m\u001b[0m\u001b[0m\n\u001b[0m\u001b[1;32m     33\u001b[0m                 \u001b[0mdistributions\u001b[0m\u001b[0;34m.\u001b[0m\u001b[0mappend\u001b[0m\u001b[0;34m(\u001b[0m\u001b[0mdistribution\u001b[0m\u001b[0;34m)\u001b[0m\u001b[0;34m\u001b[0m\u001b[0m\n",
      "\u001b[0;32mpomegranate/distributions.pyx\u001b[0m in \u001b[0;36mpomegranate.distributions.MultivariateGaussianDistribution.__cinit__\u001b[0;34m()\u001b[0m\n",
      "\u001b[0;32m/usr/local/lib/python3.5/dist-packages/scipy/linalg/decomp_cholesky.py\u001b[0m in \u001b[0;36mcholesky\u001b[0;34m(a, lower, overwrite_a, check_finite)\u001b[0m\n\u001b[1;32m     80\u001b[0m     c, lower = _cholesky(a, lower=lower, overwrite_a=overwrite_a, clean=True,\n\u001b[0;32m---> 81\u001b[0;31m                             check_finite=check_finite)\n\u001b[0m\u001b[1;32m     82\u001b[0m     \u001b[0;32mreturn\u001b[0m \u001b[0mc\u001b[0m\u001b[0;34m\u001b[0m\u001b[0m\n",
      "\u001b[0;32m/usr/local/lib/python3.5/dist-packages/scipy/linalg/decomp_cholesky.py\u001b[0m in \u001b[0;36m_cholesky\u001b[0;34m(a, lower, overwrite_a, clean, check_finite)\u001b[0m\n\u001b[1;32m     29\u001b[0m     \u001b[0;32mif\u001b[0m \u001b[0minfo\u001b[0m \u001b[0;34m>\u001b[0m \u001b[0;36m0\u001b[0m\u001b[0;34m:\u001b[0m\u001b[0;34m\u001b[0m\u001b[0m\n\u001b[0;32m---> 30\u001b[0;31m         \u001b[0;32mraise\u001b[0m \u001b[0mLinAlgError\u001b[0m\u001b[0;34m(\u001b[0m\u001b[0;34m\"%d-th leading minor not positive definite\"\u001b[0m \u001b[0;34m%\u001b[0m \u001b[0minfo\u001b[0m\u001b[0;34m)\u001b[0m\u001b[0;34m\u001b[0m\u001b[0m\n\u001b[0m\u001b[1;32m     31\u001b[0m     \u001b[0;32mif\u001b[0m \u001b[0minfo\u001b[0m \u001b[0;34m<\u001b[0m \u001b[0;36m0\u001b[0m\u001b[0;34m:\u001b[0m\u001b[0;34m\u001b[0m\u001b[0m\n",
      "\u001b[0;31mLinAlgError\u001b[0m: 22-th leading minor not positive definite",
      "\nThe above exception was the direct cause of the following exception:\n",
      "\u001b[0;31mOSError\u001b[0m                                   Traceback (most recent call last)",
      "\u001b[0;32m<ipython-input-11-0a590023c4e2>\u001b[0m in \u001b[0;36mread_triples\u001b[0;34m(path, phones)\u001b[0m\n\u001b[1;32m     52\u001b[0m             \u001b[0;32mtry\u001b[0m\u001b[0;34m:\u001b[0m\u001b[0;34m\u001b[0m\u001b[0m\n\u001b[0;32m---> 53\u001b[0;31m                 \u001b[0mmodel\u001b[0m \u001b[0;34m=\u001b[0m \u001b[0mread_gmm\u001b[0m\u001b[0;34m(\u001b[0m\u001b[0mpath\u001b[0m \u001b[0;34m+\u001b[0m \u001b[0;34m'/{}-{}'\u001b[0m\u001b[0;34m.\u001b[0m\u001b[0mformat\u001b[0m\u001b[0;34m(\u001b[0m\u001b[0mphone\u001b[0m\u001b[0;34m,\u001b[0m \u001b[0mc\u001b[0m\u001b[0;34m)\u001b[0m\u001b[0;34m)\u001b[0m\u001b[0;34m\u001b[0m\u001b[0m\n\u001b[0m\u001b[1;32m     54\u001b[0m                 \u001b[0mtriple\u001b[0m\u001b[0;34m.\u001b[0m\u001b[0mappend\u001b[0m\u001b[0;34m(\u001b[0m\u001b[0mmodel\u001b[0m\u001b[0;34m)\u001b[0m\u001b[0;34m\u001b[0m\u001b[0m\n",
      "\u001b[0;32m<ipython-input-11-0a590023c4e2>\u001b[0m in \u001b[0;36mread_gmm\u001b[0;34m(path)\u001b[0m\n\u001b[1;32m     34\u001b[0m             \u001b[0;32mexcept\u001b[0m \u001b[0mException\u001b[0m \u001b[0;32mas\u001b[0m \u001b[0mexception\u001b[0m\u001b[0;34m:\u001b[0m\u001b[0;34m\u001b[0m\u001b[0m\n\u001b[0;32m---> 35\u001b[0;31m                 \u001b[0;32mraise\u001b[0m \u001b[0mIOError\u001b[0m\u001b[0;34m(\u001b[0m\u001b[0;34m'Cannot read mixture at {}'\u001b[0m\u001b[0;34m.\u001b[0m\u001b[0mformat\u001b[0m\u001b[0;34m(\u001b[0m\u001b[0mi\u001b[0m\u001b[0;34m)\u001b[0m\u001b[0;34m)\u001b[0m \u001b[0;32mfrom\u001b[0m \u001b[0mexception\u001b[0m\u001b[0;34m\u001b[0m\u001b[0m\n\u001b[0m\u001b[1;32m     36\u001b[0m \u001b[0;34m\u001b[0m\u001b[0m\n",
      "\u001b[0;31mOSError\u001b[0m: Cannot read mixture at 5",
      "\nThe above exception was the direct cause of the following exception:\n",
      "\u001b[0;31mOSError\u001b[0m                                   Traceback (most recent call last)",
      "\u001b[0;32m<ipython-input-21-b50bdbd93ba1>\u001b[0m in \u001b[0;36m<module>\u001b[0;34m()\u001b[0m\n\u001b[0;32m----> 1\u001b[0;31m \u001b[0mphone_distribution_triples\u001b[0m \u001b[0;34m=\u001b[0m \u001b[0mread_triples\u001b[0m\u001b[0;34m(\u001b[0m\u001b[0mroot\u001b[0m \u001b[0;34m+\u001b[0m \u001b[0;34m'/models/triples-1'\u001b[0m\u001b[0;34m,\u001b[0m \u001b[0mUNIQUE_PHONES\u001b[0m\u001b[0;34m)\u001b[0m\u001b[0;34m\u001b[0m\u001b[0m\n\u001b[0m",
      "\u001b[0;32m<ipython-input-11-0a590023c4e2>\u001b[0m in \u001b[0;36mread_triples\u001b[0;34m(path, phones)\u001b[0m\n\u001b[1;32m     54\u001b[0m                 \u001b[0mtriple\u001b[0m\u001b[0;34m.\u001b[0m\u001b[0mappend\u001b[0m\u001b[0;34m(\u001b[0m\u001b[0mmodel\u001b[0m\u001b[0;34m)\u001b[0m\u001b[0;34m\u001b[0m\u001b[0m\n\u001b[1;32m     55\u001b[0m             \u001b[0;32mexcept\u001b[0m \u001b[0mException\u001b[0m \u001b[0;32mas\u001b[0m \u001b[0mexception\u001b[0m\u001b[0;34m:\u001b[0m\u001b[0;34m\u001b[0m\u001b[0m\n\u001b[0;32m---> 56\u001b[0;31m                 \u001b[0;32mraise\u001b[0m \u001b[0mIOError\u001b[0m\u001b[0;34m(\u001b[0m\u001b[0;34m'Cannot read model {}-{}'\u001b[0m\u001b[0;34m.\u001b[0m\u001b[0mformat\u001b[0m\u001b[0;34m(\u001b[0m\u001b[0mphone\u001b[0m\u001b[0;34m,\u001b[0m \u001b[0mc\u001b[0m\u001b[0;34m)\u001b[0m\u001b[0;34m)\u001b[0m \u001b[0;32mfrom\u001b[0m \u001b[0mexception\u001b[0m\u001b[0;34m\u001b[0m\u001b[0m\n\u001b[0m\u001b[1;32m     57\u001b[0m         \u001b[0mtriples\u001b[0m\u001b[0;34m[\u001b[0m\u001b[0mphone\u001b[0m\u001b[0;34m]\u001b[0m \u001b[0;34m=\u001b[0m \u001b[0mtuple\u001b[0m\u001b[0;34m(\u001b[0m\u001b[0mtriple\u001b[0m\u001b[0;34m)\u001b[0m\u001b[0;34m\u001b[0m\u001b[0m\n\u001b[1;32m     58\u001b[0m     \u001b[0;32mreturn\u001b[0m \u001b[0mtriples\u001b[0m\u001b[0;34m\u001b[0m\u001b[0m\n",
      "\u001b[0;31mOSError\u001b[0m: Cannot read model AW-a"
     ]
    }
   ],
   "source": [
    "phone_distribution_triples = read_triples(root + '/models/triples-1', UNIQUE_PHONES)"
   ]
  },
  {
   "cell_type": "code",
   "execution_count": 105,
   "metadata": {
    "scrolled": false
   },
   "outputs": [
    {
     "name": "stdout",
     "output_type": "stream",
     "text": [
      "[  1.41467275e+01  -7.35344053e+00  -5.56301231e+00  -4.84370700e+00\n",
      "  -3.26590152e+00  -4.67713110e+00  -2.93247692e+00  -6.21254481e+00\n",
      "  -4.60166262e+00  -4.32767984e+00  -1.62883341e+00  -2.50476327e+00\n",
      "  -8.24130769e+00   4.71618683e-01   4.57870227e-01  -1.32589895e+00\n",
      "  -9.23610116e-01  -9.11397488e-01  -4.48633292e-02   6.83980317e-01\n",
      "  -3.91819699e-01  -9.57840195e-02  -5.51740595e-01  -4.66018632e-01\n",
      "  -3.27380013e-01   2.68423365e-03   6.40123001e-03   1.34323619e-01\n",
      "   6.15838646e-03  -4.11852850e-02   7.89280213e-02  -2.26739330e-02\n",
      "   5.75374672e-02   6.40953838e-03  -3.25918412e-02   1.42842274e-01\n",
      "  -1.47236299e-01  -6.17011349e-02  -1.74521876e-02]\n",
      "[  1.43344790e+01   1.12123728e-01  -4.61673784e+00  -4.37537285e+00\n",
      "  -3.35688364e+00  -5.19159258e+00  -2.46247097e+00  -5.27950688e+00\n",
      "  -6.93267329e+00   8.92074965e-01  -1.50063469e+00  -3.92398961e+00\n",
      "  -1.10409868e+01   2.92374934e-01   1.52636161e+00  -1.38141933e+00\n",
      "  -6.50400994e-01  -7.84072233e-01   1.30328483e-01   6.29186205e-01\n",
      "   7.65916335e-02  -4.60719128e-01   4.12499647e-01  -4.94654228e-01\n",
      "  -9.56262930e-02  -4.51906954e-01  -1.23567798e-02  -1.96568273e-01\n",
      "   5.24525157e-02  -1.08848495e-02  -3.62191705e-02   7.71641044e-02\n",
      "  -3.68863618e-02   3.47594588e-02   1.61490967e-01   2.87846345e-02\n",
      "  -4.92060790e-02  -2.29968007e-03   7.21848124e-02]\n",
      "12-AY-mid\n"
     ]
    }
   ],
   "source": [
    "print(example_sentence_hmm.states[3].distribution.distributions[0].mu)\n",
    "print(example_sentence_hmm.states[10].distribution.distributions[0].mu)\n",
    "print(example_sentence_hmm.states[10].name)"
   ]
  },
  {
   "cell_type": "code",
   "execution_count": 71,
   "metadata": {},
   "outputs": [
    {
     "name": "stdout",
     "output_type": "stream",
     "text": [
      "0\n",
      "_-M-AY-_-V-OY-S-_-IH-Z-_-M-AY-_-P-AE-S-W-ER-D-_-start\t0-SILENCE\t0-SILENCE\t0-SILENCE\t0-SILENCE\t0-SILENCE\t0-SILENCE\t0-SILENCE\t0-SILENCE\t0-SILENCE\t0-SILENCE\t0-SILENCE\t0-SILENCE\t0-SILENCE\t0-SILENCE\t0-SILENCE\t0-SILENCE\t0-SILENCE\t0-SILENCE\t0-SILENCE\t0-SILENCE\t0-SILENCE\t0-SILENCE\t0-SILENCE\t0-SILENCE\t0-SILENCE\t0-SILENCE\t0-SILENCE\t0-SILENCE\t0-SILENCE\t0-SILENCE\t0-SILENCE\t0-SILENCE\t0-SILENCE\t0-SILENCE\t0-SILENCE\t0-SILENCE\t0-SILENCE\t0-SILENCE\t0-SILENCE\t0-SILENCE\t0-SILENCE\t0-SILENCE\t0-SILENCE\t0-SILENCE\t0-SILENCE\t0-SILENCE\t0-SILENCE\t0-SILENCE\t0-SILENCE\t0-SILENCE\t0-SILENCE\t0-SILENCE\t0-SILENCE\t0-SILENCE\t0-SILENCE\t0-SILENCE\t0-SILENCE\t0-SILENCE\t1-M-beg\t1-M-mid\t1-M-end\t2-AY-beg\t2-AY-mid\t2-AY-end\t3-SILENCE\t3-SILENCE\t3-SILENCE\t3-SILENCE\t3-SILENCE\t3-SILENCE\t3-SILENCE\t3-SILENCE\t3-SILENCE\t3-SILENCE\t3-SILENCE\t3-SILENCE\t3-SILENCE\t3-SILENCE\t3-SILENCE\t3-SILENCE\t3-SILENCE\t3-SILENCE\t3-SILENCE\t3-SILENCE\t3-SILENCE\t3-SILENCE\t3-SILENCE\t3-SILENCE\t3-SILENCE\t3-SILENCE\t3-SILENCE\t3-SILENCE\t3-SILENCE\t3-SILENCE\t3-SILENCE\t3-SILENCE\t3-SILENCE\t3-SILENCE\t3-SILENCE\t3-SILENCE\t3-SILENCE\t3-SILENCE\t3-SILENCE\t3-SILENCE\t4-V-beg\t4-V-mid\t4-V-end\t5-OY-beg\t5-OY-mid\t5-OY-end\t6-S-beg\t6-S-beg\t6-S-beg\t6-S-beg\t6-S-mid\t6-S-end\t7-SILENCE\t7-SILENCE\t7-SILENCE\t7-SILENCE\t7-SILENCE\t7-SILENCE\t7-SILENCE\t7-SILENCE\t7-SILENCE\t7-SILENCE\t7-SILENCE\t7-SILENCE\t7-SILENCE\t7-SILENCE\t7-SILENCE\t7-SILENCE\t7-SILENCE\t7-SILENCE\t7-SILENCE\t7-SILENCE\t7-SILENCE\t7-SILENCE\t7-SILENCE\t7-SILENCE\t7-SILENCE\t7-SILENCE\t7-SILENCE\t7-SILENCE\t7-SILENCE\t7-SILENCE\t7-SILENCE\t7-SILENCE\t8-IH-beg\t8-IH-mid\t8-IH-end\t9-Z-beg\t9-Z-mid\t9-Z-end\t9-Z-end\t9-Z-end\t9-Z-end\t10-SILENCE\t10-SILENCE\t10-SILENCE\t10-SILENCE\t10-SILENCE\t10-SILENCE\t10-SILENCE\t10-SILENCE\t10-SILENCE\t11-M-beg\t11-M-mid\t11-M-end\t12-AY-beg\t12-AY-mid\t12-AY-mid\t12-AY-mid\t12-AY-mid\t12-AY-mid\t12-AY-mid\t12-AY-mid\t12-AY-mid\t12-AY-mid\t12-AY-mid\t12-AY-mid\t12-AY-mid\t12-AY-mid\t12-AY-mid\t12-AY-mid\t12-AY-end\t13-SILENCE\t13-SILENCE\t13-SILENCE\t13-SILENCE\t13-SILENCE\t14-P-beg\t14-P-mid\t14-P-end\t15-AE-beg\t15-AE-mid\t15-AE-end\t16-S-beg\t16-S-mid\t16-S-end\t17-W-beg\t17-W-mid\t17-W-end\t18-ER-beg\t18-ER-mid\t18-ER-end\t19-D-beg\t19-D-mid\t19-D-mid\t19-D-mid\t19-D-mid\t19-D-mid\t19-D-mid\t19-D-mid\t19-D-mid\t19-D-end\t20-SILENCE\t20-SILENCE\t20-SILENCE\t20-SILENCE\t20-SILENCE\t20-SILENCE\t20-SILENCE\t20-SILENCE\t20-SILENCE\t_-M-AY-_-V-OY-S-_-IH-Z-_-M-AY-_-P-AE-S-W-ER-D-_-end\n",
      "50\n",
      "_-M-AY-_-V-OY-S-_-IH-Z-_-M-AY-_-P-AE-S-W-ER-D-_-start\t0-SILENCE\t0-SILENCE\t0-SILENCE\t0-SILENCE\t0-SILENCE\t0-SILENCE\t0-SILENCE\t0-SILENCE\t0-SILENCE\t0-SILENCE\t0-SILENCE\t0-SILENCE\t0-SILENCE\t0-SILENCE\t0-SILENCE\t0-SILENCE\t0-SILENCE\t0-SILENCE\t0-SILENCE\t0-SILENCE\t0-SILENCE\t0-SILENCE\t1-M-beg\t1-M-mid\t1-M-end\t2-AY-beg\t2-AY-mid\t2-AY-end\t3-SILENCE\t3-SILENCE\t3-SILENCE\t3-SILENCE\t3-SILENCE\t3-SILENCE\t3-SILENCE\t3-SILENCE\t3-SILENCE\t3-SILENCE\t3-SILENCE\t3-SILENCE\t3-SILENCE\t3-SILENCE\t3-SILENCE\t3-SILENCE\t3-SILENCE\t3-SILENCE\t3-SILENCE\t3-SILENCE\t3-SILENCE\t3-SILENCE\t3-SILENCE\t3-SILENCE\t3-SILENCE\t3-SILENCE\t3-SILENCE\t3-SILENCE\t3-SILENCE\t3-SILENCE\t3-SILENCE\t3-SILENCE\t3-SILENCE\t3-SILENCE\t3-SILENCE\t3-SILENCE\t3-SILENCE\t4-V-beg\t4-V-mid\t4-V-end\t5-OY-beg\t5-OY-mid\t5-OY-end\t6-S-beg\t6-S-mid\t6-S-end\t7-SILENCE\t7-SILENCE\t7-SILENCE\t7-SILENCE\t7-SILENCE\t8-IH-beg\t8-IH-mid\t8-IH-end\t9-Z-beg\t9-Z-mid\t9-Z-end\t9-Z-end\t9-Z-end\t9-Z-end\t9-Z-end\t10-SILENCE\t11-M-beg\t11-M-mid\t11-M-end\t12-AY-beg\t12-AY-mid\t12-AY-end\t13-SILENCE\t13-SILENCE\t13-SILENCE\t13-SILENCE\t13-SILENCE\t13-SILENCE\t13-SILENCE\t13-SILENCE\t13-SILENCE\t13-SILENCE\t14-P-beg\t14-P-mid\t14-P-end\t15-AE-beg\t15-AE-mid\t15-AE-end\t16-S-beg\t16-S-mid\t16-S-end\t17-W-beg\t17-W-mid\t17-W-end\t18-ER-beg\t18-ER-mid\t18-ER-end\t19-D-beg\t19-D-mid\t19-D-end\t20-SILENCE\t20-SILENCE\t20-SILENCE\t20-SILENCE\t20-SILENCE\t20-SILENCE\t20-SILENCE\t20-SILENCE\t20-SILENCE\t20-SILENCE\t20-SILENCE\t20-SILENCE\t20-SILENCE\t20-SILENCE\t20-SILENCE\t20-SILENCE\t20-SILENCE\t20-SILENCE\t20-SILENCE\t20-SILENCE\t20-SILENCE\t20-SILENCE\t20-SILENCE\t20-SILENCE\t20-SILENCE\t20-SILENCE\t20-SILENCE\t20-SILENCE\t20-SILENCE\t20-SILENCE\t20-SILENCE\t20-SILENCE\t20-SILENCE\t20-SILENCE\t20-SILENCE\t20-SILENCE\t20-SILENCE\t20-SILENCE\t20-SILENCE\t20-SILENCE\t20-SILENCE\t20-SILENCE\t20-SILENCE\t20-SILENCE\t20-SILENCE\t20-SILENCE\t20-SILENCE\t20-SILENCE\t20-SILENCE\t20-SILENCE\t20-SILENCE\t20-SILENCE\t20-SILENCE\t20-SILENCE\t20-SILENCE\t20-SILENCE\t20-SILENCE\t20-SILENCE\t20-SILENCE\t20-SILENCE\t20-SILENCE\t20-SILENCE\t20-SILENCE\t20-SILENCE\t20-SILENCE\t20-SILENCE\t20-SILENCE\t20-SILENCE\t20-SILENCE\t20-SILENCE\t20-SILENCE\t20-SILENCE\t20-SILENCE\t20-SILENCE\t20-SILENCE\t20-SILENCE\t20-SILENCE\t20-SILENCE\t20-SILENCE\t20-SILENCE\t20-SILENCE\t20-SILENCE\t20-SILENCE\t20-SILENCE\t20-SILENCE\t20-SILENCE\t20-SILENCE\t20-SILENCE\t20-SILENCE\t20-SILENCE\t20-SILENCE\t20-SILENCE\t20-SILENCE\t20-SILENCE\t20-SILENCE\t20-SILENCE\t20-SILENCE\t20-SILENCE\t20-SILENCE\t20-SILENCE\t20-SILENCE\t20-SILENCE\t20-SILENCE\t20-SILENCE\t20-SILENCE\t20-SILENCE\t20-SILENCE\t20-SILENCE\t20-SILENCE\t20-SILENCE\t20-SILENCE\t20-SILENCE\t20-SILENCE\t20-SILENCE\t20-SILENCE\t20-SILENCE\t20-SILENCE\t20-SILENCE\t20-SILENCE\t20-SILENCE\t20-SILENCE\t20-SILENCE\t20-SILENCE\t20-SILENCE\t20-SILENCE\t20-SILENCE\t20-SILENCE\t20-SILENCE\t20-SILENCE\t20-SILENCE\t20-SILENCE\t20-SILENCE\t20-SILENCE\t20-SILENCE\t20-SILENCE\t20-SILENCE\t20-SILENCE\t20-SILENCE\t20-SILENCE\t20-SILENCE\t20-SILENCE\t20-SILENCE\t20-SILENCE\t20-SILENCE\t20-SILENCE\t20-SILENCE\t20-SILENCE\t20-SILENCE\t20-SILENCE\t20-SILENCE\t20-SILENCE\t20-SILENCE\t20-SILENCE\t20-SILENCE\t20-SILENCE\t_-M-AY-_-V-OY-S-_-IH-Z-_-M-AY-_-P-AE-S-W-ER-D-_-end\n",
      "100\n",
      "_-M-AY-_-V-OY-S-_-IH-Z-_-M-AY-_-P-AE-S-W-ER-D-_-start\t0-SILENCE\t0-SILENCE\t0-SILENCE\t0-SILENCE\t0-SILENCE\t0-SILENCE\t1-M-beg\t1-M-mid\t1-M-end\t1-M-end\t2-AY-beg\t2-AY-mid\t2-AY-end\t3-SILENCE\t4-V-beg\t4-V-mid\t4-V-end\t5-OY-beg\t5-OY-mid\t5-OY-end\t6-S-beg\t6-S-beg\t6-S-mid\t6-S-end\t7-SILENCE\t7-SILENCE\t7-SILENCE\t7-SILENCE\t7-SILENCE\t7-SILENCE\t7-SILENCE\t7-SILENCE\t7-SILENCE\t7-SILENCE\t7-SILENCE\t7-SILENCE\t7-SILENCE\t7-SILENCE\t7-SILENCE\t7-SILENCE\t7-SILENCE\t7-SILENCE\t7-SILENCE\t7-SILENCE\t7-SILENCE\t7-SILENCE\t7-SILENCE\t7-SILENCE\t7-SILENCE\t7-SILENCE\t7-SILENCE\t7-SILENCE\t7-SILENCE\t7-SILENCE\t7-SILENCE\t7-SILENCE\t7-SILENCE\t7-SILENCE\t7-SILENCE\t7-SILENCE\t7-SILENCE\t7-SILENCE\t7-SILENCE\t7-SILENCE\t7-SILENCE\t7-SILENCE\t7-SILENCE\t7-SILENCE\t7-SILENCE\t7-SILENCE\t7-SILENCE\t7-SILENCE\t7-SILENCE\t7-SILENCE\t7-SILENCE\t7-SILENCE\t7-SILENCE\t7-SILENCE\t7-SILENCE\t7-SILENCE\t7-SILENCE\t7-SILENCE\t7-SILENCE\t7-SILENCE\t7-SILENCE\t7-SILENCE\t7-SILENCE\t7-SILENCE\t7-SILENCE\t7-SILENCE\t7-SILENCE\t7-SILENCE\t7-SILENCE\t7-SILENCE\t7-SILENCE\t7-SILENCE\t7-SILENCE\t7-SILENCE\t7-SILENCE\t7-SILENCE\t7-SILENCE\t7-SILENCE\t7-SILENCE\t7-SILENCE\t7-SILENCE\t7-SILENCE\t7-SILENCE\t7-SILENCE\t7-SILENCE\t7-SILENCE\t7-SILENCE\t7-SILENCE\t7-SILENCE\t7-SILENCE\t7-SILENCE\t7-SILENCE\t7-SILENCE\t7-SILENCE\t7-SILENCE\t7-SILENCE\t8-IH-beg\t8-IH-mid\t8-IH-end\t9-Z-beg\t9-Z-mid\t9-Z-end\t10-SILENCE\t10-SILENCE\t10-SILENCE\t11-M-beg\t11-M-mid\t11-M-end\t12-AY-beg\t12-AY-mid\t12-AY-end\t13-SILENCE\t13-SILENCE\t13-SILENCE\t13-SILENCE\t13-SILENCE\t13-SILENCE\t14-P-beg\t14-P-mid\t14-P-end\t15-AE-beg\t15-AE-mid\t15-AE-end\t16-S-beg\t16-S-mid\t16-S-end\t17-W-beg\t17-W-mid\t17-W-end\t18-ER-beg\t18-ER-mid\t18-ER-end\t19-D-beg\t19-D-mid\t19-D-mid\t19-D-end\t20-SILENCE\t20-SILENCE\t20-SILENCE\t20-SILENCE\t20-SILENCE\t20-SILENCE\t20-SILENCE\t20-SILENCE\t20-SILENCE\t20-SILENCE\t20-SILENCE\t20-SILENCE\t20-SILENCE\t20-SILENCE\t20-SILENCE\t20-SILENCE\t20-SILENCE\t20-SILENCE\t20-SILENCE\t20-SILENCE\t20-SILENCE\t20-SILENCE\t20-SILENCE\t20-SILENCE\t20-SILENCE\t20-SILENCE\t20-SILENCE\t20-SILENCE\t20-SILENCE\t20-SILENCE\t20-SILENCE\t20-SILENCE\t20-SILENCE\t20-SILENCE\t20-SILENCE\t20-SILENCE\t20-SILENCE\t20-SILENCE\t20-SILENCE\t20-SILENCE\t20-SILENCE\t20-SILENCE\t20-SILENCE\t20-SILENCE\t20-SILENCE\t20-SILENCE\t20-SILENCE\t20-SILENCE\t20-SILENCE\t20-SILENCE\t20-SILENCE\t20-SILENCE\t20-SILENCE\t20-SILENCE\t20-SILENCE\t20-SILENCE\t20-SILENCE\t20-SILENCE\t20-SILENCE\t20-SILENCE\t20-SILENCE\t20-SILENCE\t20-SILENCE\t20-SILENCE\t20-SILENCE\t20-SILENCE\t20-SILENCE\t20-SILENCE\t20-SILENCE\t20-SILENCE\t20-SILENCE\t20-SILENCE\t20-SILENCE\t20-SILENCE\t20-SILENCE\t20-SILENCE\t20-SILENCE\t20-SILENCE\t20-SILENCE\t20-SILENCE\t20-SILENCE\t20-SILENCE\t20-SILENCE\t20-SILENCE\t20-SILENCE\t_-M-AY-_-V-OY-S-_-IH-Z-_-M-AY-_-P-AE-S-W-ER-D-_-end\n"
     ]
    }
   ],
   "source": [
    "for i in (0, 50, 100):\n",
    "    predictions = example_sentence_hmm.predict(example_features[i], algorithm='viterbi')\n",
    "    print(i)\n",
    "    print('\\t'.join(example_sentence_hmm.states[prediction].name for prediction in predictions))"
   ]
  },
  {
   "cell_type": "code",
   "execution_count": 76,
   "metadata": {
    "scrolled": true
   },
   "outputs": [
    {
     "ename": "TypeError",
     "evalue": "Cannot cast ufunc subtract output from dtype('complex128') to dtype('float64') with casting rule 'same_kind'",
     "output_type": "error",
     "traceback": [
      "\u001b[0;31m---------------------------------------------------------------------------\u001b[0m",
      "\u001b[0;31mLinAlgError\u001b[0m                               Traceback (most recent call last)",
      "\u001b[0;32mpomegranate/distributions.pyx\u001b[0m in \u001b[0;36mpomegranate.distributions.MultivariateGaussianDistribution.from_summaries\u001b[0;34m()\u001b[0m\n",
      "\u001b[0;32m/usr/local/lib/python3.5/dist-packages/scipy/linalg/decomp_cholesky.py\u001b[0m in \u001b[0;36mcholesky\u001b[0;34m(a, lower, overwrite_a, check_finite)\u001b[0m\n\u001b[1;32m     80\u001b[0m     c, lower = _cholesky(a, lower=lower, overwrite_a=overwrite_a, clean=True,\n\u001b[0;32m---> 81\u001b[0;31m                             check_finite=check_finite)\n\u001b[0m\u001b[1;32m     82\u001b[0m     \u001b[0;32mreturn\u001b[0m \u001b[0mc\u001b[0m\u001b[0;34m\u001b[0m\u001b[0m\n",
      "\u001b[0;32m/usr/local/lib/python3.5/dist-packages/scipy/linalg/decomp_cholesky.py\u001b[0m in \u001b[0;36m_cholesky\u001b[0;34m(a, lower, overwrite_a, clean, check_finite)\u001b[0m\n\u001b[1;32m     29\u001b[0m     \u001b[0;32mif\u001b[0m \u001b[0minfo\u001b[0m \u001b[0;34m>\u001b[0m \u001b[0;36m0\u001b[0m\u001b[0;34m:\u001b[0m\u001b[0;34m\u001b[0m\u001b[0m\n\u001b[0;32m---> 30\u001b[0;31m         \u001b[0;32mraise\u001b[0m \u001b[0mLinAlgError\u001b[0m\u001b[0;34m(\u001b[0m\u001b[0;34m\"%d-th leading minor not positive definite\"\u001b[0m \u001b[0;34m%\u001b[0m \u001b[0minfo\u001b[0m\u001b[0;34m)\u001b[0m\u001b[0;34m\u001b[0m\u001b[0m\n\u001b[0m\u001b[1;32m     31\u001b[0m     \u001b[0;32mif\u001b[0m \u001b[0minfo\u001b[0m \u001b[0;34m<\u001b[0m \u001b[0;36m0\u001b[0m\u001b[0;34m:\u001b[0m\u001b[0;34m\u001b[0m\u001b[0m\n",
      "\u001b[0;31mLinAlgError\u001b[0m: 23-th leading minor not positive definite",
      "\nDuring handling of the above exception, another exception occurred:\n",
      "\u001b[0;31mTypeError\u001b[0m                                 Traceback (most recent call last)",
      "\u001b[0;32mpomegranate/bayes.pyx\u001b[0m in \u001b[0;36mpomegranate.bayes.BayesModel.from_summaries\u001b[0;34m()\u001b[0m\n",
      "\u001b[0;32mpomegranate/distributions.pyx\u001b[0m in \u001b[0;36mpomegranate.distributions.MultivariateGaussianDistribution.from_summaries\u001b[0;34m()\u001b[0m\n",
      "\u001b[0;31mTypeError\u001b[0m: Cannot cast ufunc subtract output from dtype('complex128') to dtype('float64') with casting rule 'same_kind'"
     ]
    },
    {
     "name": "stderr",
     "output_type": "stream",
     "text": [
      "Exception ignored in: 'pomegranate.hmm.HiddenMarkovModel._from_summaries'\n",
      "Traceback (most recent call last):\n",
      "  File \"pomegranate/bayes.pyx\", line 710, in pomegranate.bayes.BayesModel.from_summaries\n",
      "  File \"pomegranate/distributions.pyx\", line 2259, in pomegranate.distributions.MultivariateGaussianDistribution.from_summaries\n",
      "TypeError: Cannot cast ufunc subtract output from dtype('complex128') to dtype('float64') with casting rule 'same_kind'\n"
     ]
    },
    {
     "ename": "TypeError",
     "evalue": "Cannot cast ufunc subtract output from dtype('complex128') to dtype('float64') with casting rule 'same_kind'",
     "output_type": "error",
     "traceback": [
      "\u001b[0;31m---------------------------------------------------------------------------\u001b[0m",
      "\u001b[0;31mLinAlgError\u001b[0m                               Traceback (most recent call last)",
      "\u001b[0;32mpomegranate/distributions.pyx\u001b[0m in \u001b[0;36mpomegranate.distributions.MultivariateGaussianDistribution.from_summaries\u001b[0;34m()\u001b[0m\n",
      "\u001b[0;32m/usr/local/lib/python3.5/dist-packages/scipy/linalg/decomp_cholesky.py\u001b[0m in \u001b[0;36mcholesky\u001b[0;34m(a, lower, overwrite_a, check_finite)\u001b[0m\n\u001b[1;32m     80\u001b[0m     c, lower = _cholesky(a, lower=lower, overwrite_a=overwrite_a, clean=True,\n\u001b[0;32m---> 81\u001b[0;31m                             check_finite=check_finite)\n\u001b[0m\u001b[1;32m     82\u001b[0m     \u001b[0;32mreturn\u001b[0m \u001b[0mc\u001b[0m\u001b[0;34m\u001b[0m\u001b[0m\n",
      "\u001b[0;32m/usr/local/lib/python3.5/dist-packages/scipy/linalg/decomp_cholesky.py\u001b[0m in \u001b[0;36m_cholesky\u001b[0;34m(a, lower, overwrite_a, clean, check_finite)\u001b[0m\n\u001b[1;32m     29\u001b[0m     \u001b[0;32mif\u001b[0m \u001b[0minfo\u001b[0m \u001b[0;34m>\u001b[0m \u001b[0;36m0\u001b[0m\u001b[0;34m:\u001b[0m\u001b[0;34m\u001b[0m\u001b[0m\n\u001b[0;32m---> 30\u001b[0;31m         \u001b[0;32mraise\u001b[0m \u001b[0mLinAlgError\u001b[0m\u001b[0;34m(\u001b[0m\u001b[0;34m\"%d-th leading minor not positive definite\"\u001b[0m \u001b[0;34m%\u001b[0m \u001b[0minfo\u001b[0m\u001b[0;34m)\u001b[0m\u001b[0;34m\u001b[0m\u001b[0m\n\u001b[0m\u001b[1;32m     31\u001b[0m     \u001b[0;32mif\u001b[0m \u001b[0minfo\u001b[0m \u001b[0;34m<\u001b[0m \u001b[0;36m0\u001b[0m\u001b[0;34m:\u001b[0m\u001b[0;34m\u001b[0m\u001b[0m\n",
      "\u001b[0;31mLinAlgError\u001b[0m: 23-th leading minor not positive definite",
      "\nDuring handling of the above exception, another exception occurred:\n",
      "\u001b[0;31mTypeError\u001b[0m                                 Traceback (most recent call last)",
      "\u001b[0;32mpomegranate/bayes.pyx\u001b[0m in \u001b[0;36mpomegranate.bayes.BayesModel.from_summaries\u001b[0;34m()\u001b[0m\n",
      "\u001b[0;32mpomegranate/distributions.pyx\u001b[0m in \u001b[0;36mpomegranate.distributions.MultivariateGaussianDistribution.from_summaries\u001b[0;34m()\u001b[0m\n",
      "\u001b[0;31mTypeError\u001b[0m: Cannot cast ufunc subtract output from dtype('complex128') to dtype('float64') with casting rule 'same_kind'"
     ]
    },
    {
     "name": "stderr",
     "output_type": "stream",
     "text": [
      "Exception ignored in: 'pomegranate.hmm.HiddenMarkovModel._from_summaries'\n",
      "Traceback (most recent call last):\n",
      "  File \"pomegranate/bayes.pyx\", line 710, in pomegranate.bayes.BayesModel.from_summaries\n",
      "  File \"pomegranate/distributions.pyx\", line 2259, in pomegranate.distributions.MultivariateGaussianDistribution.from_summaries\n",
      "TypeError: Cannot cast ufunc subtract output from dtype('complex128') to dtype('float64') with casting rule 'same_kind'\n"
     ]
    },
    {
     "name": "stdout",
     "output_type": "stream",
     "text": [
      "[1] Improvement: 4.373646683990955\tTime (s): 522.3\n"
     ]
    },
    {
     "ename": "TypeError",
     "evalue": "Cannot cast ufunc subtract output from dtype('complex128') to dtype('float64') with casting rule 'same_kind'",
     "output_type": "error",
     "traceback": [
      "\u001b[0;31m---------------------------------------------------------------------------\u001b[0m",
      "\u001b[0;31mLinAlgError\u001b[0m                               Traceback (most recent call last)",
      "\u001b[0;32mpomegranate/distributions.pyx\u001b[0m in \u001b[0;36mpomegranate.distributions.MultivariateGaussianDistribution.from_summaries\u001b[0;34m()\u001b[0m\n",
      "\u001b[0;32m/usr/local/lib/python3.5/dist-packages/scipy/linalg/decomp_cholesky.py\u001b[0m in \u001b[0;36mcholesky\u001b[0;34m(a, lower, overwrite_a, check_finite)\u001b[0m\n\u001b[1;32m     80\u001b[0m     c, lower = _cholesky(a, lower=lower, overwrite_a=overwrite_a, clean=True,\n\u001b[0;32m---> 81\u001b[0;31m                             check_finite=check_finite)\n\u001b[0m\u001b[1;32m     82\u001b[0m     \u001b[0;32mreturn\u001b[0m \u001b[0mc\u001b[0m\u001b[0;34m\u001b[0m\u001b[0m\n",
      "\u001b[0;32m/usr/local/lib/python3.5/dist-packages/scipy/linalg/decomp_cholesky.py\u001b[0m in \u001b[0;36m_cholesky\u001b[0;34m(a, lower, overwrite_a, clean, check_finite)\u001b[0m\n\u001b[1;32m     29\u001b[0m     \u001b[0;32mif\u001b[0m \u001b[0minfo\u001b[0m \u001b[0;34m>\u001b[0m \u001b[0;36m0\u001b[0m\u001b[0;34m:\u001b[0m\u001b[0;34m\u001b[0m\u001b[0m\n\u001b[0;32m---> 30\u001b[0;31m         \u001b[0;32mraise\u001b[0m \u001b[0mLinAlgError\u001b[0m\u001b[0;34m(\u001b[0m\u001b[0;34m\"%d-th leading minor not positive definite\"\u001b[0m \u001b[0;34m%\u001b[0m \u001b[0minfo\u001b[0m\u001b[0;34m)\u001b[0m\u001b[0;34m\u001b[0m\u001b[0m\n\u001b[0m\u001b[1;32m     31\u001b[0m     \u001b[0;32mif\u001b[0m \u001b[0minfo\u001b[0m \u001b[0;34m<\u001b[0m \u001b[0;36m0\u001b[0m\u001b[0;34m:\u001b[0m\u001b[0;34m\u001b[0m\u001b[0m\n",
      "\u001b[0;31mLinAlgError\u001b[0m: 23-th leading minor not positive definite",
      "\nDuring handling of the above exception, another exception occurred:\n",
      "\u001b[0;31mTypeError\u001b[0m                                 Traceback (most recent call last)",
      "\u001b[0;32mpomegranate/bayes.pyx\u001b[0m in \u001b[0;36mpomegranate.bayes.BayesModel.from_summaries\u001b[0;34m()\u001b[0m\n",
      "\u001b[0;32mpomegranate/distributions.pyx\u001b[0m in \u001b[0;36mpomegranate.distributions.MultivariateGaussianDistribution.from_summaries\u001b[0;34m()\u001b[0m\n",
      "\u001b[0;31mTypeError\u001b[0m: Cannot cast ufunc subtract output from dtype('complex128') to dtype('float64') with casting rule 'same_kind'"
     ]
    },
    {
     "name": "stderr",
     "output_type": "stream",
     "text": [
      "Exception ignored in: 'pomegranate.hmm.HiddenMarkovModel._from_summaries'\n",
      "Traceback (most recent call last):\n",
      "  File \"pomegranate/bayes.pyx\", line 710, in pomegranate.bayes.BayesModel.from_summaries\n",
      "  File \"pomegranate/distributions.pyx\", line 2259, in pomegranate.distributions.MultivariateGaussianDistribution.from_summaries\n",
      "TypeError: Cannot cast ufunc subtract output from dtype('complex128') to dtype('float64') with casting rule 'same_kind'\n"
     ]
    },
    {
     "name": "stdout",
     "output_type": "stream",
     "text": [
      "[2] Improvement: 3.142620590282604\tTime (s): 525.5\n"
     ]
    },
    {
     "ename": "TypeError",
     "evalue": "Cannot cast ufunc subtract output from dtype('complex128') to dtype('float64') with casting rule 'same_kind'",
     "output_type": "error",
     "traceback": [
      "\u001b[0;31m---------------------------------------------------------------------------\u001b[0m",
      "\u001b[0;31mLinAlgError\u001b[0m                               Traceback (most recent call last)",
      "\u001b[0;32mpomegranate/distributions.pyx\u001b[0m in \u001b[0;36mpomegranate.distributions.MultivariateGaussianDistribution.from_summaries\u001b[0;34m()\u001b[0m\n",
      "\u001b[0;32m/usr/local/lib/python3.5/dist-packages/scipy/linalg/decomp_cholesky.py\u001b[0m in \u001b[0;36mcholesky\u001b[0;34m(a, lower, overwrite_a, check_finite)\u001b[0m\n\u001b[1;32m     80\u001b[0m     c, lower = _cholesky(a, lower=lower, overwrite_a=overwrite_a, clean=True,\n\u001b[0;32m---> 81\u001b[0;31m                             check_finite=check_finite)\n\u001b[0m\u001b[1;32m     82\u001b[0m     \u001b[0;32mreturn\u001b[0m \u001b[0mc\u001b[0m\u001b[0;34m\u001b[0m\u001b[0m\n",
      "\u001b[0;32m/usr/local/lib/python3.5/dist-packages/scipy/linalg/decomp_cholesky.py\u001b[0m in \u001b[0;36m_cholesky\u001b[0;34m(a, lower, overwrite_a, clean, check_finite)\u001b[0m\n\u001b[1;32m     29\u001b[0m     \u001b[0;32mif\u001b[0m \u001b[0minfo\u001b[0m \u001b[0;34m>\u001b[0m \u001b[0;36m0\u001b[0m\u001b[0;34m:\u001b[0m\u001b[0;34m\u001b[0m\u001b[0m\n\u001b[0;32m---> 30\u001b[0;31m         \u001b[0;32mraise\u001b[0m \u001b[0mLinAlgError\u001b[0m\u001b[0;34m(\u001b[0m\u001b[0;34m\"%d-th leading minor not positive definite\"\u001b[0m \u001b[0;34m%\u001b[0m \u001b[0minfo\u001b[0m\u001b[0;34m)\u001b[0m\u001b[0;34m\u001b[0m\u001b[0m\n\u001b[0m\u001b[1;32m     31\u001b[0m     \u001b[0;32mif\u001b[0m \u001b[0minfo\u001b[0m \u001b[0;34m<\u001b[0m \u001b[0;36m0\u001b[0m\u001b[0;34m:\u001b[0m\u001b[0;34m\u001b[0m\u001b[0m\n",
      "\u001b[0;31mLinAlgError\u001b[0m: 23-th leading minor not positive definite",
      "\nDuring handling of the above exception, another exception occurred:\n",
      "\u001b[0;31mTypeError\u001b[0m                                 Traceback (most recent call last)",
      "\u001b[0;32mpomegranate/bayes.pyx\u001b[0m in \u001b[0;36mpomegranate.bayes.BayesModel.from_summaries\u001b[0;34m()\u001b[0m\n",
      "\u001b[0;32mpomegranate/distributions.pyx\u001b[0m in \u001b[0;36mpomegranate.distributions.MultivariateGaussianDistribution.from_summaries\u001b[0;34m()\u001b[0m\n",
      "\u001b[0;31mTypeError\u001b[0m: Cannot cast ufunc subtract output from dtype('complex128') to dtype('float64') with casting rule 'same_kind'"
     ]
    },
    {
     "name": "stderr",
     "output_type": "stream",
     "text": [
      "Exception ignored in: 'pomegranate.hmm.HiddenMarkovModel._from_summaries'\n",
      "Traceback (most recent call last):\n",
      "  File \"pomegranate/bayes.pyx\", line 710, in pomegranate.bayes.BayesModel.from_summaries\n",
      "  File \"pomegranate/distributions.pyx\", line 2259, in pomegranate.distributions.MultivariateGaussianDistribution.from_summaries\n",
      "TypeError: Cannot cast ufunc subtract output from dtype('complex128') to dtype('float64') with casting rule 'same_kind'\n"
     ]
    },
    {
     "name": "stdout",
     "output_type": "stream",
     "text": [
      "[3] Improvement: 2.783811260247603\tTime (s): 530.9\n"
     ]
    },
    {
     "ename": "TypeError",
     "evalue": "Cannot cast ufunc subtract output from dtype('complex128') to dtype('float64') with casting rule 'same_kind'",
     "output_type": "error",
     "traceback": [
      "\u001b[0;31m---------------------------------------------------------------------------\u001b[0m",
      "\u001b[0;31mLinAlgError\u001b[0m                               Traceback (most recent call last)",
      "\u001b[0;32mpomegranate/distributions.pyx\u001b[0m in \u001b[0;36mpomegranate.distributions.MultivariateGaussianDistribution.from_summaries\u001b[0;34m()\u001b[0m\n",
      "\u001b[0;32m/usr/local/lib/python3.5/dist-packages/scipy/linalg/decomp_cholesky.py\u001b[0m in \u001b[0;36mcholesky\u001b[0;34m(a, lower, overwrite_a, check_finite)\u001b[0m\n\u001b[1;32m     80\u001b[0m     c, lower = _cholesky(a, lower=lower, overwrite_a=overwrite_a, clean=True,\n\u001b[0;32m---> 81\u001b[0;31m                             check_finite=check_finite)\n\u001b[0m\u001b[1;32m     82\u001b[0m     \u001b[0;32mreturn\u001b[0m \u001b[0mc\u001b[0m\u001b[0;34m\u001b[0m\u001b[0m\n",
      "\u001b[0;32m/usr/local/lib/python3.5/dist-packages/scipy/linalg/decomp_cholesky.py\u001b[0m in \u001b[0;36m_cholesky\u001b[0;34m(a, lower, overwrite_a, clean, check_finite)\u001b[0m\n\u001b[1;32m     29\u001b[0m     \u001b[0;32mif\u001b[0m \u001b[0minfo\u001b[0m \u001b[0;34m>\u001b[0m \u001b[0;36m0\u001b[0m\u001b[0;34m:\u001b[0m\u001b[0;34m\u001b[0m\u001b[0m\n\u001b[0;32m---> 30\u001b[0;31m         \u001b[0;32mraise\u001b[0m \u001b[0mLinAlgError\u001b[0m\u001b[0;34m(\u001b[0m\u001b[0;34m\"%d-th leading minor not positive definite\"\u001b[0m \u001b[0;34m%\u001b[0m \u001b[0minfo\u001b[0m\u001b[0;34m)\u001b[0m\u001b[0;34m\u001b[0m\u001b[0m\n\u001b[0m\u001b[1;32m     31\u001b[0m     \u001b[0;32mif\u001b[0m \u001b[0minfo\u001b[0m \u001b[0;34m<\u001b[0m \u001b[0;36m0\u001b[0m\u001b[0;34m:\u001b[0m\u001b[0;34m\u001b[0m\u001b[0m\n",
      "\u001b[0;31mLinAlgError\u001b[0m: 23-th leading minor not positive definite",
      "\nDuring handling of the above exception, another exception occurred:\n",
      "\u001b[0;31mTypeError\u001b[0m                                 Traceback (most recent call last)",
      "\u001b[0;32mpomegranate/bayes.pyx\u001b[0m in \u001b[0;36mpomegranate.bayes.BayesModel.from_summaries\u001b[0;34m()\u001b[0m\n",
      "\u001b[0;32mpomegranate/distributions.pyx\u001b[0m in \u001b[0;36mpomegranate.distributions.MultivariateGaussianDistribution.from_summaries\u001b[0;34m()\u001b[0m\n",
      "\u001b[0;31mTypeError\u001b[0m: Cannot cast ufunc subtract output from dtype('complex128') to dtype('float64') with casting rule 'same_kind'"
     ]
    },
    {
     "name": "stderr",
     "output_type": "stream",
     "text": [
      "Exception ignored in: 'pomegranate.hmm.HiddenMarkovModel._from_summaries'\n",
      "Traceback (most recent call last):\n",
      "  File \"pomegranate/bayes.pyx\", line 710, in pomegranate.bayes.BayesModel.from_summaries\n",
      "  File \"pomegranate/distributions.pyx\", line 2259, in pomegranate.distributions.MultivariateGaussianDistribution.from_summaries\n",
      "TypeError: Cannot cast ufunc subtract output from dtype('complex128') to dtype('float64') with casting rule 'same_kind'\n"
     ]
    },
    {
     "name": "stdout",
     "output_type": "stream",
     "text": [
      "[4] Improvement: 7.239276696462184\tTime (s): 530.8\n"
     ]
    },
    {
     "ename": "TypeError",
     "evalue": "Cannot cast ufunc subtract output from dtype('complex128') to dtype('float64') with casting rule 'same_kind'",
     "output_type": "error",
     "traceback": [
      "\u001b[0;31m---------------------------------------------------------------------------\u001b[0m",
      "\u001b[0;31mLinAlgError\u001b[0m                               Traceback (most recent call last)",
      "\u001b[0;32mpomegranate/distributions.pyx\u001b[0m in \u001b[0;36mpomegranate.distributions.MultivariateGaussianDistribution.from_summaries\u001b[0;34m()\u001b[0m\n",
      "\u001b[0;32m/usr/local/lib/python3.5/dist-packages/scipy/linalg/decomp_cholesky.py\u001b[0m in \u001b[0;36mcholesky\u001b[0;34m(a, lower, overwrite_a, check_finite)\u001b[0m\n\u001b[1;32m     80\u001b[0m     c, lower = _cholesky(a, lower=lower, overwrite_a=overwrite_a, clean=True,\n\u001b[0;32m---> 81\u001b[0;31m                             check_finite=check_finite)\n\u001b[0m\u001b[1;32m     82\u001b[0m     \u001b[0;32mreturn\u001b[0m \u001b[0mc\u001b[0m\u001b[0;34m\u001b[0m\u001b[0m\n",
      "\u001b[0;32m/usr/local/lib/python3.5/dist-packages/scipy/linalg/decomp_cholesky.py\u001b[0m in \u001b[0;36m_cholesky\u001b[0;34m(a, lower, overwrite_a, clean, check_finite)\u001b[0m\n\u001b[1;32m     29\u001b[0m     \u001b[0;32mif\u001b[0m \u001b[0minfo\u001b[0m \u001b[0;34m>\u001b[0m \u001b[0;36m0\u001b[0m\u001b[0;34m:\u001b[0m\u001b[0;34m\u001b[0m\u001b[0m\n\u001b[0;32m---> 30\u001b[0;31m         \u001b[0;32mraise\u001b[0m \u001b[0mLinAlgError\u001b[0m\u001b[0;34m(\u001b[0m\u001b[0;34m\"%d-th leading minor not positive definite\"\u001b[0m \u001b[0;34m%\u001b[0m \u001b[0minfo\u001b[0m\u001b[0;34m)\u001b[0m\u001b[0;34m\u001b[0m\u001b[0m\n\u001b[0m\u001b[1;32m     31\u001b[0m     \u001b[0;32mif\u001b[0m \u001b[0minfo\u001b[0m \u001b[0;34m<\u001b[0m \u001b[0;36m0\u001b[0m\u001b[0;34m:\u001b[0m\u001b[0;34m\u001b[0m\u001b[0m\n",
      "\u001b[0;31mLinAlgError\u001b[0m: 23-th leading minor not positive definite",
      "\nDuring handling of the above exception, another exception occurred:\n",
      "\u001b[0;31mTypeError\u001b[0m                                 Traceback (most recent call last)",
      "\u001b[0;32mpomegranate/bayes.pyx\u001b[0m in \u001b[0;36mpomegranate.bayes.BayesModel.from_summaries\u001b[0;34m()\u001b[0m\n",
      "\u001b[0;32mpomegranate/distributions.pyx\u001b[0m in \u001b[0;36mpomegranate.distributions.MultivariateGaussianDistribution.from_summaries\u001b[0;34m()\u001b[0m\n",
      "\u001b[0;31mTypeError\u001b[0m: Cannot cast ufunc subtract output from dtype('complex128') to dtype('float64') with casting rule 'same_kind'"
     ]
    },
    {
     "name": "stderr",
     "output_type": "stream",
     "text": [
      "Exception ignored in: 'pomegranate.hmm.HiddenMarkovModel._from_summaries'\n",
      "Traceback (most recent call last):\n",
      "  File \"pomegranate/bayes.pyx\", line 710, in pomegranate.bayes.BayesModel.from_summaries\n",
      "  File \"pomegranate/distributions.pyx\", line 2259, in pomegranate.distributions.MultivariateGaussianDistribution.from_summaries\n",
      "TypeError: Cannot cast ufunc subtract output from dtype('complex128') to dtype('float64') with casting rule 'same_kind'\n"
     ]
    },
    {
     "name": "stdout",
     "output_type": "stream",
     "text": [
      "[5] Improvement: 3.898073144024238\tTime (s): 516.5\n"
     ]
    },
    {
     "ename": "TypeError",
     "evalue": "Cannot cast ufunc subtract output from dtype('complex128') to dtype('float64') with casting rule 'same_kind'",
     "output_type": "error",
     "traceback": [
      "\u001b[0;31m---------------------------------------------------------------------------\u001b[0m",
      "\u001b[0;31mLinAlgError\u001b[0m                               Traceback (most recent call last)",
      "\u001b[0;32mpomegranate/distributions.pyx\u001b[0m in \u001b[0;36mpomegranate.distributions.MultivariateGaussianDistribution.from_summaries\u001b[0;34m()\u001b[0m\n",
      "\u001b[0;32m/usr/local/lib/python3.5/dist-packages/scipy/linalg/decomp_cholesky.py\u001b[0m in \u001b[0;36mcholesky\u001b[0;34m(a, lower, overwrite_a, check_finite)\u001b[0m\n\u001b[1;32m     80\u001b[0m     c, lower = _cholesky(a, lower=lower, overwrite_a=overwrite_a, clean=True,\n\u001b[0;32m---> 81\u001b[0;31m                             check_finite=check_finite)\n\u001b[0m\u001b[1;32m     82\u001b[0m     \u001b[0;32mreturn\u001b[0m \u001b[0mc\u001b[0m\u001b[0;34m\u001b[0m\u001b[0m\n",
      "\u001b[0;32m/usr/local/lib/python3.5/dist-packages/scipy/linalg/decomp_cholesky.py\u001b[0m in \u001b[0;36m_cholesky\u001b[0;34m(a, lower, overwrite_a, clean, check_finite)\u001b[0m\n\u001b[1;32m     29\u001b[0m     \u001b[0;32mif\u001b[0m \u001b[0minfo\u001b[0m \u001b[0;34m>\u001b[0m \u001b[0;36m0\u001b[0m\u001b[0;34m:\u001b[0m\u001b[0;34m\u001b[0m\u001b[0m\n\u001b[0;32m---> 30\u001b[0;31m         \u001b[0;32mraise\u001b[0m \u001b[0mLinAlgError\u001b[0m\u001b[0;34m(\u001b[0m\u001b[0;34m\"%d-th leading minor not positive definite\"\u001b[0m \u001b[0;34m%\u001b[0m \u001b[0minfo\u001b[0m\u001b[0;34m)\u001b[0m\u001b[0;34m\u001b[0m\u001b[0m\n\u001b[0m\u001b[1;32m     31\u001b[0m     \u001b[0;32mif\u001b[0m \u001b[0minfo\u001b[0m \u001b[0;34m<\u001b[0m \u001b[0;36m0\u001b[0m\u001b[0;34m:\u001b[0m\u001b[0;34m\u001b[0m\u001b[0m\n",
      "\u001b[0;31mLinAlgError\u001b[0m: 23-th leading minor not positive definite",
      "\nDuring handling of the above exception, another exception occurred:\n",
      "\u001b[0;31mTypeError\u001b[0m                                 Traceback (most recent call last)",
      "\u001b[0;32mpomegranate/bayes.pyx\u001b[0m in \u001b[0;36mpomegranate.bayes.BayesModel.from_summaries\u001b[0;34m()\u001b[0m\n",
      "\u001b[0;32mpomegranate/distributions.pyx\u001b[0m in \u001b[0;36mpomegranate.distributions.MultivariateGaussianDistribution.from_summaries\u001b[0;34m()\u001b[0m\n",
      "\u001b[0;31mTypeError\u001b[0m: Cannot cast ufunc subtract output from dtype('complex128') to dtype('float64') with casting rule 'same_kind'"
     ]
    },
    {
     "name": "stderr",
     "output_type": "stream",
     "text": [
      "Exception ignored in: 'pomegranate.hmm.HiddenMarkovModel._from_summaries'\n",
      "Traceback (most recent call last):\n",
      "  File \"pomegranate/bayes.pyx\", line 710, in pomegranate.bayes.BayesModel.from_summaries\n",
      "  File \"pomegranate/distributions.pyx\", line 2259, in pomegranate.distributions.MultivariateGaussianDistribution.from_summaries\n",
      "TypeError: Cannot cast ufunc subtract output from dtype('complex128') to dtype('float64') with casting rule 'same_kind'\n"
     ]
    },
    {
     "name": "stdout",
     "output_type": "stream",
     "text": [
      "[6] Improvement: 0.22262321808375418\tTime (s): 530.8\n"
     ]
    },
    {
     "ename": "TypeError",
     "evalue": "Cannot cast ufunc subtract output from dtype('complex128') to dtype('float64') with casting rule 'same_kind'",
     "output_type": "error",
     "traceback": [
      "\u001b[0;31m---------------------------------------------------------------------------\u001b[0m",
      "\u001b[0;31mLinAlgError\u001b[0m                               Traceback (most recent call last)",
      "\u001b[0;32mpomegranate/distributions.pyx\u001b[0m in \u001b[0;36mpomegranate.distributions.MultivariateGaussianDistribution.from_summaries\u001b[0;34m()\u001b[0m\n",
      "\u001b[0;32m/usr/local/lib/python3.5/dist-packages/scipy/linalg/decomp_cholesky.py\u001b[0m in \u001b[0;36mcholesky\u001b[0;34m(a, lower, overwrite_a, check_finite)\u001b[0m\n\u001b[1;32m     80\u001b[0m     c, lower = _cholesky(a, lower=lower, overwrite_a=overwrite_a, clean=True,\n\u001b[0;32m---> 81\u001b[0;31m                             check_finite=check_finite)\n\u001b[0m\u001b[1;32m     82\u001b[0m     \u001b[0;32mreturn\u001b[0m \u001b[0mc\u001b[0m\u001b[0;34m\u001b[0m\u001b[0m\n",
      "\u001b[0;32m/usr/local/lib/python3.5/dist-packages/scipy/linalg/decomp_cholesky.py\u001b[0m in \u001b[0;36m_cholesky\u001b[0;34m(a, lower, overwrite_a, clean, check_finite)\u001b[0m\n\u001b[1;32m     29\u001b[0m     \u001b[0;32mif\u001b[0m \u001b[0minfo\u001b[0m \u001b[0;34m>\u001b[0m \u001b[0;36m0\u001b[0m\u001b[0;34m:\u001b[0m\u001b[0;34m\u001b[0m\u001b[0m\n\u001b[0;32m---> 30\u001b[0;31m         \u001b[0;32mraise\u001b[0m \u001b[0mLinAlgError\u001b[0m\u001b[0;34m(\u001b[0m\u001b[0;34m\"%d-th leading minor not positive definite\"\u001b[0m \u001b[0;34m%\u001b[0m \u001b[0minfo\u001b[0m\u001b[0;34m)\u001b[0m\u001b[0;34m\u001b[0m\u001b[0m\n\u001b[0m\u001b[1;32m     31\u001b[0m     \u001b[0;32mif\u001b[0m \u001b[0minfo\u001b[0m \u001b[0;34m<\u001b[0m \u001b[0;36m0\u001b[0m\u001b[0;34m:\u001b[0m\u001b[0;34m\u001b[0m\u001b[0m\n",
      "\u001b[0;31mLinAlgError\u001b[0m: 23-th leading minor not positive definite",
      "\nDuring handling of the above exception, another exception occurred:\n",
      "\u001b[0;31mTypeError\u001b[0m                                 Traceback (most recent call last)",
      "\u001b[0;32mpomegranate/bayes.pyx\u001b[0m in \u001b[0;36mpomegranate.bayes.BayesModel.from_summaries\u001b[0;34m()\u001b[0m\n",
      "\u001b[0;32mpomegranate/distributions.pyx\u001b[0m in \u001b[0;36mpomegranate.distributions.MultivariateGaussianDistribution.from_summaries\u001b[0;34m()\u001b[0m\n",
      "\u001b[0;31mTypeError\u001b[0m: Cannot cast ufunc subtract output from dtype('complex128') to dtype('float64') with casting rule 'same_kind'"
     ]
    },
    {
     "name": "stderr",
     "output_type": "stream",
     "text": [
      "Exception ignored in: 'pomegranate.hmm.HiddenMarkovModel._from_summaries'\n",
      "Traceback (most recent call last):\n",
      "  File \"pomegranate/bayes.pyx\", line 710, in pomegranate.bayes.BayesModel.from_summaries\n",
      "  File \"pomegranate/distributions.pyx\", line 2259, in pomegranate.distributions.MultivariateGaussianDistribution.from_summaries\n",
      "TypeError: Cannot cast ufunc subtract output from dtype('complex128') to dtype('float64') with casting rule 'same_kind'\n"
     ]
    },
    {
     "name": "stdout",
     "output_type": "stream",
     "text": [
      "[7] Improvement: 0.10438551963306963\tTime (s): 532.6\n"
     ]
    },
    {
     "ename": "TypeError",
     "evalue": "Cannot cast ufunc subtract output from dtype('complex128') to dtype('float64') with casting rule 'same_kind'",
     "output_type": "error",
     "traceback": [
      "\u001b[0;31m---------------------------------------------------------------------------\u001b[0m",
      "\u001b[0;31mLinAlgError\u001b[0m                               Traceback (most recent call last)",
      "\u001b[0;32mpomegranate/distributions.pyx\u001b[0m in \u001b[0;36mpomegranate.distributions.MultivariateGaussianDistribution.from_summaries\u001b[0;34m()\u001b[0m\n",
      "\u001b[0;32m/usr/local/lib/python3.5/dist-packages/scipy/linalg/decomp_cholesky.py\u001b[0m in \u001b[0;36mcholesky\u001b[0;34m(a, lower, overwrite_a, check_finite)\u001b[0m\n\u001b[1;32m     80\u001b[0m     c, lower = _cholesky(a, lower=lower, overwrite_a=overwrite_a, clean=True,\n\u001b[0;32m---> 81\u001b[0;31m                             check_finite=check_finite)\n\u001b[0m\u001b[1;32m     82\u001b[0m     \u001b[0;32mreturn\u001b[0m \u001b[0mc\u001b[0m\u001b[0;34m\u001b[0m\u001b[0m\n",
      "\u001b[0;32m/usr/local/lib/python3.5/dist-packages/scipy/linalg/decomp_cholesky.py\u001b[0m in \u001b[0;36m_cholesky\u001b[0;34m(a, lower, overwrite_a, clean, check_finite)\u001b[0m\n\u001b[1;32m     29\u001b[0m     \u001b[0;32mif\u001b[0m \u001b[0minfo\u001b[0m \u001b[0;34m>\u001b[0m \u001b[0;36m0\u001b[0m\u001b[0;34m:\u001b[0m\u001b[0;34m\u001b[0m\u001b[0m\n\u001b[0;32m---> 30\u001b[0;31m         \u001b[0;32mraise\u001b[0m \u001b[0mLinAlgError\u001b[0m\u001b[0;34m(\u001b[0m\u001b[0;34m\"%d-th leading minor not positive definite\"\u001b[0m \u001b[0;34m%\u001b[0m \u001b[0minfo\u001b[0m\u001b[0;34m)\u001b[0m\u001b[0;34m\u001b[0m\u001b[0m\n\u001b[0m\u001b[1;32m     31\u001b[0m     \u001b[0;32mif\u001b[0m \u001b[0minfo\u001b[0m \u001b[0;34m<\u001b[0m \u001b[0;36m0\u001b[0m\u001b[0;34m:\u001b[0m\u001b[0;34m\u001b[0m\u001b[0m\n",
      "\u001b[0;31mLinAlgError\u001b[0m: 23-th leading minor not positive definite",
      "\nDuring handling of the above exception, another exception occurred:\n",
      "\u001b[0;31mTypeError\u001b[0m                                 Traceback (most recent call last)",
      "\u001b[0;32mpomegranate/bayes.pyx\u001b[0m in \u001b[0;36mpomegranate.bayes.BayesModel.from_summaries\u001b[0;34m()\u001b[0m\n",
      "\u001b[0;32mpomegranate/distributions.pyx\u001b[0m in \u001b[0;36mpomegranate.distributions.MultivariateGaussianDistribution.from_summaries\u001b[0;34m()\u001b[0m\n",
      "\u001b[0;31mTypeError\u001b[0m: Cannot cast ufunc subtract output from dtype('complex128') to dtype('float64') with casting rule 'same_kind'"
     ]
    },
    {
     "name": "stderr",
     "output_type": "stream",
     "text": [
      "Exception ignored in: 'pomegranate.hmm.HiddenMarkovModel._from_summaries'\n",
      "Traceback (most recent call last):\n",
      "  File \"pomegranate/bayes.pyx\", line 710, in pomegranate.bayes.BayesModel.from_summaries\n",
      "  File \"pomegranate/distributions.pyx\", line 2259, in pomegranate.distributions.MultivariateGaussianDistribution.from_summaries\n",
      "TypeError: Cannot cast ufunc subtract output from dtype('complex128') to dtype('float64') with casting rule 'same_kind'\n"
     ]
    },
    {
     "name": "stdout",
     "output_type": "stream",
     "text": [
      "[8] Improvement: 0.14116176054812968\tTime (s): 528.2\n"
     ]
    },
    {
     "ename": "TypeError",
     "evalue": "Cannot cast ufunc subtract output from dtype('complex128') to dtype('float64') with casting rule 'same_kind'",
     "output_type": "error",
     "traceback": [
      "\u001b[0;31m---------------------------------------------------------------------------\u001b[0m",
      "\u001b[0;31mLinAlgError\u001b[0m                               Traceback (most recent call last)",
      "\u001b[0;32mpomegranate/distributions.pyx\u001b[0m in \u001b[0;36mpomegranate.distributions.MultivariateGaussianDistribution.from_summaries\u001b[0;34m()\u001b[0m\n",
      "\u001b[0;32m/usr/local/lib/python3.5/dist-packages/scipy/linalg/decomp_cholesky.py\u001b[0m in \u001b[0;36mcholesky\u001b[0;34m(a, lower, overwrite_a, check_finite)\u001b[0m\n\u001b[1;32m     80\u001b[0m     c, lower = _cholesky(a, lower=lower, overwrite_a=overwrite_a, clean=True,\n\u001b[0;32m---> 81\u001b[0;31m                             check_finite=check_finite)\n\u001b[0m\u001b[1;32m     82\u001b[0m     \u001b[0;32mreturn\u001b[0m \u001b[0mc\u001b[0m\u001b[0;34m\u001b[0m\u001b[0m\n",
      "\u001b[0;32m/usr/local/lib/python3.5/dist-packages/scipy/linalg/decomp_cholesky.py\u001b[0m in \u001b[0;36m_cholesky\u001b[0;34m(a, lower, overwrite_a, clean, check_finite)\u001b[0m\n\u001b[1;32m     29\u001b[0m     \u001b[0;32mif\u001b[0m \u001b[0minfo\u001b[0m \u001b[0;34m>\u001b[0m \u001b[0;36m0\u001b[0m\u001b[0;34m:\u001b[0m\u001b[0;34m\u001b[0m\u001b[0m\n\u001b[0;32m---> 30\u001b[0;31m         \u001b[0;32mraise\u001b[0m \u001b[0mLinAlgError\u001b[0m\u001b[0;34m(\u001b[0m\u001b[0;34m\"%d-th leading minor not positive definite\"\u001b[0m \u001b[0;34m%\u001b[0m \u001b[0minfo\u001b[0m\u001b[0;34m)\u001b[0m\u001b[0;34m\u001b[0m\u001b[0m\n\u001b[0m\u001b[1;32m     31\u001b[0m     \u001b[0;32mif\u001b[0m \u001b[0minfo\u001b[0m \u001b[0;34m<\u001b[0m \u001b[0;36m0\u001b[0m\u001b[0;34m:\u001b[0m\u001b[0;34m\u001b[0m\u001b[0m\n",
      "\u001b[0;31mLinAlgError\u001b[0m: 23-th leading minor not positive definite",
      "\nDuring handling of the above exception, another exception occurred:\n",
      "\u001b[0;31mTypeError\u001b[0m                                 Traceback (most recent call last)",
      "\u001b[0;32mpomegranate/bayes.pyx\u001b[0m in \u001b[0;36mpomegranate.bayes.BayesModel.from_summaries\u001b[0;34m()\u001b[0m\n",
      "\u001b[0;32mpomegranate/distributions.pyx\u001b[0m in \u001b[0;36mpomegranate.distributions.MultivariateGaussianDistribution.from_summaries\u001b[0;34m()\u001b[0m\n",
      "\u001b[0;31mTypeError\u001b[0m: Cannot cast ufunc subtract output from dtype('complex128') to dtype('float64') with casting rule 'same_kind'"
     ]
    },
    {
     "name": "stderr",
     "output_type": "stream",
     "text": [
      "Exception ignored in: 'pomegranate.hmm.HiddenMarkovModel._from_summaries'\n",
      "Traceback (most recent call last):\n",
      "  File \"pomegranate/bayes.pyx\", line 710, in pomegranate.bayes.BayesModel.from_summaries\n",
      "  File \"pomegranate/distributions.pyx\", line 2259, in pomegranate.distributions.MultivariateGaussianDistribution.from_summaries\n",
      "TypeError: Cannot cast ufunc subtract output from dtype('complex128') to dtype('float64') with casting rule 'same_kind'\n"
     ]
    },
    {
     "name": "stdout",
     "output_type": "stream",
     "text": [
      "[9] Improvement: 0.3834380640182644\tTime (s): 537.4\n"
     ]
    },
    {
     "ename": "TypeError",
     "evalue": "Cannot cast ufunc subtract output from dtype('complex128') to dtype('float64') with casting rule 'same_kind'",
     "output_type": "error",
     "traceback": [
      "\u001b[0;31m---------------------------------------------------------------------------\u001b[0m",
      "\u001b[0;31mLinAlgError\u001b[0m                               Traceback (most recent call last)",
      "\u001b[0;32mpomegranate/distributions.pyx\u001b[0m in \u001b[0;36mpomegranate.distributions.MultivariateGaussianDistribution.from_summaries\u001b[0;34m()\u001b[0m\n",
      "\u001b[0;32m/usr/local/lib/python3.5/dist-packages/scipy/linalg/decomp_cholesky.py\u001b[0m in \u001b[0;36mcholesky\u001b[0;34m(a, lower, overwrite_a, check_finite)\u001b[0m\n\u001b[1;32m     80\u001b[0m     c, lower = _cholesky(a, lower=lower, overwrite_a=overwrite_a, clean=True,\n\u001b[0;32m---> 81\u001b[0;31m                             check_finite=check_finite)\n\u001b[0m\u001b[1;32m     82\u001b[0m     \u001b[0;32mreturn\u001b[0m \u001b[0mc\u001b[0m\u001b[0;34m\u001b[0m\u001b[0m\n",
      "\u001b[0;32m/usr/local/lib/python3.5/dist-packages/scipy/linalg/decomp_cholesky.py\u001b[0m in \u001b[0;36m_cholesky\u001b[0;34m(a, lower, overwrite_a, clean, check_finite)\u001b[0m\n\u001b[1;32m     29\u001b[0m     \u001b[0;32mif\u001b[0m \u001b[0minfo\u001b[0m \u001b[0;34m>\u001b[0m \u001b[0;36m0\u001b[0m\u001b[0;34m:\u001b[0m\u001b[0;34m\u001b[0m\u001b[0m\n\u001b[0;32m---> 30\u001b[0;31m         \u001b[0;32mraise\u001b[0m \u001b[0mLinAlgError\u001b[0m\u001b[0;34m(\u001b[0m\u001b[0;34m\"%d-th leading minor not positive definite\"\u001b[0m \u001b[0;34m%\u001b[0m \u001b[0minfo\u001b[0m\u001b[0;34m)\u001b[0m\u001b[0;34m\u001b[0m\u001b[0m\n\u001b[0m\u001b[1;32m     31\u001b[0m     \u001b[0;32mif\u001b[0m \u001b[0minfo\u001b[0m \u001b[0;34m<\u001b[0m \u001b[0;36m0\u001b[0m\u001b[0;34m:\u001b[0m\u001b[0;34m\u001b[0m\u001b[0m\n",
      "\u001b[0;31mLinAlgError\u001b[0m: 27-th leading minor not positive definite",
      "\nDuring handling of the above exception, another exception occurred:\n",
      "\u001b[0;31mTypeError\u001b[0m                                 Traceback (most recent call last)",
      "\u001b[0;32mpomegranate/bayes.pyx\u001b[0m in \u001b[0;36mpomegranate.bayes.BayesModel.from_summaries\u001b[0;34m()\u001b[0m\n",
      "\u001b[0;32mpomegranate/distributions.pyx\u001b[0m in \u001b[0;36mpomegranate.distributions.MultivariateGaussianDistribution.from_summaries\u001b[0;34m()\u001b[0m\n",
      "\u001b[0;31mTypeError\u001b[0m: Cannot cast ufunc subtract output from dtype('complex128') to dtype('float64') with casting rule 'same_kind'"
     ]
    },
    {
     "name": "stderr",
     "output_type": "stream",
     "text": [
      "Exception ignored in: 'pomegranate.hmm.HiddenMarkovModel._from_summaries'\n",
      "Traceback (most recent call last):\n",
      "  File \"pomegranate/bayes.pyx\", line 710, in pomegranate.bayes.BayesModel.from_summaries\n",
      "  File \"pomegranate/distributions.pyx\", line 2259, in pomegranate.distributions.MultivariateGaussianDistribution.from_summaries\n",
      "TypeError: Cannot cast ufunc subtract output from dtype('complex128') to dtype('float64') with casting rule 'same_kind'\n"
     ]
    },
    {
     "name": "stdout",
     "output_type": "stream",
     "text": [
      "[10] Improvement: 2261.235246648779\tTime (s): 535.2\n"
     ]
    },
    {
     "ename": "TypeError",
     "evalue": "Cannot cast ufunc subtract output from dtype('complex128') to dtype('float64') with casting rule 'same_kind'",
     "output_type": "error",
     "traceback": [
      "\u001b[0;31m---------------------------------------------------------------------------\u001b[0m",
      "\u001b[0;31mLinAlgError\u001b[0m                               Traceback (most recent call last)",
      "\u001b[0;32mpomegranate/distributions.pyx\u001b[0m in \u001b[0;36mpomegranate.distributions.MultivariateGaussianDistribution.from_summaries\u001b[0;34m()\u001b[0m\n",
      "\u001b[0;32m/usr/local/lib/python3.5/dist-packages/scipy/linalg/decomp_cholesky.py\u001b[0m in \u001b[0;36mcholesky\u001b[0;34m(a, lower, overwrite_a, check_finite)\u001b[0m\n\u001b[1;32m     80\u001b[0m     c, lower = _cholesky(a, lower=lower, overwrite_a=overwrite_a, clean=True,\n\u001b[0;32m---> 81\u001b[0;31m                             check_finite=check_finite)\n\u001b[0m\u001b[1;32m     82\u001b[0m     \u001b[0;32mreturn\u001b[0m \u001b[0mc\u001b[0m\u001b[0;34m\u001b[0m\u001b[0m\n",
      "\u001b[0;32m/usr/local/lib/python3.5/dist-packages/scipy/linalg/decomp_cholesky.py\u001b[0m in \u001b[0;36m_cholesky\u001b[0;34m(a, lower, overwrite_a, clean, check_finite)\u001b[0m\n\u001b[1;32m     29\u001b[0m     \u001b[0;32mif\u001b[0m \u001b[0minfo\u001b[0m \u001b[0;34m>\u001b[0m \u001b[0;36m0\u001b[0m\u001b[0;34m:\u001b[0m\u001b[0;34m\u001b[0m\u001b[0m\n\u001b[0;32m---> 30\u001b[0;31m         \u001b[0;32mraise\u001b[0m \u001b[0mLinAlgError\u001b[0m\u001b[0;34m(\u001b[0m\u001b[0;34m\"%d-th leading minor not positive definite\"\u001b[0m \u001b[0;34m%\u001b[0m \u001b[0minfo\u001b[0m\u001b[0;34m)\u001b[0m\u001b[0;34m\u001b[0m\u001b[0m\n\u001b[0m\u001b[1;32m     31\u001b[0m     \u001b[0;32mif\u001b[0m \u001b[0minfo\u001b[0m \u001b[0;34m<\u001b[0m \u001b[0;36m0\u001b[0m\u001b[0;34m:\u001b[0m\u001b[0;34m\u001b[0m\u001b[0m\n",
      "\u001b[0;31mLinAlgError\u001b[0m: 22-th leading minor not positive definite",
      "\nDuring handling of the above exception, another exception occurred:\n",
      "\u001b[0;31mTypeError\u001b[0m                                 Traceback (most recent call last)",
      "\u001b[0;32mpomegranate/bayes.pyx\u001b[0m in \u001b[0;36mpomegranate.bayes.BayesModel.from_summaries\u001b[0;34m()\u001b[0m\n",
      "\u001b[0;32mpomegranate/distributions.pyx\u001b[0m in \u001b[0;36mpomegranate.distributions.MultivariateGaussianDistribution.from_summaries\u001b[0;34m()\u001b[0m\n",
      "\u001b[0;31mTypeError\u001b[0m: Cannot cast ufunc subtract output from dtype('complex128') to dtype('float64') with casting rule 'same_kind'"
     ]
    },
    {
     "name": "stderr",
     "output_type": "stream",
     "text": [
      "Exception ignored in: 'pomegranate.hmm.HiddenMarkovModel._from_summaries'\n",
      "Traceback (most recent call last):\n",
      "  File \"pomegranate/bayes.pyx\", line 710, in pomegranate.bayes.BayesModel.from_summaries\n",
      "  File \"pomegranate/distributions.pyx\", line 2259, in pomegranate.distributions.MultivariateGaussianDistribution.from_summaries\n",
      "TypeError: Cannot cast ufunc subtract output from dtype('complex128') to dtype('float64') with casting rule 'same_kind'\n"
     ]
    },
    {
     "name": "stdout",
     "output_type": "stream",
     "text": [
      "[11] Improvement: 0.40921230893582106\tTime (s): 537.9\n"
     ]
    },
    {
     "ename": "TypeError",
     "evalue": "Cannot cast ufunc subtract output from dtype('complex128') to dtype('float64') with casting rule 'same_kind'",
     "output_type": "error",
     "traceback": [
      "\u001b[0;31m---------------------------------------------------------------------------\u001b[0m",
      "\u001b[0;31mLinAlgError\u001b[0m                               Traceback (most recent call last)",
      "\u001b[0;32mpomegranate/distributions.pyx\u001b[0m in \u001b[0;36mpomegranate.distributions.MultivariateGaussianDistribution.from_summaries\u001b[0;34m()\u001b[0m\n",
      "\u001b[0;32m/usr/local/lib/python3.5/dist-packages/scipy/linalg/decomp_cholesky.py\u001b[0m in \u001b[0;36mcholesky\u001b[0;34m(a, lower, overwrite_a, check_finite)\u001b[0m\n\u001b[1;32m     80\u001b[0m     c, lower = _cholesky(a, lower=lower, overwrite_a=overwrite_a, clean=True,\n\u001b[0;32m---> 81\u001b[0;31m                             check_finite=check_finite)\n\u001b[0m\u001b[1;32m     82\u001b[0m     \u001b[0;32mreturn\u001b[0m \u001b[0mc\u001b[0m\u001b[0;34m\u001b[0m\u001b[0m\n",
      "\u001b[0;32m/usr/local/lib/python3.5/dist-packages/scipy/linalg/decomp_cholesky.py\u001b[0m in \u001b[0;36m_cholesky\u001b[0;34m(a, lower, overwrite_a, clean, check_finite)\u001b[0m\n\u001b[1;32m     29\u001b[0m     \u001b[0;32mif\u001b[0m \u001b[0minfo\u001b[0m \u001b[0;34m>\u001b[0m \u001b[0;36m0\u001b[0m\u001b[0;34m:\u001b[0m\u001b[0;34m\u001b[0m\u001b[0m\n\u001b[0;32m---> 30\u001b[0;31m         \u001b[0;32mraise\u001b[0m \u001b[0mLinAlgError\u001b[0m\u001b[0;34m(\u001b[0m\u001b[0;34m\"%d-th leading minor not positive definite\"\u001b[0m \u001b[0;34m%\u001b[0m \u001b[0minfo\u001b[0m\u001b[0;34m)\u001b[0m\u001b[0;34m\u001b[0m\u001b[0m\n\u001b[0m\u001b[1;32m     31\u001b[0m     \u001b[0;32mif\u001b[0m \u001b[0minfo\u001b[0m \u001b[0;34m<\u001b[0m \u001b[0;36m0\u001b[0m\u001b[0;34m:\u001b[0m\u001b[0;34m\u001b[0m\u001b[0m\n",
      "\u001b[0;31mLinAlgError\u001b[0m: 22-th leading minor not positive definite",
      "\nDuring handling of the above exception, another exception occurred:\n",
      "\u001b[0;31mTypeError\u001b[0m                                 Traceback (most recent call last)",
      "\u001b[0;32mpomegranate/bayes.pyx\u001b[0m in \u001b[0;36mpomegranate.bayes.BayesModel.from_summaries\u001b[0;34m()\u001b[0m\n",
      "\u001b[0;32mpomegranate/distributions.pyx\u001b[0m in \u001b[0;36mpomegranate.distributions.MultivariateGaussianDistribution.from_summaries\u001b[0;34m()\u001b[0m\n",
      "\u001b[0;31mTypeError\u001b[0m: Cannot cast ufunc subtract output from dtype('complex128') to dtype('float64') with casting rule 'same_kind'"
     ]
    },
    {
     "name": "stderr",
     "output_type": "stream",
     "text": [
      "Exception ignored in: 'pomegranate.hmm.HiddenMarkovModel._from_summaries'\n",
      "Traceback (most recent call last):\n",
      "  File \"pomegranate/bayes.pyx\", line 710, in pomegranate.bayes.BayesModel.from_summaries\n",
      "  File \"pomegranate/distributions.pyx\", line 2259, in pomegranate.distributions.MultivariateGaussianDistribution.from_summaries\n",
      "TypeError: Cannot cast ufunc subtract output from dtype('complex128') to dtype('float64') with casting rule 'same_kind'\n"
     ]
    },
    {
     "name": "stdout",
     "output_type": "stream",
     "text": [
      "[12] Improvement: 0.3671781518496573\tTime (s): 539.7\n"
     ]
    },
    {
     "ename": "TypeError",
     "evalue": "Cannot cast ufunc subtract output from dtype('complex128') to dtype('float64') with casting rule 'same_kind'",
     "output_type": "error",
     "traceback": [
      "\u001b[0;31m---------------------------------------------------------------------------\u001b[0m",
      "\u001b[0;31mLinAlgError\u001b[0m                               Traceback (most recent call last)",
      "\u001b[0;32mpomegranate/distributions.pyx\u001b[0m in \u001b[0;36mpomegranate.distributions.MultivariateGaussianDistribution.from_summaries\u001b[0;34m()\u001b[0m\n",
      "\u001b[0;32m/usr/local/lib/python3.5/dist-packages/scipy/linalg/decomp_cholesky.py\u001b[0m in \u001b[0;36mcholesky\u001b[0;34m(a, lower, overwrite_a, check_finite)\u001b[0m\n\u001b[1;32m     80\u001b[0m     c, lower = _cholesky(a, lower=lower, overwrite_a=overwrite_a, clean=True,\n\u001b[0;32m---> 81\u001b[0;31m                             check_finite=check_finite)\n\u001b[0m\u001b[1;32m     82\u001b[0m     \u001b[0;32mreturn\u001b[0m \u001b[0mc\u001b[0m\u001b[0;34m\u001b[0m\u001b[0m\n",
      "\u001b[0;32m/usr/local/lib/python3.5/dist-packages/scipy/linalg/decomp_cholesky.py\u001b[0m in \u001b[0;36m_cholesky\u001b[0;34m(a, lower, overwrite_a, clean, check_finite)\u001b[0m\n\u001b[1;32m     29\u001b[0m     \u001b[0;32mif\u001b[0m \u001b[0minfo\u001b[0m \u001b[0;34m>\u001b[0m \u001b[0;36m0\u001b[0m\u001b[0;34m:\u001b[0m\u001b[0;34m\u001b[0m\u001b[0m\n\u001b[0;32m---> 30\u001b[0;31m         \u001b[0;32mraise\u001b[0m \u001b[0mLinAlgError\u001b[0m\u001b[0;34m(\u001b[0m\u001b[0;34m\"%d-th leading minor not positive definite\"\u001b[0m \u001b[0;34m%\u001b[0m \u001b[0minfo\u001b[0m\u001b[0;34m)\u001b[0m\u001b[0;34m\u001b[0m\u001b[0m\n\u001b[0m\u001b[1;32m     31\u001b[0m     \u001b[0;32mif\u001b[0m \u001b[0minfo\u001b[0m \u001b[0;34m<\u001b[0m \u001b[0;36m0\u001b[0m\u001b[0;34m:\u001b[0m\u001b[0;34m\u001b[0m\u001b[0m\n",
      "\u001b[0;31mLinAlgError\u001b[0m: 24-th leading minor not positive definite",
      "\nDuring handling of the above exception, another exception occurred:\n",
      "\u001b[0;31mTypeError\u001b[0m                                 Traceback (most recent call last)",
      "\u001b[0;32mpomegranate/bayes.pyx\u001b[0m in \u001b[0;36mpomegranate.bayes.BayesModel.from_summaries\u001b[0;34m()\u001b[0m\n",
      "\u001b[0;32mpomegranate/distributions.pyx\u001b[0m in \u001b[0;36mpomegranate.distributions.MultivariateGaussianDistribution.from_summaries\u001b[0;34m()\u001b[0m\n",
      "\u001b[0;31mTypeError\u001b[0m: Cannot cast ufunc subtract output from dtype('complex128') to dtype('float64') with casting rule 'same_kind'"
     ]
    },
    {
     "name": "stderr",
     "output_type": "stream",
     "text": [
      "Exception ignored in: 'pomegranate.hmm.HiddenMarkovModel._from_summaries'\n",
      "Traceback (most recent call last):\n",
      "  File \"pomegranate/bayes.pyx\", line 710, in pomegranate.bayes.BayesModel.from_summaries\n",
      "  File \"pomegranate/distributions.pyx\", line 2259, in pomegranate.distributions.MultivariateGaussianDistribution.from_summaries\n",
      "TypeError: Cannot cast ufunc subtract output from dtype('complex128') to dtype('float64') with casting rule 'same_kind'\n"
     ]
    },
    {
     "name": "stdout",
     "output_type": "stream",
     "text": [
      "[13] Improvement: 1.550668956944719\tTime (s): 539.5\n"
     ]
    },
    {
     "ename": "TypeError",
     "evalue": "Cannot cast ufunc subtract output from dtype('complex128') to dtype('float64') with casting rule 'same_kind'",
     "output_type": "error",
     "traceback": [
      "\u001b[0;31m---------------------------------------------------------------------------\u001b[0m",
      "\u001b[0;31mLinAlgError\u001b[0m                               Traceback (most recent call last)",
      "\u001b[0;32mpomegranate/distributions.pyx\u001b[0m in \u001b[0;36mpomegranate.distributions.MultivariateGaussianDistribution.from_summaries\u001b[0;34m()\u001b[0m\n",
      "\u001b[0;32m/usr/local/lib/python3.5/dist-packages/scipy/linalg/decomp_cholesky.py\u001b[0m in \u001b[0;36mcholesky\u001b[0;34m(a, lower, overwrite_a, check_finite)\u001b[0m\n\u001b[1;32m     80\u001b[0m     c, lower = _cholesky(a, lower=lower, overwrite_a=overwrite_a, clean=True,\n\u001b[0;32m---> 81\u001b[0;31m                             check_finite=check_finite)\n\u001b[0m\u001b[1;32m     82\u001b[0m     \u001b[0;32mreturn\u001b[0m \u001b[0mc\u001b[0m\u001b[0;34m\u001b[0m\u001b[0m\n",
      "\u001b[0;32m/usr/local/lib/python3.5/dist-packages/scipy/linalg/decomp_cholesky.py\u001b[0m in \u001b[0;36m_cholesky\u001b[0;34m(a, lower, overwrite_a, clean, check_finite)\u001b[0m\n\u001b[1;32m     29\u001b[0m     \u001b[0;32mif\u001b[0m \u001b[0minfo\u001b[0m \u001b[0;34m>\u001b[0m \u001b[0;36m0\u001b[0m\u001b[0;34m:\u001b[0m\u001b[0;34m\u001b[0m\u001b[0m\n\u001b[0;32m---> 30\u001b[0;31m         \u001b[0;32mraise\u001b[0m \u001b[0mLinAlgError\u001b[0m\u001b[0;34m(\u001b[0m\u001b[0;34m\"%d-th leading minor not positive definite\"\u001b[0m \u001b[0;34m%\u001b[0m \u001b[0minfo\u001b[0m\u001b[0;34m)\u001b[0m\u001b[0;34m\u001b[0m\u001b[0m\n\u001b[0m\u001b[1;32m     31\u001b[0m     \u001b[0;32mif\u001b[0m \u001b[0minfo\u001b[0m \u001b[0;34m<\u001b[0m \u001b[0;36m0\u001b[0m\u001b[0;34m:\u001b[0m\u001b[0;34m\u001b[0m\u001b[0m\n",
      "\u001b[0;31mLinAlgError\u001b[0m: 24-th leading minor not positive definite",
      "\nDuring handling of the above exception, another exception occurred:\n",
      "\u001b[0;31mTypeError\u001b[0m                                 Traceback (most recent call last)",
      "\u001b[0;32mpomegranate/bayes.pyx\u001b[0m in \u001b[0;36mpomegranate.bayes.BayesModel.from_summaries\u001b[0;34m()\u001b[0m\n",
      "\u001b[0;32mpomegranate/distributions.pyx\u001b[0m in \u001b[0;36mpomegranate.distributions.MultivariateGaussianDistribution.from_summaries\u001b[0;34m()\u001b[0m\n",
      "\u001b[0;31mTypeError\u001b[0m: Cannot cast ufunc subtract output from dtype('complex128') to dtype('float64') with casting rule 'same_kind'"
     ]
    },
    {
     "name": "stderr",
     "output_type": "stream",
     "text": [
      "Exception ignored in: 'pomegranate.hmm.HiddenMarkovModel._from_summaries'\n",
      "Traceback (most recent call last):\n",
      "  File \"pomegranate/bayes.pyx\", line 710, in pomegranate.bayes.BayesModel.from_summaries\n",
      "  File \"pomegranate/distributions.pyx\", line 2259, in pomegranate.distributions.MultivariateGaussianDistribution.from_summaries\n",
      "TypeError: Cannot cast ufunc subtract output from dtype('complex128') to dtype('float64') with casting rule 'same_kind'\n"
     ]
    },
    {
     "name": "stdout",
     "output_type": "stream",
     "text": [
      "[14] Improvement: 6.940896178362891\tTime (s): 536.8\n"
     ]
    },
    {
     "ename": "TypeError",
     "evalue": "Cannot cast ufunc subtract output from dtype('complex128') to dtype('float64') with casting rule 'same_kind'",
     "output_type": "error",
     "traceback": [
      "\u001b[0;31m---------------------------------------------------------------------------\u001b[0m",
      "\u001b[0;31mLinAlgError\u001b[0m                               Traceback (most recent call last)",
      "\u001b[0;32mpomegranate/distributions.pyx\u001b[0m in \u001b[0;36mpomegranate.distributions.MultivariateGaussianDistribution.from_summaries\u001b[0;34m()\u001b[0m\n",
      "\u001b[0;32m/usr/local/lib/python3.5/dist-packages/scipy/linalg/decomp_cholesky.py\u001b[0m in \u001b[0;36mcholesky\u001b[0;34m(a, lower, overwrite_a, check_finite)\u001b[0m\n\u001b[1;32m     80\u001b[0m     c, lower = _cholesky(a, lower=lower, overwrite_a=overwrite_a, clean=True,\n\u001b[0;32m---> 81\u001b[0;31m                             check_finite=check_finite)\n\u001b[0m\u001b[1;32m     82\u001b[0m     \u001b[0;32mreturn\u001b[0m \u001b[0mc\u001b[0m\u001b[0;34m\u001b[0m\u001b[0m\n",
      "\u001b[0;32m/usr/local/lib/python3.5/dist-packages/scipy/linalg/decomp_cholesky.py\u001b[0m in \u001b[0;36m_cholesky\u001b[0;34m(a, lower, overwrite_a, clean, check_finite)\u001b[0m\n\u001b[1;32m     29\u001b[0m     \u001b[0;32mif\u001b[0m \u001b[0minfo\u001b[0m \u001b[0;34m>\u001b[0m \u001b[0;36m0\u001b[0m\u001b[0;34m:\u001b[0m\u001b[0;34m\u001b[0m\u001b[0m\n\u001b[0;32m---> 30\u001b[0;31m         \u001b[0;32mraise\u001b[0m \u001b[0mLinAlgError\u001b[0m\u001b[0;34m(\u001b[0m\u001b[0;34m\"%d-th leading minor not positive definite\"\u001b[0m \u001b[0;34m%\u001b[0m \u001b[0minfo\u001b[0m\u001b[0;34m)\u001b[0m\u001b[0;34m\u001b[0m\u001b[0m\n\u001b[0m\u001b[1;32m     31\u001b[0m     \u001b[0;32mif\u001b[0m \u001b[0minfo\u001b[0m \u001b[0;34m<\u001b[0m \u001b[0;36m0\u001b[0m\u001b[0;34m:\u001b[0m\u001b[0;34m\u001b[0m\u001b[0m\n",
      "\u001b[0;31mLinAlgError\u001b[0m: 24-th leading minor not positive definite",
      "\nDuring handling of the above exception, another exception occurred:\n",
      "\u001b[0;31mTypeError\u001b[0m                                 Traceback (most recent call last)",
      "\u001b[0;32mpomegranate/bayes.pyx\u001b[0m in \u001b[0;36mpomegranate.bayes.BayesModel.from_summaries\u001b[0;34m()\u001b[0m\n",
      "\u001b[0;32mpomegranate/distributions.pyx\u001b[0m in \u001b[0;36mpomegranate.distributions.MultivariateGaussianDistribution.from_summaries\u001b[0;34m()\u001b[0m\n",
      "\u001b[0;31mTypeError\u001b[0m: Cannot cast ufunc subtract output from dtype('complex128') to dtype('float64') with casting rule 'same_kind'"
     ]
    },
    {
     "name": "stderr",
     "output_type": "stream",
     "text": [
      "Exception ignored in: 'pomegranate.hmm.HiddenMarkovModel._from_summaries'\n",
      "Traceback (most recent call last):\n",
      "  File \"pomegranate/bayes.pyx\", line 710, in pomegranate.bayes.BayesModel.from_summaries\n",
      "  File \"pomegranate/distributions.pyx\", line 2259, in pomegranate.distributions.MultivariateGaussianDistribution.from_summaries\n",
      "TypeError: Cannot cast ufunc subtract output from dtype('complex128') to dtype('float64') with casting rule 'same_kind'\n"
     ]
    },
    {
     "name": "stdout",
     "output_type": "stream",
     "text": [
      "[15] Improvement: 23.50617057411\tTime (s): 529.4\n"
     ]
    },
    {
     "ename": "TypeError",
     "evalue": "Cannot cast ufunc subtract output from dtype('complex128') to dtype('float64') with casting rule 'same_kind'",
     "output_type": "error",
     "traceback": [
      "\u001b[0;31m---------------------------------------------------------------------------\u001b[0m",
      "\u001b[0;31mLinAlgError\u001b[0m                               Traceback (most recent call last)",
      "\u001b[0;32mpomegranate/distributions.pyx\u001b[0m in \u001b[0;36mpomegranate.distributions.MultivariateGaussianDistribution.from_summaries\u001b[0;34m()\u001b[0m\n",
      "\u001b[0;32m/usr/local/lib/python3.5/dist-packages/scipy/linalg/decomp_cholesky.py\u001b[0m in \u001b[0;36mcholesky\u001b[0;34m(a, lower, overwrite_a, check_finite)\u001b[0m\n\u001b[1;32m     80\u001b[0m     c, lower = _cholesky(a, lower=lower, overwrite_a=overwrite_a, clean=True,\n\u001b[0;32m---> 81\u001b[0;31m                             check_finite=check_finite)\n\u001b[0m\u001b[1;32m     82\u001b[0m     \u001b[0;32mreturn\u001b[0m \u001b[0mc\u001b[0m\u001b[0;34m\u001b[0m\u001b[0m\n",
      "\u001b[0;32m/usr/local/lib/python3.5/dist-packages/scipy/linalg/decomp_cholesky.py\u001b[0m in \u001b[0;36m_cholesky\u001b[0;34m(a, lower, overwrite_a, clean, check_finite)\u001b[0m\n\u001b[1;32m     29\u001b[0m     \u001b[0;32mif\u001b[0m \u001b[0minfo\u001b[0m \u001b[0;34m>\u001b[0m \u001b[0;36m0\u001b[0m\u001b[0;34m:\u001b[0m\u001b[0;34m\u001b[0m\u001b[0m\n\u001b[0;32m---> 30\u001b[0;31m         \u001b[0;32mraise\u001b[0m \u001b[0mLinAlgError\u001b[0m\u001b[0;34m(\u001b[0m\u001b[0;34m\"%d-th leading minor not positive definite\"\u001b[0m \u001b[0;34m%\u001b[0m \u001b[0minfo\u001b[0m\u001b[0;34m)\u001b[0m\u001b[0;34m\u001b[0m\u001b[0m\n\u001b[0m\u001b[1;32m     31\u001b[0m     \u001b[0;32mif\u001b[0m \u001b[0minfo\u001b[0m \u001b[0;34m<\u001b[0m \u001b[0;36m0\u001b[0m\u001b[0;34m:\u001b[0m\u001b[0;34m\u001b[0m\u001b[0m\n",
      "\u001b[0;31mLinAlgError\u001b[0m: 23-th leading minor not positive definite",
      "\nDuring handling of the above exception, another exception occurred:\n",
      "\u001b[0;31mTypeError\u001b[0m                                 Traceback (most recent call last)",
      "\u001b[0;32mpomegranate/bayes.pyx\u001b[0m in \u001b[0;36mpomegranate.bayes.BayesModel.from_summaries\u001b[0;34m()\u001b[0m\n",
      "\u001b[0;32mpomegranate/distributions.pyx\u001b[0m in \u001b[0;36mpomegranate.distributions.MultivariateGaussianDistribution.from_summaries\u001b[0;34m()\u001b[0m\n",
      "\u001b[0;31mTypeError\u001b[0m: Cannot cast ufunc subtract output from dtype('complex128') to dtype('float64') with casting rule 'same_kind'"
     ]
    },
    {
     "name": "stderr",
     "output_type": "stream",
     "text": [
      "Exception ignored in: 'pomegranate.hmm.HiddenMarkovModel._from_summaries'\n",
      "Traceback (most recent call last):\n",
      "  File \"pomegranate/bayes.pyx\", line 710, in pomegranate.bayes.BayesModel.from_summaries\n",
      "  File \"pomegranate/distributions.pyx\", line 2259, in pomegranate.distributions.MultivariateGaussianDistribution.from_summaries\n",
      "TypeError: Cannot cast ufunc subtract output from dtype('complex128') to dtype('float64') with casting rule 'same_kind'\n"
     ]
    },
    {
     "name": "stdout",
     "output_type": "stream",
     "text": [
      "[16] Improvement: 16.49457749002613\tTime (s): 542.3\n"
     ]
    },
    {
     "ename": "TypeError",
     "evalue": "Cannot cast ufunc subtract output from dtype('complex128') to dtype('float64') with casting rule 'same_kind'",
     "output_type": "error",
     "traceback": [
      "\u001b[0;31m---------------------------------------------------------------------------\u001b[0m",
      "\u001b[0;31mLinAlgError\u001b[0m                               Traceback (most recent call last)",
      "\u001b[0;32mpomegranate/distributions.pyx\u001b[0m in \u001b[0;36mpomegranate.distributions.MultivariateGaussianDistribution.from_summaries\u001b[0;34m()\u001b[0m\n",
      "\u001b[0;32m/usr/local/lib/python3.5/dist-packages/scipy/linalg/decomp_cholesky.py\u001b[0m in \u001b[0;36mcholesky\u001b[0;34m(a, lower, overwrite_a, check_finite)\u001b[0m\n\u001b[1;32m     80\u001b[0m     c, lower = _cholesky(a, lower=lower, overwrite_a=overwrite_a, clean=True,\n\u001b[0;32m---> 81\u001b[0;31m                             check_finite=check_finite)\n\u001b[0m\u001b[1;32m     82\u001b[0m     \u001b[0;32mreturn\u001b[0m \u001b[0mc\u001b[0m\u001b[0;34m\u001b[0m\u001b[0m\n",
      "\u001b[0;32m/usr/local/lib/python3.5/dist-packages/scipy/linalg/decomp_cholesky.py\u001b[0m in \u001b[0;36m_cholesky\u001b[0;34m(a, lower, overwrite_a, clean, check_finite)\u001b[0m\n\u001b[1;32m     29\u001b[0m     \u001b[0;32mif\u001b[0m \u001b[0minfo\u001b[0m \u001b[0;34m>\u001b[0m \u001b[0;36m0\u001b[0m\u001b[0;34m:\u001b[0m\u001b[0;34m\u001b[0m\u001b[0m\n\u001b[0;32m---> 30\u001b[0;31m         \u001b[0;32mraise\u001b[0m \u001b[0mLinAlgError\u001b[0m\u001b[0;34m(\u001b[0m\u001b[0;34m\"%d-th leading minor not positive definite\"\u001b[0m \u001b[0;34m%\u001b[0m \u001b[0minfo\u001b[0m\u001b[0;34m)\u001b[0m\u001b[0;34m\u001b[0m\u001b[0m\n\u001b[0m\u001b[1;32m     31\u001b[0m     \u001b[0;32mif\u001b[0m \u001b[0minfo\u001b[0m \u001b[0;34m<\u001b[0m \u001b[0;36m0\u001b[0m\u001b[0;34m:\u001b[0m\u001b[0;34m\u001b[0m\u001b[0m\n",
      "\u001b[0;31mLinAlgError\u001b[0m: 23-th leading minor not positive definite",
      "\nDuring handling of the above exception, another exception occurred:\n",
      "\u001b[0;31mTypeError\u001b[0m                                 Traceback (most recent call last)",
      "\u001b[0;32mpomegranate/bayes.pyx\u001b[0m in \u001b[0;36mpomegranate.bayes.BayesModel.from_summaries\u001b[0;34m()\u001b[0m\n",
      "\u001b[0;32mpomegranate/distributions.pyx\u001b[0m in \u001b[0;36mpomegranate.distributions.MultivariateGaussianDistribution.from_summaries\u001b[0;34m()\u001b[0m\n",
      "\u001b[0;31mTypeError\u001b[0m: Cannot cast ufunc subtract output from dtype('complex128') to dtype('float64') with casting rule 'same_kind'"
     ]
    },
    {
     "name": "stderr",
     "output_type": "stream",
     "text": [
      "Exception ignored in: 'pomegranate.hmm.HiddenMarkovModel._from_summaries'\n",
      "Traceback (most recent call last):\n",
      "  File \"pomegranate/bayes.pyx\", line 710, in pomegranate.bayes.BayesModel.from_summaries\n",
      "  File \"pomegranate/distributions.pyx\", line 2259, in pomegranate.distributions.MultivariateGaussianDistribution.from_summaries\n",
      "TypeError: Cannot cast ufunc subtract output from dtype('complex128') to dtype('float64') with casting rule 'same_kind'\n"
     ]
    },
    {
     "name": "stdout",
     "output_type": "stream",
     "text": [
      "[17] Improvement: 4.811783917946741\tTime (s): 534.2\n"
     ]
    },
    {
     "ename": "TypeError",
     "evalue": "Cannot cast ufunc subtract output from dtype('complex128') to dtype('float64') with casting rule 'same_kind'",
     "output_type": "error",
     "traceback": [
      "\u001b[0;31m---------------------------------------------------------------------------\u001b[0m",
      "\u001b[0;31mLinAlgError\u001b[0m                               Traceback (most recent call last)",
      "\u001b[0;32mpomegranate/distributions.pyx\u001b[0m in \u001b[0;36mpomegranate.distributions.MultivariateGaussianDistribution.from_summaries\u001b[0;34m()\u001b[0m\n",
      "\u001b[0;32m/usr/local/lib/python3.5/dist-packages/scipy/linalg/decomp_cholesky.py\u001b[0m in \u001b[0;36mcholesky\u001b[0;34m(a, lower, overwrite_a, check_finite)\u001b[0m\n\u001b[1;32m     80\u001b[0m     c, lower = _cholesky(a, lower=lower, overwrite_a=overwrite_a, clean=True,\n\u001b[0;32m---> 81\u001b[0;31m                             check_finite=check_finite)\n\u001b[0m\u001b[1;32m     82\u001b[0m     \u001b[0;32mreturn\u001b[0m \u001b[0mc\u001b[0m\u001b[0;34m\u001b[0m\u001b[0m\n",
      "\u001b[0;32m/usr/local/lib/python3.5/dist-packages/scipy/linalg/decomp_cholesky.py\u001b[0m in \u001b[0;36m_cholesky\u001b[0;34m(a, lower, overwrite_a, clean, check_finite)\u001b[0m\n\u001b[1;32m     29\u001b[0m     \u001b[0;32mif\u001b[0m \u001b[0minfo\u001b[0m \u001b[0;34m>\u001b[0m \u001b[0;36m0\u001b[0m\u001b[0;34m:\u001b[0m\u001b[0;34m\u001b[0m\u001b[0m\n\u001b[0;32m---> 30\u001b[0;31m         \u001b[0;32mraise\u001b[0m \u001b[0mLinAlgError\u001b[0m\u001b[0;34m(\u001b[0m\u001b[0;34m\"%d-th leading minor not positive definite\"\u001b[0m \u001b[0;34m%\u001b[0m \u001b[0minfo\u001b[0m\u001b[0;34m)\u001b[0m\u001b[0;34m\u001b[0m\u001b[0m\n\u001b[0m\u001b[1;32m     31\u001b[0m     \u001b[0;32mif\u001b[0m \u001b[0minfo\u001b[0m \u001b[0;34m<\u001b[0m \u001b[0;36m0\u001b[0m\u001b[0;34m:\u001b[0m\u001b[0;34m\u001b[0m\u001b[0m\n",
      "\u001b[0;31mLinAlgError\u001b[0m: 23-th leading minor not positive definite",
      "\nDuring handling of the above exception, another exception occurred:\n",
      "\u001b[0;31mTypeError\u001b[0m                                 Traceback (most recent call last)",
      "\u001b[0;32mpomegranate/bayes.pyx\u001b[0m in \u001b[0;36mpomegranate.bayes.BayesModel.from_summaries\u001b[0;34m()\u001b[0m\n",
      "\u001b[0;32mpomegranate/distributions.pyx\u001b[0m in \u001b[0;36mpomegranate.distributions.MultivariateGaussianDistribution.from_summaries\u001b[0;34m()\u001b[0m\n",
      "\u001b[0;31mTypeError\u001b[0m: Cannot cast ufunc subtract output from dtype('complex128') to dtype('float64') with casting rule 'same_kind'"
     ]
    },
    {
     "name": "stderr",
     "output_type": "stream",
     "text": [
      "Exception ignored in: 'pomegranate.hmm.HiddenMarkovModel._from_summaries'\n",
      "Traceback (most recent call last):\n",
      "  File \"pomegranate/bayes.pyx\", line 710, in pomegranate.bayes.BayesModel.from_summaries\n",
      "  File \"pomegranate/distributions.pyx\", line 2259, in pomegranate.distributions.MultivariateGaussianDistribution.from_summaries\n",
      "TypeError: Cannot cast ufunc subtract output from dtype('complex128') to dtype('float64') with casting rule 'same_kind'\n"
     ]
    },
    {
     "name": "stdout",
     "output_type": "stream",
     "text": [
      "[18] Improvement: 8.078985502710566\tTime (s): 534.7\n"
     ]
    },
    {
     "ename": "TypeError",
     "evalue": "Cannot cast ufunc subtract output from dtype('complex128') to dtype('float64') with casting rule 'same_kind'",
     "output_type": "error",
     "traceback": [
      "\u001b[0;31m---------------------------------------------------------------------------\u001b[0m",
      "\u001b[0;31mLinAlgError\u001b[0m                               Traceback (most recent call last)",
      "\u001b[0;32mpomegranate/distributions.pyx\u001b[0m in \u001b[0;36mpomegranate.distributions.MultivariateGaussianDistribution.from_summaries\u001b[0;34m()\u001b[0m\n",
      "\u001b[0;32m/usr/local/lib/python3.5/dist-packages/scipy/linalg/decomp_cholesky.py\u001b[0m in \u001b[0;36mcholesky\u001b[0;34m(a, lower, overwrite_a, check_finite)\u001b[0m\n\u001b[1;32m     80\u001b[0m     c, lower = _cholesky(a, lower=lower, overwrite_a=overwrite_a, clean=True,\n\u001b[0;32m---> 81\u001b[0;31m                             check_finite=check_finite)\n\u001b[0m\u001b[1;32m     82\u001b[0m     \u001b[0;32mreturn\u001b[0m \u001b[0mc\u001b[0m\u001b[0;34m\u001b[0m\u001b[0m\n",
      "\u001b[0;32m/usr/local/lib/python3.5/dist-packages/scipy/linalg/decomp_cholesky.py\u001b[0m in \u001b[0;36m_cholesky\u001b[0;34m(a, lower, overwrite_a, clean, check_finite)\u001b[0m\n\u001b[1;32m     29\u001b[0m     \u001b[0;32mif\u001b[0m \u001b[0minfo\u001b[0m \u001b[0;34m>\u001b[0m \u001b[0;36m0\u001b[0m\u001b[0;34m:\u001b[0m\u001b[0;34m\u001b[0m\u001b[0m\n\u001b[0;32m---> 30\u001b[0;31m         \u001b[0;32mraise\u001b[0m \u001b[0mLinAlgError\u001b[0m\u001b[0;34m(\u001b[0m\u001b[0;34m\"%d-th leading minor not positive definite\"\u001b[0m \u001b[0;34m%\u001b[0m \u001b[0minfo\u001b[0m\u001b[0;34m)\u001b[0m\u001b[0;34m\u001b[0m\u001b[0m\n\u001b[0m\u001b[1;32m     31\u001b[0m     \u001b[0;32mif\u001b[0m \u001b[0minfo\u001b[0m \u001b[0;34m<\u001b[0m \u001b[0;36m0\u001b[0m\u001b[0;34m:\u001b[0m\u001b[0;34m\u001b[0m\u001b[0m\n",
      "\u001b[0;31mLinAlgError\u001b[0m: 24-th leading minor not positive definite",
      "\nDuring handling of the above exception, another exception occurred:\n",
      "\u001b[0;31mTypeError\u001b[0m                                 Traceback (most recent call last)",
      "\u001b[0;32mpomegranate/bayes.pyx\u001b[0m in \u001b[0;36mpomegranate.bayes.BayesModel.from_summaries\u001b[0;34m()\u001b[0m\n",
      "\u001b[0;32mpomegranate/distributions.pyx\u001b[0m in \u001b[0;36mpomegranate.distributions.MultivariateGaussianDistribution.from_summaries\u001b[0;34m()\u001b[0m\n",
      "\u001b[0;31mTypeError\u001b[0m: Cannot cast ufunc subtract output from dtype('complex128') to dtype('float64') with casting rule 'same_kind'"
     ]
    },
    {
     "name": "stderr",
     "output_type": "stream",
     "text": [
      "Exception ignored in: 'pomegranate.hmm.HiddenMarkovModel._from_summaries'\n",
      "Traceback (most recent call last):\n",
      "  File \"pomegranate/bayes.pyx\", line 710, in pomegranate.bayes.BayesModel.from_summaries\n",
      "  File \"pomegranate/distributions.pyx\", line 2259, in pomegranate.distributions.MultivariateGaussianDistribution.from_summaries\n",
      "TypeError: Cannot cast ufunc subtract output from dtype('complex128') to dtype('float64') with casting rule 'same_kind'\n"
     ]
    },
    {
     "name": "stdout",
     "output_type": "stream",
     "text": [
      "[19] Improvement: 104.82299938937649\tTime (s): 529.4\n"
     ]
    },
    {
     "ename": "TypeError",
     "evalue": "Cannot cast ufunc subtract output from dtype('complex128') to dtype('float64') with casting rule 'same_kind'",
     "output_type": "error",
     "traceback": [
      "\u001b[0;31m---------------------------------------------------------------------------\u001b[0m",
      "\u001b[0;31mLinAlgError\u001b[0m                               Traceback (most recent call last)",
      "\u001b[0;32mpomegranate/distributions.pyx\u001b[0m in \u001b[0;36mpomegranate.distributions.MultivariateGaussianDistribution.from_summaries\u001b[0;34m()\u001b[0m\n",
      "\u001b[0;32m/usr/local/lib/python3.5/dist-packages/scipy/linalg/decomp_cholesky.py\u001b[0m in \u001b[0;36mcholesky\u001b[0;34m(a, lower, overwrite_a, check_finite)\u001b[0m\n\u001b[1;32m     80\u001b[0m     c, lower = _cholesky(a, lower=lower, overwrite_a=overwrite_a, clean=True,\n\u001b[0;32m---> 81\u001b[0;31m                             check_finite=check_finite)\n\u001b[0m\u001b[1;32m     82\u001b[0m     \u001b[0;32mreturn\u001b[0m \u001b[0mc\u001b[0m\u001b[0;34m\u001b[0m\u001b[0m\n",
      "\u001b[0;32m/usr/local/lib/python3.5/dist-packages/scipy/linalg/decomp_cholesky.py\u001b[0m in \u001b[0;36m_cholesky\u001b[0;34m(a, lower, overwrite_a, clean, check_finite)\u001b[0m\n\u001b[1;32m     29\u001b[0m     \u001b[0;32mif\u001b[0m \u001b[0minfo\u001b[0m \u001b[0;34m>\u001b[0m \u001b[0;36m0\u001b[0m\u001b[0;34m:\u001b[0m\u001b[0;34m\u001b[0m\u001b[0m\n\u001b[0;32m---> 30\u001b[0;31m         \u001b[0;32mraise\u001b[0m \u001b[0mLinAlgError\u001b[0m\u001b[0;34m(\u001b[0m\u001b[0;34m\"%d-th leading minor not positive definite\"\u001b[0m \u001b[0;34m%\u001b[0m \u001b[0minfo\u001b[0m\u001b[0;34m)\u001b[0m\u001b[0;34m\u001b[0m\u001b[0m\n\u001b[0m\u001b[1;32m     31\u001b[0m     \u001b[0;32mif\u001b[0m \u001b[0minfo\u001b[0m \u001b[0;34m<\u001b[0m \u001b[0;36m0\u001b[0m\u001b[0;34m:\u001b[0m\u001b[0;34m\u001b[0m\u001b[0m\n",
      "\u001b[0;31mLinAlgError\u001b[0m: 24-th leading minor not positive definite",
      "\nDuring handling of the above exception, another exception occurred:\n",
      "\u001b[0;31mTypeError\u001b[0m                                 Traceback (most recent call last)",
      "\u001b[0;32mpomegranate/bayes.pyx\u001b[0m in \u001b[0;36mpomegranate.bayes.BayesModel.from_summaries\u001b[0;34m()\u001b[0m\n",
      "\u001b[0;32mpomegranate/distributions.pyx\u001b[0m in \u001b[0;36mpomegranate.distributions.MultivariateGaussianDistribution.from_summaries\u001b[0;34m()\u001b[0m\n",
      "\u001b[0;31mTypeError\u001b[0m: Cannot cast ufunc subtract output from dtype('complex128') to dtype('float64') with casting rule 'same_kind'"
     ]
    },
    {
     "name": "stderr",
     "output_type": "stream",
     "text": [
      "Exception ignored in: 'pomegranate.hmm.HiddenMarkovModel._from_summaries'\n",
      "Traceback (most recent call last):\n",
      "  File \"pomegranate/bayes.pyx\", line 710, in pomegranate.bayes.BayesModel.from_summaries\n",
      "  File \"pomegranate/distributions.pyx\", line 2259, in pomegranate.distributions.MultivariateGaussianDistribution.from_summaries\n",
      "TypeError: Cannot cast ufunc subtract output from dtype('complex128') to dtype('float64') with casting rule 'same_kind'\n"
     ]
    },
    {
     "name": "stdout",
     "output_type": "stream",
     "text": [
      "[20] Improvement: 29.019449810730293\tTime (s): 541.0\n"
     ]
    },
    {
     "ename": "TypeError",
     "evalue": "Cannot cast ufunc subtract output from dtype('complex128') to dtype('float64') with casting rule 'same_kind'",
     "output_type": "error",
     "traceback": [
      "\u001b[0;31m---------------------------------------------------------------------------\u001b[0m",
      "\u001b[0;31mLinAlgError\u001b[0m                               Traceback (most recent call last)",
      "\u001b[0;32mpomegranate/distributions.pyx\u001b[0m in \u001b[0;36mpomegranate.distributions.MultivariateGaussianDistribution.from_summaries\u001b[0;34m()\u001b[0m\n",
      "\u001b[0;32m/usr/local/lib/python3.5/dist-packages/scipy/linalg/decomp_cholesky.py\u001b[0m in \u001b[0;36mcholesky\u001b[0;34m(a, lower, overwrite_a, check_finite)\u001b[0m\n\u001b[1;32m     80\u001b[0m     c, lower = _cholesky(a, lower=lower, overwrite_a=overwrite_a, clean=True,\n\u001b[0;32m---> 81\u001b[0;31m                             check_finite=check_finite)\n\u001b[0m\u001b[1;32m     82\u001b[0m     \u001b[0;32mreturn\u001b[0m \u001b[0mc\u001b[0m\u001b[0;34m\u001b[0m\u001b[0m\n",
      "\u001b[0;32m/usr/local/lib/python3.5/dist-packages/scipy/linalg/decomp_cholesky.py\u001b[0m in \u001b[0;36m_cholesky\u001b[0;34m(a, lower, overwrite_a, clean, check_finite)\u001b[0m\n\u001b[1;32m     29\u001b[0m     \u001b[0;32mif\u001b[0m \u001b[0minfo\u001b[0m \u001b[0;34m>\u001b[0m \u001b[0;36m0\u001b[0m\u001b[0;34m:\u001b[0m\u001b[0;34m\u001b[0m\u001b[0m\n\u001b[0;32m---> 30\u001b[0;31m         \u001b[0;32mraise\u001b[0m \u001b[0mLinAlgError\u001b[0m\u001b[0;34m(\u001b[0m\u001b[0;34m\"%d-th leading minor not positive definite\"\u001b[0m \u001b[0;34m%\u001b[0m \u001b[0minfo\u001b[0m\u001b[0;34m)\u001b[0m\u001b[0;34m\u001b[0m\u001b[0m\n\u001b[0m\u001b[1;32m     31\u001b[0m     \u001b[0;32mif\u001b[0m \u001b[0minfo\u001b[0m \u001b[0;34m<\u001b[0m \u001b[0;36m0\u001b[0m\u001b[0;34m:\u001b[0m\u001b[0;34m\u001b[0m\u001b[0m\n",
      "\u001b[0;31mLinAlgError\u001b[0m: 26-th leading minor not positive definite",
      "\nDuring handling of the above exception, another exception occurred:\n",
      "\u001b[0;31mTypeError\u001b[0m                                 Traceback (most recent call last)",
      "\u001b[0;32mpomegranate/bayes.pyx\u001b[0m in \u001b[0;36mpomegranate.bayes.BayesModel.from_summaries\u001b[0;34m()\u001b[0m\n",
      "\u001b[0;32mpomegranate/distributions.pyx\u001b[0m in \u001b[0;36mpomegranate.distributions.MultivariateGaussianDistribution.from_summaries\u001b[0;34m()\u001b[0m\n",
      "\u001b[0;31mTypeError\u001b[0m: Cannot cast ufunc subtract output from dtype('complex128') to dtype('float64') with casting rule 'same_kind'"
     ]
    },
    {
     "name": "stderr",
     "output_type": "stream",
     "text": [
      "Exception ignored in: 'pomegranate.hmm.HiddenMarkovModel._from_summaries'\n",
      "Traceback (most recent call last):\n",
      "  File \"pomegranate/bayes.pyx\", line 710, in pomegranate.bayes.BayesModel.from_summaries\n",
      "  File \"pomegranate/distributions.pyx\", line 2259, in pomegranate.distributions.MultivariateGaussianDistribution.from_summaries\n",
      "TypeError: Cannot cast ufunc subtract output from dtype('complex128') to dtype('float64') with casting rule 'same_kind'\n"
     ]
    },
    {
     "name": "stdout",
     "output_type": "stream",
     "text": [
      "[21] Improvement: 0.1271849311888218\tTime (s): 531.6\n"
     ]
    },
    {
     "ename": "TypeError",
     "evalue": "Cannot cast ufunc subtract output from dtype('complex128') to dtype('float64') with casting rule 'same_kind'",
     "output_type": "error",
     "traceback": [
      "\u001b[0;31m---------------------------------------------------------------------------\u001b[0m",
      "\u001b[0;31mLinAlgError\u001b[0m                               Traceback (most recent call last)",
      "\u001b[0;32mpomegranate/distributions.pyx\u001b[0m in \u001b[0;36mpomegranate.distributions.MultivariateGaussianDistribution.from_summaries\u001b[0;34m()\u001b[0m\n",
      "\u001b[0;32m/usr/local/lib/python3.5/dist-packages/scipy/linalg/decomp_cholesky.py\u001b[0m in \u001b[0;36mcholesky\u001b[0;34m(a, lower, overwrite_a, check_finite)\u001b[0m\n\u001b[1;32m     80\u001b[0m     c, lower = _cholesky(a, lower=lower, overwrite_a=overwrite_a, clean=True,\n\u001b[0;32m---> 81\u001b[0;31m                             check_finite=check_finite)\n\u001b[0m\u001b[1;32m     82\u001b[0m     \u001b[0;32mreturn\u001b[0m \u001b[0mc\u001b[0m\u001b[0;34m\u001b[0m\u001b[0m\n",
      "\u001b[0;32m/usr/local/lib/python3.5/dist-packages/scipy/linalg/decomp_cholesky.py\u001b[0m in \u001b[0;36m_cholesky\u001b[0;34m(a, lower, overwrite_a, clean, check_finite)\u001b[0m\n\u001b[1;32m     29\u001b[0m     \u001b[0;32mif\u001b[0m \u001b[0minfo\u001b[0m \u001b[0;34m>\u001b[0m \u001b[0;36m0\u001b[0m\u001b[0;34m:\u001b[0m\u001b[0;34m\u001b[0m\u001b[0m\n\u001b[0;32m---> 30\u001b[0;31m         \u001b[0;32mraise\u001b[0m \u001b[0mLinAlgError\u001b[0m\u001b[0;34m(\u001b[0m\u001b[0;34m\"%d-th leading minor not positive definite\"\u001b[0m \u001b[0;34m%\u001b[0m \u001b[0minfo\u001b[0m\u001b[0;34m)\u001b[0m\u001b[0;34m\u001b[0m\u001b[0m\n\u001b[0m\u001b[1;32m     31\u001b[0m     \u001b[0;32mif\u001b[0m \u001b[0minfo\u001b[0m \u001b[0;34m<\u001b[0m \u001b[0;36m0\u001b[0m\u001b[0;34m:\u001b[0m\u001b[0;34m\u001b[0m\u001b[0m\n",
      "\u001b[0;31mLinAlgError\u001b[0m: 24-th leading minor not positive definite",
      "\nDuring handling of the above exception, another exception occurred:\n",
      "\u001b[0;31mTypeError\u001b[0m                                 Traceback (most recent call last)",
      "\u001b[0;32mpomegranate/bayes.pyx\u001b[0m in \u001b[0;36mpomegranate.bayes.BayesModel.from_summaries\u001b[0;34m()\u001b[0m\n",
      "\u001b[0;32mpomegranate/distributions.pyx\u001b[0m in \u001b[0;36mpomegranate.distributions.MultivariateGaussianDistribution.from_summaries\u001b[0;34m()\u001b[0m\n",
      "\u001b[0;31mTypeError\u001b[0m: Cannot cast ufunc subtract output from dtype('complex128') to dtype('float64') with casting rule 'same_kind'"
     ]
    },
    {
     "name": "stderr",
     "output_type": "stream",
     "text": [
      "Exception ignored in: 'pomegranate.hmm.HiddenMarkovModel._from_summaries'\n",
      "Traceback (most recent call last):\n",
      "  File \"pomegranate/bayes.pyx\", line 710, in pomegranate.bayes.BayesModel.from_summaries\n",
      "  File \"pomegranate/distributions.pyx\", line 2259, in pomegranate.distributions.MultivariateGaussianDistribution.from_summaries\n",
      "TypeError: Cannot cast ufunc subtract output from dtype('complex128') to dtype('float64') with casting rule 'same_kind'\n"
     ]
    },
    {
     "name": "stdout",
     "output_type": "stream",
     "text": [
      "[22] Improvement: 0.23255512560717762\tTime (s): 541.4\n"
     ]
    },
    {
     "ename": "TypeError",
     "evalue": "Cannot cast ufunc subtract output from dtype('complex128') to dtype('float64') with casting rule 'same_kind'",
     "output_type": "error",
     "traceback": [
      "\u001b[0;31m---------------------------------------------------------------------------\u001b[0m",
      "\u001b[0;31mLinAlgError\u001b[0m                               Traceback (most recent call last)",
      "\u001b[0;32mpomegranate/distributions.pyx\u001b[0m in \u001b[0;36mpomegranate.distributions.MultivariateGaussianDistribution.from_summaries\u001b[0;34m()\u001b[0m\n",
      "\u001b[0;32m/usr/local/lib/python3.5/dist-packages/scipy/linalg/decomp_cholesky.py\u001b[0m in \u001b[0;36mcholesky\u001b[0;34m(a, lower, overwrite_a, check_finite)\u001b[0m\n\u001b[1;32m     80\u001b[0m     c, lower = _cholesky(a, lower=lower, overwrite_a=overwrite_a, clean=True,\n\u001b[0;32m---> 81\u001b[0;31m                             check_finite=check_finite)\n\u001b[0m\u001b[1;32m     82\u001b[0m     \u001b[0;32mreturn\u001b[0m \u001b[0mc\u001b[0m\u001b[0;34m\u001b[0m\u001b[0m\n",
      "\u001b[0;32m/usr/local/lib/python3.5/dist-packages/scipy/linalg/decomp_cholesky.py\u001b[0m in \u001b[0;36m_cholesky\u001b[0;34m(a, lower, overwrite_a, clean, check_finite)\u001b[0m\n\u001b[1;32m     29\u001b[0m     \u001b[0;32mif\u001b[0m \u001b[0minfo\u001b[0m \u001b[0;34m>\u001b[0m \u001b[0;36m0\u001b[0m\u001b[0;34m:\u001b[0m\u001b[0;34m\u001b[0m\u001b[0m\n\u001b[0;32m---> 30\u001b[0;31m         \u001b[0;32mraise\u001b[0m \u001b[0mLinAlgError\u001b[0m\u001b[0;34m(\u001b[0m\u001b[0;34m\"%d-th leading minor not positive definite\"\u001b[0m \u001b[0;34m%\u001b[0m \u001b[0minfo\u001b[0m\u001b[0;34m)\u001b[0m\u001b[0;34m\u001b[0m\u001b[0m\n\u001b[0m\u001b[1;32m     31\u001b[0m     \u001b[0;32mif\u001b[0m \u001b[0minfo\u001b[0m \u001b[0;34m<\u001b[0m \u001b[0;36m0\u001b[0m\u001b[0;34m:\u001b[0m\u001b[0;34m\u001b[0m\u001b[0m\n",
      "\u001b[0;31mLinAlgError\u001b[0m: 24-th leading minor not positive definite",
      "\nDuring handling of the above exception, another exception occurred:\n",
      "\u001b[0;31mTypeError\u001b[0m                                 Traceback (most recent call last)",
      "\u001b[0;32mpomegranate/bayes.pyx\u001b[0m in \u001b[0;36mpomegranate.bayes.BayesModel.from_summaries\u001b[0;34m()\u001b[0m\n",
      "\u001b[0;32mpomegranate/distributions.pyx\u001b[0m in \u001b[0;36mpomegranate.distributions.MultivariateGaussianDistribution.from_summaries\u001b[0;34m()\u001b[0m\n",
      "\u001b[0;31mTypeError\u001b[0m: Cannot cast ufunc subtract output from dtype('complex128') to dtype('float64') with casting rule 'same_kind'"
     ]
    },
    {
     "name": "stderr",
     "output_type": "stream",
     "text": [
      "Exception ignored in: 'pomegranate.hmm.HiddenMarkovModel._from_summaries'\n",
      "Traceback (most recent call last):\n",
      "  File \"pomegranate/bayes.pyx\", line 710, in pomegranate.bayes.BayesModel.from_summaries\n",
      "  File \"pomegranate/distributions.pyx\", line 2259, in pomegranate.distributions.MultivariateGaussianDistribution.from_summaries\n",
      "TypeError: Cannot cast ufunc subtract output from dtype('complex128') to dtype('float64') with casting rule 'same_kind'\n"
     ]
    },
    {
     "name": "stdout",
     "output_type": "stream",
     "text": [
      "[23] Improvement: 0.8345558159053326\tTime (s): 538.8\n"
     ]
    },
    {
     "ename": "TypeError",
     "evalue": "Cannot cast ufunc subtract output from dtype('complex128') to dtype('float64') with casting rule 'same_kind'",
     "output_type": "error",
     "traceback": [
      "\u001b[0;31m---------------------------------------------------------------------------\u001b[0m",
      "\u001b[0;31mLinAlgError\u001b[0m                               Traceback (most recent call last)",
      "\u001b[0;32mpomegranate/distributions.pyx\u001b[0m in \u001b[0;36mpomegranate.distributions.MultivariateGaussianDistribution.from_summaries\u001b[0;34m()\u001b[0m\n",
      "\u001b[0;32m/usr/local/lib/python3.5/dist-packages/scipy/linalg/decomp_cholesky.py\u001b[0m in \u001b[0;36mcholesky\u001b[0;34m(a, lower, overwrite_a, check_finite)\u001b[0m\n\u001b[1;32m     80\u001b[0m     c, lower = _cholesky(a, lower=lower, overwrite_a=overwrite_a, clean=True,\n\u001b[0;32m---> 81\u001b[0;31m                             check_finite=check_finite)\n\u001b[0m\u001b[1;32m     82\u001b[0m     \u001b[0;32mreturn\u001b[0m \u001b[0mc\u001b[0m\u001b[0;34m\u001b[0m\u001b[0m\n",
      "\u001b[0;32m/usr/local/lib/python3.5/dist-packages/scipy/linalg/decomp_cholesky.py\u001b[0m in \u001b[0;36m_cholesky\u001b[0;34m(a, lower, overwrite_a, clean, check_finite)\u001b[0m\n\u001b[1;32m     29\u001b[0m     \u001b[0;32mif\u001b[0m \u001b[0minfo\u001b[0m \u001b[0;34m>\u001b[0m \u001b[0;36m0\u001b[0m\u001b[0;34m:\u001b[0m\u001b[0;34m\u001b[0m\u001b[0m\n\u001b[0;32m---> 30\u001b[0;31m         \u001b[0;32mraise\u001b[0m \u001b[0mLinAlgError\u001b[0m\u001b[0;34m(\u001b[0m\u001b[0;34m\"%d-th leading minor not positive definite\"\u001b[0m \u001b[0;34m%\u001b[0m \u001b[0minfo\u001b[0m\u001b[0;34m)\u001b[0m\u001b[0;34m\u001b[0m\u001b[0m\n\u001b[0m\u001b[1;32m     31\u001b[0m     \u001b[0;32mif\u001b[0m \u001b[0minfo\u001b[0m \u001b[0;34m<\u001b[0m \u001b[0;36m0\u001b[0m\u001b[0;34m:\u001b[0m\u001b[0;34m\u001b[0m\u001b[0m\n",
      "\u001b[0;31mLinAlgError\u001b[0m: 23-th leading minor not positive definite",
      "\nDuring handling of the above exception, another exception occurred:\n",
      "\u001b[0;31mTypeError\u001b[0m                                 Traceback (most recent call last)",
      "\u001b[0;32mpomegranate/bayes.pyx\u001b[0m in \u001b[0;36mpomegranate.bayes.BayesModel.from_summaries\u001b[0;34m()\u001b[0m\n",
      "\u001b[0;32mpomegranate/distributions.pyx\u001b[0m in \u001b[0;36mpomegranate.distributions.MultivariateGaussianDistribution.from_summaries\u001b[0;34m()\u001b[0m\n",
      "\u001b[0;31mTypeError\u001b[0m: Cannot cast ufunc subtract output from dtype('complex128') to dtype('float64') with casting rule 'same_kind'"
     ]
    },
    {
     "name": "stderr",
     "output_type": "stream",
     "text": [
      "Exception ignored in: 'pomegranate.hmm.HiddenMarkovModel._from_summaries'\n",
      "Traceback (most recent call last):\n",
      "  File \"pomegranate/bayes.pyx\", line 710, in pomegranate.bayes.BayesModel.from_summaries\n",
      "  File \"pomegranate/distributions.pyx\", line 2259, in pomegranate.distributions.MultivariateGaussianDistribution.from_summaries\n",
      "TypeError: Cannot cast ufunc subtract output from dtype('complex128') to dtype('float64') with casting rule 'same_kind'\n"
     ]
    },
    {
     "name": "stdout",
     "output_type": "stream",
     "text": [
      "[24] Improvement: 2.3695152981672436\tTime (s): 539.2\n"
     ]
    },
    {
     "ename": "TypeError",
     "evalue": "Cannot cast ufunc subtract output from dtype('complex128') to dtype('float64') with casting rule 'same_kind'",
     "output_type": "error",
     "traceback": [
      "\u001b[0;31m---------------------------------------------------------------------------\u001b[0m",
      "\u001b[0;31mLinAlgError\u001b[0m                               Traceback (most recent call last)",
      "\u001b[0;32mpomegranate/distributions.pyx\u001b[0m in \u001b[0;36mpomegranate.distributions.MultivariateGaussianDistribution.from_summaries\u001b[0;34m()\u001b[0m\n",
      "\u001b[0;32m/usr/local/lib/python3.5/dist-packages/scipy/linalg/decomp_cholesky.py\u001b[0m in \u001b[0;36mcholesky\u001b[0;34m(a, lower, overwrite_a, check_finite)\u001b[0m\n\u001b[1;32m     80\u001b[0m     c, lower = _cholesky(a, lower=lower, overwrite_a=overwrite_a, clean=True,\n\u001b[0;32m---> 81\u001b[0;31m                             check_finite=check_finite)\n\u001b[0m\u001b[1;32m     82\u001b[0m     \u001b[0;32mreturn\u001b[0m \u001b[0mc\u001b[0m\u001b[0;34m\u001b[0m\u001b[0m\n",
      "\u001b[0;32m/usr/local/lib/python3.5/dist-packages/scipy/linalg/decomp_cholesky.py\u001b[0m in \u001b[0;36m_cholesky\u001b[0;34m(a, lower, overwrite_a, clean, check_finite)\u001b[0m\n\u001b[1;32m     29\u001b[0m     \u001b[0;32mif\u001b[0m \u001b[0minfo\u001b[0m \u001b[0;34m>\u001b[0m \u001b[0;36m0\u001b[0m\u001b[0;34m:\u001b[0m\u001b[0;34m\u001b[0m\u001b[0m\n\u001b[0;32m---> 30\u001b[0;31m         \u001b[0;32mraise\u001b[0m \u001b[0mLinAlgError\u001b[0m\u001b[0;34m(\u001b[0m\u001b[0;34m\"%d-th leading minor not positive definite\"\u001b[0m \u001b[0;34m%\u001b[0m \u001b[0minfo\u001b[0m\u001b[0;34m)\u001b[0m\u001b[0;34m\u001b[0m\u001b[0m\n\u001b[0m\u001b[1;32m     31\u001b[0m     \u001b[0;32mif\u001b[0m \u001b[0minfo\u001b[0m \u001b[0;34m<\u001b[0m \u001b[0;36m0\u001b[0m\u001b[0;34m:\u001b[0m\u001b[0;34m\u001b[0m\u001b[0m\n",
      "\u001b[0;31mLinAlgError\u001b[0m: 23-th leading minor not positive definite",
      "\nDuring handling of the above exception, another exception occurred:\n",
      "\u001b[0;31mTypeError\u001b[0m                                 Traceback (most recent call last)",
      "\u001b[0;32mpomegranate/bayes.pyx\u001b[0m in \u001b[0;36mpomegranate.bayes.BayesModel.from_summaries\u001b[0;34m()\u001b[0m\n",
      "\u001b[0;32mpomegranate/distributions.pyx\u001b[0m in \u001b[0;36mpomegranate.distributions.MultivariateGaussianDistribution.from_summaries\u001b[0;34m()\u001b[0m\n",
      "\u001b[0;31mTypeError\u001b[0m: Cannot cast ufunc subtract output from dtype('complex128') to dtype('float64') with casting rule 'same_kind'"
     ]
    },
    {
     "name": "stderr",
     "output_type": "stream",
     "text": [
      "Exception ignored in: 'pomegranate.hmm.HiddenMarkovModel._from_summaries'\n",
      "Traceback (most recent call last):\n",
      "  File \"pomegranate/bayes.pyx\", line 710, in pomegranate.bayes.BayesModel.from_summaries\n",
      "  File \"pomegranate/distributions.pyx\", line 2259, in pomegranate.distributions.MultivariateGaussianDistribution.from_summaries\n",
      "TypeError: Cannot cast ufunc subtract output from dtype('complex128') to dtype('float64') with casting rule 'same_kind'\n"
     ]
    },
    {
     "name": "stdout",
     "output_type": "stream",
     "text": [
      "[25] Improvement: 3.544300872599706\tTime (s): 534.3\n"
     ]
    },
    {
     "ename": "TypeError",
     "evalue": "Cannot cast ufunc subtract output from dtype('complex128') to dtype('float64') with casting rule 'same_kind'",
     "output_type": "error",
     "traceback": [
      "\u001b[0;31m---------------------------------------------------------------------------\u001b[0m",
      "\u001b[0;31mLinAlgError\u001b[0m                               Traceback (most recent call last)",
      "\u001b[0;32mpomegranate/distributions.pyx\u001b[0m in \u001b[0;36mpomegranate.distributions.MultivariateGaussianDistribution.from_summaries\u001b[0;34m()\u001b[0m\n",
      "\u001b[0;32m/usr/local/lib/python3.5/dist-packages/scipy/linalg/decomp_cholesky.py\u001b[0m in \u001b[0;36mcholesky\u001b[0;34m(a, lower, overwrite_a, check_finite)\u001b[0m\n\u001b[1;32m     80\u001b[0m     c, lower = _cholesky(a, lower=lower, overwrite_a=overwrite_a, clean=True,\n\u001b[0;32m---> 81\u001b[0;31m                             check_finite=check_finite)\n\u001b[0m\u001b[1;32m     82\u001b[0m     \u001b[0;32mreturn\u001b[0m \u001b[0mc\u001b[0m\u001b[0;34m\u001b[0m\u001b[0m\n",
      "\u001b[0;32m/usr/local/lib/python3.5/dist-packages/scipy/linalg/decomp_cholesky.py\u001b[0m in \u001b[0;36m_cholesky\u001b[0;34m(a, lower, overwrite_a, clean, check_finite)\u001b[0m\n\u001b[1;32m     29\u001b[0m     \u001b[0;32mif\u001b[0m \u001b[0minfo\u001b[0m \u001b[0;34m>\u001b[0m \u001b[0;36m0\u001b[0m\u001b[0;34m:\u001b[0m\u001b[0;34m\u001b[0m\u001b[0m\n\u001b[0;32m---> 30\u001b[0;31m         \u001b[0;32mraise\u001b[0m \u001b[0mLinAlgError\u001b[0m\u001b[0;34m(\u001b[0m\u001b[0;34m\"%d-th leading minor not positive definite\"\u001b[0m \u001b[0;34m%\u001b[0m \u001b[0minfo\u001b[0m\u001b[0;34m)\u001b[0m\u001b[0;34m\u001b[0m\u001b[0m\n\u001b[0m\u001b[1;32m     31\u001b[0m     \u001b[0;32mif\u001b[0m \u001b[0minfo\u001b[0m \u001b[0;34m<\u001b[0m \u001b[0;36m0\u001b[0m\u001b[0;34m:\u001b[0m\u001b[0;34m\u001b[0m\u001b[0m\n",
      "\u001b[0;31mLinAlgError\u001b[0m: 23-th leading minor not positive definite",
      "\nDuring handling of the above exception, another exception occurred:\n",
      "\u001b[0;31mTypeError\u001b[0m                                 Traceback (most recent call last)",
      "\u001b[0;32mpomegranate/bayes.pyx\u001b[0m in \u001b[0;36mpomegranate.bayes.BayesModel.from_summaries\u001b[0;34m()\u001b[0m\n",
      "\u001b[0;32mpomegranate/distributions.pyx\u001b[0m in \u001b[0;36mpomegranate.distributions.MultivariateGaussianDistribution.from_summaries\u001b[0;34m()\u001b[0m\n",
      "\u001b[0;31mTypeError\u001b[0m: Cannot cast ufunc subtract output from dtype('complex128') to dtype('float64') with casting rule 'same_kind'"
     ]
    },
    {
     "name": "stderr",
     "output_type": "stream",
     "text": [
      "Exception ignored in: 'pomegranate.hmm.HiddenMarkovModel._from_summaries'\n",
      "Traceback (most recent call last):\n",
      "  File \"pomegranate/bayes.pyx\", line 710, in pomegranate.bayes.BayesModel.from_summaries\n",
      "  File \"pomegranate/distributions.pyx\", line 2259, in pomegranate.distributions.MultivariateGaussianDistribution.from_summaries\n",
      "TypeError: Cannot cast ufunc subtract output from dtype('complex128') to dtype('float64') with casting rule 'same_kind'\n"
     ]
    },
    {
     "name": "stdout",
     "output_type": "stream",
     "text": [
      "[26] Improvement: 1.4649938035290688\tTime (s): 536.8\n"
     ]
    },
    {
     "ename": "TypeError",
     "evalue": "Cannot cast ufunc subtract output from dtype('complex128') to dtype('float64') with casting rule 'same_kind'",
     "output_type": "error",
     "traceback": [
      "\u001b[0;31m---------------------------------------------------------------------------\u001b[0m",
      "\u001b[0;31mLinAlgError\u001b[0m                               Traceback (most recent call last)",
      "\u001b[0;32mpomegranate/distributions.pyx\u001b[0m in \u001b[0;36mpomegranate.distributions.MultivariateGaussianDistribution.from_summaries\u001b[0;34m()\u001b[0m\n",
      "\u001b[0;32m/usr/local/lib/python3.5/dist-packages/scipy/linalg/decomp_cholesky.py\u001b[0m in \u001b[0;36mcholesky\u001b[0;34m(a, lower, overwrite_a, check_finite)\u001b[0m\n\u001b[1;32m     80\u001b[0m     c, lower = _cholesky(a, lower=lower, overwrite_a=overwrite_a, clean=True,\n\u001b[0;32m---> 81\u001b[0;31m                             check_finite=check_finite)\n\u001b[0m\u001b[1;32m     82\u001b[0m     \u001b[0;32mreturn\u001b[0m \u001b[0mc\u001b[0m\u001b[0;34m\u001b[0m\u001b[0m\n",
      "\u001b[0;32m/usr/local/lib/python3.5/dist-packages/scipy/linalg/decomp_cholesky.py\u001b[0m in \u001b[0;36m_cholesky\u001b[0;34m(a, lower, overwrite_a, clean, check_finite)\u001b[0m\n\u001b[1;32m     29\u001b[0m     \u001b[0;32mif\u001b[0m \u001b[0minfo\u001b[0m \u001b[0;34m>\u001b[0m \u001b[0;36m0\u001b[0m\u001b[0;34m:\u001b[0m\u001b[0;34m\u001b[0m\u001b[0m\n\u001b[0;32m---> 30\u001b[0;31m         \u001b[0;32mraise\u001b[0m \u001b[0mLinAlgError\u001b[0m\u001b[0;34m(\u001b[0m\u001b[0;34m\"%d-th leading minor not positive definite\"\u001b[0m \u001b[0;34m%\u001b[0m \u001b[0minfo\u001b[0m\u001b[0;34m)\u001b[0m\u001b[0;34m\u001b[0m\u001b[0m\n\u001b[0m\u001b[1;32m     31\u001b[0m     \u001b[0;32mif\u001b[0m \u001b[0minfo\u001b[0m \u001b[0;34m<\u001b[0m \u001b[0;36m0\u001b[0m\u001b[0;34m:\u001b[0m\u001b[0;34m\u001b[0m\u001b[0m\n",
      "\u001b[0;31mLinAlgError\u001b[0m: 23-th leading minor not positive definite",
      "\nDuring handling of the above exception, another exception occurred:\n",
      "\u001b[0;31mTypeError\u001b[0m                                 Traceback (most recent call last)",
      "\u001b[0;32mpomegranate/bayes.pyx\u001b[0m in \u001b[0;36mpomegranate.bayes.BayesModel.from_summaries\u001b[0;34m()\u001b[0m\n",
      "\u001b[0;32mpomegranate/distributions.pyx\u001b[0m in \u001b[0;36mpomegranate.distributions.MultivariateGaussianDistribution.from_summaries\u001b[0;34m()\u001b[0m\n",
      "\u001b[0;31mTypeError\u001b[0m: Cannot cast ufunc subtract output from dtype('complex128') to dtype('float64') with casting rule 'same_kind'"
     ]
    },
    {
     "name": "stderr",
     "output_type": "stream",
     "text": [
      "Exception ignored in: 'pomegranate.hmm.HiddenMarkovModel._from_summaries'\n",
      "Traceback (most recent call last):\n",
      "  File \"pomegranate/bayes.pyx\", line 710, in pomegranate.bayes.BayesModel.from_summaries\n",
      "  File \"pomegranate/distributions.pyx\", line 2259, in pomegranate.distributions.MultivariateGaussianDistribution.from_summaries\n",
      "TypeError: Cannot cast ufunc subtract output from dtype('complex128') to dtype('float64') with casting rule 'same_kind'\n"
     ]
    },
    {
     "name": "stdout",
     "output_type": "stream",
     "text": [
      "[27] Improvement: 2.373902595601976\tTime (s): 540.3\n"
     ]
    },
    {
     "ename": "TypeError",
     "evalue": "Cannot cast ufunc subtract output from dtype('complex128') to dtype('float64') with casting rule 'same_kind'",
     "output_type": "error",
     "traceback": [
      "\u001b[0;31m---------------------------------------------------------------------------\u001b[0m",
      "\u001b[0;31mLinAlgError\u001b[0m                               Traceback (most recent call last)",
      "\u001b[0;32mpomegranate/distributions.pyx\u001b[0m in \u001b[0;36mpomegranate.distributions.MultivariateGaussianDistribution.from_summaries\u001b[0;34m()\u001b[0m\n",
      "\u001b[0;32m/usr/local/lib/python3.5/dist-packages/scipy/linalg/decomp_cholesky.py\u001b[0m in \u001b[0;36mcholesky\u001b[0;34m(a, lower, overwrite_a, check_finite)\u001b[0m\n\u001b[1;32m     80\u001b[0m     c, lower = _cholesky(a, lower=lower, overwrite_a=overwrite_a, clean=True,\n\u001b[0;32m---> 81\u001b[0;31m                             check_finite=check_finite)\n\u001b[0m\u001b[1;32m     82\u001b[0m     \u001b[0;32mreturn\u001b[0m \u001b[0mc\u001b[0m\u001b[0;34m\u001b[0m\u001b[0m\n",
      "\u001b[0;32m/usr/local/lib/python3.5/dist-packages/scipy/linalg/decomp_cholesky.py\u001b[0m in \u001b[0;36m_cholesky\u001b[0;34m(a, lower, overwrite_a, clean, check_finite)\u001b[0m\n\u001b[1;32m     29\u001b[0m     \u001b[0;32mif\u001b[0m \u001b[0minfo\u001b[0m \u001b[0;34m>\u001b[0m \u001b[0;36m0\u001b[0m\u001b[0;34m:\u001b[0m\u001b[0;34m\u001b[0m\u001b[0m\n\u001b[0;32m---> 30\u001b[0;31m         \u001b[0;32mraise\u001b[0m \u001b[0mLinAlgError\u001b[0m\u001b[0;34m(\u001b[0m\u001b[0;34m\"%d-th leading minor not positive definite\"\u001b[0m \u001b[0;34m%\u001b[0m \u001b[0minfo\u001b[0m\u001b[0;34m)\u001b[0m\u001b[0;34m\u001b[0m\u001b[0m\n\u001b[0m\u001b[1;32m     31\u001b[0m     \u001b[0;32mif\u001b[0m \u001b[0minfo\u001b[0m \u001b[0;34m<\u001b[0m \u001b[0;36m0\u001b[0m\u001b[0;34m:\u001b[0m\u001b[0;34m\u001b[0m\u001b[0m\n",
      "\u001b[0;31mLinAlgError\u001b[0m: 23-th leading minor not positive definite",
      "\nDuring handling of the above exception, another exception occurred:\n",
      "\u001b[0;31mTypeError\u001b[0m                                 Traceback (most recent call last)",
      "\u001b[0;32mpomegranate/bayes.pyx\u001b[0m in \u001b[0;36mpomegranate.bayes.BayesModel.from_summaries\u001b[0;34m()\u001b[0m\n",
      "\u001b[0;32mpomegranate/distributions.pyx\u001b[0m in \u001b[0;36mpomegranate.distributions.MultivariateGaussianDistribution.from_summaries\u001b[0;34m()\u001b[0m\n",
      "\u001b[0;31mTypeError\u001b[0m: Cannot cast ufunc subtract output from dtype('complex128') to dtype('float64') with casting rule 'same_kind'"
     ]
    },
    {
     "name": "stderr",
     "output_type": "stream",
     "text": [
      "Exception ignored in: 'pomegranate.hmm.HiddenMarkovModel._from_summaries'\n",
      "Traceback (most recent call last):\n",
      "  File \"pomegranate/bayes.pyx\", line 710, in pomegranate.bayes.BayesModel.from_summaries\n",
      "  File \"pomegranate/distributions.pyx\", line 2259, in pomegranate.distributions.MultivariateGaussianDistribution.from_summaries\n",
      "TypeError: Cannot cast ufunc subtract output from dtype('complex128') to dtype('float64') with casting rule 'same_kind'\n"
     ]
    },
    {
     "name": "stdout",
     "output_type": "stream",
     "text": [
      "[28] Improvement: 1.8202342817094177\tTime (s): 538.5\n"
     ]
    },
    {
     "ename": "TypeError",
     "evalue": "Cannot cast ufunc subtract output from dtype('complex128') to dtype('float64') with casting rule 'same_kind'",
     "output_type": "error",
     "traceback": [
      "\u001b[0;31m---------------------------------------------------------------------------\u001b[0m",
      "\u001b[0;31mLinAlgError\u001b[0m                               Traceback (most recent call last)",
      "\u001b[0;32mpomegranate/distributions.pyx\u001b[0m in \u001b[0;36mpomegranate.distributions.MultivariateGaussianDistribution.from_summaries\u001b[0;34m()\u001b[0m\n",
      "\u001b[0;32m/usr/local/lib/python3.5/dist-packages/scipy/linalg/decomp_cholesky.py\u001b[0m in \u001b[0;36mcholesky\u001b[0;34m(a, lower, overwrite_a, check_finite)\u001b[0m\n\u001b[1;32m     80\u001b[0m     c, lower = _cholesky(a, lower=lower, overwrite_a=overwrite_a, clean=True,\n\u001b[0;32m---> 81\u001b[0;31m                             check_finite=check_finite)\n\u001b[0m\u001b[1;32m     82\u001b[0m     \u001b[0;32mreturn\u001b[0m \u001b[0mc\u001b[0m\u001b[0;34m\u001b[0m\u001b[0m\n",
      "\u001b[0;32m/usr/local/lib/python3.5/dist-packages/scipy/linalg/decomp_cholesky.py\u001b[0m in \u001b[0;36m_cholesky\u001b[0;34m(a, lower, overwrite_a, clean, check_finite)\u001b[0m\n\u001b[1;32m     29\u001b[0m     \u001b[0;32mif\u001b[0m \u001b[0minfo\u001b[0m \u001b[0;34m>\u001b[0m \u001b[0;36m0\u001b[0m\u001b[0;34m:\u001b[0m\u001b[0;34m\u001b[0m\u001b[0m\n\u001b[0;32m---> 30\u001b[0;31m         \u001b[0;32mraise\u001b[0m \u001b[0mLinAlgError\u001b[0m\u001b[0;34m(\u001b[0m\u001b[0;34m\"%d-th leading minor not positive definite\"\u001b[0m \u001b[0;34m%\u001b[0m \u001b[0minfo\u001b[0m\u001b[0;34m)\u001b[0m\u001b[0;34m\u001b[0m\u001b[0m\n\u001b[0m\u001b[1;32m     31\u001b[0m     \u001b[0;32mif\u001b[0m \u001b[0minfo\u001b[0m \u001b[0;34m<\u001b[0m \u001b[0;36m0\u001b[0m\u001b[0;34m:\u001b[0m\u001b[0;34m\u001b[0m\u001b[0m\n",
      "\u001b[0;31mLinAlgError\u001b[0m: 23-th leading minor not positive definite",
      "\nDuring handling of the above exception, another exception occurred:\n",
      "\u001b[0;31mTypeError\u001b[0m                                 Traceback (most recent call last)",
      "\u001b[0;32mpomegranate/bayes.pyx\u001b[0m in \u001b[0;36mpomegranate.bayes.BayesModel.from_summaries\u001b[0;34m()\u001b[0m\n",
      "\u001b[0;32mpomegranate/distributions.pyx\u001b[0m in \u001b[0;36mpomegranate.distributions.MultivariateGaussianDistribution.from_summaries\u001b[0;34m()\u001b[0m\n",
      "\u001b[0;31mTypeError\u001b[0m: Cannot cast ufunc subtract output from dtype('complex128') to dtype('float64') with casting rule 'same_kind'"
     ]
    },
    {
     "name": "stderr",
     "output_type": "stream",
     "text": [
      "Exception ignored in: 'pomegranate.hmm.HiddenMarkovModel._from_summaries'\n",
      "Traceback (most recent call last):\n",
      "  File \"pomegranate/bayes.pyx\", line 710, in pomegranate.bayes.BayesModel.from_summaries\n",
      "  File \"pomegranate/distributions.pyx\", line 2259, in pomegranate.distributions.MultivariateGaussianDistribution.from_summaries\n",
      "TypeError: Cannot cast ufunc subtract output from dtype('complex128') to dtype('float64') with casting rule 'same_kind'\n"
     ]
    },
    {
     "name": "stdout",
     "output_type": "stream",
     "text": [
      "[29] Improvement: 1.1508187069557607\tTime (s): 531.2\n"
     ]
    },
    {
     "ename": "TypeError",
     "evalue": "Cannot cast ufunc subtract output from dtype('complex128') to dtype('float64') with casting rule 'same_kind'",
     "output_type": "error",
     "traceback": [
      "\u001b[0;31m---------------------------------------------------------------------------\u001b[0m",
      "\u001b[0;31mLinAlgError\u001b[0m                               Traceback (most recent call last)",
      "\u001b[0;32mpomegranate/distributions.pyx\u001b[0m in \u001b[0;36mpomegranate.distributions.MultivariateGaussianDistribution.from_summaries\u001b[0;34m()\u001b[0m\n",
      "\u001b[0;32m/usr/local/lib/python3.5/dist-packages/scipy/linalg/decomp_cholesky.py\u001b[0m in \u001b[0;36mcholesky\u001b[0;34m(a, lower, overwrite_a, check_finite)\u001b[0m\n\u001b[1;32m     80\u001b[0m     c, lower = _cholesky(a, lower=lower, overwrite_a=overwrite_a, clean=True,\n\u001b[0;32m---> 81\u001b[0;31m                             check_finite=check_finite)\n\u001b[0m\u001b[1;32m     82\u001b[0m     \u001b[0;32mreturn\u001b[0m \u001b[0mc\u001b[0m\u001b[0;34m\u001b[0m\u001b[0m\n",
      "\u001b[0;32m/usr/local/lib/python3.5/dist-packages/scipy/linalg/decomp_cholesky.py\u001b[0m in \u001b[0;36m_cholesky\u001b[0;34m(a, lower, overwrite_a, clean, check_finite)\u001b[0m\n\u001b[1;32m     29\u001b[0m     \u001b[0;32mif\u001b[0m \u001b[0minfo\u001b[0m \u001b[0;34m>\u001b[0m \u001b[0;36m0\u001b[0m\u001b[0;34m:\u001b[0m\u001b[0;34m\u001b[0m\u001b[0m\n\u001b[0;32m---> 30\u001b[0;31m         \u001b[0;32mraise\u001b[0m \u001b[0mLinAlgError\u001b[0m\u001b[0;34m(\u001b[0m\u001b[0;34m\"%d-th leading minor not positive definite\"\u001b[0m \u001b[0;34m%\u001b[0m \u001b[0minfo\u001b[0m\u001b[0;34m)\u001b[0m\u001b[0;34m\u001b[0m\u001b[0m\n\u001b[0m\u001b[1;32m     31\u001b[0m     \u001b[0;32mif\u001b[0m \u001b[0minfo\u001b[0m \u001b[0;34m<\u001b[0m \u001b[0;36m0\u001b[0m\u001b[0;34m:\u001b[0m\u001b[0;34m\u001b[0m\u001b[0m\n",
      "\u001b[0;31mLinAlgError\u001b[0m: 23-th leading minor not positive definite",
      "\nDuring handling of the above exception, another exception occurred:\n",
      "\u001b[0;31mTypeError\u001b[0m                                 Traceback (most recent call last)",
      "\u001b[0;32mpomegranate/bayes.pyx\u001b[0m in \u001b[0;36mpomegranate.bayes.BayesModel.from_summaries\u001b[0;34m()\u001b[0m\n",
      "\u001b[0;32mpomegranate/distributions.pyx\u001b[0m in \u001b[0;36mpomegranate.distributions.MultivariateGaussianDistribution.from_summaries\u001b[0;34m()\u001b[0m\n",
      "\u001b[0;31mTypeError\u001b[0m: Cannot cast ufunc subtract output from dtype('complex128') to dtype('float64') with casting rule 'same_kind'"
     ]
    },
    {
     "name": "stderr",
     "output_type": "stream",
     "text": [
      "Exception ignored in: 'pomegranate.hmm.HiddenMarkovModel._from_summaries'\n",
      "Traceback (most recent call last):\n",
      "  File \"pomegranate/bayes.pyx\", line 710, in pomegranate.bayes.BayesModel.from_summaries\n",
      "  File \"pomegranate/distributions.pyx\", line 2259, in pomegranate.distributions.MultivariateGaussianDistribution.from_summaries\n",
      "TypeError: Cannot cast ufunc subtract output from dtype('complex128') to dtype('float64') with casting rule 'same_kind'\n"
     ]
    },
    {
     "name": "stdout",
     "output_type": "stream",
     "text": [
      "[30] Improvement: 0.14089310844428837\tTime (s): 537.6\n"
     ]
    },
    {
     "ename": "TypeError",
     "evalue": "Cannot cast ufunc subtract output from dtype('complex128') to dtype('float64') with casting rule 'same_kind'",
     "output_type": "error",
     "traceback": [
      "\u001b[0;31m---------------------------------------------------------------------------\u001b[0m",
      "\u001b[0;31mLinAlgError\u001b[0m                               Traceback (most recent call last)",
      "\u001b[0;32mpomegranate/distributions.pyx\u001b[0m in \u001b[0;36mpomegranate.distributions.MultivariateGaussianDistribution.from_summaries\u001b[0;34m()\u001b[0m\n",
      "\u001b[0;32m/usr/local/lib/python3.5/dist-packages/scipy/linalg/decomp_cholesky.py\u001b[0m in \u001b[0;36mcholesky\u001b[0;34m(a, lower, overwrite_a, check_finite)\u001b[0m\n\u001b[1;32m     80\u001b[0m     c, lower = _cholesky(a, lower=lower, overwrite_a=overwrite_a, clean=True,\n\u001b[0;32m---> 81\u001b[0;31m                             check_finite=check_finite)\n\u001b[0m\u001b[1;32m     82\u001b[0m     \u001b[0;32mreturn\u001b[0m \u001b[0mc\u001b[0m\u001b[0;34m\u001b[0m\u001b[0m\n",
      "\u001b[0;32m/usr/local/lib/python3.5/dist-packages/scipy/linalg/decomp_cholesky.py\u001b[0m in \u001b[0;36m_cholesky\u001b[0;34m(a, lower, overwrite_a, clean, check_finite)\u001b[0m\n\u001b[1;32m     29\u001b[0m     \u001b[0;32mif\u001b[0m \u001b[0minfo\u001b[0m \u001b[0;34m>\u001b[0m \u001b[0;36m0\u001b[0m\u001b[0;34m:\u001b[0m\u001b[0;34m\u001b[0m\u001b[0m\n\u001b[0;32m---> 30\u001b[0;31m         \u001b[0;32mraise\u001b[0m \u001b[0mLinAlgError\u001b[0m\u001b[0;34m(\u001b[0m\u001b[0;34m\"%d-th leading minor not positive definite\"\u001b[0m \u001b[0;34m%\u001b[0m \u001b[0minfo\u001b[0m\u001b[0;34m)\u001b[0m\u001b[0;34m\u001b[0m\u001b[0m\n\u001b[0m\u001b[1;32m     31\u001b[0m     \u001b[0;32mif\u001b[0m \u001b[0minfo\u001b[0m \u001b[0;34m<\u001b[0m \u001b[0;36m0\u001b[0m\u001b[0;34m:\u001b[0m\u001b[0;34m\u001b[0m\u001b[0m\n",
      "\u001b[0;31mLinAlgError\u001b[0m: 23-th leading minor not positive definite",
      "\nDuring handling of the above exception, another exception occurred:\n",
      "\u001b[0;31mTypeError\u001b[0m                                 Traceback (most recent call last)",
      "\u001b[0;32mpomegranate/bayes.pyx\u001b[0m in \u001b[0;36mpomegranate.bayes.BayesModel.from_summaries\u001b[0;34m()\u001b[0m\n",
      "\u001b[0;32mpomegranate/distributions.pyx\u001b[0m in \u001b[0;36mpomegranate.distributions.MultivariateGaussianDistribution.from_summaries\u001b[0;34m()\u001b[0m\n",
      "\u001b[0;31mTypeError\u001b[0m: Cannot cast ufunc subtract output from dtype('complex128') to dtype('float64') with casting rule 'same_kind'"
     ]
    },
    {
     "name": "stderr",
     "output_type": "stream",
     "text": [
      "Exception ignored in: 'pomegranate.hmm.HiddenMarkovModel._from_summaries'\n",
      "Traceback (most recent call last):\n",
      "  File \"pomegranate/bayes.pyx\", line 710, in pomegranate.bayes.BayesModel.from_summaries\n",
      "  File \"pomegranate/distributions.pyx\", line 2259, in pomegranate.distributions.MultivariateGaussianDistribution.from_summaries\n",
      "TypeError: Cannot cast ufunc subtract output from dtype('complex128') to dtype('float64') with casting rule 'same_kind'\n"
     ]
    },
    {
     "name": "stdout",
     "output_type": "stream",
     "text": [
      "[31] Improvement: 0.025304103270173073\tTime (s): 539.9\n"
     ]
    },
    {
     "ename": "TypeError",
     "evalue": "Cannot cast ufunc subtract output from dtype('complex128') to dtype('float64') with casting rule 'same_kind'",
     "output_type": "error",
     "traceback": [
      "\u001b[0;31m---------------------------------------------------------------------------\u001b[0m",
      "\u001b[0;31mLinAlgError\u001b[0m                               Traceback (most recent call last)",
      "\u001b[0;32mpomegranate/distributions.pyx\u001b[0m in \u001b[0;36mpomegranate.distributions.MultivariateGaussianDistribution.from_summaries\u001b[0;34m()\u001b[0m\n",
      "\u001b[0;32m/usr/local/lib/python3.5/dist-packages/scipy/linalg/decomp_cholesky.py\u001b[0m in \u001b[0;36mcholesky\u001b[0;34m(a, lower, overwrite_a, check_finite)\u001b[0m\n\u001b[1;32m     80\u001b[0m     c, lower = _cholesky(a, lower=lower, overwrite_a=overwrite_a, clean=True,\n\u001b[0;32m---> 81\u001b[0;31m                             check_finite=check_finite)\n\u001b[0m\u001b[1;32m     82\u001b[0m     \u001b[0;32mreturn\u001b[0m \u001b[0mc\u001b[0m\u001b[0;34m\u001b[0m\u001b[0m\n",
      "\u001b[0;32m/usr/local/lib/python3.5/dist-packages/scipy/linalg/decomp_cholesky.py\u001b[0m in \u001b[0;36m_cholesky\u001b[0;34m(a, lower, overwrite_a, clean, check_finite)\u001b[0m\n\u001b[1;32m     29\u001b[0m     \u001b[0;32mif\u001b[0m \u001b[0minfo\u001b[0m \u001b[0;34m>\u001b[0m \u001b[0;36m0\u001b[0m\u001b[0;34m:\u001b[0m\u001b[0;34m\u001b[0m\u001b[0m\n\u001b[0;32m---> 30\u001b[0;31m         \u001b[0;32mraise\u001b[0m \u001b[0mLinAlgError\u001b[0m\u001b[0;34m(\u001b[0m\u001b[0;34m\"%d-th leading minor not positive definite\"\u001b[0m \u001b[0;34m%\u001b[0m \u001b[0minfo\u001b[0m\u001b[0;34m)\u001b[0m\u001b[0;34m\u001b[0m\u001b[0m\n\u001b[0m\u001b[1;32m     31\u001b[0m     \u001b[0;32mif\u001b[0m \u001b[0minfo\u001b[0m \u001b[0;34m<\u001b[0m \u001b[0;36m0\u001b[0m\u001b[0;34m:\u001b[0m\u001b[0;34m\u001b[0m\u001b[0m\n",
      "\u001b[0;31mLinAlgError\u001b[0m: 23-th leading minor not positive definite",
      "\nDuring handling of the above exception, another exception occurred:\n",
      "\u001b[0;31mTypeError\u001b[0m                                 Traceback (most recent call last)",
      "\u001b[0;32mpomegranate/bayes.pyx\u001b[0m in \u001b[0;36mpomegranate.bayes.BayesModel.from_summaries\u001b[0;34m()\u001b[0m\n",
      "\u001b[0;32mpomegranate/distributions.pyx\u001b[0m in \u001b[0;36mpomegranate.distributions.MultivariateGaussianDistribution.from_summaries\u001b[0;34m()\u001b[0m\n",
      "\u001b[0;31mTypeError\u001b[0m: Cannot cast ufunc subtract output from dtype('complex128') to dtype('float64') with casting rule 'same_kind'"
     ]
    },
    {
     "name": "stderr",
     "output_type": "stream",
     "text": [
      "Exception ignored in: 'pomegranate.hmm.HiddenMarkovModel._from_summaries'\n",
      "Traceback (most recent call last):\n",
      "  File \"pomegranate/bayes.pyx\", line 710, in pomegranate.bayes.BayesModel.from_summaries\n",
      "  File \"pomegranate/distributions.pyx\", line 2259, in pomegranate.distributions.MultivariateGaussianDistribution.from_summaries\n",
      "TypeError: Cannot cast ufunc subtract output from dtype('complex128') to dtype('float64') with casting rule 'same_kind'\n"
     ]
    },
    {
     "name": "stdout",
     "output_type": "stream",
     "text": [
      "[32] Improvement: 0.009570289170369506\tTime (s): 543.2\n"
     ]
    },
    {
     "ename": "TypeError",
     "evalue": "Cannot cast ufunc subtract output from dtype('complex128') to dtype('float64') with casting rule 'same_kind'",
     "output_type": "error",
     "traceback": [
      "\u001b[0;31m---------------------------------------------------------------------------\u001b[0m",
      "\u001b[0;31mLinAlgError\u001b[0m                               Traceback (most recent call last)",
      "\u001b[0;32mpomegranate/distributions.pyx\u001b[0m in \u001b[0;36mpomegranate.distributions.MultivariateGaussianDistribution.from_summaries\u001b[0;34m()\u001b[0m\n",
      "\u001b[0;32m/usr/local/lib/python3.5/dist-packages/scipy/linalg/decomp_cholesky.py\u001b[0m in \u001b[0;36mcholesky\u001b[0;34m(a, lower, overwrite_a, check_finite)\u001b[0m\n\u001b[1;32m     80\u001b[0m     c, lower = _cholesky(a, lower=lower, overwrite_a=overwrite_a, clean=True,\n\u001b[0;32m---> 81\u001b[0;31m                             check_finite=check_finite)\n\u001b[0m\u001b[1;32m     82\u001b[0m     \u001b[0;32mreturn\u001b[0m \u001b[0mc\u001b[0m\u001b[0;34m\u001b[0m\u001b[0m\n",
      "\u001b[0;32m/usr/local/lib/python3.5/dist-packages/scipy/linalg/decomp_cholesky.py\u001b[0m in \u001b[0;36m_cholesky\u001b[0;34m(a, lower, overwrite_a, clean, check_finite)\u001b[0m\n\u001b[1;32m     29\u001b[0m     \u001b[0;32mif\u001b[0m \u001b[0minfo\u001b[0m \u001b[0;34m>\u001b[0m \u001b[0;36m0\u001b[0m\u001b[0;34m:\u001b[0m\u001b[0;34m\u001b[0m\u001b[0m\n\u001b[0;32m---> 30\u001b[0;31m         \u001b[0;32mraise\u001b[0m \u001b[0mLinAlgError\u001b[0m\u001b[0;34m(\u001b[0m\u001b[0;34m\"%d-th leading minor not positive definite\"\u001b[0m \u001b[0;34m%\u001b[0m \u001b[0minfo\u001b[0m\u001b[0;34m)\u001b[0m\u001b[0;34m\u001b[0m\u001b[0m\n\u001b[0m\u001b[1;32m     31\u001b[0m     \u001b[0;32mif\u001b[0m \u001b[0minfo\u001b[0m \u001b[0;34m<\u001b[0m \u001b[0;36m0\u001b[0m\u001b[0;34m:\u001b[0m\u001b[0;34m\u001b[0m\u001b[0m\n",
      "\u001b[0;31mLinAlgError\u001b[0m: 23-th leading minor not positive definite",
      "\nDuring handling of the above exception, another exception occurred:\n",
      "\u001b[0;31mTypeError\u001b[0m                                 Traceback (most recent call last)",
      "\u001b[0;32mpomegranate/bayes.pyx\u001b[0m in \u001b[0;36mpomegranate.bayes.BayesModel.from_summaries\u001b[0;34m()\u001b[0m\n",
      "\u001b[0;32mpomegranate/distributions.pyx\u001b[0m in \u001b[0;36mpomegranate.distributions.MultivariateGaussianDistribution.from_summaries\u001b[0;34m()\u001b[0m\n",
      "\u001b[0;31mTypeError\u001b[0m: Cannot cast ufunc subtract output from dtype('complex128') to dtype('float64') with casting rule 'same_kind'"
     ]
    },
    {
     "name": "stderr",
     "output_type": "stream",
     "text": [
      "Exception ignored in: 'pomegranate.hmm.HiddenMarkovModel._from_summaries'\n",
      "Traceback (most recent call last):\n",
      "  File \"pomegranate/bayes.pyx\", line 710, in pomegranate.bayes.BayesModel.from_summaries\n",
      "  File \"pomegranate/distributions.pyx\", line 2259, in pomegranate.distributions.MultivariateGaussianDistribution.from_summaries\n",
      "TypeError: Cannot cast ufunc subtract output from dtype('complex128') to dtype('float64') with casting rule 'same_kind'\n"
     ]
    },
    {
     "name": "stdout",
     "output_type": "stream",
     "text": [
      "[33] Improvement: 0.00407100236043334\tTime (s): 543.1\n"
     ]
    },
    {
     "ename": "TypeError",
     "evalue": "Cannot cast ufunc subtract output from dtype('complex128') to dtype('float64') with casting rule 'same_kind'",
     "output_type": "error",
     "traceback": [
      "\u001b[0;31m---------------------------------------------------------------------------\u001b[0m",
      "\u001b[0;31mLinAlgError\u001b[0m                               Traceback (most recent call last)",
      "\u001b[0;32mpomegranate/distributions.pyx\u001b[0m in \u001b[0;36mpomegranate.distributions.MultivariateGaussianDistribution.from_summaries\u001b[0;34m()\u001b[0m\n",
      "\u001b[0;32m/usr/local/lib/python3.5/dist-packages/scipy/linalg/decomp_cholesky.py\u001b[0m in \u001b[0;36mcholesky\u001b[0;34m(a, lower, overwrite_a, check_finite)\u001b[0m\n\u001b[1;32m     80\u001b[0m     c, lower = _cholesky(a, lower=lower, overwrite_a=overwrite_a, clean=True,\n\u001b[0;32m---> 81\u001b[0;31m                             check_finite=check_finite)\n\u001b[0m\u001b[1;32m     82\u001b[0m     \u001b[0;32mreturn\u001b[0m \u001b[0mc\u001b[0m\u001b[0;34m\u001b[0m\u001b[0m\n",
      "\u001b[0;32m/usr/local/lib/python3.5/dist-packages/scipy/linalg/decomp_cholesky.py\u001b[0m in \u001b[0;36m_cholesky\u001b[0;34m(a, lower, overwrite_a, clean, check_finite)\u001b[0m\n\u001b[1;32m     29\u001b[0m     \u001b[0;32mif\u001b[0m \u001b[0minfo\u001b[0m \u001b[0;34m>\u001b[0m \u001b[0;36m0\u001b[0m\u001b[0;34m:\u001b[0m\u001b[0;34m\u001b[0m\u001b[0m\n\u001b[0;32m---> 30\u001b[0;31m         \u001b[0;32mraise\u001b[0m \u001b[0mLinAlgError\u001b[0m\u001b[0;34m(\u001b[0m\u001b[0;34m\"%d-th leading minor not positive definite\"\u001b[0m \u001b[0;34m%\u001b[0m \u001b[0minfo\u001b[0m\u001b[0;34m)\u001b[0m\u001b[0;34m\u001b[0m\u001b[0m\n\u001b[0m\u001b[1;32m     31\u001b[0m     \u001b[0;32mif\u001b[0m \u001b[0minfo\u001b[0m \u001b[0;34m<\u001b[0m \u001b[0;36m0\u001b[0m\u001b[0;34m:\u001b[0m\u001b[0;34m\u001b[0m\u001b[0m\n",
      "\u001b[0;31mLinAlgError\u001b[0m: 23-th leading minor not positive definite",
      "\nDuring handling of the above exception, another exception occurred:\n",
      "\u001b[0;31mTypeError\u001b[0m                                 Traceback (most recent call last)",
      "\u001b[0;32mpomegranate/bayes.pyx\u001b[0m in \u001b[0;36mpomegranate.bayes.BayesModel.from_summaries\u001b[0;34m()\u001b[0m\n",
      "\u001b[0;32mpomegranate/distributions.pyx\u001b[0m in \u001b[0;36mpomegranate.distributions.MultivariateGaussianDistribution.from_summaries\u001b[0;34m()\u001b[0m\n",
      "\u001b[0;31mTypeError\u001b[0m: Cannot cast ufunc subtract output from dtype('complex128') to dtype('float64') with casting rule 'same_kind'"
     ]
    },
    {
     "name": "stderr",
     "output_type": "stream",
     "text": [
      "Exception ignored in: 'pomegranate.hmm.HiddenMarkovModel._from_summaries'\n",
      "Traceback (most recent call last):\n",
      "  File \"pomegranate/bayes.pyx\", line 710, in pomegranate.bayes.BayesModel.from_summaries\n",
      "  File \"pomegranate/distributions.pyx\", line 2259, in pomegranate.distributions.MultivariateGaussianDistribution.from_summaries\n",
      "TypeError: Cannot cast ufunc subtract output from dtype('complex128') to dtype('float64') with casting rule 'same_kind'\n"
     ]
    },
    {
     "name": "stdout",
     "output_type": "stream",
     "text": [
      "[34] Improvement: 0.0019249648321419954\tTime (s): 541.6\n"
     ]
    },
    {
     "ename": "TypeError",
     "evalue": "Cannot cast ufunc subtract output from dtype('complex128') to dtype('float64') with casting rule 'same_kind'",
     "output_type": "error",
     "traceback": [
      "\u001b[0;31m---------------------------------------------------------------------------\u001b[0m",
      "\u001b[0;31mLinAlgError\u001b[0m                               Traceback (most recent call last)",
      "\u001b[0;32mpomegranate/distributions.pyx\u001b[0m in \u001b[0;36mpomegranate.distributions.MultivariateGaussianDistribution.from_summaries\u001b[0;34m()\u001b[0m\n",
      "\u001b[0;32m/usr/local/lib/python3.5/dist-packages/scipy/linalg/decomp_cholesky.py\u001b[0m in \u001b[0;36mcholesky\u001b[0;34m(a, lower, overwrite_a, check_finite)\u001b[0m\n\u001b[1;32m     80\u001b[0m     c, lower = _cholesky(a, lower=lower, overwrite_a=overwrite_a, clean=True,\n\u001b[0;32m---> 81\u001b[0;31m                             check_finite=check_finite)\n\u001b[0m\u001b[1;32m     82\u001b[0m     \u001b[0;32mreturn\u001b[0m \u001b[0mc\u001b[0m\u001b[0;34m\u001b[0m\u001b[0m\n",
      "\u001b[0;32m/usr/local/lib/python3.5/dist-packages/scipy/linalg/decomp_cholesky.py\u001b[0m in \u001b[0;36m_cholesky\u001b[0;34m(a, lower, overwrite_a, clean, check_finite)\u001b[0m\n\u001b[1;32m     29\u001b[0m     \u001b[0;32mif\u001b[0m \u001b[0minfo\u001b[0m \u001b[0;34m>\u001b[0m \u001b[0;36m0\u001b[0m\u001b[0;34m:\u001b[0m\u001b[0;34m\u001b[0m\u001b[0m\n\u001b[0;32m---> 30\u001b[0;31m         \u001b[0;32mraise\u001b[0m \u001b[0mLinAlgError\u001b[0m\u001b[0;34m(\u001b[0m\u001b[0;34m\"%d-th leading minor not positive definite\"\u001b[0m \u001b[0;34m%\u001b[0m \u001b[0minfo\u001b[0m\u001b[0;34m)\u001b[0m\u001b[0;34m\u001b[0m\u001b[0m\n\u001b[0m\u001b[1;32m     31\u001b[0m     \u001b[0;32mif\u001b[0m \u001b[0minfo\u001b[0m \u001b[0;34m<\u001b[0m \u001b[0;36m0\u001b[0m\u001b[0;34m:\u001b[0m\u001b[0;34m\u001b[0m\u001b[0m\n",
      "\u001b[0;31mLinAlgError\u001b[0m: 23-th leading minor not positive definite",
      "\nDuring handling of the above exception, another exception occurred:\n",
      "\u001b[0;31mTypeError\u001b[0m                                 Traceback (most recent call last)",
      "\u001b[0;32mpomegranate/bayes.pyx\u001b[0m in \u001b[0;36mpomegranate.bayes.BayesModel.from_summaries\u001b[0;34m()\u001b[0m\n",
      "\u001b[0;32mpomegranate/distributions.pyx\u001b[0m in \u001b[0;36mpomegranate.distributions.MultivariateGaussianDistribution.from_summaries\u001b[0;34m()\u001b[0m\n",
      "\u001b[0;31mTypeError\u001b[0m: Cannot cast ufunc subtract output from dtype('complex128') to dtype('float64') with casting rule 'same_kind'"
     ]
    },
    {
     "name": "stderr",
     "output_type": "stream",
     "text": [
      "Exception ignored in: 'pomegranate.hmm.HiddenMarkovModel._from_summaries'\n",
      "Traceback (most recent call last):\n",
      "  File \"pomegranate/bayes.pyx\", line 710, in pomegranate.bayes.BayesModel.from_summaries\n",
      "  File \"pomegranate/distributions.pyx\", line 2259, in pomegranate.distributions.MultivariateGaussianDistribution.from_summaries\n",
      "TypeError: Cannot cast ufunc subtract output from dtype('complex128') to dtype('float64') with casting rule 'same_kind'\n"
     ]
    },
    {
     "name": "stdout",
     "output_type": "stream",
     "text": [
      "[35] Improvement: 0.0011146396864205599\tTime (s): 539.0\n"
     ]
    },
    {
     "ename": "TypeError",
     "evalue": "Cannot cast ufunc subtract output from dtype('complex128') to dtype('float64') with casting rule 'same_kind'",
     "output_type": "error",
     "traceback": [
      "\u001b[0;31m---------------------------------------------------------------------------\u001b[0m",
      "\u001b[0;31mLinAlgError\u001b[0m                               Traceback (most recent call last)",
      "\u001b[0;32mpomegranate/distributions.pyx\u001b[0m in \u001b[0;36mpomegranate.distributions.MultivariateGaussianDistribution.from_summaries\u001b[0;34m()\u001b[0m\n",
      "\u001b[0;32m/usr/local/lib/python3.5/dist-packages/scipy/linalg/decomp_cholesky.py\u001b[0m in \u001b[0;36mcholesky\u001b[0;34m(a, lower, overwrite_a, check_finite)\u001b[0m\n\u001b[1;32m     80\u001b[0m     c, lower = _cholesky(a, lower=lower, overwrite_a=overwrite_a, clean=True,\n\u001b[0;32m---> 81\u001b[0;31m                             check_finite=check_finite)\n\u001b[0m\u001b[1;32m     82\u001b[0m     \u001b[0;32mreturn\u001b[0m \u001b[0mc\u001b[0m\u001b[0;34m\u001b[0m\u001b[0m\n",
      "\u001b[0;32m/usr/local/lib/python3.5/dist-packages/scipy/linalg/decomp_cholesky.py\u001b[0m in \u001b[0;36m_cholesky\u001b[0;34m(a, lower, overwrite_a, clean, check_finite)\u001b[0m\n\u001b[1;32m     29\u001b[0m     \u001b[0;32mif\u001b[0m \u001b[0minfo\u001b[0m \u001b[0;34m>\u001b[0m \u001b[0;36m0\u001b[0m\u001b[0;34m:\u001b[0m\u001b[0;34m\u001b[0m\u001b[0m\n\u001b[0;32m---> 30\u001b[0;31m         \u001b[0;32mraise\u001b[0m \u001b[0mLinAlgError\u001b[0m\u001b[0;34m(\u001b[0m\u001b[0;34m\"%d-th leading minor not positive definite\"\u001b[0m \u001b[0;34m%\u001b[0m \u001b[0minfo\u001b[0m\u001b[0;34m)\u001b[0m\u001b[0;34m\u001b[0m\u001b[0m\n\u001b[0m\u001b[1;32m     31\u001b[0m     \u001b[0;32mif\u001b[0m \u001b[0minfo\u001b[0m \u001b[0;34m<\u001b[0m \u001b[0;36m0\u001b[0m\u001b[0;34m:\u001b[0m\u001b[0;34m\u001b[0m\u001b[0m\n",
      "\u001b[0;31mLinAlgError\u001b[0m: 23-th leading minor not positive definite",
      "\nDuring handling of the above exception, another exception occurred:\n",
      "\u001b[0;31mTypeError\u001b[0m                                 Traceback (most recent call last)",
      "\u001b[0;32mpomegranate/bayes.pyx\u001b[0m in \u001b[0;36mpomegranate.bayes.BayesModel.from_summaries\u001b[0;34m()\u001b[0m\n",
      "\u001b[0;32mpomegranate/distributions.pyx\u001b[0m in \u001b[0;36mpomegranate.distributions.MultivariateGaussianDistribution.from_summaries\u001b[0;34m()\u001b[0m\n",
      "\u001b[0;31mTypeError\u001b[0m: Cannot cast ufunc subtract output from dtype('complex128') to dtype('float64') with casting rule 'same_kind'"
     ]
    },
    {
     "name": "stderr",
     "output_type": "stream",
     "text": [
      "Exception ignored in: 'pomegranate.hmm.HiddenMarkovModel._from_summaries'\n",
      "Traceback (most recent call last):\n",
      "  File \"pomegranate/bayes.pyx\", line 710, in pomegranate.bayes.BayesModel.from_summaries\n",
      "  File \"pomegranate/distributions.pyx\", line 2259, in pomegranate.distributions.MultivariateGaussianDistribution.from_summaries\n",
      "TypeError: Cannot cast ufunc subtract output from dtype('complex128') to dtype('float64') with casting rule 'same_kind'\n"
     ]
    },
    {
     "name": "stdout",
     "output_type": "stream",
     "text": [
      "[36] Improvement: 0.0008710524998605251\tTime (s): 525.0\n"
     ]
    },
    {
     "ename": "TypeError",
     "evalue": "Cannot cast ufunc subtract output from dtype('complex128') to dtype('float64') with casting rule 'same_kind'",
     "output_type": "error",
     "traceback": [
      "\u001b[0;31m---------------------------------------------------------------------------\u001b[0m",
      "\u001b[0;31mLinAlgError\u001b[0m                               Traceback (most recent call last)",
      "\u001b[0;32mpomegranate/distributions.pyx\u001b[0m in \u001b[0;36mpomegranate.distributions.MultivariateGaussianDistribution.from_summaries\u001b[0;34m()\u001b[0m\n",
      "\u001b[0;32m/usr/local/lib/python3.5/dist-packages/scipy/linalg/decomp_cholesky.py\u001b[0m in \u001b[0;36mcholesky\u001b[0;34m(a, lower, overwrite_a, check_finite)\u001b[0m\n\u001b[1;32m     80\u001b[0m     c, lower = _cholesky(a, lower=lower, overwrite_a=overwrite_a, clean=True,\n\u001b[0;32m---> 81\u001b[0;31m                             check_finite=check_finite)\n\u001b[0m\u001b[1;32m     82\u001b[0m     \u001b[0;32mreturn\u001b[0m \u001b[0mc\u001b[0m\u001b[0;34m\u001b[0m\u001b[0m\n",
      "\u001b[0;32m/usr/local/lib/python3.5/dist-packages/scipy/linalg/decomp_cholesky.py\u001b[0m in \u001b[0;36m_cholesky\u001b[0;34m(a, lower, overwrite_a, clean, check_finite)\u001b[0m\n\u001b[1;32m     29\u001b[0m     \u001b[0;32mif\u001b[0m \u001b[0minfo\u001b[0m \u001b[0;34m>\u001b[0m \u001b[0;36m0\u001b[0m\u001b[0;34m:\u001b[0m\u001b[0;34m\u001b[0m\u001b[0m\n\u001b[0;32m---> 30\u001b[0;31m         \u001b[0;32mraise\u001b[0m \u001b[0mLinAlgError\u001b[0m\u001b[0;34m(\u001b[0m\u001b[0;34m\"%d-th leading minor not positive definite\"\u001b[0m \u001b[0;34m%\u001b[0m \u001b[0minfo\u001b[0m\u001b[0;34m)\u001b[0m\u001b[0;34m\u001b[0m\u001b[0m\n\u001b[0m\u001b[1;32m     31\u001b[0m     \u001b[0;32mif\u001b[0m \u001b[0minfo\u001b[0m \u001b[0;34m<\u001b[0m \u001b[0;36m0\u001b[0m\u001b[0;34m:\u001b[0m\u001b[0;34m\u001b[0m\u001b[0m\n",
      "\u001b[0;31mLinAlgError\u001b[0m: 23-th leading minor not positive definite",
      "\nDuring handling of the above exception, another exception occurred:\n",
      "\u001b[0;31mTypeError\u001b[0m                                 Traceback (most recent call last)",
      "\u001b[0;32mpomegranate/bayes.pyx\u001b[0m in \u001b[0;36mpomegranate.bayes.BayesModel.from_summaries\u001b[0;34m()\u001b[0m\n",
      "\u001b[0;32mpomegranate/distributions.pyx\u001b[0m in \u001b[0;36mpomegranate.distributions.MultivariateGaussianDistribution.from_summaries\u001b[0;34m()\u001b[0m\n",
      "\u001b[0;31mTypeError\u001b[0m: Cannot cast ufunc subtract output from dtype('complex128') to dtype('float64') with casting rule 'same_kind'"
     ]
    },
    {
     "name": "stderr",
     "output_type": "stream",
     "text": [
      "Exception ignored in: 'pomegranate.hmm.HiddenMarkovModel._from_summaries'\n",
      "Traceback (most recent call last):\n",
      "  File \"pomegranate/bayes.pyx\", line 710, in pomegranate.bayes.BayesModel.from_summaries\n",
      "  File \"pomegranate/distributions.pyx\", line 2259, in pomegranate.distributions.MultivariateGaussianDistribution.from_summaries\n",
      "TypeError: Cannot cast ufunc subtract output from dtype('complex128') to dtype('float64') with casting rule 'same_kind'\n"
     ]
    },
    {
     "name": "stdout",
     "output_type": "stream",
     "text": [
      "[37] Improvement: 0.0008764134254306555\tTime (s): 538.1\n"
     ]
    },
    {
     "ename": "TypeError",
     "evalue": "Cannot cast ufunc subtract output from dtype('complex128') to dtype('float64') with casting rule 'same_kind'",
     "output_type": "error",
     "traceback": [
      "\u001b[0;31m---------------------------------------------------------------------------\u001b[0m",
      "\u001b[0;31mLinAlgError\u001b[0m                               Traceback (most recent call last)",
      "\u001b[0;32mpomegranate/distributions.pyx\u001b[0m in \u001b[0;36mpomegranate.distributions.MultivariateGaussianDistribution.from_summaries\u001b[0;34m()\u001b[0m\n",
      "\u001b[0;32m/usr/local/lib/python3.5/dist-packages/scipy/linalg/decomp_cholesky.py\u001b[0m in \u001b[0;36mcholesky\u001b[0;34m(a, lower, overwrite_a, check_finite)\u001b[0m\n\u001b[1;32m     80\u001b[0m     c, lower = _cholesky(a, lower=lower, overwrite_a=overwrite_a, clean=True,\n\u001b[0;32m---> 81\u001b[0;31m                             check_finite=check_finite)\n\u001b[0m\u001b[1;32m     82\u001b[0m     \u001b[0;32mreturn\u001b[0m \u001b[0mc\u001b[0m\u001b[0;34m\u001b[0m\u001b[0m\n",
      "\u001b[0;32m/usr/local/lib/python3.5/dist-packages/scipy/linalg/decomp_cholesky.py\u001b[0m in \u001b[0;36m_cholesky\u001b[0;34m(a, lower, overwrite_a, clean, check_finite)\u001b[0m\n\u001b[1;32m     29\u001b[0m     \u001b[0;32mif\u001b[0m \u001b[0minfo\u001b[0m \u001b[0;34m>\u001b[0m \u001b[0;36m0\u001b[0m\u001b[0;34m:\u001b[0m\u001b[0;34m\u001b[0m\u001b[0m\n\u001b[0;32m---> 30\u001b[0;31m         \u001b[0;32mraise\u001b[0m \u001b[0mLinAlgError\u001b[0m\u001b[0;34m(\u001b[0m\u001b[0;34m\"%d-th leading minor not positive definite\"\u001b[0m \u001b[0;34m%\u001b[0m \u001b[0minfo\u001b[0m\u001b[0;34m)\u001b[0m\u001b[0;34m\u001b[0m\u001b[0m\n\u001b[0m\u001b[1;32m     31\u001b[0m     \u001b[0;32mif\u001b[0m \u001b[0minfo\u001b[0m \u001b[0;34m<\u001b[0m \u001b[0;36m0\u001b[0m\u001b[0;34m:\u001b[0m\u001b[0;34m\u001b[0m\u001b[0m\n",
      "\u001b[0;31mLinAlgError\u001b[0m: 23-th leading minor not positive definite",
      "\nDuring handling of the above exception, another exception occurred:\n",
      "\u001b[0;31mTypeError\u001b[0m                                 Traceback (most recent call last)",
      "\u001b[0;32mpomegranate/bayes.pyx\u001b[0m in \u001b[0;36mpomegranate.bayes.BayesModel.from_summaries\u001b[0;34m()\u001b[0m\n",
      "\u001b[0;32mpomegranate/distributions.pyx\u001b[0m in \u001b[0;36mpomegranate.distributions.MultivariateGaussianDistribution.from_summaries\u001b[0;34m()\u001b[0m\n",
      "\u001b[0;31mTypeError\u001b[0m: Cannot cast ufunc subtract output from dtype('complex128') to dtype('float64') with casting rule 'same_kind'"
     ]
    },
    {
     "name": "stderr",
     "output_type": "stream",
     "text": [
      "Exception ignored in: 'pomegranate.hmm.HiddenMarkovModel._from_summaries'\n",
      "Traceback (most recent call last):\n",
      "  File \"pomegranate/bayes.pyx\", line 710, in pomegranate.bayes.BayesModel.from_summaries\n",
      "  File \"pomegranate/distributions.pyx\", line 2259, in pomegranate.distributions.MultivariateGaussianDistribution.from_summaries\n",
      "TypeError: Cannot cast ufunc subtract output from dtype('complex128') to dtype('float64') with casting rule 'same_kind'\n"
     ]
    },
    {
     "name": "stdout",
     "output_type": "stream",
     "text": [
      "[38] Improvement: 0.0009993412531912327\tTime (s): 540.0\n"
     ]
    },
    {
     "ename": "TypeError",
     "evalue": "Cannot cast ufunc subtract output from dtype('complex128') to dtype('float64') with casting rule 'same_kind'",
     "output_type": "error",
     "traceback": [
      "\u001b[0;31m---------------------------------------------------------------------------\u001b[0m",
      "\u001b[0;31mLinAlgError\u001b[0m                               Traceback (most recent call last)",
      "\u001b[0;32mpomegranate/distributions.pyx\u001b[0m in \u001b[0;36mpomegranate.distributions.MultivariateGaussianDistribution.from_summaries\u001b[0;34m()\u001b[0m\n",
      "\u001b[0;32m/usr/local/lib/python3.5/dist-packages/scipy/linalg/decomp_cholesky.py\u001b[0m in \u001b[0;36mcholesky\u001b[0;34m(a, lower, overwrite_a, check_finite)\u001b[0m\n\u001b[1;32m     80\u001b[0m     c, lower = _cholesky(a, lower=lower, overwrite_a=overwrite_a, clean=True,\n\u001b[0;32m---> 81\u001b[0;31m                             check_finite=check_finite)\n\u001b[0m\u001b[1;32m     82\u001b[0m     \u001b[0;32mreturn\u001b[0m \u001b[0mc\u001b[0m\u001b[0;34m\u001b[0m\u001b[0m\n",
      "\u001b[0;32m/usr/local/lib/python3.5/dist-packages/scipy/linalg/decomp_cholesky.py\u001b[0m in \u001b[0;36m_cholesky\u001b[0;34m(a, lower, overwrite_a, clean, check_finite)\u001b[0m\n\u001b[1;32m     29\u001b[0m     \u001b[0;32mif\u001b[0m \u001b[0minfo\u001b[0m \u001b[0;34m>\u001b[0m \u001b[0;36m0\u001b[0m\u001b[0;34m:\u001b[0m\u001b[0;34m\u001b[0m\u001b[0m\n\u001b[0;32m---> 30\u001b[0;31m         \u001b[0;32mraise\u001b[0m \u001b[0mLinAlgError\u001b[0m\u001b[0;34m(\u001b[0m\u001b[0;34m\"%d-th leading minor not positive definite\"\u001b[0m \u001b[0;34m%\u001b[0m \u001b[0minfo\u001b[0m\u001b[0;34m)\u001b[0m\u001b[0;34m\u001b[0m\u001b[0m\n\u001b[0m\u001b[1;32m     31\u001b[0m     \u001b[0;32mif\u001b[0m \u001b[0minfo\u001b[0m \u001b[0;34m<\u001b[0m \u001b[0;36m0\u001b[0m\u001b[0;34m:\u001b[0m\u001b[0;34m\u001b[0m\u001b[0m\n",
      "\u001b[0;31mLinAlgError\u001b[0m: 24-th leading minor not positive definite",
      "\nDuring handling of the above exception, another exception occurred:\n",
      "\u001b[0;31mTypeError\u001b[0m                                 Traceback (most recent call last)",
      "\u001b[0;32mpomegranate/bayes.pyx\u001b[0m in \u001b[0;36mpomegranate.bayes.BayesModel.from_summaries\u001b[0;34m()\u001b[0m\n",
      "\u001b[0;32mpomegranate/distributions.pyx\u001b[0m in \u001b[0;36mpomegranate.distributions.MultivariateGaussianDistribution.from_summaries\u001b[0;34m()\u001b[0m\n",
      "\u001b[0;31mTypeError\u001b[0m: Cannot cast ufunc subtract output from dtype('complex128') to dtype('float64') with casting rule 'same_kind'"
     ]
    },
    {
     "name": "stderr",
     "output_type": "stream",
     "text": [
      "Exception ignored in: 'pomegranate.hmm.HiddenMarkovModel._from_summaries'\n",
      "Traceback (most recent call last):\n",
      "  File \"pomegranate/bayes.pyx\", line 710, in pomegranate.bayes.BayesModel.from_summaries\n",
      "  File \"pomegranate/distributions.pyx\", line 2259, in pomegranate.distributions.MultivariateGaussianDistribution.from_summaries\n",
      "TypeError: Cannot cast ufunc subtract output from dtype('complex128') to dtype('float64') with casting rule 'same_kind'\n"
     ]
    },
    {
     "name": "stdout",
     "output_type": "stream",
     "text": [
      "[39] Improvement: 0.001191070070490241\tTime (s): 539.7\n"
     ]
    },
    {
     "ename": "TypeError",
     "evalue": "Cannot cast ufunc subtract output from dtype('complex128') to dtype('float64') with casting rule 'same_kind'",
     "output_type": "error",
     "traceback": [
      "\u001b[0;31m---------------------------------------------------------------------------\u001b[0m",
      "\u001b[0;31mLinAlgError\u001b[0m                               Traceback (most recent call last)",
      "\u001b[0;32mpomegranate/distributions.pyx\u001b[0m in \u001b[0;36mpomegranate.distributions.MultivariateGaussianDistribution.from_summaries\u001b[0;34m()\u001b[0m\n",
      "\u001b[0;32m/usr/local/lib/python3.5/dist-packages/scipy/linalg/decomp_cholesky.py\u001b[0m in \u001b[0;36mcholesky\u001b[0;34m(a, lower, overwrite_a, check_finite)\u001b[0m\n\u001b[1;32m     80\u001b[0m     c, lower = _cholesky(a, lower=lower, overwrite_a=overwrite_a, clean=True,\n\u001b[0;32m---> 81\u001b[0;31m                             check_finite=check_finite)\n\u001b[0m\u001b[1;32m     82\u001b[0m     \u001b[0;32mreturn\u001b[0m \u001b[0mc\u001b[0m\u001b[0;34m\u001b[0m\u001b[0m\n",
      "\u001b[0;32m/usr/local/lib/python3.5/dist-packages/scipy/linalg/decomp_cholesky.py\u001b[0m in \u001b[0;36m_cholesky\u001b[0;34m(a, lower, overwrite_a, clean, check_finite)\u001b[0m\n\u001b[1;32m     29\u001b[0m     \u001b[0;32mif\u001b[0m \u001b[0minfo\u001b[0m \u001b[0;34m>\u001b[0m \u001b[0;36m0\u001b[0m\u001b[0;34m:\u001b[0m\u001b[0;34m\u001b[0m\u001b[0m\n\u001b[0;32m---> 30\u001b[0;31m         \u001b[0;32mraise\u001b[0m \u001b[0mLinAlgError\u001b[0m\u001b[0;34m(\u001b[0m\u001b[0;34m\"%d-th leading minor not positive definite\"\u001b[0m \u001b[0;34m%\u001b[0m \u001b[0minfo\u001b[0m\u001b[0;34m)\u001b[0m\u001b[0;34m\u001b[0m\u001b[0m\n\u001b[0m\u001b[1;32m     31\u001b[0m     \u001b[0;32mif\u001b[0m \u001b[0minfo\u001b[0m \u001b[0;34m<\u001b[0m \u001b[0;36m0\u001b[0m\u001b[0;34m:\u001b[0m\u001b[0;34m\u001b[0m\u001b[0m\n",
      "\u001b[0;31mLinAlgError\u001b[0m: 24-th leading minor not positive definite",
      "\nDuring handling of the above exception, another exception occurred:\n",
      "\u001b[0;31mTypeError\u001b[0m                                 Traceback (most recent call last)",
      "\u001b[0;32mpomegranate/bayes.pyx\u001b[0m in \u001b[0;36mpomegranate.bayes.BayesModel.from_summaries\u001b[0;34m()\u001b[0m\n",
      "\u001b[0;32mpomegranate/distributions.pyx\u001b[0m in \u001b[0;36mpomegranate.distributions.MultivariateGaussianDistribution.from_summaries\u001b[0;34m()\u001b[0m\n",
      "\u001b[0;31mTypeError\u001b[0m: Cannot cast ufunc subtract output from dtype('complex128') to dtype('float64') with casting rule 'same_kind'"
     ]
    },
    {
     "name": "stderr",
     "output_type": "stream",
     "text": [
      "Exception ignored in: 'pomegranate.hmm.HiddenMarkovModel._from_summaries'\n",
      "Traceback (most recent call last):\n",
      "  File \"pomegranate/bayes.pyx\", line 710, in pomegranate.bayes.BayesModel.from_summaries\n",
      "  File \"pomegranate/distributions.pyx\", line 2259, in pomegranate.distributions.MultivariateGaussianDistribution.from_summaries\n",
      "TypeError: Cannot cast ufunc subtract output from dtype('complex128') to dtype('float64') with casting rule 'same_kind'\n"
     ]
    },
    {
     "name": "stdout",
     "output_type": "stream",
     "text": [
      "[40] Improvement: 0.0014419096987694502\tTime (s): 535.4\n"
     ]
    },
    {
     "ename": "TypeError",
     "evalue": "Cannot cast ufunc subtract output from dtype('complex128') to dtype('float64') with casting rule 'same_kind'",
     "output_type": "error",
     "traceback": [
      "\u001b[0;31m---------------------------------------------------------------------------\u001b[0m",
      "\u001b[0;31mLinAlgError\u001b[0m                               Traceback (most recent call last)",
      "\u001b[0;32mpomegranate/distributions.pyx\u001b[0m in \u001b[0;36mpomegranate.distributions.MultivariateGaussianDistribution.from_summaries\u001b[0;34m()\u001b[0m\n",
      "\u001b[0;32m/usr/local/lib/python3.5/dist-packages/scipy/linalg/decomp_cholesky.py\u001b[0m in \u001b[0;36mcholesky\u001b[0;34m(a, lower, overwrite_a, check_finite)\u001b[0m\n\u001b[1;32m     80\u001b[0m     c, lower = _cholesky(a, lower=lower, overwrite_a=overwrite_a, clean=True,\n\u001b[0;32m---> 81\u001b[0;31m                             check_finite=check_finite)\n\u001b[0m\u001b[1;32m     82\u001b[0m     \u001b[0;32mreturn\u001b[0m \u001b[0mc\u001b[0m\u001b[0;34m\u001b[0m\u001b[0m\n",
      "\u001b[0;32m/usr/local/lib/python3.5/dist-packages/scipy/linalg/decomp_cholesky.py\u001b[0m in \u001b[0;36m_cholesky\u001b[0;34m(a, lower, overwrite_a, clean, check_finite)\u001b[0m\n\u001b[1;32m     29\u001b[0m     \u001b[0;32mif\u001b[0m \u001b[0minfo\u001b[0m \u001b[0;34m>\u001b[0m \u001b[0;36m0\u001b[0m\u001b[0;34m:\u001b[0m\u001b[0;34m\u001b[0m\u001b[0m\n\u001b[0;32m---> 30\u001b[0;31m         \u001b[0;32mraise\u001b[0m \u001b[0mLinAlgError\u001b[0m\u001b[0;34m(\u001b[0m\u001b[0;34m\"%d-th leading minor not positive definite\"\u001b[0m \u001b[0;34m%\u001b[0m \u001b[0minfo\u001b[0m\u001b[0;34m)\u001b[0m\u001b[0;34m\u001b[0m\u001b[0m\n\u001b[0m\u001b[1;32m     31\u001b[0m     \u001b[0;32mif\u001b[0m \u001b[0minfo\u001b[0m \u001b[0;34m<\u001b[0m \u001b[0;36m0\u001b[0m\u001b[0;34m:\u001b[0m\u001b[0;34m\u001b[0m\u001b[0m\n",
      "\u001b[0;31mLinAlgError\u001b[0m: 24-th leading minor not positive definite",
      "\nDuring handling of the above exception, another exception occurred:\n",
      "\u001b[0;31mTypeError\u001b[0m                                 Traceback (most recent call last)",
      "\u001b[0;32mpomegranate/bayes.pyx\u001b[0m in \u001b[0;36mpomegranate.bayes.BayesModel.from_summaries\u001b[0;34m()\u001b[0m\n",
      "\u001b[0;32mpomegranate/distributions.pyx\u001b[0m in \u001b[0;36mpomegranate.distributions.MultivariateGaussianDistribution.from_summaries\u001b[0;34m()\u001b[0m\n",
      "\u001b[0;31mTypeError\u001b[0m: Cannot cast ufunc subtract output from dtype('complex128') to dtype('float64') with casting rule 'same_kind'"
     ]
    },
    {
     "name": "stderr",
     "output_type": "stream",
     "text": [
      "Exception ignored in: 'pomegranate.hmm.HiddenMarkovModel._from_summaries'\n",
      "Traceback (most recent call last):\n",
      "  File \"pomegranate/bayes.pyx\", line 710, in pomegranate.bayes.BayesModel.from_summaries\n",
      "  File \"pomegranate/distributions.pyx\", line 2259, in pomegranate.distributions.MultivariateGaussianDistribution.from_summaries\n",
      "TypeError: Cannot cast ufunc subtract output from dtype('complex128') to dtype('float64') with casting rule 'same_kind'\n"
     ]
    },
    {
     "name": "stdout",
     "output_type": "stream",
     "text": [
      "[41] Improvement: 0.0017632839735597372\tTime (s): 540.5\n"
     ]
    },
    {
     "ename": "TypeError",
     "evalue": "Cannot cast ufunc subtract output from dtype('complex128') to dtype('float64') with casting rule 'same_kind'",
     "output_type": "error",
     "traceback": [
      "\u001b[0;31m---------------------------------------------------------------------------\u001b[0m",
      "\u001b[0;31mLinAlgError\u001b[0m                               Traceback (most recent call last)",
      "\u001b[0;32mpomegranate/distributions.pyx\u001b[0m in \u001b[0;36mpomegranate.distributions.MultivariateGaussianDistribution.from_summaries\u001b[0;34m()\u001b[0m\n",
      "\u001b[0;32m/usr/local/lib/python3.5/dist-packages/scipy/linalg/decomp_cholesky.py\u001b[0m in \u001b[0;36mcholesky\u001b[0;34m(a, lower, overwrite_a, check_finite)\u001b[0m\n\u001b[1;32m     80\u001b[0m     c, lower = _cholesky(a, lower=lower, overwrite_a=overwrite_a, clean=True,\n\u001b[0;32m---> 81\u001b[0;31m                             check_finite=check_finite)\n\u001b[0m\u001b[1;32m     82\u001b[0m     \u001b[0;32mreturn\u001b[0m \u001b[0mc\u001b[0m\u001b[0;34m\u001b[0m\u001b[0m\n",
      "\u001b[0;32m/usr/local/lib/python3.5/dist-packages/scipy/linalg/decomp_cholesky.py\u001b[0m in \u001b[0;36m_cholesky\u001b[0;34m(a, lower, overwrite_a, clean, check_finite)\u001b[0m\n\u001b[1;32m     29\u001b[0m     \u001b[0;32mif\u001b[0m \u001b[0minfo\u001b[0m \u001b[0;34m>\u001b[0m \u001b[0;36m0\u001b[0m\u001b[0;34m:\u001b[0m\u001b[0;34m\u001b[0m\u001b[0m\n\u001b[0;32m---> 30\u001b[0;31m         \u001b[0;32mraise\u001b[0m \u001b[0mLinAlgError\u001b[0m\u001b[0;34m(\u001b[0m\u001b[0;34m\"%d-th leading minor not positive definite\"\u001b[0m \u001b[0;34m%\u001b[0m \u001b[0minfo\u001b[0m\u001b[0;34m)\u001b[0m\u001b[0;34m\u001b[0m\u001b[0m\n\u001b[0m\u001b[1;32m     31\u001b[0m     \u001b[0;32mif\u001b[0m \u001b[0minfo\u001b[0m \u001b[0;34m<\u001b[0m \u001b[0;36m0\u001b[0m\u001b[0;34m:\u001b[0m\u001b[0;34m\u001b[0m\u001b[0m\n",
      "\u001b[0;31mLinAlgError\u001b[0m: 24-th leading minor not positive definite",
      "\nDuring handling of the above exception, another exception occurred:\n",
      "\u001b[0;31mTypeError\u001b[0m                                 Traceback (most recent call last)",
      "\u001b[0;32mpomegranate/bayes.pyx\u001b[0m in \u001b[0;36mpomegranate.bayes.BayesModel.from_summaries\u001b[0;34m()\u001b[0m\n",
      "\u001b[0;32mpomegranate/distributions.pyx\u001b[0m in \u001b[0;36mpomegranate.distributions.MultivariateGaussianDistribution.from_summaries\u001b[0;34m()\u001b[0m\n",
      "\u001b[0;31mTypeError\u001b[0m: Cannot cast ufunc subtract output from dtype('complex128') to dtype('float64') with casting rule 'same_kind'"
     ]
    },
    {
     "name": "stderr",
     "output_type": "stream",
     "text": [
      "Exception ignored in: 'pomegranate.hmm.HiddenMarkovModel._from_summaries'\n",
      "Traceback (most recent call last):\n",
      "  File \"pomegranate/bayes.pyx\", line 710, in pomegranate.bayes.BayesModel.from_summaries\n",
      "  File \"pomegranate/distributions.pyx\", line 2259, in pomegranate.distributions.MultivariateGaussianDistribution.from_summaries\n",
      "TypeError: Cannot cast ufunc subtract output from dtype('complex128') to dtype('float64') with casting rule 'same_kind'\n"
     ]
    },
    {
     "name": "stdout",
     "output_type": "stream",
     "text": [
      "[42] Improvement: 0.002181523945182562\tTime (s): 541.7\n"
     ]
    },
    {
     "ename": "TypeError",
     "evalue": "Cannot cast ufunc subtract output from dtype('complex128') to dtype('float64') with casting rule 'same_kind'",
     "output_type": "error",
     "traceback": [
      "\u001b[0;31m---------------------------------------------------------------------------\u001b[0m",
      "\u001b[0;31mLinAlgError\u001b[0m                               Traceback (most recent call last)",
      "\u001b[0;32mpomegranate/distributions.pyx\u001b[0m in \u001b[0;36mpomegranate.distributions.MultivariateGaussianDistribution.from_summaries\u001b[0;34m()\u001b[0m\n",
      "\u001b[0;32m/usr/local/lib/python3.5/dist-packages/scipy/linalg/decomp_cholesky.py\u001b[0m in \u001b[0;36mcholesky\u001b[0;34m(a, lower, overwrite_a, check_finite)\u001b[0m\n\u001b[1;32m     80\u001b[0m     c, lower = _cholesky(a, lower=lower, overwrite_a=overwrite_a, clean=True,\n\u001b[0;32m---> 81\u001b[0;31m                             check_finite=check_finite)\n\u001b[0m\u001b[1;32m     82\u001b[0m     \u001b[0;32mreturn\u001b[0m \u001b[0mc\u001b[0m\u001b[0;34m\u001b[0m\u001b[0m\n",
      "\u001b[0;32m/usr/local/lib/python3.5/dist-packages/scipy/linalg/decomp_cholesky.py\u001b[0m in \u001b[0;36m_cholesky\u001b[0;34m(a, lower, overwrite_a, clean, check_finite)\u001b[0m\n\u001b[1;32m     29\u001b[0m     \u001b[0;32mif\u001b[0m \u001b[0minfo\u001b[0m \u001b[0;34m>\u001b[0m \u001b[0;36m0\u001b[0m\u001b[0;34m:\u001b[0m\u001b[0;34m\u001b[0m\u001b[0m\n\u001b[0;32m---> 30\u001b[0;31m         \u001b[0;32mraise\u001b[0m \u001b[0mLinAlgError\u001b[0m\u001b[0;34m(\u001b[0m\u001b[0;34m\"%d-th leading minor not positive definite\"\u001b[0m \u001b[0;34m%\u001b[0m \u001b[0minfo\u001b[0m\u001b[0;34m)\u001b[0m\u001b[0;34m\u001b[0m\u001b[0m\n\u001b[0m\u001b[1;32m     31\u001b[0m     \u001b[0;32mif\u001b[0m \u001b[0minfo\u001b[0m \u001b[0;34m<\u001b[0m \u001b[0;36m0\u001b[0m\u001b[0;34m:\u001b[0m\u001b[0;34m\u001b[0m\u001b[0m\n",
      "\u001b[0;31mLinAlgError\u001b[0m: 24-th leading minor not positive definite",
      "\nDuring handling of the above exception, another exception occurred:\n",
      "\u001b[0;31mTypeError\u001b[0m                                 Traceback (most recent call last)",
      "\u001b[0;32mpomegranate/bayes.pyx\u001b[0m in \u001b[0;36mpomegranate.bayes.BayesModel.from_summaries\u001b[0;34m()\u001b[0m\n",
      "\u001b[0;32mpomegranate/distributions.pyx\u001b[0m in \u001b[0;36mpomegranate.distributions.MultivariateGaussianDistribution.from_summaries\u001b[0;34m()\u001b[0m\n",
      "\u001b[0;31mTypeError\u001b[0m: Cannot cast ufunc subtract output from dtype('complex128') to dtype('float64') with casting rule 'same_kind'"
     ]
    },
    {
     "name": "stderr",
     "output_type": "stream",
     "text": [
      "Exception ignored in: 'pomegranate.hmm.HiddenMarkovModel._from_summaries'\n",
      "Traceback (most recent call last):\n",
      "  File \"pomegranate/bayes.pyx\", line 710, in pomegranate.bayes.BayesModel.from_summaries\n",
      "  File \"pomegranate/distributions.pyx\", line 2259, in pomegranate.distributions.MultivariateGaussianDistribution.from_summaries\n",
      "TypeError: Cannot cast ufunc subtract output from dtype('complex128') to dtype('float64') with casting rule 'same_kind'\n"
     ]
    },
    {
     "name": "stdout",
     "output_type": "stream",
     "text": [
      "[43] Improvement: 0.0027372855693101883\tTime (s): 541.3\n"
     ]
    },
    {
     "ename": "TypeError",
     "evalue": "Cannot cast ufunc subtract output from dtype('complex128') to dtype('float64') with casting rule 'same_kind'",
     "output_type": "error",
     "traceback": [
      "\u001b[0;31m---------------------------------------------------------------------------\u001b[0m",
      "\u001b[0;31mLinAlgError\u001b[0m                               Traceback (most recent call last)",
      "\u001b[0;32mpomegranate/distributions.pyx\u001b[0m in \u001b[0;36mpomegranate.distributions.MultivariateGaussianDistribution.from_summaries\u001b[0;34m()\u001b[0m\n",
      "\u001b[0;32m/usr/local/lib/python3.5/dist-packages/scipy/linalg/decomp_cholesky.py\u001b[0m in \u001b[0;36mcholesky\u001b[0;34m(a, lower, overwrite_a, check_finite)\u001b[0m\n\u001b[1;32m     80\u001b[0m     c, lower = _cholesky(a, lower=lower, overwrite_a=overwrite_a, clean=True,\n\u001b[0;32m---> 81\u001b[0;31m                             check_finite=check_finite)\n\u001b[0m\u001b[1;32m     82\u001b[0m     \u001b[0;32mreturn\u001b[0m \u001b[0mc\u001b[0m\u001b[0;34m\u001b[0m\u001b[0m\n",
      "\u001b[0;32m/usr/local/lib/python3.5/dist-packages/scipy/linalg/decomp_cholesky.py\u001b[0m in \u001b[0;36m_cholesky\u001b[0;34m(a, lower, overwrite_a, clean, check_finite)\u001b[0m\n\u001b[1;32m     29\u001b[0m     \u001b[0;32mif\u001b[0m \u001b[0minfo\u001b[0m \u001b[0;34m>\u001b[0m \u001b[0;36m0\u001b[0m\u001b[0;34m:\u001b[0m\u001b[0;34m\u001b[0m\u001b[0m\n\u001b[0;32m---> 30\u001b[0;31m         \u001b[0;32mraise\u001b[0m \u001b[0mLinAlgError\u001b[0m\u001b[0;34m(\u001b[0m\u001b[0;34m\"%d-th leading minor not positive definite\"\u001b[0m \u001b[0;34m%\u001b[0m \u001b[0minfo\u001b[0m\u001b[0;34m)\u001b[0m\u001b[0;34m\u001b[0m\u001b[0m\n\u001b[0m\u001b[1;32m     31\u001b[0m     \u001b[0;32mif\u001b[0m \u001b[0minfo\u001b[0m \u001b[0;34m<\u001b[0m \u001b[0;36m0\u001b[0m\u001b[0;34m:\u001b[0m\u001b[0;34m\u001b[0m\u001b[0m\n",
      "\u001b[0;31mLinAlgError\u001b[0m: 24-th leading minor not positive definite",
      "\nDuring handling of the above exception, another exception occurred:\n",
      "\u001b[0;31mTypeError\u001b[0m                                 Traceback (most recent call last)",
      "\u001b[0;32mpomegranate/bayes.pyx\u001b[0m in \u001b[0;36mpomegranate.bayes.BayesModel.from_summaries\u001b[0;34m()\u001b[0m\n",
      "\u001b[0;32mpomegranate/distributions.pyx\u001b[0m in \u001b[0;36mpomegranate.distributions.MultivariateGaussianDistribution.from_summaries\u001b[0;34m()\u001b[0m\n",
      "\u001b[0;31mTypeError\u001b[0m: Cannot cast ufunc subtract output from dtype('complex128') to dtype('float64') with casting rule 'same_kind'"
     ]
    },
    {
     "name": "stderr",
     "output_type": "stream",
     "text": [
      "Exception ignored in: 'pomegranate.hmm.HiddenMarkovModel._from_summaries'\n",
      "Traceback (most recent call last):\n",
      "  File \"pomegranate/bayes.pyx\", line 710, in pomegranate.bayes.BayesModel.from_summaries\n",
      "  File \"pomegranate/distributions.pyx\", line 2259, in pomegranate.distributions.MultivariateGaussianDistribution.from_summaries\n",
      "TypeError: Cannot cast ufunc subtract output from dtype('complex128') to dtype('float64') with casting rule 'same_kind'\n"
     ]
    },
    {
     "name": "stdout",
     "output_type": "stream",
     "text": [
      "[44] Improvement: 0.003487061243504286\tTime (s): 533.4\n"
     ]
    },
    {
     "ename": "TypeError",
     "evalue": "Cannot cast ufunc subtract output from dtype('complex128') to dtype('float64') with casting rule 'same_kind'",
     "output_type": "error",
     "traceback": [
      "\u001b[0;31m---------------------------------------------------------------------------\u001b[0m",
      "\u001b[0;31mLinAlgError\u001b[0m                               Traceback (most recent call last)",
      "\u001b[0;32mpomegranate/distributions.pyx\u001b[0m in \u001b[0;36mpomegranate.distributions.MultivariateGaussianDistribution.from_summaries\u001b[0;34m()\u001b[0m\n",
      "\u001b[0;32m/usr/local/lib/python3.5/dist-packages/scipy/linalg/decomp_cholesky.py\u001b[0m in \u001b[0;36mcholesky\u001b[0;34m(a, lower, overwrite_a, check_finite)\u001b[0m\n\u001b[1;32m     80\u001b[0m     c, lower = _cholesky(a, lower=lower, overwrite_a=overwrite_a, clean=True,\n\u001b[0;32m---> 81\u001b[0;31m                             check_finite=check_finite)\n\u001b[0m\u001b[1;32m     82\u001b[0m     \u001b[0;32mreturn\u001b[0m \u001b[0mc\u001b[0m\u001b[0;34m\u001b[0m\u001b[0m\n",
      "\u001b[0;32m/usr/local/lib/python3.5/dist-packages/scipy/linalg/decomp_cholesky.py\u001b[0m in \u001b[0;36m_cholesky\u001b[0;34m(a, lower, overwrite_a, clean, check_finite)\u001b[0m\n\u001b[1;32m     29\u001b[0m     \u001b[0;32mif\u001b[0m \u001b[0minfo\u001b[0m \u001b[0;34m>\u001b[0m \u001b[0;36m0\u001b[0m\u001b[0;34m:\u001b[0m\u001b[0;34m\u001b[0m\u001b[0m\n\u001b[0;32m---> 30\u001b[0;31m         \u001b[0;32mraise\u001b[0m \u001b[0mLinAlgError\u001b[0m\u001b[0;34m(\u001b[0m\u001b[0;34m\"%d-th leading minor not positive definite\"\u001b[0m \u001b[0;34m%\u001b[0m \u001b[0minfo\u001b[0m\u001b[0;34m)\u001b[0m\u001b[0;34m\u001b[0m\u001b[0m\n\u001b[0m\u001b[1;32m     31\u001b[0m     \u001b[0;32mif\u001b[0m \u001b[0minfo\u001b[0m \u001b[0;34m<\u001b[0m \u001b[0;36m0\u001b[0m\u001b[0;34m:\u001b[0m\u001b[0;34m\u001b[0m\u001b[0m\n",
      "\u001b[0;31mLinAlgError\u001b[0m: 24-th leading minor not positive definite",
      "\nDuring handling of the above exception, another exception occurred:\n",
      "\u001b[0;31mTypeError\u001b[0m                                 Traceback (most recent call last)",
      "\u001b[0;32mpomegranate/bayes.pyx\u001b[0m in \u001b[0;36mpomegranate.bayes.BayesModel.from_summaries\u001b[0;34m()\u001b[0m\n",
      "\u001b[0;32mpomegranate/distributions.pyx\u001b[0m in \u001b[0;36mpomegranate.distributions.MultivariateGaussianDistribution.from_summaries\u001b[0;34m()\u001b[0m\n",
      "\u001b[0;31mTypeError\u001b[0m: Cannot cast ufunc subtract output from dtype('complex128') to dtype('float64') with casting rule 'same_kind'"
     ]
    },
    {
     "name": "stderr",
     "output_type": "stream",
     "text": [
      "Exception ignored in: 'pomegranate.hmm.HiddenMarkovModel._from_summaries'\n",
      "Traceback (most recent call last):\n",
      "  File \"pomegranate/bayes.pyx\", line 710, in pomegranate.bayes.BayesModel.from_summaries\n",
      "  File \"pomegranate/distributions.pyx\", line 2259, in pomegranate.distributions.MultivariateGaussianDistribution.from_summaries\n",
      "TypeError: Cannot cast ufunc subtract output from dtype('complex128') to dtype('float64') with casting rule 'same_kind'\n"
     ]
    },
    {
     "name": "stdout",
     "output_type": "stream",
     "text": [
      "[45] Improvement: 0.004502558847889304\tTime (s): 538.3\n"
     ]
    },
    {
     "ename": "TypeError",
     "evalue": "Cannot cast ufunc subtract output from dtype('complex128') to dtype('float64') with casting rule 'same_kind'",
     "output_type": "error",
     "traceback": [
      "\u001b[0;31m---------------------------------------------------------------------------\u001b[0m",
      "\u001b[0;31mLinAlgError\u001b[0m                               Traceback (most recent call last)",
      "\u001b[0;32mpomegranate/distributions.pyx\u001b[0m in \u001b[0;36mpomegranate.distributions.MultivariateGaussianDistribution.from_summaries\u001b[0;34m()\u001b[0m\n",
      "\u001b[0;32m/usr/local/lib/python3.5/dist-packages/scipy/linalg/decomp_cholesky.py\u001b[0m in \u001b[0;36mcholesky\u001b[0;34m(a, lower, overwrite_a, check_finite)\u001b[0m\n\u001b[1;32m     80\u001b[0m     c, lower = _cholesky(a, lower=lower, overwrite_a=overwrite_a, clean=True,\n\u001b[0;32m---> 81\u001b[0;31m                             check_finite=check_finite)\n\u001b[0m\u001b[1;32m     82\u001b[0m     \u001b[0;32mreturn\u001b[0m \u001b[0mc\u001b[0m\u001b[0;34m\u001b[0m\u001b[0m\n",
      "\u001b[0;32m/usr/local/lib/python3.5/dist-packages/scipy/linalg/decomp_cholesky.py\u001b[0m in \u001b[0;36m_cholesky\u001b[0;34m(a, lower, overwrite_a, clean, check_finite)\u001b[0m\n\u001b[1;32m     29\u001b[0m     \u001b[0;32mif\u001b[0m \u001b[0minfo\u001b[0m \u001b[0;34m>\u001b[0m \u001b[0;36m0\u001b[0m\u001b[0;34m:\u001b[0m\u001b[0;34m\u001b[0m\u001b[0m\n\u001b[0;32m---> 30\u001b[0;31m         \u001b[0;32mraise\u001b[0m \u001b[0mLinAlgError\u001b[0m\u001b[0;34m(\u001b[0m\u001b[0;34m\"%d-th leading minor not positive definite\"\u001b[0m \u001b[0;34m%\u001b[0m \u001b[0minfo\u001b[0m\u001b[0;34m)\u001b[0m\u001b[0;34m\u001b[0m\u001b[0m\n\u001b[0m\u001b[1;32m     31\u001b[0m     \u001b[0;32mif\u001b[0m \u001b[0minfo\u001b[0m \u001b[0;34m<\u001b[0m \u001b[0;36m0\u001b[0m\u001b[0;34m:\u001b[0m\u001b[0;34m\u001b[0m\u001b[0m\n",
      "\u001b[0;31mLinAlgError\u001b[0m: 24-th leading minor not positive definite",
      "\nDuring handling of the above exception, another exception occurred:\n",
      "\u001b[0;31mTypeError\u001b[0m                                 Traceback (most recent call last)",
      "\u001b[0;32mpomegranate/bayes.pyx\u001b[0m in \u001b[0;36mpomegranate.bayes.BayesModel.from_summaries\u001b[0;34m()\u001b[0m\n",
      "\u001b[0;32mpomegranate/distributions.pyx\u001b[0m in \u001b[0;36mpomegranate.distributions.MultivariateGaussianDistribution.from_summaries\u001b[0;34m()\u001b[0m\n",
      "\u001b[0;31mTypeError\u001b[0m: Cannot cast ufunc subtract output from dtype('complex128') to dtype('float64') with casting rule 'same_kind'"
     ]
    },
    {
     "name": "stderr",
     "output_type": "stream",
     "text": [
      "Exception ignored in: 'pomegranate.hmm.HiddenMarkovModel._from_summaries'\n",
      "Traceback (most recent call last):\n",
      "  File \"pomegranate/bayes.pyx\", line 710, in pomegranate.bayes.BayesModel.from_summaries\n",
      "  File \"pomegranate/distributions.pyx\", line 2259, in pomegranate.distributions.MultivariateGaussianDistribution.from_summaries\n",
      "TypeError: Cannot cast ufunc subtract output from dtype('complex128') to dtype('float64') with casting rule 'same_kind'\n"
     ]
    },
    {
     "name": "stdout",
     "output_type": "stream",
     "text": [
      "[46] Improvement: 0.005859382683411241\tTime (s): 544.0\n"
     ]
    },
    {
     "ename": "TypeError",
     "evalue": "Cannot cast ufunc subtract output from dtype('complex128') to dtype('float64') with casting rule 'same_kind'",
     "output_type": "error",
     "traceback": [
      "\u001b[0;31m---------------------------------------------------------------------------\u001b[0m",
      "\u001b[0;31mLinAlgError\u001b[0m                               Traceback (most recent call last)",
      "\u001b[0;32mpomegranate/distributions.pyx\u001b[0m in \u001b[0;36mpomegranate.distributions.MultivariateGaussianDistribution.from_summaries\u001b[0;34m()\u001b[0m\n",
      "\u001b[0;32m/usr/local/lib/python3.5/dist-packages/scipy/linalg/decomp_cholesky.py\u001b[0m in \u001b[0;36mcholesky\u001b[0;34m(a, lower, overwrite_a, check_finite)\u001b[0m\n\u001b[1;32m     80\u001b[0m     c, lower = _cholesky(a, lower=lower, overwrite_a=overwrite_a, clean=True,\n\u001b[0;32m---> 81\u001b[0;31m                             check_finite=check_finite)\n\u001b[0m\u001b[1;32m     82\u001b[0m     \u001b[0;32mreturn\u001b[0m \u001b[0mc\u001b[0m\u001b[0;34m\u001b[0m\u001b[0m\n",
      "\u001b[0;32m/usr/local/lib/python3.5/dist-packages/scipy/linalg/decomp_cholesky.py\u001b[0m in \u001b[0;36m_cholesky\u001b[0;34m(a, lower, overwrite_a, clean, check_finite)\u001b[0m\n\u001b[1;32m     29\u001b[0m     \u001b[0;32mif\u001b[0m \u001b[0minfo\u001b[0m \u001b[0;34m>\u001b[0m \u001b[0;36m0\u001b[0m\u001b[0;34m:\u001b[0m\u001b[0;34m\u001b[0m\u001b[0m\n\u001b[0;32m---> 30\u001b[0;31m         \u001b[0;32mraise\u001b[0m \u001b[0mLinAlgError\u001b[0m\u001b[0;34m(\u001b[0m\u001b[0;34m\"%d-th leading minor not positive definite\"\u001b[0m \u001b[0;34m%\u001b[0m \u001b[0minfo\u001b[0m\u001b[0;34m)\u001b[0m\u001b[0;34m\u001b[0m\u001b[0m\n\u001b[0m\u001b[1;32m     31\u001b[0m     \u001b[0;32mif\u001b[0m \u001b[0minfo\u001b[0m \u001b[0;34m<\u001b[0m \u001b[0;36m0\u001b[0m\u001b[0;34m:\u001b[0m\u001b[0;34m\u001b[0m\u001b[0m\n",
      "\u001b[0;31mLinAlgError\u001b[0m: 24-th leading minor not positive definite",
      "\nDuring handling of the above exception, another exception occurred:\n",
      "\u001b[0;31mTypeError\u001b[0m                                 Traceback (most recent call last)",
      "\u001b[0;32mpomegranate/bayes.pyx\u001b[0m in \u001b[0;36mpomegranate.bayes.BayesModel.from_summaries\u001b[0;34m()\u001b[0m\n",
      "\u001b[0;32mpomegranate/distributions.pyx\u001b[0m in \u001b[0;36mpomegranate.distributions.MultivariateGaussianDistribution.from_summaries\u001b[0;34m()\u001b[0m\n",
      "\u001b[0;31mTypeError\u001b[0m: Cannot cast ufunc subtract output from dtype('complex128') to dtype('float64') with casting rule 'same_kind'"
     ]
    },
    {
     "name": "stderr",
     "output_type": "stream",
     "text": [
      "Exception ignored in: 'pomegranate.hmm.HiddenMarkovModel._from_summaries'\n",
      "Traceback (most recent call last):\n",
      "  File \"pomegranate/bayes.pyx\", line 710, in pomegranate.bayes.BayesModel.from_summaries\n",
      "  File \"pomegranate/distributions.pyx\", line 2259, in pomegranate.distributions.MultivariateGaussianDistribution.from_summaries\n",
      "TypeError: Cannot cast ufunc subtract output from dtype('complex128') to dtype('float64') with casting rule 'same_kind'\n"
     ]
    },
    {
     "name": "stdout",
     "output_type": "stream",
     "text": [
      "[47] Improvement: 0.007597721880301833\tTime (s): 538.6\n"
     ]
    },
    {
     "ename": "TypeError",
     "evalue": "Cannot cast ufunc subtract output from dtype('complex128') to dtype('float64') with casting rule 'same_kind'",
     "output_type": "error",
     "traceback": [
      "\u001b[0;31m---------------------------------------------------------------------------\u001b[0m",
      "\u001b[0;31mLinAlgError\u001b[0m                               Traceback (most recent call last)",
      "\u001b[0;32mpomegranate/distributions.pyx\u001b[0m in \u001b[0;36mpomegranate.distributions.MultivariateGaussianDistribution.from_summaries\u001b[0;34m()\u001b[0m\n",
      "\u001b[0;32m/usr/local/lib/python3.5/dist-packages/scipy/linalg/decomp_cholesky.py\u001b[0m in \u001b[0;36mcholesky\u001b[0;34m(a, lower, overwrite_a, check_finite)\u001b[0m\n\u001b[1;32m     80\u001b[0m     c, lower = _cholesky(a, lower=lower, overwrite_a=overwrite_a, clean=True,\n\u001b[0;32m---> 81\u001b[0;31m                             check_finite=check_finite)\n\u001b[0m\u001b[1;32m     82\u001b[0m     \u001b[0;32mreturn\u001b[0m \u001b[0mc\u001b[0m\u001b[0;34m\u001b[0m\u001b[0m\n",
      "\u001b[0;32m/usr/local/lib/python3.5/dist-packages/scipy/linalg/decomp_cholesky.py\u001b[0m in \u001b[0;36m_cholesky\u001b[0;34m(a, lower, overwrite_a, clean, check_finite)\u001b[0m\n\u001b[1;32m     29\u001b[0m     \u001b[0;32mif\u001b[0m \u001b[0minfo\u001b[0m \u001b[0;34m>\u001b[0m \u001b[0;36m0\u001b[0m\u001b[0;34m:\u001b[0m\u001b[0;34m\u001b[0m\u001b[0m\n\u001b[0;32m---> 30\u001b[0;31m         \u001b[0;32mraise\u001b[0m \u001b[0mLinAlgError\u001b[0m\u001b[0;34m(\u001b[0m\u001b[0;34m\"%d-th leading minor not positive definite\"\u001b[0m \u001b[0;34m%\u001b[0m \u001b[0minfo\u001b[0m\u001b[0;34m)\u001b[0m\u001b[0;34m\u001b[0m\u001b[0m\n\u001b[0m\u001b[1;32m     31\u001b[0m     \u001b[0;32mif\u001b[0m \u001b[0minfo\u001b[0m \u001b[0;34m<\u001b[0m \u001b[0;36m0\u001b[0m\u001b[0;34m:\u001b[0m\u001b[0;34m\u001b[0m\u001b[0m\n",
      "\u001b[0;31mLinAlgError\u001b[0m: 24-th leading minor not positive definite",
      "\nDuring handling of the above exception, another exception occurred:\n",
      "\u001b[0;31mTypeError\u001b[0m                                 Traceback (most recent call last)",
      "\u001b[0;32mpomegranate/bayes.pyx\u001b[0m in \u001b[0;36mpomegranate.bayes.BayesModel.from_summaries\u001b[0;34m()\u001b[0m\n",
      "\u001b[0;32mpomegranate/distributions.pyx\u001b[0m in \u001b[0;36mpomegranate.distributions.MultivariateGaussianDistribution.from_summaries\u001b[0;34m()\u001b[0m\n",
      "\u001b[0;31mTypeError\u001b[0m: Cannot cast ufunc subtract output from dtype('complex128') to dtype('float64') with casting rule 'same_kind'"
     ]
    },
    {
     "name": "stderr",
     "output_type": "stream",
     "text": [
      "Exception ignored in: 'pomegranate.hmm.HiddenMarkovModel._from_summaries'\n",
      "Traceback (most recent call last):\n",
      "  File \"pomegranate/bayes.pyx\", line 710, in pomegranate.bayes.BayesModel.from_summaries\n",
      "  File \"pomegranate/distributions.pyx\", line 2259, in pomegranate.distributions.MultivariateGaussianDistribution.from_summaries\n",
      "TypeError: Cannot cast ufunc subtract output from dtype('complex128') to dtype('float64') with casting rule 'same_kind'\n"
     ]
    },
    {
     "name": "stdout",
     "output_type": "stream",
     "text": [
      "[48] Improvement: 0.009630846790969372\tTime (s): 543.9\n"
     ]
    },
    {
     "ename": "TypeError",
     "evalue": "Cannot cast ufunc subtract output from dtype('complex128') to dtype('float64') with casting rule 'same_kind'",
     "output_type": "error",
     "traceback": [
      "\u001b[0;31m---------------------------------------------------------------------------\u001b[0m",
      "\u001b[0;31mLinAlgError\u001b[0m                               Traceback (most recent call last)",
      "\u001b[0;32mpomegranate/distributions.pyx\u001b[0m in \u001b[0;36mpomegranate.distributions.MultivariateGaussianDistribution.from_summaries\u001b[0;34m()\u001b[0m\n",
      "\u001b[0;32m/usr/local/lib/python3.5/dist-packages/scipy/linalg/decomp_cholesky.py\u001b[0m in \u001b[0;36mcholesky\u001b[0;34m(a, lower, overwrite_a, check_finite)\u001b[0m\n\u001b[1;32m     80\u001b[0m     c, lower = _cholesky(a, lower=lower, overwrite_a=overwrite_a, clean=True,\n\u001b[0;32m---> 81\u001b[0;31m                             check_finite=check_finite)\n\u001b[0m\u001b[1;32m     82\u001b[0m     \u001b[0;32mreturn\u001b[0m \u001b[0mc\u001b[0m\u001b[0;34m\u001b[0m\u001b[0m\n",
      "\u001b[0;32m/usr/local/lib/python3.5/dist-packages/scipy/linalg/decomp_cholesky.py\u001b[0m in \u001b[0;36m_cholesky\u001b[0;34m(a, lower, overwrite_a, clean, check_finite)\u001b[0m\n\u001b[1;32m     29\u001b[0m     \u001b[0;32mif\u001b[0m \u001b[0minfo\u001b[0m \u001b[0;34m>\u001b[0m \u001b[0;36m0\u001b[0m\u001b[0;34m:\u001b[0m\u001b[0;34m\u001b[0m\u001b[0m\n\u001b[0;32m---> 30\u001b[0;31m         \u001b[0;32mraise\u001b[0m \u001b[0mLinAlgError\u001b[0m\u001b[0;34m(\u001b[0m\u001b[0;34m\"%d-th leading minor not positive definite\"\u001b[0m \u001b[0;34m%\u001b[0m \u001b[0minfo\u001b[0m\u001b[0;34m)\u001b[0m\u001b[0;34m\u001b[0m\u001b[0m\n\u001b[0m\u001b[1;32m     31\u001b[0m     \u001b[0;32mif\u001b[0m \u001b[0minfo\u001b[0m \u001b[0;34m<\u001b[0m \u001b[0;36m0\u001b[0m\u001b[0;34m:\u001b[0m\u001b[0;34m\u001b[0m\u001b[0m\n",
      "\u001b[0;31mLinAlgError\u001b[0m: 24-th leading minor not positive definite",
      "\nDuring handling of the above exception, another exception occurred:\n",
      "\u001b[0;31mTypeError\u001b[0m                                 Traceback (most recent call last)",
      "\u001b[0;32mpomegranate/bayes.pyx\u001b[0m in \u001b[0;36mpomegranate.bayes.BayesModel.from_summaries\u001b[0;34m()\u001b[0m\n",
      "\u001b[0;32mpomegranate/distributions.pyx\u001b[0m in \u001b[0;36mpomegranate.distributions.MultivariateGaussianDistribution.from_summaries\u001b[0;34m()\u001b[0m\n",
      "\u001b[0;31mTypeError\u001b[0m: Cannot cast ufunc subtract output from dtype('complex128') to dtype('float64') with casting rule 'same_kind'"
     ]
    },
    {
     "name": "stderr",
     "output_type": "stream",
     "text": [
      "Exception ignored in: 'pomegranate.hmm.HiddenMarkovModel._from_summaries'\n",
      "Traceback (most recent call last):\n",
      "  File \"pomegranate/bayes.pyx\", line 710, in pomegranate.bayes.BayesModel.from_summaries\n",
      "  File \"pomegranate/distributions.pyx\", line 2259, in pomegranate.distributions.MultivariateGaussianDistribution.from_summaries\n",
      "TypeError: Cannot cast ufunc subtract output from dtype('complex128') to dtype('float64') with casting rule 'same_kind'\n"
     ]
    },
    {
     "name": "stdout",
     "output_type": "stream",
     "text": [
      "[49] Improvement: 0.011602562153711915\tTime (s): 532.9\n"
     ]
    },
    {
     "ename": "TypeError",
     "evalue": "Cannot cast ufunc subtract output from dtype('complex128') to dtype('float64') with casting rule 'same_kind'",
     "output_type": "error",
     "traceback": [
      "\u001b[0;31m---------------------------------------------------------------------------\u001b[0m",
      "\u001b[0;31mLinAlgError\u001b[0m                               Traceback (most recent call last)",
      "\u001b[0;32mpomegranate/distributions.pyx\u001b[0m in \u001b[0;36mpomegranate.distributions.MultivariateGaussianDistribution.from_summaries\u001b[0;34m()\u001b[0m\n",
      "\u001b[0;32m/usr/local/lib/python3.5/dist-packages/scipy/linalg/decomp_cholesky.py\u001b[0m in \u001b[0;36mcholesky\u001b[0;34m(a, lower, overwrite_a, check_finite)\u001b[0m\n\u001b[1;32m     80\u001b[0m     c, lower = _cholesky(a, lower=lower, overwrite_a=overwrite_a, clean=True,\n\u001b[0;32m---> 81\u001b[0;31m                             check_finite=check_finite)\n\u001b[0m\u001b[1;32m     82\u001b[0m     \u001b[0;32mreturn\u001b[0m \u001b[0mc\u001b[0m\u001b[0;34m\u001b[0m\u001b[0m\n",
      "\u001b[0;32m/usr/local/lib/python3.5/dist-packages/scipy/linalg/decomp_cholesky.py\u001b[0m in \u001b[0;36m_cholesky\u001b[0;34m(a, lower, overwrite_a, clean, check_finite)\u001b[0m\n\u001b[1;32m     29\u001b[0m     \u001b[0;32mif\u001b[0m \u001b[0minfo\u001b[0m \u001b[0;34m>\u001b[0m \u001b[0;36m0\u001b[0m\u001b[0;34m:\u001b[0m\u001b[0;34m\u001b[0m\u001b[0m\n\u001b[0;32m---> 30\u001b[0;31m         \u001b[0;32mraise\u001b[0m \u001b[0mLinAlgError\u001b[0m\u001b[0;34m(\u001b[0m\u001b[0;34m\"%d-th leading minor not positive definite\"\u001b[0m \u001b[0;34m%\u001b[0m \u001b[0minfo\u001b[0m\u001b[0;34m)\u001b[0m\u001b[0;34m\u001b[0m\u001b[0m\n\u001b[0m\u001b[1;32m     31\u001b[0m     \u001b[0;32mif\u001b[0m \u001b[0minfo\u001b[0m \u001b[0;34m<\u001b[0m \u001b[0;36m0\u001b[0m\u001b[0;34m:\u001b[0m\u001b[0;34m\u001b[0m\u001b[0m\n",
      "\u001b[0;31mLinAlgError\u001b[0m: 24-th leading minor not positive definite",
      "\nDuring handling of the above exception, another exception occurred:\n",
      "\u001b[0;31mTypeError\u001b[0m                                 Traceback (most recent call last)",
      "\u001b[0;32mpomegranate/bayes.pyx\u001b[0m in \u001b[0;36mpomegranate.bayes.BayesModel.from_summaries\u001b[0;34m()\u001b[0m\n",
      "\u001b[0;32mpomegranate/distributions.pyx\u001b[0m in \u001b[0;36mpomegranate.distributions.MultivariateGaussianDistribution.from_summaries\u001b[0;34m()\u001b[0m\n",
      "\u001b[0;31mTypeError\u001b[0m: Cannot cast ufunc subtract output from dtype('complex128') to dtype('float64') with casting rule 'same_kind'"
     ]
    },
    {
     "name": "stderr",
     "output_type": "stream",
     "text": [
      "Exception ignored in: 'pomegranate.hmm.HiddenMarkovModel._from_summaries'\n",
      "Traceback (most recent call last):\n",
      "  File \"pomegranate/bayes.pyx\", line 710, in pomegranate.bayes.BayesModel.from_summaries\n",
      "  File \"pomegranate/distributions.pyx\", line 2259, in pomegranate.distributions.MultivariateGaussianDistribution.from_summaries\n",
      "TypeError: Cannot cast ufunc subtract output from dtype('complex128') to dtype('float64') with casting rule 'same_kind'\n"
     ]
    },
    {
     "name": "stdout",
     "output_type": "stream",
     "text": [
      "[50] Improvement: 0.01280992547981441\tTime (s): 542.9\n"
     ]
    },
    {
     "ename": "TypeError",
     "evalue": "Cannot cast ufunc subtract output from dtype('complex128') to dtype('float64') with casting rule 'same_kind'",
     "output_type": "error",
     "traceback": [
      "\u001b[0;31m---------------------------------------------------------------------------\u001b[0m",
      "\u001b[0;31mLinAlgError\u001b[0m                               Traceback (most recent call last)",
      "\u001b[0;32mpomegranate/distributions.pyx\u001b[0m in \u001b[0;36mpomegranate.distributions.MultivariateGaussianDistribution.from_summaries\u001b[0;34m()\u001b[0m\n",
      "\u001b[0;32m/usr/local/lib/python3.5/dist-packages/scipy/linalg/decomp_cholesky.py\u001b[0m in \u001b[0;36mcholesky\u001b[0;34m(a, lower, overwrite_a, check_finite)\u001b[0m\n\u001b[1;32m     80\u001b[0m     c, lower = _cholesky(a, lower=lower, overwrite_a=overwrite_a, clean=True,\n\u001b[0;32m---> 81\u001b[0;31m                             check_finite=check_finite)\n\u001b[0m\u001b[1;32m     82\u001b[0m     \u001b[0;32mreturn\u001b[0m \u001b[0mc\u001b[0m\u001b[0;34m\u001b[0m\u001b[0m\n",
      "\u001b[0;32m/usr/local/lib/python3.5/dist-packages/scipy/linalg/decomp_cholesky.py\u001b[0m in \u001b[0;36m_cholesky\u001b[0;34m(a, lower, overwrite_a, clean, check_finite)\u001b[0m\n\u001b[1;32m     29\u001b[0m     \u001b[0;32mif\u001b[0m \u001b[0minfo\u001b[0m \u001b[0;34m>\u001b[0m \u001b[0;36m0\u001b[0m\u001b[0;34m:\u001b[0m\u001b[0;34m\u001b[0m\u001b[0m\n\u001b[0;32m---> 30\u001b[0;31m         \u001b[0;32mraise\u001b[0m \u001b[0mLinAlgError\u001b[0m\u001b[0;34m(\u001b[0m\u001b[0;34m\"%d-th leading minor not positive definite\"\u001b[0m \u001b[0;34m%\u001b[0m \u001b[0minfo\u001b[0m\u001b[0;34m)\u001b[0m\u001b[0;34m\u001b[0m\u001b[0m\n\u001b[0m\u001b[1;32m     31\u001b[0m     \u001b[0;32mif\u001b[0m \u001b[0minfo\u001b[0m \u001b[0;34m<\u001b[0m \u001b[0;36m0\u001b[0m\u001b[0;34m:\u001b[0m\u001b[0;34m\u001b[0m\u001b[0m\n",
      "\u001b[0;31mLinAlgError\u001b[0m: 23-th leading minor not positive definite",
      "\nDuring handling of the above exception, another exception occurred:\n",
      "\u001b[0;31mTypeError\u001b[0m                                 Traceback (most recent call last)",
      "\u001b[0;32mpomegranate/bayes.pyx\u001b[0m in \u001b[0;36mpomegranate.bayes.BayesModel.from_summaries\u001b[0;34m()\u001b[0m\n",
      "\u001b[0;32mpomegranate/distributions.pyx\u001b[0m in \u001b[0;36mpomegranate.distributions.MultivariateGaussianDistribution.from_summaries\u001b[0;34m()\u001b[0m\n",
      "\u001b[0;31mTypeError\u001b[0m: Cannot cast ufunc subtract output from dtype('complex128') to dtype('float64') with casting rule 'same_kind'"
     ]
    },
    {
     "name": "stderr",
     "output_type": "stream",
     "text": [
      "Exception ignored in: 'pomegranate.hmm.HiddenMarkovModel._from_summaries'\n",
      "Traceback (most recent call last):\n",
      "  File \"pomegranate/bayes.pyx\", line 710, in pomegranate.bayes.BayesModel.from_summaries\n",
      "  File \"pomegranate/distributions.pyx\", line 2259, in pomegranate.distributions.MultivariateGaussianDistribution.from_summaries\n",
      "TypeError: Cannot cast ufunc subtract output from dtype('complex128') to dtype('float64') with casting rule 'same_kind'\n"
     ]
    },
    {
     "name": "stdout",
     "output_type": "stream",
     "text": [
      "[51] Improvement: 0.01246536965481937\tTime (s): 535.5\n"
     ]
    },
    {
     "ename": "TypeError",
     "evalue": "Cannot cast ufunc subtract output from dtype('complex128') to dtype('float64') with casting rule 'same_kind'",
     "output_type": "error",
     "traceback": [
      "\u001b[0;31m---------------------------------------------------------------------------\u001b[0m",
      "\u001b[0;31mLinAlgError\u001b[0m                               Traceback (most recent call last)",
      "\u001b[0;32mpomegranate/distributions.pyx\u001b[0m in \u001b[0;36mpomegranate.distributions.MultivariateGaussianDistribution.from_summaries\u001b[0;34m()\u001b[0m\n",
      "\u001b[0;32m/usr/local/lib/python3.5/dist-packages/scipy/linalg/decomp_cholesky.py\u001b[0m in \u001b[0;36mcholesky\u001b[0;34m(a, lower, overwrite_a, check_finite)\u001b[0m\n\u001b[1;32m     80\u001b[0m     c, lower = _cholesky(a, lower=lower, overwrite_a=overwrite_a, clean=True,\n\u001b[0;32m---> 81\u001b[0;31m                             check_finite=check_finite)\n\u001b[0m\u001b[1;32m     82\u001b[0m     \u001b[0;32mreturn\u001b[0m \u001b[0mc\u001b[0m\u001b[0;34m\u001b[0m\u001b[0m\n",
      "\u001b[0;32m/usr/local/lib/python3.5/dist-packages/scipy/linalg/decomp_cholesky.py\u001b[0m in \u001b[0;36m_cholesky\u001b[0;34m(a, lower, overwrite_a, clean, check_finite)\u001b[0m\n\u001b[1;32m     29\u001b[0m     \u001b[0;32mif\u001b[0m \u001b[0minfo\u001b[0m \u001b[0;34m>\u001b[0m \u001b[0;36m0\u001b[0m\u001b[0;34m:\u001b[0m\u001b[0;34m\u001b[0m\u001b[0m\n\u001b[0;32m---> 30\u001b[0;31m         \u001b[0;32mraise\u001b[0m \u001b[0mLinAlgError\u001b[0m\u001b[0;34m(\u001b[0m\u001b[0;34m\"%d-th leading minor not positive definite\"\u001b[0m \u001b[0;34m%\u001b[0m \u001b[0minfo\u001b[0m\u001b[0;34m)\u001b[0m\u001b[0;34m\u001b[0m\u001b[0m\n\u001b[0m\u001b[1;32m     31\u001b[0m     \u001b[0;32mif\u001b[0m \u001b[0minfo\u001b[0m \u001b[0;34m<\u001b[0m \u001b[0;36m0\u001b[0m\u001b[0;34m:\u001b[0m\u001b[0;34m\u001b[0m\u001b[0m\n",
      "\u001b[0;31mLinAlgError\u001b[0m: 23-th leading minor not positive definite",
      "\nDuring handling of the above exception, another exception occurred:\n",
      "\u001b[0;31mTypeError\u001b[0m                                 Traceback (most recent call last)",
      "\u001b[0;32mpomegranate/bayes.pyx\u001b[0m in \u001b[0;36mpomegranate.bayes.BayesModel.from_summaries\u001b[0;34m()\u001b[0m\n",
      "\u001b[0;32mpomegranate/distributions.pyx\u001b[0m in \u001b[0;36mpomegranate.distributions.MultivariateGaussianDistribution.from_summaries\u001b[0;34m()\u001b[0m\n",
      "\u001b[0;31mTypeError\u001b[0m: Cannot cast ufunc subtract output from dtype('complex128') to dtype('float64') with casting rule 'same_kind'"
     ]
    },
    {
     "name": "stderr",
     "output_type": "stream",
     "text": [
      "Exception ignored in: 'pomegranate.hmm.HiddenMarkovModel._from_summaries'\n",
      "Traceback (most recent call last):\n",
      "  File \"pomegranate/bayes.pyx\", line 710, in pomegranate.bayes.BayesModel.from_summaries\n",
      "  File \"pomegranate/distributions.pyx\", line 2259, in pomegranate.distributions.MultivariateGaussianDistribution.from_summaries\n",
      "TypeError: Cannot cast ufunc subtract output from dtype('complex128') to dtype('float64') with casting rule 'same_kind'\n"
     ]
    },
    {
     "name": "stdout",
     "output_type": "stream",
     "text": [
      "[52] Improvement: 0.010371301788836718\tTime (s): 541.7\n"
     ]
    },
    {
     "ename": "LinAlgError",
     "evalue": "39-th leading minor not positive definite",
     "output_type": "error",
     "traceback": [
      "\u001b[0;31m---------------------------------------------------------------------------\u001b[0m",
      "\u001b[0;31mLinAlgError\u001b[0m                               Traceback (most recent call last)",
      "\u001b[0;32mpomegranate/distributions.pyx\u001b[0m in \u001b[0;36mpomegranate.distributions.MultivariateGaussianDistribution.from_summaries\u001b[0;34m()\u001b[0m\n",
      "\u001b[0;32m/usr/local/lib/python3.5/dist-packages/scipy/linalg/decomp_cholesky.py\u001b[0m in \u001b[0;36mcholesky\u001b[0;34m(a, lower, overwrite_a, check_finite)\u001b[0m\n\u001b[1;32m     80\u001b[0m     c, lower = _cholesky(a, lower=lower, overwrite_a=overwrite_a, clean=True,\n\u001b[0;32m---> 81\u001b[0;31m                             check_finite=check_finite)\n\u001b[0m\u001b[1;32m     82\u001b[0m     \u001b[0;32mreturn\u001b[0m \u001b[0mc\u001b[0m\u001b[0;34m\u001b[0m\u001b[0m\n",
      "\u001b[0;32m/usr/local/lib/python3.5/dist-packages/scipy/linalg/decomp_cholesky.py\u001b[0m in \u001b[0;36m_cholesky\u001b[0;34m(a, lower, overwrite_a, clean, check_finite)\u001b[0m\n\u001b[1;32m     29\u001b[0m     \u001b[0;32mif\u001b[0m \u001b[0minfo\u001b[0m \u001b[0;34m>\u001b[0m \u001b[0;36m0\u001b[0m\u001b[0;34m:\u001b[0m\u001b[0;34m\u001b[0m\u001b[0m\n\u001b[0;32m---> 30\u001b[0;31m         \u001b[0;32mraise\u001b[0m \u001b[0mLinAlgError\u001b[0m\u001b[0;34m(\u001b[0m\u001b[0;34m\"%d-th leading minor not positive definite\"\u001b[0m \u001b[0;34m%\u001b[0m \u001b[0minfo\u001b[0m\u001b[0;34m)\u001b[0m\u001b[0;34m\u001b[0m\u001b[0m\n\u001b[0m\u001b[1;32m     31\u001b[0m     \u001b[0;32mif\u001b[0m \u001b[0minfo\u001b[0m \u001b[0;34m<\u001b[0m \u001b[0;36m0\u001b[0m\u001b[0;34m:\u001b[0m\u001b[0;34m\u001b[0m\u001b[0m\n",
      "\u001b[0;31mLinAlgError\u001b[0m: 27-th leading minor not positive definite",
      "\nDuring handling of the above exception, another exception occurred:\n",
      "\u001b[0;31mLinAlgError\u001b[0m                               Traceback (most recent call last)",
      "\u001b[0;32mpomegranate/bayes.pyx\u001b[0m in \u001b[0;36mpomegranate.bayes.BayesModel.from_summaries\u001b[0;34m()\u001b[0m\n",
      "\u001b[0;32mpomegranate/distributions.pyx\u001b[0m in \u001b[0;36mpomegranate.distributions.MultivariateGaussianDistribution.from_summaries\u001b[0;34m()\u001b[0m\n",
      "\u001b[0;32m/usr/local/lib/python3.5/dist-packages/scipy/linalg/decomp_cholesky.py\u001b[0m in \u001b[0;36mcholesky\u001b[0;34m(a, lower, overwrite_a, check_finite)\u001b[0m\n\u001b[1;32m     79\u001b[0m     \"\"\"\n\u001b[1;32m     80\u001b[0m     c, lower = _cholesky(a, lower=lower, overwrite_a=overwrite_a, clean=True,\n\u001b[0;32m---> 81\u001b[0;31m                             check_finite=check_finite)\n\u001b[0m\u001b[1;32m     82\u001b[0m     \u001b[0;32mreturn\u001b[0m \u001b[0mc\u001b[0m\u001b[0;34m\u001b[0m\u001b[0m\n\u001b[1;32m     83\u001b[0m \u001b[0;34m\u001b[0m\u001b[0m\n",
      "\u001b[0;32m/usr/local/lib/python3.5/dist-packages/scipy/linalg/decomp_cholesky.py\u001b[0m in \u001b[0;36m_cholesky\u001b[0;34m(a, lower, overwrite_a, clean, check_finite)\u001b[0m\n\u001b[1;32m     28\u001b[0m     \u001b[0mc\u001b[0m\u001b[0;34m,\u001b[0m \u001b[0minfo\u001b[0m \u001b[0;34m=\u001b[0m \u001b[0mpotrf\u001b[0m\u001b[0;34m(\u001b[0m\u001b[0ma1\u001b[0m\u001b[0;34m,\u001b[0m \u001b[0mlower\u001b[0m\u001b[0;34m=\u001b[0m\u001b[0mlower\u001b[0m\u001b[0;34m,\u001b[0m \u001b[0moverwrite_a\u001b[0m\u001b[0;34m=\u001b[0m\u001b[0moverwrite_a\u001b[0m\u001b[0;34m,\u001b[0m \u001b[0mclean\u001b[0m\u001b[0;34m=\u001b[0m\u001b[0mclean\u001b[0m\u001b[0;34m)\u001b[0m\u001b[0;34m\u001b[0m\u001b[0m\n\u001b[1;32m     29\u001b[0m     \u001b[0;32mif\u001b[0m \u001b[0minfo\u001b[0m \u001b[0;34m>\u001b[0m \u001b[0;36m0\u001b[0m\u001b[0;34m:\u001b[0m\u001b[0;34m\u001b[0m\u001b[0m\n\u001b[0;32m---> 30\u001b[0;31m         \u001b[0;32mraise\u001b[0m \u001b[0mLinAlgError\u001b[0m\u001b[0;34m(\u001b[0m\u001b[0;34m\"%d-th leading minor not positive definite\"\u001b[0m \u001b[0;34m%\u001b[0m \u001b[0minfo\u001b[0m\u001b[0;34m)\u001b[0m\u001b[0;34m\u001b[0m\u001b[0m\n\u001b[0m\u001b[1;32m     31\u001b[0m     \u001b[0;32mif\u001b[0m \u001b[0minfo\u001b[0m \u001b[0;34m<\u001b[0m \u001b[0;36m0\u001b[0m\u001b[0;34m:\u001b[0m\u001b[0;34m\u001b[0m\u001b[0m\n\u001b[1;32m     32\u001b[0m         raise ValueError('illegal value in %d-th argument of internal potrf'\n",
      "\u001b[0;31mLinAlgError\u001b[0m: 39-th leading minor not positive definite"
     ]
    },
    {
     "name": "stderr",
     "output_type": "stream",
     "text": [
      "Exception ignored in: 'pomegranate.hmm.HiddenMarkovModel._from_summaries'\n",
      "Traceback (most recent call last):\n",
      "  File \"pomegranate/bayes.pyx\", line 710, in pomegranate.bayes.BayesModel.from_summaries\n",
      "  File \"pomegranate/distributions.pyx\", line 2261, in pomegranate.distributions.MultivariateGaussianDistribution.from_summaries\n",
      "  File \"/usr/local/lib/python3.5/dist-packages/scipy/linalg/decomp_cholesky.py\", line 81, in cholesky\n",
      "    check_finite=check_finite)\n",
      "  File \"/usr/local/lib/python3.5/dist-packages/scipy/linalg/decomp_cholesky.py\", line 30, in _cholesky\n",
      "    raise LinAlgError(\"%d-th leading minor not positive definite\" % info)\n",
      "numpy.linalg.linalg.LinAlgError: 39-th leading minor not positive definite\n"
     ]
    },
    {
     "name": "stdout",
     "output_type": "stream",
     "text": [
      "[53] Improvement: 57.83760084374808\tTime (s): 541.0\n"
     ]
    },
    {
     "ename": "TypeError",
     "evalue": "Cannot cast ufunc subtract output from dtype('complex128') to dtype('float64') with casting rule 'same_kind'",
     "output_type": "error",
     "traceback": [
      "\u001b[0;31m---------------------------------------------------------------------------\u001b[0m",
      "\u001b[0;31mLinAlgError\u001b[0m                               Traceback (most recent call last)",
      "\u001b[0;32mpomegranate/distributions.pyx\u001b[0m in \u001b[0;36mpomegranate.distributions.MultivariateGaussianDistribution.from_summaries\u001b[0;34m()\u001b[0m\n",
      "\u001b[0;32m/usr/local/lib/python3.5/dist-packages/scipy/linalg/decomp_cholesky.py\u001b[0m in \u001b[0;36mcholesky\u001b[0;34m(a, lower, overwrite_a, check_finite)\u001b[0m\n\u001b[1;32m     80\u001b[0m     c, lower = _cholesky(a, lower=lower, overwrite_a=overwrite_a, clean=True,\n\u001b[0;32m---> 81\u001b[0;31m                             check_finite=check_finite)\n\u001b[0m\u001b[1;32m     82\u001b[0m     \u001b[0;32mreturn\u001b[0m \u001b[0mc\u001b[0m\u001b[0;34m\u001b[0m\u001b[0m\n",
      "\u001b[0;32m/usr/local/lib/python3.5/dist-packages/scipy/linalg/decomp_cholesky.py\u001b[0m in \u001b[0;36m_cholesky\u001b[0;34m(a, lower, overwrite_a, clean, check_finite)\u001b[0m\n\u001b[1;32m     29\u001b[0m     \u001b[0;32mif\u001b[0m \u001b[0minfo\u001b[0m \u001b[0;34m>\u001b[0m \u001b[0;36m0\u001b[0m\u001b[0;34m:\u001b[0m\u001b[0;34m\u001b[0m\u001b[0m\n\u001b[0;32m---> 30\u001b[0;31m         \u001b[0;32mraise\u001b[0m \u001b[0mLinAlgError\u001b[0m\u001b[0;34m(\u001b[0m\u001b[0;34m\"%d-th leading minor not positive definite\"\u001b[0m \u001b[0;34m%\u001b[0m \u001b[0minfo\u001b[0m\u001b[0;34m)\u001b[0m\u001b[0;34m\u001b[0m\u001b[0m\n\u001b[0m\u001b[1;32m     31\u001b[0m     \u001b[0;32mif\u001b[0m \u001b[0minfo\u001b[0m \u001b[0;34m<\u001b[0m \u001b[0;36m0\u001b[0m\u001b[0;34m:\u001b[0m\u001b[0;34m\u001b[0m\u001b[0m\n",
      "\u001b[0;31mLinAlgError\u001b[0m: 22-th leading minor not positive definite",
      "\nDuring handling of the above exception, another exception occurred:\n",
      "\u001b[0;31mTypeError\u001b[0m                                 Traceback (most recent call last)",
      "\u001b[0;32mpomegranate/bayes.pyx\u001b[0m in \u001b[0;36mpomegranate.bayes.BayesModel.from_summaries\u001b[0;34m()\u001b[0m\n",
      "\u001b[0;32mpomegranate/distributions.pyx\u001b[0m in \u001b[0;36mpomegranate.distributions.MultivariateGaussianDistribution.from_summaries\u001b[0;34m()\u001b[0m\n",
      "\u001b[0;31mTypeError\u001b[0m: Cannot cast ufunc subtract output from dtype('complex128') to dtype('float64') with casting rule 'same_kind'"
     ]
    },
    {
     "name": "stderr",
     "output_type": "stream",
     "text": [
      "Exception ignored in: 'pomegranate.hmm.HiddenMarkovModel._from_summaries'\n",
      "Traceback (most recent call last):\n",
      "  File \"pomegranate/bayes.pyx\", line 710, in pomegranate.bayes.BayesModel.from_summaries\n",
      "  File \"pomegranate/distributions.pyx\", line 2259, in pomegranate.distributions.MultivariateGaussianDistribution.from_summaries\n",
      "TypeError: Cannot cast ufunc subtract output from dtype('complex128') to dtype('float64') with casting rule 'same_kind'\n"
     ]
    },
    {
     "name": "stdout",
     "output_type": "stream",
     "text": [
      "[54] Improvement: 0.004460606258362532\tTime (s): 541.7\n"
     ]
    },
    {
     "ename": "TypeError",
     "evalue": "Cannot cast ufunc subtract output from dtype('complex128') to dtype('float64') with casting rule 'same_kind'",
     "output_type": "error",
     "traceback": [
      "\u001b[0;31m---------------------------------------------------------------------------\u001b[0m",
      "\u001b[0;31mLinAlgError\u001b[0m                               Traceback (most recent call last)",
      "\u001b[0;32mpomegranate/distributions.pyx\u001b[0m in \u001b[0;36mpomegranate.distributions.MultivariateGaussianDistribution.from_summaries\u001b[0;34m()\u001b[0m\n",
      "\u001b[0;32m/usr/local/lib/python3.5/dist-packages/scipy/linalg/decomp_cholesky.py\u001b[0m in \u001b[0;36mcholesky\u001b[0;34m(a, lower, overwrite_a, check_finite)\u001b[0m\n\u001b[1;32m     80\u001b[0m     c, lower = _cholesky(a, lower=lower, overwrite_a=overwrite_a, clean=True,\n\u001b[0;32m---> 81\u001b[0;31m                             check_finite=check_finite)\n\u001b[0m\u001b[1;32m     82\u001b[0m     \u001b[0;32mreturn\u001b[0m \u001b[0mc\u001b[0m\u001b[0;34m\u001b[0m\u001b[0m\n",
      "\u001b[0;32m/usr/local/lib/python3.5/dist-packages/scipy/linalg/decomp_cholesky.py\u001b[0m in \u001b[0;36m_cholesky\u001b[0;34m(a, lower, overwrite_a, clean, check_finite)\u001b[0m\n\u001b[1;32m     29\u001b[0m     \u001b[0;32mif\u001b[0m \u001b[0minfo\u001b[0m \u001b[0;34m>\u001b[0m \u001b[0;36m0\u001b[0m\u001b[0;34m:\u001b[0m\u001b[0;34m\u001b[0m\u001b[0m\n\u001b[0;32m---> 30\u001b[0;31m         \u001b[0;32mraise\u001b[0m \u001b[0mLinAlgError\u001b[0m\u001b[0;34m(\u001b[0m\u001b[0;34m\"%d-th leading minor not positive definite\"\u001b[0m \u001b[0;34m%\u001b[0m \u001b[0minfo\u001b[0m\u001b[0;34m)\u001b[0m\u001b[0;34m\u001b[0m\u001b[0m\n\u001b[0m\u001b[1;32m     31\u001b[0m     \u001b[0;32mif\u001b[0m \u001b[0minfo\u001b[0m \u001b[0;34m<\u001b[0m \u001b[0;36m0\u001b[0m\u001b[0;34m:\u001b[0m\u001b[0;34m\u001b[0m\u001b[0m\n",
      "\u001b[0;31mLinAlgError\u001b[0m: 22-th leading minor not positive definite",
      "\nDuring handling of the above exception, another exception occurred:\n",
      "\u001b[0;31mTypeError\u001b[0m                                 Traceback (most recent call last)",
      "\u001b[0;32mpomegranate/bayes.pyx\u001b[0m in \u001b[0;36mpomegranate.bayes.BayesModel.from_summaries\u001b[0;34m()\u001b[0m\n",
      "\u001b[0;32mpomegranate/distributions.pyx\u001b[0m in \u001b[0;36mpomegranate.distributions.MultivariateGaussianDistribution.from_summaries\u001b[0;34m()\u001b[0m\n",
      "\u001b[0;31mTypeError\u001b[0m: Cannot cast ufunc subtract output from dtype('complex128') to dtype('float64') with casting rule 'same_kind'"
     ]
    },
    {
     "name": "stderr",
     "output_type": "stream",
     "text": [
      "Exception ignored in: 'pomegranate.hmm.HiddenMarkovModel._from_summaries'\n",
      "Traceback (most recent call last):\n",
      "  File \"pomegranate/bayes.pyx\", line 710, in pomegranate.bayes.BayesModel.from_summaries\n",
      "  File \"pomegranate/distributions.pyx\", line 2259, in pomegranate.distributions.MultivariateGaussianDistribution.from_summaries\n",
      "TypeError: Cannot cast ufunc subtract output from dtype('complex128') to dtype('float64') with casting rule 'same_kind'\n"
     ]
    },
    {
     "name": "stdout",
     "output_type": "stream",
     "text": [
      "[55] Improvement: 0.0024528754875063896\tTime (s): 541.1\n"
     ]
    },
    {
     "ename": "TypeError",
     "evalue": "Cannot cast ufunc subtract output from dtype('complex128') to dtype('float64') with casting rule 'same_kind'",
     "output_type": "error",
     "traceback": [
      "\u001b[0;31m---------------------------------------------------------------------------\u001b[0m",
      "\u001b[0;31mLinAlgError\u001b[0m                               Traceback (most recent call last)",
      "\u001b[0;32mpomegranate/distributions.pyx\u001b[0m in \u001b[0;36mpomegranate.distributions.MultivariateGaussianDistribution.from_summaries\u001b[0;34m()\u001b[0m\n",
      "\u001b[0;32m/usr/local/lib/python3.5/dist-packages/scipy/linalg/decomp_cholesky.py\u001b[0m in \u001b[0;36mcholesky\u001b[0;34m(a, lower, overwrite_a, check_finite)\u001b[0m\n\u001b[1;32m     80\u001b[0m     c, lower = _cholesky(a, lower=lower, overwrite_a=overwrite_a, clean=True,\n\u001b[0;32m---> 81\u001b[0;31m                             check_finite=check_finite)\n\u001b[0m\u001b[1;32m     82\u001b[0m     \u001b[0;32mreturn\u001b[0m \u001b[0mc\u001b[0m\u001b[0;34m\u001b[0m\u001b[0m\n",
      "\u001b[0;32m/usr/local/lib/python3.5/dist-packages/scipy/linalg/decomp_cholesky.py\u001b[0m in \u001b[0;36m_cholesky\u001b[0;34m(a, lower, overwrite_a, clean, check_finite)\u001b[0m\n\u001b[1;32m     29\u001b[0m     \u001b[0;32mif\u001b[0m \u001b[0minfo\u001b[0m \u001b[0;34m>\u001b[0m \u001b[0;36m0\u001b[0m\u001b[0;34m:\u001b[0m\u001b[0;34m\u001b[0m\u001b[0m\n\u001b[0;32m---> 30\u001b[0;31m         \u001b[0;32mraise\u001b[0m \u001b[0mLinAlgError\u001b[0m\u001b[0;34m(\u001b[0m\u001b[0;34m\"%d-th leading minor not positive definite\"\u001b[0m \u001b[0;34m%\u001b[0m \u001b[0minfo\u001b[0m\u001b[0;34m)\u001b[0m\u001b[0;34m\u001b[0m\u001b[0m\n\u001b[0m\u001b[1;32m     31\u001b[0m     \u001b[0;32mif\u001b[0m \u001b[0minfo\u001b[0m \u001b[0;34m<\u001b[0m \u001b[0;36m0\u001b[0m\u001b[0;34m:\u001b[0m\u001b[0;34m\u001b[0m\u001b[0m\n",
      "\u001b[0;31mLinAlgError\u001b[0m: 24-th leading minor not positive definite",
      "\nDuring handling of the above exception, another exception occurred:\n",
      "\u001b[0;31mTypeError\u001b[0m                                 Traceback (most recent call last)",
      "\u001b[0;32mpomegranate/bayes.pyx\u001b[0m in \u001b[0;36mpomegranate.bayes.BayesModel.from_summaries\u001b[0;34m()\u001b[0m\n",
      "\u001b[0;32mpomegranate/distributions.pyx\u001b[0m in \u001b[0;36mpomegranate.distributions.MultivariateGaussianDistribution.from_summaries\u001b[0;34m()\u001b[0m\n",
      "\u001b[0;31mTypeError\u001b[0m: Cannot cast ufunc subtract output from dtype('complex128') to dtype('float64') with casting rule 'same_kind'"
     ]
    },
    {
     "name": "stderr",
     "output_type": "stream",
     "text": [
      "Exception ignored in: 'pomegranate.hmm.HiddenMarkovModel._from_summaries'\n",
      "Traceback (most recent call last):\n",
      "  File \"pomegranate/bayes.pyx\", line 710, in pomegranate.bayes.BayesModel.from_summaries\n",
      "  File \"pomegranate/distributions.pyx\", line 2259, in pomegranate.distributions.MultivariateGaussianDistribution.from_summaries\n",
      "TypeError: Cannot cast ufunc subtract output from dtype('complex128') to dtype('float64') with casting rule 'same_kind'\n"
     ]
    },
    {
     "name": "stdout",
     "output_type": "stream",
     "text": [
      "[56] Improvement: 0.00127413310110569\tTime (s): 541.1\n"
     ]
    },
    {
     "ename": "TypeError",
     "evalue": "Cannot cast ufunc subtract output from dtype('complex128') to dtype('float64') with casting rule 'same_kind'",
     "output_type": "error",
     "traceback": [
      "\u001b[0;31m---------------------------------------------------------------------------\u001b[0m",
      "\u001b[0;31mLinAlgError\u001b[0m                               Traceback (most recent call last)",
      "\u001b[0;32mpomegranate/distributions.pyx\u001b[0m in \u001b[0;36mpomegranate.distributions.MultivariateGaussianDistribution.from_summaries\u001b[0;34m()\u001b[0m\n",
      "\u001b[0;32m/usr/local/lib/python3.5/dist-packages/scipy/linalg/decomp_cholesky.py\u001b[0m in \u001b[0;36mcholesky\u001b[0;34m(a, lower, overwrite_a, check_finite)\u001b[0m\n\u001b[1;32m     80\u001b[0m     c, lower = _cholesky(a, lower=lower, overwrite_a=overwrite_a, clean=True,\n\u001b[0;32m---> 81\u001b[0;31m                             check_finite=check_finite)\n\u001b[0m\u001b[1;32m     82\u001b[0m     \u001b[0;32mreturn\u001b[0m \u001b[0mc\u001b[0m\u001b[0;34m\u001b[0m\u001b[0m\n",
      "\u001b[0;32m/usr/local/lib/python3.5/dist-packages/scipy/linalg/decomp_cholesky.py\u001b[0m in \u001b[0;36m_cholesky\u001b[0;34m(a, lower, overwrite_a, clean, check_finite)\u001b[0m\n\u001b[1;32m     29\u001b[0m     \u001b[0;32mif\u001b[0m \u001b[0minfo\u001b[0m \u001b[0;34m>\u001b[0m \u001b[0;36m0\u001b[0m\u001b[0;34m:\u001b[0m\u001b[0;34m\u001b[0m\u001b[0m\n\u001b[0;32m---> 30\u001b[0;31m         \u001b[0;32mraise\u001b[0m \u001b[0mLinAlgError\u001b[0m\u001b[0;34m(\u001b[0m\u001b[0;34m\"%d-th leading minor not positive definite\"\u001b[0m \u001b[0;34m%\u001b[0m \u001b[0minfo\u001b[0m\u001b[0;34m)\u001b[0m\u001b[0;34m\u001b[0m\u001b[0m\n\u001b[0m\u001b[1;32m     31\u001b[0m     \u001b[0;32mif\u001b[0m \u001b[0minfo\u001b[0m \u001b[0;34m<\u001b[0m \u001b[0;36m0\u001b[0m\u001b[0;34m:\u001b[0m\u001b[0;34m\u001b[0m\u001b[0m\n",
      "\u001b[0;31mLinAlgError\u001b[0m: 24-th leading minor not positive definite",
      "\nDuring handling of the above exception, another exception occurred:\n",
      "\u001b[0;31mTypeError\u001b[0m                                 Traceback (most recent call last)",
      "\u001b[0;32mpomegranate/bayes.pyx\u001b[0m in \u001b[0;36mpomegranate.bayes.BayesModel.from_summaries\u001b[0;34m()\u001b[0m\n",
      "\u001b[0;32mpomegranate/distributions.pyx\u001b[0m in \u001b[0;36mpomegranate.distributions.MultivariateGaussianDistribution.from_summaries\u001b[0;34m()\u001b[0m\n",
      "\u001b[0;31mTypeError\u001b[0m: Cannot cast ufunc subtract output from dtype('complex128') to dtype('float64') with casting rule 'same_kind'"
     ]
    },
    {
     "name": "stderr",
     "output_type": "stream",
     "text": [
      "Exception ignored in: 'pomegranate.hmm.HiddenMarkovModel._from_summaries'\n",
      "Traceback (most recent call last):\n",
      "  File \"pomegranate/bayes.pyx\", line 710, in pomegranate.bayes.BayesModel.from_summaries\n",
      "  File \"pomegranate/distributions.pyx\", line 2259, in pomegranate.distributions.MultivariateGaussianDistribution.from_summaries\n",
      "TypeError: Cannot cast ufunc subtract output from dtype('complex128') to dtype('float64') with casting rule 'same_kind'\n"
     ]
    },
    {
     "name": "stdout",
     "output_type": "stream",
     "text": [
      "[57] Improvement: 0.0006458016578108072\tTime (s): 540.1\n"
     ]
    },
    {
     "ename": "TypeError",
     "evalue": "Cannot cast ufunc subtract output from dtype('complex128') to dtype('float64') with casting rule 'same_kind'",
     "output_type": "error",
     "traceback": [
      "\u001b[0;31m---------------------------------------------------------------------------\u001b[0m",
      "\u001b[0;31mLinAlgError\u001b[0m                               Traceback (most recent call last)",
      "\u001b[0;32mpomegranate/distributions.pyx\u001b[0m in \u001b[0;36mpomegranate.distributions.MultivariateGaussianDistribution.from_summaries\u001b[0;34m()\u001b[0m\n",
      "\u001b[0;32m/usr/local/lib/python3.5/dist-packages/scipy/linalg/decomp_cholesky.py\u001b[0m in \u001b[0;36mcholesky\u001b[0;34m(a, lower, overwrite_a, check_finite)\u001b[0m\n\u001b[1;32m     80\u001b[0m     c, lower = _cholesky(a, lower=lower, overwrite_a=overwrite_a, clean=True,\n\u001b[0;32m---> 81\u001b[0;31m                             check_finite=check_finite)\n\u001b[0m\u001b[1;32m     82\u001b[0m     \u001b[0;32mreturn\u001b[0m \u001b[0mc\u001b[0m\u001b[0;34m\u001b[0m\u001b[0m\n",
      "\u001b[0;32m/usr/local/lib/python3.5/dist-packages/scipy/linalg/decomp_cholesky.py\u001b[0m in \u001b[0;36m_cholesky\u001b[0;34m(a, lower, overwrite_a, clean, check_finite)\u001b[0m\n\u001b[1;32m     29\u001b[0m     \u001b[0;32mif\u001b[0m \u001b[0minfo\u001b[0m \u001b[0;34m>\u001b[0m \u001b[0;36m0\u001b[0m\u001b[0;34m:\u001b[0m\u001b[0;34m\u001b[0m\u001b[0m\n\u001b[0;32m---> 30\u001b[0;31m         \u001b[0;32mraise\u001b[0m \u001b[0mLinAlgError\u001b[0m\u001b[0;34m(\u001b[0m\u001b[0;34m\"%d-th leading minor not positive definite\"\u001b[0m \u001b[0;34m%\u001b[0m \u001b[0minfo\u001b[0m\u001b[0;34m)\u001b[0m\u001b[0;34m\u001b[0m\u001b[0m\n\u001b[0m\u001b[1;32m     31\u001b[0m     \u001b[0;32mif\u001b[0m \u001b[0minfo\u001b[0m \u001b[0;34m<\u001b[0m \u001b[0;36m0\u001b[0m\u001b[0;34m:\u001b[0m\u001b[0;34m\u001b[0m\u001b[0m\n",
      "\u001b[0;31mLinAlgError\u001b[0m: 23-th leading minor not positive definite",
      "\nDuring handling of the above exception, another exception occurred:\n",
      "\u001b[0;31mTypeError\u001b[0m                                 Traceback (most recent call last)",
      "\u001b[0;32mpomegranate/bayes.pyx\u001b[0m in \u001b[0;36mpomegranate.bayes.BayesModel.from_summaries\u001b[0;34m()\u001b[0m\n",
      "\u001b[0;32mpomegranate/distributions.pyx\u001b[0m in \u001b[0;36mpomegranate.distributions.MultivariateGaussianDistribution.from_summaries\u001b[0;34m()\u001b[0m\n",
      "\u001b[0;31mTypeError\u001b[0m: Cannot cast ufunc subtract output from dtype('complex128') to dtype('float64') with casting rule 'same_kind'"
     ]
    },
    {
     "name": "stderr",
     "output_type": "stream",
     "text": [
      "Exception ignored in: 'pomegranate.hmm.HiddenMarkovModel._from_summaries'\n",
      "Traceback (most recent call last):\n",
      "  File \"pomegranate/bayes.pyx\", line 710, in pomegranate.bayes.BayesModel.from_summaries\n",
      "  File \"pomegranate/distributions.pyx\", line 2259, in pomegranate.distributions.MultivariateGaussianDistribution.from_summaries\n",
      "TypeError: Cannot cast ufunc subtract output from dtype('complex128') to dtype('float64') with casting rule 'same_kind'\n"
     ]
    },
    {
     "name": "stdout",
     "output_type": "stream",
     "text": [
      "[58] Improvement: 0.00032188952900469303\tTime (s): 542.9\n"
     ]
    },
    {
     "ename": "TypeError",
     "evalue": "Cannot cast ufunc subtract output from dtype('complex128') to dtype('float64') with casting rule 'same_kind'",
     "output_type": "error",
     "traceback": [
      "\u001b[0;31m---------------------------------------------------------------------------\u001b[0m",
      "\u001b[0;31mLinAlgError\u001b[0m                               Traceback (most recent call last)",
      "\u001b[0;32mpomegranate/distributions.pyx\u001b[0m in \u001b[0;36mpomegranate.distributions.MultivariateGaussianDistribution.from_summaries\u001b[0;34m()\u001b[0m\n",
      "\u001b[0;32m/usr/local/lib/python3.5/dist-packages/scipy/linalg/decomp_cholesky.py\u001b[0m in \u001b[0;36mcholesky\u001b[0;34m(a, lower, overwrite_a, check_finite)\u001b[0m\n\u001b[1;32m     80\u001b[0m     c, lower = _cholesky(a, lower=lower, overwrite_a=overwrite_a, clean=True,\n\u001b[0;32m---> 81\u001b[0;31m                             check_finite=check_finite)\n\u001b[0m\u001b[1;32m     82\u001b[0m     \u001b[0;32mreturn\u001b[0m \u001b[0mc\u001b[0m\u001b[0;34m\u001b[0m\u001b[0m\n",
      "\u001b[0;32m/usr/local/lib/python3.5/dist-packages/scipy/linalg/decomp_cholesky.py\u001b[0m in \u001b[0;36m_cholesky\u001b[0;34m(a, lower, overwrite_a, clean, check_finite)\u001b[0m\n\u001b[1;32m     29\u001b[0m     \u001b[0;32mif\u001b[0m \u001b[0minfo\u001b[0m \u001b[0;34m>\u001b[0m \u001b[0;36m0\u001b[0m\u001b[0;34m:\u001b[0m\u001b[0;34m\u001b[0m\u001b[0m\n\u001b[0;32m---> 30\u001b[0;31m         \u001b[0;32mraise\u001b[0m \u001b[0mLinAlgError\u001b[0m\u001b[0;34m(\u001b[0m\u001b[0;34m\"%d-th leading minor not positive definite\"\u001b[0m \u001b[0;34m%\u001b[0m \u001b[0minfo\u001b[0m\u001b[0;34m)\u001b[0m\u001b[0;34m\u001b[0m\u001b[0m\n\u001b[0m\u001b[1;32m     31\u001b[0m     \u001b[0;32mif\u001b[0m \u001b[0minfo\u001b[0m \u001b[0;34m<\u001b[0m \u001b[0;36m0\u001b[0m\u001b[0;34m:\u001b[0m\u001b[0;34m\u001b[0m\u001b[0m\n",
      "\u001b[0;31mLinAlgError\u001b[0m: 23-th leading minor not positive definite",
      "\nDuring handling of the above exception, another exception occurred:\n",
      "\u001b[0;31mTypeError\u001b[0m                                 Traceback (most recent call last)",
      "\u001b[0;32mpomegranate/bayes.pyx\u001b[0m in \u001b[0;36mpomegranate.bayes.BayesModel.from_summaries\u001b[0;34m()\u001b[0m\n",
      "\u001b[0;32mpomegranate/distributions.pyx\u001b[0m in \u001b[0;36mpomegranate.distributions.MultivariateGaussianDistribution.from_summaries\u001b[0;34m()\u001b[0m\n",
      "\u001b[0;31mTypeError\u001b[0m: Cannot cast ufunc subtract output from dtype('complex128') to dtype('float64') with casting rule 'same_kind'"
     ]
    },
    {
     "name": "stderr",
     "output_type": "stream",
     "text": [
      "Exception ignored in: 'pomegranate.hmm.HiddenMarkovModel._from_summaries'\n",
      "Traceback (most recent call last):\n",
      "  File \"pomegranate/bayes.pyx\", line 710, in pomegranate.bayes.BayesModel.from_summaries\n",
      "  File \"pomegranate/distributions.pyx\", line 2259, in pomegranate.distributions.MultivariateGaussianDistribution.from_summaries\n",
      "TypeError: Cannot cast ufunc subtract output from dtype('complex128') to dtype('float64') with casting rule 'same_kind'\n"
     ]
    },
    {
     "name": "stdout",
     "output_type": "stream",
     "text": [
      "[59] Improvement: 0.000154552748426795\tTime (s): 543.1\n"
     ]
    },
    {
     "ename": "TypeError",
     "evalue": "Cannot cast ufunc subtract output from dtype('complex128') to dtype('float64') with casting rule 'same_kind'",
     "output_type": "error",
     "traceback": [
      "\u001b[0;31m---------------------------------------------------------------------------\u001b[0m",
      "\u001b[0;31mLinAlgError\u001b[0m                               Traceback (most recent call last)",
      "\u001b[0;32mpomegranate/distributions.pyx\u001b[0m in \u001b[0;36mpomegranate.distributions.MultivariateGaussianDistribution.from_summaries\u001b[0;34m()\u001b[0m\n",
      "\u001b[0;32m/usr/local/lib/python3.5/dist-packages/scipy/linalg/decomp_cholesky.py\u001b[0m in \u001b[0;36mcholesky\u001b[0;34m(a, lower, overwrite_a, check_finite)\u001b[0m\n\u001b[1;32m     80\u001b[0m     c, lower = _cholesky(a, lower=lower, overwrite_a=overwrite_a, clean=True,\n\u001b[0;32m---> 81\u001b[0;31m                             check_finite=check_finite)\n\u001b[0m\u001b[1;32m     82\u001b[0m     \u001b[0;32mreturn\u001b[0m \u001b[0mc\u001b[0m\u001b[0;34m\u001b[0m\u001b[0m\n",
      "\u001b[0;32m/usr/local/lib/python3.5/dist-packages/scipy/linalg/decomp_cholesky.py\u001b[0m in \u001b[0;36m_cholesky\u001b[0;34m(a, lower, overwrite_a, clean, check_finite)\u001b[0m\n\u001b[1;32m     29\u001b[0m     \u001b[0;32mif\u001b[0m \u001b[0minfo\u001b[0m \u001b[0;34m>\u001b[0m \u001b[0;36m0\u001b[0m\u001b[0;34m:\u001b[0m\u001b[0;34m\u001b[0m\u001b[0m\n\u001b[0;32m---> 30\u001b[0;31m         \u001b[0;32mraise\u001b[0m \u001b[0mLinAlgError\u001b[0m\u001b[0;34m(\u001b[0m\u001b[0;34m\"%d-th leading minor not positive definite\"\u001b[0m \u001b[0;34m%\u001b[0m \u001b[0minfo\u001b[0m\u001b[0;34m)\u001b[0m\u001b[0;34m\u001b[0m\u001b[0m\n\u001b[0m\u001b[1;32m     31\u001b[0m     \u001b[0;32mif\u001b[0m \u001b[0minfo\u001b[0m \u001b[0;34m<\u001b[0m \u001b[0;36m0\u001b[0m\u001b[0;34m:\u001b[0m\u001b[0;34m\u001b[0m\u001b[0m\n",
      "\u001b[0;31mLinAlgError\u001b[0m: 23-th leading minor not positive definite",
      "\nDuring handling of the above exception, another exception occurred:\n",
      "\u001b[0;31mTypeError\u001b[0m                                 Traceback (most recent call last)",
      "\u001b[0;32mpomegranate/bayes.pyx\u001b[0m in \u001b[0;36mpomegranate.bayes.BayesModel.from_summaries\u001b[0;34m()\u001b[0m\n",
      "\u001b[0;32mpomegranate/distributions.pyx\u001b[0m in \u001b[0;36mpomegranate.distributions.MultivariateGaussianDistribution.from_summaries\u001b[0;34m()\u001b[0m\n",
      "\u001b[0;31mTypeError\u001b[0m: Cannot cast ufunc subtract output from dtype('complex128') to dtype('float64') with casting rule 'same_kind'"
     ]
    },
    {
     "name": "stderr",
     "output_type": "stream",
     "text": [
      "Exception ignored in: 'pomegranate.hmm.HiddenMarkovModel._from_summaries'\n",
      "Traceback (most recent call last):\n",
      "  File \"pomegranate/bayes.pyx\", line 710, in pomegranate.bayes.BayesModel.from_summaries\n",
      "  File \"pomegranate/distributions.pyx\", line 2259, in pomegranate.distributions.MultivariateGaussianDistribution.from_summaries\n",
      "TypeError: Cannot cast ufunc subtract output from dtype('complex128') to dtype('float64') with casting rule 'same_kind'\n"
     ]
    },
    {
     "name": "stdout",
     "output_type": "stream",
     "text": [
      "[60] Improvement: 6.717629730701447e-05\tTime (s): 534.9\n"
     ]
    },
    {
     "ename": "TypeError",
     "evalue": "Cannot cast ufunc subtract output from dtype('complex128') to dtype('float64') with casting rule 'same_kind'",
     "output_type": "error",
     "traceback": [
      "\u001b[0;31m---------------------------------------------------------------------------\u001b[0m",
      "\u001b[0;31mLinAlgError\u001b[0m                               Traceback (most recent call last)",
      "\u001b[0;32mpomegranate/distributions.pyx\u001b[0m in \u001b[0;36mpomegranate.distributions.MultivariateGaussianDistribution.from_summaries\u001b[0;34m()\u001b[0m\n",
      "\u001b[0;32m/usr/local/lib/python3.5/dist-packages/scipy/linalg/decomp_cholesky.py\u001b[0m in \u001b[0;36mcholesky\u001b[0;34m(a, lower, overwrite_a, check_finite)\u001b[0m\n\u001b[1;32m     80\u001b[0m     c, lower = _cholesky(a, lower=lower, overwrite_a=overwrite_a, clean=True,\n\u001b[0;32m---> 81\u001b[0;31m                             check_finite=check_finite)\n\u001b[0m\u001b[1;32m     82\u001b[0m     \u001b[0;32mreturn\u001b[0m \u001b[0mc\u001b[0m\u001b[0;34m\u001b[0m\u001b[0m\n",
      "\u001b[0;32m/usr/local/lib/python3.5/dist-packages/scipy/linalg/decomp_cholesky.py\u001b[0m in \u001b[0;36m_cholesky\u001b[0;34m(a, lower, overwrite_a, clean, check_finite)\u001b[0m\n\u001b[1;32m     29\u001b[0m     \u001b[0;32mif\u001b[0m \u001b[0minfo\u001b[0m \u001b[0;34m>\u001b[0m \u001b[0;36m0\u001b[0m\u001b[0;34m:\u001b[0m\u001b[0;34m\u001b[0m\u001b[0m\n\u001b[0;32m---> 30\u001b[0;31m         \u001b[0;32mraise\u001b[0m \u001b[0mLinAlgError\u001b[0m\u001b[0;34m(\u001b[0m\u001b[0;34m\"%d-th leading minor not positive definite\"\u001b[0m \u001b[0;34m%\u001b[0m \u001b[0minfo\u001b[0m\u001b[0;34m)\u001b[0m\u001b[0;34m\u001b[0m\u001b[0m\n\u001b[0m\u001b[1;32m     31\u001b[0m     \u001b[0;32mif\u001b[0m \u001b[0minfo\u001b[0m \u001b[0;34m<\u001b[0m \u001b[0;36m0\u001b[0m\u001b[0;34m:\u001b[0m\u001b[0;34m\u001b[0m\u001b[0m\n",
      "\u001b[0;31mLinAlgError\u001b[0m: 23-th leading minor not positive definite",
      "\nDuring handling of the above exception, another exception occurred:\n",
      "\u001b[0;31mTypeError\u001b[0m                                 Traceback (most recent call last)",
      "\u001b[0;32mpomegranate/bayes.pyx\u001b[0m in \u001b[0;36mpomegranate.bayes.BayesModel.from_summaries\u001b[0;34m()\u001b[0m\n",
      "\u001b[0;32mpomegranate/distributions.pyx\u001b[0m in \u001b[0;36mpomegranate.distributions.MultivariateGaussianDistribution.from_summaries\u001b[0;34m()\u001b[0m\n",
      "\u001b[0;31mTypeError\u001b[0m: Cannot cast ufunc subtract output from dtype('complex128') to dtype('float64') with casting rule 'same_kind'"
     ]
    },
    {
     "name": "stderr",
     "output_type": "stream",
     "text": [
      "Exception ignored in: 'pomegranate.hmm.HiddenMarkovModel._from_summaries'\n",
      "Traceback (most recent call last):\n",
      "  File \"pomegranate/bayes.pyx\", line 710, in pomegranate.bayes.BayesModel.from_summaries\n",
      "  File \"pomegranate/distributions.pyx\", line 2259, in pomegranate.distributions.MultivariateGaussianDistribution.from_summaries\n",
      "TypeError: Cannot cast ufunc subtract output from dtype('complex128') to dtype('float64') with casting rule 'same_kind'\n"
     ]
    },
    {
     "name": "stdout",
     "output_type": "stream",
     "text": [
      "[61] Improvement: 2.1627172827720642e-05\tTime (s): 537.9\n"
     ]
    },
    {
     "ename": "TypeError",
     "evalue": "Cannot cast ufunc subtract output from dtype('complex128') to dtype('float64') with casting rule 'same_kind'",
     "output_type": "error",
     "traceback": [
      "\u001b[0;31m---------------------------------------------------------------------------\u001b[0m",
      "\u001b[0;31mLinAlgError\u001b[0m                               Traceback (most recent call last)",
      "\u001b[0;32mpomegranate/distributions.pyx\u001b[0m in \u001b[0;36mpomegranate.distributions.MultivariateGaussianDistribution.from_summaries\u001b[0;34m()\u001b[0m\n",
      "\u001b[0;32m/usr/local/lib/python3.5/dist-packages/scipy/linalg/decomp_cholesky.py\u001b[0m in \u001b[0;36mcholesky\u001b[0;34m(a, lower, overwrite_a, check_finite)\u001b[0m\n\u001b[1;32m     80\u001b[0m     c, lower = _cholesky(a, lower=lower, overwrite_a=overwrite_a, clean=True,\n\u001b[0;32m---> 81\u001b[0;31m                             check_finite=check_finite)\n\u001b[0m\u001b[1;32m     82\u001b[0m     \u001b[0;32mreturn\u001b[0m \u001b[0mc\u001b[0m\u001b[0;34m\u001b[0m\u001b[0m\n",
      "\u001b[0;32m/usr/local/lib/python3.5/dist-packages/scipy/linalg/decomp_cholesky.py\u001b[0m in \u001b[0;36m_cholesky\u001b[0;34m(a, lower, overwrite_a, clean, check_finite)\u001b[0m\n\u001b[1;32m     29\u001b[0m     \u001b[0;32mif\u001b[0m \u001b[0minfo\u001b[0m \u001b[0;34m>\u001b[0m \u001b[0;36m0\u001b[0m\u001b[0;34m:\u001b[0m\u001b[0;34m\u001b[0m\u001b[0m\n\u001b[0;32m---> 30\u001b[0;31m         \u001b[0;32mraise\u001b[0m \u001b[0mLinAlgError\u001b[0m\u001b[0;34m(\u001b[0m\u001b[0;34m\"%d-th leading minor not positive definite\"\u001b[0m \u001b[0;34m%\u001b[0m \u001b[0minfo\u001b[0m\u001b[0;34m)\u001b[0m\u001b[0;34m\u001b[0m\u001b[0m\n\u001b[0m\u001b[1;32m     31\u001b[0m     \u001b[0;32mif\u001b[0m \u001b[0minfo\u001b[0m \u001b[0;34m<\u001b[0m \u001b[0;36m0\u001b[0m\u001b[0;34m:\u001b[0m\u001b[0;34m\u001b[0m\u001b[0m\n",
      "\u001b[0;31mLinAlgError\u001b[0m: 23-th leading minor not positive definite",
      "\nDuring handling of the above exception, another exception occurred:\n",
      "\u001b[0;31mTypeError\u001b[0m                                 Traceback (most recent call last)",
      "\u001b[0;32mpomegranate/bayes.pyx\u001b[0m in \u001b[0;36mpomegranate.bayes.BayesModel.from_summaries\u001b[0;34m()\u001b[0m\n",
      "\u001b[0;32mpomegranate/distributions.pyx\u001b[0m in \u001b[0;36mpomegranate.distributions.MultivariateGaussianDistribution.from_summaries\u001b[0;34m()\u001b[0m\n",
      "\u001b[0;31mTypeError\u001b[0m: Cannot cast ufunc subtract output from dtype('complex128') to dtype('float64') with casting rule 'same_kind'"
     ]
    },
    {
     "name": "stderr",
     "output_type": "stream",
     "text": [
      "Exception ignored in: 'pomegranate.hmm.HiddenMarkovModel._from_summaries'\n",
      "Traceback (most recent call last):\n",
      "  File \"pomegranate/bayes.pyx\", line 710, in pomegranate.bayes.BayesModel.from_summaries\n",
      "  File \"pomegranate/distributions.pyx\", line 2259, in pomegranate.distributions.MultivariateGaussianDistribution.from_summaries\n",
      "TypeError: Cannot cast ufunc subtract output from dtype('complex128') to dtype('float64') with casting rule 'same_kind'\n"
     ]
    },
    {
     "name": "stdout",
     "output_type": "stream",
     "text": [
      "[62] Improvement: -1.4025717973709106e-06\tTime (s): 544.4\n",
      "Total Training Improvement: 2551.5645321204793\n",
      "Total Training Time (s): 33826.2032\n"
     ]
    },
    {
     "data": {
      "text/plain": [
       "2551.5645321204793"
      ]
     },
     "execution_count": 76,
     "metadata": {},
     "output_type": "execute_result"
    }
   ],
   "source": [
    "example_sentence_hmm.fit(example_features, algorithm='viterbi', n_jobs=12, verbose=True)"
   ]
  },
  {
   "cell_type": "markdown",
   "metadata": {},
   "source": [
    "## Enroll"
   ]
  },
  {
   "cell_type": "code",
   "execution_count": 54,
   "metadata": {},
   "outputs": [
    {
     "data": {
      "text/plain": [
       "GMMHMM(algorithm='viterbi', covariance_type='diag', covars_prior=0.01,\n",
       "    init_params='stmcw', n_components=39, n_iter=10, n_mix=8,\n",
       "    params='stmcw', random_state=None, startprob_prior=1.0, tol=0.01,\n",
       "    transmat_prior=1.0, verbose=False)"
      ]
     },
     "execution_count": 54,
     "metadata": {},
     "output_type": "execute_result"
    }
   ],
   "source": [
    "def make_speaker_classifier(inspeaker_classifier):\n",
    "    n_components = 3 * len(phones)\n",
    "    initial, transitions = make_matrix_beads(n_components)\n",
    "\n",
    "    classifier = hmm.GMMHMM(\n",
    "        n_components=n_components, n_mix=8, covariance_type='diag', init_params='mcw', params='tmcw'\n",
    "    )\n",
    "\n",
    "    classifier.startprob_ = initial\n",
    "    classifier.transmat_ = transitions"
   ]
  },
  {
   "cell_type": "code",
   "execution_count": null,
   "metadata": {},
   "outputs": [],
   "source": []
  },
  {
   "cell_type": "code",
   "execution_count": null,
   "metadata": {},
   "outputs": [],
   "source": [
    "def perform_enrollments(classifier, enrollments):\n",
    "    labels = enrollments[['is_male', 'speaker_id', 'sentence_id']].values\n",
    "    features = [load_mfcc(path) for path in enrollments_1['pcm_path']]\n",
    "    classifier.fit(features, labels)\n",
    "    "
   ]
  },
  {
   "cell_type": "markdown",
   "metadata": {},
   "source": [
    "## Trial"
   ]
  },
  {
   "cell_type": "code",
   "execution_count": null,
   "metadata": {},
   "outputs": [],
   "source": [
    "def save_results(label, results):\n",
    "    path = os.path.join(root, 'result', label)\n",
    "    with open(path) as opened:\n",
    "        pickle.dump(results, opened)\n",
    "        \n",
    "def load_results(label):\n",
    "    path = os.path.join(root, 'result', label)\n",
    "    with open(path) as opened:\n",
    "        return pickle.load(opened)\n",
    "    \n",
    "def perform_trial(classifier, path):\n",
    "    features = load_mfcc(path)\n",
    "    return classifier.predict_single_proba(features)\n",
    "\n",
    "def perform_trials(classifier, trials):\n",
    "    paths = trials['pcm_path'].unique()\n",
    "    results = {}\n",
    "    for path in paths:\n",
    "        results[path] = perform_trial(classifier, path)\n",
    "    return results"
   ]
  },
  {
   "cell_type": "code",
   "execution_count": 10,
   "metadata": {},
   "outputs": [
    {
     "data": {
      "text/plain": [
       "array([[ 1.,  0.,  0.],\n",
       "       [ 0.,  1.,  0.],\n",
       "       [ 0.,  0.,  1.]])"
      ]
     },
     "execution_count": 10,
     "metadata": {},
     "output_type": "execute_result"
    }
   ],
   "source": [
    "per_phone_weights = {}\n",
    "\n",
    "per_phone_weights.get('A', np.eye(3))"
   ]
  },
  {
   "cell_type": "code",
   "execution_count": null,
   "metadata": {},
   "outputs": [],
   "source": [
    "class Bakis:\n",
    "    def __init__(self, phones, per_phone_weights, ignore_stress=True, wrap_silence=True):\n",
    "        self.phone_seq = phones.split(' ')\n",
    "        if wrap_silence:\n",
    "            self.phone_seq = ['_'] + self.phone_seq + ['_']\n",
    "            \n",
    "        state_transitions = "
   ]
  },
  {
   "cell_type": "code",
   "execution_count": 51,
   "metadata": {},
   "outputs": [
    {
     "data": {
      "text/plain": [
       "array([31, 32, 33, 34, 35, 36, 37, 38, 39, 40])"
      ]
     },
     "execution_count": 51,
     "metadata": {},
     "output_type": "execute_result"
    }
   ],
   "source": [
    "enrollments_1.sentence_id.unique()"
   ]
  },
  {
   "cell_type": "code",
   "execution_count": 52,
   "metadata": {},
   "outputs": [],
   "source": [
    "sample_enrollments = enrollments_1.loc[enrollments_1.sentence_id == 31]"
   ]
  },
  {
   "cell_type": "code",
   "execution_count": null,
   "metadata": {},
   "outputs": [],
   "source": []
  },
  {
   "cell_type": "code",
   "execution_count": null,
   "metadata": {},
   "outputs": [],
   "source": []
  },
  {
   "cell_type": "code",
   "execution_count": null,
   "metadata": {},
   "outputs": [],
   "source": [
    "class HmmGmmVerifier:\n",
    "    def __init__(self):\n",
    "        self.patterns = None\n",
    "        self.labels = None\n",
    "\n",
    "    def fit(self, features, labels):\n",
    "        self.patterns = features\n",
    "        self.labels = labels\n",
    "        self.unique_labels = np.unique(labels)\n",
    "        \n",
    "    def enroll(self, ):\n",
    "        pass\n",
    "    \n",
    "    def trial(self, ):\n",
    "        pass\n",
    "\n",
    "    def predict(self, features, metric=spatial.distance.cosine):\n",
    "        sequence_label_proba = self.predict_proba(features, metric)\n",
    "        max_proba_index = sequence_label_proba.argmax(axis=1)\n",
    "        return self.unique_labels[max_proba_index]\n",
    "    \n",
    "    def predict_proba(self, features, metric=spatial.distance.cosine):\n",
    "        sequence_n = len(features) \n",
    "        pattern_n = len(self.patterns)\n",
    "        \n",
    "        sequence_label_proba = np.zeros((sequence_n, pattern_n), dtype=self.labels.dtype)\n",
    "        for i, sequence in enumerate(features):\n",
    "            sequence_label_proba[i, :] = self.predict_single_proba(sequence, metric)\n",
    "            \n",
    "        return sequence_label_proba\n",
    "    \n",
    "    def predict_single_proba(self, sequence, metric=spatial.distance.cosine):\n",
    "        pattern_dists = np.zeros(len(self.patterns), dtype=np.float64)\n",
    "        for i, pattern in enumerate(self.patterns):\n",
    "            distance, _ = fastdtw.fastdtw(pattern, sequence, dist=metric)\n",
    "            pattern_dists[i] = distance\n",
    "            \n",
    "        pattern_proba = np.exp(-pattern_dists)\n",
    "        \n",
    "        label_proba = np.zeros(len(self.unique_labels), dtype=np.float64)\n",
    "        all_dim = tuple(range(1, self.labels.ndim))\n",
    "        for i, label in enumerate(self.unique_labels):\n",
    "            relevant = (self.labels == label).all(axis=all_dim)\n",
    "            total_proba = pattern_proba[relevant].sum()\n",
    "            label_proba[i] = total_proba\n",
    "        \n",
    "        return label_proba / label_proba.sum()\n",
    "\n",
    "classifier = markov.HMMGMMClassifier()\n",
    "classifier.fit(e_features, e_labels, n_components=10, n_mix=2)\n",
    "return classifier.predict(t_features)"
   ]
  },
  {
   "cell_type": "code",
   "execution_count": 5,
   "metadata": {},
   "outputs": [
    {
     "data": {
      "text/plain": [
       "is_male  speaker_id\n",
       "False    2             30\n",
       "         4             30\n",
       "         5             30\n",
       "         6             30\n",
       "         8             24\n",
       "         12            30\n",
       "True     1             30\n",
       "         2             30\n",
       "         4             30\n",
       "         5             30\n",
       "         6             30\n",
       "         7             30\n",
       "         8              6\n",
       "         9             30\n",
       "         13            30\n",
       "         14            24\n",
       "         15            30\n",
       "         16            30\n",
       "         17            30\n",
       "         18            30\n",
       "         19            30\n",
       "         20            30\n",
       "         21            24\n",
       "         22            30\n",
       "         23            30\n",
       "         26            30\n",
       "         28            30\n",
       "         29            30\n",
       "         32            30\n",
       "         38            24\n",
       "         40            30\n",
       "         41            30\n",
       "         43            30\n",
       "         47            30\n",
       "         48             6\n",
       "         51            30\n",
       "         52             6\n",
       "         53            30\n",
       "         54            30\n",
       "         55            30\n",
       "         60            30\n",
       "dtype: int64"
      ]
     },
     "metadata": {},
     "output_type": "display_data"
    }
   ],
   "source": [
    "display(enrollments_1.groupby(['is_male', 'speaker_id']).size())"
   ]
  }
 ],
 "metadata": {
  "kernelspec": {
   "display_name": "Python 3",
   "language": "python",
   "name": "python3"
  },
  "language_info": {
   "codemirror_mode": {
    "name": "ipython",
    "version": 3
   },
   "file_extension": ".py",
   "mimetype": "text/x-python",
   "name": "python",
   "nbconvert_exporter": "python",
   "pygments_lexer": "ipython3",
   "version": "3.5.2"
  }
 },
 "nbformat": 4,
 "nbformat_minor": 2
}
