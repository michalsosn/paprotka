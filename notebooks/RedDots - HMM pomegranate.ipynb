{
 "cells": [
  {
   "cell_type": "markdown",
   "metadata": {},
   "source": [
    "# HMM GMM\n",
    "\n",
    "We use 3-state mono-phone HMMs to construct this recognizer. The emission probability of every state is modeled by a GMM. Say we have F mono-phones (F = 39 in our English lexicon), and a G-mixture GMM for each mono-phone state. Thus the GMM-HMM has 3FG mixture components in total. Compared to GMM-UBM, these mixtures are better separated in the phoneme space.\n",
    "\n",
    "MFCC:  MFCCs  are  extracted  from  16kHz  utterance  with  40 filter-banks distributed between 0 and 8kHz. Static 19-dimensional coefficients plus energy and their delta and delta-delta form a 60-dimensional vector. CMVN is applied per utterance.\n",
    "\n",
    "Hmm, deepspeech ma 26 MFCC features i zdaje się, że usuwa co drugi, ale to w związku z jakąś sztuczką uczenia RNN. Mają tak: features = mfcc(audio, samplerate=fs, numcep=numcep) gdzie mfcc jest z psf jak u nas xD a numcep=26 domyślnie, a fs=16000 domyślnie\n",
    "\n",
    "Hmm, inny papier: In our HMM-based method, a phoneme recognizer is firsttrained with 3-state, GMM-based, mono-phone HMMs. Thisrecognizer is the same as in speech recognition. LetFbe thetotal number of mono-phones (i.e. 39),S=3Fbe the numberof all states,Gthe number of Gaussian components per state,andC=SGthe number of all individual Gaussians, and let(s, g)denote Gaussian componentgin states.\n",
    "3-state - what are you?\n",
    "\n",
    "Given a transcription, a graph of HMM is composed.\n",
    "\n",
    "The  Viterbi  and  forward-backward  (FB)  algorithms  are  twomeans to align frames to states and mixtures.\n",
    "\n",
    "Speaker adaption is the same with Eq. 4 except mixtures here are phonetic dependent.\n",
    "\n",
    "During the test phase,  the Viterbi-based log-likelihood ratio is expressed as:\n",
    "sum_t log P(x_t | model_user,qt) - log P(x_t | model_ubm,qt)\n",
    "\n",
    "HMM: To generate the alignment for the HMM-based modeling,we use MFCCs to train the HMM. 39 mono-phones plus a silencemodel are used,  each of which contains 3 states.  To model thecomplexity of silence, a GMM with 16 mixtures is used for every silence state, while other states are all modeled by 8 Gaussians,resulting 984 Gaussians in total. This HMM is further extended toa triphone system and remains 2142 senones.  The transcriptionsfor  DNN  training  is  generated  by  the  senone  alignment.   OnlyMFCCs are used for HMM training and alignment.\n",
    "\n",
    "GMM-HMM and i-vector/HMM: The GMM of every state is re-estimated using the HMM alignments and different speaker fea-tures.   The total number of mixtures in our model is 984.   Thedimension of i-vector is again set to 600.  Viterbi and FB align-ments are both investigated\n",
    "\n",
    "* 39 x 3 states"
   ]
  },
  {
   "cell_type": "markdown",
   "metadata": {},
   "source": [
    "## MAP - Książka Rabinera:\n",
    "\n",
    "MAP adaptation of speaker-independent model to a speaker of parameters is obtained by solving \n",
    "\n",
    "$$\\frac{d}{d\\lambda} P(\\lambda | O) = 0$$\n",
    "\n",
    "where\n",
    "\n",
    "$$P(\\lambda | O) = \\frac{P(O | \\lambda)P(\\lambda)}{P(O)}$$\n",
    "\n",
    "If we have a good prior estimated from a lot of data, then we can use it to get a model for a speaker for which data is scarce.\n",
    "\n",
    "Conjugate priors for a random vector is defined as the prior distribution for the parameters of the parameters of the probaiblity density function of the random vector, such that the posterior distribution $P(\\lambda | O)$ and the prior distribution $P(\\lambda)$ belong to the same distribution family for any sample observations $O$.\n",
    "For example, it is well known that the conjugate prior for the mean of a Gaussian density is also a Gaussian density.\n",
    "\n",
    "$$\\bar{u_{MAP}} = \\frac{n \\tau^2}{\\sigma^2 + n \\tau^2} \\bar{o} + \\frac{\\sigma^2}{\\sigma^2 + n \\tau^2} \\rho$$\n",
    "\n",
    "where $\\bar{o}$ - sample mean of new data, $n$ - number of training observations, $\\tau^2$ - variance of prior, $\\rho$ - mean of prior distribution\n",
    "\n",
    "How do we estimate $\\rho$ and $\\tau^2$ of prior? From a collection of speaker-dependent models (and $c_m$ is a weight of a model) or from a speaker-independent model with mixture of distributions in each state ($c_m$ is a weight of a mixture component)\n",
    "\n",
    "$\\rho = \\sum_{m=1}^M c_m \\rho_m$\n",
    "\n",
    "$\\tau^2 = \\sum_{m=1}^M c_m (\\rho_m - \\rho)$\n",
    "\n",
    "System do rozpoznawania słowa:\n",
    "\n",
    "po jednym modelu na słowo, rozpoznając matchujemy z każdym po kolei i bierzemy max prob\n",
    "model left-to-right zamiast ergodic :OOOO"
   ]
  },
  {
   "cell_type": "markdown",
   "metadata": {},
   "source": [
    "https://web.stanford.edu/class/cs224s/lectures/\n",
    "\n",
    "Hmm, Viterbi learning, hard assignment: Bahm ~ o3 \n",
    "EM learning, soft assignment: Bahm ~ 0*o1 + 0.15*o2 + 0.5*o3 + 0.05*o\n",
    "\n",
    "Typical training procedure in LVCSR\n",
    "Generate a forced alignment with existing model\n",
    "Viterbi decoding with a very constrained prior (the transcript)\n",
    "Assigns observations to HMM states\n",
    "Create new observation models from update alignments\n",
    "Iteratively repeat the above steps, occasionally introducing a more complex observation model or adding more difficult training examples\n",
    "\n",
    "Viterbi Beam search\n",
    "\n",
    "Applying FB to speech: Caveats\n",
    "Network structure of HMM is always created by hand\n",
    "no algorithm for double-induction of optimal structure and probabilities has been able to beat simple hand-built structures.\n",
    "Always Bakisnetwork = links go forward in time\n",
    "Subcase of Bakisnet: beads-on-string net\n",
    "\n",
    "Assume that the features in the feature vector are uncorrelated\n",
    "This isn’t true for FFT features, but is true for MFCC features, as we will see later\n",
    "\n",
    "\n",
    "Initialization: “Flat start”Transition probabilities:set to zero any that you want to be “structurally zero”Set the rest to identical valuesLikelihoods:initialize μand sof each state to global mean and variance of all training data\n",
    "\n",
    "Embedded TrainingGiven: phoneset, lexicon, transcribed wavefilesBuild a whole sentence HMM for each sentenceInitialize A probsto 0.5, or to zeroInitialize B probsto global mean and varianceRun multiple iterations of Baum WelchDuring each iteration, we compute forward and backward probabilitiesUse them to re-estimate A and BRun Baum-Welch until convergence\n",
    "\n",
    "Viterbi training rather than Baum-Welch training. Computing the “Viterbi path” over the training data is called “forced alignment”\n",
    "Because we know which word string to assign to each observation sequence.\n",
    "We just don’t know the state sequence.\n",
    "So we use aijto constrain the path to go through the correct words\n",
    "\n",
    "Modeling phonetic context\n",
    "The strongest factor affecting phonetic variability is the neighboring phone\n",
    "Idea: have phone models which are specific to context\n",
    "Instead of Context-Independent (CI) phonesWe’ll have Context-Dependent (CD) phones\n",
    "\n",
    "\n",
    "Speech signal is not constantslope of formants, change from stop burst to releaseSo in addition to the cepstralfeaturesNeed to model changes in the cepstralfeatures over time.“delta features”“double delta” (acceleration) features\n",
    "\n",
    "Typical MFCC featuresWindow size: 25msWindow shift: 10msPre-emphasis coefficient: 0.97MFCC:12 MFCC (mel frequency cepstral coefficients)1 energy feature12 delta MFCC features 12 double-delta MFCC features1 delta energy feature1 double-delta energy featureTotal 39-dimensional features\n",
    "\n",
    "\n",
    "Acoustic Model AdaptationShift the means and variances of Gaussians to better match the input feature distributionMaximum Likelihood Linear Regression (MLLR)Maximum A Posteriori (MAP) AdaptationFor both speaker adaptation and environment adaptation\n",
    "\n",
    "MAP Adaptation: u_new = N / (N + a) u_estimated + a / (N + a) u_old, where a is some weight of old\n",
    "\n",
    "DUŻO BYŁO W lec5\n",
    "\n",
    "SIL is a phoneme to a recognizerAlways inserted at start and end of utteranceCorrupting silence with bad forced alignments can break recognizer training (silence eats everything)"
   ]
  },
  {
   "cell_type": "markdown",
   "metadata": {},
   "source": [
    "## Hmm, no dobra, plan działania:\n",
    "\n",
    "Preprocessing:\n",
    "wytnij ciszę z dźwięków, voice activity detection \n",
    "Wylicz MFCC, 20 stanów + d + dd \n",
    "\n",
    "Training:\n",
    "Dla każdego sentence_id (jest ich 10):\n",
    "    Utwórz HMMGMM z całego zbioru treningowego sequence_id:\n",
    "        HMM with 3 states and 8 Gaussian components for each of 39 mono-phones were used for the alignment (resulting in to-tal number of 936 Gaussian components) ?? \n",
    "        albo unique(znaki) * 3 stany\n",
    "        albo znaki * 3 stany trójkątna! (Bakis)\n",
    "        \n",
    "Enrollment:\n",
    "Dla każdego gspeaker_id:\n",
    "    Dla każdego sentence_id:\n",
    "        Weź dane (gspeaker_id, sequence_id)\n",
    "        Naucz HMM taki jak wyżej tylko na nich\n",
    "        Dokonaj MAP adaptacji\n",
    "        \n",
    "Trial:\n",
    "likelihood HMM_{podany speaker, podane zdanie} - likelihood HMM_{UBM, podane zdanie} ? "
   ]
  },
  {
   "cell_type": "code",
   "execution_count": 1,
   "metadata": {},
   "outputs": [],
   "source": [
    "%load_ext autoreload"
   ]
  },
  {
   "cell_type": "code",
   "execution_count": 168,
   "metadata": {},
   "outputs": [],
   "source": [
    "%autoreload 2\n",
    "\n",
    "import concurrent.futures as cf\n",
    "import functools as ft\n",
    "import itertools as it\n",
    "import json\n",
    "import math\n",
    "import operator as op\n",
    "import os\n",
    "\n",
    "from IPython.display import display\n",
    "from ipywidgets import interact, interact_manual, widgets\n",
    "import matplotlib.pyplot as plt\n",
    "import numpy as np\n",
    "import pandas as pd\n",
    "import pomegranate as pg\n",
    "from scipy import interpolate, linalg, misc, optimize, spatial, stats\n",
    "from sklearn import metrics, mixture, cluster, utils\n",
    "\n",
    "from paprotka.dataset import reddots\n",
    "from paprotka.feature import cepstral"
   ]
  },
  {
   "cell_type": "code",
   "execution_count": 3,
   "metadata": {},
   "outputs": [],
   "source": [
    "%autoreload 0"
   ]
  },
  {
   "cell_type": "code",
   "execution_count": 4,
   "metadata": {},
   "outputs": [],
   "source": [
    "import warnings\n",
    "warnings.filterwarnings('once')"
   ]
  },
  {
   "cell_type": "markdown",
   "metadata": {},
   "source": [
    "## Load"
   ]
  },
  {
   "cell_type": "code",
   "execution_count": 5,
   "metadata": {},
   "outputs": [],
   "source": [
    "root = reddots.get_root()\n",
    "load_pcm = ft.partial(reddots.load_pcm, root)\n",
    "load_mfcc = ft.partial(reddots.load_npy, root, 'wac2_mfcc13_ddd')"
   ]
  },
  {
   "cell_type": "code",
   "execution_count": 6,
   "metadata": {},
   "outputs": [
    {
     "name": "stdout",
     "output_type": "stream",
     "text": [
      "Enrollments\n",
      "is_male                  bool\n",
      "pcm_path               object\n",
      "sentence_id             int16\n",
      "speaker_id              int16\n",
      "timestamp      datetime64[ns]\n",
      "dtype: object\n",
      "Trials\n",
      "correct_sentence                  bool\n",
      "expected_is_male                  bool\n",
      "expected_sentence_id             int16\n",
      "expected_speaker_id              int16\n",
      "pcm_path                        object\n",
      "target_person                     bool\n",
      "trial_is_male                     bool\n",
      "trial_sentence_id                int16\n",
      "trial_speaker_id                 int16\n",
      "trial_timestamp         datetime64[ns]\n",
      "dtype: object\n"
     ]
    }
   ],
   "source": [
    "enrollments_1 = reddots.load_enrollments(root + '/ndx/f_part_01.trn', root + '/ndx/m_part_01.trn')\n",
    "print('Enrollments', enrollments_1.dtypes, sep='\\n')\n",
    "\n",
    "trials_1 = reddots.load_trials(root + '/ndx/f_part_01.ndx', root + '/ndx/m_part_01.ndx')\n",
    "print('Trials', trials_1.dtypes, sep='\\n')"
   ]
  },
  {
   "cell_type": "code",
   "execution_count": 7,
   "metadata": {},
   "outputs": [
    {
     "name": "stdout",
     "output_type": "stream",
     "text": [
      "      sentence_id                  content  \\\n",
      "1609           31  My voice is my password   \n",
      "\n",
      "                                                 phones  \n",
      "1609  M AY1 _ V OY1 S _ IH1 Z _ M AY1 _ P AE1 S W ER2 D  \n"
     ]
    }
   ],
   "source": [
    "script = pd.read_csv(root + '/infos/phones.csv', sep=';')\n",
    "print(script.loc[script['sentence_id'] == 31])\n",
    "\n",
    "enrollments_1 = enrollments_1.merge(script, how='left', on='sentence_id')\n",
    "trials_1 = trials_1.merge(script, how='left', left_on='expected_sentence_id', right_on='sentence_id')\n",
    "del trials_1['sentence_id']\n",
    "trials_1.rename(columns={'content': 'expected_content', 'phones': 'expected_phones'}, inplace=True)\n",
    "trials_1 = trials_1.merge(script, how='left', left_on='trial_sentence_id', right_on='sentence_id')\n",
    "del trials_1['sentence_id']\n",
    "trials_1.rename(columns={'content': 'trial_content', 'phones': 'trial_phones'}, inplace=True)"
   ]
  },
  {
   "cell_type": "code",
   "execution_count": 186,
   "metadata": {},
   "outputs": [],
   "source": [
    "enrollments_4_td = reddots.load_enrollments(\n",
    "    root + '/ndx/f_part_04_td.trn', root + '/ndx/m_part_04_td.trn'\n",
    ")\n",
    "enrollments_4_td = enrollments_4_td.merge(script, how='left', on='sentence_id')"
   ]
  },
  {
   "cell_type": "code",
   "execution_count": null,
   "metadata": {},
   "outputs": [],
   "source": [
    "# enrollments_1.mfcc = enrollments_1.apply(lambda row: load_mfcc(row.pcm_path), axis=1)\n",
    "# trials_1.mfcc = trials_1.apply(lambda row: load_mfcc(row.pcm_path), axis=1)\n",
    "# enrollments_4_td.mfcc = enrollments_4_td.apply(lambda row: load_mfcc(row.pcm_path), axis=1)"
   ]
  },
  {
   "cell_type": "code",
   "execution_count": 164,
   "metadata": {},
   "outputs": [],
   "source": [
    "# got_this_back = pg.GeneralMixtureModel(bg_model.distributions, np.exp(bg_model.weights) * bg_model.weights.sum())\n",
    "# got_this_back = pg.MultivariateGaussianDistribution(means=bg_model.distributions[0].mu, covariance=bg_model.distributions[0].cov)\n",
    "\n",
    "def with_opened_file(mode='r'):\n",
    "    def decorator(fun):\n",
    "        @ft.wraps(fun)\n",
    "        def wrapped(path, *args, **kwargs):\n",
    "            with open(path, mode=mode) as opened:\n",
    "                return fun(opened, *args, **kwargs)\n",
    "        return wrapped\n",
    "    return decorator\n",
    "\n",
    "def write_model(path, model):\n",
    "    with open(path, 'w') as opened:\n",
    "        opened.write(model.to_json())\n",
    "        \n",
    "def read_mvgaussian(path):\n",
    "    with open(path, 'r') as opened:\n",
    "        parsed = json.load(opened)\n",
    "        means, covariance = parsed['parameters']\n",
    "        return pg.MultivariateGaussianDistribution(means=means, covariance=covariance)\n",
    "        \n",
    "def read_gmm(path):\n",
    "    with open(path, 'r') as opened:\n",
    "        parsed = json.load(opened)\n",
    "        distributions_parsed = parsed['distributions']\n",
    "        weights_parsed = np.array(parsed['weights'])\n",
    "        \n",
    "        distributions = []\n",
    "        for i, distribution in enumerate(distributions_parsed):\n",
    "            try:\n",
    "                distribution = pg.MultivariateGaussianDistribution(*distribution['parameters'])\n",
    "                distributions.append(distribution)\n",
    "            except Exception as exception:\n",
    "                raise IOError('Cannot read mixture at {}'.format(i)) from exception\n",
    "                        \n",
    "        weights_exp = np.exp(weights_parsed) * weights_parsed.sum()\n",
    "        \n",
    "        return pg.GeneralMixtureModel(distributions=distributions, weights=weights_exp)\n",
    "    \n",
    "def write_triples(path, triples):\n",
    "    for phone, triple in triples.items():\n",
    "        for i, model in enumerate(triple):\n",
    "            c = chr(ord('a') + i)\n",
    "            write_model(path + '/{}-{}'.format(phone, c), model)\n",
    "            \n",
    "def read_triples(path, phones):\n",
    "    triples = {}\n",
    "    for phone in phones:\n",
    "        triple = []\n",
    "        for c in ('a', 'b', 'c'):\n",
    "            try:\n",
    "                model = read_gmm(path + '/{}-{}'.format(phone, c))\n",
    "                triple.append(model)\n",
    "            except Exception as exception:\n",
    "                raise IOError('Cannot read model {}-{}'.format(phone, c)) from exception\n",
    "        triples[phone] = tuple(triple)\n",
    "    return triples"
   ]
  },
  {
   "cell_type": "markdown",
   "metadata": {},
   "source": [
    "## Train"
   ]
  },
  {
   "cell_type": "code",
   "execution_count": 9,
   "metadata": {},
   "outputs": [],
   "source": [
    "example = enrollments_1[enrollments_1.sentence_id == 31]\n",
    "example_features = [load_mfcc(path) for path in example['pcm_path']]\n",
    "example_lengths = [mfcc.shape[0] for mfcc in example_features] \n",
    "example_features_stack = np.vstack(example_features)"
   ]
  },
  {
   "cell_type": "code",
   "execution_count": 202,
   "metadata": {},
   "outputs": [
    {
     "name": "stdout",
     "output_type": "stream",
     "text": [
      "['M', 'AY1', '_', 'V', 'OY1', 'S', '_', 'IH1', 'Z', '_', 'M', 'AY1', '_', 'P', 'AE1', 'S', 'W', 'ER2', 'D']\n",
      "['_', 'M', 'AY', '_', 'V', 'OY', 'S', '_', 'IH', 'Z', '_', 'M', 'AY', '_', 'P', 'AE', 'S', 'W', 'ER', 'D', '_']\n",
      "['AE' 'AY' 'D' 'ER' 'IH' 'M' 'OY' 'P' 'S' 'V' 'W' 'Z' '_']\n"
     ]
    }
   ],
   "source": [
    "def wrap_with_silence(phones):\n",
    "    return ['_'] + phones + ['_']\n",
    "\n",
    "def remove_stress_combinations(phones):\n",
    "    def remove_single_phone(phone):\n",
    "        if phone[-1].isdigit():\n",
    "            return phone[:-1]\n",
    "        else:\n",
    "            return phone\n",
    "        \n",
    "    return [remove_single_phone(phone) for phone in phones]\n",
    "\n",
    "example_phones = example.phones.loc[0].split(' ')\n",
    "example_phones_cleaned = wrap_with_silence(remove_stress_combinations(example_phones))\n",
    "# example_phones_cleaned = remove_stress_combinations(example_phones)\n",
    "example_phones_unique = np.unique(example_phones_cleaned)\n",
    "\n",
    "print(example_phones)\n",
    "print(example_phones_cleaned)\n",
    "print(example_phones_unique)"
   ]
  },
  {
   "cell_type": "code",
   "execution_count": 12,
   "metadata": {},
   "outputs": [
    {
     "name": "stdout",
     "output_type": "stream",
     "text": [
      "[1] Improvement: 67269.43064035429\tTime (s): 0.3719\n",
      "[2] Improvement: 57030.51134584099\tTime (s): 0.3453\n",
      "[3] Improvement: 30093.395479215775\tTime (s): 0.3203\n",
      "[4] Improvement: 18284.311637017876\tTime (s): 0.3124\n",
      "[5] Improvement: 14776.855103159323\tTime (s): 0.316\n",
      "[6] Improvement: 8194.793300561607\tTime (s): 0.3195\n",
      "[7] Improvement: 4833.042162424419\tTime (s): 0.3183\n",
      "[8] Improvement: 3517.174147175625\tTime (s): 0.3223\n",
      "[9] Improvement: 2606.161533883307\tTime (s): 0.3275\n",
      "[10] Improvement: 1549.9553910815157\tTime (s): 0.3235\n",
      "[11] Improvement: 985.587243154645\tTime (s): 0.3244\n",
      "[12] Improvement: 688.077562822029\tTime (s): 0.3339\n",
      "[13] Improvement: 504.345995655749\tTime (s): 0.3266\n",
      "[14] Improvement: 421.17580865090713\tTime (s): 0.3278\n",
      "[15] Improvement: 397.8030948750675\tTime (s): 0.3257\n",
      "[16] Improvement: 357.55241839634255\tTime (s): 0.325\n",
      "[17] Improvement: 309.54890816425905\tTime (s): 0.3248\n",
      "[18] Improvement: 257.34815956139937\tTime (s): 0.322\n",
      "[19] Improvement: 255.9211985510774\tTime (s): 0.3306\n",
      "[20] Improvement: 247.4676693128422\tTime (s): 0.3243\n",
      "[21] Improvement: 229.693968181964\tTime (s): 0.3282\n",
      "[22] Improvement: 171.51171065308154\tTime (s): 0.3316\n",
      "[23] Improvement: 137.41274534491822\tTime (s): 0.3281\n",
      "[24] Improvement: 116.35147116845474\tTime (s): 0.3225\n",
      "[25] Improvement: 133.49952960433438\tTime (s): 0.3188\n",
      "[26] Improvement: 135.74901886144653\tTime (s): 0.3007\n",
      "[27] Improvement: 91.14848148543388\tTime (s): 0.3297\n",
      "[28] Improvement: 73.28968776436523\tTime (s): 0.3288\n",
      "[29] Improvement: 62.871974498033524\tTime (s): 0.3288\n",
      "[30] Improvement: 56.96213773963973\tTime (s): 0.3299\n",
      "[31] Improvement: 54.04880428733304\tTime (s): 0.3288\n",
      "[32] Improvement: 56.31433663191274\tTime (s): 0.3295\n",
      "[33] Improvement: 58.25085069751367\tTime (s): 0.3436\n",
      "[34] Improvement: 62.76847304776311\tTime (s): 0.3293\n",
      "[35] Improvement: 74.2157058948651\tTime (s): 0.3271\n",
      "[36] Improvement: 89.14678568067029\tTime (s): 0.3269\n",
      "[37] Improvement: 96.71215459890664\tTime (s): 0.3327\n",
      "[38] Improvement: 95.23249272396788\tTime (s): 0.3242\n",
      "[39] Improvement: 93.0216484637931\tTime (s): 0.335\n",
      "[40] Improvement: 98.46430063480511\tTime (s): 0.3264\n",
      "[41] Improvement: 109.70269110519439\tTime (s): 0.3296\n",
      "[42] Improvement: 117.91904759639874\tTime (s): 0.3295\n",
      "[43] Improvement: 117.74643663922325\tTime (s): 0.331\n",
      "[44] Improvement: 125.56544772861525\tTime (s): 0.3353\n",
      "[45] Improvement: 137.8676542402245\tTime (s): 0.3278\n",
      "[46] Improvement: 166.15030471375212\tTime (s): 0.3249\n",
      "[47] Improvement: 226.97412797808647\tTime (s): 0.325\n",
      "[48] Improvement: 293.375570894219\tTime (s): 0.3269\n",
      "[49] Improvement: 265.36373599851504\tTime (s): 0.3315\n",
      "[50] Improvement: 232.3579326858744\tTime (s): 0.3304\n",
      "[51] Improvement: 224.50909835798666\tTime (s): 0.3297\n",
      "[52] Improvement: 182.28393487166613\tTime (s): 0.3304\n",
      "[53] Improvement: 164.7269014827907\tTime (s): 0.3234\n",
      "[54] Improvement: 188.7454341761768\tTime (s): 0.3256\n",
      "[55] Improvement: 203.52295779809356\tTime (s): 0.3234\n",
      "[56] Improvement: 204.33750590169802\tTime (s): 0.3296\n",
      "[57] Improvement: 197.3265296597965\tTime (s): 0.3242\n",
      "[58] Improvement: 202.1273806686513\tTime (s): 0.326\n",
      "[59] Improvement: 186.21878361096606\tTime (s): 0.3248\n",
      "[60] Improvement: 173.5088812704198\tTime (s): 0.3349\n",
      "[61] Improvement: 161.0887130969204\tTime (s): 0.3269\n",
      "[62] Improvement: 126.65600677765906\tTime (s): 0.3271\n",
      "[63] Improvement: 92.56205039471388\tTime (s): 0.3255\n",
      "[64] Improvement: 67.54361004848033\tTime (s): 0.3286\n",
      "[65] Improvement: 54.3545822002925\tTime (s): 0.3237\n",
      "[66] Improvement: 47.263460118789226\tTime (s): 0.3282\n",
      "[67] Improvement: 43.87997987959534\tTime (s): 0.3291\n",
      "[68] Improvement: 39.8942876229994\tTime (s): 0.335\n",
      "[69] Improvement: 37.44967011362314\tTime (s): 0.3289\n",
      "[70] Improvement: 35.43216930096969\tTime (s): 0.3302\n",
      "[71] Improvement: 31.940106216818094\tTime (s): 0.3271\n",
      "[72] Improvement: 26.117510333657265\tTime (s): 0.3268\n",
      "[73] Improvement: 25.43267293041572\tTime (s): 0.328\n",
      "[74] Improvement: 29.55756861716509\tTime (s): 0.3302\n",
      "[75] Improvement: 42.203164249658585\tTime (s): 0.3262\n",
      "[76] Improvement: 65.54693314759061\tTime (s): 0.3381\n",
      "[77] Improvement: 131.4231346603483\tTime (s): 0.3259\n",
      "[78] Improvement: 209.46307234000415\tTime (s): 0.3255\n",
      "[79] Improvement: 87.89096482330933\tTime (s): 0.3274\n",
      "[80] Improvement: 46.00393586559221\tTime (s): 0.3294\n",
      "[81] Improvement: 38.51141905132681\tTime (s): 0.3285\n",
      "[82] Improvement: 34.73614619206637\tTime (s): 0.324\n",
      "[83] Improvement: 31.435944782104343\tTime (s): 0.3288\n",
      "[84] Improvement: 30.19020406715572\tTime (s): 0.3309\n",
      "[85] Improvement: 30.770457765553147\tTime (s): 0.3252\n",
      "[86] Improvement: 33.38057171460241\tTime (s): 0.3272\n",
      "[87] Improvement: 34.98421752639115\tTime (s): 0.3261\n",
      "[88] Improvement: 31.072123043704778\tTime (s): 0.3232\n",
      "[89] Improvement: 24.178688212763518\tTime (s): 0.3263\n",
      "[90] Improvement: 20.34613677393645\tTime (s): 0.3292\n",
      "[91] Improvement: 18.389019066933542\tTime (s): 0.333\n",
      "[92] Improvement: 16.640847220551223\tTime (s): 0.3335\n",
      "[93] Improvement: 14.880139329005033\tTime (s): 0.3306\n",
      "[94] Improvement: 13.00666075060144\tTime (s): 0.3243\n",
      "[95] Improvement: 11.093853832688183\tTime (s): 0.3392\n",
      "[96] Improvement: 9.585550635121763\tTime (s): 0.3241\n",
      "[97] Improvement: 8.660275180824101\tTime (s): 0.3086\n",
      "[98] Improvement: 8.327266357839108\tTime (s): 0.3122\n",
      "[99] Improvement: 8.316650158260018\tTime (s): 0.2964\n",
      "[100] Improvement: 8.22392144240439\tTime (s): 0.2963\n",
      "[101] Improvement: 8.180886346846819\tTime (s): 0.2971\n",
      "[102] Improvement: 8.354451164137572\tTime (s): 0.3204\n",
      "[103] Improvement: 8.786170254461467\tTime (s): 0.3308\n",
      "[104] Improvement: 9.059468520339578\tTime (s): 0.3286\n",
      "[105] Improvement: 8.518672560807317\tTime (s): 0.3259\n",
      "[106] Improvement: 7.918392167892307\tTime (s): 0.3271\n",
      "[107] Improvement: 7.3530127964913845\tTime (s): 0.3258\n",
      "[108] Improvement: 6.687020434997976\tTime (s): 0.3275\n",
      "[109] Improvement: 6.0431525451131165\tTime (s): 0.3299\n",
      "[110] Improvement: 5.518797285854816\tTime (s): 0.3338\n",
      "[111] Improvement: 5.233178473543376\tTime (s): 0.3259\n",
      "[112] Improvement: 5.401330550201237\tTime (s): 0.3266\n",
      "[113] Improvement: 5.825728841125965\tTime (s): 0.331\n",
      "[114] Improvement: 5.283592301886529\tTime (s): 0.3294\n",
      "[115] Improvement: 4.715666329022497\tTime (s): 0.3313\n",
      "[116] Improvement: 4.724570367950946\tTime (s): 0.3305\n",
      "[117] Improvement: 4.7904792269691825\tTime (s): 0.3278\n",
      "[118] Improvement: 4.783479087520391\tTime (s): 0.3252\n",
      "[119] Improvement: 4.894429453648627\tTime (s): 0.3308\n",
      "[120] Improvement: 5.222887457814068\tTime (s): 0.3286\n",
      "[121] Improvement: 5.583229610696435\tTime (s): 0.3253\n",
      "[122] Improvement: 5.664277177769691\tTime (s): 0.3273\n",
      "[123] Improvement: 5.4296906515955925\tTime (s): 0.3242\n",
      "[124] Improvement: 5.049130973871797\tTime (s): 0.3286\n",
      "[125] Improvement: 4.680611843243241\tTime (s): 0.3257\n",
      "[126] Improvement: 4.403189518488944\tTime (s): 0.3211\n",
      "[127] Improvement: 4.207142116967589\tTime (s): 0.3259\n",
      "[128] Improvement: 4.091678330209106\tTime (s): 0.3247\n",
      "[129] Improvement: 4.107728400733322\tTime (s): 0.3372\n",
      "[130] Improvement: 4.336365862283856\tTime (s): 0.3401\n",
      "[131] Improvement: 4.891525608021766\tTime (s): 0.3291\n",
      "[132] Improvement: 6.06359050842002\tTime (s): 0.3255\n",
      "[133] Improvement: 7.743873054627329\tTime (s): 0.3275\n",
      "[134] Improvement: 8.955301766749471\tTime (s): 0.3227\n",
      "[135] Improvement: 9.977563376072794\tTime (s): 0.3264\n",
      "[136] Improvement: 9.95835981098935\tTime (s): 0.325\n",
      "[137] Improvement: 9.802042350172997\tTime (s): 0.3272\n",
      "[138] Improvement: 10.310669693630189\tTime (s): 0.3259\n",
      "[139] Improvement: 10.794450843706727\tTime (s): 0.3213\n",
      "[140] Improvement: 11.627743580844253\tTime (s): 0.3265\n",
      "[141] Improvement: 13.300706018693745\tTime (s): 0.3275\n",
      "[142] Improvement: 13.688805103302002\tTime (s): 0.3254\n",
      "[143] Improvement: 11.001964821014553\tTime (s): 0.3209\n",
      "[144] Improvement: 8.75022774701938\tTime (s): 0.3224\n",
      "[145] Improvement: 7.435233301017433\tTime (s): 0.3225\n",
      "[146] Improvement: 6.440286766272038\tTime (s): 0.3267\n",
      "[147] Improvement: 5.790174412541091\tTime (s): 0.3271\n",
      "[148] Improvement: 5.628203981555998\tTime (s): 0.322\n",
      "[149] Improvement: 5.995939004700631\tTime (s): 0.3217\n",
      "[150] Improvement: 6.362703074235469\tTime (s): 0.3228\n",
      "[151] Improvement: 5.90698419790715\tTime (s): 0.3251\n",
      "[152] Improvement: 5.480173722375184\tTime (s): 0.3227\n",
      "[153] Improvement: 5.194936282932758\tTime (s): 0.3288\n",
      "[154] Improvement: 4.907523592934012\tTime (s): 0.3272\n"
     ]
    },
    {
     "name": "stdout",
     "output_type": "stream",
     "text": [
      "[155] Improvement: 4.96634772606194\tTime (s): 0.3103\n",
      "[156] Improvement: 5.728654948528856\tTime (s): 0.2961\n",
      "[157] Improvement: 6.747379774227738\tTime (s): 0.3052\n",
      "[158] Improvement: 7.176577621139586\tTime (s): 0.3\n",
      "[159] Improvement: 8.363533925265074\tTime (s): 0.293\n",
      "[160] Improvement: 9.361007482279092\tTime (s): 0.2926\n",
      "[161] Improvement: 11.081499905791134\tTime (s): 0.2922\n",
      "[162] Improvement: 14.817644377239048\tTime (s): 0.2929\n",
      "[163] Improvement: 20.299099640455097\tTime (s): 0.2936\n",
      "[164] Improvement: 25.774534576106817\tTime (s): 0.2954\n",
      "[165] Improvement: 30.720929235685617\tTime (s): 0.2938\n",
      "[166] Improvement: 34.77248046267778\tTime (s): 0.2933\n",
      "[167] Improvement: 36.869185243267566\tTime (s): 0.2989\n",
      "[168] Improvement: 37.137477449607104\tTime (s): 0.3001\n",
      "[169] Improvement: 34.59153809538111\tTime (s): 0.2934\n",
      "[170] Improvement: 34.41739834519103\tTime (s): 0.2937\n",
      "[171] Improvement: 34.0889338767156\tTime (s): 0.2935\n",
      "[172] Improvement: 30.125846203416586\tTime (s): 0.2941\n",
      "[173] Improvement: 28.167671997100115\tTime (s): 0.315\n",
      "[174] Improvement: 26.094064299482852\tTime (s): 0.3146\n",
      "[175] Improvement: 21.797800184227526\tTime (s): 0.2937\n",
      "[176] Improvement: 16.363784542307258\tTime (s): 0.2974\n",
      "[177] Improvement: 12.121194256469607\tTime (s): 0.2957\n",
      "[178] Improvement: 9.349936273414642\tTime (s): 0.2959\n",
      "[179] Improvement: 7.452326841186732\tTime (s): 0.2979\n",
      "[180] Improvement: 6.40098936855793\tTime (s): 0.2978\n",
      "[181] Improvement: 6.466971242334694\tTime (s): 0.2962\n",
      "[182] Improvement: 7.368693279568106\tTime (s): 0.2963\n",
      "[183] Improvement: 6.718018017243594\tTime (s): 0.2975\n",
      "[184] Improvement: 5.977607792709023\tTime (s): 0.298\n",
      "[185] Improvement: 5.559674981515855\tTime (s): 0.2955\n",
      "[186] Improvement: 4.8787863231264055\tTime (s): 0.2975\n",
      "[187] Improvement: 4.36978058423847\tTime (s): 0.2941\n",
      "[188] Improvement: 4.047717961948365\tTime (s): 0.2961\n",
      "[189] Improvement: 3.8065601736307144\tTime (s): 0.2938\n",
      "[190] Improvement: 3.6811097003519535\tTime (s): 0.2959\n",
      "[191] Improvement: 3.7319783698767424\tTime (s): 0.2977\n",
      "[192] Improvement: 4.12045974470675\tTime (s): 0.2962\n",
      "[193] Improvement: 4.739736089017242\tTime (s): 0.2976\n",
      "[194] Improvement: 4.864482539240271\tTime (s): 0.2943\n",
      "[195] Improvement: 4.164399986155331\tTime (s): 0.298\n",
      "[196] Improvement: 3.1836447403766215\tTime (s): 0.2955\n",
      "[197] Improvement: 2.3827244034036994\tTime (s): 0.2962\n",
      "[198] Improvement: 1.8672717693261802\tTime (s): 0.291\n",
      "[199] Improvement: 1.5368038597516716\tTime (s): 0.2966\n",
      "[200] Improvement: 1.3415477401576936\tTime (s): 0.2949\n",
      "[201] Improvement: 1.2524747415445745\tTime (s): 0.2984\n",
      "[202] Improvement: 1.2334582176990807\tTime (s): 0.3123\n",
      "[203] Improvement: 1.2648137281648815\tTime (s): 0.296\n",
      "[204] Improvement: 1.404888843651861\tTime (s): 0.2997\n",
      "[205] Improvement: 1.7057463391683996\tTime (s): 0.299\n",
      "[206] Improvement: 1.9434902588836849\tTime (s): 0.2964\n",
      "[207] Improvement: 2.0226432038471103\tTime (s): 0.296\n",
      "[208] Improvement: 2.0034659607335925\tTime (s): 0.2971\n",
      "[209] Improvement: 1.9803208080120385\tTime (s): 0.2992\n",
      "[210] Improvement: 2.0765989483334124\tTime (s): 0.3107\n",
      "[211] Improvement: 2.215371736790985\tTime (s): 0.3022\n",
      "[212] Improvement: 2.2164613264612854\tTime (s): 0.2992\n",
      "[213] Improvement: 1.992550632916391\tTime (s): 0.3006\n",
      "[214] Improvement: 1.638310129288584\tTime (s): 0.2966\n",
      "[215] Improvement: 1.3107271459884942\tTime (s): 0.2965\n",
      "[216] Improvement: 1.084265579469502\tTime (s): 0.2915\n",
      "[217] Improvement: 0.94944121921435\tTime (s): 0.2963\n",
      "[218] Improvement: 0.8872982813045382\tTime (s): 0.2938\n",
      "[219] Improvement: 0.8969619162380695\tTime (s): 0.2972\n",
      "[220] Improvement: 0.993030293378979\tTime (s): 0.3022\n",
      "[221] Improvement: 1.1898795198649168\tTime (s): 0.3107\n",
      "[222] Improvement: 1.4773315517231822\tTime (s): 0.2986\n",
      "[223] Improvement: 1.834389860741794\tTime (s): 0.3004\n",
      "[224] Improvement: 2.196867384016514\tTime (s): 0.2973\n",
      "[225] Improvement: 2.358202884439379\tTime (s): 0.2933\n",
      "[226] Improvement: 2.1416161824017763\tTime (s): 0.2923\n",
      "[227] Improvement: 1.6192418434657156\tTime (s): 0.2931\n",
      "[228] Improvement: 1.120306539349258\tTime (s): 0.2954\n",
      "[229] Improvement: 0.8205756307579577\tTime (s): 0.2933\n",
      "[230] Improvement: 0.663371030241251\tTime (s): 0.29\n",
      "[231] Improvement: 0.5835129739716649\tTime (s): 0.2938\n",
      "[232] Improvement: 0.5523112709634006\tTime (s): 0.2925\n",
      "[233] Improvement: 0.5390419983305037\tTime (s): 0.2904\n",
      "[234] Improvement: 0.49564865743741393\tTime (s): 0.2912\n",
      "[235] Improvement: 0.4149658940732479\tTime (s): 0.2908\n",
      "[236] Improvement: 0.33469423465430737\tTime (s): 0.294\n",
      "[237] Improvement: 0.2744215070270002\tTime (s): 0.2962\n",
      "[238] Improvement: 0.23214216344058514\tTime (s): 0.3004\n",
      "[239] Improvement: 0.20106564462184906\tTime (s): 0.2976\n",
      "[240] Improvement: 0.1768614910542965\tTime (s): 0.2955\n",
      "[241] Improvement: 0.15747816814109683\tTime (s): 0.296\n",
      "[242] Improvement: 0.14187705935910344\tTime (s): 0.2961\n",
      "[243] Improvement: 0.12943285796791315\tTime (s): 0.2971\n",
      "[244] Improvement: 0.11972968047484756\tTime (s): 0.2952\n",
      "[245] Improvement: 0.11248468980193138\tTime (s): 0.298\n",
      "[246] Improvement: 0.10749367158859968\tTime (s): 0.2949\n",
      "[247] Improvement: 0.10454544518142939\tTime (s): 0.2956\n",
      "[248] Improvement: 0.10326994117349386\tTime (s): 0.3003\n",
      "[249] Improvement: 0.10293196700513363\tTime (s): 0.2976\n",
      "[250] Improvement: 0.10232435492798686\tTime (s): 0.2961\n",
      "[251] Improvement: 0.10008583916351199\tTime (s): 0.2953\n",
      "[252] Improvement: 0.09551566699519753\tTime (s): 0.2936\n",
      "Total Improvement: 221138.01825718116\n",
      "Total Time (s): 79.8565\n"
     ]
    }
   ],
   "source": [
    "bg_model = pg.GeneralMixtureModel.from_samples(\n",
    "    pg.MultivariateGaussianDistribution, n_components=8, X=example_features_stack,\n",
    "    verbose=True\n",
    ")\n",
    "bg_model.freeze()"
   ]
  },
  {
   "cell_type": "code",
   "execution_count": 20,
   "metadata": {
    "scrolled": true
   },
   "outputs": [
    {
     "name": "stdout",
     "output_type": "stream",
     "text": [
      "[1] Improvement: 92506.92585839983\tTime (s): 0.5863\n",
      "[2] Improvement: 47730.4606045573\tTime (s): 0.5591\n",
      "[3] Improvement: 19794.427015147172\tTime (s): 0.5882\n",
      "[4] Improvement: 9192.858351976145\tTime (s): 0.6028\n",
      "[5] Improvement: 5295.7776417764835\tTime (s): 0.5956\n",
      "[6] Improvement: 3588.7954395171255\tTime (s): 0.6035\n",
      "[7] Improvement: 2925.9529533958994\tTime (s): 0.6143\n",
      "[8] Improvement: 2345.782454967033\tTime (s): 0.6105\n",
      "[9] Improvement: 1843.6297330958769\tTime (s): 0.6136\n",
      "[10] Improvement: 1549.2686822158284\tTime (s): 0.611\n",
      "[11] Improvement: 1348.0894531891681\tTime (s): 0.6166\n",
      "[12] Improvement: 1387.5512039549649\tTime (s): 0.6053\n",
      "[13] Improvement: 1345.2979093464091\tTime (s): 0.6085\n",
      "[14] Improvement: 931.3408202352002\tTime (s): 0.604\n",
      "[15] Improvement: 645.6263559889048\tTime (s): 0.6036\n",
      "[16] Improvement: 510.3444970040582\tTime (s): 0.6103\n",
      "[17] Improvement: 434.5274738757871\tTime (s): 0.611\n",
      "[18] Improvement: 413.110292527359\tTime (s): 0.6169\n",
      "[19] Improvement: 353.6910662939772\tTime (s): 0.6118\n",
      "[20] Improvement: 313.0568209714256\tTime (s): 0.6101\n",
      "[21] Improvement: 284.00754147861153\tTime (s): 0.6124\n",
      "[22] Improvement: 268.8838256355375\tTime (s): 0.6168\n",
      "[23] Improvement: 293.5372493509203\tTime (s): 0.6035\n",
      "[24] Improvement: 347.2605866077356\tTime (s): 0.6089\n",
      "[25] Improvement: 464.8282246491872\tTime (s): 0.6112\n",
      "[26] Improvement: 522.8629833832383\tTime (s): 0.6201\n",
      "[27] Improvement: 260.0888760588132\tTime (s): 0.6181\n",
      "[28] Improvement: 196.35239323507994\tTime (s): 0.6111\n",
      "[29] Improvement: 197.97079406678677\tTime (s): 0.6162\n",
      "[30] Improvement: 205.1253160634078\tTime (s): 0.6088\n",
      "[31] Improvement: 194.42195142339915\tTime (s): 0.6155\n",
      "[32] Improvement: 158.5801759553142\tTime (s): 0.6011\n",
      "[33] Improvement: 148.75187310343608\tTime (s): 0.6086\n",
      "[34] Improvement: 164.1517174122855\tTime (s): 0.6421\n",
      "[35] Improvement: 179.12045885482803\tTime (s): 0.6606\n",
      "[36] Improvement: 185.05888864723966\tTime (s): 0.611\n",
      "[37] Improvement: 169.29474518168718\tTime (s): 0.6113\n",
      "[38] Improvement: 134.1339963087812\tTime (s): 0.6246\n",
      "[39] Improvement: 106.27136755408719\tTime (s): 0.6204\n",
      "[40] Improvement: 86.17609839746729\tTime (s): 0.6119\n",
      "[41] Improvement: 73.0061763394624\tTime (s): 0.6174\n",
      "[42] Improvement: 64.46538905845955\tTime (s): 0.6415\n",
      "[43] Improvement: 58.8729930059053\tTime (s): 0.6162\n",
      "[44] Improvement: 55.80059401737526\tTime (s): 0.6053\n",
      "[45] Improvement: 61.51663931179792\tTime (s): 0.6142\n",
      "[46] Improvement: 87.62511858483776\tTime (s): 0.6255\n",
      "[47] Improvement: 155.91816142434254\tTime (s): 0.6236\n",
      "[48] Improvement: 165.64016926288605\tTime (s): 0.5985\n",
      "[49] Improvement: 79.15443761041388\tTime (s): 0.5772\n",
      "[50] Improvement: 60.283662653993815\tTime (s): 0.6092\n",
      "[51] Improvement: 51.28926791623235\tTime (s): 0.5951\n",
      "[52] Improvement: 54.96025790506974\tTime (s): 0.5873\n",
      "[53] Improvement: 60.77846389217302\tTime (s): 0.6079\n",
      "[54] Improvement: 55.31323800701648\tTime (s): 0.5816\n",
      "[55] Improvement: 62.0940233329311\tTime (s): 0.6153\n",
      "[56] Improvement: 60.20124758081511\tTime (s): 0.5824\n",
      "[57] Improvement: 58.40025713760406\tTime (s): 0.6109\n",
      "[58] Improvement: 54.54802274145186\tTime (s): 0.5948\n",
      "[59] Improvement: 60.47037375578657\tTime (s): 0.5806\n",
      "[60] Improvement: 73.4667763528414\tTime (s): 0.5829\n",
      "[61] Improvement: 78.81702672690153\tTime (s): 0.6004\n",
      "[62] Improvement: 79.92080770805478\tTime (s): 0.5797\n",
      "[63] Improvement: 76.41983662452549\tTime (s): 0.5796\n",
      "[64] Improvement: 67.53120743250474\tTime (s): 0.5983\n",
      "[65] Improvement: 69.90180913731456\tTime (s): 0.5819\n",
      "[66] Improvement: 68.67479529837146\tTime (s): 0.5967\n",
      "[67] Improvement: 73.47424133773893\tTime (s): 0.5798\n",
      "[68] Improvement: 85.81745223328471\tTime (s): 0.5986\n",
      "[69] Improvement: 103.51992483017966\tTime (s): 0.5842\n",
      "[70] Improvement: 119.40800184989348\tTime (s): 0.5805\n",
      "[71] Improvement: 121.17313452903181\tTime (s): 0.5818\n",
      "[72] Improvement: 139.57909060781822\tTime (s): 0.5857\n",
      "[73] Improvement: 119.37585336854681\tTime (s): 0.6035\n",
      "[74] Improvement: 95.44983791327104\tTime (s): 0.5791\n",
      "[75] Improvement: 84.9161986047402\tTime (s): 0.5969\n",
      "[76] Improvement: 88.4321269071661\tTime (s): 0.5741\n",
      "[77] Improvement: 85.89084923872724\tTime (s): 0.5992\n",
      "[78] Improvement: 100.03833152819425\tTime (s): 0.5896\n",
      "[79] Improvement: 86.71982389176264\tTime (s): 0.612\n",
      "[80] Improvement: 64.86615159967914\tTime (s): 0.6124\n",
      "[81] Improvement: 60.95262013655156\tTime (s): 0.7634\n",
      "[82] Improvement: 61.254681965801865\tTime (s): 0.8004\n",
      "[83] Improvement: 54.821529742795974\tTime (s): 0.6554\n",
      "[84] Improvement: 44.8293656934984\tTime (s): 0.5818\n",
      "[85] Improvement: 37.75658774795011\tTime (s): 0.6111\n",
      "[86] Improvement: 36.27023710729554\tTime (s): 0.617\n",
      "[87] Improvement: 41.582995520439\tTime (s): 0.6063\n",
      "[88] Improvement: 52.257769282441586\tTime (s): 0.6115\n",
      "[89] Improvement: 46.377964253071696\tTime (s): 0.6068\n",
      "[90] Improvement: 49.21171745657921\tTime (s): 0.622\n",
      "[91] Improvement: 53.2562285750173\tTime (s): 0.6123\n",
      "[92] Improvement: 46.22740634297952\tTime (s): 0.6225\n",
      "[93] Improvement: 40.772907498758286\tTime (s): 0.6191\n",
      "[94] Improvement: 40.335072906222194\tTime (s): 0.6236\n",
      "[95] Improvement: 45.85181773547083\tTime (s): 0.6186\n",
      "[96] Improvement: 51.49065393907949\tTime (s): 0.6053\n",
      "[97] Improvement: 64.62276367424056\tTime (s): 0.6261\n",
      "[98] Improvement: 80.32338168937713\tTime (s): 0.5876\n",
      "[99] Improvement: 63.03397911041975\tTime (s): 0.6475\n",
      "[100] Improvement: 61.53216452151537\tTime (s): 0.6101\n",
      "[101] Improvement: 69.48533337749541\tTime (s): 0.6149\n",
      "[102] Improvement: 43.08878921624273\tTime (s): 0.6015\n",
      "[103] Improvement: 34.2908461834304\tTime (s): 0.5997\n",
      "[104] Improvement: 33.516228704247624\tTime (s): 0.6002\n",
      "[105] Improvement: 29.76282234536484\tTime (s): 0.6097\n",
      "[106] Improvement: 24.70152899622917\tTime (s): 0.5853\n",
      "[107] Improvement: 20.419008097145706\tTime (s): 0.5938\n",
      "[108] Improvement: 19.962885551154613\tTime (s): 0.5788\n",
      "[109] Improvement: 16.089237032458186\tTime (s): 0.5933\n",
      "[110] Improvement: 11.649278986267745\tTime (s): 0.5766\n",
      "[111] Improvement: 10.819997568614781\tTime (s): 0.5827\n",
      "[112] Improvement: 11.14051525387913\tTime (s): 0.6119\n",
      "[113] Improvement: 13.895591550506651\tTime (s): 0.5791\n",
      "[114] Improvement: 18.774572998285294\tTime (s): 0.5715\n",
      "[115] Improvement: 22.991873478516936\tTime (s): 0.5984\n",
      "[116] Improvement: 24.267612964380533\tTime (s): 0.5839\n",
      "[117] Improvement: 21.007200893945992\tTime (s): 0.5908\n",
      "[118] Improvement: 19.559594654478133\tTime (s): 0.5819\n",
      "[119] Improvement: 18.864161658566445\tTime (s): 0.5767\n",
      "[120] Improvement: 18.641126673668623\tTime (s): 0.5728\n",
      "[121] Improvement: 15.387898638378829\tTime (s): 0.61\n",
      "[122] Improvement: 13.96467051981017\tTime (s): 0.5845\n",
      "[123] Improvement: 15.850323017220944\tTime (s): 0.5977\n",
      "[124] Improvement: 17.199974133633077\tTime (s): 0.5776\n",
      "[125] Improvement: 18.886212760116905\tTime (s): 0.5847\n",
      "[126] Improvement: 21.289497510995716\tTime (s): 0.596\n",
      "[127] Improvement: 22.60957302711904\tTime (s): 0.5703\n",
      "[128] Improvement: 22.734128158539534\tTime (s): 0.6114\n",
      "[129] Improvement: 27.261888989713043\tTime (s): 0.6054\n",
      "[130] Improvement: 33.54357613809407\tTime (s): 0.5793\n",
      "[131] Improvement: 41.16621562326327\tTime (s): 0.5789\n",
      "[132] Improvement: 47.80144898314029\tTime (s): 0.5922\n",
      "[133] Improvement: 52.64187239203602\tTime (s): 0.6642\n",
      "[134] Improvement: 48.21894661290571\tTime (s): 0.593\n",
      "[135] Improvement: 41.995886316057295\tTime (s): 0.5907\n",
      "[136] Improvement: 33.33217020332813\tTime (s): 0.6012\n",
      "[137] Improvement: 28.97993393894285\tTime (s): 0.5702\n",
      "[138] Improvement: 27.939470331184566\tTime (s): 0.6024\n",
      "[139] Improvement: 26.808657054789364\tTime (s): 0.5785\n",
      "[140] Improvement: 36.610182435717434\tTime (s): 0.6096\n",
      "[141] Improvement: 38.59832397149876\tTime (s): 0.5693\n",
      "[142] Improvement: 13.020304661709815\tTime (s): 0.6121\n",
      "[143] Improvement: 9.715360395144671\tTime (s): 0.608\n",
      "[144] Improvement: 9.93297459417954\tTime (s): 0.6167\n",
      "[145] Improvement: 13.590238098986447\tTime (s): 0.6267\n",
      "[146] Improvement: 18.807554089464247\tTime (s): 0.6102\n",
      "[147] Improvement: 25.82523830747232\tTime (s): 0.6412\n",
      "[148] Improvement: 29.25903159659356\tTime (s): 0.6572\n",
      "[149] Improvement: 20.691076818853617\tTime (s): 0.6206\n",
      "[150] Improvement: 17.04611497465521\tTime (s): 0.5923\n",
      "[151] Improvement: 18.162382383830845\tTime (s): 0.6159\n",
      "[152] Improvement: 21.317295715678483\tTime (s): 0.6043\n",
      "[153] Improvement: 18.263030513189733\tTime (s): 0.6065\n"
     ]
    },
    {
     "name": "stdout",
     "output_type": "stream",
     "text": [
      "[154] Improvement: 14.631833814550191\tTime (s): 0.6102\n",
      "[155] Improvement: 12.55102672567591\tTime (s): 0.5925\n",
      "[156] Improvement: 9.793359604198486\tTime (s): 0.5895\n",
      "[157] Improvement: 8.12817400507629\tTime (s): 0.5992\n",
      "[158] Improvement: 7.5996153363958\tTime (s): 0.5937\n",
      "[159] Improvement: 8.10697329044342\tTime (s): 0.6147\n",
      "[160] Improvement: 8.241170045454055\tTime (s): 0.6148\n",
      "[161] Improvement: 5.957488134503365\tTime (s): 0.6161\n",
      "[162] Improvement: 4.697395053692162\tTime (s): 0.629\n",
      "[163] Improvement: 4.037767232395709\tTime (s): 0.6235\n",
      "[164] Improvement: 3.4323450070805848\tTime (s): 0.6185\n",
      "[165] Improvement: 3.0401421836577356\tTime (s): 0.6207\n",
      "[166] Improvement: 2.978724332526326\tTime (s): 0.6205\n",
      "[167] Improvement: 3.2031098632141948\tTime (s): 0.6256\n",
      "[168] Improvement: 3.6936447671614587\tTime (s): 0.5848\n",
      "[169] Improvement: 4.35900957044214\tTime (s): 0.5747\n",
      "[170] Improvement: 4.967081101611257\tTime (s): 0.5822\n",
      "[171] Improvement: 5.553301138803363\tTime (s): 0.605\n",
      "[172] Improvement: 6.396350075956434\tTime (s): 0.6143\n",
      "[173] Improvement: 7.789674854837358\tTime (s): 0.6152\n",
      "[174] Improvement: 10.553987482562661\tTime (s): 0.606\n",
      "[175] Improvement: 12.509809037670493\tTime (s): 0.5804\n",
      "[176] Improvement: 12.113231016788632\tTime (s): 0.6129\n",
      "[177] Improvement: 12.45668328506872\tTime (s): 0.608\n",
      "[178] Improvement: 13.346642789430916\tTime (s): 0.5782\n",
      "[179] Improvement: 14.265299589373171\tTime (s): 0.6156\n",
      "[180] Improvement: 15.308135095052421\tTime (s): 0.5969\n",
      "[181] Improvement: 15.872527764644474\tTime (s): 0.5912\n",
      "[182] Improvement: 15.934608205687255\tTime (s): 0.6343\n",
      "[183] Improvement: 17.2923061712645\tTime (s): 0.607\n",
      "[184] Improvement: 21.05632132757455\tTime (s): 0.6012\n",
      "[185] Improvement: 15.048044654540718\tTime (s): 0.6055\n",
      "[186] Improvement: 12.244006945751607\tTime (s): 0.6104\n",
      "[187] Improvement: 11.477872360497713\tTime (s): 0.6159\n",
      "[188] Improvement: 11.717893689870834\tTime (s): 0.6052\n",
      "[189] Improvement: 11.37984665716067\tTime (s): 0.6101\n",
      "[190] Improvement: 10.088483240455389\tTime (s): 0.5828\n",
      "[191] Improvement: 8.396570642478764\tTime (s): 0.6078\n",
      "[192] Improvement: 7.274997414555401\tTime (s): 0.5925\n",
      "[193] Improvement: 6.243553232867271\tTime (s): 0.6086\n",
      "[194] Improvement: 6.234844876918942\tTime (s): 0.6027\n",
      "[195] Improvement: 6.448980439454317\tTime (s): 0.5884\n",
      "[196] Improvement: 7.538454134948552\tTime (s): 0.5794\n",
      "[197] Improvement: 9.32527239760384\tTime (s): 0.5844\n",
      "[198] Improvement: 6.822963333223015\tTime (s): 0.5942\n",
      "[199] Improvement: 4.0183529537171125\tTime (s): 0.574\n",
      "[200] Improvement: 3.260909574571997\tTime (s): 0.5903\n",
      "[201] Improvement: 3.369424933567643\tTime (s): 0.5963\n",
      "[202] Improvement: 3.707734765019268\tTime (s): 0.6149\n",
      "[203] Improvement: 3.552984141279012\tTime (s): 0.6068\n",
      "[204] Improvement: 3.032141693867743\tTime (s): 0.5824\n",
      "[205] Improvement: 2.6431553550064564\tTime (s): 0.6031\n",
      "[206] Improvement: 2.5689903115853667\tTime (s): 0.609\n",
      "[207] Improvement: 2.887819376308471\tTime (s): 0.6126\n",
      "[208] Improvement: 4.076434053014964\tTime (s): 0.5819\n",
      "[209] Improvement: 5.84882264630869\tTime (s): 0.5726\n",
      "[210] Improvement: 8.42738315043971\tTime (s): 0.6174\n",
      "[211] Improvement: 12.572483553551137\tTime (s): 0.5935\n",
      "[212] Improvement: 10.635227439459413\tTime (s): 0.5981\n",
      "[213] Improvement: 8.766862635500729\tTime (s): 0.5856\n",
      "[214] Improvement: 9.09974261187017\tTime (s): 0.6292\n",
      "[215] Improvement: 9.587867847178131\tTime (s): 0.6261\n",
      "[216] Improvement: 9.117920988239348\tTime (s): 0.5879\n",
      "[217] Improvement: 8.128431918099523\tTime (s): 0.6176\n",
      "[218] Improvement: 8.58271754020825\tTime (s): 0.626\n",
      "[219] Improvement: 9.645923818927258\tTime (s): 0.6138\n",
      "[220] Improvement: 9.346045709680766\tTime (s): 0.6078\n",
      "[221] Improvement: 10.60490343067795\tTime (s): 0.6174\n",
      "[222] Improvement: 15.698550334665924\tTime (s): 0.6085\n",
      "[223] Improvement: 19.8203502218239\tTime (s): 0.6066\n",
      "[224] Improvement: 17.225216298364103\tTime (s): 0.5971\n",
      "[225] Improvement: 19.905830421019346\tTime (s): 0.5813\n",
      "[226] Improvement: 23.34171463921666\tTime (s): 0.604\n",
      "[227] Improvement: 17.62200661096722\tTime (s): 0.5883\n",
      "[228] Improvement: 18.031874763779342\tTime (s): 0.5976\n",
      "[229] Improvement: 19.493518219795078\tTime (s): 0.5863\n",
      "[230] Improvement: 19.975746464915574\tTime (s): 0.6089\n",
      "[231] Improvement: 20.981283041648567\tTime (s): 0.6074\n",
      "[232] Improvement: 18.929532809183\tTime (s): 0.5929\n",
      "[233] Improvement: 15.474860596470535\tTime (s): 0.6144\n",
      "[234] Improvement: 12.942278468515724\tTime (s): 0.6104\n",
      "[235] Improvement: 11.940409106202424\tTime (s): 0.5798\n",
      "[236] Improvement: 11.40172806289047\tTime (s): 0.6094\n",
      "[237] Improvement: 9.386977104470134\tTime (s): 0.6084\n",
      "[238] Improvement: 8.868229058105499\tTime (s): 0.6078\n",
      "[239] Improvement: 9.117919721174985\tTime (s): 0.6053\n",
      "[240] Improvement: 8.259977656882256\tTime (s): 0.6162\n",
      "[241] Improvement: 7.5222519328817725\tTime (s): 0.6083\n",
      "[242] Improvement: 6.804230141453445\tTime (s): 0.6073\n",
      "[243] Improvement: 5.834173661191016\tTime (s): 0.6054\n",
      "[244] Improvement: 5.00055582029745\tTime (s): 0.6041\n",
      "[245] Improvement: 4.713365970179439\tTime (s): 0.6059\n",
      "[246] Improvement: 4.498824641574174\tTime (s): 0.6179\n",
      "[247] Improvement: 3.810830298345536\tTime (s): 0.6065\n",
      "[248] Improvement: 3.249352176208049\tTime (s): 0.6034\n",
      "[249] Improvement: 2.95619793003425\tTime (s): 0.6266\n",
      "[250] Improvement: 2.9756474578753114\tTime (s): 0.6059\n",
      "[251] Improvement: 3.312303980346769\tTime (s): 0.6129\n",
      "[252] Improvement: 4.522847092244774\tTime (s): 0.61\n",
      "[253] Improvement: 6.285560441203415\tTime (s): 0.6102\n",
      "[254] Improvement: 6.000336625613272\tTime (s): 0.623\n",
      "[255] Improvement: 4.345640037674457\tTime (s): 0.6037\n",
      "[256] Improvement: 3.1271760002709925\tTime (s): 0.6229\n",
      "[257] Improvement: 2.3386856974102557\tTime (s): 0.6139\n",
      "[258] Improvement: 2.0596362804062665\tTime (s): 0.607\n",
      "[259] Improvement: 2.04486514814198\tTime (s): 0.6108\n",
      "[260] Improvement: 2.2018624925985932\tTime (s): 0.6199\n",
      "[261] Improvement: 2.532563105225563\tTime (s): 0.6138\n",
      "[262] Improvement: 2.9938252209685743\tTime (s): 0.6066\n",
      "[263] Improvement: 3.3210481400601566\tTime (s): 0.5977\n",
      "[264] Improvement: 3.522107637487352\tTime (s): 0.5846\n",
      "[265] Improvement: 3.351861195638776\tTime (s): 0.6085\n",
      "[266] Improvement: 3.0807687984779477\tTime (s): 0.6002\n",
      "[267] Improvement: 3.1114075602963567\tTime (s): 0.6111\n",
      "[268] Improvement: 2.9735688688233495\tTime (s): 0.6053\n",
      "[269] Improvement: 2.633318695705384\tTime (s): 0.6134\n",
      "[270] Improvement: 2.5919302687980235\tTime (s): 0.5964\n",
      "[271] Improvement: 2.9899208801798522\tTime (s): 0.5766\n",
      "[272] Improvement: 3.6208882927894592\tTime (s): 0.6091\n",
      "[273] Improvement: 4.183545417152345\tTime (s): 0.5806\n",
      "[274] Improvement: 5.777815348468721\tTime (s): 0.6099\n",
      "[275] Improvement: 8.845335510093719\tTime (s): 0.5829\n",
      "[276] Improvement: 8.805069650057703\tTime (s): 0.5846\n",
      "[277] Improvement: 6.711486903484911\tTime (s): 0.6044\n",
      "[278] Improvement: 5.361625142861158\tTime (s): 0.5763\n",
      "[279] Improvement: 4.457052179146558\tTime (s): 0.5983\n",
      "[280] Improvement: 4.985902764368802\tTime (s): 0.6112\n",
      "[281] Improvement: 6.68769680801779\tTime (s): 0.6085\n",
      "[282] Improvement: 7.822367371059954\tTime (s): 0.6151\n",
      "[283] Improvement: 8.280730556230992\tTime (s): 0.6044\n",
      "[284] Improvement: 8.143666363786906\tTime (s): 0.6173\n",
      "[285] Improvement: 8.085360557306558\tTime (s): 0.6232\n",
      "[286] Improvement: 8.353446857072413\tTime (s): 0.6063\n",
      "[287] Improvement: 7.414377166423947\tTime (s): 0.6143\n",
      "[288] Improvement: 7.028381248470396\tTime (s): 0.6056\n",
      "[289] Improvement: 6.62103964574635\tTime (s): 0.6152\n",
      "[290] Improvement: 5.79754432477057\tTime (s): 0.6109\n",
      "[291] Improvement: 5.102621817961335\tTime (s): 0.6033\n",
      "[292] Improvement: 4.782453899271786\tTime (s): 0.6535\n",
      "[293] Improvement: 4.879669063724577\tTime (s): 0.6124\n",
      "[294] Improvement: 5.096601176541299\tTime (s): 0.6091\n",
      "[295] Improvement: 6.333947656676173\tTime (s): 0.6156\n",
      "[296] Improvement: 8.630780635401607\tTime (s): 0.6083\n",
      "[297] Improvement: 10.387784234713763\tTime (s): 0.611\n",
      "[298] Improvement: 6.762743475381285\tTime (s): 0.6132\n",
      "[299] Improvement: 4.980355787090957\tTime (s): 0.6058\n",
      "[300] Improvement: 5.480003963690251\tTime (s): 0.6124\n",
      "[301] Improvement: 6.333469221368432\tTime (s): 0.6079\n",
      "[302] Improvement: 5.266975367907435\tTime (s): 0.6098\n",
      "[303] Improvement: 4.349384275730699\tTime (s): 0.6082\n",
      "[304] Improvement: 3.6464018640108407\tTime (s): 0.6044\n",
      "[305] Improvement: 3.2397123808041215\tTime (s): 0.6154\n"
     ]
    },
    {
     "name": "stdout",
     "output_type": "stream",
     "text": [
      "[306] Improvement: 3.451982125174254\tTime (s): 0.6104\n",
      "[307] Improvement: 6.833601897582412\tTime (s): 0.6007\n",
      "[308] Improvement: 11.343554568011314\tTime (s): 0.6062\n",
      "[309] Improvement: 8.808709786273539\tTime (s): 0.6039\n",
      "[310] Improvement: 12.231998468283564\tTime (s): 0.6086\n",
      "[311] Improvement: 12.458717925008386\tTime (s): 0.6114\n",
      "[312] Improvement: 10.318157609086484\tTime (s): 0.6219\n",
      "[313] Improvement: 8.716089860536158\tTime (s): 0.6236\n",
      "[314] Improvement: 7.437607718165964\tTime (s): 0.6015\n",
      "[315] Improvement: 6.215491747483611\tTime (s): 0.62\n",
      "[316] Improvement: 8.196780479513109\tTime (s): 0.6245\n",
      "[317] Improvement: 10.172288150060922\tTime (s): 0.6058\n",
      "[318] Improvement: 7.1169665227644145\tTime (s): 0.6206\n",
      "[319] Improvement: 7.832582802511752\tTime (s): 0.6028\n",
      "[320] Improvement: 9.782848776318133\tTime (s): 0.6105\n",
      "[321] Improvement: 7.053156598005444\tTime (s): 0.608\n",
      "[322] Improvement: 7.437384888995439\tTime (s): 0.6033\n",
      "[323] Improvement: 6.857943078037351\tTime (s): 0.6129\n",
      "[324] Improvement: 6.781984413508326\tTime (s): 0.608\n",
      "[325] Improvement: 7.3313530115410686\tTime (s): 0.61\n",
      "[326] Improvement: 7.153592720162123\tTime (s): 0.6281\n",
      "[327] Improvement: 8.671953668817878\tTime (s): 0.6053\n",
      "[328] Improvement: 13.058713427279145\tTime (s): 0.6083\n",
      "[329] Improvement: 16.66890879161656\tTime (s): 0.6072\n",
      "[330] Improvement: 41.62772661400959\tTime (s): 0.6002\n",
      "[331] Improvement: 36.448232078924775\tTime (s): 0.6004\n",
      "[332] Improvement: 19.039593025576323\tTime (s): 0.6037\n",
      "[333] Improvement: 21.764996259007603\tTime (s): 0.6015\n",
      "[334] Improvement: 16.823522391263396\tTime (s): 0.6009\n",
      "[335] Improvement: 13.225115881301463\tTime (s): 0.5854\n",
      "[336] Improvement: 13.508049859199673\tTime (s): 0.583\n",
      "[337] Improvement: 15.753206998109818\tTime (s): 0.6057\n",
      "[338] Improvement: 23.369159233290702\tTime (s): 0.6126\n",
      "[339] Improvement: 35.20309571409598\tTime (s): 0.6055\n",
      "[340] Improvement: 25.00157895963639\tTime (s): 0.6002\n",
      "[341] Improvement: 18.355205141939223\tTime (s): 0.6043\n",
      "[342] Improvement: 12.300559401512146\tTime (s): 0.5994\n",
      "[343] Improvement: 11.2127066552639\tTime (s): 0.6059\n",
      "[344] Improvement: 11.27860358543694\tTime (s): 0.6093\n",
      "[345] Improvement: 12.796691682189703\tTime (s): 0.6624\n",
      "[346] Improvement: 12.2800398087129\tTime (s): 0.6177\n",
      "[347] Improvement: 9.867336198687553\tTime (s): 0.6141\n",
      "[348] Improvement: 11.459226570557803\tTime (s): 0.6055\n",
      "[349] Improvement: 15.336334282532334\tTime (s): 0.5999\n",
      "[350] Improvement: 14.08653204748407\tTime (s): 0.607\n",
      "[351] Improvement: 10.397020899690688\tTime (s): 0.6086\n",
      "[352] Improvement: 8.50497385673225\tTime (s): 0.6116\n",
      "[353] Improvement: 7.021474859677255\tTime (s): 0.61\n",
      "[354] Improvement: 6.058579101692885\tTime (s): 0.6011\n",
      "[355] Improvement: 5.2402057303115726\tTime (s): 0.6033\n",
      "[356] Improvement: 4.850082856602967\tTime (s): 0.6045\n",
      "[357] Improvement: 5.085809381213039\tTime (s): 0.6124\n",
      "[358] Improvement: 7.032841991633177\tTime (s): 0.6024\n",
      "[359] Improvement: 12.816010177135468\tTime (s): 0.6039\n",
      "[360] Improvement: 19.188003178685904\tTime (s): 0.6039\n",
      "[361] Improvement: 15.35796112101525\tTime (s): 0.6074\n",
      "[362] Improvement: 10.242133665364236\tTime (s): 0.6022\n",
      "[363] Improvement: 8.00850753346458\tTime (s): 0.6049\n",
      "[364] Improvement: 7.753625817596912\tTime (s): 0.6037\n",
      "[365] Improvement: 8.200994439423084\tTime (s): 0.6112\n",
      "[366] Improvement: 8.499265122693032\tTime (s): 0.6031\n",
      "[367] Improvement: 10.18234284967184\tTime (s): 0.6068\n",
      "[368] Improvement: 11.77181233977899\tTime (s): 0.6\n",
      "[369] Improvement: 7.882267469540238\tTime (s): 0.6035\n",
      "[370] Improvement: 6.604988979641348\tTime (s): 0.6062\n",
      "[371] Improvement: 6.332286371849477\tTime (s): 0.6141\n",
      "[372] Improvement: 6.8961764103733\tTime (s): 0.6027\n",
      "[373] Improvement: 7.979024212807417\tTime (s): 0.5996\n",
      "[374] Improvement: 9.384375569876283\tTime (s): 0.6133\n",
      "[375] Improvement: 9.471295405644923\tTime (s): 0.6065\n",
      "[376] Improvement: 8.028101211413741\tTime (s): 0.6035\n",
      "[377] Improvement: 7.2912734490819275\tTime (s): 0.5926\n",
      "[378] Improvement: 7.346389040816575\tTime (s): 0.5837\n",
      "[379] Improvement: 7.93484888644889\tTime (s): 0.5969\n",
      "[380] Improvement: 8.404890737030655\tTime (s): 0.5844\n",
      "[381] Improvement: 9.370301221031696\tTime (s): 0.579\n",
      "[382] Improvement: 9.201751073356718\tTime (s): 0.5869\n",
      "[383] Improvement: 7.84118975000456\tTime (s): 0.5806\n",
      "[384] Improvement: 7.238724765833467\tTime (s): 0.604\n",
      "[385] Improvement: 6.784412510693073\tTime (s): 0.5755\n",
      "[386] Improvement: 6.7684628325514495\tTime (s): 0.5931\n",
      "[387] Improvement: 7.4104704591445625\tTime (s): 0.5971\n",
      "[388] Improvement: 8.68878962378949\tTime (s): 0.5833\n",
      "[389] Improvement: 9.984152663964778\tTime (s): 0.5863\n",
      "[390] Improvement: 10.200619830749929\tTime (s): 0.5808\n",
      "[391] Improvement: 11.032011162955314\tTime (s): 0.6065\n",
      "[392] Improvement: 12.822816682513803\tTime (s): 0.603\n",
      "[393] Improvement: 12.283728995360434\tTime (s): 0.6132\n",
      "[394] Improvement: 11.402388169430196\tTime (s): 0.6003\n",
      "[395] Improvement: 13.055254634935409\tTime (s): 0.601\n",
      "[396] Improvement: 14.937843009829521\tTime (s): 0.6004\n",
      "[397] Improvement: 14.5253872172907\tTime (s): 0.6123\n",
      "[398] Improvement: 13.83376308484003\tTime (s): 0.6134\n",
      "[399] Improvement: 14.093048207461834\tTime (s): 0.5983\n",
      "[400] Improvement: 11.371287818532437\tTime (s): 0.6161\n",
      "[401] Improvement: 8.1529963449575\tTime (s): 0.6205\n",
      "[402] Improvement: 5.860061706509441\tTime (s): 0.6241\n",
      "[403] Improvement: 4.567451928276569\tTime (s): 0.6121\n",
      "[404] Improvement: 3.7879507658071816\tTime (s): 0.6058\n",
      "[405] Improvement: 3.301739457063377\tTime (s): 0.7679\n",
      "[406] Improvement: 3.1128681376576424\tTime (s): 0.6012\n",
      "[407] Improvement: 3.2600324023514986\tTime (s): 0.6132\n",
      "[408] Improvement: 3.6247358294203877\tTime (s): 0.6128\n",
      "[409] Improvement: 3.957580516114831\tTime (s): 0.6237\n",
      "[410] Improvement: 4.0314542218111455\tTime (s): 0.6142\n",
      "[411] Improvement: 3.7227144557982683\tTime (s): 0.6028\n",
      "[412] Improvement: 3.035739769693464\tTime (s): 0.6067\n",
      "[413] Improvement: 2.446877093054354\tTime (s): 0.6019\n",
      "[414] Improvement: 2.0936926431022584\tTime (s): 0.6008\n",
      "[415] Improvement: 1.9376395009458065\tTime (s): 0.6126\n",
      "[416] Improvement: 2.178068787790835\tTime (s): 0.6138\n",
      "[417] Improvement: 3.0260166423395276\tTime (s): 0.6087\n",
      "[418] Improvement: 3.2768158414401114\tTime (s): 0.6158\n",
      "[419] Improvement: 5.146745452191681\tTime (s): 0.6054\n",
      "[420] Improvement: 4.027829511556774\tTime (s): 0.5984\n",
      "[421] Improvement: 1.9376862570643425\tTime (s): 0.6006\n",
      "[422] Improvement: 1.44253449421376\tTime (s): 0.6074\n",
      "[423] Improvement: 1.4359373426996171\tTime (s): 0.6157\n",
      "[424] Improvement: 1.4387650433927774\tTime (s): 0.6025\n",
      "[425] Improvement: 1.4198252693749964\tTime (s): 0.6027\n",
      "[426] Improvement: 1.570276191458106\tTime (s): 0.606\n",
      "[427] Improvement: 1.97751584649086\tTime (s): 0.6069\n",
      "[428] Improvement: 3.507268183398992\tTime (s): 0.6129\n",
      "[429] Improvement: 7.4560154266655445\tTime (s): 0.5747\n",
      "[430] Improvement: 8.040008208248764\tTime (s): 0.6012\n",
      "[431] Improvement: 8.068565085995942\tTime (s): 0.6021\n",
      "[432] Improvement: 8.415299796499312\tTime (s): 0.6378\n",
      "[433] Improvement: 4.556302736513317\tTime (s): 0.6199\n",
      "[434] Improvement: 3.190265675075352\tTime (s): 0.5999\n",
      "[435] Improvement: 2.6041089980863035\tTime (s): 0.6063\n",
      "[436] Improvement: 2.0291031412780285\tTime (s): 0.6205\n",
      "[437] Improvement: 1.6168508594855666\tTime (s): 0.6016\n",
      "[438] Improvement: 1.4069358771666884\tTime (s): 0.6018\n",
      "[439] Improvement: 1.3082215832546353\tTime (s): 0.6018\n",
      "[440] Improvement: 1.2890435177832842\tTime (s): 0.6039\n",
      "[441] Improvement: 1.2264807876199484\tTime (s): 0.6094\n",
      "[442] Improvement: 1.050978135317564\tTime (s): 0.6148\n",
      "[443] Improvement: 0.9271115884184837\tTime (s): 0.6004\n",
      "[444] Improvement: 0.8536288947798312\tTime (s): 0.607\n",
      "[445] Improvement: 0.7844654214568436\tTime (s): 0.6168\n",
      "[446] Improvement: 0.7017190861515701\tTime (s): 0.6064\n",
      "[447] Improvement: 0.6121029211208224\tTime (s): 0.6097\n",
      "[448] Improvement: 0.5342274229042232\tTime (s): 0.6005\n",
      "[449] Improvement: 0.47709333756938577\tTime (s): 0.6047\n",
      "[450] Improvement: 0.4414210245013237\tTime (s): 0.6064\n",
      "[451] Improvement: 0.42790357070043683\tTime (s): 0.601\n",
      "[452] Improvement: 0.4344569677487016\tTime (s): 0.607\n",
      "[453] Improvement: 0.4368351213634014\tTime (s): 0.6183\n",
      "[454] Improvement: 0.3932928345166147\tTime (s): 0.6151\n",
      "[455] Improvement: 0.3309293510392308\tTime (s): 0.6106\n",
      "[456] Improvement: 0.301695448346436\tTime (s): 0.6075\n"
     ]
    },
    {
     "name": "stdout",
     "output_type": "stream",
     "text": [
      "[457] Improvement: 0.2977579836733639\tTime (s): 0.6135\n",
      "[458] Improvement: 0.3053094753995538\tTime (s): 0.6139\n",
      "[459] Improvement: 0.3201495078392327\tTime (s): 0.625\n",
      "[460] Improvement: 0.33855590550228953\tTime (s): 0.6132\n",
      "[461] Improvement: 0.35225527873262763\tTime (s): 0.6351\n",
      "[462] Improvement: 0.35283733205869794\tTime (s): 0.6052\n",
      "[463] Improvement: 0.34486137283965945\tTime (s): 0.6223\n",
      "[464] Improvement: 0.34406815096735954\tTime (s): 0.635\n",
      "[465] Improvement: 0.36308985110372305\tTime (s): 0.6377\n",
      "[466] Improvement: 0.4155167965218425\tTime (s): 0.6314\n",
      "[467] Improvement: 0.5393963726237416\tTime (s): 0.6488\n",
      "[468] Improvement: 0.830959958024323\tTime (s): 0.6299\n",
      "[469] Improvement: 1.4010936454869807\tTime (s): 0.6117\n",
      "[470] Improvement: 1.788879647385329\tTime (s): 0.6115\n",
      "[471] Improvement: 1.284793784841895\tTime (s): 0.6201\n",
      "[472] Improvement: 0.6915576998144388\tTime (s): 0.6149\n",
      "[473] Improvement: 0.5656315996311605\tTime (s): 0.6243\n",
      "[474] Improvement: 0.5999084766954184\tTime (s): 0.6211\n",
      "[475] Improvement: 0.7025768123567104\tTime (s): 0.6195\n",
      "[476] Improvement: 0.8301756400614977\tTime (s): 0.6114\n",
      "[477] Improvement: 1.1684532538056374\tTime (s): 0.6052\n",
      "[478] Improvement: 3.7334612952545285\tTime (s): 0.6031\n",
      "[479] Improvement: 8.048343962989748\tTime (s): 0.6064\n",
      "[480] Improvement: 1.903916219715029\tTime (s): 0.6093\n",
      "[481] Improvement: 1.2192545686848462\tTime (s): 0.6171\n",
      "[482] Improvement: 1.3169582020491362\tTime (s): 0.6097\n",
      "[483] Improvement: 1.333226043265313\tTime (s): 0.6093\n",
      "[484] Improvement: 1.3752042781561613\tTime (s): 0.6106\n",
      "[485] Improvement: 1.5868555917404592\tTime (s): 0.5765\n",
      "[486] Improvement: 1.9364684512838721\tTime (s): 0.6021\n",
      "[487] Improvement: 2.4439184609800577\tTime (s): 0.5796\n",
      "[488] Improvement: 3.228723935317248\tTime (s): 0.5958\n",
      "[489] Improvement: 4.332763614598662\tTime (s): 0.5849\n",
      "[490] Improvement: 5.191505775786936\tTime (s): 0.61\n",
      "[491] Improvement: 6.3727344907820225\tTime (s): 0.6138\n",
      "[492] Improvement: 8.087943060323596\tTime (s): 0.5996\n",
      "[493] Improvement: 10.067776346113533\tTime (s): 0.6002\n",
      "[494] Improvement: 11.946270235348493\tTime (s): 0.6031\n",
      "[495] Improvement: 13.73180861538276\tTime (s): 0.6002\n",
      "[496] Improvement: 15.386577144730836\tTime (s): 0.6286\n",
      "[497] Improvement: 16.403809391893446\tTime (s): 0.6014\n",
      "[498] Improvement: 16.71962298080325\tTime (s): 0.6056\n",
      "[499] Improvement: 17.788996315095574\tTime (s): 0.6122\n",
      "[500] Improvement: 17.7869197470136\tTime (s): 0.6088\n",
      "[501] Improvement: 15.19948079669848\tTime (s): 0.6128\n",
      "[502] Improvement: 16.1575199929066\tTime (s): 0.6016\n",
      "[503] Improvement: 20.50043427804485\tTime (s): 0.5991\n",
      "[504] Improvement: 26.651117119472474\tTime (s): 0.616\n",
      "[505] Improvement: 32.24646795168519\tTime (s): 0.6078\n",
      "[506] Improvement: 37.241487701423466\tTime (s): 0.5996\n",
      "[507] Improvement: 43.96988989319652\tTime (s): 0.6059\n",
      "[508] Improvement: 51.89589677378535\tTime (s): 0.6011\n",
      "[509] Improvement: 57.105541003867984\tTime (s): 0.6063\n",
      "[510] Improvement: 59.81256655603647\tTime (s): 0.6001\n",
      "[511] Improvement: 55.517358870245516\tTime (s): 0.6007\n",
      "[512] Improvement: 48.10444221366197\tTime (s): 0.617\n",
      "[513] Improvement: 45.294755121227354\tTime (s): 0.6067\n",
      "[514] Improvement: 48.421076158992946\tTime (s): 0.6035\n",
      "[515] Improvement: 57.51179728331044\tTime (s): 0.6263\n",
      "[516] Improvement: 65.98262581042945\tTime (s): 0.6006\n",
      "[517] Improvement: 61.335093579720706\tTime (s): 0.6068\n",
      "[518] Improvement: 51.41095033660531\tTime (s): 0.6015\n",
      "[519] Improvement: 48.41816810052842\tTime (s): 0.6119\n",
      "[520] Improvement: 51.49751464696601\tTime (s): 0.614\n",
      "[521] Improvement: 50.02164260391146\tTime (s): 0.6016\n",
      "[522] Improvement: 44.99747538752854\tTime (s): 0.6076\n",
      "[523] Improvement: 35.138637471944094\tTime (s): 0.6116\n",
      "[524] Improvement: 30.61857452010736\tTime (s): 0.6167\n",
      "[525] Improvement: 27.2155946274288\tTime (s): 0.6042\n",
      "[526] Improvement: 21.988696686457843\tTime (s): 0.6099\n",
      "[527] Improvement: 17.191124864388257\tTime (s): 0.6077\n",
      "[528] Improvement: 12.791632384993136\tTime (s): 0.6112\n",
      "[529] Improvement: 9.52264445880428\tTime (s): 0.605\n",
      "[530] Improvement: 7.5294681950472295\tTime (s): 0.5987\n",
      "[531] Improvement: 6.218196443747729\tTime (s): 0.6033\n",
      "[532] Improvement: 5.336503169033676\tTime (s): 0.6083\n",
      "[533] Improvement: 4.7747458051890135\tTime (s): 0.6119\n",
      "[534] Improvement: 4.488908851519227\tTime (s): 0.6004\n",
      "[535] Improvement: 4.466862971894443\tTime (s): 0.601\n",
      "[536] Improvement: 4.655750507954508\tTime (s): 0.6066\n",
      "[537] Improvement: 4.873366503044963\tTime (s): 0.6108\n",
      "[538] Improvement: 4.9217728758230805\tTime (s): 0.6034\n",
      "[539] Improvement: 4.825755211990327\tTime (s): 0.6047\n",
      "[540] Improvement: 4.678766092751175\tTime (s): 0.6111\n",
      "[541] Improvement: 4.537062898743898\tTime (s): 0.614\n",
      "[542] Improvement: 4.492136104498059\tTime (s): 0.6516\n",
      "[543] Improvement: 4.667229403741658\tTime (s): 0.6596\n",
      "[544] Improvement: 4.971476452425122\tTime (s): 0.6509\n",
      "[545] Improvement: 4.997131991200149\tTime (s): 0.6106\n",
      "[546] Improvement: 4.725709050893784\tTime (s): 0.6028\n",
      "[547] Improvement: 4.355392455589026\tTime (s): 0.6018\n",
      "[548] Improvement: 4.120668292976916\tTime (s): 0.6033\n",
      "[549] Improvement: 4.184655600693077\tTime (s): 0.6127\n",
      "[550] Improvement: 4.56630400614813\tTime (s): 0.6118\n",
      "[551] Improvement: 5.218113377224654\tTime (s): 0.6019\n",
      "[552] Improvement: 6.071782378479838\tTime (s): 0.6018\n",
      "[553] Improvement: 7.465896810870618\tTime (s): 0.609\n",
      "[554] Improvement: 9.147183115128428\tTime (s): 0.6173\n",
      "[555] Improvement: 11.65775405894965\tTime (s): 0.6101\n",
      "[556] Improvement: 13.60483207879588\tTime (s): 0.6004\n",
      "[557] Improvement: 12.027763408143073\tTime (s): 0.6139\n",
      "[558] Improvement: 11.164487197529525\tTime (s): 0.6037\n",
      "[559] Improvement: 10.960057532880455\tTime (s): 0.601\n",
      "[560] Improvement: 10.748953516595066\tTime (s): 0.6037\n",
      "[561] Improvement: 9.6821225611493\tTime (s): 0.6016\n",
      "[562] Improvement: 8.86461293604225\tTime (s): 0.6054\n",
      "[563] Improvement: 7.906724047381431\tTime (s): 0.6087\n",
      "[564] Improvement: 6.75509453099221\tTime (s): 0.6008\n",
      "[565] Improvement: 5.5711696348153055\tTime (s): 0.61\n",
      "[566] Improvement: 4.459544242825359\tTime (s): 0.6005\n",
      "[567] Improvement: 3.5060568931512535\tTime (s): 0.6008\n",
      "[568] Improvement: 2.7903478108346462\tTime (s): 0.6217\n",
      "[569] Improvement: 2.3194107809104025\tTime (s): 0.6036\n",
      "[570] Improvement: 2.0420612837187946\tTime (s): 0.6104\n",
      "[571] Improvement: 1.9098321697674692\tTime (s): 0.6003\n",
      "[572] Improvement: 1.894871483091265\tTime (s): 0.6018\n",
      "[573] Improvement: 1.9817382073961198\tTime (s): 0.6086\n",
      "[574] Improvement: 2.1599850705824792\tTime (s): 0.6147\n",
      "[575] Improvement: 2.4203000385314226\tTime (s): 0.6011\n",
      "[576] Improvement: 2.7286504236981273\tTime (s): 0.6243\n",
      "[577] Improvement: 3.000993673224002\tTime (s): 0.6061\n",
      "[578] Improvement: 3.2757663261145353\tTime (s): 0.6057\n",
      "[579] Improvement: 3.7286478905007243\tTime (s): 0.6065\n",
      "[580] Improvement: 4.440432572737336\tTime (s): 0.5997\n",
      "[581] Improvement: 5.2565901768393815\tTime (s): 0.6103\n",
      "[582] Improvement: 5.710226650349796\tTime (s): 0.6079\n",
      "[583] Improvement: 5.532753087580204\tTime (s): 0.6133\n",
      "[584] Improvement: 5.034376521594822\tTime (s): 0.6083\n",
      "[585] Improvement: 4.614886339288205\tTime (s): 0.6004\n",
      "[586] Improvement: 4.563313726335764\tTime (s): 0.6026\n",
      "[587] Improvement: 6.100579203572124\tTime (s): 0.6131\n",
      "[588] Improvement: 11.519921351689845\tTime (s): 0.6078\n",
      "[589] Improvement: 7.142627956345677\tTime (s): 0.6036\n",
      "[590] Improvement: 2.8168978774920106\tTime (s): 0.589\n",
      "[591] Improvement: 2.1706262724474072\tTime (s): 0.5778\n",
      "[592] Improvement: 1.7036134162917733\tTime (s): 0.5869\n",
      "[593] Improvement: 1.3129926496185362\tTime (s): 0.583\n",
      "[594] Improvement: 0.9965595141984522\tTime (s): 0.5874\n",
      "[595] Improvement: 0.7675732551142573\tTime (s): 0.579\n",
      "[596] Improvement: 0.6119335149414837\tTime (s): 0.59\n",
      "[597] Improvement: 0.5069421771913767\tTime (s): 0.5834\n",
      "[598] Improvement: 0.435567073058337\tTime (s): 0.5925\n",
      "[599] Improvement: 0.3860292797908187\tTime (s): 0.5707\n",
      "[600] Improvement: 0.3500786363147199\tTime (s): 0.5815\n",
      "[601] Improvement: 0.32851420948281884\tTime (s): 0.5983\n",
      "[602] Improvement: 0.3558626677840948\tTime (s): 0.581\n",
      "[603] Improvement: 0.6100479778833687\tTime (s): 0.5887\n",
      "[604] Improvement: 1.8145573576912284\tTime (s): 0.5765\n",
      "[605] Improvement: 3.450431227684021\tTime (s): 0.5984\n",
      "[606] Improvement: 2.440132990013808\tTime (s): 0.576\n",
      "[607] Improvement: 2.618352780584246\tTime (s): 0.5803\n"
     ]
    },
    {
     "name": "stdout",
     "output_type": "stream",
     "text": [
      "[608] Improvement: 1.4298892230726779\tTime (s): 0.6021\n",
      "[609] Improvement: 0.6797389048151672\tTime (s): 0.5708\n",
      "[610] Improvement: 0.292207402177155\tTime (s): 0.6099\n",
      "[611] Improvement: 0.21474456880241632\tTime (s): 0.6047\n",
      "[612] Improvement: 0.2150702034123242\tTime (s): 0.6058\n",
      "[613] Improvement: 0.26027770433574915\tTime (s): 0.6035\n",
      "[614] Improvement: 0.3622351032681763\tTime (s): 0.6168\n",
      "[615] Improvement: 0.49149539275094867\tTime (s): 0.6151\n",
      "[616] Improvement: 0.49848091695457697\tTime (s): 0.6075\n",
      "[617] Improvement: 0.3656412633135915\tTime (s): 0.6102\n",
      "[618] Improvement: 0.2819134942255914\tTime (s): 0.6125\n",
      "[619] Improvement: 0.26101536862552166\tTime (s): 0.6109\n",
      "[620] Improvement: 0.2474712855182588\tTime (s): 0.6123\n",
      "[621] Improvement: 0.20849417662248015\tTime (s): 0.6027\n",
      "[622] Improvement: 0.15510936826467514\tTime (s): 0.6077\n",
      "[623] Improvement: 0.11634248215705156\tTime (s): 0.6026\n",
      "[624] Improvement: 0.0969014554284513\tTime (s): 0.602\n",
      "Total Improvement: 208773.48056401918\n",
      "Total Time (s): 378.8646\n"
     ]
    }
   ],
   "source": [
    "silence_model = pg.GeneralMixtureModel.from_samples(\n",
    "    pg.MultivariateGaussianDistribution, n_components=16, X=example_features_stack,\n",
    "    verbose=True\n",
    ")\n",
    "silence_model.freeze()"
   ]
  },
  {
   "cell_type": "code",
   "execution_count": 8,
   "metadata": {},
   "outputs": [],
   "source": [
    "UNIQUE_PHONES = [\n",
    "    'AA', 'AE', 'AH', 'AO', 'AW', 'AY', 'B', 'CH', 'D', 'DH', \n",
    "    'EH', 'ER', 'EY', 'F', 'G', 'HH', 'IH', 'IY', 'JH', 'K', \n",
    "    'L', 'M', 'N', 'NG', 'OW', 'OY', 'P', 'R', 'S', 'SH', 'T', \n",
    "    'TH', 'UH', 'UW', 'V', 'W', 'Y', 'Z', 'ZH'\n",
    "]"
   ]
  },
  {
   "cell_type": "code",
   "execution_count": 199,
   "metadata": {},
   "outputs": [],
   "source": [
    "def make_phone_triple(bg_model):\n",
    "    return tuple(bg_model.copy() for _ in range(3))\n",
    "\n",
    "phone_distribution_triples = {\n",
    "    phone: make_phone_triple(bg_model) for phone in UNIQUE_PHONES\n",
    "}"
   ]
  },
  {
   "cell_type": "code",
   "execution_count": 214,
   "metadata": {},
   "outputs": [],
   "source": [
    "def make_sentence_hmm(phones_cell, phone_triples, silence_model):\n",
    "    phones = phones_cell.split(' ')\n",
    "    cleaned_phones = wrap_with_silence(remove_stress_combinations(phones))\n",
    "    hmm = pg.HiddenMarkovModel('-'.join(cleaned_phones))\n",
    "    \n",
    "    states = []\n",
    "    for i, phone in enumerate(cleaned_phones):\n",
    "        if phone == '_':\n",
    "            phone_state = pg.State(silence_model.copy(), name='{}-SILENCE'.format(i))\n",
    "            states.append(phone_state)\n",
    "        else:\n",
    "            phone_triple = phone_triples[phone]\n",
    "            phone_states = (\n",
    "                pg.State(phone_triple[0], name='{:02}a-{}'.format(i, phone)),\n",
    "                pg.State(phone_triple[1], name='{:02}b-{}'.format(i, phone)),\n",
    "                pg.State(phone_triple[2], name='{:02}c-{}'.format(i, phone))\n",
    "            )\n",
    "            states.extend(phone_states)\n",
    "    hmm.add_states(states)\n",
    "    \n",
    "    hmm.add_transition(hmm.start, states[0], 1.0)\n",
    "    for state in states:\n",
    "        hmm.add_transition(state, state, 0.9)\n",
    "    for prev, then in zip(states, states[1:]):\n",
    "        hmm.add_transition(prev, then, 0.1)\n",
    "    hmm.add_transition(states[-1], hmm.end, 0.1)\n",
    "    hmm.bake()\n",
    "    \n",
    "    return hmm\n",
    "\n",
    "example_sentence_hmm = make_sentence_hmm(\n",
    "    script[script.sentence_id == 31].phones.iloc[0], \n",
    "    phone_distribution_triples, silence_model\n",
    ")"
   ]
  },
  {
   "cell_type": "code",
   "execution_count": 219,
   "metadata": {},
   "outputs": [],
   "source": [
    "unique_sentence_ids = enrollments_4_td.sentence_id.unique()\n",
    "\n",
    "sentence_hmms = {\n",
    "    sentence_id: make_sentence_hmm(\n",
    "        script[script.sentence_id == sentence_id].phones.iloc[0], phone_distribution_triples, silence_model\n",
    "    ) for sentence_id in unique_sentence_ids\n",
    "    if isinstance(script[script.sentence_id == sentence_id].phones.iloc[0], str)\n",
    "}"
   ]
  },
  {
   "cell_type": "code",
   "execution_count": 240,
   "metadata": {},
   "outputs": [],
   "source": [
    "def update_triples(phone_triples):\n",
    "    empty = 0\n",
    "    lost = 0\n",
    "    for phone_triple in phone_triples.values():\n",
    "        for gmm in phone_triple:\n",
    "            if gmm.summaries.sum() == 0:\n",
    "                empty += 1\n",
    "                continue\n",
    "            try:\n",
    "                gmm.from_summaries()\n",
    "            except Exception:\n",
    "                gmm.clear_summaries()\n",
    "                lost += 1\n",
    "    return empty, lost\n",
    "\n",
    "def train_epoch(enrollments, unique_sentence_ids, sentence_hmms, phone_triples):\n",
    "    logps = []\n",
    "    \n",
    "    for sentence_id in unique_sentence_ids:\n",
    "        print(sentence_id, end=' ')\n",
    "        if sentence_id not in sentence_hmms:\n",
    "            continue\n",
    "        sentence_hmm = sentence_hmms[sentence_id]\n",
    "        \n",
    "        subenrollments = enrollments[enrollments.sentence_id == sentence_id]\n",
    "        sequences = [load_mfcc(path) for path in subenrollments['pcm_path']]\n",
    "        weights = np.ones(len(sequences))\n",
    "        \n",
    "        logp = sentence_hmm.summarize(sequences=sequences, weights=weights, algorithm='viterbi', check_input=False)\n",
    "        logps.append(logp)\n",
    "    \n",
    "    update_triples(phone_triples)\n",
    "            \n",
    "    return logps"
   ]
  },
  {
   "cell_type": "code",
   "execution_count": 245,
   "metadata": {},
   "outputs": [
    {
     "name": "stdout",
     "output_type": "stream",
     "text": [
      "31 32 33 34 35 36 37 38 39 40 271 272 273 274 275 276 277 278 279 280 10087 10088 371 372 373 374 375 376 377 378 379 380 10107 10108 441 442 443 444 445 446 447 448 449 450 10121 10122 461 462 463 464 465 466 467 468 469 470 10125 10126 557 558 559 560 10143 10144 771 772 773 774 775 776 777 778 779 780 10187 10188 41 42 43 44 45 46 47 48 49 50 10041 10042 61 62 63 64 65 66 81 82 83 84 85 86 87 88 89 90 10049 10050 91 92 93 94 95 96 97 98 99 100 10051 10052 101 102 103 104 105 106 107 108 109 110 10053 10054 111 112 113 114 115 116 117 118 119 120 10055 10056 121 122 123 124 125 126 127 128 129 130 10057 10058 131 132 133 134 135 136 137 138 139 140 10059 10060 171 172 173 174 175 176 177 178 179 180 10067 10068 187 188 189 190 10069 10070 191 192 193 194 195 196 197 198 199 200 10071 10072 201 202 203 204 205 206 207 208 209 210 10073 10074 211 212 213 214 215 216 217 218 219 220 10075 10076 221 222 223 224 225 226 227 228 229 230 10077 10078 231 232 233 234 235 236 237 238 239 240 10079 10080 241 242 243 244 245 246 247 248 249 250 10081 10082 261 262 263 264 265 266 267 268 269 270 10085 10086 281 282 283 284 285 286 287 288 289 290 10089 10090 321 322 323 324 325 326 327 328 329 330 10097 10098 341 342 343 344 345 346 347 348 349 350 10101 10102 351 352 353 354 355 356 357 358 359 360 10103 10104 391 392 393 394 395 396 397 398 399 400 10111 10112 477 478 479 480 10127 10128 491 492 493 494 495 496 497 498 499 500 10131 10132 501 502 503 504 505 506 507 508 509 510 10133 10134 531 532 533 534 535 536 537 538 539 540 10139 10140 581 582 583 584 585 586 587 588 589 590 10149 10150 591 592 593 594 595 596 597 598 599 600 10151 10152 621 622 623 624 625 626 627 628 629 630 10157 10158 631 632 633 634 635 636 637 638 639 640 10159 10160 641 642 643 644 645 646 647 648 649 650 10161 10162 651 652 653 654 655 656 657 658 659 660 10163 10164 661 662 663 664 665 666 667 668 669 670 10165 10166 731 732 733 734 735 736 "
     ]
    },
    {
     "ename": "TypeError",
     "evalue": "Cannot cast ufunc subtract output from dtype('complex128') to dtype('float64') with casting rule 'same_kind'",
     "output_type": "error",
     "traceback": [
      "\u001b[0;31m---------------------------------------------------------------------------\u001b[0m",
      "\u001b[0;31mLinAlgError\u001b[0m                               Traceback (most recent call last)",
      "\u001b[0;32mpomegranate/distributions.pyx\u001b[0m in \u001b[0;36mpomegranate.distributions.MultivariateGaussianDistribution.from_summaries\u001b[0;34m()\u001b[0m\n",
      "\u001b[0;32m/usr/local/lib/python3.5/dist-packages/scipy/linalg/decomp_cholesky.py\u001b[0m in \u001b[0;36mcholesky\u001b[0;34m(a, lower, overwrite_a, check_finite)\u001b[0m\n\u001b[1;32m     80\u001b[0m     c, lower = _cholesky(a, lower=lower, overwrite_a=overwrite_a, clean=True,\n\u001b[0;32m---> 81\u001b[0;31m                             check_finite=check_finite)\n\u001b[0m\u001b[1;32m     82\u001b[0m     \u001b[0;32mreturn\u001b[0m \u001b[0mc\u001b[0m\u001b[0;34m\u001b[0m\u001b[0m\n",
      "\u001b[0;32m/usr/local/lib/python3.5/dist-packages/scipy/linalg/decomp_cholesky.py\u001b[0m in \u001b[0;36m_cholesky\u001b[0;34m(a, lower, overwrite_a, clean, check_finite)\u001b[0m\n\u001b[1;32m     29\u001b[0m     \u001b[0;32mif\u001b[0m \u001b[0minfo\u001b[0m \u001b[0;34m>\u001b[0m \u001b[0;36m0\u001b[0m\u001b[0;34m:\u001b[0m\u001b[0;34m\u001b[0m\u001b[0m\n\u001b[0;32m---> 30\u001b[0;31m         \u001b[0;32mraise\u001b[0m \u001b[0mLinAlgError\u001b[0m\u001b[0;34m(\u001b[0m\u001b[0;34m\"%d-th leading minor not positive definite\"\u001b[0m \u001b[0;34m%\u001b[0m \u001b[0minfo\u001b[0m\u001b[0;34m)\u001b[0m\u001b[0;34m\u001b[0m\u001b[0m\n\u001b[0m\u001b[1;32m     31\u001b[0m     \u001b[0;32mif\u001b[0m \u001b[0minfo\u001b[0m \u001b[0;34m<\u001b[0m \u001b[0;36m0\u001b[0m\u001b[0;34m:\u001b[0m\u001b[0;34m\u001b[0m\u001b[0m\n",
      "\u001b[0;31mLinAlgError\u001b[0m: 34-th leading minor not positive definite",
      "\nDuring handling of the above exception, another exception occurred:\n",
      "\u001b[0;31mTypeError\u001b[0m                                 Traceback (most recent call last)",
      "\u001b[0;32m<ipython-input-245-9d6a18686c74>\u001b[0m in \u001b[0;36m<module>\u001b[0;34m()\u001b[0m\n\u001b[1;32m      1\u001b[0m \u001b[0;32mfor\u001b[0m \u001b[0mi\u001b[0m \u001b[0;32min\u001b[0m \u001b[0mrange\u001b[0m\u001b[0;34m(\u001b[0m\u001b[0;36m10\u001b[0m\u001b[0;34m)\u001b[0m\u001b[0;34m:\u001b[0m\u001b[0;34m\u001b[0m\u001b[0m\n\u001b[0;32m----> 2\u001b[0;31m     \u001b[0mlogps\u001b[0m \u001b[0;34m=\u001b[0m \u001b[0mtrain_epoch\u001b[0m\u001b[0;34m(\u001b[0m\u001b[0menrollments_4_td\u001b[0m\u001b[0;34m,\u001b[0m \u001b[0munique_sentence_ids\u001b[0m\u001b[0;34m,\u001b[0m \u001b[0msentence_hmms\u001b[0m\u001b[0;34m,\u001b[0m \u001b[0mphone_distribution_triples\u001b[0m\u001b[0;34m)\u001b[0m\u001b[0;34m\u001b[0m\u001b[0m\n\u001b[0m\u001b[1;32m      3\u001b[0m     \u001b[0mprint\u001b[0m\u001b[0;34m(\u001b[0m\u001b[0;34m'logps'\u001b[0m\u001b[0;34m,\u001b[0m \u001b[0msum\u001b[0m\u001b[0;34m(\u001b[0m\u001b[0mlogps\u001b[0m\u001b[0;34m)\u001b[0m\u001b[0;34m)\u001b[0m\u001b[0;34m\u001b[0m\u001b[0m\n",
      "\u001b[0;32m<ipython-input-240-e920e23fb57a>\u001b[0m in \u001b[0;36mtrain_epoch\u001b[0;34m(enrollments, unique_sentence_ids, sentence_hmms, phone_triples)\u001b[0m\n\u001b[1;32m     32\u001b[0m     \u001b[0;32mfor\u001b[0m \u001b[0mphone_triple\u001b[0m \u001b[0;32min\u001b[0m \u001b[0mphone_triples\u001b[0m\u001b[0;34m.\u001b[0m\u001b[0mvalues\u001b[0m\u001b[0;34m(\u001b[0m\u001b[0;34m)\u001b[0m\u001b[0;34m:\u001b[0m\u001b[0;34m\u001b[0m\u001b[0m\n\u001b[1;32m     33\u001b[0m         \u001b[0;32mfor\u001b[0m \u001b[0mgmm\u001b[0m \u001b[0;32min\u001b[0m \u001b[0mphone_triple\u001b[0m\u001b[0;34m:\u001b[0m\u001b[0;34m\u001b[0m\u001b[0m\n\u001b[0;32m---> 34\u001b[0;31m             \u001b[0mgmm\u001b[0m\u001b[0;34m.\u001b[0m\u001b[0mfrom_summaries\u001b[0m\u001b[0;34m(\u001b[0m\u001b[0;34m)\u001b[0m\u001b[0;34m\u001b[0m\u001b[0m\n\u001b[0m\u001b[1;32m     35\u001b[0m \u001b[0;34m\u001b[0m\u001b[0m\n\u001b[1;32m     36\u001b[0m     \u001b[0;32mreturn\u001b[0m \u001b[0mlogps\u001b[0m\u001b[0;34m\u001b[0m\u001b[0m\n",
      "\u001b[0;32mpomegranate/bayes.pyx\u001b[0m in \u001b[0;36mpomegranate.bayes.BayesModel.from_summaries\u001b[0;34m()\u001b[0m\n",
      "\u001b[0;32mpomegranate/distributions.pyx\u001b[0m in \u001b[0;36mpomegranate.distributions.MultivariateGaussianDistribution.from_summaries\u001b[0;34m()\u001b[0m\n",
      "\u001b[0;31mTypeError\u001b[0m: Cannot cast ufunc subtract output from dtype('complex128') to dtype('float64') with casting rule 'same_kind'"
     ]
    }
   ],
   "source": [
    "for i in range(10):\n",
    "    for j in range(10):\n",
    "        logps = train_epoch(enrollments_4_td, unique_sentence_ids, sentence_hmms, phone_distribution_triples)\n",
    "        print('{}-{} logps'.format(i, j), sum(logps))\n",
    "    path = root + '/models/triples-{}'.format(i)\n",
    "    os.mkdir(path)\n",
    "    write_triples(path, phone_distribution_triples)"
   ]
  },
  {
   "cell_type": "code",
   "execution_count": 243,
   "metadata": {
    "scrolled": true
   },
   "outputs": [],
   "source": [
    "write_triples(root + '/models/triples', phone_distribution_triples)"
   ]
  },
  {
   "cell_type": "code",
   "execution_count": 244,
   "metadata": {},
   "outputs": [
    {
     "ename": "OSError",
     "evalue": "Cannot read model AW-b",
     "output_type": "error",
     "traceback": [
      "\u001b[0;31m---------------------------------------------------------------------------\u001b[0m",
      "\u001b[0;31mLinAlgError\u001b[0m                               Traceback (most recent call last)",
      "\u001b[0;32m<ipython-input-164-d70108567277>\u001b[0m in \u001b[0;36mread_gmm\u001b[0;34m(path)\u001b[0m\n\u001b[1;32m     31\u001b[0m             \u001b[0;32mtry\u001b[0m\u001b[0;34m:\u001b[0m\u001b[0;34m\u001b[0m\u001b[0m\n\u001b[0;32m---> 32\u001b[0;31m                 \u001b[0mdistribution\u001b[0m \u001b[0;34m=\u001b[0m \u001b[0mpg\u001b[0m\u001b[0;34m.\u001b[0m\u001b[0mMultivariateGaussianDistribution\u001b[0m\u001b[0;34m(\u001b[0m\u001b[0;34m*\u001b[0m\u001b[0mdistribution\u001b[0m\u001b[0;34m[\u001b[0m\u001b[0;34m'parameters'\u001b[0m\u001b[0;34m]\u001b[0m\u001b[0;34m)\u001b[0m\u001b[0;34m\u001b[0m\u001b[0m\n\u001b[0m\u001b[1;32m     33\u001b[0m                 \u001b[0mdistributions\u001b[0m\u001b[0;34m.\u001b[0m\u001b[0mappend\u001b[0m\u001b[0;34m(\u001b[0m\u001b[0mdistribution\u001b[0m\u001b[0;34m)\u001b[0m\u001b[0;34m\u001b[0m\u001b[0m\n",
      "\u001b[0;32mpomegranate/distributions.pyx\u001b[0m in \u001b[0;36mpomegranate.distributions.MultivariateGaussianDistribution.__cinit__\u001b[0;34m()\u001b[0m\n",
      "\u001b[0;32m/usr/local/lib/python3.5/dist-packages/scipy/linalg/decomp_cholesky.py\u001b[0m in \u001b[0;36mcholesky\u001b[0;34m(a, lower, overwrite_a, check_finite)\u001b[0m\n\u001b[1;32m     80\u001b[0m     c, lower = _cholesky(a, lower=lower, overwrite_a=overwrite_a, clean=True,\n\u001b[0;32m---> 81\u001b[0;31m                             check_finite=check_finite)\n\u001b[0m\u001b[1;32m     82\u001b[0m     \u001b[0;32mreturn\u001b[0m \u001b[0mc\u001b[0m\u001b[0;34m\u001b[0m\u001b[0m\n",
      "\u001b[0;32m/usr/local/lib/python3.5/dist-packages/scipy/linalg/decomp_cholesky.py\u001b[0m in \u001b[0;36m_cholesky\u001b[0;34m(a, lower, overwrite_a, clean, check_finite)\u001b[0m\n\u001b[1;32m     29\u001b[0m     \u001b[0;32mif\u001b[0m \u001b[0minfo\u001b[0m \u001b[0;34m>\u001b[0m \u001b[0;36m0\u001b[0m\u001b[0;34m:\u001b[0m\u001b[0;34m\u001b[0m\u001b[0m\n\u001b[0;32m---> 30\u001b[0;31m         \u001b[0;32mraise\u001b[0m \u001b[0mLinAlgError\u001b[0m\u001b[0;34m(\u001b[0m\u001b[0;34m\"%d-th leading minor not positive definite\"\u001b[0m \u001b[0;34m%\u001b[0m \u001b[0minfo\u001b[0m\u001b[0;34m)\u001b[0m\u001b[0;34m\u001b[0m\u001b[0m\n\u001b[0m\u001b[1;32m     31\u001b[0m     \u001b[0;32mif\u001b[0m \u001b[0minfo\u001b[0m \u001b[0;34m<\u001b[0m \u001b[0;36m0\u001b[0m\u001b[0;34m:\u001b[0m\u001b[0;34m\u001b[0m\u001b[0m\n",
      "\u001b[0;31mLinAlgError\u001b[0m: 21-th leading minor not positive definite",
      "\nThe above exception was the direct cause of the following exception:\n",
      "\u001b[0;31mOSError\u001b[0m                                   Traceback (most recent call last)",
      "\u001b[0;32m<ipython-input-164-d70108567277>\u001b[0m in \u001b[0;36mread_triples\u001b[0;34m(path, phones)\u001b[0m\n\u001b[1;32m     52\u001b[0m             \u001b[0;32mtry\u001b[0m\u001b[0;34m:\u001b[0m\u001b[0;34m\u001b[0m\u001b[0m\n\u001b[0;32m---> 53\u001b[0;31m                 \u001b[0mmodel\u001b[0m \u001b[0;34m=\u001b[0m \u001b[0mread_gmm\u001b[0m\u001b[0;34m(\u001b[0m\u001b[0mpath\u001b[0m \u001b[0;34m+\u001b[0m \u001b[0;34m'/{}-{}'\u001b[0m\u001b[0;34m.\u001b[0m\u001b[0mformat\u001b[0m\u001b[0;34m(\u001b[0m\u001b[0mphone\u001b[0m\u001b[0;34m,\u001b[0m \u001b[0mc\u001b[0m\u001b[0;34m)\u001b[0m\u001b[0;34m)\u001b[0m\u001b[0;34m\u001b[0m\u001b[0m\n\u001b[0m\u001b[1;32m     54\u001b[0m                 \u001b[0mtriple\u001b[0m\u001b[0;34m.\u001b[0m\u001b[0mappend\u001b[0m\u001b[0;34m(\u001b[0m\u001b[0mmodel\u001b[0m\u001b[0;34m)\u001b[0m\u001b[0;34m\u001b[0m\u001b[0m\n",
      "\u001b[0;32m<ipython-input-164-d70108567277>\u001b[0m in \u001b[0;36mread_gmm\u001b[0;34m(path)\u001b[0m\n\u001b[1;32m     34\u001b[0m             \u001b[0;32mexcept\u001b[0m \u001b[0mException\u001b[0m \u001b[0;32mas\u001b[0m \u001b[0mexception\u001b[0m\u001b[0;34m:\u001b[0m\u001b[0;34m\u001b[0m\u001b[0m\n\u001b[0;32m---> 35\u001b[0;31m                 \u001b[0;32mraise\u001b[0m \u001b[0mIOError\u001b[0m\u001b[0;34m(\u001b[0m\u001b[0;34m'Cannot read GMM at {}'\u001b[0m\u001b[0;34m.\u001b[0m\u001b[0mformat\u001b[0m\u001b[0;34m(\u001b[0m\u001b[0mi\u001b[0m\u001b[0;34m)\u001b[0m\u001b[0;34m)\u001b[0m \u001b[0;32mfrom\u001b[0m \u001b[0mexception\u001b[0m\u001b[0;34m\u001b[0m\u001b[0m\n\u001b[0m\u001b[1;32m     36\u001b[0m \u001b[0;34m\u001b[0m\u001b[0m\n",
      "\u001b[0;31mOSError\u001b[0m: Cannot read GMM at 5",
      "\nThe above exception was the direct cause of the following exception:\n",
      "\u001b[0;31mOSError\u001b[0m                                   Traceback (most recent call last)",
      "\u001b[0;32m<ipython-input-244-1624d77266f5>\u001b[0m in \u001b[0;36m<module>\u001b[0;34m()\u001b[0m\n\u001b[0;32m----> 1\u001b[0;31m \u001b[0mgot_this_back\u001b[0m \u001b[0;34m=\u001b[0m \u001b[0mread_triples\u001b[0m\u001b[0;34m(\u001b[0m\u001b[0mroot\u001b[0m \u001b[0;34m+\u001b[0m \u001b[0;34m'/models/triples'\u001b[0m\u001b[0;34m,\u001b[0m \u001b[0mUNIQUE_PHONES\u001b[0m\u001b[0;34m)\u001b[0m\u001b[0;34m\u001b[0m\u001b[0m\n\u001b[0m",
      "\u001b[0;32m<ipython-input-164-d70108567277>\u001b[0m in \u001b[0;36mread_triples\u001b[0;34m(path, phones)\u001b[0m\n\u001b[1;32m     54\u001b[0m                 \u001b[0mtriple\u001b[0m\u001b[0;34m.\u001b[0m\u001b[0mappend\u001b[0m\u001b[0;34m(\u001b[0m\u001b[0mmodel\u001b[0m\u001b[0;34m)\u001b[0m\u001b[0;34m\u001b[0m\u001b[0m\n\u001b[1;32m     55\u001b[0m             \u001b[0;32mexcept\u001b[0m \u001b[0mException\u001b[0m \u001b[0;32mas\u001b[0m \u001b[0mexception\u001b[0m\u001b[0;34m:\u001b[0m\u001b[0;34m\u001b[0m\u001b[0m\n\u001b[0;32m---> 56\u001b[0;31m                 \u001b[0;32mraise\u001b[0m \u001b[0mIOError\u001b[0m\u001b[0;34m(\u001b[0m\u001b[0;34m'Cannot read model {}-{}'\u001b[0m\u001b[0;34m.\u001b[0m\u001b[0mformat\u001b[0m\u001b[0;34m(\u001b[0m\u001b[0mphone\u001b[0m\u001b[0;34m,\u001b[0m \u001b[0mc\u001b[0m\u001b[0;34m)\u001b[0m\u001b[0;34m)\u001b[0m \u001b[0;32mfrom\u001b[0m \u001b[0mexception\u001b[0m\u001b[0;34m\u001b[0m\u001b[0m\n\u001b[0m\u001b[1;32m     57\u001b[0m         \u001b[0mtriples\u001b[0m\u001b[0;34m[\u001b[0m\u001b[0mphone\u001b[0m\u001b[0;34m]\u001b[0m \u001b[0;34m=\u001b[0m \u001b[0mtuple\u001b[0m\u001b[0;34m(\u001b[0m\u001b[0mtriple\u001b[0m\u001b[0;34m)\u001b[0m\u001b[0;34m\u001b[0m\u001b[0m\n\u001b[1;32m     58\u001b[0m     \u001b[0;32mreturn\u001b[0m \u001b[0mtriples\u001b[0m\u001b[0;34m\u001b[0m\u001b[0m\n",
      "\u001b[0;31mOSError\u001b[0m: Cannot read model AW-b"
     ]
    }
   ],
   "source": [
    "got_this_back = read_triples(root + '/models/triples', UNIQUE_PHONES)"
   ]
  },
  {
   "cell_type": "code",
   "execution_count": 105,
   "metadata": {
    "scrolled": false
   },
   "outputs": [
    {
     "name": "stdout",
     "output_type": "stream",
     "text": [
      "[  1.41467275e+01  -7.35344053e+00  -5.56301231e+00  -4.84370700e+00\n",
      "  -3.26590152e+00  -4.67713110e+00  -2.93247692e+00  -6.21254481e+00\n",
      "  -4.60166262e+00  -4.32767984e+00  -1.62883341e+00  -2.50476327e+00\n",
      "  -8.24130769e+00   4.71618683e-01   4.57870227e-01  -1.32589895e+00\n",
      "  -9.23610116e-01  -9.11397488e-01  -4.48633292e-02   6.83980317e-01\n",
      "  -3.91819699e-01  -9.57840195e-02  -5.51740595e-01  -4.66018632e-01\n",
      "  -3.27380013e-01   2.68423365e-03   6.40123001e-03   1.34323619e-01\n",
      "   6.15838646e-03  -4.11852850e-02   7.89280213e-02  -2.26739330e-02\n",
      "   5.75374672e-02   6.40953838e-03  -3.25918412e-02   1.42842274e-01\n",
      "  -1.47236299e-01  -6.17011349e-02  -1.74521876e-02]\n",
      "[  1.43344790e+01   1.12123728e-01  -4.61673784e+00  -4.37537285e+00\n",
      "  -3.35688364e+00  -5.19159258e+00  -2.46247097e+00  -5.27950688e+00\n",
      "  -6.93267329e+00   8.92074965e-01  -1.50063469e+00  -3.92398961e+00\n",
      "  -1.10409868e+01   2.92374934e-01   1.52636161e+00  -1.38141933e+00\n",
      "  -6.50400994e-01  -7.84072233e-01   1.30328483e-01   6.29186205e-01\n",
      "   7.65916335e-02  -4.60719128e-01   4.12499647e-01  -4.94654228e-01\n",
      "  -9.56262930e-02  -4.51906954e-01  -1.23567798e-02  -1.96568273e-01\n",
      "   5.24525157e-02  -1.08848495e-02  -3.62191705e-02   7.71641044e-02\n",
      "  -3.68863618e-02   3.47594588e-02   1.61490967e-01   2.87846345e-02\n",
      "  -4.92060790e-02  -2.29968007e-03   7.21848124e-02]\n",
      "12-AY-mid\n"
     ]
    }
   ],
   "source": [
    "print(example_sentence_hmm.states[3].distribution.distributions[0].mu)\n",
    "print(example_sentence_hmm.states[10].distribution.distributions[0].mu)\n",
    "print(example_sentence_hmm.states[10].name)"
   ]
  },
  {
   "cell_type": "code",
   "execution_count": 71,
   "metadata": {},
   "outputs": [
    {
     "name": "stdout",
     "output_type": "stream",
     "text": [
      "0\n",
      "_-M-AY-_-V-OY-S-_-IH-Z-_-M-AY-_-P-AE-S-W-ER-D-_-start\t0-SILENCE\t0-SILENCE\t0-SILENCE\t0-SILENCE\t0-SILENCE\t0-SILENCE\t0-SILENCE\t0-SILENCE\t0-SILENCE\t0-SILENCE\t0-SILENCE\t0-SILENCE\t0-SILENCE\t0-SILENCE\t0-SILENCE\t0-SILENCE\t0-SILENCE\t0-SILENCE\t0-SILENCE\t0-SILENCE\t0-SILENCE\t0-SILENCE\t0-SILENCE\t0-SILENCE\t0-SILENCE\t0-SILENCE\t0-SILENCE\t0-SILENCE\t0-SILENCE\t0-SILENCE\t0-SILENCE\t0-SILENCE\t0-SILENCE\t0-SILENCE\t0-SILENCE\t0-SILENCE\t0-SILENCE\t0-SILENCE\t0-SILENCE\t0-SILENCE\t0-SILENCE\t0-SILENCE\t0-SILENCE\t0-SILENCE\t0-SILENCE\t0-SILENCE\t0-SILENCE\t0-SILENCE\t0-SILENCE\t0-SILENCE\t0-SILENCE\t0-SILENCE\t0-SILENCE\t0-SILENCE\t0-SILENCE\t0-SILENCE\t0-SILENCE\t0-SILENCE\t1-M-beg\t1-M-mid\t1-M-end\t2-AY-beg\t2-AY-mid\t2-AY-end\t3-SILENCE\t3-SILENCE\t3-SILENCE\t3-SILENCE\t3-SILENCE\t3-SILENCE\t3-SILENCE\t3-SILENCE\t3-SILENCE\t3-SILENCE\t3-SILENCE\t3-SILENCE\t3-SILENCE\t3-SILENCE\t3-SILENCE\t3-SILENCE\t3-SILENCE\t3-SILENCE\t3-SILENCE\t3-SILENCE\t3-SILENCE\t3-SILENCE\t3-SILENCE\t3-SILENCE\t3-SILENCE\t3-SILENCE\t3-SILENCE\t3-SILENCE\t3-SILENCE\t3-SILENCE\t3-SILENCE\t3-SILENCE\t3-SILENCE\t3-SILENCE\t3-SILENCE\t3-SILENCE\t3-SILENCE\t3-SILENCE\t3-SILENCE\t3-SILENCE\t4-V-beg\t4-V-mid\t4-V-end\t5-OY-beg\t5-OY-mid\t5-OY-end\t6-S-beg\t6-S-beg\t6-S-beg\t6-S-beg\t6-S-mid\t6-S-end\t7-SILENCE\t7-SILENCE\t7-SILENCE\t7-SILENCE\t7-SILENCE\t7-SILENCE\t7-SILENCE\t7-SILENCE\t7-SILENCE\t7-SILENCE\t7-SILENCE\t7-SILENCE\t7-SILENCE\t7-SILENCE\t7-SILENCE\t7-SILENCE\t7-SILENCE\t7-SILENCE\t7-SILENCE\t7-SILENCE\t7-SILENCE\t7-SILENCE\t7-SILENCE\t7-SILENCE\t7-SILENCE\t7-SILENCE\t7-SILENCE\t7-SILENCE\t7-SILENCE\t7-SILENCE\t7-SILENCE\t7-SILENCE\t8-IH-beg\t8-IH-mid\t8-IH-end\t9-Z-beg\t9-Z-mid\t9-Z-end\t9-Z-end\t9-Z-end\t9-Z-end\t10-SILENCE\t10-SILENCE\t10-SILENCE\t10-SILENCE\t10-SILENCE\t10-SILENCE\t10-SILENCE\t10-SILENCE\t10-SILENCE\t11-M-beg\t11-M-mid\t11-M-end\t12-AY-beg\t12-AY-mid\t12-AY-mid\t12-AY-mid\t12-AY-mid\t12-AY-mid\t12-AY-mid\t12-AY-mid\t12-AY-mid\t12-AY-mid\t12-AY-mid\t12-AY-mid\t12-AY-mid\t12-AY-mid\t12-AY-mid\t12-AY-mid\t12-AY-end\t13-SILENCE\t13-SILENCE\t13-SILENCE\t13-SILENCE\t13-SILENCE\t14-P-beg\t14-P-mid\t14-P-end\t15-AE-beg\t15-AE-mid\t15-AE-end\t16-S-beg\t16-S-mid\t16-S-end\t17-W-beg\t17-W-mid\t17-W-end\t18-ER-beg\t18-ER-mid\t18-ER-end\t19-D-beg\t19-D-mid\t19-D-mid\t19-D-mid\t19-D-mid\t19-D-mid\t19-D-mid\t19-D-mid\t19-D-mid\t19-D-end\t20-SILENCE\t20-SILENCE\t20-SILENCE\t20-SILENCE\t20-SILENCE\t20-SILENCE\t20-SILENCE\t20-SILENCE\t20-SILENCE\t_-M-AY-_-V-OY-S-_-IH-Z-_-M-AY-_-P-AE-S-W-ER-D-_-end\n",
      "50\n",
      "_-M-AY-_-V-OY-S-_-IH-Z-_-M-AY-_-P-AE-S-W-ER-D-_-start\t0-SILENCE\t0-SILENCE\t0-SILENCE\t0-SILENCE\t0-SILENCE\t0-SILENCE\t0-SILENCE\t0-SILENCE\t0-SILENCE\t0-SILENCE\t0-SILENCE\t0-SILENCE\t0-SILENCE\t0-SILENCE\t0-SILENCE\t0-SILENCE\t0-SILENCE\t0-SILENCE\t0-SILENCE\t0-SILENCE\t0-SILENCE\t0-SILENCE\t1-M-beg\t1-M-mid\t1-M-end\t2-AY-beg\t2-AY-mid\t2-AY-end\t3-SILENCE\t3-SILENCE\t3-SILENCE\t3-SILENCE\t3-SILENCE\t3-SILENCE\t3-SILENCE\t3-SILENCE\t3-SILENCE\t3-SILENCE\t3-SILENCE\t3-SILENCE\t3-SILENCE\t3-SILENCE\t3-SILENCE\t3-SILENCE\t3-SILENCE\t3-SILENCE\t3-SILENCE\t3-SILENCE\t3-SILENCE\t3-SILENCE\t3-SILENCE\t3-SILENCE\t3-SILENCE\t3-SILENCE\t3-SILENCE\t3-SILENCE\t3-SILENCE\t3-SILENCE\t3-SILENCE\t3-SILENCE\t3-SILENCE\t3-SILENCE\t3-SILENCE\t3-SILENCE\t3-SILENCE\t4-V-beg\t4-V-mid\t4-V-end\t5-OY-beg\t5-OY-mid\t5-OY-end\t6-S-beg\t6-S-mid\t6-S-end\t7-SILENCE\t7-SILENCE\t7-SILENCE\t7-SILENCE\t7-SILENCE\t8-IH-beg\t8-IH-mid\t8-IH-end\t9-Z-beg\t9-Z-mid\t9-Z-end\t9-Z-end\t9-Z-end\t9-Z-end\t9-Z-end\t10-SILENCE\t11-M-beg\t11-M-mid\t11-M-end\t12-AY-beg\t12-AY-mid\t12-AY-end\t13-SILENCE\t13-SILENCE\t13-SILENCE\t13-SILENCE\t13-SILENCE\t13-SILENCE\t13-SILENCE\t13-SILENCE\t13-SILENCE\t13-SILENCE\t14-P-beg\t14-P-mid\t14-P-end\t15-AE-beg\t15-AE-mid\t15-AE-end\t16-S-beg\t16-S-mid\t16-S-end\t17-W-beg\t17-W-mid\t17-W-end\t18-ER-beg\t18-ER-mid\t18-ER-end\t19-D-beg\t19-D-mid\t19-D-end\t20-SILENCE\t20-SILENCE\t20-SILENCE\t20-SILENCE\t20-SILENCE\t20-SILENCE\t20-SILENCE\t20-SILENCE\t20-SILENCE\t20-SILENCE\t20-SILENCE\t20-SILENCE\t20-SILENCE\t20-SILENCE\t20-SILENCE\t20-SILENCE\t20-SILENCE\t20-SILENCE\t20-SILENCE\t20-SILENCE\t20-SILENCE\t20-SILENCE\t20-SILENCE\t20-SILENCE\t20-SILENCE\t20-SILENCE\t20-SILENCE\t20-SILENCE\t20-SILENCE\t20-SILENCE\t20-SILENCE\t20-SILENCE\t20-SILENCE\t20-SILENCE\t20-SILENCE\t20-SILENCE\t20-SILENCE\t20-SILENCE\t20-SILENCE\t20-SILENCE\t20-SILENCE\t20-SILENCE\t20-SILENCE\t20-SILENCE\t20-SILENCE\t20-SILENCE\t20-SILENCE\t20-SILENCE\t20-SILENCE\t20-SILENCE\t20-SILENCE\t20-SILENCE\t20-SILENCE\t20-SILENCE\t20-SILENCE\t20-SILENCE\t20-SILENCE\t20-SILENCE\t20-SILENCE\t20-SILENCE\t20-SILENCE\t20-SILENCE\t20-SILENCE\t20-SILENCE\t20-SILENCE\t20-SILENCE\t20-SILENCE\t20-SILENCE\t20-SILENCE\t20-SILENCE\t20-SILENCE\t20-SILENCE\t20-SILENCE\t20-SILENCE\t20-SILENCE\t20-SILENCE\t20-SILENCE\t20-SILENCE\t20-SILENCE\t20-SILENCE\t20-SILENCE\t20-SILENCE\t20-SILENCE\t20-SILENCE\t20-SILENCE\t20-SILENCE\t20-SILENCE\t20-SILENCE\t20-SILENCE\t20-SILENCE\t20-SILENCE\t20-SILENCE\t20-SILENCE\t20-SILENCE\t20-SILENCE\t20-SILENCE\t20-SILENCE\t20-SILENCE\t20-SILENCE\t20-SILENCE\t20-SILENCE\t20-SILENCE\t20-SILENCE\t20-SILENCE\t20-SILENCE\t20-SILENCE\t20-SILENCE\t20-SILENCE\t20-SILENCE\t20-SILENCE\t20-SILENCE\t20-SILENCE\t20-SILENCE\t20-SILENCE\t20-SILENCE\t20-SILENCE\t20-SILENCE\t20-SILENCE\t20-SILENCE\t20-SILENCE\t20-SILENCE\t20-SILENCE\t20-SILENCE\t20-SILENCE\t20-SILENCE\t20-SILENCE\t20-SILENCE\t20-SILENCE\t20-SILENCE\t20-SILENCE\t20-SILENCE\t20-SILENCE\t20-SILENCE\t20-SILENCE\t20-SILENCE\t20-SILENCE\t20-SILENCE\t20-SILENCE\t20-SILENCE\t20-SILENCE\t20-SILENCE\t20-SILENCE\t20-SILENCE\t20-SILENCE\t20-SILENCE\t20-SILENCE\t20-SILENCE\t20-SILENCE\t20-SILENCE\t20-SILENCE\t20-SILENCE\t20-SILENCE\t20-SILENCE\t20-SILENCE\t20-SILENCE\t_-M-AY-_-V-OY-S-_-IH-Z-_-M-AY-_-P-AE-S-W-ER-D-_-end\n",
      "100\n",
      "_-M-AY-_-V-OY-S-_-IH-Z-_-M-AY-_-P-AE-S-W-ER-D-_-start\t0-SILENCE\t0-SILENCE\t0-SILENCE\t0-SILENCE\t0-SILENCE\t0-SILENCE\t1-M-beg\t1-M-mid\t1-M-end\t1-M-end\t2-AY-beg\t2-AY-mid\t2-AY-end\t3-SILENCE\t4-V-beg\t4-V-mid\t4-V-end\t5-OY-beg\t5-OY-mid\t5-OY-end\t6-S-beg\t6-S-beg\t6-S-mid\t6-S-end\t7-SILENCE\t7-SILENCE\t7-SILENCE\t7-SILENCE\t7-SILENCE\t7-SILENCE\t7-SILENCE\t7-SILENCE\t7-SILENCE\t7-SILENCE\t7-SILENCE\t7-SILENCE\t7-SILENCE\t7-SILENCE\t7-SILENCE\t7-SILENCE\t7-SILENCE\t7-SILENCE\t7-SILENCE\t7-SILENCE\t7-SILENCE\t7-SILENCE\t7-SILENCE\t7-SILENCE\t7-SILENCE\t7-SILENCE\t7-SILENCE\t7-SILENCE\t7-SILENCE\t7-SILENCE\t7-SILENCE\t7-SILENCE\t7-SILENCE\t7-SILENCE\t7-SILENCE\t7-SILENCE\t7-SILENCE\t7-SILENCE\t7-SILENCE\t7-SILENCE\t7-SILENCE\t7-SILENCE\t7-SILENCE\t7-SILENCE\t7-SILENCE\t7-SILENCE\t7-SILENCE\t7-SILENCE\t7-SILENCE\t7-SILENCE\t7-SILENCE\t7-SILENCE\t7-SILENCE\t7-SILENCE\t7-SILENCE\t7-SILENCE\t7-SILENCE\t7-SILENCE\t7-SILENCE\t7-SILENCE\t7-SILENCE\t7-SILENCE\t7-SILENCE\t7-SILENCE\t7-SILENCE\t7-SILENCE\t7-SILENCE\t7-SILENCE\t7-SILENCE\t7-SILENCE\t7-SILENCE\t7-SILENCE\t7-SILENCE\t7-SILENCE\t7-SILENCE\t7-SILENCE\t7-SILENCE\t7-SILENCE\t7-SILENCE\t7-SILENCE\t7-SILENCE\t7-SILENCE\t7-SILENCE\t7-SILENCE\t7-SILENCE\t7-SILENCE\t7-SILENCE\t7-SILENCE\t7-SILENCE\t7-SILENCE\t7-SILENCE\t7-SILENCE\t7-SILENCE\t7-SILENCE\t7-SILENCE\t7-SILENCE\t8-IH-beg\t8-IH-mid\t8-IH-end\t9-Z-beg\t9-Z-mid\t9-Z-end\t10-SILENCE\t10-SILENCE\t10-SILENCE\t11-M-beg\t11-M-mid\t11-M-end\t12-AY-beg\t12-AY-mid\t12-AY-end\t13-SILENCE\t13-SILENCE\t13-SILENCE\t13-SILENCE\t13-SILENCE\t13-SILENCE\t14-P-beg\t14-P-mid\t14-P-end\t15-AE-beg\t15-AE-mid\t15-AE-end\t16-S-beg\t16-S-mid\t16-S-end\t17-W-beg\t17-W-mid\t17-W-end\t18-ER-beg\t18-ER-mid\t18-ER-end\t19-D-beg\t19-D-mid\t19-D-mid\t19-D-end\t20-SILENCE\t20-SILENCE\t20-SILENCE\t20-SILENCE\t20-SILENCE\t20-SILENCE\t20-SILENCE\t20-SILENCE\t20-SILENCE\t20-SILENCE\t20-SILENCE\t20-SILENCE\t20-SILENCE\t20-SILENCE\t20-SILENCE\t20-SILENCE\t20-SILENCE\t20-SILENCE\t20-SILENCE\t20-SILENCE\t20-SILENCE\t20-SILENCE\t20-SILENCE\t20-SILENCE\t20-SILENCE\t20-SILENCE\t20-SILENCE\t20-SILENCE\t20-SILENCE\t20-SILENCE\t20-SILENCE\t20-SILENCE\t20-SILENCE\t20-SILENCE\t20-SILENCE\t20-SILENCE\t20-SILENCE\t20-SILENCE\t20-SILENCE\t20-SILENCE\t20-SILENCE\t20-SILENCE\t20-SILENCE\t20-SILENCE\t20-SILENCE\t20-SILENCE\t20-SILENCE\t20-SILENCE\t20-SILENCE\t20-SILENCE\t20-SILENCE\t20-SILENCE\t20-SILENCE\t20-SILENCE\t20-SILENCE\t20-SILENCE\t20-SILENCE\t20-SILENCE\t20-SILENCE\t20-SILENCE\t20-SILENCE\t20-SILENCE\t20-SILENCE\t20-SILENCE\t20-SILENCE\t20-SILENCE\t20-SILENCE\t20-SILENCE\t20-SILENCE\t20-SILENCE\t20-SILENCE\t20-SILENCE\t20-SILENCE\t20-SILENCE\t20-SILENCE\t20-SILENCE\t20-SILENCE\t20-SILENCE\t20-SILENCE\t20-SILENCE\t20-SILENCE\t20-SILENCE\t20-SILENCE\t20-SILENCE\t20-SILENCE\t_-M-AY-_-V-OY-S-_-IH-Z-_-M-AY-_-P-AE-S-W-ER-D-_-end\n"
     ]
    }
   ],
   "source": [
    "for i in (0, 50, 100):\n",
    "    predictions = example_sentence_hmm.predict(example_features[i], algorithm='viterbi')\n",
    "    print(i)\n",
    "    print('\\t'.join(example_sentence_hmm.states[prediction].name for prediction in predictions))"
   ]
  },
  {
   "cell_type": "code",
   "execution_count": 76,
   "metadata": {
    "scrolled": true
   },
   "outputs": [
    {
     "ename": "TypeError",
     "evalue": "Cannot cast ufunc subtract output from dtype('complex128') to dtype('float64') with casting rule 'same_kind'",
     "output_type": "error",
     "traceback": [
      "\u001b[0;31m---------------------------------------------------------------------------\u001b[0m",
      "\u001b[0;31mLinAlgError\u001b[0m                               Traceback (most recent call last)",
      "\u001b[0;32mpomegranate/distributions.pyx\u001b[0m in \u001b[0;36mpomegranate.distributions.MultivariateGaussianDistribution.from_summaries\u001b[0;34m()\u001b[0m\n",
      "\u001b[0;32m/usr/local/lib/python3.5/dist-packages/scipy/linalg/decomp_cholesky.py\u001b[0m in \u001b[0;36mcholesky\u001b[0;34m(a, lower, overwrite_a, check_finite)\u001b[0m\n\u001b[1;32m     80\u001b[0m     c, lower = _cholesky(a, lower=lower, overwrite_a=overwrite_a, clean=True,\n\u001b[0;32m---> 81\u001b[0;31m                             check_finite=check_finite)\n\u001b[0m\u001b[1;32m     82\u001b[0m     \u001b[0;32mreturn\u001b[0m \u001b[0mc\u001b[0m\u001b[0;34m\u001b[0m\u001b[0m\n",
      "\u001b[0;32m/usr/local/lib/python3.5/dist-packages/scipy/linalg/decomp_cholesky.py\u001b[0m in \u001b[0;36m_cholesky\u001b[0;34m(a, lower, overwrite_a, clean, check_finite)\u001b[0m\n\u001b[1;32m     29\u001b[0m     \u001b[0;32mif\u001b[0m \u001b[0minfo\u001b[0m \u001b[0;34m>\u001b[0m \u001b[0;36m0\u001b[0m\u001b[0;34m:\u001b[0m\u001b[0;34m\u001b[0m\u001b[0m\n\u001b[0;32m---> 30\u001b[0;31m         \u001b[0;32mraise\u001b[0m \u001b[0mLinAlgError\u001b[0m\u001b[0;34m(\u001b[0m\u001b[0;34m\"%d-th leading minor not positive definite\"\u001b[0m \u001b[0;34m%\u001b[0m \u001b[0minfo\u001b[0m\u001b[0;34m)\u001b[0m\u001b[0;34m\u001b[0m\u001b[0m\n\u001b[0m\u001b[1;32m     31\u001b[0m     \u001b[0;32mif\u001b[0m \u001b[0minfo\u001b[0m \u001b[0;34m<\u001b[0m \u001b[0;36m0\u001b[0m\u001b[0;34m:\u001b[0m\u001b[0;34m\u001b[0m\u001b[0m\n",
      "\u001b[0;31mLinAlgError\u001b[0m: 23-th leading minor not positive definite",
      "\nDuring handling of the above exception, another exception occurred:\n",
      "\u001b[0;31mTypeError\u001b[0m                                 Traceback (most recent call last)",
      "\u001b[0;32mpomegranate/bayes.pyx\u001b[0m in \u001b[0;36mpomegranate.bayes.BayesModel.from_summaries\u001b[0;34m()\u001b[0m\n",
      "\u001b[0;32mpomegranate/distributions.pyx\u001b[0m in \u001b[0;36mpomegranate.distributions.MultivariateGaussianDistribution.from_summaries\u001b[0;34m()\u001b[0m\n",
      "\u001b[0;31mTypeError\u001b[0m: Cannot cast ufunc subtract output from dtype('complex128') to dtype('float64') with casting rule 'same_kind'"
     ]
    },
    {
     "name": "stderr",
     "output_type": "stream",
     "text": [
      "Exception ignored in: 'pomegranate.hmm.HiddenMarkovModel._from_summaries'\n",
      "Traceback (most recent call last):\n",
      "  File \"pomegranate/bayes.pyx\", line 710, in pomegranate.bayes.BayesModel.from_summaries\n",
      "  File \"pomegranate/distributions.pyx\", line 2259, in pomegranate.distributions.MultivariateGaussianDistribution.from_summaries\n",
      "TypeError: Cannot cast ufunc subtract output from dtype('complex128') to dtype('float64') with casting rule 'same_kind'\n"
     ]
    },
    {
     "ename": "TypeError",
     "evalue": "Cannot cast ufunc subtract output from dtype('complex128') to dtype('float64') with casting rule 'same_kind'",
     "output_type": "error",
     "traceback": [
      "\u001b[0;31m---------------------------------------------------------------------------\u001b[0m",
      "\u001b[0;31mLinAlgError\u001b[0m                               Traceback (most recent call last)",
      "\u001b[0;32mpomegranate/distributions.pyx\u001b[0m in \u001b[0;36mpomegranate.distributions.MultivariateGaussianDistribution.from_summaries\u001b[0;34m()\u001b[0m\n",
      "\u001b[0;32m/usr/local/lib/python3.5/dist-packages/scipy/linalg/decomp_cholesky.py\u001b[0m in \u001b[0;36mcholesky\u001b[0;34m(a, lower, overwrite_a, check_finite)\u001b[0m\n\u001b[1;32m     80\u001b[0m     c, lower = _cholesky(a, lower=lower, overwrite_a=overwrite_a, clean=True,\n\u001b[0;32m---> 81\u001b[0;31m                             check_finite=check_finite)\n\u001b[0m\u001b[1;32m     82\u001b[0m     \u001b[0;32mreturn\u001b[0m \u001b[0mc\u001b[0m\u001b[0;34m\u001b[0m\u001b[0m\n",
      "\u001b[0;32m/usr/local/lib/python3.5/dist-packages/scipy/linalg/decomp_cholesky.py\u001b[0m in \u001b[0;36m_cholesky\u001b[0;34m(a, lower, overwrite_a, clean, check_finite)\u001b[0m\n\u001b[1;32m     29\u001b[0m     \u001b[0;32mif\u001b[0m \u001b[0minfo\u001b[0m \u001b[0;34m>\u001b[0m \u001b[0;36m0\u001b[0m\u001b[0;34m:\u001b[0m\u001b[0;34m\u001b[0m\u001b[0m\n\u001b[0;32m---> 30\u001b[0;31m         \u001b[0;32mraise\u001b[0m \u001b[0mLinAlgError\u001b[0m\u001b[0;34m(\u001b[0m\u001b[0;34m\"%d-th leading minor not positive definite\"\u001b[0m \u001b[0;34m%\u001b[0m \u001b[0minfo\u001b[0m\u001b[0;34m)\u001b[0m\u001b[0;34m\u001b[0m\u001b[0m\n\u001b[0m\u001b[1;32m     31\u001b[0m     \u001b[0;32mif\u001b[0m \u001b[0minfo\u001b[0m \u001b[0;34m<\u001b[0m \u001b[0;36m0\u001b[0m\u001b[0;34m:\u001b[0m\u001b[0;34m\u001b[0m\u001b[0m\n",
      "\u001b[0;31mLinAlgError\u001b[0m: 23-th leading minor not positive definite",
      "\nDuring handling of the above exception, another exception occurred:\n",
      "\u001b[0;31mTypeError\u001b[0m                                 Traceback (most recent call last)",
      "\u001b[0;32mpomegranate/bayes.pyx\u001b[0m in \u001b[0;36mpomegranate.bayes.BayesModel.from_summaries\u001b[0;34m()\u001b[0m\n",
      "\u001b[0;32mpomegranate/distributions.pyx\u001b[0m in \u001b[0;36mpomegranate.distributions.MultivariateGaussianDistribution.from_summaries\u001b[0;34m()\u001b[0m\n",
      "\u001b[0;31mTypeError\u001b[0m: Cannot cast ufunc subtract output from dtype('complex128') to dtype('float64') with casting rule 'same_kind'"
     ]
    },
    {
     "name": "stderr",
     "output_type": "stream",
     "text": [
      "Exception ignored in: 'pomegranate.hmm.HiddenMarkovModel._from_summaries'\n",
      "Traceback (most recent call last):\n",
      "  File \"pomegranate/bayes.pyx\", line 710, in pomegranate.bayes.BayesModel.from_summaries\n",
      "  File \"pomegranate/distributions.pyx\", line 2259, in pomegranate.distributions.MultivariateGaussianDistribution.from_summaries\n",
      "TypeError: Cannot cast ufunc subtract output from dtype('complex128') to dtype('float64') with casting rule 'same_kind'\n"
     ]
    },
    {
     "name": "stdout",
     "output_type": "stream",
     "text": [
      "[1] Improvement: 4.373646683990955\tTime (s): 522.3\n"
     ]
    },
    {
     "ename": "TypeError",
     "evalue": "Cannot cast ufunc subtract output from dtype('complex128') to dtype('float64') with casting rule 'same_kind'",
     "output_type": "error",
     "traceback": [
      "\u001b[0;31m---------------------------------------------------------------------------\u001b[0m",
      "\u001b[0;31mLinAlgError\u001b[0m                               Traceback (most recent call last)",
      "\u001b[0;32mpomegranate/distributions.pyx\u001b[0m in \u001b[0;36mpomegranate.distributions.MultivariateGaussianDistribution.from_summaries\u001b[0;34m()\u001b[0m\n",
      "\u001b[0;32m/usr/local/lib/python3.5/dist-packages/scipy/linalg/decomp_cholesky.py\u001b[0m in \u001b[0;36mcholesky\u001b[0;34m(a, lower, overwrite_a, check_finite)\u001b[0m\n\u001b[1;32m     80\u001b[0m     c, lower = _cholesky(a, lower=lower, overwrite_a=overwrite_a, clean=True,\n\u001b[0;32m---> 81\u001b[0;31m                             check_finite=check_finite)\n\u001b[0m\u001b[1;32m     82\u001b[0m     \u001b[0;32mreturn\u001b[0m \u001b[0mc\u001b[0m\u001b[0;34m\u001b[0m\u001b[0m\n",
      "\u001b[0;32m/usr/local/lib/python3.5/dist-packages/scipy/linalg/decomp_cholesky.py\u001b[0m in \u001b[0;36m_cholesky\u001b[0;34m(a, lower, overwrite_a, clean, check_finite)\u001b[0m\n\u001b[1;32m     29\u001b[0m     \u001b[0;32mif\u001b[0m \u001b[0minfo\u001b[0m \u001b[0;34m>\u001b[0m \u001b[0;36m0\u001b[0m\u001b[0;34m:\u001b[0m\u001b[0;34m\u001b[0m\u001b[0m\n\u001b[0;32m---> 30\u001b[0;31m         \u001b[0;32mraise\u001b[0m \u001b[0mLinAlgError\u001b[0m\u001b[0;34m(\u001b[0m\u001b[0;34m\"%d-th leading minor not positive definite\"\u001b[0m \u001b[0;34m%\u001b[0m \u001b[0minfo\u001b[0m\u001b[0;34m)\u001b[0m\u001b[0;34m\u001b[0m\u001b[0m\n\u001b[0m\u001b[1;32m     31\u001b[0m     \u001b[0;32mif\u001b[0m \u001b[0minfo\u001b[0m \u001b[0;34m<\u001b[0m \u001b[0;36m0\u001b[0m\u001b[0;34m:\u001b[0m\u001b[0;34m\u001b[0m\u001b[0m\n",
      "\u001b[0;31mLinAlgError\u001b[0m: 23-th leading minor not positive definite",
      "\nDuring handling of the above exception, another exception occurred:\n",
      "\u001b[0;31mTypeError\u001b[0m                                 Traceback (most recent call last)",
      "\u001b[0;32mpomegranate/bayes.pyx\u001b[0m in \u001b[0;36mpomegranate.bayes.BayesModel.from_summaries\u001b[0;34m()\u001b[0m\n",
      "\u001b[0;32mpomegranate/distributions.pyx\u001b[0m in \u001b[0;36mpomegranate.distributions.MultivariateGaussianDistribution.from_summaries\u001b[0;34m()\u001b[0m\n",
      "\u001b[0;31mTypeError\u001b[0m: Cannot cast ufunc subtract output from dtype('complex128') to dtype('float64') with casting rule 'same_kind'"
     ]
    },
    {
     "name": "stderr",
     "output_type": "stream",
     "text": [
      "Exception ignored in: 'pomegranate.hmm.HiddenMarkovModel._from_summaries'\n",
      "Traceback (most recent call last):\n",
      "  File \"pomegranate/bayes.pyx\", line 710, in pomegranate.bayes.BayesModel.from_summaries\n",
      "  File \"pomegranate/distributions.pyx\", line 2259, in pomegranate.distributions.MultivariateGaussianDistribution.from_summaries\n",
      "TypeError: Cannot cast ufunc subtract output from dtype('complex128') to dtype('float64') with casting rule 'same_kind'\n"
     ]
    },
    {
     "name": "stdout",
     "output_type": "stream",
     "text": [
      "[2] Improvement: 3.142620590282604\tTime (s): 525.5\n"
     ]
    },
    {
     "ename": "TypeError",
     "evalue": "Cannot cast ufunc subtract output from dtype('complex128') to dtype('float64') with casting rule 'same_kind'",
     "output_type": "error",
     "traceback": [
      "\u001b[0;31m---------------------------------------------------------------------------\u001b[0m",
      "\u001b[0;31mLinAlgError\u001b[0m                               Traceback (most recent call last)",
      "\u001b[0;32mpomegranate/distributions.pyx\u001b[0m in \u001b[0;36mpomegranate.distributions.MultivariateGaussianDistribution.from_summaries\u001b[0;34m()\u001b[0m\n",
      "\u001b[0;32m/usr/local/lib/python3.5/dist-packages/scipy/linalg/decomp_cholesky.py\u001b[0m in \u001b[0;36mcholesky\u001b[0;34m(a, lower, overwrite_a, check_finite)\u001b[0m\n\u001b[1;32m     80\u001b[0m     c, lower = _cholesky(a, lower=lower, overwrite_a=overwrite_a, clean=True,\n\u001b[0;32m---> 81\u001b[0;31m                             check_finite=check_finite)\n\u001b[0m\u001b[1;32m     82\u001b[0m     \u001b[0;32mreturn\u001b[0m \u001b[0mc\u001b[0m\u001b[0;34m\u001b[0m\u001b[0m\n",
      "\u001b[0;32m/usr/local/lib/python3.5/dist-packages/scipy/linalg/decomp_cholesky.py\u001b[0m in \u001b[0;36m_cholesky\u001b[0;34m(a, lower, overwrite_a, clean, check_finite)\u001b[0m\n\u001b[1;32m     29\u001b[0m     \u001b[0;32mif\u001b[0m \u001b[0minfo\u001b[0m \u001b[0;34m>\u001b[0m \u001b[0;36m0\u001b[0m\u001b[0;34m:\u001b[0m\u001b[0;34m\u001b[0m\u001b[0m\n\u001b[0;32m---> 30\u001b[0;31m         \u001b[0;32mraise\u001b[0m \u001b[0mLinAlgError\u001b[0m\u001b[0;34m(\u001b[0m\u001b[0;34m\"%d-th leading minor not positive definite\"\u001b[0m \u001b[0;34m%\u001b[0m \u001b[0minfo\u001b[0m\u001b[0;34m)\u001b[0m\u001b[0;34m\u001b[0m\u001b[0m\n\u001b[0m\u001b[1;32m     31\u001b[0m     \u001b[0;32mif\u001b[0m \u001b[0minfo\u001b[0m \u001b[0;34m<\u001b[0m \u001b[0;36m0\u001b[0m\u001b[0;34m:\u001b[0m\u001b[0;34m\u001b[0m\u001b[0m\n",
      "\u001b[0;31mLinAlgError\u001b[0m: 23-th leading minor not positive definite",
      "\nDuring handling of the above exception, another exception occurred:\n",
      "\u001b[0;31mTypeError\u001b[0m                                 Traceback (most recent call last)",
      "\u001b[0;32mpomegranate/bayes.pyx\u001b[0m in \u001b[0;36mpomegranate.bayes.BayesModel.from_summaries\u001b[0;34m()\u001b[0m\n",
      "\u001b[0;32mpomegranate/distributions.pyx\u001b[0m in \u001b[0;36mpomegranate.distributions.MultivariateGaussianDistribution.from_summaries\u001b[0;34m()\u001b[0m\n",
      "\u001b[0;31mTypeError\u001b[0m: Cannot cast ufunc subtract output from dtype('complex128') to dtype('float64') with casting rule 'same_kind'"
     ]
    },
    {
     "name": "stderr",
     "output_type": "stream",
     "text": [
      "Exception ignored in: 'pomegranate.hmm.HiddenMarkovModel._from_summaries'\n",
      "Traceback (most recent call last):\n",
      "  File \"pomegranate/bayes.pyx\", line 710, in pomegranate.bayes.BayesModel.from_summaries\n",
      "  File \"pomegranate/distributions.pyx\", line 2259, in pomegranate.distributions.MultivariateGaussianDistribution.from_summaries\n",
      "TypeError: Cannot cast ufunc subtract output from dtype('complex128') to dtype('float64') with casting rule 'same_kind'\n"
     ]
    },
    {
     "name": "stdout",
     "output_type": "stream",
     "text": [
      "[3] Improvement: 2.783811260247603\tTime (s): 530.9\n"
     ]
    },
    {
     "ename": "TypeError",
     "evalue": "Cannot cast ufunc subtract output from dtype('complex128') to dtype('float64') with casting rule 'same_kind'",
     "output_type": "error",
     "traceback": [
      "\u001b[0;31m---------------------------------------------------------------------------\u001b[0m",
      "\u001b[0;31mLinAlgError\u001b[0m                               Traceback (most recent call last)",
      "\u001b[0;32mpomegranate/distributions.pyx\u001b[0m in \u001b[0;36mpomegranate.distributions.MultivariateGaussianDistribution.from_summaries\u001b[0;34m()\u001b[0m\n",
      "\u001b[0;32m/usr/local/lib/python3.5/dist-packages/scipy/linalg/decomp_cholesky.py\u001b[0m in \u001b[0;36mcholesky\u001b[0;34m(a, lower, overwrite_a, check_finite)\u001b[0m\n\u001b[1;32m     80\u001b[0m     c, lower = _cholesky(a, lower=lower, overwrite_a=overwrite_a, clean=True,\n\u001b[0;32m---> 81\u001b[0;31m                             check_finite=check_finite)\n\u001b[0m\u001b[1;32m     82\u001b[0m     \u001b[0;32mreturn\u001b[0m \u001b[0mc\u001b[0m\u001b[0;34m\u001b[0m\u001b[0m\n",
      "\u001b[0;32m/usr/local/lib/python3.5/dist-packages/scipy/linalg/decomp_cholesky.py\u001b[0m in \u001b[0;36m_cholesky\u001b[0;34m(a, lower, overwrite_a, clean, check_finite)\u001b[0m\n\u001b[1;32m     29\u001b[0m     \u001b[0;32mif\u001b[0m \u001b[0minfo\u001b[0m \u001b[0;34m>\u001b[0m \u001b[0;36m0\u001b[0m\u001b[0;34m:\u001b[0m\u001b[0;34m\u001b[0m\u001b[0m\n\u001b[0;32m---> 30\u001b[0;31m         \u001b[0;32mraise\u001b[0m \u001b[0mLinAlgError\u001b[0m\u001b[0;34m(\u001b[0m\u001b[0;34m\"%d-th leading minor not positive definite\"\u001b[0m \u001b[0;34m%\u001b[0m \u001b[0minfo\u001b[0m\u001b[0;34m)\u001b[0m\u001b[0;34m\u001b[0m\u001b[0m\n\u001b[0m\u001b[1;32m     31\u001b[0m     \u001b[0;32mif\u001b[0m \u001b[0minfo\u001b[0m \u001b[0;34m<\u001b[0m \u001b[0;36m0\u001b[0m\u001b[0;34m:\u001b[0m\u001b[0;34m\u001b[0m\u001b[0m\n",
      "\u001b[0;31mLinAlgError\u001b[0m: 23-th leading minor not positive definite",
      "\nDuring handling of the above exception, another exception occurred:\n",
      "\u001b[0;31mTypeError\u001b[0m                                 Traceback (most recent call last)",
      "\u001b[0;32mpomegranate/bayes.pyx\u001b[0m in \u001b[0;36mpomegranate.bayes.BayesModel.from_summaries\u001b[0;34m()\u001b[0m\n",
      "\u001b[0;32mpomegranate/distributions.pyx\u001b[0m in \u001b[0;36mpomegranate.distributions.MultivariateGaussianDistribution.from_summaries\u001b[0;34m()\u001b[0m\n",
      "\u001b[0;31mTypeError\u001b[0m: Cannot cast ufunc subtract output from dtype('complex128') to dtype('float64') with casting rule 'same_kind'"
     ]
    },
    {
     "name": "stderr",
     "output_type": "stream",
     "text": [
      "Exception ignored in: 'pomegranate.hmm.HiddenMarkovModel._from_summaries'\n",
      "Traceback (most recent call last):\n",
      "  File \"pomegranate/bayes.pyx\", line 710, in pomegranate.bayes.BayesModel.from_summaries\n",
      "  File \"pomegranate/distributions.pyx\", line 2259, in pomegranate.distributions.MultivariateGaussianDistribution.from_summaries\n",
      "TypeError: Cannot cast ufunc subtract output from dtype('complex128') to dtype('float64') with casting rule 'same_kind'\n"
     ]
    },
    {
     "name": "stdout",
     "output_type": "stream",
     "text": [
      "[4] Improvement: 7.239276696462184\tTime (s): 530.8\n"
     ]
    },
    {
     "ename": "TypeError",
     "evalue": "Cannot cast ufunc subtract output from dtype('complex128') to dtype('float64') with casting rule 'same_kind'",
     "output_type": "error",
     "traceback": [
      "\u001b[0;31m---------------------------------------------------------------------------\u001b[0m",
      "\u001b[0;31mLinAlgError\u001b[0m                               Traceback (most recent call last)",
      "\u001b[0;32mpomegranate/distributions.pyx\u001b[0m in \u001b[0;36mpomegranate.distributions.MultivariateGaussianDistribution.from_summaries\u001b[0;34m()\u001b[0m\n",
      "\u001b[0;32m/usr/local/lib/python3.5/dist-packages/scipy/linalg/decomp_cholesky.py\u001b[0m in \u001b[0;36mcholesky\u001b[0;34m(a, lower, overwrite_a, check_finite)\u001b[0m\n\u001b[1;32m     80\u001b[0m     c, lower = _cholesky(a, lower=lower, overwrite_a=overwrite_a, clean=True,\n\u001b[0;32m---> 81\u001b[0;31m                             check_finite=check_finite)\n\u001b[0m\u001b[1;32m     82\u001b[0m     \u001b[0;32mreturn\u001b[0m \u001b[0mc\u001b[0m\u001b[0;34m\u001b[0m\u001b[0m\n",
      "\u001b[0;32m/usr/local/lib/python3.5/dist-packages/scipy/linalg/decomp_cholesky.py\u001b[0m in \u001b[0;36m_cholesky\u001b[0;34m(a, lower, overwrite_a, clean, check_finite)\u001b[0m\n\u001b[1;32m     29\u001b[0m     \u001b[0;32mif\u001b[0m \u001b[0minfo\u001b[0m \u001b[0;34m>\u001b[0m \u001b[0;36m0\u001b[0m\u001b[0;34m:\u001b[0m\u001b[0;34m\u001b[0m\u001b[0m\n\u001b[0;32m---> 30\u001b[0;31m         \u001b[0;32mraise\u001b[0m \u001b[0mLinAlgError\u001b[0m\u001b[0;34m(\u001b[0m\u001b[0;34m\"%d-th leading minor not positive definite\"\u001b[0m \u001b[0;34m%\u001b[0m \u001b[0minfo\u001b[0m\u001b[0;34m)\u001b[0m\u001b[0;34m\u001b[0m\u001b[0m\n\u001b[0m\u001b[1;32m     31\u001b[0m     \u001b[0;32mif\u001b[0m \u001b[0minfo\u001b[0m \u001b[0;34m<\u001b[0m \u001b[0;36m0\u001b[0m\u001b[0;34m:\u001b[0m\u001b[0;34m\u001b[0m\u001b[0m\n",
      "\u001b[0;31mLinAlgError\u001b[0m: 23-th leading minor not positive definite",
      "\nDuring handling of the above exception, another exception occurred:\n",
      "\u001b[0;31mTypeError\u001b[0m                                 Traceback (most recent call last)",
      "\u001b[0;32mpomegranate/bayes.pyx\u001b[0m in \u001b[0;36mpomegranate.bayes.BayesModel.from_summaries\u001b[0;34m()\u001b[0m\n",
      "\u001b[0;32mpomegranate/distributions.pyx\u001b[0m in \u001b[0;36mpomegranate.distributions.MultivariateGaussianDistribution.from_summaries\u001b[0;34m()\u001b[0m\n",
      "\u001b[0;31mTypeError\u001b[0m: Cannot cast ufunc subtract output from dtype('complex128') to dtype('float64') with casting rule 'same_kind'"
     ]
    },
    {
     "name": "stderr",
     "output_type": "stream",
     "text": [
      "Exception ignored in: 'pomegranate.hmm.HiddenMarkovModel._from_summaries'\n",
      "Traceback (most recent call last):\n",
      "  File \"pomegranate/bayes.pyx\", line 710, in pomegranate.bayes.BayesModel.from_summaries\n",
      "  File \"pomegranate/distributions.pyx\", line 2259, in pomegranate.distributions.MultivariateGaussianDistribution.from_summaries\n",
      "TypeError: Cannot cast ufunc subtract output from dtype('complex128') to dtype('float64') with casting rule 'same_kind'\n"
     ]
    },
    {
     "name": "stdout",
     "output_type": "stream",
     "text": [
      "[5] Improvement: 3.898073144024238\tTime (s): 516.5\n"
     ]
    },
    {
     "ename": "TypeError",
     "evalue": "Cannot cast ufunc subtract output from dtype('complex128') to dtype('float64') with casting rule 'same_kind'",
     "output_type": "error",
     "traceback": [
      "\u001b[0;31m---------------------------------------------------------------------------\u001b[0m",
      "\u001b[0;31mLinAlgError\u001b[0m                               Traceback (most recent call last)",
      "\u001b[0;32mpomegranate/distributions.pyx\u001b[0m in \u001b[0;36mpomegranate.distributions.MultivariateGaussianDistribution.from_summaries\u001b[0;34m()\u001b[0m\n",
      "\u001b[0;32m/usr/local/lib/python3.5/dist-packages/scipy/linalg/decomp_cholesky.py\u001b[0m in \u001b[0;36mcholesky\u001b[0;34m(a, lower, overwrite_a, check_finite)\u001b[0m\n\u001b[1;32m     80\u001b[0m     c, lower = _cholesky(a, lower=lower, overwrite_a=overwrite_a, clean=True,\n\u001b[0;32m---> 81\u001b[0;31m                             check_finite=check_finite)\n\u001b[0m\u001b[1;32m     82\u001b[0m     \u001b[0;32mreturn\u001b[0m \u001b[0mc\u001b[0m\u001b[0;34m\u001b[0m\u001b[0m\n",
      "\u001b[0;32m/usr/local/lib/python3.5/dist-packages/scipy/linalg/decomp_cholesky.py\u001b[0m in \u001b[0;36m_cholesky\u001b[0;34m(a, lower, overwrite_a, clean, check_finite)\u001b[0m\n\u001b[1;32m     29\u001b[0m     \u001b[0;32mif\u001b[0m \u001b[0minfo\u001b[0m \u001b[0;34m>\u001b[0m \u001b[0;36m0\u001b[0m\u001b[0;34m:\u001b[0m\u001b[0;34m\u001b[0m\u001b[0m\n\u001b[0;32m---> 30\u001b[0;31m         \u001b[0;32mraise\u001b[0m \u001b[0mLinAlgError\u001b[0m\u001b[0;34m(\u001b[0m\u001b[0;34m\"%d-th leading minor not positive definite\"\u001b[0m \u001b[0;34m%\u001b[0m \u001b[0minfo\u001b[0m\u001b[0;34m)\u001b[0m\u001b[0;34m\u001b[0m\u001b[0m\n\u001b[0m\u001b[1;32m     31\u001b[0m     \u001b[0;32mif\u001b[0m \u001b[0minfo\u001b[0m \u001b[0;34m<\u001b[0m \u001b[0;36m0\u001b[0m\u001b[0;34m:\u001b[0m\u001b[0;34m\u001b[0m\u001b[0m\n",
      "\u001b[0;31mLinAlgError\u001b[0m: 23-th leading minor not positive definite",
      "\nDuring handling of the above exception, another exception occurred:\n",
      "\u001b[0;31mTypeError\u001b[0m                                 Traceback (most recent call last)",
      "\u001b[0;32mpomegranate/bayes.pyx\u001b[0m in \u001b[0;36mpomegranate.bayes.BayesModel.from_summaries\u001b[0;34m()\u001b[0m\n",
      "\u001b[0;32mpomegranate/distributions.pyx\u001b[0m in \u001b[0;36mpomegranate.distributions.MultivariateGaussianDistribution.from_summaries\u001b[0;34m()\u001b[0m\n",
      "\u001b[0;31mTypeError\u001b[0m: Cannot cast ufunc subtract output from dtype('complex128') to dtype('float64') with casting rule 'same_kind'"
     ]
    },
    {
     "name": "stderr",
     "output_type": "stream",
     "text": [
      "Exception ignored in: 'pomegranate.hmm.HiddenMarkovModel._from_summaries'\n",
      "Traceback (most recent call last):\n",
      "  File \"pomegranate/bayes.pyx\", line 710, in pomegranate.bayes.BayesModel.from_summaries\n",
      "  File \"pomegranate/distributions.pyx\", line 2259, in pomegranate.distributions.MultivariateGaussianDistribution.from_summaries\n",
      "TypeError: Cannot cast ufunc subtract output from dtype('complex128') to dtype('float64') with casting rule 'same_kind'\n"
     ]
    },
    {
     "name": "stdout",
     "output_type": "stream",
     "text": [
      "[6] Improvement: 0.22262321808375418\tTime (s): 530.8\n"
     ]
    },
    {
     "ename": "TypeError",
     "evalue": "Cannot cast ufunc subtract output from dtype('complex128') to dtype('float64') with casting rule 'same_kind'",
     "output_type": "error",
     "traceback": [
      "\u001b[0;31m---------------------------------------------------------------------------\u001b[0m",
      "\u001b[0;31mLinAlgError\u001b[0m                               Traceback (most recent call last)",
      "\u001b[0;32mpomegranate/distributions.pyx\u001b[0m in \u001b[0;36mpomegranate.distributions.MultivariateGaussianDistribution.from_summaries\u001b[0;34m()\u001b[0m\n",
      "\u001b[0;32m/usr/local/lib/python3.5/dist-packages/scipy/linalg/decomp_cholesky.py\u001b[0m in \u001b[0;36mcholesky\u001b[0;34m(a, lower, overwrite_a, check_finite)\u001b[0m\n\u001b[1;32m     80\u001b[0m     c, lower = _cholesky(a, lower=lower, overwrite_a=overwrite_a, clean=True,\n\u001b[0;32m---> 81\u001b[0;31m                             check_finite=check_finite)\n\u001b[0m\u001b[1;32m     82\u001b[0m     \u001b[0;32mreturn\u001b[0m \u001b[0mc\u001b[0m\u001b[0;34m\u001b[0m\u001b[0m\n",
      "\u001b[0;32m/usr/local/lib/python3.5/dist-packages/scipy/linalg/decomp_cholesky.py\u001b[0m in \u001b[0;36m_cholesky\u001b[0;34m(a, lower, overwrite_a, clean, check_finite)\u001b[0m\n\u001b[1;32m     29\u001b[0m     \u001b[0;32mif\u001b[0m \u001b[0minfo\u001b[0m \u001b[0;34m>\u001b[0m \u001b[0;36m0\u001b[0m\u001b[0;34m:\u001b[0m\u001b[0;34m\u001b[0m\u001b[0m\n\u001b[0;32m---> 30\u001b[0;31m         \u001b[0;32mraise\u001b[0m \u001b[0mLinAlgError\u001b[0m\u001b[0;34m(\u001b[0m\u001b[0;34m\"%d-th leading minor not positive definite\"\u001b[0m \u001b[0;34m%\u001b[0m \u001b[0minfo\u001b[0m\u001b[0;34m)\u001b[0m\u001b[0;34m\u001b[0m\u001b[0m\n\u001b[0m\u001b[1;32m     31\u001b[0m     \u001b[0;32mif\u001b[0m \u001b[0minfo\u001b[0m \u001b[0;34m<\u001b[0m \u001b[0;36m0\u001b[0m\u001b[0;34m:\u001b[0m\u001b[0;34m\u001b[0m\u001b[0m\n",
      "\u001b[0;31mLinAlgError\u001b[0m: 23-th leading minor not positive definite",
      "\nDuring handling of the above exception, another exception occurred:\n",
      "\u001b[0;31mTypeError\u001b[0m                                 Traceback (most recent call last)",
      "\u001b[0;32mpomegranate/bayes.pyx\u001b[0m in \u001b[0;36mpomegranate.bayes.BayesModel.from_summaries\u001b[0;34m()\u001b[0m\n",
      "\u001b[0;32mpomegranate/distributions.pyx\u001b[0m in \u001b[0;36mpomegranate.distributions.MultivariateGaussianDistribution.from_summaries\u001b[0;34m()\u001b[0m\n",
      "\u001b[0;31mTypeError\u001b[0m: Cannot cast ufunc subtract output from dtype('complex128') to dtype('float64') with casting rule 'same_kind'"
     ]
    },
    {
     "name": "stderr",
     "output_type": "stream",
     "text": [
      "Exception ignored in: 'pomegranate.hmm.HiddenMarkovModel._from_summaries'\n",
      "Traceback (most recent call last):\n",
      "  File \"pomegranate/bayes.pyx\", line 710, in pomegranate.bayes.BayesModel.from_summaries\n",
      "  File \"pomegranate/distributions.pyx\", line 2259, in pomegranate.distributions.MultivariateGaussianDistribution.from_summaries\n",
      "TypeError: Cannot cast ufunc subtract output from dtype('complex128') to dtype('float64') with casting rule 'same_kind'\n"
     ]
    },
    {
     "name": "stdout",
     "output_type": "stream",
     "text": [
      "[7] Improvement: 0.10438551963306963\tTime (s): 532.6\n"
     ]
    },
    {
     "ename": "TypeError",
     "evalue": "Cannot cast ufunc subtract output from dtype('complex128') to dtype('float64') with casting rule 'same_kind'",
     "output_type": "error",
     "traceback": [
      "\u001b[0;31m---------------------------------------------------------------------------\u001b[0m",
      "\u001b[0;31mLinAlgError\u001b[0m                               Traceback (most recent call last)",
      "\u001b[0;32mpomegranate/distributions.pyx\u001b[0m in \u001b[0;36mpomegranate.distributions.MultivariateGaussianDistribution.from_summaries\u001b[0;34m()\u001b[0m\n",
      "\u001b[0;32m/usr/local/lib/python3.5/dist-packages/scipy/linalg/decomp_cholesky.py\u001b[0m in \u001b[0;36mcholesky\u001b[0;34m(a, lower, overwrite_a, check_finite)\u001b[0m\n\u001b[1;32m     80\u001b[0m     c, lower = _cholesky(a, lower=lower, overwrite_a=overwrite_a, clean=True,\n\u001b[0;32m---> 81\u001b[0;31m                             check_finite=check_finite)\n\u001b[0m\u001b[1;32m     82\u001b[0m     \u001b[0;32mreturn\u001b[0m \u001b[0mc\u001b[0m\u001b[0;34m\u001b[0m\u001b[0m\n",
      "\u001b[0;32m/usr/local/lib/python3.5/dist-packages/scipy/linalg/decomp_cholesky.py\u001b[0m in \u001b[0;36m_cholesky\u001b[0;34m(a, lower, overwrite_a, clean, check_finite)\u001b[0m\n\u001b[1;32m     29\u001b[0m     \u001b[0;32mif\u001b[0m \u001b[0minfo\u001b[0m \u001b[0;34m>\u001b[0m \u001b[0;36m0\u001b[0m\u001b[0;34m:\u001b[0m\u001b[0;34m\u001b[0m\u001b[0m\n\u001b[0;32m---> 30\u001b[0;31m         \u001b[0;32mraise\u001b[0m \u001b[0mLinAlgError\u001b[0m\u001b[0;34m(\u001b[0m\u001b[0;34m\"%d-th leading minor not positive definite\"\u001b[0m \u001b[0;34m%\u001b[0m \u001b[0minfo\u001b[0m\u001b[0;34m)\u001b[0m\u001b[0;34m\u001b[0m\u001b[0m\n\u001b[0m\u001b[1;32m     31\u001b[0m     \u001b[0;32mif\u001b[0m \u001b[0minfo\u001b[0m \u001b[0;34m<\u001b[0m \u001b[0;36m0\u001b[0m\u001b[0;34m:\u001b[0m\u001b[0;34m\u001b[0m\u001b[0m\n",
      "\u001b[0;31mLinAlgError\u001b[0m: 23-th leading minor not positive definite",
      "\nDuring handling of the above exception, another exception occurred:\n",
      "\u001b[0;31mTypeError\u001b[0m                                 Traceback (most recent call last)",
      "\u001b[0;32mpomegranate/bayes.pyx\u001b[0m in \u001b[0;36mpomegranate.bayes.BayesModel.from_summaries\u001b[0;34m()\u001b[0m\n",
      "\u001b[0;32mpomegranate/distributions.pyx\u001b[0m in \u001b[0;36mpomegranate.distributions.MultivariateGaussianDistribution.from_summaries\u001b[0;34m()\u001b[0m\n",
      "\u001b[0;31mTypeError\u001b[0m: Cannot cast ufunc subtract output from dtype('complex128') to dtype('float64') with casting rule 'same_kind'"
     ]
    },
    {
     "name": "stderr",
     "output_type": "stream",
     "text": [
      "Exception ignored in: 'pomegranate.hmm.HiddenMarkovModel._from_summaries'\n",
      "Traceback (most recent call last):\n",
      "  File \"pomegranate/bayes.pyx\", line 710, in pomegranate.bayes.BayesModel.from_summaries\n",
      "  File \"pomegranate/distributions.pyx\", line 2259, in pomegranate.distributions.MultivariateGaussianDistribution.from_summaries\n",
      "TypeError: Cannot cast ufunc subtract output from dtype('complex128') to dtype('float64') with casting rule 'same_kind'\n"
     ]
    },
    {
     "name": "stdout",
     "output_type": "stream",
     "text": [
      "[8] Improvement: 0.14116176054812968\tTime (s): 528.2\n"
     ]
    },
    {
     "ename": "TypeError",
     "evalue": "Cannot cast ufunc subtract output from dtype('complex128') to dtype('float64') with casting rule 'same_kind'",
     "output_type": "error",
     "traceback": [
      "\u001b[0;31m---------------------------------------------------------------------------\u001b[0m",
      "\u001b[0;31mLinAlgError\u001b[0m                               Traceback (most recent call last)",
      "\u001b[0;32mpomegranate/distributions.pyx\u001b[0m in \u001b[0;36mpomegranate.distributions.MultivariateGaussianDistribution.from_summaries\u001b[0;34m()\u001b[0m\n",
      "\u001b[0;32m/usr/local/lib/python3.5/dist-packages/scipy/linalg/decomp_cholesky.py\u001b[0m in \u001b[0;36mcholesky\u001b[0;34m(a, lower, overwrite_a, check_finite)\u001b[0m\n\u001b[1;32m     80\u001b[0m     c, lower = _cholesky(a, lower=lower, overwrite_a=overwrite_a, clean=True,\n\u001b[0;32m---> 81\u001b[0;31m                             check_finite=check_finite)\n\u001b[0m\u001b[1;32m     82\u001b[0m     \u001b[0;32mreturn\u001b[0m \u001b[0mc\u001b[0m\u001b[0;34m\u001b[0m\u001b[0m\n",
      "\u001b[0;32m/usr/local/lib/python3.5/dist-packages/scipy/linalg/decomp_cholesky.py\u001b[0m in \u001b[0;36m_cholesky\u001b[0;34m(a, lower, overwrite_a, clean, check_finite)\u001b[0m\n\u001b[1;32m     29\u001b[0m     \u001b[0;32mif\u001b[0m \u001b[0minfo\u001b[0m \u001b[0;34m>\u001b[0m \u001b[0;36m0\u001b[0m\u001b[0;34m:\u001b[0m\u001b[0;34m\u001b[0m\u001b[0m\n\u001b[0;32m---> 30\u001b[0;31m         \u001b[0;32mraise\u001b[0m \u001b[0mLinAlgError\u001b[0m\u001b[0;34m(\u001b[0m\u001b[0;34m\"%d-th leading minor not positive definite\"\u001b[0m \u001b[0;34m%\u001b[0m \u001b[0minfo\u001b[0m\u001b[0;34m)\u001b[0m\u001b[0;34m\u001b[0m\u001b[0m\n\u001b[0m\u001b[1;32m     31\u001b[0m     \u001b[0;32mif\u001b[0m \u001b[0minfo\u001b[0m \u001b[0;34m<\u001b[0m \u001b[0;36m0\u001b[0m\u001b[0;34m:\u001b[0m\u001b[0;34m\u001b[0m\u001b[0m\n",
      "\u001b[0;31mLinAlgError\u001b[0m: 23-th leading minor not positive definite",
      "\nDuring handling of the above exception, another exception occurred:\n",
      "\u001b[0;31mTypeError\u001b[0m                                 Traceback (most recent call last)",
      "\u001b[0;32mpomegranate/bayes.pyx\u001b[0m in \u001b[0;36mpomegranate.bayes.BayesModel.from_summaries\u001b[0;34m()\u001b[0m\n",
      "\u001b[0;32mpomegranate/distributions.pyx\u001b[0m in \u001b[0;36mpomegranate.distributions.MultivariateGaussianDistribution.from_summaries\u001b[0;34m()\u001b[0m\n",
      "\u001b[0;31mTypeError\u001b[0m: Cannot cast ufunc subtract output from dtype('complex128') to dtype('float64') with casting rule 'same_kind'"
     ]
    },
    {
     "name": "stderr",
     "output_type": "stream",
     "text": [
      "Exception ignored in: 'pomegranate.hmm.HiddenMarkovModel._from_summaries'\n",
      "Traceback (most recent call last):\n",
      "  File \"pomegranate/bayes.pyx\", line 710, in pomegranate.bayes.BayesModel.from_summaries\n",
      "  File \"pomegranate/distributions.pyx\", line 2259, in pomegranate.distributions.MultivariateGaussianDistribution.from_summaries\n",
      "TypeError: Cannot cast ufunc subtract output from dtype('complex128') to dtype('float64') with casting rule 'same_kind'\n"
     ]
    },
    {
     "name": "stdout",
     "output_type": "stream",
     "text": [
      "[9] Improvement: 0.3834380640182644\tTime (s): 537.4\n"
     ]
    },
    {
     "ename": "TypeError",
     "evalue": "Cannot cast ufunc subtract output from dtype('complex128') to dtype('float64') with casting rule 'same_kind'",
     "output_type": "error",
     "traceback": [
      "\u001b[0;31m---------------------------------------------------------------------------\u001b[0m",
      "\u001b[0;31mLinAlgError\u001b[0m                               Traceback (most recent call last)",
      "\u001b[0;32mpomegranate/distributions.pyx\u001b[0m in \u001b[0;36mpomegranate.distributions.MultivariateGaussianDistribution.from_summaries\u001b[0;34m()\u001b[0m\n",
      "\u001b[0;32m/usr/local/lib/python3.5/dist-packages/scipy/linalg/decomp_cholesky.py\u001b[0m in \u001b[0;36mcholesky\u001b[0;34m(a, lower, overwrite_a, check_finite)\u001b[0m\n\u001b[1;32m     80\u001b[0m     c, lower = _cholesky(a, lower=lower, overwrite_a=overwrite_a, clean=True,\n\u001b[0;32m---> 81\u001b[0;31m                             check_finite=check_finite)\n\u001b[0m\u001b[1;32m     82\u001b[0m     \u001b[0;32mreturn\u001b[0m \u001b[0mc\u001b[0m\u001b[0;34m\u001b[0m\u001b[0m\n",
      "\u001b[0;32m/usr/local/lib/python3.5/dist-packages/scipy/linalg/decomp_cholesky.py\u001b[0m in \u001b[0;36m_cholesky\u001b[0;34m(a, lower, overwrite_a, clean, check_finite)\u001b[0m\n\u001b[1;32m     29\u001b[0m     \u001b[0;32mif\u001b[0m \u001b[0minfo\u001b[0m \u001b[0;34m>\u001b[0m \u001b[0;36m0\u001b[0m\u001b[0;34m:\u001b[0m\u001b[0;34m\u001b[0m\u001b[0m\n\u001b[0;32m---> 30\u001b[0;31m         \u001b[0;32mraise\u001b[0m \u001b[0mLinAlgError\u001b[0m\u001b[0;34m(\u001b[0m\u001b[0;34m\"%d-th leading minor not positive definite\"\u001b[0m \u001b[0;34m%\u001b[0m \u001b[0minfo\u001b[0m\u001b[0;34m)\u001b[0m\u001b[0;34m\u001b[0m\u001b[0m\n\u001b[0m\u001b[1;32m     31\u001b[0m     \u001b[0;32mif\u001b[0m \u001b[0minfo\u001b[0m \u001b[0;34m<\u001b[0m \u001b[0;36m0\u001b[0m\u001b[0;34m:\u001b[0m\u001b[0;34m\u001b[0m\u001b[0m\n",
      "\u001b[0;31mLinAlgError\u001b[0m: 27-th leading minor not positive definite",
      "\nDuring handling of the above exception, another exception occurred:\n",
      "\u001b[0;31mTypeError\u001b[0m                                 Traceback (most recent call last)",
      "\u001b[0;32mpomegranate/bayes.pyx\u001b[0m in \u001b[0;36mpomegranate.bayes.BayesModel.from_summaries\u001b[0;34m()\u001b[0m\n",
      "\u001b[0;32mpomegranate/distributions.pyx\u001b[0m in \u001b[0;36mpomegranate.distributions.MultivariateGaussianDistribution.from_summaries\u001b[0;34m()\u001b[0m\n",
      "\u001b[0;31mTypeError\u001b[0m: Cannot cast ufunc subtract output from dtype('complex128') to dtype('float64') with casting rule 'same_kind'"
     ]
    },
    {
     "name": "stderr",
     "output_type": "stream",
     "text": [
      "Exception ignored in: 'pomegranate.hmm.HiddenMarkovModel._from_summaries'\n",
      "Traceback (most recent call last):\n",
      "  File \"pomegranate/bayes.pyx\", line 710, in pomegranate.bayes.BayesModel.from_summaries\n",
      "  File \"pomegranate/distributions.pyx\", line 2259, in pomegranate.distributions.MultivariateGaussianDistribution.from_summaries\n",
      "TypeError: Cannot cast ufunc subtract output from dtype('complex128') to dtype('float64') with casting rule 'same_kind'\n"
     ]
    },
    {
     "name": "stdout",
     "output_type": "stream",
     "text": [
      "[10] Improvement: 2261.235246648779\tTime (s): 535.2\n"
     ]
    },
    {
     "ename": "TypeError",
     "evalue": "Cannot cast ufunc subtract output from dtype('complex128') to dtype('float64') with casting rule 'same_kind'",
     "output_type": "error",
     "traceback": [
      "\u001b[0;31m---------------------------------------------------------------------------\u001b[0m",
      "\u001b[0;31mLinAlgError\u001b[0m                               Traceback (most recent call last)",
      "\u001b[0;32mpomegranate/distributions.pyx\u001b[0m in \u001b[0;36mpomegranate.distributions.MultivariateGaussianDistribution.from_summaries\u001b[0;34m()\u001b[0m\n",
      "\u001b[0;32m/usr/local/lib/python3.5/dist-packages/scipy/linalg/decomp_cholesky.py\u001b[0m in \u001b[0;36mcholesky\u001b[0;34m(a, lower, overwrite_a, check_finite)\u001b[0m\n\u001b[1;32m     80\u001b[0m     c, lower = _cholesky(a, lower=lower, overwrite_a=overwrite_a, clean=True,\n\u001b[0;32m---> 81\u001b[0;31m                             check_finite=check_finite)\n\u001b[0m\u001b[1;32m     82\u001b[0m     \u001b[0;32mreturn\u001b[0m \u001b[0mc\u001b[0m\u001b[0;34m\u001b[0m\u001b[0m\n",
      "\u001b[0;32m/usr/local/lib/python3.5/dist-packages/scipy/linalg/decomp_cholesky.py\u001b[0m in \u001b[0;36m_cholesky\u001b[0;34m(a, lower, overwrite_a, clean, check_finite)\u001b[0m\n\u001b[1;32m     29\u001b[0m     \u001b[0;32mif\u001b[0m \u001b[0minfo\u001b[0m \u001b[0;34m>\u001b[0m \u001b[0;36m0\u001b[0m\u001b[0;34m:\u001b[0m\u001b[0;34m\u001b[0m\u001b[0m\n\u001b[0;32m---> 30\u001b[0;31m         \u001b[0;32mraise\u001b[0m \u001b[0mLinAlgError\u001b[0m\u001b[0;34m(\u001b[0m\u001b[0;34m\"%d-th leading minor not positive definite\"\u001b[0m \u001b[0;34m%\u001b[0m \u001b[0minfo\u001b[0m\u001b[0;34m)\u001b[0m\u001b[0;34m\u001b[0m\u001b[0m\n\u001b[0m\u001b[1;32m     31\u001b[0m     \u001b[0;32mif\u001b[0m \u001b[0minfo\u001b[0m \u001b[0;34m<\u001b[0m \u001b[0;36m0\u001b[0m\u001b[0;34m:\u001b[0m\u001b[0;34m\u001b[0m\u001b[0m\n",
      "\u001b[0;31mLinAlgError\u001b[0m: 22-th leading minor not positive definite",
      "\nDuring handling of the above exception, another exception occurred:\n",
      "\u001b[0;31mTypeError\u001b[0m                                 Traceback (most recent call last)",
      "\u001b[0;32mpomegranate/bayes.pyx\u001b[0m in \u001b[0;36mpomegranate.bayes.BayesModel.from_summaries\u001b[0;34m()\u001b[0m\n",
      "\u001b[0;32mpomegranate/distributions.pyx\u001b[0m in \u001b[0;36mpomegranate.distributions.MultivariateGaussianDistribution.from_summaries\u001b[0;34m()\u001b[0m\n",
      "\u001b[0;31mTypeError\u001b[0m: Cannot cast ufunc subtract output from dtype('complex128') to dtype('float64') with casting rule 'same_kind'"
     ]
    },
    {
     "name": "stderr",
     "output_type": "stream",
     "text": [
      "Exception ignored in: 'pomegranate.hmm.HiddenMarkovModel._from_summaries'\n",
      "Traceback (most recent call last):\n",
      "  File \"pomegranate/bayes.pyx\", line 710, in pomegranate.bayes.BayesModel.from_summaries\n",
      "  File \"pomegranate/distributions.pyx\", line 2259, in pomegranate.distributions.MultivariateGaussianDistribution.from_summaries\n",
      "TypeError: Cannot cast ufunc subtract output from dtype('complex128') to dtype('float64') with casting rule 'same_kind'\n"
     ]
    },
    {
     "name": "stdout",
     "output_type": "stream",
     "text": [
      "[11] Improvement: 0.40921230893582106\tTime (s): 537.9\n"
     ]
    },
    {
     "ename": "TypeError",
     "evalue": "Cannot cast ufunc subtract output from dtype('complex128') to dtype('float64') with casting rule 'same_kind'",
     "output_type": "error",
     "traceback": [
      "\u001b[0;31m---------------------------------------------------------------------------\u001b[0m",
      "\u001b[0;31mLinAlgError\u001b[0m                               Traceback (most recent call last)",
      "\u001b[0;32mpomegranate/distributions.pyx\u001b[0m in \u001b[0;36mpomegranate.distributions.MultivariateGaussianDistribution.from_summaries\u001b[0;34m()\u001b[0m\n",
      "\u001b[0;32m/usr/local/lib/python3.5/dist-packages/scipy/linalg/decomp_cholesky.py\u001b[0m in \u001b[0;36mcholesky\u001b[0;34m(a, lower, overwrite_a, check_finite)\u001b[0m\n\u001b[1;32m     80\u001b[0m     c, lower = _cholesky(a, lower=lower, overwrite_a=overwrite_a, clean=True,\n\u001b[0;32m---> 81\u001b[0;31m                             check_finite=check_finite)\n\u001b[0m\u001b[1;32m     82\u001b[0m     \u001b[0;32mreturn\u001b[0m \u001b[0mc\u001b[0m\u001b[0;34m\u001b[0m\u001b[0m\n",
      "\u001b[0;32m/usr/local/lib/python3.5/dist-packages/scipy/linalg/decomp_cholesky.py\u001b[0m in \u001b[0;36m_cholesky\u001b[0;34m(a, lower, overwrite_a, clean, check_finite)\u001b[0m\n\u001b[1;32m     29\u001b[0m     \u001b[0;32mif\u001b[0m \u001b[0minfo\u001b[0m \u001b[0;34m>\u001b[0m \u001b[0;36m0\u001b[0m\u001b[0;34m:\u001b[0m\u001b[0;34m\u001b[0m\u001b[0m\n\u001b[0;32m---> 30\u001b[0;31m         \u001b[0;32mraise\u001b[0m \u001b[0mLinAlgError\u001b[0m\u001b[0;34m(\u001b[0m\u001b[0;34m\"%d-th leading minor not positive definite\"\u001b[0m \u001b[0;34m%\u001b[0m \u001b[0minfo\u001b[0m\u001b[0;34m)\u001b[0m\u001b[0;34m\u001b[0m\u001b[0m\n\u001b[0m\u001b[1;32m     31\u001b[0m     \u001b[0;32mif\u001b[0m \u001b[0minfo\u001b[0m \u001b[0;34m<\u001b[0m \u001b[0;36m0\u001b[0m\u001b[0;34m:\u001b[0m\u001b[0;34m\u001b[0m\u001b[0m\n",
      "\u001b[0;31mLinAlgError\u001b[0m: 22-th leading minor not positive definite",
      "\nDuring handling of the above exception, another exception occurred:\n",
      "\u001b[0;31mTypeError\u001b[0m                                 Traceback (most recent call last)",
      "\u001b[0;32mpomegranate/bayes.pyx\u001b[0m in \u001b[0;36mpomegranate.bayes.BayesModel.from_summaries\u001b[0;34m()\u001b[0m\n",
      "\u001b[0;32mpomegranate/distributions.pyx\u001b[0m in \u001b[0;36mpomegranate.distributions.MultivariateGaussianDistribution.from_summaries\u001b[0;34m()\u001b[0m\n",
      "\u001b[0;31mTypeError\u001b[0m: Cannot cast ufunc subtract output from dtype('complex128') to dtype('float64') with casting rule 'same_kind'"
     ]
    },
    {
     "name": "stderr",
     "output_type": "stream",
     "text": [
      "Exception ignored in: 'pomegranate.hmm.HiddenMarkovModel._from_summaries'\n",
      "Traceback (most recent call last):\n",
      "  File \"pomegranate/bayes.pyx\", line 710, in pomegranate.bayes.BayesModel.from_summaries\n",
      "  File \"pomegranate/distributions.pyx\", line 2259, in pomegranate.distributions.MultivariateGaussianDistribution.from_summaries\n",
      "TypeError: Cannot cast ufunc subtract output from dtype('complex128') to dtype('float64') with casting rule 'same_kind'\n"
     ]
    },
    {
     "name": "stdout",
     "output_type": "stream",
     "text": [
      "[12] Improvement: 0.3671781518496573\tTime (s): 539.7\n"
     ]
    },
    {
     "ename": "TypeError",
     "evalue": "Cannot cast ufunc subtract output from dtype('complex128') to dtype('float64') with casting rule 'same_kind'",
     "output_type": "error",
     "traceback": [
      "\u001b[0;31m---------------------------------------------------------------------------\u001b[0m",
      "\u001b[0;31mLinAlgError\u001b[0m                               Traceback (most recent call last)",
      "\u001b[0;32mpomegranate/distributions.pyx\u001b[0m in \u001b[0;36mpomegranate.distributions.MultivariateGaussianDistribution.from_summaries\u001b[0;34m()\u001b[0m\n",
      "\u001b[0;32m/usr/local/lib/python3.5/dist-packages/scipy/linalg/decomp_cholesky.py\u001b[0m in \u001b[0;36mcholesky\u001b[0;34m(a, lower, overwrite_a, check_finite)\u001b[0m\n\u001b[1;32m     80\u001b[0m     c, lower = _cholesky(a, lower=lower, overwrite_a=overwrite_a, clean=True,\n\u001b[0;32m---> 81\u001b[0;31m                             check_finite=check_finite)\n\u001b[0m\u001b[1;32m     82\u001b[0m     \u001b[0;32mreturn\u001b[0m \u001b[0mc\u001b[0m\u001b[0;34m\u001b[0m\u001b[0m\n",
      "\u001b[0;32m/usr/local/lib/python3.5/dist-packages/scipy/linalg/decomp_cholesky.py\u001b[0m in \u001b[0;36m_cholesky\u001b[0;34m(a, lower, overwrite_a, clean, check_finite)\u001b[0m\n\u001b[1;32m     29\u001b[0m     \u001b[0;32mif\u001b[0m \u001b[0minfo\u001b[0m \u001b[0;34m>\u001b[0m \u001b[0;36m0\u001b[0m\u001b[0;34m:\u001b[0m\u001b[0;34m\u001b[0m\u001b[0m\n\u001b[0;32m---> 30\u001b[0;31m         \u001b[0;32mraise\u001b[0m \u001b[0mLinAlgError\u001b[0m\u001b[0;34m(\u001b[0m\u001b[0;34m\"%d-th leading minor not positive definite\"\u001b[0m \u001b[0;34m%\u001b[0m \u001b[0minfo\u001b[0m\u001b[0;34m)\u001b[0m\u001b[0;34m\u001b[0m\u001b[0m\n\u001b[0m\u001b[1;32m     31\u001b[0m     \u001b[0;32mif\u001b[0m \u001b[0minfo\u001b[0m \u001b[0;34m<\u001b[0m \u001b[0;36m0\u001b[0m\u001b[0;34m:\u001b[0m\u001b[0;34m\u001b[0m\u001b[0m\n",
      "\u001b[0;31mLinAlgError\u001b[0m: 24-th leading minor not positive definite",
      "\nDuring handling of the above exception, another exception occurred:\n",
      "\u001b[0;31mTypeError\u001b[0m                                 Traceback (most recent call last)",
      "\u001b[0;32mpomegranate/bayes.pyx\u001b[0m in \u001b[0;36mpomegranate.bayes.BayesModel.from_summaries\u001b[0;34m()\u001b[0m\n",
      "\u001b[0;32mpomegranate/distributions.pyx\u001b[0m in \u001b[0;36mpomegranate.distributions.MultivariateGaussianDistribution.from_summaries\u001b[0;34m()\u001b[0m\n",
      "\u001b[0;31mTypeError\u001b[0m: Cannot cast ufunc subtract output from dtype('complex128') to dtype('float64') with casting rule 'same_kind'"
     ]
    },
    {
     "name": "stderr",
     "output_type": "stream",
     "text": [
      "Exception ignored in: 'pomegranate.hmm.HiddenMarkovModel._from_summaries'\n",
      "Traceback (most recent call last):\n",
      "  File \"pomegranate/bayes.pyx\", line 710, in pomegranate.bayes.BayesModel.from_summaries\n",
      "  File \"pomegranate/distributions.pyx\", line 2259, in pomegranate.distributions.MultivariateGaussianDistribution.from_summaries\n",
      "TypeError: Cannot cast ufunc subtract output from dtype('complex128') to dtype('float64') with casting rule 'same_kind'\n"
     ]
    },
    {
     "name": "stdout",
     "output_type": "stream",
     "text": [
      "[13] Improvement: 1.550668956944719\tTime (s): 539.5\n"
     ]
    },
    {
     "ename": "TypeError",
     "evalue": "Cannot cast ufunc subtract output from dtype('complex128') to dtype('float64') with casting rule 'same_kind'",
     "output_type": "error",
     "traceback": [
      "\u001b[0;31m---------------------------------------------------------------------------\u001b[0m",
      "\u001b[0;31mLinAlgError\u001b[0m                               Traceback (most recent call last)",
      "\u001b[0;32mpomegranate/distributions.pyx\u001b[0m in \u001b[0;36mpomegranate.distributions.MultivariateGaussianDistribution.from_summaries\u001b[0;34m()\u001b[0m\n",
      "\u001b[0;32m/usr/local/lib/python3.5/dist-packages/scipy/linalg/decomp_cholesky.py\u001b[0m in \u001b[0;36mcholesky\u001b[0;34m(a, lower, overwrite_a, check_finite)\u001b[0m\n\u001b[1;32m     80\u001b[0m     c, lower = _cholesky(a, lower=lower, overwrite_a=overwrite_a, clean=True,\n\u001b[0;32m---> 81\u001b[0;31m                             check_finite=check_finite)\n\u001b[0m\u001b[1;32m     82\u001b[0m     \u001b[0;32mreturn\u001b[0m \u001b[0mc\u001b[0m\u001b[0;34m\u001b[0m\u001b[0m\n",
      "\u001b[0;32m/usr/local/lib/python3.5/dist-packages/scipy/linalg/decomp_cholesky.py\u001b[0m in \u001b[0;36m_cholesky\u001b[0;34m(a, lower, overwrite_a, clean, check_finite)\u001b[0m\n\u001b[1;32m     29\u001b[0m     \u001b[0;32mif\u001b[0m \u001b[0minfo\u001b[0m \u001b[0;34m>\u001b[0m \u001b[0;36m0\u001b[0m\u001b[0;34m:\u001b[0m\u001b[0;34m\u001b[0m\u001b[0m\n\u001b[0;32m---> 30\u001b[0;31m         \u001b[0;32mraise\u001b[0m \u001b[0mLinAlgError\u001b[0m\u001b[0;34m(\u001b[0m\u001b[0;34m\"%d-th leading minor not positive definite\"\u001b[0m \u001b[0;34m%\u001b[0m \u001b[0minfo\u001b[0m\u001b[0;34m)\u001b[0m\u001b[0;34m\u001b[0m\u001b[0m\n\u001b[0m\u001b[1;32m     31\u001b[0m     \u001b[0;32mif\u001b[0m \u001b[0minfo\u001b[0m \u001b[0;34m<\u001b[0m \u001b[0;36m0\u001b[0m\u001b[0;34m:\u001b[0m\u001b[0;34m\u001b[0m\u001b[0m\n",
      "\u001b[0;31mLinAlgError\u001b[0m: 24-th leading minor not positive definite",
      "\nDuring handling of the above exception, another exception occurred:\n",
      "\u001b[0;31mTypeError\u001b[0m                                 Traceback (most recent call last)",
      "\u001b[0;32mpomegranate/bayes.pyx\u001b[0m in \u001b[0;36mpomegranate.bayes.BayesModel.from_summaries\u001b[0;34m()\u001b[0m\n",
      "\u001b[0;32mpomegranate/distributions.pyx\u001b[0m in \u001b[0;36mpomegranate.distributions.MultivariateGaussianDistribution.from_summaries\u001b[0;34m()\u001b[0m\n",
      "\u001b[0;31mTypeError\u001b[0m: Cannot cast ufunc subtract output from dtype('complex128') to dtype('float64') with casting rule 'same_kind'"
     ]
    },
    {
     "name": "stderr",
     "output_type": "stream",
     "text": [
      "Exception ignored in: 'pomegranate.hmm.HiddenMarkovModel._from_summaries'\n",
      "Traceback (most recent call last):\n",
      "  File \"pomegranate/bayes.pyx\", line 710, in pomegranate.bayes.BayesModel.from_summaries\n",
      "  File \"pomegranate/distributions.pyx\", line 2259, in pomegranate.distributions.MultivariateGaussianDistribution.from_summaries\n",
      "TypeError: Cannot cast ufunc subtract output from dtype('complex128') to dtype('float64') with casting rule 'same_kind'\n"
     ]
    },
    {
     "name": "stdout",
     "output_type": "stream",
     "text": [
      "[14] Improvement: 6.940896178362891\tTime (s): 536.8\n"
     ]
    },
    {
     "ename": "TypeError",
     "evalue": "Cannot cast ufunc subtract output from dtype('complex128') to dtype('float64') with casting rule 'same_kind'",
     "output_type": "error",
     "traceback": [
      "\u001b[0;31m---------------------------------------------------------------------------\u001b[0m",
      "\u001b[0;31mLinAlgError\u001b[0m                               Traceback (most recent call last)",
      "\u001b[0;32mpomegranate/distributions.pyx\u001b[0m in \u001b[0;36mpomegranate.distributions.MultivariateGaussianDistribution.from_summaries\u001b[0;34m()\u001b[0m\n",
      "\u001b[0;32m/usr/local/lib/python3.5/dist-packages/scipy/linalg/decomp_cholesky.py\u001b[0m in \u001b[0;36mcholesky\u001b[0;34m(a, lower, overwrite_a, check_finite)\u001b[0m\n\u001b[1;32m     80\u001b[0m     c, lower = _cholesky(a, lower=lower, overwrite_a=overwrite_a, clean=True,\n\u001b[0;32m---> 81\u001b[0;31m                             check_finite=check_finite)\n\u001b[0m\u001b[1;32m     82\u001b[0m     \u001b[0;32mreturn\u001b[0m \u001b[0mc\u001b[0m\u001b[0;34m\u001b[0m\u001b[0m\n",
      "\u001b[0;32m/usr/local/lib/python3.5/dist-packages/scipy/linalg/decomp_cholesky.py\u001b[0m in \u001b[0;36m_cholesky\u001b[0;34m(a, lower, overwrite_a, clean, check_finite)\u001b[0m\n\u001b[1;32m     29\u001b[0m     \u001b[0;32mif\u001b[0m \u001b[0minfo\u001b[0m \u001b[0;34m>\u001b[0m \u001b[0;36m0\u001b[0m\u001b[0;34m:\u001b[0m\u001b[0;34m\u001b[0m\u001b[0m\n\u001b[0;32m---> 30\u001b[0;31m         \u001b[0;32mraise\u001b[0m \u001b[0mLinAlgError\u001b[0m\u001b[0;34m(\u001b[0m\u001b[0;34m\"%d-th leading minor not positive definite\"\u001b[0m \u001b[0;34m%\u001b[0m \u001b[0minfo\u001b[0m\u001b[0;34m)\u001b[0m\u001b[0;34m\u001b[0m\u001b[0m\n\u001b[0m\u001b[1;32m     31\u001b[0m     \u001b[0;32mif\u001b[0m \u001b[0minfo\u001b[0m \u001b[0;34m<\u001b[0m \u001b[0;36m0\u001b[0m\u001b[0;34m:\u001b[0m\u001b[0;34m\u001b[0m\u001b[0m\n",
      "\u001b[0;31mLinAlgError\u001b[0m: 24-th leading minor not positive definite",
      "\nDuring handling of the above exception, another exception occurred:\n",
      "\u001b[0;31mTypeError\u001b[0m                                 Traceback (most recent call last)",
      "\u001b[0;32mpomegranate/bayes.pyx\u001b[0m in \u001b[0;36mpomegranate.bayes.BayesModel.from_summaries\u001b[0;34m()\u001b[0m\n",
      "\u001b[0;32mpomegranate/distributions.pyx\u001b[0m in \u001b[0;36mpomegranate.distributions.MultivariateGaussianDistribution.from_summaries\u001b[0;34m()\u001b[0m\n",
      "\u001b[0;31mTypeError\u001b[0m: Cannot cast ufunc subtract output from dtype('complex128') to dtype('float64') with casting rule 'same_kind'"
     ]
    },
    {
     "name": "stderr",
     "output_type": "stream",
     "text": [
      "Exception ignored in: 'pomegranate.hmm.HiddenMarkovModel._from_summaries'\n",
      "Traceback (most recent call last):\n",
      "  File \"pomegranate/bayes.pyx\", line 710, in pomegranate.bayes.BayesModel.from_summaries\n",
      "  File \"pomegranate/distributions.pyx\", line 2259, in pomegranate.distributions.MultivariateGaussianDistribution.from_summaries\n",
      "TypeError: Cannot cast ufunc subtract output from dtype('complex128') to dtype('float64') with casting rule 'same_kind'\n"
     ]
    },
    {
     "name": "stdout",
     "output_type": "stream",
     "text": [
      "[15] Improvement: 23.50617057411\tTime (s): 529.4\n"
     ]
    },
    {
     "ename": "TypeError",
     "evalue": "Cannot cast ufunc subtract output from dtype('complex128') to dtype('float64') with casting rule 'same_kind'",
     "output_type": "error",
     "traceback": [
      "\u001b[0;31m---------------------------------------------------------------------------\u001b[0m",
      "\u001b[0;31mLinAlgError\u001b[0m                               Traceback (most recent call last)",
      "\u001b[0;32mpomegranate/distributions.pyx\u001b[0m in \u001b[0;36mpomegranate.distributions.MultivariateGaussianDistribution.from_summaries\u001b[0;34m()\u001b[0m\n",
      "\u001b[0;32m/usr/local/lib/python3.5/dist-packages/scipy/linalg/decomp_cholesky.py\u001b[0m in \u001b[0;36mcholesky\u001b[0;34m(a, lower, overwrite_a, check_finite)\u001b[0m\n\u001b[1;32m     80\u001b[0m     c, lower = _cholesky(a, lower=lower, overwrite_a=overwrite_a, clean=True,\n\u001b[0;32m---> 81\u001b[0;31m                             check_finite=check_finite)\n\u001b[0m\u001b[1;32m     82\u001b[0m     \u001b[0;32mreturn\u001b[0m \u001b[0mc\u001b[0m\u001b[0;34m\u001b[0m\u001b[0m\n",
      "\u001b[0;32m/usr/local/lib/python3.5/dist-packages/scipy/linalg/decomp_cholesky.py\u001b[0m in \u001b[0;36m_cholesky\u001b[0;34m(a, lower, overwrite_a, clean, check_finite)\u001b[0m\n\u001b[1;32m     29\u001b[0m     \u001b[0;32mif\u001b[0m \u001b[0minfo\u001b[0m \u001b[0;34m>\u001b[0m \u001b[0;36m0\u001b[0m\u001b[0;34m:\u001b[0m\u001b[0;34m\u001b[0m\u001b[0m\n\u001b[0;32m---> 30\u001b[0;31m         \u001b[0;32mraise\u001b[0m \u001b[0mLinAlgError\u001b[0m\u001b[0;34m(\u001b[0m\u001b[0;34m\"%d-th leading minor not positive definite\"\u001b[0m \u001b[0;34m%\u001b[0m \u001b[0minfo\u001b[0m\u001b[0;34m)\u001b[0m\u001b[0;34m\u001b[0m\u001b[0m\n\u001b[0m\u001b[1;32m     31\u001b[0m     \u001b[0;32mif\u001b[0m \u001b[0minfo\u001b[0m \u001b[0;34m<\u001b[0m \u001b[0;36m0\u001b[0m\u001b[0;34m:\u001b[0m\u001b[0;34m\u001b[0m\u001b[0m\n",
      "\u001b[0;31mLinAlgError\u001b[0m: 23-th leading minor not positive definite",
      "\nDuring handling of the above exception, another exception occurred:\n",
      "\u001b[0;31mTypeError\u001b[0m                                 Traceback (most recent call last)",
      "\u001b[0;32mpomegranate/bayes.pyx\u001b[0m in \u001b[0;36mpomegranate.bayes.BayesModel.from_summaries\u001b[0;34m()\u001b[0m\n",
      "\u001b[0;32mpomegranate/distributions.pyx\u001b[0m in \u001b[0;36mpomegranate.distributions.MultivariateGaussianDistribution.from_summaries\u001b[0;34m()\u001b[0m\n",
      "\u001b[0;31mTypeError\u001b[0m: Cannot cast ufunc subtract output from dtype('complex128') to dtype('float64') with casting rule 'same_kind'"
     ]
    },
    {
     "name": "stderr",
     "output_type": "stream",
     "text": [
      "Exception ignored in: 'pomegranate.hmm.HiddenMarkovModel._from_summaries'\n",
      "Traceback (most recent call last):\n",
      "  File \"pomegranate/bayes.pyx\", line 710, in pomegranate.bayes.BayesModel.from_summaries\n",
      "  File \"pomegranate/distributions.pyx\", line 2259, in pomegranate.distributions.MultivariateGaussianDistribution.from_summaries\n",
      "TypeError: Cannot cast ufunc subtract output from dtype('complex128') to dtype('float64') with casting rule 'same_kind'\n"
     ]
    },
    {
     "name": "stdout",
     "output_type": "stream",
     "text": [
      "[16] Improvement: 16.49457749002613\tTime (s): 542.3\n"
     ]
    },
    {
     "ename": "TypeError",
     "evalue": "Cannot cast ufunc subtract output from dtype('complex128') to dtype('float64') with casting rule 'same_kind'",
     "output_type": "error",
     "traceback": [
      "\u001b[0;31m---------------------------------------------------------------------------\u001b[0m",
      "\u001b[0;31mLinAlgError\u001b[0m                               Traceback (most recent call last)",
      "\u001b[0;32mpomegranate/distributions.pyx\u001b[0m in \u001b[0;36mpomegranate.distributions.MultivariateGaussianDistribution.from_summaries\u001b[0;34m()\u001b[0m\n",
      "\u001b[0;32m/usr/local/lib/python3.5/dist-packages/scipy/linalg/decomp_cholesky.py\u001b[0m in \u001b[0;36mcholesky\u001b[0;34m(a, lower, overwrite_a, check_finite)\u001b[0m\n\u001b[1;32m     80\u001b[0m     c, lower = _cholesky(a, lower=lower, overwrite_a=overwrite_a, clean=True,\n\u001b[0;32m---> 81\u001b[0;31m                             check_finite=check_finite)\n\u001b[0m\u001b[1;32m     82\u001b[0m     \u001b[0;32mreturn\u001b[0m \u001b[0mc\u001b[0m\u001b[0;34m\u001b[0m\u001b[0m\n",
      "\u001b[0;32m/usr/local/lib/python3.5/dist-packages/scipy/linalg/decomp_cholesky.py\u001b[0m in \u001b[0;36m_cholesky\u001b[0;34m(a, lower, overwrite_a, clean, check_finite)\u001b[0m\n\u001b[1;32m     29\u001b[0m     \u001b[0;32mif\u001b[0m \u001b[0minfo\u001b[0m \u001b[0;34m>\u001b[0m \u001b[0;36m0\u001b[0m\u001b[0;34m:\u001b[0m\u001b[0;34m\u001b[0m\u001b[0m\n\u001b[0;32m---> 30\u001b[0;31m         \u001b[0;32mraise\u001b[0m \u001b[0mLinAlgError\u001b[0m\u001b[0;34m(\u001b[0m\u001b[0;34m\"%d-th leading minor not positive definite\"\u001b[0m \u001b[0;34m%\u001b[0m \u001b[0minfo\u001b[0m\u001b[0;34m)\u001b[0m\u001b[0;34m\u001b[0m\u001b[0m\n\u001b[0m\u001b[1;32m     31\u001b[0m     \u001b[0;32mif\u001b[0m \u001b[0minfo\u001b[0m \u001b[0;34m<\u001b[0m \u001b[0;36m0\u001b[0m\u001b[0;34m:\u001b[0m\u001b[0;34m\u001b[0m\u001b[0m\n",
      "\u001b[0;31mLinAlgError\u001b[0m: 23-th leading minor not positive definite",
      "\nDuring handling of the above exception, another exception occurred:\n",
      "\u001b[0;31mTypeError\u001b[0m                                 Traceback (most recent call last)",
      "\u001b[0;32mpomegranate/bayes.pyx\u001b[0m in \u001b[0;36mpomegranate.bayes.BayesModel.from_summaries\u001b[0;34m()\u001b[0m\n",
      "\u001b[0;32mpomegranate/distributions.pyx\u001b[0m in \u001b[0;36mpomegranate.distributions.MultivariateGaussianDistribution.from_summaries\u001b[0;34m()\u001b[0m\n",
      "\u001b[0;31mTypeError\u001b[0m: Cannot cast ufunc subtract output from dtype('complex128') to dtype('float64') with casting rule 'same_kind'"
     ]
    },
    {
     "name": "stderr",
     "output_type": "stream",
     "text": [
      "Exception ignored in: 'pomegranate.hmm.HiddenMarkovModel._from_summaries'\n",
      "Traceback (most recent call last):\n",
      "  File \"pomegranate/bayes.pyx\", line 710, in pomegranate.bayes.BayesModel.from_summaries\n",
      "  File \"pomegranate/distributions.pyx\", line 2259, in pomegranate.distributions.MultivariateGaussianDistribution.from_summaries\n",
      "TypeError: Cannot cast ufunc subtract output from dtype('complex128') to dtype('float64') with casting rule 'same_kind'\n"
     ]
    },
    {
     "name": "stdout",
     "output_type": "stream",
     "text": [
      "[17] Improvement: 4.811783917946741\tTime (s): 534.2\n"
     ]
    },
    {
     "ename": "TypeError",
     "evalue": "Cannot cast ufunc subtract output from dtype('complex128') to dtype('float64') with casting rule 'same_kind'",
     "output_type": "error",
     "traceback": [
      "\u001b[0;31m---------------------------------------------------------------------------\u001b[0m",
      "\u001b[0;31mLinAlgError\u001b[0m                               Traceback (most recent call last)",
      "\u001b[0;32mpomegranate/distributions.pyx\u001b[0m in \u001b[0;36mpomegranate.distributions.MultivariateGaussianDistribution.from_summaries\u001b[0;34m()\u001b[0m\n",
      "\u001b[0;32m/usr/local/lib/python3.5/dist-packages/scipy/linalg/decomp_cholesky.py\u001b[0m in \u001b[0;36mcholesky\u001b[0;34m(a, lower, overwrite_a, check_finite)\u001b[0m\n\u001b[1;32m     80\u001b[0m     c, lower = _cholesky(a, lower=lower, overwrite_a=overwrite_a, clean=True,\n\u001b[0;32m---> 81\u001b[0;31m                             check_finite=check_finite)\n\u001b[0m\u001b[1;32m     82\u001b[0m     \u001b[0;32mreturn\u001b[0m \u001b[0mc\u001b[0m\u001b[0;34m\u001b[0m\u001b[0m\n",
      "\u001b[0;32m/usr/local/lib/python3.5/dist-packages/scipy/linalg/decomp_cholesky.py\u001b[0m in \u001b[0;36m_cholesky\u001b[0;34m(a, lower, overwrite_a, clean, check_finite)\u001b[0m\n\u001b[1;32m     29\u001b[0m     \u001b[0;32mif\u001b[0m \u001b[0minfo\u001b[0m \u001b[0;34m>\u001b[0m \u001b[0;36m0\u001b[0m\u001b[0;34m:\u001b[0m\u001b[0;34m\u001b[0m\u001b[0m\n\u001b[0;32m---> 30\u001b[0;31m         \u001b[0;32mraise\u001b[0m \u001b[0mLinAlgError\u001b[0m\u001b[0;34m(\u001b[0m\u001b[0;34m\"%d-th leading minor not positive definite\"\u001b[0m \u001b[0;34m%\u001b[0m \u001b[0minfo\u001b[0m\u001b[0;34m)\u001b[0m\u001b[0;34m\u001b[0m\u001b[0m\n\u001b[0m\u001b[1;32m     31\u001b[0m     \u001b[0;32mif\u001b[0m \u001b[0minfo\u001b[0m \u001b[0;34m<\u001b[0m \u001b[0;36m0\u001b[0m\u001b[0;34m:\u001b[0m\u001b[0;34m\u001b[0m\u001b[0m\n",
      "\u001b[0;31mLinAlgError\u001b[0m: 23-th leading minor not positive definite",
      "\nDuring handling of the above exception, another exception occurred:\n",
      "\u001b[0;31mTypeError\u001b[0m                                 Traceback (most recent call last)",
      "\u001b[0;32mpomegranate/bayes.pyx\u001b[0m in \u001b[0;36mpomegranate.bayes.BayesModel.from_summaries\u001b[0;34m()\u001b[0m\n",
      "\u001b[0;32mpomegranate/distributions.pyx\u001b[0m in \u001b[0;36mpomegranate.distributions.MultivariateGaussianDistribution.from_summaries\u001b[0;34m()\u001b[0m\n",
      "\u001b[0;31mTypeError\u001b[0m: Cannot cast ufunc subtract output from dtype('complex128') to dtype('float64') with casting rule 'same_kind'"
     ]
    },
    {
     "name": "stderr",
     "output_type": "stream",
     "text": [
      "Exception ignored in: 'pomegranate.hmm.HiddenMarkovModel._from_summaries'\n",
      "Traceback (most recent call last):\n",
      "  File \"pomegranate/bayes.pyx\", line 710, in pomegranate.bayes.BayesModel.from_summaries\n",
      "  File \"pomegranate/distributions.pyx\", line 2259, in pomegranate.distributions.MultivariateGaussianDistribution.from_summaries\n",
      "TypeError: Cannot cast ufunc subtract output from dtype('complex128') to dtype('float64') with casting rule 'same_kind'\n"
     ]
    },
    {
     "name": "stdout",
     "output_type": "stream",
     "text": [
      "[18] Improvement: 8.078985502710566\tTime (s): 534.7\n"
     ]
    },
    {
     "ename": "TypeError",
     "evalue": "Cannot cast ufunc subtract output from dtype('complex128') to dtype('float64') with casting rule 'same_kind'",
     "output_type": "error",
     "traceback": [
      "\u001b[0;31m---------------------------------------------------------------------------\u001b[0m",
      "\u001b[0;31mLinAlgError\u001b[0m                               Traceback (most recent call last)",
      "\u001b[0;32mpomegranate/distributions.pyx\u001b[0m in \u001b[0;36mpomegranate.distributions.MultivariateGaussianDistribution.from_summaries\u001b[0;34m()\u001b[0m\n",
      "\u001b[0;32m/usr/local/lib/python3.5/dist-packages/scipy/linalg/decomp_cholesky.py\u001b[0m in \u001b[0;36mcholesky\u001b[0;34m(a, lower, overwrite_a, check_finite)\u001b[0m\n\u001b[1;32m     80\u001b[0m     c, lower = _cholesky(a, lower=lower, overwrite_a=overwrite_a, clean=True,\n\u001b[0;32m---> 81\u001b[0;31m                             check_finite=check_finite)\n\u001b[0m\u001b[1;32m     82\u001b[0m     \u001b[0;32mreturn\u001b[0m \u001b[0mc\u001b[0m\u001b[0;34m\u001b[0m\u001b[0m\n",
      "\u001b[0;32m/usr/local/lib/python3.5/dist-packages/scipy/linalg/decomp_cholesky.py\u001b[0m in \u001b[0;36m_cholesky\u001b[0;34m(a, lower, overwrite_a, clean, check_finite)\u001b[0m\n\u001b[1;32m     29\u001b[0m     \u001b[0;32mif\u001b[0m \u001b[0minfo\u001b[0m \u001b[0;34m>\u001b[0m \u001b[0;36m0\u001b[0m\u001b[0;34m:\u001b[0m\u001b[0;34m\u001b[0m\u001b[0m\n\u001b[0;32m---> 30\u001b[0;31m         \u001b[0;32mraise\u001b[0m \u001b[0mLinAlgError\u001b[0m\u001b[0;34m(\u001b[0m\u001b[0;34m\"%d-th leading minor not positive definite\"\u001b[0m \u001b[0;34m%\u001b[0m \u001b[0minfo\u001b[0m\u001b[0;34m)\u001b[0m\u001b[0;34m\u001b[0m\u001b[0m\n\u001b[0m\u001b[1;32m     31\u001b[0m     \u001b[0;32mif\u001b[0m \u001b[0minfo\u001b[0m \u001b[0;34m<\u001b[0m \u001b[0;36m0\u001b[0m\u001b[0;34m:\u001b[0m\u001b[0;34m\u001b[0m\u001b[0m\n",
      "\u001b[0;31mLinAlgError\u001b[0m: 24-th leading minor not positive definite",
      "\nDuring handling of the above exception, another exception occurred:\n",
      "\u001b[0;31mTypeError\u001b[0m                                 Traceback (most recent call last)",
      "\u001b[0;32mpomegranate/bayes.pyx\u001b[0m in \u001b[0;36mpomegranate.bayes.BayesModel.from_summaries\u001b[0;34m()\u001b[0m\n",
      "\u001b[0;32mpomegranate/distributions.pyx\u001b[0m in \u001b[0;36mpomegranate.distributions.MultivariateGaussianDistribution.from_summaries\u001b[0;34m()\u001b[0m\n",
      "\u001b[0;31mTypeError\u001b[0m: Cannot cast ufunc subtract output from dtype('complex128') to dtype('float64') with casting rule 'same_kind'"
     ]
    },
    {
     "name": "stderr",
     "output_type": "stream",
     "text": [
      "Exception ignored in: 'pomegranate.hmm.HiddenMarkovModel._from_summaries'\n",
      "Traceback (most recent call last):\n",
      "  File \"pomegranate/bayes.pyx\", line 710, in pomegranate.bayes.BayesModel.from_summaries\n",
      "  File \"pomegranate/distributions.pyx\", line 2259, in pomegranate.distributions.MultivariateGaussianDistribution.from_summaries\n",
      "TypeError: Cannot cast ufunc subtract output from dtype('complex128') to dtype('float64') with casting rule 'same_kind'\n"
     ]
    },
    {
     "name": "stdout",
     "output_type": "stream",
     "text": [
      "[19] Improvement: 104.82299938937649\tTime (s): 529.4\n"
     ]
    },
    {
     "ename": "TypeError",
     "evalue": "Cannot cast ufunc subtract output from dtype('complex128') to dtype('float64') with casting rule 'same_kind'",
     "output_type": "error",
     "traceback": [
      "\u001b[0;31m---------------------------------------------------------------------------\u001b[0m",
      "\u001b[0;31mLinAlgError\u001b[0m                               Traceback (most recent call last)",
      "\u001b[0;32mpomegranate/distributions.pyx\u001b[0m in \u001b[0;36mpomegranate.distributions.MultivariateGaussianDistribution.from_summaries\u001b[0;34m()\u001b[0m\n",
      "\u001b[0;32m/usr/local/lib/python3.5/dist-packages/scipy/linalg/decomp_cholesky.py\u001b[0m in \u001b[0;36mcholesky\u001b[0;34m(a, lower, overwrite_a, check_finite)\u001b[0m\n\u001b[1;32m     80\u001b[0m     c, lower = _cholesky(a, lower=lower, overwrite_a=overwrite_a, clean=True,\n\u001b[0;32m---> 81\u001b[0;31m                             check_finite=check_finite)\n\u001b[0m\u001b[1;32m     82\u001b[0m     \u001b[0;32mreturn\u001b[0m \u001b[0mc\u001b[0m\u001b[0;34m\u001b[0m\u001b[0m\n",
      "\u001b[0;32m/usr/local/lib/python3.5/dist-packages/scipy/linalg/decomp_cholesky.py\u001b[0m in \u001b[0;36m_cholesky\u001b[0;34m(a, lower, overwrite_a, clean, check_finite)\u001b[0m\n\u001b[1;32m     29\u001b[0m     \u001b[0;32mif\u001b[0m \u001b[0minfo\u001b[0m \u001b[0;34m>\u001b[0m \u001b[0;36m0\u001b[0m\u001b[0;34m:\u001b[0m\u001b[0;34m\u001b[0m\u001b[0m\n\u001b[0;32m---> 30\u001b[0;31m         \u001b[0;32mraise\u001b[0m \u001b[0mLinAlgError\u001b[0m\u001b[0;34m(\u001b[0m\u001b[0;34m\"%d-th leading minor not positive definite\"\u001b[0m \u001b[0;34m%\u001b[0m \u001b[0minfo\u001b[0m\u001b[0;34m)\u001b[0m\u001b[0;34m\u001b[0m\u001b[0m\n\u001b[0m\u001b[1;32m     31\u001b[0m     \u001b[0;32mif\u001b[0m \u001b[0minfo\u001b[0m \u001b[0;34m<\u001b[0m \u001b[0;36m0\u001b[0m\u001b[0;34m:\u001b[0m\u001b[0;34m\u001b[0m\u001b[0m\n",
      "\u001b[0;31mLinAlgError\u001b[0m: 24-th leading minor not positive definite",
      "\nDuring handling of the above exception, another exception occurred:\n",
      "\u001b[0;31mTypeError\u001b[0m                                 Traceback (most recent call last)",
      "\u001b[0;32mpomegranate/bayes.pyx\u001b[0m in \u001b[0;36mpomegranate.bayes.BayesModel.from_summaries\u001b[0;34m()\u001b[0m\n",
      "\u001b[0;32mpomegranate/distributions.pyx\u001b[0m in \u001b[0;36mpomegranate.distributions.MultivariateGaussianDistribution.from_summaries\u001b[0;34m()\u001b[0m\n",
      "\u001b[0;31mTypeError\u001b[0m: Cannot cast ufunc subtract output from dtype('complex128') to dtype('float64') with casting rule 'same_kind'"
     ]
    },
    {
     "name": "stderr",
     "output_type": "stream",
     "text": [
      "Exception ignored in: 'pomegranate.hmm.HiddenMarkovModel._from_summaries'\n",
      "Traceback (most recent call last):\n",
      "  File \"pomegranate/bayes.pyx\", line 710, in pomegranate.bayes.BayesModel.from_summaries\n",
      "  File \"pomegranate/distributions.pyx\", line 2259, in pomegranate.distributions.MultivariateGaussianDistribution.from_summaries\n",
      "TypeError: Cannot cast ufunc subtract output from dtype('complex128') to dtype('float64') with casting rule 'same_kind'\n"
     ]
    },
    {
     "name": "stdout",
     "output_type": "stream",
     "text": [
      "[20] Improvement: 29.019449810730293\tTime (s): 541.0\n"
     ]
    },
    {
     "ename": "TypeError",
     "evalue": "Cannot cast ufunc subtract output from dtype('complex128') to dtype('float64') with casting rule 'same_kind'",
     "output_type": "error",
     "traceback": [
      "\u001b[0;31m---------------------------------------------------------------------------\u001b[0m",
      "\u001b[0;31mLinAlgError\u001b[0m                               Traceback (most recent call last)",
      "\u001b[0;32mpomegranate/distributions.pyx\u001b[0m in \u001b[0;36mpomegranate.distributions.MultivariateGaussianDistribution.from_summaries\u001b[0;34m()\u001b[0m\n",
      "\u001b[0;32m/usr/local/lib/python3.5/dist-packages/scipy/linalg/decomp_cholesky.py\u001b[0m in \u001b[0;36mcholesky\u001b[0;34m(a, lower, overwrite_a, check_finite)\u001b[0m\n\u001b[1;32m     80\u001b[0m     c, lower = _cholesky(a, lower=lower, overwrite_a=overwrite_a, clean=True,\n\u001b[0;32m---> 81\u001b[0;31m                             check_finite=check_finite)\n\u001b[0m\u001b[1;32m     82\u001b[0m     \u001b[0;32mreturn\u001b[0m \u001b[0mc\u001b[0m\u001b[0;34m\u001b[0m\u001b[0m\n",
      "\u001b[0;32m/usr/local/lib/python3.5/dist-packages/scipy/linalg/decomp_cholesky.py\u001b[0m in \u001b[0;36m_cholesky\u001b[0;34m(a, lower, overwrite_a, clean, check_finite)\u001b[0m\n\u001b[1;32m     29\u001b[0m     \u001b[0;32mif\u001b[0m \u001b[0minfo\u001b[0m \u001b[0;34m>\u001b[0m \u001b[0;36m0\u001b[0m\u001b[0;34m:\u001b[0m\u001b[0;34m\u001b[0m\u001b[0m\n\u001b[0;32m---> 30\u001b[0;31m         \u001b[0;32mraise\u001b[0m \u001b[0mLinAlgError\u001b[0m\u001b[0;34m(\u001b[0m\u001b[0;34m\"%d-th leading minor not positive definite\"\u001b[0m \u001b[0;34m%\u001b[0m \u001b[0minfo\u001b[0m\u001b[0;34m)\u001b[0m\u001b[0;34m\u001b[0m\u001b[0m\n\u001b[0m\u001b[1;32m     31\u001b[0m     \u001b[0;32mif\u001b[0m \u001b[0minfo\u001b[0m \u001b[0;34m<\u001b[0m \u001b[0;36m0\u001b[0m\u001b[0;34m:\u001b[0m\u001b[0;34m\u001b[0m\u001b[0m\n",
      "\u001b[0;31mLinAlgError\u001b[0m: 26-th leading minor not positive definite",
      "\nDuring handling of the above exception, another exception occurred:\n",
      "\u001b[0;31mTypeError\u001b[0m                                 Traceback (most recent call last)",
      "\u001b[0;32mpomegranate/bayes.pyx\u001b[0m in \u001b[0;36mpomegranate.bayes.BayesModel.from_summaries\u001b[0;34m()\u001b[0m\n",
      "\u001b[0;32mpomegranate/distributions.pyx\u001b[0m in \u001b[0;36mpomegranate.distributions.MultivariateGaussianDistribution.from_summaries\u001b[0;34m()\u001b[0m\n",
      "\u001b[0;31mTypeError\u001b[0m: Cannot cast ufunc subtract output from dtype('complex128') to dtype('float64') with casting rule 'same_kind'"
     ]
    },
    {
     "name": "stderr",
     "output_type": "stream",
     "text": [
      "Exception ignored in: 'pomegranate.hmm.HiddenMarkovModel._from_summaries'\n",
      "Traceback (most recent call last):\n",
      "  File \"pomegranate/bayes.pyx\", line 710, in pomegranate.bayes.BayesModel.from_summaries\n",
      "  File \"pomegranate/distributions.pyx\", line 2259, in pomegranate.distributions.MultivariateGaussianDistribution.from_summaries\n",
      "TypeError: Cannot cast ufunc subtract output from dtype('complex128') to dtype('float64') with casting rule 'same_kind'\n"
     ]
    },
    {
     "name": "stdout",
     "output_type": "stream",
     "text": [
      "[21] Improvement: 0.1271849311888218\tTime (s): 531.6\n"
     ]
    },
    {
     "ename": "TypeError",
     "evalue": "Cannot cast ufunc subtract output from dtype('complex128') to dtype('float64') with casting rule 'same_kind'",
     "output_type": "error",
     "traceback": [
      "\u001b[0;31m---------------------------------------------------------------------------\u001b[0m",
      "\u001b[0;31mLinAlgError\u001b[0m                               Traceback (most recent call last)",
      "\u001b[0;32mpomegranate/distributions.pyx\u001b[0m in \u001b[0;36mpomegranate.distributions.MultivariateGaussianDistribution.from_summaries\u001b[0;34m()\u001b[0m\n",
      "\u001b[0;32m/usr/local/lib/python3.5/dist-packages/scipy/linalg/decomp_cholesky.py\u001b[0m in \u001b[0;36mcholesky\u001b[0;34m(a, lower, overwrite_a, check_finite)\u001b[0m\n\u001b[1;32m     80\u001b[0m     c, lower = _cholesky(a, lower=lower, overwrite_a=overwrite_a, clean=True,\n\u001b[0;32m---> 81\u001b[0;31m                             check_finite=check_finite)\n\u001b[0m\u001b[1;32m     82\u001b[0m     \u001b[0;32mreturn\u001b[0m \u001b[0mc\u001b[0m\u001b[0;34m\u001b[0m\u001b[0m\n",
      "\u001b[0;32m/usr/local/lib/python3.5/dist-packages/scipy/linalg/decomp_cholesky.py\u001b[0m in \u001b[0;36m_cholesky\u001b[0;34m(a, lower, overwrite_a, clean, check_finite)\u001b[0m\n\u001b[1;32m     29\u001b[0m     \u001b[0;32mif\u001b[0m \u001b[0minfo\u001b[0m \u001b[0;34m>\u001b[0m \u001b[0;36m0\u001b[0m\u001b[0;34m:\u001b[0m\u001b[0;34m\u001b[0m\u001b[0m\n\u001b[0;32m---> 30\u001b[0;31m         \u001b[0;32mraise\u001b[0m \u001b[0mLinAlgError\u001b[0m\u001b[0;34m(\u001b[0m\u001b[0;34m\"%d-th leading minor not positive definite\"\u001b[0m \u001b[0;34m%\u001b[0m \u001b[0minfo\u001b[0m\u001b[0;34m)\u001b[0m\u001b[0;34m\u001b[0m\u001b[0m\n\u001b[0m\u001b[1;32m     31\u001b[0m     \u001b[0;32mif\u001b[0m \u001b[0minfo\u001b[0m \u001b[0;34m<\u001b[0m \u001b[0;36m0\u001b[0m\u001b[0;34m:\u001b[0m\u001b[0;34m\u001b[0m\u001b[0m\n",
      "\u001b[0;31mLinAlgError\u001b[0m: 24-th leading minor not positive definite",
      "\nDuring handling of the above exception, another exception occurred:\n",
      "\u001b[0;31mTypeError\u001b[0m                                 Traceback (most recent call last)",
      "\u001b[0;32mpomegranate/bayes.pyx\u001b[0m in \u001b[0;36mpomegranate.bayes.BayesModel.from_summaries\u001b[0;34m()\u001b[0m\n",
      "\u001b[0;32mpomegranate/distributions.pyx\u001b[0m in \u001b[0;36mpomegranate.distributions.MultivariateGaussianDistribution.from_summaries\u001b[0;34m()\u001b[0m\n",
      "\u001b[0;31mTypeError\u001b[0m: Cannot cast ufunc subtract output from dtype('complex128') to dtype('float64') with casting rule 'same_kind'"
     ]
    },
    {
     "name": "stderr",
     "output_type": "stream",
     "text": [
      "Exception ignored in: 'pomegranate.hmm.HiddenMarkovModel._from_summaries'\n",
      "Traceback (most recent call last):\n",
      "  File \"pomegranate/bayes.pyx\", line 710, in pomegranate.bayes.BayesModel.from_summaries\n",
      "  File \"pomegranate/distributions.pyx\", line 2259, in pomegranate.distributions.MultivariateGaussianDistribution.from_summaries\n",
      "TypeError: Cannot cast ufunc subtract output from dtype('complex128') to dtype('float64') with casting rule 'same_kind'\n"
     ]
    },
    {
     "name": "stdout",
     "output_type": "stream",
     "text": [
      "[22] Improvement: 0.23255512560717762\tTime (s): 541.4\n"
     ]
    },
    {
     "ename": "TypeError",
     "evalue": "Cannot cast ufunc subtract output from dtype('complex128') to dtype('float64') with casting rule 'same_kind'",
     "output_type": "error",
     "traceback": [
      "\u001b[0;31m---------------------------------------------------------------------------\u001b[0m",
      "\u001b[0;31mLinAlgError\u001b[0m                               Traceback (most recent call last)",
      "\u001b[0;32mpomegranate/distributions.pyx\u001b[0m in \u001b[0;36mpomegranate.distributions.MultivariateGaussianDistribution.from_summaries\u001b[0;34m()\u001b[0m\n",
      "\u001b[0;32m/usr/local/lib/python3.5/dist-packages/scipy/linalg/decomp_cholesky.py\u001b[0m in \u001b[0;36mcholesky\u001b[0;34m(a, lower, overwrite_a, check_finite)\u001b[0m\n\u001b[1;32m     80\u001b[0m     c, lower = _cholesky(a, lower=lower, overwrite_a=overwrite_a, clean=True,\n\u001b[0;32m---> 81\u001b[0;31m                             check_finite=check_finite)\n\u001b[0m\u001b[1;32m     82\u001b[0m     \u001b[0;32mreturn\u001b[0m \u001b[0mc\u001b[0m\u001b[0;34m\u001b[0m\u001b[0m\n",
      "\u001b[0;32m/usr/local/lib/python3.5/dist-packages/scipy/linalg/decomp_cholesky.py\u001b[0m in \u001b[0;36m_cholesky\u001b[0;34m(a, lower, overwrite_a, clean, check_finite)\u001b[0m\n\u001b[1;32m     29\u001b[0m     \u001b[0;32mif\u001b[0m \u001b[0minfo\u001b[0m \u001b[0;34m>\u001b[0m \u001b[0;36m0\u001b[0m\u001b[0;34m:\u001b[0m\u001b[0;34m\u001b[0m\u001b[0m\n\u001b[0;32m---> 30\u001b[0;31m         \u001b[0;32mraise\u001b[0m \u001b[0mLinAlgError\u001b[0m\u001b[0;34m(\u001b[0m\u001b[0;34m\"%d-th leading minor not positive definite\"\u001b[0m \u001b[0;34m%\u001b[0m \u001b[0minfo\u001b[0m\u001b[0;34m)\u001b[0m\u001b[0;34m\u001b[0m\u001b[0m\n\u001b[0m\u001b[1;32m     31\u001b[0m     \u001b[0;32mif\u001b[0m \u001b[0minfo\u001b[0m \u001b[0;34m<\u001b[0m \u001b[0;36m0\u001b[0m\u001b[0;34m:\u001b[0m\u001b[0;34m\u001b[0m\u001b[0m\n",
      "\u001b[0;31mLinAlgError\u001b[0m: 24-th leading minor not positive definite",
      "\nDuring handling of the above exception, another exception occurred:\n",
      "\u001b[0;31mTypeError\u001b[0m                                 Traceback (most recent call last)",
      "\u001b[0;32mpomegranate/bayes.pyx\u001b[0m in \u001b[0;36mpomegranate.bayes.BayesModel.from_summaries\u001b[0;34m()\u001b[0m\n",
      "\u001b[0;32mpomegranate/distributions.pyx\u001b[0m in \u001b[0;36mpomegranate.distributions.MultivariateGaussianDistribution.from_summaries\u001b[0;34m()\u001b[0m\n",
      "\u001b[0;31mTypeError\u001b[0m: Cannot cast ufunc subtract output from dtype('complex128') to dtype('float64') with casting rule 'same_kind'"
     ]
    },
    {
     "name": "stderr",
     "output_type": "stream",
     "text": [
      "Exception ignored in: 'pomegranate.hmm.HiddenMarkovModel._from_summaries'\n",
      "Traceback (most recent call last):\n",
      "  File \"pomegranate/bayes.pyx\", line 710, in pomegranate.bayes.BayesModel.from_summaries\n",
      "  File \"pomegranate/distributions.pyx\", line 2259, in pomegranate.distributions.MultivariateGaussianDistribution.from_summaries\n",
      "TypeError: Cannot cast ufunc subtract output from dtype('complex128') to dtype('float64') with casting rule 'same_kind'\n"
     ]
    },
    {
     "name": "stdout",
     "output_type": "stream",
     "text": [
      "[23] Improvement: 0.8345558159053326\tTime (s): 538.8\n"
     ]
    },
    {
     "ename": "TypeError",
     "evalue": "Cannot cast ufunc subtract output from dtype('complex128') to dtype('float64') with casting rule 'same_kind'",
     "output_type": "error",
     "traceback": [
      "\u001b[0;31m---------------------------------------------------------------------------\u001b[0m",
      "\u001b[0;31mLinAlgError\u001b[0m                               Traceback (most recent call last)",
      "\u001b[0;32mpomegranate/distributions.pyx\u001b[0m in \u001b[0;36mpomegranate.distributions.MultivariateGaussianDistribution.from_summaries\u001b[0;34m()\u001b[0m\n",
      "\u001b[0;32m/usr/local/lib/python3.5/dist-packages/scipy/linalg/decomp_cholesky.py\u001b[0m in \u001b[0;36mcholesky\u001b[0;34m(a, lower, overwrite_a, check_finite)\u001b[0m\n\u001b[1;32m     80\u001b[0m     c, lower = _cholesky(a, lower=lower, overwrite_a=overwrite_a, clean=True,\n\u001b[0;32m---> 81\u001b[0;31m                             check_finite=check_finite)\n\u001b[0m\u001b[1;32m     82\u001b[0m     \u001b[0;32mreturn\u001b[0m \u001b[0mc\u001b[0m\u001b[0;34m\u001b[0m\u001b[0m\n",
      "\u001b[0;32m/usr/local/lib/python3.5/dist-packages/scipy/linalg/decomp_cholesky.py\u001b[0m in \u001b[0;36m_cholesky\u001b[0;34m(a, lower, overwrite_a, clean, check_finite)\u001b[0m\n\u001b[1;32m     29\u001b[0m     \u001b[0;32mif\u001b[0m \u001b[0minfo\u001b[0m \u001b[0;34m>\u001b[0m \u001b[0;36m0\u001b[0m\u001b[0;34m:\u001b[0m\u001b[0;34m\u001b[0m\u001b[0m\n\u001b[0;32m---> 30\u001b[0;31m         \u001b[0;32mraise\u001b[0m \u001b[0mLinAlgError\u001b[0m\u001b[0;34m(\u001b[0m\u001b[0;34m\"%d-th leading minor not positive definite\"\u001b[0m \u001b[0;34m%\u001b[0m \u001b[0minfo\u001b[0m\u001b[0;34m)\u001b[0m\u001b[0;34m\u001b[0m\u001b[0m\n\u001b[0m\u001b[1;32m     31\u001b[0m     \u001b[0;32mif\u001b[0m \u001b[0minfo\u001b[0m \u001b[0;34m<\u001b[0m \u001b[0;36m0\u001b[0m\u001b[0;34m:\u001b[0m\u001b[0;34m\u001b[0m\u001b[0m\n",
      "\u001b[0;31mLinAlgError\u001b[0m: 23-th leading minor not positive definite",
      "\nDuring handling of the above exception, another exception occurred:\n",
      "\u001b[0;31mTypeError\u001b[0m                                 Traceback (most recent call last)",
      "\u001b[0;32mpomegranate/bayes.pyx\u001b[0m in \u001b[0;36mpomegranate.bayes.BayesModel.from_summaries\u001b[0;34m()\u001b[0m\n",
      "\u001b[0;32mpomegranate/distributions.pyx\u001b[0m in \u001b[0;36mpomegranate.distributions.MultivariateGaussianDistribution.from_summaries\u001b[0;34m()\u001b[0m\n",
      "\u001b[0;31mTypeError\u001b[0m: Cannot cast ufunc subtract output from dtype('complex128') to dtype('float64') with casting rule 'same_kind'"
     ]
    },
    {
     "name": "stderr",
     "output_type": "stream",
     "text": [
      "Exception ignored in: 'pomegranate.hmm.HiddenMarkovModel._from_summaries'\n",
      "Traceback (most recent call last):\n",
      "  File \"pomegranate/bayes.pyx\", line 710, in pomegranate.bayes.BayesModel.from_summaries\n",
      "  File \"pomegranate/distributions.pyx\", line 2259, in pomegranate.distributions.MultivariateGaussianDistribution.from_summaries\n",
      "TypeError: Cannot cast ufunc subtract output from dtype('complex128') to dtype('float64') with casting rule 'same_kind'\n"
     ]
    },
    {
     "name": "stdout",
     "output_type": "stream",
     "text": [
      "[24] Improvement: 2.3695152981672436\tTime (s): 539.2\n"
     ]
    },
    {
     "ename": "TypeError",
     "evalue": "Cannot cast ufunc subtract output from dtype('complex128') to dtype('float64') with casting rule 'same_kind'",
     "output_type": "error",
     "traceback": [
      "\u001b[0;31m---------------------------------------------------------------------------\u001b[0m",
      "\u001b[0;31mLinAlgError\u001b[0m                               Traceback (most recent call last)",
      "\u001b[0;32mpomegranate/distributions.pyx\u001b[0m in \u001b[0;36mpomegranate.distributions.MultivariateGaussianDistribution.from_summaries\u001b[0;34m()\u001b[0m\n",
      "\u001b[0;32m/usr/local/lib/python3.5/dist-packages/scipy/linalg/decomp_cholesky.py\u001b[0m in \u001b[0;36mcholesky\u001b[0;34m(a, lower, overwrite_a, check_finite)\u001b[0m\n\u001b[1;32m     80\u001b[0m     c, lower = _cholesky(a, lower=lower, overwrite_a=overwrite_a, clean=True,\n\u001b[0;32m---> 81\u001b[0;31m                             check_finite=check_finite)\n\u001b[0m\u001b[1;32m     82\u001b[0m     \u001b[0;32mreturn\u001b[0m \u001b[0mc\u001b[0m\u001b[0;34m\u001b[0m\u001b[0m\n",
      "\u001b[0;32m/usr/local/lib/python3.5/dist-packages/scipy/linalg/decomp_cholesky.py\u001b[0m in \u001b[0;36m_cholesky\u001b[0;34m(a, lower, overwrite_a, clean, check_finite)\u001b[0m\n\u001b[1;32m     29\u001b[0m     \u001b[0;32mif\u001b[0m \u001b[0minfo\u001b[0m \u001b[0;34m>\u001b[0m \u001b[0;36m0\u001b[0m\u001b[0;34m:\u001b[0m\u001b[0;34m\u001b[0m\u001b[0m\n\u001b[0;32m---> 30\u001b[0;31m         \u001b[0;32mraise\u001b[0m \u001b[0mLinAlgError\u001b[0m\u001b[0;34m(\u001b[0m\u001b[0;34m\"%d-th leading minor not positive definite\"\u001b[0m \u001b[0;34m%\u001b[0m \u001b[0minfo\u001b[0m\u001b[0;34m)\u001b[0m\u001b[0;34m\u001b[0m\u001b[0m\n\u001b[0m\u001b[1;32m     31\u001b[0m     \u001b[0;32mif\u001b[0m \u001b[0minfo\u001b[0m \u001b[0;34m<\u001b[0m \u001b[0;36m0\u001b[0m\u001b[0;34m:\u001b[0m\u001b[0;34m\u001b[0m\u001b[0m\n",
      "\u001b[0;31mLinAlgError\u001b[0m: 23-th leading minor not positive definite",
      "\nDuring handling of the above exception, another exception occurred:\n",
      "\u001b[0;31mTypeError\u001b[0m                                 Traceback (most recent call last)",
      "\u001b[0;32mpomegranate/bayes.pyx\u001b[0m in \u001b[0;36mpomegranate.bayes.BayesModel.from_summaries\u001b[0;34m()\u001b[0m\n",
      "\u001b[0;32mpomegranate/distributions.pyx\u001b[0m in \u001b[0;36mpomegranate.distributions.MultivariateGaussianDistribution.from_summaries\u001b[0;34m()\u001b[0m\n",
      "\u001b[0;31mTypeError\u001b[0m: Cannot cast ufunc subtract output from dtype('complex128') to dtype('float64') with casting rule 'same_kind'"
     ]
    },
    {
     "name": "stderr",
     "output_type": "stream",
     "text": [
      "Exception ignored in: 'pomegranate.hmm.HiddenMarkovModel._from_summaries'\n",
      "Traceback (most recent call last):\n",
      "  File \"pomegranate/bayes.pyx\", line 710, in pomegranate.bayes.BayesModel.from_summaries\n",
      "  File \"pomegranate/distributions.pyx\", line 2259, in pomegranate.distributions.MultivariateGaussianDistribution.from_summaries\n",
      "TypeError: Cannot cast ufunc subtract output from dtype('complex128') to dtype('float64') with casting rule 'same_kind'\n"
     ]
    },
    {
     "name": "stdout",
     "output_type": "stream",
     "text": [
      "[25] Improvement: 3.544300872599706\tTime (s): 534.3\n"
     ]
    },
    {
     "ename": "TypeError",
     "evalue": "Cannot cast ufunc subtract output from dtype('complex128') to dtype('float64') with casting rule 'same_kind'",
     "output_type": "error",
     "traceback": [
      "\u001b[0;31m---------------------------------------------------------------------------\u001b[0m",
      "\u001b[0;31mLinAlgError\u001b[0m                               Traceback (most recent call last)",
      "\u001b[0;32mpomegranate/distributions.pyx\u001b[0m in \u001b[0;36mpomegranate.distributions.MultivariateGaussianDistribution.from_summaries\u001b[0;34m()\u001b[0m\n",
      "\u001b[0;32m/usr/local/lib/python3.5/dist-packages/scipy/linalg/decomp_cholesky.py\u001b[0m in \u001b[0;36mcholesky\u001b[0;34m(a, lower, overwrite_a, check_finite)\u001b[0m\n\u001b[1;32m     80\u001b[0m     c, lower = _cholesky(a, lower=lower, overwrite_a=overwrite_a, clean=True,\n\u001b[0;32m---> 81\u001b[0;31m                             check_finite=check_finite)\n\u001b[0m\u001b[1;32m     82\u001b[0m     \u001b[0;32mreturn\u001b[0m \u001b[0mc\u001b[0m\u001b[0;34m\u001b[0m\u001b[0m\n",
      "\u001b[0;32m/usr/local/lib/python3.5/dist-packages/scipy/linalg/decomp_cholesky.py\u001b[0m in \u001b[0;36m_cholesky\u001b[0;34m(a, lower, overwrite_a, clean, check_finite)\u001b[0m\n\u001b[1;32m     29\u001b[0m     \u001b[0;32mif\u001b[0m \u001b[0minfo\u001b[0m \u001b[0;34m>\u001b[0m \u001b[0;36m0\u001b[0m\u001b[0;34m:\u001b[0m\u001b[0;34m\u001b[0m\u001b[0m\n\u001b[0;32m---> 30\u001b[0;31m         \u001b[0;32mraise\u001b[0m \u001b[0mLinAlgError\u001b[0m\u001b[0;34m(\u001b[0m\u001b[0;34m\"%d-th leading minor not positive definite\"\u001b[0m \u001b[0;34m%\u001b[0m \u001b[0minfo\u001b[0m\u001b[0;34m)\u001b[0m\u001b[0;34m\u001b[0m\u001b[0m\n\u001b[0m\u001b[1;32m     31\u001b[0m     \u001b[0;32mif\u001b[0m \u001b[0minfo\u001b[0m \u001b[0;34m<\u001b[0m \u001b[0;36m0\u001b[0m\u001b[0;34m:\u001b[0m\u001b[0;34m\u001b[0m\u001b[0m\n",
      "\u001b[0;31mLinAlgError\u001b[0m: 23-th leading minor not positive definite",
      "\nDuring handling of the above exception, another exception occurred:\n",
      "\u001b[0;31mTypeError\u001b[0m                                 Traceback (most recent call last)",
      "\u001b[0;32mpomegranate/bayes.pyx\u001b[0m in \u001b[0;36mpomegranate.bayes.BayesModel.from_summaries\u001b[0;34m()\u001b[0m\n",
      "\u001b[0;32mpomegranate/distributions.pyx\u001b[0m in \u001b[0;36mpomegranate.distributions.MultivariateGaussianDistribution.from_summaries\u001b[0;34m()\u001b[0m\n",
      "\u001b[0;31mTypeError\u001b[0m: Cannot cast ufunc subtract output from dtype('complex128') to dtype('float64') with casting rule 'same_kind'"
     ]
    },
    {
     "name": "stderr",
     "output_type": "stream",
     "text": [
      "Exception ignored in: 'pomegranate.hmm.HiddenMarkovModel._from_summaries'\n",
      "Traceback (most recent call last):\n",
      "  File \"pomegranate/bayes.pyx\", line 710, in pomegranate.bayes.BayesModel.from_summaries\n",
      "  File \"pomegranate/distributions.pyx\", line 2259, in pomegranate.distributions.MultivariateGaussianDistribution.from_summaries\n",
      "TypeError: Cannot cast ufunc subtract output from dtype('complex128') to dtype('float64') with casting rule 'same_kind'\n"
     ]
    },
    {
     "name": "stdout",
     "output_type": "stream",
     "text": [
      "[26] Improvement: 1.4649938035290688\tTime (s): 536.8\n"
     ]
    },
    {
     "ename": "TypeError",
     "evalue": "Cannot cast ufunc subtract output from dtype('complex128') to dtype('float64') with casting rule 'same_kind'",
     "output_type": "error",
     "traceback": [
      "\u001b[0;31m---------------------------------------------------------------------------\u001b[0m",
      "\u001b[0;31mLinAlgError\u001b[0m                               Traceback (most recent call last)",
      "\u001b[0;32mpomegranate/distributions.pyx\u001b[0m in \u001b[0;36mpomegranate.distributions.MultivariateGaussianDistribution.from_summaries\u001b[0;34m()\u001b[0m\n",
      "\u001b[0;32m/usr/local/lib/python3.5/dist-packages/scipy/linalg/decomp_cholesky.py\u001b[0m in \u001b[0;36mcholesky\u001b[0;34m(a, lower, overwrite_a, check_finite)\u001b[0m\n\u001b[1;32m     80\u001b[0m     c, lower = _cholesky(a, lower=lower, overwrite_a=overwrite_a, clean=True,\n\u001b[0;32m---> 81\u001b[0;31m                             check_finite=check_finite)\n\u001b[0m\u001b[1;32m     82\u001b[0m     \u001b[0;32mreturn\u001b[0m \u001b[0mc\u001b[0m\u001b[0;34m\u001b[0m\u001b[0m\n",
      "\u001b[0;32m/usr/local/lib/python3.5/dist-packages/scipy/linalg/decomp_cholesky.py\u001b[0m in \u001b[0;36m_cholesky\u001b[0;34m(a, lower, overwrite_a, clean, check_finite)\u001b[0m\n\u001b[1;32m     29\u001b[0m     \u001b[0;32mif\u001b[0m \u001b[0minfo\u001b[0m \u001b[0;34m>\u001b[0m \u001b[0;36m0\u001b[0m\u001b[0;34m:\u001b[0m\u001b[0;34m\u001b[0m\u001b[0m\n\u001b[0;32m---> 30\u001b[0;31m         \u001b[0;32mraise\u001b[0m \u001b[0mLinAlgError\u001b[0m\u001b[0;34m(\u001b[0m\u001b[0;34m\"%d-th leading minor not positive definite\"\u001b[0m \u001b[0;34m%\u001b[0m \u001b[0minfo\u001b[0m\u001b[0;34m)\u001b[0m\u001b[0;34m\u001b[0m\u001b[0m\n\u001b[0m\u001b[1;32m     31\u001b[0m     \u001b[0;32mif\u001b[0m \u001b[0minfo\u001b[0m \u001b[0;34m<\u001b[0m \u001b[0;36m0\u001b[0m\u001b[0;34m:\u001b[0m\u001b[0;34m\u001b[0m\u001b[0m\n",
      "\u001b[0;31mLinAlgError\u001b[0m: 23-th leading minor not positive definite",
      "\nDuring handling of the above exception, another exception occurred:\n",
      "\u001b[0;31mTypeError\u001b[0m                                 Traceback (most recent call last)",
      "\u001b[0;32mpomegranate/bayes.pyx\u001b[0m in \u001b[0;36mpomegranate.bayes.BayesModel.from_summaries\u001b[0;34m()\u001b[0m\n",
      "\u001b[0;32mpomegranate/distributions.pyx\u001b[0m in \u001b[0;36mpomegranate.distributions.MultivariateGaussianDistribution.from_summaries\u001b[0;34m()\u001b[0m\n",
      "\u001b[0;31mTypeError\u001b[0m: Cannot cast ufunc subtract output from dtype('complex128') to dtype('float64') with casting rule 'same_kind'"
     ]
    },
    {
     "name": "stderr",
     "output_type": "stream",
     "text": [
      "Exception ignored in: 'pomegranate.hmm.HiddenMarkovModel._from_summaries'\n",
      "Traceback (most recent call last):\n",
      "  File \"pomegranate/bayes.pyx\", line 710, in pomegranate.bayes.BayesModel.from_summaries\n",
      "  File \"pomegranate/distributions.pyx\", line 2259, in pomegranate.distributions.MultivariateGaussianDistribution.from_summaries\n",
      "TypeError: Cannot cast ufunc subtract output from dtype('complex128') to dtype('float64') with casting rule 'same_kind'\n"
     ]
    },
    {
     "name": "stdout",
     "output_type": "stream",
     "text": [
      "[27] Improvement: 2.373902595601976\tTime (s): 540.3\n"
     ]
    },
    {
     "ename": "TypeError",
     "evalue": "Cannot cast ufunc subtract output from dtype('complex128') to dtype('float64') with casting rule 'same_kind'",
     "output_type": "error",
     "traceback": [
      "\u001b[0;31m---------------------------------------------------------------------------\u001b[0m",
      "\u001b[0;31mLinAlgError\u001b[0m                               Traceback (most recent call last)",
      "\u001b[0;32mpomegranate/distributions.pyx\u001b[0m in \u001b[0;36mpomegranate.distributions.MultivariateGaussianDistribution.from_summaries\u001b[0;34m()\u001b[0m\n",
      "\u001b[0;32m/usr/local/lib/python3.5/dist-packages/scipy/linalg/decomp_cholesky.py\u001b[0m in \u001b[0;36mcholesky\u001b[0;34m(a, lower, overwrite_a, check_finite)\u001b[0m\n\u001b[1;32m     80\u001b[0m     c, lower = _cholesky(a, lower=lower, overwrite_a=overwrite_a, clean=True,\n\u001b[0;32m---> 81\u001b[0;31m                             check_finite=check_finite)\n\u001b[0m\u001b[1;32m     82\u001b[0m     \u001b[0;32mreturn\u001b[0m \u001b[0mc\u001b[0m\u001b[0;34m\u001b[0m\u001b[0m\n",
      "\u001b[0;32m/usr/local/lib/python3.5/dist-packages/scipy/linalg/decomp_cholesky.py\u001b[0m in \u001b[0;36m_cholesky\u001b[0;34m(a, lower, overwrite_a, clean, check_finite)\u001b[0m\n\u001b[1;32m     29\u001b[0m     \u001b[0;32mif\u001b[0m \u001b[0minfo\u001b[0m \u001b[0;34m>\u001b[0m \u001b[0;36m0\u001b[0m\u001b[0;34m:\u001b[0m\u001b[0;34m\u001b[0m\u001b[0m\n\u001b[0;32m---> 30\u001b[0;31m         \u001b[0;32mraise\u001b[0m \u001b[0mLinAlgError\u001b[0m\u001b[0;34m(\u001b[0m\u001b[0;34m\"%d-th leading minor not positive definite\"\u001b[0m \u001b[0;34m%\u001b[0m \u001b[0minfo\u001b[0m\u001b[0;34m)\u001b[0m\u001b[0;34m\u001b[0m\u001b[0m\n\u001b[0m\u001b[1;32m     31\u001b[0m     \u001b[0;32mif\u001b[0m \u001b[0minfo\u001b[0m \u001b[0;34m<\u001b[0m \u001b[0;36m0\u001b[0m\u001b[0;34m:\u001b[0m\u001b[0;34m\u001b[0m\u001b[0m\n",
      "\u001b[0;31mLinAlgError\u001b[0m: 23-th leading minor not positive definite",
      "\nDuring handling of the above exception, another exception occurred:\n",
      "\u001b[0;31mTypeError\u001b[0m                                 Traceback (most recent call last)",
      "\u001b[0;32mpomegranate/bayes.pyx\u001b[0m in \u001b[0;36mpomegranate.bayes.BayesModel.from_summaries\u001b[0;34m()\u001b[0m\n",
      "\u001b[0;32mpomegranate/distributions.pyx\u001b[0m in \u001b[0;36mpomegranate.distributions.MultivariateGaussianDistribution.from_summaries\u001b[0;34m()\u001b[0m\n",
      "\u001b[0;31mTypeError\u001b[0m: Cannot cast ufunc subtract output from dtype('complex128') to dtype('float64') with casting rule 'same_kind'"
     ]
    },
    {
     "name": "stderr",
     "output_type": "stream",
     "text": [
      "Exception ignored in: 'pomegranate.hmm.HiddenMarkovModel._from_summaries'\n",
      "Traceback (most recent call last):\n",
      "  File \"pomegranate/bayes.pyx\", line 710, in pomegranate.bayes.BayesModel.from_summaries\n",
      "  File \"pomegranate/distributions.pyx\", line 2259, in pomegranate.distributions.MultivariateGaussianDistribution.from_summaries\n",
      "TypeError: Cannot cast ufunc subtract output from dtype('complex128') to dtype('float64') with casting rule 'same_kind'\n"
     ]
    },
    {
     "name": "stdout",
     "output_type": "stream",
     "text": [
      "[28] Improvement: 1.8202342817094177\tTime (s): 538.5\n"
     ]
    },
    {
     "ename": "TypeError",
     "evalue": "Cannot cast ufunc subtract output from dtype('complex128') to dtype('float64') with casting rule 'same_kind'",
     "output_type": "error",
     "traceback": [
      "\u001b[0;31m---------------------------------------------------------------------------\u001b[0m",
      "\u001b[0;31mLinAlgError\u001b[0m                               Traceback (most recent call last)",
      "\u001b[0;32mpomegranate/distributions.pyx\u001b[0m in \u001b[0;36mpomegranate.distributions.MultivariateGaussianDistribution.from_summaries\u001b[0;34m()\u001b[0m\n",
      "\u001b[0;32m/usr/local/lib/python3.5/dist-packages/scipy/linalg/decomp_cholesky.py\u001b[0m in \u001b[0;36mcholesky\u001b[0;34m(a, lower, overwrite_a, check_finite)\u001b[0m\n\u001b[1;32m     80\u001b[0m     c, lower = _cholesky(a, lower=lower, overwrite_a=overwrite_a, clean=True,\n\u001b[0;32m---> 81\u001b[0;31m                             check_finite=check_finite)\n\u001b[0m\u001b[1;32m     82\u001b[0m     \u001b[0;32mreturn\u001b[0m \u001b[0mc\u001b[0m\u001b[0;34m\u001b[0m\u001b[0m\n",
      "\u001b[0;32m/usr/local/lib/python3.5/dist-packages/scipy/linalg/decomp_cholesky.py\u001b[0m in \u001b[0;36m_cholesky\u001b[0;34m(a, lower, overwrite_a, clean, check_finite)\u001b[0m\n\u001b[1;32m     29\u001b[0m     \u001b[0;32mif\u001b[0m \u001b[0minfo\u001b[0m \u001b[0;34m>\u001b[0m \u001b[0;36m0\u001b[0m\u001b[0;34m:\u001b[0m\u001b[0;34m\u001b[0m\u001b[0m\n\u001b[0;32m---> 30\u001b[0;31m         \u001b[0;32mraise\u001b[0m \u001b[0mLinAlgError\u001b[0m\u001b[0;34m(\u001b[0m\u001b[0;34m\"%d-th leading minor not positive definite\"\u001b[0m \u001b[0;34m%\u001b[0m \u001b[0minfo\u001b[0m\u001b[0;34m)\u001b[0m\u001b[0;34m\u001b[0m\u001b[0m\n\u001b[0m\u001b[1;32m     31\u001b[0m     \u001b[0;32mif\u001b[0m \u001b[0minfo\u001b[0m \u001b[0;34m<\u001b[0m \u001b[0;36m0\u001b[0m\u001b[0;34m:\u001b[0m\u001b[0;34m\u001b[0m\u001b[0m\n",
      "\u001b[0;31mLinAlgError\u001b[0m: 23-th leading minor not positive definite",
      "\nDuring handling of the above exception, another exception occurred:\n",
      "\u001b[0;31mTypeError\u001b[0m                                 Traceback (most recent call last)",
      "\u001b[0;32mpomegranate/bayes.pyx\u001b[0m in \u001b[0;36mpomegranate.bayes.BayesModel.from_summaries\u001b[0;34m()\u001b[0m\n",
      "\u001b[0;32mpomegranate/distributions.pyx\u001b[0m in \u001b[0;36mpomegranate.distributions.MultivariateGaussianDistribution.from_summaries\u001b[0;34m()\u001b[0m\n",
      "\u001b[0;31mTypeError\u001b[0m: Cannot cast ufunc subtract output from dtype('complex128') to dtype('float64') with casting rule 'same_kind'"
     ]
    },
    {
     "name": "stderr",
     "output_type": "stream",
     "text": [
      "Exception ignored in: 'pomegranate.hmm.HiddenMarkovModel._from_summaries'\n",
      "Traceback (most recent call last):\n",
      "  File \"pomegranate/bayes.pyx\", line 710, in pomegranate.bayes.BayesModel.from_summaries\n",
      "  File \"pomegranate/distributions.pyx\", line 2259, in pomegranate.distributions.MultivariateGaussianDistribution.from_summaries\n",
      "TypeError: Cannot cast ufunc subtract output from dtype('complex128') to dtype('float64') with casting rule 'same_kind'\n"
     ]
    },
    {
     "name": "stdout",
     "output_type": "stream",
     "text": [
      "[29] Improvement: 1.1508187069557607\tTime (s): 531.2\n"
     ]
    },
    {
     "ename": "TypeError",
     "evalue": "Cannot cast ufunc subtract output from dtype('complex128') to dtype('float64') with casting rule 'same_kind'",
     "output_type": "error",
     "traceback": [
      "\u001b[0;31m---------------------------------------------------------------------------\u001b[0m",
      "\u001b[0;31mLinAlgError\u001b[0m                               Traceback (most recent call last)",
      "\u001b[0;32mpomegranate/distributions.pyx\u001b[0m in \u001b[0;36mpomegranate.distributions.MultivariateGaussianDistribution.from_summaries\u001b[0;34m()\u001b[0m\n",
      "\u001b[0;32m/usr/local/lib/python3.5/dist-packages/scipy/linalg/decomp_cholesky.py\u001b[0m in \u001b[0;36mcholesky\u001b[0;34m(a, lower, overwrite_a, check_finite)\u001b[0m\n\u001b[1;32m     80\u001b[0m     c, lower = _cholesky(a, lower=lower, overwrite_a=overwrite_a, clean=True,\n\u001b[0;32m---> 81\u001b[0;31m                             check_finite=check_finite)\n\u001b[0m\u001b[1;32m     82\u001b[0m     \u001b[0;32mreturn\u001b[0m \u001b[0mc\u001b[0m\u001b[0;34m\u001b[0m\u001b[0m\n",
      "\u001b[0;32m/usr/local/lib/python3.5/dist-packages/scipy/linalg/decomp_cholesky.py\u001b[0m in \u001b[0;36m_cholesky\u001b[0;34m(a, lower, overwrite_a, clean, check_finite)\u001b[0m\n\u001b[1;32m     29\u001b[0m     \u001b[0;32mif\u001b[0m \u001b[0minfo\u001b[0m \u001b[0;34m>\u001b[0m \u001b[0;36m0\u001b[0m\u001b[0;34m:\u001b[0m\u001b[0;34m\u001b[0m\u001b[0m\n\u001b[0;32m---> 30\u001b[0;31m         \u001b[0;32mraise\u001b[0m \u001b[0mLinAlgError\u001b[0m\u001b[0;34m(\u001b[0m\u001b[0;34m\"%d-th leading minor not positive definite\"\u001b[0m \u001b[0;34m%\u001b[0m \u001b[0minfo\u001b[0m\u001b[0;34m)\u001b[0m\u001b[0;34m\u001b[0m\u001b[0m\n\u001b[0m\u001b[1;32m     31\u001b[0m     \u001b[0;32mif\u001b[0m \u001b[0minfo\u001b[0m \u001b[0;34m<\u001b[0m \u001b[0;36m0\u001b[0m\u001b[0;34m:\u001b[0m\u001b[0;34m\u001b[0m\u001b[0m\n",
      "\u001b[0;31mLinAlgError\u001b[0m: 23-th leading minor not positive definite",
      "\nDuring handling of the above exception, another exception occurred:\n",
      "\u001b[0;31mTypeError\u001b[0m                                 Traceback (most recent call last)",
      "\u001b[0;32mpomegranate/bayes.pyx\u001b[0m in \u001b[0;36mpomegranate.bayes.BayesModel.from_summaries\u001b[0;34m()\u001b[0m\n",
      "\u001b[0;32mpomegranate/distributions.pyx\u001b[0m in \u001b[0;36mpomegranate.distributions.MultivariateGaussianDistribution.from_summaries\u001b[0;34m()\u001b[0m\n",
      "\u001b[0;31mTypeError\u001b[0m: Cannot cast ufunc subtract output from dtype('complex128') to dtype('float64') with casting rule 'same_kind'"
     ]
    },
    {
     "name": "stderr",
     "output_type": "stream",
     "text": [
      "Exception ignored in: 'pomegranate.hmm.HiddenMarkovModel._from_summaries'\n",
      "Traceback (most recent call last):\n",
      "  File \"pomegranate/bayes.pyx\", line 710, in pomegranate.bayes.BayesModel.from_summaries\n",
      "  File \"pomegranate/distributions.pyx\", line 2259, in pomegranate.distributions.MultivariateGaussianDistribution.from_summaries\n",
      "TypeError: Cannot cast ufunc subtract output from dtype('complex128') to dtype('float64') with casting rule 'same_kind'\n"
     ]
    },
    {
     "name": "stdout",
     "output_type": "stream",
     "text": [
      "[30] Improvement: 0.14089310844428837\tTime (s): 537.6\n"
     ]
    },
    {
     "ename": "TypeError",
     "evalue": "Cannot cast ufunc subtract output from dtype('complex128') to dtype('float64') with casting rule 'same_kind'",
     "output_type": "error",
     "traceback": [
      "\u001b[0;31m---------------------------------------------------------------------------\u001b[0m",
      "\u001b[0;31mLinAlgError\u001b[0m                               Traceback (most recent call last)",
      "\u001b[0;32mpomegranate/distributions.pyx\u001b[0m in \u001b[0;36mpomegranate.distributions.MultivariateGaussianDistribution.from_summaries\u001b[0;34m()\u001b[0m\n",
      "\u001b[0;32m/usr/local/lib/python3.5/dist-packages/scipy/linalg/decomp_cholesky.py\u001b[0m in \u001b[0;36mcholesky\u001b[0;34m(a, lower, overwrite_a, check_finite)\u001b[0m\n\u001b[1;32m     80\u001b[0m     c, lower = _cholesky(a, lower=lower, overwrite_a=overwrite_a, clean=True,\n\u001b[0;32m---> 81\u001b[0;31m                             check_finite=check_finite)\n\u001b[0m\u001b[1;32m     82\u001b[0m     \u001b[0;32mreturn\u001b[0m \u001b[0mc\u001b[0m\u001b[0;34m\u001b[0m\u001b[0m\n",
      "\u001b[0;32m/usr/local/lib/python3.5/dist-packages/scipy/linalg/decomp_cholesky.py\u001b[0m in \u001b[0;36m_cholesky\u001b[0;34m(a, lower, overwrite_a, clean, check_finite)\u001b[0m\n\u001b[1;32m     29\u001b[0m     \u001b[0;32mif\u001b[0m \u001b[0minfo\u001b[0m \u001b[0;34m>\u001b[0m \u001b[0;36m0\u001b[0m\u001b[0;34m:\u001b[0m\u001b[0;34m\u001b[0m\u001b[0m\n\u001b[0;32m---> 30\u001b[0;31m         \u001b[0;32mraise\u001b[0m \u001b[0mLinAlgError\u001b[0m\u001b[0;34m(\u001b[0m\u001b[0;34m\"%d-th leading minor not positive definite\"\u001b[0m \u001b[0;34m%\u001b[0m \u001b[0minfo\u001b[0m\u001b[0;34m)\u001b[0m\u001b[0;34m\u001b[0m\u001b[0m\n\u001b[0m\u001b[1;32m     31\u001b[0m     \u001b[0;32mif\u001b[0m \u001b[0minfo\u001b[0m \u001b[0;34m<\u001b[0m \u001b[0;36m0\u001b[0m\u001b[0;34m:\u001b[0m\u001b[0;34m\u001b[0m\u001b[0m\n",
      "\u001b[0;31mLinAlgError\u001b[0m: 23-th leading minor not positive definite",
      "\nDuring handling of the above exception, another exception occurred:\n",
      "\u001b[0;31mTypeError\u001b[0m                                 Traceback (most recent call last)",
      "\u001b[0;32mpomegranate/bayes.pyx\u001b[0m in \u001b[0;36mpomegranate.bayes.BayesModel.from_summaries\u001b[0;34m()\u001b[0m\n",
      "\u001b[0;32mpomegranate/distributions.pyx\u001b[0m in \u001b[0;36mpomegranate.distributions.MultivariateGaussianDistribution.from_summaries\u001b[0;34m()\u001b[0m\n",
      "\u001b[0;31mTypeError\u001b[0m: Cannot cast ufunc subtract output from dtype('complex128') to dtype('float64') with casting rule 'same_kind'"
     ]
    },
    {
     "name": "stderr",
     "output_type": "stream",
     "text": [
      "Exception ignored in: 'pomegranate.hmm.HiddenMarkovModel._from_summaries'\n",
      "Traceback (most recent call last):\n",
      "  File \"pomegranate/bayes.pyx\", line 710, in pomegranate.bayes.BayesModel.from_summaries\n",
      "  File \"pomegranate/distributions.pyx\", line 2259, in pomegranate.distributions.MultivariateGaussianDistribution.from_summaries\n",
      "TypeError: Cannot cast ufunc subtract output from dtype('complex128') to dtype('float64') with casting rule 'same_kind'\n"
     ]
    },
    {
     "name": "stdout",
     "output_type": "stream",
     "text": [
      "[31] Improvement: 0.025304103270173073\tTime (s): 539.9\n"
     ]
    },
    {
     "ename": "TypeError",
     "evalue": "Cannot cast ufunc subtract output from dtype('complex128') to dtype('float64') with casting rule 'same_kind'",
     "output_type": "error",
     "traceback": [
      "\u001b[0;31m---------------------------------------------------------------------------\u001b[0m",
      "\u001b[0;31mLinAlgError\u001b[0m                               Traceback (most recent call last)",
      "\u001b[0;32mpomegranate/distributions.pyx\u001b[0m in \u001b[0;36mpomegranate.distributions.MultivariateGaussianDistribution.from_summaries\u001b[0;34m()\u001b[0m\n",
      "\u001b[0;32m/usr/local/lib/python3.5/dist-packages/scipy/linalg/decomp_cholesky.py\u001b[0m in \u001b[0;36mcholesky\u001b[0;34m(a, lower, overwrite_a, check_finite)\u001b[0m\n\u001b[1;32m     80\u001b[0m     c, lower = _cholesky(a, lower=lower, overwrite_a=overwrite_a, clean=True,\n\u001b[0;32m---> 81\u001b[0;31m                             check_finite=check_finite)\n\u001b[0m\u001b[1;32m     82\u001b[0m     \u001b[0;32mreturn\u001b[0m \u001b[0mc\u001b[0m\u001b[0;34m\u001b[0m\u001b[0m\n",
      "\u001b[0;32m/usr/local/lib/python3.5/dist-packages/scipy/linalg/decomp_cholesky.py\u001b[0m in \u001b[0;36m_cholesky\u001b[0;34m(a, lower, overwrite_a, clean, check_finite)\u001b[0m\n\u001b[1;32m     29\u001b[0m     \u001b[0;32mif\u001b[0m \u001b[0minfo\u001b[0m \u001b[0;34m>\u001b[0m \u001b[0;36m0\u001b[0m\u001b[0;34m:\u001b[0m\u001b[0;34m\u001b[0m\u001b[0m\n\u001b[0;32m---> 30\u001b[0;31m         \u001b[0;32mraise\u001b[0m \u001b[0mLinAlgError\u001b[0m\u001b[0;34m(\u001b[0m\u001b[0;34m\"%d-th leading minor not positive definite\"\u001b[0m \u001b[0;34m%\u001b[0m \u001b[0minfo\u001b[0m\u001b[0;34m)\u001b[0m\u001b[0;34m\u001b[0m\u001b[0m\n\u001b[0m\u001b[1;32m     31\u001b[0m     \u001b[0;32mif\u001b[0m \u001b[0minfo\u001b[0m \u001b[0;34m<\u001b[0m \u001b[0;36m0\u001b[0m\u001b[0;34m:\u001b[0m\u001b[0;34m\u001b[0m\u001b[0m\n",
      "\u001b[0;31mLinAlgError\u001b[0m: 23-th leading minor not positive definite",
      "\nDuring handling of the above exception, another exception occurred:\n",
      "\u001b[0;31mTypeError\u001b[0m                                 Traceback (most recent call last)",
      "\u001b[0;32mpomegranate/bayes.pyx\u001b[0m in \u001b[0;36mpomegranate.bayes.BayesModel.from_summaries\u001b[0;34m()\u001b[0m\n",
      "\u001b[0;32mpomegranate/distributions.pyx\u001b[0m in \u001b[0;36mpomegranate.distributions.MultivariateGaussianDistribution.from_summaries\u001b[0;34m()\u001b[0m\n",
      "\u001b[0;31mTypeError\u001b[0m: Cannot cast ufunc subtract output from dtype('complex128') to dtype('float64') with casting rule 'same_kind'"
     ]
    },
    {
     "name": "stderr",
     "output_type": "stream",
     "text": [
      "Exception ignored in: 'pomegranate.hmm.HiddenMarkovModel._from_summaries'\n",
      "Traceback (most recent call last):\n",
      "  File \"pomegranate/bayes.pyx\", line 710, in pomegranate.bayes.BayesModel.from_summaries\n",
      "  File \"pomegranate/distributions.pyx\", line 2259, in pomegranate.distributions.MultivariateGaussianDistribution.from_summaries\n",
      "TypeError: Cannot cast ufunc subtract output from dtype('complex128') to dtype('float64') with casting rule 'same_kind'\n"
     ]
    },
    {
     "name": "stdout",
     "output_type": "stream",
     "text": [
      "[32] Improvement: 0.009570289170369506\tTime (s): 543.2\n"
     ]
    },
    {
     "ename": "TypeError",
     "evalue": "Cannot cast ufunc subtract output from dtype('complex128') to dtype('float64') with casting rule 'same_kind'",
     "output_type": "error",
     "traceback": [
      "\u001b[0;31m---------------------------------------------------------------------------\u001b[0m",
      "\u001b[0;31mLinAlgError\u001b[0m                               Traceback (most recent call last)",
      "\u001b[0;32mpomegranate/distributions.pyx\u001b[0m in \u001b[0;36mpomegranate.distributions.MultivariateGaussianDistribution.from_summaries\u001b[0;34m()\u001b[0m\n",
      "\u001b[0;32m/usr/local/lib/python3.5/dist-packages/scipy/linalg/decomp_cholesky.py\u001b[0m in \u001b[0;36mcholesky\u001b[0;34m(a, lower, overwrite_a, check_finite)\u001b[0m\n\u001b[1;32m     80\u001b[0m     c, lower = _cholesky(a, lower=lower, overwrite_a=overwrite_a, clean=True,\n\u001b[0;32m---> 81\u001b[0;31m                             check_finite=check_finite)\n\u001b[0m\u001b[1;32m     82\u001b[0m     \u001b[0;32mreturn\u001b[0m \u001b[0mc\u001b[0m\u001b[0;34m\u001b[0m\u001b[0m\n",
      "\u001b[0;32m/usr/local/lib/python3.5/dist-packages/scipy/linalg/decomp_cholesky.py\u001b[0m in \u001b[0;36m_cholesky\u001b[0;34m(a, lower, overwrite_a, clean, check_finite)\u001b[0m\n\u001b[1;32m     29\u001b[0m     \u001b[0;32mif\u001b[0m \u001b[0minfo\u001b[0m \u001b[0;34m>\u001b[0m \u001b[0;36m0\u001b[0m\u001b[0;34m:\u001b[0m\u001b[0;34m\u001b[0m\u001b[0m\n\u001b[0;32m---> 30\u001b[0;31m         \u001b[0;32mraise\u001b[0m \u001b[0mLinAlgError\u001b[0m\u001b[0;34m(\u001b[0m\u001b[0;34m\"%d-th leading minor not positive definite\"\u001b[0m \u001b[0;34m%\u001b[0m \u001b[0minfo\u001b[0m\u001b[0;34m)\u001b[0m\u001b[0;34m\u001b[0m\u001b[0m\n\u001b[0m\u001b[1;32m     31\u001b[0m     \u001b[0;32mif\u001b[0m \u001b[0minfo\u001b[0m \u001b[0;34m<\u001b[0m \u001b[0;36m0\u001b[0m\u001b[0;34m:\u001b[0m\u001b[0;34m\u001b[0m\u001b[0m\n",
      "\u001b[0;31mLinAlgError\u001b[0m: 23-th leading minor not positive definite",
      "\nDuring handling of the above exception, another exception occurred:\n",
      "\u001b[0;31mTypeError\u001b[0m                                 Traceback (most recent call last)",
      "\u001b[0;32mpomegranate/bayes.pyx\u001b[0m in \u001b[0;36mpomegranate.bayes.BayesModel.from_summaries\u001b[0;34m()\u001b[0m\n",
      "\u001b[0;32mpomegranate/distributions.pyx\u001b[0m in \u001b[0;36mpomegranate.distributions.MultivariateGaussianDistribution.from_summaries\u001b[0;34m()\u001b[0m\n",
      "\u001b[0;31mTypeError\u001b[0m: Cannot cast ufunc subtract output from dtype('complex128') to dtype('float64') with casting rule 'same_kind'"
     ]
    },
    {
     "name": "stderr",
     "output_type": "stream",
     "text": [
      "Exception ignored in: 'pomegranate.hmm.HiddenMarkovModel._from_summaries'\n",
      "Traceback (most recent call last):\n",
      "  File \"pomegranate/bayes.pyx\", line 710, in pomegranate.bayes.BayesModel.from_summaries\n",
      "  File \"pomegranate/distributions.pyx\", line 2259, in pomegranate.distributions.MultivariateGaussianDistribution.from_summaries\n",
      "TypeError: Cannot cast ufunc subtract output from dtype('complex128') to dtype('float64') with casting rule 'same_kind'\n"
     ]
    },
    {
     "name": "stdout",
     "output_type": "stream",
     "text": [
      "[33] Improvement: 0.00407100236043334\tTime (s): 543.1\n"
     ]
    },
    {
     "ename": "TypeError",
     "evalue": "Cannot cast ufunc subtract output from dtype('complex128') to dtype('float64') with casting rule 'same_kind'",
     "output_type": "error",
     "traceback": [
      "\u001b[0;31m---------------------------------------------------------------------------\u001b[0m",
      "\u001b[0;31mLinAlgError\u001b[0m                               Traceback (most recent call last)",
      "\u001b[0;32mpomegranate/distributions.pyx\u001b[0m in \u001b[0;36mpomegranate.distributions.MultivariateGaussianDistribution.from_summaries\u001b[0;34m()\u001b[0m\n",
      "\u001b[0;32m/usr/local/lib/python3.5/dist-packages/scipy/linalg/decomp_cholesky.py\u001b[0m in \u001b[0;36mcholesky\u001b[0;34m(a, lower, overwrite_a, check_finite)\u001b[0m\n\u001b[1;32m     80\u001b[0m     c, lower = _cholesky(a, lower=lower, overwrite_a=overwrite_a, clean=True,\n\u001b[0;32m---> 81\u001b[0;31m                             check_finite=check_finite)\n\u001b[0m\u001b[1;32m     82\u001b[0m     \u001b[0;32mreturn\u001b[0m \u001b[0mc\u001b[0m\u001b[0;34m\u001b[0m\u001b[0m\n",
      "\u001b[0;32m/usr/local/lib/python3.5/dist-packages/scipy/linalg/decomp_cholesky.py\u001b[0m in \u001b[0;36m_cholesky\u001b[0;34m(a, lower, overwrite_a, clean, check_finite)\u001b[0m\n\u001b[1;32m     29\u001b[0m     \u001b[0;32mif\u001b[0m \u001b[0minfo\u001b[0m \u001b[0;34m>\u001b[0m \u001b[0;36m0\u001b[0m\u001b[0;34m:\u001b[0m\u001b[0;34m\u001b[0m\u001b[0m\n\u001b[0;32m---> 30\u001b[0;31m         \u001b[0;32mraise\u001b[0m \u001b[0mLinAlgError\u001b[0m\u001b[0;34m(\u001b[0m\u001b[0;34m\"%d-th leading minor not positive definite\"\u001b[0m \u001b[0;34m%\u001b[0m \u001b[0minfo\u001b[0m\u001b[0;34m)\u001b[0m\u001b[0;34m\u001b[0m\u001b[0m\n\u001b[0m\u001b[1;32m     31\u001b[0m     \u001b[0;32mif\u001b[0m \u001b[0minfo\u001b[0m \u001b[0;34m<\u001b[0m \u001b[0;36m0\u001b[0m\u001b[0;34m:\u001b[0m\u001b[0;34m\u001b[0m\u001b[0m\n",
      "\u001b[0;31mLinAlgError\u001b[0m: 23-th leading minor not positive definite",
      "\nDuring handling of the above exception, another exception occurred:\n",
      "\u001b[0;31mTypeError\u001b[0m                                 Traceback (most recent call last)",
      "\u001b[0;32mpomegranate/bayes.pyx\u001b[0m in \u001b[0;36mpomegranate.bayes.BayesModel.from_summaries\u001b[0;34m()\u001b[0m\n",
      "\u001b[0;32mpomegranate/distributions.pyx\u001b[0m in \u001b[0;36mpomegranate.distributions.MultivariateGaussianDistribution.from_summaries\u001b[0;34m()\u001b[0m\n",
      "\u001b[0;31mTypeError\u001b[0m: Cannot cast ufunc subtract output from dtype('complex128') to dtype('float64') with casting rule 'same_kind'"
     ]
    },
    {
     "name": "stderr",
     "output_type": "stream",
     "text": [
      "Exception ignored in: 'pomegranate.hmm.HiddenMarkovModel._from_summaries'\n",
      "Traceback (most recent call last):\n",
      "  File \"pomegranate/bayes.pyx\", line 710, in pomegranate.bayes.BayesModel.from_summaries\n",
      "  File \"pomegranate/distributions.pyx\", line 2259, in pomegranate.distributions.MultivariateGaussianDistribution.from_summaries\n",
      "TypeError: Cannot cast ufunc subtract output from dtype('complex128') to dtype('float64') with casting rule 'same_kind'\n"
     ]
    },
    {
     "name": "stdout",
     "output_type": "stream",
     "text": [
      "[34] Improvement: 0.0019249648321419954\tTime (s): 541.6\n"
     ]
    },
    {
     "ename": "TypeError",
     "evalue": "Cannot cast ufunc subtract output from dtype('complex128') to dtype('float64') with casting rule 'same_kind'",
     "output_type": "error",
     "traceback": [
      "\u001b[0;31m---------------------------------------------------------------------------\u001b[0m",
      "\u001b[0;31mLinAlgError\u001b[0m                               Traceback (most recent call last)",
      "\u001b[0;32mpomegranate/distributions.pyx\u001b[0m in \u001b[0;36mpomegranate.distributions.MultivariateGaussianDistribution.from_summaries\u001b[0;34m()\u001b[0m\n",
      "\u001b[0;32m/usr/local/lib/python3.5/dist-packages/scipy/linalg/decomp_cholesky.py\u001b[0m in \u001b[0;36mcholesky\u001b[0;34m(a, lower, overwrite_a, check_finite)\u001b[0m\n\u001b[1;32m     80\u001b[0m     c, lower = _cholesky(a, lower=lower, overwrite_a=overwrite_a, clean=True,\n\u001b[0;32m---> 81\u001b[0;31m                             check_finite=check_finite)\n\u001b[0m\u001b[1;32m     82\u001b[0m     \u001b[0;32mreturn\u001b[0m \u001b[0mc\u001b[0m\u001b[0;34m\u001b[0m\u001b[0m\n",
      "\u001b[0;32m/usr/local/lib/python3.5/dist-packages/scipy/linalg/decomp_cholesky.py\u001b[0m in \u001b[0;36m_cholesky\u001b[0;34m(a, lower, overwrite_a, clean, check_finite)\u001b[0m\n\u001b[1;32m     29\u001b[0m     \u001b[0;32mif\u001b[0m \u001b[0minfo\u001b[0m \u001b[0;34m>\u001b[0m \u001b[0;36m0\u001b[0m\u001b[0;34m:\u001b[0m\u001b[0;34m\u001b[0m\u001b[0m\n\u001b[0;32m---> 30\u001b[0;31m         \u001b[0;32mraise\u001b[0m \u001b[0mLinAlgError\u001b[0m\u001b[0;34m(\u001b[0m\u001b[0;34m\"%d-th leading minor not positive definite\"\u001b[0m \u001b[0;34m%\u001b[0m \u001b[0minfo\u001b[0m\u001b[0;34m)\u001b[0m\u001b[0;34m\u001b[0m\u001b[0m\n\u001b[0m\u001b[1;32m     31\u001b[0m     \u001b[0;32mif\u001b[0m \u001b[0minfo\u001b[0m \u001b[0;34m<\u001b[0m \u001b[0;36m0\u001b[0m\u001b[0;34m:\u001b[0m\u001b[0;34m\u001b[0m\u001b[0m\n",
      "\u001b[0;31mLinAlgError\u001b[0m: 23-th leading minor not positive definite",
      "\nDuring handling of the above exception, another exception occurred:\n",
      "\u001b[0;31mTypeError\u001b[0m                                 Traceback (most recent call last)",
      "\u001b[0;32mpomegranate/bayes.pyx\u001b[0m in \u001b[0;36mpomegranate.bayes.BayesModel.from_summaries\u001b[0;34m()\u001b[0m\n",
      "\u001b[0;32mpomegranate/distributions.pyx\u001b[0m in \u001b[0;36mpomegranate.distributions.MultivariateGaussianDistribution.from_summaries\u001b[0;34m()\u001b[0m\n",
      "\u001b[0;31mTypeError\u001b[0m: Cannot cast ufunc subtract output from dtype('complex128') to dtype('float64') with casting rule 'same_kind'"
     ]
    },
    {
     "name": "stderr",
     "output_type": "stream",
     "text": [
      "Exception ignored in: 'pomegranate.hmm.HiddenMarkovModel._from_summaries'\n",
      "Traceback (most recent call last):\n",
      "  File \"pomegranate/bayes.pyx\", line 710, in pomegranate.bayes.BayesModel.from_summaries\n",
      "  File \"pomegranate/distributions.pyx\", line 2259, in pomegranate.distributions.MultivariateGaussianDistribution.from_summaries\n",
      "TypeError: Cannot cast ufunc subtract output from dtype('complex128') to dtype('float64') with casting rule 'same_kind'\n"
     ]
    },
    {
     "name": "stdout",
     "output_type": "stream",
     "text": [
      "[35] Improvement: 0.0011146396864205599\tTime (s): 539.0\n"
     ]
    },
    {
     "ename": "TypeError",
     "evalue": "Cannot cast ufunc subtract output from dtype('complex128') to dtype('float64') with casting rule 'same_kind'",
     "output_type": "error",
     "traceback": [
      "\u001b[0;31m---------------------------------------------------------------------------\u001b[0m",
      "\u001b[0;31mLinAlgError\u001b[0m                               Traceback (most recent call last)",
      "\u001b[0;32mpomegranate/distributions.pyx\u001b[0m in \u001b[0;36mpomegranate.distributions.MultivariateGaussianDistribution.from_summaries\u001b[0;34m()\u001b[0m\n",
      "\u001b[0;32m/usr/local/lib/python3.5/dist-packages/scipy/linalg/decomp_cholesky.py\u001b[0m in \u001b[0;36mcholesky\u001b[0;34m(a, lower, overwrite_a, check_finite)\u001b[0m\n\u001b[1;32m     80\u001b[0m     c, lower = _cholesky(a, lower=lower, overwrite_a=overwrite_a, clean=True,\n\u001b[0;32m---> 81\u001b[0;31m                             check_finite=check_finite)\n\u001b[0m\u001b[1;32m     82\u001b[0m     \u001b[0;32mreturn\u001b[0m \u001b[0mc\u001b[0m\u001b[0;34m\u001b[0m\u001b[0m\n",
      "\u001b[0;32m/usr/local/lib/python3.5/dist-packages/scipy/linalg/decomp_cholesky.py\u001b[0m in \u001b[0;36m_cholesky\u001b[0;34m(a, lower, overwrite_a, clean, check_finite)\u001b[0m\n\u001b[1;32m     29\u001b[0m     \u001b[0;32mif\u001b[0m \u001b[0minfo\u001b[0m \u001b[0;34m>\u001b[0m \u001b[0;36m0\u001b[0m\u001b[0;34m:\u001b[0m\u001b[0;34m\u001b[0m\u001b[0m\n\u001b[0;32m---> 30\u001b[0;31m         \u001b[0;32mraise\u001b[0m \u001b[0mLinAlgError\u001b[0m\u001b[0;34m(\u001b[0m\u001b[0;34m\"%d-th leading minor not positive definite\"\u001b[0m \u001b[0;34m%\u001b[0m \u001b[0minfo\u001b[0m\u001b[0;34m)\u001b[0m\u001b[0;34m\u001b[0m\u001b[0m\n\u001b[0m\u001b[1;32m     31\u001b[0m     \u001b[0;32mif\u001b[0m \u001b[0minfo\u001b[0m \u001b[0;34m<\u001b[0m \u001b[0;36m0\u001b[0m\u001b[0;34m:\u001b[0m\u001b[0;34m\u001b[0m\u001b[0m\n",
      "\u001b[0;31mLinAlgError\u001b[0m: 23-th leading minor not positive definite",
      "\nDuring handling of the above exception, another exception occurred:\n",
      "\u001b[0;31mTypeError\u001b[0m                                 Traceback (most recent call last)",
      "\u001b[0;32mpomegranate/bayes.pyx\u001b[0m in \u001b[0;36mpomegranate.bayes.BayesModel.from_summaries\u001b[0;34m()\u001b[0m\n",
      "\u001b[0;32mpomegranate/distributions.pyx\u001b[0m in \u001b[0;36mpomegranate.distributions.MultivariateGaussianDistribution.from_summaries\u001b[0;34m()\u001b[0m\n",
      "\u001b[0;31mTypeError\u001b[0m: Cannot cast ufunc subtract output from dtype('complex128') to dtype('float64') with casting rule 'same_kind'"
     ]
    },
    {
     "name": "stderr",
     "output_type": "stream",
     "text": [
      "Exception ignored in: 'pomegranate.hmm.HiddenMarkovModel._from_summaries'\n",
      "Traceback (most recent call last):\n",
      "  File \"pomegranate/bayes.pyx\", line 710, in pomegranate.bayes.BayesModel.from_summaries\n",
      "  File \"pomegranate/distributions.pyx\", line 2259, in pomegranate.distributions.MultivariateGaussianDistribution.from_summaries\n",
      "TypeError: Cannot cast ufunc subtract output from dtype('complex128') to dtype('float64') with casting rule 'same_kind'\n"
     ]
    },
    {
     "name": "stdout",
     "output_type": "stream",
     "text": [
      "[36] Improvement: 0.0008710524998605251\tTime (s): 525.0\n"
     ]
    },
    {
     "ename": "TypeError",
     "evalue": "Cannot cast ufunc subtract output from dtype('complex128') to dtype('float64') with casting rule 'same_kind'",
     "output_type": "error",
     "traceback": [
      "\u001b[0;31m---------------------------------------------------------------------------\u001b[0m",
      "\u001b[0;31mLinAlgError\u001b[0m                               Traceback (most recent call last)",
      "\u001b[0;32mpomegranate/distributions.pyx\u001b[0m in \u001b[0;36mpomegranate.distributions.MultivariateGaussianDistribution.from_summaries\u001b[0;34m()\u001b[0m\n",
      "\u001b[0;32m/usr/local/lib/python3.5/dist-packages/scipy/linalg/decomp_cholesky.py\u001b[0m in \u001b[0;36mcholesky\u001b[0;34m(a, lower, overwrite_a, check_finite)\u001b[0m\n\u001b[1;32m     80\u001b[0m     c, lower = _cholesky(a, lower=lower, overwrite_a=overwrite_a, clean=True,\n\u001b[0;32m---> 81\u001b[0;31m                             check_finite=check_finite)\n\u001b[0m\u001b[1;32m     82\u001b[0m     \u001b[0;32mreturn\u001b[0m \u001b[0mc\u001b[0m\u001b[0;34m\u001b[0m\u001b[0m\n",
      "\u001b[0;32m/usr/local/lib/python3.5/dist-packages/scipy/linalg/decomp_cholesky.py\u001b[0m in \u001b[0;36m_cholesky\u001b[0;34m(a, lower, overwrite_a, clean, check_finite)\u001b[0m\n\u001b[1;32m     29\u001b[0m     \u001b[0;32mif\u001b[0m \u001b[0minfo\u001b[0m \u001b[0;34m>\u001b[0m \u001b[0;36m0\u001b[0m\u001b[0;34m:\u001b[0m\u001b[0;34m\u001b[0m\u001b[0m\n\u001b[0;32m---> 30\u001b[0;31m         \u001b[0;32mraise\u001b[0m \u001b[0mLinAlgError\u001b[0m\u001b[0;34m(\u001b[0m\u001b[0;34m\"%d-th leading minor not positive definite\"\u001b[0m \u001b[0;34m%\u001b[0m \u001b[0minfo\u001b[0m\u001b[0;34m)\u001b[0m\u001b[0;34m\u001b[0m\u001b[0m\n\u001b[0m\u001b[1;32m     31\u001b[0m     \u001b[0;32mif\u001b[0m \u001b[0minfo\u001b[0m \u001b[0;34m<\u001b[0m \u001b[0;36m0\u001b[0m\u001b[0;34m:\u001b[0m\u001b[0;34m\u001b[0m\u001b[0m\n",
      "\u001b[0;31mLinAlgError\u001b[0m: 23-th leading minor not positive definite",
      "\nDuring handling of the above exception, another exception occurred:\n",
      "\u001b[0;31mTypeError\u001b[0m                                 Traceback (most recent call last)",
      "\u001b[0;32mpomegranate/bayes.pyx\u001b[0m in \u001b[0;36mpomegranate.bayes.BayesModel.from_summaries\u001b[0;34m()\u001b[0m\n",
      "\u001b[0;32mpomegranate/distributions.pyx\u001b[0m in \u001b[0;36mpomegranate.distributions.MultivariateGaussianDistribution.from_summaries\u001b[0;34m()\u001b[0m\n",
      "\u001b[0;31mTypeError\u001b[0m: Cannot cast ufunc subtract output from dtype('complex128') to dtype('float64') with casting rule 'same_kind'"
     ]
    },
    {
     "name": "stderr",
     "output_type": "stream",
     "text": [
      "Exception ignored in: 'pomegranate.hmm.HiddenMarkovModel._from_summaries'\n",
      "Traceback (most recent call last):\n",
      "  File \"pomegranate/bayes.pyx\", line 710, in pomegranate.bayes.BayesModel.from_summaries\n",
      "  File \"pomegranate/distributions.pyx\", line 2259, in pomegranate.distributions.MultivariateGaussianDistribution.from_summaries\n",
      "TypeError: Cannot cast ufunc subtract output from dtype('complex128') to dtype('float64') with casting rule 'same_kind'\n"
     ]
    },
    {
     "name": "stdout",
     "output_type": "stream",
     "text": [
      "[37] Improvement: 0.0008764134254306555\tTime (s): 538.1\n"
     ]
    },
    {
     "ename": "TypeError",
     "evalue": "Cannot cast ufunc subtract output from dtype('complex128') to dtype('float64') with casting rule 'same_kind'",
     "output_type": "error",
     "traceback": [
      "\u001b[0;31m---------------------------------------------------------------------------\u001b[0m",
      "\u001b[0;31mLinAlgError\u001b[0m                               Traceback (most recent call last)",
      "\u001b[0;32mpomegranate/distributions.pyx\u001b[0m in \u001b[0;36mpomegranate.distributions.MultivariateGaussianDistribution.from_summaries\u001b[0;34m()\u001b[0m\n",
      "\u001b[0;32m/usr/local/lib/python3.5/dist-packages/scipy/linalg/decomp_cholesky.py\u001b[0m in \u001b[0;36mcholesky\u001b[0;34m(a, lower, overwrite_a, check_finite)\u001b[0m\n\u001b[1;32m     80\u001b[0m     c, lower = _cholesky(a, lower=lower, overwrite_a=overwrite_a, clean=True,\n\u001b[0;32m---> 81\u001b[0;31m                             check_finite=check_finite)\n\u001b[0m\u001b[1;32m     82\u001b[0m     \u001b[0;32mreturn\u001b[0m \u001b[0mc\u001b[0m\u001b[0;34m\u001b[0m\u001b[0m\n",
      "\u001b[0;32m/usr/local/lib/python3.5/dist-packages/scipy/linalg/decomp_cholesky.py\u001b[0m in \u001b[0;36m_cholesky\u001b[0;34m(a, lower, overwrite_a, clean, check_finite)\u001b[0m\n\u001b[1;32m     29\u001b[0m     \u001b[0;32mif\u001b[0m \u001b[0minfo\u001b[0m \u001b[0;34m>\u001b[0m \u001b[0;36m0\u001b[0m\u001b[0;34m:\u001b[0m\u001b[0;34m\u001b[0m\u001b[0m\n\u001b[0;32m---> 30\u001b[0;31m         \u001b[0;32mraise\u001b[0m \u001b[0mLinAlgError\u001b[0m\u001b[0;34m(\u001b[0m\u001b[0;34m\"%d-th leading minor not positive definite\"\u001b[0m \u001b[0;34m%\u001b[0m \u001b[0minfo\u001b[0m\u001b[0;34m)\u001b[0m\u001b[0;34m\u001b[0m\u001b[0m\n\u001b[0m\u001b[1;32m     31\u001b[0m     \u001b[0;32mif\u001b[0m \u001b[0minfo\u001b[0m \u001b[0;34m<\u001b[0m \u001b[0;36m0\u001b[0m\u001b[0;34m:\u001b[0m\u001b[0;34m\u001b[0m\u001b[0m\n",
      "\u001b[0;31mLinAlgError\u001b[0m: 23-th leading minor not positive definite",
      "\nDuring handling of the above exception, another exception occurred:\n",
      "\u001b[0;31mTypeError\u001b[0m                                 Traceback (most recent call last)",
      "\u001b[0;32mpomegranate/bayes.pyx\u001b[0m in \u001b[0;36mpomegranate.bayes.BayesModel.from_summaries\u001b[0;34m()\u001b[0m\n",
      "\u001b[0;32mpomegranate/distributions.pyx\u001b[0m in \u001b[0;36mpomegranate.distributions.MultivariateGaussianDistribution.from_summaries\u001b[0;34m()\u001b[0m\n",
      "\u001b[0;31mTypeError\u001b[0m: Cannot cast ufunc subtract output from dtype('complex128') to dtype('float64') with casting rule 'same_kind'"
     ]
    },
    {
     "name": "stderr",
     "output_type": "stream",
     "text": [
      "Exception ignored in: 'pomegranate.hmm.HiddenMarkovModel._from_summaries'\n",
      "Traceback (most recent call last):\n",
      "  File \"pomegranate/bayes.pyx\", line 710, in pomegranate.bayes.BayesModel.from_summaries\n",
      "  File \"pomegranate/distributions.pyx\", line 2259, in pomegranate.distributions.MultivariateGaussianDistribution.from_summaries\n",
      "TypeError: Cannot cast ufunc subtract output from dtype('complex128') to dtype('float64') with casting rule 'same_kind'\n"
     ]
    },
    {
     "name": "stdout",
     "output_type": "stream",
     "text": [
      "[38] Improvement: 0.0009993412531912327\tTime (s): 540.0\n"
     ]
    },
    {
     "ename": "TypeError",
     "evalue": "Cannot cast ufunc subtract output from dtype('complex128') to dtype('float64') with casting rule 'same_kind'",
     "output_type": "error",
     "traceback": [
      "\u001b[0;31m---------------------------------------------------------------------------\u001b[0m",
      "\u001b[0;31mLinAlgError\u001b[0m                               Traceback (most recent call last)",
      "\u001b[0;32mpomegranate/distributions.pyx\u001b[0m in \u001b[0;36mpomegranate.distributions.MultivariateGaussianDistribution.from_summaries\u001b[0;34m()\u001b[0m\n",
      "\u001b[0;32m/usr/local/lib/python3.5/dist-packages/scipy/linalg/decomp_cholesky.py\u001b[0m in \u001b[0;36mcholesky\u001b[0;34m(a, lower, overwrite_a, check_finite)\u001b[0m\n\u001b[1;32m     80\u001b[0m     c, lower = _cholesky(a, lower=lower, overwrite_a=overwrite_a, clean=True,\n\u001b[0;32m---> 81\u001b[0;31m                             check_finite=check_finite)\n\u001b[0m\u001b[1;32m     82\u001b[0m     \u001b[0;32mreturn\u001b[0m \u001b[0mc\u001b[0m\u001b[0;34m\u001b[0m\u001b[0m\n",
      "\u001b[0;32m/usr/local/lib/python3.5/dist-packages/scipy/linalg/decomp_cholesky.py\u001b[0m in \u001b[0;36m_cholesky\u001b[0;34m(a, lower, overwrite_a, clean, check_finite)\u001b[0m\n\u001b[1;32m     29\u001b[0m     \u001b[0;32mif\u001b[0m \u001b[0minfo\u001b[0m \u001b[0;34m>\u001b[0m \u001b[0;36m0\u001b[0m\u001b[0;34m:\u001b[0m\u001b[0;34m\u001b[0m\u001b[0m\n\u001b[0;32m---> 30\u001b[0;31m         \u001b[0;32mraise\u001b[0m \u001b[0mLinAlgError\u001b[0m\u001b[0;34m(\u001b[0m\u001b[0;34m\"%d-th leading minor not positive definite\"\u001b[0m \u001b[0;34m%\u001b[0m \u001b[0minfo\u001b[0m\u001b[0;34m)\u001b[0m\u001b[0;34m\u001b[0m\u001b[0m\n\u001b[0m\u001b[1;32m     31\u001b[0m     \u001b[0;32mif\u001b[0m \u001b[0minfo\u001b[0m \u001b[0;34m<\u001b[0m \u001b[0;36m0\u001b[0m\u001b[0;34m:\u001b[0m\u001b[0;34m\u001b[0m\u001b[0m\n",
      "\u001b[0;31mLinAlgError\u001b[0m: 24-th leading minor not positive definite",
      "\nDuring handling of the above exception, another exception occurred:\n",
      "\u001b[0;31mTypeError\u001b[0m                                 Traceback (most recent call last)",
      "\u001b[0;32mpomegranate/bayes.pyx\u001b[0m in \u001b[0;36mpomegranate.bayes.BayesModel.from_summaries\u001b[0;34m()\u001b[0m\n",
      "\u001b[0;32mpomegranate/distributions.pyx\u001b[0m in \u001b[0;36mpomegranate.distributions.MultivariateGaussianDistribution.from_summaries\u001b[0;34m()\u001b[0m\n",
      "\u001b[0;31mTypeError\u001b[0m: Cannot cast ufunc subtract output from dtype('complex128') to dtype('float64') with casting rule 'same_kind'"
     ]
    },
    {
     "name": "stderr",
     "output_type": "stream",
     "text": [
      "Exception ignored in: 'pomegranate.hmm.HiddenMarkovModel._from_summaries'\n",
      "Traceback (most recent call last):\n",
      "  File \"pomegranate/bayes.pyx\", line 710, in pomegranate.bayes.BayesModel.from_summaries\n",
      "  File \"pomegranate/distributions.pyx\", line 2259, in pomegranate.distributions.MultivariateGaussianDistribution.from_summaries\n",
      "TypeError: Cannot cast ufunc subtract output from dtype('complex128') to dtype('float64') with casting rule 'same_kind'\n"
     ]
    },
    {
     "name": "stdout",
     "output_type": "stream",
     "text": [
      "[39] Improvement: 0.001191070070490241\tTime (s): 539.7\n"
     ]
    },
    {
     "ename": "TypeError",
     "evalue": "Cannot cast ufunc subtract output from dtype('complex128') to dtype('float64') with casting rule 'same_kind'",
     "output_type": "error",
     "traceback": [
      "\u001b[0;31m---------------------------------------------------------------------------\u001b[0m",
      "\u001b[0;31mLinAlgError\u001b[0m                               Traceback (most recent call last)",
      "\u001b[0;32mpomegranate/distributions.pyx\u001b[0m in \u001b[0;36mpomegranate.distributions.MultivariateGaussianDistribution.from_summaries\u001b[0;34m()\u001b[0m\n",
      "\u001b[0;32m/usr/local/lib/python3.5/dist-packages/scipy/linalg/decomp_cholesky.py\u001b[0m in \u001b[0;36mcholesky\u001b[0;34m(a, lower, overwrite_a, check_finite)\u001b[0m\n\u001b[1;32m     80\u001b[0m     c, lower = _cholesky(a, lower=lower, overwrite_a=overwrite_a, clean=True,\n\u001b[0;32m---> 81\u001b[0;31m                             check_finite=check_finite)\n\u001b[0m\u001b[1;32m     82\u001b[0m     \u001b[0;32mreturn\u001b[0m \u001b[0mc\u001b[0m\u001b[0;34m\u001b[0m\u001b[0m\n",
      "\u001b[0;32m/usr/local/lib/python3.5/dist-packages/scipy/linalg/decomp_cholesky.py\u001b[0m in \u001b[0;36m_cholesky\u001b[0;34m(a, lower, overwrite_a, clean, check_finite)\u001b[0m\n\u001b[1;32m     29\u001b[0m     \u001b[0;32mif\u001b[0m \u001b[0minfo\u001b[0m \u001b[0;34m>\u001b[0m \u001b[0;36m0\u001b[0m\u001b[0;34m:\u001b[0m\u001b[0;34m\u001b[0m\u001b[0m\n\u001b[0;32m---> 30\u001b[0;31m         \u001b[0;32mraise\u001b[0m \u001b[0mLinAlgError\u001b[0m\u001b[0;34m(\u001b[0m\u001b[0;34m\"%d-th leading minor not positive definite\"\u001b[0m \u001b[0;34m%\u001b[0m \u001b[0minfo\u001b[0m\u001b[0;34m)\u001b[0m\u001b[0;34m\u001b[0m\u001b[0m\n\u001b[0m\u001b[1;32m     31\u001b[0m     \u001b[0;32mif\u001b[0m \u001b[0minfo\u001b[0m \u001b[0;34m<\u001b[0m \u001b[0;36m0\u001b[0m\u001b[0;34m:\u001b[0m\u001b[0;34m\u001b[0m\u001b[0m\n",
      "\u001b[0;31mLinAlgError\u001b[0m: 24-th leading minor not positive definite",
      "\nDuring handling of the above exception, another exception occurred:\n",
      "\u001b[0;31mTypeError\u001b[0m                                 Traceback (most recent call last)",
      "\u001b[0;32mpomegranate/bayes.pyx\u001b[0m in \u001b[0;36mpomegranate.bayes.BayesModel.from_summaries\u001b[0;34m()\u001b[0m\n",
      "\u001b[0;32mpomegranate/distributions.pyx\u001b[0m in \u001b[0;36mpomegranate.distributions.MultivariateGaussianDistribution.from_summaries\u001b[0;34m()\u001b[0m\n",
      "\u001b[0;31mTypeError\u001b[0m: Cannot cast ufunc subtract output from dtype('complex128') to dtype('float64') with casting rule 'same_kind'"
     ]
    },
    {
     "name": "stderr",
     "output_type": "stream",
     "text": [
      "Exception ignored in: 'pomegranate.hmm.HiddenMarkovModel._from_summaries'\n",
      "Traceback (most recent call last):\n",
      "  File \"pomegranate/bayes.pyx\", line 710, in pomegranate.bayes.BayesModel.from_summaries\n",
      "  File \"pomegranate/distributions.pyx\", line 2259, in pomegranate.distributions.MultivariateGaussianDistribution.from_summaries\n",
      "TypeError: Cannot cast ufunc subtract output from dtype('complex128') to dtype('float64') with casting rule 'same_kind'\n"
     ]
    },
    {
     "name": "stdout",
     "output_type": "stream",
     "text": [
      "[40] Improvement: 0.0014419096987694502\tTime (s): 535.4\n"
     ]
    },
    {
     "ename": "TypeError",
     "evalue": "Cannot cast ufunc subtract output from dtype('complex128') to dtype('float64') with casting rule 'same_kind'",
     "output_type": "error",
     "traceback": [
      "\u001b[0;31m---------------------------------------------------------------------------\u001b[0m",
      "\u001b[0;31mLinAlgError\u001b[0m                               Traceback (most recent call last)",
      "\u001b[0;32mpomegranate/distributions.pyx\u001b[0m in \u001b[0;36mpomegranate.distributions.MultivariateGaussianDistribution.from_summaries\u001b[0;34m()\u001b[0m\n",
      "\u001b[0;32m/usr/local/lib/python3.5/dist-packages/scipy/linalg/decomp_cholesky.py\u001b[0m in \u001b[0;36mcholesky\u001b[0;34m(a, lower, overwrite_a, check_finite)\u001b[0m\n\u001b[1;32m     80\u001b[0m     c, lower = _cholesky(a, lower=lower, overwrite_a=overwrite_a, clean=True,\n\u001b[0;32m---> 81\u001b[0;31m                             check_finite=check_finite)\n\u001b[0m\u001b[1;32m     82\u001b[0m     \u001b[0;32mreturn\u001b[0m \u001b[0mc\u001b[0m\u001b[0;34m\u001b[0m\u001b[0m\n",
      "\u001b[0;32m/usr/local/lib/python3.5/dist-packages/scipy/linalg/decomp_cholesky.py\u001b[0m in \u001b[0;36m_cholesky\u001b[0;34m(a, lower, overwrite_a, clean, check_finite)\u001b[0m\n\u001b[1;32m     29\u001b[0m     \u001b[0;32mif\u001b[0m \u001b[0minfo\u001b[0m \u001b[0;34m>\u001b[0m \u001b[0;36m0\u001b[0m\u001b[0;34m:\u001b[0m\u001b[0;34m\u001b[0m\u001b[0m\n\u001b[0;32m---> 30\u001b[0;31m         \u001b[0;32mraise\u001b[0m \u001b[0mLinAlgError\u001b[0m\u001b[0;34m(\u001b[0m\u001b[0;34m\"%d-th leading minor not positive definite\"\u001b[0m \u001b[0;34m%\u001b[0m \u001b[0minfo\u001b[0m\u001b[0;34m)\u001b[0m\u001b[0;34m\u001b[0m\u001b[0m\n\u001b[0m\u001b[1;32m     31\u001b[0m     \u001b[0;32mif\u001b[0m \u001b[0minfo\u001b[0m \u001b[0;34m<\u001b[0m \u001b[0;36m0\u001b[0m\u001b[0;34m:\u001b[0m\u001b[0;34m\u001b[0m\u001b[0m\n",
      "\u001b[0;31mLinAlgError\u001b[0m: 24-th leading minor not positive definite",
      "\nDuring handling of the above exception, another exception occurred:\n",
      "\u001b[0;31mTypeError\u001b[0m                                 Traceback (most recent call last)",
      "\u001b[0;32mpomegranate/bayes.pyx\u001b[0m in \u001b[0;36mpomegranate.bayes.BayesModel.from_summaries\u001b[0;34m()\u001b[0m\n",
      "\u001b[0;32mpomegranate/distributions.pyx\u001b[0m in \u001b[0;36mpomegranate.distributions.MultivariateGaussianDistribution.from_summaries\u001b[0;34m()\u001b[0m\n",
      "\u001b[0;31mTypeError\u001b[0m: Cannot cast ufunc subtract output from dtype('complex128') to dtype('float64') with casting rule 'same_kind'"
     ]
    },
    {
     "name": "stderr",
     "output_type": "stream",
     "text": [
      "Exception ignored in: 'pomegranate.hmm.HiddenMarkovModel._from_summaries'\n",
      "Traceback (most recent call last):\n",
      "  File \"pomegranate/bayes.pyx\", line 710, in pomegranate.bayes.BayesModel.from_summaries\n",
      "  File \"pomegranate/distributions.pyx\", line 2259, in pomegranate.distributions.MultivariateGaussianDistribution.from_summaries\n",
      "TypeError: Cannot cast ufunc subtract output from dtype('complex128') to dtype('float64') with casting rule 'same_kind'\n"
     ]
    },
    {
     "name": "stdout",
     "output_type": "stream",
     "text": [
      "[41] Improvement: 0.0017632839735597372\tTime (s): 540.5\n"
     ]
    },
    {
     "ename": "TypeError",
     "evalue": "Cannot cast ufunc subtract output from dtype('complex128') to dtype('float64') with casting rule 'same_kind'",
     "output_type": "error",
     "traceback": [
      "\u001b[0;31m---------------------------------------------------------------------------\u001b[0m",
      "\u001b[0;31mLinAlgError\u001b[0m                               Traceback (most recent call last)",
      "\u001b[0;32mpomegranate/distributions.pyx\u001b[0m in \u001b[0;36mpomegranate.distributions.MultivariateGaussianDistribution.from_summaries\u001b[0;34m()\u001b[0m\n",
      "\u001b[0;32m/usr/local/lib/python3.5/dist-packages/scipy/linalg/decomp_cholesky.py\u001b[0m in \u001b[0;36mcholesky\u001b[0;34m(a, lower, overwrite_a, check_finite)\u001b[0m\n\u001b[1;32m     80\u001b[0m     c, lower = _cholesky(a, lower=lower, overwrite_a=overwrite_a, clean=True,\n\u001b[0;32m---> 81\u001b[0;31m                             check_finite=check_finite)\n\u001b[0m\u001b[1;32m     82\u001b[0m     \u001b[0;32mreturn\u001b[0m \u001b[0mc\u001b[0m\u001b[0;34m\u001b[0m\u001b[0m\n",
      "\u001b[0;32m/usr/local/lib/python3.5/dist-packages/scipy/linalg/decomp_cholesky.py\u001b[0m in \u001b[0;36m_cholesky\u001b[0;34m(a, lower, overwrite_a, clean, check_finite)\u001b[0m\n\u001b[1;32m     29\u001b[0m     \u001b[0;32mif\u001b[0m \u001b[0minfo\u001b[0m \u001b[0;34m>\u001b[0m \u001b[0;36m0\u001b[0m\u001b[0;34m:\u001b[0m\u001b[0;34m\u001b[0m\u001b[0m\n\u001b[0;32m---> 30\u001b[0;31m         \u001b[0;32mraise\u001b[0m \u001b[0mLinAlgError\u001b[0m\u001b[0;34m(\u001b[0m\u001b[0;34m\"%d-th leading minor not positive definite\"\u001b[0m \u001b[0;34m%\u001b[0m \u001b[0minfo\u001b[0m\u001b[0;34m)\u001b[0m\u001b[0;34m\u001b[0m\u001b[0m\n\u001b[0m\u001b[1;32m     31\u001b[0m     \u001b[0;32mif\u001b[0m \u001b[0minfo\u001b[0m \u001b[0;34m<\u001b[0m \u001b[0;36m0\u001b[0m\u001b[0;34m:\u001b[0m\u001b[0;34m\u001b[0m\u001b[0m\n",
      "\u001b[0;31mLinAlgError\u001b[0m: 24-th leading minor not positive definite",
      "\nDuring handling of the above exception, another exception occurred:\n",
      "\u001b[0;31mTypeError\u001b[0m                                 Traceback (most recent call last)",
      "\u001b[0;32mpomegranate/bayes.pyx\u001b[0m in \u001b[0;36mpomegranate.bayes.BayesModel.from_summaries\u001b[0;34m()\u001b[0m\n",
      "\u001b[0;32mpomegranate/distributions.pyx\u001b[0m in \u001b[0;36mpomegranate.distributions.MultivariateGaussianDistribution.from_summaries\u001b[0;34m()\u001b[0m\n",
      "\u001b[0;31mTypeError\u001b[0m: Cannot cast ufunc subtract output from dtype('complex128') to dtype('float64') with casting rule 'same_kind'"
     ]
    },
    {
     "name": "stderr",
     "output_type": "stream",
     "text": [
      "Exception ignored in: 'pomegranate.hmm.HiddenMarkovModel._from_summaries'\n",
      "Traceback (most recent call last):\n",
      "  File \"pomegranate/bayes.pyx\", line 710, in pomegranate.bayes.BayesModel.from_summaries\n",
      "  File \"pomegranate/distributions.pyx\", line 2259, in pomegranate.distributions.MultivariateGaussianDistribution.from_summaries\n",
      "TypeError: Cannot cast ufunc subtract output from dtype('complex128') to dtype('float64') with casting rule 'same_kind'\n"
     ]
    },
    {
     "name": "stdout",
     "output_type": "stream",
     "text": [
      "[42] Improvement: 0.002181523945182562\tTime (s): 541.7\n"
     ]
    },
    {
     "ename": "TypeError",
     "evalue": "Cannot cast ufunc subtract output from dtype('complex128') to dtype('float64') with casting rule 'same_kind'",
     "output_type": "error",
     "traceback": [
      "\u001b[0;31m---------------------------------------------------------------------------\u001b[0m",
      "\u001b[0;31mLinAlgError\u001b[0m                               Traceback (most recent call last)",
      "\u001b[0;32mpomegranate/distributions.pyx\u001b[0m in \u001b[0;36mpomegranate.distributions.MultivariateGaussianDistribution.from_summaries\u001b[0;34m()\u001b[0m\n",
      "\u001b[0;32m/usr/local/lib/python3.5/dist-packages/scipy/linalg/decomp_cholesky.py\u001b[0m in \u001b[0;36mcholesky\u001b[0;34m(a, lower, overwrite_a, check_finite)\u001b[0m\n\u001b[1;32m     80\u001b[0m     c, lower = _cholesky(a, lower=lower, overwrite_a=overwrite_a, clean=True,\n\u001b[0;32m---> 81\u001b[0;31m                             check_finite=check_finite)\n\u001b[0m\u001b[1;32m     82\u001b[0m     \u001b[0;32mreturn\u001b[0m \u001b[0mc\u001b[0m\u001b[0;34m\u001b[0m\u001b[0m\n",
      "\u001b[0;32m/usr/local/lib/python3.5/dist-packages/scipy/linalg/decomp_cholesky.py\u001b[0m in \u001b[0;36m_cholesky\u001b[0;34m(a, lower, overwrite_a, clean, check_finite)\u001b[0m\n\u001b[1;32m     29\u001b[0m     \u001b[0;32mif\u001b[0m \u001b[0minfo\u001b[0m \u001b[0;34m>\u001b[0m \u001b[0;36m0\u001b[0m\u001b[0;34m:\u001b[0m\u001b[0;34m\u001b[0m\u001b[0m\n\u001b[0;32m---> 30\u001b[0;31m         \u001b[0;32mraise\u001b[0m \u001b[0mLinAlgError\u001b[0m\u001b[0;34m(\u001b[0m\u001b[0;34m\"%d-th leading minor not positive definite\"\u001b[0m \u001b[0;34m%\u001b[0m \u001b[0minfo\u001b[0m\u001b[0;34m)\u001b[0m\u001b[0;34m\u001b[0m\u001b[0m\n\u001b[0m\u001b[1;32m     31\u001b[0m     \u001b[0;32mif\u001b[0m \u001b[0minfo\u001b[0m \u001b[0;34m<\u001b[0m \u001b[0;36m0\u001b[0m\u001b[0;34m:\u001b[0m\u001b[0;34m\u001b[0m\u001b[0m\n",
      "\u001b[0;31mLinAlgError\u001b[0m: 24-th leading minor not positive definite",
      "\nDuring handling of the above exception, another exception occurred:\n",
      "\u001b[0;31mTypeError\u001b[0m                                 Traceback (most recent call last)",
      "\u001b[0;32mpomegranate/bayes.pyx\u001b[0m in \u001b[0;36mpomegranate.bayes.BayesModel.from_summaries\u001b[0;34m()\u001b[0m\n",
      "\u001b[0;32mpomegranate/distributions.pyx\u001b[0m in \u001b[0;36mpomegranate.distributions.MultivariateGaussianDistribution.from_summaries\u001b[0;34m()\u001b[0m\n",
      "\u001b[0;31mTypeError\u001b[0m: Cannot cast ufunc subtract output from dtype('complex128') to dtype('float64') with casting rule 'same_kind'"
     ]
    },
    {
     "name": "stderr",
     "output_type": "stream",
     "text": [
      "Exception ignored in: 'pomegranate.hmm.HiddenMarkovModel._from_summaries'\n",
      "Traceback (most recent call last):\n",
      "  File \"pomegranate/bayes.pyx\", line 710, in pomegranate.bayes.BayesModel.from_summaries\n",
      "  File \"pomegranate/distributions.pyx\", line 2259, in pomegranate.distributions.MultivariateGaussianDistribution.from_summaries\n",
      "TypeError: Cannot cast ufunc subtract output from dtype('complex128') to dtype('float64') with casting rule 'same_kind'\n"
     ]
    },
    {
     "name": "stdout",
     "output_type": "stream",
     "text": [
      "[43] Improvement: 0.0027372855693101883\tTime (s): 541.3\n"
     ]
    },
    {
     "ename": "TypeError",
     "evalue": "Cannot cast ufunc subtract output from dtype('complex128') to dtype('float64') with casting rule 'same_kind'",
     "output_type": "error",
     "traceback": [
      "\u001b[0;31m---------------------------------------------------------------------------\u001b[0m",
      "\u001b[0;31mLinAlgError\u001b[0m                               Traceback (most recent call last)",
      "\u001b[0;32mpomegranate/distributions.pyx\u001b[0m in \u001b[0;36mpomegranate.distributions.MultivariateGaussianDistribution.from_summaries\u001b[0;34m()\u001b[0m\n",
      "\u001b[0;32m/usr/local/lib/python3.5/dist-packages/scipy/linalg/decomp_cholesky.py\u001b[0m in \u001b[0;36mcholesky\u001b[0;34m(a, lower, overwrite_a, check_finite)\u001b[0m\n\u001b[1;32m     80\u001b[0m     c, lower = _cholesky(a, lower=lower, overwrite_a=overwrite_a, clean=True,\n\u001b[0;32m---> 81\u001b[0;31m                             check_finite=check_finite)\n\u001b[0m\u001b[1;32m     82\u001b[0m     \u001b[0;32mreturn\u001b[0m \u001b[0mc\u001b[0m\u001b[0;34m\u001b[0m\u001b[0m\n",
      "\u001b[0;32m/usr/local/lib/python3.5/dist-packages/scipy/linalg/decomp_cholesky.py\u001b[0m in \u001b[0;36m_cholesky\u001b[0;34m(a, lower, overwrite_a, clean, check_finite)\u001b[0m\n\u001b[1;32m     29\u001b[0m     \u001b[0;32mif\u001b[0m \u001b[0minfo\u001b[0m \u001b[0;34m>\u001b[0m \u001b[0;36m0\u001b[0m\u001b[0;34m:\u001b[0m\u001b[0;34m\u001b[0m\u001b[0m\n\u001b[0;32m---> 30\u001b[0;31m         \u001b[0;32mraise\u001b[0m \u001b[0mLinAlgError\u001b[0m\u001b[0;34m(\u001b[0m\u001b[0;34m\"%d-th leading minor not positive definite\"\u001b[0m \u001b[0;34m%\u001b[0m \u001b[0minfo\u001b[0m\u001b[0;34m)\u001b[0m\u001b[0;34m\u001b[0m\u001b[0m\n\u001b[0m\u001b[1;32m     31\u001b[0m     \u001b[0;32mif\u001b[0m \u001b[0minfo\u001b[0m \u001b[0;34m<\u001b[0m \u001b[0;36m0\u001b[0m\u001b[0;34m:\u001b[0m\u001b[0;34m\u001b[0m\u001b[0m\n",
      "\u001b[0;31mLinAlgError\u001b[0m: 24-th leading minor not positive definite",
      "\nDuring handling of the above exception, another exception occurred:\n",
      "\u001b[0;31mTypeError\u001b[0m                                 Traceback (most recent call last)",
      "\u001b[0;32mpomegranate/bayes.pyx\u001b[0m in \u001b[0;36mpomegranate.bayes.BayesModel.from_summaries\u001b[0;34m()\u001b[0m\n",
      "\u001b[0;32mpomegranate/distributions.pyx\u001b[0m in \u001b[0;36mpomegranate.distributions.MultivariateGaussianDistribution.from_summaries\u001b[0;34m()\u001b[0m\n",
      "\u001b[0;31mTypeError\u001b[0m: Cannot cast ufunc subtract output from dtype('complex128') to dtype('float64') with casting rule 'same_kind'"
     ]
    },
    {
     "name": "stderr",
     "output_type": "stream",
     "text": [
      "Exception ignored in: 'pomegranate.hmm.HiddenMarkovModel._from_summaries'\n",
      "Traceback (most recent call last):\n",
      "  File \"pomegranate/bayes.pyx\", line 710, in pomegranate.bayes.BayesModel.from_summaries\n",
      "  File \"pomegranate/distributions.pyx\", line 2259, in pomegranate.distributions.MultivariateGaussianDistribution.from_summaries\n",
      "TypeError: Cannot cast ufunc subtract output from dtype('complex128') to dtype('float64') with casting rule 'same_kind'\n"
     ]
    },
    {
     "name": "stdout",
     "output_type": "stream",
     "text": [
      "[44] Improvement: 0.003487061243504286\tTime (s): 533.4\n"
     ]
    },
    {
     "ename": "TypeError",
     "evalue": "Cannot cast ufunc subtract output from dtype('complex128') to dtype('float64') with casting rule 'same_kind'",
     "output_type": "error",
     "traceback": [
      "\u001b[0;31m---------------------------------------------------------------------------\u001b[0m",
      "\u001b[0;31mLinAlgError\u001b[0m                               Traceback (most recent call last)",
      "\u001b[0;32mpomegranate/distributions.pyx\u001b[0m in \u001b[0;36mpomegranate.distributions.MultivariateGaussianDistribution.from_summaries\u001b[0;34m()\u001b[0m\n",
      "\u001b[0;32m/usr/local/lib/python3.5/dist-packages/scipy/linalg/decomp_cholesky.py\u001b[0m in \u001b[0;36mcholesky\u001b[0;34m(a, lower, overwrite_a, check_finite)\u001b[0m\n\u001b[1;32m     80\u001b[0m     c, lower = _cholesky(a, lower=lower, overwrite_a=overwrite_a, clean=True,\n\u001b[0;32m---> 81\u001b[0;31m                             check_finite=check_finite)\n\u001b[0m\u001b[1;32m     82\u001b[0m     \u001b[0;32mreturn\u001b[0m \u001b[0mc\u001b[0m\u001b[0;34m\u001b[0m\u001b[0m\n",
      "\u001b[0;32m/usr/local/lib/python3.5/dist-packages/scipy/linalg/decomp_cholesky.py\u001b[0m in \u001b[0;36m_cholesky\u001b[0;34m(a, lower, overwrite_a, clean, check_finite)\u001b[0m\n\u001b[1;32m     29\u001b[0m     \u001b[0;32mif\u001b[0m \u001b[0minfo\u001b[0m \u001b[0;34m>\u001b[0m \u001b[0;36m0\u001b[0m\u001b[0;34m:\u001b[0m\u001b[0;34m\u001b[0m\u001b[0m\n\u001b[0;32m---> 30\u001b[0;31m         \u001b[0;32mraise\u001b[0m \u001b[0mLinAlgError\u001b[0m\u001b[0;34m(\u001b[0m\u001b[0;34m\"%d-th leading minor not positive definite\"\u001b[0m \u001b[0;34m%\u001b[0m \u001b[0minfo\u001b[0m\u001b[0;34m)\u001b[0m\u001b[0;34m\u001b[0m\u001b[0m\n\u001b[0m\u001b[1;32m     31\u001b[0m     \u001b[0;32mif\u001b[0m \u001b[0minfo\u001b[0m \u001b[0;34m<\u001b[0m \u001b[0;36m0\u001b[0m\u001b[0;34m:\u001b[0m\u001b[0;34m\u001b[0m\u001b[0m\n",
      "\u001b[0;31mLinAlgError\u001b[0m: 24-th leading minor not positive definite",
      "\nDuring handling of the above exception, another exception occurred:\n",
      "\u001b[0;31mTypeError\u001b[0m                                 Traceback (most recent call last)",
      "\u001b[0;32mpomegranate/bayes.pyx\u001b[0m in \u001b[0;36mpomegranate.bayes.BayesModel.from_summaries\u001b[0;34m()\u001b[0m\n",
      "\u001b[0;32mpomegranate/distributions.pyx\u001b[0m in \u001b[0;36mpomegranate.distributions.MultivariateGaussianDistribution.from_summaries\u001b[0;34m()\u001b[0m\n",
      "\u001b[0;31mTypeError\u001b[0m: Cannot cast ufunc subtract output from dtype('complex128') to dtype('float64') with casting rule 'same_kind'"
     ]
    },
    {
     "name": "stderr",
     "output_type": "stream",
     "text": [
      "Exception ignored in: 'pomegranate.hmm.HiddenMarkovModel._from_summaries'\n",
      "Traceback (most recent call last):\n",
      "  File \"pomegranate/bayes.pyx\", line 710, in pomegranate.bayes.BayesModel.from_summaries\n",
      "  File \"pomegranate/distributions.pyx\", line 2259, in pomegranate.distributions.MultivariateGaussianDistribution.from_summaries\n",
      "TypeError: Cannot cast ufunc subtract output from dtype('complex128') to dtype('float64') with casting rule 'same_kind'\n"
     ]
    },
    {
     "name": "stdout",
     "output_type": "stream",
     "text": [
      "[45] Improvement: 0.004502558847889304\tTime (s): 538.3\n"
     ]
    },
    {
     "ename": "TypeError",
     "evalue": "Cannot cast ufunc subtract output from dtype('complex128') to dtype('float64') with casting rule 'same_kind'",
     "output_type": "error",
     "traceback": [
      "\u001b[0;31m---------------------------------------------------------------------------\u001b[0m",
      "\u001b[0;31mLinAlgError\u001b[0m                               Traceback (most recent call last)",
      "\u001b[0;32mpomegranate/distributions.pyx\u001b[0m in \u001b[0;36mpomegranate.distributions.MultivariateGaussianDistribution.from_summaries\u001b[0;34m()\u001b[0m\n",
      "\u001b[0;32m/usr/local/lib/python3.5/dist-packages/scipy/linalg/decomp_cholesky.py\u001b[0m in \u001b[0;36mcholesky\u001b[0;34m(a, lower, overwrite_a, check_finite)\u001b[0m\n\u001b[1;32m     80\u001b[0m     c, lower = _cholesky(a, lower=lower, overwrite_a=overwrite_a, clean=True,\n\u001b[0;32m---> 81\u001b[0;31m                             check_finite=check_finite)\n\u001b[0m\u001b[1;32m     82\u001b[0m     \u001b[0;32mreturn\u001b[0m \u001b[0mc\u001b[0m\u001b[0;34m\u001b[0m\u001b[0m\n",
      "\u001b[0;32m/usr/local/lib/python3.5/dist-packages/scipy/linalg/decomp_cholesky.py\u001b[0m in \u001b[0;36m_cholesky\u001b[0;34m(a, lower, overwrite_a, clean, check_finite)\u001b[0m\n\u001b[1;32m     29\u001b[0m     \u001b[0;32mif\u001b[0m \u001b[0minfo\u001b[0m \u001b[0;34m>\u001b[0m \u001b[0;36m0\u001b[0m\u001b[0;34m:\u001b[0m\u001b[0;34m\u001b[0m\u001b[0m\n\u001b[0;32m---> 30\u001b[0;31m         \u001b[0;32mraise\u001b[0m \u001b[0mLinAlgError\u001b[0m\u001b[0;34m(\u001b[0m\u001b[0;34m\"%d-th leading minor not positive definite\"\u001b[0m \u001b[0;34m%\u001b[0m \u001b[0minfo\u001b[0m\u001b[0;34m)\u001b[0m\u001b[0;34m\u001b[0m\u001b[0m\n\u001b[0m\u001b[1;32m     31\u001b[0m     \u001b[0;32mif\u001b[0m \u001b[0minfo\u001b[0m \u001b[0;34m<\u001b[0m \u001b[0;36m0\u001b[0m\u001b[0;34m:\u001b[0m\u001b[0;34m\u001b[0m\u001b[0m\n",
      "\u001b[0;31mLinAlgError\u001b[0m: 24-th leading minor not positive definite",
      "\nDuring handling of the above exception, another exception occurred:\n",
      "\u001b[0;31mTypeError\u001b[0m                                 Traceback (most recent call last)",
      "\u001b[0;32mpomegranate/bayes.pyx\u001b[0m in \u001b[0;36mpomegranate.bayes.BayesModel.from_summaries\u001b[0;34m()\u001b[0m\n",
      "\u001b[0;32mpomegranate/distributions.pyx\u001b[0m in \u001b[0;36mpomegranate.distributions.MultivariateGaussianDistribution.from_summaries\u001b[0;34m()\u001b[0m\n",
      "\u001b[0;31mTypeError\u001b[0m: Cannot cast ufunc subtract output from dtype('complex128') to dtype('float64') with casting rule 'same_kind'"
     ]
    },
    {
     "name": "stderr",
     "output_type": "stream",
     "text": [
      "Exception ignored in: 'pomegranate.hmm.HiddenMarkovModel._from_summaries'\n",
      "Traceback (most recent call last):\n",
      "  File \"pomegranate/bayes.pyx\", line 710, in pomegranate.bayes.BayesModel.from_summaries\n",
      "  File \"pomegranate/distributions.pyx\", line 2259, in pomegranate.distributions.MultivariateGaussianDistribution.from_summaries\n",
      "TypeError: Cannot cast ufunc subtract output from dtype('complex128') to dtype('float64') with casting rule 'same_kind'\n"
     ]
    },
    {
     "name": "stdout",
     "output_type": "stream",
     "text": [
      "[46] Improvement: 0.005859382683411241\tTime (s): 544.0\n"
     ]
    },
    {
     "ename": "TypeError",
     "evalue": "Cannot cast ufunc subtract output from dtype('complex128') to dtype('float64') with casting rule 'same_kind'",
     "output_type": "error",
     "traceback": [
      "\u001b[0;31m---------------------------------------------------------------------------\u001b[0m",
      "\u001b[0;31mLinAlgError\u001b[0m                               Traceback (most recent call last)",
      "\u001b[0;32mpomegranate/distributions.pyx\u001b[0m in \u001b[0;36mpomegranate.distributions.MultivariateGaussianDistribution.from_summaries\u001b[0;34m()\u001b[0m\n",
      "\u001b[0;32m/usr/local/lib/python3.5/dist-packages/scipy/linalg/decomp_cholesky.py\u001b[0m in \u001b[0;36mcholesky\u001b[0;34m(a, lower, overwrite_a, check_finite)\u001b[0m\n\u001b[1;32m     80\u001b[0m     c, lower = _cholesky(a, lower=lower, overwrite_a=overwrite_a, clean=True,\n\u001b[0;32m---> 81\u001b[0;31m                             check_finite=check_finite)\n\u001b[0m\u001b[1;32m     82\u001b[0m     \u001b[0;32mreturn\u001b[0m \u001b[0mc\u001b[0m\u001b[0;34m\u001b[0m\u001b[0m\n",
      "\u001b[0;32m/usr/local/lib/python3.5/dist-packages/scipy/linalg/decomp_cholesky.py\u001b[0m in \u001b[0;36m_cholesky\u001b[0;34m(a, lower, overwrite_a, clean, check_finite)\u001b[0m\n\u001b[1;32m     29\u001b[0m     \u001b[0;32mif\u001b[0m \u001b[0minfo\u001b[0m \u001b[0;34m>\u001b[0m \u001b[0;36m0\u001b[0m\u001b[0;34m:\u001b[0m\u001b[0;34m\u001b[0m\u001b[0m\n\u001b[0;32m---> 30\u001b[0;31m         \u001b[0;32mraise\u001b[0m \u001b[0mLinAlgError\u001b[0m\u001b[0;34m(\u001b[0m\u001b[0;34m\"%d-th leading minor not positive definite\"\u001b[0m \u001b[0;34m%\u001b[0m \u001b[0minfo\u001b[0m\u001b[0;34m)\u001b[0m\u001b[0;34m\u001b[0m\u001b[0m\n\u001b[0m\u001b[1;32m     31\u001b[0m     \u001b[0;32mif\u001b[0m \u001b[0minfo\u001b[0m \u001b[0;34m<\u001b[0m \u001b[0;36m0\u001b[0m\u001b[0;34m:\u001b[0m\u001b[0;34m\u001b[0m\u001b[0m\n",
      "\u001b[0;31mLinAlgError\u001b[0m: 24-th leading minor not positive definite",
      "\nDuring handling of the above exception, another exception occurred:\n",
      "\u001b[0;31mTypeError\u001b[0m                                 Traceback (most recent call last)",
      "\u001b[0;32mpomegranate/bayes.pyx\u001b[0m in \u001b[0;36mpomegranate.bayes.BayesModel.from_summaries\u001b[0;34m()\u001b[0m\n",
      "\u001b[0;32mpomegranate/distributions.pyx\u001b[0m in \u001b[0;36mpomegranate.distributions.MultivariateGaussianDistribution.from_summaries\u001b[0;34m()\u001b[0m\n",
      "\u001b[0;31mTypeError\u001b[0m: Cannot cast ufunc subtract output from dtype('complex128') to dtype('float64') with casting rule 'same_kind'"
     ]
    },
    {
     "name": "stderr",
     "output_type": "stream",
     "text": [
      "Exception ignored in: 'pomegranate.hmm.HiddenMarkovModel._from_summaries'\n",
      "Traceback (most recent call last):\n",
      "  File \"pomegranate/bayes.pyx\", line 710, in pomegranate.bayes.BayesModel.from_summaries\n",
      "  File \"pomegranate/distributions.pyx\", line 2259, in pomegranate.distributions.MultivariateGaussianDistribution.from_summaries\n",
      "TypeError: Cannot cast ufunc subtract output from dtype('complex128') to dtype('float64') with casting rule 'same_kind'\n"
     ]
    },
    {
     "name": "stdout",
     "output_type": "stream",
     "text": [
      "[47] Improvement: 0.007597721880301833\tTime (s): 538.6\n"
     ]
    },
    {
     "ename": "TypeError",
     "evalue": "Cannot cast ufunc subtract output from dtype('complex128') to dtype('float64') with casting rule 'same_kind'",
     "output_type": "error",
     "traceback": [
      "\u001b[0;31m---------------------------------------------------------------------------\u001b[0m",
      "\u001b[0;31mLinAlgError\u001b[0m                               Traceback (most recent call last)",
      "\u001b[0;32mpomegranate/distributions.pyx\u001b[0m in \u001b[0;36mpomegranate.distributions.MultivariateGaussianDistribution.from_summaries\u001b[0;34m()\u001b[0m\n",
      "\u001b[0;32m/usr/local/lib/python3.5/dist-packages/scipy/linalg/decomp_cholesky.py\u001b[0m in \u001b[0;36mcholesky\u001b[0;34m(a, lower, overwrite_a, check_finite)\u001b[0m\n\u001b[1;32m     80\u001b[0m     c, lower = _cholesky(a, lower=lower, overwrite_a=overwrite_a, clean=True,\n\u001b[0;32m---> 81\u001b[0;31m                             check_finite=check_finite)\n\u001b[0m\u001b[1;32m     82\u001b[0m     \u001b[0;32mreturn\u001b[0m \u001b[0mc\u001b[0m\u001b[0;34m\u001b[0m\u001b[0m\n",
      "\u001b[0;32m/usr/local/lib/python3.5/dist-packages/scipy/linalg/decomp_cholesky.py\u001b[0m in \u001b[0;36m_cholesky\u001b[0;34m(a, lower, overwrite_a, clean, check_finite)\u001b[0m\n\u001b[1;32m     29\u001b[0m     \u001b[0;32mif\u001b[0m \u001b[0minfo\u001b[0m \u001b[0;34m>\u001b[0m \u001b[0;36m0\u001b[0m\u001b[0;34m:\u001b[0m\u001b[0;34m\u001b[0m\u001b[0m\n\u001b[0;32m---> 30\u001b[0;31m         \u001b[0;32mraise\u001b[0m \u001b[0mLinAlgError\u001b[0m\u001b[0;34m(\u001b[0m\u001b[0;34m\"%d-th leading minor not positive definite\"\u001b[0m \u001b[0;34m%\u001b[0m \u001b[0minfo\u001b[0m\u001b[0;34m)\u001b[0m\u001b[0;34m\u001b[0m\u001b[0m\n\u001b[0m\u001b[1;32m     31\u001b[0m     \u001b[0;32mif\u001b[0m \u001b[0minfo\u001b[0m \u001b[0;34m<\u001b[0m \u001b[0;36m0\u001b[0m\u001b[0;34m:\u001b[0m\u001b[0;34m\u001b[0m\u001b[0m\n",
      "\u001b[0;31mLinAlgError\u001b[0m: 24-th leading minor not positive definite",
      "\nDuring handling of the above exception, another exception occurred:\n",
      "\u001b[0;31mTypeError\u001b[0m                                 Traceback (most recent call last)",
      "\u001b[0;32mpomegranate/bayes.pyx\u001b[0m in \u001b[0;36mpomegranate.bayes.BayesModel.from_summaries\u001b[0;34m()\u001b[0m\n",
      "\u001b[0;32mpomegranate/distributions.pyx\u001b[0m in \u001b[0;36mpomegranate.distributions.MultivariateGaussianDistribution.from_summaries\u001b[0;34m()\u001b[0m\n",
      "\u001b[0;31mTypeError\u001b[0m: Cannot cast ufunc subtract output from dtype('complex128') to dtype('float64') with casting rule 'same_kind'"
     ]
    },
    {
     "name": "stderr",
     "output_type": "stream",
     "text": [
      "Exception ignored in: 'pomegranate.hmm.HiddenMarkovModel._from_summaries'\n",
      "Traceback (most recent call last):\n",
      "  File \"pomegranate/bayes.pyx\", line 710, in pomegranate.bayes.BayesModel.from_summaries\n",
      "  File \"pomegranate/distributions.pyx\", line 2259, in pomegranate.distributions.MultivariateGaussianDistribution.from_summaries\n",
      "TypeError: Cannot cast ufunc subtract output from dtype('complex128') to dtype('float64') with casting rule 'same_kind'\n"
     ]
    },
    {
     "name": "stdout",
     "output_type": "stream",
     "text": [
      "[48] Improvement: 0.009630846790969372\tTime (s): 543.9\n"
     ]
    },
    {
     "ename": "TypeError",
     "evalue": "Cannot cast ufunc subtract output from dtype('complex128') to dtype('float64') with casting rule 'same_kind'",
     "output_type": "error",
     "traceback": [
      "\u001b[0;31m---------------------------------------------------------------------------\u001b[0m",
      "\u001b[0;31mLinAlgError\u001b[0m                               Traceback (most recent call last)",
      "\u001b[0;32mpomegranate/distributions.pyx\u001b[0m in \u001b[0;36mpomegranate.distributions.MultivariateGaussianDistribution.from_summaries\u001b[0;34m()\u001b[0m\n",
      "\u001b[0;32m/usr/local/lib/python3.5/dist-packages/scipy/linalg/decomp_cholesky.py\u001b[0m in \u001b[0;36mcholesky\u001b[0;34m(a, lower, overwrite_a, check_finite)\u001b[0m\n\u001b[1;32m     80\u001b[0m     c, lower = _cholesky(a, lower=lower, overwrite_a=overwrite_a, clean=True,\n\u001b[0;32m---> 81\u001b[0;31m                             check_finite=check_finite)\n\u001b[0m\u001b[1;32m     82\u001b[0m     \u001b[0;32mreturn\u001b[0m \u001b[0mc\u001b[0m\u001b[0;34m\u001b[0m\u001b[0m\n",
      "\u001b[0;32m/usr/local/lib/python3.5/dist-packages/scipy/linalg/decomp_cholesky.py\u001b[0m in \u001b[0;36m_cholesky\u001b[0;34m(a, lower, overwrite_a, clean, check_finite)\u001b[0m\n\u001b[1;32m     29\u001b[0m     \u001b[0;32mif\u001b[0m \u001b[0minfo\u001b[0m \u001b[0;34m>\u001b[0m \u001b[0;36m0\u001b[0m\u001b[0;34m:\u001b[0m\u001b[0;34m\u001b[0m\u001b[0m\n\u001b[0;32m---> 30\u001b[0;31m         \u001b[0;32mraise\u001b[0m \u001b[0mLinAlgError\u001b[0m\u001b[0;34m(\u001b[0m\u001b[0;34m\"%d-th leading minor not positive definite\"\u001b[0m \u001b[0;34m%\u001b[0m \u001b[0minfo\u001b[0m\u001b[0;34m)\u001b[0m\u001b[0;34m\u001b[0m\u001b[0m\n\u001b[0m\u001b[1;32m     31\u001b[0m     \u001b[0;32mif\u001b[0m \u001b[0minfo\u001b[0m \u001b[0;34m<\u001b[0m \u001b[0;36m0\u001b[0m\u001b[0;34m:\u001b[0m\u001b[0;34m\u001b[0m\u001b[0m\n",
      "\u001b[0;31mLinAlgError\u001b[0m: 24-th leading minor not positive definite",
      "\nDuring handling of the above exception, another exception occurred:\n",
      "\u001b[0;31mTypeError\u001b[0m                                 Traceback (most recent call last)",
      "\u001b[0;32mpomegranate/bayes.pyx\u001b[0m in \u001b[0;36mpomegranate.bayes.BayesModel.from_summaries\u001b[0;34m()\u001b[0m\n",
      "\u001b[0;32mpomegranate/distributions.pyx\u001b[0m in \u001b[0;36mpomegranate.distributions.MultivariateGaussianDistribution.from_summaries\u001b[0;34m()\u001b[0m\n",
      "\u001b[0;31mTypeError\u001b[0m: Cannot cast ufunc subtract output from dtype('complex128') to dtype('float64') with casting rule 'same_kind'"
     ]
    },
    {
     "name": "stderr",
     "output_type": "stream",
     "text": [
      "Exception ignored in: 'pomegranate.hmm.HiddenMarkovModel._from_summaries'\n",
      "Traceback (most recent call last):\n",
      "  File \"pomegranate/bayes.pyx\", line 710, in pomegranate.bayes.BayesModel.from_summaries\n",
      "  File \"pomegranate/distributions.pyx\", line 2259, in pomegranate.distributions.MultivariateGaussianDistribution.from_summaries\n",
      "TypeError: Cannot cast ufunc subtract output from dtype('complex128') to dtype('float64') with casting rule 'same_kind'\n"
     ]
    },
    {
     "name": "stdout",
     "output_type": "stream",
     "text": [
      "[49] Improvement: 0.011602562153711915\tTime (s): 532.9\n"
     ]
    },
    {
     "ename": "TypeError",
     "evalue": "Cannot cast ufunc subtract output from dtype('complex128') to dtype('float64') with casting rule 'same_kind'",
     "output_type": "error",
     "traceback": [
      "\u001b[0;31m---------------------------------------------------------------------------\u001b[0m",
      "\u001b[0;31mLinAlgError\u001b[0m                               Traceback (most recent call last)",
      "\u001b[0;32mpomegranate/distributions.pyx\u001b[0m in \u001b[0;36mpomegranate.distributions.MultivariateGaussianDistribution.from_summaries\u001b[0;34m()\u001b[0m\n",
      "\u001b[0;32m/usr/local/lib/python3.5/dist-packages/scipy/linalg/decomp_cholesky.py\u001b[0m in \u001b[0;36mcholesky\u001b[0;34m(a, lower, overwrite_a, check_finite)\u001b[0m\n\u001b[1;32m     80\u001b[0m     c, lower = _cholesky(a, lower=lower, overwrite_a=overwrite_a, clean=True,\n\u001b[0;32m---> 81\u001b[0;31m                             check_finite=check_finite)\n\u001b[0m\u001b[1;32m     82\u001b[0m     \u001b[0;32mreturn\u001b[0m \u001b[0mc\u001b[0m\u001b[0;34m\u001b[0m\u001b[0m\n",
      "\u001b[0;32m/usr/local/lib/python3.5/dist-packages/scipy/linalg/decomp_cholesky.py\u001b[0m in \u001b[0;36m_cholesky\u001b[0;34m(a, lower, overwrite_a, clean, check_finite)\u001b[0m\n\u001b[1;32m     29\u001b[0m     \u001b[0;32mif\u001b[0m \u001b[0minfo\u001b[0m \u001b[0;34m>\u001b[0m \u001b[0;36m0\u001b[0m\u001b[0;34m:\u001b[0m\u001b[0;34m\u001b[0m\u001b[0m\n\u001b[0;32m---> 30\u001b[0;31m         \u001b[0;32mraise\u001b[0m \u001b[0mLinAlgError\u001b[0m\u001b[0;34m(\u001b[0m\u001b[0;34m\"%d-th leading minor not positive definite\"\u001b[0m \u001b[0;34m%\u001b[0m \u001b[0minfo\u001b[0m\u001b[0;34m)\u001b[0m\u001b[0;34m\u001b[0m\u001b[0m\n\u001b[0m\u001b[1;32m     31\u001b[0m     \u001b[0;32mif\u001b[0m \u001b[0minfo\u001b[0m \u001b[0;34m<\u001b[0m \u001b[0;36m0\u001b[0m\u001b[0;34m:\u001b[0m\u001b[0;34m\u001b[0m\u001b[0m\n",
      "\u001b[0;31mLinAlgError\u001b[0m: 24-th leading minor not positive definite",
      "\nDuring handling of the above exception, another exception occurred:\n",
      "\u001b[0;31mTypeError\u001b[0m                                 Traceback (most recent call last)",
      "\u001b[0;32mpomegranate/bayes.pyx\u001b[0m in \u001b[0;36mpomegranate.bayes.BayesModel.from_summaries\u001b[0;34m()\u001b[0m\n",
      "\u001b[0;32mpomegranate/distributions.pyx\u001b[0m in \u001b[0;36mpomegranate.distributions.MultivariateGaussianDistribution.from_summaries\u001b[0;34m()\u001b[0m\n",
      "\u001b[0;31mTypeError\u001b[0m: Cannot cast ufunc subtract output from dtype('complex128') to dtype('float64') with casting rule 'same_kind'"
     ]
    },
    {
     "name": "stderr",
     "output_type": "stream",
     "text": [
      "Exception ignored in: 'pomegranate.hmm.HiddenMarkovModel._from_summaries'\n",
      "Traceback (most recent call last):\n",
      "  File \"pomegranate/bayes.pyx\", line 710, in pomegranate.bayes.BayesModel.from_summaries\n",
      "  File \"pomegranate/distributions.pyx\", line 2259, in pomegranate.distributions.MultivariateGaussianDistribution.from_summaries\n",
      "TypeError: Cannot cast ufunc subtract output from dtype('complex128') to dtype('float64') with casting rule 'same_kind'\n"
     ]
    },
    {
     "name": "stdout",
     "output_type": "stream",
     "text": [
      "[50] Improvement: 0.01280992547981441\tTime (s): 542.9\n"
     ]
    },
    {
     "ename": "TypeError",
     "evalue": "Cannot cast ufunc subtract output from dtype('complex128') to dtype('float64') with casting rule 'same_kind'",
     "output_type": "error",
     "traceback": [
      "\u001b[0;31m---------------------------------------------------------------------------\u001b[0m",
      "\u001b[0;31mLinAlgError\u001b[0m                               Traceback (most recent call last)",
      "\u001b[0;32mpomegranate/distributions.pyx\u001b[0m in \u001b[0;36mpomegranate.distributions.MultivariateGaussianDistribution.from_summaries\u001b[0;34m()\u001b[0m\n",
      "\u001b[0;32m/usr/local/lib/python3.5/dist-packages/scipy/linalg/decomp_cholesky.py\u001b[0m in \u001b[0;36mcholesky\u001b[0;34m(a, lower, overwrite_a, check_finite)\u001b[0m\n\u001b[1;32m     80\u001b[0m     c, lower = _cholesky(a, lower=lower, overwrite_a=overwrite_a, clean=True,\n\u001b[0;32m---> 81\u001b[0;31m                             check_finite=check_finite)\n\u001b[0m\u001b[1;32m     82\u001b[0m     \u001b[0;32mreturn\u001b[0m \u001b[0mc\u001b[0m\u001b[0;34m\u001b[0m\u001b[0m\n",
      "\u001b[0;32m/usr/local/lib/python3.5/dist-packages/scipy/linalg/decomp_cholesky.py\u001b[0m in \u001b[0;36m_cholesky\u001b[0;34m(a, lower, overwrite_a, clean, check_finite)\u001b[0m\n\u001b[1;32m     29\u001b[0m     \u001b[0;32mif\u001b[0m \u001b[0minfo\u001b[0m \u001b[0;34m>\u001b[0m \u001b[0;36m0\u001b[0m\u001b[0;34m:\u001b[0m\u001b[0;34m\u001b[0m\u001b[0m\n\u001b[0;32m---> 30\u001b[0;31m         \u001b[0;32mraise\u001b[0m \u001b[0mLinAlgError\u001b[0m\u001b[0;34m(\u001b[0m\u001b[0;34m\"%d-th leading minor not positive definite\"\u001b[0m \u001b[0;34m%\u001b[0m \u001b[0minfo\u001b[0m\u001b[0;34m)\u001b[0m\u001b[0;34m\u001b[0m\u001b[0m\n\u001b[0m\u001b[1;32m     31\u001b[0m     \u001b[0;32mif\u001b[0m \u001b[0minfo\u001b[0m \u001b[0;34m<\u001b[0m \u001b[0;36m0\u001b[0m\u001b[0;34m:\u001b[0m\u001b[0;34m\u001b[0m\u001b[0m\n",
      "\u001b[0;31mLinAlgError\u001b[0m: 23-th leading minor not positive definite",
      "\nDuring handling of the above exception, another exception occurred:\n",
      "\u001b[0;31mTypeError\u001b[0m                                 Traceback (most recent call last)",
      "\u001b[0;32mpomegranate/bayes.pyx\u001b[0m in \u001b[0;36mpomegranate.bayes.BayesModel.from_summaries\u001b[0;34m()\u001b[0m\n",
      "\u001b[0;32mpomegranate/distributions.pyx\u001b[0m in \u001b[0;36mpomegranate.distributions.MultivariateGaussianDistribution.from_summaries\u001b[0;34m()\u001b[0m\n",
      "\u001b[0;31mTypeError\u001b[0m: Cannot cast ufunc subtract output from dtype('complex128') to dtype('float64') with casting rule 'same_kind'"
     ]
    },
    {
     "name": "stderr",
     "output_type": "stream",
     "text": [
      "Exception ignored in: 'pomegranate.hmm.HiddenMarkovModel._from_summaries'\n",
      "Traceback (most recent call last):\n",
      "  File \"pomegranate/bayes.pyx\", line 710, in pomegranate.bayes.BayesModel.from_summaries\n",
      "  File \"pomegranate/distributions.pyx\", line 2259, in pomegranate.distributions.MultivariateGaussianDistribution.from_summaries\n",
      "TypeError: Cannot cast ufunc subtract output from dtype('complex128') to dtype('float64') with casting rule 'same_kind'\n"
     ]
    },
    {
     "name": "stdout",
     "output_type": "stream",
     "text": [
      "[51] Improvement: 0.01246536965481937\tTime (s): 535.5\n"
     ]
    },
    {
     "ename": "TypeError",
     "evalue": "Cannot cast ufunc subtract output from dtype('complex128') to dtype('float64') with casting rule 'same_kind'",
     "output_type": "error",
     "traceback": [
      "\u001b[0;31m---------------------------------------------------------------------------\u001b[0m",
      "\u001b[0;31mLinAlgError\u001b[0m                               Traceback (most recent call last)",
      "\u001b[0;32mpomegranate/distributions.pyx\u001b[0m in \u001b[0;36mpomegranate.distributions.MultivariateGaussianDistribution.from_summaries\u001b[0;34m()\u001b[0m\n",
      "\u001b[0;32m/usr/local/lib/python3.5/dist-packages/scipy/linalg/decomp_cholesky.py\u001b[0m in \u001b[0;36mcholesky\u001b[0;34m(a, lower, overwrite_a, check_finite)\u001b[0m\n\u001b[1;32m     80\u001b[0m     c, lower = _cholesky(a, lower=lower, overwrite_a=overwrite_a, clean=True,\n\u001b[0;32m---> 81\u001b[0;31m                             check_finite=check_finite)\n\u001b[0m\u001b[1;32m     82\u001b[0m     \u001b[0;32mreturn\u001b[0m \u001b[0mc\u001b[0m\u001b[0;34m\u001b[0m\u001b[0m\n",
      "\u001b[0;32m/usr/local/lib/python3.5/dist-packages/scipy/linalg/decomp_cholesky.py\u001b[0m in \u001b[0;36m_cholesky\u001b[0;34m(a, lower, overwrite_a, clean, check_finite)\u001b[0m\n\u001b[1;32m     29\u001b[0m     \u001b[0;32mif\u001b[0m \u001b[0minfo\u001b[0m \u001b[0;34m>\u001b[0m \u001b[0;36m0\u001b[0m\u001b[0;34m:\u001b[0m\u001b[0;34m\u001b[0m\u001b[0m\n\u001b[0;32m---> 30\u001b[0;31m         \u001b[0;32mraise\u001b[0m \u001b[0mLinAlgError\u001b[0m\u001b[0;34m(\u001b[0m\u001b[0;34m\"%d-th leading minor not positive definite\"\u001b[0m \u001b[0;34m%\u001b[0m \u001b[0minfo\u001b[0m\u001b[0;34m)\u001b[0m\u001b[0;34m\u001b[0m\u001b[0m\n\u001b[0m\u001b[1;32m     31\u001b[0m     \u001b[0;32mif\u001b[0m \u001b[0minfo\u001b[0m \u001b[0;34m<\u001b[0m \u001b[0;36m0\u001b[0m\u001b[0;34m:\u001b[0m\u001b[0;34m\u001b[0m\u001b[0m\n",
      "\u001b[0;31mLinAlgError\u001b[0m: 23-th leading minor not positive definite",
      "\nDuring handling of the above exception, another exception occurred:\n",
      "\u001b[0;31mTypeError\u001b[0m                                 Traceback (most recent call last)",
      "\u001b[0;32mpomegranate/bayes.pyx\u001b[0m in \u001b[0;36mpomegranate.bayes.BayesModel.from_summaries\u001b[0;34m()\u001b[0m\n",
      "\u001b[0;32mpomegranate/distributions.pyx\u001b[0m in \u001b[0;36mpomegranate.distributions.MultivariateGaussianDistribution.from_summaries\u001b[0;34m()\u001b[0m\n",
      "\u001b[0;31mTypeError\u001b[0m: Cannot cast ufunc subtract output from dtype('complex128') to dtype('float64') with casting rule 'same_kind'"
     ]
    },
    {
     "name": "stderr",
     "output_type": "stream",
     "text": [
      "Exception ignored in: 'pomegranate.hmm.HiddenMarkovModel._from_summaries'\n",
      "Traceback (most recent call last):\n",
      "  File \"pomegranate/bayes.pyx\", line 710, in pomegranate.bayes.BayesModel.from_summaries\n",
      "  File \"pomegranate/distributions.pyx\", line 2259, in pomegranate.distributions.MultivariateGaussianDistribution.from_summaries\n",
      "TypeError: Cannot cast ufunc subtract output from dtype('complex128') to dtype('float64') with casting rule 'same_kind'\n"
     ]
    },
    {
     "name": "stdout",
     "output_type": "stream",
     "text": [
      "[52] Improvement: 0.010371301788836718\tTime (s): 541.7\n"
     ]
    },
    {
     "ename": "LinAlgError",
     "evalue": "39-th leading minor not positive definite",
     "output_type": "error",
     "traceback": [
      "\u001b[0;31m---------------------------------------------------------------------------\u001b[0m",
      "\u001b[0;31mLinAlgError\u001b[0m                               Traceback (most recent call last)",
      "\u001b[0;32mpomegranate/distributions.pyx\u001b[0m in \u001b[0;36mpomegranate.distributions.MultivariateGaussianDistribution.from_summaries\u001b[0;34m()\u001b[0m\n",
      "\u001b[0;32m/usr/local/lib/python3.5/dist-packages/scipy/linalg/decomp_cholesky.py\u001b[0m in \u001b[0;36mcholesky\u001b[0;34m(a, lower, overwrite_a, check_finite)\u001b[0m\n\u001b[1;32m     80\u001b[0m     c, lower = _cholesky(a, lower=lower, overwrite_a=overwrite_a, clean=True,\n\u001b[0;32m---> 81\u001b[0;31m                             check_finite=check_finite)\n\u001b[0m\u001b[1;32m     82\u001b[0m     \u001b[0;32mreturn\u001b[0m \u001b[0mc\u001b[0m\u001b[0;34m\u001b[0m\u001b[0m\n",
      "\u001b[0;32m/usr/local/lib/python3.5/dist-packages/scipy/linalg/decomp_cholesky.py\u001b[0m in \u001b[0;36m_cholesky\u001b[0;34m(a, lower, overwrite_a, clean, check_finite)\u001b[0m\n\u001b[1;32m     29\u001b[0m     \u001b[0;32mif\u001b[0m \u001b[0minfo\u001b[0m \u001b[0;34m>\u001b[0m \u001b[0;36m0\u001b[0m\u001b[0;34m:\u001b[0m\u001b[0;34m\u001b[0m\u001b[0m\n\u001b[0;32m---> 30\u001b[0;31m         \u001b[0;32mraise\u001b[0m \u001b[0mLinAlgError\u001b[0m\u001b[0;34m(\u001b[0m\u001b[0;34m\"%d-th leading minor not positive definite\"\u001b[0m \u001b[0;34m%\u001b[0m \u001b[0minfo\u001b[0m\u001b[0;34m)\u001b[0m\u001b[0;34m\u001b[0m\u001b[0m\n\u001b[0m\u001b[1;32m     31\u001b[0m     \u001b[0;32mif\u001b[0m \u001b[0minfo\u001b[0m \u001b[0;34m<\u001b[0m \u001b[0;36m0\u001b[0m\u001b[0;34m:\u001b[0m\u001b[0;34m\u001b[0m\u001b[0m\n",
      "\u001b[0;31mLinAlgError\u001b[0m: 27-th leading minor not positive definite",
      "\nDuring handling of the above exception, another exception occurred:\n",
      "\u001b[0;31mLinAlgError\u001b[0m                               Traceback (most recent call last)",
      "\u001b[0;32mpomegranate/bayes.pyx\u001b[0m in \u001b[0;36mpomegranate.bayes.BayesModel.from_summaries\u001b[0;34m()\u001b[0m\n",
      "\u001b[0;32mpomegranate/distributions.pyx\u001b[0m in \u001b[0;36mpomegranate.distributions.MultivariateGaussianDistribution.from_summaries\u001b[0;34m()\u001b[0m\n",
      "\u001b[0;32m/usr/local/lib/python3.5/dist-packages/scipy/linalg/decomp_cholesky.py\u001b[0m in \u001b[0;36mcholesky\u001b[0;34m(a, lower, overwrite_a, check_finite)\u001b[0m\n\u001b[1;32m     79\u001b[0m     \"\"\"\n\u001b[1;32m     80\u001b[0m     c, lower = _cholesky(a, lower=lower, overwrite_a=overwrite_a, clean=True,\n\u001b[0;32m---> 81\u001b[0;31m                             check_finite=check_finite)\n\u001b[0m\u001b[1;32m     82\u001b[0m     \u001b[0;32mreturn\u001b[0m \u001b[0mc\u001b[0m\u001b[0;34m\u001b[0m\u001b[0m\n\u001b[1;32m     83\u001b[0m \u001b[0;34m\u001b[0m\u001b[0m\n",
      "\u001b[0;32m/usr/local/lib/python3.5/dist-packages/scipy/linalg/decomp_cholesky.py\u001b[0m in \u001b[0;36m_cholesky\u001b[0;34m(a, lower, overwrite_a, clean, check_finite)\u001b[0m\n\u001b[1;32m     28\u001b[0m     \u001b[0mc\u001b[0m\u001b[0;34m,\u001b[0m \u001b[0minfo\u001b[0m \u001b[0;34m=\u001b[0m \u001b[0mpotrf\u001b[0m\u001b[0;34m(\u001b[0m\u001b[0ma1\u001b[0m\u001b[0;34m,\u001b[0m \u001b[0mlower\u001b[0m\u001b[0;34m=\u001b[0m\u001b[0mlower\u001b[0m\u001b[0;34m,\u001b[0m \u001b[0moverwrite_a\u001b[0m\u001b[0;34m=\u001b[0m\u001b[0moverwrite_a\u001b[0m\u001b[0;34m,\u001b[0m \u001b[0mclean\u001b[0m\u001b[0;34m=\u001b[0m\u001b[0mclean\u001b[0m\u001b[0;34m)\u001b[0m\u001b[0;34m\u001b[0m\u001b[0m\n\u001b[1;32m     29\u001b[0m     \u001b[0;32mif\u001b[0m \u001b[0minfo\u001b[0m \u001b[0;34m>\u001b[0m \u001b[0;36m0\u001b[0m\u001b[0;34m:\u001b[0m\u001b[0;34m\u001b[0m\u001b[0m\n\u001b[0;32m---> 30\u001b[0;31m         \u001b[0;32mraise\u001b[0m \u001b[0mLinAlgError\u001b[0m\u001b[0;34m(\u001b[0m\u001b[0;34m\"%d-th leading minor not positive definite\"\u001b[0m \u001b[0;34m%\u001b[0m \u001b[0minfo\u001b[0m\u001b[0;34m)\u001b[0m\u001b[0;34m\u001b[0m\u001b[0m\n\u001b[0m\u001b[1;32m     31\u001b[0m     \u001b[0;32mif\u001b[0m \u001b[0minfo\u001b[0m \u001b[0;34m<\u001b[0m \u001b[0;36m0\u001b[0m\u001b[0;34m:\u001b[0m\u001b[0;34m\u001b[0m\u001b[0m\n\u001b[1;32m     32\u001b[0m         raise ValueError('illegal value in %d-th argument of internal potrf'\n",
      "\u001b[0;31mLinAlgError\u001b[0m: 39-th leading minor not positive definite"
     ]
    },
    {
     "name": "stderr",
     "output_type": "stream",
     "text": [
      "Exception ignored in: 'pomegranate.hmm.HiddenMarkovModel._from_summaries'\n",
      "Traceback (most recent call last):\n",
      "  File \"pomegranate/bayes.pyx\", line 710, in pomegranate.bayes.BayesModel.from_summaries\n",
      "  File \"pomegranate/distributions.pyx\", line 2261, in pomegranate.distributions.MultivariateGaussianDistribution.from_summaries\n",
      "  File \"/usr/local/lib/python3.5/dist-packages/scipy/linalg/decomp_cholesky.py\", line 81, in cholesky\n",
      "    check_finite=check_finite)\n",
      "  File \"/usr/local/lib/python3.5/dist-packages/scipy/linalg/decomp_cholesky.py\", line 30, in _cholesky\n",
      "    raise LinAlgError(\"%d-th leading minor not positive definite\" % info)\n",
      "numpy.linalg.linalg.LinAlgError: 39-th leading minor not positive definite\n"
     ]
    },
    {
     "name": "stdout",
     "output_type": "stream",
     "text": [
      "[53] Improvement: 57.83760084374808\tTime (s): 541.0\n"
     ]
    },
    {
     "ename": "TypeError",
     "evalue": "Cannot cast ufunc subtract output from dtype('complex128') to dtype('float64') with casting rule 'same_kind'",
     "output_type": "error",
     "traceback": [
      "\u001b[0;31m---------------------------------------------------------------------------\u001b[0m",
      "\u001b[0;31mLinAlgError\u001b[0m                               Traceback (most recent call last)",
      "\u001b[0;32mpomegranate/distributions.pyx\u001b[0m in \u001b[0;36mpomegranate.distributions.MultivariateGaussianDistribution.from_summaries\u001b[0;34m()\u001b[0m\n",
      "\u001b[0;32m/usr/local/lib/python3.5/dist-packages/scipy/linalg/decomp_cholesky.py\u001b[0m in \u001b[0;36mcholesky\u001b[0;34m(a, lower, overwrite_a, check_finite)\u001b[0m\n\u001b[1;32m     80\u001b[0m     c, lower = _cholesky(a, lower=lower, overwrite_a=overwrite_a, clean=True,\n\u001b[0;32m---> 81\u001b[0;31m                             check_finite=check_finite)\n\u001b[0m\u001b[1;32m     82\u001b[0m     \u001b[0;32mreturn\u001b[0m \u001b[0mc\u001b[0m\u001b[0;34m\u001b[0m\u001b[0m\n",
      "\u001b[0;32m/usr/local/lib/python3.5/dist-packages/scipy/linalg/decomp_cholesky.py\u001b[0m in \u001b[0;36m_cholesky\u001b[0;34m(a, lower, overwrite_a, clean, check_finite)\u001b[0m\n\u001b[1;32m     29\u001b[0m     \u001b[0;32mif\u001b[0m \u001b[0minfo\u001b[0m \u001b[0;34m>\u001b[0m \u001b[0;36m0\u001b[0m\u001b[0;34m:\u001b[0m\u001b[0;34m\u001b[0m\u001b[0m\n\u001b[0;32m---> 30\u001b[0;31m         \u001b[0;32mraise\u001b[0m \u001b[0mLinAlgError\u001b[0m\u001b[0;34m(\u001b[0m\u001b[0;34m\"%d-th leading minor not positive definite\"\u001b[0m \u001b[0;34m%\u001b[0m \u001b[0minfo\u001b[0m\u001b[0;34m)\u001b[0m\u001b[0;34m\u001b[0m\u001b[0m\n\u001b[0m\u001b[1;32m     31\u001b[0m     \u001b[0;32mif\u001b[0m \u001b[0minfo\u001b[0m \u001b[0;34m<\u001b[0m \u001b[0;36m0\u001b[0m\u001b[0;34m:\u001b[0m\u001b[0;34m\u001b[0m\u001b[0m\n",
      "\u001b[0;31mLinAlgError\u001b[0m: 22-th leading minor not positive definite",
      "\nDuring handling of the above exception, another exception occurred:\n",
      "\u001b[0;31mTypeError\u001b[0m                                 Traceback (most recent call last)",
      "\u001b[0;32mpomegranate/bayes.pyx\u001b[0m in \u001b[0;36mpomegranate.bayes.BayesModel.from_summaries\u001b[0;34m()\u001b[0m\n",
      "\u001b[0;32mpomegranate/distributions.pyx\u001b[0m in \u001b[0;36mpomegranate.distributions.MultivariateGaussianDistribution.from_summaries\u001b[0;34m()\u001b[0m\n",
      "\u001b[0;31mTypeError\u001b[0m: Cannot cast ufunc subtract output from dtype('complex128') to dtype('float64') with casting rule 'same_kind'"
     ]
    },
    {
     "name": "stderr",
     "output_type": "stream",
     "text": [
      "Exception ignored in: 'pomegranate.hmm.HiddenMarkovModel._from_summaries'\n",
      "Traceback (most recent call last):\n",
      "  File \"pomegranate/bayes.pyx\", line 710, in pomegranate.bayes.BayesModel.from_summaries\n",
      "  File \"pomegranate/distributions.pyx\", line 2259, in pomegranate.distributions.MultivariateGaussianDistribution.from_summaries\n",
      "TypeError: Cannot cast ufunc subtract output from dtype('complex128') to dtype('float64') with casting rule 'same_kind'\n"
     ]
    },
    {
     "name": "stdout",
     "output_type": "stream",
     "text": [
      "[54] Improvement: 0.004460606258362532\tTime (s): 541.7\n"
     ]
    },
    {
     "ename": "TypeError",
     "evalue": "Cannot cast ufunc subtract output from dtype('complex128') to dtype('float64') with casting rule 'same_kind'",
     "output_type": "error",
     "traceback": [
      "\u001b[0;31m---------------------------------------------------------------------------\u001b[0m",
      "\u001b[0;31mLinAlgError\u001b[0m                               Traceback (most recent call last)",
      "\u001b[0;32mpomegranate/distributions.pyx\u001b[0m in \u001b[0;36mpomegranate.distributions.MultivariateGaussianDistribution.from_summaries\u001b[0;34m()\u001b[0m\n",
      "\u001b[0;32m/usr/local/lib/python3.5/dist-packages/scipy/linalg/decomp_cholesky.py\u001b[0m in \u001b[0;36mcholesky\u001b[0;34m(a, lower, overwrite_a, check_finite)\u001b[0m\n\u001b[1;32m     80\u001b[0m     c, lower = _cholesky(a, lower=lower, overwrite_a=overwrite_a, clean=True,\n\u001b[0;32m---> 81\u001b[0;31m                             check_finite=check_finite)\n\u001b[0m\u001b[1;32m     82\u001b[0m     \u001b[0;32mreturn\u001b[0m \u001b[0mc\u001b[0m\u001b[0;34m\u001b[0m\u001b[0m\n",
      "\u001b[0;32m/usr/local/lib/python3.5/dist-packages/scipy/linalg/decomp_cholesky.py\u001b[0m in \u001b[0;36m_cholesky\u001b[0;34m(a, lower, overwrite_a, clean, check_finite)\u001b[0m\n\u001b[1;32m     29\u001b[0m     \u001b[0;32mif\u001b[0m \u001b[0minfo\u001b[0m \u001b[0;34m>\u001b[0m \u001b[0;36m0\u001b[0m\u001b[0;34m:\u001b[0m\u001b[0;34m\u001b[0m\u001b[0m\n\u001b[0;32m---> 30\u001b[0;31m         \u001b[0;32mraise\u001b[0m \u001b[0mLinAlgError\u001b[0m\u001b[0;34m(\u001b[0m\u001b[0;34m\"%d-th leading minor not positive definite\"\u001b[0m \u001b[0;34m%\u001b[0m \u001b[0minfo\u001b[0m\u001b[0;34m)\u001b[0m\u001b[0;34m\u001b[0m\u001b[0m\n\u001b[0m\u001b[1;32m     31\u001b[0m     \u001b[0;32mif\u001b[0m \u001b[0minfo\u001b[0m \u001b[0;34m<\u001b[0m \u001b[0;36m0\u001b[0m\u001b[0;34m:\u001b[0m\u001b[0;34m\u001b[0m\u001b[0m\n",
      "\u001b[0;31mLinAlgError\u001b[0m: 22-th leading minor not positive definite",
      "\nDuring handling of the above exception, another exception occurred:\n",
      "\u001b[0;31mTypeError\u001b[0m                                 Traceback (most recent call last)",
      "\u001b[0;32mpomegranate/bayes.pyx\u001b[0m in \u001b[0;36mpomegranate.bayes.BayesModel.from_summaries\u001b[0;34m()\u001b[0m\n",
      "\u001b[0;32mpomegranate/distributions.pyx\u001b[0m in \u001b[0;36mpomegranate.distributions.MultivariateGaussianDistribution.from_summaries\u001b[0;34m()\u001b[0m\n",
      "\u001b[0;31mTypeError\u001b[0m: Cannot cast ufunc subtract output from dtype('complex128') to dtype('float64') with casting rule 'same_kind'"
     ]
    },
    {
     "name": "stderr",
     "output_type": "stream",
     "text": [
      "Exception ignored in: 'pomegranate.hmm.HiddenMarkovModel._from_summaries'\n",
      "Traceback (most recent call last):\n",
      "  File \"pomegranate/bayes.pyx\", line 710, in pomegranate.bayes.BayesModel.from_summaries\n",
      "  File \"pomegranate/distributions.pyx\", line 2259, in pomegranate.distributions.MultivariateGaussianDistribution.from_summaries\n",
      "TypeError: Cannot cast ufunc subtract output from dtype('complex128') to dtype('float64') with casting rule 'same_kind'\n"
     ]
    },
    {
     "name": "stdout",
     "output_type": "stream",
     "text": [
      "[55] Improvement: 0.0024528754875063896\tTime (s): 541.1\n"
     ]
    },
    {
     "ename": "TypeError",
     "evalue": "Cannot cast ufunc subtract output from dtype('complex128') to dtype('float64') with casting rule 'same_kind'",
     "output_type": "error",
     "traceback": [
      "\u001b[0;31m---------------------------------------------------------------------------\u001b[0m",
      "\u001b[0;31mLinAlgError\u001b[0m                               Traceback (most recent call last)",
      "\u001b[0;32mpomegranate/distributions.pyx\u001b[0m in \u001b[0;36mpomegranate.distributions.MultivariateGaussianDistribution.from_summaries\u001b[0;34m()\u001b[0m\n",
      "\u001b[0;32m/usr/local/lib/python3.5/dist-packages/scipy/linalg/decomp_cholesky.py\u001b[0m in \u001b[0;36mcholesky\u001b[0;34m(a, lower, overwrite_a, check_finite)\u001b[0m\n\u001b[1;32m     80\u001b[0m     c, lower = _cholesky(a, lower=lower, overwrite_a=overwrite_a, clean=True,\n\u001b[0;32m---> 81\u001b[0;31m                             check_finite=check_finite)\n\u001b[0m\u001b[1;32m     82\u001b[0m     \u001b[0;32mreturn\u001b[0m \u001b[0mc\u001b[0m\u001b[0;34m\u001b[0m\u001b[0m\n",
      "\u001b[0;32m/usr/local/lib/python3.5/dist-packages/scipy/linalg/decomp_cholesky.py\u001b[0m in \u001b[0;36m_cholesky\u001b[0;34m(a, lower, overwrite_a, clean, check_finite)\u001b[0m\n\u001b[1;32m     29\u001b[0m     \u001b[0;32mif\u001b[0m \u001b[0minfo\u001b[0m \u001b[0;34m>\u001b[0m \u001b[0;36m0\u001b[0m\u001b[0;34m:\u001b[0m\u001b[0;34m\u001b[0m\u001b[0m\n\u001b[0;32m---> 30\u001b[0;31m         \u001b[0;32mraise\u001b[0m \u001b[0mLinAlgError\u001b[0m\u001b[0;34m(\u001b[0m\u001b[0;34m\"%d-th leading minor not positive definite\"\u001b[0m \u001b[0;34m%\u001b[0m \u001b[0minfo\u001b[0m\u001b[0;34m)\u001b[0m\u001b[0;34m\u001b[0m\u001b[0m\n\u001b[0m\u001b[1;32m     31\u001b[0m     \u001b[0;32mif\u001b[0m \u001b[0minfo\u001b[0m \u001b[0;34m<\u001b[0m \u001b[0;36m0\u001b[0m\u001b[0;34m:\u001b[0m\u001b[0;34m\u001b[0m\u001b[0m\n",
      "\u001b[0;31mLinAlgError\u001b[0m: 24-th leading minor not positive definite",
      "\nDuring handling of the above exception, another exception occurred:\n",
      "\u001b[0;31mTypeError\u001b[0m                                 Traceback (most recent call last)",
      "\u001b[0;32mpomegranate/bayes.pyx\u001b[0m in \u001b[0;36mpomegranate.bayes.BayesModel.from_summaries\u001b[0;34m()\u001b[0m\n",
      "\u001b[0;32mpomegranate/distributions.pyx\u001b[0m in \u001b[0;36mpomegranate.distributions.MultivariateGaussianDistribution.from_summaries\u001b[0;34m()\u001b[0m\n",
      "\u001b[0;31mTypeError\u001b[0m: Cannot cast ufunc subtract output from dtype('complex128') to dtype('float64') with casting rule 'same_kind'"
     ]
    },
    {
     "name": "stderr",
     "output_type": "stream",
     "text": [
      "Exception ignored in: 'pomegranate.hmm.HiddenMarkovModel._from_summaries'\n",
      "Traceback (most recent call last):\n",
      "  File \"pomegranate/bayes.pyx\", line 710, in pomegranate.bayes.BayesModel.from_summaries\n",
      "  File \"pomegranate/distributions.pyx\", line 2259, in pomegranate.distributions.MultivariateGaussianDistribution.from_summaries\n",
      "TypeError: Cannot cast ufunc subtract output from dtype('complex128') to dtype('float64') with casting rule 'same_kind'\n"
     ]
    },
    {
     "name": "stdout",
     "output_type": "stream",
     "text": [
      "[56] Improvement: 0.00127413310110569\tTime (s): 541.1\n"
     ]
    },
    {
     "ename": "TypeError",
     "evalue": "Cannot cast ufunc subtract output from dtype('complex128') to dtype('float64') with casting rule 'same_kind'",
     "output_type": "error",
     "traceback": [
      "\u001b[0;31m---------------------------------------------------------------------------\u001b[0m",
      "\u001b[0;31mLinAlgError\u001b[0m                               Traceback (most recent call last)",
      "\u001b[0;32mpomegranate/distributions.pyx\u001b[0m in \u001b[0;36mpomegranate.distributions.MultivariateGaussianDistribution.from_summaries\u001b[0;34m()\u001b[0m\n",
      "\u001b[0;32m/usr/local/lib/python3.5/dist-packages/scipy/linalg/decomp_cholesky.py\u001b[0m in \u001b[0;36mcholesky\u001b[0;34m(a, lower, overwrite_a, check_finite)\u001b[0m\n\u001b[1;32m     80\u001b[0m     c, lower = _cholesky(a, lower=lower, overwrite_a=overwrite_a, clean=True,\n\u001b[0;32m---> 81\u001b[0;31m                             check_finite=check_finite)\n\u001b[0m\u001b[1;32m     82\u001b[0m     \u001b[0;32mreturn\u001b[0m \u001b[0mc\u001b[0m\u001b[0;34m\u001b[0m\u001b[0m\n",
      "\u001b[0;32m/usr/local/lib/python3.5/dist-packages/scipy/linalg/decomp_cholesky.py\u001b[0m in \u001b[0;36m_cholesky\u001b[0;34m(a, lower, overwrite_a, clean, check_finite)\u001b[0m\n\u001b[1;32m     29\u001b[0m     \u001b[0;32mif\u001b[0m \u001b[0minfo\u001b[0m \u001b[0;34m>\u001b[0m \u001b[0;36m0\u001b[0m\u001b[0;34m:\u001b[0m\u001b[0;34m\u001b[0m\u001b[0m\n\u001b[0;32m---> 30\u001b[0;31m         \u001b[0;32mraise\u001b[0m \u001b[0mLinAlgError\u001b[0m\u001b[0;34m(\u001b[0m\u001b[0;34m\"%d-th leading minor not positive definite\"\u001b[0m \u001b[0;34m%\u001b[0m \u001b[0minfo\u001b[0m\u001b[0;34m)\u001b[0m\u001b[0;34m\u001b[0m\u001b[0m\n\u001b[0m\u001b[1;32m     31\u001b[0m     \u001b[0;32mif\u001b[0m \u001b[0minfo\u001b[0m \u001b[0;34m<\u001b[0m \u001b[0;36m0\u001b[0m\u001b[0;34m:\u001b[0m\u001b[0;34m\u001b[0m\u001b[0m\n",
      "\u001b[0;31mLinAlgError\u001b[0m: 24-th leading minor not positive definite",
      "\nDuring handling of the above exception, another exception occurred:\n",
      "\u001b[0;31mTypeError\u001b[0m                                 Traceback (most recent call last)",
      "\u001b[0;32mpomegranate/bayes.pyx\u001b[0m in \u001b[0;36mpomegranate.bayes.BayesModel.from_summaries\u001b[0;34m()\u001b[0m\n",
      "\u001b[0;32mpomegranate/distributions.pyx\u001b[0m in \u001b[0;36mpomegranate.distributions.MultivariateGaussianDistribution.from_summaries\u001b[0;34m()\u001b[0m\n",
      "\u001b[0;31mTypeError\u001b[0m: Cannot cast ufunc subtract output from dtype('complex128') to dtype('float64') with casting rule 'same_kind'"
     ]
    },
    {
     "name": "stderr",
     "output_type": "stream",
     "text": [
      "Exception ignored in: 'pomegranate.hmm.HiddenMarkovModel._from_summaries'\n",
      "Traceback (most recent call last):\n",
      "  File \"pomegranate/bayes.pyx\", line 710, in pomegranate.bayes.BayesModel.from_summaries\n",
      "  File \"pomegranate/distributions.pyx\", line 2259, in pomegranate.distributions.MultivariateGaussianDistribution.from_summaries\n",
      "TypeError: Cannot cast ufunc subtract output from dtype('complex128') to dtype('float64') with casting rule 'same_kind'\n"
     ]
    },
    {
     "name": "stdout",
     "output_type": "stream",
     "text": [
      "[57] Improvement: 0.0006458016578108072\tTime (s): 540.1\n"
     ]
    },
    {
     "ename": "TypeError",
     "evalue": "Cannot cast ufunc subtract output from dtype('complex128') to dtype('float64') with casting rule 'same_kind'",
     "output_type": "error",
     "traceback": [
      "\u001b[0;31m---------------------------------------------------------------------------\u001b[0m",
      "\u001b[0;31mLinAlgError\u001b[0m                               Traceback (most recent call last)",
      "\u001b[0;32mpomegranate/distributions.pyx\u001b[0m in \u001b[0;36mpomegranate.distributions.MultivariateGaussianDistribution.from_summaries\u001b[0;34m()\u001b[0m\n",
      "\u001b[0;32m/usr/local/lib/python3.5/dist-packages/scipy/linalg/decomp_cholesky.py\u001b[0m in \u001b[0;36mcholesky\u001b[0;34m(a, lower, overwrite_a, check_finite)\u001b[0m\n\u001b[1;32m     80\u001b[0m     c, lower = _cholesky(a, lower=lower, overwrite_a=overwrite_a, clean=True,\n\u001b[0;32m---> 81\u001b[0;31m                             check_finite=check_finite)\n\u001b[0m\u001b[1;32m     82\u001b[0m     \u001b[0;32mreturn\u001b[0m \u001b[0mc\u001b[0m\u001b[0;34m\u001b[0m\u001b[0m\n",
      "\u001b[0;32m/usr/local/lib/python3.5/dist-packages/scipy/linalg/decomp_cholesky.py\u001b[0m in \u001b[0;36m_cholesky\u001b[0;34m(a, lower, overwrite_a, clean, check_finite)\u001b[0m\n\u001b[1;32m     29\u001b[0m     \u001b[0;32mif\u001b[0m \u001b[0minfo\u001b[0m \u001b[0;34m>\u001b[0m \u001b[0;36m0\u001b[0m\u001b[0;34m:\u001b[0m\u001b[0;34m\u001b[0m\u001b[0m\n\u001b[0;32m---> 30\u001b[0;31m         \u001b[0;32mraise\u001b[0m \u001b[0mLinAlgError\u001b[0m\u001b[0;34m(\u001b[0m\u001b[0;34m\"%d-th leading minor not positive definite\"\u001b[0m \u001b[0;34m%\u001b[0m \u001b[0minfo\u001b[0m\u001b[0;34m)\u001b[0m\u001b[0;34m\u001b[0m\u001b[0m\n\u001b[0m\u001b[1;32m     31\u001b[0m     \u001b[0;32mif\u001b[0m \u001b[0minfo\u001b[0m \u001b[0;34m<\u001b[0m \u001b[0;36m0\u001b[0m\u001b[0;34m:\u001b[0m\u001b[0;34m\u001b[0m\u001b[0m\n",
      "\u001b[0;31mLinAlgError\u001b[0m: 23-th leading minor not positive definite",
      "\nDuring handling of the above exception, another exception occurred:\n",
      "\u001b[0;31mTypeError\u001b[0m                                 Traceback (most recent call last)",
      "\u001b[0;32mpomegranate/bayes.pyx\u001b[0m in \u001b[0;36mpomegranate.bayes.BayesModel.from_summaries\u001b[0;34m()\u001b[0m\n",
      "\u001b[0;32mpomegranate/distributions.pyx\u001b[0m in \u001b[0;36mpomegranate.distributions.MultivariateGaussianDistribution.from_summaries\u001b[0;34m()\u001b[0m\n",
      "\u001b[0;31mTypeError\u001b[0m: Cannot cast ufunc subtract output from dtype('complex128') to dtype('float64') with casting rule 'same_kind'"
     ]
    },
    {
     "name": "stderr",
     "output_type": "stream",
     "text": [
      "Exception ignored in: 'pomegranate.hmm.HiddenMarkovModel._from_summaries'\n",
      "Traceback (most recent call last):\n",
      "  File \"pomegranate/bayes.pyx\", line 710, in pomegranate.bayes.BayesModel.from_summaries\n",
      "  File \"pomegranate/distributions.pyx\", line 2259, in pomegranate.distributions.MultivariateGaussianDistribution.from_summaries\n",
      "TypeError: Cannot cast ufunc subtract output from dtype('complex128') to dtype('float64') with casting rule 'same_kind'\n"
     ]
    },
    {
     "name": "stdout",
     "output_type": "stream",
     "text": [
      "[58] Improvement: 0.00032188952900469303\tTime (s): 542.9\n"
     ]
    },
    {
     "ename": "TypeError",
     "evalue": "Cannot cast ufunc subtract output from dtype('complex128') to dtype('float64') with casting rule 'same_kind'",
     "output_type": "error",
     "traceback": [
      "\u001b[0;31m---------------------------------------------------------------------------\u001b[0m",
      "\u001b[0;31mLinAlgError\u001b[0m                               Traceback (most recent call last)",
      "\u001b[0;32mpomegranate/distributions.pyx\u001b[0m in \u001b[0;36mpomegranate.distributions.MultivariateGaussianDistribution.from_summaries\u001b[0;34m()\u001b[0m\n",
      "\u001b[0;32m/usr/local/lib/python3.5/dist-packages/scipy/linalg/decomp_cholesky.py\u001b[0m in \u001b[0;36mcholesky\u001b[0;34m(a, lower, overwrite_a, check_finite)\u001b[0m\n\u001b[1;32m     80\u001b[0m     c, lower = _cholesky(a, lower=lower, overwrite_a=overwrite_a, clean=True,\n\u001b[0;32m---> 81\u001b[0;31m                             check_finite=check_finite)\n\u001b[0m\u001b[1;32m     82\u001b[0m     \u001b[0;32mreturn\u001b[0m \u001b[0mc\u001b[0m\u001b[0;34m\u001b[0m\u001b[0m\n",
      "\u001b[0;32m/usr/local/lib/python3.5/dist-packages/scipy/linalg/decomp_cholesky.py\u001b[0m in \u001b[0;36m_cholesky\u001b[0;34m(a, lower, overwrite_a, clean, check_finite)\u001b[0m\n\u001b[1;32m     29\u001b[0m     \u001b[0;32mif\u001b[0m \u001b[0minfo\u001b[0m \u001b[0;34m>\u001b[0m \u001b[0;36m0\u001b[0m\u001b[0;34m:\u001b[0m\u001b[0;34m\u001b[0m\u001b[0m\n\u001b[0;32m---> 30\u001b[0;31m         \u001b[0;32mraise\u001b[0m \u001b[0mLinAlgError\u001b[0m\u001b[0;34m(\u001b[0m\u001b[0;34m\"%d-th leading minor not positive definite\"\u001b[0m \u001b[0;34m%\u001b[0m \u001b[0minfo\u001b[0m\u001b[0;34m)\u001b[0m\u001b[0;34m\u001b[0m\u001b[0m\n\u001b[0m\u001b[1;32m     31\u001b[0m     \u001b[0;32mif\u001b[0m \u001b[0minfo\u001b[0m \u001b[0;34m<\u001b[0m \u001b[0;36m0\u001b[0m\u001b[0;34m:\u001b[0m\u001b[0;34m\u001b[0m\u001b[0m\n",
      "\u001b[0;31mLinAlgError\u001b[0m: 23-th leading minor not positive definite",
      "\nDuring handling of the above exception, another exception occurred:\n",
      "\u001b[0;31mTypeError\u001b[0m                                 Traceback (most recent call last)",
      "\u001b[0;32mpomegranate/bayes.pyx\u001b[0m in \u001b[0;36mpomegranate.bayes.BayesModel.from_summaries\u001b[0;34m()\u001b[0m\n",
      "\u001b[0;32mpomegranate/distributions.pyx\u001b[0m in \u001b[0;36mpomegranate.distributions.MultivariateGaussianDistribution.from_summaries\u001b[0;34m()\u001b[0m\n",
      "\u001b[0;31mTypeError\u001b[0m: Cannot cast ufunc subtract output from dtype('complex128') to dtype('float64') with casting rule 'same_kind'"
     ]
    },
    {
     "name": "stderr",
     "output_type": "stream",
     "text": [
      "Exception ignored in: 'pomegranate.hmm.HiddenMarkovModel._from_summaries'\n",
      "Traceback (most recent call last):\n",
      "  File \"pomegranate/bayes.pyx\", line 710, in pomegranate.bayes.BayesModel.from_summaries\n",
      "  File \"pomegranate/distributions.pyx\", line 2259, in pomegranate.distributions.MultivariateGaussianDistribution.from_summaries\n",
      "TypeError: Cannot cast ufunc subtract output from dtype('complex128') to dtype('float64') with casting rule 'same_kind'\n"
     ]
    },
    {
     "name": "stdout",
     "output_type": "stream",
     "text": [
      "[59] Improvement: 0.000154552748426795\tTime (s): 543.1\n"
     ]
    },
    {
     "ename": "TypeError",
     "evalue": "Cannot cast ufunc subtract output from dtype('complex128') to dtype('float64') with casting rule 'same_kind'",
     "output_type": "error",
     "traceback": [
      "\u001b[0;31m---------------------------------------------------------------------------\u001b[0m",
      "\u001b[0;31mLinAlgError\u001b[0m                               Traceback (most recent call last)",
      "\u001b[0;32mpomegranate/distributions.pyx\u001b[0m in \u001b[0;36mpomegranate.distributions.MultivariateGaussianDistribution.from_summaries\u001b[0;34m()\u001b[0m\n",
      "\u001b[0;32m/usr/local/lib/python3.5/dist-packages/scipy/linalg/decomp_cholesky.py\u001b[0m in \u001b[0;36mcholesky\u001b[0;34m(a, lower, overwrite_a, check_finite)\u001b[0m\n\u001b[1;32m     80\u001b[0m     c, lower = _cholesky(a, lower=lower, overwrite_a=overwrite_a, clean=True,\n\u001b[0;32m---> 81\u001b[0;31m                             check_finite=check_finite)\n\u001b[0m\u001b[1;32m     82\u001b[0m     \u001b[0;32mreturn\u001b[0m \u001b[0mc\u001b[0m\u001b[0;34m\u001b[0m\u001b[0m\n",
      "\u001b[0;32m/usr/local/lib/python3.5/dist-packages/scipy/linalg/decomp_cholesky.py\u001b[0m in \u001b[0;36m_cholesky\u001b[0;34m(a, lower, overwrite_a, clean, check_finite)\u001b[0m\n\u001b[1;32m     29\u001b[0m     \u001b[0;32mif\u001b[0m \u001b[0minfo\u001b[0m \u001b[0;34m>\u001b[0m \u001b[0;36m0\u001b[0m\u001b[0;34m:\u001b[0m\u001b[0;34m\u001b[0m\u001b[0m\n\u001b[0;32m---> 30\u001b[0;31m         \u001b[0;32mraise\u001b[0m \u001b[0mLinAlgError\u001b[0m\u001b[0;34m(\u001b[0m\u001b[0;34m\"%d-th leading minor not positive definite\"\u001b[0m \u001b[0;34m%\u001b[0m \u001b[0minfo\u001b[0m\u001b[0;34m)\u001b[0m\u001b[0;34m\u001b[0m\u001b[0m\n\u001b[0m\u001b[1;32m     31\u001b[0m     \u001b[0;32mif\u001b[0m \u001b[0minfo\u001b[0m \u001b[0;34m<\u001b[0m \u001b[0;36m0\u001b[0m\u001b[0;34m:\u001b[0m\u001b[0;34m\u001b[0m\u001b[0m\n",
      "\u001b[0;31mLinAlgError\u001b[0m: 23-th leading minor not positive definite",
      "\nDuring handling of the above exception, another exception occurred:\n",
      "\u001b[0;31mTypeError\u001b[0m                                 Traceback (most recent call last)",
      "\u001b[0;32mpomegranate/bayes.pyx\u001b[0m in \u001b[0;36mpomegranate.bayes.BayesModel.from_summaries\u001b[0;34m()\u001b[0m\n",
      "\u001b[0;32mpomegranate/distributions.pyx\u001b[0m in \u001b[0;36mpomegranate.distributions.MultivariateGaussianDistribution.from_summaries\u001b[0;34m()\u001b[0m\n",
      "\u001b[0;31mTypeError\u001b[0m: Cannot cast ufunc subtract output from dtype('complex128') to dtype('float64') with casting rule 'same_kind'"
     ]
    },
    {
     "name": "stderr",
     "output_type": "stream",
     "text": [
      "Exception ignored in: 'pomegranate.hmm.HiddenMarkovModel._from_summaries'\n",
      "Traceback (most recent call last):\n",
      "  File \"pomegranate/bayes.pyx\", line 710, in pomegranate.bayes.BayesModel.from_summaries\n",
      "  File \"pomegranate/distributions.pyx\", line 2259, in pomegranate.distributions.MultivariateGaussianDistribution.from_summaries\n",
      "TypeError: Cannot cast ufunc subtract output from dtype('complex128') to dtype('float64') with casting rule 'same_kind'\n"
     ]
    },
    {
     "name": "stdout",
     "output_type": "stream",
     "text": [
      "[60] Improvement: 6.717629730701447e-05\tTime (s): 534.9\n"
     ]
    },
    {
     "ename": "TypeError",
     "evalue": "Cannot cast ufunc subtract output from dtype('complex128') to dtype('float64') with casting rule 'same_kind'",
     "output_type": "error",
     "traceback": [
      "\u001b[0;31m---------------------------------------------------------------------------\u001b[0m",
      "\u001b[0;31mLinAlgError\u001b[0m                               Traceback (most recent call last)",
      "\u001b[0;32mpomegranate/distributions.pyx\u001b[0m in \u001b[0;36mpomegranate.distributions.MultivariateGaussianDistribution.from_summaries\u001b[0;34m()\u001b[0m\n",
      "\u001b[0;32m/usr/local/lib/python3.5/dist-packages/scipy/linalg/decomp_cholesky.py\u001b[0m in \u001b[0;36mcholesky\u001b[0;34m(a, lower, overwrite_a, check_finite)\u001b[0m\n\u001b[1;32m     80\u001b[0m     c, lower = _cholesky(a, lower=lower, overwrite_a=overwrite_a, clean=True,\n\u001b[0;32m---> 81\u001b[0;31m                             check_finite=check_finite)\n\u001b[0m\u001b[1;32m     82\u001b[0m     \u001b[0;32mreturn\u001b[0m \u001b[0mc\u001b[0m\u001b[0;34m\u001b[0m\u001b[0m\n",
      "\u001b[0;32m/usr/local/lib/python3.5/dist-packages/scipy/linalg/decomp_cholesky.py\u001b[0m in \u001b[0;36m_cholesky\u001b[0;34m(a, lower, overwrite_a, clean, check_finite)\u001b[0m\n\u001b[1;32m     29\u001b[0m     \u001b[0;32mif\u001b[0m \u001b[0minfo\u001b[0m \u001b[0;34m>\u001b[0m \u001b[0;36m0\u001b[0m\u001b[0;34m:\u001b[0m\u001b[0;34m\u001b[0m\u001b[0m\n\u001b[0;32m---> 30\u001b[0;31m         \u001b[0;32mraise\u001b[0m \u001b[0mLinAlgError\u001b[0m\u001b[0;34m(\u001b[0m\u001b[0;34m\"%d-th leading minor not positive definite\"\u001b[0m \u001b[0;34m%\u001b[0m \u001b[0minfo\u001b[0m\u001b[0;34m)\u001b[0m\u001b[0;34m\u001b[0m\u001b[0m\n\u001b[0m\u001b[1;32m     31\u001b[0m     \u001b[0;32mif\u001b[0m \u001b[0minfo\u001b[0m \u001b[0;34m<\u001b[0m \u001b[0;36m0\u001b[0m\u001b[0;34m:\u001b[0m\u001b[0;34m\u001b[0m\u001b[0m\n",
      "\u001b[0;31mLinAlgError\u001b[0m: 23-th leading minor not positive definite",
      "\nDuring handling of the above exception, another exception occurred:\n",
      "\u001b[0;31mTypeError\u001b[0m                                 Traceback (most recent call last)",
      "\u001b[0;32mpomegranate/bayes.pyx\u001b[0m in \u001b[0;36mpomegranate.bayes.BayesModel.from_summaries\u001b[0;34m()\u001b[0m\n",
      "\u001b[0;32mpomegranate/distributions.pyx\u001b[0m in \u001b[0;36mpomegranate.distributions.MultivariateGaussianDistribution.from_summaries\u001b[0;34m()\u001b[0m\n",
      "\u001b[0;31mTypeError\u001b[0m: Cannot cast ufunc subtract output from dtype('complex128') to dtype('float64') with casting rule 'same_kind'"
     ]
    },
    {
     "name": "stderr",
     "output_type": "stream",
     "text": [
      "Exception ignored in: 'pomegranate.hmm.HiddenMarkovModel._from_summaries'\n",
      "Traceback (most recent call last):\n",
      "  File \"pomegranate/bayes.pyx\", line 710, in pomegranate.bayes.BayesModel.from_summaries\n",
      "  File \"pomegranate/distributions.pyx\", line 2259, in pomegranate.distributions.MultivariateGaussianDistribution.from_summaries\n",
      "TypeError: Cannot cast ufunc subtract output from dtype('complex128') to dtype('float64') with casting rule 'same_kind'\n"
     ]
    },
    {
     "name": "stdout",
     "output_type": "stream",
     "text": [
      "[61] Improvement: 2.1627172827720642e-05\tTime (s): 537.9\n"
     ]
    },
    {
     "ename": "TypeError",
     "evalue": "Cannot cast ufunc subtract output from dtype('complex128') to dtype('float64') with casting rule 'same_kind'",
     "output_type": "error",
     "traceback": [
      "\u001b[0;31m---------------------------------------------------------------------------\u001b[0m",
      "\u001b[0;31mLinAlgError\u001b[0m                               Traceback (most recent call last)",
      "\u001b[0;32mpomegranate/distributions.pyx\u001b[0m in \u001b[0;36mpomegranate.distributions.MultivariateGaussianDistribution.from_summaries\u001b[0;34m()\u001b[0m\n",
      "\u001b[0;32m/usr/local/lib/python3.5/dist-packages/scipy/linalg/decomp_cholesky.py\u001b[0m in \u001b[0;36mcholesky\u001b[0;34m(a, lower, overwrite_a, check_finite)\u001b[0m\n\u001b[1;32m     80\u001b[0m     c, lower = _cholesky(a, lower=lower, overwrite_a=overwrite_a, clean=True,\n\u001b[0;32m---> 81\u001b[0;31m                             check_finite=check_finite)\n\u001b[0m\u001b[1;32m     82\u001b[0m     \u001b[0;32mreturn\u001b[0m \u001b[0mc\u001b[0m\u001b[0;34m\u001b[0m\u001b[0m\n",
      "\u001b[0;32m/usr/local/lib/python3.5/dist-packages/scipy/linalg/decomp_cholesky.py\u001b[0m in \u001b[0;36m_cholesky\u001b[0;34m(a, lower, overwrite_a, clean, check_finite)\u001b[0m\n\u001b[1;32m     29\u001b[0m     \u001b[0;32mif\u001b[0m \u001b[0minfo\u001b[0m \u001b[0;34m>\u001b[0m \u001b[0;36m0\u001b[0m\u001b[0;34m:\u001b[0m\u001b[0;34m\u001b[0m\u001b[0m\n\u001b[0;32m---> 30\u001b[0;31m         \u001b[0;32mraise\u001b[0m \u001b[0mLinAlgError\u001b[0m\u001b[0;34m(\u001b[0m\u001b[0;34m\"%d-th leading minor not positive definite\"\u001b[0m \u001b[0;34m%\u001b[0m \u001b[0minfo\u001b[0m\u001b[0;34m)\u001b[0m\u001b[0;34m\u001b[0m\u001b[0m\n\u001b[0m\u001b[1;32m     31\u001b[0m     \u001b[0;32mif\u001b[0m \u001b[0minfo\u001b[0m \u001b[0;34m<\u001b[0m \u001b[0;36m0\u001b[0m\u001b[0;34m:\u001b[0m\u001b[0;34m\u001b[0m\u001b[0m\n",
      "\u001b[0;31mLinAlgError\u001b[0m: 23-th leading minor not positive definite",
      "\nDuring handling of the above exception, another exception occurred:\n",
      "\u001b[0;31mTypeError\u001b[0m                                 Traceback (most recent call last)",
      "\u001b[0;32mpomegranate/bayes.pyx\u001b[0m in \u001b[0;36mpomegranate.bayes.BayesModel.from_summaries\u001b[0;34m()\u001b[0m\n",
      "\u001b[0;32mpomegranate/distributions.pyx\u001b[0m in \u001b[0;36mpomegranate.distributions.MultivariateGaussianDistribution.from_summaries\u001b[0;34m()\u001b[0m\n",
      "\u001b[0;31mTypeError\u001b[0m: Cannot cast ufunc subtract output from dtype('complex128') to dtype('float64') with casting rule 'same_kind'"
     ]
    },
    {
     "name": "stderr",
     "output_type": "stream",
     "text": [
      "Exception ignored in: 'pomegranate.hmm.HiddenMarkovModel._from_summaries'\n",
      "Traceback (most recent call last):\n",
      "  File \"pomegranate/bayes.pyx\", line 710, in pomegranate.bayes.BayesModel.from_summaries\n",
      "  File \"pomegranate/distributions.pyx\", line 2259, in pomegranate.distributions.MultivariateGaussianDistribution.from_summaries\n",
      "TypeError: Cannot cast ufunc subtract output from dtype('complex128') to dtype('float64') with casting rule 'same_kind'\n"
     ]
    },
    {
     "name": "stdout",
     "output_type": "stream",
     "text": [
      "[62] Improvement: -1.4025717973709106e-06\tTime (s): 544.4\n",
      "Total Training Improvement: 2551.5645321204793\n",
      "Total Training Time (s): 33826.2032\n"
     ]
    },
    {
     "data": {
      "text/plain": [
       "2551.5645321204793"
      ]
     },
     "execution_count": 76,
     "metadata": {},
     "output_type": "execute_result"
    }
   ],
   "source": [
    "example_sentence_hmm.fit(example_features, algorithm='viterbi', n_jobs=12, verbose=True)"
   ]
  },
  {
   "cell_type": "markdown",
   "metadata": {},
   "source": [
    "## Enroll"
   ]
  },
  {
   "cell_type": "code",
   "execution_count": 54,
   "metadata": {},
   "outputs": [
    {
     "data": {
      "text/plain": [
       "GMMHMM(algorithm='viterbi', covariance_type='diag', covars_prior=0.01,\n",
       "    init_params='stmcw', n_components=39, n_iter=10, n_mix=8,\n",
       "    params='stmcw', random_state=None, startprob_prior=1.0, tol=0.01,\n",
       "    transmat_prior=1.0, verbose=False)"
      ]
     },
     "execution_count": 54,
     "metadata": {},
     "output_type": "execute_result"
    }
   ],
   "source": [
    "def make_speaker_classifier(inspeaker_classifier):\n",
    "    n_components = 3 * len(phones)\n",
    "    initial, transitions = make_matrix_beads(n_components)\n",
    "\n",
    "    classifier = hmm.GMMHMM(\n",
    "        n_components=n_components, n_mix=8, covariance_type='diag', init_params='mcw', params='tmcw'\n",
    "    )\n",
    "\n",
    "    classifier.startprob_ = initial\n",
    "    classifier.transmat_ = transitions"
   ]
  },
  {
   "cell_type": "code",
   "execution_count": null,
   "metadata": {},
   "outputs": [],
   "source": []
  },
  {
   "cell_type": "code",
   "execution_count": null,
   "metadata": {},
   "outputs": [],
   "source": [
    "def perform_enrollments(classifier, enrollments):\n",
    "    labels = enrollments[['is_male', 'speaker_id', 'sentence_id']].values\n",
    "    features = [load_mfcc(path) for path in enrollments_1['pcm_path']]\n",
    "    classifier.fit(features, labels)\n",
    "    "
   ]
  },
  {
   "cell_type": "markdown",
   "metadata": {},
   "source": [
    "## Trial"
   ]
  },
  {
   "cell_type": "code",
   "execution_count": null,
   "metadata": {},
   "outputs": [],
   "source": [
    "def save_results(label, results):\n",
    "    path = os.path.join(root, 'result', label)\n",
    "    with open(path) as opened:\n",
    "        pickle.dump(results, opened)\n",
    "        \n",
    "def load_results(label):\n",
    "    path = os.path.join(root, 'result', label)\n",
    "    with open(path) as opened:\n",
    "        return pickle.load(opened)\n",
    "    \n",
    "def perform_trial(classifier, path):\n",
    "    features = load_mfcc(path)\n",
    "    return classifier.predict_single_proba(features)\n",
    "\n",
    "def perform_trials(classifier, trials):\n",
    "    paths = trials['pcm_path'].unique()\n",
    "    results = {}\n",
    "    for path in paths:\n",
    "        results[path] = perform_trial(classifier, path)\n",
    "    return results"
   ]
  },
  {
   "cell_type": "code",
   "execution_count": 10,
   "metadata": {},
   "outputs": [
    {
     "data": {
      "text/plain": [
       "array([[ 1.,  0.,  0.],\n",
       "       [ 0.,  1.,  0.],\n",
       "       [ 0.,  0.,  1.]])"
      ]
     },
     "execution_count": 10,
     "metadata": {},
     "output_type": "execute_result"
    }
   ],
   "source": [
    "per_phone_weights = {}\n",
    "\n",
    "per_phone_weights.get('A', np.eye(3))"
   ]
  },
  {
   "cell_type": "code",
   "execution_count": null,
   "metadata": {},
   "outputs": [],
   "source": [
    "class Bakis:\n",
    "    def __init__(self, phones, per_phone_weights, ignore_stress=True, wrap_silence=True):\n",
    "        self.phone_seq = phones.split(' ')\n",
    "        if wrap_silence:\n",
    "            self.phone_seq = ['_'] + self.phone_seq + ['_']\n",
    "            \n",
    "        state_transitions = "
   ]
  },
  {
   "cell_type": "code",
   "execution_count": 51,
   "metadata": {},
   "outputs": [
    {
     "data": {
      "text/plain": [
       "array([31, 32, 33, 34, 35, 36, 37, 38, 39, 40])"
      ]
     },
     "execution_count": 51,
     "metadata": {},
     "output_type": "execute_result"
    }
   ],
   "source": [
    "enrollments_1.sentence_id.unique()"
   ]
  },
  {
   "cell_type": "code",
   "execution_count": 52,
   "metadata": {},
   "outputs": [],
   "source": [
    "sample_enrollments = enrollments_1.loc[enrollments_1.sentence_id == 31]"
   ]
  },
  {
   "cell_type": "code",
   "execution_count": null,
   "metadata": {},
   "outputs": [],
   "source": []
  },
  {
   "cell_type": "code",
   "execution_count": null,
   "metadata": {},
   "outputs": [],
   "source": []
  },
  {
   "cell_type": "code",
   "execution_count": null,
   "metadata": {},
   "outputs": [],
   "source": [
    "class HmmGmmVerifier:\n",
    "    def __init__(self):\n",
    "        self.patterns = None\n",
    "        self.labels = None\n",
    "\n",
    "    def fit(self, features, labels):\n",
    "        self.patterns = features\n",
    "        self.labels = labels\n",
    "        self.unique_labels = np.unique(labels)\n",
    "        \n",
    "    def enroll(self, ):\n",
    "        pass\n",
    "    \n",
    "    def trial(self, ):\n",
    "        pass\n",
    "\n",
    "    def predict(self, features, metric=spatial.distance.cosine):\n",
    "        sequence_label_proba = self.predict_proba(features, metric)\n",
    "        max_proba_index = sequence_label_proba.argmax(axis=1)\n",
    "        return self.unique_labels[max_proba_index]\n",
    "    \n",
    "    def predict_proba(self, features, metric=spatial.distance.cosine):\n",
    "        sequence_n = len(features) \n",
    "        pattern_n = len(self.patterns)\n",
    "        \n",
    "        sequence_label_proba = np.zeros((sequence_n, pattern_n), dtype=self.labels.dtype)\n",
    "        for i, sequence in enumerate(features):\n",
    "            sequence_label_proba[i, :] = self.predict_single_proba(sequence, metric)\n",
    "            \n",
    "        return sequence_label_proba\n",
    "    \n",
    "    def predict_single_proba(self, sequence, metric=spatial.distance.cosine):\n",
    "        pattern_dists = np.zeros(len(self.patterns), dtype=np.float64)\n",
    "        for i, pattern in enumerate(self.patterns):\n",
    "            distance, _ = fastdtw.fastdtw(pattern, sequence, dist=metric)\n",
    "            pattern_dists[i] = distance\n",
    "            \n",
    "        pattern_proba = np.exp(-pattern_dists)\n",
    "        \n",
    "        label_proba = np.zeros(len(self.unique_labels), dtype=np.float64)\n",
    "        all_dim = tuple(range(1, self.labels.ndim))\n",
    "        for i, label in enumerate(self.unique_labels):\n",
    "            relevant = (self.labels == label).all(axis=all_dim)\n",
    "            total_proba = pattern_proba[relevant].sum()\n",
    "            label_proba[i] = total_proba\n",
    "        \n",
    "        return label_proba / label_proba.sum()\n",
    "\n",
    "classifier = markov.HMMGMMClassifier()\n",
    "classifier.fit(e_features, e_labels, n_components=10, n_mix=2)\n",
    "return classifier.predict(t_features)"
   ]
  },
  {
   "cell_type": "code",
   "execution_count": 5,
   "metadata": {},
   "outputs": [
    {
     "data": {
      "text/plain": [
       "is_male  speaker_id\n",
       "False    2             30\n",
       "         4             30\n",
       "         5             30\n",
       "         6             30\n",
       "         8             24\n",
       "         12            30\n",
       "True     1             30\n",
       "         2             30\n",
       "         4             30\n",
       "         5             30\n",
       "         6             30\n",
       "         7             30\n",
       "         8              6\n",
       "         9             30\n",
       "         13            30\n",
       "         14            24\n",
       "         15            30\n",
       "         16            30\n",
       "         17            30\n",
       "         18            30\n",
       "         19            30\n",
       "         20            30\n",
       "         21            24\n",
       "         22            30\n",
       "         23            30\n",
       "         26            30\n",
       "         28            30\n",
       "         29            30\n",
       "         32            30\n",
       "         38            24\n",
       "         40            30\n",
       "         41            30\n",
       "         43            30\n",
       "         47            30\n",
       "         48             6\n",
       "         51            30\n",
       "         52             6\n",
       "         53            30\n",
       "         54            30\n",
       "         55            30\n",
       "         60            30\n",
       "dtype: int64"
      ]
     },
     "metadata": {},
     "output_type": "display_data"
    }
   ],
   "source": [
    "display(enrollments_1.groupby(['is_male', 'speaker_id']).size())"
   ]
  }
 ],
 "metadata": {
  "kernelspec": {
   "display_name": "Python 3",
   "language": "python",
   "name": "python3"
  },
  "language_info": {
   "codemirror_mode": {
    "name": "ipython",
    "version": 3
   },
   "file_extension": ".py",
   "mimetype": "text/x-python",
   "name": "python",
   "nbconvert_exporter": "python",
   "pygments_lexer": "ipython3",
   "version": "3.5.2"
  }
 },
 "nbformat": 4,
 "nbformat_minor": 2
}
