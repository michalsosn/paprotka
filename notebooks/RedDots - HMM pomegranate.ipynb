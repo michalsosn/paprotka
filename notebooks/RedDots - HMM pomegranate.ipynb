{
 "cells": [
  {
   "cell_type": "markdown",
   "metadata": {},
   "source": [
    "# HMM GMM\n",
    "\n",
    "We use 3-state mono-phone HMMs to construct this recognizer. The emission probability of every state is modeled by a GMM. Say we have F mono-phones (F = 39 in our English lexicon), and a G-mixture GMM for each mono-phone state. Thus the GMM-HMM has 3FG mixture components in total. Compared to GMM-UBM, these mixtures are better separated in the phoneme space.\n",
    "\n",
    "MFCC:  MFCCs  are  extracted  from  16kHz  utterance  with  40 filter-banks distributed between 0 and 8kHz. Static 19-dimensional coefficients plus energy and their delta and delta-delta form a 60-dimensional vector. CMVN is applied per utterance.\n",
    "\n",
    "Hmm, deepspeech ma 26 MFCC features i zdaje się, że usuwa co drugi, ale to w związku z jakąś sztuczką uczenia RNN. Mają tak: features = mfcc(audio, samplerate=fs, numcep=numcep) gdzie mfcc jest z psf jak u nas xD a numcep=26 domyślnie, a fs=16000 domyślnie\n",
    "\n",
    "Hmm, inny papier: In our HMM-based method, a phoneme recognizer is firsttrained with 3-state, GMM-based, mono-phone HMMs. Thisrecognizer is the same as in speech recognition. LetFbe thetotal number of mono-phones (i.e. 39),S=3Fbe the numberof all states,Gthe number of Gaussian components per state,andC=SGthe number of all individual Gaussians, and let(s, g)denote Gaussian componentgin states.\n",
    "3-state - what are you?\n",
    "\n",
    "Given a transcription, a graph of HMM is composed.\n",
    "\n",
    "The  Viterbi  and  forward-backward  (FB)  algorithms  are  twomeans to align frames to states and mixtures.\n",
    "\n",
    "Speaker adaption is the same with Eq. 4 except mixtures here are phonetic dependent.\n",
    "\n",
    "During the test phase,  the Viterbi-based log-likelihood ratio is expressed as:\n",
    "sum_t log P(x_t | model_user,qt) - log P(x_t | model_ubm,qt)\n",
    "\n",
    "HMM: To generate the alignment for the HMM-based modeling,we use MFCCs to train the HMM. 39 mono-phones plus a silencemodel are used,  each of which contains 3 states.  To model thecomplexity of silence, a GMM with 16 mixtures is used for every silence state, while other states are all modeled by 8 Gaussians,resulting 984 Gaussians in total. This HMM is further extended toa triphone system and remains 2142 senones.  The transcriptionsfor  DNN  training  is  generated  by  the  senone  alignment.   OnlyMFCCs are used for HMM training and alignment.\n",
    "\n",
    "GMM-HMM and i-vector/HMM: The GMM of every state is re-estimated using the HMM alignments and different speaker fea-tures.   The total number of mixtures in our model is 984.   Thedimension of i-vector is again set to 600.  Viterbi and FB align-ments are both investigated\n",
    "\n",
    "* 39 x 3 states"
   ]
  },
  {
   "cell_type": "markdown",
   "metadata": {},
   "source": [
    "## MAP - Książka Rabinera:\n",
    "\n",
    "MAP adaptation of speaker-independent model to a speaker of parameters is obtained by solving \n",
    "\n",
    "$$\\frac{d}{d\\lambda} P(\\lambda | O) = 0$$\n",
    "\n",
    "where\n",
    "\n",
    "$$P(\\lambda | O) = \\frac{P(O | \\lambda)P(\\lambda)}{P(O)}$$\n",
    "\n",
    "If we have a good prior estimated from a lot of data, then we can use it to get a model for a speaker for which data is scarce.\n",
    "\n",
    "Conjugate priors for a random vector is defined as the prior distribution for the parameters of the parameters of the probaiblity density function of the random vector, such that the posterior distribution $P(\\lambda | O)$ and the prior distribution $P(\\lambda)$ belong to the same distribution family for any sample observations $O$.\n",
    "For example, it is well known that the conjugate prior for the mean of a Gaussian density is also a Gaussian density.\n",
    "\n",
    "$$\\bar{u_{MAP}} = \\frac{n \\tau^2}{\\sigma^2 + n \\tau^2} \\bar{o} + \\frac{\\sigma^2}{\\sigma^2 + n \\tau^2} \\rho$$\n",
    "\n",
    "where $\\bar{o}$ - sample mean of new data, $n$ - number of training observations, $\\tau^2$ - variance of prior, $\\rho$ - mean of prior distribution\n",
    "\n",
    "How do we estimate $\\rho$ and $\\tau^2$ of prior? From a collection of speaker-dependent models (and $c_m$ is a weight of a model) or from a speaker-independent model with mixture of distributions in each state ($c_m$ is a weight of a mixture component)\n",
    "\n",
    "$\\rho = \\sum_{m=1}^M c_m \\rho_m$\n",
    "\n",
    "$\\tau^2 = \\sum_{m=1}^M c_m (\\rho_m - \\rho)$\n",
    "\n",
    "System do rozpoznawania słowa:\n",
    "\n",
    "po jednym modelu na słowo, rozpoznając matchujemy z każdym po kolei i bierzemy max prob\n",
    "model left-to-right zamiast ergodic :OOOO"
   ]
  },
  {
   "cell_type": "markdown",
   "metadata": {},
   "source": [
    "https://web.stanford.edu/class/cs224s/lectures/\n",
    "\n",
    "Hmm, Viterbi learning, hard assignment: Bahm ~ o3 \n",
    "EM learning, soft assignment: Bahm ~ 0*o1 + 0.15*o2 + 0.5*o3 + 0.05*o\n",
    "\n",
    "Typical training procedure in LVCSR\n",
    "Generate a forced alignment with existing model\n",
    "Viterbi decoding with a very constrained prior (the transcript)\n",
    "Assigns observations to HMM states\n",
    "Create new observation models from update alignments\n",
    "Iteratively repeat the above steps, occasionally introducing a more complex observation model or adding more difficult training examples\n",
    "\n",
    "Viterbi Beam search\n",
    "\n",
    "Applying FB to speech: Caveats\n",
    "Network structure of HMM is always created by hand\n",
    "no algorithm for double-induction of optimal structure and probabilities has been able to beat simple hand-built structures.\n",
    "Always Bakisnetwork = links go forward in time\n",
    "Subcase of Bakisnet: beads-on-string net\n",
    "\n",
    "Assume that the features in the feature vector are uncorrelated\n",
    "This isn’t true for FFT features, but is true for MFCC features, as we will see later\n",
    "\n",
    "\n",
    "Initialization: “Flat start”Transition probabilities:set to zero any that you want to be “structurally zero”Set the rest to identical valuesLikelihoods:initialize μand sof each state to global mean and variance of all training data\n",
    "\n",
    "Embedded TrainingGiven: phoneset, lexicon, transcribed wavefilesBuild a whole sentence HMM for each sentenceInitialize A probsto 0.5, or to zeroInitialize B probsto global mean and varianceRun multiple iterations of Baum WelchDuring each iteration, we compute forward and backward probabilitiesUse them to re-estimate A and BRun Baum-Welch until convergence\n",
    "\n",
    "Viterbi training rather than Baum-Welch training. Computing the “Viterbi path” over the training data is called “forced alignment”\n",
    "Because we know which word string to assign to each observation sequence.\n",
    "We just don’t know the state sequence.\n",
    "So we use aijto constrain the path to go through the correct words\n",
    "\n",
    "Modeling phonetic context\n",
    "The strongest factor affecting phonetic variability is the neighboring phone\n",
    "Idea: have phone models which are specific to context\n",
    "Instead of Context-Independent (CI) phonesWe’ll have Context-Dependent (CD) phones\n",
    "\n",
    "\n",
    "Speech signal is not constantslope of formants, change from stop burst to releaseSo in addition to the cepstralfeaturesNeed to model changes in the cepstralfeatures over time.“delta features”“double delta” (acceleration) features\n",
    "\n",
    "Typical MFCC featuresWindow size: 25msWindow shift: 10msPre-emphasis coefficient: 0.97MFCC:12 MFCC (mel frequency cepstral coefficients)1 energy feature12 delta MFCC features 12 double-delta MFCC features1 delta energy feature1 double-delta energy featureTotal 39-dimensional features\n",
    "\n",
    "\n",
    "Acoustic Model AdaptationShift the means and variances of Gaussians to better match the input feature distributionMaximum Likelihood Linear Regression (MLLR)Maximum A Posteriori (MAP) AdaptationFor both speaker adaptation and environment adaptation\n",
    "\n",
    "MAP Adaptation: u_new = N / (N + a) u_estimated + a / (N + a) u_old, where a is some weight of old\n",
    "\n",
    "DUŻO BYŁO W lec5\n",
    "\n",
    "SIL is a phoneme to a recognizerAlways inserted at start and end of utteranceCorrupting silence with bad forced alignments can break recognizer training (silence eats everything)"
   ]
  },
  {
   "cell_type": "markdown",
   "metadata": {},
   "source": [
    "## Hmm, no dobra, plan działania:\n",
    "\n",
    "Preprocessing:\n",
    "wytnij ciszę z dźwięków, voice activity detection \n",
    "Wylicz MFCC, 20 stanów + d + dd \n",
    "\n",
    "Training:\n",
    "Dla każdego sentence_id (jest ich 10):\n",
    "    Utwórz HMMGMM z całego zbioru treningowego sequence_id:\n",
    "        HMM with 3 states and 8 Gaussian components for each of 39 mono-phones were used for the alignment (resulting in to-tal number of 936 Gaussian components) ?? \n",
    "        albo unique(znaki) * 3 stany\n",
    "        albo znaki * 3 stany trójkątna! (Bakis)\n",
    "        \n",
    "Enrollment:\n",
    "Dla każdego gspeaker_id:\n",
    "    Dla każdego sentence_id:\n",
    "        Weź dane (gspeaker_id, sequence_id)\n",
    "        Naucz HMM taki jak wyżej tylko na nich\n",
    "        Dokonaj MAP adaptacji\n",
    "        \n",
    "Trial:\n",
    "likelihood HMM_{podany speaker, podane zdanie} - likelihood HMM_{UBM, podane zdanie} ? "
   ]
  },
  {
   "cell_type": "code",
   "execution_count": 3,
   "metadata": {},
   "outputs": [],
   "source": [
    "%load_ext autoreload"
   ]
  },
  {
   "cell_type": "code",
   "execution_count": 123,
   "metadata": {},
   "outputs": [],
   "source": [
    "%autoreload 2\n",
    "\n",
    "import concurrent.futures as cf\n",
    "import functools as ft\n",
    "import itertools as it\n",
    "import json\n",
    "import math\n",
    "import operator as op\n",
    "import os\n",
    "import re\n",
    "\n",
    "from IPython.display import display\n",
    "from ipywidgets import interact, interact_manual, widgets\n",
    "import matplotlib.pyplot as plt\n",
    "import numpy as np\n",
    "import pandas as pd\n",
    "import pomegranate as pg\n",
    "from scipy import interpolate, linalg, misc, optimize, spatial, stats\n",
    "from sklearn import metrics, mixture, cluster, utils\n",
    "\n",
    "from paprotka.dataset import reddots\n",
    "from paprotka.feature import cepstral"
   ]
  },
  {
   "cell_type": "code",
   "execution_count": 124,
   "metadata": {},
   "outputs": [],
   "source": [
    "%autoreload 0"
   ]
  },
  {
   "cell_type": "code",
   "execution_count": 6,
   "metadata": {},
   "outputs": [],
   "source": [
    "import warnings\n",
    "warnings.filterwarnings('once')"
   ]
  },
  {
   "cell_type": "markdown",
   "metadata": {},
   "source": [
    "# Load"
   ]
  },
  {
   "cell_type": "code",
   "execution_count": 7,
   "metadata": {},
   "outputs": [],
   "source": [
    "root = reddots.get_root()\n",
    "load_pcm = ft.partial(reddots.load_pcm, root)\n",
    "load_mfcc = ft.partial(reddots.load_npy, root, 'wac2_mfcc13_ddd')"
   ]
  },
  {
   "cell_type": "code",
   "execution_count": 76,
   "metadata": {},
   "outputs": [
    {
     "name": "stdout",
     "output_type": "stream",
     "text": [
      "15305 f0002/20150224142650384_f0002_14438.pcm\n"
     ]
    }
   ],
   "source": [
    "all_paths = [os.path.join(os.path.basename(root), file) for root, _, files in os.walk(root + '/pcm') \n",
    "                                      for file in files \n",
    "                                      if file.endswith('.pcm')]\n",
    "print(len(all_paths), all_paths[0])"
   ]
  },
  {
   "cell_type": "code",
   "execution_count": 77,
   "metadata": {},
   "outputs": [],
   "source": [
    "all_mfcc = {path: load_mfcc(path) for path in all_paths}"
   ]
  },
  {
   "cell_type": "code",
   "execution_count": 79,
   "metadata": {},
   "outputs": [
    {
     "name": "stdout",
     "output_type": "stream",
     "text": [
      "      sentence_id                  content  \\\n",
      "1609           31  My voice is my password   \n",
      "\n",
      "                                                 phones  \n",
      "1609  M AY1 _ V OY1 S _ IH1 Z _ M AY1 _ P AE1 S W ER2 D  \n"
     ]
    }
   ],
   "source": [
    "script = pd.read_csv(root + '/infos/phones.csv', sep=';')\n",
    "print(script.loc[script['sentence_id'] == 31])"
   ]
  },
  {
   "cell_type": "code",
   "execution_count": 83,
   "metadata": {},
   "outputs": [],
   "source": [
    "def load_sets(eid, tid=None):\n",
    "    tid = tid if tid else eid\n",
    "    \n",
    "    enrollments = reddots.load_enrollments(root + '/ndx/f_part_{}.trn'.format(eid), \n",
    "                                           root + '/ndx/m_part_{}.trn'.format(eid))\n",
    "    trials = reddots.load_trials(root + '/ndx/f_part_{}.ndx'.format(tid), \n",
    "                                 root + '/ndx/m_part_{}.ndx'.format(tid))\n",
    "    \n",
    "    enrollments = enrollments.merge(script, how='left', on='sentence_id')\n",
    "    trials = trials.merge(script, how='left', left_on='expected_sentence_id', right_on='sentence_id')\n",
    "    del trials['sentence_id']\n",
    "    trials.rename(columns={'content': 'expected_content', 'phones': 'expected_phones'}, inplace=True)\n",
    "    trials = trials.merge(script, how='left', left_on='trial_sentence_id', right_on='sentence_id')\n",
    "    del trials['sentence_id']\n",
    "    trials.rename(columns={'content': 'trial_content', 'phones': 'trial_phones'}, inplace=True)\n",
    "    \n",
    "    return enrollments, trials"
   ]
  },
  {
   "cell_type": "code",
   "execution_count": 81,
   "metadata": {},
   "outputs": [
    {
     "name": "stdout",
     "output_type": "stream",
     "text": [
      "Enrollments\n",
      "is_male                  bool\n",
      "pcm_path               object\n",
      "sentence_id             int16\n",
      "speaker_id              int16\n",
      "timestamp      datetime64[ns]\n",
      "content                object\n",
      "phones                 object\n",
      "dtype: object\n",
      "Trials\n",
      "correct_sentence                  bool\n",
      "expected_is_male                  bool\n",
      "expected_sentence_id             int16\n",
      "expected_speaker_id              int16\n",
      "pcm_path                        object\n",
      "target_person                     bool\n",
      "trial_is_male                     bool\n",
      "trial_sentence_id                int16\n",
      "trial_speaker_id                 int16\n",
      "trial_timestamp         datetime64[ns]\n",
      "expected_content                object\n",
      "expected_phones                 object\n",
      "trial_content                   object\n",
      "trial_phones                    object\n",
      "dtype: object\n"
     ]
    }
   ],
   "source": [
    "enrollments_1, trials_1 = load_sets('01')\n",
    "print('Enrollments', enrollments_1.dtypes, sep='\\n')\n",
    "print('Trials', trials_1.dtypes, sep='\\n')"
   ]
  },
  {
   "cell_type": "code",
   "execution_count": 84,
   "metadata": {},
   "outputs": [],
   "source": [
    "enrollments_2, trials_2 = load_sets('02')\n",
    "enrollments_3, trials_3 = load_sets('03')\n",
    "enrollments_4_td, trials_4_td = load_sets('04_td', '04')"
   ]
  },
  {
   "cell_type": "code",
   "execution_count": 95,
   "metadata": {},
   "outputs": [
    {
     "name": "stdout",
     "output_type": "stream",
     "text": [
      "10857 4448\n"
     ]
    }
   ],
   "source": [
    "trialed_paths = set(path for trials in (trials_1, trials_2, trials_3, trials_4_td) for path in trials.pcm_path)\n",
    "untrialed_paths = [path for path in all_paths if path not in trialed_paths]\n",
    "print(len(trialed_paths), len(untrialed_paths))"
   ]
  },
  {
   "cell_type": "code",
   "execution_count": null,
   "metadata": {},
   "outputs": [],
   "source": [
    "# memory blew up\n",
    "# enrollments_1.mfcc = enrollments_1.apply(lambda row: load_mfcc(row.pcm_path), axis=1)\n",
    "# trials_1.mfcc = trials_1.apply(lambda row: load_mfcc(row.pcm_path), axis=1)\n",
    "# enrollments_4_td.mfcc = enrollments_4_td.apply(lambda row: load_mfcc(row.pcm_path), axis=1)"
   ]
  },
  {
   "cell_type": "code",
   "execution_count": 96,
   "metadata": {},
   "outputs": [],
   "source": [
    "# got_this_back = pg.GeneralMixtureModel(bg_model.distributions, np.exp(bg_model.weights) * bg_model.weights.sum())\n",
    "# got_this_back = pg.MultivariateGaussianDistribution(means=bg_model.distributions[0].mu, covariance=bg_model.distributions[0].cov)\n",
    "\n",
    "def with_opened_file(mode='r'):\n",
    "    def decorator(fun):\n",
    "        @ft.wraps(fun)\n",
    "        def wrapped(path, *args, **kwargs):\n",
    "            with open(path, mode=mode) as opened:\n",
    "                return fun(opened, *args, **kwargs)\n",
    "        return wrapped\n",
    "    return decorator\n",
    "\n",
    "def write_model(path, model):\n",
    "    with open(path, 'w') as opened:\n",
    "        opened.write(model.to_json())\n",
    "        \n",
    "def read_mvgaussian(path):\n",
    "    with open(path, 'r') as opened:\n",
    "        parsed = json.load(opened)\n",
    "        means, covariance = parsed['parameters']\n",
    "        return pg.MultivariateGaussianDistribution(means=means, covariance=covariance)\n",
    "        \n",
    "def read_gmm(path):\n",
    "    with open(path, 'r') as opened:\n",
    "        parsed = json.load(opened)\n",
    "        distributions_parsed = parsed['distributions']\n",
    "        weights_parsed = np.array(parsed['weights'])\n",
    "        \n",
    "        distributions = []\n",
    "        for i, distribution in enumerate(distributions_parsed):\n",
    "            try:\n",
    "                distribution = pg.MultivariateGaussianDistribution(*distribution['parameters'])\n",
    "                distributions.append(distribution)\n",
    "            except Exception as exception:\n",
    "                raise IOError('Cannot read mixture at {}'.format(i)) from exception\n",
    "                        \n",
    "        weights_exp = np.exp(weights_parsed) * weights_parsed.sum()\n",
    "        \n",
    "        return pg.GeneralMixtureModel(distributions=distributions, weights=weights_exp)\n",
    "    \n",
    "def write_triples(path, triples):\n",
    "    for phone, triple in triples.items():\n",
    "        for i, model in enumerate(triple):\n",
    "            c = chr(ord('a') + i)\n",
    "            write_model(path + '/{}-{}'.format(phone, c), model)\n",
    "            \n",
    "def read_triples(path, phones):\n",
    "    triples = {}\n",
    "    for phone in phones:\n",
    "        triple = []\n",
    "        for c in ('a', 'b', 'c'):\n",
    "            try:\n",
    "                model = read_gmm(path + '/{}-{}'.format(phone, c))\n",
    "                triple.append(model)\n",
    "            except Exception as exception:\n",
    "                raise IOError('Cannot read model {}-{}'.format(phone, c)) from exception\n",
    "        triples[phone] = tuple(triple)\n",
    "    return triples"
   ]
  },
  {
   "cell_type": "markdown",
   "metadata": {},
   "source": [
    "# Train"
   ]
  },
  {
   "cell_type": "code",
   "execution_count": 101,
   "metadata": {},
   "outputs": [
    {
     "name": "stdout",
     "output_type": "stream",
     "text": [
      "114 (37993, 39)\n"
     ]
    }
   ],
   "source": [
    "example = enrollments_1[enrollments_1.sentence_id == 31]\n",
    "example_features = [all_mfcc[path] for path in example['pcm_path']]\n",
    "example_lengths = [mfcc.shape[0] for mfcc in example_features] \n",
    "example_features_stack = np.vstack(example_features)\n",
    "\n",
    "print(len(example_features), example_features_stack.shape)"
   ]
  },
  {
   "cell_type": "code",
   "execution_count": 100,
   "metadata": {},
   "outputs": [
    {
     "name": "stdout",
     "output_type": "stream",
     "text": [
      "4448 (1442785, 39)\n"
     ]
    }
   ],
   "source": [
    "untrialed_features = [all_mfcc[path] for path in untrialed_paths]\n",
    "untrialed_features_stack = np.vstack(untrialed_features)\n",
    "\n",
    "print(len(untrialed_features), untrialed_features_stack.shape)"
   ]
  },
  {
   "cell_type": "markdown",
   "metadata": {},
   "source": [
    "## Make 8 and 16 mixtures all sentence models"
   ]
  },
  {
   "cell_type": "code",
   "execution_count": 104,
   "metadata": {
    "scrolled": true
   },
   "outputs": [
    {
     "name": "stdout",
     "output_type": "stream",
     "text": [
      "[1] Improvement: 1815337.7782751173\tTime (s): 1.526\n",
      "[2] Improvement: 1120632.2016400695\tTime (s): 1.422\n",
      "[3] Improvement: 479222.07682840526\tTime (s): 1.453\n",
      "[4] Improvement: 247275.77560900152\tTime (s): 1.544\n",
      "[5] Improvement: 169762.99712505937\tTime (s): 1.414\n",
      "[6] Improvement: 137201.11608241498\tTime (s): 1.474\n",
      "[7] Improvement: 114011.64813488722\tTime (s): 1.426\n",
      "[8] Improvement: 90099.76580010355\tTime (s): 1.518\n",
      "[9] Improvement: 70474.43591959774\tTime (s): 1.507\n",
      "[10] Improvement: 55233.85200339556\tTime (s): 1.657\n",
      "[11] Improvement: 43176.56939820945\tTime (s): 1.495\n",
      "[12] Improvement: 35224.70126327872\tTime (s): 1.583\n",
      "[13] Improvement: 31009.52012553811\tTime (s): 1.492\n",
      "[14] Improvement: 29216.22678720951\tTime (s): 1.529\n",
      "[15] Improvement: 29111.62843078375\tTime (s): 1.546\n",
      "[16] Improvement: 29632.50283382833\tTime (s): 1.514\n",
      "[17] Improvement: 29496.378614470363\tTime (s): 1.392\n",
      "[18] Improvement: 27828.899049550295\tTime (s): 1.528\n",
      "[19] Improvement: 24987.958367943764\tTime (s): 1.607\n",
      "[20] Improvement: 21726.407108947635\tTime (s): 1.458\n",
      "[21] Improvement: 18400.747341692448\tTime (s): 1.617\n",
      "[22] Improvement: 15573.930237546563\tTime (s): 1.303\n",
      "[23] Improvement: 13487.046381652355\tTime (s): 1.48\n",
      "[24] Improvement: 12057.101928785443\tTime (s): 1.492\n",
      "[25] Improvement: 11049.383376836777\tTime (s): 1.521\n",
      "[26] Improvement: 10219.302286237478\tTime (s): 1.509\n",
      "[27] Improvement: 9699.405247598886\tTime (s): 1.734\n",
      "[28] Improvement: 9458.416640251875\tTime (s): 1.337\n",
      "[29] Improvement: 9377.085670173168\tTime (s): 1.551\n",
      "[30] Improvement: 9458.890281423926\tTime (s): 1.444\n",
      "[31] Improvement: 9739.672122627497\tTime (s): 1.406\n",
      "[32] Improvement: 10298.700463190675\tTime (s): 1.421\n",
      "[33] Improvement: 11056.069852650166\tTime (s): 1.525\n",
      "[34] Improvement: 11935.772840321064\tTime (s): 1.588\n",
      "[35] Improvement: 12420.867214649916\tTime (s): 1.538\n",
      "[36] Improvement: 11447.733470335603\tTime (s): 1.528\n",
      "[37] Improvement: 9375.365279138088\tTime (s): 1.392\n",
      "[38] Improvement: 7295.820201724768\tTime (s): 1.518\n",
      "[39] Improvement: 5643.5218450427055\tTime (s): 1.515\n",
      "[40] Improvement: 4426.585746228695\tTime (s): 1.63\n",
      "[41] Improvement: 3547.3074416071177\tTime (s): 1.897\n",
      "[42] Improvement: 2939.801124036312\tTime (s): 1.573\n",
      "[43] Improvement: 2524.097987398505\tTime (s): 1.485\n",
      "[44] Improvement: 2238.8929824084044\tTime (s): 1.484\n",
      "[45] Improvement: 2050.761583521962\tTime (s): 1.416\n",
      "[46] Improvement: 1936.889477699995\tTime (s): 1.464\n",
      "[47] Improvement: 1880.6224047243595\tTime (s): 1.554\n",
      "[48] Improvement: 1871.0298460125923\tTime (s): 1.36\n",
      "[49] Improvement: 1900.0919598340988\tTime (s): 1.391\n",
      "[50] Improvement: 1963.9372787624598\tTime (s): 1.616\n",
      "[51] Improvement: 2064.938850104809\tTime (s): 1.592\n",
      "[52] Improvement: 2197.923703700304\tTime (s): 1.888\n",
      "[53] Improvement: 2348.324143216014\tTime (s): 1.741\n",
      "[54] Improvement: 2496.8662207722664\tTime (s): 1.332\n",
      "[55] Improvement: 2625.8206075131893\tTime (s): 1.601\n",
      "[56] Improvement: 2737.864237844944\tTime (s): 1.549\n",
      "[57] Improvement: 2834.622985318303\tTime (s): 1.548\n",
      "[58] Improvement: 2911.386794567108\tTime (s): 1.415\n",
      "[59] Improvement: 2951.501000791788\tTime (s): 1.355\n",
      "[60] Improvement: 2934.4850761294365\tTime (s): 1.532\n",
      "[61] Improvement: 2855.5532912015915\tTime (s): 1.49\n",
      "[62] Improvement: 2726.2737172693014\tTime (s): 1.302\n",
      "[63] Improvement: 2558.927954480052\tTime (s): 1.538\n",
      "[64] Improvement: 2366.602854937315\tTime (s): 1.436\n",
      "[65] Improvement: 2165.5344302505255\tTime (s): 1.431\n",
      "[66] Improvement: 1964.4289966970682\tTime (s): 1.33\n",
      "[67] Improvement: 1765.4949290454388\tTime (s): 1.326\n",
      "[68] Improvement: 1573.918595328927\tTime (s): 1.71\n",
      "[69] Improvement: 1393.9134291410446\tTime (s): 1.509\n",
      "[70] Improvement: 1226.0832089185715\tTime (s): 1.55\n",
      "[71] Improvement: 1071.2485559880733\tTime (s): 1.46\n",
      "[72] Improvement: 931.398326665163\tTime (s): 1.562\n",
      "[73] Improvement: 807.9564829170704\tTime (s): 1.73\n",
      "[74] Improvement: 700.6586267352104\tTime (s): 1.727\n",
      "[75] Improvement: 608.1000878661871\tTime (s): 1.657\n",
      "[76] Improvement: 528.5069338083267\tTime (s): 1.478\n",
      "[77] Improvement: 460.14187230169773\tTime (s): 1.497\n",
      "[78] Improvement: 401.446338146925\tTime (s): 1.429\n",
      "[79] Improvement: 351.06165251135826\tTime (s): 1.418\n",
      "[80] Improvement: 307.81298308074474\tTime (s): 1.479\n",
      "[81] Improvement: 270.6898443698883\tTime (s): 1.664\n",
      "[82] Improvement: 238.82762102782726\tTime (s): 1.435\n",
      "[83] Improvement: 211.488030269742\tTime (s): 1.404\n",
      "[84] Improvement: 188.03953160345554\tTime (s): 1.477\n",
      "[85] Improvement: 167.9401322454214\tTime (s): 1.395\n",
      "[86] Improvement: 150.72360844910145\tTime (s): 1.423\n",
      "[87] Improvement: 135.98858788609505\tTime (s): 1.548\n",
      "[88] Improvement: 123.38957162201405\tTime (s): 1.358\n",
      "[89] Improvement: 112.62920504808426\tTime (s): 1.476\n",
      "[90] Improvement: 103.45156948268414\tTime (s): 1.476\n",
      "[91] Improvement: 95.63639424741268\tTime (s): 1.401\n",
      "[92] Improvement: 88.99416543543339\tTime (s): 1.603\n",
      "[93] Improvement: 83.3620170801878\tTime (s): 1.478\n",
      "[94] Improvement: 78.60026264190674\tTime (s): 1.496\n",
      "[95] Improvement: 74.58940963447094\tTime (s): 1.491\n",
      "[96] Improvement: 71.22752764821053\tTime (s): 1.499\n",
      "[97] Improvement: 68.42788670957088\tTime (s): 1.482\n",
      "[98] Improvement: 66.11685566604137\tTime (s): 1.527\n",
      "[99] Improvement: 64.23206235468388\tTime (s): 1.452\n",
      "[100] Improvement: 62.72077389061451\tTime (s): 1.507\n",
      "[101] Improvement: 61.53854554891586\tTime (s): 1.28\n",
      "[102] Improvement: 60.64808176457882\tTime (s): 1.622\n",
      "[103] Improvement: 60.01830695569515\tTime (s): 1.489\n",
      "[104] Improvement: 59.623585388064384\tTime (s): 1.715\n",
      "[105] Improvement: 59.44307754933834\tTime (s): 1.403\n",
      "[106] Improvement: 59.460203394293785\tTime (s): 1.451\n",
      "[107] Improvement: 59.6621498465538\tTime (s): 1.576\n",
      "[108] Improvement: 60.03946761786938\tTime (s): 1.467\n",
      "[109] Improvement: 60.58566728234291\tTime (s): 1.482\n",
      "[110] Improvement: 61.29685336351395\tTime (s): 1.422\n",
      "[111] Improvement: 62.171342596411705\tTime (s): 1.3\n",
      "[112] Improvement: 63.209270030260086\tTime (s): 1.461\n",
      "[113] Improvement: 64.41213227808475\tTime (s): 1.488\n",
      "[114] Improvement: 65.78227025270462\tTime (s): 1.5\n",
      "[115] Improvement: 67.32227793335915\tTime (s): 1.465\n",
      "[116] Improvement: 69.03433576226234\tTime (s): 1.502\n",
      "[117] Improvement: 70.91952615976334\tTime (s): 1.479\n",
      "[118] Improvement: 72.9772213101387\tTime (s): 1.466\n",
      "[119] Improvement: 75.20465424656868\tTime (s): 1.63\n",
      "[120] Improvement: 77.59679585695267\tTime (s): 1.543\n",
      "[121] Improvement: 80.14665178954601\tTime (s): 1.477\n",
      "[122] Improvement: 82.84594215452671\tTime (s): 1.489\n",
      "[123] Improvement: 85.68607711791992\tTime (s): 1.559\n",
      "[124] Improvement: 88.65931935608387\tTime (s): 1.334\n",
      "[125] Improvement: 91.76005125045776\tTime (s): 1.413\n",
      "[126] Improvement: 94.98614878952503\tTime (s): 1.582\n",
      "[127] Improvement: 98.34046803414822\tTime (s): 1.479\n",
      "[128] Improvement: 101.8322901725769\tTime (s): 1.486\n",
      "[129] Improvement: 105.478451192379\tTime (s): 1.363\n",
      "[130] Improvement: 109.30381067097187\tTime (s): 1.453\n",
      "[131] Improvement: 113.34092476963997\tTime (s): 1.415\n",
      "[132] Improvement: 117.62910202145576\tTime (s): 1.501\n",
      "[133] Improvement: 122.2132326811552\tTime (s): 1.553\n",
      "[134] Improvement: 127.14278329908848\tTime (s): 1.53\n",
      "[135] Improvement: 132.47086784243584\tTime (s): 1.432\n",
      "[136] Improvement: 138.25284537672997\tTime (s): 1.433\n",
      "[137] Improvement: 144.54331043362617\tTime (s): 1.401\n",
      "[138] Improvement: 151.39032323658466\tTime (s): 1.393\n",
      "[139] Improvement: 158.82633247971535\tTime (s): 1.566\n",
      "[140] Improvement: 166.85648484528065\tTime (s): 1.319\n",
      "[141] Improvement: 175.44582003355026\tTime (s): 1.54\n",
      "[142] Improvement: 184.5067726224661\tTime (s): 1.61\n",
      "[143] Improvement: 193.88922958076\tTime (s): 1.401\n",
      "[144] Improvement: 203.3783672451973\tTime (s): 1.363\n",
      "[145] Improvement: 212.70817440748215\tTime (s): 1.466\n",
      "[146] Improvement: 221.59710578620434\tTime (s): 1.493\n",
      "[147] Improvement: 229.80250042676926\tTime (s): 1.504\n",
      "[148] Improvement: 237.16983242332935\tTime (s): 1.616\n",
      "[149] Improvement: 243.6410758793354\tTime (s): 1.423\n",
      "[150] Improvement: 249.21396619081497\tTime (s): 1.507\n",
      "[151] Improvement: 253.88907918334007\tTime (s): 1.402\n",
      "[152] Improvement: 257.64705953001976\tTime (s): 1.394\n",
      "[153] Improvement: 260.4621951878071\tTime (s): 1.412\n",
      "[154] Improvement: 262.3311171978712\tTime (s): 1.29\n",
      "[155] Improvement: 263.29831190407276\tTime (s): 1.402\n",
      "[156] Improvement: 263.4693368524313\tTime (s): 1.608\n"
     ]
    },
    {
     "name": "stdout",
     "output_type": "stream",
     "text": [
      "[157] Improvement: 263.00465716421604\tTime (s): 1.479\n",
      "[158] Improvement: 262.09291285276413\tTime (s): 1.453\n",
      "[159] Improvement: 260.9145005643368\tTime (s): 1.48\n",
      "[160] Improvement: 259.6116936802864\tTime (s): 1.585\n",
      "[161] Improvement: 258.27410274744034\tTime (s): 1.522\n",
      "[162] Improvement: 256.9385150372982\tTime (s): 1.468\n",
      "[163] Improvement: 255.5986407995224\tTime (s): 1.655\n",
      "[164] Improvement: 254.22057937085629\tTime (s): 1.445\n",
      "[165] Improvement: 252.76038193702698\tTime (s): 1.51\n",
      "[166] Improvement: 251.18103308975697\tTime (s): 1.438\n",
      "[167] Improvement: 249.46748450398445\tTime (s): 1.532\n",
      "[168] Improvement: 247.63904769718647\tTime (s): 1.434\n",
      "[169] Improvement: 245.75867991149426\tTime (s): 1.34\n",
      "[170] Improvement: 243.93846967816353\tTime (s): 1.481\n",
      "[171] Improvement: 242.34026941657066\tTime (s): 1.411\n",
      "[172] Improvement: 241.17046532034874\tTime (s): 1.436\n",
      "[173] Improvement: 240.66882038116455\tTime (s): 1.464\n",
      "[174] Improvement: 241.09274096786976\tTime (s): 1.363\n",
      "[175] Improvement: 242.69983963668346\tTime (s): 1.473\n",
      "[176] Improvement: 245.73289415240288\tTime (s): 1.566\n",
      "[177] Improvement: 250.41200496256351\tTime (s): 1.803\n",
      "[178] Improvement: 256.9393607825041\tTime (s): 1.552\n",
      "[179] Improvement: 265.5222612321377\tTime (s): 1.453\n",
      "[180] Improvement: 276.4129364490509\tTime (s): 1.538\n",
      "[181] Improvement: 289.9442839473486\tTime (s): 1.632\n",
      "[182] Improvement: 306.53419265151024\tTime (s): 1.696\n",
      "[183] Improvement: 326.6660243421793\tTime (s): 1.285\n",
      "[184] Improvement: 350.89847561717033\tTime (s): 1.326\n",
      "[185] Improvement: 379.9697956889868\tTime (s): 1.327\n",
      "[186] Improvement: 415.00900676846504\tTime (s): 1.309\n",
      "[187] Improvement: 457.6788850277662\tTime (s): 1.282\n",
      "[188] Improvement: 509.86665788292885\tTime (s): 1.279\n",
      "[189] Improvement: 572.8187221288681\tTime (s): 1.32\n",
      "[190] Improvement: 646.2518870979548\tTime (s): 1.28\n",
      "[191] Improvement: 726.6555825769901\tTime (s): 1.346\n",
      "[192] Improvement: 803.5256466567516\tTime (s): 1.34\n",
      "[193] Improvement: 858.7776448428631\tTime (s): 1.276\n",
      "[194] Improvement: 876.1239010840654\tTime (s): 1.3\n",
      "[195] Improvement: 853.3730037212372\tTime (s): 1.402\n",
      "[196] Improvement: 801.666770324111\tTime (s): 1.354\n",
      "[197] Improvement: 737.8149660378695\tTime (s): 1.455\n",
      "[198] Improvement: 675.6087645739317\tTime (s): 1.294\n",
      "[199] Improvement: 620.2300347238779\tTime (s): 1.34\n",
      "[200] Improvement: 571.3284730017185\tTime (s): 1.27\n",
      "[201] Improvement: 527.3869634866714\tTime (s): 1.368\n",
      "[202] Improvement: 487.238699182868\tTime (s): 1.344\n",
      "[203] Improvement: 450.1631918400526\tTime (s): 1.352\n",
      "[204] Improvement: 415.7171569317579\tTime (s): 1.28\n",
      "[205] Improvement: 383.59879906475544\tTime (s): 1.288\n",
      "[206] Improvement: 353.577064961195\tTime (s): 1.293\n",
      "[207] Improvement: 325.4653104543686\tTime (s): 1.309\n",
      "[208] Improvement: 299.1158023029566\tTime (s): 1.321\n",
      "[209] Improvement: 274.4198750257492\tTime (s): 1.942\n",
      "[210] Improvement: 251.30676366388798\tTime (s): 2.696\n",
      "[211] Improvement: 229.73923414945602\tTime (s): 2.479\n",
      "[212] Improvement: 209.70655231177807\tTime (s): 1.89\n",
      "[213] Improvement: 191.21669843792915\tTime (s): 2.5\n",
      "[214] Improvement: 174.29073023796082\tTime (s): 2.152\n",
      "[215] Improvement: 158.9629298299551\tTime (s): 1.743\n",
      "[216] Improvement: 145.29147271811962\tTime (s): 1.589\n",
      "[217] Improvement: 133.388084217906\tTime (s): 1.477\n",
      "[218] Improvement: 123.48631720244884\tTime (s): 1.567\n",
      "[219] Improvement: 116.09937396645546\tTime (s): 1.463\n",
      "[220] Improvement: 112.40199655294418\tTime (s): 1.465\n",
      "[221] Improvement: 115.15703578293324\tTime (s): 1.488\n",
      "[222] Improvement: 130.49131435155869\tTime (s): 1.468\n",
      "[223] Improvement: 166.81914713978767\tTime (s): 1.489\n",
      "[224] Improvement: 210.2164185643196\tTime (s): 1.606\n",
      "[225] Improvement: 201.12383657693863\tTime (s): 1.471\n",
      "[226] Improvement: 148.28491370379925\tTime (s): 1.521\n",
      "[227] Improvement: 112.7761622518301\tTime (s): 1.469\n",
      "[228] Improvement: 95.33018037676811\tTime (s): 1.512\n",
      "[229] Improvement: 84.48969243466854\tTime (s): 1.507\n",
      "[230] Improvement: 76.08162060379982\tTime (s): 1.391\n",
      "[231] Improvement: 68.93803592026234\tTime (s): 1.522\n",
      "[232] Improvement: 62.685387134552\tTime (s): 1.454\n",
      "[233] Improvement: 57.158344611525536\tTime (s): 1.42\n",
      "[234] Improvement: 52.25433982908726\tTime (s): 1.486\n",
      "[235] Improvement: 47.89526703953743\tTime (s): 1.471\n",
      "[236] Improvement: 44.016068145632744\tTime (s): 1.638\n",
      "[237] Improvement: 40.560635417699814\tTime (s): 1.473\n",
      "[238] Improvement: 37.47987721860409\tTime (s): 1.424\n",
      "[239] Improvement: 34.730610489845276\tTime (s): 1.697\n",
      "[240] Improvement: 32.2747318148613\tTime (s): 1.494\n",
      "[241] Improvement: 30.07858207821846\tTime (s): 1.537\n",
      "[242] Improvement: 28.11242586374283\tTime (s): 1.433\n",
      "[243] Improvement: 26.349979743361473\tTime (s): 1.476\n",
      "[244] Improvement: 24.768038272857666\tTime (s): 1.47\n",
      "[245] Improvement: 23.346109181642532\tTime (s): 1.622\n",
      "[246] Improvement: 22.066127821803093\tTime (s): 1.553\n",
      "[247] Improvement: 20.912168875336647\tTime (s): 1.345\n",
      "[248] Improvement: 19.870219871401787\tTime (s): 1.454\n",
      "[249] Improvement: 18.927955612540245\tTime (s): 1.488\n",
      "[250] Improvement: 18.074550315737724\tTime (s): 1.373\n",
      "[251] Improvement: 17.300498858094215\tTime (s): 1.527\n",
      "[252] Improvement: 16.597462728619576\tTime (s): 1.553\n",
      "[253] Improvement: 15.958128109574318\tTime (s): 1.467\n",
      "[254] Improvement: 15.376081481575966\tTime (s): 1.399\n",
      "[255] Improvement: 14.845692470669746\tTime (s): 1.513\n",
      "[256] Improvement: 14.362020090222359\tTime (s): 1.512\n",
      "[257] Improvement: 13.920715883374214\tTime (s): 1.563\n",
      "[258] Improvement: 13.51795768737793\tTime (s): 1.582\n",
      "[259] Improvement: 13.150368615984917\tTime (s): 1.408\n",
      "[260] Improvement: 12.814969137310982\tTime (s): 1.397\n",
      "[261] Improvement: 12.50911770761013\tTime (s): 1.545\n",
      "[262] Improvement: 12.230473741889\tTime (s): 1.42\n",
      "[263] Improvement: 11.97695392370224\tTime (s): 1.559\n",
      "[264] Improvement: 11.746702656149864\tTime (s): 1.49\n",
      "[265] Improvement: 11.538067415356636\tTime (s): 1.537\n",
      "[266] Improvement: 11.349570959806442\tTime (s): 1.442\n",
      "[267] Improvement: 11.17989133298397\tTime (s): 1.584\n",
      "[268] Improvement: 11.027847990393639\tTime (s): 1.504\n",
      "[269] Improvement: 10.892382845282555\tTime (s): 1.51\n",
      "[270] Improvement: 10.772547453641891\tTime (s): 1.444\n",
      "[271] Improvement: 10.667497277259827\tTime (s): 1.552\n",
      "[272] Improvement: 10.57646794617176\tTime (s): 1.619\n",
      "[273] Improvement: 10.498785883188248\tTime (s): 1.562\n",
      "[274] Improvement: 10.433838993310928\tTime (s): 1.598\n",
      "[275] Improvement: 10.381089821457863\tTime (s): 1.51\n",
      "[276] Improvement: 10.340056210756302\tTime (s): 1.61\n",
      "[277] Improvement: 10.310316547751427\tTime (s): 1.334\n",
      "[278] Improvement: 10.2914999127388\tTime (s): 1.356\n",
      "[279] Improvement: 10.283292159438133\tTime (s): 1.493\n",
      "[280] Improvement: 10.285424053668976\tTime (s): 1.513\n",
      "[281] Improvement: 10.297679990530014\tTime (s): 1.484\n",
      "[282] Improvement: 10.319895312190056\tTime (s): 1.68\n",
      "[283] Improvement: 10.351951003074646\tTime (s): 1.52\n",
      "[284] Improvement: 10.393782168626785\tTime (s): 1.458\n",
      "[285] Improvement: 10.44537429511547\tTime (s): 1.487\n",
      "[286] Improvement: 10.50676254928112\tTime (s): 1.585\n",
      "[287] Improvement: 10.578037068247795\tTime (s): 1.483\n",
      "[288] Improvement: 10.659337908029556\tTime (s): 1.456\n",
      "[289] Improvement: 10.750862076878548\tTime (s): 1.475\n",
      "[290] Improvement: 10.852861642837524\tTime (s): 1.63\n",
      "[291] Improvement: 10.96564395725727\tTime (s): 1.635\n",
      "[292] Improvement: 11.089577496051788\tTime (s): 1.517\n",
      "[293] Improvement: 11.225093707442284\tTime (s): 1.533\n",
      "[294] Improvement: 11.37268728017807\tTime (s): 1.543\n",
      "[295] Improvement: 11.532925114035606\tTime (s): 1.524\n",
      "[296] Improvement: 11.706445723772049\tTime (s): 1.434\n",
      "[297] Improvement: 11.893970057368279\tTime (s): 1.448\n",
      "[298] Improvement: 12.09630075097084\tTime (s): 1.585\n",
      "[299] Improvement: 12.314334005117416\tTime (s): 1.505\n",
      "[300] Improvement: 12.549060568213463\tTime (s): 1.509\n",
      "[301] Improvement: 12.801578924059868\tTime (s): 1.463\n",
      "[302] Improvement: 13.073098689317703\tTime (s): 1.394\n",
      "[303] Improvement: 13.364948183298111\tTime (s): 1.553\n",
      "[304] Improvement: 13.678586661815643\tTime (s): 1.578\n",
      "[305] Improvement: 14.015611663460732\tTime (s): 1.535\n",
      "[306] Improvement: 14.377769351005554\tTime (s): 1.512\n",
      "[307] Improvement: 14.76696851849556\tTime (s): 1.519\n",
      "[308] Improvement: 15.18529599905014\tTime (s): 1.483\n",
      "[309] Improvement: 15.635026142001152\tTime (s): 1.576\n",
      "[310] Improvement: 16.118651315569878\tTime (s): 1.514\n"
     ]
    },
    {
     "name": "stdout",
     "output_type": "stream",
     "text": [
      "[311] Improvement: 16.63889430463314\tTime (s): 1.411\n",
      "[312] Improvement: 17.19874608516693\tTime (s): 1.536\n",
      "[313] Improvement: 17.80149246752262\tTime (s): 1.525\n",
      "[314] Improvement: 18.450757265090942\tTime (s): 1.461\n",
      "[315] Improvement: 19.150552108883858\tTime (s): 1.538\n",
      "[316] Improvement: 19.905330941081047\tTime (s): 1.6\n",
      "[317] Improvement: 20.720057532191277\tTime (s): 1.444\n",
      "[318] Improvement: 21.60028800368309\tTime (s): 1.781\n",
      "[319] Improvement: 22.552264288067818\tTime (s): 1.579\n",
      "[320] Improvement: 23.583033934235573\tTime (s): 1.366\n",
      "[321] Improvement: 24.70060685276985\tTime (s): 1.338\n",
      "[322] Improvement: 25.914144530892372\tTime (s): 1.461\n",
      "[323] Improvement: 27.23420675098896\tTime (s): 1.348\n",
      "[324] Improvement: 28.673054918646812\tTime (s): 1.402\n",
      "[325] Improvement: 30.244973927736282\tTime (s): 1.361\n",
      "[326] Improvement: 31.96663948893547\tTime (s): 1.301\n",
      "[327] Improvement: 33.8574163466692\tTime (s): 1.286\n",
      "[328] Improvement: 35.93960756063461\tTime (s): 1.366\n",
      "[329] Improvement: 38.23855631053448\tTime (s): 1.301\n",
      "[330] Improvement: 40.78264555335045\tTime (s): 1.288\n",
      "[331] Improvement: 43.60318210721016\tTime (s): 1.278\n",
      "[332] Improvement: 46.734290063381195\tTime (s): 1.332\n",
      "[333] Improvement: 50.21284498274326\tTime (s): 1.289\n",
      "[334] Improvement: 54.07850928604603\tTime (s): 1.306\n",
      "[335] Improvement: 58.37379793822765\tTime (s): 1.483\n",
      "[336] Improvement: 63.14415228366852\tTime (s): 1.297\n",
      "[337] Improvement: 68.4380856603384\tTime (s): 1.318\n",
      "[338] Improvement: 74.30779807269573\tTime (s): 1.292\n",
      "[339] Improvement: 80.81067071855068\tTime (s): 1.296\n",
      "[340] Improvement: 88.01179637014866\tTime (s): 1.371\n",
      "[341] Improvement: 95.98670408129692\tTime (s): 1.287\n",
      "[342] Improvement: 104.82236276566982\tTime (s): 1.288\n",
      "[343] Improvement: 114.61396723985672\tTime (s): 1.39\n",
      "[344] Improvement: 125.45653906464577\tTime (s): 1.297\n",
      "[345] Improvement: 137.43450896441936\tTime (s): 1.295\n",
      "[346] Improvement: 150.61693459749222\tTime (s): 1.363\n",
      "[347] Improvement: 165.06367069482803\tTime (s): 1.586\n",
      "[348] Improvement: 180.83723728358746\tTime (s): 1.273\n",
      "[349] Improvement: 198.0077709555626\tTime (s): 1.245\n",
      "[350] Improvement: 216.6441919952631\tTime (s): 1.372\n",
      "[351] Improvement: 236.79521216452122\tTime (s): 1.289\n",
      "[352] Improvement: 258.45752780139446\tTime (s): 1.576\n",
      "[353] Improvement: 281.49921426177025\tTime (s): 1.519\n",
      "[354] Improvement: 305.5265649706125\tTime (s): 1.309\n",
      "[355] Improvement: 329.82529713213444\tTime (s): 1.296\n",
      "[356] Improvement: 353.56570939719677\tTime (s): 1.32\n",
      "[357] Improvement: 376.1858544051647\tTime (s): 1.297\n",
      "[358] Improvement: 397.56516583263874\tTime (s): 1.375\n",
      "[359] Improvement: 417.71694158017635\tTime (s): 1.3\n",
      "[360] Improvement: 436.17522633075714\tTime (s): 1.408\n",
      "[361] Improvement: 451.5205395668745\tTime (s): 1.325\n",
      "[362] Improvement: 461.43216522037983\tTime (s): 1.29\n",
      "[363] Improvement: 463.92594516277313\tTime (s): 1.318\n",
      "[364] Improvement: 459.04954716563225\tTime (s): 1.394\n",
      "[365] Improvement: 448.2751007080078\tTime (s): 1.258\n",
      "[366] Improvement: 433.1563898175955\tTime (s): 1.364\n",
      "[367] Improvement: 415.3226278722286\tTime (s): 1.298\n",
      "[368] Improvement: 395.5735063254833\tTime (s): 1.38\n",
      "[369] Improvement: 372.53150121867657\tTime (s): 1.29\n",
      "[370] Improvement: 344.17518854141235\tTime (s): 1.374\n",
      "[371] Improvement: 311.03117671608925\tTime (s): 1.352\n",
      "[372] Improvement: 276.0200725197792\tTime (s): 1.318\n",
      "[373] Improvement: 241.98302492499352\tTime (s): 1.325\n",
      "[374] Improvement: 210.6125422269106\tTime (s): 1.31\n",
      "[375] Improvement: 182.59783777594566\tTime (s): 1.335\n",
      "[376] Improvement: 158.0157256871462\tTime (s): 1.29\n",
      "[377] Improvement: 136.65204639732838\tTime (s): 1.276\n",
      "[378] Improvement: 118.186927780509\tTime (s): 1.27\n",
      "[379] Improvement: 102.28034645318985\tTime (s): 1.295\n",
      "[380] Improvement: 88.60614109039307\tTime (s): 1.306\n",
      "[381] Improvement: 76.86416333913803\tTime (s): 1.319\n",
      "[382] Improvement: 66.78456288576126\tTime (s): 1.314\n",
      "[383] Improvement: 58.129040747880936\tTime (s): 1.276\n",
      "[384] Improvement: 50.69021086394787\tTime (s): 1.273\n",
      "[385] Improvement: 44.2897267639637\tTime (s): 1.294\n",
      "[386] Improvement: 38.7756325006485\tTime (s): 1.386\n",
      "[387] Improvement: 34.01930196583271\tTime (s): 1.3\n",
      "[388] Improvement: 29.912184298038483\tTime (s): 1.292\n",
      "[389] Improvement: 26.36260648071766\tTime (s): 1.293\n",
      "[390] Improvement: 23.292856976389885\tTime (s): 1.3\n",
      "[391] Improvement: 20.63671562075615\tTime (s): 1.376\n",
      "[392] Improvement: 18.337425619363785\tTime (s): 1.3\n",
      "[393] Improvement: 16.34612710773945\tTime (s): 1.323\n",
      "[394] Improvement: 14.620614394545555\tTime (s): 1.316\n",
      "[395] Improvement: 13.124374344944954\tTime (s): 1.917\n",
      "[396] Improvement: 11.825824216008186\tTime (s): 2.061\n",
      "[397] Improvement: 10.697676599025726\tTime (s): 1.986\n",
      "[398] Improvement: 9.716417014598846\tTime (s): 2.39\n",
      "[399] Improvement: 8.861839011311531\tTime (s): 2.197\n",
      "[400] Improvement: 8.116640120744705\tTime (s): 1.737\n",
      "[401] Improvement: 7.4660540372133255\tTime (s): 1.593\n",
      "[402] Improvement: 6.897516459226608\tTime (s): 1.538\n",
      "[403] Improvement: 6.400370880961418\tTime (s): 1.461\n",
      "[404] Improvement: 5.96560101211071\tTime (s): 1.873\n",
      "[405] Improvement: 5.585589557886124\tTime (s): 1.468\n",
      "[406] Improvement: 5.253917366266251\tTime (s): 1.461\n",
      "[407] Improvement: 4.965179577469826\tTime (s): 1.354\n",
      "[408] Improvement: 4.714828372001648\tTime (s): 1.487\n",
      "[409] Improvement: 4.499042809009552\tTime (s): 1.51\n",
      "[410] Improvement: 4.314616277813911\tTime (s): 1.306\n",
      "[411] Improvement: 4.158853992819786\tTime (s): 1.449\n",
      "[412] Improvement: 4.0294963121414185\tTime (s): 1.404\n",
      "[413] Improvement: 3.924640253186226\tTime (s): 1.308\n",
      "[414] Improvement: 3.8426724821329117\tTime (s): 1.457\n",
      "[415] Improvement: 3.7822056859731674\tTime (s): 1.402\n",
      "[416] Improvement: 3.7420168220996857\tTime (s): 1.376\n",
      "[417] Improvement: 3.720975324511528\tTime (s): 1.34\n",
      "[418] Improvement: 3.7179787009954453\tTime (s): 1.336\n",
      "[419] Improvement: 3.731862857937813\tTime (s): 1.372\n",
      "[420] Improvement: 3.7613197416067123\tTime (s): 1.293\n",
      "[421] Improvement: 3.804804563522339\tTime (s): 1.4\n",
      "[422] Improvement: 3.8604276180267334\tTime (s): 1.321\n",
      "[423] Improvement: 3.925878956913948\tTime (s): 1.44\n",
      "[424] Improvement: 3.9983377903699875\tTime (s): 1.395\n",
      "[425] Improvement: 4.074451357126236\tTime (s): 1.41\n",
      "[426] Improvement: 4.150334477424622\tTime (s): 1.466\n",
      "[427] Improvement: 4.221656411886215\tTime (s): 1.455\n",
      "[428] Improvement: 4.283787667751312\tTime (s): 1.368\n",
      "[429] Improvement: 4.332022979855537\tTime (s): 1.42\n",
      "[430] Improvement: 4.361848562955856\tTime (s): 1.371\n",
      "[431] Improvement: 4.36923548579216\tTime (s): 1.499\n",
      "[432] Improvement: 4.350922465324402\tTime (s): 1.388\n",
      "[433] Improvement: 4.304659873247147\tTime (s): 1.361\n",
      "[434] Improvement: 4.229378655552864\tTime (s): 1.37\n",
      "[435] Improvement: 4.125280424952507\tTime (s): 1.29\n",
      "[436] Improvement: 3.9938207417726517\tTime (s): 1.399\n",
      "[437] Improvement: 3.8375932723283768\tTime (s): 1.54\n",
      "[438] Improvement: 3.660118266940117\tTime (s): 1.42\n",
      "[439] Improvement: 3.4655781239271164\tTime (s): 1.463\n",
      "[440] Improvement: 3.258506789803505\tTime (s): 1.328\n",
      "[441] Improvement: 3.043492764234543\tTime (s): 1.342\n",
      "[442] Improvement: 2.8249191492795944\tTime (s): 1.332\n",
      "[443] Improvement: 2.60676871240139\tTime (s): 1.293\n",
      "[444] Improvement: 2.3924802243709564\tTime (s): 1.364\n",
      "[445] Improvement: 2.1848894506692886\tTime (s): 1.432\n",
      "[446] Improvement: 1.9862120002508163\tTime (s): 1.42\n",
      "[447] Improvement: 1.7980782985687256\tTime (s): 1.35\n",
      "[448] Improvement: 1.6215790957212448\tTime (s): 1.446\n",
      "[449] Improvement: 1.4573477357625961\tTime (s): 1.52\n",
      "[450] Improvement: 1.3056314885616302\tTime (s): 1.501\n",
      "[451] Improvement: 1.1663647890090942\tTime (s): 1.481\n",
      "[452] Improvement: 1.039247989654541\tTime (s): 1.499\n",
      "[453] Improvement: 0.9237973541021347\tTime (s): 1.441\n",
      "[454] Improvement: 0.819410502910614\tTime (s): 1.478\n",
      "[455] Improvement: 0.7253993153572083\tTime (s): 1.475\n",
      "[456] Improvement: 0.641032412648201\tTime (s): 1.551\n",
      "[457] Improvement: 0.5655598342418671\tTime (s): 1.394\n",
      "[458] Improvement: 0.4982374608516693\tTime (s): 1.436\n",
      "[459] Improvement: 0.43833819031715393\tTime (s): 1.448\n",
      "[460] Improvement: 0.38516564667224884\tTime (s): 1.479\n",
      "[461] Improvement: 0.33806437253952026\tTime (s): 1.524\n",
      "[462] Improvement: 0.29641880095005035\tTime (s): 1.473\n",
      "[463] Improvement: 0.2596592456102371\tTime (s): 1.545\n",
      "[464] Improvement: 0.22726361453533173\tTime (s): 1.46\n"
     ]
    },
    {
     "name": "stdout",
     "output_type": "stream",
     "text": [
      "[465] Improvement: 0.19875448942184448\tTime (s): 1.439\n",
      "[466] Improvement: 0.17369548976421356\tTime (s): 1.541\n",
      "[467] Improvement: 0.15169718861579895\tTime (s): 1.491\n",
      "[468] Improvement: 0.13240525126457214\tTime (s): 1.45\n",
      "[469] Improvement: 0.11550301313400269\tTime (s): 1.545\n",
      "[470] Improvement: 0.10070747137069702\tTime (s): 1.477\n",
      "[471] Improvement: 0.08776654303073883\tTime (s): 1.448\n",
      "Total Improvement: 4937452.903189346\n",
      "Total Time (s): 694.4912\n"
     ]
    }
   ],
   "source": [
    "bg_model = pg.GeneralMixtureModel.from_samples(\n",
    "    pg.MultivariateGaussianDistribution, n_components=8, X=untrialed_features_stack,\n",
    "    max_iterations=2000, verbose=True, n_jobs=20\n",
    ")"
   ]
  },
  {
   "cell_type": "code",
   "execution_count": 105,
   "metadata": {},
   "outputs": [],
   "source": [
    "bg_model.freeze()"
   ]
  },
  {
   "cell_type": "code",
   "execution_count": 106,
   "metadata": {
    "scrolled": true
   },
   "outputs": [
    {
     "name": "stdout",
     "output_type": "stream",
     "text": [
      "[1] Improvement: 2354768.8470022827\tTime (s): 2.682\n",
      "[2] Improvement: 1036273.41186665\tTime (s): 2.822\n",
      "[3] Improvement: 544589.0215834528\tTime (s): 2.66\n",
      "[4] Improvement: 343468.6983086169\tTime (s): 2.487\n",
      "[5] Improvement: 219170.31791833043\tTime (s): 2.455\n",
      "[6] Improvement: 140608.0279097259\tTime (s): 2.822\n",
      "[7] Improvement: 99139.26116608083\tTime (s): 2.991\n",
      "[8] Improvement: 77539.47519497573\tTime (s): 3.0\n",
      "[9] Improvement: 61636.798692554235\tTime (s): 2.893\n",
      "[10] Improvement: 49964.26713338494\tTime (s): 3.261\n",
      "[11] Improvement: 42291.30878590047\tTime (s): 3.07\n",
      "[12] Improvement: 37553.73176601529\tTime (s): 2.874\n",
      "[13] Improvement: 34061.407695025206\tTime (s): 3.394\n",
      "[14] Improvement: 30430.255276739597\tTime (s): 3.141\n",
      "[15] Improvement: 27607.56293144822\tTime (s): 2.558\n",
      "[16] Improvement: 25197.725253373384\tTime (s): 2.619\n",
      "[17] Improvement: 23846.40998288989\tTime (s): 2.645\n",
      "[18] Improvement: 23527.25718560815\tTime (s): 2.526\n",
      "[19] Improvement: 23737.926444798708\tTime (s): 2.541\n",
      "[20] Improvement: 24025.05082193017\tTime (s): 2.477\n",
      "[21] Improvement: 23112.444878697395\tTime (s): 2.216\n",
      "[22] Improvement: 19889.469721838832\tTime (s): 2.474\n",
      "[23] Improvement: 16709.93684269488\tTime (s): 2.204\n",
      "[24] Improvement: 13133.476707085967\tTime (s): 2.175\n",
      "[25] Improvement: 9830.984000369906\tTime (s): 2.082\n",
      "[26] Improvement: 7410.0449882000685\tTime (s): 1.959\n",
      "[27] Improvement: 5867.482540547848\tTime (s): 2.055\n",
      "[28] Improvement: 4933.883718967438\tTime (s): 1.866\n",
      "[29] Improvement: 4395.344327405095\tTime (s): 2.058\n",
      "[30] Improvement: 4118.380709275603\tTime (s): 1.943\n",
      "[31] Improvement: 3974.204324439168\tTime (s): 1.974\n",
      "[32] Improvement: 3824.7996299415827\tTime (s): 1.979\n",
      "[33] Improvement: 3598.247484907508\tTime (s): 2.13\n",
      "[34] Improvement: 3339.796189084649\tTime (s): 2.156\n",
      "[35] Improvement: 3117.830473586917\tTime (s): 2.225\n",
      "[36] Improvement: 2957.986107110977\tTime (s): 2.256\n",
      "[37] Improvement: 2861.113989472389\tTime (s): 2.138\n",
      "[38] Improvement: 2816.1873036175966\tTime (s): 2.198\n",
      "[39] Improvement: 2792.7560987770557\tTime (s): 2.179\n",
      "[40] Improvement: 2776.5722738206387\tTime (s): 2.252\n",
      "[41] Improvement: 2767.3326636999846\tTime (s): 2.365\n",
      "[42] Improvement: 2742.4192136079073\tTime (s): 2.312\n",
      "[43] Improvement: 2693.5184368491173\tTime (s): 2.559\n",
      "[44] Improvement: 2616.986169874668\tTime (s): 2.59\n",
      "[45] Improvement: 2526.2599971443415\tTime (s): 2.545\n",
      "[46] Improvement: 2407.485289052129\tTime (s): 2.569\n",
      "[47] Improvement: 2217.249893039465\tTime (s): 2.5\n",
      "[48] Improvement: 1985.464663863182\tTime (s): 2.544\n",
      "[49] Improvement: 1755.0678679347038\tTime (s): 2.574\n",
      "[50] Improvement: 1535.6734445691109\tTime (s): 2.661\n",
      "[51] Improvement: 1326.6639689058065\tTime (s): 2.548\n",
      "[52] Improvement: 1121.0588995665312\tTime (s): 2.539\n",
      "[53] Improvement: 935.5658178031445\tTime (s): 2.536\n",
      "[54] Improvement: 783.8664289861917\tTime (s): 2.596\n",
      "[55] Improvement: 663.1403543800116\tTime (s): 2.537\n",
      "[56] Improvement: 567.3446705192327\tTime (s): 2.574\n",
      "[57] Improvement: 491.1962712407112\tTime (s): 2.504\n",
      "[58] Improvement: 430.4783173799515\tTime (s): 2.659\n",
      "[59] Improvement: 381.86912140250206\tTime (s): 2.671\n",
      "[60] Improvement: 342.78351406753063\tTime (s): 2.64\n",
      "[61] Improvement: 311.23043574392796\tTime (s): 2.692\n",
      "[62] Improvement: 285.6905006468296\tTime (s): 2.701\n",
      "[63] Improvement: 265.04437682032585\tTime (s): 2.697\n",
      "[64] Improvement: 248.5187557786703\tTime (s): 2.713\n",
      "[65] Improvement: 235.60789266228676\tTime (s): 2.806\n",
      "[66] Improvement: 225.9899670779705\tTime (s): 2.802\n",
      "[67] Improvement: 219.4649401307106\tTime (s): 2.881\n",
      "[68] Improvement: 215.91289131343365\tTime (s): 2.78\n",
      "[69] Improvement: 215.26717926561832\tTime (s): 2.755\n",
      "[70] Improvement: 217.49920244514942\tTime (s): 2.843\n",
      "[71] Improvement: 222.61333034932613\tTime (s): 2.852\n",
      "[72] Improvement: 230.64956213533878\tTime (s): 2.823\n",
      "[73] Improvement: 241.68254989385605\tTime (s): 2.904\n",
      "[74] Improvement: 255.80475571751595\tTime (s): 2.894\n",
      "[75] Improvement: 273.1078415811062\tTime (s): 2.822\n",
      "[76] Improvement: 293.71597850322723\tTime (s): 2.819\n",
      "[77] Improvement: 317.8983765244484\tTime (s): 2.733\n",
      "[78] Improvement: 346.1677993685007\tTime (s): 2.917\n",
      "[79] Improvement: 379.2458610087633\tTime (s): 2.799\n",
      "[80] Improvement: 417.9121569544077\tTime (s): 2.789\n",
      "[81] Improvement: 462.84383392333984\tTime (s): 2.818\n",
      "[82] Improvement: 514.4798663556576\tTime (s): 2.811\n",
      "[83] Improvement: 572.7157920897007\tTime (s): 2.842\n",
      "[84] Improvement: 636.5635844618082\tTime (s): 2.895\n",
      "[85] Improvement: 704.7909352630377\tTime (s): 2.885\n",
      "[86] Improvement: 776.6345837116241\tTime (s): 2.924\n",
      "[87] Improvement: 851.1197750121355\tTime (s): 2.813\n",
      "[88] Improvement: 926.3695625513792\tTime (s): 2.761\n",
      "[89] Improvement: 998.761090144515\tTime (s): 2.791\n",
      "[90] Improvement: 1062.0808905363083\tTime (s): 3.089\n",
      "[91] Improvement: 1108.255899861455\tTime (s): 2.827\n",
      "[92] Improvement: 1130.5895720422268\tTime (s): 2.808\n",
      "[93] Improvement: 1126.7893303483725\tTime (s): 2.895\n",
      "[94] Improvement: 1100.1255295425653\tTime (s): 2.857\n",
      "[95] Improvement: 1057.4149809926748\tTime (s): 2.806\n",
      "[96] Improvement: 1004.9849467128515\tTime (s): 2.81\n",
      "[97] Improvement: 947.2185965925455\tTime (s): 2.91\n",
      "[98] Improvement: 888.1913337260485\tTime (s): 2.925\n",
      "[99] Improvement: 833.0604783594608\tTime (s): 3.023\n",
      "[100] Improvement: 786.0000767707825\tTime (s): 2.985\n",
      "[101] Improvement: 749.6194479614496\tTime (s): 2.735\n",
      "[102] Improvement: 725.1553843319416\tTime (s): 2.739\n",
      "[103] Improvement: 711.4013144224882\tTime (s): 2.73\n",
      "[104] Improvement: 706.5605659037828\tTime (s): 2.627\n",
      "[105] Improvement: 709.3203475624323\tTime (s): 2.686\n",
      "[106] Improvement: 717.9887699186802\tTime (s): 2.648\n",
      "[107] Improvement: 729.1038320660591\tTime (s): 2.712\n",
      "[108] Improvement: 736.4042556583881\tTime (s): 2.691\n",
      "[109] Improvement: 731.7666085213423\tTime (s): 2.69\n",
      "[110] Improvement: 706.722436606884\tTime (s): 2.804\n",
      "[111] Improvement: 654.8878014236689\tTime (s): 2.724\n",
      "[112] Improvement: 579.6571137011051\tTime (s): 2.801\n",
      "[113] Improvement: 493.51743870973587\tTime (s): 2.664\n",
      "[114] Improvement: 407.4460061341524\tTime (s): 2.766\n",
      "[115] Improvement: 328.21644192934036\tTime (s): 2.856\n",
      "[116] Improvement: 260.16454142332077\tTime (s): 2.691\n",
      "[117] Improvement: 204.76550021767616\tTime (s): 2.601\n",
      "[118] Improvement: 161.13890309631824\tTime (s): 2.673\n",
      "[119] Improvement: 127.34492656588554\tTime (s): 2.724\n",
      "[120] Improvement: 101.28854830563068\tTime (s): 2.584\n",
      "[121] Improvement: 81.15881054103374\tTime (s): 2.722\n",
      "[122] Improvement: 65.52940312027931\tTime (s): 2.772\n",
      "[123] Improvement: 53.31664417684078\tTime (s): 2.682\n",
      "[124] Improvement: 43.70691505074501\tTime (s): 2.786\n",
      "[125] Improvement: 36.09063531458378\tTime (s): 2.797\n",
      "[126] Improvement: 30.010169818997383\tTime (s): 2.814\n",
      "[127] Improvement: 25.12060284614563\tTime (s): 2.857\n",
      "[128] Improvement: 21.160704031586647\tTime (s): 2.885\n",
      "[129] Improvement: 17.931533351540565\tTime (s): 2.786\n",
      "[130] Improvement: 15.280701860785484\tTime (s): 2.974\n",
      "[131] Improvement: 13.090744853019714\tTime (s): 2.835\n",
      "[132] Improvement: 11.27054975926876\tTime (s): 2.838\n",
      "[133] Improvement: 9.748976111412048\tTime (s): 2.797\n",
      "[134] Improvement: 8.470111697912216\tTime (s): 2.848\n",
      "[135] Improvement: 7.389729544520378\tTime (s): 2.857\n",
      "[136] Improvement: 6.472612336277962\tTime (s): 2.809\n",
      "[137] Improvement: 5.690543279051781\tTime (s): 2.828\n",
      "[138] Improvement: 5.0207743644714355\tTime (s): 2.794\n",
      "[139] Improvement: 4.444855064153671\tTime (s): 2.796\n",
      "[140] Improvement: 3.9477408081293106\tTime (s): 2.838\n",
      "[141] Improvement: 3.5170896351337433\tTime (s): 2.821\n",
      "[142] Improvement: 3.142732098698616\tTime (s): 2.804\n",
      "[143] Improvement: 2.8162422627210617\tTime (s): 3.226\n",
      "[144] Improvement: 2.530609652400017\tTime (s): 2.811\n",
      "[145] Improvement: 2.2799730449914932\tTime (s): 2.995\n",
      "[146] Improvement: 2.059416815638542\tTime (s): 2.722\n",
      "[147] Improvement: 1.8647931665182114\tTime (s): 2.761\n",
      "[148] Improvement: 1.6925999522209167\tTime (s): 2.789\n",
      "[149] Improvement: 1.5398622453212738\tTime (s): 3.056\n",
      "[150] Improvement: 1.4040466994047165\tTime (s): 2.784\n",
      "[151] Improvement: 1.2829898297786713\tTime (s): 2.796\n",
      "[152] Improvement: 1.1748390942811966\tTime (s): 2.741\n",
      "[153] Improvement: 1.0779995769262314\tTime (s): 2.742\n",
      "[154] Improvement: 0.9911006689071655\tTime (s): 2.684\n",
      "[155] Improvement: 0.9129546582698822\tTime (s): 2.796\n",
      "[156] Improvement: 0.8425357788801193\tTime (s): 2.777\n"
     ]
    },
    {
     "name": "stdout",
     "output_type": "stream",
     "text": [
      "[157] Improvement: 0.778952032327652\tTime (s): 2.788\n",
      "[158] Improvement: 0.7214272618293762\tTime (s): 2.801\n",
      "[159] Improvement: 0.6692835986614227\tTime (s): 2.903\n",
      "[160] Improvement: 0.6219305694103241\tTime (s): 2.807\n",
      "[161] Improvement: 0.5788483321666718\tTime (s): 2.813\n",
      "[162] Improvement: 0.5395819544792175\tTime (s): 2.812\n",
      "[163] Improvement: 0.5037320256233215\tTime (s): 2.829\n",
      "[164] Improvement: 0.4709431976079941\tTime (s): 2.932\n",
      "[165] Improvement: 0.44090689718723297\tTime (s): 2.822\n",
      "[166] Improvement: 0.4133438169956207\tTime (s): 3.046\n",
      "[167] Improvement: 0.38801275193691254\tTime (s): 2.848\n",
      "[168] Improvement: 0.3646940439939499\tTime (s): 2.727\n",
      "[169] Improvement: 0.343196377158165\tTime (s): 2.729\n",
      "[170] Improvement: 0.32334746420383453\tTime (s): 2.756\n",
      "[171] Improvement: 0.30499327182769775\tTime (s): 2.779\n",
      "[172] Improvement: 0.28799696266651154\tTime (s): 2.717\n",
      "[173] Improvement: 0.27223652601242065\tTime (s): 2.636\n",
      "[174] Improvement: 0.25760097801685333\tTime (s): 2.663\n",
      "[175] Improvement: 0.24399162828922272\tTime (s): 2.68\n",
      "[176] Improvement: 0.23132050037384033\tTime (s): 2.697\n",
      "[177] Improvement: 0.2195069044828415\tTime (s): 2.636\n",
      "[178] Improvement: 0.20847922563552856\tTime (s): 2.687\n",
      "[179] Improvement: 0.1981722116470337\tTime (s): 2.651\n",
      "[180] Improvement: 0.18852770328521729\tTime (s): 2.808\n",
      "[181] Improvement: 0.17949040234088898\tTime (s): 2.795\n",
      "[182] Improvement: 0.171015202999115\tTime (s): 2.827\n",
      "[183] Improvement: 0.16305643320083618\tTime (s): 2.736\n",
      "[184] Improvement: 0.15557456016540527\tTime (s): 2.702\n",
      "[185] Improvement: 0.14853344857692719\tTime (s): 2.789\n",
      "[186] Improvement: 0.14190158247947693\tTime (s): 2.736\n",
      "[187] Improvement: 0.135646790266037\tTime (s): 2.815\n",
      "[188] Improvement: 0.12974272668361664\tTime (s): 2.839\n",
      "[189] Improvement: 0.1241653710603714\tTime (s): 2.793\n",
      "[190] Improvement: 0.11889028549194336\tTime (s): 3.168\n",
      "[191] Improvement: 0.11389654874801636\tTime (s): 2.807\n",
      "[192] Improvement: 0.10916681587696075\tTime (s): 2.874\n",
      "[193] Improvement: 0.10468170046806335\tTime (s): 2.787\n",
      "[194] Improvement: 0.10042580962181091\tTime (s): 2.871\n",
      "[195] Improvement: 0.09638291597366333\tTime (s): 2.833\n",
      "Total Improvement: 5425145.161570832\n",
      "Total Time (s): 530.4384\n"
     ]
    }
   ],
   "source": [
    "silence_model = pg.GeneralMixtureModel.from_samples(\n",
    "    pg.MultivariateGaussianDistribution, n_components=16, X=untrialed_features_stack,\n",
    "    max_iterations=4000, verbose=True, n_jobs=20\n",
    ")"
   ]
  },
  {
   "cell_type": "code",
   "execution_count": 107,
   "metadata": {
    "scrolled": true
   },
   "outputs": [],
   "source": [
    "silence_model.freeze()"
   ]
  },
  {
   "cell_type": "code",
   "execution_count": 109,
   "metadata": {},
   "outputs": [],
   "source": [
    "# write_model(root + '/models/bg_model', bg_model)\n",
    "# write_model(root + '/models/silence_model', silence_model)"
   ]
  },
  {
   "cell_type": "code",
   "execution_count": 113,
   "metadata": {},
   "outputs": [],
   "source": [
    "# bg_model = read_gmm(root + '/models/bg_model')\n",
    "# silence_model = read_gmm(root + '/models/silence_model')"
   ]
  },
  {
   "cell_type": "markdown",
   "metadata": {},
   "source": [
    "## Clean sentences, build sentence hmms"
   ]
  },
  {
   "cell_type": "code",
   "execution_count": 114,
   "metadata": {},
   "outputs": [
    {
     "name": "stdout",
     "output_type": "stream",
     "text": [
      "['M', 'AY1', '_', 'V', 'OY1', 'S', '_', 'IH1', 'Z', '_', 'M', 'AY1', '_', 'P', 'AE1', 'S', 'W', 'ER2', 'D']\n",
      "['_', 'M', 'AY', '_', 'V', 'OY', 'S', '_', 'IH', 'Z', '_', 'M', 'AY', '_', 'P', 'AE', 'S', 'W', 'ER', 'D', '_']\n",
      "['AE' 'AY' 'D' 'ER' 'IH' 'M' 'OY' 'P' 'S' 'V' 'W' 'Z' '_']\n"
     ]
    }
   ],
   "source": [
    "def wrap_with_silence(phones):\n",
    "    return ['_'] + phones + ['_']\n",
    "\n",
    "def remove_stress_combinations(phones):\n",
    "    def remove_single_phone(phone):\n",
    "        if phone[-1].isdigit():\n",
    "            return phone[:-1]\n",
    "        else:\n",
    "            return phone\n",
    "        \n",
    "    return [remove_single_phone(phone) for phone in phones]\n",
    "\n",
    "example_phones = example.phones.loc[0].split(' ')\n",
    "example_phones_cleaned = wrap_with_silence(remove_stress_combinations(example_phones))\n",
    "example_phones_unique = np.unique(example_phones_cleaned)\n",
    "\n",
    "print(example_phones)\n",
    "print(example_phones_cleaned)\n",
    "print(example_phones_unique)"
   ]
  },
  {
   "cell_type": "code",
   "execution_count": 115,
   "metadata": {},
   "outputs": [],
   "source": [
    "UNIQUE_PHONES = [\n",
    "    'AA', 'AE', 'AH', 'AO', 'AW', 'AY', 'B', 'CH', 'D', 'DH', \n",
    "    'EH', 'ER', 'EY', 'F', 'G', 'HH', 'IH', 'IY', 'JH', 'K', \n",
    "    'L', 'M', 'N', 'NG', 'OW', 'OY', 'P', 'R', 'S', 'SH', 'T', \n",
    "    'TH', 'UH', 'UW', 'V', 'W', 'Y', 'Z', 'ZH'\n",
    "]"
   ]
  },
  {
   "cell_type": "code",
   "execution_count": 116,
   "metadata": {},
   "outputs": [],
   "source": [
    "def make_phone_triple(bg_model):\n",
    "    return tuple(bg_model.copy() for _ in range(3))\n",
    "\n",
    "phone_distribution_triples = {\n",
    "    phone: make_phone_triple(bg_model) for phone in UNIQUE_PHONES\n",
    "}"
   ]
  },
  {
   "cell_type": "code",
   "execution_count": 117,
   "metadata": {},
   "outputs": [],
   "source": [
    "def make_sentence_hmm(phones_cell, phone_triples, silence_model):\n",
    "    phones = phones_cell.split(' ')\n",
    "    cleaned_phones = wrap_with_silence(remove_stress_combinations(phones))\n",
    "    hmm = pg.HiddenMarkovModel('-'.join(cleaned_phones))\n",
    "    \n",
    "    states = []\n",
    "    for i, phone in enumerate(cleaned_phones):\n",
    "        if phone == '_':\n",
    "            phone_state = pg.State(silence_model.copy(), name='{}-SILENCE'.format(i))\n",
    "            states.append(phone_state)\n",
    "        else:\n",
    "            phone_triple = phone_triples[phone]\n",
    "            phone_states = (\n",
    "                pg.State(phone_triple[0], name='{:02}a-{}'.format(i, phone)),\n",
    "                pg.State(phone_triple[1], name='{:02}b-{}'.format(i, phone)),\n",
    "                pg.State(phone_triple[2], name='{:02}c-{}'.format(i, phone))\n",
    "            )\n",
    "            states.extend(phone_states)\n",
    "    hmm.add_states(states)\n",
    "    \n",
    "    hmm.add_transition(hmm.start, states[0], 1.0)\n",
    "    for state in states:\n",
    "        hmm.add_transition(state, state, 0.9)\n",
    "    for prev, then in zip(states, states[1:]):\n",
    "        hmm.add_transition(prev, then, 0.1)\n",
    "    hmm.add_transition(states[-1], hmm.end, 0.1)\n",
    "    hmm.bake()\n",
    "    \n",
    "    return hmm\n",
    "\n",
    "make_sentence_hmm(\n",
    "    script[script.sentence_id == 31].phones.iloc[0], \n",
    "    phone_distribution_triples, silence_model\n",
    ");"
   ]
  },
  {
   "cell_type": "code",
   "execution_count": 127,
   "metadata": {},
   "outputs": [
    {
     "data": {
      "text/plain": [
       "('f', '0002', '20150216173043137', '31')"
      ]
     },
     "execution_count": 127,
     "metadata": {},
     "output_type": "execute_result"
    }
   ],
   "source": [
    "recording_regex = re.compile(r'([mf])(\\d+)/(\\d+)_[mf]\\d+_(\\d+)')\n",
    "def parse_recording(value):\n",
    "    match = recording_regex.match(value)\n",
    "    if match:\n",
    "        return match.groups()\n",
    "    \n",
    "parse_recording('f0002/20150216173043137_f0002_31.pcm')"
   ]
  },
  {
   "cell_type": "code",
   "execution_count": 130,
   "metadata": {},
   "outputs": [],
   "source": [
    "unique_sentence_ids = np.sort(np.unique([int(parse_recording(path)[3]) for path in untrialed_paths]))\n",
    "unique_sentence_ids_scripted = [sentence_id for sentence_id in unique_sentence_ids \n",
    "                                if isinstance(script[script.sentence_id == sentence_id].phones.iloc[0], str)]\n",
    "print(len(unique_sentence_ids), len(unique_sentence_ids_scripted))"
   ]
  },
  {
   "cell_type": "code",
   "execution_count": null,
   "metadata": {},
   "outputs": [],
   "source": [
    "sentence_hmms = {\n",
    "    sentence_id: make_sentence_hmm(\n",
    "        script[script.sentence_id == sentence_id].phones.iloc[0], phone_distribution_triples, silence_model\n",
    "    ) for sentence_id in unique_sentence_ids_scripted\n",
    "}"
   ]
  },
  {
   "cell_type": "code",
   "execution_count": null,
   "metadata": {},
   "outputs": [],
   "source": [
    "print(len(sentence_hmms))"
   ]
  },
  {
   "cell_type": "code",
   "execution_count": null,
   "metadata": {},
   "outputs": [],
   "source": [
    "sentence_sequencess = {\n",
    "    sentence_id: [all_mfcc[path] for path in untrialed_paths if int(parse_recording(path)[3]) == sentence_id]\n",
    "    for sentence_id in unique_sentence_ids_scripted\n",
    "}"
   ]
  },
  {
   "cell_type": "markdown",
   "metadata": {},
   "source": [
    "## Train HMMs"
   ]
  },
  {
   "cell_type": "code",
   "execution_count": 118,
   "metadata": {},
   "outputs": [],
   "source": [
    "def update_triples(phone_triples):\n",
    "    empty = 0\n",
    "    lost = 0\n",
    "    for phone_triple in phone_triples.values():\n",
    "        for gmm in phone_triple:\n",
    "            if gmm.summaries.sum() == 0:\n",
    "                empty += 1\n",
    "                continue\n",
    "            try:\n",
    "                gmm.from_summaries()\n",
    "            except Exception:\n",
    "                gmm.clear_summaries()\n",
    "                lost += 1\n",
    "    return empty, lost\n",
    "\n",
    "def train_epoch(sentence_sequencess, unique_sentence_ids, sentence_hmms, phone_triples):\n",
    "    logps = []\n",
    "    \n",
    "    for sentence_id in unique_sentence_ids:\n",
    "        print(sentence_id, end=' ')\n",
    "        \n",
    "        sentence_hmm = sentence_hmms[sentence_id]\n",
    "        sentence_sequences = sentence_sequencess[sentence_id]\n",
    "        weights = np.ones(len(sequences))\n",
    "        \n",
    "        logp = sentence_hmm.summarize(sequences=sentence_sequences, weights=weights, check_input=False)\n",
    "                                      # algorithm='viterbi', \n",
    "        logps.append(logp)\n",
    "    \n",
    "    update_triples(phone_triples)\n",
    "            \n",
    "    return logps"
   ]
  },
  {
   "cell_type": "code",
   "execution_count": null,
   "metadata": {},
   "outputs": [
    {
     "name": "stdout",
     "output_type": "stream",
     "text": [
      "31 32 33 34 35 36 37 38 39 40 271 272 273 274 275 276 277 278 279 280 10087 10088 371 372 373 374 375 376 377 378 379 380 10107 10108 441 442 443 444 445 446 447 448 449 450 10121 10122 461 462 463 464 465 466 467 468 469 470 10125 10126 557 558 559 560 10143 10144 771 772 773 774 775 776 777 778 779 780 10187 10188 41 42 43 44 45 46 47 48 49 50 10041 10042 61 62 63 64 65 66 81 82 83 84 85 86 87 88 89 90 10049 10050 91 92 93 94 95 96 97 98 99 100 10051 10052 101 102 103 104 105 106 107 108 109 110 10053 10054 111 112 113 114 115 116 117 118 119 120 10055 10056 121 122 123 124 125 126 127 128 129 130 10057 10058 131 132 133 134 135 136 137 138 139 140 10059 10060 171 172 173 174 175 176 177 178 179 180 10067 10068 187 188 189 190 10069 10070 191 192 193 194 195 196 197 198 199 200 10071 10072 201 202 203 204 205 206 207 208 209 210 10073 10074 211 212 213 214 215 216 217 218 219 220 10075 10076 221 222 223 224 225 226 227 228 229 230 10077 10078 231 232 233 234 235 236 237 238 239 240 10079 10080 241 242 243 244 245 246 247 248 249 250 10081 10082 261 262 263 264 265 266 267 268 269 270 10085 10086 281 282 283 284 285 286 287 288 289 290 10089 10090 321 322 323 324 325 326 327 328 329 330 10097 10098 341 342 343 344 345 346 347 348 349 350 10101 10102 351 352 353 354 355 356 357 358 359 360 10103 10104 391 392 393 394 395 396 397 398 399 400 10111 10112 477 478 479 480 10127 10128 491 492 493 494 495 496 497 498 499 500 10131 10132 501 502 503 504 505 506 507 508 509 510 10133 10134 531 532 533 534 535 536 537 538 539 540 10139 10140 581 582 583 584 585 586 587 588 589 590 10149 10150 591 592 593 594 595 596 597 598 599 600 10151 10152 621 622 623 624 625 626 627 628 629 630 10157 10158 631 632 633 634 635 636 637 638 639 640 10159 10160 641 642 643 644 645 646 647 648 649 650 10161 10162 651 652 653 654 655 656 657 658 659 660 10163 10164 661 662 663 664 665 666 667 668 669 670 10165 10166 731 732 733 734 735 736 0-0 logps -53803877.50396986\n",
      "31 32 33 34 35 36 37 38 39 40 271 272 273 274 275 276 277 278 279 280 10087 10088 371 372 373 374 375 376 377 378 379 380 10107 10108 441 442 443 444 445 446 447 448 449 450 10121 10122 461 462 463 464 465 466 467 468 469 470 10125 10126 557 558 559 560 10143 10144 771 772 773 774 775 776 777 778 779 780 10187 10188 41 42 43 44 45 46 47 48 49 50 10041 10042 61 62 63 64 65 66 81 82 83 84 85 86 87 88 89 90 10049 10050 91 92 93 94 95 96 97 98 99 100 10051 10052 101 102 103 104 105 106 107 108 109 110 10053 10054 111 112 113 114 115 116 117 118 119 120 10055 10056 121 122 123 124 125 126 127 128 129 130 10057 10058 131 132 133 134 135 136 137 138 139 140 10059 10060 171 172 173 174 175 176 177 178 179 180 10067 10068 187 188 189 190 10069 10070 191 192 193 194 195 196 197 198 199 200 10071 10072 201 202 203 204 205 206 207 208 209 210 10073 10074 211 212 213 214 215 216 217 218 219 220 10075 10076 221 222 223 224 225 226 227 228 229 230 10077 10078 231 232 233 234 235 236 237 238 239 240 10079 10080 241 242 243 244 245 246 247 248 249 250 10081 10082 261 262 263 264 265 266 267 268 269 270 10085 10086 281 282 283 284 285 286 287 288 289 290 10089 10090 321 322 323 324 325 326 327 328 329 330 10097 10098 341 342 343 344 345 346 347 348 349 350 10101 10102 351 352 353 354 355 356 357 358 359 360 10103 10104 391 392 393 394 395 396 397 398 399 400 10111 10112 477 478 479 480 10127 10128 491 492 493 494 495 496 497 498 499 500 10131 10132 501 502 503 504 505 506 507 508 509 510 10133 10134 531 532 533 534 535 536 537 538 539 540 10139 10140 581 582 583 584 585 586 587 588 589 590 10149 10150 591 592 593 594 595 596 597 598 599 600 10151 10152 621 622 623 624 625 626 627 628 629 630 10157 10158 631 632 633 634 635 636 637 638 639 640 10159 10160 641 642 643 644 645 646 647 648 649 650 10161 10162 651 652 653 654 655 656 657 658 659 660 10163 10164 661 662 663 664 665 666 667 668 669 670 10165 10166 731 732 733 734 735 736 0-1 logps -53563502.94446866\n",
      "31 32 33 34 35 36 37 38 39 40 271 272 273 274 275 276 277 278 279 280 10087 10088 371 372 373 374 375 376 377 378 379 380 10107 10108 441 442 443 444 445 446 447 448 449 450 10121 10122 461 462 463 464 465 466 467 468 469 470 10125 10126 557 558 559 560 10143 10144 771 772 773 774 775 776 777 778 779 780 10187 10188 41 42 43 44 45 46 47 48 49 50 10041 10042 61 62 63 64 65 66 81 82 83 84 85 86 87 88 89 90 10049 10050 91 92 93 94 95 96 97 98 99 100 10051 10052 101 102 103 104 105 106 107 108 109 110 10053 10054 111 112 113 114 115 116 117 118 119 120 10055 10056 121 122 123 124 125 126 127 128 129 130 10057 10058 131 132 133 134 135 136 137 138 139 140 10059 10060 171 172 173 174 175 176 177 178 179 180 10067 10068 187 188 189 190 10069 10070 191 192 193 194 195 196 197 198 199 200 10071 10072 201 202 203 204 205 206 207 208 209 210 10073 10074 211 212 213 214 215 216 217 218 219 220 10075 10076 221 222 223 224 225 226 227 228 229 230 10077 10078 231 232 233 234 235 236 237 238 239 240 10079 10080 241 242 243 244 245 246 247 248 249 250 10081 10082 261 262 263 264 265 266 267 268 269 270 10085 10086 281 282 283 284 285 286 287 288 289 290 10089 10090 321 322 323 324 325 326 327 328 329 330 10097 10098 341 342 343 344 345 346 347 348 349 350 10101 10102 351 352 353 354 355 356 357 358 359 360 10103 10104 391 392 393 394 395 396 397 398 399 400 10111 10112 477 478 479 480 10127 10128 491 492 493 494 495 496 497 498 499 500 10131 10132 501 502 503 504 505 506 507 508 509 510 10133 10134 531 532 533 534 535 536 537 538 539 540 10139 10140 581 582 583 584 585 586 587 588 589 590 10149 10150 591 592 593 594 595 596 597 598 599 600 10151 10152 621 622 623 624 625 626 627 628 629 630 10157 10158 631 632 633 634 635 636 637 638 639 640 10159 10160 641 642 643 644 645 646 647 648 649 650 10161 10162 651 652 653 654 655 656 657 658 659 660 10163 10164 661 662 663 664 665 666 667 668 669 670 10165 10166 731 732 733 734 735 736 0-2 logps -53411920.96664091\n",
      "31 32 33 34 35 36 37 38 39 40 271 272 273 274 275 276 277 278 279 280 10087 10088 371 372 373 374 375 376 377 378 379 380 10107 10108 441 442 443 444 445 446 447 448 449 450 10121 10122 461 462 463 464 465 466 467 468 469 470 10125 10126 557 558 559 560 10143 10144 771 772 773 774 775 776 777 778 779 780 10187 10188 41 42 43 44 45 46 47 48 49 50 10041 10042 61 62 63 64 65 66 81 82 83 84 85 86 87 88 89 90 10049 10050 91 92 93 94 95 96 97 98 99 100 10051 10052 101 102 103 104 105 106 107 108 109 110 10053 10054 111 112 113 114 115 116 117 118 119 120 10055 10056 121 122 123 124 125 126 127 128 129 130 10057 10058 131 132 133 134 135 136 137 138 139 140 10059 10060 171 172 173 174 175 176 177 178 179 180 10067 10068 187 188 189 190 10069 10070 191 192 193 194 195 196 197 198 199 200 10071 10072 201 202 203 204 205 206 207 208 209 210 10073 10074 211 212 213 214 215 216 217 218 219 220 10075 10076 221 222 223 224 225 226 227 228 229 230 10077 10078 231 232 233 234 235 236 237 238 239 240 10079 10080 241 242 243 244 245 246 247 248 249 250 10081 10082 261 262 263 264 265 266 267 268 269 270 10085 10086 281 282 283 284 285 286 287 288 289 290 10089 10090 321 322 323 324 325 326 327 328 329 330 10097 10098 341 342 343 344 345 346 347 348 349 350 10101 10102 351 352 353 354 355 356 357 358 359 360 10103 10104 391 392 393 394 395 396 397 398 399 400 10111 10112 477 478 479 480 10127 10128 491 492 493 494 495 496 497 498 499 500 10131 10132 501 502 503 504 505 506 507 508 509 510 10133 10134 531 532 533 534 535 536 537 538 539 540 10139 10140 581 582 583 584 585 586 587 588 589 590 10149 10150 591 592 593 594 595 596 597 598 599 600 10151 10152 621 622 623 624 625 626 627 628 629 630 10157 10158 631 632 633 634 635 636 637 638 639 640 10159 10160 641 642 643 644 645 646 647 648 649 650 10161 10162 651 652 653 654 655 656 657 658 659 660 10163 10164 661 662 663 664 665 666 667 668 669 670 10165 10166 731 732 733 734 735 736 0-3 logps -53308850.08808534\n",
      "31 32 33 34 35 36 37 38 39 40 271 272 273 274 275 276 277 278 279 280 10087 10088 371 372 373 374 375 376 377 378 379 380 10107 10108 441 442 443 444 445 446 447 448 449 450 10121 10122 461 462 463 464 465 466 467 468 469 470 10125 10126 557 558 559 560 10143 10144 771 772 773 774 775 776 777 778 779 780 10187 10188 41 42 43 44 45 46 47 48 49 50 10041 10042 61 62 63 64 65 66 81 82 83 84 85 86 87 88 89 90 10049 10050 91 92 93 94 95 96 97 98 99 100 10051 10052 101 102 103 104 105 106 107 108 109 110 10053 10054 111 112 113 114 115 116 117 118 119 120 10055 10056 121 122 123 124 125 126 127 128 129 130 10057 10058 131 132 133 134 135 136 137 138 139 140 10059 10060 171 172 173 174 175 176 177 178 179 180 10067 10068 187 188 189 190 10069 10070 191 192 193 194 195 196 197 198 199 200 10071 10072 201 202 203 204 205 206 207 208 209 210 10073 10074 211 212 213 214 215 216 217 218 219 220 10075 10076 221 222 223 224 225 226 227 228 229 230 10077 10078 231 232 233 234 235 236 237 238 239 240 10079 10080 241 242 243 244 245 246 247 248 249 250 10081 10082 261 262 263 264 265 266 267 268 269 270 10085 10086 281 282 283 284 285 286 287 288 289 290 10089 10090 321 322 323 324 325 326 327 328 329 330 10097 10098 341 342 343 344 345 346 347 348 349 350 10101 10102 351 352 353 354 355 356 357 358 359 360 10103 10104 391 392 393 394 395 396 397 398 399 400 10111 10112 477 478 479 480 10127 10128 491 492 493 494 495 496 497 498 499 500 10131 10132 501 502 503 504 505 506 507 508 509 510 10133 10134 531 532 533 534 535 536 537 538 539 540 10139 10140 581 582 583 584 585 586 587 588 589 590 10149 10150 591 592 593 594 595 596 597 598 599 600 10151 10152 621 622 623 624 625 626 627 628 629 630 10157 10158 631 632 633 634 635 636 637 638 639 640 10159 10160 641 642 643 644 645 646 647 648 649 650 10161 10162 651 652 653 654 10165 10166 731 732 733 734 735 736 0-4 logps -53228998.55730556\n",
      "31 32 33 34 35 36 37 38 39 40 271 272 273 274 275 276 277 278 279 280 10087 10088 371 372 373 374 375 376 377 378 379 380 10107 10108 441 442 443 444 445 446 447 448 449 450 10121 10122 461 462 463 464 465 466 467 468 469 470 10125 10126 557 558 559 560 10143 10144 771 772 773 774 775 776 777 778 779 780 10187 10188 41 42 43 44 45 46 47 48 49 50 10041 10042 61 62 63 64 65 66 81 82 83 84 85 86 87 88 89 90 10049 10050 91 92 93 94 95 96 97 98 99 100 10051 10052 101 102 103 104 105 106 107 108 109 110 10053 10054 111 112 113 114 115 116 117 118 119 120 10055 10056 121 122 123 124 125 126 127 128 129 130 10057 10058 131 132 133 134 135 136 137 138 139 140 10059 10060 171 172 173 174 175 176 177 178 179 180 10067 10068 187 188 189 190 10069 10070 191 192 193 194 195 196 197 198 199 200 10071 10072 201 202 203 204 205 206 207 208 209 210 10073 10074 211 212 213 214 215 216 217 218 219 220 10075 10076 221 222 223 224 225 226 227 228 229 230 10077 10078 231 232 233 234 235 236 237 238 239 240 10079 10080 241 242 243 244 245 246 247 248 249 250 10081 10082 261 262 263 264 265 266 267 268 269 270 10085 10086 281 282 283 284 285 286 287 288 289 290 10089 10090 321 322 323 324 325 326 327 328 329 330 10097 10098 341 342 343 344 345 346 347 348 349 350 10101 10102 351 352 353 354 355 356 357 358 359 360 10103 10104 391 392 393 394 395 396 397 398 399 400 10111 10112 477 478 479 480 10127 10128 491 492 493 494 495 496 497 498 499 500 10131 10132 501 502 503 504 505 506 507 508 509 510 10133 10134 531 532 533 534 535 536 537 538 539 540 10139 10140 581 582 583 584 585 586 587 588 589 590 10149 10150 591 592 593 594 595 596 597 598 599 600 10151 10152 621 622 623 624 625 626 627 628 629 630 10157 10158 631 632 633 634 635 636 637 638 639 640 10159 10160 641 642 643 644 645 646 647 648 649 650 10161 10162 651 652 653 654 655 656 657 658 659 660 10163 10164 661 662 663 664 665 666 667 668 669 670 10165 10166 731 732 733 734 735 736 0-5 logps -53167486.67377045\n",
      "31 32 33 34 35 36 37 38 39 40 271 272 273 274 275 276 277 278 279 280 10087 10088 371 372 373 374 375 376 377 378 379 380 10107 10108 441 442 443 444 445 446 447 448 449 450 10121 10122 461 462 463 464 465 466 467 468 469 470 10125 10126 557 558 559 560 10143 10144 771 772 773 774 775 776 777 778 779 780 10187 10188 41 42 43 44 45 46 47 48 49 50 10041 10042 61 62 63 64 65 66 81 82 83 84 85 86 87 88 89 90 10049 10050 91 92 93 94 95 96 97 98 99 100 10051 10052 101 102 103 104 105 106 107 108 109 110 10053 10054 111 112 113 114 115 116 117 118 119 120 10055 10056 121 122 123 124 125 126 127 128 129 130 10057 10058 131 132 133 134 135 136 137 138 139 140 10059 10060 171 172 173 174 175 176 177 178 179 180 10067 10068 187 188 189 190 10069 10070 191 192 193 194 195 196 197 198 199 200 10071 10072 201 202 203 204 205 206 207 208 209 210 10073 10074 211 212 213 214 215 216 217 218 219 220 10075 10076 221 222 223 224 225 226 227 228 229 230 10077 10078 231 232 233 234 235 236 237 238 239 240 10079 10080 241 242 243 244 245 246 247 248 249 250 10081 10082 261 262 263 264 265 266 267 268 269 270 10085 10086 281 282 283 284 285 286 287 288 289 290 10089 10090 321 322 323 324 325 326 327 328 329 330 10097 10098 341 342 343 344 345 346 347 348 349 350 10101 10102 351 352 353 354 355 356 357 358 359 360 10103 10104 391 392 393 394 395 396 397 398 399 400 10111 10112 477 478 479 480 10127 10128 491 492 493 494 495 496 497 498 499 500 10131 10132 501 502 503 504 505 506 507 508 509 510 10133 10134 531 532 533 534 535 536 537 538 539 540 10139 10140 581 582 583 584 585 586 587 588 589 590 10149 10150 591 592 593 594 595 596 597 598 599 600 10151 10152 621 622 623 624 625 626 627 628 629 630 10157 10158 631 632 633 634 635 636 637 638 639 640 10159 10160 641 642 643 644 645 646 647 648 649 650 10161 10162 651 652 653 654 655 656 657 658 659 660 10163 10164 661 662 663 664 665 666 667 668 669 670 10165 10166 731 732 733 734 735 736 0-6 logps -53119232.56497121\n",
      "31 32 33 34 35 36 37 38 39 40 271 272 273 274 275 276 277 278 279 280 10087 10088 371 372 373 374 375 376 377 378 379 380 10107 10108 441 442 443 444 445 446 447 448 449 450 10121 10122 461 462 463 464 465 466 467 468 469 470 10125 10126 557 558 559 560 10143 10144 771 772 773 774 775 776 777 778 779 780 10187 10188 41 42 43 44 45 46 47 48 49 50 10041 10042 61 62 63 64 65 66 81 82 83 84 85 86 87 88 89 90 10049 10050 91 92 93 94 95 96 97 98 99 100 10051 10052 101 102 103 104 105 106 107 108 109 110 10053 10054 111 112 113 114 115 116 117 118 119 120 10055 10056 121 122 123 124 125 126 127 128 129 130 10057 10058 131 132 133 134 135 136 137 138 139 140 10059 10060 171 172 173 174 175 176 177 178 179 180 10067 10068 187 188 189 190 10069 10070 191 192 193 194 195 196 197 198 199 200 10071 10072 201 202 203 204 205 206 207 208 209 210 10073 10074 211 212 213 214 215 216 217 218 219 220 10075 10076 221 222 223 224 225 226 227 228 229 230 10077 10078 231 232 233 234 235 236 237 238 239 240 10079 10080 241 242 243 244 245 246 247 248 249 250 10081 10082 261 262 263 264 265 266 267 268 269 270 10085 10086 281 282 283 284 285 286 287 288 289 290 10089 10090 321 322 323 324 325 326 327 328 329 330 10097 10098 341 342 343 344 345 346 347 348 349 350 10101 10102 351 352 353 354 355 356 357 358 359 360 10103 10104 391 392 393 394 395 396 397 398 399 400 10111 10112 477 478 479 480 10127 10128 491 492 493 494 495 496 497 498 499 500 10131 10132 501 502 503 504 505 506 507 508 509 510 10133 10134 531 532 533 534 535 536 537 538 539 540 10139 10140 581 582 583 584 585 586 587 588 589 590 10149 10150 591 592 593 594 595 596 597 598 599 600 10151 10152 621 622 623 624 625 626 627 628 629 630 10157 10158 631 632 633 634 635 636 637 638 639 640 10159 10160 641 642 643 644 645 646 647 648 649 650 10161 10162 651 652 653 654 655 656 657 658 659 660 10163 10164 661 662 663 664 665 666 667 668 669 670 10165 10166 731 732 733 734 735 736 0-7 logps -53077102.665324315\n"
     ]
    },
    {
     "name": "stdout",
     "output_type": "stream",
     "text": [
      "31 32 33 34 35 36 37 38 39 40 271 272 273 274 275 276 277 278 279 280 10087 10088 371 372 373 374 375 376 377 378 379 380 10107 10108 441 442 443 444 445 446 447 448 449 450 10121 10122 461 462 463 464 465 466 467 468 469 470 10125 10126 557 558 559 560 10143 10144 771 772 773 774 775 776 777 778 779 780 10187 10188 41 42 43 44 45 46 47 48 49 50 10041 10042 61 62 63 64 65 66 81 82 83 84 85 86 87 88 89 90 10049 10050 91 92 93 94 95 96 97 98 99 100 10051 10052 101 102 103 104 105 106 107 108 109 110 10053 10054 111 112 113 114 115 116 117 118 119 120 10055 10056 121 122 123 124 125 126 127 128 129 130 10057 10058 131 132 133 134 135 136 137 138 139 140 10059 10060 171 172 173 174 175 176 177 178 179 180 10067 10068 187 188 189 190 10069 10070 191 192 193 194 195 196 197 198 199 200 10071 10072 201 202 203 204 205 206 207 208 209 210 10073 10074 211 212 213 214 215 216 217 218 219 220 10075 10076 221 222 223 224 225 226 227 228 229 230 10077 10078 231 232 233 234 235 236 237 238 239 240 10079 10080 241 242 243 244 245 246 247 248 249 250 10081 10082 261 262 263 264 265 266 267 268 269 270 10085 10086 281 282 283 284 285 286 287 288 289 290 10089 10090 321 322 323 324 325 326 327 328 329 330 10097 10098 341 342 343 344 345 346 347 348 349 350 10101 10102 351 352 353 354 355 356 357 358 359 360 10103 10104 391 392 393 394 395 396 397 398 399 400 10111 10112 477 478 479 480 10127 10128 491 492 493 494 495 496 497 498 499 500 10131 10132 501 502 503 504 505 506 507 508 509 510 10133 10134 531 532 533 534 535 536 537 538 539 540 10139 10140 581 582 583 584 585 586 587 588 589 590 10149 10150 591 592 593 594 595 596 597 598 599 600 10151 10152 621 622 623 624 625 626 627 628 629 630 10157 10158 631 632 633 634 635 636 637 638 639 640 10159 10160 641 642 643 644 645 646 647 648 649 650 10161 10162 651 652 653 654 655 656 657 658 659 660 10163 10164 661 662 663 664 665 666 667 668 669 670 10165 10166 731 732 733 734 735 736 0-8 logps -53034305.25096629\n",
      "31 32 33 34 35 36 37 38 39 40 271 272 273 274 275 276 277 278 279 280 10087 10088 371 372 373 374 375 376 377 378 379 380 10107 10108 441 442 443 444 445 446 447 448 449 450 10121 10122 461 462 463 464 465 466 467 468 469 470 10125 10126 557 558 559 560 10143 10144 771 772 773 774 775 776 777 778 779 780 10187 10188 41 42 43 44 45 46 47 48 49 50 10041 10042 61 62 63 64 65 66 81 82 83 84 85 86 87 88 89 90 10049 10050 91 92 93 94 95 96 97 98 99 100 10051 10052 101 102 103 104 105 106 107 108 109 110 10053 10054 111 112 113 114 115 116 117 118 119 120 10055 10056 121 122 123 124 125 126 127 128 129 130 10057 10058 131 132 133 134 135 136 137 138 139 140 10059 10060 171 172 173 174 175 176 177 178 179 180 10067 10068 187 188 189 190 10069 10070 191 192 193 194 195 196 197 198 199 200 10071 10072 201 202 203 204 205 206 207 208 209 210 10073 10074 211 212 213 214 215 216 217 218 219 220 10075 10076 221 222 223 224 225 226 227 228 229 230 10077 10078 231 232 233 234 235 236 237 238 239 240 10079 10080 241 242 243 244 245 246 247 248 249 250 10081 10082 261 262 263 264 265 266 267 268 269 270 10085 10086 281 282 283 284 285 286 287 288 289 290 10089 10090 321 322 323 324 325 326 327 328 329 330 10097 10098 341 342 343 344 345 346 347 348 349 350 10101 10102 351 352 353 354 355 356 357 358 359 360 10103 10104 391 392 393 394 395 396 397 398 399 400 10111 10112 477 478 479 480 10127 10128 491 492 493 494 495 496 497 498 499 500 10131 10132 501 502 503 504 505 506 507 508 509 510 10133 10134 531 532 533 534 535 536 537 538 539 540 10139 10140 581 582 583 584 585 586 587 588 589 590 10149 10150 591 592 593 594 595 596 597 598 599 600 10151 10152 621 622 623 624 625 626 627 628 629 630 10157 10158 631 632 633 634 635 636 637 638 639 640 10159 10160 641 642 643 644 645 646 647 648 649 650 10161 10162 651 652 653 654 655 656 657 658 659 660 10163 10164 661 662 663 664 665 666 667 668 669 670 10165 10166 731 732 733 734 735 736 0-9 logps -53004538.37351628\n",
      "31 32 33 34 35 36 37 38 39 40 271 272 273 274 275 276 277 278 279 280 10087 10088 371 372 373 374 375 376 377 378 379 380 10107 10108 441 442 443 444 445 446 447 448 449 450 10121 10122 461 462 463 464 465 466 467 468 469 470 10125 10126 557 558 559 560 10143 10144 771 772 773 774 775 776 777 778 779 780 10187 10188 41 42 43 44 45 46 47 48 49 50 10041 10042 61 62 63 64 65 66 81 82 83 84 85 86 87 88 89 90 10049 10050 91 92 93 94 95 96 97 98 99 100 10051 10052 101 102 103 104 105 106 107 108 109 110 10053 10054 111 112 113 114 115 116 117 118 119 120 10055 10056 121 122 123 124 125 126 127 128 129 130 10057 10058 131 132 133 134 135 136 137 138 139 140 10059 10060 171 172 173 174 175 176 177 178 179 180 10067 10068 187 188 189 190 10069 10070 191 192 193 194 195 196 197 198 199 200 10071 10072 201 202 203 204 205 206 207 208 209 210 10073 10074 211 212 213 214 215 216 217 218 219 220 10075 10076 221 222 223 224 225 226 227 228 229 230 10077 10078 231 232 233 234 235 236 237 238 239 240 10079 10080 241 242 243 244 245 246 247 248 249 250 10081 10082 261 262 263 264 265 266 267 268 269 270 10085 10086 281 282 283 284 285 286 287 288 289 290 10089 10090 321 322 323 324 325 326 327 328 329 330 10097 10098 341 342 343 344 345 346 347 348 349 350 10101 10102 351 352 353 354 355 356 357 358 359 360 10103 10104 391 392 393 394 395 396 397 398 399 400 10111 10112 477 478 479 480 10127 10128 491 492 493 494 495 496 497 498 499 500 10131 10132 501 502 503 504 505 506 507 508 509 510 10133 10134 531 532 533 534 535 536 537 538 539 540 10139 10140 581 582 583 584 585 586 587 588 589 590 10149 10150 591 592 593 594 595 596 597 598 599 600 10151 10152 621 622 623 624 625 626 627 628 629 630 10157 10158 631 632 633 634 635 636 637 638 639 640 10159 10160 641 642 643 644 645 646 647 648 649 650 10161 10162 651 652 653 654 655 656 657 658 659 660 10163 10164 661 662 663 664 665 666 667 668 669 670 10165 10166 731 732 733 734 735 736 1-0 logps -52978143.76393291\n",
      "31 32 33 34 35 36 37 38 39 40 271 272 273 274 275 276 277 278 279 280 10087 10088 371 372 373 374 375 376 377 378 379 380 10107 10108 441 442 443 444 445 446 447 448 449 450 10121 10122 461 462 463 464 465 466 467 468 469 470 10125 10126 557 558 559 560 10143 10144 771 772 773 774 775 776 777 778 779 780 10187 10188 41 42 43 44 45 46 47 48 49 50 10041 10042 61 62 63 64 65 66 81 82 83 84 85 86 87 88 89 90 10049 10050 91 92 93 94 95 96 97 98 99 100 10051 10052 101 102 103 104 105 106 107 108 109 110 10053 10054 111 112 113 114 115 116 117 118 119 120 10055 10056 121 122 123 124 125 126 127 128 129 130 10057 10058 131 132 133 134 135 136 137 138 139 140 10059 10060 171 172 173 174 175 176 177 178 179 180 10067 10068 187 188 189 190 10069 10070 191 192 193 194 195 196 197 198 199 200 10071 10072 201 202 203 204 205 206 207 208 209 210 10073 10074 211 212 213 214 215 216 217 218 219 220 10075 10076 221 222 223 224 225 226 227 228 229 230 10077 10078 231 232 233 234 235 236 237 238 239 240 10079 10080 241 242 243 244 245 246 247 248 249 250 10081 10082 261 262 263 264 265 266 267 268 269 270 10085 10086 281 282 283 284 285 286 287 288 289 290 10089 10090 321 322 323 324 325 326 327 328 329 330 10097 10098 341 342 343 344 345 346 347 348 "
     ]
    },
    {
     "name": "stderr",
     "output_type": "stream",
     "text": [
      "IOPub message rate exceeded.\n",
      "The notebook server will temporarily stop sending output\n",
      "to the client in order to avoid crashing it.\n",
      "To change this limit, set the config variable\n",
      "`--NotebookApp.iopub_msg_rate_limit`.\n",
      "\n",
      "Current values:\n",
      "NotebookApp.iopub_msg_rate_limit=1000.0 (msgs/sec)\n",
      "NotebookApp.rate_limit_window=3.0 (secs)\n",
      "\n"
     ]
    },
    {
     "name": "stdout",
     "output_type": "stream",
     "text": [
      "507 508 509 510 10133 10134 531 532 533 534 535 536 537 538 539 540 10139 10140 581 582 583 584 585 586 587 588 589 590 10149 10150 591 592 593 594 595 596 597 598 599 600 10151 10152 621 622 623 624 625 626 627 628 629 630 10157 10158 631 632 633 634 635 636 637 638 639 640 10159 10160 641 642 643 644 645 646 647 648 649 650 10161 10162 651 652 653 654 655 656 657 658 659 660 10163 10164 661 662 663 664 665 666 667 668 669 670 10165 10166 731 732 733 734 735 736 1-5 logps -52883715.45056033\n",
      "31 32 33 34 35 36 37 38 39 40 271 272 273 274 275 276 277 278 279 280 10087 10088 371 372 373 374 375 376 377 378 379 380 10107 10108 441 442 443 444 445 446 447 448 449 450 10121 10122 461 462 463 464 465 466 467 468 469 470 10125 10126 557 558 559 560 10143 10144 771 772 773 774 775 776 777 778 779 780 10187 10188 41 42 43 44 45 46 47 48 49 50 10041 10042 61 62 63 64 65 66 81 82 83 84 85 86 87 88 89 90 10049 10050 91 92 93 94 95 96 97 98 99 100 10051 10052 101 102 103 104 105 106 107 108 109 110 10053 10054 111 112 113 114 115 116 117 118 119 120 10055 10056 121 122 123 124 125 126 127 128 129 130 10057 10058 131 132 133 134 135 136 137 138 139 140 10059 10060 171 172 173 174 175 176 177 178 179 180 10067 10068 187 188 189 190 10069 10070 191 192 193 194 195 196 197 198 199 200 10071 10072 201 202 203 204 205 206 207 208 209 210 10073 10074 211 212 213 214 215 216 217 218 219 220 10075 10076 221 222 223 224 225 226 227 228 229 230 10077 10078 231 232 233 234 235 236 237 238 239 240 10079 10080 241 242 243 244 245 246 247 248 249 250 10081 10082 261 262 263 264 265 266 267 268 269 270 10085 10086 281 282 283 284 285 286 287 288 289 290 10089 10090 321 322 323 324 325 326 327 328 329 330 10097 10098 341 342 343 344 345 346 347 348 349 350 10101 10102 351 352 353 354 355 356 357 358 359 360 10103 10104 391 392 393 394 395 396 397 398 399 400 10111 10112 477 478 479 480 10127 10128 491 492 493 494 495 496 497 498 499 500 10131 10132 501 502 503 504 505 506 507 508 509 510 10133 10134 531 532 533 534 535 536 537 538 539 540 10139 10140 581 582 583 584 585 586 587 588 589 590 10149 10150 591 592 593 594 595 596 597 598 599 600 10151 10152 621 622 623 624 625 626 627 628 629 630 10157 10158 631 632 633 634 635 636 637 638 639 640 10159 10160 641 642 643 644 645 646 647 648 649 650 10161 10162 651 652 653 654 655 656 657 658 659 660 10163 10164 661 662 663 664 665 666 667 668 669 670 10165 10166 731 732 733 734 735 736 1-6 logps -52871410.51506833\n",
      "31 32 33 34 35 36 37 38 39 40 271 272 273 274 275 276 277 278 279 280 10087 10088 371 372 373 374 375 376 377 378 379 380 10107 10108 441 442 443 444 445 446 447 448 449 450 10121 10122 461 462 463 464 465 466 467 468 469 470 10125 10126 557 558 559 560 10143 10144 771 772 773 774 775 776 777 778 779 780 10187 10188 41 42 43 44 45 46 47 48 49 50 10041 10042 61 62 63 64 65 66 81 82 83 84 85 86 87 88 89 90 10049 10050 91 92 93 94 95 96 97 98 99 100 10051 10052 101 102 103 104 105 106 107 108 109 110 10053 10054 111 112 113 114 115 116 117 118 119 120 10055 10056 121 122 123 124 125 126 127 128 129 130 10057 10058 131 132 133 134 135 136 137 138 139 140 10059 10060 171 172 173 174 175 176 177 178 179 180 10067 10068 187 188 189 190 10069 10070 191 192 193 194 195 196 197 198 199 200 10071 10072 201 202 203 204 205 206 207 208 209 210 10073 10074 211 212 213 214 215 216 217 218 219 220 10075 10076 221 222 223 224 225 226 227 228 229 230 10077 10078 231 232 233 234 235 236 237 238 239 240 10079 10080 241 242 243 244 245 246 247 248 249 250 10081 10082 261 262 263 264 265 266 267 268 269 270 10085 10086 281 282 283 284 285 286 287 288 289 290 10089 10090 321 322 323 324 325 326 327 328 329 330 10097 10098 341 342 343 344 345 346 347 348 349 350 10101 10102 351 352 353 354 355 356 357 358 359 360 10103 10104 391 392 393 394 395 396 397 398 399 400 10111 10112 477 478 479 480 10127 10128 491 492 493 494 495 496 497 498 499 500 10131 10132 501 502 503 504 505 506 507 508 509 510 10133 10134 531 532 533 534 535 536 537 538 539 540 10139 10140 581 582 583 584 585 586 587 588 589 590 10149 10150 591 592 593 594 595 596 597 598 599 600 10151 10152 621 622 623 624 625 626 627 628 629 630 10157 10158 631 632 633 634 635 636 637 638 639 640 10159 10160 641 642 643 644 645 646 647 648 649 650 10161 10162 651 652 653 654 655 656 657 658 659 660 10163 10164 661 662 663 664 665 666 667 668 669 670 10165 10166 731 732 733 734 735 736 1-7 logps -52859641.74277849\n",
      "31 32 33 34 35 36 37 38 39 40 271 272 273 274 275 276 277 278 279 280 10087 10088 371 372 373 374 375 376 377 378 379 380 10107 10108 441 442 443 444 445 446 447 448 449 450 10121 10122 461 462 463 464 465 466 467 468 469 470 10125 10126 557 558 559 560 10143 10144 771 772 773 774 775 776 777 778 779 780 10187 10188 41 42 43 44 45 46 47 48 49 50 10041 10042 61 62 63 64 65 66 81 82 83 84 85 86 87 88 89 90 10049 10050 91 92 93 94 95 96 97 98 99 100 10051 10052 101 102 103 104 105 106 107 108 109 110 10053 10054 111 112 113 114 115 116 117 118 119 120 10055 10056 121 122 123 124 125 126 127 128 129 130 10057 10058 131 132 133 134 135 136 137 138 139 140 10059 10060 171 172 173 174 175 176 177 178 179 180 10067 10068 187 188 189 190 10069 10070 191 192 193 194 195 196 197 198 199 200 10071 10072 201 202 203 204 205 206 207 208 209 210 10073 10074 211 212 213 214 215 216 217 218 219 220 10075 10076 221 222 223 224 225 226 227 228 229 230 10077 10078 231 232 233 234 235 236 237 238 239 240 10079 10080 241 242 243 244 245 246 247 248 249 250 10081 10082 261 262 263 264 265 266 267 268 269 270 10085 10086 281 282 283 284 285 286 287 288 289 290 10089 10090 321 322 323 324 325 326 327 328 329 330 10097 10098 341 342 343 344 345 346 347 348 349 350 10101 10102 351 352 353 354 355 356 357 358 359 360 10103 10104 391 392 393 394 395 396 397 398 399 400 10111 10112 477 478 479 480 10127 10128 491 492 493 494 495 496 497 498 499 500 10131 10132 501 502 503 504 505 506 507 508 509 510 10133 10134 531 532 533 534 535 536 537 538 539 540 10139 10140 581 582 583 584 585 586 587 588 589 590 10149 10150 591 592 593 594 595 596 597 598 599 600 10151 10152 621 622 623 624 625 626 627 628 629 630 10157 10158 631 632 633 634 635 636 637 638 639 640 10159 10160 641 642 643 644 645 646 647 648 649 650 10161 10162 651 652 653 654 655 656 657 658 659 660 10163 10164 661 662 663 664 665 666 667 668 669 670 10165 10166 731 732 733 734 735 736 1-8 logps -52848304.54607106\n",
      "31 32 33 34 35 36 37 38 39 40 271 272 273 274 275 276 277 278 279 280 10087 10088 371 372 373 374 375 376 377 378 379 380 10107 10108 441 442 443 444 445 446 447 448 449 450 10121 10122 461 462 463 464 465 466 467 468 469 470 10125 10126 557 558 559 560 10143 10144 771 772 773 774 775 776 777 778 779 780 10187 10188 41 42 43 44 45 46 47 48 49 50 10041 10042 61 62 63 64 65 66 81 82 83 84 85 86 87 88 89 90 10049 10050 91 92 93 94 95 96 97 98 99 100 10051 10052 101 102 103 104 105 106 107 108 109 110 10053 10054 111 112 113 114 115 116 117 118 119 120 10055 10056 121 122 123 124 125 126 127 128 129 130 10057 10058 131 132 133 134 135 136 137 138 139 140 10059 10060 171 172 173 174 175 176 177 178 179 180 10067 10068 187 188 189 190 10069 10070 191 192 193 194 195 196 197 198 199 200 10071 10072 201 202 203 204 205 206 207 208 209 210 10073 10074 211 212 213 214 215 216 217 218 219 220 10075 10076 221 222 223 224 225 226 227 228 229 230 10077 10078 231 232 233 234 235 236 237 238 239 240 10079 10080 241 242 243 244 245 246 247 248 249 250 10081 10082 261 262 263 264 265 266 267 268 269 270 10085 10086 281 282 283 284 285 286 287 288 289 290 10089 10090 321 322 323 324 325 326 327 328 329 330 10097 10098 341 342 343 344 345 346 347 348 349 350 10101 10102 351 352 353 354 355 356 357 358 359 360 10103 10104 391 392 393 394 395 396 397 398 399 400 10111 10112 477 478 479 480 10127 10128 491 492 493 494 495 496 497 498 499 500 10131 10132 501 502 503 504 505 506 507 508 509 510 10133 10134 531 532 533 534 535 536 537 538 539 540 10139 10140 581 582 583 584 585 586 587 588 589 590 10149 10150 591 592 593 594 595 596 597 598 599 600 10151 10152 621 622 623 624 625 626 627 628 629 630 10157 10158 631 632 633 634 635 636 637 638 639 640 10159 10160 641 642 643 644 645 646 647 648 649 650 10161 10162 651 652 653 654 655 656 657 658 659 660 10163 10164 661 662 663 664 665 666 667 668 669 670 10165 10166 731 732 733 734 735 736 1-9 logps -52837525.160197005\n",
      "31 32 33 34 35 36 37 38 39 40 271 272 273 274 275 276 277 278 279 280 10087 10088 371 372 373 374 375 376 377 378 379 380 10107 10108 441 442 443 444 445 446 447 448 449 450 10121 10122 461 462 463 464 465 466 467 468 469 470 10125 10126 557 558 559 560 10143 10144 771 772 773 774 775 776 777 778 779 780 10187 10188 41 42 43 44 45 46 47 48 49 50 10041 10042 61 62 63 64 65 66 81 82 83 84 85 86 87 88 89 90 10049 10050 91 92 93 94 95 96 97 98 99 100 10051 10052 101 102 103 104 105 106 107 108 109 110 10053 10054 111 112 113 114 115 116 117 118 119 120 10055 10056 121 122 123 124 125 126 127 128 129 130 10057 10058 131 132 133 134 135 136 137 138 139 140 10059 10060 171 172 173 174 175 176 177 178 179 180 10067 10068 187 188 189 190 10069 10070 191 192 193 194 195 196 197 198 199 200 10071 10072 201 202 203 204 205 206 207 208 209 210 10073 10074 211 212 213 214 215 216 217 218 219 220 10075 10076 221 222 223 224 225 226 227 228 229 230 10077 10078 231 232 233 234 235 236 237 238 239 240 10079 10080 241 242 243 244 245 246 247 248 249 250 10081 10082 261 262 263 264 265 266 267 268 269 270 10085 10086 281 282 283 284 285 286 287 288 289 290 10089 10090 321 322 323 324 325 326 327 328 329 330 10097 10098 341 342 343 344 345 346 347 348 349 350 10101 10102 351 352 353 354 355 356 357 358 359 360 10103 10104 391 392 393 394 395 396 397 398 399 400 10111 10112 477 478 479 480 10127 10128 491 492 493 494 495 496 497 498 499 500 10131 10132 501 502 503 504 505 506 507 508 509 510 10133 10134 531 532 533 534 535 536 537 538 539 540 10139 10140 581 582 583 584 585 586 587 588 589 590 10149 10150 591 592 593 594 595 596 597 598 599 600 10151 10152 621 622 623 624 625 626 627 628 629 630 10157 10158 631 632 633 634 635 636 637 638 639 640 10159 10160 641 642 643 644 645 646 647 648 649 650 10161 10162 651 652 653 654 655 656 657 658 659 660 10163 10164 661 662 663 664 665 666 667 668 669 670 10165 10166 731 732 733 734 735 736 2-0 logps -52828884.14631348\n",
      "31 32 33 34 35 36 37 38 39 40 271 272 273 274 275 276 277 278 279 280 10087 10088 371 372 373 374 375 376 377 378 379 380 10107 10108 441 442 443 444 445 446 447 448 449 450 10121 10122 461 462 463 464 465 466 467 468 469 470 10125 10126 557 558 559 560 10143 10144 771 772 773 774 775 776 777 778 779 780 10187 10188 41 42 43 44 45 46 47 48 49 50 10041 10042 61 62 63 64 65 66 81 82 83 84 85 86 87 88 89 90 10049 10050 91 92 93 94 95 96 97 98 99 100 10051 10052 101 102 103 104 105 106 107 108 109 110 10053 10054 111 112 113 114 115 116 117 118 119 120 10055 10056 121 122 123 124 125 126 127 128 129 130 10057 10058 131 132 133 134 135 136 137 138 139 140 10059 10060 171 172 173 174 175 176 177 178 179 180 10067 10068 187 188 189 190 10069 10070 191 192 193 194 195 196 197 198 199 200 10071 10072 201 202 203 204 205 206 207 208 209 210 10073 10074 211 212 213 214 215 216 217 218 219 220 10075 10076 221 222 223 224 225 226 227 228 229 230 10077 10078 231 232 233 234 235 236 237 238 239 240 10079 10080 241 242 243 244 245 246 247 248 249 250 10081 10082 261 262 263 264 265 266 267 268 269 270 10085 10086 281 282 283 284 285 286 287 288 289 290 10089 10090 321 322 323 324 325 326 327 328 329 330 10097 10098 341 342 343 344 345 346 347 348 349 350 10101 10102 351 352 353 354 355 356 357 358 359 360 10103 10104 391 392 393 394 395 396 397 398 399 400 10111 10112 477 478 479 480 10127 10128 491 492 493 494 495 496 497 498 499 500 10131 10132 501 502 503 504 505 506 507 508 509 510 10133 10134 531 532 533 534 535 536 537 538 539 540 10139 10140 581 582 583 584 585 586 587 588 589 590 10149 10150 591 592 593 594 595 596 597 598 599 600 10151 10152 621 622 623 624 625 626 627 628 629 630 10157 10158 631 632 633 634 635 636 637 638 639 640 10159 10160 641 642 643 644 645 646 647 648 649 650 10161 10162 651 652 653 654 655 656 657 658 659 660 10163 10164 661 662 663 664 665 666 667 668 669 670 10165 10166 731 732 733 734 735 736 2-1 logps -52821164.48018991\n",
      "31 32 33 34 35 36 37 38 39 40 271 272 273 274 275 276 277 278 279 280 10087 10088 371 372 373 374 375 376 377 378 379 380 10107 10108 441 442 443 444 445 446 447 448 449 450 10121 10122 461 462 463 464 465 466 467 468 469 470 10125 10126 557 558 559 560 10143 10144 771 772 773 774 775 776 777 778 779 780 10187 10188 41 42 43 44 45 46 47 48 49 50 10041 10042 61 62 63 64 65 66 81 82 83 84 85 86 87 88 89 90 10049 10050 91 92 93 94 95 96 97 98 99 100 10051 10052 101 102 103 104 105 106 107 108 109 110 10053 10054 111 112 113 114 115 116 117 118 119 120 10055 10056 121 122 123 124 125 126 127 128 129 130 10057 10058 131 132 133 134 135 136 137 138 139 140 10059 10060 171 172 173 174 175 176 177 178 179 180 10067 10068 187 188 189 190 10069 10070 191 192 193 194 195 196 197 198 199 200 10071 10072 201 202 203 204 205 206 207 208 209 210 10073 10074 211 212 213 214 215 216 217 218 219 220 10075 10076 221 222 223 "
     ]
    }
   ],
   "source": [
    "for i in range(10):\n",
    "    for j in range(10):\n",
    "        logps = train_epoch(sentence_sequencess, unique_sentence_ids, sentence_hmms, phone_distribution_triples)\n",
    "        print('{}-{} logps'.format(i, j), sum(logps))\n",
    "    path = root + '/models/triples-{}'.format(i)\n",
    "    os.mkdir(path)\n",
    "    write_triples(path, phone_distribution_triples)"
   ]
  },
  {
   "cell_type": "code",
   "execution_count": 250,
   "metadata": {},
   "outputs": [
    {
     "data": {
      "text/plain": [
       "(0, 27)"
      ]
     },
     "execution_count": 250,
     "metadata": {},
     "output_type": "execute_result"
    }
   ],
   "source": [
    "update_triples(phone_distribution_triples)"
   ]
  },
  {
   "cell_type": "code",
   "execution_count": 243,
   "metadata": {
    "scrolled": true
   },
   "outputs": [],
   "source": [
    "write_triples(root + '/models/triples', phone_distribution_triples)"
   ]
  },
  {
   "cell_type": "code",
   "execution_count": 21,
   "metadata": {},
   "outputs": [
    {
     "ename": "OSError",
     "evalue": "Cannot read model AW-a",
     "output_type": "error",
     "traceback": [
      "\u001b[0;31m---------------------------------------------------------------------------\u001b[0m",
      "\u001b[0;31mLinAlgError\u001b[0m                               Traceback (most recent call last)",
      "\u001b[0;32m<ipython-input-11-0a590023c4e2>\u001b[0m in \u001b[0;36mread_gmm\u001b[0;34m(path)\u001b[0m\n\u001b[1;32m     31\u001b[0m             \u001b[0;32mtry\u001b[0m\u001b[0;34m:\u001b[0m\u001b[0;34m\u001b[0m\u001b[0m\n\u001b[0;32m---> 32\u001b[0;31m                 \u001b[0mdistribution\u001b[0m \u001b[0;34m=\u001b[0m \u001b[0mpg\u001b[0m\u001b[0;34m.\u001b[0m\u001b[0mMultivariateGaussianDistribution\u001b[0m\u001b[0;34m(\u001b[0m\u001b[0;34m*\u001b[0m\u001b[0mdistribution\u001b[0m\u001b[0;34m[\u001b[0m\u001b[0;34m'parameters'\u001b[0m\u001b[0;34m]\u001b[0m\u001b[0;34m)\u001b[0m\u001b[0;34m\u001b[0m\u001b[0m\n\u001b[0m\u001b[1;32m     33\u001b[0m                 \u001b[0mdistributions\u001b[0m\u001b[0;34m.\u001b[0m\u001b[0mappend\u001b[0m\u001b[0;34m(\u001b[0m\u001b[0mdistribution\u001b[0m\u001b[0;34m)\u001b[0m\u001b[0;34m\u001b[0m\u001b[0m\n",
      "\u001b[0;32mpomegranate/distributions.pyx\u001b[0m in \u001b[0;36mpomegranate.distributions.MultivariateGaussianDistribution.__cinit__\u001b[0;34m()\u001b[0m\n",
      "\u001b[0;32m/usr/local/lib/python3.5/dist-packages/scipy/linalg/decomp_cholesky.py\u001b[0m in \u001b[0;36mcholesky\u001b[0;34m(a, lower, overwrite_a, check_finite)\u001b[0m\n\u001b[1;32m     80\u001b[0m     c, lower = _cholesky(a, lower=lower, overwrite_a=overwrite_a, clean=True,\n\u001b[0;32m---> 81\u001b[0;31m                             check_finite=check_finite)\n\u001b[0m\u001b[1;32m     82\u001b[0m     \u001b[0;32mreturn\u001b[0m \u001b[0mc\u001b[0m\u001b[0;34m\u001b[0m\u001b[0m\n",
      "\u001b[0;32m/usr/local/lib/python3.5/dist-packages/scipy/linalg/decomp_cholesky.py\u001b[0m in \u001b[0;36m_cholesky\u001b[0;34m(a, lower, overwrite_a, clean, check_finite)\u001b[0m\n\u001b[1;32m     29\u001b[0m     \u001b[0;32mif\u001b[0m \u001b[0minfo\u001b[0m \u001b[0;34m>\u001b[0m \u001b[0;36m0\u001b[0m\u001b[0;34m:\u001b[0m\u001b[0;34m\u001b[0m\u001b[0m\n\u001b[0;32m---> 30\u001b[0;31m         \u001b[0;32mraise\u001b[0m \u001b[0mLinAlgError\u001b[0m\u001b[0;34m(\u001b[0m\u001b[0;34m\"%d-th leading minor not positive definite\"\u001b[0m \u001b[0;34m%\u001b[0m \u001b[0minfo\u001b[0m\u001b[0;34m)\u001b[0m\u001b[0;34m\u001b[0m\u001b[0m\n\u001b[0m\u001b[1;32m     31\u001b[0m     \u001b[0;32mif\u001b[0m \u001b[0minfo\u001b[0m \u001b[0;34m<\u001b[0m \u001b[0;36m0\u001b[0m\u001b[0;34m:\u001b[0m\u001b[0;34m\u001b[0m\u001b[0m\n",
      "\u001b[0;31mLinAlgError\u001b[0m: 22-th leading minor not positive definite",
      "\nThe above exception was the direct cause of the following exception:\n",
      "\u001b[0;31mOSError\u001b[0m                                   Traceback (most recent call last)",
      "\u001b[0;32m<ipython-input-11-0a590023c4e2>\u001b[0m in \u001b[0;36mread_triples\u001b[0;34m(path, phones)\u001b[0m\n\u001b[1;32m     52\u001b[0m             \u001b[0;32mtry\u001b[0m\u001b[0;34m:\u001b[0m\u001b[0;34m\u001b[0m\u001b[0m\n\u001b[0;32m---> 53\u001b[0;31m                 \u001b[0mmodel\u001b[0m \u001b[0;34m=\u001b[0m \u001b[0mread_gmm\u001b[0m\u001b[0;34m(\u001b[0m\u001b[0mpath\u001b[0m \u001b[0;34m+\u001b[0m \u001b[0;34m'/{}-{}'\u001b[0m\u001b[0;34m.\u001b[0m\u001b[0mformat\u001b[0m\u001b[0;34m(\u001b[0m\u001b[0mphone\u001b[0m\u001b[0;34m,\u001b[0m \u001b[0mc\u001b[0m\u001b[0;34m)\u001b[0m\u001b[0;34m)\u001b[0m\u001b[0;34m\u001b[0m\u001b[0m\n\u001b[0m\u001b[1;32m     54\u001b[0m                 \u001b[0mtriple\u001b[0m\u001b[0;34m.\u001b[0m\u001b[0mappend\u001b[0m\u001b[0;34m(\u001b[0m\u001b[0mmodel\u001b[0m\u001b[0;34m)\u001b[0m\u001b[0;34m\u001b[0m\u001b[0m\n",
      "\u001b[0;32m<ipython-input-11-0a590023c4e2>\u001b[0m in \u001b[0;36mread_gmm\u001b[0;34m(path)\u001b[0m\n\u001b[1;32m     34\u001b[0m             \u001b[0;32mexcept\u001b[0m \u001b[0mException\u001b[0m \u001b[0;32mas\u001b[0m \u001b[0mexception\u001b[0m\u001b[0;34m:\u001b[0m\u001b[0;34m\u001b[0m\u001b[0m\n\u001b[0;32m---> 35\u001b[0;31m                 \u001b[0;32mraise\u001b[0m \u001b[0mIOError\u001b[0m\u001b[0;34m(\u001b[0m\u001b[0;34m'Cannot read mixture at {}'\u001b[0m\u001b[0;34m.\u001b[0m\u001b[0mformat\u001b[0m\u001b[0;34m(\u001b[0m\u001b[0mi\u001b[0m\u001b[0;34m)\u001b[0m\u001b[0;34m)\u001b[0m \u001b[0;32mfrom\u001b[0m \u001b[0mexception\u001b[0m\u001b[0;34m\u001b[0m\u001b[0m\n\u001b[0m\u001b[1;32m     36\u001b[0m \u001b[0;34m\u001b[0m\u001b[0m\n",
      "\u001b[0;31mOSError\u001b[0m: Cannot read mixture at 5",
      "\nThe above exception was the direct cause of the following exception:\n",
      "\u001b[0;31mOSError\u001b[0m                                   Traceback (most recent call last)",
      "\u001b[0;32m<ipython-input-21-b50bdbd93ba1>\u001b[0m in \u001b[0;36m<module>\u001b[0;34m()\u001b[0m\n\u001b[0;32m----> 1\u001b[0;31m \u001b[0mphone_distribution_triples\u001b[0m \u001b[0;34m=\u001b[0m \u001b[0mread_triples\u001b[0m\u001b[0;34m(\u001b[0m\u001b[0mroot\u001b[0m \u001b[0;34m+\u001b[0m \u001b[0;34m'/models/triples-1'\u001b[0m\u001b[0;34m,\u001b[0m \u001b[0mUNIQUE_PHONES\u001b[0m\u001b[0;34m)\u001b[0m\u001b[0;34m\u001b[0m\u001b[0m\n\u001b[0m",
      "\u001b[0;32m<ipython-input-11-0a590023c4e2>\u001b[0m in \u001b[0;36mread_triples\u001b[0;34m(path, phones)\u001b[0m\n\u001b[1;32m     54\u001b[0m                 \u001b[0mtriple\u001b[0m\u001b[0;34m.\u001b[0m\u001b[0mappend\u001b[0m\u001b[0;34m(\u001b[0m\u001b[0mmodel\u001b[0m\u001b[0;34m)\u001b[0m\u001b[0;34m\u001b[0m\u001b[0m\n\u001b[1;32m     55\u001b[0m             \u001b[0;32mexcept\u001b[0m \u001b[0mException\u001b[0m \u001b[0;32mas\u001b[0m \u001b[0mexception\u001b[0m\u001b[0;34m:\u001b[0m\u001b[0;34m\u001b[0m\u001b[0m\n\u001b[0;32m---> 56\u001b[0;31m                 \u001b[0;32mraise\u001b[0m \u001b[0mIOError\u001b[0m\u001b[0;34m(\u001b[0m\u001b[0;34m'Cannot read model {}-{}'\u001b[0m\u001b[0;34m.\u001b[0m\u001b[0mformat\u001b[0m\u001b[0;34m(\u001b[0m\u001b[0mphone\u001b[0m\u001b[0;34m,\u001b[0m \u001b[0mc\u001b[0m\u001b[0;34m)\u001b[0m\u001b[0;34m)\u001b[0m \u001b[0;32mfrom\u001b[0m \u001b[0mexception\u001b[0m\u001b[0;34m\u001b[0m\u001b[0m\n\u001b[0m\u001b[1;32m     57\u001b[0m         \u001b[0mtriples\u001b[0m\u001b[0;34m[\u001b[0m\u001b[0mphone\u001b[0m\u001b[0;34m]\u001b[0m \u001b[0;34m=\u001b[0m \u001b[0mtuple\u001b[0m\u001b[0;34m(\u001b[0m\u001b[0mtriple\u001b[0m\u001b[0;34m)\u001b[0m\u001b[0;34m\u001b[0m\u001b[0m\n\u001b[1;32m     58\u001b[0m     \u001b[0;32mreturn\u001b[0m \u001b[0mtriples\u001b[0m\u001b[0;34m\u001b[0m\u001b[0m\n",
      "\u001b[0;31mOSError\u001b[0m: Cannot read model AW-a"
     ]
    }
   ],
   "source": [
    "phone_distribution_triples = read_triples(root + '/models/triples-1', UNIQUE_PHONES)"
   ]
  },
  {
   "cell_type": "code",
   "execution_count": 105,
   "metadata": {
    "scrolled": false
   },
   "outputs": [
    {
     "name": "stdout",
     "output_type": "stream",
     "text": [
      "[  1.41467275e+01  -7.35344053e+00  -5.56301231e+00  -4.84370700e+00\n",
      "  -3.26590152e+00  -4.67713110e+00  -2.93247692e+00  -6.21254481e+00\n",
      "  -4.60166262e+00  -4.32767984e+00  -1.62883341e+00  -2.50476327e+00\n",
      "  -8.24130769e+00   4.71618683e-01   4.57870227e-01  -1.32589895e+00\n",
      "  -9.23610116e-01  -9.11397488e-01  -4.48633292e-02   6.83980317e-01\n",
      "  -3.91819699e-01  -9.57840195e-02  -5.51740595e-01  -4.66018632e-01\n",
      "  -3.27380013e-01   2.68423365e-03   6.40123001e-03   1.34323619e-01\n",
      "   6.15838646e-03  -4.11852850e-02   7.89280213e-02  -2.26739330e-02\n",
      "   5.75374672e-02   6.40953838e-03  -3.25918412e-02   1.42842274e-01\n",
      "  -1.47236299e-01  -6.17011349e-02  -1.74521876e-02]\n",
      "[  1.43344790e+01   1.12123728e-01  -4.61673784e+00  -4.37537285e+00\n",
      "  -3.35688364e+00  -5.19159258e+00  -2.46247097e+00  -5.27950688e+00\n",
      "  -6.93267329e+00   8.92074965e-01  -1.50063469e+00  -3.92398961e+00\n",
      "  -1.10409868e+01   2.92374934e-01   1.52636161e+00  -1.38141933e+00\n",
      "  -6.50400994e-01  -7.84072233e-01   1.30328483e-01   6.29186205e-01\n",
      "   7.65916335e-02  -4.60719128e-01   4.12499647e-01  -4.94654228e-01\n",
      "  -9.56262930e-02  -4.51906954e-01  -1.23567798e-02  -1.96568273e-01\n",
      "   5.24525157e-02  -1.08848495e-02  -3.62191705e-02   7.71641044e-02\n",
      "  -3.68863618e-02   3.47594588e-02   1.61490967e-01   2.87846345e-02\n",
      "  -4.92060790e-02  -2.29968007e-03   7.21848124e-02]\n",
      "12-AY-mid\n"
     ]
    }
   ],
   "source": [
    "print(example_sentence_hmm.states[3].distribution.distributions[0].mu)\n",
    "print(example_sentence_hmm.states[10].distribution.distributions[0].mu)\n",
    "print(example_sentence_hmm.states[10].name)"
   ]
  },
  {
   "cell_type": "code",
   "execution_count": 71,
   "metadata": {},
   "outputs": [
    {
     "name": "stdout",
     "output_type": "stream",
     "text": [
      "0\n",
      "_-M-AY-_-V-OY-S-_-IH-Z-_-M-AY-_-P-AE-S-W-ER-D-_-start\t0-SILENCE\t0-SILENCE\t0-SILENCE\t0-SILENCE\t0-SILENCE\t0-SILENCE\t0-SILENCE\t0-SILENCE\t0-SILENCE\t0-SILENCE\t0-SILENCE\t0-SILENCE\t0-SILENCE\t0-SILENCE\t0-SILENCE\t0-SILENCE\t0-SILENCE\t0-SILENCE\t0-SILENCE\t0-SILENCE\t0-SILENCE\t0-SILENCE\t0-SILENCE\t0-SILENCE\t0-SILENCE\t0-SILENCE\t0-SILENCE\t0-SILENCE\t0-SILENCE\t0-SILENCE\t0-SILENCE\t0-SILENCE\t0-SILENCE\t0-SILENCE\t0-SILENCE\t0-SILENCE\t0-SILENCE\t0-SILENCE\t0-SILENCE\t0-SILENCE\t0-SILENCE\t0-SILENCE\t0-SILENCE\t0-SILENCE\t0-SILENCE\t0-SILENCE\t0-SILENCE\t0-SILENCE\t0-SILENCE\t0-SILENCE\t0-SILENCE\t0-SILENCE\t0-SILENCE\t0-SILENCE\t0-SILENCE\t0-SILENCE\t0-SILENCE\t0-SILENCE\t1-M-beg\t1-M-mid\t1-M-end\t2-AY-beg\t2-AY-mid\t2-AY-end\t3-SILENCE\t3-SILENCE\t3-SILENCE\t3-SILENCE\t3-SILENCE\t3-SILENCE\t3-SILENCE\t3-SILENCE\t3-SILENCE\t3-SILENCE\t3-SILENCE\t3-SILENCE\t3-SILENCE\t3-SILENCE\t3-SILENCE\t3-SILENCE\t3-SILENCE\t3-SILENCE\t3-SILENCE\t3-SILENCE\t3-SILENCE\t3-SILENCE\t3-SILENCE\t3-SILENCE\t3-SILENCE\t3-SILENCE\t3-SILENCE\t3-SILENCE\t3-SILENCE\t3-SILENCE\t3-SILENCE\t3-SILENCE\t3-SILENCE\t3-SILENCE\t3-SILENCE\t3-SILENCE\t3-SILENCE\t3-SILENCE\t3-SILENCE\t3-SILENCE\t4-V-beg\t4-V-mid\t4-V-end\t5-OY-beg\t5-OY-mid\t5-OY-end\t6-S-beg\t6-S-beg\t6-S-beg\t6-S-beg\t6-S-mid\t6-S-end\t7-SILENCE\t7-SILENCE\t7-SILENCE\t7-SILENCE\t7-SILENCE\t7-SILENCE\t7-SILENCE\t7-SILENCE\t7-SILENCE\t7-SILENCE\t7-SILENCE\t7-SILENCE\t7-SILENCE\t7-SILENCE\t7-SILENCE\t7-SILENCE\t7-SILENCE\t7-SILENCE\t7-SILENCE\t7-SILENCE\t7-SILENCE\t7-SILENCE\t7-SILENCE\t7-SILENCE\t7-SILENCE\t7-SILENCE\t7-SILENCE\t7-SILENCE\t7-SILENCE\t7-SILENCE\t7-SILENCE\t7-SILENCE\t8-IH-beg\t8-IH-mid\t8-IH-end\t9-Z-beg\t9-Z-mid\t9-Z-end\t9-Z-end\t9-Z-end\t9-Z-end\t10-SILENCE\t10-SILENCE\t10-SILENCE\t10-SILENCE\t10-SILENCE\t10-SILENCE\t10-SILENCE\t10-SILENCE\t10-SILENCE\t11-M-beg\t11-M-mid\t11-M-end\t12-AY-beg\t12-AY-mid\t12-AY-mid\t12-AY-mid\t12-AY-mid\t12-AY-mid\t12-AY-mid\t12-AY-mid\t12-AY-mid\t12-AY-mid\t12-AY-mid\t12-AY-mid\t12-AY-mid\t12-AY-mid\t12-AY-mid\t12-AY-mid\t12-AY-end\t13-SILENCE\t13-SILENCE\t13-SILENCE\t13-SILENCE\t13-SILENCE\t14-P-beg\t14-P-mid\t14-P-end\t15-AE-beg\t15-AE-mid\t15-AE-end\t16-S-beg\t16-S-mid\t16-S-end\t17-W-beg\t17-W-mid\t17-W-end\t18-ER-beg\t18-ER-mid\t18-ER-end\t19-D-beg\t19-D-mid\t19-D-mid\t19-D-mid\t19-D-mid\t19-D-mid\t19-D-mid\t19-D-mid\t19-D-mid\t19-D-end\t20-SILENCE\t20-SILENCE\t20-SILENCE\t20-SILENCE\t20-SILENCE\t20-SILENCE\t20-SILENCE\t20-SILENCE\t20-SILENCE\t_-M-AY-_-V-OY-S-_-IH-Z-_-M-AY-_-P-AE-S-W-ER-D-_-end\n",
      "50\n",
      "_-M-AY-_-V-OY-S-_-IH-Z-_-M-AY-_-P-AE-S-W-ER-D-_-start\t0-SILENCE\t0-SILENCE\t0-SILENCE\t0-SILENCE\t0-SILENCE\t0-SILENCE\t0-SILENCE\t0-SILENCE\t0-SILENCE\t0-SILENCE\t0-SILENCE\t0-SILENCE\t0-SILENCE\t0-SILENCE\t0-SILENCE\t0-SILENCE\t0-SILENCE\t0-SILENCE\t0-SILENCE\t0-SILENCE\t0-SILENCE\t0-SILENCE\t1-M-beg\t1-M-mid\t1-M-end\t2-AY-beg\t2-AY-mid\t2-AY-end\t3-SILENCE\t3-SILENCE\t3-SILENCE\t3-SILENCE\t3-SILENCE\t3-SILENCE\t3-SILENCE\t3-SILENCE\t3-SILENCE\t3-SILENCE\t3-SILENCE\t3-SILENCE\t3-SILENCE\t3-SILENCE\t3-SILENCE\t3-SILENCE\t3-SILENCE\t3-SILENCE\t3-SILENCE\t3-SILENCE\t3-SILENCE\t3-SILENCE\t3-SILENCE\t3-SILENCE\t3-SILENCE\t3-SILENCE\t3-SILENCE\t3-SILENCE\t3-SILENCE\t3-SILENCE\t3-SILENCE\t3-SILENCE\t3-SILENCE\t3-SILENCE\t3-SILENCE\t3-SILENCE\t3-SILENCE\t4-V-beg\t4-V-mid\t4-V-end\t5-OY-beg\t5-OY-mid\t5-OY-end\t6-S-beg\t6-S-mid\t6-S-end\t7-SILENCE\t7-SILENCE\t7-SILENCE\t7-SILENCE\t7-SILENCE\t8-IH-beg\t8-IH-mid\t8-IH-end\t9-Z-beg\t9-Z-mid\t9-Z-end\t9-Z-end\t9-Z-end\t9-Z-end\t9-Z-end\t10-SILENCE\t11-M-beg\t11-M-mid\t11-M-end\t12-AY-beg\t12-AY-mid\t12-AY-end\t13-SILENCE\t13-SILENCE\t13-SILENCE\t13-SILENCE\t13-SILENCE\t13-SILENCE\t13-SILENCE\t13-SILENCE\t13-SILENCE\t13-SILENCE\t14-P-beg\t14-P-mid\t14-P-end\t15-AE-beg\t15-AE-mid\t15-AE-end\t16-S-beg\t16-S-mid\t16-S-end\t17-W-beg\t17-W-mid\t17-W-end\t18-ER-beg\t18-ER-mid\t18-ER-end\t19-D-beg\t19-D-mid\t19-D-end\t20-SILENCE\t20-SILENCE\t20-SILENCE\t20-SILENCE\t20-SILENCE\t20-SILENCE\t20-SILENCE\t20-SILENCE\t20-SILENCE\t20-SILENCE\t20-SILENCE\t20-SILENCE\t20-SILENCE\t20-SILENCE\t20-SILENCE\t20-SILENCE\t20-SILENCE\t20-SILENCE\t20-SILENCE\t20-SILENCE\t20-SILENCE\t20-SILENCE\t20-SILENCE\t20-SILENCE\t20-SILENCE\t20-SILENCE\t20-SILENCE\t20-SILENCE\t20-SILENCE\t20-SILENCE\t20-SILENCE\t20-SILENCE\t20-SILENCE\t20-SILENCE\t20-SILENCE\t20-SILENCE\t20-SILENCE\t20-SILENCE\t20-SILENCE\t20-SILENCE\t20-SILENCE\t20-SILENCE\t20-SILENCE\t20-SILENCE\t20-SILENCE\t20-SILENCE\t20-SILENCE\t20-SILENCE\t20-SILENCE\t20-SILENCE\t20-SILENCE\t20-SILENCE\t20-SILENCE\t20-SILENCE\t20-SILENCE\t20-SILENCE\t20-SILENCE\t20-SILENCE\t20-SILENCE\t20-SILENCE\t20-SILENCE\t20-SILENCE\t20-SILENCE\t20-SILENCE\t20-SILENCE\t20-SILENCE\t20-SILENCE\t20-SILENCE\t20-SILENCE\t20-SILENCE\t20-SILENCE\t20-SILENCE\t20-SILENCE\t20-SILENCE\t20-SILENCE\t20-SILENCE\t20-SILENCE\t20-SILENCE\t20-SILENCE\t20-SILENCE\t20-SILENCE\t20-SILENCE\t20-SILENCE\t20-SILENCE\t20-SILENCE\t20-SILENCE\t20-SILENCE\t20-SILENCE\t20-SILENCE\t20-SILENCE\t20-SILENCE\t20-SILENCE\t20-SILENCE\t20-SILENCE\t20-SILENCE\t20-SILENCE\t20-SILENCE\t20-SILENCE\t20-SILENCE\t20-SILENCE\t20-SILENCE\t20-SILENCE\t20-SILENCE\t20-SILENCE\t20-SILENCE\t20-SILENCE\t20-SILENCE\t20-SILENCE\t20-SILENCE\t20-SILENCE\t20-SILENCE\t20-SILENCE\t20-SILENCE\t20-SILENCE\t20-SILENCE\t20-SILENCE\t20-SILENCE\t20-SILENCE\t20-SILENCE\t20-SILENCE\t20-SILENCE\t20-SILENCE\t20-SILENCE\t20-SILENCE\t20-SILENCE\t20-SILENCE\t20-SILENCE\t20-SILENCE\t20-SILENCE\t20-SILENCE\t20-SILENCE\t20-SILENCE\t20-SILENCE\t20-SILENCE\t20-SILENCE\t20-SILENCE\t20-SILENCE\t20-SILENCE\t20-SILENCE\t20-SILENCE\t20-SILENCE\t20-SILENCE\t20-SILENCE\t20-SILENCE\t20-SILENCE\t20-SILENCE\t20-SILENCE\t20-SILENCE\t20-SILENCE\t20-SILENCE\t20-SILENCE\t20-SILENCE\t20-SILENCE\t20-SILENCE\t20-SILENCE\t_-M-AY-_-V-OY-S-_-IH-Z-_-M-AY-_-P-AE-S-W-ER-D-_-end\n",
      "100\n",
      "_-M-AY-_-V-OY-S-_-IH-Z-_-M-AY-_-P-AE-S-W-ER-D-_-start\t0-SILENCE\t0-SILENCE\t0-SILENCE\t0-SILENCE\t0-SILENCE\t0-SILENCE\t1-M-beg\t1-M-mid\t1-M-end\t1-M-end\t2-AY-beg\t2-AY-mid\t2-AY-end\t3-SILENCE\t4-V-beg\t4-V-mid\t4-V-end\t5-OY-beg\t5-OY-mid\t5-OY-end\t6-S-beg\t6-S-beg\t6-S-mid\t6-S-end\t7-SILENCE\t7-SILENCE\t7-SILENCE\t7-SILENCE\t7-SILENCE\t7-SILENCE\t7-SILENCE\t7-SILENCE\t7-SILENCE\t7-SILENCE\t7-SILENCE\t7-SILENCE\t7-SILENCE\t7-SILENCE\t7-SILENCE\t7-SILENCE\t7-SILENCE\t7-SILENCE\t7-SILENCE\t7-SILENCE\t7-SILENCE\t7-SILENCE\t7-SILENCE\t7-SILENCE\t7-SILENCE\t7-SILENCE\t7-SILENCE\t7-SILENCE\t7-SILENCE\t7-SILENCE\t7-SILENCE\t7-SILENCE\t7-SILENCE\t7-SILENCE\t7-SILENCE\t7-SILENCE\t7-SILENCE\t7-SILENCE\t7-SILENCE\t7-SILENCE\t7-SILENCE\t7-SILENCE\t7-SILENCE\t7-SILENCE\t7-SILENCE\t7-SILENCE\t7-SILENCE\t7-SILENCE\t7-SILENCE\t7-SILENCE\t7-SILENCE\t7-SILENCE\t7-SILENCE\t7-SILENCE\t7-SILENCE\t7-SILENCE\t7-SILENCE\t7-SILENCE\t7-SILENCE\t7-SILENCE\t7-SILENCE\t7-SILENCE\t7-SILENCE\t7-SILENCE\t7-SILENCE\t7-SILENCE\t7-SILENCE\t7-SILENCE\t7-SILENCE\t7-SILENCE\t7-SILENCE\t7-SILENCE\t7-SILENCE\t7-SILENCE\t7-SILENCE\t7-SILENCE\t7-SILENCE\t7-SILENCE\t7-SILENCE\t7-SILENCE\t7-SILENCE\t7-SILENCE\t7-SILENCE\t7-SILENCE\t7-SILENCE\t7-SILENCE\t7-SILENCE\t7-SILENCE\t7-SILENCE\t7-SILENCE\t7-SILENCE\t7-SILENCE\t7-SILENCE\t7-SILENCE\t7-SILENCE\t7-SILENCE\t8-IH-beg\t8-IH-mid\t8-IH-end\t9-Z-beg\t9-Z-mid\t9-Z-end\t10-SILENCE\t10-SILENCE\t10-SILENCE\t11-M-beg\t11-M-mid\t11-M-end\t12-AY-beg\t12-AY-mid\t12-AY-end\t13-SILENCE\t13-SILENCE\t13-SILENCE\t13-SILENCE\t13-SILENCE\t13-SILENCE\t14-P-beg\t14-P-mid\t14-P-end\t15-AE-beg\t15-AE-mid\t15-AE-end\t16-S-beg\t16-S-mid\t16-S-end\t17-W-beg\t17-W-mid\t17-W-end\t18-ER-beg\t18-ER-mid\t18-ER-end\t19-D-beg\t19-D-mid\t19-D-mid\t19-D-end\t20-SILENCE\t20-SILENCE\t20-SILENCE\t20-SILENCE\t20-SILENCE\t20-SILENCE\t20-SILENCE\t20-SILENCE\t20-SILENCE\t20-SILENCE\t20-SILENCE\t20-SILENCE\t20-SILENCE\t20-SILENCE\t20-SILENCE\t20-SILENCE\t20-SILENCE\t20-SILENCE\t20-SILENCE\t20-SILENCE\t20-SILENCE\t20-SILENCE\t20-SILENCE\t20-SILENCE\t20-SILENCE\t20-SILENCE\t20-SILENCE\t20-SILENCE\t20-SILENCE\t20-SILENCE\t20-SILENCE\t20-SILENCE\t20-SILENCE\t20-SILENCE\t20-SILENCE\t20-SILENCE\t20-SILENCE\t20-SILENCE\t20-SILENCE\t20-SILENCE\t20-SILENCE\t20-SILENCE\t20-SILENCE\t20-SILENCE\t20-SILENCE\t20-SILENCE\t20-SILENCE\t20-SILENCE\t20-SILENCE\t20-SILENCE\t20-SILENCE\t20-SILENCE\t20-SILENCE\t20-SILENCE\t20-SILENCE\t20-SILENCE\t20-SILENCE\t20-SILENCE\t20-SILENCE\t20-SILENCE\t20-SILENCE\t20-SILENCE\t20-SILENCE\t20-SILENCE\t20-SILENCE\t20-SILENCE\t20-SILENCE\t20-SILENCE\t20-SILENCE\t20-SILENCE\t20-SILENCE\t20-SILENCE\t20-SILENCE\t20-SILENCE\t20-SILENCE\t20-SILENCE\t20-SILENCE\t20-SILENCE\t20-SILENCE\t20-SILENCE\t20-SILENCE\t20-SILENCE\t20-SILENCE\t20-SILENCE\t20-SILENCE\t_-M-AY-_-V-OY-S-_-IH-Z-_-M-AY-_-P-AE-S-W-ER-D-_-end\n"
     ]
    }
   ],
   "source": [
    "for i in (0, 50, 100):\n",
    "    predictions = example_sentence_hmm.predict(example_features[i], algorithm='viterbi')\n",
    "    print(i)\n",
    "    print('\\t'.join(example_sentence_hmm.states[prediction].name for prediction in predictions))"
   ]
  },
  {
   "cell_type": "code",
   "execution_count": 76,
   "metadata": {
    "scrolled": true
   },
   "outputs": [
    {
     "ename": "TypeError",
     "evalue": "Cannot cast ufunc subtract output from dtype('complex128') to dtype('float64') with casting rule 'same_kind'",
     "output_type": "error",
     "traceback": [
      "\u001b[0;31m---------------------------------------------------------------------------\u001b[0m",
      "\u001b[0;31mLinAlgError\u001b[0m                               Traceback (most recent call last)",
      "\u001b[0;32mpomegranate/distributions.pyx\u001b[0m in \u001b[0;36mpomegranate.distributions.MultivariateGaussianDistribution.from_summaries\u001b[0;34m()\u001b[0m\n",
      "\u001b[0;32m/usr/local/lib/python3.5/dist-packages/scipy/linalg/decomp_cholesky.py\u001b[0m in \u001b[0;36mcholesky\u001b[0;34m(a, lower, overwrite_a, check_finite)\u001b[0m\n\u001b[1;32m     80\u001b[0m     c, lower = _cholesky(a, lower=lower, overwrite_a=overwrite_a, clean=True,\n\u001b[0;32m---> 81\u001b[0;31m                             check_finite=check_finite)\n\u001b[0m\u001b[1;32m     82\u001b[0m     \u001b[0;32mreturn\u001b[0m \u001b[0mc\u001b[0m\u001b[0;34m\u001b[0m\u001b[0m\n",
      "\u001b[0;32m/usr/local/lib/python3.5/dist-packages/scipy/linalg/decomp_cholesky.py\u001b[0m in \u001b[0;36m_cholesky\u001b[0;34m(a, lower, overwrite_a, clean, check_finite)\u001b[0m\n\u001b[1;32m     29\u001b[0m     \u001b[0;32mif\u001b[0m \u001b[0minfo\u001b[0m \u001b[0;34m>\u001b[0m \u001b[0;36m0\u001b[0m\u001b[0;34m:\u001b[0m\u001b[0;34m\u001b[0m\u001b[0m\n\u001b[0;32m---> 30\u001b[0;31m         \u001b[0;32mraise\u001b[0m \u001b[0mLinAlgError\u001b[0m\u001b[0;34m(\u001b[0m\u001b[0;34m\"%d-th leading minor not positive definite\"\u001b[0m \u001b[0;34m%\u001b[0m \u001b[0minfo\u001b[0m\u001b[0;34m)\u001b[0m\u001b[0;34m\u001b[0m\u001b[0m\n\u001b[0m\u001b[1;32m     31\u001b[0m     \u001b[0;32mif\u001b[0m \u001b[0minfo\u001b[0m \u001b[0;34m<\u001b[0m \u001b[0;36m0\u001b[0m\u001b[0;34m:\u001b[0m\u001b[0;34m\u001b[0m\u001b[0m\n",
      "\u001b[0;31mLinAlgError\u001b[0m: 23-th leading minor not positive definite",
      "\nDuring handling of the above exception, another exception occurred:\n",
      "\u001b[0;31mTypeError\u001b[0m                                 Traceback (most recent call last)",
      "\u001b[0;32mpomegranate/bayes.pyx\u001b[0m in \u001b[0;36mpomegranate.bayes.BayesModel.from_summaries\u001b[0;34m()\u001b[0m\n",
      "\u001b[0;32mpomegranate/distributions.pyx\u001b[0m in \u001b[0;36mpomegranate.distributions.MultivariateGaussianDistribution.from_summaries\u001b[0;34m()\u001b[0m\n",
      "\u001b[0;31mTypeError\u001b[0m: Cannot cast ufunc subtract output from dtype('complex128') to dtype('float64') with casting rule 'same_kind'"
     ]
    },
    {
     "name": "stderr",
     "output_type": "stream",
     "text": [
      "Exception ignored in: 'pomegranate.hmm.HiddenMarkovModel._from_summaries'\n",
      "Traceback (most recent call last):\n",
      "  File \"pomegranate/bayes.pyx\", line 710, in pomegranate.bayes.BayesModel.from_summaries\n",
      "  File \"pomegranate/distributions.pyx\", line 2259, in pomegranate.distributions.MultivariateGaussianDistribution.from_summaries\n",
      "TypeError: Cannot cast ufunc subtract output from dtype('complex128') to dtype('float64') with casting rule 'same_kind'\n"
     ]
    },
    {
     "ename": "TypeError",
     "evalue": "Cannot cast ufunc subtract output from dtype('complex128') to dtype('float64') with casting rule 'same_kind'",
     "output_type": "error",
     "traceback": [
      "\u001b[0;31m---------------------------------------------------------------------------\u001b[0m",
      "\u001b[0;31mLinAlgError\u001b[0m                               Traceback (most recent call last)",
      "\u001b[0;32mpomegranate/distributions.pyx\u001b[0m in \u001b[0;36mpomegranate.distributions.MultivariateGaussianDistribution.from_summaries\u001b[0;34m()\u001b[0m\n",
      "\u001b[0;32m/usr/local/lib/python3.5/dist-packages/scipy/linalg/decomp_cholesky.py\u001b[0m in \u001b[0;36mcholesky\u001b[0;34m(a, lower, overwrite_a, check_finite)\u001b[0m\n\u001b[1;32m     80\u001b[0m     c, lower = _cholesky(a, lower=lower, overwrite_a=overwrite_a, clean=True,\n\u001b[0;32m---> 81\u001b[0;31m                             check_finite=check_finite)\n\u001b[0m\u001b[1;32m     82\u001b[0m     \u001b[0;32mreturn\u001b[0m \u001b[0mc\u001b[0m\u001b[0;34m\u001b[0m\u001b[0m\n",
      "\u001b[0;32m/usr/local/lib/python3.5/dist-packages/scipy/linalg/decomp_cholesky.py\u001b[0m in \u001b[0;36m_cholesky\u001b[0;34m(a, lower, overwrite_a, clean, check_finite)\u001b[0m\n\u001b[1;32m     29\u001b[0m     \u001b[0;32mif\u001b[0m \u001b[0minfo\u001b[0m \u001b[0;34m>\u001b[0m \u001b[0;36m0\u001b[0m\u001b[0;34m:\u001b[0m\u001b[0;34m\u001b[0m\u001b[0m\n\u001b[0;32m---> 30\u001b[0;31m         \u001b[0;32mraise\u001b[0m \u001b[0mLinAlgError\u001b[0m\u001b[0;34m(\u001b[0m\u001b[0;34m\"%d-th leading minor not positive definite\"\u001b[0m \u001b[0;34m%\u001b[0m \u001b[0minfo\u001b[0m\u001b[0;34m)\u001b[0m\u001b[0;34m\u001b[0m\u001b[0m\n\u001b[0m\u001b[1;32m     31\u001b[0m     \u001b[0;32mif\u001b[0m \u001b[0minfo\u001b[0m \u001b[0;34m<\u001b[0m \u001b[0;36m0\u001b[0m\u001b[0;34m:\u001b[0m\u001b[0;34m\u001b[0m\u001b[0m\n",
      "\u001b[0;31mLinAlgError\u001b[0m: 23-th leading minor not positive definite",
      "\nDuring handling of the above exception, another exception occurred:\n",
      "\u001b[0;31mTypeError\u001b[0m                                 Traceback (most recent call last)",
      "\u001b[0;32mpomegranate/bayes.pyx\u001b[0m in \u001b[0;36mpomegranate.bayes.BayesModel.from_summaries\u001b[0;34m()\u001b[0m\n",
      "\u001b[0;32mpomegranate/distributions.pyx\u001b[0m in \u001b[0;36mpomegranate.distributions.MultivariateGaussianDistribution.from_summaries\u001b[0;34m()\u001b[0m\n",
      "\u001b[0;31mTypeError\u001b[0m: Cannot cast ufunc subtract output from dtype('complex128') to dtype('float64') with casting rule 'same_kind'"
     ]
    },
    {
     "name": "stderr",
     "output_type": "stream",
     "text": [
      "Exception ignored in: 'pomegranate.hmm.HiddenMarkovModel._from_summaries'\n",
      "Traceback (most recent call last):\n",
      "  File \"pomegranate/bayes.pyx\", line 710, in pomegranate.bayes.BayesModel.from_summaries\n",
      "  File \"pomegranate/distributions.pyx\", line 2259, in pomegranate.distributions.MultivariateGaussianDistribution.from_summaries\n",
      "TypeError: Cannot cast ufunc subtract output from dtype('complex128') to dtype('float64') with casting rule 'same_kind'\n"
     ]
    },
    {
     "name": "stdout",
     "output_type": "stream",
     "text": [
      "[1] Improvement: 4.373646683990955\tTime (s): 522.3\n"
     ]
    },
    {
     "ename": "TypeError",
     "evalue": "Cannot cast ufunc subtract output from dtype('complex128') to dtype('float64') with casting rule 'same_kind'",
     "output_type": "error",
     "traceback": [
      "\u001b[0;31m---------------------------------------------------------------------------\u001b[0m",
      "\u001b[0;31mLinAlgError\u001b[0m                               Traceback (most recent call last)",
      "\u001b[0;32mpomegranate/distributions.pyx\u001b[0m in \u001b[0;36mpomegranate.distributions.MultivariateGaussianDistribution.from_summaries\u001b[0;34m()\u001b[0m\n",
      "\u001b[0;32m/usr/local/lib/python3.5/dist-packages/scipy/linalg/decomp_cholesky.py\u001b[0m in \u001b[0;36mcholesky\u001b[0;34m(a, lower, overwrite_a, check_finite)\u001b[0m\n\u001b[1;32m     80\u001b[0m     c, lower = _cholesky(a, lower=lower, overwrite_a=overwrite_a, clean=True,\n\u001b[0;32m---> 81\u001b[0;31m                             check_finite=check_finite)\n\u001b[0m\u001b[1;32m     82\u001b[0m     \u001b[0;32mreturn\u001b[0m \u001b[0mc\u001b[0m\u001b[0;34m\u001b[0m\u001b[0m\n",
      "\u001b[0;32m/usr/local/lib/python3.5/dist-packages/scipy/linalg/decomp_cholesky.py\u001b[0m in \u001b[0;36m_cholesky\u001b[0;34m(a, lower, overwrite_a, clean, check_finite)\u001b[0m\n\u001b[1;32m     29\u001b[0m     \u001b[0;32mif\u001b[0m \u001b[0minfo\u001b[0m \u001b[0;34m>\u001b[0m \u001b[0;36m0\u001b[0m\u001b[0;34m:\u001b[0m\u001b[0;34m\u001b[0m\u001b[0m\n\u001b[0;32m---> 30\u001b[0;31m         \u001b[0;32mraise\u001b[0m \u001b[0mLinAlgError\u001b[0m\u001b[0;34m(\u001b[0m\u001b[0;34m\"%d-th leading minor not positive definite\"\u001b[0m \u001b[0;34m%\u001b[0m \u001b[0minfo\u001b[0m\u001b[0;34m)\u001b[0m\u001b[0;34m\u001b[0m\u001b[0m\n\u001b[0m\u001b[1;32m     31\u001b[0m     \u001b[0;32mif\u001b[0m \u001b[0minfo\u001b[0m \u001b[0;34m<\u001b[0m \u001b[0;36m0\u001b[0m\u001b[0;34m:\u001b[0m\u001b[0;34m\u001b[0m\u001b[0m\n",
      "\u001b[0;31mLinAlgError\u001b[0m: 23-th leading minor not positive definite",
      "\nDuring handling of the above exception, another exception occurred:\n",
      "\u001b[0;31mTypeError\u001b[0m                                 Traceback (most recent call last)",
      "\u001b[0;32mpomegranate/bayes.pyx\u001b[0m in \u001b[0;36mpomegranate.bayes.BayesModel.from_summaries\u001b[0;34m()\u001b[0m\n",
      "\u001b[0;32mpomegranate/distributions.pyx\u001b[0m in \u001b[0;36mpomegranate.distributions.MultivariateGaussianDistribution.from_summaries\u001b[0;34m()\u001b[0m\n",
      "\u001b[0;31mTypeError\u001b[0m: Cannot cast ufunc subtract output from dtype('complex128') to dtype('float64') with casting rule 'same_kind'"
     ]
    },
    {
     "name": "stderr",
     "output_type": "stream",
     "text": [
      "Exception ignored in: 'pomegranate.hmm.HiddenMarkovModel._from_summaries'\n",
      "Traceback (most recent call last):\n",
      "  File \"pomegranate/bayes.pyx\", line 710, in pomegranate.bayes.BayesModel.from_summaries\n",
      "  File \"pomegranate/distributions.pyx\", line 2259, in pomegranate.distributions.MultivariateGaussianDistribution.from_summaries\n",
      "TypeError: Cannot cast ufunc subtract output from dtype('complex128') to dtype('float64') with casting rule 'same_kind'\n"
     ]
    },
    {
     "name": "stdout",
     "output_type": "stream",
     "text": [
      "[2] Improvement: 3.142620590282604\tTime (s): 525.5\n"
     ]
    },
    {
     "ename": "TypeError",
     "evalue": "Cannot cast ufunc subtract output from dtype('complex128') to dtype('float64') with casting rule 'same_kind'",
     "output_type": "error",
     "traceback": [
      "\u001b[0;31m---------------------------------------------------------------------------\u001b[0m",
      "\u001b[0;31mLinAlgError\u001b[0m                               Traceback (most recent call last)",
      "\u001b[0;32mpomegranate/distributions.pyx\u001b[0m in \u001b[0;36mpomegranate.distributions.MultivariateGaussianDistribution.from_summaries\u001b[0;34m()\u001b[0m\n",
      "\u001b[0;32m/usr/local/lib/python3.5/dist-packages/scipy/linalg/decomp_cholesky.py\u001b[0m in \u001b[0;36mcholesky\u001b[0;34m(a, lower, overwrite_a, check_finite)\u001b[0m\n\u001b[1;32m     80\u001b[0m     c, lower = _cholesky(a, lower=lower, overwrite_a=overwrite_a, clean=True,\n\u001b[0;32m---> 81\u001b[0;31m                             check_finite=check_finite)\n\u001b[0m\u001b[1;32m     82\u001b[0m     \u001b[0;32mreturn\u001b[0m \u001b[0mc\u001b[0m\u001b[0;34m\u001b[0m\u001b[0m\n",
      "\u001b[0;32m/usr/local/lib/python3.5/dist-packages/scipy/linalg/decomp_cholesky.py\u001b[0m in \u001b[0;36m_cholesky\u001b[0;34m(a, lower, overwrite_a, clean, check_finite)\u001b[0m\n\u001b[1;32m     29\u001b[0m     \u001b[0;32mif\u001b[0m \u001b[0minfo\u001b[0m \u001b[0;34m>\u001b[0m \u001b[0;36m0\u001b[0m\u001b[0;34m:\u001b[0m\u001b[0;34m\u001b[0m\u001b[0m\n\u001b[0;32m---> 30\u001b[0;31m         \u001b[0;32mraise\u001b[0m \u001b[0mLinAlgError\u001b[0m\u001b[0;34m(\u001b[0m\u001b[0;34m\"%d-th leading minor not positive definite\"\u001b[0m \u001b[0;34m%\u001b[0m \u001b[0minfo\u001b[0m\u001b[0;34m)\u001b[0m\u001b[0;34m\u001b[0m\u001b[0m\n\u001b[0m\u001b[1;32m     31\u001b[0m     \u001b[0;32mif\u001b[0m \u001b[0minfo\u001b[0m \u001b[0;34m<\u001b[0m \u001b[0;36m0\u001b[0m\u001b[0;34m:\u001b[0m\u001b[0;34m\u001b[0m\u001b[0m\n",
      "\u001b[0;31mLinAlgError\u001b[0m: 23-th leading minor not positive definite",
      "\nDuring handling of the above exception, another exception occurred:\n",
      "\u001b[0;31mTypeError\u001b[0m                                 Traceback (most recent call last)",
      "\u001b[0;32mpomegranate/bayes.pyx\u001b[0m in \u001b[0;36mpomegranate.bayes.BayesModel.from_summaries\u001b[0;34m()\u001b[0m\n",
      "\u001b[0;32mpomegranate/distributions.pyx\u001b[0m in \u001b[0;36mpomegranate.distributions.MultivariateGaussianDistribution.from_summaries\u001b[0;34m()\u001b[0m\n",
      "\u001b[0;31mTypeError\u001b[0m: Cannot cast ufunc subtract output from dtype('complex128') to dtype('float64') with casting rule 'same_kind'"
     ]
    },
    {
     "name": "stderr",
     "output_type": "stream",
     "text": [
      "Exception ignored in: 'pomegranate.hmm.HiddenMarkovModel._from_summaries'\n",
      "Traceback (most recent call last):\n",
      "  File \"pomegranate/bayes.pyx\", line 710, in pomegranate.bayes.BayesModel.from_summaries\n",
      "  File \"pomegranate/distributions.pyx\", line 2259, in pomegranate.distributions.MultivariateGaussianDistribution.from_summaries\n",
      "TypeError: Cannot cast ufunc subtract output from dtype('complex128') to dtype('float64') with casting rule 'same_kind'\n"
     ]
    },
    {
     "name": "stdout",
     "output_type": "stream",
     "text": [
      "[3] Improvement: 2.783811260247603\tTime (s): 530.9\n"
     ]
    },
    {
     "ename": "TypeError",
     "evalue": "Cannot cast ufunc subtract output from dtype('complex128') to dtype('float64') with casting rule 'same_kind'",
     "output_type": "error",
     "traceback": [
      "\u001b[0;31m---------------------------------------------------------------------------\u001b[0m",
      "\u001b[0;31mLinAlgError\u001b[0m                               Traceback (most recent call last)",
      "\u001b[0;32mpomegranate/distributions.pyx\u001b[0m in \u001b[0;36mpomegranate.distributions.MultivariateGaussianDistribution.from_summaries\u001b[0;34m()\u001b[0m\n",
      "\u001b[0;32m/usr/local/lib/python3.5/dist-packages/scipy/linalg/decomp_cholesky.py\u001b[0m in \u001b[0;36mcholesky\u001b[0;34m(a, lower, overwrite_a, check_finite)\u001b[0m\n\u001b[1;32m     80\u001b[0m     c, lower = _cholesky(a, lower=lower, overwrite_a=overwrite_a, clean=True,\n\u001b[0;32m---> 81\u001b[0;31m                             check_finite=check_finite)\n\u001b[0m\u001b[1;32m     82\u001b[0m     \u001b[0;32mreturn\u001b[0m \u001b[0mc\u001b[0m\u001b[0;34m\u001b[0m\u001b[0m\n",
      "\u001b[0;32m/usr/local/lib/python3.5/dist-packages/scipy/linalg/decomp_cholesky.py\u001b[0m in \u001b[0;36m_cholesky\u001b[0;34m(a, lower, overwrite_a, clean, check_finite)\u001b[0m\n\u001b[1;32m     29\u001b[0m     \u001b[0;32mif\u001b[0m \u001b[0minfo\u001b[0m \u001b[0;34m>\u001b[0m \u001b[0;36m0\u001b[0m\u001b[0;34m:\u001b[0m\u001b[0;34m\u001b[0m\u001b[0m\n\u001b[0;32m---> 30\u001b[0;31m         \u001b[0;32mraise\u001b[0m \u001b[0mLinAlgError\u001b[0m\u001b[0;34m(\u001b[0m\u001b[0;34m\"%d-th leading minor not positive definite\"\u001b[0m \u001b[0;34m%\u001b[0m \u001b[0minfo\u001b[0m\u001b[0;34m)\u001b[0m\u001b[0;34m\u001b[0m\u001b[0m\n\u001b[0m\u001b[1;32m     31\u001b[0m     \u001b[0;32mif\u001b[0m \u001b[0minfo\u001b[0m \u001b[0;34m<\u001b[0m \u001b[0;36m0\u001b[0m\u001b[0;34m:\u001b[0m\u001b[0;34m\u001b[0m\u001b[0m\n",
      "\u001b[0;31mLinAlgError\u001b[0m: 23-th leading minor not positive definite",
      "\nDuring handling of the above exception, another exception occurred:\n",
      "\u001b[0;31mTypeError\u001b[0m                                 Traceback (most recent call last)",
      "\u001b[0;32mpomegranate/bayes.pyx\u001b[0m in \u001b[0;36mpomegranate.bayes.BayesModel.from_summaries\u001b[0;34m()\u001b[0m\n",
      "\u001b[0;32mpomegranate/distributions.pyx\u001b[0m in \u001b[0;36mpomegranate.distributions.MultivariateGaussianDistribution.from_summaries\u001b[0;34m()\u001b[0m\n",
      "\u001b[0;31mTypeError\u001b[0m: Cannot cast ufunc subtract output from dtype('complex128') to dtype('float64') with casting rule 'same_kind'"
     ]
    },
    {
     "name": "stderr",
     "output_type": "stream",
     "text": [
      "Exception ignored in: 'pomegranate.hmm.HiddenMarkovModel._from_summaries'\n",
      "Traceback (most recent call last):\n",
      "  File \"pomegranate/bayes.pyx\", line 710, in pomegranate.bayes.BayesModel.from_summaries\n",
      "  File \"pomegranate/distributions.pyx\", line 2259, in pomegranate.distributions.MultivariateGaussianDistribution.from_summaries\n",
      "TypeError: Cannot cast ufunc subtract output from dtype('complex128') to dtype('float64') with casting rule 'same_kind'\n"
     ]
    },
    {
     "name": "stdout",
     "output_type": "stream",
     "text": [
      "[4] Improvement: 7.239276696462184\tTime (s): 530.8\n"
     ]
    },
    {
     "ename": "TypeError",
     "evalue": "Cannot cast ufunc subtract output from dtype('complex128') to dtype('float64') with casting rule 'same_kind'",
     "output_type": "error",
     "traceback": [
      "\u001b[0;31m---------------------------------------------------------------------------\u001b[0m",
      "\u001b[0;31mLinAlgError\u001b[0m                               Traceback (most recent call last)",
      "\u001b[0;32mpomegranate/distributions.pyx\u001b[0m in \u001b[0;36mpomegranate.distributions.MultivariateGaussianDistribution.from_summaries\u001b[0;34m()\u001b[0m\n",
      "\u001b[0;32m/usr/local/lib/python3.5/dist-packages/scipy/linalg/decomp_cholesky.py\u001b[0m in \u001b[0;36mcholesky\u001b[0;34m(a, lower, overwrite_a, check_finite)\u001b[0m\n\u001b[1;32m     80\u001b[0m     c, lower = _cholesky(a, lower=lower, overwrite_a=overwrite_a, clean=True,\n\u001b[0;32m---> 81\u001b[0;31m                             check_finite=check_finite)\n\u001b[0m\u001b[1;32m     82\u001b[0m     \u001b[0;32mreturn\u001b[0m \u001b[0mc\u001b[0m\u001b[0;34m\u001b[0m\u001b[0m\n",
      "\u001b[0;32m/usr/local/lib/python3.5/dist-packages/scipy/linalg/decomp_cholesky.py\u001b[0m in \u001b[0;36m_cholesky\u001b[0;34m(a, lower, overwrite_a, clean, check_finite)\u001b[0m\n\u001b[1;32m     29\u001b[0m     \u001b[0;32mif\u001b[0m \u001b[0minfo\u001b[0m \u001b[0;34m>\u001b[0m \u001b[0;36m0\u001b[0m\u001b[0;34m:\u001b[0m\u001b[0;34m\u001b[0m\u001b[0m\n\u001b[0;32m---> 30\u001b[0;31m         \u001b[0;32mraise\u001b[0m \u001b[0mLinAlgError\u001b[0m\u001b[0;34m(\u001b[0m\u001b[0;34m\"%d-th leading minor not positive definite\"\u001b[0m \u001b[0;34m%\u001b[0m \u001b[0minfo\u001b[0m\u001b[0;34m)\u001b[0m\u001b[0;34m\u001b[0m\u001b[0m\n\u001b[0m\u001b[1;32m     31\u001b[0m     \u001b[0;32mif\u001b[0m \u001b[0minfo\u001b[0m \u001b[0;34m<\u001b[0m \u001b[0;36m0\u001b[0m\u001b[0;34m:\u001b[0m\u001b[0;34m\u001b[0m\u001b[0m\n",
      "\u001b[0;31mLinAlgError\u001b[0m: 23-th leading minor not positive definite",
      "\nDuring handling of the above exception, another exception occurred:\n",
      "\u001b[0;31mTypeError\u001b[0m                                 Traceback (most recent call last)",
      "\u001b[0;32mpomegranate/bayes.pyx\u001b[0m in \u001b[0;36mpomegranate.bayes.BayesModel.from_summaries\u001b[0;34m()\u001b[0m\n",
      "\u001b[0;32mpomegranate/distributions.pyx\u001b[0m in \u001b[0;36mpomegranate.distributions.MultivariateGaussianDistribution.from_summaries\u001b[0;34m()\u001b[0m\n",
      "\u001b[0;31mTypeError\u001b[0m: Cannot cast ufunc subtract output from dtype('complex128') to dtype('float64') with casting rule 'same_kind'"
     ]
    },
    {
     "name": "stderr",
     "output_type": "stream",
     "text": [
      "Exception ignored in: 'pomegranate.hmm.HiddenMarkovModel._from_summaries'\n",
      "Traceback (most recent call last):\n",
      "  File \"pomegranate/bayes.pyx\", line 710, in pomegranate.bayes.BayesModel.from_summaries\n",
      "  File \"pomegranate/distributions.pyx\", line 2259, in pomegranate.distributions.MultivariateGaussianDistribution.from_summaries\n",
      "TypeError: Cannot cast ufunc subtract output from dtype('complex128') to dtype('float64') with casting rule 'same_kind'\n"
     ]
    },
    {
     "name": "stdout",
     "output_type": "stream",
     "text": [
      "[5] Improvement: 3.898073144024238\tTime (s): 516.5\n"
     ]
    },
    {
     "ename": "TypeError",
     "evalue": "Cannot cast ufunc subtract output from dtype('complex128') to dtype('float64') with casting rule 'same_kind'",
     "output_type": "error",
     "traceback": [
      "\u001b[0;31m---------------------------------------------------------------------------\u001b[0m",
      "\u001b[0;31mLinAlgError\u001b[0m                               Traceback (most recent call last)",
      "\u001b[0;32mpomegranate/distributions.pyx\u001b[0m in \u001b[0;36mpomegranate.distributions.MultivariateGaussianDistribution.from_summaries\u001b[0;34m()\u001b[0m\n",
      "\u001b[0;32m/usr/local/lib/python3.5/dist-packages/scipy/linalg/decomp_cholesky.py\u001b[0m in \u001b[0;36mcholesky\u001b[0;34m(a, lower, overwrite_a, check_finite)\u001b[0m\n\u001b[1;32m     80\u001b[0m     c, lower = _cholesky(a, lower=lower, overwrite_a=overwrite_a, clean=True,\n\u001b[0;32m---> 81\u001b[0;31m                             check_finite=check_finite)\n\u001b[0m\u001b[1;32m     82\u001b[0m     \u001b[0;32mreturn\u001b[0m \u001b[0mc\u001b[0m\u001b[0;34m\u001b[0m\u001b[0m\n",
      "\u001b[0;32m/usr/local/lib/python3.5/dist-packages/scipy/linalg/decomp_cholesky.py\u001b[0m in \u001b[0;36m_cholesky\u001b[0;34m(a, lower, overwrite_a, clean, check_finite)\u001b[0m\n\u001b[1;32m     29\u001b[0m     \u001b[0;32mif\u001b[0m \u001b[0minfo\u001b[0m \u001b[0;34m>\u001b[0m \u001b[0;36m0\u001b[0m\u001b[0;34m:\u001b[0m\u001b[0;34m\u001b[0m\u001b[0m\n\u001b[0;32m---> 30\u001b[0;31m         \u001b[0;32mraise\u001b[0m \u001b[0mLinAlgError\u001b[0m\u001b[0;34m(\u001b[0m\u001b[0;34m\"%d-th leading minor not positive definite\"\u001b[0m \u001b[0;34m%\u001b[0m \u001b[0minfo\u001b[0m\u001b[0;34m)\u001b[0m\u001b[0;34m\u001b[0m\u001b[0m\n\u001b[0m\u001b[1;32m     31\u001b[0m     \u001b[0;32mif\u001b[0m \u001b[0minfo\u001b[0m \u001b[0;34m<\u001b[0m \u001b[0;36m0\u001b[0m\u001b[0;34m:\u001b[0m\u001b[0;34m\u001b[0m\u001b[0m\n",
      "\u001b[0;31mLinAlgError\u001b[0m: 23-th leading minor not positive definite",
      "\nDuring handling of the above exception, another exception occurred:\n",
      "\u001b[0;31mTypeError\u001b[0m                                 Traceback (most recent call last)",
      "\u001b[0;32mpomegranate/bayes.pyx\u001b[0m in \u001b[0;36mpomegranate.bayes.BayesModel.from_summaries\u001b[0;34m()\u001b[0m\n",
      "\u001b[0;32mpomegranate/distributions.pyx\u001b[0m in \u001b[0;36mpomegranate.distributions.MultivariateGaussianDistribution.from_summaries\u001b[0;34m()\u001b[0m\n",
      "\u001b[0;31mTypeError\u001b[0m: Cannot cast ufunc subtract output from dtype('complex128') to dtype('float64') with casting rule 'same_kind'"
     ]
    },
    {
     "name": "stderr",
     "output_type": "stream",
     "text": [
      "Exception ignored in: 'pomegranate.hmm.HiddenMarkovModel._from_summaries'\n",
      "Traceback (most recent call last):\n",
      "  File \"pomegranate/bayes.pyx\", line 710, in pomegranate.bayes.BayesModel.from_summaries\n",
      "  File \"pomegranate/distributions.pyx\", line 2259, in pomegranate.distributions.MultivariateGaussianDistribution.from_summaries\n",
      "TypeError: Cannot cast ufunc subtract output from dtype('complex128') to dtype('float64') with casting rule 'same_kind'\n"
     ]
    },
    {
     "name": "stdout",
     "output_type": "stream",
     "text": [
      "[6] Improvement: 0.22262321808375418\tTime (s): 530.8\n"
     ]
    },
    {
     "ename": "TypeError",
     "evalue": "Cannot cast ufunc subtract output from dtype('complex128') to dtype('float64') with casting rule 'same_kind'",
     "output_type": "error",
     "traceback": [
      "\u001b[0;31m---------------------------------------------------------------------------\u001b[0m",
      "\u001b[0;31mLinAlgError\u001b[0m                               Traceback (most recent call last)",
      "\u001b[0;32mpomegranate/distributions.pyx\u001b[0m in \u001b[0;36mpomegranate.distributions.MultivariateGaussianDistribution.from_summaries\u001b[0;34m()\u001b[0m\n",
      "\u001b[0;32m/usr/local/lib/python3.5/dist-packages/scipy/linalg/decomp_cholesky.py\u001b[0m in \u001b[0;36mcholesky\u001b[0;34m(a, lower, overwrite_a, check_finite)\u001b[0m\n\u001b[1;32m     80\u001b[0m     c, lower = _cholesky(a, lower=lower, overwrite_a=overwrite_a, clean=True,\n\u001b[0;32m---> 81\u001b[0;31m                             check_finite=check_finite)\n\u001b[0m\u001b[1;32m     82\u001b[0m     \u001b[0;32mreturn\u001b[0m \u001b[0mc\u001b[0m\u001b[0;34m\u001b[0m\u001b[0m\n",
      "\u001b[0;32m/usr/local/lib/python3.5/dist-packages/scipy/linalg/decomp_cholesky.py\u001b[0m in \u001b[0;36m_cholesky\u001b[0;34m(a, lower, overwrite_a, clean, check_finite)\u001b[0m\n\u001b[1;32m     29\u001b[0m     \u001b[0;32mif\u001b[0m \u001b[0minfo\u001b[0m \u001b[0;34m>\u001b[0m \u001b[0;36m0\u001b[0m\u001b[0;34m:\u001b[0m\u001b[0;34m\u001b[0m\u001b[0m\n\u001b[0;32m---> 30\u001b[0;31m         \u001b[0;32mraise\u001b[0m \u001b[0mLinAlgError\u001b[0m\u001b[0;34m(\u001b[0m\u001b[0;34m\"%d-th leading minor not positive definite\"\u001b[0m \u001b[0;34m%\u001b[0m \u001b[0minfo\u001b[0m\u001b[0;34m)\u001b[0m\u001b[0;34m\u001b[0m\u001b[0m\n\u001b[0m\u001b[1;32m     31\u001b[0m     \u001b[0;32mif\u001b[0m \u001b[0minfo\u001b[0m \u001b[0;34m<\u001b[0m \u001b[0;36m0\u001b[0m\u001b[0;34m:\u001b[0m\u001b[0;34m\u001b[0m\u001b[0m\n",
      "\u001b[0;31mLinAlgError\u001b[0m: 23-th leading minor not positive definite",
      "\nDuring handling of the above exception, another exception occurred:\n",
      "\u001b[0;31mTypeError\u001b[0m                                 Traceback (most recent call last)",
      "\u001b[0;32mpomegranate/bayes.pyx\u001b[0m in \u001b[0;36mpomegranate.bayes.BayesModel.from_summaries\u001b[0;34m()\u001b[0m\n",
      "\u001b[0;32mpomegranate/distributions.pyx\u001b[0m in \u001b[0;36mpomegranate.distributions.MultivariateGaussianDistribution.from_summaries\u001b[0;34m()\u001b[0m\n",
      "\u001b[0;31mTypeError\u001b[0m: Cannot cast ufunc subtract output from dtype('complex128') to dtype('float64') with casting rule 'same_kind'"
     ]
    },
    {
     "name": "stderr",
     "output_type": "stream",
     "text": [
      "Exception ignored in: 'pomegranate.hmm.HiddenMarkovModel._from_summaries'\n",
      "Traceback (most recent call last):\n",
      "  File \"pomegranate/bayes.pyx\", line 710, in pomegranate.bayes.BayesModel.from_summaries\n",
      "  File \"pomegranate/distributions.pyx\", line 2259, in pomegranate.distributions.MultivariateGaussianDistribution.from_summaries\n",
      "TypeError: Cannot cast ufunc subtract output from dtype('complex128') to dtype('float64') with casting rule 'same_kind'\n"
     ]
    },
    {
     "name": "stdout",
     "output_type": "stream",
     "text": [
      "[7] Improvement: 0.10438551963306963\tTime (s): 532.6\n"
     ]
    },
    {
     "ename": "TypeError",
     "evalue": "Cannot cast ufunc subtract output from dtype('complex128') to dtype('float64') with casting rule 'same_kind'",
     "output_type": "error",
     "traceback": [
      "\u001b[0;31m---------------------------------------------------------------------------\u001b[0m",
      "\u001b[0;31mLinAlgError\u001b[0m                               Traceback (most recent call last)",
      "\u001b[0;32mpomegranate/distributions.pyx\u001b[0m in \u001b[0;36mpomegranate.distributions.MultivariateGaussianDistribution.from_summaries\u001b[0;34m()\u001b[0m\n",
      "\u001b[0;32m/usr/local/lib/python3.5/dist-packages/scipy/linalg/decomp_cholesky.py\u001b[0m in \u001b[0;36mcholesky\u001b[0;34m(a, lower, overwrite_a, check_finite)\u001b[0m\n\u001b[1;32m     80\u001b[0m     c, lower = _cholesky(a, lower=lower, overwrite_a=overwrite_a, clean=True,\n\u001b[0;32m---> 81\u001b[0;31m                             check_finite=check_finite)\n\u001b[0m\u001b[1;32m     82\u001b[0m     \u001b[0;32mreturn\u001b[0m \u001b[0mc\u001b[0m\u001b[0;34m\u001b[0m\u001b[0m\n",
      "\u001b[0;32m/usr/local/lib/python3.5/dist-packages/scipy/linalg/decomp_cholesky.py\u001b[0m in \u001b[0;36m_cholesky\u001b[0;34m(a, lower, overwrite_a, clean, check_finite)\u001b[0m\n\u001b[1;32m     29\u001b[0m     \u001b[0;32mif\u001b[0m \u001b[0minfo\u001b[0m \u001b[0;34m>\u001b[0m \u001b[0;36m0\u001b[0m\u001b[0;34m:\u001b[0m\u001b[0;34m\u001b[0m\u001b[0m\n\u001b[0;32m---> 30\u001b[0;31m         \u001b[0;32mraise\u001b[0m \u001b[0mLinAlgError\u001b[0m\u001b[0;34m(\u001b[0m\u001b[0;34m\"%d-th leading minor not positive definite\"\u001b[0m \u001b[0;34m%\u001b[0m \u001b[0minfo\u001b[0m\u001b[0;34m)\u001b[0m\u001b[0;34m\u001b[0m\u001b[0m\n\u001b[0m\u001b[1;32m     31\u001b[0m     \u001b[0;32mif\u001b[0m \u001b[0minfo\u001b[0m \u001b[0;34m<\u001b[0m \u001b[0;36m0\u001b[0m\u001b[0;34m:\u001b[0m\u001b[0;34m\u001b[0m\u001b[0m\n",
      "\u001b[0;31mLinAlgError\u001b[0m: 23-th leading minor not positive definite",
      "\nDuring handling of the above exception, another exception occurred:\n",
      "\u001b[0;31mTypeError\u001b[0m                                 Traceback (most recent call last)",
      "\u001b[0;32mpomegranate/bayes.pyx\u001b[0m in \u001b[0;36mpomegranate.bayes.BayesModel.from_summaries\u001b[0;34m()\u001b[0m\n",
      "\u001b[0;32mpomegranate/distributions.pyx\u001b[0m in \u001b[0;36mpomegranate.distributions.MultivariateGaussianDistribution.from_summaries\u001b[0;34m()\u001b[0m\n",
      "\u001b[0;31mTypeError\u001b[0m: Cannot cast ufunc subtract output from dtype('complex128') to dtype('float64') with casting rule 'same_kind'"
     ]
    },
    {
     "name": "stderr",
     "output_type": "stream",
     "text": [
      "Exception ignored in: 'pomegranate.hmm.HiddenMarkovModel._from_summaries'\n",
      "Traceback (most recent call last):\n",
      "  File \"pomegranate/bayes.pyx\", line 710, in pomegranate.bayes.BayesModel.from_summaries\n",
      "  File \"pomegranate/distributions.pyx\", line 2259, in pomegranate.distributions.MultivariateGaussianDistribution.from_summaries\n",
      "TypeError: Cannot cast ufunc subtract output from dtype('complex128') to dtype('float64') with casting rule 'same_kind'\n"
     ]
    },
    {
     "name": "stdout",
     "output_type": "stream",
     "text": [
      "[8] Improvement: 0.14116176054812968\tTime (s): 528.2\n"
     ]
    },
    {
     "ename": "TypeError",
     "evalue": "Cannot cast ufunc subtract output from dtype('complex128') to dtype('float64') with casting rule 'same_kind'",
     "output_type": "error",
     "traceback": [
      "\u001b[0;31m---------------------------------------------------------------------------\u001b[0m",
      "\u001b[0;31mLinAlgError\u001b[0m                               Traceback (most recent call last)",
      "\u001b[0;32mpomegranate/distributions.pyx\u001b[0m in \u001b[0;36mpomegranate.distributions.MultivariateGaussianDistribution.from_summaries\u001b[0;34m()\u001b[0m\n",
      "\u001b[0;32m/usr/local/lib/python3.5/dist-packages/scipy/linalg/decomp_cholesky.py\u001b[0m in \u001b[0;36mcholesky\u001b[0;34m(a, lower, overwrite_a, check_finite)\u001b[0m\n\u001b[1;32m     80\u001b[0m     c, lower = _cholesky(a, lower=lower, overwrite_a=overwrite_a, clean=True,\n\u001b[0;32m---> 81\u001b[0;31m                             check_finite=check_finite)\n\u001b[0m\u001b[1;32m     82\u001b[0m     \u001b[0;32mreturn\u001b[0m \u001b[0mc\u001b[0m\u001b[0;34m\u001b[0m\u001b[0m\n",
      "\u001b[0;32m/usr/local/lib/python3.5/dist-packages/scipy/linalg/decomp_cholesky.py\u001b[0m in \u001b[0;36m_cholesky\u001b[0;34m(a, lower, overwrite_a, clean, check_finite)\u001b[0m\n\u001b[1;32m     29\u001b[0m     \u001b[0;32mif\u001b[0m \u001b[0minfo\u001b[0m \u001b[0;34m>\u001b[0m \u001b[0;36m0\u001b[0m\u001b[0;34m:\u001b[0m\u001b[0;34m\u001b[0m\u001b[0m\n\u001b[0;32m---> 30\u001b[0;31m         \u001b[0;32mraise\u001b[0m \u001b[0mLinAlgError\u001b[0m\u001b[0;34m(\u001b[0m\u001b[0;34m\"%d-th leading minor not positive definite\"\u001b[0m \u001b[0;34m%\u001b[0m \u001b[0minfo\u001b[0m\u001b[0;34m)\u001b[0m\u001b[0;34m\u001b[0m\u001b[0m\n\u001b[0m\u001b[1;32m     31\u001b[0m     \u001b[0;32mif\u001b[0m \u001b[0minfo\u001b[0m \u001b[0;34m<\u001b[0m \u001b[0;36m0\u001b[0m\u001b[0;34m:\u001b[0m\u001b[0;34m\u001b[0m\u001b[0m\n",
      "\u001b[0;31mLinAlgError\u001b[0m: 23-th leading minor not positive definite",
      "\nDuring handling of the above exception, another exception occurred:\n",
      "\u001b[0;31mTypeError\u001b[0m                                 Traceback (most recent call last)",
      "\u001b[0;32mpomegranate/bayes.pyx\u001b[0m in \u001b[0;36mpomegranate.bayes.BayesModel.from_summaries\u001b[0;34m()\u001b[0m\n",
      "\u001b[0;32mpomegranate/distributions.pyx\u001b[0m in \u001b[0;36mpomegranate.distributions.MultivariateGaussianDistribution.from_summaries\u001b[0;34m()\u001b[0m\n",
      "\u001b[0;31mTypeError\u001b[0m: Cannot cast ufunc subtract output from dtype('complex128') to dtype('float64') with casting rule 'same_kind'"
     ]
    },
    {
     "name": "stderr",
     "output_type": "stream",
     "text": [
      "Exception ignored in: 'pomegranate.hmm.HiddenMarkovModel._from_summaries'\n",
      "Traceback (most recent call last):\n",
      "  File \"pomegranate/bayes.pyx\", line 710, in pomegranate.bayes.BayesModel.from_summaries\n",
      "  File \"pomegranate/distributions.pyx\", line 2259, in pomegranate.distributions.MultivariateGaussianDistribution.from_summaries\n",
      "TypeError: Cannot cast ufunc subtract output from dtype('complex128') to dtype('float64') with casting rule 'same_kind'\n"
     ]
    },
    {
     "name": "stdout",
     "output_type": "stream",
     "text": [
      "[9] Improvement: 0.3834380640182644\tTime (s): 537.4\n"
     ]
    },
    {
     "ename": "TypeError",
     "evalue": "Cannot cast ufunc subtract output from dtype('complex128') to dtype('float64') with casting rule 'same_kind'",
     "output_type": "error",
     "traceback": [
      "\u001b[0;31m---------------------------------------------------------------------------\u001b[0m",
      "\u001b[0;31mLinAlgError\u001b[0m                               Traceback (most recent call last)",
      "\u001b[0;32mpomegranate/distributions.pyx\u001b[0m in \u001b[0;36mpomegranate.distributions.MultivariateGaussianDistribution.from_summaries\u001b[0;34m()\u001b[0m\n",
      "\u001b[0;32m/usr/local/lib/python3.5/dist-packages/scipy/linalg/decomp_cholesky.py\u001b[0m in \u001b[0;36mcholesky\u001b[0;34m(a, lower, overwrite_a, check_finite)\u001b[0m\n\u001b[1;32m     80\u001b[0m     c, lower = _cholesky(a, lower=lower, overwrite_a=overwrite_a, clean=True,\n\u001b[0;32m---> 81\u001b[0;31m                             check_finite=check_finite)\n\u001b[0m\u001b[1;32m     82\u001b[0m     \u001b[0;32mreturn\u001b[0m \u001b[0mc\u001b[0m\u001b[0;34m\u001b[0m\u001b[0m\n",
      "\u001b[0;32m/usr/local/lib/python3.5/dist-packages/scipy/linalg/decomp_cholesky.py\u001b[0m in \u001b[0;36m_cholesky\u001b[0;34m(a, lower, overwrite_a, clean, check_finite)\u001b[0m\n\u001b[1;32m     29\u001b[0m     \u001b[0;32mif\u001b[0m \u001b[0minfo\u001b[0m \u001b[0;34m>\u001b[0m \u001b[0;36m0\u001b[0m\u001b[0;34m:\u001b[0m\u001b[0;34m\u001b[0m\u001b[0m\n\u001b[0;32m---> 30\u001b[0;31m         \u001b[0;32mraise\u001b[0m \u001b[0mLinAlgError\u001b[0m\u001b[0;34m(\u001b[0m\u001b[0;34m\"%d-th leading minor not positive definite\"\u001b[0m \u001b[0;34m%\u001b[0m \u001b[0minfo\u001b[0m\u001b[0;34m)\u001b[0m\u001b[0;34m\u001b[0m\u001b[0m\n\u001b[0m\u001b[1;32m     31\u001b[0m     \u001b[0;32mif\u001b[0m \u001b[0minfo\u001b[0m \u001b[0;34m<\u001b[0m \u001b[0;36m0\u001b[0m\u001b[0;34m:\u001b[0m\u001b[0;34m\u001b[0m\u001b[0m\n",
      "\u001b[0;31mLinAlgError\u001b[0m: 27-th leading minor not positive definite",
      "\nDuring handling of the above exception, another exception occurred:\n",
      "\u001b[0;31mTypeError\u001b[0m                                 Traceback (most recent call last)",
      "\u001b[0;32mpomegranate/bayes.pyx\u001b[0m in \u001b[0;36mpomegranate.bayes.BayesModel.from_summaries\u001b[0;34m()\u001b[0m\n",
      "\u001b[0;32mpomegranate/distributions.pyx\u001b[0m in \u001b[0;36mpomegranate.distributions.MultivariateGaussianDistribution.from_summaries\u001b[0;34m()\u001b[0m\n",
      "\u001b[0;31mTypeError\u001b[0m: Cannot cast ufunc subtract output from dtype('complex128') to dtype('float64') with casting rule 'same_kind'"
     ]
    },
    {
     "name": "stderr",
     "output_type": "stream",
     "text": [
      "Exception ignored in: 'pomegranate.hmm.HiddenMarkovModel._from_summaries'\n",
      "Traceback (most recent call last):\n",
      "  File \"pomegranate/bayes.pyx\", line 710, in pomegranate.bayes.BayesModel.from_summaries\n",
      "  File \"pomegranate/distributions.pyx\", line 2259, in pomegranate.distributions.MultivariateGaussianDistribution.from_summaries\n",
      "TypeError: Cannot cast ufunc subtract output from dtype('complex128') to dtype('float64') with casting rule 'same_kind'\n"
     ]
    },
    {
     "name": "stdout",
     "output_type": "stream",
     "text": [
      "[10] Improvement: 2261.235246648779\tTime (s): 535.2\n"
     ]
    },
    {
     "ename": "TypeError",
     "evalue": "Cannot cast ufunc subtract output from dtype('complex128') to dtype('float64') with casting rule 'same_kind'",
     "output_type": "error",
     "traceback": [
      "\u001b[0;31m---------------------------------------------------------------------------\u001b[0m",
      "\u001b[0;31mLinAlgError\u001b[0m                               Traceback (most recent call last)",
      "\u001b[0;32mpomegranate/distributions.pyx\u001b[0m in \u001b[0;36mpomegranate.distributions.MultivariateGaussianDistribution.from_summaries\u001b[0;34m()\u001b[0m\n",
      "\u001b[0;32m/usr/local/lib/python3.5/dist-packages/scipy/linalg/decomp_cholesky.py\u001b[0m in \u001b[0;36mcholesky\u001b[0;34m(a, lower, overwrite_a, check_finite)\u001b[0m\n\u001b[1;32m     80\u001b[0m     c, lower = _cholesky(a, lower=lower, overwrite_a=overwrite_a, clean=True,\n\u001b[0;32m---> 81\u001b[0;31m                             check_finite=check_finite)\n\u001b[0m\u001b[1;32m     82\u001b[0m     \u001b[0;32mreturn\u001b[0m \u001b[0mc\u001b[0m\u001b[0;34m\u001b[0m\u001b[0m\n",
      "\u001b[0;32m/usr/local/lib/python3.5/dist-packages/scipy/linalg/decomp_cholesky.py\u001b[0m in \u001b[0;36m_cholesky\u001b[0;34m(a, lower, overwrite_a, clean, check_finite)\u001b[0m\n\u001b[1;32m     29\u001b[0m     \u001b[0;32mif\u001b[0m \u001b[0minfo\u001b[0m \u001b[0;34m>\u001b[0m \u001b[0;36m0\u001b[0m\u001b[0;34m:\u001b[0m\u001b[0;34m\u001b[0m\u001b[0m\n\u001b[0;32m---> 30\u001b[0;31m         \u001b[0;32mraise\u001b[0m \u001b[0mLinAlgError\u001b[0m\u001b[0;34m(\u001b[0m\u001b[0;34m\"%d-th leading minor not positive definite\"\u001b[0m \u001b[0;34m%\u001b[0m \u001b[0minfo\u001b[0m\u001b[0;34m)\u001b[0m\u001b[0;34m\u001b[0m\u001b[0m\n\u001b[0m\u001b[1;32m     31\u001b[0m     \u001b[0;32mif\u001b[0m \u001b[0minfo\u001b[0m \u001b[0;34m<\u001b[0m \u001b[0;36m0\u001b[0m\u001b[0;34m:\u001b[0m\u001b[0;34m\u001b[0m\u001b[0m\n",
      "\u001b[0;31mLinAlgError\u001b[0m: 22-th leading minor not positive definite",
      "\nDuring handling of the above exception, another exception occurred:\n",
      "\u001b[0;31mTypeError\u001b[0m                                 Traceback (most recent call last)",
      "\u001b[0;32mpomegranate/bayes.pyx\u001b[0m in \u001b[0;36mpomegranate.bayes.BayesModel.from_summaries\u001b[0;34m()\u001b[0m\n",
      "\u001b[0;32mpomegranate/distributions.pyx\u001b[0m in \u001b[0;36mpomegranate.distributions.MultivariateGaussianDistribution.from_summaries\u001b[0;34m()\u001b[0m\n",
      "\u001b[0;31mTypeError\u001b[0m: Cannot cast ufunc subtract output from dtype('complex128') to dtype('float64') with casting rule 'same_kind'"
     ]
    },
    {
     "name": "stderr",
     "output_type": "stream",
     "text": [
      "Exception ignored in: 'pomegranate.hmm.HiddenMarkovModel._from_summaries'\n",
      "Traceback (most recent call last):\n",
      "  File \"pomegranate/bayes.pyx\", line 710, in pomegranate.bayes.BayesModel.from_summaries\n",
      "  File \"pomegranate/distributions.pyx\", line 2259, in pomegranate.distributions.MultivariateGaussianDistribution.from_summaries\n",
      "TypeError: Cannot cast ufunc subtract output from dtype('complex128') to dtype('float64') with casting rule 'same_kind'\n"
     ]
    },
    {
     "name": "stdout",
     "output_type": "stream",
     "text": [
      "[11] Improvement: 0.40921230893582106\tTime (s): 537.9\n"
     ]
    },
    {
     "ename": "TypeError",
     "evalue": "Cannot cast ufunc subtract output from dtype('complex128') to dtype('float64') with casting rule 'same_kind'",
     "output_type": "error",
     "traceback": [
      "\u001b[0;31m---------------------------------------------------------------------------\u001b[0m",
      "\u001b[0;31mLinAlgError\u001b[0m                               Traceback (most recent call last)",
      "\u001b[0;32mpomegranate/distributions.pyx\u001b[0m in \u001b[0;36mpomegranate.distributions.MultivariateGaussianDistribution.from_summaries\u001b[0;34m()\u001b[0m\n",
      "\u001b[0;32m/usr/local/lib/python3.5/dist-packages/scipy/linalg/decomp_cholesky.py\u001b[0m in \u001b[0;36mcholesky\u001b[0;34m(a, lower, overwrite_a, check_finite)\u001b[0m\n\u001b[1;32m     80\u001b[0m     c, lower = _cholesky(a, lower=lower, overwrite_a=overwrite_a, clean=True,\n\u001b[0;32m---> 81\u001b[0;31m                             check_finite=check_finite)\n\u001b[0m\u001b[1;32m     82\u001b[0m     \u001b[0;32mreturn\u001b[0m \u001b[0mc\u001b[0m\u001b[0;34m\u001b[0m\u001b[0m\n",
      "\u001b[0;32m/usr/local/lib/python3.5/dist-packages/scipy/linalg/decomp_cholesky.py\u001b[0m in \u001b[0;36m_cholesky\u001b[0;34m(a, lower, overwrite_a, clean, check_finite)\u001b[0m\n\u001b[1;32m     29\u001b[0m     \u001b[0;32mif\u001b[0m \u001b[0minfo\u001b[0m \u001b[0;34m>\u001b[0m \u001b[0;36m0\u001b[0m\u001b[0;34m:\u001b[0m\u001b[0;34m\u001b[0m\u001b[0m\n\u001b[0;32m---> 30\u001b[0;31m         \u001b[0;32mraise\u001b[0m \u001b[0mLinAlgError\u001b[0m\u001b[0;34m(\u001b[0m\u001b[0;34m\"%d-th leading minor not positive definite\"\u001b[0m \u001b[0;34m%\u001b[0m \u001b[0minfo\u001b[0m\u001b[0;34m)\u001b[0m\u001b[0;34m\u001b[0m\u001b[0m\n\u001b[0m\u001b[1;32m     31\u001b[0m     \u001b[0;32mif\u001b[0m \u001b[0minfo\u001b[0m \u001b[0;34m<\u001b[0m \u001b[0;36m0\u001b[0m\u001b[0;34m:\u001b[0m\u001b[0;34m\u001b[0m\u001b[0m\n",
      "\u001b[0;31mLinAlgError\u001b[0m: 22-th leading minor not positive definite",
      "\nDuring handling of the above exception, another exception occurred:\n",
      "\u001b[0;31mTypeError\u001b[0m                                 Traceback (most recent call last)",
      "\u001b[0;32mpomegranate/bayes.pyx\u001b[0m in \u001b[0;36mpomegranate.bayes.BayesModel.from_summaries\u001b[0;34m()\u001b[0m\n",
      "\u001b[0;32mpomegranate/distributions.pyx\u001b[0m in \u001b[0;36mpomegranate.distributions.MultivariateGaussianDistribution.from_summaries\u001b[0;34m()\u001b[0m\n",
      "\u001b[0;31mTypeError\u001b[0m: Cannot cast ufunc subtract output from dtype('complex128') to dtype('float64') with casting rule 'same_kind'"
     ]
    },
    {
     "name": "stderr",
     "output_type": "stream",
     "text": [
      "Exception ignored in: 'pomegranate.hmm.HiddenMarkovModel._from_summaries'\n",
      "Traceback (most recent call last):\n",
      "  File \"pomegranate/bayes.pyx\", line 710, in pomegranate.bayes.BayesModel.from_summaries\n",
      "  File \"pomegranate/distributions.pyx\", line 2259, in pomegranate.distributions.MultivariateGaussianDistribution.from_summaries\n",
      "TypeError: Cannot cast ufunc subtract output from dtype('complex128') to dtype('float64') with casting rule 'same_kind'\n"
     ]
    },
    {
     "name": "stdout",
     "output_type": "stream",
     "text": [
      "[12] Improvement: 0.3671781518496573\tTime (s): 539.7\n"
     ]
    },
    {
     "ename": "TypeError",
     "evalue": "Cannot cast ufunc subtract output from dtype('complex128') to dtype('float64') with casting rule 'same_kind'",
     "output_type": "error",
     "traceback": [
      "\u001b[0;31m---------------------------------------------------------------------------\u001b[0m",
      "\u001b[0;31mLinAlgError\u001b[0m                               Traceback (most recent call last)",
      "\u001b[0;32mpomegranate/distributions.pyx\u001b[0m in \u001b[0;36mpomegranate.distributions.MultivariateGaussianDistribution.from_summaries\u001b[0;34m()\u001b[0m\n",
      "\u001b[0;32m/usr/local/lib/python3.5/dist-packages/scipy/linalg/decomp_cholesky.py\u001b[0m in \u001b[0;36mcholesky\u001b[0;34m(a, lower, overwrite_a, check_finite)\u001b[0m\n\u001b[1;32m     80\u001b[0m     c, lower = _cholesky(a, lower=lower, overwrite_a=overwrite_a, clean=True,\n\u001b[0;32m---> 81\u001b[0;31m                             check_finite=check_finite)\n\u001b[0m\u001b[1;32m     82\u001b[0m     \u001b[0;32mreturn\u001b[0m \u001b[0mc\u001b[0m\u001b[0;34m\u001b[0m\u001b[0m\n",
      "\u001b[0;32m/usr/local/lib/python3.5/dist-packages/scipy/linalg/decomp_cholesky.py\u001b[0m in \u001b[0;36m_cholesky\u001b[0;34m(a, lower, overwrite_a, clean, check_finite)\u001b[0m\n\u001b[1;32m     29\u001b[0m     \u001b[0;32mif\u001b[0m \u001b[0minfo\u001b[0m \u001b[0;34m>\u001b[0m \u001b[0;36m0\u001b[0m\u001b[0;34m:\u001b[0m\u001b[0;34m\u001b[0m\u001b[0m\n\u001b[0;32m---> 30\u001b[0;31m         \u001b[0;32mraise\u001b[0m \u001b[0mLinAlgError\u001b[0m\u001b[0;34m(\u001b[0m\u001b[0;34m\"%d-th leading minor not positive definite\"\u001b[0m \u001b[0;34m%\u001b[0m \u001b[0minfo\u001b[0m\u001b[0;34m)\u001b[0m\u001b[0;34m\u001b[0m\u001b[0m\n\u001b[0m\u001b[1;32m     31\u001b[0m     \u001b[0;32mif\u001b[0m \u001b[0minfo\u001b[0m \u001b[0;34m<\u001b[0m \u001b[0;36m0\u001b[0m\u001b[0;34m:\u001b[0m\u001b[0;34m\u001b[0m\u001b[0m\n",
      "\u001b[0;31mLinAlgError\u001b[0m: 24-th leading minor not positive definite",
      "\nDuring handling of the above exception, another exception occurred:\n",
      "\u001b[0;31mTypeError\u001b[0m                                 Traceback (most recent call last)",
      "\u001b[0;32mpomegranate/bayes.pyx\u001b[0m in \u001b[0;36mpomegranate.bayes.BayesModel.from_summaries\u001b[0;34m()\u001b[0m\n",
      "\u001b[0;32mpomegranate/distributions.pyx\u001b[0m in \u001b[0;36mpomegranate.distributions.MultivariateGaussianDistribution.from_summaries\u001b[0;34m()\u001b[0m\n",
      "\u001b[0;31mTypeError\u001b[0m: Cannot cast ufunc subtract output from dtype('complex128') to dtype('float64') with casting rule 'same_kind'"
     ]
    },
    {
     "name": "stderr",
     "output_type": "stream",
     "text": [
      "Exception ignored in: 'pomegranate.hmm.HiddenMarkovModel._from_summaries'\n",
      "Traceback (most recent call last):\n",
      "  File \"pomegranate/bayes.pyx\", line 710, in pomegranate.bayes.BayesModel.from_summaries\n",
      "  File \"pomegranate/distributions.pyx\", line 2259, in pomegranate.distributions.MultivariateGaussianDistribution.from_summaries\n",
      "TypeError: Cannot cast ufunc subtract output from dtype('complex128') to dtype('float64') with casting rule 'same_kind'\n"
     ]
    },
    {
     "name": "stdout",
     "output_type": "stream",
     "text": [
      "[13] Improvement: 1.550668956944719\tTime (s): 539.5\n"
     ]
    },
    {
     "ename": "TypeError",
     "evalue": "Cannot cast ufunc subtract output from dtype('complex128') to dtype('float64') with casting rule 'same_kind'",
     "output_type": "error",
     "traceback": [
      "\u001b[0;31m---------------------------------------------------------------------------\u001b[0m",
      "\u001b[0;31mLinAlgError\u001b[0m                               Traceback (most recent call last)",
      "\u001b[0;32mpomegranate/distributions.pyx\u001b[0m in \u001b[0;36mpomegranate.distributions.MultivariateGaussianDistribution.from_summaries\u001b[0;34m()\u001b[0m\n",
      "\u001b[0;32m/usr/local/lib/python3.5/dist-packages/scipy/linalg/decomp_cholesky.py\u001b[0m in \u001b[0;36mcholesky\u001b[0;34m(a, lower, overwrite_a, check_finite)\u001b[0m\n\u001b[1;32m     80\u001b[0m     c, lower = _cholesky(a, lower=lower, overwrite_a=overwrite_a, clean=True,\n\u001b[0;32m---> 81\u001b[0;31m                             check_finite=check_finite)\n\u001b[0m\u001b[1;32m     82\u001b[0m     \u001b[0;32mreturn\u001b[0m \u001b[0mc\u001b[0m\u001b[0;34m\u001b[0m\u001b[0m\n",
      "\u001b[0;32m/usr/local/lib/python3.5/dist-packages/scipy/linalg/decomp_cholesky.py\u001b[0m in \u001b[0;36m_cholesky\u001b[0;34m(a, lower, overwrite_a, clean, check_finite)\u001b[0m\n\u001b[1;32m     29\u001b[0m     \u001b[0;32mif\u001b[0m \u001b[0minfo\u001b[0m \u001b[0;34m>\u001b[0m \u001b[0;36m0\u001b[0m\u001b[0;34m:\u001b[0m\u001b[0;34m\u001b[0m\u001b[0m\n\u001b[0;32m---> 30\u001b[0;31m         \u001b[0;32mraise\u001b[0m \u001b[0mLinAlgError\u001b[0m\u001b[0;34m(\u001b[0m\u001b[0;34m\"%d-th leading minor not positive definite\"\u001b[0m \u001b[0;34m%\u001b[0m \u001b[0minfo\u001b[0m\u001b[0;34m)\u001b[0m\u001b[0;34m\u001b[0m\u001b[0m\n\u001b[0m\u001b[1;32m     31\u001b[0m     \u001b[0;32mif\u001b[0m \u001b[0minfo\u001b[0m \u001b[0;34m<\u001b[0m \u001b[0;36m0\u001b[0m\u001b[0;34m:\u001b[0m\u001b[0;34m\u001b[0m\u001b[0m\n",
      "\u001b[0;31mLinAlgError\u001b[0m: 24-th leading minor not positive definite",
      "\nDuring handling of the above exception, another exception occurred:\n",
      "\u001b[0;31mTypeError\u001b[0m                                 Traceback (most recent call last)",
      "\u001b[0;32mpomegranate/bayes.pyx\u001b[0m in \u001b[0;36mpomegranate.bayes.BayesModel.from_summaries\u001b[0;34m()\u001b[0m\n",
      "\u001b[0;32mpomegranate/distributions.pyx\u001b[0m in \u001b[0;36mpomegranate.distributions.MultivariateGaussianDistribution.from_summaries\u001b[0;34m()\u001b[0m\n",
      "\u001b[0;31mTypeError\u001b[0m: Cannot cast ufunc subtract output from dtype('complex128') to dtype('float64') with casting rule 'same_kind'"
     ]
    },
    {
     "name": "stderr",
     "output_type": "stream",
     "text": [
      "Exception ignored in: 'pomegranate.hmm.HiddenMarkovModel._from_summaries'\n",
      "Traceback (most recent call last):\n",
      "  File \"pomegranate/bayes.pyx\", line 710, in pomegranate.bayes.BayesModel.from_summaries\n",
      "  File \"pomegranate/distributions.pyx\", line 2259, in pomegranate.distributions.MultivariateGaussianDistribution.from_summaries\n",
      "TypeError: Cannot cast ufunc subtract output from dtype('complex128') to dtype('float64') with casting rule 'same_kind'\n"
     ]
    },
    {
     "name": "stdout",
     "output_type": "stream",
     "text": [
      "[14] Improvement: 6.940896178362891\tTime (s): 536.8\n"
     ]
    },
    {
     "ename": "TypeError",
     "evalue": "Cannot cast ufunc subtract output from dtype('complex128') to dtype('float64') with casting rule 'same_kind'",
     "output_type": "error",
     "traceback": [
      "\u001b[0;31m---------------------------------------------------------------------------\u001b[0m",
      "\u001b[0;31mLinAlgError\u001b[0m                               Traceback (most recent call last)",
      "\u001b[0;32mpomegranate/distributions.pyx\u001b[0m in \u001b[0;36mpomegranate.distributions.MultivariateGaussianDistribution.from_summaries\u001b[0;34m()\u001b[0m\n",
      "\u001b[0;32m/usr/local/lib/python3.5/dist-packages/scipy/linalg/decomp_cholesky.py\u001b[0m in \u001b[0;36mcholesky\u001b[0;34m(a, lower, overwrite_a, check_finite)\u001b[0m\n\u001b[1;32m     80\u001b[0m     c, lower = _cholesky(a, lower=lower, overwrite_a=overwrite_a, clean=True,\n\u001b[0;32m---> 81\u001b[0;31m                             check_finite=check_finite)\n\u001b[0m\u001b[1;32m     82\u001b[0m     \u001b[0;32mreturn\u001b[0m \u001b[0mc\u001b[0m\u001b[0;34m\u001b[0m\u001b[0m\n",
      "\u001b[0;32m/usr/local/lib/python3.5/dist-packages/scipy/linalg/decomp_cholesky.py\u001b[0m in \u001b[0;36m_cholesky\u001b[0;34m(a, lower, overwrite_a, clean, check_finite)\u001b[0m\n\u001b[1;32m     29\u001b[0m     \u001b[0;32mif\u001b[0m \u001b[0minfo\u001b[0m \u001b[0;34m>\u001b[0m \u001b[0;36m0\u001b[0m\u001b[0;34m:\u001b[0m\u001b[0;34m\u001b[0m\u001b[0m\n\u001b[0;32m---> 30\u001b[0;31m         \u001b[0;32mraise\u001b[0m \u001b[0mLinAlgError\u001b[0m\u001b[0;34m(\u001b[0m\u001b[0;34m\"%d-th leading minor not positive definite\"\u001b[0m \u001b[0;34m%\u001b[0m \u001b[0minfo\u001b[0m\u001b[0;34m)\u001b[0m\u001b[0;34m\u001b[0m\u001b[0m\n\u001b[0m\u001b[1;32m     31\u001b[0m     \u001b[0;32mif\u001b[0m \u001b[0minfo\u001b[0m \u001b[0;34m<\u001b[0m \u001b[0;36m0\u001b[0m\u001b[0;34m:\u001b[0m\u001b[0;34m\u001b[0m\u001b[0m\n",
      "\u001b[0;31mLinAlgError\u001b[0m: 24-th leading minor not positive definite",
      "\nDuring handling of the above exception, another exception occurred:\n",
      "\u001b[0;31mTypeError\u001b[0m                                 Traceback (most recent call last)",
      "\u001b[0;32mpomegranate/bayes.pyx\u001b[0m in \u001b[0;36mpomegranate.bayes.BayesModel.from_summaries\u001b[0;34m()\u001b[0m\n",
      "\u001b[0;32mpomegranate/distributions.pyx\u001b[0m in \u001b[0;36mpomegranate.distributions.MultivariateGaussianDistribution.from_summaries\u001b[0;34m()\u001b[0m\n",
      "\u001b[0;31mTypeError\u001b[0m: Cannot cast ufunc subtract output from dtype('complex128') to dtype('float64') with casting rule 'same_kind'"
     ]
    },
    {
     "name": "stderr",
     "output_type": "stream",
     "text": [
      "Exception ignored in: 'pomegranate.hmm.HiddenMarkovModel._from_summaries'\n",
      "Traceback (most recent call last):\n",
      "  File \"pomegranate/bayes.pyx\", line 710, in pomegranate.bayes.BayesModel.from_summaries\n",
      "  File \"pomegranate/distributions.pyx\", line 2259, in pomegranate.distributions.MultivariateGaussianDistribution.from_summaries\n",
      "TypeError: Cannot cast ufunc subtract output from dtype('complex128') to dtype('float64') with casting rule 'same_kind'\n"
     ]
    },
    {
     "name": "stdout",
     "output_type": "stream",
     "text": [
      "[15] Improvement: 23.50617057411\tTime (s): 529.4\n"
     ]
    },
    {
     "ename": "TypeError",
     "evalue": "Cannot cast ufunc subtract output from dtype('complex128') to dtype('float64') with casting rule 'same_kind'",
     "output_type": "error",
     "traceback": [
      "\u001b[0;31m---------------------------------------------------------------------------\u001b[0m",
      "\u001b[0;31mLinAlgError\u001b[0m                               Traceback (most recent call last)",
      "\u001b[0;32mpomegranate/distributions.pyx\u001b[0m in \u001b[0;36mpomegranate.distributions.MultivariateGaussianDistribution.from_summaries\u001b[0;34m()\u001b[0m\n",
      "\u001b[0;32m/usr/local/lib/python3.5/dist-packages/scipy/linalg/decomp_cholesky.py\u001b[0m in \u001b[0;36mcholesky\u001b[0;34m(a, lower, overwrite_a, check_finite)\u001b[0m\n\u001b[1;32m     80\u001b[0m     c, lower = _cholesky(a, lower=lower, overwrite_a=overwrite_a, clean=True,\n\u001b[0;32m---> 81\u001b[0;31m                             check_finite=check_finite)\n\u001b[0m\u001b[1;32m     82\u001b[0m     \u001b[0;32mreturn\u001b[0m \u001b[0mc\u001b[0m\u001b[0;34m\u001b[0m\u001b[0m\n",
      "\u001b[0;32m/usr/local/lib/python3.5/dist-packages/scipy/linalg/decomp_cholesky.py\u001b[0m in \u001b[0;36m_cholesky\u001b[0;34m(a, lower, overwrite_a, clean, check_finite)\u001b[0m\n\u001b[1;32m     29\u001b[0m     \u001b[0;32mif\u001b[0m \u001b[0minfo\u001b[0m \u001b[0;34m>\u001b[0m \u001b[0;36m0\u001b[0m\u001b[0;34m:\u001b[0m\u001b[0;34m\u001b[0m\u001b[0m\n\u001b[0;32m---> 30\u001b[0;31m         \u001b[0;32mraise\u001b[0m \u001b[0mLinAlgError\u001b[0m\u001b[0;34m(\u001b[0m\u001b[0;34m\"%d-th leading minor not positive definite\"\u001b[0m \u001b[0;34m%\u001b[0m \u001b[0minfo\u001b[0m\u001b[0;34m)\u001b[0m\u001b[0;34m\u001b[0m\u001b[0m\n\u001b[0m\u001b[1;32m     31\u001b[0m     \u001b[0;32mif\u001b[0m \u001b[0minfo\u001b[0m \u001b[0;34m<\u001b[0m \u001b[0;36m0\u001b[0m\u001b[0;34m:\u001b[0m\u001b[0;34m\u001b[0m\u001b[0m\n",
      "\u001b[0;31mLinAlgError\u001b[0m: 23-th leading minor not positive definite",
      "\nDuring handling of the above exception, another exception occurred:\n",
      "\u001b[0;31mTypeError\u001b[0m                                 Traceback (most recent call last)",
      "\u001b[0;32mpomegranate/bayes.pyx\u001b[0m in \u001b[0;36mpomegranate.bayes.BayesModel.from_summaries\u001b[0;34m()\u001b[0m\n",
      "\u001b[0;32mpomegranate/distributions.pyx\u001b[0m in \u001b[0;36mpomegranate.distributions.MultivariateGaussianDistribution.from_summaries\u001b[0;34m()\u001b[0m\n",
      "\u001b[0;31mTypeError\u001b[0m: Cannot cast ufunc subtract output from dtype('complex128') to dtype('float64') with casting rule 'same_kind'"
     ]
    },
    {
     "name": "stderr",
     "output_type": "stream",
     "text": [
      "Exception ignored in: 'pomegranate.hmm.HiddenMarkovModel._from_summaries'\n",
      "Traceback (most recent call last):\n",
      "  File \"pomegranate/bayes.pyx\", line 710, in pomegranate.bayes.BayesModel.from_summaries\n",
      "  File \"pomegranate/distributions.pyx\", line 2259, in pomegranate.distributions.MultivariateGaussianDistribution.from_summaries\n",
      "TypeError: Cannot cast ufunc subtract output from dtype('complex128') to dtype('float64') with casting rule 'same_kind'\n"
     ]
    },
    {
     "name": "stdout",
     "output_type": "stream",
     "text": [
      "[16] Improvement: 16.49457749002613\tTime (s): 542.3\n"
     ]
    },
    {
     "ename": "TypeError",
     "evalue": "Cannot cast ufunc subtract output from dtype('complex128') to dtype('float64') with casting rule 'same_kind'",
     "output_type": "error",
     "traceback": [
      "\u001b[0;31m---------------------------------------------------------------------------\u001b[0m",
      "\u001b[0;31mLinAlgError\u001b[0m                               Traceback (most recent call last)",
      "\u001b[0;32mpomegranate/distributions.pyx\u001b[0m in \u001b[0;36mpomegranate.distributions.MultivariateGaussianDistribution.from_summaries\u001b[0;34m()\u001b[0m\n",
      "\u001b[0;32m/usr/local/lib/python3.5/dist-packages/scipy/linalg/decomp_cholesky.py\u001b[0m in \u001b[0;36mcholesky\u001b[0;34m(a, lower, overwrite_a, check_finite)\u001b[0m\n\u001b[1;32m     80\u001b[0m     c, lower = _cholesky(a, lower=lower, overwrite_a=overwrite_a, clean=True,\n\u001b[0;32m---> 81\u001b[0;31m                             check_finite=check_finite)\n\u001b[0m\u001b[1;32m     82\u001b[0m     \u001b[0;32mreturn\u001b[0m \u001b[0mc\u001b[0m\u001b[0;34m\u001b[0m\u001b[0m\n",
      "\u001b[0;32m/usr/local/lib/python3.5/dist-packages/scipy/linalg/decomp_cholesky.py\u001b[0m in \u001b[0;36m_cholesky\u001b[0;34m(a, lower, overwrite_a, clean, check_finite)\u001b[0m\n\u001b[1;32m     29\u001b[0m     \u001b[0;32mif\u001b[0m \u001b[0minfo\u001b[0m \u001b[0;34m>\u001b[0m \u001b[0;36m0\u001b[0m\u001b[0;34m:\u001b[0m\u001b[0;34m\u001b[0m\u001b[0m\n\u001b[0;32m---> 30\u001b[0;31m         \u001b[0;32mraise\u001b[0m \u001b[0mLinAlgError\u001b[0m\u001b[0;34m(\u001b[0m\u001b[0;34m\"%d-th leading minor not positive definite\"\u001b[0m \u001b[0;34m%\u001b[0m \u001b[0minfo\u001b[0m\u001b[0;34m)\u001b[0m\u001b[0;34m\u001b[0m\u001b[0m\n\u001b[0m\u001b[1;32m     31\u001b[0m     \u001b[0;32mif\u001b[0m \u001b[0minfo\u001b[0m \u001b[0;34m<\u001b[0m \u001b[0;36m0\u001b[0m\u001b[0;34m:\u001b[0m\u001b[0;34m\u001b[0m\u001b[0m\n",
      "\u001b[0;31mLinAlgError\u001b[0m: 23-th leading minor not positive definite",
      "\nDuring handling of the above exception, another exception occurred:\n",
      "\u001b[0;31mTypeError\u001b[0m                                 Traceback (most recent call last)",
      "\u001b[0;32mpomegranate/bayes.pyx\u001b[0m in \u001b[0;36mpomegranate.bayes.BayesModel.from_summaries\u001b[0;34m()\u001b[0m\n",
      "\u001b[0;32mpomegranate/distributions.pyx\u001b[0m in \u001b[0;36mpomegranate.distributions.MultivariateGaussianDistribution.from_summaries\u001b[0;34m()\u001b[0m\n",
      "\u001b[0;31mTypeError\u001b[0m: Cannot cast ufunc subtract output from dtype('complex128') to dtype('float64') with casting rule 'same_kind'"
     ]
    },
    {
     "name": "stderr",
     "output_type": "stream",
     "text": [
      "Exception ignored in: 'pomegranate.hmm.HiddenMarkovModel._from_summaries'\n",
      "Traceback (most recent call last):\n",
      "  File \"pomegranate/bayes.pyx\", line 710, in pomegranate.bayes.BayesModel.from_summaries\n",
      "  File \"pomegranate/distributions.pyx\", line 2259, in pomegranate.distributions.MultivariateGaussianDistribution.from_summaries\n",
      "TypeError: Cannot cast ufunc subtract output from dtype('complex128') to dtype('float64') with casting rule 'same_kind'\n"
     ]
    },
    {
     "name": "stdout",
     "output_type": "stream",
     "text": [
      "[17] Improvement: 4.811783917946741\tTime (s): 534.2\n"
     ]
    },
    {
     "ename": "TypeError",
     "evalue": "Cannot cast ufunc subtract output from dtype('complex128') to dtype('float64') with casting rule 'same_kind'",
     "output_type": "error",
     "traceback": [
      "\u001b[0;31m---------------------------------------------------------------------------\u001b[0m",
      "\u001b[0;31mLinAlgError\u001b[0m                               Traceback (most recent call last)",
      "\u001b[0;32mpomegranate/distributions.pyx\u001b[0m in \u001b[0;36mpomegranate.distributions.MultivariateGaussianDistribution.from_summaries\u001b[0;34m()\u001b[0m\n",
      "\u001b[0;32m/usr/local/lib/python3.5/dist-packages/scipy/linalg/decomp_cholesky.py\u001b[0m in \u001b[0;36mcholesky\u001b[0;34m(a, lower, overwrite_a, check_finite)\u001b[0m\n\u001b[1;32m     80\u001b[0m     c, lower = _cholesky(a, lower=lower, overwrite_a=overwrite_a, clean=True,\n\u001b[0;32m---> 81\u001b[0;31m                             check_finite=check_finite)\n\u001b[0m\u001b[1;32m     82\u001b[0m     \u001b[0;32mreturn\u001b[0m \u001b[0mc\u001b[0m\u001b[0;34m\u001b[0m\u001b[0m\n",
      "\u001b[0;32m/usr/local/lib/python3.5/dist-packages/scipy/linalg/decomp_cholesky.py\u001b[0m in \u001b[0;36m_cholesky\u001b[0;34m(a, lower, overwrite_a, clean, check_finite)\u001b[0m\n\u001b[1;32m     29\u001b[0m     \u001b[0;32mif\u001b[0m \u001b[0minfo\u001b[0m \u001b[0;34m>\u001b[0m \u001b[0;36m0\u001b[0m\u001b[0;34m:\u001b[0m\u001b[0;34m\u001b[0m\u001b[0m\n\u001b[0;32m---> 30\u001b[0;31m         \u001b[0;32mraise\u001b[0m \u001b[0mLinAlgError\u001b[0m\u001b[0;34m(\u001b[0m\u001b[0;34m\"%d-th leading minor not positive definite\"\u001b[0m \u001b[0;34m%\u001b[0m \u001b[0minfo\u001b[0m\u001b[0;34m)\u001b[0m\u001b[0;34m\u001b[0m\u001b[0m\n\u001b[0m\u001b[1;32m     31\u001b[0m     \u001b[0;32mif\u001b[0m \u001b[0minfo\u001b[0m \u001b[0;34m<\u001b[0m \u001b[0;36m0\u001b[0m\u001b[0;34m:\u001b[0m\u001b[0;34m\u001b[0m\u001b[0m\n",
      "\u001b[0;31mLinAlgError\u001b[0m: 23-th leading minor not positive definite",
      "\nDuring handling of the above exception, another exception occurred:\n",
      "\u001b[0;31mTypeError\u001b[0m                                 Traceback (most recent call last)",
      "\u001b[0;32mpomegranate/bayes.pyx\u001b[0m in \u001b[0;36mpomegranate.bayes.BayesModel.from_summaries\u001b[0;34m()\u001b[0m\n",
      "\u001b[0;32mpomegranate/distributions.pyx\u001b[0m in \u001b[0;36mpomegranate.distributions.MultivariateGaussianDistribution.from_summaries\u001b[0;34m()\u001b[0m\n",
      "\u001b[0;31mTypeError\u001b[0m: Cannot cast ufunc subtract output from dtype('complex128') to dtype('float64') with casting rule 'same_kind'"
     ]
    },
    {
     "name": "stderr",
     "output_type": "stream",
     "text": [
      "Exception ignored in: 'pomegranate.hmm.HiddenMarkovModel._from_summaries'\n",
      "Traceback (most recent call last):\n",
      "  File \"pomegranate/bayes.pyx\", line 710, in pomegranate.bayes.BayesModel.from_summaries\n",
      "  File \"pomegranate/distributions.pyx\", line 2259, in pomegranate.distributions.MultivariateGaussianDistribution.from_summaries\n",
      "TypeError: Cannot cast ufunc subtract output from dtype('complex128') to dtype('float64') with casting rule 'same_kind'\n"
     ]
    },
    {
     "name": "stdout",
     "output_type": "stream",
     "text": [
      "[18] Improvement: 8.078985502710566\tTime (s): 534.7\n"
     ]
    },
    {
     "ename": "TypeError",
     "evalue": "Cannot cast ufunc subtract output from dtype('complex128') to dtype('float64') with casting rule 'same_kind'",
     "output_type": "error",
     "traceback": [
      "\u001b[0;31m---------------------------------------------------------------------------\u001b[0m",
      "\u001b[0;31mLinAlgError\u001b[0m                               Traceback (most recent call last)",
      "\u001b[0;32mpomegranate/distributions.pyx\u001b[0m in \u001b[0;36mpomegranate.distributions.MultivariateGaussianDistribution.from_summaries\u001b[0;34m()\u001b[0m\n",
      "\u001b[0;32m/usr/local/lib/python3.5/dist-packages/scipy/linalg/decomp_cholesky.py\u001b[0m in \u001b[0;36mcholesky\u001b[0;34m(a, lower, overwrite_a, check_finite)\u001b[0m\n\u001b[1;32m     80\u001b[0m     c, lower = _cholesky(a, lower=lower, overwrite_a=overwrite_a, clean=True,\n\u001b[0;32m---> 81\u001b[0;31m                             check_finite=check_finite)\n\u001b[0m\u001b[1;32m     82\u001b[0m     \u001b[0;32mreturn\u001b[0m \u001b[0mc\u001b[0m\u001b[0;34m\u001b[0m\u001b[0m\n",
      "\u001b[0;32m/usr/local/lib/python3.5/dist-packages/scipy/linalg/decomp_cholesky.py\u001b[0m in \u001b[0;36m_cholesky\u001b[0;34m(a, lower, overwrite_a, clean, check_finite)\u001b[0m\n\u001b[1;32m     29\u001b[0m     \u001b[0;32mif\u001b[0m \u001b[0minfo\u001b[0m \u001b[0;34m>\u001b[0m \u001b[0;36m0\u001b[0m\u001b[0;34m:\u001b[0m\u001b[0;34m\u001b[0m\u001b[0m\n\u001b[0;32m---> 30\u001b[0;31m         \u001b[0;32mraise\u001b[0m \u001b[0mLinAlgError\u001b[0m\u001b[0;34m(\u001b[0m\u001b[0;34m\"%d-th leading minor not positive definite\"\u001b[0m \u001b[0;34m%\u001b[0m \u001b[0minfo\u001b[0m\u001b[0;34m)\u001b[0m\u001b[0;34m\u001b[0m\u001b[0m\n\u001b[0m\u001b[1;32m     31\u001b[0m     \u001b[0;32mif\u001b[0m \u001b[0minfo\u001b[0m \u001b[0;34m<\u001b[0m \u001b[0;36m0\u001b[0m\u001b[0;34m:\u001b[0m\u001b[0;34m\u001b[0m\u001b[0m\n",
      "\u001b[0;31mLinAlgError\u001b[0m: 24-th leading minor not positive definite",
      "\nDuring handling of the above exception, another exception occurred:\n",
      "\u001b[0;31mTypeError\u001b[0m                                 Traceback (most recent call last)",
      "\u001b[0;32mpomegranate/bayes.pyx\u001b[0m in \u001b[0;36mpomegranate.bayes.BayesModel.from_summaries\u001b[0;34m()\u001b[0m\n",
      "\u001b[0;32mpomegranate/distributions.pyx\u001b[0m in \u001b[0;36mpomegranate.distributions.MultivariateGaussianDistribution.from_summaries\u001b[0;34m()\u001b[0m\n",
      "\u001b[0;31mTypeError\u001b[0m: Cannot cast ufunc subtract output from dtype('complex128') to dtype('float64') with casting rule 'same_kind'"
     ]
    },
    {
     "name": "stderr",
     "output_type": "stream",
     "text": [
      "Exception ignored in: 'pomegranate.hmm.HiddenMarkovModel._from_summaries'\n",
      "Traceback (most recent call last):\n",
      "  File \"pomegranate/bayes.pyx\", line 710, in pomegranate.bayes.BayesModel.from_summaries\n",
      "  File \"pomegranate/distributions.pyx\", line 2259, in pomegranate.distributions.MultivariateGaussianDistribution.from_summaries\n",
      "TypeError: Cannot cast ufunc subtract output from dtype('complex128') to dtype('float64') with casting rule 'same_kind'\n"
     ]
    },
    {
     "name": "stdout",
     "output_type": "stream",
     "text": [
      "[19] Improvement: 104.82299938937649\tTime (s): 529.4\n"
     ]
    },
    {
     "ename": "TypeError",
     "evalue": "Cannot cast ufunc subtract output from dtype('complex128') to dtype('float64') with casting rule 'same_kind'",
     "output_type": "error",
     "traceback": [
      "\u001b[0;31m---------------------------------------------------------------------------\u001b[0m",
      "\u001b[0;31mLinAlgError\u001b[0m                               Traceback (most recent call last)",
      "\u001b[0;32mpomegranate/distributions.pyx\u001b[0m in \u001b[0;36mpomegranate.distributions.MultivariateGaussianDistribution.from_summaries\u001b[0;34m()\u001b[0m\n",
      "\u001b[0;32m/usr/local/lib/python3.5/dist-packages/scipy/linalg/decomp_cholesky.py\u001b[0m in \u001b[0;36mcholesky\u001b[0;34m(a, lower, overwrite_a, check_finite)\u001b[0m\n\u001b[1;32m     80\u001b[0m     c, lower = _cholesky(a, lower=lower, overwrite_a=overwrite_a, clean=True,\n\u001b[0;32m---> 81\u001b[0;31m                             check_finite=check_finite)\n\u001b[0m\u001b[1;32m     82\u001b[0m     \u001b[0;32mreturn\u001b[0m \u001b[0mc\u001b[0m\u001b[0;34m\u001b[0m\u001b[0m\n",
      "\u001b[0;32m/usr/local/lib/python3.5/dist-packages/scipy/linalg/decomp_cholesky.py\u001b[0m in \u001b[0;36m_cholesky\u001b[0;34m(a, lower, overwrite_a, clean, check_finite)\u001b[0m\n\u001b[1;32m     29\u001b[0m     \u001b[0;32mif\u001b[0m \u001b[0minfo\u001b[0m \u001b[0;34m>\u001b[0m \u001b[0;36m0\u001b[0m\u001b[0;34m:\u001b[0m\u001b[0;34m\u001b[0m\u001b[0m\n\u001b[0;32m---> 30\u001b[0;31m         \u001b[0;32mraise\u001b[0m \u001b[0mLinAlgError\u001b[0m\u001b[0;34m(\u001b[0m\u001b[0;34m\"%d-th leading minor not positive definite\"\u001b[0m \u001b[0;34m%\u001b[0m \u001b[0minfo\u001b[0m\u001b[0;34m)\u001b[0m\u001b[0;34m\u001b[0m\u001b[0m\n\u001b[0m\u001b[1;32m     31\u001b[0m     \u001b[0;32mif\u001b[0m \u001b[0minfo\u001b[0m \u001b[0;34m<\u001b[0m \u001b[0;36m0\u001b[0m\u001b[0;34m:\u001b[0m\u001b[0;34m\u001b[0m\u001b[0m\n",
      "\u001b[0;31mLinAlgError\u001b[0m: 24-th leading minor not positive definite",
      "\nDuring handling of the above exception, another exception occurred:\n",
      "\u001b[0;31mTypeError\u001b[0m                                 Traceback (most recent call last)",
      "\u001b[0;32mpomegranate/bayes.pyx\u001b[0m in \u001b[0;36mpomegranate.bayes.BayesModel.from_summaries\u001b[0;34m()\u001b[0m\n",
      "\u001b[0;32mpomegranate/distributions.pyx\u001b[0m in \u001b[0;36mpomegranate.distributions.MultivariateGaussianDistribution.from_summaries\u001b[0;34m()\u001b[0m\n",
      "\u001b[0;31mTypeError\u001b[0m: Cannot cast ufunc subtract output from dtype('complex128') to dtype('float64') with casting rule 'same_kind'"
     ]
    },
    {
     "name": "stderr",
     "output_type": "stream",
     "text": [
      "Exception ignored in: 'pomegranate.hmm.HiddenMarkovModel._from_summaries'\n",
      "Traceback (most recent call last):\n",
      "  File \"pomegranate/bayes.pyx\", line 710, in pomegranate.bayes.BayesModel.from_summaries\n",
      "  File \"pomegranate/distributions.pyx\", line 2259, in pomegranate.distributions.MultivariateGaussianDistribution.from_summaries\n",
      "TypeError: Cannot cast ufunc subtract output from dtype('complex128') to dtype('float64') with casting rule 'same_kind'\n"
     ]
    },
    {
     "name": "stdout",
     "output_type": "stream",
     "text": [
      "[20] Improvement: 29.019449810730293\tTime (s): 541.0\n"
     ]
    },
    {
     "ename": "TypeError",
     "evalue": "Cannot cast ufunc subtract output from dtype('complex128') to dtype('float64') with casting rule 'same_kind'",
     "output_type": "error",
     "traceback": [
      "\u001b[0;31m---------------------------------------------------------------------------\u001b[0m",
      "\u001b[0;31mLinAlgError\u001b[0m                               Traceback (most recent call last)",
      "\u001b[0;32mpomegranate/distributions.pyx\u001b[0m in \u001b[0;36mpomegranate.distributions.MultivariateGaussianDistribution.from_summaries\u001b[0;34m()\u001b[0m\n",
      "\u001b[0;32m/usr/local/lib/python3.5/dist-packages/scipy/linalg/decomp_cholesky.py\u001b[0m in \u001b[0;36mcholesky\u001b[0;34m(a, lower, overwrite_a, check_finite)\u001b[0m\n\u001b[1;32m     80\u001b[0m     c, lower = _cholesky(a, lower=lower, overwrite_a=overwrite_a, clean=True,\n\u001b[0;32m---> 81\u001b[0;31m                             check_finite=check_finite)\n\u001b[0m\u001b[1;32m     82\u001b[0m     \u001b[0;32mreturn\u001b[0m \u001b[0mc\u001b[0m\u001b[0;34m\u001b[0m\u001b[0m\n",
      "\u001b[0;32m/usr/local/lib/python3.5/dist-packages/scipy/linalg/decomp_cholesky.py\u001b[0m in \u001b[0;36m_cholesky\u001b[0;34m(a, lower, overwrite_a, clean, check_finite)\u001b[0m\n\u001b[1;32m     29\u001b[0m     \u001b[0;32mif\u001b[0m \u001b[0minfo\u001b[0m \u001b[0;34m>\u001b[0m \u001b[0;36m0\u001b[0m\u001b[0;34m:\u001b[0m\u001b[0;34m\u001b[0m\u001b[0m\n\u001b[0;32m---> 30\u001b[0;31m         \u001b[0;32mraise\u001b[0m \u001b[0mLinAlgError\u001b[0m\u001b[0;34m(\u001b[0m\u001b[0;34m\"%d-th leading minor not positive definite\"\u001b[0m \u001b[0;34m%\u001b[0m \u001b[0minfo\u001b[0m\u001b[0;34m)\u001b[0m\u001b[0;34m\u001b[0m\u001b[0m\n\u001b[0m\u001b[1;32m     31\u001b[0m     \u001b[0;32mif\u001b[0m \u001b[0minfo\u001b[0m \u001b[0;34m<\u001b[0m \u001b[0;36m0\u001b[0m\u001b[0;34m:\u001b[0m\u001b[0;34m\u001b[0m\u001b[0m\n",
      "\u001b[0;31mLinAlgError\u001b[0m: 26-th leading minor not positive definite",
      "\nDuring handling of the above exception, another exception occurred:\n",
      "\u001b[0;31mTypeError\u001b[0m                                 Traceback (most recent call last)",
      "\u001b[0;32mpomegranate/bayes.pyx\u001b[0m in \u001b[0;36mpomegranate.bayes.BayesModel.from_summaries\u001b[0;34m()\u001b[0m\n",
      "\u001b[0;32mpomegranate/distributions.pyx\u001b[0m in \u001b[0;36mpomegranate.distributions.MultivariateGaussianDistribution.from_summaries\u001b[0;34m()\u001b[0m\n",
      "\u001b[0;31mTypeError\u001b[0m: Cannot cast ufunc subtract output from dtype('complex128') to dtype('float64') with casting rule 'same_kind'"
     ]
    },
    {
     "name": "stderr",
     "output_type": "stream",
     "text": [
      "Exception ignored in: 'pomegranate.hmm.HiddenMarkovModel._from_summaries'\n",
      "Traceback (most recent call last):\n",
      "  File \"pomegranate/bayes.pyx\", line 710, in pomegranate.bayes.BayesModel.from_summaries\n",
      "  File \"pomegranate/distributions.pyx\", line 2259, in pomegranate.distributions.MultivariateGaussianDistribution.from_summaries\n",
      "TypeError: Cannot cast ufunc subtract output from dtype('complex128') to dtype('float64') with casting rule 'same_kind'\n"
     ]
    },
    {
     "name": "stdout",
     "output_type": "stream",
     "text": [
      "[21] Improvement: 0.1271849311888218\tTime (s): 531.6\n"
     ]
    },
    {
     "ename": "TypeError",
     "evalue": "Cannot cast ufunc subtract output from dtype('complex128') to dtype('float64') with casting rule 'same_kind'",
     "output_type": "error",
     "traceback": [
      "\u001b[0;31m---------------------------------------------------------------------------\u001b[0m",
      "\u001b[0;31mLinAlgError\u001b[0m                               Traceback (most recent call last)",
      "\u001b[0;32mpomegranate/distributions.pyx\u001b[0m in \u001b[0;36mpomegranate.distributions.MultivariateGaussianDistribution.from_summaries\u001b[0;34m()\u001b[0m\n",
      "\u001b[0;32m/usr/local/lib/python3.5/dist-packages/scipy/linalg/decomp_cholesky.py\u001b[0m in \u001b[0;36mcholesky\u001b[0;34m(a, lower, overwrite_a, check_finite)\u001b[0m\n\u001b[1;32m     80\u001b[0m     c, lower = _cholesky(a, lower=lower, overwrite_a=overwrite_a, clean=True,\n\u001b[0;32m---> 81\u001b[0;31m                             check_finite=check_finite)\n\u001b[0m\u001b[1;32m     82\u001b[0m     \u001b[0;32mreturn\u001b[0m \u001b[0mc\u001b[0m\u001b[0;34m\u001b[0m\u001b[0m\n",
      "\u001b[0;32m/usr/local/lib/python3.5/dist-packages/scipy/linalg/decomp_cholesky.py\u001b[0m in \u001b[0;36m_cholesky\u001b[0;34m(a, lower, overwrite_a, clean, check_finite)\u001b[0m\n\u001b[1;32m     29\u001b[0m     \u001b[0;32mif\u001b[0m \u001b[0minfo\u001b[0m \u001b[0;34m>\u001b[0m \u001b[0;36m0\u001b[0m\u001b[0;34m:\u001b[0m\u001b[0;34m\u001b[0m\u001b[0m\n\u001b[0;32m---> 30\u001b[0;31m         \u001b[0;32mraise\u001b[0m \u001b[0mLinAlgError\u001b[0m\u001b[0;34m(\u001b[0m\u001b[0;34m\"%d-th leading minor not positive definite\"\u001b[0m \u001b[0;34m%\u001b[0m \u001b[0minfo\u001b[0m\u001b[0;34m)\u001b[0m\u001b[0;34m\u001b[0m\u001b[0m\n\u001b[0m\u001b[1;32m     31\u001b[0m     \u001b[0;32mif\u001b[0m \u001b[0minfo\u001b[0m \u001b[0;34m<\u001b[0m \u001b[0;36m0\u001b[0m\u001b[0;34m:\u001b[0m\u001b[0;34m\u001b[0m\u001b[0m\n",
      "\u001b[0;31mLinAlgError\u001b[0m: 24-th leading minor not positive definite",
      "\nDuring handling of the above exception, another exception occurred:\n",
      "\u001b[0;31mTypeError\u001b[0m                                 Traceback (most recent call last)",
      "\u001b[0;32mpomegranate/bayes.pyx\u001b[0m in \u001b[0;36mpomegranate.bayes.BayesModel.from_summaries\u001b[0;34m()\u001b[0m\n",
      "\u001b[0;32mpomegranate/distributions.pyx\u001b[0m in \u001b[0;36mpomegranate.distributions.MultivariateGaussianDistribution.from_summaries\u001b[0;34m()\u001b[0m\n",
      "\u001b[0;31mTypeError\u001b[0m: Cannot cast ufunc subtract output from dtype('complex128') to dtype('float64') with casting rule 'same_kind'"
     ]
    },
    {
     "name": "stderr",
     "output_type": "stream",
     "text": [
      "Exception ignored in: 'pomegranate.hmm.HiddenMarkovModel._from_summaries'\n",
      "Traceback (most recent call last):\n",
      "  File \"pomegranate/bayes.pyx\", line 710, in pomegranate.bayes.BayesModel.from_summaries\n",
      "  File \"pomegranate/distributions.pyx\", line 2259, in pomegranate.distributions.MultivariateGaussianDistribution.from_summaries\n",
      "TypeError: Cannot cast ufunc subtract output from dtype('complex128') to dtype('float64') with casting rule 'same_kind'\n"
     ]
    },
    {
     "name": "stdout",
     "output_type": "stream",
     "text": [
      "[22] Improvement: 0.23255512560717762\tTime (s): 541.4\n"
     ]
    },
    {
     "ename": "TypeError",
     "evalue": "Cannot cast ufunc subtract output from dtype('complex128') to dtype('float64') with casting rule 'same_kind'",
     "output_type": "error",
     "traceback": [
      "\u001b[0;31m---------------------------------------------------------------------------\u001b[0m",
      "\u001b[0;31mLinAlgError\u001b[0m                               Traceback (most recent call last)",
      "\u001b[0;32mpomegranate/distributions.pyx\u001b[0m in \u001b[0;36mpomegranate.distributions.MultivariateGaussianDistribution.from_summaries\u001b[0;34m()\u001b[0m\n",
      "\u001b[0;32m/usr/local/lib/python3.5/dist-packages/scipy/linalg/decomp_cholesky.py\u001b[0m in \u001b[0;36mcholesky\u001b[0;34m(a, lower, overwrite_a, check_finite)\u001b[0m\n\u001b[1;32m     80\u001b[0m     c, lower = _cholesky(a, lower=lower, overwrite_a=overwrite_a, clean=True,\n\u001b[0;32m---> 81\u001b[0;31m                             check_finite=check_finite)\n\u001b[0m\u001b[1;32m     82\u001b[0m     \u001b[0;32mreturn\u001b[0m \u001b[0mc\u001b[0m\u001b[0;34m\u001b[0m\u001b[0m\n",
      "\u001b[0;32m/usr/local/lib/python3.5/dist-packages/scipy/linalg/decomp_cholesky.py\u001b[0m in \u001b[0;36m_cholesky\u001b[0;34m(a, lower, overwrite_a, clean, check_finite)\u001b[0m\n\u001b[1;32m     29\u001b[0m     \u001b[0;32mif\u001b[0m \u001b[0minfo\u001b[0m \u001b[0;34m>\u001b[0m \u001b[0;36m0\u001b[0m\u001b[0;34m:\u001b[0m\u001b[0;34m\u001b[0m\u001b[0m\n\u001b[0;32m---> 30\u001b[0;31m         \u001b[0;32mraise\u001b[0m \u001b[0mLinAlgError\u001b[0m\u001b[0;34m(\u001b[0m\u001b[0;34m\"%d-th leading minor not positive definite\"\u001b[0m \u001b[0;34m%\u001b[0m \u001b[0minfo\u001b[0m\u001b[0;34m)\u001b[0m\u001b[0;34m\u001b[0m\u001b[0m\n\u001b[0m\u001b[1;32m     31\u001b[0m     \u001b[0;32mif\u001b[0m \u001b[0minfo\u001b[0m \u001b[0;34m<\u001b[0m \u001b[0;36m0\u001b[0m\u001b[0;34m:\u001b[0m\u001b[0;34m\u001b[0m\u001b[0m\n",
      "\u001b[0;31mLinAlgError\u001b[0m: 24-th leading minor not positive definite",
      "\nDuring handling of the above exception, another exception occurred:\n",
      "\u001b[0;31mTypeError\u001b[0m                                 Traceback (most recent call last)",
      "\u001b[0;32mpomegranate/bayes.pyx\u001b[0m in \u001b[0;36mpomegranate.bayes.BayesModel.from_summaries\u001b[0;34m()\u001b[0m\n",
      "\u001b[0;32mpomegranate/distributions.pyx\u001b[0m in \u001b[0;36mpomegranate.distributions.MultivariateGaussianDistribution.from_summaries\u001b[0;34m()\u001b[0m\n",
      "\u001b[0;31mTypeError\u001b[0m: Cannot cast ufunc subtract output from dtype('complex128') to dtype('float64') with casting rule 'same_kind'"
     ]
    },
    {
     "name": "stderr",
     "output_type": "stream",
     "text": [
      "Exception ignored in: 'pomegranate.hmm.HiddenMarkovModel._from_summaries'\n",
      "Traceback (most recent call last):\n",
      "  File \"pomegranate/bayes.pyx\", line 710, in pomegranate.bayes.BayesModel.from_summaries\n",
      "  File \"pomegranate/distributions.pyx\", line 2259, in pomegranate.distributions.MultivariateGaussianDistribution.from_summaries\n",
      "TypeError: Cannot cast ufunc subtract output from dtype('complex128') to dtype('float64') with casting rule 'same_kind'\n"
     ]
    },
    {
     "name": "stdout",
     "output_type": "stream",
     "text": [
      "[23] Improvement: 0.8345558159053326\tTime (s): 538.8\n"
     ]
    },
    {
     "ename": "TypeError",
     "evalue": "Cannot cast ufunc subtract output from dtype('complex128') to dtype('float64') with casting rule 'same_kind'",
     "output_type": "error",
     "traceback": [
      "\u001b[0;31m---------------------------------------------------------------------------\u001b[0m",
      "\u001b[0;31mLinAlgError\u001b[0m                               Traceback (most recent call last)",
      "\u001b[0;32mpomegranate/distributions.pyx\u001b[0m in \u001b[0;36mpomegranate.distributions.MultivariateGaussianDistribution.from_summaries\u001b[0;34m()\u001b[0m\n",
      "\u001b[0;32m/usr/local/lib/python3.5/dist-packages/scipy/linalg/decomp_cholesky.py\u001b[0m in \u001b[0;36mcholesky\u001b[0;34m(a, lower, overwrite_a, check_finite)\u001b[0m\n\u001b[1;32m     80\u001b[0m     c, lower = _cholesky(a, lower=lower, overwrite_a=overwrite_a, clean=True,\n\u001b[0;32m---> 81\u001b[0;31m                             check_finite=check_finite)\n\u001b[0m\u001b[1;32m     82\u001b[0m     \u001b[0;32mreturn\u001b[0m \u001b[0mc\u001b[0m\u001b[0;34m\u001b[0m\u001b[0m\n",
      "\u001b[0;32m/usr/local/lib/python3.5/dist-packages/scipy/linalg/decomp_cholesky.py\u001b[0m in \u001b[0;36m_cholesky\u001b[0;34m(a, lower, overwrite_a, clean, check_finite)\u001b[0m\n\u001b[1;32m     29\u001b[0m     \u001b[0;32mif\u001b[0m \u001b[0minfo\u001b[0m \u001b[0;34m>\u001b[0m \u001b[0;36m0\u001b[0m\u001b[0;34m:\u001b[0m\u001b[0;34m\u001b[0m\u001b[0m\n\u001b[0;32m---> 30\u001b[0;31m         \u001b[0;32mraise\u001b[0m \u001b[0mLinAlgError\u001b[0m\u001b[0;34m(\u001b[0m\u001b[0;34m\"%d-th leading minor not positive definite\"\u001b[0m \u001b[0;34m%\u001b[0m \u001b[0minfo\u001b[0m\u001b[0;34m)\u001b[0m\u001b[0;34m\u001b[0m\u001b[0m\n\u001b[0m\u001b[1;32m     31\u001b[0m     \u001b[0;32mif\u001b[0m \u001b[0minfo\u001b[0m \u001b[0;34m<\u001b[0m \u001b[0;36m0\u001b[0m\u001b[0;34m:\u001b[0m\u001b[0;34m\u001b[0m\u001b[0m\n",
      "\u001b[0;31mLinAlgError\u001b[0m: 23-th leading minor not positive definite",
      "\nDuring handling of the above exception, another exception occurred:\n",
      "\u001b[0;31mTypeError\u001b[0m                                 Traceback (most recent call last)",
      "\u001b[0;32mpomegranate/bayes.pyx\u001b[0m in \u001b[0;36mpomegranate.bayes.BayesModel.from_summaries\u001b[0;34m()\u001b[0m\n",
      "\u001b[0;32mpomegranate/distributions.pyx\u001b[0m in \u001b[0;36mpomegranate.distributions.MultivariateGaussianDistribution.from_summaries\u001b[0;34m()\u001b[0m\n",
      "\u001b[0;31mTypeError\u001b[0m: Cannot cast ufunc subtract output from dtype('complex128') to dtype('float64') with casting rule 'same_kind'"
     ]
    },
    {
     "name": "stderr",
     "output_type": "stream",
     "text": [
      "Exception ignored in: 'pomegranate.hmm.HiddenMarkovModel._from_summaries'\n",
      "Traceback (most recent call last):\n",
      "  File \"pomegranate/bayes.pyx\", line 710, in pomegranate.bayes.BayesModel.from_summaries\n",
      "  File \"pomegranate/distributions.pyx\", line 2259, in pomegranate.distributions.MultivariateGaussianDistribution.from_summaries\n",
      "TypeError: Cannot cast ufunc subtract output from dtype('complex128') to dtype('float64') with casting rule 'same_kind'\n"
     ]
    },
    {
     "name": "stdout",
     "output_type": "stream",
     "text": [
      "[24] Improvement: 2.3695152981672436\tTime (s): 539.2\n"
     ]
    },
    {
     "ename": "TypeError",
     "evalue": "Cannot cast ufunc subtract output from dtype('complex128') to dtype('float64') with casting rule 'same_kind'",
     "output_type": "error",
     "traceback": [
      "\u001b[0;31m---------------------------------------------------------------------------\u001b[0m",
      "\u001b[0;31mLinAlgError\u001b[0m                               Traceback (most recent call last)",
      "\u001b[0;32mpomegranate/distributions.pyx\u001b[0m in \u001b[0;36mpomegranate.distributions.MultivariateGaussianDistribution.from_summaries\u001b[0;34m()\u001b[0m\n",
      "\u001b[0;32m/usr/local/lib/python3.5/dist-packages/scipy/linalg/decomp_cholesky.py\u001b[0m in \u001b[0;36mcholesky\u001b[0;34m(a, lower, overwrite_a, check_finite)\u001b[0m\n\u001b[1;32m     80\u001b[0m     c, lower = _cholesky(a, lower=lower, overwrite_a=overwrite_a, clean=True,\n\u001b[0;32m---> 81\u001b[0;31m                             check_finite=check_finite)\n\u001b[0m\u001b[1;32m     82\u001b[0m     \u001b[0;32mreturn\u001b[0m \u001b[0mc\u001b[0m\u001b[0;34m\u001b[0m\u001b[0m\n",
      "\u001b[0;32m/usr/local/lib/python3.5/dist-packages/scipy/linalg/decomp_cholesky.py\u001b[0m in \u001b[0;36m_cholesky\u001b[0;34m(a, lower, overwrite_a, clean, check_finite)\u001b[0m\n\u001b[1;32m     29\u001b[0m     \u001b[0;32mif\u001b[0m \u001b[0minfo\u001b[0m \u001b[0;34m>\u001b[0m \u001b[0;36m0\u001b[0m\u001b[0;34m:\u001b[0m\u001b[0;34m\u001b[0m\u001b[0m\n\u001b[0;32m---> 30\u001b[0;31m         \u001b[0;32mraise\u001b[0m \u001b[0mLinAlgError\u001b[0m\u001b[0;34m(\u001b[0m\u001b[0;34m\"%d-th leading minor not positive definite\"\u001b[0m \u001b[0;34m%\u001b[0m \u001b[0minfo\u001b[0m\u001b[0;34m)\u001b[0m\u001b[0;34m\u001b[0m\u001b[0m\n\u001b[0m\u001b[1;32m     31\u001b[0m     \u001b[0;32mif\u001b[0m \u001b[0minfo\u001b[0m \u001b[0;34m<\u001b[0m \u001b[0;36m0\u001b[0m\u001b[0;34m:\u001b[0m\u001b[0;34m\u001b[0m\u001b[0m\n",
      "\u001b[0;31mLinAlgError\u001b[0m: 23-th leading minor not positive definite",
      "\nDuring handling of the above exception, another exception occurred:\n",
      "\u001b[0;31mTypeError\u001b[0m                                 Traceback (most recent call last)",
      "\u001b[0;32mpomegranate/bayes.pyx\u001b[0m in \u001b[0;36mpomegranate.bayes.BayesModel.from_summaries\u001b[0;34m()\u001b[0m\n",
      "\u001b[0;32mpomegranate/distributions.pyx\u001b[0m in \u001b[0;36mpomegranate.distributions.MultivariateGaussianDistribution.from_summaries\u001b[0;34m()\u001b[0m\n",
      "\u001b[0;31mTypeError\u001b[0m: Cannot cast ufunc subtract output from dtype('complex128') to dtype('float64') with casting rule 'same_kind'"
     ]
    },
    {
     "name": "stderr",
     "output_type": "stream",
     "text": [
      "Exception ignored in: 'pomegranate.hmm.HiddenMarkovModel._from_summaries'\n",
      "Traceback (most recent call last):\n",
      "  File \"pomegranate/bayes.pyx\", line 710, in pomegranate.bayes.BayesModel.from_summaries\n",
      "  File \"pomegranate/distributions.pyx\", line 2259, in pomegranate.distributions.MultivariateGaussianDistribution.from_summaries\n",
      "TypeError: Cannot cast ufunc subtract output from dtype('complex128') to dtype('float64') with casting rule 'same_kind'\n"
     ]
    },
    {
     "name": "stdout",
     "output_type": "stream",
     "text": [
      "[25] Improvement: 3.544300872599706\tTime (s): 534.3\n"
     ]
    },
    {
     "ename": "TypeError",
     "evalue": "Cannot cast ufunc subtract output from dtype('complex128') to dtype('float64') with casting rule 'same_kind'",
     "output_type": "error",
     "traceback": [
      "\u001b[0;31m---------------------------------------------------------------------------\u001b[0m",
      "\u001b[0;31mLinAlgError\u001b[0m                               Traceback (most recent call last)",
      "\u001b[0;32mpomegranate/distributions.pyx\u001b[0m in \u001b[0;36mpomegranate.distributions.MultivariateGaussianDistribution.from_summaries\u001b[0;34m()\u001b[0m\n",
      "\u001b[0;32m/usr/local/lib/python3.5/dist-packages/scipy/linalg/decomp_cholesky.py\u001b[0m in \u001b[0;36mcholesky\u001b[0;34m(a, lower, overwrite_a, check_finite)\u001b[0m\n\u001b[1;32m     80\u001b[0m     c, lower = _cholesky(a, lower=lower, overwrite_a=overwrite_a, clean=True,\n\u001b[0;32m---> 81\u001b[0;31m                             check_finite=check_finite)\n\u001b[0m\u001b[1;32m     82\u001b[0m     \u001b[0;32mreturn\u001b[0m \u001b[0mc\u001b[0m\u001b[0;34m\u001b[0m\u001b[0m\n",
      "\u001b[0;32m/usr/local/lib/python3.5/dist-packages/scipy/linalg/decomp_cholesky.py\u001b[0m in \u001b[0;36m_cholesky\u001b[0;34m(a, lower, overwrite_a, clean, check_finite)\u001b[0m\n\u001b[1;32m     29\u001b[0m     \u001b[0;32mif\u001b[0m \u001b[0minfo\u001b[0m \u001b[0;34m>\u001b[0m \u001b[0;36m0\u001b[0m\u001b[0;34m:\u001b[0m\u001b[0;34m\u001b[0m\u001b[0m\n\u001b[0;32m---> 30\u001b[0;31m         \u001b[0;32mraise\u001b[0m \u001b[0mLinAlgError\u001b[0m\u001b[0;34m(\u001b[0m\u001b[0;34m\"%d-th leading minor not positive definite\"\u001b[0m \u001b[0;34m%\u001b[0m \u001b[0minfo\u001b[0m\u001b[0;34m)\u001b[0m\u001b[0;34m\u001b[0m\u001b[0m\n\u001b[0m\u001b[1;32m     31\u001b[0m     \u001b[0;32mif\u001b[0m \u001b[0minfo\u001b[0m \u001b[0;34m<\u001b[0m \u001b[0;36m0\u001b[0m\u001b[0;34m:\u001b[0m\u001b[0;34m\u001b[0m\u001b[0m\n",
      "\u001b[0;31mLinAlgError\u001b[0m: 23-th leading minor not positive definite",
      "\nDuring handling of the above exception, another exception occurred:\n",
      "\u001b[0;31mTypeError\u001b[0m                                 Traceback (most recent call last)",
      "\u001b[0;32mpomegranate/bayes.pyx\u001b[0m in \u001b[0;36mpomegranate.bayes.BayesModel.from_summaries\u001b[0;34m()\u001b[0m\n",
      "\u001b[0;32mpomegranate/distributions.pyx\u001b[0m in \u001b[0;36mpomegranate.distributions.MultivariateGaussianDistribution.from_summaries\u001b[0;34m()\u001b[0m\n",
      "\u001b[0;31mTypeError\u001b[0m: Cannot cast ufunc subtract output from dtype('complex128') to dtype('float64') with casting rule 'same_kind'"
     ]
    },
    {
     "name": "stderr",
     "output_type": "stream",
     "text": [
      "Exception ignored in: 'pomegranate.hmm.HiddenMarkovModel._from_summaries'\n",
      "Traceback (most recent call last):\n",
      "  File \"pomegranate/bayes.pyx\", line 710, in pomegranate.bayes.BayesModel.from_summaries\n",
      "  File \"pomegranate/distributions.pyx\", line 2259, in pomegranate.distributions.MultivariateGaussianDistribution.from_summaries\n",
      "TypeError: Cannot cast ufunc subtract output from dtype('complex128') to dtype('float64') with casting rule 'same_kind'\n"
     ]
    },
    {
     "name": "stdout",
     "output_type": "stream",
     "text": [
      "[26] Improvement: 1.4649938035290688\tTime (s): 536.8\n"
     ]
    },
    {
     "ename": "TypeError",
     "evalue": "Cannot cast ufunc subtract output from dtype('complex128') to dtype('float64') with casting rule 'same_kind'",
     "output_type": "error",
     "traceback": [
      "\u001b[0;31m---------------------------------------------------------------------------\u001b[0m",
      "\u001b[0;31mLinAlgError\u001b[0m                               Traceback (most recent call last)",
      "\u001b[0;32mpomegranate/distributions.pyx\u001b[0m in \u001b[0;36mpomegranate.distributions.MultivariateGaussianDistribution.from_summaries\u001b[0;34m()\u001b[0m\n",
      "\u001b[0;32m/usr/local/lib/python3.5/dist-packages/scipy/linalg/decomp_cholesky.py\u001b[0m in \u001b[0;36mcholesky\u001b[0;34m(a, lower, overwrite_a, check_finite)\u001b[0m\n\u001b[1;32m     80\u001b[0m     c, lower = _cholesky(a, lower=lower, overwrite_a=overwrite_a, clean=True,\n\u001b[0;32m---> 81\u001b[0;31m                             check_finite=check_finite)\n\u001b[0m\u001b[1;32m     82\u001b[0m     \u001b[0;32mreturn\u001b[0m \u001b[0mc\u001b[0m\u001b[0;34m\u001b[0m\u001b[0m\n",
      "\u001b[0;32m/usr/local/lib/python3.5/dist-packages/scipy/linalg/decomp_cholesky.py\u001b[0m in \u001b[0;36m_cholesky\u001b[0;34m(a, lower, overwrite_a, clean, check_finite)\u001b[0m\n\u001b[1;32m     29\u001b[0m     \u001b[0;32mif\u001b[0m \u001b[0minfo\u001b[0m \u001b[0;34m>\u001b[0m \u001b[0;36m0\u001b[0m\u001b[0;34m:\u001b[0m\u001b[0;34m\u001b[0m\u001b[0m\n\u001b[0;32m---> 30\u001b[0;31m         \u001b[0;32mraise\u001b[0m \u001b[0mLinAlgError\u001b[0m\u001b[0;34m(\u001b[0m\u001b[0;34m\"%d-th leading minor not positive definite\"\u001b[0m \u001b[0;34m%\u001b[0m \u001b[0minfo\u001b[0m\u001b[0;34m)\u001b[0m\u001b[0;34m\u001b[0m\u001b[0m\n\u001b[0m\u001b[1;32m     31\u001b[0m     \u001b[0;32mif\u001b[0m \u001b[0minfo\u001b[0m \u001b[0;34m<\u001b[0m \u001b[0;36m0\u001b[0m\u001b[0;34m:\u001b[0m\u001b[0;34m\u001b[0m\u001b[0m\n",
      "\u001b[0;31mLinAlgError\u001b[0m: 23-th leading minor not positive definite",
      "\nDuring handling of the above exception, another exception occurred:\n",
      "\u001b[0;31mTypeError\u001b[0m                                 Traceback (most recent call last)",
      "\u001b[0;32mpomegranate/bayes.pyx\u001b[0m in \u001b[0;36mpomegranate.bayes.BayesModel.from_summaries\u001b[0;34m()\u001b[0m\n",
      "\u001b[0;32mpomegranate/distributions.pyx\u001b[0m in \u001b[0;36mpomegranate.distributions.MultivariateGaussianDistribution.from_summaries\u001b[0;34m()\u001b[0m\n",
      "\u001b[0;31mTypeError\u001b[0m: Cannot cast ufunc subtract output from dtype('complex128') to dtype('float64') with casting rule 'same_kind'"
     ]
    },
    {
     "name": "stderr",
     "output_type": "stream",
     "text": [
      "Exception ignored in: 'pomegranate.hmm.HiddenMarkovModel._from_summaries'\n",
      "Traceback (most recent call last):\n",
      "  File \"pomegranate/bayes.pyx\", line 710, in pomegranate.bayes.BayesModel.from_summaries\n",
      "  File \"pomegranate/distributions.pyx\", line 2259, in pomegranate.distributions.MultivariateGaussianDistribution.from_summaries\n",
      "TypeError: Cannot cast ufunc subtract output from dtype('complex128') to dtype('float64') with casting rule 'same_kind'\n"
     ]
    },
    {
     "name": "stdout",
     "output_type": "stream",
     "text": [
      "[27] Improvement: 2.373902595601976\tTime (s): 540.3\n"
     ]
    },
    {
     "ename": "TypeError",
     "evalue": "Cannot cast ufunc subtract output from dtype('complex128') to dtype('float64') with casting rule 'same_kind'",
     "output_type": "error",
     "traceback": [
      "\u001b[0;31m---------------------------------------------------------------------------\u001b[0m",
      "\u001b[0;31mLinAlgError\u001b[0m                               Traceback (most recent call last)",
      "\u001b[0;32mpomegranate/distributions.pyx\u001b[0m in \u001b[0;36mpomegranate.distributions.MultivariateGaussianDistribution.from_summaries\u001b[0;34m()\u001b[0m\n",
      "\u001b[0;32m/usr/local/lib/python3.5/dist-packages/scipy/linalg/decomp_cholesky.py\u001b[0m in \u001b[0;36mcholesky\u001b[0;34m(a, lower, overwrite_a, check_finite)\u001b[0m\n\u001b[1;32m     80\u001b[0m     c, lower = _cholesky(a, lower=lower, overwrite_a=overwrite_a, clean=True,\n\u001b[0;32m---> 81\u001b[0;31m                             check_finite=check_finite)\n\u001b[0m\u001b[1;32m     82\u001b[0m     \u001b[0;32mreturn\u001b[0m \u001b[0mc\u001b[0m\u001b[0;34m\u001b[0m\u001b[0m\n",
      "\u001b[0;32m/usr/local/lib/python3.5/dist-packages/scipy/linalg/decomp_cholesky.py\u001b[0m in \u001b[0;36m_cholesky\u001b[0;34m(a, lower, overwrite_a, clean, check_finite)\u001b[0m\n\u001b[1;32m     29\u001b[0m     \u001b[0;32mif\u001b[0m \u001b[0minfo\u001b[0m \u001b[0;34m>\u001b[0m \u001b[0;36m0\u001b[0m\u001b[0;34m:\u001b[0m\u001b[0;34m\u001b[0m\u001b[0m\n\u001b[0;32m---> 30\u001b[0;31m         \u001b[0;32mraise\u001b[0m \u001b[0mLinAlgError\u001b[0m\u001b[0;34m(\u001b[0m\u001b[0;34m\"%d-th leading minor not positive definite\"\u001b[0m \u001b[0;34m%\u001b[0m \u001b[0minfo\u001b[0m\u001b[0;34m)\u001b[0m\u001b[0;34m\u001b[0m\u001b[0m\n\u001b[0m\u001b[1;32m     31\u001b[0m     \u001b[0;32mif\u001b[0m \u001b[0minfo\u001b[0m \u001b[0;34m<\u001b[0m \u001b[0;36m0\u001b[0m\u001b[0;34m:\u001b[0m\u001b[0;34m\u001b[0m\u001b[0m\n",
      "\u001b[0;31mLinAlgError\u001b[0m: 23-th leading minor not positive definite",
      "\nDuring handling of the above exception, another exception occurred:\n",
      "\u001b[0;31mTypeError\u001b[0m                                 Traceback (most recent call last)",
      "\u001b[0;32mpomegranate/bayes.pyx\u001b[0m in \u001b[0;36mpomegranate.bayes.BayesModel.from_summaries\u001b[0;34m()\u001b[0m\n",
      "\u001b[0;32mpomegranate/distributions.pyx\u001b[0m in \u001b[0;36mpomegranate.distributions.MultivariateGaussianDistribution.from_summaries\u001b[0;34m()\u001b[0m\n",
      "\u001b[0;31mTypeError\u001b[0m: Cannot cast ufunc subtract output from dtype('complex128') to dtype('float64') with casting rule 'same_kind'"
     ]
    },
    {
     "name": "stderr",
     "output_type": "stream",
     "text": [
      "Exception ignored in: 'pomegranate.hmm.HiddenMarkovModel._from_summaries'\n",
      "Traceback (most recent call last):\n",
      "  File \"pomegranate/bayes.pyx\", line 710, in pomegranate.bayes.BayesModel.from_summaries\n",
      "  File \"pomegranate/distributions.pyx\", line 2259, in pomegranate.distributions.MultivariateGaussianDistribution.from_summaries\n",
      "TypeError: Cannot cast ufunc subtract output from dtype('complex128') to dtype('float64') with casting rule 'same_kind'\n"
     ]
    },
    {
     "name": "stdout",
     "output_type": "stream",
     "text": [
      "[28] Improvement: 1.8202342817094177\tTime (s): 538.5\n"
     ]
    },
    {
     "ename": "TypeError",
     "evalue": "Cannot cast ufunc subtract output from dtype('complex128') to dtype('float64') with casting rule 'same_kind'",
     "output_type": "error",
     "traceback": [
      "\u001b[0;31m---------------------------------------------------------------------------\u001b[0m",
      "\u001b[0;31mLinAlgError\u001b[0m                               Traceback (most recent call last)",
      "\u001b[0;32mpomegranate/distributions.pyx\u001b[0m in \u001b[0;36mpomegranate.distributions.MultivariateGaussianDistribution.from_summaries\u001b[0;34m()\u001b[0m\n",
      "\u001b[0;32m/usr/local/lib/python3.5/dist-packages/scipy/linalg/decomp_cholesky.py\u001b[0m in \u001b[0;36mcholesky\u001b[0;34m(a, lower, overwrite_a, check_finite)\u001b[0m\n\u001b[1;32m     80\u001b[0m     c, lower = _cholesky(a, lower=lower, overwrite_a=overwrite_a, clean=True,\n\u001b[0;32m---> 81\u001b[0;31m                             check_finite=check_finite)\n\u001b[0m\u001b[1;32m     82\u001b[0m     \u001b[0;32mreturn\u001b[0m \u001b[0mc\u001b[0m\u001b[0;34m\u001b[0m\u001b[0m\n",
      "\u001b[0;32m/usr/local/lib/python3.5/dist-packages/scipy/linalg/decomp_cholesky.py\u001b[0m in \u001b[0;36m_cholesky\u001b[0;34m(a, lower, overwrite_a, clean, check_finite)\u001b[0m\n\u001b[1;32m     29\u001b[0m     \u001b[0;32mif\u001b[0m \u001b[0minfo\u001b[0m \u001b[0;34m>\u001b[0m \u001b[0;36m0\u001b[0m\u001b[0;34m:\u001b[0m\u001b[0;34m\u001b[0m\u001b[0m\n\u001b[0;32m---> 30\u001b[0;31m         \u001b[0;32mraise\u001b[0m \u001b[0mLinAlgError\u001b[0m\u001b[0;34m(\u001b[0m\u001b[0;34m\"%d-th leading minor not positive definite\"\u001b[0m \u001b[0;34m%\u001b[0m \u001b[0minfo\u001b[0m\u001b[0;34m)\u001b[0m\u001b[0;34m\u001b[0m\u001b[0m\n\u001b[0m\u001b[1;32m     31\u001b[0m     \u001b[0;32mif\u001b[0m \u001b[0minfo\u001b[0m \u001b[0;34m<\u001b[0m \u001b[0;36m0\u001b[0m\u001b[0;34m:\u001b[0m\u001b[0;34m\u001b[0m\u001b[0m\n",
      "\u001b[0;31mLinAlgError\u001b[0m: 23-th leading minor not positive definite",
      "\nDuring handling of the above exception, another exception occurred:\n",
      "\u001b[0;31mTypeError\u001b[0m                                 Traceback (most recent call last)",
      "\u001b[0;32mpomegranate/bayes.pyx\u001b[0m in \u001b[0;36mpomegranate.bayes.BayesModel.from_summaries\u001b[0;34m()\u001b[0m\n",
      "\u001b[0;32mpomegranate/distributions.pyx\u001b[0m in \u001b[0;36mpomegranate.distributions.MultivariateGaussianDistribution.from_summaries\u001b[0;34m()\u001b[0m\n",
      "\u001b[0;31mTypeError\u001b[0m: Cannot cast ufunc subtract output from dtype('complex128') to dtype('float64') with casting rule 'same_kind'"
     ]
    },
    {
     "name": "stderr",
     "output_type": "stream",
     "text": [
      "Exception ignored in: 'pomegranate.hmm.HiddenMarkovModel._from_summaries'\n",
      "Traceback (most recent call last):\n",
      "  File \"pomegranate/bayes.pyx\", line 710, in pomegranate.bayes.BayesModel.from_summaries\n",
      "  File \"pomegranate/distributions.pyx\", line 2259, in pomegranate.distributions.MultivariateGaussianDistribution.from_summaries\n",
      "TypeError: Cannot cast ufunc subtract output from dtype('complex128') to dtype('float64') with casting rule 'same_kind'\n"
     ]
    },
    {
     "name": "stdout",
     "output_type": "stream",
     "text": [
      "[29] Improvement: 1.1508187069557607\tTime (s): 531.2\n"
     ]
    },
    {
     "ename": "TypeError",
     "evalue": "Cannot cast ufunc subtract output from dtype('complex128') to dtype('float64') with casting rule 'same_kind'",
     "output_type": "error",
     "traceback": [
      "\u001b[0;31m---------------------------------------------------------------------------\u001b[0m",
      "\u001b[0;31mLinAlgError\u001b[0m                               Traceback (most recent call last)",
      "\u001b[0;32mpomegranate/distributions.pyx\u001b[0m in \u001b[0;36mpomegranate.distributions.MultivariateGaussianDistribution.from_summaries\u001b[0;34m()\u001b[0m\n",
      "\u001b[0;32m/usr/local/lib/python3.5/dist-packages/scipy/linalg/decomp_cholesky.py\u001b[0m in \u001b[0;36mcholesky\u001b[0;34m(a, lower, overwrite_a, check_finite)\u001b[0m\n\u001b[1;32m     80\u001b[0m     c, lower = _cholesky(a, lower=lower, overwrite_a=overwrite_a, clean=True,\n\u001b[0;32m---> 81\u001b[0;31m                             check_finite=check_finite)\n\u001b[0m\u001b[1;32m     82\u001b[0m     \u001b[0;32mreturn\u001b[0m \u001b[0mc\u001b[0m\u001b[0;34m\u001b[0m\u001b[0m\n",
      "\u001b[0;32m/usr/local/lib/python3.5/dist-packages/scipy/linalg/decomp_cholesky.py\u001b[0m in \u001b[0;36m_cholesky\u001b[0;34m(a, lower, overwrite_a, clean, check_finite)\u001b[0m\n\u001b[1;32m     29\u001b[0m     \u001b[0;32mif\u001b[0m \u001b[0minfo\u001b[0m \u001b[0;34m>\u001b[0m \u001b[0;36m0\u001b[0m\u001b[0;34m:\u001b[0m\u001b[0;34m\u001b[0m\u001b[0m\n\u001b[0;32m---> 30\u001b[0;31m         \u001b[0;32mraise\u001b[0m \u001b[0mLinAlgError\u001b[0m\u001b[0;34m(\u001b[0m\u001b[0;34m\"%d-th leading minor not positive definite\"\u001b[0m \u001b[0;34m%\u001b[0m \u001b[0minfo\u001b[0m\u001b[0;34m)\u001b[0m\u001b[0;34m\u001b[0m\u001b[0m\n\u001b[0m\u001b[1;32m     31\u001b[0m     \u001b[0;32mif\u001b[0m \u001b[0minfo\u001b[0m \u001b[0;34m<\u001b[0m \u001b[0;36m0\u001b[0m\u001b[0;34m:\u001b[0m\u001b[0;34m\u001b[0m\u001b[0m\n",
      "\u001b[0;31mLinAlgError\u001b[0m: 23-th leading minor not positive definite",
      "\nDuring handling of the above exception, another exception occurred:\n",
      "\u001b[0;31mTypeError\u001b[0m                                 Traceback (most recent call last)",
      "\u001b[0;32mpomegranate/bayes.pyx\u001b[0m in \u001b[0;36mpomegranate.bayes.BayesModel.from_summaries\u001b[0;34m()\u001b[0m\n",
      "\u001b[0;32mpomegranate/distributions.pyx\u001b[0m in \u001b[0;36mpomegranate.distributions.MultivariateGaussianDistribution.from_summaries\u001b[0;34m()\u001b[0m\n",
      "\u001b[0;31mTypeError\u001b[0m: Cannot cast ufunc subtract output from dtype('complex128') to dtype('float64') with casting rule 'same_kind'"
     ]
    },
    {
     "name": "stderr",
     "output_type": "stream",
     "text": [
      "Exception ignored in: 'pomegranate.hmm.HiddenMarkovModel._from_summaries'\n",
      "Traceback (most recent call last):\n",
      "  File \"pomegranate/bayes.pyx\", line 710, in pomegranate.bayes.BayesModel.from_summaries\n",
      "  File \"pomegranate/distributions.pyx\", line 2259, in pomegranate.distributions.MultivariateGaussianDistribution.from_summaries\n",
      "TypeError: Cannot cast ufunc subtract output from dtype('complex128') to dtype('float64') with casting rule 'same_kind'\n"
     ]
    },
    {
     "name": "stdout",
     "output_type": "stream",
     "text": [
      "[30] Improvement: 0.14089310844428837\tTime (s): 537.6\n"
     ]
    },
    {
     "ename": "TypeError",
     "evalue": "Cannot cast ufunc subtract output from dtype('complex128') to dtype('float64') with casting rule 'same_kind'",
     "output_type": "error",
     "traceback": [
      "\u001b[0;31m---------------------------------------------------------------------------\u001b[0m",
      "\u001b[0;31mLinAlgError\u001b[0m                               Traceback (most recent call last)",
      "\u001b[0;32mpomegranate/distributions.pyx\u001b[0m in \u001b[0;36mpomegranate.distributions.MultivariateGaussianDistribution.from_summaries\u001b[0;34m()\u001b[0m\n",
      "\u001b[0;32m/usr/local/lib/python3.5/dist-packages/scipy/linalg/decomp_cholesky.py\u001b[0m in \u001b[0;36mcholesky\u001b[0;34m(a, lower, overwrite_a, check_finite)\u001b[0m\n\u001b[1;32m     80\u001b[0m     c, lower = _cholesky(a, lower=lower, overwrite_a=overwrite_a, clean=True,\n\u001b[0;32m---> 81\u001b[0;31m                             check_finite=check_finite)\n\u001b[0m\u001b[1;32m     82\u001b[0m     \u001b[0;32mreturn\u001b[0m \u001b[0mc\u001b[0m\u001b[0;34m\u001b[0m\u001b[0m\n",
      "\u001b[0;32m/usr/local/lib/python3.5/dist-packages/scipy/linalg/decomp_cholesky.py\u001b[0m in \u001b[0;36m_cholesky\u001b[0;34m(a, lower, overwrite_a, clean, check_finite)\u001b[0m\n\u001b[1;32m     29\u001b[0m     \u001b[0;32mif\u001b[0m \u001b[0minfo\u001b[0m \u001b[0;34m>\u001b[0m \u001b[0;36m0\u001b[0m\u001b[0;34m:\u001b[0m\u001b[0;34m\u001b[0m\u001b[0m\n\u001b[0;32m---> 30\u001b[0;31m         \u001b[0;32mraise\u001b[0m \u001b[0mLinAlgError\u001b[0m\u001b[0;34m(\u001b[0m\u001b[0;34m\"%d-th leading minor not positive definite\"\u001b[0m \u001b[0;34m%\u001b[0m \u001b[0minfo\u001b[0m\u001b[0;34m)\u001b[0m\u001b[0;34m\u001b[0m\u001b[0m\n\u001b[0m\u001b[1;32m     31\u001b[0m     \u001b[0;32mif\u001b[0m \u001b[0minfo\u001b[0m \u001b[0;34m<\u001b[0m \u001b[0;36m0\u001b[0m\u001b[0;34m:\u001b[0m\u001b[0;34m\u001b[0m\u001b[0m\n",
      "\u001b[0;31mLinAlgError\u001b[0m: 23-th leading minor not positive definite",
      "\nDuring handling of the above exception, another exception occurred:\n",
      "\u001b[0;31mTypeError\u001b[0m                                 Traceback (most recent call last)",
      "\u001b[0;32mpomegranate/bayes.pyx\u001b[0m in \u001b[0;36mpomegranate.bayes.BayesModel.from_summaries\u001b[0;34m()\u001b[0m\n",
      "\u001b[0;32mpomegranate/distributions.pyx\u001b[0m in \u001b[0;36mpomegranate.distributions.MultivariateGaussianDistribution.from_summaries\u001b[0;34m()\u001b[0m\n",
      "\u001b[0;31mTypeError\u001b[0m: Cannot cast ufunc subtract output from dtype('complex128') to dtype('float64') with casting rule 'same_kind'"
     ]
    },
    {
     "name": "stderr",
     "output_type": "stream",
     "text": [
      "Exception ignored in: 'pomegranate.hmm.HiddenMarkovModel._from_summaries'\n",
      "Traceback (most recent call last):\n",
      "  File \"pomegranate/bayes.pyx\", line 710, in pomegranate.bayes.BayesModel.from_summaries\n",
      "  File \"pomegranate/distributions.pyx\", line 2259, in pomegranate.distributions.MultivariateGaussianDistribution.from_summaries\n",
      "TypeError: Cannot cast ufunc subtract output from dtype('complex128') to dtype('float64') with casting rule 'same_kind'\n"
     ]
    },
    {
     "name": "stdout",
     "output_type": "stream",
     "text": [
      "[31] Improvement: 0.025304103270173073\tTime (s): 539.9\n"
     ]
    },
    {
     "ename": "TypeError",
     "evalue": "Cannot cast ufunc subtract output from dtype('complex128') to dtype('float64') with casting rule 'same_kind'",
     "output_type": "error",
     "traceback": [
      "\u001b[0;31m---------------------------------------------------------------------------\u001b[0m",
      "\u001b[0;31mLinAlgError\u001b[0m                               Traceback (most recent call last)",
      "\u001b[0;32mpomegranate/distributions.pyx\u001b[0m in \u001b[0;36mpomegranate.distributions.MultivariateGaussianDistribution.from_summaries\u001b[0;34m()\u001b[0m\n",
      "\u001b[0;32m/usr/local/lib/python3.5/dist-packages/scipy/linalg/decomp_cholesky.py\u001b[0m in \u001b[0;36mcholesky\u001b[0;34m(a, lower, overwrite_a, check_finite)\u001b[0m\n\u001b[1;32m     80\u001b[0m     c, lower = _cholesky(a, lower=lower, overwrite_a=overwrite_a, clean=True,\n\u001b[0;32m---> 81\u001b[0;31m                             check_finite=check_finite)\n\u001b[0m\u001b[1;32m     82\u001b[0m     \u001b[0;32mreturn\u001b[0m \u001b[0mc\u001b[0m\u001b[0;34m\u001b[0m\u001b[0m\n",
      "\u001b[0;32m/usr/local/lib/python3.5/dist-packages/scipy/linalg/decomp_cholesky.py\u001b[0m in \u001b[0;36m_cholesky\u001b[0;34m(a, lower, overwrite_a, clean, check_finite)\u001b[0m\n\u001b[1;32m     29\u001b[0m     \u001b[0;32mif\u001b[0m \u001b[0minfo\u001b[0m \u001b[0;34m>\u001b[0m \u001b[0;36m0\u001b[0m\u001b[0;34m:\u001b[0m\u001b[0;34m\u001b[0m\u001b[0m\n\u001b[0;32m---> 30\u001b[0;31m         \u001b[0;32mraise\u001b[0m \u001b[0mLinAlgError\u001b[0m\u001b[0;34m(\u001b[0m\u001b[0;34m\"%d-th leading minor not positive definite\"\u001b[0m \u001b[0;34m%\u001b[0m \u001b[0minfo\u001b[0m\u001b[0;34m)\u001b[0m\u001b[0;34m\u001b[0m\u001b[0m\n\u001b[0m\u001b[1;32m     31\u001b[0m     \u001b[0;32mif\u001b[0m \u001b[0minfo\u001b[0m \u001b[0;34m<\u001b[0m \u001b[0;36m0\u001b[0m\u001b[0;34m:\u001b[0m\u001b[0;34m\u001b[0m\u001b[0m\n",
      "\u001b[0;31mLinAlgError\u001b[0m: 23-th leading minor not positive definite",
      "\nDuring handling of the above exception, another exception occurred:\n",
      "\u001b[0;31mTypeError\u001b[0m                                 Traceback (most recent call last)",
      "\u001b[0;32mpomegranate/bayes.pyx\u001b[0m in \u001b[0;36mpomegranate.bayes.BayesModel.from_summaries\u001b[0;34m()\u001b[0m\n",
      "\u001b[0;32mpomegranate/distributions.pyx\u001b[0m in \u001b[0;36mpomegranate.distributions.MultivariateGaussianDistribution.from_summaries\u001b[0;34m()\u001b[0m\n",
      "\u001b[0;31mTypeError\u001b[0m: Cannot cast ufunc subtract output from dtype('complex128') to dtype('float64') with casting rule 'same_kind'"
     ]
    },
    {
     "name": "stderr",
     "output_type": "stream",
     "text": [
      "Exception ignored in: 'pomegranate.hmm.HiddenMarkovModel._from_summaries'\n",
      "Traceback (most recent call last):\n",
      "  File \"pomegranate/bayes.pyx\", line 710, in pomegranate.bayes.BayesModel.from_summaries\n",
      "  File \"pomegranate/distributions.pyx\", line 2259, in pomegranate.distributions.MultivariateGaussianDistribution.from_summaries\n",
      "TypeError: Cannot cast ufunc subtract output from dtype('complex128') to dtype('float64') with casting rule 'same_kind'\n"
     ]
    },
    {
     "name": "stdout",
     "output_type": "stream",
     "text": [
      "[32] Improvement: 0.009570289170369506\tTime (s): 543.2\n"
     ]
    },
    {
     "ename": "TypeError",
     "evalue": "Cannot cast ufunc subtract output from dtype('complex128') to dtype('float64') with casting rule 'same_kind'",
     "output_type": "error",
     "traceback": [
      "\u001b[0;31m---------------------------------------------------------------------------\u001b[0m",
      "\u001b[0;31mLinAlgError\u001b[0m                               Traceback (most recent call last)",
      "\u001b[0;32mpomegranate/distributions.pyx\u001b[0m in \u001b[0;36mpomegranate.distributions.MultivariateGaussianDistribution.from_summaries\u001b[0;34m()\u001b[0m\n",
      "\u001b[0;32m/usr/local/lib/python3.5/dist-packages/scipy/linalg/decomp_cholesky.py\u001b[0m in \u001b[0;36mcholesky\u001b[0;34m(a, lower, overwrite_a, check_finite)\u001b[0m\n\u001b[1;32m     80\u001b[0m     c, lower = _cholesky(a, lower=lower, overwrite_a=overwrite_a, clean=True,\n\u001b[0;32m---> 81\u001b[0;31m                             check_finite=check_finite)\n\u001b[0m\u001b[1;32m     82\u001b[0m     \u001b[0;32mreturn\u001b[0m \u001b[0mc\u001b[0m\u001b[0;34m\u001b[0m\u001b[0m\n",
      "\u001b[0;32m/usr/local/lib/python3.5/dist-packages/scipy/linalg/decomp_cholesky.py\u001b[0m in \u001b[0;36m_cholesky\u001b[0;34m(a, lower, overwrite_a, clean, check_finite)\u001b[0m\n\u001b[1;32m     29\u001b[0m     \u001b[0;32mif\u001b[0m \u001b[0minfo\u001b[0m \u001b[0;34m>\u001b[0m \u001b[0;36m0\u001b[0m\u001b[0;34m:\u001b[0m\u001b[0;34m\u001b[0m\u001b[0m\n\u001b[0;32m---> 30\u001b[0;31m         \u001b[0;32mraise\u001b[0m \u001b[0mLinAlgError\u001b[0m\u001b[0;34m(\u001b[0m\u001b[0;34m\"%d-th leading minor not positive definite\"\u001b[0m \u001b[0;34m%\u001b[0m \u001b[0minfo\u001b[0m\u001b[0;34m)\u001b[0m\u001b[0;34m\u001b[0m\u001b[0m\n\u001b[0m\u001b[1;32m     31\u001b[0m     \u001b[0;32mif\u001b[0m \u001b[0minfo\u001b[0m \u001b[0;34m<\u001b[0m \u001b[0;36m0\u001b[0m\u001b[0;34m:\u001b[0m\u001b[0;34m\u001b[0m\u001b[0m\n",
      "\u001b[0;31mLinAlgError\u001b[0m: 23-th leading minor not positive definite",
      "\nDuring handling of the above exception, another exception occurred:\n",
      "\u001b[0;31mTypeError\u001b[0m                                 Traceback (most recent call last)",
      "\u001b[0;32mpomegranate/bayes.pyx\u001b[0m in \u001b[0;36mpomegranate.bayes.BayesModel.from_summaries\u001b[0;34m()\u001b[0m\n",
      "\u001b[0;32mpomegranate/distributions.pyx\u001b[0m in \u001b[0;36mpomegranate.distributions.MultivariateGaussianDistribution.from_summaries\u001b[0;34m()\u001b[0m\n",
      "\u001b[0;31mTypeError\u001b[0m: Cannot cast ufunc subtract output from dtype('complex128') to dtype('float64') with casting rule 'same_kind'"
     ]
    },
    {
     "name": "stderr",
     "output_type": "stream",
     "text": [
      "Exception ignored in: 'pomegranate.hmm.HiddenMarkovModel._from_summaries'\n",
      "Traceback (most recent call last):\n",
      "  File \"pomegranate/bayes.pyx\", line 710, in pomegranate.bayes.BayesModel.from_summaries\n",
      "  File \"pomegranate/distributions.pyx\", line 2259, in pomegranate.distributions.MultivariateGaussianDistribution.from_summaries\n",
      "TypeError: Cannot cast ufunc subtract output from dtype('complex128') to dtype('float64') with casting rule 'same_kind'\n"
     ]
    },
    {
     "name": "stdout",
     "output_type": "stream",
     "text": [
      "[33] Improvement: 0.00407100236043334\tTime (s): 543.1\n"
     ]
    },
    {
     "ename": "TypeError",
     "evalue": "Cannot cast ufunc subtract output from dtype('complex128') to dtype('float64') with casting rule 'same_kind'",
     "output_type": "error",
     "traceback": [
      "\u001b[0;31m---------------------------------------------------------------------------\u001b[0m",
      "\u001b[0;31mLinAlgError\u001b[0m                               Traceback (most recent call last)",
      "\u001b[0;32mpomegranate/distributions.pyx\u001b[0m in \u001b[0;36mpomegranate.distributions.MultivariateGaussianDistribution.from_summaries\u001b[0;34m()\u001b[0m\n",
      "\u001b[0;32m/usr/local/lib/python3.5/dist-packages/scipy/linalg/decomp_cholesky.py\u001b[0m in \u001b[0;36mcholesky\u001b[0;34m(a, lower, overwrite_a, check_finite)\u001b[0m\n\u001b[1;32m     80\u001b[0m     c, lower = _cholesky(a, lower=lower, overwrite_a=overwrite_a, clean=True,\n\u001b[0;32m---> 81\u001b[0;31m                             check_finite=check_finite)\n\u001b[0m\u001b[1;32m     82\u001b[0m     \u001b[0;32mreturn\u001b[0m \u001b[0mc\u001b[0m\u001b[0;34m\u001b[0m\u001b[0m\n",
      "\u001b[0;32m/usr/local/lib/python3.5/dist-packages/scipy/linalg/decomp_cholesky.py\u001b[0m in \u001b[0;36m_cholesky\u001b[0;34m(a, lower, overwrite_a, clean, check_finite)\u001b[0m\n\u001b[1;32m     29\u001b[0m     \u001b[0;32mif\u001b[0m \u001b[0minfo\u001b[0m \u001b[0;34m>\u001b[0m \u001b[0;36m0\u001b[0m\u001b[0;34m:\u001b[0m\u001b[0;34m\u001b[0m\u001b[0m\n\u001b[0;32m---> 30\u001b[0;31m         \u001b[0;32mraise\u001b[0m \u001b[0mLinAlgError\u001b[0m\u001b[0;34m(\u001b[0m\u001b[0;34m\"%d-th leading minor not positive definite\"\u001b[0m \u001b[0;34m%\u001b[0m \u001b[0minfo\u001b[0m\u001b[0;34m)\u001b[0m\u001b[0;34m\u001b[0m\u001b[0m\n\u001b[0m\u001b[1;32m     31\u001b[0m     \u001b[0;32mif\u001b[0m \u001b[0minfo\u001b[0m \u001b[0;34m<\u001b[0m \u001b[0;36m0\u001b[0m\u001b[0;34m:\u001b[0m\u001b[0;34m\u001b[0m\u001b[0m\n",
      "\u001b[0;31mLinAlgError\u001b[0m: 23-th leading minor not positive definite",
      "\nDuring handling of the above exception, another exception occurred:\n",
      "\u001b[0;31mTypeError\u001b[0m                                 Traceback (most recent call last)",
      "\u001b[0;32mpomegranate/bayes.pyx\u001b[0m in \u001b[0;36mpomegranate.bayes.BayesModel.from_summaries\u001b[0;34m()\u001b[0m\n",
      "\u001b[0;32mpomegranate/distributions.pyx\u001b[0m in \u001b[0;36mpomegranate.distributions.MultivariateGaussianDistribution.from_summaries\u001b[0;34m()\u001b[0m\n",
      "\u001b[0;31mTypeError\u001b[0m: Cannot cast ufunc subtract output from dtype('complex128') to dtype('float64') with casting rule 'same_kind'"
     ]
    },
    {
     "name": "stderr",
     "output_type": "stream",
     "text": [
      "Exception ignored in: 'pomegranate.hmm.HiddenMarkovModel._from_summaries'\n",
      "Traceback (most recent call last):\n",
      "  File \"pomegranate/bayes.pyx\", line 710, in pomegranate.bayes.BayesModel.from_summaries\n",
      "  File \"pomegranate/distributions.pyx\", line 2259, in pomegranate.distributions.MultivariateGaussianDistribution.from_summaries\n",
      "TypeError: Cannot cast ufunc subtract output from dtype('complex128') to dtype('float64') with casting rule 'same_kind'\n"
     ]
    },
    {
     "name": "stdout",
     "output_type": "stream",
     "text": [
      "[34] Improvement: 0.0019249648321419954\tTime (s): 541.6\n"
     ]
    },
    {
     "ename": "TypeError",
     "evalue": "Cannot cast ufunc subtract output from dtype('complex128') to dtype('float64') with casting rule 'same_kind'",
     "output_type": "error",
     "traceback": [
      "\u001b[0;31m---------------------------------------------------------------------------\u001b[0m",
      "\u001b[0;31mLinAlgError\u001b[0m                               Traceback (most recent call last)",
      "\u001b[0;32mpomegranate/distributions.pyx\u001b[0m in \u001b[0;36mpomegranate.distributions.MultivariateGaussianDistribution.from_summaries\u001b[0;34m()\u001b[0m\n",
      "\u001b[0;32m/usr/local/lib/python3.5/dist-packages/scipy/linalg/decomp_cholesky.py\u001b[0m in \u001b[0;36mcholesky\u001b[0;34m(a, lower, overwrite_a, check_finite)\u001b[0m\n\u001b[1;32m     80\u001b[0m     c, lower = _cholesky(a, lower=lower, overwrite_a=overwrite_a, clean=True,\n\u001b[0;32m---> 81\u001b[0;31m                             check_finite=check_finite)\n\u001b[0m\u001b[1;32m     82\u001b[0m     \u001b[0;32mreturn\u001b[0m \u001b[0mc\u001b[0m\u001b[0;34m\u001b[0m\u001b[0m\n",
      "\u001b[0;32m/usr/local/lib/python3.5/dist-packages/scipy/linalg/decomp_cholesky.py\u001b[0m in \u001b[0;36m_cholesky\u001b[0;34m(a, lower, overwrite_a, clean, check_finite)\u001b[0m\n\u001b[1;32m     29\u001b[0m     \u001b[0;32mif\u001b[0m \u001b[0minfo\u001b[0m \u001b[0;34m>\u001b[0m \u001b[0;36m0\u001b[0m\u001b[0;34m:\u001b[0m\u001b[0;34m\u001b[0m\u001b[0m\n\u001b[0;32m---> 30\u001b[0;31m         \u001b[0;32mraise\u001b[0m \u001b[0mLinAlgError\u001b[0m\u001b[0;34m(\u001b[0m\u001b[0;34m\"%d-th leading minor not positive definite\"\u001b[0m \u001b[0;34m%\u001b[0m \u001b[0minfo\u001b[0m\u001b[0;34m)\u001b[0m\u001b[0;34m\u001b[0m\u001b[0m\n\u001b[0m\u001b[1;32m     31\u001b[0m     \u001b[0;32mif\u001b[0m \u001b[0minfo\u001b[0m \u001b[0;34m<\u001b[0m \u001b[0;36m0\u001b[0m\u001b[0;34m:\u001b[0m\u001b[0;34m\u001b[0m\u001b[0m\n",
      "\u001b[0;31mLinAlgError\u001b[0m: 23-th leading minor not positive definite",
      "\nDuring handling of the above exception, another exception occurred:\n",
      "\u001b[0;31mTypeError\u001b[0m                                 Traceback (most recent call last)",
      "\u001b[0;32mpomegranate/bayes.pyx\u001b[0m in \u001b[0;36mpomegranate.bayes.BayesModel.from_summaries\u001b[0;34m()\u001b[0m\n",
      "\u001b[0;32mpomegranate/distributions.pyx\u001b[0m in \u001b[0;36mpomegranate.distributions.MultivariateGaussianDistribution.from_summaries\u001b[0;34m()\u001b[0m\n",
      "\u001b[0;31mTypeError\u001b[0m: Cannot cast ufunc subtract output from dtype('complex128') to dtype('float64') with casting rule 'same_kind'"
     ]
    },
    {
     "name": "stderr",
     "output_type": "stream",
     "text": [
      "Exception ignored in: 'pomegranate.hmm.HiddenMarkovModel._from_summaries'\n",
      "Traceback (most recent call last):\n",
      "  File \"pomegranate/bayes.pyx\", line 710, in pomegranate.bayes.BayesModel.from_summaries\n",
      "  File \"pomegranate/distributions.pyx\", line 2259, in pomegranate.distributions.MultivariateGaussianDistribution.from_summaries\n",
      "TypeError: Cannot cast ufunc subtract output from dtype('complex128') to dtype('float64') with casting rule 'same_kind'\n"
     ]
    },
    {
     "name": "stdout",
     "output_type": "stream",
     "text": [
      "[35] Improvement: 0.0011146396864205599\tTime (s): 539.0\n"
     ]
    },
    {
     "ename": "TypeError",
     "evalue": "Cannot cast ufunc subtract output from dtype('complex128') to dtype('float64') with casting rule 'same_kind'",
     "output_type": "error",
     "traceback": [
      "\u001b[0;31m---------------------------------------------------------------------------\u001b[0m",
      "\u001b[0;31mLinAlgError\u001b[0m                               Traceback (most recent call last)",
      "\u001b[0;32mpomegranate/distributions.pyx\u001b[0m in \u001b[0;36mpomegranate.distributions.MultivariateGaussianDistribution.from_summaries\u001b[0;34m()\u001b[0m\n",
      "\u001b[0;32m/usr/local/lib/python3.5/dist-packages/scipy/linalg/decomp_cholesky.py\u001b[0m in \u001b[0;36mcholesky\u001b[0;34m(a, lower, overwrite_a, check_finite)\u001b[0m\n\u001b[1;32m     80\u001b[0m     c, lower = _cholesky(a, lower=lower, overwrite_a=overwrite_a, clean=True,\n\u001b[0;32m---> 81\u001b[0;31m                             check_finite=check_finite)\n\u001b[0m\u001b[1;32m     82\u001b[0m     \u001b[0;32mreturn\u001b[0m \u001b[0mc\u001b[0m\u001b[0;34m\u001b[0m\u001b[0m\n",
      "\u001b[0;32m/usr/local/lib/python3.5/dist-packages/scipy/linalg/decomp_cholesky.py\u001b[0m in \u001b[0;36m_cholesky\u001b[0;34m(a, lower, overwrite_a, clean, check_finite)\u001b[0m\n\u001b[1;32m     29\u001b[0m     \u001b[0;32mif\u001b[0m \u001b[0minfo\u001b[0m \u001b[0;34m>\u001b[0m \u001b[0;36m0\u001b[0m\u001b[0;34m:\u001b[0m\u001b[0;34m\u001b[0m\u001b[0m\n\u001b[0;32m---> 30\u001b[0;31m         \u001b[0;32mraise\u001b[0m \u001b[0mLinAlgError\u001b[0m\u001b[0;34m(\u001b[0m\u001b[0;34m\"%d-th leading minor not positive definite\"\u001b[0m \u001b[0;34m%\u001b[0m \u001b[0minfo\u001b[0m\u001b[0;34m)\u001b[0m\u001b[0;34m\u001b[0m\u001b[0m\n\u001b[0m\u001b[1;32m     31\u001b[0m     \u001b[0;32mif\u001b[0m \u001b[0minfo\u001b[0m \u001b[0;34m<\u001b[0m \u001b[0;36m0\u001b[0m\u001b[0;34m:\u001b[0m\u001b[0;34m\u001b[0m\u001b[0m\n",
      "\u001b[0;31mLinAlgError\u001b[0m: 23-th leading minor not positive definite",
      "\nDuring handling of the above exception, another exception occurred:\n",
      "\u001b[0;31mTypeError\u001b[0m                                 Traceback (most recent call last)",
      "\u001b[0;32mpomegranate/bayes.pyx\u001b[0m in \u001b[0;36mpomegranate.bayes.BayesModel.from_summaries\u001b[0;34m()\u001b[0m\n",
      "\u001b[0;32mpomegranate/distributions.pyx\u001b[0m in \u001b[0;36mpomegranate.distributions.MultivariateGaussianDistribution.from_summaries\u001b[0;34m()\u001b[0m\n",
      "\u001b[0;31mTypeError\u001b[0m: Cannot cast ufunc subtract output from dtype('complex128') to dtype('float64') with casting rule 'same_kind'"
     ]
    },
    {
     "name": "stderr",
     "output_type": "stream",
     "text": [
      "Exception ignored in: 'pomegranate.hmm.HiddenMarkovModel._from_summaries'\n",
      "Traceback (most recent call last):\n",
      "  File \"pomegranate/bayes.pyx\", line 710, in pomegranate.bayes.BayesModel.from_summaries\n",
      "  File \"pomegranate/distributions.pyx\", line 2259, in pomegranate.distributions.MultivariateGaussianDistribution.from_summaries\n",
      "TypeError: Cannot cast ufunc subtract output from dtype('complex128') to dtype('float64') with casting rule 'same_kind'\n"
     ]
    },
    {
     "name": "stdout",
     "output_type": "stream",
     "text": [
      "[36] Improvement: 0.0008710524998605251\tTime (s): 525.0\n"
     ]
    },
    {
     "ename": "TypeError",
     "evalue": "Cannot cast ufunc subtract output from dtype('complex128') to dtype('float64') with casting rule 'same_kind'",
     "output_type": "error",
     "traceback": [
      "\u001b[0;31m---------------------------------------------------------------------------\u001b[0m",
      "\u001b[0;31mLinAlgError\u001b[0m                               Traceback (most recent call last)",
      "\u001b[0;32mpomegranate/distributions.pyx\u001b[0m in \u001b[0;36mpomegranate.distributions.MultivariateGaussianDistribution.from_summaries\u001b[0;34m()\u001b[0m\n",
      "\u001b[0;32m/usr/local/lib/python3.5/dist-packages/scipy/linalg/decomp_cholesky.py\u001b[0m in \u001b[0;36mcholesky\u001b[0;34m(a, lower, overwrite_a, check_finite)\u001b[0m\n\u001b[1;32m     80\u001b[0m     c, lower = _cholesky(a, lower=lower, overwrite_a=overwrite_a, clean=True,\n\u001b[0;32m---> 81\u001b[0;31m                             check_finite=check_finite)\n\u001b[0m\u001b[1;32m     82\u001b[0m     \u001b[0;32mreturn\u001b[0m \u001b[0mc\u001b[0m\u001b[0;34m\u001b[0m\u001b[0m\n",
      "\u001b[0;32m/usr/local/lib/python3.5/dist-packages/scipy/linalg/decomp_cholesky.py\u001b[0m in \u001b[0;36m_cholesky\u001b[0;34m(a, lower, overwrite_a, clean, check_finite)\u001b[0m\n\u001b[1;32m     29\u001b[0m     \u001b[0;32mif\u001b[0m \u001b[0minfo\u001b[0m \u001b[0;34m>\u001b[0m \u001b[0;36m0\u001b[0m\u001b[0;34m:\u001b[0m\u001b[0;34m\u001b[0m\u001b[0m\n\u001b[0;32m---> 30\u001b[0;31m         \u001b[0;32mraise\u001b[0m \u001b[0mLinAlgError\u001b[0m\u001b[0;34m(\u001b[0m\u001b[0;34m\"%d-th leading minor not positive definite\"\u001b[0m \u001b[0;34m%\u001b[0m \u001b[0minfo\u001b[0m\u001b[0;34m)\u001b[0m\u001b[0;34m\u001b[0m\u001b[0m\n\u001b[0m\u001b[1;32m     31\u001b[0m     \u001b[0;32mif\u001b[0m \u001b[0minfo\u001b[0m \u001b[0;34m<\u001b[0m \u001b[0;36m0\u001b[0m\u001b[0;34m:\u001b[0m\u001b[0;34m\u001b[0m\u001b[0m\n",
      "\u001b[0;31mLinAlgError\u001b[0m: 23-th leading minor not positive definite",
      "\nDuring handling of the above exception, another exception occurred:\n",
      "\u001b[0;31mTypeError\u001b[0m                                 Traceback (most recent call last)",
      "\u001b[0;32mpomegranate/bayes.pyx\u001b[0m in \u001b[0;36mpomegranate.bayes.BayesModel.from_summaries\u001b[0;34m()\u001b[0m\n",
      "\u001b[0;32mpomegranate/distributions.pyx\u001b[0m in \u001b[0;36mpomegranate.distributions.MultivariateGaussianDistribution.from_summaries\u001b[0;34m()\u001b[0m\n",
      "\u001b[0;31mTypeError\u001b[0m: Cannot cast ufunc subtract output from dtype('complex128') to dtype('float64') with casting rule 'same_kind'"
     ]
    },
    {
     "name": "stderr",
     "output_type": "stream",
     "text": [
      "Exception ignored in: 'pomegranate.hmm.HiddenMarkovModel._from_summaries'\n",
      "Traceback (most recent call last):\n",
      "  File \"pomegranate/bayes.pyx\", line 710, in pomegranate.bayes.BayesModel.from_summaries\n",
      "  File \"pomegranate/distributions.pyx\", line 2259, in pomegranate.distributions.MultivariateGaussianDistribution.from_summaries\n",
      "TypeError: Cannot cast ufunc subtract output from dtype('complex128') to dtype('float64') with casting rule 'same_kind'\n"
     ]
    },
    {
     "name": "stdout",
     "output_type": "stream",
     "text": [
      "[37] Improvement: 0.0008764134254306555\tTime (s): 538.1\n"
     ]
    },
    {
     "ename": "TypeError",
     "evalue": "Cannot cast ufunc subtract output from dtype('complex128') to dtype('float64') with casting rule 'same_kind'",
     "output_type": "error",
     "traceback": [
      "\u001b[0;31m---------------------------------------------------------------------------\u001b[0m",
      "\u001b[0;31mLinAlgError\u001b[0m                               Traceback (most recent call last)",
      "\u001b[0;32mpomegranate/distributions.pyx\u001b[0m in \u001b[0;36mpomegranate.distributions.MultivariateGaussianDistribution.from_summaries\u001b[0;34m()\u001b[0m\n",
      "\u001b[0;32m/usr/local/lib/python3.5/dist-packages/scipy/linalg/decomp_cholesky.py\u001b[0m in \u001b[0;36mcholesky\u001b[0;34m(a, lower, overwrite_a, check_finite)\u001b[0m\n\u001b[1;32m     80\u001b[0m     c, lower = _cholesky(a, lower=lower, overwrite_a=overwrite_a, clean=True,\n\u001b[0;32m---> 81\u001b[0;31m                             check_finite=check_finite)\n\u001b[0m\u001b[1;32m     82\u001b[0m     \u001b[0;32mreturn\u001b[0m \u001b[0mc\u001b[0m\u001b[0;34m\u001b[0m\u001b[0m\n",
      "\u001b[0;32m/usr/local/lib/python3.5/dist-packages/scipy/linalg/decomp_cholesky.py\u001b[0m in \u001b[0;36m_cholesky\u001b[0;34m(a, lower, overwrite_a, clean, check_finite)\u001b[0m\n\u001b[1;32m     29\u001b[0m     \u001b[0;32mif\u001b[0m \u001b[0minfo\u001b[0m \u001b[0;34m>\u001b[0m \u001b[0;36m0\u001b[0m\u001b[0;34m:\u001b[0m\u001b[0;34m\u001b[0m\u001b[0m\n\u001b[0;32m---> 30\u001b[0;31m         \u001b[0;32mraise\u001b[0m \u001b[0mLinAlgError\u001b[0m\u001b[0;34m(\u001b[0m\u001b[0;34m\"%d-th leading minor not positive definite\"\u001b[0m \u001b[0;34m%\u001b[0m \u001b[0minfo\u001b[0m\u001b[0;34m)\u001b[0m\u001b[0;34m\u001b[0m\u001b[0m\n\u001b[0m\u001b[1;32m     31\u001b[0m     \u001b[0;32mif\u001b[0m \u001b[0minfo\u001b[0m \u001b[0;34m<\u001b[0m \u001b[0;36m0\u001b[0m\u001b[0;34m:\u001b[0m\u001b[0;34m\u001b[0m\u001b[0m\n",
      "\u001b[0;31mLinAlgError\u001b[0m: 23-th leading minor not positive definite",
      "\nDuring handling of the above exception, another exception occurred:\n",
      "\u001b[0;31mTypeError\u001b[0m                                 Traceback (most recent call last)",
      "\u001b[0;32mpomegranate/bayes.pyx\u001b[0m in \u001b[0;36mpomegranate.bayes.BayesModel.from_summaries\u001b[0;34m()\u001b[0m\n",
      "\u001b[0;32mpomegranate/distributions.pyx\u001b[0m in \u001b[0;36mpomegranate.distributions.MultivariateGaussianDistribution.from_summaries\u001b[0;34m()\u001b[0m\n",
      "\u001b[0;31mTypeError\u001b[0m: Cannot cast ufunc subtract output from dtype('complex128') to dtype('float64') with casting rule 'same_kind'"
     ]
    },
    {
     "name": "stderr",
     "output_type": "stream",
     "text": [
      "Exception ignored in: 'pomegranate.hmm.HiddenMarkovModel._from_summaries'\n",
      "Traceback (most recent call last):\n",
      "  File \"pomegranate/bayes.pyx\", line 710, in pomegranate.bayes.BayesModel.from_summaries\n",
      "  File \"pomegranate/distributions.pyx\", line 2259, in pomegranate.distributions.MultivariateGaussianDistribution.from_summaries\n",
      "TypeError: Cannot cast ufunc subtract output from dtype('complex128') to dtype('float64') with casting rule 'same_kind'\n"
     ]
    },
    {
     "name": "stdout",
     "output_type": "stream",
     "text": [
      "[38] Improvement: 0.0009993412531912327\tTime (s): 540.0\n"
     ]
    },
    {
     "ename": "TypeError",
     "evalue": "Cannot cast ufunc subtract output from dtype('complex128') to dtype('float64') with casting rule 'same_kind'",
     "output_type": "error",
     "traceback": [
      "\u001b[0;31m---------------------------------------------------------------------------\u001b[0m",
      "\u001b[0;31mLinAlgError\u001b[0m                               Traceback (most recent call last)",
      "\u001b[0;32mpomegranate/distributions.pyx\u001b[0m in \u001b[0;36mpomegranate.distributions.MultivariateGaussianDistribution.from_summaries\u001b[0;34m()\u001b[0m\n",
      "\u001b[0;32m/usr/local/lib/python3.5/dist-packages/scipy/linalg/decomp_cholesky.py\u001b[0m in \u001b[0;36mcholesky\u001b[0;34m(a, lower, overwrite_a, check_finite)\u001b[0m\n\u001b[1;32m     80\u001b[0m     c, lower = _cholesky(a, lower=lower, overwrite_a=overwrite_a, clean=True,\n\u001b[0;32m---> 81\u001b[0;31m                             check_finite=check_finite)\n\u001b[0m\u001b[1;32m     82\u001b[0m     \u001b[0;32mreturn\u001b[0m \u001b[0mc\u001b[0m\u001b[0;34m\u001b[0m\u001b[0m\n",
      "\u001b[0;32m/usr/local/lib/python3.5/dist-packages/scipy/linalg/decomp_cholesky.py\u001b[0m in \u001b[0;36m_cholesky\u001b[0;34m(a, lower, overwrite_a, clean, check_finite)\u001b[0m\n\u001b[1;32m     29\u001b[0m     \u001b[0;32mif\u001b[0m \u001b[0minfo\u001b[0m \u001b[0;34m>\u001b[0m \u001b[0;36m0\u001b[0m\u001b[0;34m:\u001b[0m\u001b[0;34m\u001b[0m\u001b[0m\n\u001b[0;32m---> 30\u001b[0;31m         \u001b[0;32mraise\u001b[0m \u001b[0mLinAlgError\u001b[0m\u001b[0;34m(\u001b[0m\u001b[0;34m\"%d-th leading minor not positive definite\"\u001b[0m \u001b[0;34m%\u001b[0m \u001b[0minfo\u001b[0m\u001b[0;34m)\u001b[0m\u001b[0;34m\u001b[0m\u001b[0m\n\u001b[0m\u001b[1;32m     31\u001b[0m     \u001b[0;32mif\u001b[0m \u001b[0minfo\u001b[0m \u001b[0;34m<\u001b[0m \u001b[0;36m0\u001b[0m\u001b[0;34m:\u001b[0m\u001b[0;34m\u001b[0m\u001b[0m\n",
      "\u001b[0;31mLinAlgError\u001b[0m: 24-th leading minor not positive definite",
      "\nDuring handling of the above exception, another exception occurred:\n",
      "\u001b[0;31mTypeError\u001b[0m                                 Traceback (most recent call last)",
      "\u001b[0;32mpomegranate/bayes.pyx\u001b[0m in \u001b[0;36mpomegranate.bayes.BayesModel.from_summaries\u001b[0;34m()\u001b[0m\n",
      "\u001b[0;32mpomegranate/distributions.pyx\u001b[0m in \u001b[0;36mpomegranate.distributions.MultivariateGaussianDistribution.from_summaries\u001b[0;34m()\u001b[0m\n",
      "\u001b[0;31mTypeError\u001b[0m: Cannot cast ufunc subtract output from dtype('complex128') to dtype('float64') with casting rule 'same_kind'"
     ]
    },
    {
     "name": "stderr",
     "output_type": "stream",
     "text": [
      "Exception ignored in: 'pomegranate.hmm.HiddenMarkovModel._from_summaries'\n",
      "Traceback (most recent call last):\n",
      "  File \"pomegranate/bayes.pyx\", line 710, in pomegranate.bayes.BayesModel.from_summaries\n",
      "  File \"pomegranate/distributions.pyx\", line 2259, in pomegranate.distributions.MultivariateGaussianDistribution.from_summaries\n",
      "TypeError: Cannot cast ufunc subtract output from dtype('complex128') to dtype('float64') with casting rule 'same_kind'\n"
     ]
    },
    {
     "name": "stdout",
     "output_type": "stream",
     "text": [
      "[39] Improvement: 0.001191070070490241\tTime (s): 539.7\n"
     ]
    },
    {
     "ename": "TypeError",
     "evalue": "Cannot cast ufunc subtract output from dtype('complex128') to dtype('float64') with casting rule 'same_kind'",
     "output_type": "error",
     "traceback": [
      "\u001b[0;31m---------------------------------------------------------------------------\u001b[0m",
      "\u001b[0;31mLinAlgError\u001b[0m                               Traceback (most recent call last)",
      "\u001b[0;32mpomegranate/distributions.pyx\u001b[0m in \u001b[0;36mpomegranate.distributions.MultivariateGaussianDistribution.from_summaries\u001b[0;34m()\u001b[0m\n",
      "\u001b[0;32m/usr/local/lib/python3.5/dist-packages/scipy/linalg/decomp_cholesky.py\u001b[0m in \u001b[0;36mcholesky\u001b[0;34m(a, lower, overwrite_a, check_finite)\u001b[0m\n\u001b[1;32m     80\u001b[0m     c, lower = _cholesky(a, lower=lower, overwrite_a=overwrite_a, clean=True,\n\u001b[0;32m---> 81\u001b[0;31m                             check_finite=check_finite)\n\u001b[0m\u001b[1;32m     82\u001b[0m     \u001b[0;32mreturn\u001b[0m \u001b[0mc\u001b[0m\u001b[0;34m\u001b[0m\u001b[0m\n",
      "\u001b[0;32m/usr/local/lib/python3.5/dist-packages/scipy/linalg/decomp_cholesky.py\u001b[0m in \u001b[0;36m_cholesky\u001b[0;34m(a, lower, overwrite_a, clean, check_finite)\u001b[0m\n\u001b[1;32m     29\u001b[0m     \u001b[0;32mif\u001b[0m \u001b[0minfo\u001b[0m \u001b[0;34m>\u001b[0m \u001b[0;36m0\u001b[0m\u001b[0;34m:\u001b[0m\u001b[0;34m\u001b[0m\u001b[0m\n\u001b[0;32m---> 30\u001b[0;31m         \u001b[0;32mraise\u001b[0m \u001b[0mLinAlgError\u001b[0m\u001b[0;34m(\u001b[0m\u001b[0;34m\"%d-th leading minor not positive definite\"\u001b[0m \u001b[0;34m%\u001b[0m \u001b[0minfo\u001b[0m\u001b[0;34m)\u001b[0m\u001b[0;34m\u001b[0m\u001b[0m\n\u001b[0m\u001b[1;32m     31\u001b[0m     \u001b[0;32mif\u001b[0m \u001b[0minfo\u001b[0m \u001b[0;34m<\u001b[0m \u001b[0;36m0\u001b[0m\u001b[0;34m:\u001b[0m\u001b[0;34m\u001b[0m\u001b[0m\n",
      "\u001b[0;31mLinAlgError\u001b[0m: 24-th leading minor not positive definite",
      "\nDuring handling of the above exception, another exception occurred:\n",
      "\u001b[0;31mTypeError\u001b[0m                                 Traceback (most recent call last)",
      "\u001b[0;32mpomegranate/bayes.pyx\u001b[0m in \u001b[0;36mpomegranate.bayes.BayesModel.from_summaries\u001b[0;34m()\u001b[0m\n",
      "\u001b[0;32mpomegranate/distributions.pyx\u001b[0m in \u001b[0;36mpomegranate.distributions.MultivariateGaussianDistribution.from_summaries\u001b[0;34m()\u001b[0m\n",
      "\u001b[0;31mTypeError\u001b[0m: Cannot cast ufunc subtract output from dtype('complex128') to dtype('float64') with casting rule 'same_kind'"
     ]
    },
    {
     "name": "stderr",
     "output_type": "stream",
     "text": [
      "Exception ignored in: 'pomegranate.hmm.HiddenMarkovModel._from_summaries'\n",
      "Traceback (most recent call last):\n",
      "  File \"pomegranate/bayes.pyx\", line 710, in pomegranate.bayes.BayesModel.from_summaries\n",
      "  File \"pomegranate/distributions.pyx\", line 2259, in pomegranate.distributions.MultivariateGaussianDistribution.from_summaries\n",
      "TypeError: Cannot cast ufunc subtract output from dtype('complex128') to dtype('float64') with casting rule 'same_kind'\n"
     ]
    },
    {
     "name": "stdout",
     "output_type": "stream",
     "text": [
      "[40] Improvement: 0.0014419096987694502\tTime (s): 535.4\n"
     ]
    },
    {
     "ename": "TypeError",
     "evalue": "Cannot cast ufunc subtract output from dtype('complex128') to dtype('float64') with casting rule 'same_kind'",
     "output_type": "error",
     "traceback": [
      "\u001b[0;31m---------------------------------------------------------------------------\u001b[0m",
      "\u001b[0;31mLinAlgError\u001b[0m                               Traceback (most recent call last)",
      "\u001b[0;32mpomegranate/distributions.pyx\u001b[0m in \u001b[0;36mpomegranate.distributions.MultivariateGaussianDistribution.from_summaries\u001b[0;34m()\u001b[0m\n",
      "\u001b[0;32m/usr/local/lib/python3.5/dist-packages/scipy/linalg/decomp_cholesky.py\u001b[0m in \u001b[0;36mcholesky\u001b[0;34m(a, lower, overwrite_a, check_finite)\u001b[0m\n\u001b[1;32m     80\u001b[0m     c, lower = _cholesky(a, lower=lower, overwrite_a=overwrite_a, clean=True,\n\u001b[0;32m---> 81\u001b[0;31m                             check_finite=check_finite)\n\u001b[0m\u001b[1;32m     82\u001b[0m     \u001b[0;32mreturn\u001b[0m \u001b[0mc\u001b[0m\u001b[0;34m\u001b[0m\u001b[0m\n",
      "\u001b[0;32m/usr/local/lib/python3.5/dist-packages/scipy/linalg/decomp_cholesky.py\u001b[0m in \u001b[0;36m_cholesky\u001b[0;34m(a, lower, overwrite_a, clean, check_finite)\u001b[0m\n\u001b[1;32m     29\u001b[0m     \u001b[0;32mif\u001b[0m \u001b[0minfo\u001b[0m \u001b[0;34m>\u001b[0m \u001b[0;36m0\u001b[0m\u001b[0;34m:\u001b[0m\u001b[0;34m\u001b[0m\u001b[0m\n\u001b[0;32m---> 30\u001b[0;31m         \u001b[0;32mraise\u001b[0m \u001b[0mLinAlgError\u001b[0m\u001b[0;34m(\u001b[0m\u001b[0;34m\"%d-th leading minor not positive definite\"\u001b[0m \u001b[0;34m%\u001b[0m \u001b[0minfo\u001b[0m\u001b[0;34m)\u001b[0m\u001b[0;34m\u001b[0m\u001b[0m\n\u001b[0m\u001b[1;32m     31\u001b[0m     \u001b[0;32mif\u001b[0m \u001b[0minfo\u001b[0m \u001b[0;34m<\u001b[0m \u001b[0;36m0\u001b[0m\u001b[0;34m:\u001b[0m\u001b[0;34m\u001b[0m\u001b[0m\n",
      "\u001b[0;31mLinAlgError\u001b[0m: 24-th leading minor not positive definite",
      "\nDuring handling of the above exception, another exception occurred:\n",
      "\u001b[0;31mTypeError\u001b[0m                                 Traceback (most recent call last)",
      "\u001b[0;32mpomegranate/bayes.pyx\u001b[0m in \u001b[0;36mpomegranate.bayes.BayesModel.from_summaries\u001b[0;34m()\u001b[0m\n",
      "\u001b[0;32mpomegranate/distributions.pyx\u001b[0m in \u001b[0;36mpomegranate.distributions.MultivariateGaussianDistribution.from_summaries\u001b[0;34m()\u001b[0m\n",
      "\u001b[0;31mTypeError\u001b[0m: Cannot cast ufunc subtract output from dtype('complex128') to dtype('float64') with casting rule 'same_kind'"
     ]
    },
    {
     "name": "stderr",
     "output_type": "stream",
     "text": [
      "Exception ignored in: 'pomegranate.hmm.HiddenMarkovModel._from_summaries'\n",
      "Traceback (most recent call last):\n",
      "  File \"pomegranate/bayes.pyx\", line 710, in pomegranate.bayes.BayesModel.from_summaries\n",
      "  File \"pomegranate/distributions.pyx\", line 2259, in pomegranate.distributions.MultivariateGaussianDistribution.from_summaries\n",
      "TypeError: Cannot cast ufunc subtract output from dtype('complex128') to dtype('float64') with casting rule 'same_kind'\n"
     ]
    },
    {
     "name": "stdout",
     "output_type": "stream",
     "text": [
      "[41] Improvement: 0.0017632839735597372\tTime (s): 540.5\n"
     ]
    },
    {
     "ename": "TypeError",
     "evalue": "Cannot cast ufunc subtract output from dtype('complex128') to dtype('float64') with casting rule 'same_kind'",
     "output_type": "error",
     "traceback": [
      "\u001b[0;31m---------------------------------------------------------------------------\u001b[0m",
      "\u001b[0;31mLinAlgError\u001b[0m                               Traceback (most recent call last)",
      "\u001b[0;32mpomegranate/distributions.pyx\u001b[0m in \u001b[0;36mpomegranate.distributions.MultivariateGaussianDistribution.from_summaries\u001b[0;34m()\u001b[0m\n",
      "\u001b[0;32m/usr/local/lib/python3.5/dist-packages/scipy/linalg/decomp_cholesky.py\u001b[0m in \u001b[0;36mcholesky\u001b[0;34m(a, lower, overwrite_a, check_finite)\u001b[0m\n\u001b[1;32m     80\u001b[0m     c, lower = _cholesky(a, lower=lower, overwrite_a=overwrite_a, clean=True,\n\u001b[0;32m---> 81\u001b[0;31m                             check_finite=check_finite)\n\u001b[0m\u001b[1;32m     82\u001b[0m     \u001b[0;32mreturn\u001b[0m \u001b[0mc\u001b[0m\u001b[0;34m\u001b[0m\u001b[0m\n",
      "\u001b[0;32m/usr/local/lib/python3.5/dist-packages/scipy/linalg/decomp_cholesky.py\u001b[0m in \u001b[0;36m_cholesky\u001b[0;34m(a, lower, overwrite_a, clean, check_finite)\u001b[0m\n\u001b[1;32m     29\u001b[0m     \u001b[0;32mif\u001b[0m \u001b[0minfo\u001b[0m \u001b[0;34m>\u001b[0m \u001b[0;36m0\u001b[0m\u001b[0;34m:\u001b[0m\u001b[0;34m\u001b[0m\u001b[0m\n\u001b[0;32m---> 30\u001b[0;31m         \u001b[0;32mraise\u001b[0m \u001b[0mLinAlgError\u001b[0m\u001b[0;34m(\u001b[0m\u001b[0;34m\"%d-th leading minor not positive definite\"\u001b[0m \u001b[0;34m%\u001b[0m \u001b[0minfo\u001b[0m\u001b[0;34m)\u001b[0m\u001b[0;34m\u001b[0m\u001b[0m\n\u001b[0m\u001b[1;32m     31\u001b[0m     \u001b[0;32mif\u001b[0m \u001b[0minfo\u001b[0m \u001b[0;34m<\u001b[0m \u001b[0;36m0\u001b[0m\u001b[0;34m:\u001b[0m\u001b[0;34m\u001b[0m\u001b[0m\n",
      "\u001b[0;31mLinAlgError\u001b[0m: 24-th leading minor not positive definite",
      "\nDuring handling of the above exception, another exception occurred:\n",
      "\u001b[0;31mTypeError\u001b[0m                                 Traceback (most recent call last)",
      "\u001b[0;32mpomegranate/bayes.pyx\u001b[0m in \u001b[0;36mpomegranate.bayes.BayesModel.from_summaries\u001b[0;34m()\u001b[0m\n",
      "\u001b[0;32mpomegranate/distributions.pyx\u001b[0m in \u001b[0;36mpomegranate.distributions.MultivariateGaussianDistribution.from_summaries\u001b[0;34m()\u001b[0m\n",
      "\u001b[0;31mTypeError\u001b[0m: Cannot cast ufunc subtract output from dtype('complex128') to dtype('float64') with casting rule 'same_kind'"
     ]
    },
    {
     "name": "stderr",
     "output_type": "stream",
     "text": [
      "Exception ignored in: 'pomegranate.hmm.HiddenMarkovModel._from_summaries'\n",
      "Traceback (most recent call last):\n",
      "  File \"pomegranate/bayes.pyx\", line 710, in pomegranate.bayes.BayesModel.from_summaries\n",
      "  File \"pomegranate/distributions.pyx\", line 2259, in pomegranate.distributions.MultivariateGaussianDistribution.from_summaries\n",
      "TypeError: Cannot cast ufunc subtract output from dtype('complex128') to dtype('float64') with casting rule 'same_kind'\n"
     ]
    },
    {
     "name": "stdout",
     "output_type": "stream",
     "text": [
      "[42] Improvement: 0.002181523945182562\tTime (s): 541.7\n"
     ]
    },
    {
     "ename": "TypeError",
     "evalue": "Cannot cast ufunc subtract output from dtype('complex128') to dtype('float64') with casting rule 'same_kind'",
     "output_type": "error",
     "traceback": [
      "\u001b[0;31m---------------------------------------------------------------------------\u001b[0m",
      "\u001b[0;31mLinAlgError\u001b[0m                               Traceback (most recent call last)",
      "\u001b[0;32mpomegranate/distributions.pyx\u001b[0m in \u001b[0;36mpomegranate.distributions.MultivariateGaussianDistribution.from_summaries\u001b[0;34m()\u001b[0m\n",
      "\u001b[0;32m/usr/local/lib/python3.5/dist-packages/scipy/linalg/decomp_cholesky.py\u001b[0m in \u001b[0;36mcholesky\u001b[0;34m(a, lower, overwrite_a, check_finite)\u001b[0m\n\u001b[1;32m     80\u001b[0m     c, lower = _cholesky(a, lower=lower, overwrite_a=overwrite_a, clean=True,\n\u001b[0;32m---> 81\u001b[0;31m                             check_finite=check_finite)\n\u001b[0m\u001b[1;32m     82\u001b[0m     \u001b[0;32mreturn\u001b[0m \u001b[0mc\u001b[0m\u001b[0;34m\u001b[0m\u001b[0m\n",
      "\u001b[0;32m/usr/local/lib/python3.5/dist-packages/scipy/linalg/decomp_cholesky.py\u001b[0m in \u001b[0;36m_cholesky\u001b[0;34m(a, lower, overwrite_a, clean, check_finite)\u001b[0m\n\u001b[1;32m     29\u001b[0m     \u001b[0;32mif\u001b[0m \u001b[0minfo\u001b[0m \u001b[0;34m>\u001b[0m \u001b[0;36m0\u001b[0m\u001b[0;34m:\u001b[0m\u001b[0;34m\u001b[0m\u001b[0m\n\u001b[0;32m---> 30\u001b[0;31m         \u001b[0;32mraise\u001b[0m \u001b[0mLinAlgError\u001b[0m\u001b[0;34m(\u001b[0m\u001b[0;34m\"%d-th leading minor not positive definite\"\u001b[0m \u001b[0;34m%\u001b[0m \u001b[0minfo\u001b[0m\u001b[0;34m)\u001b[0m\u001b[0;34m\u001b[0m\u001b[0m\n\u001b[0m\u001b[1;32m     31\u001b[0m     \u001b[0;32mif\u001b[0m \u001b[0minfo\u001b[0m \u001b[0;34m<\u001b[0m \u001b[0;36m0\u001b[0m\u001b[0;34m:\u001b[0m\u001b[0;34m\u001b[0m\u001b[0m\n",
      "\u001b[0;31mLinAlgError\u001b[0m: 24-th leading minor not positive definite",
      "\nDuring handling of the above exception, another exception occurred:\n",
      "\u001b[0;31mTypeError\u001b[0m                                 Traceback (most recent call last)",
      "\u001b[0;32mpomegranate/bayes.pyx\u001b[0m in \u001b[0;36mpomegranate.bayes.BayesModel.from_summaries\u001b[0;34m()\u001b[0m\n",
      "\u001b[0;32mpomegranate/distributions.pyx\u001b[0m in \u001b[0;36mpomegranate.distributions.MultivariateGaussianDistribution.from_summaries\u001b[0;34m()\u001b[0m\n",
      "\u001b[0;31mTypeError\u001b[0m: Cannot cast ufunc subtract output from dtype('complex128') to dtype('float64') with casting rule 'same_kind'"
     ]
    },
    {
     "name": "stderr",
     "output_type": "stream",
     "text": [
      "Exception ignored in: 'pomegranate.hmm.HiddenMarkovModel._from_summaries'\n",
      "Traceback (most recent call last):\n",
      "  File \"pomegranate/bayes.pyx\", line 710, in pomegranate.bayes.BayesModel.from_summaries\n",
      "  File \"pomegranate/distributions.pyx\", line 2259, in pomegranate.distributions.MultivariateGaussianDistribution.from_summaries\n",
      "TypeError: Cannot cast ufunc subtract output from dtype('complex128') to dtype('float64') with casting rule 'same_kind'\n"
     ]
    },
    {
     "name": "stdout",
     "output_type": "stream",
     "text": [
      "[43] Improvement: 0.0027372855693101883\tTime (s): 541.3\n"
     ]
    },
    {
     "ename": "TypeError",
     "evalue": "Cannot cast ufunc subtract output from dtype('complex128') to dtype('float64') with casting rule 'same_kind'",
     "output_type": "error",
     "traceback": [
      "\u001b[0;31m---------------------------------------------------------------------------\u001b[0m",
      "\u001b[0;31mLinAlgError\u001b[0m                               Traceback (most recent call last)",
      "\u001b[0;32mpomegranate/distributions.pyx\u001b[0m in \u001b[0;36mpomegranate.distributions.MultivariateGaussianDistribution.from_summaries\u001b[0;34m()\u001b[0m\n",
      "\u001b[0;32m/usr/local/lib/python3.5/dist-packages/scipy/linalg/decomp_cholesky.py\u001b[0m in \u001b[0;36mcholesky\u001b[0;34m(a, lower, overwrite_a, check_finite)\u001b[0m\n\u001b[1;32m     80\u001b[0m     c, lower = _cholesky(a, lower=lower, overwrite_a=overwrite_a, clean=True,\n\u001b[0;32m---> 81\u001b[0;31m                             check_finite=check_finite)\n\u001b[0m\u001b[1;32m     82\u001b[0m     \u001b[0;32mreturn\u001b[0m \u001b[0mc\u001b[0m\u001b[0;34m\u001b[0m\u001b[0m\n",
      "\u001b[0;32m/usr/local/lib/python3.5/dist-packages/scipy/linalg/decomp_cholesky.py\u001b[0m in \u001b[0;36m_cholesky\u001b[0;34m(a, lower, overwrite_a, clean, check_finite)\u001b[0m\n\u001b[1;32m     29\u001b[0m     \u001b[0;32mif\u001b[0m \u001b[0minfo\u001b[0m \u001b[0;34m>\u001b[0m \u001b[0;36m0\u001b[0m\u001b[0;34m:\u001b[0m\u001b[0;34m\u001b[0m\u001b[0m\n\u001b[0;32m---> 30\u001b[0;31m         \u001b[0;32mraise\u001b[0m \u001b[0mLinAlgError\u001b[0m\u001b[0;34m(\u001b[0m\u001b[0;34m\"%d-th leading minor not positive definite\"\u001b[0m \u001b[0;34m%\u001b[0m \u001b[0minfo\u001b[0m\u001b[0;34m)\u001b[0m\u001b[0;34m\u001b[0m\u001b[0m\n\u001b[0m\u001b[1;32m     31\u001b[0m     \u001b[0;32mif\u001b[0m \u001b[0minfo\u001b[0m \u001b[0;34m<\u001b[0m \u001b[0;36m0\u001b[0m\u001b[0;34m:\u001b[0m\u001b[0;34m\u001b[0m\u001b[0m\n",
      "\u001b[0;31mLinAlgError\u001b[0m: 24-th leading minor not positive definite",
      "\nDuring handling of the above exception, another exception occurred:\n",
      "\u001b[0;31mTypeError\u001b[0m                                 Traceback (most recent call last)",
      "\u001b[0;32mpomegranate/bayes.pyx\u001b[0m in \u001b[0;36mpomegranate.bayes.BayesModel.from_summaries\u001b[0;34m()\u001b[0m\n",
      "\u001b[0;32mpomegranate/distributions.pyx\u001b[0m in \u001b[0;36mpomegranate.distributions.MultivariateGaussianDistribution.from_summaries\u001b[0;34m()\u001b[0m\n",
      "\u001b[0;31mTypeError\u001b[0m: Cannot cast ufunc subtract output from dtype('complex128') to dtype('float64') with casting rule 'same_kind'"
     ]
    },
    {
     "name": "stderr",
     "output_type": "stream",
     "text": [
      "Exception ignored in: 'pomegranate.hmm.HiddenMarkovModel._from_summaries'\n",
      "Traceback (most recent call last):\n",
      "  File \"pomegranate/bayes.pyx\", line 710, in pomegranate.bayes.BayesModel.from_summaries\n",
      "  File \"pomegranate/distributions.pyx\", line 2259, in pomegranate.distributions.MultivariateGaussianDistribution.from_summaries\n",
      "TypeError: Cannot cast ufunc subtract output from dtype('complex128') to dtype('float64') with casting rule 'same_kind'\n"
     ]
    },
    {
     "name": "stdout",
     "output_type": "stream",
     "text": [
      "[44] Improvement: 0.003487061243504286\tTime (s): 533.4\n"
     ]
    },
    {
     "ename": "TypeError",
     "evalue": "Cannot cast ufunc subtract output from dtype('complex128') to dtype('float64') with casting rule 'same_kind'",
     "output_type": "error",
     "traceback": [
      "\u001b[0;31m---------------------------------------------------------------------------\u001b[0m",
      "\u001b[0;31mLinAlgError\u001b[0m                               Traceback (most recent call last)",
      "\u001b[0;32mpomegranate/distributions.pyx\u001b[0m in \u001b[0;36mpomegranate.distributions.MultivariateGaussianDistribution.from_summaries\u001b[0;34m()\u001b[0m\n",
      "\u001b[0;32m/usr/local/lib/python3.5/dist-packages/scipy/linalg/decomp_cholesky.py\u001b[0m in \u001b[0;36mcholesky\u001b[0;34m(a, lower, overwrite_a, check_finite)\u001b[0m\n\u001b[1;32m     80\u001b[0m     c, lower = _cholesky(a, lower=lower, overwrite_a=overwrite_a, clean=True,\n\u001b[0;32m---> 81\u001b[0;31m                             check_finite=check_finite)\n\u001b[0m\u001b[1;32m     82\u001b[0m     \u001b[0;32mreturn\u001b[0m \u001b[0mc\u001b[0m\u001b[0;34m\u001b[0m\u001b[0m\n",
      "\u001b[0;32m/usr/local/lib/python3.5/dist-packages/scipy/linalg/decomp_cholesky.py\u001b[0m in \u001b[0;36m_cholesky\u001b[0;34m(a, lower, overwrite_a, clean, check_finite)\u001b[0m\n\u001b[1;32m     29\u001b[0m     \u001b[0;32mif\u001b[0m \u001b[0minfo\u001b[0m \u001b[0;34m>\u001b[0m \u001b[0;36m0\u001b[0m\u001b[0;34m:\u001b[0m\u001b[0;34m\u001b[0m\u001b[0m\n\u001b[0;32m---> 30\u001b[0;31m         \u001b[0;32mraise\u001b[0m \u001b[0mLinAlgError\u001b[0m\u001b[0;34m(\u001b[0m\u001b[0;34m\"%d-th leading minor not positive definite\"\u001b[0m \u001b[0;34m%\u001b[0m \u001b[0minfo\u001b[0m\u001b[0;34m)\u001b[0m\u001b[0;34m\u001b[0m\u001b[0m\n\u001b[0m\u001b[1;32m     31\u001b[0m     \u001b[0;32mif\u001b[0m \u001b[0minfo\u001b[0m \u001b[0;34m<\u001b[0m \u001b[0;36m0\u001b[0m\u001b[0;34m:\u001b[0m\u001b[0;34m\u001b[0m\u001b[0m\n",
      "\u001b[0;31mLinAlgError\u001b[0m: 24-th leading minor not positive definite",
      "\nDuring handling of the above exception, another exception occurred:\n",
      "\u001b[0;31mTypeError\u001b[0m                                 Traceback (most recent call last)",
      "\u001b[0;32mpomegranate/bayes.pyx\u001b[0m in \u001b[0;36mpomegranate.bayes.BayesModel.from_summaries\u001b[0;34m()\u001b[0m\n",
      "\u001b[0;32mpomegranate/distributions.pyx\u001b[0m in \u001b[0;36mpomegranate.distributions.MultivariateGaussianDistribution.from_summaries\u001b[0;34m()\u001b[0m\n",
      "\u001b[0;31mTypeError\u001b[0m: Cannot cast ufunc subtract output from dtype('complex128') to dtype('float64') with casting rule 'same_kind'"
     ]
    },
    {
     "name": "stderr",
     "output_type": "stream",
     "text": [
      "Exception ignored in: 'pomegranate.hmm.HiddenMarkovModel._from_summaries'\n",
      "Traceback (most recent call last):\n",
      "  File \"pomegranate/bayes.pyx\", line 710, in pomegranate.bayes.BayesModel.from_summaries\n",
      "  File \"pomegranate/distributions.pyx\", line 2259, in pomegranate.distributions.MultivariateGaussianDistribution.from_summaries\n",
      "TypeError: Cannot cast ufunc subtract output from dtype('complex128') to dtype('float64') with casting rule 'same_kind'\n"
     ]
    },
    {
     "name": "stdout",
     "output_type": "stream",
     "text": [
      "[45] Improvement: 0.004502558847889304\tTime (s): 538.3\n"
     ]
    },
    {
     "ename": "TypeError",
     "evalue": "Cannot cast ufunc subtract output from dtype('complex128') to dtype('float64') with casting rule 'same_kind'",
     "output_type": "error",
     "traceback": [
      "\u001b[0;31m---------------------------------------------------------------------------\u001b[0m",
      "\u001b[0;31mLinAlgError\u001b[0m                               Traceback (most recent call last)",
      "\u001b[0;32mpomegranate/distributions.pyx\u001b[0m in \u001b[0;36mpomegranate.distributions.MultivariateGaussianDistribution.from_summaries\u001b[0;34m()\u001b[0m\n",
      "\u001b[0;32m/usr/local/lib/python3.5/dist-packages/scipy/linalg/decomp_cholesky.py\u001b[0m in \u001b[0;36mcholesky\u001b[0;34m(a, lower, overwrite_a, check_finite)\u001b[0m\n\u001b[1;32m     80\u001b[0m     c, lower = _cholesky(a, lower=lower, overwrite_a=overwrite_a, clean=True,\n\u001b[0;32m---> 81\u001b[0;31m                             check_finite=check_finite)\n\u001b[0m\u001b[1;32m     82\u001b[0m     \u001b[0;32mreturn\u001b[0m \u001b[0mc\u001b[0m\u001b[0;34m\u001b[0m\u001b[0m\n",
      "\u001b[0;32m/usr/local/lib/python3.5/dist-packages/scipy/linalg/decomp_cholesky.py\u001b[0m in \u001b[0;36m_cholesky\u001b[0;34m(a, lower, overwrite_a, clean, check_finite)\u001b[0m\n\u001b[1;32m     29\u001b[0m     \u001b[0;32mif\u001b[0m \u001b[0minfo\u001b[0m \u001b[0;34m>\u001b[0m \u001b[0;36m0\u001b[0m\u001b[0;34m:\u001b[0m\u001b[0;34m\u001b[0m\u001b[0m\n\u001b[0;32m---> 30\u001b[0;31m         \u001b[0;32mraise\u001b[0m \u001b[0mLinAlgError\u001b[0m\u001b[0;34m(\u001b[0m\u001b[0;34m\"%d-th leading minor not positive definite\"\u001b[0m \u001b[0;34m%\u001b[0m \u001b[0minfo\u001b[0m\u001b[0;34m)\u001b[0m\u001b[0;34m\u001b[0m\u001b[0m\n\u001b[0m\u001b[1;32m     31\u001b[0m     \u001b[0;32mif\u001b[0m \u001b[0minfo\u001b[0m \u001b[0;34m<\u001b[0m \u001b[0;36m0\u001b[0m\u001b[0;34m:\u001b[0m\u001b[0;34m\u001b[0m\u001b[0m\n",
      "\u001b[0;31mLinAlgError\u001b[0m: 24-th leading minor not positive definite",
      "\nDuring handling of the above exception, another exception occurred:\n",
      "\u001b[0;31mTypeError\u001b[0m                                 Traceback (most recent call last)",
      "\u001b[0;32mpomegranate/bayes.pyx\u001b[0m in \u001b[0;36mpomegranate.bayes.BayesModel.from_summaries\u001b[0;34m()\u001b[0m\n",
      "\u001b[0;32mpomegranate/distributions.pyx\u001b[0m in \u001b[0;36mpomegranate.distributions.MultivariateGaussianDistribution.from_summaries\u001b[0;34m()\u001b[0m\n",
      "\u001b[0;31mTypeError\u001b[0m: Cannot cast ufunc subtract output from dtype('complex128') to dtype('float64') with casting rule 'same_kind'"
     ]
    },
    {
     "name": "stderr",
     "output_type": "stream",
     "text": [
      "Exception ignored in: 'pomegranate.hmm.HiddenMarkovModel._from_summaries'\n",
      "Traceback (most recent call last):\n",
      "  File \"pomegranate/bayes.pyx\", line 710, in pomegranate.bayes.BayesModel.from_summaries\n",
      "  File \"pomegranate/distributions.pyx\", line 2259, in pomegranate.distributions.MultivariateGaussianDistribution.from_summaries\n",
      "TypeError: Cannot cast ufunc subtract output from dtype('complex128') to dtype('float64') with casting rule 'same_kind'\n"
     ]
    },
    {
     "name": "stdout",
     "output_type": "stream",
     "text": [
      "[46] Improvement: 0.005859382683411241\tTime (s): 544.0\n"
     ]
    },
    {
     "ename": "TypeError",
     "evalue": "Cannot cast ufunc subtract output from dtype('complex128') to dtype('float64') with casting rule 'same_kind'",
     "output_type": "error",
     "traceback": [
      "\u001b[0;31m---------------------------------------------------------------------------\u001b[0m",
      "\u001b[0;31mLinAlgError\u001b[0m                               Traceback (most recent call last)",
      "\u001b[0;32mpomegranate/distributions.pyx\u001b[0m in \u001b[0;36mpomegranate.distributions.MultivariateGaussianDistribution.from_summaries\u001b[0;34m()\u001b[0m\n",
      "\u001b[0;32m/usr/local/lib/python3.5/dist-packages/scipy/linalg/decomp_cholesky.py\u001b[0m in \u001b[0;36mcholesky\u001b[0;34m(a, lower, overwrite_a, check_finite)\u001b[0m\n\u001b[1;32m     80\u001b[0m     c, lower = _cholesky(a, lower=lower, overwrite_a=overwrite_a, clean=True,\n\u001b[0;32m---> 81\u001b[0;31m                             check_finite=check_finite)\n\u001b[0m\u001b[1;32m     82\u001b[0m     \u001b[0;32mreturn\u001b[0m \u001b[0mc\u001b[0m\u001b[0;34m\u001b[0m\u001b[0m\n",
      "\u001b[0;32m/usr/local/lib/python3.5/dist-packages/scipy/linalg/decomp_cholesky.py\u001b[0m in \u001b[0;36m_cholesky\u001b[0;34m(a, lower, overwrite_a, clean, check_finite)\u001b[0m\n\u001b[1;32m     29\u001b[0m     \u001b[0;32mif\u001b[0m \u001b[0minfo\u001b[0m \u001b[0;34m>\u001b[0m \u001b[0;36m0\u001b[0m\u001b[0;34m:\u001b[0m\u001b[0;34m\u001b[0m\u001b[0m\n\u001b[0;32m---> 30\u001b[0;31m         \u001b[0;32mraise\u001b[0m \u001b[0mLinAlgError\u001b[0m\u001b[0;34m(\u001b[0m\u001b[0;34m\"%d-th leading minor not positive definite\"\u001b[0m \u001b[0;34m%\u001b[0m \u001b[0minfo\u001b[0m\u001b[0;34m)\u001b[0m\u001b[0;34m\u001b[0m\u001b[0m\n\u001b[0m\u001b[1;32m     31\u001b[0m     \u001b[0;32mif\u001b[0m \u001b[0minfo\u001b[0m \u001b[0;34m<\u001b[0m \u001b[0;36m0\u001b[0m\u001b[0;34m:\u001b[0m\u001b[0;34m\u001b[0m\u001b[0m\n",
      "\u001b[0;31mLinAlgError\u001b[0m: 24-th leading minor not positive definite",
      "\nDuring handling of the above exception, another exception occurred:\n",
      "\u001b[0;31mTypeError\u001b[0m                                 Traceback (most recent call last)",
      "\u001b[0;32mpomegranate/bayes.pyx\u001b[0m in \u001b[0;36mpomegranate.bayes.BayesModel.from_summaries\u001b[0;34m()\u001b[0m\n",
      "\u001b[0;32mpomegranate/distributions.pyx\u001b[0m in \u001b[0;36mpomegranate.distributions.MultivariateGaussianDistribution.from_summaries\u001b[0;34m()\u001b[0m\n",
      "\u001b[0;31mTypeError\u001b[0m: Cannot cast ufunc subtract output from dtype('complex128') to dtype('float64') with casting rule 'same_kind'"
     ]
    },
    {
     "name": "stderr",
     "output_type": "stream",
     "text": [
      "Exception ignored in: 'pomegranate.hmm.HiddenMarkovModel._from_summaries'\n",
      "Traceback (most recent call last):\n",
      "  File \"pomegranate/bayes.pyx\", line 710, in pomegranate.bayes.BayesModel.from_summaries\n",
      "  File \"pomegranate/distributions.pyx\", line 2259, in pomegranate.distributions.MultivariateGaussianDistribution.from_summaries\n",
      "TypeError: Cannot cast ufunc subtract output from dtype('complex128') to dtype('float64') with casting rule 'same_kind'\n"
     ]
    },
    {
     "name": "stdout",
     "output_type": "stream",
     "text": [
      "[47] Improvement: 0.007597721880301833\tTime (s): 538.6\n"
     ]
    },
    {
     "ename": "TypeError",
     "evalue": "Cannot cast ufunc subtract output from dtype('complex128') to dtype('float64') with casting rule 'same_kind'",
     "output_type": "error",
     "traceback": [
      "\u001b[0;31m---------------------------------------------------------------------------\u001b[0m",
      "\u001b[0;31mLinAlgError\u001b[0m                               Traceback (most recent call last)",
      "\u001b[0;32mpomegranate/distributions.pyx\u001b[0m in \u001b[0;36mpomegranate.distributions.MultivariateGaussianDistribution.from_summaries\u001b[0;34m()\u001b[0m\n",
      "\u001b[0;32m/usr/local/lib/python3.5/dist-packages/scipy/linalg/decomp_cholesky.py\u001b[0m in \u001b[0;36mcholesky\u001b[0;34m(a, lower, overwrite_a, check_finite)\u001b[0m\n\u001b[1;32m     80\u001b[0m     c, lower = _cholesky(a, lower=lower, overwrite_a=overwrite_a, clean=True,\n\u001b[0;32m---> 81\u001b[0;31m                             check_finite=check_finite)\n\u001b[0m\u001b[1;32m     82\u001b[0m     \u001b[0;32mreturn\u001b[0m \u001b[0mc\u001b[0m\u001b[0;34m\u001b[0m\u001b[0m\n",
      "\u001b[0;32m/usr/local/lib/python3.5/dist-packages/scipy/linalg/decomp_cholesky.py\u001b[0m in \u001b[0;36m_cholesky\u001b[0;34m(a, lower, overwrite_a, clean, check_finite)\u001b[0m\n\u001b[1;32m     29\u001b[0m     \u001b[0;32mif\u001b[0m \u001b[0minfo\u001b[0m \u001b[0;34m>\u001b[0m \u001b[0;36m0\u001b[0m\u001b[0;34m:\u001b[0m\u001b[0;34m\u001b[0m\u001b[0m\n\u001b[0;32m---> 30\u001b[0;31m         \u001b[0;32mraise\u001b[0m \u001b[0mLinAlgError\u001b[0m\u001b[0;34m(\u001b[0m\u001b[0;34m\"%d-th leading minor not positive definite\"\u001b[0m \u001b[0;34m%\u001b[0m \u001b[0minfo\u001b[0m\u001b[0;34m)\u001b[0m\u001b[0;34m\u001b[0m\u001b[0m\n\u001b[0m\u001b[1;32m     31\u001b[0m     \u001b[0;32mif\u001b[0m \u001b[0minfo\u001b[0m \u001b[0;34m<\u001b[0m \u001b[0;36m0\u001b[0m\u001b[0;34m:\u001b[0m\u001b[0;34m\u001b[0m\u001b[0m\n",
      "\u001b[0;31mLinAlgError\u001b[0m: 24-th leading minor not positive definite",
      "\nDuring handling of the above exception, another exception occurred:\n",
      "\u001b[0;31mTypeError\u001b[0m                                 Traceback (most recent call last)",
      "\u001b[0;32mpomegranate/bayes.pyx\u001b[0m in \u001b[0;36mpomegranate.bayes.BayesModel.from_summaries\u001b[0;34m()\u001b[0m\n",
      "\u001b[0;32mpomegranate/distributions.pyx\u001b[0m in \u001b[0;36mpomegranate.distributions.MultivariateGaussianDistribution.from_summaries\u001b[0;34m()\u001b[0m\n",
      "\u001b[0;31mTypeError\u001b[0m: Cannot cast ufunc subtract output from dtype('complex128') to dtype('float64') with casting rule 'same_kind'"
     ]
    },
    {
     "name": "stderr",
     "output_type": "stream",
     "text": [
      "Exception ignored in: 'pomegranate.hmm.HiddenMarkovModel._from_summaries'\n",
      "Traceback (most recent call last):\n",
      "  File \"pomegranate/bayes.pyx\", line 710, in pomegranate.bayes.BayesModel.from_summaries\n",
      "  File \"pomegranate/distributions.pyx\", line 2259, in pomegranate.distributions.MultivariateGaussianDistribution.from_summaries\n",
      "TypeError: Cannot cast ufunc subtract output from dtype('complex128') to dtype('float64') with casting rule 'same_kind'\n"
     ]
    },
    {
     "name": "stdout",
     "output_type": "stream",
     "text": [
      "[48] Improvement: 0.009630846790969372\tTime (s): 543.9\n"
     ]
    },
    {
     "ename": "TypeError",
     "evalue": "Cannot cast ufunc subtract output from dtype('complex128') to dtype('float64') with casting rule 'same_kind'",
     "output_type": "error",
     "traceback": [
      "\u001b[0;31m---------------------------------------------------------------------------\u001b[0m",
      "\u001b[0;31mLinAlgError\u001b[0m                               Traceback (most recent call last)",
      "\u001b[0;32mpomegranate/distributions.pyx\u001b[0m in \u001b[0;36mpomegranate.distributions.MultivariateGaussianDistribution.from_summaries\u001b[0;34m()\u001b[0m\n",
      "\u001b[0;32m/usr/local/lib/python3.5/dist-packages/scipy/linalg/decomp_cholesky.py\u001b[0m in \u001b[0;36mcholesky\u001b[0;34m(a, lower, overwrite_a, check_finite)\u001b[0m\n\u001b[1;32m     80\u001b[0m     c, lower = _cholesky(a, lower=lower, overwrite_a=overwrite_a, clean=True,\n\u001b[0;32m---> 81\u001b[0;31m                             check_finite=check_finite)\n\u001b[0m\u001b[1;32m     82\u001b[0m     \u001b[0;32mreturn\u001b[0m \u001b[0mc\u001b[0m\u001b[0;34m\u001b[0m\u001b[0m\n",
      "\u001b[0;32m/usr/local/lib/python3.5/dist-packages/scipy/linalg/decomp_cholesky.py\u001b[0m in \u001b[0;36m_cholesky\u001b[0;34m(a, lower, overwrite_a, clean, check_finite)\u001b[0m\n\u001b[1;32m     29\u001b[0m     \u001b[0;32mif\u001b[0m \u001b[0minfo\u001b[0m \u001b[0;34m>\u001b[0m \u001b[0;36m0\u001b[0m\u001b[0;34m:\u001b[0m\u001b[0;34m\u001b[0m\u001b[0m\n\u001b[0;32m---> 30\u001b[0;31m         \u001b[0;32mraise\u001b[0m \u001b[0mLinAlgError\u001b[0m\u001b[0;34m(\u001b[0m\u001b[0;34m\"%d-th leading minor not positive definite\"\u001b[0m \u001b[0;34m%\u001b[0m \u001b[0minfo\u001b[0m\u001b[0;34m)\u001b[0m\u001b[0;34m\u001b[0m\u001b[0m\n\u001b[0m\u001b[1;32m     31\u001b[0m     \u001b[0;32mif\u001b[0m \u001b[0minfo\u001b[0m \u001b[0;34m<\u001b[0m \u001b[0;36m0\u001b[0m\u001b[0;34m:\u001b[0m\u001b[0;34m\u001b[0m\u001b[0m\n",
      "\u001b[0;31mLinAlgError\u001b[0m: 24-th leading minor not positive definite",
      "\nDuring handling of the above exception, another exception occurred:\n",
      "\u001b[0;31mTypeError\u001b[0m                                 Traceback (most recent call last)",
      "\u001b[0;32mpomegranate/bayes.pyx\u001b[0m in \u001b[0;36mpomegranate.bayes.BayesModel.from_summaries\u001b[0;34m()\u001b[0m\n",
      "\u001b[0;32mpomegranate/distributions.pyx\u001b[0m in \u001b[0;36mpomegranate.distributions.MultivariateGaussianDistribution.from_summaries\u001b[0;34m()\u001b[0m\n",
      "\u001b[0;31mTypeError\u001b[0m: Cannot cast ufunc subtract output from dtype('complex128') to dtype('float64') with casting rule 'same_kind'"
     ]
    },
    {
     "name": "stderr",
     "output_type": "stream",
     "text": [
      "Exception ignored in: 'pomegranate.hmm.HiddenMarkovModel._from_summaries'\n",
      "Traceback (most recent call last):\n",
      "  File \"pomegranate/bayes.pyx\", line 710, in pomegranate.bayes.BayesModel.from_summaries\n",
      "  File \"pomegranate/distributions.pyx\", line 2259, in pomegranate.distributions.MultivariateGaussianDistribution.from_summaries\n",
      "TypeError: Cannot cast ufunc subtract output from dtype('complex128') to dtype('float64') with casting rule 'same_kind'\n"
     ]
    },
    {
     "name": "stdout",
     "output_type": "stream",
     "text": [
      "[49] Improvement: 0.011602562153711915\tTime (s): 532.9\n"
     ]
    },
    {
     "ename": "TypeError",
     "evalue": "Cannot cast ufunc subtract output from dtype('complex128') to dtype('float64') with casting rule 'same_kind'",
     "output_type": "error",
     "traceback": [
      "\u001b[0;31m---------------------------------------------------------------------------\u001b[0m",
      "\u001b[0;31mLinAlgError\u001b[0m                               Traceback (most recent call last)",
      "\u001b[0;32mpomegranate/distributions.pyx\u001b[0m in \u001b[0;36mpomegranate.distributions.MultivariateGaussianDistribution.from_summaries\u001b[0;34m()\u001b[0m\n",
      "\u001b[0;32m/usr/local/lib/python3.5/dist-packages/scipy/linalg/decomp_cholesky.py\u001b[0m in \u001b[0;36mcholesky\u001b[0;34m(a, lower, overwrite_a, check_finite)\u001b[0m\n\u001b[1;32m     80\u001b[0m     c, lower = _cholesky(a, lower=lower, overwrite_a=overwrite_a, clean=True,\n\u001b[0;32m---> 81\u001b[0;31m                             check_finite=check_finite)\n\u001b[0m\u001b[1;32m     82\u001b[0m     \u001b[0;32mreturn\u001b[0m \u001b[0mc\u001b[0m\u001b[0;34m\u001b[0m\u001b[0m\n",
      "\u001b[0;32m/usr/local/lib/python3.5/dist-packages/scipy/linalg/decomp_cholesky.py\u001b[0m in \u001b[0;36m_cholesky\u001b[0;34m(a, lower, overwrite_a, clean, check_finite)\u001b[0m\n\u001b[1;32m     29\u001b[0m     \u001b[0;32mif\u001b[0m \u001b[0minfo\u001b[0m \u001b[0;34m>\u001b[0m \u001b[0;36m0\u001b[0m\u001b[0;34m:\u001b[0m\u001b[0;34m\u001b[0m\u001b[0m\n\u001b[0;32m---> 30\u001b[0;31m         \u001b[0;32mraise\u001b[0m \u001b[0mLinAlgError\u001b[0m\u001b[0;34m(\u001b[0m\u001b[0;34m\"%d-th leading minor not positive definite\"\u001b[0m \u001b[0;34m%\u001b[0m \u001b[0minfo\u001b[0m\u001b[0;34m)\u001b[0m\u001b[0;34m\u001b[0m\u001b[0m\n\u001b[0m\u001b[1;32m     31\u001b[0m     \u001b[0;32mif\u001b[0m \u001b[0minfo\u001b[0m \u001b[0;34m<\u001b[0m \u001b[0;36m0\u001b[0m\u001b[0;34m:\u001b[0m\u001b[0;34m\u001b[0m\u001b[0m\n",
      "\u001b[0;31mLinAlgError\u001b[0m: 24-th leading minor not positive definite",
      "\nDuring handling of the above exception, another exception occurred:\n",
      "\u001b[0;31mTypeError\u001b[0m                                 Traceback (most recent call last)",
      "\u001b[0;32mpomegranate/bayes.pyx\u001b[0m in \u001b[0;36mpomegranate.bayes.BayesModel.from_summaries\u001b[0;34m()\u001b[0m\n",
      "\u001b[0;32mpomegranate/distributions.pyx\u001b[0m in \u001b[0;36mpomegranate.distributions.MultivariateGaussianDistribution.from_summaries\u001b[0;34m()\u001b[0m\n",
      "\u001b[0;31mTypeError\u001b[0m: Cannot cast ufunc subtract output from dtype('complex128') to dtype('float64') with casting rule 'same_kind'"
     ]
    },
    {
     "name": "stderr",
     "output_type": "stream",
     "text": [
      "Exception ignored in: 'pomegranate.hmm.HiddenMarkovModel._from_summaries'\n",
      "Traceback (most recent call last):\n",
      "  File \"pomegranate/bayes.pyx\", line 710, in pomegranate.bayes.BayesModel.from_summaries\n",
      "  File \"pomegranate/distributions.pyx\", line 2259, in pomegranate.distributions.MultivariateGaussianDistribution.from_summaries\n",
      "TypeError: Cannot cast ufunc subtract output from dtype('complex128') to dtype('float64') with casting rule 'same_kind'\n"
     ]
    },
    {
     "name": "stdout",
     "output_type": "stream",
     "text": [
      "[50] Improvement: 0.01280992547981441\tTime (s): 542.9\n"
     ]
    },
    {
     "ename": "TypeError",
     "evalue": "Cannot cast ufunc subtract output from dtype('complex128') to dtype('float64') with casting rule 'same_kind'",
     "output_type": "error",
     "traceback": [
      "\u001b[0;31m---------------------------------------------------------------------------\u001b[0m",
      "\u001b[0;31mLinAlgError\u001b[0m                               Traceback (most recent call last)",
      "\u001b[0;32mpomegranate/distributions.pyx\u001b[0m in \u001b[0;36mpomegranate.distributions.MultivariateGaussianDistribution.from_summaries\u001b[0;34m()\u001b[0m\n",
      "\u001b[0;32m/usr/local/lib/python3.5/dist-packages/scipy/linalg/decomp_cholesky.py\u001b[0m in \u001b[0;36mcholesky\u001b[0;34m(a, lower, overwrite_a, check_finite)\u001b[0m\n\u001b[1;32m     80\u001b[0m     c, lower = _cholesky(a, lower=lower, overwrite_a=overwrite_a, clean=True,\n\u001b[0;32m---> 81\u001b[0;31m                             check_finite=check_finite)\n\u001b[0m\u001b[1;32m     82\u001b[0m     \u001b[0;32mreturn\u001b[0m \u001b[0mc\u001b[0m\u001b[0;34m\u001b[0m\u001b[0m\n",
      "\u001b[0;32m/usr/local/lib/python3.5/dist-packages/scipy/linalg/decomp_cholesky.py\u001b[0m in \u001b[0;36m_cholesky\u001b[0;34m(a, lower, overwrite_a, clean, check_finite)\u001b[0m\n\u001b[1;32m     29\u001b[0m     \u001b[0;32mif\u001b[0m \u001b[0minfo\u001b[0m \u001b[0;34m>\u001b[0m \u001b[0;36m0\u001b[0m\u001b[0;34m:\u001b[0m\u001b[0;34m\u001b[0m\u001b[0m\n\u001b[0;32m---> 30\u001b[0;31m         \u001b[0;32mraise\u001b[0m \u001b[0mLinAlgError\u001b[0m\u001b[0;34m(\u001b[0m\u001b[0;34m\"%d-th leading minor not positive definite\"\u001b[0m \u001b[0;34m%\u001b[0m \u001b[0minfo\u001b[0m\u001b[0;34m)\u001b[0m\u001b[0;34m\u001b[0m\u001b[0m\n\u001b[0m\u001b[1;32m     31\u001b[0m     \u001b[0;32mif\u001b[0m \u001b[0minfo\u001b[0m \u001b[0;34m<\u001b[0m \u001b[0;36m0\u001b[0m\u001b[0;34m:\u001b[0m\u001b[0;34m\u001b[0m\u001b[0m\n",
      "\u001b[0;31mLinAlgError\u001b[0m: 23-th leading minor not positive definite",
      "\nDuring handling of the above exception, another exception occurred:\n",
      "\u001b[0;31mTypeError\u001b[0m                                 Traceback (most recent call last)",
      "\u001b[0;32mpomegranate/bayes.pyx\u001b[0m in \u001b[0;36mpomegranate.bayes.BayesModel.from_summaries\u001b[0;34m()\u001b[0m\n",
      "\u001b[0;32mpomegranate/distributions.pyx\u001b[0m in \u001b[0;36mpomegranate.distributions.MultivariateGaussianDistribution.from_summaries\u001b[0;34m()\u001b[0m\n",
      "\u001b[0;31mTypeError\u001b[0m: Cannot cast ufunc subtract output from dtype('complex128') to dtype('float64') with casting rule 'same_kind'"
     ]
    },
    {
     "name": "stderr",
     "output_type": "stream",
     "text": [
      "Exception ignored in: 'pomegranate.hmm.HiddenMarkovModel._from_summaries'\n",
      "Traceback (most recent call last):\n",
      "  File \"pomegranate/bayes.pyx\", line 710, in pomegranate.bayes.BayesModel.from_summaries\n",
      "  File \"pomegranate/distributions.pyx\", line 2259, in pomegranate.distributions.MultivariateGaussianDistribution.from_summaries\n",
      "TypeError: Cannot cast ufunc subtract output from dtype('complex128') to dtype('float64') with casting rule 'same_kind'\n"
     ]
    },
    {
     "name": "stdout",
     "output_type": "stream",
     "text": [
      "[51] Improvement: 0.01246536965481937\tTime (s): 535.5\n"
     ]
    },
    {
     "ename": "TypeError",
     "evalue": "Cannot cast ufunc subtract output from dtype('complex128') to dtype('float64') with casting rule 'same_kind'",
     "output_type": "error",
     "traceback": [
      "\u001b[0;31m---------------------------------------------------------------------------\u001b[0m",
      "\u001b[0;31mLinAlgError\u001b[0m                               Traceback (most recent call last)",
      "\u001b[0;32mpomegranate/distributions.pyx\u001b[0m in \u001b[0;36mpomegranate.distributions.MultivariateGaussianDistribution.from_summaries\u001b[0;34m()\u001b[0m\n",
      "\u001b[0;32m/usr/local/lib/python3.5/dist-packages/scipy/linalg/decomp_cholesky.py\u001b[0m in \u001b[0;36mcholesky\u001b[0;34m(a, lower, overwrite_a, check_finite)\u001b[0m\n\u001b[1;32m     80\u001b[0m     c, lower = _cholesky(a, lower=lower, overwrite_a=overwrite_a, clean=True,\n\u001b[0;32m---> 81\u001b[0;31m                             check_finite=check_finite)\n\u001b[0m\u001b[1;32m     82\u001b[0m     \u001b[0;32mreturn\u001b[0m \u001b[0mc\u001b[0m\u001b[0;34m\u001b[0m\u001b[0m\n",
      "\u001b[0;32m/usr/local/lib/python3.5/dist-packages/scipy/linalg/decomp_cholesky.py\u001b[0m in \u001b[0;36m_cholesky\u001b[0;34m(a, lower, overwrite_a, clean, check_finite)\u001b[0m\n\u001b[1;32m     29\u001b[0m     \u001b[0;32mif\u001b[0m \u001b[0minfo\u001b[0m \u001b[0;34m>\u001b[0m \u001b[0;36m0\u001b[0m\u001b[0;34m:\u001b[0m\u001b[0;34m\u001b[0m\u001b[0m\n\u001b[0;32m---> 30\u001b[0;31m         \u001b[0;32mraise\u001b[0m \u001b[0mLinAlgError\u001b[0m\u001b[0;34m(\u001b[0m\u001b[0;34m\"%d-th leading minor not positive definite\"\u001b[0m \u001b[0;34m%\u001b[0m \u001b[0minfo\u001b[0m\u001b[0;34m)\u001b[0m\u001b[0;34m\u001b[0m\u001b[0m\n\u001b[0m\u001b[1;32m     31\u001b[0m     \u001b[0;32mif\u001b[0m \u001b[0minfo\u001b[0m \u001b[0;34m<\u001b[0m \u001b[0;36m0\u001b[0m\u001b[0;34m:\u001b[0m\u001b[0;34m\u001b[0m\u001b[0m\n",
      "\u001b[0;31mLinAlgError\u001b[0m: 23-th leading minor not positive definite",
      "\nDuring handling of the above exception, another exception occurred:\n",
      "\u001b[0;31mTypeError\u001b[0m                                 Traceback (most recent call last)",
      "\u001b[0;32mpomegranate/bayes.pyx\u001b[0m in \u001b[0;36mpomegranate.bayes.BayesModel.from_summaries\u001b[0;34m()\u001b[0m\n",
      "\u001b[0;32mpomegranate/distributions.pyx\u001b[0m in \u001b[0;36mpomegranate.distributions.MultivariateGaussianDistribution.from_summaries\u001b[0;34m()\u001b[0m\n",
      "\u001b[0;31mTypeError\u001b[0m: Cannot cast ufunc subtract output from dtype('complex128') to dtype('float64') with casting rule 'same_kind'"
     ]
    },
    {
     "name": "stderr",
     "output_type": "stream",
     "text": [
      "Exception ignored in: 'pomegranate.hmm.HiddenMarkovModel._from_summaries'\n",
      "Traceback (most recent call last):\n",
      "  File \"pomegranate/bayes.pyx\", line 710, in pomegranate.bayes.BayesModel.from_summaries\n",
      "  File \"pomegranate/distributions.pyx\", line 2259, in pomegranate.distributions.MultivariateGaussianDistribution.from_summaries\n",
      "TypeError: Cannot cast ufunc subtract output from dtype('complex128') to dtype('float64') with casting rule 'same_kind'\n"
     ]
    },
    {
     "name": "stdout",
     "output_type": "stream",
     "text": [
      "[52] Improvement: 0.010371301788836718\tTime (s): 541.7\n"
     ]
    },
    {
     "ename": "LinAlgError",
     "evalue": "39-th leading minor not positive definite",
     "output_type": "error",
     "traceback": [
      "\u001b[0;31m---------------------------------------------------------------------------\u001b[0m",
      "\u001b[0;31mLinAlgError\u001b[0m                               Traceback (most recent call last)",
      "\u001b[0;32mpomegranate/distributions.pyx\u001b[0m in \u001b[0;36mpomegranate.distributions.MultivariateGaussianDistribution.from_summaries\u001b[0;34m()\u001b[0m\n",
      "\u001b[0;32m/usr/local/lib/python3.5/dist-packages/scipy/linalg/decomp_cholesky.py\u001b[0m in \u001b[0;36mcholesky\u001b[0;34m(a, lower, overwrite_a, check_finite)\u001b[0m\n\u001b[1;32m     80\u001b[0m     c, lower = _cholesky(a, lower=lower, overwrite_a=overwrite_a, clean=True,\n\u001b[0;32m---> 81\u001b[0;31m                             check_finite=check_finite)\n\u001b[0m\u001b[1;32m     82\u001b[0m     \u001b[0;32mreturn\u001b[0m \u001b[0mc\u001b[0m\u001b[0;34m\u001b[0m\u001b[0m\n",
      "\u001b[0;32m/usr/local/lib/python3.5/dist-packages/scipy/linalg/decomp_cholesky.py\u001b[0m in \u001b[0;36m_cholesky\u001b[0;34m(a, lower, overwrite_a, clean, check_finite)\u001b[0m\n\u001b[1;32m     29\u001b[0m     \u001b[0;32mif\u001b[0m \u001b[0minfo\u001b[0m \u001b[0;34m>\u001b[0m \u001b[0;36m0\u001b[0m\u001b[0;34m:\u001b[0m\u001b[0;34m\u001b[0m\u001b[0m\n\u001b[0;32m---> 30\u001b[0;31m         \u001b[0;32mraise\u001b[0m \u001b[0mLinAlgError\u001b[0m\u001b[0;34m(\u001b[0m\u001b[0;34m\"%d-th leading minor not positive definite\"\u001b[0m \u001b[0;34m%\u001b[0m \u001b[0minfo\u001b[0m\u001b[0;34m)\u001b[0m\u001b[0;34m\u001b[0m\u001b[0m\n\u001b[0m\u001b[1;32m     31\u001b[0m     \u001b[0;32mif\u001b[0m \u001b[0minfo\u001b[0m \u001b[0;34m<\u001b[0m \u001b[0;36m0\u001b[0m\u001b[0;34m:\u001b[0m\u001b[0;34m\u001b[0m\u001b[0m\n",
      "\u001b[0;31mLinAlgError\u001b[0m: 27-th leading minor not positive definite",
      "\nDuring handling of the above exception, another exception occurred:\n",
      "\u001b[0;31mLinAlgError\u001b[0m                               Traceback (most recent call last)",
      "\u001b[0;32mpomegranate/bayes.pyx\u001b[0m in \u001b[0;36mpomegranate.bayes.BayesModel.from_summaries\u001b[0;34m()\u001b[0m\n",
      "\u001b[0;32mpomegranate/distributions.pyx\u001b[0m in \u001b[0;36mpomegranate.distributions.MultivariateGaussianDistribution.from_summaries\u001b[0;34m()\u001b[0m\n",
      "\u001b[0;32m/usr/local/lib/python3.5/dist-packages/scipy/linalg/decomp_cholesky.py\u001b[0m in \u001b[0;36mcholesky\u001b[0;34m(a, lower, overwrite_a, check_finite)\u001b[0m\n\u001b[1;32m     79\u001b[0m     \"\"\"\n\u001b[1;32m     80\u001b[0m     c, lower = _cholesky(a, lower=lower, overwrite_a=overwrite_a, clean=True,\n\u001b[0;32m---> 81\u001b[0;31m                             check_finite=check_finite)\n\u001b[0m\u001b[1;32m     82\u001b[0m     \u001b[0;32mreturn\u001b[0m \u001b[0mc\u001b[0m\u001b[0;34m\u001b[0m\u001b[0m\n\u001b[1;32m     83\u001b[0m \u001b[0;34m\u001b[0m\u001b[0m\n",
      "\u001b[0;32m/usr/local/lib/python3.5/dist-packages/scipy/linalg/decomp_cholesky.py\u001b[0m in \u001b[0;36m_cholesky\u001b[0;34m(a, lower, overwrite_a, clean, check_finite)\u001b[0m\n\u001b[1;32m     28\u001b[0m     \u001b[0mc\u001b[0m\u001b[0;34m,\u001b[0m \u001b[0minfo\u001b[0m \u001b[0;34m=\u001b[0m \u001b[0mpotrf\u001b[0m\u001b[0;34m(\u001b[0m\u001b[0ma1\u001b[0m\u001b[0;34m,\u001b[0m \u001b[0mlower\u001b[0m\u001b[0;34m=\u001b[0m\u001b[0mlower\u001b[0m\u001b[0;34m,\u001b[0m \u001b[0moverwrite_a\u001b[0m\u001b[0;34m=\u001b[0m\u001b[0moverwrite_a\u001b[0m\u001b[0;34m,\u001b[0m \u001b[0mclean\u001b[0m\u001b[0;34m=\u001b[0m\u001b[0mclean\u001b[0m\u001b[0;34m)\u001b[0m\u001b[0;34m\u001b[0m\u001b[0m\n\u001b[1;32m     29\u001b[0m     \u001b[0;32mif\u001b[0m \u001b[0minfo\u001b[0m \u001b[0;34m>\u001b[0m \u001b[0;36m0\u001b[0m\u001b[0;34m:\u001b[0m\u001b[0;34m\u001b[0m\u001b[0m\n\u001b[0;32m---> 30\u001b[0;31m         \u001b[0;32mraise\u001b[0m \u001b[0mLinAlgError\u001b[0m\u001b[0;34m(\u001b[0m\u001b[0;34m\"%d-th leading minor not positive definite\"\u001b[0m \u001b[0;34m%\u001b[0m \u001b[0minfo\u001b[0m\u001b[0;34m)\u001b[0m\u001b[0;34m\u001b[0m\u001b[0m\n\u001b[0m\u001b[1;32m     31\u001b[0m     \u001b[0;32mif\u001b[0m \u001b[0minfo\u001b[0m \u001b[0;34m<\u001b[0m \u001b[0;36m0\u001b[0m\u001b[0;34m:\u001b[0m\u001b[0;34m\u001b[0m\u001b[0m\n\u001b[1;32m     32\u001b[0m         raise ValueError('illegal value in %d-th argument of internal potrf'\n",
      "\u001b[0;31mLinAlgError\u001b[0m: 39-th leading minor not positive definite"
     ]
    },
    {
     "name": "stderr",
     "output_type": "stream",
     "text": [
      "Exception ignored in: 'pomegranate.hmm.HiddenMarkovModel._from_summaries'\n",
      "Traceback (most recent call last):\n",
      "  File \"pomegranate/bayes.pyx\", line 710, in pomegranate.bayes.BayesModel.from_summaries\n",
      "  File \"pomegranate/distributions.pyx\", line 2261, in pomegranate.distributions.MultivariateGaussianDistribution.from_summaries\n",
      "  File \"/usr/local/lib/python3.5/dist-packages/scipy/linalg/decomp_cholesky.py\", line 81, in cholesky\n",
      "    check_finite=check_finite)\n",
      "  File \"/usr/local/lib/python3.5/dist-packages/scipy/linalg/decomp_cholesky.py\", line 30, in _cholesky\n",
      "    raise LinAlgError(\"%d-th leading minor not positive definite\" % info)\n",
      "numpy.linalg.linalg.LinAlgError: 39-th leading minor not positive definite\n"
     ]
    },
    {
     "name": "stdout",
     "output_type": "stream",
     "text": [
      "[53] Improvement: 57.83760084374808\tTime (s): 541.0\n"
     ]
    },
    {
     "ename": "TypeError",
     "evalue": "Cannot cast ufunc subtract output from dtype('complex128') to dtype('float64') with casting rule 'same_kind'",
     "output_type": "error",
     "traceback": [
      "\u001b[0;31m---------------------------------------------------------------------------\u001b[0m",
      "\u001b[0;31mLinAlgError\u001b[0m                               Traceback (most recent call last)",
      "\u001b[0;32mpomegranate/distributions.pyx\u001b[0m in \u001b[0;36mpomegranate.distributions.MultivariateGaussianDistribution.from_summaries\u001b[0;34m()\u001b[0m\n",
      "\u001b[0;32m/usr/local/lib/python3.5/dist-packages/scipy/linalg/decomp_cholesky.py\u001b[0m in \u001b[0;36mcholesky\u001b[0;34m(a, lower, overwrite_a, check_finite)\u001b[0m\n\u001b[1;32m     80\u001b[0m     c, lower = _cholesky(a, lower=lower, overwrite_a=overwrite_a, clean=True,\n\u001b[0;32m---> 81\u001b[0;31m                             check_finite=check_finite)\n\u001b[0m\u001b[1;32m     82\u001b[0m     \u001b[0;32mreturn\u001b[0m \u001b[0mc\u001b[0m\u001b[0;34m\u001b[0m\u001b[0m\n",
      "\u001b[0;32m/usr/local/lib/python3.5/dist-packages/scipy/linalg/decomp_cholesky.py\u001b[0m in \u001b[0;36m_cholesky\u001b[0;34m(a, lower, overwrite_a, clean, check_finite)\u001b[0m\n\u001b[1;32m     29\u001b[0m     \u001b[0;32mif\u001b[0m \u001b[0minfo\u001b[0m \u001b[0;34m>\u001b[0m \u001b[0;36m0\u001b[0m\u001b[0;34m:\u001b[0m\u001b[0;34m\u001b[0m\u001b[0m\n\u001b[0;32m---> 30\u001b[0;31m         \u001b[0;32mraise\u001b[0m \u001b[0mLinAlgError\u001b[0m\u001b[0;34m(\u001b[0m\u001b[0;34m\"%d-th leading minor not positive definite\"\u001b[0m \u001b[0;34m%\u001b[0m \u001b[0minfo\u001b[0m\u001b[0;34m)\u001b[0m\u001b[0;34m\u001b[0m\u001b[0m\n\u001b[0m\u001b[1;32m     31\u001b[0m     \u001b[0;32mif\u001b[0m \u001b[0minfo\u001b[0m \u001b[0;34m<\u001b[0m \u001b[0;36m0\u001b[0m\u001b[0;34m:\u001b[0m\u001b[0;34m\u001b[0m\u001b[0m\n",
      "\u001b[0;31mLinAlgError\u001b[0m: 22-th leading minor not positive definite",
      "\nDuring handling of the above exception, another exception occurred:\n",
      "\u001b[0;31mTypeError\u001b[0m                                 Traceback (most recent call last)",
      "\u001b[0;32mpomegranate/bayes.pyx\u001b[0m in \u001b[0;36mpomegranate.bayes.BayesModel.from_summaries\u001b[0;34m()\u001b[0m\n",
      "\u001b[0;32mpomegranate/distributions.pyx\u001b[0m in \u001b[0;36mpomegranate.distributions.MultivariateGaussianDistribution.from_summaries\u001b[0;34m()\u001b[0m\n",
      "\u001b[0;31mTypeError\u001b[0m: Cannot cast ufunc subtract output from dtype('complex128') to dtype('float64') with casting rule 'same_kind'"
     ]
    },
    {
     "name": "stderr",
     "output_type": "stream",
     "text": [
      "Exception ignored in: 'pomegranate.hmm.HiddenMarkovModel._from_summaries'\n",
      "Traceback (most recent call last):\n",
      "  File \"pomegranate/bayes.pyx\", line 710, in pomegranate.bayes.BayesModel.from_summaries\n",
      "  File \"pomegranate/distributions.pyx\", line 2259, in pomegranate.distributions.MultivariateGaussianDistribution.from_summaries\n",
      "TypeError: Cannot cast ufunc subtract output from dtype('complex128') to dtype('float64') with casting rule 'same_kind'\n"
     ]
    },
    {
     "name": "stdout",
     "output_type": "stream",
     "text": [
      "[54] Improvement: 0.004460606258362532\tTime (s): 541.7\n"
     ]
    },
    {
     "ename": "TypeError",
     "evalue": "Cannot cast ufunc subtract output from dtype('complex128') to dtype('float64') with casting rule 'same_kind'",
     "output_type": "error",
     "traceback": [
      "\u001b[0;31m---------------------------------------------------------------------------\u001b[0m",
      "\u001b[0;31mLinAlgError\u001b[0m                               Traceback (most recent call last)",
      "\u001b[0;32mpomegranate/distributions.pyx\u001b[0m in \u001b[0;36mpomegranate.distributions.MultivariateGaussianDistribution.from_summaries\u001b[0;34m()\u001b[0m\n",
      "\u001b[0;32m/usr/local/lib/python3.5/dist-packages/scipy/linalg/decomp_cholesky.py\u001b[0m in \u001b[0;36mcholesky\u001b[0;34m(a, lower, overwrite_a, check_finite)\u001b[0m\n\u001b[1;32m     80\u001b[0m     c, lower = _cholesky(a, lower=lower, overwrite_a=overwrite_a, clean=True,\n\u001b[0;32m---> 81\u001b[0;31m                             check_finite=check_finite)\n\u001b[0m\u001b[1;32m     82\u001b[0m     \u001b[0;32mreturn\u001b[0m \u001b[0mc\u001b[0m\u001b[0;34m\u001b[0m\u001b[0m\n",
      "\u001b[0;32m/usr/local/lib/python3.5/dist-packages/scipy/linalg/decomp_cholesky.py\u001b[0m in \u001b[0;36m_cholesky\u001b[0;34m(a, lower, overwrite_a, clean, check_finite)\u001b[0m\n\u001b[1;32m     29\u001b[0m     \u001b[0;32mif\u001b[0m \u001b[0minfo\u001b[0m \u001b[0;34m>\u001b[0m \u001b[0;36m0\u001b[0m\u001b[0;34m:\u001b[0m\u001b[0;34m\u001b[0m\u001b[0m\n\u001b[0;32m---> 30\u001b[0;31m         \u001b[0;32mraise\u001b[0m \u001b[0mLinAlgError\u001b[0m\u001b[0;34m(\u001b[0m\u001b[0;34m\"%d-th leading minor not positive definite\"\u001b[0m \u001b[0;34m%\u001b[0m \u001b[0minfo\u001b[0m\u001b[0;34m)\u001b[0m\u001b[0;34m\u001b[0m\u001b[0m\n\u001b[0m\u001b[1;32m     31\u001b[0m     \u001b[0;32mif\u001b[0m \u001b[0minfo\u001b[0m \u001b[0;34m<\u001b[0m \u001b[0;36m0\u001b[0m\u001b[0;34m:\u001b[0m\u001b[0;34m\u001b[0m\u001b[0m\n",
      "\u001b[0;31mLinAlgError\u001b[0m: 22-th leading minor not positive definite",
      "\nDuring handling of the above exception, another exception occurred:\n",
      "\u001b[0;31mTypeError\u001b[0m                                 Traceback (most recent call last)",
      "\u001b[0;32mpomegranate/bayes.pyx\u001b[0m in \u001b[0;36mpomegranate.bayes.BayesModel.from_summaries\u001b[0;34m()\u001b[0m\n",
      "\u001b[0;32mpomegranate/distributions.pyx\u001b[0m in \u001b[0;36mpomegranate.distributions.MultivariateGaussianDistribution.from_summaries\u001b[0;34m()\u001b[0m\n",
      "\u001b[0;31mTypeError\u001b[0m: Cannot cast ufunc subtract output from dtype('complex128') to dtype('float64') with casting rule 'same_kind'"
     ]
    },
    {
     "name": "stderr",
     "output_type": "stream",
     "text": [
      "Exception ignored in: 'pomegranate.hmm.HiddenMarkovModel._from_summaries'\n",
      "Traceback (most recent call last):\n",
      "  File \"pomegranate/bayes.pyx\", line 710, in pomegranate.bayes.BayesModel.from_summaries\n",
      "  File \"pomegranate/distributions.pyx\", line 2259, in pomegranate.distributions.MultivariateGaussianDistribution.from_summaries\n",
      "TypeError: Cannot cast ufunc subtract output from dtype('complex128') to dtype('float64') with casting rule 'same_kind'\n"
     ]
    },
    {
     "name": "stdout",
     "output_type": "stream",
     "text": [
      "[55] Improvement: 0.0024528754875063896\tTime (s): 541.1\n"
     ]
    },
    {
     "ename": "TypeError",
     "evalue": "Cannot cast ufunc subtract output from dtype('complex128') to dtype('float64') with casting rule 'same_kind'",
     "output_type": "error",
     "traceback": [
      "\u001b[0;31m---------------------------------------------------------------------------\u001b[0m",
      "\u001b[0;31mLinAlgError\u001b[0m                               Traceback (most recent call last)",
      "\u001b[0;32mpomegranate/distributions.pyx\u001b[0m in \u001b[0;36mpomegranate.distributions.MultivariateGaussianDistribution.from_summaries\u001b[0;34m()\u001b[0m\n",
      "\u001b[0;32m/usr/local/lib/python3.5/dist-packages/scipy/linalg/decomp_cholesky.py\u001b[0m in \u001b[0;36mcholesky\u001b[0;34m(a, lower, overwrite_a, check_finite)\u001b[0m\n\u001b[1;32m     80\u001b[0m     c, lower = _cholesky(a, lower=lower, overwrite_a=overwrite_a, clean=True,\n\u001b[0;32m---> 81\u001b[0;31m                             check_finite=check_finite)\n\u001b[0m\u001b[1;32m     82\u001b[0m     \u001b[0;32mreturn\u001b[0m \u001b[0mc\u001b[0m\u001b[0;34m\u001b[0m\u001b[0m\n",
      "\u001b[0;32m/usr/local/lib/python3.5/dist-packages/scipy/linalg/decomp_cholesky.py\u001b[0m in \u001b[0;36m_cholesky\u001b[0;34m(a, lower, overwrite_a, clean, check_finite)\u001b[0m\n\u001b[1;32m     29\u001b[0m     \u001b[0;32mif\u001b[0m \u001b[0minfo\u001b[0m \u001b[0;34m>\u001b[0m \u001b[0;36m0\u001b[0m\u001b[0;34m:\u001b[0m\u001b[0;34m\u001b[0m\u001b[0m\n\u001b[0;32m---> 30\u001b[0;31m         \u001b[0;32mraise\u001b[0m \u001b[0mLinAlgError\u001b[0m\u001b[0;34m(\u001b[0m\u001b[0;34m\"%d-th leading minor not positive definite\"\u001b[0m \u001b[0;34m%\u001b[0m \u001b[0minfo\u001b[0m\u001b[0;34m)\u001b[0m\u001b[0;34m\u001b[0m\u001b[0m\n\u001b[0m\u001b[1;32m     31\u001b[0m     \u001b[0;32mif\u001b[0m \u001b[0minfo\u001b[0m \u001b[0;34m<\u001b[0m \u001b[0;36m0\u001b[0m\u001b[0;34m:\u001b[0m\u001b[0;34m\u001b[0m\u001b[0m\n",
      "\u001b[0;31mLinAlgError\u001b[0m: 24-th leading minor not positive definite",
      "\nDuring handling of the above exception, another exception occurred:\n",
      "\u001b[0;31mTypeError\u001b[0m                                 Traceback (most recent call last)",
      "\u001b[0;32mpomegranate/bayes.pyx\u001b[0m in \u001b[0;36mpomegranate.bayes.BayesModel.from_summaries\u001b[0;34m()\u001b[0m\n",
      "\u001b[0;32mpomegranate/distributions.pyx\u001b[0m in \u001b[0;36mpomegranate.distributions.MultivariateGaussianDistribution.from_summaries\u001b[0;34m()\u001b[0m\n",
      "\u001b[0;31mTypeError\u001b[0m: Cannot cast ufunc subtract output from dtype('complex128') to dtype('float64') with casting rule 'same_kind'"
     ]
    },
    {
     "name": "stderr",
     "output_type": "stream",
     "text": [
      "Exception ignored in: 'pomegranate.hmm.HiddenMarkovModel._from_summaries'\n",
      "Traceback (most recent call last):\n",
      "  File \"pomegranate/bayes.pyx\", line 710, in pomegranate.bayes.BayesModel.from_summaries\n",
      "  File \"pomegranate/distributions.pyx\", line 2259, in pomegranate.distributions.MultivariateGaussianDistribution.from_summaries\n",
      "TypeError: Cannot cast ufunc subtract output from dtype('complex128') to dtype('float64') with casting rule 'same_kind'\n"
     ]
    },
    {
     "name": "stdout",
     "output_type": "stream",
     "text": [
      "[56] Improvement: 0.00127413310110569\tTime (s): 541.1\n"
     ]
    },
    {
     "ename": "TypeError",
     "evalue": "Cannot cast ufunc subtract output from dtype('complex128') to dtype('float64') with casting rule 'same_kind'",
     "output_type": "error",
     "traceback": [
      "\u001b[0;31m---------------------------------------------------------------------------\u001b[0m",
      "\u001b[0;31mLinAlgError\u001b[0m                               Traceback (most recent call last)",
      "\u001b[0;32mpomegranate/distributions.pyx\u001b[0m in \u001b[0;36mpomegranate.distributions.MultivariateGaussianDistribution.from_summaries\u001b[0;34m()\u001b[0m\n",
      "\u001b[0;32m/usr/local/lib/python3.5/dist-packages/scipy/linalg/decomp_cholesky.py\u001b[0m in \u001b[0;36mcholesky\u001b[0;34m(a, lower, overwrite_a, check_finite)\u001b[0m\n\u001b[1;32m     80\u001b[0m     c, lower = _cholesky(a, lower=lower, overwrite_a=overwrite_a, clean=True,\n\u001b[0;32m---> 81\u001b[0;31m                             check_finite=check_finite)\n\u001b[0m\u001b[1;32m     82\u001b[0m     \u001b[0;32mreturn\u001b[0m \u001b[0mc\u001b[0m\u001b[0;34m\u001b[0m\u001b[0m\n",
      "\u001b[0;32m/usr/local/lib/python3.5/dist-packages/scipy/linalg/decomp_cholesky.py\u001b[0m in \u001b[0;36m_cholesky\u001b[0;34m(a, lower, overwrite_a, clean, check_finite)\u001b[0m\n\u001b[1;32m     29\u001b[0m     \u001b[0;32mif\u001b[0m \u001b[0minfo\u001b[0m \u001b[0;34m>\u001b[0m \u001b[0;36m0\u001b[0m\u001b[0;34m:\u001b[0m\u001b[0;34m\u001b[0m\u001b[0m\n\u001b[0;32m---> 30\u001b[0;31m         \u001b[0;32mraise\u001b[0m \u001b[0mLinAlgError\u001b[0m\u001b[0;34m(\u001b[0m\u001b[0;34m\"%d-th leading minor not positive definite\"\u001b[0m \u001b[0;34m%\u001b[0m \u001b[0minfo\u001b[0m\u001b[0;34m)\u001b[0m\u001b[0;34m\u001b[0m\u001b[0m\n\u001b[0m\u001b[1;32m     31\u001b[0m     \u001b[0;32mif\u001b[0m \u001b[0minfo\u001b[0m \u001b[0;34m<\u001b[0m \u001b[0;36m0\u001b[0m\u001b[0;34m:\u001b[0m\u001b[0;34m\u001b[0m\u001b[0m\n",
      "\u001b[0;31mLinAlgError\u001b[0m: 24-th leading minor not positive definite",
      "\nDuring handling of the above exception, another exception occurred:\n",
      "\u001b[0;31mTypeError\u001b[0m                                 Traceback (most recent call last)",
      "\u001b[0;32mpomegranate/bayes.pyx\u001b[0m in \u001b[0;36mpomegranate.bayes.BayesModel.from_summaries\u001b[0;34m()\u001b[0m\n",
      "\u001b[0;32mpomegranate/distributions.pyx\u001b[0m in \u001b[0;36mpomegranate.distributions.MultivariateGaussianDistribution.from_summaries\u001b[0;34m()\u001b[0m\n",
      "\u001b[0;31mTypeError\u001b[0m: Cannot cast ufunc subtract output from dtype('complex128') to dtype('float64') with casting rule 'same_kind'"
     ]
    },
    {
     "name": "stderr",
     "output_type": "stream",
     "text": [
      "Exception ignored in: 'pomegranate.hmm.HiddenMarkovModel._from_summaries'\n",
      "Traceback (most recent call last):\n",
      "  File \"pomegranate/bayes.pyx\", line 710, in pomegranate.bayes.BayesModel.from_summaries\n",
      "  File \"pomegranate/distributions.pyx\", line 2259, in pomegranate.distributions.MultivariateGaussianDistribution.from_summaries\n",
      "TypeError: Cannot cast ufunc subtract output from dtype('complex128') to dtype('float64') with casting rule 'same_kind'\n"
     ]
    },
    {
     "name": "stdout",
     "output_type": "stream",
     "text": [
      "[57] Improvement: 0.0006458016578108072\tTime (s): 540.1\n"
     ]
    },
    {
     "ename": "TypeError",
     "evalue": "Cannot cast ufunc subtract output from dtype('complex128') to dtype('float64') with casting rule 'same_kind'",
     "output_type": "error",
     "traceback": [
      "\u001b[0;31m---------------------------------------------------------------------------\u001b[0m",
      "\u001b[0;31mLinAlgError\u001b[0m                               Traceback (most recent call last)",
      "\u001b[0;32mpomegranate/distributions.pyx\u001b[0m in \u001b[0;36mpomegranate.distributions.MultivariateGaussianDistribution.from_summaries\u001b[0;34m()\u001b[0m\n",
      "\u001b[0;32m/usr/local/lib/python3.5/dist-packages/scipy/linalg/decomp_cholesky.py\u001b[0m in \u001b[0;36mcholesky\u001b[0;34m(a, lower, overwrite_a, check_finite)\u001b[0m\n\u001b[1;32m     80\u001b[0m     c, lower = _cholesky(a, lower=lower, overwrite_a=overwrite_a, clean=True,\n\u001b[0;32m---> 81\u001b[0;31m                             check_finite=check_finite)\n\u001b[0m\u001b[1;32m     82\u001b[0m     \u001b[0;32mreturn\u001b[0m \u001b[0mc\u001b[0m\u001b[0;34m\u001b[0m\u001b[0m\n",
      "\u001b[0;32m/usr/local/lib/python3.5/dist-packages/scipy/linalg/decomp_cholesky.py\u001b[0m in \u001b[0;36m_cholesky\u001b[0;34m(a, lower, overwrite_a, clean, check_finite)\u001b[0m\n\u001b[1;32m     29\u001b[0m     \u001b[0;32mif\u001b[0m \u001b[0minfo\u001b[0m \u001b[0;34m>\u001b[0m \u001b[0;36m0\u001b[0m\u001b[0;34m:\u001b[0m\u001b[0;34m\u001b[0m\u001b[0m\n\u001b[0;32m---> 30\u001b[0;31m         \u001b[0;32mraise\u001b[0m \u001b[0mLinAlgError\u001b[0m\u001b[0;34m(\u001b[0m\u001b[0;34m\"%d-th leading minor not positive definite\"\u001b[0m \u001b[0;34m%\u001b[0m \u001b[0minfo\u001b[0m\u001b[0;34m)\u001b[0m\u001b[0;34m\u001b[0m\u001b[0m\n\u001b[0m\u001b[1;32m     31\u001b[0m     \u001b[0;32mif\u001b[0m \u001b[0minfo\u001b[0m \u001b[0;34m<\u001b[0m \u001b[0;36m0\u001b[0m\u001b[0;34m:\u001b[0m\u001b[0;34m\u001b[0m\u001b[0m\n",
      "\u001b[0;31mLinAlgError\u001b[0m: 23-th leading minor not positive definite",
      "\nDuring handling of the above exception, another exception occurred:\n",
      "\u001b[0;31mTypeError\u001b[0m                                 Traceback (most recent call last)",
      "\u001b[0;32mpomegranate/bayes.pyx\u001b[0m in \u001b[0;36mpomegranate.bayes.BayesModel.from_summaries\u001b[0;34m()\u001b[0m\n",
      "\u001b[0;32mpomegranate/distributions.pyx\u001b[0m in \u001b[0;36mpomegranate.distributions.MultivariateGaussianDistribution.from_summaries\u001b[0;34m()\u001b[0m\n",
      "\u001b[0;31mTypeError\u001b[0m: Cannot cast ufunc subtract output from dtype('complex128') to dtype('float64') with casting rule 'same_kind'"
     ]
    },
    {
     "name": "stderr",
     "output_type": "stream",
     "text": [
      "Exception ignored in: 'pomegranate.hmm.HiddenMarkovModel._from_summaries'\n",
      "Traceback (most recent call last):\n",
      "  File \"pomegranate/bayes.pyx\", line 710, in pomegranate.bayes.BayesModel.from_summaries\n",
      "  File \"pomegranate/distributions.pyx\", line 2259, in pomegranate.distributions.MultivariateGaussianDistribution.from_summaries\n",
      "TypeError: Cannot cast ufunc subtract output from dtype('complex128') to dtype('float64') with casting rule 'same_kind'\n"
     ]
    },
    {
     "name": "stdout",
     "output_type": "stream",
     "text": [
      "[58] Improvement: 0.00032188952900469303\tTime (s): 542.9\n"
     ]
    },
    {
     "ename": "TypeError",
     "evalue": "Cannot cast ufunc subtract output from dtype('complex128') to dtype('float64') with casting rule 'same_kind'",
     "output_type": "error",
     "traceback": [
      "\u001b[0;31m---------------------------------------------------------------------------\u001b[0m",
      "\u001b[0;31mLinAlgError\u001b[0m                               Traceback (most recent call last)",
      "\u001b[0;32mpomegranate/distributions.pyx\u001b[0m in \u001b[0;36mpomegranate.distributions.MultivariateGaussianDistribution.from_summaries\u001b[0;34m()\u001b[0m\n",
      "\u001b[0;32m/usr/local/lib/python3.5/dist-packages/scipy/linalg/decomp_cholesky.py\u001b[0m in \u001b[0;36mcholesky\u001b[0;34m(a, lower, overwrite_a, check_finite)\u001b[0m\n\u001b[1;32m     80\u001b[0m     c, lower = _cholesky(a, lower=lower, overwrite_a=overwrite_a, clean=True,\n\u001b[0;32m---> 81\u001b[0;31m                             check_finite=check_finite)\n\u001b[0m\u001b[1;32m     82\u001b[0m     \u001b[0;32mreturn\u001b[0m \u001b[0mc\u001b[0m\u001b[0;34m\u001b[0m\u001b[0m\n",
      "\u001b[0;32m/usr/local/lib/python3.5/dist-packages/scipy/linalg/decomp_cholesky.py\u001b[0m in \u001b[0;36m_cholesky\u001b[0;34m(a, lower, overwrite_a, clean, check_finite)\u001b[0m\n\u001b[1;32m     29\u001b[0m     \u001b[0;32mif\u001b[0m \u001b[0minfo\u001b[0m \u001b[0;34m>\u001b[0m \u001b[0;36m0\u001b[0m\u001b[0;34m:\u001b[0m\u001b[0;34m\u001b[0m\u001b[0m\n\u001b[0;32m---> 30\u001b[0;31m         \u001b[0;32mraise\u001b[0m \u001b[0mLinAlgError\u001b[0m\u001b[0;34m(\u001b[0m\u001b[0;34m\"%d-th leading minor not positive definite\"\u001b[0m \u001b[0;34m%\u001b[0m \u001b[0minfo\u001b[0m\u001b[0;34m)\u001b[0m\u001b[0;34m\u001b[0m\u001b[0m\n\u001b[0m\u001b[1;32m     31\u001b[0m     \u001b[0;32mif\u001b[0m \u001b[0minfo\u001b[0m \u001b[0;34m<\u001b[0m \u001b[0;36m0\u001b[0m\u001b[0;34m:\u001b[0m\u001b[0;34m\u001b[0m\u001b[0m\n",
      "\u001b[0;31mLinAlgError\u001b[0m: 23-th leading minor not positive definite",
      "\nDuring handling of the above exception, another exception occurred:\n",
      "\u001b[0;31mTypeError\u001b[0m                                 Traceback (most recent call last)",
      "\u001b[0;32mpomegranate/bayes.pyx\u001b[0m in \u001b[0;36mpomegranate.bayes.BayesModel.from_summaries\u001b[0;34m()\u001b[0m\n",
      "\u001b[0;32mpomegranate/distributions.pyx\u001b[0m in \u001b[0;36mpomegranate.distributions.MultivariateGaussianDistribution.from_summaries\u001b[0;34m()\u001b[0m\n",
      "\u001b[0;31mTypeError\u001b[0m: Cannot cast ufunc subtract output from dtype('complex128') to dtype('float64') with casting rule 'same_kind'"
     ]
    },
    {
     "name": "stderr",
     "output_type": "stream",
     "text": [
      "Exception ignored in: 'pomegranate.hmm.HiddenMarkovModel._from_summaries'\n",
      "Traceback (most recent call last):\n",
      "  File \"pomegranate/bayes.pyx\", line 710, in pomegranate.bayes.BayesModel.from_summaries\n",
      "  File \"pomegranate/distributions.pyx\", line 2259, in pomegranate.distributions.MultivariateGaussianDistribution.from_summaries\n",
      "TypeError: Cannot cast ufunc subtract output from dtype('complex128') to dtype('float64') with casting rule 'same_kind'\n"
     ]
    },
    {
     "name": "stdout",
     "output_type": "stream",
     "text": [
      "[59] Improvement: 0.000154552748426795\tTime (s): 543.1\n"
     ]
    },
    {
     "ename": "TypeError",
     "evalue": "Cannot cast ufunc subtract output from dtype('complex128') to dtype('float64') with casting rule 'same_kind'",
     "output_type": "error",
     "traceback": [
      "\u001b[0;31m---------------------------------------------------------------------------\u001b[0m",
      "\u001b[0;31mLinAlgError\u001b[0m                               Traceback (most recent call last)",
      "\u001b[0;32mpomegranate/distributions.pyx\u001b[0m in \u001b[0;36mpomegranate.distributions.MultivariateGaussianDistribution.from_summaries\u001b[0;34m()\u001b[0m\n",
      "\u001b[0;32m/usr/local/lib/python3.5/dist-packages/scipy/linalg/decomp_cholesky.py\u001b[0m in \u001b[0;36mcholesky\u001b[0;34m(a, lower, overwrite_a, check_finite)\u001b[0m\n\u001b[1;32m     80\u001b[0m     c, lower = _cholesky(a, lower=lower, overwrite_a=overwrite_a, clean=True,\n\u001b[0;32m---> 81\u001b[0;31m                             check_finite=check_finite)\n\u001b[0m\u001b[1;32m     82\u001b[0m     \u001b[0;32mreturn\u001b[0m \u001b[0mc\u001b[0m\u001b[0;34m\u001b[0m\u001b[0m\n",
      "\u001b[0;32m/usr/local/lib/python3.5/dist-packages/scipy/linalg/decomp_cholesky.py\u001b[0m in \u001b[0;36m_cholesky\u001b[0;34m(a, lower, overwrite_a, clean, check_finite)\u001b[0m\n\u001b[1;32m     29\u001b[0m     \u001b[0;32mif\u001b[0m \u001b[0minfo\u001b[0m \u001b[0;34m>\u001b[0m \u001b[0;36m0\u001b[0m\u001b[0;34m:\u001b[0m\u001b[0;34m\u001b[0m\u001b[0m\n\u001b[0;32m---> 30\u001b[0;31m         \u001b[0;32mraise\u001b[0m \u001b[0mLinAlgError\u001b[0m\u001b[0;34m(\u001b[0m\u001b[0;34m\"%d-th leading minor not positive definite\"\u001b[0m \u001b[0;34m%\u001b[0m \u001b[0minfo\u001b[0m\u001b[0;34m)\u001b[0m\u001b[0;34m\u001b[0m\u001b[0m\n\u001b[0m\u001b[1;32m     31\u001b[0m     \u001b[0;32mif\u001b[0m \u001b[0minfo\u001b[0m \u001b[0;34m<\u001b[0m \u001b[0;36m0\u001b[0m\u001b[0;34m:\u001b[0m\u001b[0;34m\u001b[0m\u001b[0m\n",
      "\u001b[0;31mLinAlgError\u001b[0m: 23-th leading minor not positive definite",
      "\nDuring handling of the above exception, another exception occurred:\n",
      "\u001b[0;31mTypeError\u001b[0m                                 Traceback (most recent call last)",
      "\u001b[0;32mpomegranate/bayes.pyx\u001b[0m in \u001b[0;36mpomegranate.bayes.BayesModel.from_summaries\u001b[0;34m()\u001b[0m\n",
      "\u001b[0;32mpomegranate/distributions.pyx\u001b[0m in \u001b[0;36mpomegranate.distributions.MultivariateGaussianDistribution.from_summaries\u001b[0;34m()\u001b[0m\n",
      "\u001b[0;31mTypeError\u001b[0m: Cannot cast ufunc subtract output from dtype('complex128') to dtype('float64') with casting rule 'same_kind'"
     ]
    },
    {
     "name": "stderr",
     "output_type": "stream",
     "text": [
      "Exception ignored in: 'pomegranate.hmm.HiddenMarkovModel._from_summaries'\n",
      "Traceback (most recent call last):\n",
      "  File \"pomegranate/bayes.pyx\", line 710, in pomegranate.bayes.BayesModel.from_summaries\n",
      "  File \"pomegranate/distributions.pyx\", line 2259, in pomegranate.distributions.MultivariateGaussianDistribution.from_summaries\n",
      "TypeError: Cannot cast ufunc subtract output from dtype('complex128') to dtype('float64') with casting rule 'same_kind'\n"
     ]
    },
    {
     "name": "stdout",
     "output_type": "stream",
     "text": [
      "[60] Improvement: 6.717629730701447e-05\tTime (s): 534.9\n"
     ]
    },
    {
     "ename": "TypeError",
     "evalue": "Cannot cast ufunc subtract output from dtype('complex128') to dtype('float64') with casting rule 'same_kind'",
     "output_type": "error",
     "traceback": [
      "\u001b[0;31m---------------------------------------------------------------------------\u001b[0m",
      "\u001b[0;31mLinAlgError\u001b[0m                               Traceback (most recent call last)",
      "\u001b[0;32mpomegranate/distributions.pyx\u001b[0m in \u001b[0;36mpomegranate.distributions.MultivariateGaussianDistribution.from_summaries\u001b[0;34m()\u001b[0m\n",
      "\u001b[0;32m/usr/local/lib/python3.5/dist-packages/scipy/linalg/decomp_cholesky.py\u001b[0m in \u001b[0;36mcholesky\u001b[0;34m(a, lower, overwrite_a, check_finite)\u001b[0m\n\u001b[1;32m     80\u001b[0m     c, lower = _cholesky(a, lower=lower, overwrite_a=overwrite_a, clean=True,\n\u001b[0;32m---> 81\u001b[0;31m                             check_finite=check_finite)\n\u001b[0m\u001b[1;32m     82\u001b[0m     \u001b[0;32mreturn\u001b[0m \u001b[0mc\u001b[0m\u001b[0;34m\u001b[0m\u001b[0m\n",
      "\u001b[0;32m/usr/local/lib/python3.5/dist-packages/scipy/linalg/decomp_cholesky.py\u001b[0m in \u001b[0;36m_cholesky\u001b[0;34m(a, lower, overwrite_a, clean, check_finite)\u001b[0m\n\u001b[1;32m     29\u001b[0m     \u001b[0;32mif\u001b[0m \u001b[0minfo\u001b[0m \u001b[0;34m>\u001b[0m \u001b[0;36m0\u001b[0m\u001b[0;34m:\u001b[0m\u001b[0;34m\u001b[0m\u001b[0m\n\u001b[0;32m---> 30\u001b[0;31m         \u001b[0;32mraise\u001b[0m \u001b[0mLinAlgError\u001b[0m\u001b[0;34m(\u001b[0m\u001b[0;34m\"%d-th leading minor not positive definite\"\u001b[0m \u001b[0;34m%\u001b[0m \u001b[0minfo\u001b[0m\u001b[0;34m)\u001b[0m\u001b[0;34m\u001b[0m\u001b[0m\n\u001b[0m\u001b[1;32m     31\u001b[0m     \u001b[0;32mif\u001b[0m \u001b[0minfo\u001b[0m \u001b[0;34m<\u001b[0m \u001b[0;36m0\u001b[0m\u001b[0;34m:\u001b[0m\u001b[0;34m\u001b[0m\u001b[0m\n",
      "\u001b[0;31mLinAlgError\u001b[0m: 23-th leading minor not positive definite",
      "\nDuring handling of the above exception, another exception occurred:\n",
      "\u001b[0;31mTypeError\u001b[0m                                 Traceback (most recent call last)",
      "\u001b[0;32mpomegranate/bayes.pyx\u001b[0m in \u001b[0;36mpomegranate.bayes.BayesModel.from_summaries\u001b[0;34m()\u001b[0m\n",
      "\u001b[0;32mpomegranate/distributions.pyx\u001b[0m in \u001b[0;36mpomegranate.distributions.MultivariateGaussianDistribution.from_summaries\u001b[0;34m()\u001b[0m\n",
      "\u001b[0;31mTypeError\u001b[0m: Cannot cast ufunc subtract output from dtype('complex128') to dtype('float64') with casting rule 'same_kind'"
     ]
    },
    {
     "name": "stderr",
     "output_type": "stream",
     "text": [
      "Exception ignored in: 'pomegranate.hmm.HiddenMarkovModel._from_summaries'\n",
      "Traceback (most recent call last):\n",
      "  File \"pomegranate/bayes.pyx\", line 710, in pomegranate.bayes.BayesModel.from_summaries\n",
      "  File \"pomegranate/distributions.pyx\", line 2259, in pomegranate.distributions.MultivariateGaussianDistribution.from_summaries\n",
      "TypeError: Cannot cast ufunc subtract output from dtype('complex128') to dtype('float64') with casting rule 'same_kind'\n"
     ]
    },
    {
     "name": "stdout",
     "output_type": "stream",
     "text": [
      "[61] Improvement: 2.1627172827720642e-05\tTime (s): 537.9\n"
     ]
    },
    {
     "ename": "TypeError",
     "evalue": "Cannot cast ufunc subtract output from dtype('complex128') to dtype('float64') with casting rule 'same_kind'",
     "output_type": "error",
     "traceback": [
      "\u001b[0;31m---------------------------------------------------------------------------\u001b[0m",
      "\u001b[0;31mLinAlgError\u001b[0m                               Traceback (most recent call last)",
      "\u001b[0;32mpomegranate/distributions.pyx\u001b[0m in \u001b[0;36mpomegranate.distributions.MultivariateGaussianDistribution.from_summaries\u001b[0;34m()\u001b[0m\n",
      "\u001b[0;32m/usr/local/lib/python3.5/dist-packages/scipy/linalg/decomp_cholesky.py\u001b[0m in \u001b[0;36mcholesky\u001b[0;34m(a, lower, overwrite_a, check_finite)\u001b[0m\n\u001b[1;32m     80\u001b[0m     c, lower = _cholesky(a, lower=lower, overwrite_a=overwrite_a, clean=True,\n\u001b[0;32m---> 81\u001b[0;31m                             check_finite=check_finite)\n\u001b[0m\u001b[1;32m     82\u001b[0m     \u001b[0;32mreturn\u001b[0m \u001b[0mc\u001b[0m\u001b[0;34m\u001b[0m\u001b[0m\n",
      "\u001b[0;32m/usr/local/lib/python3.5/dist-packages/scipy/linalg/decomp_cholesky.py\u001b[0m in \u001b[0;36m_cholesky\u001b[0;34m(a, lower, overwrite_a, clean, check_finite)\u001b[0m\n\u001b[1;32m     29\u001b[0m     \u001b[0;32mif\u001b[0m \u001b[0minfo\u001b[0m \u001b[0;34m>\u001b[0m \u001b[0;36m0\u001b[0m\u001b[0;34m:\u001b[0m\u001b[0;34m\u001b[0m\u001b[0m\n\u001b[0;32m---> 30\u001b[0;31m         \u001b[0;32mraise\u001b[0m \u001b[0mLinAlgError\u001b[0m\u001b[0;34m(\u001b[0m\u001b[0;34m\"%d-th leading minor not positive definite\"\u001b[0m \u001b[0;34m%\u001b[0m \u001b[0minfo\u001b[0m\u001b[0;34m)\u001b[0m\u001b[0;34m\u001b[0m\u001b[0m\n\u001b[0m\u001b[1;32m     31\u001b[0m     \u001b[0;32mif\u001b[0m \u001b[0minfo\u001b[0m \u001b[0;34m<\u001b[0m \u001b[0;36m0\u001b[0m\u001b[0;34m:\u001b[0m\u001b[0;34m\u001b[0m\u001b[0m\n",
      "\u001b[0;31mLinAlgError\u001b[0m: 23-th leading minor not positive definite",
      "\nDuring handling of the above exception, another exception occurred:\n",
      "\u001b[0;31mTypeError\u001b[0m                                 Traceback (most recent call last)",
      "\u001b[0;32mpomegranate/bayes.pyx\u001b[0m in \u001b[0;36mpomegranate.bayes.BayesModel.from_summaries\u001b[0;34m()\u001b[0m\n",
      "\u001b[0;32mpomegranate/distributions.pyx\u001b[0m in \u001b[0;36mpomegranate.distributions.MultivariateGaussianDistribution.from_summaries\u001b[0;34m()\u001b[0m\n",
      "\u001b[0;31mTypeError\u001b[0m: Cannot cast ufunc subtract output from dtype('complex128') to dtype('float64') with casting rule 'same_kind'"
     ]
    },
    {
     "name": "stderr",
     "output_type": "stream",
     "text": [
      "Exception ignored in: 'pomegranate.hmm.HiddenMarkovModel._from_summaries'\n",
      "Traceback (most recent call last):\n",
      "  File \"pomegranate/bayes.pyx\", line 710, in pomegranate.bayes.BayesModel.from_summaries\n",
      "  File \"pomegranate/distributions.pyx\", line 2259, in pomegranate.distributions.MultivariateGaussianDistribution.from_summaries\n",
      "TypeError: Cannot cast ufunc subtract output from dtype('complex128') to dtype('float64') with casting rule 'same_kind'\n"
     ]
    },
    {
     "name": "stdout",
     "output_type": "stream",
     "text": [
      "[62] Improvement: -1.4025717973709106e-06\tTime (s): 544.4\n",
      "Total Training Improvement: 2551.5645321204793\n",
      "Total Training Time (s): 33826.2032\n"
     ]
    },
    {
     "data": {
      "text/plain": [
       "2551.5645321204793"
      ]
     },
     "execution_count": 76,
     "metadata": {},
     "output_type": "execute_result"
    }
   ],
   "source": [
    "example_sentence_hmm.fit(example_features, algorithm='viterbi', n_jobs=12, verbose=True)"
   ]
  },
  {
   "cell_type": "markdown",
   "metadata": {},
   "source": [
    "## Enroll"
   ]
  },
  {
   "cell_type": "code",
   "execution_count": 54,
   "metadata": {},
   "outputs": [
    {
     "data": {
      "text/plain": [
       "GMMHMM(algorithm='viterbi', covariance_type='diag', covars_prior=0.01,\n",
       "    init_params='stmcw', n_components=39, n_iter=10, n_mix=8,\n",
       "    params='stmcw', random_state=None, startprob_prior=1.0, tol=0.01,\n",
       "    transmat_prior=1.0, verbose=False)"
      ]
     },
     "execution_count": 54,
     "metadata": {},
     "output_type": "execute_result"
    }
   ],
   "source": [
    "def make_speaker_classifier(inspeaker_classifier):\n",
    "    n_components = 3 * len(phones)\n",
    "    initial, transitions = make_matrix_beads(n_components)\n",
    "\n",
    "    classifier = hmm.GMMHMM(\n",
    "        n_components=n_components, n_mix=8, covariance_type='diag', init_params='mcw', params='tmcw'\n",
    "    )\n",
    "\n",
    "    classifier.startprob_ = initial\n",
    "    classifier.transmat_ = transitions"
   ]
  },
  {
   "cell_type": "code",
   "execution_count": null,
   "metadata": {},
   "outputs": [],
   "source": []
  },
  {
   "cell_type": "code",
   "execution_count": null,
   "metadata": {},
   "outputs": [],
   "source": [
    "def perform_enrollments(classifier, enrollments):\n",
    "    labels = enrollments[['is_male', 'speaker_id', 'sentence_id']].values\n",
    "    features = [load_mfcc(path) for path in enrollments_1['pcm_path']]\n",
    "    classifier.fit(features, labels)\n",
    "    "
   ]
  },
  {
   "cell_type": "markdown",
   "metadata": {},
   "source": [
    "## Trial"
   ]
  },
  {
   "cell_type": "code",
   "execution_count": null,
   "metadata": {},
   "outputs": [],
   "source": [
    "def save_results(label, results):\n",
    "    path = os.path.join(root, 'result', label)\n",
    "    with open(path) as opened:\n",
    "        pickle.dump(results, opened)\n",
    "        \n",
    "def load_results(label):\n",
    "    path = os.path.join(root, 'result', label)\n",
    "    with open(path) as opened:\n",
    "        return pickle.load(opened)\n",
    "    \n",
    "def perform_trial(classifier, path):\n",
    "    features = load_mfcc(path)\n",
    "    return classifier.predict_single_proba(features)\n",
    "\n",
    "def perform_trials(classifier, trials):\n",
    "    paths = trials['pcm_path'].unique()\n",
    "    results = {}\n",
    "    for path in paths:\n",
    "        results[path] = perform_trial(classifier, path)\n",
    "    return results"
   ]
  },
  {
   "cell_type": "code",
   "execution_count": 10,
   "metadata": {},
   "outputs": [
    {
     "data": {
      "text/plain": [
       "array([[ 1.,  0.,  0.],\n",
       "       [ 0.,  1.,  0.],\n",
       "       [ 0.,  0.,  1.]])"
      ]
     },
     "execution_count": 10,
     "metadata": {},
     "output_type": "execute_result"
    }
   ],
   "source": [
    "per_phone_weights = {}\n",
    "\n",
    "per_phone_weights.get('A', np.eye(3))"
   ]
  },
  {
   "cell_type": "code",
   "execution_count": null,
   "metadata": {},
   "outputs": [],
   "source": [
    "class Bakis:\n",
    "    def __init__(self, phones, per_phone_weights, ignore_stress=True, wrap_silence=True):\n",
    "        self.phone_seq = phones.split(' ')\n",
    "        if wrap_silence:\n",
    "            self.phone_seq = ['_'] + self.phone_seq + ['_']\n",
    "            \n",
    "        state_transitions = "
   ]
  },
  {
   "cell_type": "code",
   "execution_count": 51,
   "metadata": {},
   "outputs": [
    {
     "data": {
      "text/plain": [
       "array([31, 32, 33, 34, 35, 36, 37, 38, 39, 40])"
      ]
     },
     "execution_count": 51,
     "metadata": {},
     "output_type": "execute_result"
    }
   ],
   "source": [
    "enrollments_1.sentence_id.unique()"
   ]
  },
  {
   "cell_type": "code",
   "execution_count": 52,
   "metadata": {},
   "outputs": [],
   "source": [
    "sample_enrollments = enrollments_1.loc[enrollments_1.sentence_id == 31]"
   ]
  },
  {
   "cell_type": "code",
   "execution_count": null,
   "metadata": {},
   "outputs": [],
   "source": []
  },
  {
   "cell_type": "code",
   "execution_count": null,
   "metadata": {},
   "outputs": [],
   "source": []
  },
  {
   "cell_type": "code",
   "execution_count": null,
   "metadata": {},
   "outputs": [],
   "source": [
    "class HmmGmmVerifier:\n",
    "    def __init__(self):\n",
    "        self.patterns = None\n",
    "        self.labels = None\n",
    "\n",
    "    def fit(self, features, labels):\n",
    "        self.patterns = features\n",
    "        self.labels = labels\n",
    "        self.unique_labels = np.unique(labels)\n",
    "        \n",
    "    def enroll(self, ):\n",
    "        pass\n",
    "    \n",
    "    def trial(self, ):\n",
    "        pass\n",
    "\n",
    "    def predict(self, features, metric=spatial.distance.cosine):\n",
    "        sequence_label_proba = self.predict_proba(features, metric)\n",
    "        max_proba_index = sequence_label_proba.argmax(axis=1)\n",
    "        return self.unique_labels[max_proba_index]\n",
    "    \n",
    "    def predict_proba(self, features, metric=spatial.distance.cosine):\n",
    "        sequence_n = len(features) \n",
    "        pattern_n = len(self.patterns)\n",
    "        \n",
    "        sequence_label_proba = np.zeros((sequence_n, pattern_n), dtype=self.labels.dtype)\n",
    "        for i, sequence in enumerate(features):\n",
    "            sequence_label_proba[i, :] = self.predict_single_proba(sequence, metric)\n",
    "            \n",
    "        return sequence_label_proba\n",
    "    \n",
    "    def predict_single_proba(self, sequence, metric=spatial.distance.cosine):\n",
    "        pattern_dists = np.zeros(len(self.patterns), dtype=np.float64)\n",
    "        for i, pattern in enumerate(self.patterns):\n",
    "            distance, _ = fastdtw.fastdtw(pattern, sequence, dist=metric)\n",
    "            pattern_dists[i] = distance\n",
    "            \n",
    "        pattern_proba = np.exp(-pattern_dists)\n",
    "        \n",
    "        label_proba = np.zeros(len(self.unique_labels), dtype=np.float64)\n",
    "        all_dim = tuple(range(1, self.labels.ndim))\n",
    "        for i, label in enumerate(self.unique_labels):\n",
    "            relevant = (self.labels == label).all(axis=all_dim)\n",
    "            total_proba = pattern_proba[relevant].sum()\n",
    "            label_proba[i] = total_proba\n",
    "        \n",
    "        return label_proba / label_proba.sum()\n",
    "\n",
    "classifier = markov.HMMGMMClassifier()\n",
    "classifier.fit(e_features, e_labels, n_components=10, n_mix=2)\n",
    "return classifier.predict(t_features)"
   ]
  },
  {
   "cell_type": "code",
   "execution_count": 5,
   "metadata": {},
   "outputs": [
    {
     "data": {
      "text/plain": [
       "is_male  speaker_id\n",
       "False    2             30\n",
       "         4             30\n",
       "         5             30\n",
       "         6             30\n",
       "         8             24\n",
       "         12            30\n",
       "True     1             30\n",
       "         2             30\n",
       "         4             30\n",
       "         5             30\n",
       "         6             30\n",
       "         7             30\n",
       "         8              6\n",
       "         9             30\n",
       "         13            30\n",
       "         14            24\n",
       "         15            30\n",
       "         16            30\n",
       "         17            30\n",
       "         18            30\n",
       "         19            30\n",
       "         20            30\n",
       "         21            24\n",
       "         22            30\n",
       "         23            30\n",
       "         26            30\n",
       "         28            30\n",
       "         29            30\n",
       "         32            30\n",
       "         38            24\n",
       "         40            30\n",
       "         41            30\n",
       "         43            30\n",
       "         47            30\n",
       "         48             6\n",
       "         51            30\n",
       "         52             6\n",
       "         53            30\n",
       "         54            30\n",
       "         55            30\n",
       "         60            30\n",
       "dtype: int64"
      ]
     },
     "metadata": {},
     "output_type": "display_data"
    }
   ],
   "source": [
    "display(enrollments_1.groupby(['is_male', 'speaker_id']).size())"
   ]
  }
 ],
 "metadata": {
  "kernelspec": {
   "display_name": "Python 3",
   "language": "python",
   "name": "python3"
  },
  "language_info": {
   "codemirror_mode": {
    "name": "ipython",
    "version": 3
   },
   "file_extension": ".py",
   "mimetype": "text/x-python",
   "name": "python",
   "nbconvert_exporter": "python",
   "pygments_lexer": "ipython3",
   "version": "3.5.2"
  }
 },
 "nbformat": 4,
 "nbformat_minor": 2
}
