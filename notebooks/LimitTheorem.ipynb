{
 "cells": [
  {
   "cell_type": "code",
   "execution_count": 1,
   "metadata": {
    "collapsed": true
   },
   "outputs": [],
   "source": [
    "import collections as col\n",
    "import concurrent.futures as fts\n",
    "import contextlib as ctx\n",
    "import functools as ft\n",
    "import itertools as it\n",
    "import math\n",
    "import operator as op\n",
    "import os\n",
    "\n",
    "import numpy as np\n",
    "import matplotlib.pyplot as plt\n",
    "from scipy import fftpack, misc, signal\n",
    "from sklearn import metrics\n",
    "\n",
    "from IPython.display import display\n",
    "from ipywidgets import interact, interact_manual, widgets"
   ]
  },
  {
   "cell_type": "code",
   "execution_count": 2,
   "metadata": {},
   "outputs": [
    {
     "data": {},
     "metadata": {},
     "output_type": "display_data"
    }
   ],
   "source": [
    "@interact\n",
    "def distribution_of_sum(size=(1,100)):\n",
    "    sum_of_many = np.sum(np.random.uniform(size=(size, 20000)), axis=0) / size \n",
    "    plt.figure(figsize=(12, 8))\n",
    "    plt.hist(sum_of_many, bins=50)\n",
    "    plt.show()"
   ]
  },
  {
   "cell_type": "code",
   "execution_count": 3,
   "metadata": {},
   "outputs": [
    {
     "data": {
      "image/png": "[encoded data removed]",
      "text/plain": [
       "<matplotlib.figure.Figure at 0x7f9e3e5eda20>"
      ]
     },
     "metadata": {},
     "output_type": "display_data"
    }
   ],
   "source": [
    "normal_data = np.random.normal(size=10000)\n",
    "plt.figure(figsize=(12, 8))\n",
    "plt.hist(normal_data, bins=100)\n",
    "plt.show()"
   ]
  },
  {
   "cell_type": "code",
   "execution_count": 4,
   "metadata": {},
   "outputs": [],
   "source": [
    "distributions = {\n",
    "    'chisquare': np.random.chisquare,\n",
    "    'exponential': np.random.exponential,\n",
    "    'geometric': np.random.geometric,\n",
    "    'logseries': np.random.logseries,\n",
    "    'pareto': np.random.pareto,\n",
    "    'poisson': np.random.poisson,\n",
    "    'power': np.random.power,\n",
    "    'rayleigh': np.random.rayleigh,\n",
    "    'standard_gamma': np.random.standard_gamma,\n",
    "    'standard_t': np.random.standard_t,\n",
    "    'weibull': np.random.weibull,\n",
    "    'zipf': np.random.zipf\n",
    "}"
   ]
  },
  {
   "cell_type": "code",
   "execution_count": 5,
   "metadata": {},
   "outputs": [
    {
     "data": {},
     "metadata": {},
     "output_type": "display_data"
    }
   ],
   "source": [
    "@interact\n",
    "def distribution_of_sum(param=(0.0, 2.0), size=(1,100), distribution=distributions):\n",
    "    sum_of_many = np.sum(distribution(param, size=(size, 10000)), axis=0) / size\n",
    "    plt.figure(figsize=(12, 8))\n",
    "    plt.hist(sum_of_many, bins=100)\n",
    "    plt.show()"
   ]
  }
 ],
 "metadata": {
  "kernelspec": {
   "display_name": "Python 3",
   "language": "python",
   "name": "python3"
  },
  "language_info": {
   "codemirror_mode": {
    "name": "ipython",
    "version": 3
   },
   "file_extension": ".py",
   "mimetype": "text/x-python",
   "name": "python",
   "nbconvert_exporter": "python",
   "pygments_lexer": "ipython3",
   "version": "3.5.4"
  }
 },
 "nbformat": 4,
 "nbformat_minor": 2
}
