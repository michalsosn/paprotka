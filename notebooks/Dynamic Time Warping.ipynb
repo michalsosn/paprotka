{
 "cells": [
  {
   "cell_type": "markdown",
   "metadata": {},
   "source": [
    "# Dynamic Time Warping\n",
    "\n",
    "DTW is an algorithm for comparing two sequences. The sequences may be of different length. The algorithm will return that sequences are similar if they longer one has a subsequence that is very similar to the shorter one, even if some parts are stretched too much.\n",
    "\n",
    "I will implement a simple version of DTW that performs $n \\times m$ operations of calculating a distance, where $n$ and $m$ are lengths of compared sequences (lets call them $N$ and $M$ with elements $N_i$ and $M_j$, where indexes start at $0$). The algorithm uses a method of dynamic programming. I will keep whole arrays to visualize the results better, but you can keep only last two rows and compute distances row-wise. It keeps memory usage linear with $m$ and the algorithm remains simple. The final distance between sequences is in the bottom right corner.\n",
    "\n",
    "The algorithm requires choosing a metric $d$ for measuring distance of single elements. \n",
    "\n",
    "The algorithms looks like this: We create a distance matrix $D$ of size $(N + 1) \\times (M + 1)$ and set first column and first row all to $\\infty$, except the corner which is set to $0$.\n",
    "Then we fill all the remaining $N \\times M$ cells going row-wise according to this rule:\n",
    "\n",
    "$$D+{i+1, j+1} = min(D_{i+1, j}, D_{i, j+1}, D_{i, j}) + d(N_i, M_j)$$\n",
    "\n",
    "* Taking $D_{i+1, j}$ means that our current result consists of $d(N_i, M_{j-1})$ and $d(N_i, M_j)$, so you compared same element of sequence N with two elements from pattern M. Eg. $[1, 20, 20, 20, 20], [1, 1, 1, 10]$ will probably take this case a few times.\n",
    "* $D_{i, j+1}$ so your result will consist of $d(N_{i-1}, M_j)$ and $d(N_i, M_j)$, so you matched two elements from sequence with same element in pattern M. Eg. $[1, 1, 1, 1, 1, 20], [1, 10]$ will use this case to minimize the distance.\n",
    "* $D_{i, j}$ so you used both the next element in sequence N and in pattern M. Eg. $[1, 2, 3, 4]$ and $[1, 2, 3, 4]$."
   ]
  },
  {
   "cell_type": "code",
   "execution_count": 34,
   "metadata": {},
   "outputs": [],
   "source": [
    "import functools as ft\n",
    "import itertools as it\n",
    "import json\n",
    "import math\n",
    "import operator as op\n",
    "import os\n",
    "\n",
    "from IPython.display import display\n",
    "from ipywidgets import interact, interact_manual, widgets\n",
    "import matplotlib.pyplot as plt\n",
    "import numpy as np\n",
    "import pandas as pd\n",
    "from scipy import misc, spatial, stats\n",
    "from sklearn import metrics"
   ]
  },
  {
   "cell_type": "code",
   "execution_count": 10,
   "metadata": {},
   "outputs": [],
   "source": [
    "def calculate_dtw_full(metric, pattern, sequence):\n",
    "    pattern_size = len(pattern)\n",
    "    sequence_size = len(sequence)\n",
    "\n",
    "    distances = np.zeros((sequence_size + 1, pattern_size + 1), dtype=np.float64)\n",
    "    distances[0, :] = math.inf\n",
    "    distances[:, 0] = math.inf\n",
    "    distances[0, 0] = 0\n",
    "\n",
    "    for i, sequence_window in enumerate(sequence):\n",
    "        for j, pattern_window in enumerate(pattern):\n",
    "            distance = metric(pattern_window, sequence_window)\n",
    "            prev_distance = min(distances[i, j], distances[i, j + 1], distances[i + 1, j])\n",
    "            distances[i + 1, j + 1] = prev_distance + distance\n",
    "\n",
    "    return distances\n",
    "\n",
    "dtw_full_norm = lambda pat, seq: calculate_dtw_full(lambda x, y: np.linalg.norm(x - y), pat, seq)"
   ]
  },
  {
   "cell_type": "code",
   "execution_count": 27,
   "metadata": {},
   "outputs": [
    {
     "name": "stdout",
     "output_type": "stream",
     "text": [
      "Matches same element in sequence with multiple elements in pattern\n",
      "[[  0.  inf  inf  inf  inf]\n",
      " [ inf   0.   0.   0.   9.]\n",
      " [ inf  19.  19.  19.  10.]\n",
      " [ inf  38.  38.  38.  20.]\n",
      " [ inf  57.  57.  57.  30.]\n",
      " [ inf  76.  76.  76.  40.]]\n"
     ]
    }
   ],
   "source": [
    "print('Matches same element in sequence with multiple elements in pattern')\n",
    "print(dtw_full_norm([1,1,1,10], [1,20,20,20,20]))"
   ]
  },
  {
   "cell_type": "code",
   "execution_count": 28,
   "metadata": {},
   "outputs": [
    {
     "name": "stdout",
     "output_type": "stream",
     "text": [
      "Matches multiple elements from sequence with the same element in pattern\n",
      "[[  0.  inf  inf]\n",
      " [ inf   0.   9.]\n",
      " [ inf   0.   9.]\n",
      " [ inf   0.   9.]\n",
      " [ inf   0.   9.]\n",
      " [ inf   0.   9.]\n",
      " [ inf  19.  10.]]\n"
     ]
    }
   ],
   "source": [
    "print('Matches multiple elements from sequence with the same element in pattern')\n",
    "print(dtw_full_norm([1,10], [1,1,1,1,1,20]))"
   ]
  },
  {
   "cell_type": "code",
   "execution_count": 29,
   "metadata": {},
   "outputs": [
    {
     "name": "stdout",
     "output_type": "stream",
     "text": [
      "Matches elements one to one\n",
      "[[  0.  inf  inf  inf  inf]\n",
      " [ inf   0.   1.   3.   6.]\n",
      " [ inf   1.   0.   1.   3.]\n",
      " [ inf   3.   1.   0.   1.]\n",
      " [ inf   6.   3.   1.   0.]]\n"
     ]
    }
   ],
   "source": [
    "print('Matches elements one to one')\n",
    "print(dtw_full_norm([1, 2, 3, 4], [1, 2, 3, 4]))"
   ]
  },
  {
   "cell_type": "code",
   "execution_count": 30,
   "metadata": {},
   "outputs": [
    {
     "name": "stdout",
     "output_type": "stream",
     "text": [
      "If the sequence is equal to pattern except some elements are repeated more or less times, the distance is still 0\n",
      "[[  0.  inf  inf  inf  inf  inf  inf]\n",
      " [ inf   0.   1.   2.   3.   5.   8.]\n",
      " [ inf   0.   1.   2.   3.   5.   8.]\n",
      " [ inf   1.   0.   0.   0.   1.   3.]\n",
      " [ inf   3.   1.   1.   1.   0.   1.]\n",
      " [ inf   5.   2.   2.   2.   0.   1.]\n",
      " [ inf   7.   3.   3.   3.   0.   1.]\n",
      " [ inf  10.   5.   5.   5.   1.   0.]\n",
      " [ inf  13.   7.   7.   7.   2.   0.]]\n"
     ]
    }
   ],
   "source": [
    "print('If the sequence is equal to pattern except some elements are repeated more or less times, the distance is still 0')\n",
    "print(dtw_full_norm([1, 2, 2, 2, 3, 4], [1, 1, 2, 3, 3, 3, 4, 4]))"
   ]
  },
  {
   "cell_type": "code",
   "execution_count": 31,
   "metadata": {},
   "outputs": [
    {
     "name": "stdout",
     "output_type": "stream",
     "text": [
      "[[  0.  inf  inf]\n",
      " [ inf   0.   9.]\n",
      " [ inf   0.   9.]\n",
      " [ inf   0.   9.]\n",
      " [ inf   0.   9.]\n",
      " [ inf   0.   9.]]\n",
      "[[  0.  inf  inf]\n",
      " [ inf   9.   9.]\n",
      " [ inf  18.   9.]\n",
      " [ inf  27.   9.]\n",
      " [ inf  36.   9.]\n",
      " [ inf  45.   9.]]\n"
     ]
    }
   ],
   "source": [
    "print(dtw_full_norm([1, 10], [1, 1, 1, 1, 1]))\n",
    "print(dtw_full_norm([1, 10], [10, 10, 10, 10, 10]))"
   ]
  },
  {
   "cell_type": "code",
   "execution_count": 33,
   "metadata": {},
   "outputs": [
    {
     "name": "stdout",
     "output_type": "stream",
     "text": [
      "[[  0.  inf  inf  inf  inf  inf  inf]\n",
      " [ inf   1.   1.   1.   1.   2.   4.]\n",
      " [ inf   3.   2.   2.   2.   1.   2.]\n",
      " [ inf   6.   4.   4.   4.   2.   1.]\n",
      " [ inf   9.   6.   6.   6.   3.   1.]\n",
      " [ inf  12.   8.   8.   8.   4.   1.]\n",
      " [ inf  16.  11.  11.  11.   6.   2.]]\n"
     ]
    }
   ],
   "source": [
    "print(dtw_full_norm([1, 2, 2, 2, 3, 4], [2, 3, 4, 4, 4, 5]))"
   ]
  },
  {
   "cell_type": "markdown",
   "metadata": {},
   "source": [
    "# Using DTW on RedDots"
   ]
  },
  {
   "cell_type": "code",
   "execution_count": null,
   "metadata": {},
   "outputs": [],
   "source": [
    "class DynamicTimeWarpingClassifier:\n",
    "    def __init__(self, metric=spatial.distance.euclideanu):\n",
    "        self.metric = metric\n",
    "        self.patterns = None\n",
    "        self.labels = None\n",
    "\n",
    "    def fit(self, features, labels):\n",
    "        self.patterns = features\n",
    "        self.labels = labels\n",
    "\n",
    "    def predict(self, features):\n",
    "        sequence_num = len(features)\n",
    "\n",
    "        results = np.zeros(sequence_num, dtype=self.labels.dtype)\n",
    "        for i, sequence in enumerate(features):\n",
    "            min_distance = None\n",
    "            min_label = None\n",
    "            for j, pattern in enumerate(self.patterns):\n",
    "                distance, _ = fastdtw.fastdtw(pattern, sequence, dist=self.metric)\n",
    "                if min_distance is None or distance < min_distance:\n",
    "                    min_distance = distance\n",
    "                    min_label = self.labels[j]\n",
    "            results[i] = min_label\n",
    "\n",
    "        return results"
   ]
  }
 ],
 "metadata": {
  "kernelspec": {
   "display_name": "Python 3",
   "language": "python",
   "name": "python3"
  },
  "language_info": {
   "codemirror_mode": {
    "name": "ipython",
    "version": 3
   },
   "file_extension": ".py",
   "mimetype": "text/x-python",
   "name": "python",
   "nbconvert_exporter": "python",
   "pygments_lexer": "ipython3",
   "version": "3.5.2"
  }
 },
 "nbformat": 4,
 "nbformat_minor": 2
}
