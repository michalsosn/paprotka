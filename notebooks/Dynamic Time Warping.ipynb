{
 "cells": [
  {
   "cell_type": "markdown",
   "metadata": {},
   "source": [
    "# Dynamic Time Warping\n",
    "\n",
    "DTW is an algorithm for comparing two sequences. The sequences may be of different length. The algorithm will return that sequences are similar if they longer one has a subsequence that is very similar to the shorter one, even if some parts are stretched too much.\n",
    "\n",
    "I will implement a simple version of DTW that performs $n \\times m$ operations of calculating a distance, where $n$ and $m$ are lengths of compared sequences (lets call them $N$ and $M$ with elements $N_i$ and $M_j$, where indexes start at $0$). The algorithm uses a method of dynamic programming. I will keep whole arrays to visualize the results better, but you can keep only last two rows and compute distances row-wise. It keeps memory usage linear with $m$ and the algorithm remains simple. The final distance between sequences is in the bottom right corner.\n",
    "\n",
    "The algorithm requires choosing a metric $d$ for measuring distance of single elements. \n",
    "\n",
    "The algorithms looks like this: We create a distance matrix $D$ of size $(N + 1) \\times (M + 1)$ and set first column and first row all to $\\infty$, except the corner which is set to $0$.\n",
    "Then we fill all the remaining $N \\times M$ cells going row-wise according to this rule:\n",
    "\n",
    "$$D+{i+1, j+1} = min(D_{i+1, j}, D_{i, j+1}, D_{i, j}) + d(N_i, M_j)$$\n",
    "\n",
    "* Taking $D_{i+1, j}$ means that our current result consists of $d(N_i, M_{j-1})$ and $d(N_i, M_j)$, so you compared same element of sequence N with two elements from pattern M. Eg. $[1, 20, 20, 20, 20], [1, 1, 1, 10]$ will probably take this case a few times.\n",
    "* $D_{i, j+1}$ so your result will consist of $d(N_{i-1}, M_j)$ and $d(N_i, M_j)$, so you matched two elements from sequence with same element in pattern M. Eg. $[1, 1, 1, 1, 1, 20], [1, 10]$ will use this case to minimize the distance.\n",
    "* $D_{i, j}$ so you used both the next element in sequence N and in pattern M. Eg. $[1, 2, 3, 4]$ and $[1, 2, 3, 4]$."
   ]
  },
  {
   "cell_type": "code",
   "execution_count": 1,
   "metadata": {},
   "outputs": [],
   "source": [
    "%load_ext autoreload"
   ]
  },
  {
   "cell_type": "code",
   "execution_count": 2,
   "metadata": {},
   "outputs": [],
   "source": [
    "%autoreload 2\n",
    "\n",
    "import concurrent.futures as cf\n",
    "import functools as ft\n",
    "import itertools as it\n",
    "import json\n",
    "import math\n",
    "import operator as op\n",
    "import os\n",
    "\n",
    "import fastdtw\n",
    "from IPython.display import display\n",
    "from ipywidgets import interact, interact_manual, widgets\n",
    "import matplotlib.pyplot as plt\n",
    "import numpy as np\n",
    "import pandas as pd\n",
    "from scipy import interpolate, misc, optimize, spatial, stats\n",
    "from sklearn import metrics\n",
    "\n",
    "from paprotka.dataset import reddots\n",
    "from paprotka.feature import cepstral"
   ]
  },
  {
   "cell_type": "code",
   "execution_count": 3,
   "metadata": {},
   "outputs": [],
   "source": [
    "%autoreload 0"
   ]
  },
  {
   "cell_type": "code",
   "execution_count": 4,
   "metadata": {},
   "outputs": [],
   "source": [
    "def calculate_dtw_full(metric, pattern, sequence):\n",
    "    pattern_size = len(pattern)\n",
    "    sequence_size = len(sequence)\n",
    "\n",
    "    distances = np.zeros((sequence_size + 1, pattern_size + 1), dtype=np.float64)\n",
    "    distances[0, :] = math.inf\n",
    "    distances[:, 0] = math.inf\n",
    "    distances[0, 0] = 0\n",
    "\n",
    "    for i, sequence_window in enumerate(sequence):\n",
    "        for j, pattern_window in enumerate(pattern):\n",
    "            distance = metric(pattern_window, sequence_window)\n",
    "            prev_distance = min(distances[i, j], distances[i, j + 1], distances[i + 1, j])\n",
    "            distances[i + 1, j + 1] = prev_distance + distance\n",
    "\n",
    "    return distances\n",
    "\n",
    "dtw_full_norm = lambda pat, seq: calculate_dtw_full(lambda x, y: np.linalg.norm(x - y), pat, seq)"
   ]
  },
  {
   "cell_type": "code",
   "execution_count": 5,
   "metadata": {},
   "outputs": [
    {
     "name": "stdout",
     "output_type": "stream",
     "text": [
      "Matches same element in sequence with multiple elements in pattern\n",
      "[[  0.  inf  inf  inf  inf  inf]\n",
      " [ inf   0.  19.  38.  57.  76.]\n",
      " [ inf   0.  19.  38.  57.  76.]\n",
      " [ inf   0.  19.  38.  57.  76.]\n",
      " [ inf   9.  10.  20.  30.  40.]]\n"
     ]
    }
   ],
   "source": [
    "print('Matches same element in sequence with multiple elements in pattern')\n",
    "print(dtw_full_norm([1,20,20,20,20], [1,1,1,10]))"
   ]
  },
  {
   "cell_type": "code",
   "execution_count": 8,
   "metadata": {},
   "outputs": [
    {
     "name": "stdout",
     "output_type": "stream",
     "text": [
      "Matches multiple elements from sequence with the same element in pattern\n",
      "[[  0.  inf  inf]\n",
      " [ inf   0.   9.]\n",
      " [ inf   0.   9.]\n",
      " [ inf   0.   9.]\n",
      " [ inf   0.   9.]\n",
      " [ inf   0.   9.]\n",
      " [ inf  19.  10.]]\n"
     ]
    }
   ],
   "source": [
    "print('Matches multiple elements from sequence with the same element in pattern')\n",
    "print(dtw_full_norm([1,10], [1,1,1,1,1,20]))"
   ]
  },
  {
   "cell_type": "code",
   "execution_count": 9,
   "metadata": {},
   "outputs": [
    {
     "name": "stdout",
     "output_type": "stream",
     "text": [
      "Matches elements one to one\n",
      "[[  0.  inf  inf  inf  inf]\n",
      " [ inf   0.   1.   3.   6.]\n",
      " [ inf   1.   0.   1.   3.]\n",
      " [ inf   3.   1.   0.   1.]\n",
      " [ inf   6.   3.   1.   0.]]\n"
     ]
    }
   ],
   "source": [
    "print('Matches elements one to one')\n",
    "print(dtw_full_norm([1, 2, 3, 4], [1, 2, 3, 4]))"
   ]
  },
  {
   "cell_type": "code",
   "execution_count": 6,
   "metadata": {},
   "outputs": [
    {
     "name": "stdout",
     "output_type": "stream",
     "text": [
      "If the sequence is equal to pattern except some elements are repeated more or less times, the distance is still 0\n",
      "[[  0.  inf  inf  inf  inf  inf  inf  inf  inf]\n",
      " [ inf   0.   0.   1.   3.   5.   7.  10.  13.]\n",
      " [ inf   1.   1.   0.   1.   2.   3.   5.   7.]\n",
      " [ inf   2.   2.   0.   1.   2.   3.   5.   7.]\n",
      " [ inf   3.   3.   0.   1.   2.   3.   5.   7.]\n",
      " [ inf   5.   5.   1.   0.   0.   0.   1.   2.]\n",
      " [ inf   8.   8.   3.   1.   1.   1.   0.   0.]]\n"
     ]
    }
   ],
   "source": [
    "print('If the sequence is equal to pattern except some elements are repeated more or less times, the distance is still 0')\n",
    "print(dtw_full_norm([1, 1, 2, 3, 3, 3, 4, 4], [1, 2, 2, 2, 3, 4]))"
   ]
  },
  {
   "cell_type": "code",
   "execution_count": 11,
   "metadata": {},
   "outputs": [
    {
     "name": "stdout",
     "output_type": "stream",
     "text": [
      "[[  0.  inf  inf]\n",
      " [ inf   0.   9.]\n",
      " [ inf   0.   9.]\n",
      " [ inf   0.   9.]\n",
      " [ inf   0.   9.]\n",
      " [ inf   0.   9.]]\n",
      "[[  0.  inf  inf]\n",
      " [ inf   9.   9.]\n",
      " [ inf  18.   9.]\n",
      " [ inf  27.   9.]\n",
      " [ inf  36.   9.]\n",
      " [ inf  45.   9.]]\n"
     ]
    }
   ],
   "source": [
    "print(dtw_full_norm([1, 10], [1, 1, 1, 1, 1]))\n",
    "print(dtw_full_norm([1, 10], [10, 10, 10, 10, 10]))"
   ]
  },
  {
   "cell_type": "code",
   "execution_count": 12,
   "metadata": {},
   "outputs": [
    {
     "name": "stdout",
     "output_type": "stream",
     "text": [
      "[[  0.  inf  inf  inf  inf  inf  inf]\n",
      " [ inf   1.   1.   1.   1.   2.   4.]\n",
      " [ inf   3.   2.   2.   2.   1.   2.]\n",
      " [ inf   6.   4.   4.   4.   2.   1.]\n",
      " [ inf   9.   6.   6.   6.   3.   1.]\n",
      " [ inf  12.   8.   8.   8.   4.   1.]\n",
      " [ inf  16.  11.  11.  11.   6.   2.]]\n"
     ]
    }
   ],
   "source": [
    "print(dtw_full_norm([1, 2, 2, 2, 3, 4], [2, 3, 4, 4, 4, 5]))"
   ]
  },
  {
   "cell_type": "markdown",
   "metadata": {},
   "source": [
    "# Using DTW on RedDots\n",
    "\n",
    "To detect impostors we can't just return the closest pattern. We need some probability we can put threshold on. I will try [this](https://stackoverflow.com/questions/4934203/probability-of-a-k-nearest-neighbor-like-classification) idea."
   ]
  },
  {
   "cell_type": "code",
   "execution_count": 13,
   "metadata": {},
   "outputs": [],
   "source": [
    "root = reddots.get_root()\n",
    "load_pcm = ft.partial(reddots.load_pcm, root)\n",
    "load_mfcc = ft.partial(reddots.load_npy, root, 'mfcc_default')\n",
    "\n",
    "def save_results(label, results):\n",
    "    path = os.path.join(root, 'result', label)\n",
    "    with open(path) as opened:\n",
    "        pickle.dump(results, opened)\n",
    "        \n",
    "def load_results(label):\n",
    "    path = os.path.join(root, 'result', label)\n",
    "    with open(path) as opened:\n",
    "        return pickle.load(opened)"
   ]
  },
  {
   "cell_type": "code",
   "execution_count": 14,
   "metadata": {},
   "outputs": [
    {
     "name": "stdout",
     "output_type": "stream",
     "text": [
      "Enrollments\n",
      "is_male                  bool\n",
      "pcm_path               object\n",
      "sentence_id             int16\n",
      "speaker_id              int16\n",
      "timestamp      datetime64[ns]\n",
      "dtype: object\n",
      "Trials\n",
      "correct_sentence                  bool\n",
      "expected_is_male                  bool\n",
      "expected_sentence_id             int16\n",
      "expected_speaker_id              int16\n",
      "pcm_path                        object\n",
      "target_person                     bool\n",
      "trial_is_male                     bool\n",
      "trial_sentence_id                int16\n",
      "trial_speaker_id                 int16\n",
      "trial_timestamp         datetime64[ns]\n",
      "dtype: object\n"
     ]
    },
    {
     "data": {
      "text/plain": [
       "is_male  speaker_id\n",
       "False    2             30\n",
       "         4             30\n",
       "         5             30\n",
       "         6             30\n",
       "         8             24\n",
       "         12            30\n",
       "True     1             30\n",
       "         2             30\n",
       "         4             30\n",
       "         5             30\n",
       "         6             30\n",
       "         7             30\n",
       "         8              6\n",
       "         9             30\n",
       "         13            30\n",
       "         14            24\n",
       "         15            30\n",
       "         16            30\n",
       "         17            30\n",
       "         18            30\n",
       "         19            30\n",
       "         20            30\n",
       "         21            24\n",
       "         22            30\n",
       "         23            30\n",
       "         26            30\n",
       "         28            30\n",
       "         29            30\n",
       "         32            30\n",
       "         38            24\n",
       "         40            30\n",
       "         41            30\n",
       "         43            30\n",
       "         47            30\n",
       "         48             6\n",
       "         51            30\n",
       "         52             6\n",
       "         53            30\n",
       "         54            30\n",
       "         55            30\n",
       "         60            30\n",
       "dtype: int64"
      ]
     },
     "metadata": {},
     "output_type": "display_data"
    }
   ],
   "source": [
    "enrollments_1 = reddots.load_enrollments(root + '/ndx/f_part_01.trn', root + '/ndx/m_part_01.trn')\n",
    "print('Enrollments', enrollments_1.dtypes, sep='\\n')\n",
    "\n",
    "trials_1 = reddots.load_trials(root + '/ndx/f_part_01.ndx', root + '/ndx/m_part_01.ndx')\n",
    "print('Trials', trials_1.dtypes, sep='\\n')\n",
    "\n",
    "display(enrollments_1.groupby(['is_male', 'speaker_id']).size())"
   ]
  },
  {
   "cell_type": "code",
   "execution_count": 15,
   "metadata": {},
   "outputs": [],
   "source": [
    "class DynamicTimeWarpingClassifier:\n",
    "    def __init__(self):\n",
    "        self.patterns = None\n",
    "        self.labels = None\n",
    "\n",
    "    def fit(self, features, labels):\n",
    "        self.patterns = features\n",
    "        self.labels = labels\n",
    "        self.unique_labels = np.unique(labels)\n",
    "\n",
    "    def predict(self, features, metric=spatial.distance.cosine):\n",
    "        sequence_label_proba = self.predict_proba(features, metric)\n",
    "        max_proba_index = sequence_label_proba.argmax(axis=1)\n",
    "        return self.unique_labels[max_proba_index]\n",
    "    \n",
    "    def predict_proba(self, features, metric=spatial.distance.cosine):\n",
    "        sequence_n = len(features) \n",
    "        pattern_n = len(self.patterns)\n",
    "        \n",
    "        sequence_label_proba = np.zeros((sequence_n, pattern_n), dtype=self.labels.dtype)\n",
    "        for i, sequence in enumerate(features):\n",
    "            sequence_label_proba[i, :] = self.predict_single_proba(sequence, metric)\n",
    "            \n",
    "        return sequence_label_proba\n",
    "    \n",
    "    def predict_single_proba(self, sequence, metric=spatial.distance.cosine):\n",
    "        pattern_dists = np.zeros(len(self.patterns), dtype=np.float64)\n",
    "        for i, pattern in enumerate(self.patterns):\n",
    "            distance, _ = fastdtw.fastdtw(pattern, sequence, dist=metric)\n",
    "            pattern_dists[i] = distance\n",
    "            \n",
    "        pattern_proba = np.exp(-pattern_dists)\n",
    "        \n",
    "        label_proba = np.zeros(len(self.unique_labels), dtype=np.float64)\n",
    "        all_dim = tuple(range(1, self.labels.ndim))\n",
    "        for i, label in enumerate(self.unique_labels):\n",
    "            relevant = (self.labels == label).all(axis=all_dim)\n",
    "            total_proba = pattern_proba[relevant].sum()\n",
    "            label_proba[i] = total_proba\n",
    "        \n",
    "        return label_proba / label_proba.sum()"
   ]
  },
  {
   "cell_type": "code",
   "execution_count": 16,
   "metadata": {},
   "outputs": [],
   "source": [
    "def perform_enrollment(classifier, enrollments):\n",
    "    labels = enrollments[['is_male', 'speaker_id', 'sentence_id']].values\n",
    "    features = [load_mfcc(path) for path in enrollments_1['pcm_path']]\n",
    "    classifier.fit(features, labels)\n",
    "    \n",
    "def perform_trial(classifier, path):\n",
    "    features = load_mfcc(path)\n",
    "    return classifier.predict_single_proba(features)\n",
    "\n",
    "def perform_trials(classifier, trials):\n",
    "    paths = trials['pcm_path'].unique()\n",
    "    results = {}\n",
    "    for path in paths:\n",
    "        results[path] = perform_trial(classifier, path)\n",
    "#     with cf.ThreadPoolExecutor(max_workers=10) as executor:\n",
    "#         future_to_path = {executor.submit(perform_trial, classifier, path): path for path in paths}\n",
    "#         for future in cf.as_completed(future_to_path):\n",
    "#             path = future_to_path[future]\n",
    "#             result = future.result()\n",
    "#             results[path] = result\n",
    "    return results"
   ]
  },
  {
   "cell_type": "code",
   "execution_count": 17,
   "metadata": {},
   "outputs": [],
   "source": [
    "classifier = DynamicTimeWarpingClassifier()"
   ]
  },
  {
   "cell_type": "code",
   "execution_count": 18,
   "metadata": {},
   "outputs": [],
   "source": [
    "perform_enrollment(classifier, enrollments_1)"
   ]
  },
  {
   "cell_type": "code",
   "execution_count": null,
   "metadata": {},
   "outputs": [
    {
     "name": "stderr",
     "output_type": "stream",
     "text": [
      "/usr/local/lib/python3.5/dist-packages/ipykernel_launcher.py:41: RuntimeWarning: invalid value encountered in true_divide\n"
     ]
    }
   ],
   "source": [
    "results_1 = perform_trials(classifier, trials_1)"
   ]
  },
  {
   "cell_type": "code",
   "execution_count": null,
   "metadata": {},
   "outputs": [],
   "source": [
    "save_results('dtw_1')"
   ]
  },
  {
   "cell_type": "code",
   "execution_count": null,
   "metadata": {},
   "outputs": [],
   "source": [
    "print('done')"
   ]
  },
  {
   "cell_type": "code",
   "execution_count": null,
   "metadata": {},
   "outputs": [],
   "source": [
    "for path in trials_1['pcm_path']:\n",
    "    proba_per_label = results_1[path]\n",
    "    max_index = result.argmax(axis=1)\n",
    "    is_male, speaker_id, sentence_id = self.unique_labels[max_index]\n",
    "\n",
    "def calculate_proba(classifier, label_checker, results, row):\n",
    "    relevant_result = results[row.pcm_path]\n",
    "    current_row_checker = ft.partial(label_checker, row)\n",
    "    relevant_indexes = np.array(list(map(current_row_checker, classifier.unique_labels)))\n",
    "    return relevant_result[relevant_indexes].sum()\n",
    "    \n",
    "check_target_right = lambda row, label: label[0] == row.expected_is_male and label[1] == row.expected_speaker_id\n",
    "check_sentence_right = lambda row, label: label[2] == row.expected_sentence_id\n",
    "check_both_right = lambda row, label: check_target_right(row, label) and check_sentence_correct(row, label)\n",
    "\n",
    "calculate_proba_target_right = ft.partial(calculate_proba, classifier, results_1, check_target_right)\n",
    "calculate_proba_sentence_right = ft.partial(calculate_proba, classifier, check_sentence_right)\n",
    "calculate_proba_both_right = ft.partial(calculate_proba, classifier, check_both_right)\n",
    "\n",
    "def equal_error_rate(fpr, tpr, thresholds):\n",
    "    eer = optimize.brentq(lambda x : 1. - x - interpolate.interp1d(fpr, tpr)(x), 0., 1.)\n",
    "    threshold = interpolate.interp1d(fpr, thresholds)(eer)\n",
    "    return eer, threshold\n",
    "\n",
    "def plot_roc(fpr, tpr, auc, eer):\n",
    "    plt.figure()\n",
    "    plt.plot(fpr, tpr, color='darkorange',\n",
    "             lw=lw, label='ROC curve (area = %0.2f, EER = %0.2f)' % (auc, eer))\n",
    "    plt.plot([0, 1], [0, 1], color='navy', lw=2, linestyle='--')\n",
    "    plt.xlim([0.0, 1.0])\n",
    "    plt.ylim([0.0, 1.05])\n",
    "    plt.xlabel('False Positive Rate')\n",
    "    plt.ylabel('True Positive Rate')\n",
    "    plt.title('Receiver operating characteristic example')\n",
    "    plt.legend(loc=\"lower right\")\n",
    "    plt.show()\n",
    "    \n",
    "def visualize_roc(fpr, tpr, thresholds):\n",
    "    roc_auc = metrics.auc(fpr, tpr)\n",
    "    eer = equal_error_rate(fpr, tpr, thresholds)\n",
    "    plot_roc(fpr, tpr, auc, eer)"
   ]
  },
  {
   "cell_type": "code",
   "execution_count": 135,
   "metadata": {},
   "outputs": [
    {
     "data": {
      "text/plain": [
       "array(['f0001/20150302171021680_f0001_31.pcm',\n",
       "       'f0001/20150302171023147_f0001_34.pcm',\n",
       "       'f0001/20150302171024582_f0001_39.pcm', ...,\n",
       "       'm0067/20150701174119663_m0067_40.pcm',\n",
       "       'm0067/20150701174124592_m0067_40.pcm',\n",
       "       'm0067/20150701174134717_m0067_40.pcm'], dtype=object)"
      ]
     },
     "execution_count": 135,
     "metadata": {},
     "output_type": "execute_result"
    }
   ],
   "source": [
    "# is target right, disregarding sentence\n",
    "proba_target_right = results_1.apply(calculate_proba_target_right)\n",
    "roc_target_right = metrics.roc_curve(results_1.target_person, proba_target_right)\n",
    "visualize_roc(*roc_target_right)\n",
    "\n",
    "# is sentence correct or wrong, disregarding target\n",
    "proba_sentence_right = results_1.apply(calculate_proba_sentence_right)\n",
    "roc_sentence_right = metrics.roc_curve(results_1.correct_sentence, proba_sentence_right)\n",
    "visualize_roc(*roc_sentence_right)\n",
    "\n",
    "# is target right, when the sentence is correct\n",
    "proba_sentence_right = results_1.apply(calculate_proba_sentence_right)\n",
    "roc_both_right = metrics.roc_curve(results_1.target_person and results_1.correct_sentence, proba_both_right)\n",
    "visualize_roc(*roc_both_right)"
   ]
  }
 ],
 "metadata": {
  "kernelspec": {
   "display_name": "Python 3",
   "language": "python",
   "name": "python3"
  },
  "language_info": {
   "codemirror_mode": {
    "name": "ipython",
    "version": 3
   },
   "file_extension": ".py",
   "mimetype": "text/x-python",
   "name": "python",
   "nbconvert_exporter": "python",
   "pygments_lexer": "ipython3",
   "version": "3.5.2"
  }
 },
 "nbformat": 4,
 "nbformat_minor": 2
}
