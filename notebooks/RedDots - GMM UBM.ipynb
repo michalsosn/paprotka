{
 "cells": [
  {
   "cell_type": "markdown",
   "metadata": {},
   "source": [
    "# GMM UBM\n",
    "\n",
    "Jednym ze sposobów weryfikacji mówcy stosowanym od dawna jest `GMM-UBM`. Polega on na utworzeniu modelu tła\n",
    "(_universal background model_), modelu mikstur gaussowskich i dopasowaniu ich do ramek `MFCC` z nagrań\n",
    "treningowych. Następnie, do każdego mówcy tworzony jest osobny model przez `MAP` adaptację modelu tła do nagrań danego\n",
    "mówcy. \n",
    "\n",
    "W\n",
    "_Utterance Verification for Text-Dependent Speaker Recognition: aComparative Assessment Using the RedDots Corpus_\n",
    "następnie dokonywane liczona jest różnica między logarytmem prawdopodobieństwa wygenerowania nagrania przez model\n",
    "dla mówcy i przez model tła. Różnica ta porównywana jest z progiem i na tej podstawie podejmowana jest decyzja\n",
    "o weryfikacji. Podobnie można weryfikować treść nagrania, przez adaptację modelu tła do nagrań konkretnej treści.\n",
    "Jeżeli treść wszystkich wypowiedzi jest znana i jest to zbiór zamknięty, to zamiast porównywać model dla jednej\n",
    "treści z modelem tła, radzą wykorzystać _mean norm_ lub _max norm_. To znaczy porównać wynik weryfikowanego\n",
    "modelu ze średnim wynikiem pozostałych lub z najlepszym wynikiem pozostałych. Autorzy mają podejście, by niezależnie\n",
    "zweryfikować mówcę i treść wypowiedzi.\n",
    "\n",
    "Autorzy testują wiele modeli, w tym zarówno do weryfikacji mówcy i treści mają \\shortcut{GMM-UBM} z 512 miksturami.\n",
    "Jako cechy używają 19 `MFCC` z delta i delta-delta cechami. `MAP`-adaptacja z _relevance factor_ 3.\n",
    "Do weryfikacji mówcy przy adaptacji korzystają z nagrań tego mówcy, a do weryfikacji treści nagrań tej samej treści."
   ]
  },
  {
   "cell_type": "code",
   "execution_count": 1,
   "metadata": {},
   "outputs": [],
   "source": [
    "%load_ext autoreload"
   ]
  },
  {
   "cell_type": "code",
   "execution_count": 50,
   "metadata": {},
   "outputs": [],
   "source": [
    "%autoreload 2\n",
    "\n",
    "import concurrent.futures as cf\n",
    "import functools as ft\n",
    "import itertools as it\n",
    "import json\n",
    "import math\n",
    "import operator as op\n",
    "import os\n",
    "import re\n",
    "\n",
    "from IPython.display import display\n",
    "from ipywidgets import interact, interact_manual, widgets\n",
    "import matplotlib.pyplot as plt\n",
    "import numpy as np\n",
    "import pandas as pd\n",
    "import pickle\n",
    "from scipy import interpolate, linalg, misc, optimize, spatial, stats\n",
    "from sklearn import metrics, mixture, cluster, utils\n",
    "\n",
    "from paprotka.dataset import reddots\n",
    "from paprotka.feature import cepstral"
   ]
  },
  {
   "cell_type": "code",
   "execution_count": 51,
   "metadata": {},
   "outputs": [],
   "source": [
    "%autoreload 0"
   ]
  },
  {
   "cell_type": "code",
   "execution_count": 4,
   "metadata": {},
   "outputs": [],
   "source": [
    "import warnings\n",
    "warnings.filterwarnings('once')"
   ]
  },
  {
   "cell_type": "markdown",
   "metadata": {},
   "source": [
    "# Load"
   ]
  },
  {
   "cell_type": "code",
   "execution_count": 18,
   "metadata": {},
   "outputs": [],
   "source": [
    "root = reddots.get_root()\n",
    "load_pcm = ft.partial(reddots.load_pcm, root)\n",
    "load_mfcc = ft.partial(reddots.load_npy, root, 'wac2_mfcc13_ddd_lifter22_hamming') # 'wac2_mfcc13_ddd_ne_hamming')"
   ]
  },
  {
   "cell_type": "code",
   "execution_count": 19,
   "metadata": {},
   "outputs": [
    {
     "name": "stdout",
     "output_type": "stream",
     "text": [
      "15305 f0002/20150224142650384_f0002_14438.pcm\n"
     ]
    }
   ],
   "source": [
    "all_paths = [os.path.join(os.path.basename(root), file) for root, _, files in os.walk(root + '/pcm') \n",
    "                                      for file in files \n",
    "                                      if file.endswith('.pcm')]\n",
    "print(len(all_paths), all_paths[0])"
   ]
  },
  {
   "cell_type": "code",
   "execution_count": 20,
   "metadata": {},
   "outputs": [],
   "source": [
    "all_mfcc = {path: load_mfcc(path) for path in all_paths}"
   ]
  },
  {
   "cell_type": "code",
   "execution_count": 8,
   "metadata": {},
   "outputs": [],
   "source": [
    "def load_sets(eid, tid=None):\n",
    "    tid = tid if tid else eid\n",
    "    \n",
    "    enrollments = reddots.load_enrollments(root + '/ndx/f_part_{}.trn'.format(eid), \n",
    "                                           root + '/ndx/m_part_{}.trn'.format(eid))\n",
    "    trials = reddots.load_trials(root + '/ndx/f_part_{}.ndx'.format(tid), \n",
    "                                 root + '/ndx/m_part_{}.ndx'.format(tid))\n",
    "    \n",
    "    return enrollments, trials"
   ]
  },
  {
   "cell_type": "code",
   "execution_count": 9,
   "metadata": {},
   "outputs": [
    {
     "name": "stdout",
     "output_type": "stream",
     "text": [
      "Enrollments\n",
      "is_male                  bool\n",
      "pcm_path               object\n",
      "sentence_id             int16\n",
      "speaker_id              int16\n",
      "timestamp      datetime64[ns]\n",
      "dtype: object\n",
      "Trials\n",
      "correct_sentence                  bool\n",
      "expected_is_male                  bool\n",
      "expected_sentence_id             int16\n",
      "expected_speaker_id              int16\n",
      "pcm_path                        object\n",
      "target_person                     bool\n",
      "trial_is_male                     bool\n",
      "trial_sentence_id                int16\n",
      "trial_speaker_id                 int16\n",
      "trial_timestamp         datetime64[ns]\n",
      "dtype: object\n"
     ]
    }
   ],
   "source": [
    "enrollments_1, trials_1 = load_sets('01')\n",
    "print('Enrollments', enrollments_1.dtypes, sep='\\n')\n",
    "print('Trials', trials_1.dtypes, sep='\\n')"
   ]
  },
  {
   "cell_type": "code",
   "execution_count": 10,
   "metadata": {},
   "outputs": [],
   "source": [
    "enrollments_2, trials_2 = load_sets('02')\n",
    "enrollments_3, trials_3 = load_sets('03')\n",
    "enrollments_4_td, trials_4_td = load_sets('04_td', '04')"
   ]
  },
  {
   "cell_type": "code",
   "execution_count": 21,
   "metadata": {},
   "outputs": [
    {
     "name": "stdout",
     "output_type": "stream",
     "text": [
      "10857 4448\n"
     ]
    }
   ],
   "source": [
    "trialed_paths = set(path for trials in (trials_1, trials_2, trials_3, trials_4_td) for path in trials.pcm_path)\n",
    "untrialed_paths = [path for path in all_paths if path not in trialed_paths]\n",
    "print(len(trialed_paths), len(untrialed_paths))"
   ]
  },
  {
   "cell_type": "code",
   "execution_count": 22,
   "metadata": {},
   "outputs": [
    {
     "name": "stdout",
     "output_type": "stream",
     "text": [
      "1 316.151323097 1219 [236 259 415 ..., 255 481 353]\n",
      "[ 1  1  1  7  8  9  9  9 11 12 12 12 12 13 23 27 60 60 78 79 80 85 86 87 87\n",
      " 87 89 89 89 89 89 89 89 89 91 91 92 92 93 93]\n",
      "[1047 1047 1057 1058 1059 1059 1063 1065 1065 1067 1067 1067 1069 1069 1071\n",
      " 1076 1078 1078 1078 1082 1086 1088 1088 1090 1181 1181 1181 1181 1181 1181\n",
      " 1185 1185 1200 1200 1202 1202 1219 1219 1219 1219]\n"
     ]
    }
   ],
   "source": [
    "shit_lengths = np.array([mfcc.shape[0] for mfcc in all_mfcc.values()])\n",
    "print(shit_lengths.min(), shit_lengths.mean(), shit_lengths.max(), shit_lengths)\n",
    "\n",
    "shit_lengths_sorted = np.sort(shit_lengths)\n",
    "\n",
    "print(shit_lengths_sorted[:40])\n",
    "print(shit_lengths_sorted[-40:])"
   ]
  },
  {
   "cell_type": "code",
   "execution_count": 23,
   "metadata": {},
   "outputs": [],
   "source": [
    "trialed_paths = [path for path in trialed_paths if all_mfcc[path].shape[0] >= 85]\n",
    "untrialed_paths = [path for path in untrialed_paths if all_mfcc[path].shape[0] >= 85]"
   ]
  },
  {
   "cell_type": "code",
   "execution_count": 47,
   "metadata": {},
   "outputs": [],
   "source": [
    "def write_model(path, model):\n",
    "    with open(path, 'wb') as opened:\n",
    "        pickle.dump(model, opened)\n",
    "        \n",
    "def read_model(path):\n",
    "    with open(path, 'rb') as opened:\n",
    "        return pickle.load(opened)"
   ]
  },
  {
   "cell_type": "markdown",
   "metadata": {},
   "source": [
    "# Train"
   ]
  },
  {
   "cell_type": "code",
   "execution_count": 25,
   "metadata": {},
   "outputs": [
    {
     "name": "stdout",
     "output_type": "stream",
     "text": [
      "4445 (1442782, 39)\n"
     ]
    }
   ],
   "source": [
    "untrialed_features = [all_mfcc[path] for path in untrialed_paths]\n",
    "untrialed_features_stack = np.vstack(untrialed_features)\n",
    "\n",
    "print(len(untrialed_features), untrialed_features_stack.shape)"
   ]
  },
  {
   "cell_type": "code",
   "execution_count": 39,
   "metadata": {},
   "outputs": [],
   "source": [
    "corrcoef = np.corrcoef(untrialed_features_stack, rowvar=False)"
   ]
  },
  {
   "cell_type": "code",
   "execution_count": 40,
   "metadata": {},
   "outputs": [
    {
     "data": {
      "image/png": "[encoded data removed]",
      "text/plain": [
       "<matplotlib.figure.Figure at 0x7ff0fc77d128>"
      ]
     },
     "metadata": {},
     "output_type": "display_data"
    }
   ],
   "source": [
    "plt.matshow(corrcoef)\n",
    "plt.colorbar()\n",
    "plt.show()"
   ]
  },
  {
   "cell_type": "markdown",
   "metadata": {},
   "source": [
    "## Make 512 mixture GMM"
   ]
  },
  {
   "cell_type": "code",
   "execution_count": 319,
   "metadata": {},
   "outputs": [
    {
     "data": {
      "text/plain": [
       "dict_keys([32, 33, 34, 31])"
      ]
     },
     "execution_count": 319,
     "metadata": {},
     "output_type": "execute_result"
    }
   ],
   "source": [
    "dupa.groups.keys()"
   ]
  },
  {
   "cell_type": "code",
   "execution_count": 37,
   "metadata": {},
   "outputs": [
    {
     "name": "stdout",
     "output_type": "stream",
     "text": [
      "Initialization 0\n",
      "  Iteration 0\n",
      "  Iteration 10\n",
      "  Iteration 20\n",
      "  Iteration 30\n",
      "  Iteration 40\n",
      "  Iteration 50\n",
      "Initialization converged: True\n"
     ]
    },
    {
     "data": {
      "text/plain": [
       "GaussianMixture(covariance_type='diag', init_params='kmeans', max_iter=2000,\n",
       "        means_init=None, n_components=512, n_init=1, precisions_init=None,\n",
       "        random_state=13, reg_covar=1e-06, tol=0.001, verbose=1,\n",
       "        verbose_interval=10, warm_start=False, weights_init=None)"
      ]
     },
     "execution_count": 37,
     "metadata": {},
     "output_type": "execute_result"
    }
   ],
   "source": [
    "# ubm = mixture.GaussianMixture(\n",
    "#     n_components=512, max_iter=2000, covariance_type='diag', \n",
    "#     random_state=13, verbose=1\n",
    "# )\n",
    "# ubm.fit(untrialed_features_stack)"
   ]
  },
  {
   "cell_type": "code",
   "execution_count": 52,
   "metadata": {},
   "outputs": [],
   "source": [
    "# write_model(root + '/models/ubm/ubm_model.pickle', ubm)"
   ]
  },
  {
   "cell_type": "code",
   "execution_count": null,
   "metadata": {},
   "outputs": [],
   "source": [
    "ubm = read_model(root + '/models/ubm/ubm_model.pickle')"
   ]
  },
  {
   "cell_type": "markdown",
   "metadata": {},
   "source": [
    "## Enroll"
   ]
  },
  {
   "cell_type": "code",
   "execution_count": 69,
   "metadata": {},
   "outputs": [
    {
     "name": "stdout",
     "output_type": "stream",
     "text": [
      "30 (8498, 39)\n"
     ]
    }
   ],
   "source": [
    "def build_stack(paths):\n",
    "    features = [all_mfcc[path] for path in paths]\n",
    "    return np.vstack(features)\n",
    "\n",
    "speaker_paths = enrollments_1[enrollments_1.is_male & (enrollments_1.speaker_id == 1)].pcm_path\n",
    "speaker_stack = build_stack(speaker_paths)\n",
    "print(len(speaker_paths), speaker_stack.shape)"
   ]
  },
  {
   "cell_type": "code",
   "execution_count": 144,
   "metadata": {},
   "outputs": [],
   "source": [
    "def load_ubm_copy():\n",
    "    return read_model(root + '/models/ubm/ubm_model.pickle')"
   ]
  },
  {
   "cell_type": "code",
   "execution_count": 148,
   "metadata": {},
   "outputs": [
    {
     "name": "stderr",
     "output_type": "stream",
     "text": [
      "/usr/local/lib/python3.5/dist-packages/ipykernel_launcher.py:5: RuntimeWarning: invalid value encountered in true_divide\n",
      "  \"\"\"\n"
     ]
    },
    {
     "data": {
      "text/plain": [
       "GaussianMixture(covariance_type='diag', init_params='kmeans', max_iter=2000,\n",
       "        means_init=None, n_components=512, n_init=1, precisions_init=None,\n",
       "        random_state=13, reg_covar=1e-06, tol=0.001, verbose=1,\n",
       "        verbose_interval=10, warm_start=False, weights_init=None)"
      ]
     },
     "execution_count": 148,
     "metadata": {},
     "output_type": "execute_result"
    }
   ],
   "source": [
    "def map_adapt(gmm, features, relevance_factor=3.0):\n",
    "    proba = gmm.predict_proba(features)\n",
    "    zero_stats = proba.sum(axis=0)\n",
    "    first_stats = proba.T @ features\n",
    "    new_means = first_stats / zero_stats[:, np.newaxis]\n",
    "    new_means[~np.isfinite(new_means)] = gmm.means_[~np.isfinite(new_means)]\n",
    "    replace_factor = zero_stats / (zero_stats + relevance_factor)\n",
    "    adapted_means = gmm.means_ + replace_factor[:, np.newaxis] * (new_means - gmm.means_)\n",
    "    gmm.means_ = adapted_means\n",
    "    \n",
    "# example_ubm_copy = load_ubm_copy()\n",
    "# map_adapt(example_ubm_copy, speaker_stack)\n",
    "# example_ubm_copy"
   ]
  },
  {
   "cell_type": "code",
   "execution_count": 257,
   "metadata": {},
   "outputs": [],
   "source": [
    "def split_enrollments(enrollments):\n",
    "    unique_males = enrollments[enrollments.is_male].speaker_id.unique()\n",
    "    unique_females = enrollments[~enrollments.is_male].speaker_id.unique()\n",
    "    unique_sentences = enrollments.sentence_id.unique()\n",
    "    return unique_males, unique_females, unique_sentences\n",
    "\n",
    "def enroll_speakers(enrollments):\n",
    "    males, females, _ = split_enrollments(enrollments)\n",
    "    \n",
    "    speaker_gmms = {}\n",
    "    for is_male, speaker_ids in ((True, males), (False, females)):\n",
    "        for speaker_id in speaker_ids:\n",
    "            speaker_mask = (enrollments.is_male == is_male) & (enrollments.speaker_id == speaker_id)\n",
    "            speaker_paths = enrollments[speaker_mask].pcm_path\n",
    "            speaker_gmm = load_ubm_copy()\n",
    "            speaker_stack = build_stack(speaker_paths)\n",
    "            map_adapt(speaker_gmm, speaker_stack)\n",
    "            speaker_gmms[(is_male, speaker_id)] = speaker_gmm\n",
    "            \n",
    "    return speaker_gmms\n",
    "\n",
    "def enroll_sentences(enrollments):\n",
    "    _, _, sentence_ids = split_enrollments(enrollments)\n",
    "    \n",
    "    sentence_gmms = {}\n",
    "    for sentence_id in sentence_ids:\n",
    "        sentence_mask = enrollments.sentence_id == sentence_id\n",
    "        sentence_paths = enrollments[sentence_mask].pcm_path\n",
    "        sentence_gmm = load_ubm_copy()\n",
    "        sentence_stack = build_stack(sentence_paths)\n",
    "        map_adapt(sentence_gmm, sentence_stack)\n",
    "        sentence_gmms[sentence_id] = sentence_gmm\n",
    "            \n",
    "    return sentence_gmms"
   ]
  },
  {
   "cell_type": "code",
   "execution_count": 160,
   "metadata": {},
   "outputs": [
    {
     "name": "stderr",
     "output_type": "stream",
     "text": [
      "/usr/local/lib/python3.5/dist-packages/ipykernel_launcher.py:5: RuntimeWarning: invalid value encountered in true_divide\n",
      "  \"\"\"\n"
     ]
    }
   ],
   "source": [
    "enrollments1_speaker_gmms = enroll_speakers(enrollments_1)"
   ]
  },
  {
   "cell_type": "code",
   "execution_count": 258,
   "metadata": {},
   "outputs": [
    {
     "name": "stderr",
     "output_type": "stream",
     "text": [
      "/usr/local/lib/python3.5/dist-packages/ipykernel_launcher.py:5: RuntimeWarning: invalid value encountered in true_divide\n",
      "  \"\"\"\n"
     ]
    }
   ],
   "source": [
    "enrollments1_sentence_gmms = enroll_sentences(enrollments_1)"
   ]
  },
  {
   "cell_type": "markdown",
   "metadata": {},
   "source": [
    "## Trial"
   ]
  },
  {
   "cell_type": "code",
   "execution_count": 255,
   "metadata": {},
   "outputs": [],
   "source": [
    "def save_results(label, results):\n",
    "    path = os.path.join(root, 'result', 'ubm', label)\n",
    "    with open(path, 'wb') as opened:\n",
    "        pickle.dump(results, opened)\n",
    "        \n",
    "def load_results(label):\n",
    "    path = os.path.join(root, 'result', 'ubm', label)\n",
    "    with open(path, 'rb') as opened:\n",
    "        return pickle.load(opened)"
   ]
  },
  {
   "cell_type": "code",
   "execution_count": 165,
   "metadata": {},
   "outputs": [],
   "source": [
    "def score_ratio(ubm, speaker_gmm, recording):\n",
    "    ubm_score = ubm.score(recording)\n",
    "    speaker_score = speaker_gmm.score(recording)\n",
    "    return np.exp(speaker_score - max(ubm_score, speaker_score))\n",
    "\n",
    "# shit_trial = trials_1[trials_1.trial_is_male & (trials_1.trial_speaker_id == 1)].iloc[5]\n",
    "# shit_mfcc = all_mfcc[shit_trial.pcm_path]\n",
    "# print(ubm.score(shit_mfcc), ubm.score_samples(shit_mfcc).shape)"
   ]
  },
  {
   "cell_type": "code",
   "execution_count": 180,
   "metadata": {},
   "outputs": [],
   "source": [
    "ubm_scores = {path: ubm.score(all_mfcc[path]) for path in trialed_paths}"
   ]
  },
  {
   "cell_type": "code",
   "execution_count": 200,
   "metadata": {},
   "outputs": [
    {
     "data": {
      "text/plain": [
       "(8, 39)"
      ]
     },
     "execution_count": 200,
     "metadata": {},
     "output_type": "execute_result"
    }
   ],
   "source": [
    "all_mfcc['f0011/20150622072545004_f0011_34.pcm'].shape"
   ]
  },
  {
   "cell_type": "code",
   "execution_count": 271,
   "metadata": {},
   "outputs": [],
   "source": [
    "def gather_results(ubm_scores, speaker_scores, sentence_scores, speaker_gmms, sentence_gmms, trials):\n",
    "    size = len(trials)\n",
    "    \n",
    "    scores = np.zeros((size, 4), dtype=np.float64)\n",
    "    flags = np.zeros((size, 6), dtype=np.bool)\n",
    "    \n",
    "    for i, trial in trials.iterrows():\n",
    "        try:\n",
    "            ubm_score = ubm_scores[trial.pcm_path]\n",
    "        except KeyError:\n",
    "            flags[i, 5] = True\n",
    "            continue\n",
    "            \n",
    "        key = (trial.expected_is_male, trial.expected_speaker_id, trial.pcm_path)\n",
    "        if key in speaker_scores:\n",
    "            speaker_score = speaker_scores[key]\n",
    "        else:\n",
    "            speaker_gmm = speaker_gmms[(trial.expected_is_male, trial.expected_speaker_id)]\n",
    "            recording = all_mfcc[trial.pcm_path]\n",
    "            speaker_score = speaker_gmm.score(recording)\n",
    "            speaker_scores[key] = speaker_score\n",
    "            \n",
    "        key2 = (trial.expected_sentence_id, trial.pcm_path)\n",
    "        if key2 in sentence_scores:\n",
    "            sentence_score = sentence_scores[key2]\n",
    "        else:\n",
    "            sentence_gmm = sentence_gmms[trial.expected_sentence_id]\n",
    "            recording = all_mfcc[trial.pcm_path]\n",
    "            sentence_score = sentence_gmm.score(recording)\n",
    "            sentence_scores[key2] = sentence_score\n",
    "            \n",
    "        score = np.exp(speaker_score - max(ubm_score, speaker_score) \n",
    "                     + sentence_score - max(ubm_score, sentence_score))\n",
    "        \n",
    "        expected_is_male = trial.expected_is_male\n",
    "        trial_is_male = trial.trial_is_male\n",
    "        gender_right = trial.expected_is_male == trial.trial_is_male\n",
    "        target_right = gender_right and (trial.expected_speaker_id == trial.trial_speaker_id)\n",
    "        sentence_right = trial.expected_sentence_id == trial.trial_sentence_id\n",
    "        \n",
    "        scores[i, :] = (speaker_score, sentence_score, ubm_score, score)\n",
    "        flags[i, :] = (expected_is_male, trial_is_male, gender_right, target_right, sentence_right, False)\n",
    "        \n",
    "    return pd.DataFrame.from_dict({\n",
    "        'speaker_score': scores[:, 0], 'sentence_score': scores[:, 1], 'ubm_score': scores[:, 2], \n",
    "        'score': scores[:, 3],\n",
    "        'expected_is_male': flags[:, 0], 'trial_is_male': flags[:, 1], 'gender_right': flags[:, 2],\n",
    "        'target_right': flags[:, 3], 'sentence_right': flags[:, 4], 'too_short': flags[:, 5]\n",
    "    })"
   ]
  },
  {
   "cell_type": "code",
   "execution_count": 246,
   "metadata": {},
   "outputs": [],
   "source": [
    "speaker_scores = {}\n",
    "sentence_scores = {}"
   ]
  },
  {
   "cell_type": "code",
   "execution_count": 272,
   "metadata": {},
   "outputs": [],
   "source": [
    "trials_1_results = gather_results(ubm_scores, speaker_scores, sentence_scores, \n",
    "                                  enrollments1_speaker_gmms, enrollments1_sentence_gmms, trials_1)"
   ]
  },
  {
   "cell_type": "code",
   "execution_count": 269,
   "metadata": {},
   "outputs": [],
   "source": [
    "# save_results('speaker_scores.pickle', speaker_scores)\n",
    "# save_results('sentence_scores.pickle', sentence_scores)\n",
    "# trials_1_results.to_pickle(os.path.join(root, 'result', 'ubm', 'trials_1_results.pickle.gz'), compression='gzip')"
   ]
  },
  {
   "cell_type": "code",
   "execution_count": 274,
   "metadata": {},
   "outputs": [],
   "source": [
    "trials_1_results = pd.read_pickle(os.path.join(root, 'result', 'ubm', 'trials_1_results.pickle.gz'), compression='gzip')\n",
    "trials_1_speakeronly_results = pd.read_pickle(os.path.join(root, 'result', 'ubm', 'trials_1_results_speakeronly.pickle.gz'), compression='gzip')"
   ]
  },
  {
   "cell_type": "markdown",
   "metadata": {},
   "source": [
    "# Visualize"
   ]
  },
  {
   "cell_type": "code",
   "execution_count": 294,
   "metadata": {},
   "outputs": [],
   "source": [
    "def equal_error_rate(fpr, tpr, thresholds):\n",
    "    eer = optimize.brentq(lambda x : 1. - x - interpolate.interp1d(fpr, tpr)(x), 0., 1.)\n",
    "    threshold = interpolate.interp1d(fpr, thresholds)(eer)\n",
    "    return eer, threshold\n",
    "\n",
    "def plot_roc(fpr, tpr, auc, eer, title):\n",
    "    plt.figure(figsize=(8, 6))\n",
    "    print(auc, eer)\n",
    "    plt.plot(fpr, tpr, color='darkorange',\n",
    "             label='ROC curve (area = {:.2%}, EER = {:.2%})'.format(auc, eer))\n",
    "    plt.plot([0, 1], [0, 1], color='navy', lw=2, linestyle='--')\n",
    "    plt.xlim([0.0, 1.0])\n",
    "    plt.ylim([0.0, 1.05])\n",
    "    plt.xlabel('False Positive Rate')\n",
    "    plt.ylabel('True Positive Rate')\n",
    "    if title:\n",
    "        plt.title(title)\n",
    "    plt.legend(loc=\"lower right\")\n",
    "    plt.show()\n",
    "    \n",
    "def visualize_roc(fpr, tpr, thresholds, title=None):\n",
    "    roc_auc = metrics.auc(fpr, tpr)\n",
    "    eer, threshold = equal_error_rate(fpr, tpr, thresholds)\n",
    "    plot_roc(fpr, tpr, roc_auc, eer, title=title)\n",
    "    \n",
    "def visualize_results(results):\n",
    "    # is target right, disregarding sentence\n",
    "    roc_target_right = metrics.roc_curve(results.target_right, results.speaker_prob)\n",
    "    visualize_roc(*roc_target_right, title='ROC - speaker correct problem')\n",
    "\n",
    "    # is sentence correct or wrong, disregarding target\n",
    "    roc_sentence_right = metrics.roc_curve(results.sentence_right, results.sentence_prob)\n",
    "    visualize_roc(*roc_sentence_right, title='ROC - sentence correct problem')\n",
    "\n",
    "    # is target right, when the sentence is correct\n",
    "    roc_both_right = metrics.roc_curve(results.target_right & results.sentence_right, results.both_prob)\n",
    "    visualize_roc(*roc_both_right, title='ROC - speaker and sentence correct problem')"
   ]
  },
  {
   "cell_type": "code",
   "execution_count": 293,
   "metadata": {},
   "outputs": [],
   "source": [
    "trials_1_results['speaker_prob'] = np.exp(trials_1_results.speaker_score - np.maximum(trials_1_results.ubm_score, trials_1_results.speaker_score))\n",
    "trials_1_results['sentence_prob'] = np.exp(trials_1_results.sentence_score - np.maximum(trials_1_results.ubm_score, trials_1_results.sentence_score))\n",
    "trials_1_results['both_prob'] = trials_1_results.score"
   ]
  },
  {
   "cell_type": "code",
   "execution_count": 295,
   "metadata": {},
   "outputs": [
    {
     "name": "stdout",
     "output_type": "stream",
     "text": [
      "0.975591922404 0.04688871675703585\n"
     ]
    },
    {
     "data": {
      "image/png": "[encoded data removed]",
      "text/plain": [
       "<matplotlib.figure.Figure at 0x7ff0fc4649e8>"
      ]
     },
     "metadata": {},
     "output_type": "display_data"
    },
    {
     "name": "stdout",
     "output_type": "stream",
     "text": [
      "0.978183232102 0.06043008180017423\n"
     ]
    },
    {
     "data": {
      "image/png": "[encoded data removed]",
      "text/plain": [
       "<matplotlib.figure.Figure at 0x7ff0f5bc3f28>"
      ]
     },
     "metadata": {},
     "output_type": "display_data"
    },
    {
     "name": "stdout",
     "output_type": "stream",
     "text": [
      "0.990371020263 0.032016524657887985\n"
     ]
    },
    {
     "data": {
      "image/png": "[encoded data removed]",
      "text/plain": [
       "<matplotlib.figure.Figure at 0x7ff0f4c99dd8>"
      ]
     },
     "metadata": {},
     "output_type": "display_data"
    }
   ],
   "source": [
    "visualize_results(trials_1_results[~trials_1_results.too_short])"
   ]
  }
 ],
 "metadata": {
  "kernelspec": {
   "display_name": "Python 3",
   "language": "python",
   "name": "python3"
  },
  "language_info": {
   "codemirror_mode": {
    "name": "ipython",
    "version": 3
   },
   "file_extension": ".py",
   "mimetype": "text/x-python",
   "name": "python",
   "nbconvert_exporter": "python",
   "pygments_lexer": "ipython3",
   "version": "3.5.2"
  }
 },
 "nbformat": 4,
 "nbformat_minor": 2
}
