{
 "cells": [
  {
   "cell_type": "markdown",
   "metadata": {},
   "source": [
    "# HMM GMM\n",
    "\n",
    "We use 3-state mono-phone HMMs to construct this recognizer. The emission probability of every state is modeled by a GMM. Say we have F mono-phones (F = 39 in our English lexicon), and a G-mixture GMM for each mono-phone state. Thus the GMM-HMM has 3FG mixture components in total. Compared to GMM-UBM, these mixtures are better separated in the phoneme space.\n",
    "\n",
    "MFCC:  MFCCs  are  extracted  from  16kHz  utterance  with  40 filter-banks distributed between 0 and 8kHz. Static 19-dimensional coefficients plus energy and their delta and delta-delta form a 60-dimensional vector. CMVN is applied per utterance.\n",
    "\n",
    "Hmm, deepspeech ma 26 MFCC features i zdaje się, że usuwa co drugi, ale to w związku z jakąś sztuczką uczenia RNN. Mają tak: features = mfcc(audio, samplerate=fs, numcep=numcep) gdzie mfcc jest z psf jak u nas xD a numcep=26 domyślnie, a fs=16000 domyślnie\n",
    "\n",
    "Hmm, inny papier: In our HMM-based method, a phoneme recognizer is firsttrained with 3-state, GMM-based, mono-phone HMMs. Thisrecognizer is the same as in speech recognition. LetFbe thetotal number of mono-phones (i.e. 39),S=3Fbe the numberof all states,Gthe number of Gaussian components per state,andC=SGthe number of all individual Gaussians, and let(s, g)denote Gaussian componentgin states.\n",
    "3-state - what are you?\n",
    "\n",
    "Given a transcription, a graph of HMM is composed.\n",
    "\n",
    "The  Viterbi  and  forward-backward  (FB)  algorithms  are  twomeans to align frames to states and mixtures.\n",
    "\n",
    "Speaker adaption is the same with Eq. 4 except mixtures here are phonetic dependent.\n",
    "\n",
    "During the test phase,  the Viterbi-based log-likelihood ratio is expressed as:\n",
    "sum_t log P(x_t | model_user,qt) - log P(x_t | model_ubm,qt)\n",
    "\n",
    "HMM: To generate the alignment for the HMM-based modeling,we use MFCCs to train the HMM. 39 mono-phones plus a silencemodel are used,  each of which contains 3 states.  To model thecomplexity of silence, a GMM with 16 mixtures is used for every silence state, while other states are all modeled by 8 Gaussians,resulting 984 Gaussians in total. This HMM is further extended toa triphone system and remains 2142 senones.  The transcriptionsfor  DNN  training  is  generated  by  the  senone  alignment.   OnlyMFCCs are used for HMM training and alignment.\n",
    "\n",
    "GMM-HMM and i-vector/HMM: The GMM of every state is re-estimated using the HMM alignments and different speaker fea-tures.   The total number of mixtures in our model is 984.   Thedimension of i-vector is again set to 600.  Viterbi and FB align-ments are both investigated\n",
    "\n",
    "* 39 x 3 states"
   ]
  },
  {
   "cell_type": "code",
   "execution_count": 1,
   "metadata": {},
   "outputs": [],
   "source": [
    "%load_ext autoreload"
   ]
  },
  {
   "cell_type": "code",
   "execution_count": 2,
   "metadata": {},
   "outputs": [],
   "source": [
    "%autoreload 2\n",
    "\n",
    "import concurrent.futures as cf\n",
    "import functools as ft\n",
    "import itertools as it\n",
    "import json\n",
    "import math\n",
    "import operator as op\n",
    "import os\n",
    "import re\n",
    "\n",
    "from IPython.display import display\n",
    "from ipywidgets import interact, interact_manual, widgets\n",
    "import matplotlib.pyplot as plt\n",
    "import numpy as np\n",
    "import pandas as pd\n",
    "import pomegranate as pg\n",
    "from scipy import interpolate, linalg, misc, optimize, spatial, stats\n",
    "from sklearn import metrics, mixture, cluster, utils\n",
    "\n",
    "from paprotka.dataset import reddots\n",
    "from paprotka.feature import cepstral"
   ]
  },
  {
   "cell_type": "code",
   "execution_count": 3,
   "metadata": {},
   "outputs": [],
   "source": [
    "%autoreload 0"
   ]
  },
  {
   "cell_type": "code",
   "execution_count": 4,
   "metadata": {},
   "outputs": [],
   "source": [
    "import warnings\n",
    "warnings.filterwarnings('once')"
   ]
  },
  {
   "cell_type": "markdown",
   "metadata": {},
   "source": [
    "# Load"
   ]
  },
  {
   "cell_type": "code",
   "execution_count": 18,
   "metadata": {},
   "outputs": [],
   "source": [
    "root = reddots.get_root()\n",
    "load_pcm = ft.partial(reddots.load_pcm, root)\n",
    "load_mfcc = ft.partial(reddots.load_npy, root, 'wac2_mfcc13_ddd_lifter22_hamming') # 'wac2_mfcc13_ddd_ne_hamming')"
   ]
  },
  {
   "cell_type": "code",
   "execution_count": 19,
   "metadata": {},
   "outputs": [
    {
     "name": "stdout",
     "output_type": "stream",
     "text": [
      "15305 f0002/20150224142650384_f0002_14438.pcm\n"
     ]
    }
   ],
   "source": [
    "all_paths = [os.path.join(os.path.basename(root), file) for root, _, files in os.walk(root + '/pcm') \n",
    "                                      for file in files \n",
    "                                      if file.endswith('.pcm')]\n",
    "print(len(all_paths), all_paths[0])"
   ]
  },
  {
   "cell_type": "code",
   "execution_count": 20,
   "metadata": {},
   "outputs": [],
   "source": [
    "all_mfcc = {path: load_mfcc(path) for path in all_paths}"
   ]
  },
  {
   "cell_type": "code",
   "execution_count": 8,
   "metadata": {},
   "outputs": [],
   "source": [
    "def load_sets(eid, tid=None):\n",
    "    tid = tid if tid else eid\n",
    "    \n",
    "    enrollments = reddots.load_enrollments(root + '/ndx/f_part_{}.trn'.format(eid), \n",
    "                                           root + '/ndx/m_part_{}.trn'.format(eid))\n",
    "    trials = reddots.load_trials(root + '/ndx/f_part_{}.ndx'.format(tid), \n",
    "                                 root + '/ndx/m_part_{}.ndx'.format(tid))\n",
    "    \n",
    "    return enrollments, trials"
   ]
  },
  {
   "cell_type": "code",
   "execution_count": 9,
   "metadata": {},
   "outputs": [
    {
     "name": "stdout",
     "output_type": "stream",
     "text": [
      "Enrollments\n",
      "is_male                  bool\n",
      "pcm_path               object\n",
      "sentence_id             int16\n",
      "speaker_id              int16\n",
      "timestamp      datetime64[ns]\n",
      "dtype: object\n",
      "Trials\n",
      "correct_sentence                  bool\n",
      "expected_is_male                  bool\n",
      "expected_sentence_id             int16\n",
      "expected_speaker_id              int16\n",
      "pcm_path                        object\n",
      "target_person                     bool\n",
      "trial_is_male                     bool\n",
      "trial_sentence_id                int16\n",
      "trial_speaker_id                 int16\n",
      "trial_timestamp         datetime64[ns]\n",
      "dtype: object\n"
     ]
    }
   ],
   "source": [
    "enrollments_1, trials_1 = load_sets('01')\n",
    "print('Enrollments', enrollments_1.dtypes, sep='\\n')\n",
    "print('Trials', trials_1.dtypes, sep='\\n')"
   ]
  },
  {
   "cell_type": "code",
   "execution_count": 10,
   "metadata": {},
   "outputs": [],
   "source": [
    "enrollments_2, trials_2 = load_sets('02')\n",
    "enrollments_3, trials_3 = load_sets('03')\n",
    "enrollments_4_td, trials_4_td = load_sets('04_td', '04')"
   ]
  },
  {
   "cell_type": "code",
   "execution_count": 21,
   "metadata": {},
   "outputs": [
    {
     "name": "stdout",
     "output_type": "stream",
     "text": [
      "10857 4448\n"
     ]
    }
   ],
   "source": [
    "trialed_paths = set(path for trials in (trials_1, trials_2, trials_3, trials_4_td) for path in trials.pcm_path)\n",
    "untrialed_paths = [path for path in all_paths if path not in trialed_paths]\n",
    "print(len(trialed_paths), len(untrialed_paths))"
   ]
  },
  {
   "cell_type": "code",
   "execution_count": 22,
   "metadata": {},
   "outputs": [
    {
     "name": "stdout",
     "output_type": "stream",
     "text": [
      "1 316.151323097 1219 [236 259 415 ..., 255 481 353]\n",
      "[ 1  1  1  7  8  9  9  9 11 12 12 12 12 13 23 27 60 60 78 79 80 85 86 87 87\n",
      " 87 89 89 89 89 89 89 89 89 91 91 92 92 93 93]\n",
      "[1047 1047 1057 1058 1059 1059 1063 1065 1065 1067 1067 1067 1069 1069 1071\n",
      " 1076 1078 1078 1078 1082 1086 1088 1088 1090 1181 1181 1181 1181 1181 1181\n",
      " 1185 1185 1200 1200 1202 1202 1219 1219 1219 1219]\n"
     ]
    }
   ],
   "source": [
    "shit_lengths = np.array([mfcc.shape[0] for mfcc in all_mfcc.values()])\n",
    "print(shit_lengths.min(), shit_lengths.mean(), shit_lengths.max(), shit_lengths)\n",
    "\n",
    "shit_lengths_sorted = np.sort(shit_lengths)\n",
    "\n",
    "print(shit_lengths_sorted[:40])\n",
    "print(shit_lengths_sorted[-40:])"
   ]
  },
  {
   "cell_type": "code",
   "execution_count": 23,
   "metadata": {},
   "outputs": [],
   "source": [
    "trialed_paths = [path for path in trialed_paths if all_mfcc[path].shape[0] >= 85]\n",
    "untrialed_paths = [path for path in untrialed_paths if all_mfcc[path].shape[0] >= 85]"
   ]
  },
  {
   "cell_type": "code",
   "execution_count": 24,
   "metadata": {},
   "outputs": [],
   "source": [
    "def with_opened_file(mode='r'):\n",
    "    def decorator(fun):\n",
    "        @ft.wraps(fun)\n",
    "        def wrapped(path, *args, **kwargs):\n",
    "            with open(path, mode=mode) as opened:\n",
    "                return fun(opened, *args, **kwargs)\n",
    "        return wrapped\n",
    "    return decorator\n",
    "\n",
    "def write_model(path, model):\n",
    "    with open(path, 'w') as opened:\n",
    "        opened.write(model.to_json())\n",
    "        \n",
    "def read_mvgaussian(path):\n",
    "    with open(path, 'r') as opened:\n",
    "        parsed = json.load(opened)\n",
    "        means, covariance = parsed['parameters']\n",
    "        return pg.MultivariateGaussianDistribution(means=means, covariance=covariance)\n",
    "        \n",
    "def read_gmm(path):\n",
    "    with open(path, 'r') as opened:\n",
    "        parsed = json.load(opened)\n",
    "        distributions_parsed = parsed['distributions']\n",
    "        weights_parsed = np.array(parsed['weights'])\n",
    "        \n",
    "        distributions = []\n",
    "        for i, distribution in enumerate(distributions_parsed):\n",
    "            try:\n",
    "                distribution = pg.MultivariateGaussianDistribution(*distribution['parameters'])\n",
    "                distributions.append(distribution)\n",
    "            except Exception as exception:\n",
    "                raise IOError('Cannot read mixture at {}'.format(i)) from exception\n",
    "                        \n",
    "        weights_exp = np.exp(weights_parsed) * weights_parsed.sum()\n",
    "        \n",
    "        return pg.GeneralMixtureModel(distributions=distributions, weights=weights_exp)"
   ]
  },
  {
   "cell_type": "markdown",
   "metadata": {},
   "source": [
    "# Train"
   ]
  },
  {
   "cell_type": "code",
   "execution_count": 25,
   "metadata": {},
   "outputs": [
    {
     "name": "stdout",
     "output_type": "stream",
     "text": [
      "4445 (1442782, 39)\n"
     ]
    }
   ],
   "source": [
    "untrialed_features = [all_mfcc[path] for path in untrialed_paths]\n",
    "untrialed_features_stack = np.vstack(untrialed_features)\n",
    "\n",
    "print(len(untrialed_features), untrialed_features_stack.shape)"
   ]
  },
  {
   "cell_type": "code",
   "execution_count": 26,
   "metadata": {},
   "outputs": [],
   "source": [
    "corrcoef = np.corrcoef(untrialed_features_stack, rowvar=False)"
   ]
  },
  {
   "cell_type": "code",
   "execution_count": 27,
   "metadata": {},
   "outputs": [
    {
     "data": {
      "image/png": "[encoded data removed]",
      "text/plain": [
       "<matplotlib.figure.Figure at 0x7ff1013400b8>"
      ]
     },
     "metadata": {},
     "output_type": "display_data"
    }
   ],
   "source": [
    "plt.matshow(corrcoef)\n",
    "plt.colorbar()\n",
    "plt.show()"
   ]
  },
  {
   "cell_type": "code",
   "execution_count": 34,
   "metadata": {},
   "outputs": [
    {
     "data": {
      "image/png": "[encoded data removed]",
      "text/plain": [
       "<matplotlib.figure.Figure at 0x7f9a6f9ed1d0>"
      ]
     },
     "metadata": {},
     "output_type": "display_data"
    }
   ],
   "source": [
    "plt.matshow(corrcoef)\n",
    "plt.colorbar()\n",
    "plt.show()"
   ]
  },
  {
   "cell_type": "code",
   "execution_count": 24,
   "metadata": {},
   "outputs": [
    {
     "name": "stdout",
     "output_type": "stream",
     "text": [
      "[  1.36439538e+01   1.06402371e+01   9.85238904e+00  -1.40216047e+01\n",
      "  -6.60928399e+00  -6.24323575e+01  -9.92549826e+00  -2.48692005e+00\n",
      "   1.65280296e+00  -1.91501933e+01  -1.13933064e+00  -1.79754092e+01\n",
      "  -9.04917908e+00  -3.23053425e-01  -1.30709344e-01   1.46158669e+00\n",
      "   2.35744100e+00  -3.50560148e-03   3.23599833e+00   4.25554920e-01\n",
      "  -8.48638973e-01  -2.48333816e+00   2.28164573e+00   1.09627431e-01\n",
      "  -2.39027954e+00   9.21418808e-01  -1.64774332e-02  -2.78515017e-01\n",
      "  -9.53002390e-03   7.07058210e-01  -2.64383775e-01   5.50964265e-01\n",
      "   8.98696529e-03   1.70201713e-01  -7.14107391e-01   1.72206484e-01\n",
      "   1.58478708e-01   1.72206701e-01   4.99866536e-01]\n",
      "[  1.30229907e+01   8.93791772e+00   1.05686586e+01  -9.34823552e+00\n",
      "  -3.70331599e+00  -4.72091814e+01  -9.27835882e+00   5.43021522e+00\n",
      "  -1.17540653e+00  -8.39103005e+00  -5.45634242e+00  -2.03610971e+01\n",
      "  -3.97790812e+00  -3.24115882e-01  -2.10181459e-01   1.60707517e+00\n",
      "   4.05581448e+00  -2.92949867e-01   3.60744184e+00   4.91714667e-01\n",
      "  -7.15845189e-01  -2.93277187e+00   2.23752089e+00   3.52126975e-01\n",
      "  -1.55056107e+00   1.39658636e+00   4.68870731e-03  -3.50082423e-01\n",
      "   3.07580389e-03   3.39709994e-01  -2.30032941e-01   3.35569008e-01\n",
      "   2.79039548e-03   1.64137313e-01  -4.80231331e-01  -1.08371358e-01\n",
      "   1.08478336e-01   3.90278283e-01   4.41421341e-01]\n",
      "[  1.25507591e+01   8.34155698e+00   1.15165347e+01  -3.59257859e+00\n",
      "   1.64379862e-01  -4.08019410e+01  -4.46841427e+00   4.08299472e+00\n",
      "  -8.63262888e+00  -4.68963505e+00  -2.71989781e+00  -2.12056487e+01\n",
      "   2.56481456e+00  -3.36678423e-01  -3.96239770e-01   1.25584345e+00\n",
      "   4.44722270e+00  -8.29765448e-01   4.07300225e+00   6.70295478e-02\n",
      "  -1.06910389e+00  -3.91259425e+00   1.92484791e+00  -1.64030618e-01\n",
      "  -3.15509027e-01   1.93037877e+00   3.12211760e-02  -4.52379299e-01\n",
      "   4.64493130e-02  -1.40381684e-01  -1.82234540e-01   9.88643102e-02\n",
      "  -2.11925339e-02   1.95244553e-01  -1.04279450e-01  -2.84222878e-01\n",
      "   2.38877055e-02   4.88557273e-01   3.09814684e-01]\n"
     ]
    }
   ],
   "source": [
    "for i in range(10, 13):\n",
    "    print(untrialed_features_stack[i])"
   ]
  },
  {
   "cell_type": "markdown",
   "metadata": {},
   "source": [
    "## Make 512 mixture GMM"
   ]
  },
  {
   "cell_type": "code",
   "execution_count": 29,
   "metadata": {
    "scrolled": true
   },
   "outputs": [
    {
     "name": "stdout",
     "output_type": "stream",
     "text": [
      "[1] Improvement: 2972073.791748643\tTime (s): 84.39\n",
      "[2] Improvement: 1303277.9997297227\tTime (s): 86.98\n",
      "[3] Improvement: 690833.9474477917\tTime (s): 85.47\n",
      "[4] Improvement: 440932.5858758539\tTime (s): 83.1\n",
      "[5] Improvement: 319079.4704605192\tTime (s): 84.75\n",
      "[6] Improvement: 245159.84085182846\tTime (s): 85.7\n",
      "[7] Improvement: 192845.16671431065\tTime (s): 80.82\n",
      "[8] Improvement: 151513.38902549446\tTime (s): 82.97\n",
      "[9] Improvement: 123842.77233706415\tTime (s): 83.91\n",
      "[10] Improvement: 104035.3292106241\tTime (s): 82.5\n",
      "[11] Improvement: 90430.34348393977\tTime (s): 74.97\n",
      "[12] Improvement: 84201.54341229796\tTime (s): 77.75\n",
      "[13] Improvement: 69003.20399394631\tTime (s): 86.22\n",
      "[14] Improvement: 78160.33592446148\tTime (s): 87.1\n",
      "[15] Improvement: 65047.988532587886\tTime (s): 84.65\n",
      "[16] Improvement: 60434.31527197361\tTime (s): 84.4\n",
      "[17] Improvement: -59754.34675942361\tTime (s): 79.79\n",
      "Total Improvement: 6931117.677261636\n",
      "Total Time (s): 1486.1410\n"
     ]
    }
   ],
   "source": [
    "ubm_model = pg.GeneralMixtureModel.from_samples(\n",
    "    pg.MultivariateGaussianDistribution, n_components=512, \n",
    "    X=untrialed_features_stack,\n",
    "    max_iterations=1e5, verbose=True, n_jobs=20\n",
    ")"
   ]
  },
  {
   "cell_type": "code",
   "execution_count": null,
   "metadata": {},
   "outputs": [],
   "source": [
    "ubm_model.freeze()"
   ]
  },
  {
   "cell_type": "code",
   "execution_count": null,
   "metadata": {},
   "outputs": [],
   "source": [
    "write_model(root + '/models/ubm_model', ubm_model)"
   ]
  },
  {
   "cell_type": "code",
   "execution_count": 113,
   "metadata": {},
   "outputs": [],
   "source": [
    "# ubm_model = read_gmm(root + '/models/ubm_model')"
   ]
  },
  {
   "cell_type": "code",
   "execution_count": 33,
   "metadata": {},
   "outputs": [
    {
     "name": "stdout",
     "output_type": "stream",
     "text": [
      "[1] Improvement: 3083619.639552921\tTime (s): 84.97\n",
      "Total Improvement: 3083619.639552921\n",
      "Total Time (s): 161.6787\n",
      "-104150617.06582461\n",
      "-102797180.2905831\n",
      "-102083937.38561195\n",
      "-101626808.26803866\n",
      "-101313149.11234453\n",
      "-101076141.77561331\n",
      "-100872329.08532082\n",
      "-100723552.8246057\n"
     ]
    },
    {
     "ename": "LinAlgError",
     "evalue": "36-th leading minor not positive definite",
     "output_type": "error",
     "traceback": [
      "\u001b[0;31m---------------------------------------------------------------------------\u001b[0m",
      "\u001b[0;31mLinAlgError\u001b[0m                               Traceback (most recent call last)",
      "\u001b[0;32mpomegranate/distributions.pyx\u001b[0m in \u001b[0;36mpomegranate.distributions.MultivariateGaussianDistribution.from_summaries\u001b[0;34m()\u001b[0m\n",
      "\u001b[0;32m/usr/local/lib/python3.5/dist-packages/scipy/linalg/decomp_cholesky.py\u001b[0m in \u001b[0;36mcholesky\u001b[0;34m(a, lower, overwrite_a, check_finite)\u001b[0m\n\u001b[1;32m     80\u001b[0m     c, lower = _cholesky(a, lower=lower, overwrite_a=overwrite_a, clean=True,\n\u001b[0;32m---> 81\u001b[0;31m                             check_finite=check_finite)\n\u001b[0m\u001b[1;32m     82\u001b[0m     \u001b[0;32mreturn\u001b[0m \u001b[0mc\u001b[0m\u001b[0;34m\u001b[0m\u001b[0m\n",
      "\u001b[0;32m/usr/local/lib/python3.5/dist-packages/scipy/linalg/decomp_cholesky.py\u001b[0m in \u001b[0;36m_cholesky\u001b[0;34m(a, lower, overwrite_a, clean, check_finite)\u001b[0m\n\u001b[1;32m     29\u001b[0m     \u001b[0;32mif\u001b[0m \u001b[0minfo\u001b[0m \u001b[0;34m>\u001b[0m \u001b[0;36m0\u001b[0m\u001b[0;34m:\u001b[0m\u001b[0;34m\u001b[0m\u001b[0m\n\u001b[0;32m---> 30\u001b[0;31m         \u001b[0;32mraise\u001b[0m \u001b[0mLinAlgError\u001b[0m\u001b[0;34m(\u001b[0m\u001b[0;34m\"%d-th leading minor not positive definite\"\u001b[0m \u001b[0;34m%\u001b[0m \u001b[0minfo\u001b[0m\u001b[0;34m)\u001b[0m\u001b[0;34m\u001b[0m\u001b[0m\n\u001b[0m\u001b[1;32m     31\u001b[0m     \u001b[0;32mif\u001b[0m \u001b[0minfo\u001b[0m \u001b[0;34m<\u001b[0m \u001b[0;36m0\u001b[0m\u001b[0;34m:\u001b[0m\u001b[0;34m\u001b[0m\u001b[0m\n",
      "\u001b[0;31mLinAlgError\u001b[0m: 12-th leading minor not positive definite",
      "\nDuring handling of the above exception, another exception occurred:\n",
      "\u001b[0;31mLinAlgError\u001b[0m                               Traceback (most recent call last)",
      "\u001b[0;32m<ipython-input-33-f3904484dd5c>\u001b[0m in \u001b[0;36m<module>\u001b[0;34m()\u001b[0m\n\u001b[1;32m     11\u001b[0m     \u001b[0mlogp\u001b[0m \u001b[0;34m=\u001b[0m \u001b[0mubm_model2\u001b[0m\u001b[0;34m.\u001b[0m\u001b[0msummarize\u001b[0m\u001b[0;34m(\u001b[0m\u001b[0muntrialed_features_stack\u001b[0m\u001b[0;34m)\u001b[0m\u001b[0;34m\u001b[0m\u001b[0m\n\u001b[1;32m     12\u001b[0m     \u001b[0mprint\u001b[0m\u001b[0;34m(\u001b[0m\u001b[0mlogp\u001b[0m\u001b[0;34m)\u001b[0m\u001b[0;34m\u001b[0m\u001b[0m\n\u001b[0;32m---> 13\u001b[0;31m     \u001b[0mubm_model2\u001b[0m\u001b[0;34m.\u001b[0m\u001b[0mfrom_summaries\u001b[0m\u001b[0;34m(\u001b[0m\u001b[0;34m)\u001b[0m\u001b[0;34m\u001b[0m\u001b[0m\n\u001b[0m",
      "\u001b[0;32mpomegranate/bayes.pyx\u001b[0m in \u001b[0;36mpomegranate.bayes.BayesModel.from_summaries\u001b[0;34m()\u001b[0m\n",
      "\u001b[0;32mpomegranate/distributions.pyx\u001b[0m in \u001b[0;36mpomegranate.distributions.MultivariateGaussianDistribution.from_summaries\u001b[0;34m()\u001b[0m\n",
      "\u001b[0;32m/usr/local/lib/python3.5/dist-packages/scipy/linalg/decomp_cholesky.py\u001b[0m in \u001b[0;36mcholesky\u001b[0;34m(a, lower, overwrite_a, check_finite)\u001b[0m\n\u001b[1;32m     79\u001b[0m     \"\"\"\n\u001b[1;32m     80\u001b[0m     c, lower = _cholesky(a, lower=lower, overwrite_a=overwrite_a, clean=True,\n\u001b[0;32m---> 81\u001b[0;31m                             check_finite=check_finite)\n\u001b[0m\u001b[1;32m     82\u001b[0m     \u001b[0;32mreturn\u001b[0m \u001b[0mc\u001b[0m\u001b[0;34m\u001b[0m\u001b[0m\n\u001b[1;32m     83\u001b[0m \u001b[0;34m\u001b[0m\u001b[0m\n",
      "\u001b[0;32m/usr/local/lib/python3.5/dist-packages/scipy/linalg/decomp_cholesky.py\u001b[0m in \u001b[0;36m_cholesky\u001b[0;34m(a, lower, overwrite_a, clean, check_finite)\u001b[0m\n\u001b[1;32m     28\u001b[0m     \u001b[0mc\u001b[0m\u001b[0;34m,\u001b[0m \u001b[0minfo\u001b[0m \u001b[0;34m=\u001b[0m \u001b[0mpotrf\u001b[0m\u001b[0;34m(\u001b[0m\u001b[0ma1\u001b[0m\u001b[0;34m,\u001b[0m \u001b[0mlower\u001b[0m\u001b[0;34m=\u001b[0m\u001b[0mlower\u001b[0m\u001b[0;34m,\u001b[0m \u001b[0moverwrite_a\u001b[0m\u001b[0;34m=\u001b[0m\u001b[0moverwrite_a\u001b[0m\u001b[0;34m,\u001b[0m \u001b[0mclean\u001b[0m\u001b[0;34m=\u001b[0m\u001b[0mclean\u001b[0m\u001b[0;34m)\u001b[0m\u001b[0;34m\u001b[0m\u001b[0m\n\u001b[1;32m     29\u001b[0m     \u001b[0;32mif\u001b[0m \u001b[0minfo\u001b[0m \u001b[0;34m>\u001b[0m \u001b[0;36m0\u001b[0m\u001b[0;34m:\u001b[0m\u001b[0;34m\u001b[0m\u001b[0m\n\u001b[0;32m---> 30\u001b[0;31m         \u001b[0;32mraise\u001b[0m \u001b[0mLinAlgError\u001b[0m\u001b[0;34m(\u001b[0m\u001b[0;34m\"%d-th leading minor not positive definite\"\u001b[0m \u001b[0;34m%\u001b[0m \u001b[0minfo\u001b[0m\u001b[0;34m)\u001b[0m\u001b[0;34m\u001b[0m\u001b[0m\n\u001b[0m\u001b[1;32m     31\u001b[0m     \u001b[0;32mif\u001b[0m \u001b[0minfo\u001b[0m \u001b[0;34m<\u001b[0m \u001b[0;36m0\u001b[0m\u001b[0;34m:\u001b[0m\u001b[0;34m\u001b[0m\u001b[0m\n\u001b[1;32m     32\u001b[0m         raise ValueError('illegal value in %d-th argument of internal potrf'\n",
      "\u001b[0;31mLinAlgError\u001b[0m: 36-th leading minor not positive definite"
     ]
    }
   ],
   "source": [
    "ubm_model2 = pg.GeneralMixtureModel.from_samples(\n",
    "    pg.MultivariateGaussianDistribution, n_components=512, \n",
    "    X=untrialed_features_stack,\n",
    "    max_iterations=1, verbose=True, n_jobs=20\n",
    ")\n",
    "\n",
    "corrector = 1e-6 * np.eye(39)\n",
    "for i in range(1000):\n",
    "    for distribution in ubm_model.distributions:\n",
    "        distribution.parameters[1] += corrector\n",
    "    logp = ubm_model2.summarize(untrialed_features_stack)\n",
    "    print(logp)\n",
    "    ubm_model2.from_summaries()"
   ]
  },
  {
   "cell_type": "markdown",
   "metadata": {},
   "source": [
    "## Maybe sklearn?"
   ]
  },
  {
   "cell_type": "code",
   "execution_count": 36,
   "metadata": {},
   "outputs": [],
   "source": [
    "gmm = mixture.GaussianMixture(n_components=512, max_iter=2000, covariance_type='diag', random_state=13, verbose=1)"
   ]
  },
  {
   "cell_type": "code",
   "execution_count": 37,
   "metadata": {},
   "outputs": [
    {
     "name": "stdout",
     "output_type": "stream",
     "text": [
      "Initialization 0\n",
      "  Iteration 0\n",
      "  Iteration 10\n",
      "  Iteration 20\n",
      "  Iteration 30\n",
      "  Iteration 40\n",
      "  Iteration 50\n",
      "Initialization converged: True\n"
     ]
    },
    {
     "data": {
      "text/plain": [
       "GaussianMixture(covariance_type='diag', init_params='kmeans', max_iter=2000,\n",
       "        means_init=None, n_components=512, n_init=1, precisions_init=None,\n",
       "        random_state=13, reg_covar=1e-06, tol=0.001, verbose=1,\n",
       "        verbose_interval=10, warm_start=False, weights_init=None)"
      ]
     },
     "execution_count": 37,
     "metadata": {},
     "output_type": "execute_result"
    }
   ],
   "source": [
    "gmm.fit(untrialed_features_stack)"
   ]
  },
  {
   "cell_type": "markdown",
   "metadata": {},
   "source": [
    "## Enroll"
   ]
  },
  {
   "cell_type": "code",
   "execution_count": 38,
   "metadata": {},
   "outputs": [
    {
     "data": {
      "text/plain": [
       "GaussianMixture(covariance_type='diag', init_params='kmeans', max_iter=2000,\n",
       "        means_init=None, n_components=512, n_init=1, precisions_init=None,\n",
       "        random_state=13, reg_covar=1e-06, tol=0.001, verbose=1,\n",
       "        verbose_interval=10, warm_start=False, weights_init=None)"
      ]
     },
     "execution_count": 38,
     "metadata": {},
     "output_type": "execute_result"
    }
   ],
   "source": [
    "def map_adaptation(speaker_features, gmm, relevance_factor):\n",
    "    pass"
   ]
  },
  {
   "cell_type": "code",
   "execution_count": 54,
   "metadata": {},
   "outputs": [
    {
     "data": {
      "text/plain": [
       "GMMHMM(algorithm='viterbi', covariance_type='diag', covars_prior=0.01,\n",
       "    init_params='stmcw', n_components=39, n_iter=10, n_mix=8,\n",
       "    params='stmcw', random_state=None, startprob_prior=1.0, tol=0.01,\n",
       "    transmat_prior=1.0, verbose=False)"
      ]
     },
     "execution_count": 54,
     "metadata": {},
     "output_type": "execute_result"
    }
   ],
   "source": [
    "def make_speaker_classifier(inspeaker_classifier):\n",
    "    n_components = 3 * len(phones)\n",
    "    initial, transitions = make_matrix_beads(n_components)\n",
    "\n",
    "    classifier = hmm.GMMHMM(\n",
    "        n_components=n_components, n_mix=8, covariance_type='diag', init_params='mcw', params='tmcw'\n",
    "    )\n",
    "\n",
    "    classifier.startprob_ = initial\n",
    "    classifier.transmat_ = transitions"
   ]
  },
  {
   "cell_type": "code",
   "execution_count": null,
   "metadata": {},
   "outputs": [],
   "source": []
  },
  {
   "cell_type": "code",
   "execution_count": null,
   "metadata": {},
   "outputs": [],
   "source": [
    "def perform_enrollments(classifier, enrollments):\n",
    "    labels = enrollments[['is_male', 'speaker_id', 'sentence_id']].values\n",
    "    features = [load_mfcc(path) for path in enrollments_1['pcm_path']]\n",
    "    classifier.fit(features, labels)\n",
    "    "
   ]
  },
  {
   "cell_type": "markdown",
   "metadata": {},
   "source": [
    "## Trial"
   ]
  },
  {
   "cell_type": "code",
   "execution_count": null,
   "metadata": {},
   "outputs": [],
   "source": [
    "def save_results(label, results):\n",
    "    path = os.path.join(root, 'result', label)\n",
    "    with open(path) as opened:\n",
    "        pickle.dump(results, opened)\n",
    "        \n",
    "def load_results(label):\n",
    "    path = os.path.join(root, 'result', label)\n",
    "    with open(path) as opened:\n",
    "        return pickle.load(opened)\n",
    "    \n",
    "def perform_trial(classifier, path):\n",
    "    features = load_mfcc(path)\n",
    "    return classifier.predict_single_proba(features)\n",
    "\n",
    "def perform_trials(classifier, trials):\n",
    "    paths = trials['pcm_path'].unique()\n",
    "    results = {}\n",
    "    for path in paths:\n",
    "        results[path] = perform_trial(classifier, path)\n",
    "    return results"
   ]
  },
  {
   "cell_type": "code",
   "execution_count": 10,
   "metadata": {},
   "outputs": [
    {
     "data": {
      "text/plain": [
       "array([[ 1.,  0.,  0.],\n",
       "       [ 0.,  1.,  0.],\n",
       "       [ 0.,  0.,  1.]])"
      ]
     },
     "execution_count": 10,
     "metadata": {},
     "output_type": "execute_result"
    }
   ],
   "source": [
    "per_phone_weights = {}\n",
    "\n",
    "per_phone_weights.get('A', np.eye(3))"
   ]
  },
  {
   "cell_type": "code",
   "execution_count": null,
   "metadata": {},
   "outputs": [],
   "source": [
    "class Bakis:\n",
    "    def __init__(self, phones, per_phone_weights, ignore_stress=True, wrap_silence=True):\n",
    "        self.phone_seq = phones.split(' ')\n",
    "        if wrap_silence:\n",
    "            self.phone_seq = ['_'] + self.phone_seq + ['_']\n",
    "            \n",
    "        state_transitions = "
   ]
  },
  {
   "cell_type": "code",
   "execution_count": 51,
   "metadata": {},
   "outputs": [
    {
     "data": {
      "text/plain": [
       "array([31, 32, 33, 34, 35, 36, 37, 38, 39, 40])"
      ]
     },
     "execution_count": 51,
     "metadata": {},
     "output_type": "execute_result"
    }
   ],
   "source": [
    "enrollments_1.sentence_id.unique()"
   ]
  },
  {
   "cell_type": "code",
   "execution_count": 52,
   "metadata": {},
   "outputs": [],
   "source": [
    "sample_enrollments = enrollments_1.loc[enrollments_1.sentence_id == 31]"
   ]
  },
  {
   "cell_type": "code",
   "execution_count": null,
   "metadata": {},
   "outputs": [],
   "source": []
  },
  {
   "cell_type": "code",
   "execution_count": null,
   "metadata": {},
   "outputs": [],
   "source": []
  },
  {
   "cell_type": "code",
   "execution_count": null,
   "metadata": {},
   "outputs": [],
   "source": [
    "class HmmGmmVerifier:\n",
    "    def __init__(self):\n",
    "        self.patterns = None\n",
    "        self.labels = None\n",
    "\n",
    "    def fit(self, features, labels):\n",
    "        self.patterns = features\n",
    "        self.labels = labels\n",
    "        self.unique_labels = np.unique(labels)\n",
    "        \n",
    "    def enroll(self, ):\n",
    "        pass\n",
    "    \n",
    "    def trial(self, ):\n",
    "        pass\n",
    "\n",
    "    def predict(self, features, metric=spatial.distance.cosine):\n",
    "        sequence_label_proba = self.predict_proba(features, metric)\n",
    "        max_proba_index = sequence_label_proba.argmax(axis=1)\n",
    "        return self.unique_labels[max_proba_index]\n",
    "    \n",
    "    def predict_proba(self, features, metric=spatial.distance.cosine):\n",
    "        sequence_n = len(features) \n",
    "        pattern_n = len(self.patterns)\n",
    "        \n",
    "        sequence_label_proba = np.zeros((sequence_n, pattern_n), dtype=self.labels.dtype)\n",
    "        for i, sequence in enumerate(features):\n",
    "            sequence_label_proba[i, :] = self.predict_single_proba(sequence, metric)\n",
    "            \n",
    "        return sequence_label_proba\n",
    "    \n",
    "    def predict_single_proba(self, sequence, metric=spatial.distance.cosine):\n",
    "        pattern_dists = np.zeros(len(self.patterns), dtype=np.float64)\n",
    "        for i, pattern in enumerate(self.patterns):\n",
    "            distance, _ = fastdtw.fastdtw(pattern, sequence, dist=metric)\n",
    "            pattern_dists[i] = distance\n",
    "            \n",
    "        pattern_proba = np.exp(-pattern_dists)\n",
    "        \n",
    "        label_proba = np.zeros(len(self.unique_labels), dtype=np.float64)\n",
    "        all_dim = tuple(range(1, self.labels.ndim))\n",
    "        for i, label in enumerate(self.unique_labels):\n",
    "            relevant = (self.labels == label).all(axis=all_dim)\n",
    "            total_proba = pattern_proba[relevant].sum()\n",
    "            label_proba[i] = total_proba\n",
    "        \n",
    "        return label_proba / label_proba.sum()\n",
    "\n",
    "classifier = markov.HMMGMMClassifier()\n",
    "classifier.fit(e_features, e_labels, n_components=10, n_mix=2)\n",
    "return classifier.predict(t_features)"
   ]
  },
  {
   "cell_type": "code",
   "execution_count": 5,
   "metadata": {},
   "outputs": [
    {
     "data": {
      "text/plain": [
       "is_male  speaker_id\n",
       "False    2             30\n",
       "         4             30\n",
       "         5             30\n",
       "         6             30\n",
       "         8             24\n",
       "         12            30\n",
       "True     1             30\n",
       "         2             30\n",
       "         4             30\n",
       "         5             30\n",
       "         6             30\n",
       "         7             30\n",
       "         8              6\n",
       "         9             30\n",
       "         13            30\n",
       "         14            24\n",
       "         15            30\n",
       "         16            30\n",
       "         17            30\n",
       "         18            30\n",
       "         19            30\n",
       "         20            30\n",
       "         21            24\n",
       "         22            30\n",
       "         23            30\n",
       "         26            30\n",
       "         28            30\n",
       "         29            30\n",
       "         32            30\n",
       "         38            24\n",
       "         40            30\n",
       "         41            30\n",
       "         43            30\n",
       "         47            30\n",
       "         48             6\n",
       "         51            30\n",
       "         52             6\n",
       "         53            30\n",
       "         54            30\n",
       "         55            30\n",
       "         60            30\n",
       "dtype: int64"
      ]
     },
     "metadata": {},
     "output_type": "display_data"
    }
   ],
   "source": [
    "display(enrollments_1.groupby(['is_male', 'speaker_id']).size())"
   ]
  }
 ],
 "metadata": {
  "kernelspec": {
   "display_name": "Python 3",
   "language": "python",
   "name": "python3"
  },
  "language_info": {
   "codemirror_mode": {
    "name": "ipython",
    "version": 3
   },
   "file_extension": ".py",
   "mimetype": "text/x-python",
   "name": "python",
   "nbconvert_exporter": "python",
   "pygments_lexer": "ipython3",
   "version": "3.5.2"
  }
 },
 "nbformat": 4,
 "nbformat_minor": 2
}
