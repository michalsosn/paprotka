{
 "cells": [
  {
   "cell_type": "markdown",
   "metadata": {},
   "source": [
    "# CMU dictionary\n",
    "\n",
    "http://svn.code.sf.net/p/cmusphinx/code/trunk/cmudict/\n",
    "\n",
    "digits are stress combinations"
   ]
  },
  {
   "cell_type": "code",
   "execution_count": 1,
   "metadata": {},
   "outputs": [],
   "source": [
    "import functools as ft\n",
    "import itertools as it\n",
    "import json\n",
    "import re\n",
    "\n",
    "from paprotka.dataset import reddots"
   ]
  },
  {
   "cell_type": "code",
   "execution_count": 2,
   "metadata": {},
   "outputs": [],
   "source": [
    "with open('paths.json') as opened:\n",
    "    paths = json.load(opened)\n",
    "    \n",
    "reddots_root = paths['reddots_root']\n",
    "cmudict_root = paths['cmudict_root']"
   ]
  },
  {
   "cell_type": "code",
   "execution_count": 3,
   "metadata": {},
   "outputs": [],
   "source": [
    "def load_phones(path):\n",
    "    phones = []\n",
    "    with open(path) as opened:\n",
    "        for line in opened:\n",
    "            phone, phone_type = line.split('\\t')\n",
    "            phones.append(phone)\n",
    "    return phones"
   ]
  },
  {
   "cell_type": "code",
   "execution_count": 4,
   "metadata": {},
   "outputs": [],
   "source": [
    "unique_phones = load_phones(cmudict_root + '/cmudict-0.7b.phones')"
   ]
  },
  {
   "cell_type": "code",
   "execution_count": 15,
   "metadata": {},
   "outputs": [
    {
     "data": {
      "text/plain": [
       "39"
      ]
     },
     "execution_count": 15,
     "metadata": {},
     "output_type": "execute_result"
    }
   ],
   "source": [
    "len(unique_phones)"
   ]
  },
  {
   "cell_type": "code",
   "execution_count": 5,
   "metadata": {},
   "outputs": [],
   "source": [
    "def load_cmudict(path):\n",
    "    dictionary = {}\n",
    "    with open(path, encoding='latin1') as opened:\n",
    "        for line in opened:\n",
    "            if line.startswith(';;;'):\n",
    "                continue\n",
    "            word, phone_line = line[:-1].split('  ')\n",
    "            phones = phone_line.split(' ')\n",
    "            dictionary[word] = phones\n",
    "    return dictionary"
   ]
  },
  {
   "cell_type": "code",
   "execution_count": 6,
   "metadata": {},
   "outputs": [],
   "source": [
    "cmudict = load_cmudict(cmudict_root + '/cmudict-0.7b')"
   ]
  },
  {
   "cell_type": "markdown",
   "metadata": {},
   "source": [
    "## RedDots conversion"
   ]
  },
  {
   "cell_type": "code",
   "execution_count": 7,
   "metadata": {},
   "outputs": [],
   "source": [
    "script = reddots.load_script(reddots_root + '/infos/script.txt')"
   ]
  },
  {
   "cell_type": "code",
   "execution_count": 9,
   "metadata": {},
   "outputs": [
    {
     "name": "stdout",
     "output_type": "stream",
     "text": [
      "So how do the cowboys beat the blitz\n",
      "S OW1 _ HH AW1 _ D UW1 _ DH AH0 _ K AW1 B OY2 Z _ B IY1 T _ DH AH0 _ B L IH1 T S\n",
      "We'll do everything to find him he said\n",
      "W IY1 L _ D UW1 _ EH1 V R IY0 TH IH2 NG _ T UW1 _ F AY1 N D _ HH IH1 M _ HH IY1 _ S EH1 D\n"
     ]
    }
   ],
   "source": [
    "non_word_regex = re.compile('[^\\w\\']+')\n",
    "\n",
    "def convert_content(cmudict, content):\n",
    "    try:\n",
    "        words = filter(None, non_word_regex.split(content.upper()))\n",
    "        phone_packs = map(cmudict.get, words)\n",
    "        phone_pack_strings = map(' '.join, phone_packs)\n",
    "        phones = ' _ '.join(phone_pack_strings)\n",
    "        return phones\n",
    "    except TypeError:\n",
    "        return None\n",
    "convert_content_cmudict = ft.partial(convert_content, cmudict)\n",
    "\n",
    "for i in (51, 99):\n",
    "    sample_content = script.loc[i].content\n",
    "    print(sample_content, convert_content(cmudict, sample_content), sep='\\n')"
   ]
  },
  {
   "cell_type": "code",
   "execution_count": 10,
   "metadata": {},
   "outputs": [],
   "source": [
    "script['phones'] = script.content.apply(convert_content_cmudict)"
   ]
  },
  {
   "cell_type": "code",
   "execution_count": 11,
   "metadata": {},
   "outputs": [
    {
     "name": "stdout",
     "output_type": "stream",
     "text": [
      "content    27\n",
      "phones      0\n",
      "dtype: int64\n"
     ]
    },
    {
     "data": {
      "text/html": [
       "<div>\n",
       "<style scoped>\n",
       "    .dataframe tbody tr th:only-of-type {\n",
       "        vertical-align: middle;\n",
       "    }\n",
       "\n",
       "    .dataframe tbody tr th {\n",
       "        vertical-align: top;\n",
       "    }\n",
       "\n",
       "    .dataframe thead th {\n",
       "        text-align: right;\n",
       "    }\n",
       "</style>\n",
       "<table border=\"1\" class=\"dataframe\">\n",
       "  <thead>\n",
       "    <tr style=\"text-align: right;\">\n",
       "      <th></th>\n",
       "      <th>content</th>\n",
       "      <th>phones</th>\n",
       "    </tr>\n",
       "    <tr>\n",
       "      <th>sentence_id</th>\n",
       "      <th></th>\n",
       "      <th></th>\n",
       "    </tr>\n",
       "  </thead>\n",
       "  <tbody>\n",
       "    <tr>\n",
       "      <th>10049</th>\n",
       "      <td>Meine Stimme ist mein Passwort</td>\n",
       "      <td>None</td>\n",
       "    </tr>\n",
       "    <tr>\n",
       "      <th>10085</th>\n",
       "      <td>Kobyla ma maly bok</td>\n",
       "      <td>None</td>\n",
       "    </tr>\n",
       "    <tr>\n",
       "      <th>10194</th>\n",
       "      <td>Multi modal biometrics is best</td>\n",
       "      <td>None</td>\n",
       "    </tr>\n",
       "    <tr>\n",
       "      <th>10136</th>\n",
       "      <td>Beleive you can and you're half way there</td>\n",
       "      <td>None</td>\n",
       "    </tr>\n",
       "    <tr>\n",
       "      <th>10086</th>\n",
       "      <td>Hovno s makem a tabakem</td>\n",
       "      <td>None</td>\n",
       "    </tr>\n",
       "    <tr>\n",
       "      <th>10178</th>\n",
       "      <td>dota is goog game</td>\n",
       "      <td>None</td>\n",
       "    </tr>\n",
       "    <tr>\n",
       "      <th>10199</th>\n",
       "      <td>Hola, cómo estás y en que te puedo ayudar?</td>\n",
       "      <td>None</td>\n",
       "    </tr>\n",
       "    <tr>\n",
       "      <th>10105</th>\n",
       "      <td>je suis ton père</td>\n",
       "      <td>None</td>\n",
       "    </tr>\n",
       "    <tr>\n",
       "      <th>10106</th>\n",
       "      <td>mangeons chers amis et buvons</td>\n",
       "      <td>None</td>\n",
       "    </tr>\n",
       "    <tr>\n",
       "      <th>10200</th>\n",
       "      <td>Mas vale pajaro en mano que cien volando</td>\n",
       "      <td>None</td>\n",
       "    </tr>\n",
       "    <tr>\n",
       "      <th>10145</th>\n",
       "      <td>Morgen is er weer een dag</td>\n",
       "      <td>None</td>\n",
       "    </tr>\n",
       "    <tr>\n",
       "      <th>10053</th>\n",
       "      <td>I live in Jurong west Singapore</td>\n",
       "      <td>None</td>\n",
       "    </tr>\n",
       "    <tr>\n",
       "      <th>10079</th>\n",
       "      <td>A camel is a horse designed by committew</td>\n",
       "      <td>None</td>\n",
       "    </tr>\n",
       "    <tr>\n",
       "      <th>10124</th>\n",
       "      <td>My passcode is the word sequence human being.</td>\n",
       "      <td>None</td>\n",
       "    </tr>\n",
       "    <tr>\n",
       "      <th>10117</th>\n",
       "      <td>ZZ Top ACDC Iron Maiden</td>\n",
       "      <td>None</td>\n",
       "    </tr>\n",
       "    <tr>\n",
       "      <th>10123</th>\n",
       "      <td>Hello, my name is Olda.</td>\n",
       "      <td>None</td>\n",
       "    </tr>\n",
       "    <tr>\n",
       "      <th>10118</th>\n",
       "      <td>Exil Tiroir Rouge Benedictine Brandy</td>\n",
       "      <td>None</td>\n",
       "    </tr>\n",
       "    <tr>\n",
       "      <th>10107</th>\n",
       "      <td>My name is Paola</td>\n",
       "      <td>None</td>\n",
       "    </tr>\n",
       "    <tr>\n",
       "      <th>10043</th>\n",
       "      <td>Only lawers love millionaires</td>\n",
       "      <td>None</td>\n",
       "    </tr>\n",
       "    <tr>\n",
       "      <th>10111</th>\n",
       "      <td>Everyone has the right to pursure happiness</td>\n",
       "      <td>None</td>\n",
       "    </tr>\n",
       "    <tr>\n",
       "      <th>10179</th>\n",
       "      <td>My name is Inigo Montoya</td>\n",
       "      <td>None</td>\n",
       "    </tr>\n",
       "    <tr>\n",
       "      <th>10146</th>\n",
       "      <td>Grauw grijs groen gras</td>\n",
       "      <td>None</td>\n",
       "    </tr>\n",
       "    <tr>\n",
       "      <th>10143</th>\n",
       "      <td>This is Liping Chen</td>\n",
       "      <td>None</td>\n",
       "    </tr>\n",
       "    <tr>\n",
       "      <th>10095</th>\n",
       "      <td>Mes animaux préférés sont Einstein et Joséphine</td>\n",
       "      <td>None</td>\n",
       "    </tr>\n",
       "    <tr>\n",
       "      <th>10054</th>\n",
       "      <td>I work in the Institute for Infocomm Research</td>\n",
       "      <td>None</td>\n",
       "    </tr>\n",
       "    <tr>\n",
       "      <th>10056</th>\n",
       "      <td>LSTM's can model sequences</td>\n",
       "      <td>None</td>\n",
       "    </tr>\n",
       "    <tr>\n",
       "      <th>10096</th>\n",
       "      <td>Aurore et Nathalianne sont mes deux filles</td>\n",
       "      <td>None</td>\n",
       "    </tr>\n",
       "  </tbody>\n",
       "</table>\n",
       "</div>"
      ],
      "text/plain": [
       "                                                     content phones\n",
       "sentence_id                                                        \n",
       "10049                         Meine Stimme ist mein Passwort   None\n",
       "10085                                     Kobyla ma maly bok   None\n",
       "10194                         Multi modal biometrics is best   None\n",
       "10136              Beleive you can and you're half way there   None\n",
       "10086                                Hovno s makem a tabakem   None\n",
       "10178                                      dota is goog game   None\n",
       "10199             Hola, cómo estás y en que te puedo ayudar?   None\n",
       "10105                                       je suis ton père   None\n",
       "10106                          mangeons chers amis et buvons   None\n",
       "10200               Mas vale pajaro en mano que cien volando   None\n",
       "10145                              Morgen is er weer een dag   None\n",
       "10053                        I live in Jurong west Singapore   None\n",
       "10079               A camel is a horse designed by committew   None\n",
       "10124          My passcode is the word sequence human being.   None\n",
       "10117                                ZZ Top ACDC Iron Maiden   None\n",
       "10123                                Hello, my name is Olda.   None\n",
       "10118                   Exil Tiroir Rouge Benedictine Brandy   None\n",
       "10107                                       My name is Paola   None\n",
       "10043                          Only lawers love millionaires   None\n",
       "10111            Everyone has the right to pursure happiness   None\n",
       "10179                               My name is Inigo Montoya   None\n",
       "10146                                 Grauw grijs groen gras   None\n",
       "10143                                    This is Liping Chen   None\n",
       "10095        Mes animaux préférés sont Einstein et Joséphine   None\n",
       "10054          I work in the Institute for Infocomm Research   None\n",
       "10056                             LSTM's can model sequences   None\n",
       "10096             Aurore et Nathalianne sont mes deux filles   None"
      ]
     },
     "execution_count": 11,
     "metadata": {},
     "output_type": "execute_result"
    }
   ],
   "source": [
    "print(script.loc[script.phones.isna()].count())\n",
    "script.loc[script.phones.isna()]"
   ]
  },
  {
   "cell_type": "code",
   "execution_count": 12,
   "metadata": {},
   "outputs": [],
   "source": [
    "script.to_csv(reddots_root + '/infos/phones.csv', sep=';')"
   ]
  }
 ],
 "metadata": {
  "kernelspec": {
   "display_name": "Python 3",
   "language": "python",
   "name": "python3"
  },
  "language_info": {
   "codemirror_mode": {
    "name": "ipython",
    "version": 3
   },
   "file_extension": ".py",
   "mimetype": "text/x-python",
   "name": "python",
   "nbconvert_exporter": "python",
   "pygments_lexer": "ipython3",
   "version": "3.5.2"
  }
 },
 "nbformat": 4,
 "nbformat_minor": 2
}
