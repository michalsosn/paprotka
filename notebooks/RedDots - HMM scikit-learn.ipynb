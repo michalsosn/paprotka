{
 "cells": [
  {
   "cell_type": "markdown",
   "metadata": {},
   "source": [
    "# HMM GMM\n",
    "\n",
    "We use 3-state mono-phone HMMs to construct this recognizer. The emission probability of every state is modeled by a GMM. Say we have F mono-phones (F = 39 in our English lexicon), and a G-mixture GMM for each mono-phone state. Thus the GMM-HMM has 3FG mixture components in total. Compared to GMM-UBM, these mixtures are better separated in the phoneme space.\n",
    "\n",
    "MFCC:  MFCCs  are  extracted  from  16kHz  utterance  with  40 filter-banks distributed between 0 and 8kHz. Static 19-dimensional coefficients plus energy and their delta and delta-delta form a 60-dimensional vector. CMVN is applied per utterance.\n",
    "\n",
    "Given a transcription, a graph of HMM is composed.\n",
    "\n",
    "Speaker adaption is the same with Eq. 4 except mixtures here are phonetic dependent.\n",
    "\n",
    "During the test phase,  the Viterbi-based log-likelihood ratio is expressed as:\n",
    "sum_t log P(x_t | model_user,qt) - log P(x_t | model_ubm,qt)\n",
    "\n",
    "HMM: To generate the alignment for the HMM-based modeling,we use MFCCs to train the HMM. 39 mono-phones plus a silencemodel are used,  each of which contains 3 states.  To model thecomplexity of silence, a GMM with 16 mixtures is used for every silence state, while other states are all modeled by 8 Gaussians,resulting 984 Gaussians in total. This HMM is further extended toa triphone system and remains 2142 senones.  The transcriptionsfor  DNN  training  is  generated  by  the  senone  alignment.   OnlyMFCCs are used for HMM training and alignment.\n",
    "\n",
    "GMM-HMM and i-vector/HMM: The GMM of every state is re-estimated using the HMM alignments and different speaker fea-tures.   The total number of mixtures in our model is 984.   Thedimension of i-vector is again set to 600.  Viterbi and FB align-ments are both investigated\n",
    "\n",
    "* 39 x 3 states"
   ]
  },
  {
   "cell_type": "markdown",
   "metadata": {},
   "source": [
    "## Hmm, no dobra, plan działania:\n",
    "\n",
    "Preprocessing:\n",
    "wytnij ciszę z dźwięków, voice activity detection \n",
    "Wylicz MFCC, 20 stanów + d + dd \n",
    "\n",
    "Training:\n",
    "Dla każdego sentence_id (jest ich 10):\n",
    "    Utwórz HMMGMM z całego zbioru treningowego sequence_id:\n",
    "        HMM with 3 states and 8 Gaussian components for each of 39 mono-phones were used for the alignment (resulting in to-tal number of 936 Gaussian components) ?? \n",
    "        albo unique(znaki) * 3 stany\n",
    "        albo znaki * 3 stany trójkątna! (Bakis)\n",
    "        \n",
    "Enrollment:\n",
    "Dla każdego gspeaker_id:\n",
    "    Dla każdego sentence_id:\n",
    "        Weź dane (gspeaker_id, sequence_id)\n",
    "        Naucz HMM taki jak wyżej tylko na nich\n",
    "        Dokonaj MAP adaptacji\n",
    "        \n",
    "Trial:\n",
    "likelihood HMM_{podany speaker, podane zdanie} - likelihood HMM_{UBM, podane zdanie} ? "
   ]
  },
  {
   "cell_type": "code",
   "execution_count": 1,
   "metadata": {},
   "outputs": [],
   "source": [
    "%load_ext autoreload"
   ]
  },
  {
   "cell_type": "code",
   "execution_count": 16,
   "metadata": {},
   "outputs": [],
   "source": [
    "%autoreload 2\n",
    "\n",
    "import concurrent.futures as cf\n",
    "import functools as ft\n",
    "import itertools as it\n",
    "import json\n",
    "import math\n",
    "import operator as op\n",
    "import os\n",
    "import re\n",
    "\n",
    "from IPython.display import display\n",
    "from ipywidgets import interact, interact_manual, widgets\n",
    "import matplotlib.pyplot as plt\n",
    "import numpy as np\n",
    "import pandas as pd\n",
    "import pickle\n",
    "from scipy import interpolate, linalg, misc, optimize, spatial, stats\n",
    "from sklearn import metrics, mixture, cluster, utils\n",
    "\n",
    "from paprotka.dataset import reddots\n",
    "from paprotka.feature import cepstral"
   ]
  },
  {
   "cell_type": "code",
   "execution_count": 17,
   "metadata": {},
   "outputs": [],
   "source": [
    "%autoreload 0"
   ]
  },
  {
   "cell_type": "code",
   "execution_count": 4,
   "metadata": {},
   "outputs": [],
   "source": [
    "import warnings\n",
    "warnings.filterwarnings('once')"
   ]
  },
  {
   "cell_type": "markdown",
   "metadata": {},
   "source": [
    "# Load"
   ]
  },
  {
   "cell_type": "code",
   "execution_count": 5,
   "metadata": {},
   "outputs": [],
   "source": [
    "root = reddots.get_root()\n",
    "load_pcm = ft.partial(reddots.load_pcm, root)\n",
    "load_mfcc = ft.partial(reddots.load_npy, root, 'wac2_mfcc13_ddd_lifter22_hamming')"
   ]
  },
  {
   "cell_type": "code",
   "execution_count": 6,
   "metadata": {},
   "outputs": [
    {
     "name": "stdout",
     "output_type": "stream",
     "text": [
      "15305 f0002/20150224142650384_f0002_14438.pcm\n"
     ]
    }
   ],
   "source": [
    "all_paths = [os.path.join(os.path.basename(root), file) for root, _, files in os.walk(root + '/pcm') \n",
    "                                      for file in files \n",
    "                                      if file.endswith('.pcm')]\n",
    "print(len(all_paths), all_paths[0])"
   ]
  },
  {
   "cell_type": "code",
   "execution_count": 7,
   "metadata": {},
   "outputs": [],
   "source": [
    "all_mfcc = {path: load_mfcc(path) for path in all_paths}"
   ]
  },
  {
   "cell_type": "code",
   "execution_count": 8,
   "metadata": {},
   "outputs": [
    {
     "name": "stdout",
     "output_type": "stream",
     "text": [
      "      sentence_id                  content  \\\n",
      "1609           31  My voice is my password   \n",
      "\n",
      "                                                 phones  \n",
      "1609  M AY1 _ V OY1 S _ IH1 Z _ M AY1 _ P AE1 S W ER2 D  \n"
     ]
    }
   ],
   "source": [
    "script = pd.read_csv(root + '/infos/phones.csv', sep=';')\n",
    "print(script.loc[script['sentence_id'] == 31])"
   ]
  },
  {
   "cell_type": "code",
   "execution_count": 9,
   "metadata": {},
   "outputs": [],
   "source": [
    "def load_sets(eid, tid=None):\n",
    "    tid = tid if tid else eid\n",
    "    \n",
    "    enrollments = reddots.load_enrollments(root + '/ndx/f_part_{}.trn'.format(eid), \n",
    "                                           root + '/ndx/m_part_{}.trn'.format(eid))\n",
    "    trials = reddots.load_trials(root + '/ndx/f_part_{}.ndx'.format(tid), \n",
    "                                 root + '/ndx/m_part_{}.ndx'.format(tid))\n",
    "    \n",
    "    enrollments = enrollments.merge(script, how='left', on='sentence_id')\n",
    "    trials = trials.merge(script, how='left', left_on='expected_sentence_id', right_on='sentence_id')\n",
    "    del trials['sentence_id']\n",
    "    trials.rename(columns={'content': 'expected_content', 'phones': 'expected_phones'}, inplace=True)\n",
    "    trials = trials.merge(script, how='left', left_on='trial_sentence_id', right_on='sentence_id')\n",
    "    del trials['sentence_id']\n",
    "    trials.rename(columns={'content': 'trial_content', 'phones': 'trial_phones'}, inplace=True)\n",
    "    \n",
    "    return enrollments, trials"
   ]
  },
  {
   "cell_type": "code",
   "execution_count": 10,
   "metadata": {},
   "outputs": [
    {
     "name": "stdout",
     "output_type": "stream",
     "text": [
      "Enrollments\n",
      "is_male                  bool\n",
      "pcm_path               object\n",
      "sentence_id             int16\n",
      "speaker_id              int16\n",
      "timestamp      datetime64[ns]\n",
      "content                object\n",
      "phones                 object\n",
      "dtype: object\n",
      "Trials\n",
      "correct_sentence                  bool\n",
      "expected_is_male                  bool\n",
      "expected_sentence_id             int16\n",
      "expected_speaker_id              int16\n",
      "pcm_path                        object\n",
      "target_person                     bool\n",
      "trial_is_male                     bool\n",
      "trial_sentence_id                int16\n",
      "trial_speaker_id                 int16\n",
      "trial_timestamp         datetime64[ns]\n",
      "expected_content                object\n",
      "expected_phones                 object\n",
      "trial_content                   object\n",
      "trial_phones                    object\n",
      "dtype: object\n"
     ]
    }
   ],
   "source": [
    "enrollments_1, trials_1 = load_sets('01')\n",
    "print('Enrollments', enrollments_1.dtypes, sep='\\n')\n",
    "print('Trials', trials_1.dtypes, sep='\\n')"
   ]
  },
  {
   "cell_type": "code",
   "execution_count": 11,
   "metadata": {},
   "outputs": [],
   "source": [
    "enrollments_2, trials_2 = load_sets('02')\n",
    "enrollments_3, trials_3 = load_sets('03')\n",
    "enrollments_4_td, trials_4_td = load_sets('04_td', '04')"
   ]
  },
  {
   "cell_type": "code",
   "execution_count": 12,
   "metadata": {},
   "outputs": [
    {
     "name": "stdout",
     "output_type": "stream",
     "text": [
      "10857 4448\n"
     ]
    }
   ],
   "source": [
    "trialed_paths = set(path for trials in (trials_1, trials_2, trials_3, trials_4_td) for path in trials.pcm_path)\n",
    "untrialed_paths = [path for path in all_paths if path not in trialed_paths]\n",
    "print(len(trialed_paths), len(untrialed_paths))"
   ]
  },
  {
   "cell_type": "code",
   "execution_count": 13,
   "metadata": {},
   "outputs": [
    {
     "name": "stdout",
     "output_type": "stream",
     "text": [
      "1 316.151323097 1219 [289 398 300 ..., 261 193 370]\n",
      "[ 1  1  1  7  8  9  9  9 11 12 12 12 12 13 23 27 60 60 78 79 80 85 86 87 87\n",
      " 87 89 89 89 89 89 89 89 89 91 91 92 92 93 93]\n",
      "[1047 1047 1057 1058 1059 1059 1063 1065 1065 1067 1067 1067 1069 1069 1071\n",
      " 1076 1078 1078 1078 1082 1086 1088 1088 1090 1181 1181 1181 1181 1181 1181\n",
      " 1185 1185 1200 1200 1202 1202 1219 1219 1219 1219]\n"
     ]
    }
   ],
   "source": [
    "shit_lengths = np.array([mfcc.shape[0] for mfcc in all_mfcc.values()])\n",
    "print(shit_lengths.min(), shit_lengths.mean(), shit_lengths.max(), shit_lengths)\n",
    "\n",
    "shit_lengths_sorted = np.sort(shit_lengths)\n",
    "\n",
    "print(shit_lengths_sorted[:40])\n",
    "print(shit_lengths_sorted[-40:])"
   ]
  },
  {
   "cell_type": "code",
   "execution_count": 14,
   "metadata": {},
   "outputs": [],
   "source": [
    "trialed_paths = [path for path in trialed_paths if all_mfcc[path].shape[0] >= 85]\n",
    "untrialed_paths = [path for path in untrialed_paths if all_mfcc[path].shape[0] >= 85]"
   ]
  },
  {
   "cell_type": "code",
   "execution_count": 15,
   "metadata": {},
   "outputs": [],
   "source": [
    "# memory blew up\n",
    "# enrollments_1.mfcc = enrollments_1.apply(lambda row: load_mfcc(row.pcm_path), axis=1)\n",
    "# trials_1.mfcc = trials_1.apply(lambda row: load_mfcc(row.pcm_path), axis=1)\n",
    "# enrollments_4_td.mfcc = enrollments_4_td.apply(lambda row: load_mfcc(row.pcm_path), axis=1)"
   ]
  },
  {
   "cell_type": "code",
   "execution_count": 19,
   "metadata": {},
   "outputs": [],
   "source": [
    "# got_this_back = pg.GeneralMixtureModel(bg_model.distributions, np.exp(bg_model.weights) * bg_model.weights.sum())\n",
    "# got_this_back = pg.MultivariateGaussianDistribution(means=bg_model.distributions[0].mu, covariance=bg_model.distributions[0].cov)\n",
    "\n",
    "def with_opened_file(mode='r'):\n",
    "    def decorator(fun):\n",
    "        @ft.wraps(fun)\n",
    "        def wrapped(path, *args, **kwargs):\n",
    "            with open(path, mode=mode) as opened:\n",
    "                return fun(opened, *args, **kwargs)\n",
    "        return wrapped\n",
    "    return decorator\n",
    "\n",
    "def write_model(path, model):\n",
    "    with open(path, 'wb') as opened:\n",
    "        pickle.dump(model, opened)\n",
    "        \n",
    "def read_model(path):\n",
    "    with open(path, 'rb') as opened:\n",
    "        return pickle.load(opened)\n",
    "    \n",
    "def write_triples(path, triples):\n",
    "    for phone, triple in triples.items():\n",
    "        for i, model in enumerate(triple):\n",
    "            c = chr(ord('a') + i)\n",
    "            write_model(path + '/{}-{}'.format(phone, c), model)\n",
    "            \n",
    "def read_triples(path, phones):\n",
    "    triples = {}\n",
    "    for phone in phones:\n",
    "        triple = tuple(read_model(path + '/{}-{}'.format(phone, c)) \n",
    "                       for c in ('a', 'b', 'c'))\n",
    "    return triples"
   ]
  },
  {
   "cell_type": "markdown",
   "metadata": {},
   "source": [
    "# Train"
   ]
  },
  {
   "cell_type": "code",
   "execution_count": 20,
   "metadata": {},
   "outputs": [
    {
     "name": "stdout",
     "output_type": "stream",
     "text": [
      "114 (37993, 39)\n"
     ]
    }
   ],
   "source": [
    "example = enrollments_1[enrollments_1.sentence_id == 31]\n",
    "example_features = [all_mfcc[path] for path in example['pcm_path']]\n",
    "example_lengths = [mfcc.shape[0] for mfcc in example_features] \n",
    "example_features_stack = np.vstack(example_features)\n",
    "\n",
    "print(len(example_features), example_features_stack.shape)"
   ]
  },
  {
   "cell_type": "code",
   "execution_count": 32,
   "metadata": {},
   "outputs": [
    {
     "data": {
      "text/html": [
       "<div>\n",
       "<style scoped>\n",
       "    .dataframe tbody tr th:only-of-type {\n",
       "        vertical-align: middle;\n",
       "    }\n",
       "\n",
       "    .dataframe tbody tr th {\n",
       "        vertical-align: top;\n",
       "    }\n",
       "\n",
       "    .dataframe thead th {\n",
       "        text-align: right;\n",
       "    }\n",
       "</style>\n",
       "<table border=\"1\" class=\"dataframe\">\n",
       "  <thead>\n",
       "    <tr style=\"text-align: right;\">\n",
       "      <th></th>\n",
       "      <th>is_male</th>\n",
       "      <th>pcm_path</th>\n",
       "      <th>sentence_id</th>\n",
       "      <th>speaker_id</th>\n",
       "      <th>timestamp</th>\n",
       "      <th>content</th>\n",
       "      <th>phones</th>\n",
       "    </tr>\n",
       "  </thead>\n",
       "  <tbody>\n",
       "    <tr>\n",
       "      <th>0</th>\n",
       "      <td>False</td>\n",
       "      <td>f0002/20150216173043137_f0002_31.pcm</td>\n",
       "      <td>31</td>\n",
       "      <td>2</td>\n",
       "      <td>2015-02-16 17:30:43.137000</td>\n",
       "      <td>My voice is my password</td>\n",
       "      <td>M AY1 _ V OY1 S _ IH1 Z _ M AY1 _ P AE1 S W ER2 D</td>\n",
       "    </tr>\n",
       "    <tr>\n",
       "      <th>1</th>\n",
       "      <td>False</td>\n",
       "      <td>f0002/20150216173047224_f0002_31.pcm</td>\n",
       "      <td>31</td>\n",
       "      <td>2</td>\n",
       "      <td>2015-02-16 17:30:47.224000</td>\n",
       "      <td>My voice is my password</td>\n",
       "      <td>M AY1 _ V OY1 S _ IH1 Z _ M AY1 _ P AE1 S W ER2 D</td>\n",
       "    </tr>\n",
       "    <tr>\n",
       "      <th>2</th>\n",
       "      <td>False</td>\n",
       "      <td>f0002/20150216173052544_f0002_31.pcm</td>\n",
       "      <td>31</td>\n",
       "      <td>2</td>\n",
       "      <td>2015-02-16 17:30:52.544000</td>\n",
       "      <td>My voice is my password</td>\n",
       "      <td>M AY1 _ V OY1 S _ IH1 Z _ M AY1 _ P AE1 S W ER2 D</td>\n",
       "    </tr>\n",
       "    <tr>\n",
       "      <th>30</th>\n",
       "      <td>False</td>\n",
       "      <td>f0004/20150303030806097_f0004_31.pcm</td>\n",
       "      <td>31</td>\n",
       "      <td>4</td>\n",
       "      <td>2015-03-03 03:08:06.097000</td>\n",
       "      <td>My voice is my password</td>\n",
       "      <td>M AY1 _ V OY1 S _ IH1 Z _ M AY1 _ P AE1 S W ER2 D</td>\n",
       "    </tr>\n",
       "    <tr>\n",
       "      <th>31</th>\n",
       "      <td>False</td>\n",
       "      <td>f0004/20150303030810511_f0004_31.pcm</td>\n",
       "      <td>31</td>\n",
       "      <td>4</td>\n",
       "      <td>2015-03-03 03:08:10.511000</td>\n",
       "      <td>My voice is my password</td>\n",
       "      <td>M AY1 _ V OY1 S _ IH1 Z _ M AY1 _ P AE1 S W ER2 D</td>\n",
       "    </tr>\n",
       "    <tr>\n",
       "      <th>32</th>\n",
       "      <td>False</td>\n",
       "      <td>f0004/20150303030815550_f0004_31.pcm</td>\n",
       "      <td>31</td>\n",
       "      <td>4</td>\n",
       "      <td>2015-03-03 03:08:15.550000</td>\n",
       "      <td>My voice is my password</td>\n",
       "      <td>M AY1 _ V OY1 S _ IH1 Z _ M AY1 _ P AE1 S W ER2 D</td>\n",
       "    </tr>\n",
       "    <tr>\n",
       "      <th>60</th>\n",
       "      <td>False</td>\n",
       "      <td>f0005/20150329211618801_f0005_31.pcm</td>\n",
       "      <td>31</td>\n",
       "      <td>5</td>\n",
       "      <td>2015-03-29 21:16:18.801000</td>\n",
       "      <td>My voice is my password</td>\n",
       "      <td>M AY1 _ V OY1 S _ IH1 Z _ M AY1 _ P AE1 S W ER2 D</td>\n",
       "    </tr>\n",
       "    <tr>\n",
       "      <th>61</th>\n",
       "      <td>False</td>\n",
       "      <td>f0005/20150329211619628_f0005_31.pcm</td>\n",
       "      <td>31</td>\n",
       "      <td>5</td>\n",
       "      <td>2015-03-29 21:16:19.628000</td>\n",
       "      <td>My voice is my password</td>\n",
       "      <td>M AY1 _ V OY1 S _ IH1 Z _ M AY1 _ P AE1 S W ER2 D</td>\n",
       "    </tr>\n",
       "    <tr>\n",
       "      <th>62</th>\n",
       "      <td>False</td>\n",
       "      <td>f0005/20150329211620392_f0005_31.pcm</td>\n",
       "      <td>31</td>\n",
       "      <td>5</td>\n",
       "      <td>2015-03-29 21:16:20.392000</td>\n",
       "      <td>My voice is my password</td>\n",
       "      <td>M AY1 _ V OY1 S _ IH1 Z _ M AY1 _ P AE1 S W ER2 D</td>\n",
       "    </tr>\n",
       "    <tr>\n",
       "      <th>90</th>\n",
       "      <td>False</td>\n",
       "      <td>f0006/20150324145723981_f0006_31.pcm</td>\n",
       "      <td>31</td>\n",
       "      <td>6</td>\n",
       "      <td>2015-03-24 14:57:23.981000</td>\n",
       "      <td>My voice is my password</td>\n",
       "      <td>M AY1 _ V OY1 S _ IH1 Z _ M AY1 _ P AE1 S W ER2 D</td>\n",
       "    </tr>\n",
       "    <tr>\n",
       "      <th>91</th>\n",
       "      <td>False</td>\n",
       "      <td>f0006/20150324145742420_f0006_31.pcm</td>\n",
       "      <td>31</td>\n",
       "      <td>6</td>\n",
       "      <td>2015-03-24 14:57:42.420000</td>\n",
       "      <td>My voice is my password</td>\n",
       "      <td>M AY1 _ V OY1 S _ IH1 Z _ M AY1 _ P AE1 S W ER2 D</td>\n",
       "    </tr>\n",
       "    <tr>\n",
       "      <th>92</th>\n",
       "      <td>False</td>\n",
       "      <td>f0006/20150324145754775_f0006_31.pcm</td>\n",
       "      <td>31</td>\n",
       "      <td>6</td>\n",
       "      <td>2015-03-24 14:57:54.775000</td>\n",
       "      <td>My voice is my password</td>\n",
       "      <td>M AY1 _ V OY1 S _ IH1 Z _ M AY1 _ P AE1 S W ER2 D</td>\n",
       "    </tr>\n",
       "    <tr>\n",
       "      <th>120</th>\n",
       "      <td>False</td>\n",
       "      <td>f0008/20150411081815508_f0008_31.pcm</td>\n",
       "      <td>31</td>\n",
       "      <td>8</td>\n",
       "      <td>2015-04-11 08:18:15.508000</td>\n",
       "      <td>My voice is my password</td>\n",
       "      <td>M AY1 _ V OY1 S _ IH1 Z _ M AY1 _ P AE1 S W ER2 D</td>\n",
       "    </tr>\n",
       "    <tr>\n",
       "      <th>121</th>\n",
       "      <td>False</td>\n",
       "      <td>f0008/20150411081823448_f0008_31.pcm</td>\n",
       "      <td>31</td>\n",
       "      <td>8</td>\n",
       "      <td>2015-04-11 08:18:23.448000</td>\n",
       "      <td>My voice is my password</td>\n",
       "      <td>M AY1 _ V OY1 S _ IH1 Z _ M AY1 _ P AE1 S W ER2 D</td>\n",
       "    </tr>\n",
       "    <tr>\n",
       "      <th>122</th>\n",
       "      <td>False</td>\n",
       "      <td>f0008/20150411081830530_f0008_31.pcm</td>\n",
       "      <td>31</td>\n",
       "      <td>8</td>\n",
       "      <td>2015-04-11 08:18:30.530000</td>\n",
       "      <td>My voice is my password</td>\n",
       "      <td>M AY1 _ V OY1 S _ IH1 Z _ M AY1 _ P AE1 S W ER2 D</td>\n",
       "    </tr>\n",
       "    <tr>\n",
       "      <th>144</th>\n",
       "      <td>False</td>\n",
       "      <td>f0012/20150512085836773_f0012_31.pcm</td>\n",
       "      <td>31</td>\n",
       "      <td>12</td>\n",
       "      <td>2015-05-12 08:58:36.773000</td>\n",
       "      <td>My voice is my password</td>\n",
       "      <td>M AY1 _ V OY1 S _ IH1 Z _ M AY1 _ P AE1 S W ER2 D</td>\n",
       "    </tr>\n",
       "    <tr>\n",
       "      <th>145</th>\n",
       "      <td>False</td>\n",
       "      <td>f0012/20150512085844978_f0012_31.pcm</td>\n",
       "      <td>31</td>\n",
       "      <td>12</td>\n",
       "      <td>2015-05-12 08:58:44.978000</td>\n",
       "      <td>My voice is my password</td>\n",
       "      <td>M AY1 _ V OY1 S _ IH1 Z _ M AY1 _ P AE1 S W ER2 D</td>\n",
       "    </tr>\n",
       "    <tr>\n",
       "      <th>146</th>\n",
       "      <td>False</td>\n",
       "      <td>f0012/20150512085907895_f0012_31.pcm</td>\n",
       "      <td>31</td>\n",
       "      <td>12</td>\n",
       "      <td>2015-05-12 08:59:07.895000</td>\n",
       "      <td>My voice is my password</td>\n",
       "      <td>M AY1 _ V OY1 S _ IH1 Z _ M AY1 _ P AE1 S W ER2 D</td>\n",
       "    </tr>\n",
       "    <tr>\n",
       "      <th>174</th>\n",
       "      <td>True</td>\n",
       "      <td>m0001/20150130084154554_m0001_31.pcm</td>\n",
       "      <td>31</td>\n",
       "      <td>1</td>\n",
       "      <td>2015-01-30 08:41:54.554000</td>\n",
       "      <td>My voice is my password</td>\n",
       "      <td>M AY1 _ V OY1 S _ IH1 Z _ M AY1 _ P AE1 S W ER2 D</td>\n",
       "    </tr>\n",
       "    <tr>\n",
       "      <th>175</th>\n",
       "      <td>True</td>\n",
       "      <td>m0001/20150130084155412_m0001_31.pcm</td>\n",
       "      <td>31</td>\n",
       "      <td>1</td>\n",
       "      <td>2015-01-30 08:41:55.412000</td>\n",
       "      <td>My voice is my password</td>\n",
       "      <td>M AY1 _ V OY1 S _ IH1 Z _ M AY1 _ P AE1 S W ER2 D</td>\n",
       "    </tr>\n",
       "    <tr>\n",
       "      <th>176</th>\n",
       "      <td>True</td>\n",
       "      <td>m0001/20150130084156114_m0001_31.pcm</td>\n",
       "      <td>31</td>\n",
       "      <td>1</td>\n",
       "      <td>2015-01-30 08:41:56.114000</td>\n",
       "      <td>My voice is my password</td>\n",
       "      <td>M AY1 _ V OY1 S _ IH1 Z _ M AY1 _ P AE1 S W ER2 D</td>\n",
       "    </tr>\n",
       "    <tr>\n",
       "      <th>204</th>\n",
       "      <td>True</td>\n",
       "      <td>m0002/20150129105601404_m0002_31.pcm</td>\n",
       "      <td>31</td>\n",
       "      <td>2</td>\n",
       "      <td>2015-01-29 10:56:01.404000</td>\n",
       "      <td>My voice is my password</td>\n",
       "      <td>M AY1 _ V OY1 S _ IH1 Z _ M AY1 _ P AE1 S W ER2 D</td>\n",
       "    </tr>\n",
       "    <tr>\n",
       "      <th>205</th>\n",
       "      <td>True</td>\n",
       "      <td>m0002/20150129105602091_m0002_31.pcm</td>\n",
       "      <td>31</td>\n",
       "      <td>2</td>\n",
       "      <td>2015-01-29 10:56:02.091000</td>\n",
       "      <td>My voice is my password</td>\n",
       "      <td>M AY1 _ V OY1 S _ IH1 Z _ M AY1 _ P AE1 S W ER2 D</td>\n",
       "    </tr>\n",
       "    <tr>\n",
       "      <th>206</th>\n",
       "      <td>True</td>\n",
       "      <td>m0002/20150129105602637_m0002_31.pcm</td>\n",
       "      <td>31</td>\n",
       "      <td>2</td>\n",
       "      <td>2015-01-29 10:56:02.637000</td>\n",
       "      <td>My voice is my password</td>\n",
       "      <td>M AY1 _ V OY1 S _ IH1 Z _ M AY1 _ P AE1 S W ER2 D</td>\n",
       "    </tr>\n",
       "    <tr>\n",
       "      <th>234</th>\n",
       "      <td>True</td>\n",
       "      <td>m0004/20150617165938243_m0004_31.pcm</td>\n",
       "      <td>31</td>\n",
       "      <td>4</td>\n",
       "      <td>2015-06-17 16:59:38.243000</td>\n",
       "      <td>My voice is my password</td>\n",
       "      <td>M AY1 _ V OY1 S _ IH1 Z _ M AY1 _ P AE1 S W ER2 D</td>\n",
       "    </tr>\n",
       "    <tr>\n",
       "      <th>235</th>\n",
       "      <td>True</td>\n",
       "      <td>m0004/20150617170005403_m0004_31.pcm</td>\n",
       "      <td>31</td>\n",
       "      <td>4</td>\n",
       "      <td>2015-06-17 17:00:05.403000</td>\n",
       "      <td>My voice is my password</td>\n",
       "      <td>M AY1 _ V OY1 S _ IH1 Z _ M AY1 _ P AE1 S W ER2 D</td>\n",
       "    </tr>\n",
       "    <tr>\n",
       "      <th>236</th>\n",
       "      <td>True</td>\n",
       "      <td>m0004/20150617170024591_m0004_31.pcm</td>\n",
       "      <td>31</td>\n",
       "      <td>4</td>\n",
       "      <td>2015-06-17 17:00:24.591000</td>\n",
       "      <td>My voice is my password</td>\n",
       "      <td>M AY1 _ V OY1 S _ IH1 Z _ M AY1 _ P AE1 S W ER2 D</td>\n",
       "    </tr>\n",
       "    <tr>\n",
       "      <th>264</th>\n",
       "      <td>True</td>\n",
       "      <td>m0005/20150527153330834_m0005_31.pcm</td>\n",
       "      <td>31</td>\n",
       "      <td>5</td>\n",
       "      <td>2015-05-27 15:33:30.834000</td>\n",
       "      <td>My voice is my password</td>\n",
       "      <td>M AY1 _ V OY1 S _ IH1 Z _ M AY1 _ P AE1 S W ER2 D</td>\n",
       "    </tr>\n",
       "    <tr>\n",
       "      <th>265</th>\n",
       "      <td>True</td>\n",
       "      <td>m0005/20150527153345950_m0005_31.pcm</td>\n",
       "      <td>31</td>\n",
       "      <td>5</td>\n",
       "      <td>2015-05-27 15:33:45.950000</td>\n",
       "      <td>My voice is my password</td>\n",
       "      <td>M AY1 _ V OY1 S _ IH1 Z _ M AY1 _ P AE1 S W ER2 D</td>\n",
       "    </tr>\n",
       "    <tr>\n",
       "      <th>266</th>\n",
       "      <td>True</td>\n",
       "      <td>m0005/20150527153359647_m0005_31.pcm</td>\n",
       "      <td>31</td>\n",
       "      <td>5</td>\n",
       "      <td>2015-05-27 15:33:59.647000</td>\n",
       "      <td>My voice is my password</td>\n",
       "      <td>M AY1 _ V OY1 S _ IH1 Z _ M AY1 _ P AE1 S W ER2 D</td>\n",
       "    </tr>\n",
       "    <tr>\n",
       "      <th>...</th>\n",
       "      <td>...</td>\n",
       "      <td>...</td>\n",
       "      <td>...</td>\n",
       "      <td>...</td>\n",
       "      <td>...</td>\n",
       "      <td>...</td>\n",
       "      <td>...</td>\n",
       "    </tr>\n",
       "    <tr>\n",
       "      <th>828</th>\n",
       "      <td>True</td>\n",
       "      <td>m0038/20150327225712682_m0038_31.pcm</td>\n",
       "      <td>31</td>\n",
       "      <td>38</td>\n",
       "      <td>2015-03-27 22:57:12.682000</td>\n",
       "      <td>My voice is my password</td>\n",
       "      <td>M AY1 _ V OY1 S _ IH1 Z _ M AY1 _ P AE1 S W ER2 D</td>\n",
       "    </tr>\n",
       "    <tr>\n",
       "      <th>829</th>\n",
       "      <td>True</td>\n",
       "      <td>m0038/20150327225714960_m0038_31.pcm</td>\n",
       "      <td>31</td>\n",
       "      <td>38</td>\n",
       "      <td>2015-03-27 22:57:14.960000</td>\n",
       "      <td>My voice is my password</td>\n",
       "      <td>M AY1 _ V OY1 S _ IH1 Z _ M AY1 _ P AE1 S W ER2 D</td>\n",
       "    </tr>\n",
       "    <tr>\n",
       "      <th>830</th>\n",
       "      <td>True</td>\n",
       "      <td>m0038/20150327225717128_m0038_31.pcm</td>\n",
       "      <td>31</td>\n",
       "      <td>38</td>\n",
       "      <td>2015-03-27 22:57:17.128000</td>\n",
       "      <td>My voice is my password</td>\n",
       "      <td>M AY1 _ V OY1 S _ IH1 Z _ M AY1 _ P AE1 S W ER2 D</td>\n",
       "    </tr>\n",
       "    <tr>\n",
       "      <th>852</th>\n",
       "      <td>True</td>\n",
       "      <td>m0040/20150403042949721_m0040_31.pcm</td>\n",
       "      <td>31</td>\n",
       "      <td>40</td>\n",
       "      <td>2015-04-03 04:29:49.721000</td>\n",
       "      <td>My voice is my password</td>\n",
       "      <td>M AY1 _ V OY1 S _ IH1 Z _ M AY1 _ P AE1 S W ER2 D</td>\n",
       "    </tr>\n",
       "    <tr>\n",
       "      <th>853</th>\n",
       "      <td>True</td>\n",
       "      <td>m0040/20150403042952669_m0040_31.pcm</td>\n",
       "      <td>31</td>\n",
       "      <td>40</td>\n",
       "      <td>2015-04-03 04:29:52.669000</td>\n",
       "      <td>My voice is my password</td>\n",
       "      <td>M AY1 _ V OY1 S _ IH1 Z _ M AY1 _ P AE1 S W ER2 D</td>\n",
       "    </tr>\n",
       "    <tr>\n",
       "      <th>854</th>\n",
       "      <td>True</td>\n",
       "      <td>m0040/20150403042955462_m0040_31.pcm</td>\n",
       "      <td>31</td>\n",
       "      <td>40</td>\n",
       "      <td>2015-04-03 04:29:55.462000</td>\n",
       "      <td>My voice is my password</td>\n",
       "      <td>M AY1 _ V OY1 S _ IH1 Z _ M AY1 _ P AE1 S W ER2 D</td>\n",
       "    </tr>\n",
       "    <tr>\n",
       "      <th>882</th>\n",
       "      <td>True</td>\n",
       "      <td>m0041/20150401242820394_m0041_31.pcm</td>\n",
       "      <td>31</td>\n",
       "      <td>41</td>\n",
       "      <td>2015-04-01 02:42:08.203940</td>\n",
       "      <td>My voice is my password</td>\n",
       "      <td>M AY1 _ V OY1 S _ IH1 Z _ M AY1 _ P AE1 S W ER2 D</td>\n",
       "    </tr>\n",
       "    <tr>\n",
       "      <th>883</th>\n",
       "      <td>True</td>\n",
       "      <td>m0041/20150401242822625_m0041_31.pcm</td>\n",
       "      <td>31</td>\n",
       "      <td>41</td>\n",
       "      <td>2015-04-01 02:42:08.226250</td>\n",
       "      <td>My voice is my password</td>\n",
       "      <td>M AY1 _ V OY1 S _ IH1 Z _ M AY1 _ P AE1 S W ER2 D</td>\n",
       "    </tr>\n",
       "    <tr>\n",
       "      <th>884</th>\n",
       "      <td>True</td>\n",
       "      <td>m0041/20150401242824700_m0041_31.pcm</td>\n",
       "      <td>31</td>\n",
       "      <td>41</td>\n",
       "      <td>2015-04-01 02:42:08.247000</td>\n",
       "      <td>My voice is my password</td>\n",
       "      <td>M AY1 _ V OY1 S _ IH1 Z _ M AY1 _ P AE1 S W ER2 D</td>\n",
       "    </tr>\n",
       "    <tr>\n",
       "      <th>912</th>\n",
       "      <td>True</td>\n",
       "      <td>m0043/20150401161616565_m0043_31.pcm</td>\n",
       "      <td>31</td>\n",
       "      <td>43</td>\n",
       "      <td>2015-04-01 16:16:16.565000</td>\n",
       "      <td>My voice is my password</td>\n",
       "      <td>M AY1 _ V OY1 S _ IH1 Z _ M AY1 _ P AE1 S W ER2 D</td>\n",
       "    </tr>\n",
       "    <tr>\n",
       "      <th>913</th>\n",
       "      <td>True</td>\n",
       "      <td>m0043/20150401161625598_m0043_31.pcm</td>\n",
       "      <td>31</td>\n",
       "      <td>43</td>\n",
       "      <td>2015-04-01 16:16:25.598000</td>\n",
       "      <td>My voice is my password</td>\n",
       "      <td>M AY1 _ V OY1 S _ IH1 Z _ M AY1 _ P AE1 S W ER2 D</td>\n",
       "    </tr>\n",
       "    <tr>\n",
       "      <th>914</th>\n",
       "      <td>True</td>\n",
       "      <td>m0043/20150401161637282_m0043_31.pcm</td>\n",
       "      <td>31</td>\n",
       "      <td>43</td>\n",
       "      <td>2015-04-01 16:16:37.282000</td>\n",
       "      <td>My voice is my password</td>\n",
       "      <td>M AY1 _ V OY1 S _ IH1 Z _ M AY1 _ P AE1 S W ER2 D</td>\n",
       "    </tr>\n",
       "    <tr>\n",
       "      <th>942</th>\n",
       "      <td>True</td>\n",
       "      <td>m0047/20150417121430509_m0047_31.pcm</td>\n",
       "      <td>31</td>\n",
       "      <td>47</td>\n",
       "      <td>2015-04-17 12:14:30.509000</td>\n",
       "      <td>My voice is my password</td>\n",
       "      <td>M AY1 _ V OY1 S _ IH1 Z _ M AY1 _ P AE1 S W ER2 D</td>\n",
       "    </tr>\n",
       "    <tr>\n",
       "      <th>943</th>\n",
       "      <td>True</td>\n",
       "      <td>m0047/20150417121437093_m0047_31.pcm</td>\n",
       "      <td>31</td>\n",
       "      <td>47</td>\n",
       "      <td>2015-04-17 12:14:37.093000</td>\n",
       "      <td>My voice is my password</td>\n",
       "      <td>M AY1 _ V OY1 S _ IH1 Z _ M AY1 _ P AE1 S W ER2 D</td>\n",
       "    </tr>\n",
       "    <tr>\n",
       "      <th>944</th>\n",
       "      <td>True</td>\n",
       "      <td>m0047/20150417121451616_m0047_31.pcm</td>\n",
       "      <td>31</td>\n",
       "      <td>47</td>\n",
       "      <td>2015-04-17 12:14:51.616000</td>\n",
       "      <td>My voice is my password</td>\n",
       "      <td>M AY1 _ V OY1 S _ IH1 Z _ M AY1 _ P AE1 S W ER2 D</td>\n",
       "    </tr>\n",
       "    <tr>\n",
       "      <th>978</th>\n",
       "      <td>True</td>\n",
       "      <td>m0051/20150429240609533_m0051_31.pcm</td>\n",
       "      <td>31</td>\n",
       "      <td>51</td>\n",
       "      <td>2015-04-29 02:41:00.953300</td>\n",
       "      <td>My voice is my password</td>\n",
       "      <td>M AY1 _ V OY1 S _ IH1 Z _ M AY1 _ P AE1 S W ER2 D</td>\n",
       "    </tr>\n",
       "    <tr>\n",
       "      <th>979</th>\n",
       "      <td>True</td>\n",
       "      <td>m0051/20150429240612044_m0051_31.pcm</td>\n",
       "      <td>31</td>\n",
       "      <td>51</td>\n",
       "      <td>2015-04-29 02:41:01.204400</td>\n",
       "      <td>My voice is my password</td>\n",
       "      <td>M AY1 _ V OY1 S _ IH1 Z _ M AY1 _ P AE1 S W ER2 D</td>\n",
       "    </tr>\n",
       "    <tr>\n",
       "      <th>980</th>\n",
       "      <td>True</td>\n",
       "      <td>m0051/20150429240612715_m0051_31.pcm</td>\n",
       "      <td>31</td>\n",
       "      <td>51</td>\n",
       "      <td>2015-04-29 02:41:01.271500</td>\n",
       "      <td>My voice is my password</td>\n",
       "      <td>M AY1 _ V OY1 S _ IH1 Z _ M AY1 _ P AE1 S W ER2 D</td>\n",
       "    </tr>\n",
       "    <tr>\n",
       "      <th>1014</th>\n",
       "      <td>True</td>\n",
       "      <td>m0053/20150421123524373_m0053_31.pcm</td>\n",
       "      <td>31</td>\n",
       "      <td>53</td>\n",
       "      <td>2015-04-21 12:35:24.373000</td>\n",
       "      <td>My voice is my password</td>\n",
       "      <td>M AY1 _ V OY1 S _ IH1 Z _ M AY1 _ P AE1 S W ER2 D</td>\n",
       "    </tr>\n",
       "    <tr>\n",
       "      <th>1015</th>\n",
       "      <td>True</td>\n",
       "      <td>m0053/20150421123540894_m0053_31.pcm</td>\n",
       "      <td>31</td>\n",
       "      <td>53</td>\n",
       "      <td>2015-04-21 12:35:40.894000</td>\n",
       "      <td>My voice is my password</td>\n",
       "      <td>M AY1 _ V OY1 S _ IH1 Z _ M AY1 _ P AE1 S W ER2 D</td>\n",
       "    </tr>\n",
       "    <tr>\n",
       "      <th>1016</th>\n",
       "      <td>True</td>\n",
       "      <td>m0053/20150421123554403_m0053_31.pcm</td>\n",
       "      <td>31</td>\n",
       "      <td>53</td>\n",
       "      <td>2015-04-21 12:35:54.403000</td>\n",
       "      <td>My voice is my password</td>\n",
       "      <td>M AY1 _ V OY1 S _ IH1 Z _ M AY1 _ P AE1 S W ER2 D</td>\n",
       "    </tr>\n",
       "    <tr>\n",
       "      <th>1044</th>\n",
       "      <td>True</td>\n",
       "      <td>m0054/20150422202905411_m0054_31.pcm</td>\n",
       "      <td>31</td>\n",
       "      <td>54</td>\n",
       "      <td>2015-04-22 20:29:05.411000</td>\n",
       "      <td>My voice is my password</td>\n",
       "      <td>M AY1 _ V OY1 S _ IH1 Z _ M AY1 _ P AE1 S W ER2 D</td>\n",
       "    </tr>\n",
       "    <tr>\n",
       "      <th>1045</th>\n",
       "      <td>True</td>\n",
       "      <td>m0054/20150422202910590_m0054_31.pcm</td>\n",
       "      <td>31</td>\n",
       "      <td>54</td>\n",
       "      <td>2015-04-22 20:29:10.590000</td>\n",
       "      <td>My voice is my password</td>\n",
       "      <td>M AY1 _ V OY1 S _ IH1 Z _ M AY1 _ P AE1 S W ER2 D</td>\n",
       "    </tr>\n",
       "    <tr>\n",
       "      <th>1046</th>\n",
       "      <td>True</td>\n",
       "      <td>m0054/20150506210935358_m0054_31.pcm</td>\n",
       "      <td>31</td>\n",
       "      <td>54</td>\n",
       "      <td>2015-05-06 21:09:35.358000</td>\n",
       "      <td>My voice is my password</td>\n",
       "      <td>M AY1 _ V OY1 S _ IH1 Z _ M AY1 _ P AE1 S W ER2 D</td>\n",
       "    </tr>\n",
       "    <tr>\n",
       "      <th>1074</th>\n",
       "      <td>True</td>\n",
       "      <td>m0055/20150420111721913_m0055_31.pcm</td>\n",
       "      <td>31</td>\n",
       "      <td>55</td>\n",
       "      <td>2015-04-20 11:17:21.913000</td>\n",
       "      <td>My voice is my password</td>\n",
       "      <td>M AY1 _ V OY1 S _ IH1 Z _ M AY1 _ P AE1 S W ER2 D</td>\n",
       "    </tr>\n",
       "    <tr>\n",
       "      <th>1075</th>\n",
       "      <td>True</td>\n",
       "      <td>m0055/20150420210908527_m0055_31.pcm</td>\n",
       "      <td>31</td>\n",
       "      <td>55</td>\n",
       "      <td>2015-04-20 21:09:08.527000</td>\n",
       "      <td>My voice is my password</td>\n",
       "      <td>M AY1 _ V OY1 S _ IH1 Z _ M AY1 _ P AE1 S W ER2 D</td>\n",
       "    </tr>\n",
       "    <tr>\n",
       "      <th>1076</th>\n",
       "      <td>True</td>\n",
       "      <td>m0055/20150420210913285_m0055_31.pcm</td>\n",
       "      <td>31</td>\n",
       "      <td>55</td>\n",
       "      <td>2015-04-20 21:09:13.285000</td>\n",
       "      <td>My voice is my password</td>\n",
       "      <td>M AY1 _ V OY1 S _ IH1 Z _ M AY1 _ P AE1 S W ER2 D</td>\n",
       "    </tr>\n",
       "    <tr>\n",
       "      <th>1104</th>\n",
       "      <td>True</td>\n",
       "      <td>m0060/20150427145054969_m0060_31.pcm</td>\n",
       "      <td>31</td>\n",
       "      <td>60</td>\n",
       "      <td>2015-04-27 14:50:54.969000</td>\n",
       "      <td>My voice is my password</td>\n",
       "      <td>M AY1 _ V OY1 S _ IH1 Z _ M AY1 _ P AE1 S W ER2 D</td>\n",
       "    </tr>\n",
       "    <tr>\n",
       "      <th>1105</th>\n",
       "      <td>True</td>\n",
       "      <td>m0060/20150427145148758_m0060_31.pcm</td>\n",
       "      <td>31</td>\n",
       "      <td>60</td>\n",
       "      <td>2015-04-27 14:51:48.758000</td>\n",
       "      <td>My voice is my password</td>\n",
       "      <td>M AY1 _ V OY1 S _ IH1 Z _ M AY1 _ P AE1 S W ER2 D</td>\n",
       "    </tr>\n",
       "    <tr>\n",
       "      <th>1106</th>\n",
       "      <td>True</td>\n",
       "      <td>m0060/20150427145708138_m0060_31.pcm</td>\n",
       "      <td>31</td>\n",
       "      <td>60</td>\n",
       "      <td>2015-04-27 14:57:08.138000</td>\n",
       "      <td>My voice is my password</td>\n",
       "      <td>M AY1 _ V OY1 S _ IH1 Z _ M AY1 _ P AE1 S W ER2 D</td>\n",
       "    </tr>\n",
       "  </tbody>\n",
       "</table>\n",
       "<p>114 rows × 7 columns</p>\n",
       "</div>"
      ],
      "text/plain": [
       "      is_male                              pcm_path  sentence_id  speaker_id  \\\n",
       "0       False  f0002/20150216173043137_f0002_31.pcm           31           2   \n",
       "1       False  f0002/20150216173047224_f0002_31.pcm           31           2   \n",
       "2       False  f0002/20150216173052544_f0002_31.pcm           31           2   \n",
       "30      False  f0004/20150303030806097_f0004_31.pcm           31           4   \n",
       "31      False  f0004/20150303030810511_f0004_31.pcm           31           4   \n",
       "32      False  f0004/20150303030815550_f0004_31.pcm           31           4   \n",
       "60      False  f0005/20150329211618801_f0005_31.pcm           31           5   \n",
       "61      False  f0005/20150329211619628_f0005_31.pcm           31           5   \n",
       "62      False  f0005/20150329211620392_f0005_31.pcm           31           5   \n",
       "90      False  f0006/20150324145723981_f0006_31.pcm           31           6   \n",
       "91      False  f0006/20150324145742420_f0006_31.pcm           31           6   \n",
       "92      False  f0006/20150324145754775_f0006_31.pcm           31           6   \n",
       "120     False  f0008/20150411081815508_f0008_31.pcm           31           8   \n",
       "121     False  f0008/20150411081823448_f0008_31.pcm           31           8   \n",
       "122     False  f0008/20150411081830530_f0008_31.pcm           31           8   \n",
       "144     False  f0012/20150512085836773_f0012_31.pcm           31          12   \n",
       "145     False  f0012/20150512085844978_f0012_31.pcm           31          12   \n",
       "146     False  f0012/20150512085907895_f0012_31.pcm           31          12   \n",
       "174      True  m0001/20150130084154554_m0001_31.pcm           31           1   \n",
       "175      True  m0001/20150130084155412_m0001_31.pcm           31           1   \n",
       "176      True  m0001/20150130084156114_m0001_31.pcm           31           1   \n",
       "204      True  m0002/20150129105601404_m0002_31.pcm           31           2   \n",
       "205      True  m0002/20150129105602091_m0002_31.pcm           31           2   \n",
       "206      True  m0002/20150129105602637_m0002_31.pcm           31           2   \n",
       "234      True  m0004/20150617165938243_m0004_31.pcm           31           4   \n",
       "235      True  m0004/20150617170005403_m0004_31.pcm           31           4   \n",
       "236      True  m0004/20150617170024591_m0004_31.pcm           31           4   \n",
       "264      True  m0005/20150527153330834_m0005_31.pcm           31           5   \n",
       "265      True  m0005/20150527153345950_m0005_31.pcm           31           5   \n",
       "266      True  m0005/20150527153359647_m0005_31.pcm           31           5   \n",
       "...       ...                                   ...          ...         ...   \n",
       "828      True  m0038/20150327225712682_m0038_31.pcm           31          38   \n",
       "829      True  m0038/20150327225714960_m0038_31.pcm           31          38   \n",
       "830      True  m0038/20150327225717128_m0038_31.pcm           31          38   \n",
       "852      True  m0040/20150403042949721_m0040_31.pcm           31          40   \n",
       "853      True  m0040/20150403042952669_m0040_31.pcm           31          40   \n",
       "854      True  m0040/20150403042955462_m0040_31.pcm           31          40   \n",
       "882      True  m0041/20150401242820394_m0041_31.pcm           31          41   \n",
       "883      True  m0041/20150401242822625_m0041_31.pcm           31          41   \n",
       "884      True  m0041/20150401242824700_m0041_31.pcm           31          41   \n",
       "912      True  m0043/20150401161616565_m0043_31.pcm           31          43   \n",
       "913      True  m0043/20150401161625598_m0043_31.pcm           31          43   \n",
       "914      True  m0043/20150401161637282_m0043_31.pcm           31          43   \n",
       "942      True  m0047/20150417121430509_m0047_31.pcm           31          47   \n",
       "943      True  m0047/20150417121437093_m0047_31.pcm           31          47   \n",
       "944      True  m0047/20150417121451616_m0047_31.pcm           31          47   \n",
       "978      True  m0051/20150429240609533_m0051_31.pcm           31          51   \n",
       "979      True  m0051/20150429240612044_m0051_31.pcm           31          51   \n",
       "980      True  m0051/20150429240612715_m0051_31.pcm           31          51   \n",
       "1014     True  m0053/20150421123524373_m0053_31.pcm           31          53   \n",
       "1015     True  m0053/20150421123540894_m0053_31.pcm           31          53   \n",
       "1016     True  m0053/20150421123554403_m0053_31.pcm           31          53   \n",
       "1044     True  m0054/20150422202905411_m0054_31.pcm           31          54   \n",
       "1045     True  m0054/20150422202910590_m0054_31.pcm           31          54   \n",
       "1046     True  m0054/20150506210935358_m0054_31.pcm           31          54   \n",
       "1074     True  m0055/20150420111721913_m0055_31.pcm           31          55   \n",
       "1075     True  m0055/20150420210908527_m0055_31.pcm           31          55   \n",
       "1076     True  m0055/20150420210913285_m0055_31.pcm           31          55   \n",
       "1104     True  m0060/20150427145054969_m0060_31.pcm           31          60   \n",
       "1105     True  m0060/20150427145148758_m0060_31.pcm           31          60   \n",
       "1106     True  m0060/20150427145708138_m0060_31.pcm           31          60   \n",
       "\n",
       "                      timestamp                  content  \\\n",
       "0    2015-02-16 17:30:43.137000  My voice is my password   \n",
       "1    2015-02-16 17:30:47.224000  My voice is my password   \n",
       "2    2015-02-16 17:30:52.544000  My voice is my password   \n",
       "30   2015-03-03 03:08:06.097000  My voice is my password   \n",
       "31   2015-03-03 03:08:10.511000  My voice is my password   \n",
       "32   2015-03-03 03:08:15.550000  My voice is my password   \n",
       "60   2015-03-29 21:16:18.801000  My voice is my password   \n",
       "61   2015-03-29 21:16:19.628000  My voice is my password   \n",
       "62   2015-03-29 21:16:20.392000  My voice is my password   \n",
       "90   2015-03-24 14:57:23.981000  My voice is my password   \n",
       "91   2015-03-24 14:57:42.420000  My voice is my password   \n",
       "92   2015-03-24 14:57:54.775000  My voice is my password   \n",
       "120  2015-04-11 08:18:15.508000  My voice is my password   \n",
       "121  2015-04-11 08:18:23.448000  My voice is my password   \n",
       "122  2015-04-11 08:18:30.530000  My voice is my password   \n",
       "144  2015-05-12 08:58:36.773000  My voice is my password   \n",
       "145  2015-05-12 08:58:44.978000  My voice is my password   \n",
       "146  2015-05-12 08:59:07.895000  My voice is my password   \n",
       "174  2015-01-30 08:41:54.554000  My voice is my password   \n",
       "175  2015-01-30 08:41:55.412000  My voice is my password   \n",
       "176  2015-01-30 08:41:56.114000  My voice is my password   \n",
       "204  2015-01-29 10:56:01.404000  My voice is my password   \n",
       "205  2015-01-29 10:56:02.091000  My voice is my password   \n",
       "206  2015-01-29 10:56:02.637000  My voice is my password   \n",
       "234  2015-06-17 16:59:38.243000  My voice is my password   \n",
       "235  2015-06-17 17:00:05.403000  My voice is my password   \n",
       "236  2015-06-17 17:00:24.591000  My voice is my password   \n",
       "264  2015-05-27 15:33:30.834000  My voice is my password   \n",
       "265  2015-05-27 15:33:45.950000  My voice is my password   \n",
       "266  2015-05-27 15:33:59.647000  My voice is my password   \n",
       "...                         ...                      ...   \n",
       "828  2015-03-27 22:57:12.682000  My voice is my password   \n",
       "829  2015-03-27 22:57:14.960000  My voice is my password   \n",
       "830  2015-03-27 22:57:17.128000  My voice is my password   \n",
       "852  2015-04-03 04:29:49.721000  My voice is my password   \n",
       "853  2015-04-03 04:29:52.669000  My voice is my password   \n",
       "854  2015-04-03 04:29:55.462000  My voice is my password   \n",
       "882  2015-04-01 02:42:08.203940  My voice is my password   \n",
       "883  2015-04-01 02:42:08.226250  My voice is my password   \n",
       "884  2015-04-01 02:42:08.247000  My voice is my password   \n",
       "912  2015-04-01 16:16:16.565000  My voice is my password   \n",
       "913  2015-04-01 16:16:25.598000  My voice is my password   \n",
       "914  2015-04-01 16:16:37.282000  My voice is my password   \n",
       "942  2015-04-17 12:14:30.509000  My voice is my password   \n",
       "943  2015-04-17 12:14:37.093000  My voice is my password   \n",
       "944  2015-04-17 12:14:51.616000  My voice is my password   \n",
       "978  2015-04-29 02:41:00.953300  My voice is my password   \n",
       "979  2015-04-29 02:41:01.204400  My voice is my password   \n",
       "980  2015-04-29 02:41:01.271500  My voice is my password   \n",
       "1014 2015-04-21 12:35:24.373000  My voice is my password   \n",
       "1015 2015-04-21 12:35:40.894000  My voice is my password   \n",
       "1016 2015-04-21 12:35:54.403000  My voice is my password   \n",
       "1044 2015-04-22 20:29:05.411000  My voice is my password   \n",
       "1045 2015-04-22 20:29:10.590000  My voice is my password   \n",
       "1046 2015-05-06 21:09:35.358000  My voice is my password   \n",
       "1074 2015-04-20 11:17:21.913000  My voice is my password   \n",
       "1075 2015-04-20 21:09:08.527000  My voice is my password   \n",
       "1076 2015-04-20 21:09:13.285000  My voice is my password   \n",
       "1104 2015-04-27 14:50:54.969000  My voice is my password   \n",
       "1105 2015-04-27 14:51:48.758000  My voice is my password   \n",
       "1106 2015-04-27 14:57:08.138000  My voice is my password   \n",
       "\n",
       "                                                 phones  \n",
       "0     M AY1 _ V OY1 S _ IH1 Z _ M AY1 _ P AE1 S W ER2 D  \n",
       "1     M AY1 _ V OY1 S _ IH1 Z _ M AY1 _ P AE1 S W ER2 D  \n",
       "2     M AY1 _ V OY1 S _ IH1 Z _ M AY1 _ P AE1 S W ER2 D  \n",
       "30    M AY1 _ V OY1 S _ IH1 Z _ M AY1 _ P AE1 S W ER2 D  \n",
       "31    M AY1 _ V OY1 S _ IH1 Z _ M AY1 _ P AE1 S W ER2 D  \n",
       "32    M AY1 _ V OY1 S _ IH1 Z _ M AY1 _ P AE1 S W ER2 D  \n",
       "60    M AY1 _ V OY1 S _ IH1 Z _ M AY1 _ P AE1 S W ER2 D  \n",
       "61    M AY1 _ V OY1 S _ IH1 Z _ M AY1 _ P AE1 S W ER2 D  \n",
       "62    M AY1 _ V OY1 S _ IH1 Z _ M AY1 _ P AE1 S W ER2 D  \n",
       "90    M AY1 _ V OY1 S _ IH1 Z _ M AY1 _ P AE1 S W ER2 D  \n",
       "91    M AY1 _ V OY1 S _ IH1 Z _ M AY1 _ P AE1 S W ER2 D  \n",
       "92    M AY1 _ V OY1 S _ IH1 Z _ M AY1 _ P AE1 S W ER2 D  \n",
       "120   M AY1 _ V OY1 S _ IH1 Z _ M AY1 _ P AE1 S W ER2 D  \n",
       "121   M AY1 _ V OY1 S _ IH1 Z _ M AY1 _ P AE1 S W ER2 D  \n",
       "122   M AY1 _ V OY1 S _ IH1 Z _ M AY1 _ P AE1 S W ER2 D  \n",
       "144   M AY1 _ V OY1 S _ IH1 Z _ M AY1 _ P AE1 S W ER2 D  \n",
       "145   M AY1 _ V OY1 S _ IH1 Z _ M AY1 _ P AE1 S W ER2 D  \n",
       "146   M AY1 _ V OY1 S _ IH1 Z _ M AY1 _ P AE1 S W ER2 D  \n",
       "174   M AY1 _ V OY1 S _ IH1 Z _ M AY1 _ P AE1 S W ER2 D  \n",
       "175   M AY1 _ V OY1 S _ IH1 Z _ M AY1 _ P AE1 S W ER2 D  \n",
       "176   M AY1 _ V OY1 S _ IH1 Z _ M AY1 _ P AE1 S W ER2 D  \n",
       "204   M AY1 _ V OY1 S _ IH1 Z _ M AY1 _ P AE1 S W ER2 D  \n",
       "205   M AY1 _ V OY1 S _ IH1 Z _ M AY1 _ P AE1 S W ER2 D  \n",
       "206   M AY1 _ V OY1 S _ IH1 Z _ M AY1 _ P AE1 S W ER2 D  \n",
       "234   M AY1 _ V OY1 S _ IH1 Z _ M AY1 _ P AE1 S W ER2 D  \n",
       "235   M AY1 _ V OY1 S _ IH1 Z _ M AY1 _ P AE1 S W ER2 D  \n",
       "236   M AY1 _ V OY1 S _ IH1 Z _ M AY1 _ P AE1 S W ER2 D  \n",
       "264   M AY1 _ V OY1 S _ IH1 Z _ M AY1 _ P AE1 S W ER2 D  \n",
       "265   M AY1 _ V OY1 S _ IH1 Z _ M AY1 _ P AE1 S W ER2 D  \n",
       "266   M AY1 _ V OY1 S _ IH1 Z _ M AY1 _ P AE1 S W ER2 D  \n",
       "...                                                 ...  \n",
       "828   M AY1 _ V OY1 S _ IH1 Z _ M AY1 _ P AE1 S W ER2 D  \n",
       "829   M AY1 _ V OY1 S _ IH1 Z _ M AY1 _ P AE1 S W ER2 D  \n",
       "830   M AY1 _ V OY1 S _ IH1 Z _ M AY1 _ P AE1 S W ER2 D  \n",
       "852   M AY1 _ V OY1 S _ IH1 Z _ M AY1 _ P AE1 S W ER2 D  \n",
       "853   M AY1 _ V OY1 S _ IH1 Z _ M AY1 _ P AE1 S W ER2 D  \n",
       "854   M AY1 _ V OY1 S _ IH1 Z _ M AY1 _ P AE1 S W ER2 D  \n",
       "882   M AY1 _ V OY1 S _ IH1 Z _ M AY1 _ P AE1 S W ER2 D  \n",
       "883   M AY1 _ V OY1 S _ IH1 Z _ M AY1 _ P AE1 S W ER2 D  \n",
       "884   M AY1 _ V OY1 S _ IH1 Z _ M AY1 _ P AE1 S W ER2 D  \n",
       "912   M AY1 _ V OY1 S _ IH1 Z _ M AY1 _ P AE1 S W ER2 D  \n",
       "913   M AY1 _ V OY1 S _ IH1 Z _ M AY1 _ P AE1 S W ER2 D  \n",
       "914   M AY1 _ V OY1 S _ IH1 Z _ M AY1 _ P AE1 S W ER2 D  \n",
       "942   M AY1 _ V OY1 S _ IH1 Z _ M AY1 _ P AE1 S W ER2 D  \n",
       "943   M AY1 _ V OY1 S _ IH1 Z _ M AY1 _ P AE1 S W ER2 D  \n",
       "944   M AY1 _ V OY1 S _ IH1 Z _ M AY1 _ P AE1 S W ER2 D  \n",
       "978   M AY1 _ V OY1 S _ IH1 Z _ M AY1 _ P AE1 S W ER2 D  \n",
       "979   M AY1 _ V OY1 S _ IH1 Z _ M AY1 _ P AE1 S W ER2 D  \n",
       "980   M AY1 _ V OY1 S _ IH1 Z _ M AY1 _ P AE1 S W ER2 D  \n",
       "1014  M AY1 _ V OY1 S _ IH1 Z _ M AY1 _ P AE1 S W ER2 D  \n",
       "1015  M AY1 _ V OY1 S _ IH1 Z _ M AY1 _ P AE1 S W ER2 D  \n",
       "1016  M AY1 _ V OY1 S _ IH1 Z _ M AY1 _ P AE1 S W ER2 D  \n",
       "1044  M AY1 _ V OY1 S _ IH1 Z _ M AY1 _ P AE1 S W ER2 D  \n",
       "1045  M AY1 _ V OY1 S _ IH1 Z _ M AY1 _ P AE1 S W ER2 D  \n",
       "1046  M AY1 _ V OY1 S _ IH1 Z _ M AY1 _ P AE1 S W ER2 D  \n",
       "1074  M AY1 _ V OY1 S _ IH1 Z _ M AY1 _ P AE1 S W ER2 D  \n",
       "1075  M AY1 _ V OY1 S _ IH1 Z _ M AY1 _ P AE1 S W ER2 D  \n",
       "1076  M AY1 _ V OY1 S _ IH1 Z _ M AY1 _ P AE1 S W ER2 D  \n",
       "1104  M AY1 _ V OY1 S _ IH1 Z _ M AY1 _ P AE1 S W ER2 D  \n",
       "1105  M AY1 _ V OY1 S _ IH1 Z _ M AY1 _ P AE1 S W ER2 D  \n",
       "1106  M AY1 _ V OY1 S _ IH1 Z _ M AY1 _ P AE1 S W ER2 D  \n",
       "\n",
       "[114 rows x 7 columns]"
      ]
     },
     "execution_count": 32,
     "metadata": {},
     "output_type": "execute_result"
    }
   ],
   "source": [
    "example"
   ]
  },
  {
   "cell_type": "code",
   "execution_count": 21,
   "metadata": {},
   "outputs": [
    {
     "name": "stdout",
     "output_type": "stream",
     "text": [
      "4445 (1442782, 39)\n"
     ]
    }
   ],
   "source": [
    "untrialed_features = [all_mfcc[path] for path in untrialed_paths]\n",
    "untrialed_features_stack = np.vstack(untrialed_features)\n",
    "\n",
    "print(len(untrialed_features), untrialed_features_stack.shape)"
   ]
  },
  {
   "cell_type": "markdown",
   "metadata": {},
   "source": [
    "## Make 8 and 16 mixtures all sentence models"
   ]
  },
  {
   "cell_type": "code",
   "execution_count": 22,
   "metadata": {
    "scrolled": true
   },
   "outputs": [
    {
     "name": "stdout",
     "output_type": "stream",
     "text": [
      "Initialization 0\n",
      "  Iteration 0\n",
      "  Iteration 10\n",
      "  Iteration 20\n",
      "  Iteration 30\n",
      "Initialization converged: True\n"
     ]
    },
    {
     "data": {
      "text/plain": [
       "GaussianMixture(covariance_type='diag', init_params='kmeans', max_iter=10000,\n",
       "        means_init=None, n_components=8, n_init=1, precisions_init=None,\n",
       "        random_state=13, reg_covar=1e-06, tol=0.001, verbose=1,\n",
       "        verbose_interval=10, warm_start=False, weights_init=None)"
      ]
     },
     "execution_count": 22,
     "metadata": {},
     "output_type": "execute_result"
    }
   ],
   "source": [
    "# bg_model = mixture.GaussianMixture(\n",
    "#     n_components=8, max_iter=10000, covariance_type='diag', \n",
    "#     random_state=13, verbose=1\n",
    "# )\n",
    "# bg_model.fit(untrialed_features_stack)"
   ]
  },
  {
   "cell_type": "code",
   "execution_count": 23,
   "metadata": {
    "scrolled": true
   },
   "outputs": [
    {
     "name": "stdout",
     "output_type": "stream",
     "text": [
      "Initialization 0\n",
      "  Iteration 0\n",
      "  Iteration 10\n",
      "  Iteration 20\n",
      "  Iteration 30\n",
      "  Iteration 40\n",
      "  Iteration 50\n",
      "  Iteration 60\n",
      "Initialization converged: True\n"
     ]
    },
    {
     "data": {
      "text/plain": [
       "GaussianMixture(covariance_type='diag', init_params='kmeans', max_iter=10000,\n",
       "        means_init=None, n_components=16, n_init=1, precisions_init=None,\n",
       "        random_state=13, reg_covar=1e-06, tol=0.001, verbose=1,\n",
       "        verbose_interval=10, warm_start=False, weights_init=None)"
      ]
     },
     "execution_count": 23,
     "metadata": {},
     "output_type": "execute_result"
    }
   ],
   "source": [
    "# silence_model = mixture.GaussianMixture(\n",
    "#     n_components=16, max_iter=10000, covariance_type='diag', \n",
    "#     random_state=13, verbose=1\n",
    "# )\n",
    "# silence_model.fit(untrialed_features_stack)"
   ]
  },
  {
   "cell_type": "code",
   "execution_count": 24,
   "metadata": {},
   "outputs": [],
   "source": [
    "# write_model(root + '/models/hmm/bg_model.pickle', bg_model)\n",
    "# write_model(root + '/models/hmm/silence_model.pickle', silence_model)"
   ]
  },
  {
   "cell_type": "code",
   "execution_count": 21,
   "metadata": {},
   "outputs": [],
   "source": [
    "bg_model = read_model(root + '/models/hmm/bg_model.pickle')\n",
    "silence_model = read_model(root + '/models/hmm/silence_model.pickle')"
   ]
  },
  {
   "cell_type": "markdown",
   "metadata": {},
   "source": [
    "## Clean sentences, build triples"
   ]
  },
  {
   "cell_type": "code",
   "execution_count": 30,
   "metadata": {},
   "outputs": [],
   "source": [
    "def wrap_with_silence(phones):\n",
    "    return ['_'] + phones + ['_']\n",
    "\n",
    "def remove_stress_combinations(phones):\n",
    "    def remove_single_phone(phone):\n",
    "        if phone[-1].isdigit():\n",
    "            return phone[:-1]\n",
    "        else:\n",
    "            return phone\n",
    "        \n",
    "    return [remove_single_phone(phone) for phone in phones]\n",
    "\n",
    "clean_phones = lambda phones: wrap_with_silence(remove_stress_combinations(phones))"
   ]
  },
  {
   "cell_type": "code",
   "execution_count": 26,
   "metadata": {},
   "outputs": [],
   "source": [
    "UNIQUE_PHONES = [\n",
    "    'AA', 'AE', 'AH', 'AO', 'AW', 'AY', 'B', 'CH', 'D', 'DH', \n",
    "    'EH', 'ER', 'EY', 'F', 'G', 'HH', 'IH', 'IY', 'JH', 'K', \n",
    "    'L', 'M', 'N', 'NG', 'OW', 'OY', 'P', 'R', 'S', 'SH', 'T', \n",
    "    'TH', 'UH', 'UW', 'V', 'W', 'Y', 'Z', 'ZH'\n",
    "]"
   ]
  },
  {
   "cell_type": "code",
   "execution_count": 29,
   "metadata": {},
   "outputs": [],
   "source": [
    "def load_ubm_copy():\n",
    "    return read_model(root + '/models/hmm/bg_model.pickle')\n",
    "\n",
    "def make_phone_triple():\n",
    "    return tuple(load_ubm_copy() for _ in range(3))\n",
    "\n",
    "phone_triples = {\n",
    "    phone: make_phone_triple() for phone in UNIQUE_PHONES\n",
    "}"
   ]
  },
  {
   "cell_type": "code",
   "execution_count": null,
   "metadata": {},
   "outputs": [],
   "source": [
    "def most_likely_hidden_viterbi(hidden_weights, visible_weights, initial_hidden, observations):\n",
    "    joint_probs = np.zeros((observations.size, initial_hidden.size), dtype=np.float64)\n",
    "    max_probs_ix = np.zeros((observations.size - 1, initial_hidden.size), dtype=np.int32)\n",
    "    \n",
    "    for i, observation in enumerate(observations):\n",
    "        if i == 0:\n",
    "            joint_probs[0] = initial_hidden * visible_weights[:, observation]    \n",
    "        else:\n",
    "            next_state_probs = joint_probs[i - 1, np.newaxis] * hidden_weights\n",
    "            next_state_argmax = next_state_probs.argmax(axis=1)\n",
    "            next_state_max = next_state_probs.max(axis=1)\n",
    "            \n",
    "            joint_probs[i] = next_state_max * visible_weights[:, observation]\n",
    "            max_probs_ix[i - 1] = next_state_argmax\n",
    "    \n",
    "    most_likely_path = np.zeros(observations.size, dtype=np.int32)\n",
    "    most_likely_path[-1] = joint_probs[-1].argmax()\n",
    "    for i in range(observations.size - 1, 0, -1):\n",
    "        most_likely_path[i - 1] = max_probs_ix[i - 1, most_likely_path[i]]\n",
    "    \n",
    "    return most_likely_path, joint_probs, max_probs_ix"
   ]
  },
  {
   "cell_type": "code",
   "execution_count": null,
   "metadata": {},
   "outputs": [],
   "source": [
    "def viterbi(hidden_weights, visible_weights, initial_hidden, features):\n",
    "    joint_probs = np.zeros((observations.size, initial_hidden.size), dtype=np.float64)\n",
    "    max_probs_ix = np.zeros((observations.size - 1, initial_hidden.size), dtype=np.int32)\n",
    "    \n",
    "    for i, observation in enumerate(observations):\n",
    "        if i == 0:\n",
    "            joint_probs[0] = initial_hidden * visible_weights[:, observation]    \n",
    "        else:\n",
    "            next_state_probs = joint_probs[i - 1, np.newaxis] * hidden_weights\n",
    "            next_state_argmax = next_state_probs.argmax(axis=1)\n",
    "            next_state_max = next_state_probs.max(axis=1)\n",
    "            \n",
    "            joint_probs[i] = next_state_max * visible_weights[:, observation]\n",
    "            max_probs_ix[i - 1] = next_state_argmax\n",
    "    \n",
    "    most_likely_path = np.zeros(observations.size, dtype=np.int32)\n",
    "    most_likely_path[-1] = joint_probs[-1].argmax()\n",
    "    for i in range(observations.size - 1, 0, -1):\n",
    "        most_likely_path[i - 1] = max_probs_ix[i - 1, most_likely_path[i]]\n",
    "    \n",
    "    return most_likely_path, joint_probs, max_probs_ix\n",
    "\n",
    "def align_frames(phone_triples, silence_model, features, phones):\n",
    "    frame_n, _ = features.shape\n",
    "    phone_n = len(phones)\n",
    "    frame_mean_width = frame_n / phone_n\n",
    "    \n",
    "    \n",
    "# align_frames(phone_triples, silence_model)"
   ]
  },
  {
   "cell_type": "code",
   "execution_count": 27,
   "metadata": {},
   "outputs": [],
   "source": [
    "def make_sentence_hmm(phones_cell, phone_triples, silence_model):\n",
    "    phones = phones_cell.split(' ')\n",
    "    cleaned_phones = clean_phones(phones)\n",
    "    hmm = pg.HiddenMarkovModel('-'.join(cleaned_phones))\n",
    "    \n",
    "    states = []\n",
    "    for i, phone in enumerate(cleaned_phones):\n",
    "        if phone == '_':\n",
    "            phone_state = pg.State(silence_model.copy(), name='{}-SILENCE'.format(i))\n",
    "            states.append(phone_state)\n",
    "        else:\n",
    "            phone_triple = phone_triples[phone]\n",
    "            phone_states = (\n",
    "                pg.State(phone_triple[0], name='{:02}a-{}'.format(i, phone)),\n",
    "                pg.State(phone_triple[1], name='{:02}b-{}'.format(i, phone)),\n",
    "                pg.State(phone_triple[2], name='{:02}c-{}'.format(i, phone))\n",
    "            )\n",
    "            states.extend(phone_states)\n",
    "    hmm.add_states(states)\n",
    "    \n",
    "    hmm.add_transition(hmm.start, states[0], 1.0)\n",
    "    for state in states:\n",
    "        hmm.add_transition(state, state, 0.9)\n",
    "    for prev, then in zip(states, states[1:]):\n",
    "        hmm.add_transition(prev, then, 0.1)\n",
    "    hmm.add_transition(states[-1], hmm.end, 0.1)\n",
    "    hmm.bake()\n",
    "    \n",
    "    return hmm\n",
    "\n",
    "# make_sentence_hmm(\n",
    "#     script[script.sentence_id == 31].phones.iloc[0], \n",
    "#     phone_distribution_triples, silence_model\n",
    "# );"
   ]
  },
  {
   "cell_type": "code",
   "execution_count": 29,
   "metadata": {},
   "outputs": [
    {
     "name": "stdout",
     "output_type": "stream",
     "text": [
      "811 769\n"
     ]
    }
   ],
   "source": [
    "recording_regex = re.compile(r'([mf])(\\d+)/(\\d+)_[mf]\\d+_(\\d+)')\n",
    "def parse_recording(value):\n",
    "    match = recording_regex.match(value)\n",
    "    if match:\n",
    "        return match.groups()\n",
    "\n",
    "unique_sentence_ids = np.sort(np.unique([int(parse_recording(path)[3]) for path in untrialed_paths]))\n",
    "unique_sentence_ids_scripted = [sentence_id for sentence_id in unique_sentence_ids\n",
    "                                if (script.sentence_id == sentence_id).any()\n",
    "                                if isinstance(script[script.sentence_id == sentence_id].phones.iloc[0], str)]\n",
    "print(len(unique_sentence_ids), len(unique_sentence_ids_scripted))"
   ]
  },
  {
   "cell_type": "code",
   "execution_count": 30,
   "metadata": {},
   "outputs": [],
   "source": [
    "sentence_hmms = {\n",
    "    sentence_id: make_sentence_hmm(\n",
    "        script[script.sentence_id == sentence_id].phones.iloc[0], phone_distribution_triples, silence_model\n",
    "    ) for sentence_id in unique_sentence_ids_scripted\n",
    "}"
   ]
  },
  {
   "cell_type": "code",
   "execution_count": 31,
   "metadata": {},
   "outputs": [
    {
     "name": "stdout",
     "output_type": "stream",
     "text": [
      "769\n"
     ]
    }
   ],
   "source": [
    "print(len(sentence_hmms))"
   ]
  },
  {
   "cell_type": "code",
   "execution_count": 32,
   "metadata": {},
   "outputs": [],
   "source": [
    "sentence_sequencess = {\n",
    "    sentence_id: [all_mfcc[path] for path in untrialed_paths \n",
    "                                 if int(parse_recording(path)[3]) == sentence_id\n",
    "                                 if all_mfcc[path].shape[0] >= len(script[script.sentence_id == sentence_id].phones.iloc[0].split(' ') * 3)]\n",
    "    for sentence_id in unique_sentence_ids_scripted\n",
    "}"
   ]
  },
  {
   "cell_type": "markdown",
   "metadata": {},
   "source": [
    "## Train HMMs"
   ]
  },
  {
   "cell_type": "code",
   "execution_count": 33,
   "metadata": {},
   "outputs": [],
   "source": [
    "def update_triples(phone_triples):\n",
    "    empty = 0\n",
    "    lost = 0\n",
    "    for phone_triple in phone_triples.values():\n",
    "        for gmm in phone_triple:\n",
    "            if gmm.summaries.sum() == 0:\n",
    "                empty += 1\n",
    "                continue\n",
    "            try:\n",
    "                gmm.from_summaries()\n",
    "            except Exception:\n",
    "                gmm.clear_summaries()\n",
    "                lost += 1\n",
    "    return empty, lost\n",
    "\n",
    "def train_epoch(sentence_sequencess, unique_sentence_ids, sentence_hmms, phone_triples):\n",
    "    logps = []\n",
    "    \n",
    "    for sentence_id in unique_sentence_ids:\n",
    "        print(sentence_id, end=' ')\n",
    "        \n",
    "        sentence_hmm = sentence_hmms[sentence_id]\n",
    "        sentence_sequences = sentence_sequencess[sentence_id]\n",
    "        weights = np.ones(len(sentence_sequences))\n",
    "        \n",
    "        logp = sentence_hmm.summarize(sequences=sentence_sequences, weights=weights, check_input=False)\n",
    "                                      # algorithm='viterbi', \n",
    "        logps.append(logp)\n",
    "    \n",
    "    update_triples(phone_triples)\n",
    "            \n",
    "    return logps"
   ]
  },
  {
   "cell_type": "code",
   "execution_count": 34,
   "metadata": {},
   "outputs": [
    {
     "ename": "FileNotFoundError",
     "evalue": "[Errno 2] No such file or directory: '../input/reddots_r2015q4_v1/models/triples-init/AW-a'",
     "output_type": "error",
     "traceback": [
      "\u001b[0;31m---------------------------------------------------------------------------\u001b[0m",
      "\u001b[0;31mFileNotFoundError\u001b[0m                         Traceback (most recent call last)",
      "\u001b[0;32m<ipython-input-34-e6ca217e1dd5>\u001b[0m in \u001b[0;36m<module>\u001b[0;34m()\u001b[0m\n\u001b[0;32m----> 1\u001b[0;31m \u001b[0mwrite_triples\u001b[0m\u001b[0;34m(\u001b[0m\u001b[0mroot\u001b[0m \u001b[0;34m+\u001b[0m \u001b[0;34m'/models/triples-init'\u001b[0m\u001b[0;34m,\u001b[0m \u001b[0mphone_distribution_triples\u001b[0m\u001b[0;34m)\u001b[0m\u001b[0;34m\u001b[0m\u001b[0m\n\u001b[0m",
      "\u001b[0;32m<ipython-input-18-0a590023c4e2>\u001b[0m in \u001b[0;36mwrite_triples\u001b[0;34m(path, triples)\u001b[0m\n\u001b[1;32m     43\u001b[0m         \u001b[0;32mfor\u001b[0m \u001b[0mi\u001b[0m\u001b[0;34m,\u001b[0m \u001b[0mmodel\u001b[0m \u001b[0;32min\u001b[0m \u001b[0menumerate\u001b[0m\u001b[0;34m(\u001b[0m\u001b[0mtriple\u001b[0m\u001b[0;34m)\u001b[0m\u001b[0;34m:\u001b[0m\u001b[0;34m\u001b[0m\u001b[0m\n\u001b[1;32m     44\u001b[0m             \u001b[0mc\u001b[0m \u001b[0;34m=\u001b[0m \u001b[0mchr\u001b[0m\u001b[0;34m(\u001b[0m\u001b[0mord\u001b[0m\u001b[0;34m(\u001b[0m\u001b[0;34m'a'\u001b[0m\u001b[0;34m)\u001b[0m \u001b[0;34m+\u001b[0m \u001b[0mi\u001b[0m\u001b[0;34m)\u001b[0m\u001b[0;34m\u001b[0m\u001b[0m\n\u001b[0;32m---> 45\u001b[0;31m             \u001b[0mwrite_model\u001b[0m\u001b[0;34m(\u001b[0m\u001b[0mpath\u001b[0m \u001b[0;34m+\u001b[0m \u001b[0;34m'/{}-{}'\u001b[0m\u001b[0;34m.\u001b[0m\u001b[0mformat\u001b[0m\u001b[0;34m(\u001b[0m\u001b[0mphone\u001b[0m\u001b[0;34m,\u001b[0m \u001b[0mc\u001b[0m\u001b[0;34m)\u001b[0m\u001b[0;34m,\u001b[0m \u001b[0mmodel\u001b[0m\u001b[0;34m)\u001b[0m\u001b[0;34m\u001b[0m\u001b[0m\n\u001b[0m\u001b[1;32m     46\u001b[0m \u001b[0;34m\u001b[0m\u001b[0m\n\u001b[1;32m     47\u001b[0m \u001b[0;32mdef\u001b[0m \u001b[0mread_triples\u001b[0m\u001b[0;34m(\u001b[0m\u001b[0mpath\u001b[0m\u001b[0;34m,\u001b[0m \u001b[0mphones\u001b[0m\u001b[0;34m)\u001b[0m\u001b[0;34m:\u001b[0m\u001b[0;34m\u001b[0m\u001b[0m\n",
      "\u001b[0;32m<ipython-input-18-0a590023c4e2>\u001b[0m in \u001b[0;36mwrite_model\u001b[0;34m(path, model)\u001b[0m\n\u001b[1;32m     12\u001b[0m \u001b[0;34m\u001b[0m\u001b[0m\n\u001b[1;32m     13\u001b[0m \u001b[0;32mdef\u001b[0m \u001b[0mwrite_model\u001b[0m\u001b[0;34m(\u001b[0m\u001b[0mpath\u001b[0m\u001b[0;34m,\u001b[0m \u001b[0mmodel\u001b[0m\u001b[0;34m)\u001b[0m\u001b[0;34m:\u001b[0m\u001b[0;34m\u001b[0m\u001b[0m\n\u001b[0;32m---> 14\u001b[0;31m     \u001b[0;32mwith\u001b[0m \u001b[0mopen\u001b[0m\u001b[0;34m(\u001b[0m\u001b[0mpath\u001b[0m\u001b[0;34m,\u001b[0m \u001b[0;34m'w'\u001b[0m\u001b[0;34m)\u001b[0m \u001b[0;32mas\u001b[0m \u001b[0mopened\u001b[0m\u001b[0;34m:\u001b[0m\u001b[0;34m\u001b[0m\u001b[0m\n\u001b[0m\u001b[1;32m     15\u001b[0m         \u001b[0mopened\u001b[0m\u001b[0;34m.\u001b[0m\u001b[0mwrite\u001b[0m\u001b[0;34m(\u001b[0m\u001b[0mmodel\u001b[0m\u001b[0;34m.\u001b[0m\u001b[0mto_json\u001b[0m\u001b[0;34m(\u001b[0m\u001b[0;34m)\u001b[0m\u001b[0;34m)\u001b[0m\u001b[0;34m\u001b[0m\u001b[0m\n\u001b[1;32m     16\u001b[0m \u001b[0;34m\u001b[0m\u001b[0m\n",
      "\u001b[0;31mFileNotFoundError\u001b[0m: [Errno 2] No such file or directory: '../input/reddots_r2015q4_v1/models/triples-init/AW-a'"
     ]
    }
   ],
   "source": [
    "write_triples(root + '/models/triples-init', phone_distribution_triples)"
   ]
  },
  {
   "cell_type": "code",
   "execution_count": null,
   "metadata": {},
   "outputs": [],
   "source": [
    "enrollments_4_td.phones[~enrollments_4_td.phones.isna()].apply(lambda row: len(row.split(' '))).describe()"
   ]
  },
  {
   "cell_type": "code",
   "execution_count": null,
   "metadata": {
    "scrolled": true
   },
   "outputs": [],
   "source": [
    "for i in range(10):\n",
    "    for j in range(10):\n",
    "        logps = train_epoch(sentence_sequencess, unique_sentence_ids_scripted, \n",
    "                            sentence_hmms, phone_distribution_triples)\n",
    "        print('{}-{} logps'.format(i, j), sum(logps))\n",
    "    path = root + '/models/triples-{}'.format(i)\n",
    "    os.mkdir(path)\n",
    "    write_triples(path, phone_distribution_triples)"
   ]
  },
  {
   "cell_type": "code",
   "execution_count": 160,
   "metadata": {},
   "outputs": [
    {
     "data": {
      "text/plain": [
       "(0, 0)"
      ]
     },
     "execution_count": 160,
     "metadata": {},
     "output_type": "execute_result"
    }
   ],
   "source": [
    "update_triples(phone_distribution_triples)"
   ]
  },
  {
   "cell_type": "code",
   "execution_count": 243,
   "metadata": {
    "scrolled": true
   },
   "outputs": [],
   "source": [
    "write_triples(root + '/models/triples', phone_distribution_triples)"
   ]
  },
  {
   "cell_type": "code",
   "execution_count": 21,
   "metadata": {},
   "outputs": [
    {
     "ename": "OSError",
     "evalue": "Cannot read model AW-a",
     "output_type": "error",
     "traceback": [
      "\u001b[0;31m---------------------------------------------------------------------------\u001b[0m",
      "\u001b[0;31mLinAlgError\u001b[0m                               Traceback (most recent call last)",
      "\u001b[0;32m<ipython-input-11-0a590023c4e2>\u001b[0m in \u001b[0;36mread_gmm\u001b[0;34m(path)\u001b[0m\n\u001b[1;32m     31\u001b[0m             \u001b[0;32mtry\u001b[0m\u001b[0;34m:\u001b[0m\u001b[0;34m\u001b[0m\u001b[0m\n\u001b[0;32m---> 32\u001b[0;31m                 \u001b[0mdistribution\u001b[0m \u001b[0;34m=\u001b[0m \u001b[0mpg\u001b[0m\u001b[0;34m.\u001b[0m\u001b[0mMultivariateGaussianDistribution\u001b[0m\u001b[0;34m(\u001b[0m\u001b[0;34m*\u001b[0m\u001b[0mdistribution\u001b[0m\u001b[0;34m[\u001b[0m\u001b[0;34m'parameters'\u001b[0m\u001b[0;34m]\u001b[0m\u001b[0;34m)\u001b[0m\u001b[0;34m\u001b[0m\u001b[0m\n\u001b[0m\u001b[1;32m     33\u001b[0m                 \u001b[0mdistributions\u001b[0m\u001b[0;34m.\u001b[0m\u001b[0mappend\u001b[0m\u001b[0;34m(\u001b[0m\u001b[0mdistribution\u001b[0m\u001b[0;34m)\u001b[0m\u001b[0;34m\u001b[0m\u001b[0m\n",
      "\u001b[0;32mpomegranate/distributions.pyx\u001b[0m in \u001b[0;36mpomegranate.distributions.MultivariateGaussianDistribution.__cinit__\u001b[0;34m()\u001b[0m\n",
      "\u001b[0;32m/usr/local/lib/python3.5/dist-packages/scipy/linalg/decomp_cholesky.py\u001b[0m in \u001b[0;36mcholesky\u001b[0;34m(a, lower, overwrite_a, check_finite)\u001b[0m\n\u001b[1;32m     80\u001b[0m     c, lower = _cholesky(a, lower=lower, overwrite_a=overwrite_a, clean=True,\n\u001b[0;32m---> 81\u001b[0;31m                             check_finite=check_finite)\n\u001b[0m\u001b[1;32m     82\u001b[0m     \u001b[0;32mreturn\u001b[0m \u001b[0mc\u001b[0m\u001b[0;34m\u001b[0m\u001b[0m\n",
      "\u001b[0;32m/usr/local/lib/python3.5/dist-packages/scipy/linalg/decomp_cholesky.py\u001b[0m in \u001b[0;36m_cholesky\u001b[0;34m(a, lower, overwrite_a, clean, check_finite)\u001b[0m\n\u001b[1;32m     29\u001b[0m     \u001b[0;32mif\u001b[0m \u001b[0minfo\u001b[0m \u001b[0;34m>\u001b[0m \u001b[0;36m0\u001b[0m\u001b[0;34m:\u001b[0m\u001b[0;34m\u001b[0m\u001b[0m\n\u001b[0;32m---> 30\u001b[0;31m         \u001b[0;32mraise\u001b[0m \u001b[0mLinAlgError\u001b[0m\u001b[0;34m(\u001b[0m\u001b[0;34m\"%d-th leading minor not positive definite\"\u001b[0m \u001b[0;34m%\u001b[0m \u001b[0minfo\u001b[0m\u001b[0;34m)\u001b[0m\u001b[0;34m\u001b[0m\u001b[0m\n\u001b[0m\u001b[1;32m     31\u001b[0m     \u001b[0;32mif\u001b[0m \u001b[0minfo\u001b[0m \u001b[0;34m<\u001b[0m \u001b[0;36m0\u001b[0m\u001b[0;34m:\u001b[0m\u001b[0;34m\u001b[0m\u001b[0m\n",
      "\u001b[0;31mLinAlgError\u001b[0m: 22-th leading minor not positive definite",
      "\nThe above exception was the direct cause of the following exception:\n",
      "\u001b[0;31mOSError\u001b[0m                                   Traceback (most recent call last)",
      "\u001b[0;32m<ipython-input-11-0a590023c4e2>\u001b[0m in \u001b[0;36mread_triples\u001b[0;34m(path, phones)\u001b[0m\n\u001b[1;32m     52\u001b[0m             \u001b[0;32mtry\u001b[0m\u001b[0;34m:\u001b[0m\u001b[0;34m\u001b[0m\u001b[0m\n\u001b[0;32m---> 53\u001b[0;31m                 \u001b[0mmodel\u001b[0m \u001b[0;34m=\u001b[0m \u001b[0mread_gmm\u001b[0m\u001b[0;34m(\u001b[0m\u001b[0mpath\u001b[0m \u001b[0;34m+\u001b[0m \u001b[0;34m'/{}-{}'\u001b[0m\u001b[0;34m.\u001b[0m\u001b[0mformat\u001b[0m\u001b[0;34m(\u001b[0m\u001b[0mphone\u001b[0m\u001b[0;34m,\u001b[0m \u001b[0mc\u001b[0m\u001b[0;34m)\u001b[0m\u001b[0;34m)\u001b[0m\u001b[0;34m\u001b[0m\u001b[0m\n\u001b[0m\u001b[1;32m     54\u001b[0m                 \u001b[0mtriple\u001b[0m\u001b[0;34m.\u001b[0m\u001b[0mappend\u001b[0m\u001b[0;34m(\u001b[0m\u001b[0mmodel\u001b[0m\u001b[0;34m)\u001b[0m\u001b[0;34m\u001b[0m\u001b[0m\n",
      "\u001b[0;32m<ipython-input-11-0a590023c4e2>\u001b[0m in \u001b[0;36mread_gmm\u001b[0;34m(path)\u001b[0m\n\u001b[1;32m     34\u001b[0m             \u001b[0;32mexcept\u001b[0m \u001b[0mException\u001b[0m \u001b[0;32mas\u001b[0m \u001b[0mexception\u001b[0m\u001b[0;34m:\u001b[0m\u001b[0;34m\u001b[0m\u001b[0m\n\u001b[0;32m---> 35\u001b[0;31m                 \u001b[0;32mraise\u001b[0m \u001b[0mIOError\u001b[0m\u001b[0;34m(\u001b[0m\u001b[0;34m'Cannot read mixture at {}'\u001b[0m\u001b[0;34m.\u001b[0m\u001b[0mformat\u001b[0m\u001b[0;34m(\u001b[0m\u001b[0mi\u001b[0m\u001b[0;34m)\u001b[0m\u001b[0;34m)\u001b[0m \u001b[0;32mfrom\u001b[0m \u001b[0mexception\u001b[0m\u001b[0;34m\u001b[0m\u001b[0m\n\u001b[0m\u001b[1;32m     36\u001b[0m \u001b[0;34m\u001b[0m\u001b[0m\n",
      "\u001b[0;31mOSError\u001b[0m: Cannot read mixture at 5",
      "\nThe above exception was the direct cause of the following exception:\n",
      "\u001b[0;31mOSError\u001b[0m                                   Traceback (most recent call last)",
      "\u001b[0;32m<ipython-input-21-b50bdbd93ba1>\u001b[0m in \u001b[0;36m<module>\u001b[0;34m()\u001b[0m\n\u001b[0;32m----> 1\u001b[0;31m \u001b[0mphone_distribution_triples\u001b[0m \u001b[0;34m=\u001b[0m \u001b[0mread_triples\u001b[0m\u001b[0;34m(\u001b[0m\u001b[0mroot\u001b[0m \u001b[0;34m+\u001b[0m \u001b[0;34m'/models/triples-1'\u001b[0m\u001b[0;34m,\u001b[0m \u001b[0mUNIQUE_PHONES\u001b[0m\u001b[0;34m)\u001b[0m\u001b[0;34m\u001b[0m\u001b[0m\n\u001b[0m",
      "\u001b[0;32m<ipython-input-11-0a590023c4e2>\u001b[0m in \u001b[0;36mread_triples\u001b[0;34m(path, phones)\u001b[0m\n\u001b[1;32m     54\u001b[0m                 \u001b[0mtriple\u001b[0m\u001b[0;34m.\u001b[0m\u001b[0mappend\u001b[0m\u001b[0;34m(\u001b[0m\u001b[0mmodel\u001b[0m\u001b[0;34m)\u001b[0m\u001b[0;34m\u001b[0m\u001b[0m\n\u001b[1;32m     55\u001b[0m             \u001b[0;32mexcept\u001b[0m \u001b[0mException\u001b[0m \u001b[0;32mas\u001b[0m \u001b[0mexception\u001b[0m\u001b[0;34m:\u001b[0m\u001b[0;34m\u001b[0m\u001b[0m\n\u001b[0;32m---> 56\u001b[0;31m                 \u001b[0;32mraise\u001b[0m \u001b[0mIOError\u001b[0m\u001b[0;34m(\u001b[0m\u001b[0;34m'Cannot read model {}-{}'\u001b[0m\u001b[0;34m.\u001b[0m\u001b[0mformat\u001b[0m\u001b[0;34m(\u001b[0m\u001b[0mphone\u001b[0m\u001b[0;34m,\u001b[0m \u001b[0mc\u001b[0m\u001b[0;34m)\u001b[0m\u001b[0;34m)\u001b[0m \u001b[0;32mfrom\u001b[0m \u001b[0mexception\u001b[0m\u001b[0;34m\u001b[0m\u001b[0m\n\u001b[0m\u001b[1;32m     57\u001b[0m         \u001b[0mtriples\u001b[0m\u001b[0;34m[\u001b[0m\u001b[0mphone\u001b[0m\u001b[0;34m]\u001b[0m \u001b[0;34m=\u001b[0m \u001b[0mtuple\u001b[0m\u001b[0;34m(\u001b[0m\u001b[0mtriple\u001b[0m\u001b[0;34m)\u001b[0m\u001b[0;34m\u001b[0m\u001b[0m\n\u001b[1;32m     58\u001b[0m     \u001b[0;32mreturn\u001b[0m \u001b[0mtriples\u001b[0m\u001b[0;34m\u001b[0m\u001b[0m\n",
      "\u001b[0;31mOSError\u001b[0m: Cannot read model AW-a"
     ]
    }
   ],
   "source": [
    "phone_distribution_triples = read_triples(root + '/models/triples-1', UNIQUE_PHONES)"
   ]
  },
  {
   "cell_type": "code",
   "execution_count": 105,
   "metadata": {
    "scrolled": false
   },
   "outputs": [
    {
     "name": "stdout",
     "output_type": "stream",
     "text": [
      "[  1.41467275e+01  -7.35344053e+00  -5.56301231e+00  -4.84370700e+00\n",
      "  -3.26590152e+00  -4.67713110e+00  -2.93247692e+00  -6.21254481e+00\n",
      "  -4.60166262e+00  -4.32767984e+00  -1.62883341e+00  -2.50476327e+00\n",
      "  -8.24130769e+00   4.71618683e-01   4.57870227e-01  -1.32589895e+00\n",
      "  -9.23610116e-01  -9.11397488e-01  -4.48633292e-02   6.83980317e-01\n",
      "  -3.91819699e-01  -9.57840195e-02  -5.51740595e-01  -4.66018632e-01\n",
      "  -3.27380013e-01   2.68423365e-03   6.40123001e-03   1.34323619e-01\n",
      "   6.15838646e-03  -4.11852850e-02   7.89280213e-02  -2.26739330e-02\n",
      "   5.75374672e-02   6.40953838e-03  -3.25918412e-02   1.42842274e-01\n",
      "  -1.47236299e-01  -6.17011349e-02  -1.74521876e-02]\n",
      "[  1.43344790e+01   1.12123728e-01  -4.61673784e+00  -4.37537285e+00\n",
      "  -3.35688364e+00  -5.19159258e+00  -2.46247097e+00  -5.27950688e+00\n",
      "  -6.93267329e+00   8.92074965e-01  -1.50063469e+00  -3.92398961e+00\n",
      "  -1.10409868e+01   2.92374934e-01   1.52636161e+00  -1.38141933e+00\n",
      "  -6.50400994e-01  -7.84072233e-01   1.30328483e-01   6.29186205e-01\n",
      "   7.65916335e-02  -4.60719128e-01   4.12499647e-01  -4.94654228e-01\n",
      "  -9.56262930e-02  -4.51906954e-01  -1.23567798e-02  -1.96568273e-01\n",
      "   5.24525157e-02  -1.08848495e-02  -3.62191705e-02   7.71641044e-02\n",
      "  -3.68863618e-02   3.47594588e-02   1.61490967e-01   2.87846345e-02\n",
      "  -4.92060790e-02  -2.29968007e-03   7.21848124e-02]\n",
      "12-AY-mid\n"
     ]
    }
   ],
   "source": [
    "print(example_sentence_hmm.states[3].distribution.distributions[0].mu)\n",
    "print(example_sentence_hmm.states[10].distribution.distributions[0].mu)\n",
    "print(example_sentence_hmm.states[10].name)"
   ]
  },
  {
   "cell_type": "code",
   "execution_count": 71,
   "metadata": {},
   "outputs": [
    {
     "name": "stdout",
     "output_type": "stream",
     "text": [
      "0\n",
      "_-M-AY-_-V-OY-S-_-IH-Z-_-M-AY-_-P-AE-S-W-ER-D-_-start\t0-SILENCE\t0-SILENCE\t0-SILENCE\t0-SILENCE\t0-SILENCE\t0-SILENCE\t0-SILENCE\t0-SILENCE\t0-SILENCE\t0-SILENCE\t0-SILENCE\t0-SILENCE\t0-SILENCE\t0-SILENCE\t0-SILENCE\t0-SILENCE\t0-SILENCE\t0-SILENCE\t0-SILENCE\t0-SILENCE\t0-SILENCE\t0-SILENCE\t0-SILENCE\t0-SILENCE\t0-SILENCE\t0-SILENCE\t0-SILENCE\t0-SILENCE\t0-SILENCE\t0-SILENCE\t0-SILENCE\t0-SILENCE\t0-SILENCE\t0-SILENCE\t0-SILENCE\t0-SILENCE\t0-SILENCE\t0-SILENCE\t0-SILENCE\t0-SILENCE\t0-SILENCE\t0-SILENCE\t0-SILENCE\t0-SILENCE\t0-SILENCE\t0-SILENCE\t0-SILENCE\t0-SILENCE\t0-SILENCE\t0-SILENCE\t0-SILENCE\t0-SILENCE\t0-SILENCE\t0-SILENCE\t0-SILENCE\t0-SILENCE\t0-SILENCE\t0-SILENCE\t1-M-beg\t1-M-mid\t1-M-end\t2-AY-beg\t2-AY-mid\t2-AY-end\t3-SILENCE\t3-SILENCE\t3-SILENCE\t3-SILENCE\t3-SILENCE\t3-SILENCE\t3-SILENCE\t3-SILENCE\t3-SILENCE\t3-SILENCE\t3-SILENCE\t3-SILENCE\t3-SILENCE\t3-SILENCE\t3-SILENCE\t3-SILENCE\t3-SILENCE\t3-SILENCE\t3-SILENCE\t3-SILENCE\t3-SILENCE\t3-SILENCE\t3-SILENCE\t3-SILENCE\t3-SILENCE\t3-SILENCE\t3-SILENCE\t3-SILENCE\t3-SILENCE\t3-SILENCE\t3-SILENCE\t3-SILENCE\t3-SILENCE\t3-SILENCE\t3-SILENCE\t3-SILENCE\t3-SILENCE\t3-SILENCE\t3-SILENCE\t3-SILENCE\t4-V-beg\t4-V-mid\t4-V-end\t5-OY-beg\t5-OY-mid\t5-OY-end\t6-S-beg\t6-S-beg\t6-S-beg\t6-S-beg\t6-S-mid\t6-S-end\t7-SILENCE\t7-SILENCE\t7-SILENCE\t7-SILENCE\t7-SILENCE\t7-SILENCE\t7-SILENCE\t7-SILENCE\t7-SILENCE\t7-SILENCE\t7-SILENCE\t7-SILENCE\t7-SILENCE\t7-SILENCE\t7-SILENCE\t7-SILENCE\t7-SILENCE\t7-SILENCE\t7-SILENCE\t7-SILENCE\t7-SILENCE\t7-SILENCE\t7-SILENCE\t7-SILENCE\t7-SILENCE\t7-SILENCE\t7-SILENCE\t7-SILENCE\t7-SILENCE\t7-SILENCE\t7-SILENCE\t7-SILENCE\t8-IH-beg\t8-IH-mid\t8-IH-end\t9-Z-beg\t9-Z-mid\t9-Z-end\t9-Z-end\t9-Z-end\t9-Z-end\t10-SILENCE\t10-SILENCE\t10-SILENCE\t10-SILENCE\t10-SILENCE\t10-SILENCE\t10-SILENCE\t10-SILENCE\t10-SILENCE\t11-M-beg\t11-M-mid\t11-M-end\t12-AY-beg\t12-AY-mid\t12-AY-mid\t12-AY-mid\t12-AY-mid\t12-AY-mid\t12-AY-mid\t12-AY-mid\t12-AY-mid\t12-AY-mid\t12-AY-mid\t12-AY-mid\t12-AY-mid\t12-AY-mid\t12-AY-mid\t12-AY-mid\t12-AY-end\t13-SILENCE\t13-SILENCE\t13-SILENCE\t13-SILENCE\t13-SILENCE\t14-P-beg\t14-P-mid\t14-P-end\t15-AE-beg\t15-AE-mid\t15-AE-end\t16-S-beg\t16-S-mid\t16-S-end\t17-W-beg\t17-W-mid\t17-W-end\t18-ER-beg\t18-ER-mid\t18-ER-end\t19-D-beg\t19-D-mid\t19-D-mid\t19-D-mid\t19-D-mid\t19-D-mid\t19-D-mid\t19-D-mid\t19-D-mid\t19-D-end\t20-SILENCE\t20-SILENCE\t20-SILENCE\t20-SILENCE\t20-SILENCE\t20-SILENCE\t20-SILENCE\t20-SILENCE\t20-SILENCE\t_-M-AY-_-V-OY-S-_-IH-Z-_-M-AY-_-P-AE-S-W-ER-D-_-end\n",
      "50\n",
      "_-M-AY-_-V-OY-S-_-IH-Z-_-M-AY-_-P-AE-S-W-ER-D-_-start\t0-SILENCE\t0-SILENCE\t0-SILENCE\t0-SILENCE\t0-SILENCE\t0-SILENCE\t0-SILENCE\t0-SILENCE\t0-SILENCE\t0-SILENCE\t0-SILENCE\t0-SILENCE\t0-SILENCE\t0-SILENCE\t0-SILENCE\t0-SILENCE\t0-SILENCE\t0-SILENCE\t0-SILENCE\t0-SILENCE\t0-SILENCE\t0-SILENCE\t1-M-beg\t1-M-mid\t1-M-end\t2-AY-beg\t2-AY-mid\t2-AY-end\t3-SILENCE\t3-SILENCE\t3-SILENCE\t3-SILENCE\t3-SILENCE\t3-SILENCE\t3-SILENCE\t3-SILENCE\t3-SILENCE\t3-SILENCE\t3-SILENCE\t3-SILENCE\t3-SILENCE\t3-SILENCE\t3-SILENCE\t3-SILENCE\t3-SILENCE\t3-SILENCE\t3-SILENCE\t3-SILENCE\t3-SILENCE\t3-SILENCE\t3-SILENCE\t3-SILENCE\t3-SILENCE\t3-SILENCE\t3-SILENCE\t3-SILENCE\t3-SILENCE\t3-SILENCE\t3-SILENCE\t3-SILENCE\t3-SILENCE\t3-SILENCE\t3-SILENCE\t3-SILENCE\t3-SILENCE\t4-V-beg\t4-V-mid\t4-V-end\t5-OY-beg\t5-OY-mid\t5-OY-end\t6-S-beg\t6-S-mid\t6-S-end\t7-SILENCE\t7-SILENCE\t7-SILENCE\t7-SILENCE\t7-SILENCE\t8-IH-beg\t8-IH-mid\t8-IH-end\t9-Z-beg\t9-Z-mid\t9-Z-end\t9-Z-end\t9-Z-end\t9-Z-end\t9-Z-end\t10-SILENCE\t11-M-beg\t11-M-mid\t11-M-end\t12-AY-beg\t12-AY-mid\t12-AY-end\t13-SILENCE\t13-SILENCE\t13-SILENCE\t13-SILENCE\t13-SILENCE\t13-SILENCE\t13-SILENCE\t13-SILENCE\t13-SILENCE\t13-SILENCE\t14-P-beg\t14-P-mid\t14-P-end\t15-AE-beg\t15-AE-mid\t15-AE-end\t16-S-beg\t16-S-mid\t16-S-end\t17-W-beg\t17-W-mid\t17-W-end\t18-ER-beg\t18-ER-mid\t18-ER-end\t19-D-beg\t19-D-mid\t19-D-end\t20-SILENCE\t20-SILENCE\t20-SILENCE\t20-SILENCE\t20-SILENCE\t20-SILENCE\t20-SILENCE\t20-SILENCE\t20-SILENCE\t20-SILENCE\t20-SILENCE\t20-SILENCE\t20-SILENCE\t20-SILENCE\t20-SILENCE\t20-SILENCE\t20-SILENCE\t20-SILENCE\t20-SILENCE\t20-SILENCE\t20-SILENCE\t20-SILENCE\t20-SILENCE\t20-SILENCE\t20-SILENCE\t20-SILENCE\t20-SILENCE\t20-SILENCE\t20-SILENCE\t20-SILENCE\t20-SILENCE\t20-SILENCE\t20-SILENCE\t20-SILENCE\t20-SILENCE\t20-SILENCE\t20-SILENCE\t20-SILENCE\t20-SILENCE\t20-SILENCE\t20-SILENCE\t20-SILENCE\t20-SILENCE\t20-SILENCE\t20-SILENCE\t20-SILENCE\t20-SILENCE\t20-SILENCE\t20-SILENCE\t20-SILENCE\t20-SILENCE\t20-SILENCE\t20-SILENCE\t20-SILENCE\t20-SILENCE\t20-SILENCE\t20-SILENCE\t20-SILENCE\t20-SILENCE\t20-SILENCE\t20-SILENCE\t20-SILENCE\t20-SILENCE\t20-SILENCE\t20-SILENCE\t20-SILENCE\t20-SILENCE\t20-SILENCE\t20-SILENCE\t20-SILENCE\t20-SILENCE\t20-SILENCE\t20-SILENCE\t20-SILENCE\t20-SILENCE\t20-SILENCE\t20-SILENCE\t20-SILENCE\t20-SILENCE\t20-SILENCE\t20-SILENCE\t20-SILENCE\t20-SILENCE\t20-SILENCE\t20-SILENCE\t20-SILENCE\t20-SILENCE\t20-SILENCE\t20-SILENCE\t20-SILENCE\t20-SILENCE\t20-SILENCE\t20-SILENCE\t20-SILENCE\t20-SILENCE\t20-SILENCE\t20-SILENCE\t20-SILENCE\t20-SILENCE\t20-SILENCE\t20-SILENCE\t20-SILENCE\t20-SILENCE\t20-SILENCE\t20-SILENCE\t20-SILENCE\t20-SILENCE\t20-SILENCE\t20-SILENCE\t20-SILENCE\t20-SILENCE\t20-SILENCE\t20-SILENCE\t20-SILENCE\t20-SILENCE\t20-SILENCE\t20-SILENCE\t20-SILENCE\t20-SILENCE\t20-SILENCE\t20-SILENCE\t20-SILENCE\t20-SILENCE\t20-SILENCE\t20-SILENCE\t20-SILENCE\t20-SILENCE\t20-SILENCE\t20-SILENCE\t20-SILENCE\t20-SILENCE\t20-SILENCE\t20-SILENCE\t20-SILENCE\t20-SILENCE\t20-SILENCE\t20-SILENCE\t20-SILENCE\t20-SILENCE\t20-SILENCE\t20-SILENCE\t20-SILENCE\t20-SILENCE\t20-SILENCE\t20-SILENCE\t20-SILENCE\t20-SILENCE\t20-SILENCE\t20-SILENCE\t20-SILENCE\t20-SILENCE\t20-SILENCE\t20-SILENCE\t20-SILENCE\t20-SILENCE\t_-M-AY-_-V-OY-S-_-IH-Z-_-M-AY-_-P-AE-S-W-ER-D-_-end\n",
      "100\n",
      "_-M-AY-_-V-OY-S-_-IH-Z-_-M-AY-_-P-AE-S-W-ER-D-_-start\t0-SILENCE\t0-SILENCE\t0-SILENCE\t0-SILENCE\t0-SILENCE\t0-SILENCE\t1-M-beg\t1-M-mid\t1-M-end\t1-M-end\t2-AY-beg\t2-AY-mid\t2-AY-end\t3-SILENCE\t4-V-beg\t4-V-mid\t4-V-end\t5-OY-beg\t5-OY-mid\t5-OY-end\t6-S-beg\t6-S-beg\t6-S-mid\t6-S-end\t7-SILENCE\t7-SILENCE\t7-SILENCE\t7-SILENCE\t7-SILENCE\t7-SILENCE\t7-SILENCE\t7-SILENCE\t7-SILENCE\t7-SILENCE\t7-SILENCE\t7-SILENCE\t7-SILENCE\t7-SILENCE\t7-SILENCE\t7-SILENCE\t7-SILENCE\t7-SILENCE\t7-SILENCE\t7-SILENCE\t7-SILENCE\t7-SILENCE\t7-SILENCE\t7-SILENCE\t7-SILENCE\t7-SILENCE\t7-SILENCE\t7-SILENCE\t7-SILENCE\t7-SILENCE\t7-SILENCE\t7-SILENCE\t7-SILENCE\t7-SILENCE\t7-SILENCE\t7-SILENCE\t7-SILENCE\t7-SILENCE\t7-SILENCE\t7-SILENCE\t7-SILENCE\t7-SILENCE\t7-SILENCE\t7-SILENCE\t7-SILENCE\t7-SILENCE\t7-SILENCE\t7-SILENCE\t7-SILENCE\t7-SILENCE\t7-SILENCE\t7-SILENCE\t7-SILENCE\t7-SILENCE\t7-SILENCE\t7-SILENCE\t7-SILENCE\t7-SILENCE\t7-SILENCE\t7-SILENCE\t7-SILENCE\t7-SILENCE\t7-SILENCE\t7-SILENCE\t7-SILENCE\t7-SILENCE\t7-SILENCE\t7-SILENCE\t7-SILENCE\t7-SILENCE\t7-SILENCE\t7-SILENCE\t7-SILENCE\t7-SILENCE\t7-SILENCE\t7-SILENCE\t7-SILENCE\t7-SILENCE\t7-SILENCE\t7-SILENCE\t7-SILENCE\t7-SILENCE\t7-SILENCE\t7-SILENCE\t7-SILENCE\t7-SILENCE\t7-SILENCE\t7-SILENCE\t7-SILENCE\t7-SILENCE\t7-SILENCE\t7-SILENCE\t7-SILENCE\t7-SILENCE\t7-SILENCE\t7-SILENCE\t8-IH-beg\t8-IH-mid\t8-IH-end\t9-Z-beg\t9-Z-mid\t9-Z-end\t10-SILENCE\t10-SILENCE\t10-SILENCE\t11-M-beg\t11-M-mid\t11-M-end\t12-AY-beg\t12-AY-mid\t12-AY-end\t13-SILENCE\t13-SILENCE\t13-SILENCE\t13-SILENCE\t13-SILENCE\t13-SILENCE\t14-P-beg\t14-P-mid\t14-P-end\t15-AE-beg\t15-AE-mid\t15-AE-end\t16-S-beg\t16-S-mid\t16-S-end\t17-W-beg\t17-W-mid\t17-W-end\t18-ER-beg\t18-ER-mid\t18-ER-end\t19-D-beg\t19-D-mid\t19-D-mid\t19-D-end\t20-SILENCE\t20-SILENCE\t20-SILENCE\t20-SILENCE\t20-SILENCE\t20-SILENCE\t20-SILENCE\t20-SILENCE\t20-SILENCE\t20-SILENCE\t20-SILENCE\t20-SILENCE\t20-SILENCE\t20-SILENCE\t20-SILENCE\t20-SILENCE\t20-SILENCE\t20-SILENCE\t20-SILENCE\t20-SILENCE\t20-SILENCE\t20-SILENCE\t20-SILENCE\t20-SILENCE\t20-SILENCE\t20-SILENCE\t20-SILENCE\t20-SILENCE\t20-SILENCE\t20-SILENCE\t20-SILENCE\t20-SILENCE\t20-SILENCE\t20-SILENCE\t20-SILENCE\t20-SILENCE\t20-SILENCE\t20-SILENCE\t20-SILENCE\t20-SILENCE\t20-SILENCE\t20-SILENCE\t20-SILENCE\t20-SILENCE\t20-SILENCE\t20-SILENCE\t20-SILENCE\t20-SILENCE\t20-SILENCE\t20-SILENCE\t20-SILENCE\t20-SILENCE\t20-SILENCE\t20-SILENCE\t20-SILENCE\t20-SILENCE\t20-SILENCE\t20-SILENCE\t20-SILENCE\t20-SILENCE\t20-SILENCE\t20-SILENCE\t20-SILENCE\t20-SILENCE\t20-SILENCE\t20-SILENCE\t20-SILENCE\t20-SILENCE\t20-SILENCE\t20-SILENCE\t20-SILENCE\t20-SILENCE\t20-SILENCE\t20-SILENCE\t20-SILENCE\t20-SILENCE\t20-SILENCE\t20-SILENCE\t20-SILENCE\t20-SILENCE\t20-SILENCE\t20-SILENCE\t20-SILENCE\t20-SILENCE\t20-SILENCE\t_-M-AY-_-V-OY-S-_-IH-Z-_-M-AY-_-P-AE-S-W-ER-D-_-end\n"
     ]
    }
   ],
   "source": [
    "for i in (0, 50, 100):\n",
    "    predictions = example_sentence_hmm.predict(example_features[i], algorithm='viterbi')\n",
    "    print(i)\n",
    "    print('\\t'.join(example_sentence_hmm.states[prediction].name for prediction in predictions))"
   ]
  },
  {
   "cell_type": "code",
   "execution_count": 76,
   "metadata": {
    "scrolled": true
   },
   "outputs": [
    {
     "ename": "TypeError",
     "evalue": "Cannot cast ufunc subtract output from dtype('complex128') to dtype('float64') with casting rule 'same_kind'",
     "output_type": "error",
     "traceback": [
      "\u001b[0;31m---------------------------------------------------------------------------\u001b[0m",
      "\u001b[0;31mLinAlgError\u001b[0m                               Traceback (most recent call last)",
      "\u001b[0;32mpomegranate/distributions.pyx\u001b[0m in \u001b[0;36mpomegranate.distributions.MultivariateGaussianDistribution.from_summaries\u001b[0;34m()\u001b[0m\n",
      "\u001b[0;32m/usr/local/lib/python3.5/dist-packages/scipy/linalg/decomp_cholesky.py\u001b[0m in \u001b[0;36mcholesky\u001b[0;34m(a, lower, overwrite_a, check_finite)\u001b[0m\n\u001b[1;32m     80\u001b[0m     c, lower = _cholesky(a, lower=lower, overwrite_a=overwrite_a, clean=True,\n\u001b[0;32m---> 81\u001b[0;31m                             check_finite=check_finite)\n\u001b[0m\u001b[1;32m     82\u001b[0m     \u001b[0;32mreturn\u001b[0m \u001b[0mc\u001b[0m\u001b[0;34m\u001b[0m\u001b[0m\n",
      "\u001b[0;32m/usr/local/lib/python3.5/dist-packages/scipy/linalg/decomp_cholesky.py\u001b[0m in \u001b[0;36m_cholesky\u001b[0;34m(a, lower, overwrite_a, clean, check_finite)\u001b[0m\n\u001b[1;32m     29\u001b[0m     \u001b[0;32mif\u001b[0m \u001b[0minfo\u001b[0m \u001b[0;34m>\u001b[0m \u001b[0;36m0\u001b[0m\u001b[0;34m:\u001b[0m\u001b[0;34m\u001b[0m\u001b[0m\n\u001b[0;32m---> 30\u001b[0;31m         \u001b[0;32mraise\u001b[0m \u001b[0mLinAlgError\u001b[0m\u001b[0;34m(\u001b[0m\u001b[0;34m\"%d-th leading minor not positive definite\"\u001b[0m \u001b[0;34m%\u001b[0m \u001b[0minfo\u001b[0m\u001b[0;34m)\u001b[0m\u001b[0;34m\u001b[0m\u001b[0m\n\u001b[0m\u001b[1;32m     31\u001b[0m     \u001b[0;32mif\u001b[0m \u001b[0minfo\u001b[0m \u001b[0;34m<\u001b[0m \u001b[0;36m0\u001b[0m\u001b[0;34m:\u001b[0m\u001b[0;34m\u001b[0m\u001b[0m\n",
      "\u001b[0;31mLinAlgError\u001b[0m: 23-th leading minor not positive definite",
      "\nDuring handling of the above exception, another exception occurred:\n",
      "\u001b[0;31mTypeError\u001b[0m                                 Traceback (most recent call last)",
      "\u001b[0;32mpomegranate/bayes.pyx\u001b[0m in \u001b[0;36mpomegranate.bayes.BayesModel.from_summaries\u001b[0;34m()\u001b[0m\n",
      "\u001b[0;32mpomegranate/distributions.pyx\u001b[0m in \u001b[0;36mpomegranate.distributions.MultivariateGaussianDistribution.from_summaries\u001b[0;34m()\u001b[0m\n",
      "\u001b[0;31mTypeError\u001b[0m: Cannot cast ufunc subtract output from dtype('complex128') to dtype('float64') with casting rule 'same_kind'"
     ]
    },
    {
     "name": "stderr",
     "output_type": "stream",
     "text": [
      "Exception ignored in: 'pomegranate.hmm.HiddenMarkovModel._from_summaries'\n",
      "Traceback (most recent call last):\n",
      "  File \"pomegranate/bayes.pyx\", line 710, in pomegranate.bayes.BayesModel.from_summaries\n",
      "  File \"pomegranate/distributions.pyx\", line 2259, in pomegranate.distributions.MultivariateGaussianDistribution.from_summaries\n",
      "TypeError: Cannot cast ufunc subtract output from dtype('complex128') to dtype('float64') with casting rule 'same_kind'\n"
     ]
    },
    {
     "ename": "TypeError",
     "evalue": "Cannot cast ufunc subtract output from dtype('complex128') to dtype('float64') with casting rule 'same_kind'",
     "output_type": "error",
     "traceback": [
      "\u001b[0;31m---------------------------------------------------------------------------\u001b[0m",
      "\u001b[0;31mLinAlgError\u001b[0m                               Traceback (most recent call last)",
      "\u001b[0;32mpomegranate/distributions.pyx\u001b[0m in \u001b[0;36mpomegranate.distributions.MultivariateGaussianDistribution.from_summaries\u001b[0;34m()\u001b[0m\n",
      "\u001b[0;32m/usr/local/lib/python3.5/dist-packages/scipy/linalg/decomp_cholesky.py\u001b[0m in \u001b[0;36mcholesky\u001b[0;34m(a, lower, overwrite_a, check_finite)\u001b[0m\n\u001b[1;32m     80\u001b[0m     c, lower = _cholesky(a, lower=lower, overwrite_a=overwrite_a, clean=True,\n\u001b[0;32m---> 81\u001b[0;31m                             check_finite=check_finite)\n\u001b[0m\u001b[1;32m     82\u001b[0m     \u001b[0;32mreturn\u001b[0m \u001b[0mc\u001b[0m\u001b[0;34m\u001b[0m\u001b[0m\n",
      "\u001b[0;32m/usr/local/lib/python3.5/dist-packages/scipy/linalg/decomp_cholesky.py\u001b[0m in \u001b[0;36m_cholesky\u001b[0;34m(a, lower, overwrite_a, clean, check_finite)\u001b[0m\n\u001b[1;32m     29\u001b[0m     \u001b[0;32mif\u001b[0m \u001b[0minfo\u001b[0m \u001b[0;34m>\u001b[0m \u001b[0;36m0\u001b[0m\u001b[0;34m:\u001b[0m\u001b[0;34m\u001b[0m\u001b[0m\n\u001b[0;32m---> 30\u001b[0;31m         \u001b[0;32mraise\u001b[0m \u001b[0mLinAlgError\u001b[0m\u001b[0;34m(\u001b[0m\u001b[0;34m\"%d-th leading minor not positive definite\"\u001b[0m \u001b[0;34m%\u001b[0m \u001b[0minfo\u001b[0m\u001b[0;34m)\u001b[0m\u001b[0;34m\u001b[0m\u001b[0m\n\u001b[0m\u001b[1;32m     31\u001b[0m     \u001b[0;32mif\u001b[0m \u001b[0minfo\u001b[0m \u001b[0;34m<\u001b[0m \u001b[0;36m0\u001b[0m\u001b[0;34m:\u001b[0m\u001b[0;34m\u001b[0m\u001b[0m\n",
      "\u001b[0;31mLinAlgError\u001b[0m: 23-th leading minor not positive definite",
      "\nDuring handling of the above exception, another exception occurred:\n",
      "\u001b[0;31mTypeError\u001b[0m                                 Traceback (most recent call last)",
      "\u001b[0;32mpomegranate/bayes.pyx\u001b[0m in \u001b[0;36mpomegranate.bayes.BayesModel.from_summaries\u001b[0;34m()\u001b[0m\n",
      "\u001b[0;32mpomegranate/distributions.pyx\u001b[0m in \u001b[0;36mpomegranate.distributions.MultivariateGaussianDistribution.from_summaries\u001b[0;34m()\u001b[0m\n",
      "\u001b[0;31mTypeError\u001b[0m: Cannot cast ufunc subtract output from dtype('complex128') to dtype('float64') with casting rule 'same_kind'"
     ]
    },
    {
     "name": "stderr",
     "output_type": "stream",
     "text": [
      "Exception ignored in: 'pomegranate.hmm.HiddenMarkovModel._from_summaries'\n",
      "Traceback (most recent call last):\n",
      "  File \"pomegranate/bayes.pyx\", line 710, in pomegranate.bayes.BayesModel.from_summaries\n",
      "  File \"pomegranate/distributions.pyx\", line 2259, in pomegranate.distributions.MultivariateGaussianDistribution.from_summaries\n",
      "TypeError: Cannot cast ufunc subtract output from dtype('complex128') to dtype('float64') with casting rule 'same_kind'\n"
     ]
    },
    {
     "name": "stdout",
     "output_type": "stream",
     "text": [
      "[1] Improvement: 4.373646683990955\tTime (s): 522.3\n"
     ]
    },
    {
     "ename": "TypeError",
     "evalue": "Cannot cast ufunc subtract output from dtype('complex128') to dtype('float64') with casting rule 'same_kind'",
     "output_type": "error",
     "traceback": [
      "\u001b[0;31m---------------------------------------------------------------------------\u001b[0m",
      "\u001b[0;31mLinAlgError\u001b[0m                               Traceback (most recent call last)",
      "\u001b[0;32mpomegranate/distributions.pyx\u001b[0m in \u001b[0;36mpomegranate.distributions.MultivariateGaussianDistribution.from_summaries\u001b[0;34m()\u001b[0m\n",
      "\u001b[0;32m/usr/local/lib/python3.5/dist-packages/scipy/linalg/decomp_cholesky.py\u001b[0m in \u001b[0;36mcholesky\u001b[0;34m(a, lower, overwrite_a, check_finite)\u001b[0m\n\u001b[1;32m     80\u001b[0m     c, lower = _cholesky(a, lower=lower, overwrite_a=overwrite_a, clean=True,\n\u001b[0;32m---> 81\u001b[0;31m                             check_finite=check_finite)\n\u001b[0m\u001b[1;32m     82\u001b[0m     \u001b[0;32mreturn\u001b[0m \u001b[0mc\u001b[0m\u001b[0;34m\u001b[0m\u001b[0m\n",
      "\u001b[0;32m/usr/local/lib/python3.5/dist-packages/scipy/linalg/decomp_cholesky.py\u001b[0m in \u001b[0;36m_cholesky\u001b[0;34m(a, lower, overwrite_a, clean, check_finite)\u001b[0m\n\u001b[1;32m     29\u001b[0m     \u001b[0;32mif\u001b[0m \u001b[0minfo\u001b[0m \u001b[0;34m>\u001b[0m \u001b[0;36m0\u001b[0m\u001b[0;34m:\u001b[0m\u001b[0;34m\u001b[0m\u001b[0m\n\u001b[0;32m---> 30\u001b[0;31m         \u001b[0;32mraise\u001b[0m \u001b[0mLinAlgError\u001b[0m\u001b[0;34m(\u001b[0m\u001b[0;34m\"%d-th leading minor not positive definite\"\u001b[0m \u001b[0;34m%\u001b[0m \u001b[0minfo\u001b[0m\u001b[0;34m)\u001b[0m\u001b[0;34m\u001b[0m\u001b[0m\n\u001b[0m\u001b[1;32m     31\u001b[0m     \u001b[0;32mif\u001b[0m \u001b[0minfo\u001b[0m \u001b[0;34m<\u001b[0m \u001b[0;36m0\u001b[0m\u001b[0;34m:\u001b[0m\u001b[0;34m\u001b[0m\u001b[0m\n",
      "\u001b[0;31mLinAlgError\u001b[0m: 23-th leading minor not positive definite",
      "\nDuring handling of the above exception, another exception occurred:\n",
      "\u001b[0;31mTypeError\u001b[0m                                 Traceback (most recent call last)",
      "\u001b[0;32mpomegranate/bayes.pyx\u001b[0m in \u001b[0;36mpomegranate.bayes.BayesModel.from_summaries\u001b[0;34m()\u001b[0m\n",
      "\u001b[0;32mpomegranate/distributions.pyx\u001b[0m in \u001b[0;36mpomegranate.distributions.MultivariateGaussianDistribution.from_summaries\u001b[0;34m()\u001b[0m\n",
      "\u001b[0;31mTypeError\u001b[0m: Cannot cast ufunc subtract output from dtype('complex128') to dtype('float64') with casting rule 'same_kind'"
     ]
    },
    {
     "name": "stderr",
     "output_type": "stream",
     "text": [
      "Exception ignored in: 'pomegranate.hmm.HiddenMarkovModel._from_summaries'\n",
      "Traceback (most recent call last):\n",
      "  File \"pomegranate/bayes.pyx\", line 710, in pomegranate.bayes.BayesModel.from_summaries\n",
      "  File \"pomegranate/distributions.pyx\", line 2259, in pomegranate.distributions.MultivariateGaussianDistribution.from_summaries\n",
      "TypeError: Cannot cast ufunc subtract output from dtype('complex128') to dtype('float64') with casting rule 'same_kind'\n"
     ]
    },
    {
     "name": "stdout",
     "output_type": "stream",
     "text": [
      "[2] Improvement: 3.142620590282604\tTime (s): 525.5\n"
     ]
    },
    {
     "ename": "TypeError",
     "evalue": "Cannot cast ufunc subtract output from dtype('complex128') to dtype('float64') with casting rule 'same_kind'",
     "output_type": "error",
     "traceback": [
      "\u001b[0;31m---------------------------------------------------------------------------\u001b[0m",
      "\u001b[0;31mLinAlgError\u001b[0m                               Traceback (most recent call last)",
      "\u001b[0;32mpomegranate/distributions.pyx\u001b[0m in \u001b[0;36mpomegranate.distributions.MultivariateGaussianDistribution.from_summaries\u001b[0;34m()\u001b[0m\n",
      "\u001b[0;32m/usr/local/lib/python3.5/dist-packages/scipy/linalg/decomp_cholesky.py\u001b[0m in \u001b[0;36mcholesky\u001b[0;34m(a, lower, overwrite_a, check_finite)\u001b[0m\n\u001b[1;32m     80\u001b[0m     c, lower = _cholesky(a, lower=lower, overwrite_a=overwrite_a, clean=True,\n\u001b[0;32m---> 81\u001b[0;31m                             check_finite=check_finite)\n\u001b[0m\u001b[1;32m     82\u001b[0m     \u001b[0;32mreturn\u001b[0m \u001b[0mc\u001b[0m\u001b[0;34m\u001b[0m\u001b[0m\n",
      "\u001b[0;32m/usr/local/lib/python3.5/dist-packages/scipy/linalg/decomp_cholesky.py\u001b[0m in \u001b[0;36m_cholesky\u001b[0;34m(a, lower, overwrite_a, clean, check_finite)\u001b[0m\n\u001b[1;32m     29\u001b[0m     \u001b[0;32mif\u001b[0m \u001b[0minfo\u001b[0m \u001b[0;34m>\u001b[0m \u001b[0;36m0\u001b[0m\u001b[0;34m:\u001b[0m\u001b[0;34m\u001b[0m\u001b[0m\n\u001b[0;32m---> 30\u001b[0;31m         \u001b[0;32mraise\u001b[0m \u001b[0mLinAlgError\u001b[0m\u001b[0;34m(\u001b[0m\u001b[0;34m\"%d-th leading minor not positive definite\"\u001b[0m \u001b[0;34m%\u001b[0m \u001b[0minfo\u001b[0m\u001b[0;34m)\u001b[0m\u001b[0;34m\u001b[0m\u001b[0m\n\u001b[0m\u001b[1;32m     31\u001b[0m     \u001b[0;32mif\u001b[0m \u001b[0minfo\u001b[0m \u001b[0;34m<\u001b[0m \u001b[0;36m0\u001b[0m\u001b[0;34m:\u001b[0m\u001b[0;34m\u001b[0m\u001b[0m\n",
      "\u001b[0;31mLinAlgError\u001b[0m: 23-th leading minor not positive definite",
      "\nDuring handling of the above exception, another exception occurred:\n",
      "\u001b[0;31mTypeError\u001b[0m                                 Traceback (most recent call last)",
      "\u001b[0;32mpomegranate/bayes.pyx\u001b[0m in \u001b[0;36mpomegranate.bayes.BayesModel.from_summaries\u001b[0;34m()\u001b[0m\n",
      "\u001b[0;32mpomegranate/distributions.pyx\u001b[0m in \u001b[0;36mpomegranate.distributions.MultivariateGaussianDistribution.from_summaries\u001b[0;34m()\u001b[0m\n",
      "\u001b[0;31mTypeError\u001b[0m: Cannot cast ufunc subtract output from dtype('complex128') to dtype('float64') with casting rule 'same_kind'"
     ]
    },
    {
     "name": "stderr",
     "output_type": "stream",
     "text": [
      "Exception ignored in: 'pomegranate.hmm.HiddenMarkovModel._from_summaries'\n",
      "Traceback (most recent call last):\n",
      "  File \"pomegranate/bayes.pyx\", line 710, in pomegranate.bayes.BayesModel.from_summaries\n",
      "  File \"pomegranate/distributions.pyx\", line 2259, in pomegranate.distributions.MultivariateGaussianDistribution.from_summaries\n",
      "TypeError: Cannot cast ufunc subtract output from dtype('complex128') to dtype('float64') with casting rule 'same_kind'\n"
     ]
    },
    {
     "name": "stdout",
     "output_type": "stream",
     "text": [
      "[3] Improvement: 2.783811260247603\tTime (s): 530.9\n"
     ]
    },
    {
     "ename": "TypeError",
     "evalue": "Cannot cast ufunc subtract output from dtype('complex128') to dtype('float64') with casting rule 'same_kind'",
     "output_type": "error",
     "traceback": [
      "\u001b[0;31m---------------------------------------------------------------------------\u001b[0m",
      "\u001b[0;31mLinAlgError\u001b[0m                               Traceback (most recent call last)",
      "\u001b[0;32mpomegranate/distributions.pyx\u001b[0m in \u001b[0;36mpomegranate.distributions.MultivariateGaussianDistribution.from_summaries\u001b[0;34m()\u001b[0m\n",
      "\u001b[0;32m/usr/local/lib/python3.5/dist-packages/scipy/linalg/decomp_cholesky.py\u001b[0m in \u001b[0;36mcholesky\u001b[0;34m(a, lower, overwrite_a, check_finite)\u001b[0m\n\u001b[1;32m     80\u001b[0m     c, lower = _cholesky(a, lower=lower, overwrite_a=overwrite_a, clean=True,\n\u001b[0;32m---> 81\u001b[0;31m                             check_finite=check_finite)\n\u001b[0m\u001b[1;32m     82\u001b[0m     \u001b[0;32mreturn\u001b[0m \u001b[0mc\u001b[0m\u001b[0;34m\u001b[0m\u001b[0m\n",
      "\u001b[0;32m/usr/local/lib/python3.5/dist-packages/scipy/linalg/decomp_cholesky.py\u001b[0m in \u001b[0;36m_cholesky\u001b[0;34m(a, lower, overwrite_a, clean, check_finite)\u001b[0m\n\u001b[1;32m     29\u001b[0m     \u001b[0;32mif\u001b[0m \u001b[0minfo\u001b[0m \u001b[0;34m>\u001b[0m \u001b[0;36m0\u001b[0m\u001b[0;34m:\u001b[0m\u001b[0;34m\u001b[0m\u001b[0m\n\u001b[0;32m---> 30\u001b[0;31m         \u001b[0;32mraise\u001b[0m \u001b[0mLinAlgError\u001b[0m\u001b[0;34m(\u001b[0m\u001b[0;34m\"%d-th leading minor not positive definite\"\u001b[0m \u001b[0;34m%\u001b[0m \u001b[0minfo\u001b[0m\u001b[0;34m)\u001b[0m\u001b[0;34m\u001b[0m\u001b[0m\n\u001b[0m\u001b[1;32m     31\u001b[0m     \u001b[0;32mif\u001b[0m \u001b[0minfo\u001b[0m \u001b[0;34m<\u001b[0m \u001b[0;36m0\u001b[0m\u001b[0;34m:\u001b[0m\u001b[0;34m\u001b[0m\u001b[0m\n",
      "\u001b[0;31mLinAlgError\u001b[0m: 23-th leading minor not positive definite",
      "\nDuring handling of the above exception, another exception occurred:\n",
      "\u001b[0;31mTypeError\u001b[0m                                 Traceback (most recent call last)",
      "\u001b[0;32mpomegranate/bayes.pyx\u001b[0m in \u001b[0;36mpomegranate.bayes.BayesModel.from_summaries\u001b[0;34m()\u001b[0m\n",
      "\u001b[0;32mpomegranate/distributions.pyx\u001b[0m in \u001b[0;36mpomegranate.distributions.MultivariateGaussianDistribution.from_summaries\u001b[0;34m()\u001b[0m\n",
      "\u001b[0;31mTypeError\u001b[0m: Cannot cast ufunc subtract output from dtype('complex128') to dtype('float64') with casting rule 'same_kind'"
     ]
    },
    {
     "name": "stderr",
     "output_type": "stream",
     "text": [
      "Exception ignored in: 'pomegranate.hmm.HiddenMarkovModel._from_summaries'\n",
      "Traceback (most recent call last):\n",
      "  File \"pomegranate/bayes.pyx\", line 710, in pomegranate.bayes.BayesModel.from_summaries\n",
      "  File \"pomegranate/distributions.pyx\", line 2259, in pomegranate.distributions.MultivariateGaussianDistribution.from_summaries\n",
      "TypeError: Cannot cast ufunc subtract output from dtype('complex128') to dtype('float64') with casting rule 'same_kind'\n"
     ]
    },
    {
     "name": "stdout",
     "output_type": "stream",
     "text": [
      "[4] Improvement: 7.239276696462184\tTime (s): 530.8\n"
     ]
    },
    {
     "ename": "TypeError",
     "evalue": "Cannot cast ufunc subtract output from dtype('complex128') to dtype('float64') with casting rule 'same_kind'",
     "output_type": "error",
     "traceback": [
      "\u001b[0;31m---------------------------------------------------------------------------\u001b[0m",
      "\u001b[0;31mLinAlgError\u001b[0m                               Traceback (most recent call last)",
      "\u001b[0;32mpomegranate/distributions.pyx\u001b[0m in \u001b[0;36mpomegranate.distributions.MultivariateGaussianDistribution.from_summaries\u001b[0;34m()\u001b[0m\n",
      "\u001b[0;32m/usr/local/lib/python3.5/dist-packages/scipy/linalg/decomp_cholesky.py\u001b[0m in \u001b[0;36mcholesky\u001b[0;34m(a, lower, overwrite_a, check_finite)\u001b[0m\n\u001b[1;32m     80\u001b[0m     c, lower = _cholesky(a, lower=lower, overwrite_a=overwrite_a, clean=True,\n\u001b[0;32m---> 81\u001b[0;31m                             check_finite=check_finite)\n\u001b[0m\u001b[1;32m     82\u001b[0m     \u001b[0;32mreturn\u001b[0m \u001b[0mc\u001b[0m\u001b[0;34m\u001b[0m\u001b[0m\n",
      "\u001b[0;32m/usr/local/lib/python3.5/dist-packages/scipy/linalg/decomp_cholesky.py\u001b[0m in \u001b[0;36m_cholesky\u001b[0;34m(a, lower, overwrite_a, clean, check_finite)\u001b[0m\n\u001b[1;32m     29\u001b[0m     \u001b[0;32mif\u001b[0m \u001b[0minfo\u001b[0m \u001b[0;34m>\u001b[0m \u001b[0;36m0\u001b[0m\u001b[0;34m:\u001b[0m\u001b[0;34m\u001b[0m\u001b[0m\n\u001b[0;32m---> 30\u001b[0;31m         \u001b[0;32mraise\u001b[0m \u001b[0mLinAlgError\u001b[0m\u001b[0;34m(\u001b[0m\u001b[0;34m\"%d-th leading minor not positive definite\"\u001b[0m \u001b[0;34m%\u001b[0m \u001b[0minfo\u001b[0m\u001b[0;34m)\u001b[0m\u001b[0;34m\u001b[0m\u001b[0m\n\u001b[0m\u001b[1;32m     31\u001b[0m     \u001b[0;32mif\u001b[0m \u001b[0minfo\u001b[0m \u001b[0;34m<\u001b[0m \u001b[0;36m0\u001b[0m\u001b[0;34m:\u001b[0m\u001b[0;34m\u001b[0m\u001b[0m\n",
      "\u001b[0;31mLinAlgError\u001b[0m: 23-th leading minor not positive definite",
      "\nDuring handling of the above exception, another exception occurred:\n",
      "\u001b[0;31mTypeError\u001b[0m                                 Traceback (most recent call last)",
      "\u001b[0;32mpomegranate/bayes.pyx\u001b[0m in \u001b[0;36mpomegranate.bayes.BayesModel.from_summaries\u001b[0;34m()\u001b[0m\n",
      "\u001b[0;32mpomegranate/distributions.pyx\u001b[0m in \u001b[0;36mpomegranate.distributions.MultivariateGaussianDistribution.from_summaries\u001b[0;34m()\u001b[0m\n",
      "\u001b[0;31mTypeError\u001b[0m: Cannot cast ufunc subtract output from dtype('complex128') to dtype('float64') with casting rule 'same_kind'"
     ]
    },
    {
     "name": "stderr",
     "output_type": "stream",
     "text": [
      "Exception ignored in: 'pomegranate.hmm.HiddenMarkovModel._from_summaries'\n",
      "Traceback (most recent call last):\n",
      "  File \"pomegranate/bayes.pyx\", line 710, in pomegranate.bayes.BayesModel.from_summaries\n",
      "  File \"pomegranate/distributions.pyx\", line 2259, in pomegranate.distributions.MultivariateGaussianDistribution.from_summaries\n",
      "TypeError: Cannot cast ufunc subtract output from dtype('complex128') to dtype('float64') with casting rule 'same_kind'\n"
     ]
    },
    {
     "name": "stdout",
     "output_type": "stream",
     "text": [
      "[5] Improvement: 3.898073144024238\tTime (s): 516.5\n"
     ]
    },
    {
     "ename": "TypeError",
     "evalue": "Cannot cast ufunc subtract output from dtype('complex128') to dtype('float64') with casting rule 'same_kind'",
     "output_type": "error",
     "traceback": [
      "\u001b[0;31m---------------------------------------------------------------------------\u001b[0m",
      "\u001b[0;31mLinAlgError\u001b[0m                               Traceback (most recent call last)",
      "\u001b[0;32mpomegranate/distributions.pyx\u001b[0m in \u001b[0;36mpomegranate.distributions.MultivariateGaussianDistribution.from_summaries\u001b[0;34m()\u001b[0m\n",
      "\u001b[0;32m/usr/local/lib/python3.5/dist-packages/scipy/linalg/decomp_cholesky.py\u001b[0m in \u001b[0;36mcholesky\u001b[0;34m(a, lower, overwrite_a, check_finite)\u001b[0m\n\u001b[1;32m     80\u001b[0m     c, lower = _cholesky(a, lower=lower, overwrite_a=overwrite_a, clean=True,\n\u001b[0;32m---> 81\u001b[0;31m                             check_finite=check_finite)\n\u001b[0m\u001b[1;32m     82\u001b[0m     \u001b[0;32mreturn\u001b[0m \u001b[0mc\u001b[0m\u001b[0;34m\u001b[0m\u001b[0m\n",
      "\u001b[0;32m/usr/local/lib/python3.5/dist-packages/scipy/linalg/decomp_cholesky.py\u001b[0m in \u001b[0;36m_cholesky\u001b[0;34m(a, lower, overwrite_a, clean, check_finite)\u001b[0m\n\u001b[1;32m     29\u001b[0m     \u001b[0;32mif\u001b[0m \u001b[0minfo\u001b[0m \u001b[0;34m>\u001b[0m \u001b[0;36m0\u001b[0m\u001b[0;34m:\u001b[0m\u001b[0;34m\u001b[0m\u001b[0m\n\u001b[0;32m---> 30\u001b[0;31m         \u001b[0;32mraise\u001b[0m \u001b[0mLinAlgError\u001b[0m\u001b[0;34m(\u001b[0m\u001b[0;34m\"%d-th leading minor not positive definite\"\u001b[0m \u001b[0;34m%\u001b[0m \u001b[0minfo\u001b[0m\u001b[0;34m)\u001b[0m\u001b[0;34m\u001b[0m\u001b[0m\n\u001b[0m\u001b[1;32m     31\u001b[0m     \u001b[0;32mif\u001b[0m \u001b[0minfo\u001b[0m \u001b[0;34m<\u001b[0m \u001b[0;36m0\u001b[0m\u001b[0;34m:\u001b[0m\u001b[0;34m\u001b[0m\u001b[0m\n",
      "\u001b[0;31mLinAlgError\u001b[0m: 23-th leading minor not positive definite",
      "\nDuring handling of the above exception, another exception occurred:\n",
      "\u001b[0;31mTypeError\u001b[0m                                 Traceback (most recent call last)",
      "\u001b[0;32mpomegranate/bayes.pyx\u001b[0m in \u001b[0;36mpomegranate.bayes.BayesModel.from_summaries\u001b[0;34m()\u001b[0m\n",
      "\u001b[0;32mpomegranate/distributions.pyx\u001b[0m in \u001b[0;36mpomegranate.distributions.MultivariateGaussianDistribution.from_summaries\u001b[0;34m()\u001b[0m\n",
      "\u001b[0;31mTypeError\u001b[0m: Cannot cast ufunc subtract output from dtype('complex128') to dtype('float64') with casting rule 'same_kind'"
     ]
    },
    {
     "name": "stderr",
     "output_type": "stream",
     "text": [
      "Exception ignored in: 'pomegranate.hmm.HiddenMarkovModel._from_summaries'\n",
      "Traceback (most recent call last):\n",
      "  File \"pomegranate/bayes.pyx\", line 710, in pomegranate.bayes.BayesModel.from_summaries\n",
      "  File \"pomegranate/distributions.pyx\", line 2259, in pomegranate.distributions.MultivariateGaussianDistribution.from_summaries\n",
      "TypeError: Cannot cast ufunc subtract output from dtype('complex128') to dtype('float64') with casting rule 'same_kind'\n"
     ]
    },
    {
     "name": "stdout",
     "output_type": "stream",
     "text": [
      "[6] Improvement: 0.22262321808375418\tTime (s): 530.8\n"
     ]
    },
    {
     "ename": "TypeError",
     "evalue": "Cannot cast ufunc subtract output from dtype('complex128') to dtype('float64') with casting rule 'same_kind'",
     "output_type": "error",
     "traceback": [
      "\u001b[0;31m---------------------------------------------------------------------------\u001b[0m",
      "\u001b[0;31mLinAlgError\u001b[0m                               Traceback (most recent call last)",
      "\u001b[0;32mpomegranate/distributions.pyx\u001b[0m in \u001b[0;36mpomegranate.distributions.MultivariateGaussianDistribution.from_summaries\u001b[0;34m()\u001b[0m\n",
      "\u001b[0;32m/usr/local/lib/python3.5/dist-packages/scipy/linalg/decomp_cholesky.py\u001b[0m in \u001b[0;36mcholesky\u001b[0;34m(a, lower, overwrite_a, check_finite)\u001b[0m\n\u001b[1;32m     80\u001b[0m     c, lower = _cholesky(a, lower=lower, overwrite_a=overwrite_a, clean=True,\n\u001b[0;32m---> 81\u001b[0;31m                             check_finite=check_finite)\n\u001b[0m\u001b[1;32m     82\u001b[0m     \u001b[0;32mreturn\u001b[0m \u001b[0mc\u001b[0m\u001b[0;34m\u001b[0m\u001b[0m\n",
      "\u001b[0;32m/usr/local/lib/python3.5/dist-packages/scipy/linalg/decomp_cholesky.py\u001b[0m in \u001b[0;36m_cholesky\u001b[0;34m(a, lower, overwrite_a, clean, check_finite)\u001b[0m\n\u001b[1;32m     29\u001b[0m     \u001b[0;32mif\u001b[0m \u001b[0minfo\u001b[0m \u001b[0;34m>\u001b[0m \u001b[0;36m0\u001b[0m\u001b[0;34m:\u001b[0m\u001b[0;34m\u001b[0m\u001b[0m\n\u001b[0;32m---> 30\u001b[0;31m         \u001b[0;32mraise\u001b[0m \u001b[0mLinAlgError\u001b[0m\u001b[0;34m(\u001b[0m\u001b[0;34m\"%d-th leading minor not positive definite\"\u001b[0m \u001b[0;34m%\u001b[0m \u001b[0minfo\u001b[0m\u001b[0;34m)\u001b[0m\u001b[0;34m\u001b[0m\u001b[0m\n\u001b[0m\u001b[1;32m     31\u001b[0m     \u001b[0;32mif\u001b[0m \u001b[0minfo\u001b[0m \u001b[0;34m<\u001b[0m \u001b[0;36m0\u001b[0m\u001b[0;34m:\u001b[0m\u001b[0;34m\u001b[0m\u001b[0m\n",
      "\u001b[0;31mLinAlgError\u001b[0m: 23-th leading minor not positive definite",
      "\nDuring handling of the above exception, another exception occurred:\n",
      "\u001b[0;31mTypeError\u001b[0m                                 Traceback (most recent call last)",
      "\u001b[0;32mpomegranate/bayes.pyx\u001b[0m in \u001b[0;36mpomegranate.bayes.BayesModel.from_summaries\u001b[0;34m()\u001b[0m\n",
      "\u001b[0;32mpomegranate/distributions.pyx\u001b[0m in \u001b[0;36mpomegranate.distributions.MultivariateGaussianDistribution.from_summaries\u001b[0;34m()\u001b[0m\n",
      "\u001b[0;31mTypeError\u001b[0m: Cannot cast ufunc subtract output from dtype('complex128') to dtype('float64') with casting rule 'same_kind'"
     ]
    },
    {
     "name": "stderr",
     "output_type": "stream",
     "text": [
      "Exception ignored in: 'pomegranate.hmm.HiddenMarkovModel._from_summaries'\n",
      "Traceback (most recent call last):\n",
      "  File \"pomegranate/bayes.pyx\", line 710, in pomegranate.bayes.BayesModel.from_summaries\n",
      "  File \"pomegranate/distributions.pyx\", line 2259, in pomegranate.distributions.MultivariateGaussianDistribution.from_summaries\n",
      "TypeError: Cannot cast ufunc subtract output from dtype('complex128') to dtype('float64') with casting rule 'same_kind'\n"
     ]
    },
    {
     "name": "stdout",
     "output_type": "stream",
     "text": [
      "[7] Improvement: 0.10438551963306963\tTime (s): 532.6\n"
     ]
    },
    {
     "ename": "TypeError",
     "evalue": "Cannot cast ufunc subtract output from dtype('complex128') to dtype('float64') with casting rule 'same_kind'",
     "output_type": "error",
     "traceback": [
      "\u001b[0;31m---------------------------------------------------------------------------\u001b[0m",
      "\u001b[0;31mLinAlgError\u001b[0m                               Traceback (most recent call last)",
      "\u001b[0;32mpomegranate/distributions.pyx\u001b[0m in \u001b[0;36mpomegranate.distributions.MultivariateGaussianDistribution.from_summaries\u001b[0;34m()\u001b[0m\n",
      "\u001b[0;32m/usr/local/lib/python3.5/dist-packages/scipy/linalg/decomp_cholesky.py\u001b[0m in \u001b[0;36mcholesky\u001b[0;34m(a, lower, overwrite_a, check_finite)\u001b[0m\n\u001b[1;32m     80\u001b[0m     c, lower = _cholesky(a, lower=lower, overwrite_a=overwrite_a, clean=True,\n\u001b[0;32m---> 81\u001b[0;31m                             check_finite=check_finite)\n\u001b[0m\u001b[1;32m     82\u001b[0m     \u001b[0;32mreturn\u001b[0m \u001b[0mc\u001b[0m\u001b[0;34m\u001b[0m\u001b[0m\n",
      "\u001b[0;32m/usr/local/lib/python3.5/dist-packages/scipy/linalg/decomp_cholesky.py\u001b[0m in \u001b[0;36m_cholesky\u001b[0;34m(a, lower, overwrite_a, clean, check_finite)\u001b[0m\n\u001b[1;32m     29\u001b[0m     \u001b[0;32mif\u001b[0m \u001b[0minfo\u001b[0m \u001b[0;34m>\u001b[0m \u001b[0;36m0\u001b[0m\u001b[0;34m:\u001b[0m\u001b[0;34m\u001b[0m\u001b[0m\n\u001b[0;32m---> 30\u001b[0;31m         \u001b[0;32mraise\u001b[0m \u001b[0mLinAlgError\u001b[0m\u001b[0;34m(\u001b[0m\u001b[0;34m\"%d-th leading minor not positive definite\"\u001b[0m \u001b[0;34m%\u001b[0m \u001b[0minfo\u001b[0m\u001b[0;34m)\u001b[0m\u001b[0;34m\u001b[0m\u001b[0m\n\u001b[0m\u001b[1;32m     31\u001b[0m     \u001b[0;32mif\u001b[0m \u001b[0minfo\u001b[0m \u001b[0;34m<\u001b[0m \u001b[0;36m0\u001b[0m\u001b[0;34m:\u001b[0m\u001b[0;34m\u001b[0m\u001b[0m\n",
      "\u001b[0;31mLinAlgError\u001b[0m: 23-th leading minor not positive definite",
      "\nDuring handling of the above exception, another exception occurred:\n",
      "\u001b[0;31mTypeError\u001b[0m                                 Traceback (most recent call last)",
      "\u001b[0;32mpomegranate/bayes.pyx\u001b[0m in \u001b[0;36mpomegranate.bayes.BayesModel.from_summaries\u001b[0;34m()\u001b[0m\n",
      "\u001b[0;32mpomegranate/distributions.pyx\u001b[0m in \u001b[0;36mpomegranate.distributions.MultivariateGaussianDistribution.from_summaries\u001b[0;34m()\u001b[0m\n",
      "\u001b[0;31mTypeError\u001b[0m: Cannot cast ufunc subtract output from dtype('complex128') to dtype('float64') with casting rule 'same_kind'"
     ]
    },
    {
     "name": "stderr",
     "output_type": "stream",
     "text": [
      "Exception ignored in: 'pomegranate.hmm.HiddenMarkovModel._from_summaries'\n",
      "Traceback (most recent call last):\n",
      "  File \"pomegranate/bayes.pyx\", line 710, in pomegranate.bayes.BayesModel.from_summaries\n",
      "  File \"pomegranate/distributions.pyx\", line 2259, in pomegranate.distributions.MultivariateGaussianDistribution.from_summaries\n",
      "TypeError: Cannot cast ufunc subtract output from dtype('complex128') to dtype('float64') with casting rule 'same_kind'\n"
     ]
    },
    {
     "name": "stdout",
     "output_type": "stream",
     "text": [
      "[8] Improvement: 0.14116176054812968\tTime (s): 528.2\n"
     ]
    },
    {
     "ename": "TypeError",
     "evalue": "Cannot cast ufunc subtract output from dtype('complex128') to dtype('float64') with casting rule 'same_kind'",
     "output_type": "error",
     "traceback": [
      "\u001b[0;31m---------------------------------------------------------------------------\u001b[0m",
      "\u001b[0;31mLinAlgError\u001b[0m                               Traceback (most recent call last)",
      "\u001b[0;32mpomegranate/distributions.pyx\u001b[0m in \u001b[0;36mpomegranate.distributions.MultivariateGaussianDistribution.from_summaries\u001b[0;34m()\u001b[0m\n",
      "\u001b[0;32m/usr/local/lib/python3.5/dist-packages/scipy/linalg/decomp_cholesky.py\u001b[0m in \u001b[0;36mcholesky\u001b[0;34m(a, lower, overwrite_a, check_finite)\u001b[0m\n\u001b[1;32m     80\u001b[0m     c, lower = _cholesky(a, lower=lower, overwrite_a=overwrite_a, clean=True,\n\u001b[0;32m---> 81\u001b[0;31m                             check_finite=check_finite)\n\u001b[0m\u001b[1;32m     82\u001b[0m     \u001b[0;32mreturn\u001b[0m \u001b[0mc\u001b[0m\u001b[0;34m\u001b[0m\u001b[0m\n",
      "\u001b[0;32m/usr/local/lib/python3.5/dist-packages/scipy/linalg/decomp_cholesky.py\u001b[0m in \u001b[0;36m_cholesky\u001b[0;34m(a, lower, overwrite_a, clean, check_finite)\u001b[0m\n\u001b[1;32m     29\u001b[0m     \u001b[0;32mif\u001b[0m \u001b[0minfo\u001b[0m \u001b[0;34m>\u001b[0m \u001b[0;36m0\u001b[0m\u001b[0;34m:\u001b[0m\u001b[0;34m\u001b[0m\u001b[0m\n\u001b[0;32m---> 30\u001b[0;31m         \u001b[0;32mraise\u001b[0m \u001b[0mLinAlgError\u001b[0m\u001b[0;34m(\u001b[0m\u001b[0;34m\"%d-th leading minor not positive definite\"\u001b[0m \u001b[0;34m%\u001b[0m \u001b[0minfo\u001b[0m\u001b[0;34m)\u001b[0m\u001b[0;34m\u001b[0m\u001b[0m\n\u001b[0m\u001b[1;32m     31\u001b[0m     \u001b[0;32mif\u001b[0m \u001b[0minfo\u001b[0m \u001b[0;34m<\u001b[0m \u001b[0;36m0\u001b[0m\u001b[0;34m:\u001b[0m\u001b[0;34m\u001b[0m\u001b[0m\n",
      "\u001b[0;31mLinAlgError\u001b[0m: 23-th leading minor not positive definite",
      "\nDuring handling of the above exception, another exception occurred:\n",
      "\u001b[0;31mTypeError\u001b[0m                                 Traceback (most recent call last)",
      "\u001b[0;32mpomegranate/bayes.pyx\u001b[0m in \u001b[0;36mpomegranate.bayes.BayesModel.from_summaries\u001b[0;34m()\u001b[0m\n",
      "\u001b[0;32mpomegranate/distributions.pyx\u001b[0m in \u001b[0;36mpomegranate.distributions.MultivariateGaussianDistribution.from_summaries\u001b[0;34m()\u001b[0m\n",
      "\u001b[0;31mTypeError\u001b[0m: Cannot cast ufunc subtract output from dtype('complex128') to dtype('float64') with casting rule 'same_kind'"
     ]
    },
    {
     "name": "stderr",
     "output_type": "stream",
     "text": [
      "Exception ignored in: 'pomegranate.hmm.HiddenMarkovModel._from_summaries'\n",
      "Traceback (most recent call last):\n",
      "  File \"pomegranate/bayes.pyx\", line 710, in pomegranate.bayes.BayesModel.from_summaries\n",
      "  File \"pomegranate/distributions.pyx\", line 2259, in pomegranate.distributions.MultivariateGaussianDistribution.from_summaries\n",
      "TypeError: Cannot cast ufunc subtract output from dtype('complex128') to dtype('float64') with casting rule 'same_kind'\n"
     ]
    },
    {
     "name": "stdout",
     "output_type": "stream",
     "text": [
      "[9] Improvement: 0.3834380640182644\tTime (s): 537.4\n"
     ]
    },
    {
     "ename": "TypeError",
     "evalue": "Cannot cast ufunc subtract output from dtype('complex128') to dtype('float64') with casting rule 'same_kind'",
     "output_type": "error",
     "traceback": [
      "\u001b[0;31m---------------------------------------------------------------------------\u001b[0m",
      "\u001b[0;31mLinAlgError\u001b[0m                               Traceback (most recent call last)",
      "\u001b[0;32mpomegranate/distributions.pyx\u001b[0m in \u001b[0;36mpomegranate.distributions.MultivariateGaussianDistribution.from_summaries\u001b[0;34m()\u001b[0m\n",
      "\u001b[0;32m/usr/local/lib/python3.5/dist-packages/scipy/linalg/decomp_cholesky.py\u001b[0m in \u001b[0;36mcholesky\u001b[0;34m(a, lower, overwrite_a, check_finite)\u001b[0m\n\u001b[1;32m     80\u001b[0m     c, lower = _cholesky(a, lower=lower, overwrite_a=overwrite_a, clean=True,\n\u001b[0;32m---> 81\u001b[0;31m                             check_finite=check_finite)\n\u001b[0m\u001b[1;32m     82\u001b[0m     \u001b[0;32mreturn\u001b[0m \u001b[0mc\u001b[0m\u001b[0;34m\u001b[0m\u001b[0m\n",
      "\u001b[0;32m/usr/local/lib/python3.5/dist-packages/scipy/linalg/decomp_cholesky.py\u001b[0m in \u001b[0;36m_cholesky\u001b[0;34m(a, lower, overwrite_a, clean, check_finite)\u001b[0m\n\u001b[1;32m     29\u001b[0m     \u001b[0;32mif\u001b[0m \u001b[0minfo\u001b[0m \u001b[0;34m>\u001b[0m \u001b[0;36m0\u001b[0m\u001b[0;34m:\u001b[0m\u001b[0;34m\u001b[0m\u001b[0m\n\u001b[0;32m---> 30\u001b[0;31m         \u001b[0;32mraise\u001b[0m \u001b[0mLinAlgError\u001b[0m\u001b[0;34m(\u001b[0m\u001b[0;34m\"%d-th leading minor not positive definite\"\u001b[0m \u001b[0;34m%\u001b[0m \u001b[0minfo\u001b[0m\u001b[0;34m)\u001b[0m\u001b[0;34m\u001b[0m\u001b[0m\n\u001b[0m\u001b[1;32m     31\u001b[0m     \u001b[0;32mif\u001b[0m \u001b[0minfo\u001b[0m \u001b[0;34m<\u001b[0m \u001b[0;36m0\u001b[0m\u001b[0;34m:\u001b[0m\u001b[0;34m\u001b[0m\u001b[0m\n",
      "\u001b[0;31mLinAlgError\u001b[0m: 27-th leading minor not positive definite",
      "\nDuring handling of the above exception, another exception occurred:\n",
      "\u001b[0;31mTypeError\u001b[0m                                 Traceback (most recent call last)",
      "\u001b[0;32mpomegranate/bayes.pyx\u001b[0m in \u001b[0;36mpomegranate.bayes.BayesModel.from_summaries\u001b[0;34m()\u001b[0m\n",
      "\u001b[0;32mpomegranate/distributions.pyx\u001b[0m in \u001b[0;36mpomegranate.distributions.MultivariateGaussianDistribution.from_summaries\u001b[0;34m()\u001b[0m\n",
      "\u001b[0;31mTypeError\u001b[0m: Cannot cast ufunc subtract output from dtype('complex128') to dtype('float64') with casting rule 'same_kind'"
     ]
    },
    {
     "name": "stderr",
     "output_type": "stream",
     "text": [
      "Exception ignored in: 'pomegranate.hmm.HiddenMarkovModel._from_summaries'\n",
      "Traceback (most recent call last):\n",
      "  File \"pomegranate/bayes.pyx\", line 710, in pomegranate.bayes.BayesModel.from_summaries\n",
      "  File \"pomegranate/distributions.pyx\", line 2259, in pomegranate.distributions.MultivariateGaussianDistribution.from_summaries\n",
      "TypeError: Cannot cast ufunc subtract output from dtype('complex128') to dtype('float64') with casting rule 'same_kind'\n"
     ]
    },
    {
     "name": "stdout",
     "output_type": "stream",
     "text": [
      "[10] Improvement: 2261.235246648779\tTime (s): 535.2\n"
     ]
    },
    {
     "ename": "TypeError",
     "evalue": "Cannot cast ufunc subtract output from dtype('complex128') to dtype('float64') with casting rule 'same_kind'",
     "output_type": "error",
     "traceback": [
      "\u001b[0;31m---------------------------------------------------------------------------\u001b[0m",
      "\u001b[0;31mLinAlgError\u001b[0m                               Traceback (most recent call last)",
      "\u001b[0;32mpomegranate/distributions.pyx\u001b[0m in \u001b[0;36mpomegranate.distributions.MultivariateGaussianDistribution.from_summaries\u001b[0;34m()\u001b[0m\n",
      "\u001b[0;32m/usr/local/lib/python3.5/dist-packages/scipy/linalg/decomp_cholesky.py\u001b[0m in \u001b[0;36mcholesky\u001b[0;34m(a, lower, overwrite_a, check_finite)\u001b[0m\n\u001b[1;32m     80\u001b[0m     c, lower = _cholesky(a, lower=lower, overwrite_a=overwrite_a, clean=True,\n\u001b[0;32m---> 81\u001b[0;31m                             check_finite=check_finite)\n\u001b[0m\u001b[1;32m     82\u001b[0m     \u001b[0;32mreturn\u001b[0m \u001b[0mc\u001b[0m\u001b[0;34m\u001b[0m\u001b[0m\n",
      "\u001b[0;32m/usr/local/lib/python3.5/dist-packages/scipy/linalg/decomp_cholesky.py\u001b[0m in \u001b[0;36m_cholesky\u001b[0;34m(a, lower, overwrite_a, clean, check_finite)\u001b[0m\n\u001b[1;32m     29\u001b[0m     \u001b[0;32mif\u001b[0m \u001b[0minfo\u001b[0m \u001b[0;34m>\u001b[0m \u001b[0;36m0\u001b[0m\u001b[0;34m:\u001b[0m\u001b[0;34m\u001b[0m\u001b[0m\n\u001b[0;32m---> 30\u001b[0;31m         \u001b[0;32mraise\u001b[0m \u001b[0mLinAlgError\u001b[0m\u001b[0;34m(\u001b[0m\u001b[0;34m\"%d-th leading minor not positive definite\"\u001b[0m \u001b[0;34m%\u001b[0m \u001b[0minfo\u001b[0m\u001b[0;34m)\u001b[0m\u001b[0;34m\u001b[0m\u001b[0m\n\u001b[0m\u001b[1;32m     31\u001b[0m     \u001b[0;32mif\u001b[0m \u001b[0minfo\u001b[0m \u001b[0;34m<\u001b[0m \u001b[0;36m0\u001b[0m\u001b[0;34m:\u001b[0m\u001b[0;34m\u001b[0m\u001b[0m\n",
      "\u001b[0;31mLinAlgError\u001b[0m: 22-th leading minor not positive definite",
      "\nDuring handling of the above exception, another exception occurred:\n",
      "\u001b[0;31mTypeError\u001b[0m                                 Traceback (most recent call last)",
      "\u001b[0;32mpomegranate/bayes.pyx\u001b[0m in \u001b[0;36mpomegranate.bayes.BayesModel.from_summaries\u001b[0;34m()\u001b[0m\n",
      "\u001b[0;32mpomegranate/distributions.pyx\u001b[0m in \u001b[0;36mpomegranate.distributions.MultivariateGaussianDistribution.from_summaries\u001b[0;34m()\u001b[0m\n",
      "\u001b[0;31mTypeError\u001b[0m: Cannot cast ufunc subtract output from dtype('complex128') to dtype('float64') with casting rule 'same_kind'"
     ]
    },
    {
     "name": "stderr",
     "output_type": "stream",
     "text": [
      "Exception ignored in: 'pomegranate.hmm.HiddenMarkovModel._from_summaries'\n",
      "Traceback (most recent call last):\n",
      "  File \"pomegranate/bayes.pyx\", line 710, in pomegranate.bayes.BayesModel.from_summaries\n",
      "  File \"pomegranate/distributions.pyx\", line 2259, in pomegranate.distributions.MultivariateGaussianDistribution.from_summaries\n",
      "TypeError: Cannot cast ufunc subtract output from dtype('complex128') to dtype('float64') with casting rule 'same_kind'\n"
     ]
    },
    {
     "name": "stdout",
     "output_type": "stream",
     "text": [
      "[11] Improvement: 0.40921230893582106\tTime (s): 537.9\n"
     ]
    },
    {
     "ename": "TypeError",
     "evalue": "Cannot cast ufunc subtract output from dtype('complex128') to dtype('float64') with casting rule 'same_kind'",
     "output_type": "error",
     "traceback": [
      "\u001b[0;31m---------------------------------------------------------------------------\u001b[0m",
      "\u001b[0;31mLinAlgError\u001b[0m                               Traceback (most recent call last)",
      "\u001b[0;32mpomegranate/distributions.pyx\u001b[0m in \u001b[0;36mpomegranate.distributions.MultivariateGaussianDistribution.from_summaries\u001b[0;34m()\u001b[0m\n",
      "\u001b[0;32m/usr/local/lib/python3.5/dist-packages/scipy/linalg/decomp_cholesky.py\u001b[0m in \u001b[0;36mcholesky\u001b[0;34m(a, lower, overwrite_a, check_finite)\u001b[0m\n\u001b[1;32m     80\u001b[0m     c, lower = _cholesky(a, lower=lower, overwrite_a=overwrite_a, clean=True,\n\u001b[0;32m---> 81\u001b[0;31m                             check_finite=check_finite)\n\u001b[0m\u001b[1;32m     82\u001b[0m     \u001b[0;32mreturn\u001b[0m \u001b[0mc\u001b[0m\u001b[0;34m\u001b[0m\u001b[0m\n",
      "\u001b[0;32m/usr/local/lib/python3.5/dist-packages/scipy/linalg/decomp_cholesky.py\u001b[0m in \u001b[0;36m_cholesky\u001b[0;34m(a, lower, overwrite_a, clean, check_finite)\u001b[0m\n\u001b[1;32m     29\u001b[0m     \u001b[0;32mif\u001b[0m \u001b[0minfo\u001b[0m \u001b[0;34m>\u001b[0m \u001b[0;36m0\u001b[0m\u001b[0;34m:\u001b[0m\u001b[0;34m\u001b[0m\u001b[0m\n\u001b[0;32m---> 30\u001b[0;31m         \u001b[0;32mraise\u001b[0m \u001b[0mLinAlgError\u001b[0m\u001b[0;34m(\u001b[0m\u001b[0;34m\"%d-th leading minor not positive definite\"\u001b[0m \u001b[0;34m%\u001b[0m \u001b[0minfo\u001b[0m\u001b[0;34m)\u001b[0m\u001b[0;34m\u001b[0m\u001b[0m\n\u001b[0m\u001b[1;32m     31\u001b[0m     \u001b[0;32mif\u001b[0m \u001b[0minfo\u001b[0m \u001b[0;34m<\u001b[0m \u001b[0;36m0\u001b[0m\u001b[0;34m:\u001b[0m\u001b[0;34m\u001b[0m\u001b[0m\n",
      "\u001b[0;31mLinAlgError\u001b[0m: 22-th leading minor not positive definite",
      "\nDuring handling of the above exception, another exception occurred:\n",
      "\u001b[0;31mTypeError\u001b[0m                                 Traceback (most recent call last)",
      "\u001b[0;32mpomegranate/bayes.pyx\u001b[0m in \u001b[0;36mpomegranate.bayes.BayesModel.from_summaries\u001b[0;34m()\u001b[0m\n",
      "\u001b[0;32mpomegranate/distributions.pyx\u001b[0m in \u001b[0;36mpomegranate.distributions.MultivariateGaussianDistribution.from_summaries\u001b[0;34m()\u001b[0m\n",
      "\u001b[0;31mTypeError\u001b[0m: Cannot cast ufunc subtract output from dtype('complex128') to dtype('float64') with casting rule 'same_kind'"
     ]
    },
    {
     "name": "stderr",
     "output_type": "stream",
     "text": [
      "Exception ignored in: 'pomegranate.hmm.HiddenMarkovModel._from_summaries'\n",
      "Traceback (most recent call last):\n",
      "  File \"pomegranate/bayes.pyx\", line 710, in pomegranate.bayes.BayesModel.from_summaries\n",
      "  File \"pomegranate/distributions.pyx\", line 2259, in pomegranate.distributions.MultivariateGaussianDistribution.from_summaries\n",
      "TypeError: Cannot cast ufunc subtract output from dtype('complex128') to dtype('float64') with casting rule 'same_kind'\n"
     ]
    },
    {
     "name": "stdout",
     "output_type": "stream",
     "text": [
      "[12] Improvement: 0.3671781518496573\tTime (s): 539.7\n"
     ]
    },
    {
     "ename": "TypeError",
     "evalue": "Cannot cast ufunc subtract output from dtype('complex128') to dtype('float64') with casting rule 'same_kind'",
     "output_type": "error",
     "traceback": [
      "\u001b[0;31m---------------------------------------------------------------------------\u001b[0m",
      "\u001b[0;31mLinAlgError\u001b[0m                               Traceback (most recent call last)",
      "\u001b[0;32mpomegranate/distributions.pyx\u001b[0m in \u001b[0;36mpomegranate.distributions.MultivariateGaussianDistribution.from_summaries\u001b[0;34m()\u001b[0m\n",
      "\u001b[0;32m/usr/local/lib/python3.5/dist-packages/scipy/linalg/decomp_cholesky.py\u001b[0m in \u001b[0;36mcholesky\u001b[0;34m(a, lower, overwrite_a, check_finite)\u001b[0m\n\u001b[1;32m     80\u001b[0m     c, lower = _cholesky(a, lower=lower, overwrite_a=overwrite_a, clean=True,\n\u001b[0;32m---> 81\u001b[0;31m                             check_finite=check_finite)\n\u001b[0m\u001b[1;32m     82\u001b[0m     \u001b[0;32mreturn\u001b[0m \u001b[0mc\u001b[0m\u001b[0;34m\u001b[0m\u001b[0m\n",
      "\u001b[0;32m/usr/local/lib/python3.5/dist-packages/scipy/linalg/decomp_cholesky.py\u001b[0m in \u001b[0;36m_cholesky\u001b[0;34m(a, lower, overwrite_a, clean, check_finite)\u001b[0m\n\u001b[1;32m     29\u001b[0m     \u001b[0;32mif\u001b[0m \u001b[0minfo\u001b[0m \u001b[0;34m>\u001b[0m \u001b[0;36m0\u001b[0m\u001b[0;34m:\u001b[0m\u001b[0;34m\u001b[0m\u001b[0m\n\u001b[0;32m---> 30\u001b[0;31m         \u001b[0;32mraise\u001b[0m \u001b[0mLinAlgError\u001b[0m\u001b[0;34m(\u001b[0m\u001b[0;34m\"%d-th leading minor not positive definite\"\u001b[0m \u001b[0;34m%\u001b[0m \u001b[0minfo\u001b[0m\u001b[0;34m)\u001b[0m\u001b[0;34m\u001b[0m\u001b[0m\n\u001b[0m\u001b[1;32m     31\u001b[0m     \u001b[0;32mif\u001b[0m \u001b[0minfo\u001b[0m \u001b[0;34m<\u001b[0m \u001b[0;36m0\u001b[0m\u001b[0;34m:\u001b[0m\u001b[0;34m\u001b[0m\u001b[0m\n",
      "\u001b[0;31mLinAlgError\u001b[0m: 24-th leading minor not positive definite",
      "\nDuring handling of the above exception, another exception occurred:\n",
      "\u001b[0;31mTypeError\u001b[0m                                 Traceback (most recent call last)",
      "\u001b[0;32mpomegranate/bayes.pyx\u001b[0m in \u001b[0;36mpomegranate.bayes.BayesModel.from_summaries\u001b[0;34m()\u001b[0m\n",
      "\u001b[0;32mpomegranate/distributions.pyx\u001b[0m in \u001b[0;36mpomegranate.distributions.MultivariateGaussianDistribution.from_summaries\u001b[0;34m()\u001b[0m\n",
      "\u001b[0;31mTypeError\u001b[0m: Cannot cast ufunc subtract output from dtype('complex128') to dtype('float64') with casting rule 'same_kind'"
     ]
    },
    {
     "name": "stderr",
     "output_type": "stream",
     "text": [
      "Exception ignored in: 'pomegranate.hmm.HiddenMarkovModel._from_summaries'\n",
      "Traceback (most recent call last):\n",
      "  File \"pomegranate/bayes.pyx\", line 710, in pomegranate.bayes.BayesModel.from_summaries\n",
      "  File \"pomegranate/distributions.pyx\", line 2259, in pomegranate.distributions.MultivariateGaussianDistribution.from_summaries\n",
      "TypeError: Cannot cast ufunc subtract output from dtype('complex128') to dtype('float64') with casting rule 'same_kind'\n"
     ]
    },
    {
     "name": "stdout",
     "output_type": "stream",
     "text": [
      "[13] Improvement: 1.550668956944719\tTime (s): 539.5\n"
     ]
    },
    {
     "ename": "TypeError",
     "evalue": "Cannot cast ufunc subtract output from dtype('complex128') to dtype('float64') with casting rule 'same_kind'",
     "output_type": "error",
     "traceback": [
      "\u001b[0;31m---------------------------------------------------------------------------\u001b[0m",
      "\u001b[0;31mLinAlgError\u001b[0m                               Traceback (most recent call last)",
      "\u001b[0;32mpomegranate/distributions.pyx\u001b[0m in \u001b[0;36mpomegranate.distributions.MultivariateGaussianDistribution.from_summaries\u001b[0;34m()\u001b[0m\n",
      "\u001b[0;32m/usr/local/lib/python3.5/dist-packages/scipy/linalg/decomp_cholesky.py\u001b[0m in \u001b[0;36mcholesky\u001b[0;34m(a, lower, overwrite_a, check_finite)\u001b[0m\n\u001b[1;32m     80\u001b[0m     c, lower = _cholesky(a, lower=lower, overwrite_a=overwrite_a, clean=True,\n\u001b[0;32m---> 81\u001b[0;31m                             check_finite=check_finite)\n\u001b[0m\u001b[1;32m     82\u001b[0m     \u001b[0;32mreturn\u001b[0m \u001b[0mc\u001b[0m\u001b[0;34m\u001b[0m\u001b[0m\n",
      "\u001b[0;32m/usr/local/lib/python3.5/dist-packages/scipy/linalg/decomp_cholesky.py\u001b[0m in \u001b[0;36m_cholesky\u001b[0;34m(a, lower, overwrite_a, clean, check_finite)\u001b[0m\n\u001b[1;32m     29\u001b[0m     \u001b[0;32mif\u001b[0m \u001b[0minfo\u001b[0m \u001b[0;34m>\u001b[0m \u001b[0;36m0\u001b[0m\u001b[0;34m:\u001b[0m\u001b[0;34m\u001b[0m\u001b[0m\n\u001b[0;32m---> 30\u001b[0;31m         \u001b[0;32mraise\u001b[0m \u001b[0mLinAlgError\u001b[0m\u001b[0;34m(\u001b[0m\u001b[0;34m\"%d-th leading minor not positive definite\"\u001b[0m \u001b[0;34m%\u001b[0m \u001b[0minfo\u001b[0m\u001b[0;34m)\u001b[0m\u001b[0;34m\u001b[0m\u001b[0m\n\u001b[0m\u001b[1;32m     31\u001b[0m     \u001b[0;32mif\u001b[0m \u001b[0minfo\u001b[0m \u001b[0;34m<\u001b[0m \u001b[0;36m0\u001b[0m\u001b[0;34m:\u001b[0m\u001b[0;34m\u001b[0m\u001b[0m\n",
      "\u001b[0;31mLinAlgError\u001b[0m: 24-th leading minor not positive definite",
      "\nDuring handling of the above exception, another exception occurred:\n",
      "\u001b[0;31mTypeError\u001b[0m                                 Traceback (most recent call last)",
      "\u001b[0;32mpomegranate/bayes.pyx\u001b[0m in \u001b[0;36mpomegranate.bayes.BayesModel.from_summaries\u001b[0;34m()\u001b[0m\n",
      "\u001b[0;32mpomegranate/distributions.pyx\u001b[0m in \u001b[0;36mpomegranate.distributions.MultivariateGaussianDistribution.from_summaries\u001b[0;34m()\u001b[0m\n",
      "\u001b[0;31mTypeError\u001b[0m: Cannot cast ufunc subtract output from dtype('complex128') to dtype('float64') with casting rule 'same_kind'"
     ]
    },
    {
     "name": "stderr",
     "output_type": "stream",
     "text": [
      "Exception ignored in: 'pomegranate.hmm.HiddenMarkovModel._from_summaries'\n",
      "Traceback (most recent call last):\n",
      "  File \"pomegranate/bayes.pyx\", line 710, in pomegranate.bayes.BayesModel.from_summaries\n",
      "  File \"pomegranate/distributions.pyx\", line 2259, in pomegranate.distributions.MultivariateGaussianDistribution.from_summaries\n",
      "TypeError: Cannot cast ufunc subtract output from dtype('complex128') to dtype('float64') with casting rule 'same_kind'\n"
     ]
    },
    {
     "name": "stdout",
     "output_type": "stream",
     "text": [
      "[14] Improvement: 6.940896178362891\tTime (s): 536.8\n"
     ]
    },
    {
     "ename": "TypeError",
     "evalue": "Cannot cast ufunc subtract output from dtype('complex128') to dtype('float64') with casting rule 'same_kind'",
     "output_type": "error",
     "traceback": [
      "\u001b[0;31m---------------------------------------------------------------------------\u001b[0m",
      "\u001b[0;31mLinAlgError\u001b[0m                               Traceback (most recent call last)",
      "\u001b[0;32mpomegranate/distributions.pyx\u001b[0m in \u001b[0;36mpomegranate.distributions.MultivariateGaussianDistribution.from_summaries\u001b[0;34m()\u001b[0m\n",
      "\u001b[0;32m/usr/local/lib/python3.5/dist-packages/scipy/linalg/decomp_cholesky.py\u001b[0m in \u001b[0;36mcholesky\u001b[0;34m(a, lower, overwrite_a, check_finite)\u001b[0m\n\u001b[1;32m     80\u001b[0m     c, lower = _cholesky(a, lower=lower, overwrite_a=overwrite_a, clean=True,\n\u001b[0;32m---> 81\u001b[0;31m                             check_finite=check_finite)\n\u001b[0m\u001b[1;32m     82\u001b[0m     \u001b[0;32mreturn\u001b[0m \u001b[0mc\u001b[0m\u001b[0;34m\u001b[0m\u001b[0m\n",
      "\u001b[0;32m/usr/local/lib/python3.5/dist-packages/scipy/linalg/decomp_cholesky.py\u001b[0m in \u001b[0;36m_cholesky\u001b[0;34m(a, lower, overwrite_a, clean, check_finite)\u001b[0m\n\u001b[1;32m     29\u001b[0m     \u001b[0;32mif\u001b[0m \u001b[0minfo\u001b[0m \u001b[0;34m>\u001b[0m \u001b[0;36m0\u001b[0m\u001b[0;34m:\u001b[0m\u001b[0;34m\u001b[0m\u001b[0m\n\u001b[0;32m---> 30\u001b[0;31m         \u001b[0;32mraise\u001b[0m \u001b[0mLinAlgError\u001b[0m\u001b[0;34m(\u001b[0m\u001b[0;34m\"%d-th leading minor not positive definite\"\u001b[0m \u001b[0;34m%\u001b[0m \u001b[0minfo\u001b[0m\u001b[0;34m)\u001b[0m\u001b[0;34m\u001b[0m\u001b[0m\n\u001b[0m\u001b[1;32m     31\u001b[0m     \u001b[0;32mif\u001b[0m \u001b[0minfo\u001b[0m \u001b[0;34m<\u001b[0m \u001b[0;36m0\u001b[0m\u001b[0;34m:\u001b[0m\u001b[0;34m\u001b[0m\u001b[0m\n",
      "\u001b[0;31mLinAlgError\u001b[0m: 24-th leading minor not positive definite",
      "\nDuring handling of the above exception, another exception occurred:\n",
      "\u001b[0;31mTypeError\u001b[0m                                 Traceback (most recent call last)",
      "\u001b[0;32mpomegranate/bayes.pyx\u001b[0m in \u001b[0;36mpomegranate.bayes.BayesModel.from_summaries\u001b[0;34m()\u001b[0m\n",
      "\u001b[0;32mpomegranate/distributions.pyx\u001b[0m in \u001b[0;36mpomegranate.distributions.MultivariateGaussianDistribution.from_summaries\u001b[0;34m()\u001b[0m\n",
      "\u001b[0;31mTypeError\u001b[0m: Cannot cast ufunc subtract output from dtype('complex128') to dtype('float64') with casting rule 'same_kind'"
     ]
    },
    {
     "name": "stderr",
     "output_type": "stream",
     "text": [
      "Exception ignored in: 'pomegranate.hmm.HiddenMarkovModel._from_summaries'\n",
      "Traceback (most recent call last):\n",
      "  File \"pomegranate/bayes.pyx\", line 710, in pomegranate.bayes.BayesModel.from_summaries\n",
      "  File \"pomegranate/distributions.pyx\", line 2259, in pomegranate.distributions.MultivariateGaussianDistribution.from_summaries\n",
      "TypeError: Cannot cast ufunc subtract output from dtype('complex128') to dtype('float64') with casting rule 'same_kind'\n"
     ]
    },
    {
     "name": "stdout",
     "output_type": "stream",
     "text": [
      "[15] Improvement: 23.50617057411\tTime (s): 529.4\n"
     ]
    },
    {
     "ename": "TypeError",
     "evalue": "Cannot cast ufunc subtract output from dtype('complex128') to dtype('float64') with casting rule 'same_kind'",
     "output_type": "error",
     "traceback": [
      "\u001b[0;31m---------------------------------------------------------------------------\u001b[0m",
      "\u001b[0;31mLinAlgError\u001b[0m                               Traceback (most recent call last)",
      "\u001b[0;32mpomegranate/distributions.pyx\u001b[0m in \u001b[0;36mpomegranate.distributions.MultivariateGaussianDistribution.from_summaries\u001b[0;34m()\u001b[0m\n",
      "\u001b[0;32m/usr/local/lib/python3.5/dist-packages/scipy/linalg/decomp_cholesky.py\u001b[0m in \u001b[0;36mcholesky\u001b[0;34m(a, lower, overwrite_a, check_finite)\u001b[0m\n\u001b[1;32m     80\u001b[0m     c, lower = _cholesky(a, lower=lower, overwrite_a=overwrite_a, clean=True,\n\u001b[0;32m---> 81\u001b[0;31m                             check_finite=check_finite)\n\u001b[0m\u001b[1;32m     82\u001b[0m     \u001b[0;32mreturn\u001b[0m \u001b[0mc\u001b[0m\u001b[0;34m\u001b[0m\u001b[0m\n",
      "\u001b[0;32m/usr/local/lib/python3.5/dist-packages/scipy/linalg/decomp_cholesky.py\u001b[0m in \u001b[0;36m_cholesky\u001b[0;34m(a, lower, overwrite_a, clean, check_finite)\u001b[0m\n\u001b[1;32m     29\u001b[0m     \u001b[0;32mif\u001b[0m \u001b[0minfo\u001b[0m \u001b[0;34m>\u001b[0m \u001b[0;36m0\u001b[0m\u001b[0;34m:\u001b[0m\u001b[0;34m\u001b[0m\u001b[0m\n\u001b[0;32m---> 30\u001b[0;31m         \u001b[0;32mraise\u001b[0m \u001b[0mLinAlgError\u001b[0m\u001b[0;34m(\u001b[0m\u001b[0;34m\"%d-th leading minor not positive definite\"\u001b[0m \u001b[0;34m%\u001b[0m \u001b[0minfo\u001b[0m\u001b[0;34m)\u001b[0m\u001b[0;34m\u001b[0m\u001b[0m\n\u001b[0m\u001b[1;32m     31\u001b[0m     \u001b[0;32mif\u001b[0m \u001b[0minfo\u001b[0m \u001b[0;34m<\u001b[0m \u001b[0;36m0\u001b[0m\u001b[0;34m:\u001b[0m\u001b[0;34m\u001b[0m\u001b[0m\n",
      "\u001b[0;31mLinAlgError\u001b[0m: 23-th leading minor not positive definite",
      "\nDuring handling of the above exception, another exception occurred:\n",
      "\u001b[0;31mTypeError\u001b[0m                                 Traceback (most recent call last)",
      "\u001b[0;32mpomegranate/bayes.pyx\u001b[0m in \u001b[0;36mpomegranate.bayes.BayesModel.from_summaries\u001b[0;34m()\u001b[0m\n",
      "\u001b[0;32mpomegranate/distributions.pyx\u001b[0m in \u001b[0;36mpomegranate.distributions.MultivariateGaussianDistribution.from_summaries\u001b[0;34m()\u001b[0m\n",
      "\u001b[0;31mTypeError\u001b[0m: Cannot cast ufunc subtract output from dtype('complex128') to dtype('float64') with casting rule 'same_kind'"
     ]
    },
    {
     "name": "stderr",
     "output_type": "stream",
     "text": [
      "Exception ignored in: 'pomegranate.hmm.HiddenMarkovModel._from_summaries'\n",
      "Traceback (most recent call last):\n",
      "  File \"pomegranate/bayes.pyx\", line 710, in pomegranate.bayes.BayesModel.from_summaries\n",
      "  File \"pomegranate/distributions.pyx\", line 2259, in pomegranate.distributions.MultivariateGaussianDistribution.from_summaries\n",
      "TypeError: Cannot cast ufunc subtract output from dtype('complex128') to dtype('float64') with casting rule 'same_kind'\n"
     ]
    },
    {
     "name": "stdout",
     "output_type": "stream",
     "text": [
      "[16] Improvement: 16.49457749002613\tTime (s): 542.3\n"
     ]
    },
    {
     "ename": "TypeError",
     "evalue": "Cannot cast ufunc subtract output from dtype('complex128') to dtype('float64') with casting rule 'same_kind'",
     "output_type": "error",
     "traceback": [
      "\u001b[0;31m---------------------------------------------------------------------------\u001b[0m",
      "\u001b[0;31mLinAlgError\u001b[0m                               Traceback (most recent call last)",
      "\u001b[0;32mpomegranate/distributions.pyx\u001b[0m in \u001b[0;36mpomegranate.distributions.MultivariateGaussianDistribution.from_summaries\u001b[0;34m()\u001b[0m\n",
      "\u001b[0;32m/usr/local/lib/python3.5/dist-packages/scipy/linalg/decomp_cholesky.py\u001b[0m in \u001b[0;36mcholesky\u001b[0;34m(a, lower, overwrite_a, check_finite)\u001b[0m\n\u001b[1;32m     80\u001b[0m     c, lower = _cholesky(a, lower=lower, overwrite_a=overwrite_a, clean=True,\n\u001b[0;32m---> 81\u001b[0;31m                             check_finite=check_finite)\n\u001b[0m\u001b[1;32m     82\u001b[0m     \u001b[0;32mreturn\u001b[0m \u001b[0mc\u001b[0m\u001b[0;34m\u001b[0m\u001b[0m\n",
      "\u001b[0;32m/usr/local/lib/python3.5/dist-packages/scipy/linalg/decomp_cholesky.py\u001b[0m in \u001b[0;36m_cholesky\u001b[0;34m(a, lower, overwrite_a, clean, check_finite)\u001b[0m\n\u001b[1;32m     29\u001b[0m     \u001b[0;32mif\u001b[0m \u001b[0minfo\u001b[0m \u001b[0;34m>\u001b[0m \u001b[0;36m0\u001b[0m\u001b[0;34m:\u001b[0m\u001b[0;34m\u001b[0m\u001b[0m\n\u001b[0;32m---> 30\u001b[0;31m         \u001b[0;32mraise\u001b[0m \u001b[0mLinAlgError\u001b[0m\u001b[0;34m(\u001b[0m\u001b[0;34m\"%d-th leading minor not positive definite\"\u001b[0m \u001b[0;34m%\u001b[0m \u001b[0minfo\u001b[0m\u001b[0;34m)\u001b[0m\u001b[0;34m\u001b[0m\u001b[0m\n\u001b[0m\u001b[1;32m     31\u001b[0m     \u001b[0;32mif\u001b[0m \u001b[0minfo\u001b[0m \u001b[0;34m<\u001b[0m \u001b[0;36m0\u001b[0m\u001b[0;34m:\u001b[0m\u001b[0;34m\u001b[0m\u001b[0m\n",
      "\u001b[0;31mLinAlgError\u001b[0m: 23-th leading minor not positive definite",
      "\nDuring handling of the above exception, another exception occurred:\n",
      "\u001b[0;31mTypeError\u001b[0m                                 Traceback (most recent call last)",
      "\u001b[0;32mpomegranate/bayes.pyx\u001b[0m in \u001b[0;36mpomegranate.bayes.BayesModel.from_summaries\u001b[0;34m()\u001b[0m\n",
      "\u001b[0;32mpomegranate/distributions.pyx\u001b[0m in \u001b[0;36mpomegranate.distributions.MultivariateGaussianDistribution.from_summaries\u001b[0;34m()\u001b[0m\n",
      "\u001b[0;31mTypeError\u001b[0m: Cannot cast ufunc subtract output from dtype('complex128') to dtype('float64') with casting rule 'same_kind'"
     ]
    },
    {
     "name": "stderr",
     "output_type": "stream",
     "text": [
      "Exception ignored in: 'pomegranate.hmm.HiddenMarkovModel._from_summaries'\n",
      "Traceback (most recent call last):\n",
      "  File \"pomegranate/bayes.pyx\", line 710, in pomegranate.bayes.BayesModel.from_summaries\n",
      "  File \"pomegranate/distributions.pyx\", line 2259, in pomegranate.distributions.MultivariateGaussianDistribution.from_summaries\n",
      "TypeError: Cannot cast ufunc subtract output from dtype('complex128') to dtype('float64') with casting rule 'same_kind'\n"
     ]
    },
    {
     "name": "stdout",
     "output_type": "stream",
     "text": [
      "[17] Improvement: 4.811783917946741\tTime (s): 534.2\n"
     ]
    },
    {
     "ename": "TypeError",
     "evalue": "Cannot cast ufunc subtract output from dtype('complex128') to dtype('float64') with casting rule 'same_kind'",
     "output_type": "error",
     "traceback": [
      "\u001b[0;31m---------------------------------------------------------------------------\u001b[0m",
      "\u001b[0;31mLinAlgError\u001b[0m                               Traceback (most recent call last)",
      "\u001b[0;32mpomegranate/distributions.pyx\u001b[0m in \u001b[0;36mpomegranate.distributions.MultivariateGaussianDistribution.from_summaries\u001b[0;34m()\u001b[0m\n",
      "\u001b[0;32m/usr/local/lib/python3.5/dist-packages/scipy/linalg/decomp_cholesky.py\u001b[0m in \u001b[0;36mcholesky\u001b[0;34m(a, lower, overwrite_a, check_finite)\u001b[0m\n\u001b[1;32m     80\u001b[0m     c, lower = _cholesky(a, lower=lower, overwrite_a=overwrite_a, clean=True,\n\u001b[0;32m---> 81\u001b[0;31m                             check_finite=check_finite)\n\u001b[0m\u001b[1;32m     82\u001b[0m     \u001b[0;32mreturn\u001b[0m \u001b[0mc\u001b[0m\u001b[0;34m\u001b[0m\u001b[0m\n",
      "\u001b[0;32m/usr/local/lib/python3.5/dist-packages/scipy/linalg/decomp_cholesky.py\u001b[0m in \u001b[0;36m_cholesky\u001b[0;34m(a, lower, overwrite_a, clean, check_finite)\u001b[0m\n\u001b[1;32m     29\u001b[0m     \u001b[0;32mif\u001b[0m \u001b[0minfo\u001b[0m \u001b[0;34m>\u001b[0m \u001b[0;36m0\u001b[0m\u001b[0;34m:\u001b[0m\u001b[0;34m\u001b[0m\u001b[0m\n\u001b[0;32m---> 30\u001b[0;31m         \u001b[0;32mraise\u001b[0m \u001b[0mLinAlgError\u001b[0m\u001b[0;34m(\u001b[0m\u001b[0;34m\"%d-th leading minor not positive definite\"\u001b[0m \u001b[0;34m%\u001b[0m \u001b[0minfo\u001b[0m\u001b[0;34m)\u001b[0m\u001b[0;34m\u001b[0m\u001b[0m\n\u001b[0m\u001b[1;32m     31\u001b[0m     \u001b[0;32mif\u001b[0m \u001b[0minfo\u001b[0m \u001b[0;34m<\u001b[0m \u001b[0;36m0\u001b[0m\u001b[0;34m:\u001b[0m\u001b[0;34m\u001b[0m\u001b[0m\n",
      "\u001b[0;31mLinAlgError\u001b[0m: 23-th leading minor not positive definite",
      "\nDuring handling of the above exception, another exception occurred:\n",
      "\u001b[0;31mTypeError\u001b[0m                                 Traceback (most recent call last)",
      "\u001b[0;32mpomegranate/bayes.pyx\u001b[0m in \u001b[0;36mpomegranate.bayes.BayesModel.from_summaries\u001b[0;34m()\u001b[0m\n",
      "\u001b[0;32mpomegranate/distributions.pyx\u001b[0m in \u001b[0;36mpomegranate.distributions.MultivariateGaussianDistribution.from_summaries\u001b[0;34m()\u001b[0m\n",
      "\u001b[0;31mTypeError\u001b[0m: Cannot cast ufunc subtract output from dtype('complex128') to dtype('float64') with casting rule 'same_kind'"
     ]
    },
    {
     "name": "stderr",
     "output_type": "stream",
     "text": [
      "Exception ignored in: 'pomegranate.hmm.HiddenMarkovModel._from_summaries'\n",
      "Traceback (most recent call last):\n",
      "  File \"pomegranate/bayes.pyx\", line 710, in pomegranate.bayes.BayesModel.from_summaries\n",
      "  File \"pomegranate/distributions.pyx\", line 2259, in pomegranate.distributions.MultivariateGaussianDistribution.from_summaries\n",
      "TypeError: Cannot cast ufunc subtract output from dtype('complex128') to dtype('float64') with casting rule 'same_kind'\n"
     ]
    },
    {
     "name": "stdout",
     "output_type": "stream",
     "text": [
      "[18] Improvement: 8.078985502710566\tTime (s): 534.7\n"
     ]
    },
    {
     "ename": "TypeError",
     "evalue": "Cannot cast ufunc subtract output from dtype('complex128') to dtype('float64') with casting rule 'same_kind'",
     "output_type": "error",
     "traceback": [
      "\u001b[0;31m---------------------------------------------------------------------------\u001b[0m",
      "\u001b[0;31mLinAlgError\u001b[0m                               Traceback (most recent call last)",
      "\u001b[0;32mpomegranate/distributions.pyx\u001b[0m in \u001b[0;36mpomegranate.distributions.MultivariateGaussianDistribution.from_summaries\u001b[0;34m()\u001b[0m\n",
      "\u001b[0;32m/usr/local/lib/python3.5/dist-packages/scipy/linalg/decomp_cholesky.py\u001b[0m in \u001b[0;36mcholesky\u001b[0;34m(a, lower, overwrite_a, check_finite)\u001b[0m\n\u001b[1;32m     80\u001b[0m     c, lower = _cholesky(a, lower=lower, overwrite_a=overwrite_a, clean=True,\n\u001b[0;32m---> 81\u001b[0;31m                             check_finite=check_finite)\n\u001b[0m\u001b[1;32m     82\u001b[0m     \u001b[0;32mreturn\u001b[0m \u001b[0mc\u001b[0m\u001b[0;34m\u001b[0m\u001b[0m\n",
      "\u001b[0;32m/usr/local/lib/python3.5/dist-packages/scipy/linalg/decomp_cholesky.py\u001b[0m in \u001b[0;36m_cholesky\u001b[0;34m(a, lower, overwrite_a, clean, check_finite)\u001b[0m\n\u001b[1;32m     29\u001b[0m     \u001b[0;32mif\u001b[0m \u001b[0minfo\u001b[0m \u001b[0;34m>\u001b[0m \u001b[0;36m0\u001b[0m\u001b[0;34m:\u001b[0m\u001b[0;34m\u001b[0m\u001b[0m\n\u001b[0;32m---> 30\u001b[0;31m         \u001b[0;32mraise\u001b[0m \u001b[0mLinAlgError\u001b[0m\u001b[0;34m(\u001b[0m\u001b[0;34m\"%d-th leading minor not positive definite\"\u001b[0m \u001b[0;34m%\u001b[0m \u001b[0minfo\u001b[0m\u001b[0;34m)\u001b[0m\u001b[0;34m\u001b[0m\u001b[0m\n\u001b[0m\u001b[1;32m     31\u001b[0m     \u001b[0;32mif\u001b[0m \u001b[0minfo\u001b[0m \u001b[0;34m<\u001b[0m \u001b[0;36m0\u001b[0m\u001b[0;34m:\u001b[0m\u001b[0;34m\u001b[0m\u001b[0m\n",
      "\u001b[0;31mLinAlgError\u001b[0m: 24-th leading minor not positive definite",
      "\nDuring handling of the above exception, another exception occurred:\n",
      "\u001b[0;31mTypeError\u001b[0m                                 Traceback (most recent call last)",
      "\u001b[0;32mpomegranate/bayes.pyx\u001b[0m in \u001b[0;36mpomegranate.bayes.BayesModel.from_summaries\u001b[0;34m()\u001b[0m\n",
      "\u001b[0;32mpomegranate/distributions.pyx\u001b[0m in \u001b[0;36mpomegranate.distributions.MultivariateGaussianDistribution.from_summaries\u001b[0;34m()\u001b[0m\n",
      "\u001b[0;31mTypeError\u001b[0m: Cannot cast ufunc subtract output from dtype('complex128') to dtype('float64') with casting rule 'same_kind'"
     ]
    },
    {
     "name": "stderr",
     "output_type": "stream",
     "text": [
      "Exception ignored in: 'pomegranate.hmm.HiddenMarkovModel._from_summaries'\n",
      "Traceback (most recent call last):\n",
      "  File \"pomegranate/bayes.pyx\", line 710, in pomegranate.bayes.BayesModel.from_summaries\n",
      "  File \"pomegranate/distributions.pyx\", line 2259, in pomegranate.distributions.MultivariateGaussianDistribution.from_summaries\n",
      "TypeError: Cannot cast ufunc subtract output from dtype('complex128') to dtype('float64') with casting rule 'same_kind'\n"
     ]
    },
    {
     "name": "stdout",
     "output_type": "stream",
     "text": [
      "[19] Improvement: 104.82299938937649\tTime (s): 529.4\n"
     ]
    },
    {
     "ename": "TypeError",
     "evalue": "Cannot cast ufunc subtract output from dtype('complex128') to dtype('float64') with casting rule 'same_kind'",
     "output_type": "error",
     "traceback": [
      "\u001b[0;31m---------------------------------------------------------------------------\u001b[0m",
      "\u001b[0;31mLinAlgError\u001b[0m                               Traceback (most recent call last)",
      "\u001b[0;32mpomegranate/distributions.pyx\u001b[0m in \u001b[0;36mpomegranate.distributions.MultivariateGaussianDistribution.from_summaries\u001b[0;34m()\u001b[0m\n",
      "\u001b[0;32m/usr/local/lib/python3.5/dist-packages/scipy/linalg/decomp_cholesky.py\u001b[0m in \u001b[0;36mcholesky\u001b[0;34m(a, lower, overwrite_a, check_finite)\u001b[0m\n\u001b[1;32m     80\u001b[0m     c, lower = _cholesky(a, lower=lower, overwrite_a=overwrite_a, clean=True,\n\u001b[0;32m---> 81\u001b[0;31m                             check_finite=check_finite)\n\u001b[0m\u001b[1;32m     82\u001b[0m     \u001b[0;32mreturn\u001b[0m \u001b[0mc\u001b[0m\u001b[0;34m\u001b[0m\u001b[0m\n",
      "\u001b[0;32m/usr/local/lib/python3.5/dist-packages/scipy/linalg/decomp_cholesky.py\u001b[0m in \u001b[0;36m_cholesky\u001b[0;34m(a, lower, overwrite_a, clean, check_finite)\u001b[0m\n\u001b[1;32m     29\u001b[0m     \u001b[0;32mif\u001b[0m \u001b[0minfo\u001b[0m \u001b[0;34m>\u001b[0m \u001b[0;36m0\u001b[0m\u001b[0;34m:\u001b[0m\u001b[0;34m\u001b[0m\u001b[0m\n\u001b[0;32m---> 30\u001b[0;31m         \u001b[0;32mraise\u001b[0m \u001b[0mLinAlgError\u001b[0m\u001b[0;34m(\u001b[0m\u001b[0;34m\"%d-th leading minor not positive definite\"\u001b[0m \u001b[0;34m%\u001b[0m \u001b[0minfo\u001b[0m\u001b[0;34m)\u001b[0m\u001b[0;34m\u001b[0m\u001b[0m\n\u001b[0m\u001b[1;32m     31\u001b[0m     \u001b[0;32mif\u001b[0m \u001b[0minfo\u001b[0m \u001b[0;34m<\u001b[0m \u001b[0;36m0\u001b[0m\u001b[0;34m:\u001b[0m\u001b[0;34m\u001b[0m\u001b[0m\n",
      "\u001b[0;31mLinAlgError\u001b[0m: 24-th leading minor not positive definite",
      "\nDuring handling of the above exception, another exception occurred:\n",
      "\u001b[0;31mTypeError\u001b[0m                                 Traceback (most recent call last)",
      "\u001b[0;32mpomegranate/bayes.pyx\u001b[0m in \u001b[0;36mpomegranate.bayes.BayesModel.from_summaries\u001b[0;34m()\u001b[0m\n",
      "\u001b[0;32mpomegranate/distributions.pyx\u001b[0m in \u001b[0;36mpomegranate.distributions.MultivariateGaussianDistribution.from_summaries\u001b[0;34m()\u001b[0m\n",
      "\u001b[0;31mTypeError\u001b[0m: Cannot cast ufunc subtract output from dtype('complex128') to dtype('float64') with casting rule 'same_kind'"
     ]
    },
    {
     "name": "stderr",
     "output_type": "stream",
     "text": [
      "Exception ignored in: 'pomegranate.hmm.HiddenMarkovModel._from_summaries'\n",
      "Traceback (most recent call last):\n",
      "  File \"pomegranate/bayes.pyx\", line 710, in pomegranate.bayes.BayesModel.from_summaries\n",
      "  File \"pomegranate/distributions.pyx\", line 2259, in pomegranate.distributions.MultivariateGaussianDistribution.from_summaries\n",
      "TypeError: Cannot cast ufunc subtract output from dtype('complex128') to dtype('float64') with casting rule 'same_kind'\n"
     ]
    },
    {
     "name": "stdout",
     "output_type": "stream",
     "text": [
      "[20] Improvement: 29.019449810730293\tTime (s): 541.0\n"
     ]
    },
    {
     "ename": "TypeError",
     "evalue": "Cannot cast ufunc subtract output from dtype('complex128') to dtype('float64') with casting rule 'same_kind'",
     "output_type": "error",
     "traceback": [
      "\u001b[0;31m---------------------------------------------------------------------------\u001b[0m",
      "\u001b[0;31mLinAlgError\u001b[0m                               Traceback (most recent call last)",
      "\u001b[0;32mpomegranate/distributions.pyx\u001b[0m in \u001b[0;36mpomegranate.distributions.MultivariateGaussianDistribution.from_summaries\u001b[0;34m()\u001b[0m\n",
      "\u001b[0;32m/usr/local/lib/python3.5/dist-packages/scipy/linalg/decomp_cholesky.py\u001b[0m in \u001b[0;36mcholesky\u001b[0;34m(a, lower, overwrite_a, check_finite)\u001b[0m\n\u001b[1;32m     80\u001b[0m     c, lower = _cholesky(a, lower=lower, overwrite_a=overwrite_a, clean=True,\n\u001b[0;32m---> 81\u001b[0;31m                             check_finite=check_finite)\n\u001b[0m\u001b[1;32m     82\u001b[0m     \u001b[0;32mreturn\u001b[0m \u001b[0mc\u001b[0m\u001b[0;34m\u001b[0m\u001b[0m\n",
      "\u001b[0;32m/usr/local/lib/python3.5/dist-packages/scipy/linalg/decomp_cholesky.py\u001b[0m in \u001b[0;36m_cholesky\u001b[0;34m(a, lower, overwrite_a, clean, check_finite)\u001b[0m\n\u001b[1;32m     29\u001b[0m     \u001b[0;32mif\u001b[0m \u001b[0minfo\u001b[0m \u001b[0;34m>\u001b[0m \u001b[0;36m0\u001b[0m\u001b[0;34m:\u001b[0m\u001b[0;34m\u001b[0m\u001b[0m\n\u001b[0;32m---> 30\u001b[0;31m         \u001b[0;32mraise\u001b[0m \u001b[0mLinAlgError\u001b[0m\u001b[0;34m(\u001b[0m\u001b[0;34m\"%d-th leading minor not positive definite\"\u001b[0m \u001b[0;34m%\u001b[0m \u001b[0minfo\u001b[0m\u001b[0;34m)\u001b[0m\u001b[0;34m\u001b[0m\u001b[0m\n\u001b[0m\u001b[1;32m     31\u001b[0m     \u001b[0;32mif\u001b[0m \u001b[0minfo\u001b[0m \u001b[0;34m<\u001b[0m \u001b[0;36m0\u001b[0m\u001b[0;34m:\u001b[0m\u001b[0;34m\u001b[0m\u001b[0m\n",
      "\u001b[0;31mLinAlgError\u001b[0m: 26-th leading minor not positive definite",
      "\nDuring handling of the above exception, another exception occurred:\n",
      "\u001b[0;31mTypeError\u001b[0m                                 Traceback (most recent call last)",
      "\u001b[0;32mpomegranate/bayes.pyx\u001b[0m in \u001b[0;36mpomegranate.bayes.BayesModel.from_summaries\u001b[0;34m()\u001b[0m\n",
      "\u001b[0;32mpomegranate/distributions.pyx\u001b[0m in \u001b[0;36mpomegranate.distributions.MultivariateGaussianDistribution.from_summaries\u001b[0;34m()\u001b[0m\n",
      "\u001b[0;31mTypeError\u001b[0m: Cannot cast ufunc subtract output from dtype('complex128') to dtype('float64') with casting rule 'same_kind'"
     ]
    },
    {
     "name": "stderr",
     "output_type": "stream",
     "text": [
      "Exception ignored in: 'pomegranate.hmm.HiddenMarkovModel._from_summaries'\n",
      "Traceback (most recent call last):\n",
      "  File \"pomegranate/bayes.pyx\", line 710, in pomegranate.bayes.BayesModel.from_summaries\n",
      "  File \"pomegranate/distributions.pyx\", line 2259, in pomegranate.distributions.MultivariateGaussianDistribution.from_summaries\n",
      "TypeError: Cannot cast ufunc subtract output from dtype('complex128') to dtype('float64') with casting rule 'same_kind'\n"
     ]
    },
    {
     "name": "stdout",
     "output_type": "stream",
     "text": [
      "[21] Improvement: 0.1271849311888218\tTime (s): 531.6\n"
     ]
    },
    {
     "ename": "TypeError",
     "evalue": "Cannot cast ufunc subtract output from dtype('complex128') to dtype('float64') with casting rule 'same_kind'",
     "output_type": "error",
     "traceback": [
      "\u001b[0;31m---------------------------------------------------------------------------\u001b[0m",
      "\u001b[0;31mLinAlgError\u001b[0m                               Traceback (most recent call last)",
      "\u001b[0;32mpomegranate/distributions.pyx\u001b[0m in \u001b[0;36mpomegranate.distributions.MultivariateGaussianDistribution.from_summaries\u001b[0;34m()\u001b[0m\n",
      "\u001b[0;32m/usr/local/lib/python3.5/dist-packages/scipy/linalg/decomp_cholesky.py\u001b[0m in \u001b[0;36mcholesky\u001b[0;34m(a, lower, overwrite_a, check_finite)\u001b[0m\n\u001b[1;32m     80\u001b[0m     c, lower = _cholesky(a, lower=lower, overwrite_a=overwrite_a, clean=True,\n\u001b[0;32m---> 81\u001b[0;31m                             check_finite=check_finite)\n\u001b[0m\u001b[1;32m     82\u001b[0m     \u001b[0;32mreturn\u001b[0m \u001b[0mc\u001b[0m\u001b[0;34m\u001b[0m\u001b[0m\n",
      "\u001b[0;32m/usr/local/lib/python3.5/dist-packages/scipy/linalg/decomp_cholesky.py\u001b[0m in \u001b[0;36m_cholesky\u001b[0;34m(a, lower, overwrite_a, clean, check_finite)\u001b[0m\n\u001b[1;32m     29\u001b[0m     \u001b[0;32mif\u001b[0m \u001b[0minfo\u001b[0m \u001b[0;34m>\u001b[0m \u001b[0;36m0\u001b[0m\u001b[0;34m:\u001b[0m\u001b[0;34m\u001b[0m\u001b[0m\n\u001b[0;32m---> 30\u001b[0;31m         \u001b[0;32mraise\u001b[0m \u001b[0mLinAlgError\u001b[0m\u001b[0;34m(\u001b[0m\u001b[0;34m\"%d-th leading minor not positive definite\"\u001b[0m \u001b[0;34m%\u001b[0m \u001b[0minfo\u001b[0m\u001b[0;34m)\u001b[0m\u001b[0;34m\u001b[0m\u001b[0m\n\u001b[0m\u001b[1;32m     31\u001b[0m     \u001b[0;32mif\u001b[0m \u001b[0minfo\u001b[0m \u001b[0;34m<\u001b[0m \u001b[0;36m0\u001b[0m\u001b[0;34m:\u001b[0m\u001b[0;34m\u001b[0m\u001b[0m\n",
      "\u001b[0;31mLinAlgError\u001b[0m: 24-th leading minor not positive definite",
      "\nDuring handling of the above exception, another exception occurred:\n",
      "\u001b[0;31mTypeError\u001b[0m                                 Traceback (most recent call last)",
      "\u001b[0;32mpomegranate/bayes.pyx\u001b[0m in \u001b[0;36mpomegranate.bayes.BayesModel.from_summaries\u001b[0;34m()\u001b[0m\n",
      "\u001b[0;32mpomegranate/distributions.pyx\u001b[0m in \u001b[0;36mpomegranate.distributions.MultivariateGaussianDistribution.from_summaries\u001b[0;34m()\u001b[0m\n",
      "\u001b[0;31mTypeError\u001b[0m: Cannot cast ufunc subtract output from dtype('complex128') to dtype('float64') with casting rule 'same_kind'"
     ]
    },
    {
     "name": "stderr",
     "output_type": "stream",
     "text": [
      "Exception ignored in: 'pomegranate.hmm.HiddenMarkovModel._from_summaries'\n",
      "Traceback (most recent call last):\n",
      "  File \"pomegranate/bayes.pyx\", line 710, in pomegranate.bayes.BayesModel.from_summaries\n",
      "  File \"pomegranate/distributions.pyx\", line 2259, in pomegranate.distributions.MultivariateGaussianDistribution.from_summaries\n",
      "TypeError: Cannot cast ufunc subtract output from dtype('complex128') to dtype('float64') with casting rule 'same_kind'\n"
     ]
    },
    {
     "name": "stdout",
     "output_type": "stream",
     "text": [
      "[22] Improvement: 0.23255512560717762\tTime (s): 541.4\n"
     ]
    },
    {
     "ename": "TypeError",
     "evalue": "Cannot cast ufunc subtract output from dtype('complex128') to dtype('float64') with casting rule 'same_kind'",
     "output_type": "error",
     "traceback": [
      "\u001b[0;31m---------------------------------------------------------------------------\u001b[0m",
      "\u001b[0;31mLinAlgError\u001b[0m                               Traceback (most recent call last)",
      "\u001b[0;32mpomegranate/distributions.pyx\u001b[0m in \u001b[0;36mpomegranate.distributions.MultivariateGaussianDistribution.from_summaries\u001b[0;34m()\u001b[0m\n",
      "\u001b[0;32m/usr/local/lib/python3.5/dist-packages/scipy/linalg/decomp_cholesky.py\u001b[0m in \u001b[0;36mcholesky\u001b[0;34m(a, lower, overwrite_a, check_finite)\u001b[0m\n\u001b[1;32m     80\u001b[0m     c, lower = _cholesky(a, lower=lower, overwrite_a=overwrite_a, clean=True,\n\u001b[0;32m---> 81\u001b[0;31m                             check_finite=check_finite)\n\u001b[0m\u001b[1;32m     82\u001b[0m     \u001b[0;32mreturn\u001b[0m \u001b[0mc\u001b[0m\u001b[0;34m\u001b[0m\u001b[0m\n",
      "\u001b[0;32m/usr/local/lib/python3.5/dist-packages/scipy/linalg/decomp_cholesky.py\u001b[0m in \u001b[0;36m_cholesky\u001b[0;34m(a, lower, overwrite_a, clean, check_finite)\u001b[0m\n\u001b[1;32m     29\u001b[0m     \u001b[0;32mif\u001b[0m \u001b[0minfo\u001b[0m \u001b[0;34m>\u001b[0m \u001b[0;36m0\u001b[0m\u001b[0;34m:\u001b[0m\u001b[0;34m\u001b[0m\u001b[0m\n\u001b[0;32m---> 30\u001b[0;31m         \u001b[0;32mraise\u001b[0m \u001b[0mLinAlgError\u001b[0m\u001b[0;34m(\u001b[0m\u001b[0;34m\"%d-th leading minor not positive definite\"\u001b[0m \u001b[0;34m%\u001b[0m \u001b[0minfo\u001b[0m\u001b[0;34m)\u001b[0m\u001b[0;34m\u001b[0m\u001b[0m\n\u001b[0m\u001b[1;32m     31\u001b[0m     \u001b[0;32mif\u001b[0m \u001b[0minfo\u001b[0m \u001b[0;34m<\u001b[0m \u001b[0;36m0\u001b[0m\u001b[0;34m:\u001b[0m\u001b[0;34m\u001b[0m\u001b[0m\n",
      "\u001b[0;31mLinAlgError\u001b[0m: 24-th leading minor not positive definite",
      "\nDuring handling of the above exception, another exception occurred:\n",
      "\u001b[0;31mTypeError\u001b[0m                                 Traceback (most recent call last)",
      "\u001b[0;32mpomegranate/bayes.pyx\u001b[0m in \u001b[0;36mpomegranate.bayes.BayesModel.from_summaries\u001b[0;34m()\u001b[0m\n",
      "\u001b[0;32mpomegranate/distributions.pyx\u001b[0m in \u001b[0;36mpomegranate.distributions.MultivariateGaussianDistribution.from_summaries\u001b[0;34m()\u001b[0m\n",
      "\u001b[0;31mTypeError\u001b[0m: Cannot cast ufunc subtract output from dtype('complex128') to dtype('float64') with casting rule 'same_kind'"
     ]
    },
    {
     "name": "stderr",
     "output_type": "stream",
     "text": [
      "Exception ignored in: 'pomegranate.hmm.HiddenMarkovModel._from_summaries'\n",
      "Traceback (most recent call last):\n",
      "  File \"pomegranate/bayes.pyx\", line 710, in pomegranate.bayes.BayesModel.from_summaries\n",
      "  File \"pomegranate/distributions.pyx\", line 2259, in pomegranate.distributions.MultivariateGaussianDistribution.from_summaries\n",
      "TypeError: Cannot cast ufunc subtract output from dtype('complex128') to dtype('float64') with casting rule 'same_kind'\n"
     ]
    },
    {
     "name": "stdout",
     "output_type": "stream",
     "text": [
      "[23] Improvement: 0.8345558159053326\tTime (s): 538.8\n"
     ]
    },
    {
     "ename": "TypeError",
     "evalue": "Cannot cast ufunc subtract output from dtype('complex128') to dtype('float64') with casting rule 'same_kind'",
     "output_type": "error",
     "traceback": [
      "\u001b[0;31m---------------------------------------------------------------------------\u001b[0m",
      "\u001b[0;31mLinAlgError\u001b[0m                               Traceback (most recent call last)",
      "\u001b[0;32mpomegranate/distributions.pyx\u001b[0m in \u001b[0;36mpomegranate.distributions.MultivariateGaussianDistribution.from_summaries\u001b[0;34m()\u001b[0m\n",
      "\u001b[0;32m/usr/local/lib/python3.5/dist-packages/scipy/linalg/decomp_cholesky.py\u001b[0m in \u001b[0;36mcholesky\u001b[0;34m(a, lower, overwrite_a, check_finite)\u001b[0m\n\u001b[1;32m     80\u001b[0m     c, lower = _cholesky(a, lower=lower, overwrite_a=overwrite_a, clean=True,\n\u001b[0;32m---> 81\u001b[0;31m                             check_finite=check_finite)\n\u001b[0m\u001b[1;32m     82\u001b[0m     \u001b[0;32mreturn\u001b[0m \u001b[0mc\u001b[0m\u001b[0;34m\u001b[0m\u001b[0m\n",
      "\u001b[0;32m/usr/local/lib/python3.5/dist-packages/scipy/linalg/decomp_cholesky.py\u001b[0m in \u001b[0;36m_cholesky\u001b[0;34m(a, lower, overwrite_a, clean, check_finite)\u001b[0m\n\u001b[1;32m     29\u001b[0m     \u001b[0;32mif\u001b[0m \u001b[0minfo\u001b[0m \u001b[0;34m>\u001b[0m \u001b[0;36m0\u001b[0m\u001b[0;34m:\u001b[0m\u001b[0;34m\u001b[0m\u001b[0m\n\u001b[0;32m---> 30\u001b[0;31m         \u001b[0;32mraise\u001b[0m \u001b[0mLinAlgError\u001b[0m\u001b[0;34m(\u001b[0m\u001b[0;34m\"%d-th leading minor not positive definite\"\u001b[0m \u001b[0;34m%\u001b[0m \u001b[0minfo\u001b[0m\u001b[0;34m)\u001b[0m\u001b[0;34m\u001b[0m\u001b[0m\n\u001b[0m\u001b[1;32m     31\u001b[0m     \u001b[0;32mif\u001b[0m \u001b[0minfo\u001b[0m \u001b[0;34m<\u001b[0m \u001b[0;36m0\u001b[0m\u001b[0;34m:\u001b[0m\u001b[0;34m\u001b[0m\u001b[0m\n",
      "\u001b[0;31mLinAlgError\u001b[0m: 23-th leading minor not positive definite",
      "\nDuring handling of the above exception, another exception occurred:\n",
      "\u001b[0;31mTypeError\u001b[0m                                 Traceback (most recent call last)",
      "\u001b[0;32mpomegranate/bayes.pyx\u001b[0m in \u001b[0;36mpomegranate.bayes.BayesModel.from_summaries\u001b[0;34m()\u001b[0m\n",
      "\u001b[0;32mpomegranate/distributions.pyx\u001b[0m in \u001b[0;36mpomegranate.distributions.MultivariateGaussianDistribution.from_summaries\u001b[0;34m()\u001b[0m\n",
      "\u001b[0;31mTypeError\u001b[0m: Cannot cast ufunc subtract output from dtype('complex128') to dtype('float64') with casting rule 'same_kind'"
     ]
    },
    {
     "name": "stderr",
     "output_type": "stream",
     "text": [
      "Exception ignored in: 'pomegranate.hmm.HiddenMarkovModel._from_summaries'\n",
      "Traceback (most recent call last):\n",
      "  File \"pomegranate/bayes.pyx\", line 710, in pomegranate.bayes.BayesModel.from_summaries\n",
      "  File \"pomegranate/distributions.pyx\", line 2259, in pomegranate.distributions.MultivariateGaussianDistribution.from_summaries\n",
      "TypeError: Cannot cast ufunc subtract output from dtype('complex128') to dtype('float64') with casting rule 'same_kind'\n"
     ]
    },
    {
     "name": "stdout",
     "output_type": "stream",
     "text": [
      "[24] Improvement: 2.3695152981672436\tTime (s): 539.2\n"
     ]
    },
    {
     "ename": "TypeError",
     "evalue": "Cannot cast ufunc subtract output from dtype('complex128') to dtype('float64') with casting rule 'same_kind'",
     "output_type": "error",
     "traceback": [
      "\u001b[0;31m---------------------------------------------------------------------------\u001b[0m",
      "\u001b[0;31mLinAlgError\u001b[0m                               Traceback (most recent call last)",
      "\u001b[0;32mpomegranate/distributions.pyx\u001b[0m in \u001b[0;36mpomegranate.distributions.MultivariateGaussianDistribution.from_summaries\u001b[0;34m()\u001b[0m\n",
      "\u001b[0;32m/usr/local/lib/python3.5/dist-packages/scipy/linalg/decomp_cholesky.py\u001b[0m in \u001b[0;36mcholesky\u001b[0;34m(a, lower, overwrite_a, check_finite)\u001b[0m\n\u001b[1;32m     80\u001b[0m     c, lower = _cholesky(a, lower=lower, overwrite_a=overwrite_a, clean=True,\n\u001b[0;32m---> 81\u001b[0;31m                             check_finite=check_finite)\n\u001b[0m\u001b[1;32m     82\u001b[0m     \u001b[0;32mreturn\u001b[0m \u001b[0mc\u001b[0m\u001b[0;34m\u001b[0m\u001b[0m\n",
      "\u001b[0;32m/usr/local/lib/python3.5/dist-packages/scipy/linalg/decomp_cholesky.py\u001b[0m in \u001b[0;36m_cholesky\u001b[0;34m(a, lower, overwrite_a, clean, check_finite)\u001b[0m\n\u001b[1;32m     29\u001b[0m     \u001b[0;32mif\u001b[0m \u001b[0minfo\u001b[0m \u001b[0;34m>\u001b[0m \u001b[0;36m0\u001b[0m\u001b[0;34m:\u001b[0m\u001b[0;34m\u001b[0m\u001b[0m\n\u001b[0;32m---> 30\u001b[0;31m         \u001b[0;32mraise\u001b[0m \u001b[0mLinAlgError\u001b[0m\u001b[0;34m(\u001b[0m\u001b[0;34m\"%d-th leading minor not positive definite\"\u001b[0m \u001b[0;34m%\u001b[0m \u001b[0minfo\u001b[0m\u001b[0;34m)\u001b[0m\u001b[0;34m\u001b[0m\u001b[0m\n\u001b[0m\u001b[1;32m     31\u001b[0m     \u001b[0;32mif\u001b[0m \u001b[0minfo\u001b[0m \u001b[0;34m<\u001b[0m \u001b[0;36m0\u001b[0m\u001b[0;34m:\u001b[0m\u001b[0;34m\u001b[0m\u001b[0m\n",
      "\u001b[0;31mLinAlgError\u001b[0m: 23-th leading minor not positive definite",
      "\nDuring handling of the above exception, another exception occurred:\n",
      "\u001b[0;31mTypeError\u001b[0m                                 Traceback (most recent call last)",
      "\u001b[0;32mpomegranate/bayes.pyx\u001b[0m in \u001b[0;36mpomegranate.bayes.BayesModel.from_summaries\u001b[0;34m()\u001b[0m\n",
      "\u001b[0;32mpomegranate/distributions.pyx\u001b[0m in \u001b[0;36mpomegranate.distributions.MultivariateGaussianDistribution.from_summaries\u001b[0;34m()\u001b[0m\n",
      "\u001b[0;31mTypeError\u001b[0m: Cannot cast ufunc subtract output from dtype('complex128') to dtype('float64') with casting rule 'same_kind'"
     ]
    },
    {
     "name": "stderr",
     "output_type": "stream",
     "text": [
      "Exception ignored in: 'pomegranate.hmm.HiddenMarkovModel._from_summaries'\n",
      "Traceback (most recent call last):\n",
      "  File \"pomegranate/bayes.pyx\", line 710, in pomegranate.bayes.BayesModel.from_summaries\n",
      "  File \"pomegranate/distributions.pyx\", line 2259, in pomegranate.distributions.MultivariateGaussianDistribution.from_summaries\n",
      "TypeError: Cannot cast ufunc subtract output from dtype('complex128') to dtype('float64') with casting rule 'same_kind'\n"
     ]
    },
    {
     "name": "stdout",
     "output_type": "stream",
     "text": [
      "[25] Improvement: 3.544300872599706\tTime (s): 534.3\n"
     ]
    },
    {
     "ename": "TypeError",
     "evalue": "Cannot cast ufunc subtract output from dtype('complex128') to dtype('float64') with casting rule 'same_kind'",
     "output_type": "error",
     "traceback": [
      "\u001b[0;31m---------------------------------------------------------------------------\u001b[0m",
      "\u001b[0;31mLinAlgError\u001b[0m                               Traceback (most recent call last)",
      "\u001b[0;32mpomegranate/distributions.pyx\u001b[0m in \u001b[0;36mpomegranate.distributions.MultivariateGaussianDistribution.from_summaries\u001b[0;34m()\u001b[0m\n",
      "\u001b[0;32m/usr/local/lib/python3.5/dist-packages/scipy/linalg/decomp_cholesky.py\u001b[0m in \u001b[0;36mcholesky\u001b[0;34m(a, lower, overwrite_a, check_finite)\u001b[0m\n\u001b[1;32m     80\u001b[0m     c, lower = _cholesky(a, lower=lower, overwrite_a=overwrite_a, clean=True,\n\u001b[0;32m---> 81\u001b[0;31m                             check_finite=check_finite)\n\u001b[0m\u001b[1;32m     82\u001b[0m     \u001b[0;32mreturn\u001b[0m \u001b[0mc\u001b[0m\u001b[0;34m\u001b[0m\u001b[0m\n",
      "\u001b[0;32m/usr/local/lib/python3.5/dist-packages/scipy/linalg/decomp_cholesky.py\u001b[0m in \u001b[0;36m_cholesky\u001b[0;34m(a, lower, overwrite_a, clean, check_finite)\u001b[0m\n\u001b[1;32m     29\u001b[0m     \u001b[0;32mif\u001b[0m \u001b[0minfo\u001b[0m \u001b[0;34m>\u001b[0m \u001b[0;36m0\u001b[0m\u001b[0;34m:\u001b[0m\u001b[0;34m\u001b[0m\u001b[0m\n\u001b[0;32m---> 30\u001b[0;31m         \u001b[0;32mraise\u001b[0m \u001b[0mLinAlgError\u001b[0m\u001b[0;34m(\u001b[0m\u001b[0;34m\"%d-th leading minor not positive definite\"\u001b[0m \u001b[0;34m%\u001b[0m \u001b[0minfo\u001b[0m\u001b[0;34m)\u001b[0m\u001b[0;34m\u001b[0m\u001b[0m\n\u001b[0m\u001b[1;32m     31\u001b[0m     \u001b[0;32mif\u001b[0m \u001b[0minfo\u001b[0m \u001b[0;34m<\u001b[0m \u001b[0;36m0\u001b[0m\u001b[0;34m:\u001b[0m\u001b[0;34m\u001b[0m\u001b[0m\n",
      "\u001b[0;31mLinAlgError\u001b[0m: 23-th leading minor not positive definite",
      "\nDuring handling of the above exception, another exception occurred:\n",
      "\u001b[0;31mTypeError\u001b[0m                                 Traceback (most recent call last)",
      "\u001b[0;32mpomegranate/bayes.pyx\u001b[0m in \u001b[0;36mpomegranate.bayes.BayesModel.from_summaries\u001b[0;34m()\u001b[0m\n",
      "\u001b[0;32mpomegranate/distributions.pyx\u001b[0m in \u001b[0;36mpomegranate.distributions.MultivariateGaussianDistribution.from_summaries\u001b[0;34m()\u001b[0m\n",
      "\u001b[0;31mTypeError\u001b[0m: Cannot cast ufunc subtract output from dtype('complex128') to dtype('float64') with casting rule 'same_kind'"
     ]
    },
    {
     "name": "stderr",
     "output_type": "stream",
     "text": [
      "Exception ignored in: 'pomegranate.hmm.HiddenMarkovModel._from_summaries'\n",
      "Traceback (most recent call last):\n",
      "  File \"pomegranate/bayes.pyx\", line 710, in pomegranate.bayes.BayesModel.from_summaries\n",
      "  File \"pomegranate/distributions.pyx\", line 2259, in pomegranate.distributions.MultivariateGaussianDistribution.from_summaries\n",
      "TypeError: Cannot cast ufunc subtract output from dtype('complex128') to dtype('float64') with casting rule 'same_kind'\n"
     ]
    },
    {
     "name": "stdout",
     "output_type": "stream",
     "text": [
      "[26] Improvement: 1.4649938035290688\tTime (s): 536.8\n"
     ]
    },
    {
     "ename": "TypeError",
     "evalue": "Cannot cast ufunc subtract output from dtype('complex128') to dtype('float64') with casting rule 'same_kind'",
     "output_type": "error",
     "traceback": [
      "\u001b[0;31m---------------------------------------------------------------------------\u001b[0m",
      "\u001b[0;31mLinAlgError\u001b[0m                               Traceback (most recent call last)",
      "\u001b[0;32mpomegranate/distributions.pyx\u001b[0m in \u001b[0;36mpomegranate.distributions.MultivariateGaussianDistribution.from_summaries\u001b[0;34m()\u001b[0m\n",
      "\u001b[0;32m/usr/local/lib/python3.5/dist-packages/scipy/linalg/decomp_cholesky.py\u001b[0m in \u001b[0;36mcholesky\u001b[0;34m(a, lower, overwrite_a, check_finite)\u001b[0m\n\u001b[1;32m     80\u001b[0m     c, lower = _cholesky(a, lower=lower, overwrite_a=overwrite_a, clean=True,\n\u001b[0;32m---> 81\u001b[0;31m                             check_finite=check_finite)\n\u001b[0m\u001b[1;32m     82\u001b[0m     \u001b[0;32mreturn\u001b[0m \u001b[0mc\u001b[0m\u001b[0;34m\u001b[0m\u001b[0m\n",
      "\u001b[0;32m/usr/local/lib/python3.5/dist-packages/scipy/linalg/decomp_cholesky.py\u001b[0m in \u001b[0;36m_cholesky\u001b[0;34m(a, lower, overwrite_a, clean, check_finite)\u001b[0m\n\u001b[1;32m     29\u001b[0m     \u001b[0;32mif\u001b[0m \u001b[0minfo\u001b[0m \u001b[0;34m>\u001b[0m \u001b[0;36m0\u001b[0m\u001b[0;34m:\u001b[0m\u001b[0;34m\u001b[0m\u001b[0m\n\u001b[0;32m---> 30\u001b[0;31m         \u001b[0;32mraise\u001b[0m \u001b[0mLinAlgError\u001b[0m\u001b[0;34m(\u001b[0m\u001b[0;34m\"%d-th leading minor not positive definite\"\u001b[0m \u001b[0;34m%\u001b[0m \u001b[0minfo\u001b[0m\u001b[0;34m)\u001b[0m\u001b[0;34m\u001b[0m\u001b[0m\n\u001b[0m\u001b[1;32m     31\u001b[0m     \u001b[0;32mif\u001b[0m \u001b[0minfo\u001b[0m \u001b[0;34m<\u001b[0m \u001b[0;36m0\u001b[0m\u001b[0;34m:\u001b[0m\u001b[0;34m\u001b[0m\u001b[0m\n",
      "\u001b[0;31mLinAlgError\u001b[0m: 23-th leading minor not positive definite",
      "\nDuring handling of the above exception, another exception occurred:\n",
      "\u001b[0;31mTypeError\u001b[0m                                 Traceback (most recent call last)",
      "\u001b[0;32mpomegranate/bayes.pyx\u001b[0m in \u001b[0;36mpomegranate.bayes.BayesModel.from_summaries\u001b[0;34m()\u001b[0m\n",
      "\u001b[0;32mpomegranate/distributions.pyx\u001b[0m in \u001b[0;36mpomegranate.distributions.MultivariateGaussianDistribution.from_summaries\u001b[0;34m()\u001b[0m\n",
      "\u001b[0;31mTypeError\u001b[0m: Cannot cast ufunc subtract output from dtype('complex128') to dtype('float64') with casting rule 'same_kind'"
     ]
    },
    {
     "name": "stderr",
     "output_type": "stream",
     "text": [
      "Exception ignored in: 'pomegranate.hmm.HiddenMarkovModel._from_summaries'\n",
      "Traceback (most recent call last):\n",
      "  File \"pomegranate/bayes.pyx\", line 710, in pomegranate.bayes.BayesModel.from_summaries\n",
      "  File \"pomegranate/distributions.pyx\", line 2259, in pomegranate.distributions.MultivariateGaussianDistribution.from_summaries\n",
      "TypeError: Cannot cast ufunc subtract output from dtype('complex128') to dtype('float64') with casting rule 'same_kind'\n"
     ]
    },
    {
     "name": "stdout",
     "output_type": "stream",
     "text": [
      "[27] Improvement: 2.373902595601976\tTime (s): 540.3\n"
     ]
    },
    {
     "ename": "TypeError",
     "evalue": "Cannot cast ufunc subtract output from dtype('complex128') to dtype('float64') with casting rule 'same_kind'",
     "output_type": "error",
     "traceback": [
      "\u001b[0;31m---------------------------------------------------------------------------\u001b[0m",
      "\u001b[0;31mLinAlgError\u001b[0m                               Traceback (most recent call last)",
      "\u001b[0;32mpomegranate/distributions.pyx\u001b[0m in \u001b[0;36mpomegranate.distributions.MultivariateGaussianDistribution.from_summaries\u001b[0;34m()\u001b[0m\n",
      "\u001b[0;32m/usr/local/lib/python3.5/dist-packages/scipy/linalg/decomp_cholesky.py\u001b[0m in \u001b[0;36mcholesky\u001b[0;34m(a, lower, overwrite_a, check_finite)\u001b[0m\n\u001b[1;32m     80\u001b[0m     c, lower = _cholesky(a, lower=lower, overwrite_a=overwrite_a, clean=True,\n\u001b[0;32m---> 81\u001b[0;31m                             check_finite=check_finite)\n\u001b[0m\u001b[1;32m     82\u001b[0m     \u001b[0;32mreturn\u001b[0m \u001b[0mc\u001b[0m\u001b[0;34m\u001b[0m\u001b[0m\n",
      "\u001b[0;32m/usr/local/lib/python3.5/dist-packages/scipy/linalg/decomp_cholesky.py\u001b[0m in \u001b[0;36m_cholesky\u001b[0;34m(a, lower, overwrite_a, clean, check_finite)\u001b[0m\n\u001b[1;32m     29\u001b[0m     \u001b[0;32mif\u001b[0m \u001b[0minfo\u001b[0m \u001b[0;34m>\u001b[0m \u001b[0;36m0\u001b[0m\u001b[0;34m:\u001b[0m\u001b[0;34m\u001b[0m\u001b[0m\n\u001b[0;32m---> 30\u001b[0;31m         \u001b[0;32mraise\u001b[0m \u001b[0mLinAlgError\u001b[0m\u001b[0;34m(\u001b[0m\u001b[0;34m\"%d-th leading minor not positive definite\"\u001b[0m \u001b[0;34m%\u001b[0m \u001b[0minfo\u001b[0m\u001b[0;34m)\u001b[0m\u001b[0;34m\u001b[0m\u001b[0m\n\u001b[0m\u001b[1;32m     31\u001b[0m     \u001b[0;32mif\u001b[0m \u001b[0minfo\u001b[0m \u001b[0;34m<\u001b[0m \u001b[0;36m0\u001b[0m\u001b[0;34m:\u001b[0m\u001b[0;34m\u001b[0m\u001b[0m\n",
      "\u001b[0;31mLinAlgError\u001b[0m: 23-th leading minor not positive definite",
      "\nDuring handling of the above exception, another exception occurred:\n",
      "\u001b[0;31mTypeError\u001b[0m                                 Traceback (most recent call last)",
      "\u001b[0;32mpomegranate/bayes.pyx\u001b[0m in \u001b[0;36mpomegranate.bayes.BayesModel.from_summaries\u001b[0;34m()\u001b[0m\n",
      "\u001b[0;32mpomegranate/distributions.pyx\u001b[0m in \u001b[0;36mpomegranate.distributions.MultivariateGaussianDistribution.from_summaries\u001b[0;34m()\u001b[0m\n",
      "\u001b[0;31mTypeError\u001b[0m: Cannot cast ufunc subtract output from dtype('complex128') to dtype('float64') with casting rule 'same_kind'"
     ]
    },
    {
     "name": "stderr",
     "output_type": "stream",
     "text": [
      "Exception ignored in: 'pomegranate.hmm.HiddenMarkovModel._from_summaries'\n",
      "Traceback (most recent call last):\n",
      "  File \"pomegranate/bayes.pyx\", line 710, in pomegranate.bayes.BayesModel.from_summaries\n",
      "  File \"pomegranate/distributions.pyx\", line 2259, in pomegranate.distributions.MultivariateGaussianDistribution.from_summaries\n",
      "TypeError: Cannot cast ufunc subtract output from dtype('complex128') to dtype('float64') with casting rule 'same_kind'\n"
     ]
    },
    {
     "name": "stdout",
     "output_type": "stream",
     "text": [
      "[28] Improvement: 1.8202342817094177\tTime (s): 538.5\n"
     ]
    },
    {
     "ename": "TypeError",
     "evalue": "Cannot cast ufunc subtract output from dtype('complex128') to dtype('float64') with casting rule 'same_kind'",
     "output_type": "error",
     "traceback": [
      "\u001b[0;31m---------------------------------------------------------------------------\u001b[0m",
      "\u001b[0;31mLinAlgError\u001b[0m                               Traceback (most recent call last)",
      "\u001b[0;32mpomegranate/distributions.pyx\u001b[0m in \u001b[0;36mpomegranate.distributions.MultivariateGaussianDistribution.from_summaries\u001b[0;34m()\u001b[0m\n",
      "\u001b[0;32m/usr/local/lib/python3.5/dist-packages/scipy/linalg/decomp_cholesky.py\u001b[0m in \u001b[0;36mcholesky\u001b[0;34m(a, lower, overwrite_a, check_finite)\u001b[0m\n\u001b[1;32m     80\u001b[0m     c, lower = _cholesky(a, lower=lower, overwrite_a=overwrite_a, clean=True,\n\u001b[0;32m---> 81\u001b[0;31m                             check_finite=check_finite)\n\u001b[0m\u001b[1;32m     82\u001b[0m     \u001b[0;32mreturn\u001b[0m \u001b[0mc\u001b[0m\u001b[0;34m\u001b[0m\u001b[0m\n",
      "\u001b[0;32m/usr/local/lib/python3.5/dist-packages/scipy/linalg/decomp_cholesky.py\u001b[0m in \u001b[0;36m_cholesky\u001b[0;34m(a, lower, overwrite_a, clean, check_finite)\u001b[0m\n\u001b[1;32m     29\u001b[0m     \u001b[0;32mif\u001b[0m \u001b[0minfo\u001b[0m \u001b[0;34m>\u001b[0m \u001b[0;36m0\u001b[0m\u001b[0;34m:\u001b[0m\u001b[0;34m\u001b[0m\u001b[0m\n\u001b[0;32m---> 30\u001b[0;31m         \u001b[0;32mraise\u001b[0m \u001b[0mLinAlgError\u001b[0m\u001b[0;34m(\u001b[0m\u001b[0;34m\"%d-th leading minor not positive definite\"\u001b[0m \u001b[0;34m%\u001b[0m \u001b[0minfo\u001b[0m\u001b[0;34m)\u001b[0m\u001b[0;34m\u001b[0m\u001b[0m\n\u001b[0m\u001b[1;32m     31\u001b[0m     \u001b[0;32mif\u001b[0m \u001b[0minfo\u001b[0m \u001b[0;34m<\u001b[0m \u001b[0;36m0\u001b[0m\u001b[0;34m:\u001b[0m\u001b[0;34m\u001b[0m\u001b[0m\n",
      "\u001b[0;31mLinAlgError\u001b[0m: 23-th leading minor not positive definite",
      "\nDuring handling of the above exception, another exception occurred:\n",
      "\u001b[0;31mTypeError\u001b[0m                                 Traceback (most recent call last)",
      "\u001b[0;32mpomegranate/bayes.pyx\u001b[0m in \u001b[0;36mpomegranate.bayes.BayesModel.from_summaries\u001b[0;34m()\u001b[0m\n",
      "\u001b[0;32mpomegranate/distributions.pyx\u001b[0m in \u001b[0;36mpomegranate.distributions.MultivariateGaussianDistribution.from_summaries\u001b[0;34m()\u001b[0m\n",
      "\u001b[0;31mTypeError\u001b[0m: Cannot cast ufunc subtract output from dtype('complex128') to dtype('float64') with casting rule 'same_kind'"
     ]
    },
    {
     "name": "stderr",
     "output_type": "stream",
     "text": [
      "Exception ignored in: 'pomegranate.hmm.HiddenMarkovModel._from_summaries'\n",
      "Traceback (most recent call last):\n",
      "  File \"pomegranate/bayes.pyx\", line 710, in pomegranate.bayes.BayesModel.from_summaries\n",
      "  File \"pomegranate/distributions.pyx\", line 2259, in pomegranate.distributions.MultivariateGaussianDistribution.from_summaries\n",
      "TypeError: Cannot cast ufunc subtract output from dtype('complex128') to dtype('float64') with casting rule 'same_kind'\n"
     ]
    },
    {
     "name": "stdout",
     "output_type": "stream",
     "text": [
      "[29] Improvement: 1.1508187069557607\tTime (s): 531.2\n"
     ]
    },
    {
     "ename": "TypeError",
     "evalue": "Cannot cast ufunc subtract output from dtype('complex128') to dtype('float64') with casting rule 'same_kind'",
     "output_type": "error",
     "traceback": [
      "\u001b[0;31m---------------------------------------------------------------------------\u001b[0m",
      "\u001b[0;31mLinAlgError\u001b[0m                               Traceback (most recent call last)",
      "\u001b[0;32mpomegranate/distributions.pyx\u001b[0m in \u001b[0;36mpomegranate.distributions.MultivariateGaussianDistribution.from_summaries\u001b[0;34m()\u001b[0m\n",
      "\u001b[0;32m/usr/local/lib/python3.5/dist-packages/scipy/linalg/decomp_cholesky.py\u001b[0m in \u001b[0;36mcholesky\u001b[0;34m(a, lower, overwrite_a, check_finite)\u001b[0m\n\u001b[1;32m     80\u001b[0m     c, lower = _cholesky(a, lower=lower, overwrite_a=overwrite_a, clean=True,\n\u001b[0;32m---> 81\u001b[0;31m                             check_finite=check_finite)\n\u001b[0m\u001b[1;32m     82\u001b[0m     \u001b[0;32mreturn\u001b[0m \u001b[0mc\u001b[0m\u001b[0;34m\u001b[0m\u001b[0m\n",
      "\u001b[0;32m/usr/local/lib/python3.5/dist-packages/scipy/linalg/decomp_cholesky.py\u001b[0m in \u001b[0;36m_cholesky\u001b[0;34m(a, lower, overwrite_a, clean, check_finite)\u001b[0m\n\u001b[1;32m     29\u001b[0m     \u001b[0;32mif\u001b[0m \u001b[0minfo\u001b[0m \u001b[0;34m>\u001b[0m \u001b[0;36m0\u001b[0m\u001b[0;34m:\u001b[0m\u001b[0;34m\u001b[0m\u001b[0m\n\u001b[0;32m---> 30\u001b[0;31m         \u001b[0;32mraise\u001b[0m \u001b[0mLinAlgError\u001b[0m\u001b[0;34m(\u001b[0m\u001b[0;34m\"%d-th leading minor not positive definite\"\u001b[0m \u001b[0;34m%\u001b[0m \u001b[0minfo\u001b[0m\u001b[0;34m)\u001b[0m\u001b[0;34m\u001b[0m\u001b[0m\n\u001b[0m\u001b[1;32m     31\u001b[0m     \u001b[0;32mif\u001b[0m \u001b[0minfo\u001b[0m \u001b[0;34m<\u001b[0m \u001b[0;36m0\u001b[0m\u001b[0;34m:\u001b[0m\u001b[0;34m\u001b[0m\u001b[0m\n",
      "\u001b[0;31mLinAlgError\u001b[0m: 23-th leading minor not positive definite",
      "\nDuring handling of the above exception, another exception occurred:\n",
      "\u001b[0;31mTypeError\u001b[0m                                 Traceback (most recent call last)",
      "\u001b[0;32mpomegranate/bayes.pyx\u001b[0m in \u001b[0;36mpomegranate.bayes.BayesModel.from_summaries\u001b[0;34m()\u001b[0m\n",
      "\u001b[0;32mpomegranate/distributions.pyx\u001b[0m in \u001b[0;36mpomegranate.distributions.MultivariateGaussianDistribution.from_summaries\u001b[0;34m()\u001b[0m\n",
      "\u001b[0;31mTypeError\u001b[0m: Cannot cast ufunc subtract output from dtype('complex128') to dtype('float64') with casting rule 'same_kind'"
     ]
    },
    {
     "name": "stderr",
     "output_type": "stream",
     "text": [
      "Exception ignored in: 'pomegranate.hmm.HiddenMarkovModel._from_summaries'\n",
      "Traceback (most recent call last):\n",
      "  File \"pomegranate/bayes.pyx\", line 710, in pomegranate.bayes.BayesModel.from_summaries\n",
      "  File \"pomegranate/distributions.pyx\", line 2259, in pomegranate.distributions.MultivariateGaussianDistribution.from_summaries\n",
      "TypeError: Cannot cast ufunc subtract output from dtype('complex128') to dtype('float64') with casting rule 'same_kind'\n"
     ]
    },
    {
     "name": "stdout",
     "output_type": "stream",
     "text": [
      "[30] Improvement: 0.14089310844428837\tTime (s): 537.6\n"
     ]
    },
    {
     "ename": "TypeError",
     "evalue": "Cannot cast ufunc subtract output from dtype('complex128') to dtype('float64') with casting rule 'same_kind'",
     "output_type": "error",
     "traceback": [
      "\u001b[0;31m---------------------------------------------------------------------------\u001b[0m",
      "\u001b[0;31mLinAlgError\u001b[0m                               Traceback (most recent call last)",
      "\u001b[0;32mpomegranate/distributions.pyx\u001b[0m in \u001b[0;36mpomegranate.distributions.MultivariateGaussianDistribution.from_summaries\u001b[0;34m()\u001b[0m\n",
      "\u001b[0;32m/usr/local/lib/python3.5/dist-packages/scipy/linalg/decomp_cholesky.py\u001b[0m in \u001b[0;36mcholesky\u001b[0;34m(a, lower, overwrite_a, check_finite)\u001b[0m\n\u001b[1;32m     80\u001b[0m     c, lower = _cholesky(a, lower=lower, overwrite_a=overwrite_a, clean=True,\n\u001b[0;32m---> 81\u001b[0;31m                             check_finite=check_finite)\n\u001b[0m\u001b[1;32m     82\u001b[0m     \u001b[0;32mreturn\u001b[0m \u001b[0mc\u001b[0m\u001b[0;34m\u001b[0m\u001b[0m\n",
      "\u001b[0;32m/usr/local/lib/python3.5/dist-packages/scipy/linalg/decomp_cholesky.py\u001b[0m in \u001b[0;36m_cholesky\u001b[0;34m(a, lower, overwrite_a, clean, check_finite)\u001b[0m\n\u001b[1;32m     29\u001b[0m     \u001b[0;32mif\u001b[0m \u001b[0minfo\u001b[0m \u001b[0;34m>\u001b[0m \u001b[0;36m0\u001b[0m\u001b[0;34m:\u001b[0m\u001b[0;34m\u001b[0m\u001b[0m\n\u001b[0;32m---> 30\u001b[0;31m         \u001b[0;32mraise\u001b[0m \u001b[0mLinAlgError\u001b[0m\u001b[0;34m(\u001b[0m\u001b[0;34m\"%d-th leading minor not positive definite\"\u001b[0m \u001b[0;34m%\u001b[0m \u001b[0minfo\u001b[0m\u001b[0;34m)\u001b[0m\u001b[0;34m\u001b[0m\u001b[0m\n\u001b[0m\u001b[1;32m     31\u001b[0m     \u001b[0;32mif\u001b[0m \u001b[0minfo\u001b[0m \u001b[0;34m<\u001b[0m \u001b[0;36m0\u001b[0m\u001b[0;34m:\u001b[0m\u001b[0;34m\u001b[0m\u001b[0m\n",
      "\u001b[0;31mLinAlgError\u001b[0m: 23-th leading minor not positive definite",
      "\nDuring handling of the above exception, another exception occurred:\n",
      "\u001b[0;31mTypeError\u001b[0m                                 Traceback (most recent call last)",
      "\u001b[0;32mpomegranate/bayes.pyx\u001b[0m in \u001b[0;36mpomegranate.bayes.BayesModel.from_summaries\u001b[0;34m()\u001b[0m\n",
      "\u001b[0;32mpomegranate/distributions.pyx\u001b[0m in \u001b[0;36mpomegranate.distributions.MultivariateGaussianDistribution.from_summaries\u001b[0;34m()\u001b[0m\n",
      "\u001b[0;31mTypeError\u001b[0m: Cannot cast ufunc subtract output from dtype('complex128') to dtype('float64') with casting rule 'same_kind'"
     ]
    },
    {
     "name": "stderr",
     "output_type": "stream",
     "text": [
      "Exception ignored in: 'pomegranate.hmm.HiddenMarkovModel._from_summaries'\n",
      "Traceback (most recent call last):\n",
      "  File \"pomegranate/bayes.pyx\", line 710, in pomegranate.bayes.BayesModel.from_summaries\n",
      "  File \"pomegranate/distributions.pyx\", line 2259, in pomegranate.distributions.MultivariateGaussianDistribution.from_summaries\n",
      "TypeError: Cannot cast ufunc subtract output from dtype('complex128') to dtype('float64') with casting rule 'same_kind'\n"
     ]
    },
    {
     "name": "stdout",
     "output_type": "stream",
     "text": [
      "[31] Improvement: 0.025304103270173073\tTime (s): 539.9\n"
     ]
    },
    {
     "ename": "TypeError",
     "evalue": "Cannot cast ufunc subtract output from dtype('complex128') to dtype('float64') with casting rule 'same_kind'",
     "output_type": "error",
     "traceback": [
      "\u001b[0;31m---------------------------------------------------------------------------\u001b[0m",
      "\u001b[0;31mLinAlgError\u001b[0m                               Traceback (most recent call last)",
      "\u001b[0;32mpomegranate/distributions.pyx\u001b[0m in \u001b[0;36mpomegranate.distributions.MultivariateGaussianDistribution.from_summaries\u001b[0;34m()\u001b[0m\n",
      "\u001b[0;32m/usr/local/lib/python3.5/dist-packages/scipy/linalg/decomp_cholesky.py\u001b[0m in \u001b[0;36mcholesky\u001b[0;34m(a, lower, overwrite_a, check_finite)\u001b[0m\n\u001b[1;32m     80\u001b[0m     c, lower = _cholesky(a, lower=lower, overwrite_a=overwrite_a, clean=True,\n\u001b[0;32m---> 81\u001b[0;31m                             check_finite=check_finite)\n\u001b[0m\u001b[1;32m     82\u001b[0m     \u001b[0;32mreturn\u001b[0m \u001b[0mc\u001b[0m\u001b[0;34m\u001b[0m\u001b[0m\n",
      "\u001b[0;32m/usr/local/lib/python3.5/dist-packages/scipy/linalg/decomp_cholesky.py\u001b[0m in \u001b[0;36m_cholesky\u001b[0;34m(a, lower, overwrite_a, clean, check_finite)\u001b[0m\n\u001b[1;32m     29\u001b[0m     \u001b[0;32mif\u001b[0m \u001b[0minfo\u001b[0m \u001b[0;34m>\u001b[0m \u001b[0;36m0\u001b[0m\u001b[0;34m:\u001b[0m\u001b[0;34m\u001b[0m\u001b[0m\n\u001b[0;32m---> 30\u001b[0;31m         \u001b[0;32mraise\u001b[0m \u001b[0mLinAlgError\u001b[0m\u001b[0;34m(\u001b[0m\u001b[0;34m\"%d-th leading minor not positive definite\"\u001b[0m \u001b[0;34m%\u001b[0m \u001b[0minfo\u001b[0m\u001b[0;34m)\u001b[0m\u001b[0;34m\u001b[0m\u001b[0m\n\u001b[0m\u001b[1;32m     31\u001b[0m     \u001b[0;32mif\u001b[0m \u001b[0minfo\u001b[0m \u001b[0;34m<\u001b[0m \u001b[0;36m0\u001b[0m\u001b[0;34m:\u001b[0m\u001b[0;34m\u001b[0m\u001b[0m\n",
      "\u001b[0;31mLinAlgError\u001b[0m: 23-th leading minor not positive definite",
      "\nDuring handling of the above exception, another exception occurred:\n",
      "\u001b[0;31mTypeError\u001b[0m                                 Traceback (most recent call last)",
      "\u001b[0;32mpomegranate/bayes.pyx\u001b[0m in \u001b[0;36mpomegranate.bayes.BayesModel.from_summaries\u001b[0;34m()\u001b[0m\n",
      "\u001b[0;32mpomegranate/distributions.pyx\u001b[0m in \u001b[0;36mpomegranate.distributions.MultivariateGaussianDistribution.from_summaries\u001b[0;34m()\u001b[0m\n",
      "\u001b[0;31mTypeError\u001b[0m: Cannot cast ufunc subtract output from dtype('complex128') to dtype('float64') with casting rule 'same_kind'"
     ]
    },
    {
     "name": "stderr",
     "output_type": "stream",
     "text": [
      "Exception ignored in: 'pomegranate.hmm.HiddenMarkovModel._from_summaries'\n",
      "Traceback (most recent call last):\n",
      "  File \"pomegranate/bayes.pyx\", line 710, in pomegranate.bayes.BayesModel.from_summaries\n",
      "  File \"pomegranate/distributions.pyx\", line 2259, in pomegranate.distributions.MultivariateGaussianDistribution.from_summaries\n",
      "TypeError: Cannot cast ufunc subtract output from dtype('complex128') to dtype('float64') with casting rule 'same_kind'\n"
     ]
    },
    {
     "name": "stdout",
     "output_type": "stream",
     "text": [
      "[32] Improvement: 0.009570289170369506\tTime (s): 543.2\n"
     ]
    },
    {
     "ename": "TypeError",
     "evalue": "Cannot cast ufunc subtract output from dtype('complex128') to dtype('float64') with casting rule 'same_kind'",
     "output_type": "error",
     "traceback": [
      "\u001b[0;31m---------------------------------------------------------------------------\u001b[0m",
      "\u001b[0;31mLinAlgError\u001b[0m                               Traceback (most recent call last)",
      "\u001b[0;32mpomegranate/distributions.pyx\u001b[0m in \u001b[0;36mpomegranate.distributions.MultivariateGaussianDistribution.from_summaries\u001b[0;34m()\u001b[0m\n",
      "\u001b[0;32m/usr/local/lib/python3.5/dist-packages/scipy/linalg/decomp_cholesky.py\u001b[0m in \u001b[0;36mcholesky\u001b[0;34m(a, lower, overwrite_a, check_finite)\u001b[0m\n\u001b[1;32m     80\u001b[0m     c, lower = _cholesky(a, lower=lower, overwrite_a=overwrite_a, clean=True,\n\u001b[0;32m---> 81\u001b[0;31m                             check_finite=check_finite)\n\u001b[0m\u001b[1;32m     82\u001b[0m     \u001b[0;32mreturn\u001b[0m \u001b[0mc\u001b[0m\u001b[0;34m\u001b[0m\u001b[0m\n",
      "\u001b[0;32m/usr/local/lib/python3.5/dist-packages/scipy/linalg/decomp_cholesky.py\u001b[0m in \u001b[0;36m_cholesky\u001b[0;34m(a, lower, overwrite_a, clean, check_finite)\u001b[0m\n\u001b[1;32m     29\u001b[0m     \u001b[0;32mif\u001b[0m \u001b[0minfo\u001b[0m \u001b[0;34m>\u001b[0m \u001b[0;36m0\u001b[0m\u001b[0;34m:\u001b[0m\u001b[0;34m\u001b[0m\u001b[0m\n\u001b[0;32m---> 30\u001b[0;31m         \u001b[0;32mraise\u001b[0m \u001b[0mLinAlgError\u001b[0m\u001b[0;34m(\u001b[0m\u001b[0;34m\"%d-th leading minor not positive definite\"\u001b[0m \u001b[0;34m%\u001b[0m \u001b[0minfo\u001b[0m\u001b[0;34m)\u001b[0m\u001b[0;34m\u001b[0m\u001b[0m\n\u001b[0m\u001b[1;32m     31\u001b[0m     \u001b[0;32mif\u001b[0m \u001b[0minfo\u001b[0m \u001b[0;34m<\u001b[0m \u001b[0;36m0\u001b[0m\u001b[0;34m:\u001b[0m\u001b[0;34m\u001b[0m\u001b[0m\n",
      "\u001b[0;31mLinAlgError\u001b[0m: 23-th leading minor not positive definite",
      "\nDuring handling of the above exception, another exception occurred:\n",
      "\u001b[0;31mTypeError\u001b[0m                                 Traceback (most recent call last)",
      "\u001b[0;32mpomegranate/bayes.pyx\u001b[0m in \u001b[0;36mpomegranate.bayes.BayesModel.from_summaries\u001b[0;34m()\u001b[0m\n",
      "\u001b[0;32mpomegranate/distributions.pyx\u001b[0m in \u001b[0;36mpomegranate.distributions.MultivariateGaussianDistribution.from_summaries\u001b[0;34m()\u001b[0m\n",
      "\u001b[0;31mTypeError\u001b[0m: Cannot cast ufunc subtract output from dtype('complex128') to dtype('float64') with casting rule 'same_kind'"
     ]
    },
    {
     "name": "stderr",
     "output_type": "stream",
     "text": [
      "Exception ignored in: 'pomegranate.hmm.HiddenMarkovModel._from_summaries'\n",
      "Traceback (most recent call last):\n",
      "  File \"pomegranate/bayes.pyx\", line 710, in pomegranate.bayes.BayesModel.from_summaries\n",
      "  File \"pomegranate/distributions.pyx\", line 2259, in pomegranate.distributions.MultivariateGaussianDistribution.from_summaries\n",
      "TypeError: Cannot cast ufunc subtract output from dtype('complex128') to dtype('float64') with casting rule 'same_kind'\n"
     ]
    },
    {
     "name": "stdout",
     "output_type": "stream",
     "text": [
      "[33] Improvement: 0.00407100236043334\tTime (s): 543.1\n"
     ]
    },
    {
     "ename": "TypeError",
     "evalue": "Cannot cast ufunc subtract output from dtype('complex128') to dtype('float64') with casting rule 'same_kind'",
     "output_type": "error",
     "traceback": [
      "\u001b[0;31m---------------------------------------------------------------------------\u001b[0m",
      "\u001b[0;31mLinAlgError\u001b[0m                               Traceback (most recent call last)",
      "\u001b[0;32mpomegranate/distributions.pyx\u001b[0m in \u001b[0;36mpomegranate.distributions.MultivariateGaussianDistribution.from_summaries\u001b[0;34m()\u001b[0m\n",
      "\u001b[0;32m/usr/local/lib/python3.5/dist-packages/scipy/linalg/decomp_cholesky.py\u001b[0m in \u001b[0;36mcholesky\u001b[0;34m(a, lower, overwrite_a, check_finite)\u001b[0m\n\u001b[1;32m     80\u001b[0m     c, lower = _cholesky(a, lower=lower, overwrite_a=overwrite_a, clean=True,\n\u001b[0;32m---> 81\u001b[0;31m                             check_finite=check_finite)\n\u001b[0m\u001b[1;32m     82\u001b[0m     \u001b[0;32mreturn\u001b[0m \u001b[0mc\u001b[0m\u001b[0;34m\u001b[0m\u001b[0m\n",
      "\u001b[0;32m/usr/local/lib/python3.5/dist-packages/scipy/linalg/decomp_cholesky.py\u001b[0m in \u001b[0;36m_cholesky\u001b[0;34m(a, lower, overwrite_a, clean, check_finite)\u001b[0m\n\u001b[1;32m     29\u001b[0m     \u001b[0;32mif\u001b[0m \u001b[0minfo\u001b[0m \u001b[0;34m>\u001b[0m \u001b[0;36m0\u001b[0m\u001b[0;34m:\u001b[0m\u001b[0;34m\u001b[0m\u001b[0m\n\u001b[0;32m---> 30\u001b[0;31m         \u001b[0;32mraise\u001b[0m \u001b[0mLinAlgError\u001b[0m\u001b[0;34m(\u001b[0m\u001b[0;34m\"%d-th leading minor not positive definite\"\u001b[0m \u001b[0;34m%\u001b[0m \u001b[0minfo\u001b[0m\u001b[0;34m)\u001b[0m\u001b[0;34m\u001b[0m\u001b[0m\n\u001b[0m\u001b[1;32m     31\u001b[0m     \u001b[0;32mif\u001b[0m \u001b[0minfo\u001b[0m \u001b[0;34m<\u001b[0m \u001b[0;36m0\u001b[0m\u001b[0;34m:\u001b[0m\u001b[0;34m\u001b[0m\u001b[0m\n",
      "\u001b[0;31mLinAlgError\u001b[0m: 23-th leading minor not positive definite",
      "\nDuring handling of the above exception, another exception occurred:\n",
      "\u001b[0;31mTypeError\u001b[0m                                 Traceback (most recent call last)",
      "\u001b[0;32mpomegranate/bayes.pyx\u001b[0m in \u001b[0;36mpomegranate.bayes.BayesModel.from_summaries\u001b[0;34m()\u001b[0m\n",
      "\u001b[0;32mpomegranate/distributions.pyx\u001b[0m in \u001b[0;36mpomegranate.distributions.MultivariateGaussianDistribution.from_summaries\u001b[0;34m()\u001b[0m\n",
      "\u001b[0;31mTypeError\u001b[0m: Cannot cast ufunc subtract output from dtype('complex128') to dtype('float64') with casting rule 'same_kind'"
     ]
    },
    {
     "name": "stderr",
     "output_type": "stream",
     "text": [
      "Exception ignored in: 'pomegranate.hmm.HiddenMarkovModel._from_summaries'\n",
      "Traceback (most recent call last):\n",
      "  File \"pomegranate/bayes.pyx\", line 710, in pomegranate.bayes.BayesModel.from_summaries\n",
      "  File \"pomegranate/distributions.pyx\", line 2259, in pomegranate.distributions.MultivariateGaussianDistribution.from_summaries\n",
      "TypeError: Cannot cast ufunc subtract output from dtype('complex128') to dtype('float64') with casting rule 'same_kind'\n"
     ]
    },
    {
     "name": "stdout",
     "output_type": "stream",
     "text": [
      "[34] Improvement: 0.0019249648321419954\tTime (s): 541.6\n"
     ]
    },
    {
     "ename": "TypeError",
     "evalue": "Cannot cast ufunc subtract output from dtype('complex128') to dtype('float64') with casting rule 'same_kind'",
     "output_type": "error",
     "traceback": [
      "\u001b[0;31m---------------------------------------------------------------------------\u001b[0m",
      "\u001b[0;31mLinAlgError\u001b[0m                               Traceback (most recent call last)",
      "\u001b[0;32mpomegranate/distributions.pyx\u001b[0m in \u001b[0;36mpomegranate.distributions.MultivariateGaussianDistribution.from_summaries\u001b[0;34m()\u001b[0m\n",
      "\u001b[0;32m/usr/local/lib/python3.5/dist-packages/scipy/linalg/decomp_cholesky.py\u001b[0m in \u001b[0;36mcholesky\u001b[0;34m(a, lower, overwrite_a, check_finite)\u001b[0m\n\u001b[1;32m     80\u001b[0m     c, lower = _cholesky(a, lower=lower, overwrite_a=overwrite_a, clean=True,\n\u001b[0;32m---> 81\u001b[0;31m                             check_finite=check_finite)\n\u001b[0m\u001b[1;32m     82\u001b[0m     \u001b[0;32mreturn\u001b[0m \u001b[0mc\u001b[0m\u001b[0;34m\u001b[0m\u001b[0m\n",
      "\u001b[0;32m/usr/local/lib/python3.5/dist-packages/scipy/linalg/decomp_cholesky.py\u001b[0m in \u001b[0;36m_cholesky\u001b[0;34m(a, lower, overwrite_a, clean, check_finite)\u001b[0m\n\u001b[1;32m     29\u001b[0m     \u001b[0;32mif\u001b[0m \u001b[0minfo\u001b[0m \u001b[0;34m>\u001b[0m \u001b[0;36m0\u001b[0m\u001b[0;34m:\u001b[0m\u001b[0;34m\u001b[0m\u001b[0m\n\u001b[0;32m---> 30\u001b[0;31m         \u001b[0;32mraise\u001b[0m \u001b[0mLinAlgError\u001b[0m\u001b[0;34m(\u001b[0m\u001b[0;34m\"%d-th leading minor not positive definite\"\u001b[0m \u001b[0;34m%\u001b[0m \u001b[0minfo\u001b[0m\u001b[0;34m)\u001b[0m\u001b[0;34m\u001b[0m\u001b[0m\n\u001b[0m\u001b[1;32m     31\u001b[0m     \u001b[0;32mif\u001b[0m \u001b[0minfo\u001b[0m \u001b[0;34m<\u001b[0m \u001b[0;36m0\u001b[0m\u001b[0;34m:\u001b[0m\u001b[0;34m\u001b[0m\u001b[0m\n",
      "\u001b[0;31mLinAlgError\u001b[0m: 23-th leading minor not positive definite",
      "\nDuring handling of the above exception, another exception occurred:\n",
      "\u001b[0;31mTypeError\u001b[0m                                 Traceback (most recent call last)",
      "\u001b[0;32mpomegranate/bayes.pyx\u001b[0m in \u001b[0;36mpomegranate.bayes.BayesModel.from_summaries\u001b[0;34m()\u001b[0m\n",
      "\u001b[0;32mpomegranate/distributions.pyx\u001b[0m in \u001b[0;36mpomegranate.distributions.MultivariateGaussianDistribution.from_summaries\u001b[0;34m()\u001b[0m\n",
      "\u001b[0;31mTypeError\u001b[0m: Cannot cast ufunc subtract output from dtype('complex128') to dtype('float64') with casting rule 'same_kind'"
     ]
    },
    {
     "name": "stderr",
     "output_type": "stream",
     "text": [
      "Exception ignored in: 'pomegranate.hmm.HiddenMarkovModel._from_summaries'\n",
      "Traceback (most recent call last):\n",
      "  File \"pomegranate/bayes.pyx\", line 710, in pomegranate.bayes.BayesModel.from_summaries\n",
      "  File \"pomegranate/distributions.pyx\", line 2259, in pomegranate.distributions.MultivariateGaussianDistribution.from_summaries\n",
      "TypeError: Cannot cast ufunc subtract output from dtype('complex128') to dtype('float64') with casting rule 'same_kind'\n"
     ]
    },
    {
     "name": "stdout",
     "output_type": "stream",
     "text": [
      "[35] Improvement: 0.0011146396864205599\tTime (s): 539.0\n"
     ]
    },
    {
     "ename": "TypeError",
     "evalue": "Cannot cast ufunc subtract output from dtype('complex128') to dtype('float64') with casting rule 'same_kind'",
     "output_type": "error",
     "traceback": [
      "\u001b[0;31m---------------------------------------------------------------------------\u001b[0m",
      "\u001b[0;31mLinAlgError\u001b[0m                               Traceback (most recent call last)",
      "\u001b[0;32mpomegranate/distributions.pyx\u001b[0m in \u001b[0;36mpomegranate.distributions.MultivariateGaussianDistribution.from_summaries\u001b[0;34m()\u001b[0m\n",
      "\u001b[0;32m/usr/local/lib/python3.5/dist-packages/scipy/linalg/decomp_cholesky.py\u001b[0m in \u001b[0;36mcholesky\u001b[0;34m(a, lower, overwrite_a, check_finite)\u001b[0m\n\u001b[1;32m     80\u001b[0m     c, lower = _cholesky(a, lower=lower, overwrite_a=overwrite_a, clean=True,\n\u001b[0;32m---> 81\u001b[0;31m                             check_finite=check_finite)\n\u001b[0m\u001b[1;32m     82\u001b[0m     \u001b[0;32mreturn\u001b[0m \u001b[0mc\u001b[0m\u001b[0;34m\u001b[0m\u001b[0m\n",
      "\u001b[0;32m/usr/local/lib/python3.5/dist-packages/scipy/linalg/decomp_cholesky.py\u001b[0m in \u001b[0;36m_cholesky\u001b[0;34m(a, lower, overwrite_a, clean, check_finite)\u001b[0m\n\u001b[1;32m     29\u001b[0m     \u001b[0;32mif\u001b[0m \u001b[0minfo\u001b[0m \u001b[0;34m>\u001b[0m \u001b[0;36m0\u001b[0m\u001b[0;34m:\u001b[0m\u001b[0;34m\u001b[0m\u001b[0m\n\u001b[0;32m---> 30\u001b[0;31m         \u001b[0;32mraise\u001b[0m \u001b[0mLinAlgError\u001b[0m\u001b[0;34m(\u001b[0m\u001b[0;34m\"%d-th leading minor not positive definite\"\u001b[0m \u001b[0;34m%\u001b[0m \u001b[0minfo\u001b[0m\u001b[0;34m)\u001b[0m\u001b[0;34m\u001b[0m\u001b[0m\n\u001b[0m\u001b[1;32m     31\u001b[0m     \u001b[0;32mif\u001b[0m \u001b[0minfo\u001b[0m \u001b[0;34m<\u001b[0m \u001b[0;36m0\u001b[0m\u001b[0;34m:\u001b[0m\u001b[0;34m\u001b[0m\u001b[0m\n",
      "\u001b[0;31mLinAlgError\u001b[0m: 23-th leading minor not positive definite",
      "\nDuring handling of the above exception, another exception occurred:\n",
      "\u001b[0;31mTypeError\u001b[0m                                 Traceback (most recent call last)",
      "\u001b[0;32mpomegranate/bayes.pyx\u001b[0m in \u001b[0;36mpomegranate.bayes.BayesModel.from_summaries\u001b[0;34m()\u001b[0m\n",
      "\u001b[0;32mpomegranate/distributions.pyx\u001b[0m in \u001b[0;36mpomegranate.distributions.MultivariateGaussianDistribution.from_summaries\u001b[0;34m()\u001b[0m\n",
      "\u001b[0;31mTypeError\u001b[0m: Cannot cast ufunc subtract output from dtype('complex128') to dtype('float64') with casting rule 'same_kind'"
     ]
    },
    {
     "name": "stderr",
     "output_type": "stream",
     "text": [
      "Exception ignored in: 'pomegranate.hmm.HiddenMarkovModel._from_summaries'\n",
      "Traceback (most recent call last):\n",
      "  File \"pomegranate/bayes.pyx\", line 710, in pomegranate.bayes.BayesModel.from_summaries\n",
      "  File \"pomegranate/distributions.pyx\", line 2259, in pomegranate.distributions.MultivariateGaussianDistribution.from_summaries\n",
      "TypeError: Cannot cast ufunc subtract output from dtype('complex128') to dtype('float64') with casting rule 'same_kind'\n"
     ]
    },
    {
     "name": "stdout",
     "output_type": "stream",
     "text": [
      "[36] Improvement: 0.0008710524998605251\tTime (s): 525.0\n"
     ]
    },
    {
     "ename": "TypeError",
     "evalue": "Cannot cast ufunc subtract output from dtype('complex128') to dtype('float64') with casting rule 'same_kind'",
     "output_type": "error",
     "traceback": [
      "\u001b[0;31m---------------------------------------------------------------------------\u001b[0m",
      "\u001b[0;31mLinAlgError\u001b[0m                               Traceback (most recent call last)",
      "\u001b[0;32mpomegranate/distributions.pyx\u001b[0m in \u001b[0;36mpomegranate.distributions.MultivariateGaussianDistribution.from_summaries\u001b[0;34m()\u001b[0m\n",
      "\u001b[0;32m/usr/local/lib/python3.5/dist-packages/scipy/linalg/decomp_cholesky.py\u001b[0m in \u001b[0;36mcholesky\u001b[0;34m(a, lower, overwrite_a, check_finite)\u001b[0m\n\u001b[1;32m     80\u001b[0m     c, lower = _cholesky(a, lower=lower, overwrite_a=overwrite_a, clean=True,\n\u001b[0;32m---> 81\u001b[0;31m                             check_finite=check_finite)\n\u001b[0m\u001b[1;32m     82\u001b[0m     \u001b[0;32mreturn\u001b[0m \u001b[0mc\u001b[0m\u001b[0;34m\u001b[0m\u001b[0m\n",
      "\u001b[0;32m/usr/local/lib/python3.5/dist-packages/scipy/linalg/decomp_cholesky.py\u001b[0m in \u001b[0;36m_cholesky\u001b[0;34m(a, lower, overwrite_a, clean, check_finite)\u001b[0m\n\u001b[1;32m     29\u001b[0m     \u001b[0;32mif\u001b[0m \u001b[0minfo\u001b[0m \u001b[0;34m>\u001b[0m \u001b[0;36m0\u001b[0m\u001b[0;34m:\u001b[0m\u001b[0;34m\u001b[0m\u001b[0m\n\u001b[0;32m---> 30\u001b[0;31m         \u001b[0;32mraise\u001b[0m \u001b[0mLinAlgError\u001b[0m\u001b[0;34m(\u001b[0m\u001b[0;34m\"%d-th leading minor not positive definite\"\u001b[0m \u001b[0;34m%\u001b[0m \u001b[0minfo\u001b[0m\u001b[0;34m)\u001b[0m\u001b[0;34m\u001b[0m\u001b[0m\n\u001b[0m\u001b[1;32m     31\u001b[0m     \u001b[0;32mif\u001b[0m \u001b[0minfo\u001b[0m \u001b[0;34m<\u001b[0m \u001b[0;36m0\u001b[0m\u001b[0;34m:\u001b[0m\u001b[0;34m\u001b[0m\u001b[0m\n",
      "\u001b[0;31mLinAlgError\u001b[0m: 23-th leading minor not positive definite",
      "\nDuring handling of the above exception, another exception occurred:\n",
      "\u001b[0;31mTypeError\u001b[0m                                 Traceback (most recent call last)",
      "\u001b[0;32mpomegranate/bayes.pyx\u001b[0m in \u001b[0;36mpomegranate.bayes.BayesModel.from_summaries\u001b[0;34m()\u001b[0m\n",
      "\u001b[0;32mpomegranate/distributions.pyx\u001b[0m in \u001b[0;36mpomegranate.distributions.MultivariateGaussianDistribution.from_summaries\u001b[0;34m()\u001b[0m\n",
      "\u001b[0;31mTypeError\u001b[0m: Cannot cast ufunc subtract output from dtype('complex128') to dtype('float64') with casting rule 'same_kind'"
     ]
    },
    {
     "name": "stderr",
     "output_type": "stream",
     "text": [
      "Exception ignored in: 'pomegranate.hmm.HiddenMarkovModel._from_summaries'\n",
      "Traceback (most recent call last):\n",
      "  File \"pomegranate/bayes.pyx\", line 710, in pomegranate.bayes.BayesModel.from_summaries\n",
      "  File \"pomegranate/distributions.pyx\", line 2259, in pomegranate.distributions.MultivariateGaussianDistribution.from_summaries\n",
      "TypeError: Cannot cast ufunc subtract output from dtype('complex128') to dtype('float64') with casting rule 'same_kind'\n"
     ]
    },
    {
     "name": "stdout",
     "output_type": "stream",
     "text": [
      "[37] Improvement: 0.0008764134254306555\tTime (s): 538.1\n"
     ]
    },
    {
     "ename": "TypeError",
     "evalue": "Cannot cast ufunc subtract output from dtype('complex128') to dtype('float64') with casting rule 'same_kind'",
     "output_type": "error",
     "traceback": [
      "\u001b[0;31m---------------------------------------------------------------------------\u001b[0m",
      "\u001b[0;31mLinAlgError\u001b[0m                               Traceback (most recent call last)",
      "\u001b[0;32mpomegranate/distributions.pyx\u001b[0m in \u001b[0;36mpomegranate.distributions.MultivariateGaussianDistribution.from_summaries\u001b[0;34m()\u001b[0m\n",
      "\u001b[0;32m/usr/local/lib/python3.5/dist-packages/scipy/linalg/decomp_cholesky.py\u001b[0m in \u001b[0;36mcholesky\u001b[0;34m(a, lower, overwrite_a, check_finite)\u001b[0m\n\u001b[1;32m     80\u001b[0m     c, lower = _cholesky(a, lower=lower, overwrite_a=overwrite_a, clean=True,\n\u001b[0;32m---> 81\u001b[0;31m                             check_finite=check_finite)\n\u001b[0m\u001b[1;32m     82\u001b[0m     \u001b[0;32mreturn\u001b[0m \u001b[0mc\u001b[0m\u001b[0;34m\u001b[0m\u001b[0m\n",
      "\u001b[0;32m/usr/local/lib/python3.5/dist-packages/scipy/linalg/decomp_cholesky.py\u001b[0m in \u001b[0;36m_cholesky\u001b[0;34m(a, lower, overwrite_a, clean, check_finite)\u001b[0m\n\u001b[1;32m     29\u001b[0m     \u001b[0;32mif\u001b[0m \u001b[0minfo\u001b[0m \u001b[0;34m>\u001b[0m \u001b[0;36m0\u001b[0m\u001b[0;34m:\u001b[0m\u001b[0;34m\u001b[0m\u001b[0m\n\u001b[0;32m---> 30\u001b[0;31m         \u001b[0;32mraise\u001b[0m \u001b[0mLinAlgError\u001b[0m\u001b[0;34m(\u001b[0m\u001b[0;34m\"%d-th leading minor not positive definite\"\u001b[0m \u001b[0;34m%\u001b[0m \u001b[0minfo\u001b[0m\u001b[0;34m)\u001b[0m\u001b[0;34m\u001b[0m\u001b[0m\n\u001b[0m\u001b[1;32m     31\u001b[0m     \u001b[0;32mif\u001b[0m \u001b[0minfo\u001b[0m \u001b[0;34m<\u001b[0m \u001b[0;36m0\u001b[0m\u001b[0;34m:\u001b[0m\u001b[0;34m\u001b[0m\u001b[0m\n",
      "\u001b[0;31mLinAlgError\u001b[0m: 23-th leading minor not positive definite",
      "\nDuring handling of the above exception, another exception occurred:\n",
      "\u001b[0;31mTypeError\u001b[0m                                 Traceback (most recent call last)",
      "\u001b[0;32mpomegranate/bayes.pyx\u001b[0m in \u001b[0;36mpomegranate.bayes.BayesModel.from_summaries\u001b[0;34m()\u001b[0m\n",
      "\u001b[0;32mpomegranate/distributions.pyx\u001b[0m in \u001b[0;36mpomegranate.distributions.MultivariateGaussianDistribution.from_summaries\u001b[0;34m()\u001b[0m\n",
      "\u001b[0;31mTypeError\u001b[0m: Cannot cast ufunc subtract output from dtype('complex128') to dtype('float64') with casting rule 'same_kind'"
     ]
    },
    {
     "name": "stderr",
     "output_type": "stream",
     "text": [
      "Exception ignored in: 'pomegranate.hmm.HiddenMarkovModel._from_summaries'\n",
      "Traceback (most recent call last):\n",
      "  File \"pomegranate/bayes.pyx\", line 710, in pomegranate.bayes.BayesModel.from_summaries\n",
      "  File \"pomegranate/distributions.pyx\", line 2259, in pomegranate.distributions.MultivariateGaussianDistribution.from_summaries\n",
      "TypeError: Cannot cast ufunc subtract output from dtype('complex128') to dtype('float64') with casting rule 'same_kind'\n"
     ]
    },
    {
     "name": "stdout",
     "output_type": "stream",
     "text": [
      "[38] Improvement: 0.0009993412531912327\tTime (s): 540.0\n"
     ]
    },
    {
     "ename": "TypeError",
     "evalue": "Cannot cast ufunc subtract output from dtype('complex128') to dtype('float64') with casting rule 'same_kind'",
     "output_type": "error",
     "traceback": [
      "\u001b[0;31m---------------------------------------------------------------------------\u001b[0m",
      "\u001b[0;31mLinAlgError\u001b[0m                               Traceback (most recent call last)",
      "\u001b[0;32mpomegranate/distributions.pyx\u001b[0m in \u001b[0;36mpomegranate.distributions.MultivariateGaussianDistribution.from_summaries\u001b[0;34m()\u001b[0m\n",
      "\u001b[0;32m/usr/local/lib/python3.5/dist-packages/scipy/linalg/decomp_cholesky.py\u001b[0m in \u001b[0;36mcholesky\u001b[0;34m(a, lower, overwrite_a, check_finite)\u001b[0m\n\u001b[1;32m     80\u001b[0m     c, lower = _cholesky(a, lower=lower, overwrite_a=overwrite_a, clean=True,\n\u001b[0;32m---> 81\u001b[0;31m                             check_finite=check_finite)\n\u001b[0m\u001b[1;32m     82\u001b[0m     \u001b[0;32mreturn\u001b[0m \u001b[0mc\u001b[0m\u001b[0;34m\u001b[0m\u001b[0m\n",
      "\u001b[0;32m/usr/local/lib/python3.5/dist-packages/scipy/linalg/decomp_cholesky.py\u001b[0m in \u001b[0;36m_cholesky\u001b[0;34m(a, lower, overwrite_a, clean, check_finite)\u001b[0m\n\u001b[1;32m     29\u001b[0m     \u001b[0;32mif\u001b[0m \u001b[0minfo\u001b[0m \u001b[0;34m>\u001b[0m \u001b[0;36m0\u001b[0m\u001b[0;34m:\u001b[0m\u001b[0;34m\u001b[0m\u001b[0m\n\u001b[0;32m---> 30\u001b[0;31m         \u001b[0;32mraise\u001b[0m \u001b[0mLinAlgError\u001b[0m\u001b[0;34m(\u001b[0m\u001b[0;34m\"%d-th leading minor not positive definite\"\u001b[0m \u001b[0;34m%\u001b[0m \u001b[0minfo\u001b[0m\u001b[0;34m)\u001b[0m\u001b[0;34m\u001b[0m\u001b[0m\n\u001b[0m\u001b[1;32m     31\u001b[0m     \u001b[0;32mif\u001b[0m \u001b[0minfo\u001b[0m \u001b[0;34m<\u001b[0m \u001b[0;36m0\u001b[0m\u001b[0;34m:\u001b[0m\u001b[0;34m\u001b[0m\u001b[0m\n",
      "\u001b[0;31mLinAlgError\u001b[0m: 24-th leading minor not positive definite",
      "\nDuring handling of the above exception, another exception occurred:\n",
      "\u001b[0;31mTypeError\u001b[0m                                 Traceback (most recent call last)",
      "\u001b[0;32mpomegranate/bayes.pyx\u001b[0m in \u001b[0;36mpomegranate.bayes.BayesModel.from_summaries\u001b[0;34m()\u001b[0m\n",
      "\u001b[0;32mpomegranate/distributions.pyx\u001b[0m in \u001b[0;36mpomegranate.distributions.MultivariateGaussianDistribution.from_summaries\u001b[0;34m()\u001b[0m\n",
      "\u001b[0;31mTypeError\u001b[0m: Cannot cast ufunc subtract output from dtype('complex128') to dtype('float64') with casting rule 'same_kind'"
     ]
    },
    {
     "name": "stderr",
     "output_type": "stream",
     "text": [
      "Exception ignored in: 'pomegranate.hmm.HiddenMarkovModel._from_summaries'\n",
      "Traceback (most recent call last):\n",
      "  File \"pomegranate/bayes.pyx\", line 710, in pomegranate.bayes.BayesModel.from_summaries\n",
      "  File \"pomegranate/distributions.pyx\", line 2259, in pomegranate.distributions.MultivariateGaussianDistribution.from_summaries\n",
      "TypeError: Cannot cast ufunc subtract output from dtype('complex128') to dtype('float64') with casting rule 'same_kind'\n"
     ]
    },
    {
     "name": "stdout",
     "output_type": "stream",
     "text": [
      "[39] Improvement: 0.001191070070490241\tTime (s): 539.7\n"
     ]
    },
    {
     "ename": "TypeError",
     "evalue": "Cannot cast ufunc subtract output from dtype('complex128') to dtype('float64') with casting rule 'same_kind'",
     "output_type": "error",
     "traceback": [
      "\u001b[0;31m---------------------------------------------------------------------------\u001b[0m",
      "\u001b[0;31mLinAlgError\u001b[0m                               Traceback (most recent call last)",
      "\u001b[0;32mpomegranate/distributions.pyx\u001b[0m in \u001b[0;36mpomegranate.distributions.MultivariateGaussianDistribution.from_summaries\u001b[0;34m()\u001b[0m\n",
      "\u001b[0;32m/usr/local/lib/python3.5/dist-packages/scipy/linalg/decomp_cholesky.py\u001b[0m in \u001b[0;36mcholesky\u001b[0;34m(a, lower, overwrite_a, check_finite)\u001b[0m\n\u001b[1;32m     80\u001b[0m     c, lower = _cholesky(a, lower=lower, overwrite_a=overwrite_a, clean=True,\n\u001b[0;32m---> 81\u001b[0;31m                             check_finite=check_finite)\n\u001b[0m\u001b[1;32m     82\u001b[0m     \u001b[0;32mreturn\u001b[0m \u001b[0mc\u001b[0m\u001b[0;34m\u001b[0m\u001b[0m\n",
      "\u001b[0;32m/usr/local/lib/python3.5/dist-packages/scipy/linalg/decomp_cholesky.py\u001b[0m in \u001b[0;36m_cholesky\u001b[0;34m(a, lower, overwrite_a, clean, check_finite)\u001b[0m\n\u001b[1;32m     29\u001b[0m     \u001b[0;32mif\u001b[0m \u001b[0minfo\u001b[0m \u001b[0;34m>\u001b[0m \u001b[0;36m0\u001b[0m\u001b[0;34m:\u001b[0m\u001b[0;34m\u001b[0m\u001b[0m\n\u001b[0;32m---> 30\u001b[0;31m         \u001b[0;32mraise\u001b[0m \u001b[0mLinAlgError\u001b[0m\u001b[0;34m(\u001b[0m\u001b[0;34m\"%d-th leading minor not positive definite\"\u001b[0m \u001b[0;34m%\u001b[0m \u001b[0minfo\u001b[0m\u001b[0;34m)\u001b[0m\u001b[0;34m\u001b[0m\u001b[0m\n\u001b[0m\u001b[1;32m     31\u001b[0m     \u001b[0;32mif\u001b[0m \u001b[0minfo\u001b[0m \u001b[0;34m<\u001b[0m \u001b[0;36m0\u001b[0m\u001b[0;34m:\u001b[0m\u001b[0;34m\u001b[0m\u001b[0m\n",
      "\u001b[0;31mLinAlgError\u001b[0m: 24-th leading minor not positive definite",
      "\nDuring handling of the above exception, another exception occurred:\n",
      "\u001b[0;31mTypeError\u001b[0m                                 Traceback (most recent call last)",
      "\u001b[0;32mpomegranate/bayes.pyx\u001b[0m in \u001b[0;36mpomegranate.bayes.BayesModel.from_summaries\u001b[0;34m()\u001b[0m\n",
      "\u001b[0;32mpomegranate/distributions.pyx\u001b[0m in \u001b[0;36mpomegranate.distributions.MultivariateGaussianDistribution.from_summaries\u001b[0;34m()\u001b[0m\n",
      "\u001b[0;31mTypeError\u001b[0m: Cannot cast ufunc subtract output from dtype('complex128') to dtype('float64') with casting rule 'same_kind'"
     ]
    },
    {
     "name": "stderr",
     "output_type": "stream",
     "text": [
      "Exception ignored in: 'pomegranate.hmm.HiddenMarkovModel._from_summaries'\n",
      "Traceback (most recent call last):\n",
      "  File \"pomegranate/bayes.pyx\", line 710, in pomegranate.bayes.BayesModel.from_summaries\n",
      "  File \"pomegranate/distributions.pyx\", line 2259, in pomegranate.distributions.MultivariateGaussianDistribution.from_summaries\n",
      "TypeError: Cannot cast ufunc subtract output from dtype('complex128') to dtype('float64') with casting rule 'same_kind'\n"
     ]
    },
    {
     "name": "stdout",
     "output_type": "stream",
     "text": [
      "[40] Improvement: 0.0014419096987694502\tTime (s): 535.4\n"
     ]
    },
    {
     "ename": "TypeError",
     "evalue": "Cannot cast ufunc subtract output from dtype('complex128') to dtype('float64') with casting rule 'same_kind'",
     "output_type": "error",
     "traceback": [
      "\u001b[0;31m---------------------------------------------------------------------------\u001b[0m",
      "\u001b[0;31mLinAlgError\u001b[0m                               Traceback (most recent call last)",
      "\u001b[0;32mpomegranate/distributions.pyx\u001b[0m in \u001b[0;36mpomegranate.distributions.MultivariateGaussianDistribution.from_summaries\u001b[0;34m()\u001b[0m\n",
      "\u001b[0;32m/usr/local/lib/python3.5/dist-packages/scipy/linalg/decomp_cholesky.py\u001b[0m in \u001b[0;36mcholesky\u001b[0;34m(a, lower, overwrite_a, check_finite)\u001b[0m\n\u001b[1;32m     80\u001b[0m     c, lower = _cholesky(a, lower=lower, overwrite_a=overwrite_a, clean=True,\n\u001b[0;32m---> 81\u001b[0;31m                             check_finite=check_finite)\n\u001b[0m\u001b[1;32m     82\u001b[0m     \u001b[0;32mreturn\u001b[0m \u001b[0mc\u001b[0m\u001b[0;34m\u001b[0m\u001b[0m\n",
      "\u001b[0;32m/usr/local/lib/python3.5/dist-packages/scipy/linalg/decomp_cholesky.py\u001b[0m in \u001b[0;36m_cholesky\u001b[0;34m(a, lower, overwrite_a, clean, check_finite)\u001b[0m\n\u001b[1;32m     29\u001b[0m     \u001b[0;32mif\u001b[0m \u001b[0minfo\u001b[0m \u001b[0;34m>\u001b[0m \u001b[0;36m0\u001b[0m\u001b[0;34m:\u001b[0m\u001b[0;34m\u001b[0m\u001b[0m\n\u001b[0;32m---> 30\u001b[0;31m         \u001b[0;32mraise\u001b[0m \u001b[0mLinAlgError\u001b[0m\u001b[0;34m(\u001b[0m\u001b[0;34m\"%d-th leading minor not positive definite\"\u001b[0m \u001b[0;34m%\u001b[0m \u001b[0minfo\u001b[0m\u001b[0;34m)\u001b[0m\u001b[0;34m\u001b[0m\u001b[0m\n\u001b[0m\u001b[1;32m     31\u001b[0m     \u001b[0;32mif\u001b[0m \u001b[0minfo\u001b[0m \u001b[0;34m<\u001b[0m \u001b[0;36m0\u001b[0m\u001b[0;34m:\u001b[0m\u001b[0;34m\u001b[0m\u001b[0m\n",
      "\u001b[0;31mLinAlgError\u001b[0m: 24-th leading minor not positive definite",
      "\nDuring handling of the above exception, another exception occurred:\n",
      "\u001b[0;31mTypeError\u001b[0m                                 Traceback (most recent call last)",
      "\u001b[0;32mpomegranate/bayes.pyx\u001b[0m in \u001b[0;36mpomegranate.bayes.BayesModel.from_summaries\u001b[0;34m()\u001b[0m\n",
      "\u001b[0;32mpomegranate/distributions.pyx\u001b[0m in \u001b[0;36mpomegranate.distributions.MultivariateGaussianDistribution.from_summaries\u001b[0;34m()\u001b[0m\n",
      "\u001b[0;31mTypeError\u001b[0m: Cannot cast ufunc subtract output from dtype('complex128') to dtype('float64') with casting rule 'same_kind'"
     ]
    },
    {
     "name": "stderr",
     "output_type": "stream",
     "text": [
      "Exception ignored in: 'pomegranate.hmm.HiddenMarkovModel._from_summaries'\n",
      "Traceback (most recent call last):\n",
      "  File \"pomegranate/bayes.pyx\", line 710, in pomegranate.bayes.BayesModel.from_summaries\n",
      "  File \"pomegranate/distributions.pyx\", line 2259, in pomegranate.distributions.MultivariateGaussianDistribution.from_summaries\n",
      "TypeError: Cannot cast ufunc subtract output from dtype('complex128') to dtype('float64') with casting rule 'same_kind'\n"
     ]
    },
    {
     "name": "stdout",
     "output_type": "stream",
     "text": [
      "[41] Improvement: 0.0017632839735597372\tTime (s): 540.5\n"
     ]
    },
    {
     "ename": "TypeError",
     "evalue": "Cannot cast ufunc subtract output from dtype('complex128') to dtype('float64') with casting rule 'same_kind'",
     "output_type": "error",
     "traceback": [
      "\u001b[0;31m---------------------------------------------------------------------------\u001b[0m",
      "\u001b[0;31mLinAlgError\u001b[0m                               Traceback (most recent call last)",
      "\u001b[0;32mpomegranate/distributions.pyx\u001b[0m in \u001b[0;36mpomegranate.distributions.MultivariateGaussianDistribution.from_summaries\u001b[0;34m()\u001b[0m\n",
      "\u001b[0;32m/usr/local/lib/python3.5/dist-packages/scipy/linalg/decomp_cholesky.py\u001b[0m in \u001b[0;36mcholesky\u001b[0;34m(a, lower, overwrite_a, check_finite)\u001b[0m\n\u001b[1;32m     80\u001b[0m     c, lower = _cholesky(a, lower=lower, overwrite_a=overwrite_a, clean=True,\n\u001b[0;32m---> 81\u001b[0;31m                             check_finite=check_finite)\n\u001b[0m\u001b[1;32m     82\u001b[0m     \u001b[0;32mreturn\u001b[0m \u001b[0mc\u001b[0m\u001b[0;34m\u001b[0m\u001b[0m\n",
      "\u001b[0;32m/usr/local/lib/python3.5/dist-packages/scipy/linalg/decomp_cholesky.py\u001b[0m in \u001b[0;36m_cholesky\u001b[0;34m(a, lower, overwrite_a, clean, check_finite)\u001b[0m\n\u001b[1;32m     29\u001b[0m     \u001b[0;32mif\u001b[0m \u001b[0minfo\u001b[0m \u001b[0;34m>\u001b[0m \u001b[0;36m0\u001b[0m\u001b[0;34m:\u001b[0m\u001b[0;34m\u001b[0m\u001b[0m\n\u001b[0;32m---> 30\u001b[0;31m         \u001b[0;32mraise\u001b[0m \u001b[0mLinAlgError\u001b[0m\u001b[0;34m(\u001b[0m\u001b[0;34m\"%d-th leading minor not positive definite\"\u001b[0m \u001b[0;34m%\u001b[0m \u001b[0minfo\u001b[0m\u001b[0;34m)\u001b[0m\u001b[0;34m\u001b[0m\u001b[0m\n\u001b[0m\u001b[1;32m     31\u001b[0m     \u001b[0;32mif\u001b[0m \u001b[0minfo\u001b[0m \u001b[0;34m<\u001b[0m \u001b[0;36m0\u001b[0m\u001b[0;34m:\u001b[0m\u001b[0;34m\u001b[0m\u001b[0m\n",
      "\u001b[0;31mLinAlgError\u001b[0m: 24-th leading minor not positive definite",
      "\nDuring handling of the above exception, another exception occurred:\n",
      "\u001b[0;31mTypeError\u001b[0m                                 Traceback (most recent call last)",
      "\u001b[0;32mpomegranate/bayes.pyx\u001b[0m in \u001b[0;36mpomegranate.bayes.BayesModel.from_summaries\u001b[0;34m()\u001b[0m\n",
      "\u001b[0;32mpomegranate/distributions.pyx\u001b[0m in \u001b[0;36mpomegranate.distributions.MultivariateGaussianDistribution.from_summaries\u001b[0;34m()\u001b[0m\n",
      "\u001b[0;31mTypeError\u001b[0m: Cannot cast ufunc subtract output from dtype('complex128') to dtype('float64') with casting rule 'same_kind'"
     ]
    },
    {
     "name": "stderr",
     "output_type": "stream",
     "text": [
      "Exception ignored in: 'pomegranate.hmm.HiddenMarkovModel._from_summaries'\n",
      "Traceback (most recent call last):\n",
      "  File \"pomegranate/bayes.pyx\", line 710, in pomegranate.bayes.BayesModel.from_summaries\n",
      "  File \"pomegranate/distributions.pyx\", line 2259, in pomegranate.distributions.MultivariateGaussianDistribution.from_summaries\n",
      "TypeError: Cannot cast ufunc subtract output from dtype('complex128') to dtype('float64') with casting rule 'same_kind'\n"
     ]
    },
    {
     "name": "stdout",
     "output_type": "stream",
     "text": [
      "[42] Improvement: 0.002181523945182562\tTime (s): 541.7\n"
     ]
    },
    {
     "ename": "TypeError",
     "evalue": "Cannot cast ufunc subtract output from dtype('complex128') to dtype('float64') with casting rule 'same_kind'",
     "output_type": "error",
     "traceback": [
      "\u001b[0;31m---------------------------------------------------------------------------\u001b[0m",
      "\u001b[0;31mLinAlgError\u001b[0m                               Traceback (most recent call last)",
      "\u001b[0;32mpomegranate/distributions.pyx\u001b[0m in \u001b[0;36mpomegranate.distributions.MultivariateGaussianDistribution.from_summaries\u001b[0;34m()\u001b[0m\n",
      "\u001b[0;32m/usr/local/lib/python3.5/dist-packages/scipy/linalg/decomp_cholesky.py\u001b[0m in \u001b[0;36mcholesky\u001b[0;34m(a, lower, overwrite_a, check_finite)\u001b[0m\n\u001b[1;32m     80\u001b[0m     c, lower = _cholesky(a, lower=lower, overwrite_a=overwrite_a, clean=True,\n\u001b[0;32m---> 81\u001b[0;31m                             check_finite=check_finite)\n\u001b[0m\u001b[1;32m     82\u001b[0m     \u001b[0;32mreturn\u001b[0m \u001b[0mc\u001b[0m\u001b[0;34m\u001b[0m\u001b[0m\n",
      "\u001b[0;32m/usr/local/lib/python3.5/dist-packages/scipy/linalg/decomp_cholesky.py\u001b[0m in \u001b[0;36m_cholesky\u001b[0;34m(a, lower, overwrite_a, clean, check_finite)\u001b[0m\n\u001b[1;32m     29\u001b[0m     \u001b[0;32mif\u001b[0m \u001b[0minfo\u001b[0m \u001b[0;34m>\u001b[0m \u001b[0;36m0\u001b[0m\u001b[0;34m:\u001b[0m\u001b[0;34m\u001b[0m\u001b[0m\n\u001b[0;32m---> 30\u001b[0;31m         \u001b[0;32mraise\u001b[0m \u001b[0mLinAlgError\u001b[0m\u001b[0;34m(\u001b[0m\u001b[0;34m\"%d-th leading minor not positive definite\"\u001b[0m \u001b[0;34m%\u001b[0m \u001b[0minfo\u001b[0m\u001b[0;34m)\u001b[0m\u001b[0;34m\u001b[0m\u001b[0m\n\u001b[0m\u001b[1;32m     31\u001b[0m     \u001b[0;32mif\u001b[0m \u001b[0minfo\u001b[0m \u001b[0;34m<\u001b[0m \u001b[0;36m0\u001b[0m\u001b[0;34m:\u001b[0m\u001b[0;34m\u001b[0m\u001b[0m\n",
      "\u001b[0;31mLinAlgError\u001b[0m: 24-th leading minor not positive definite",
      "\nDuring handling of the above exception, another exception occurred:\n",
      "\u001b[0;31mTypeError\u001b[0m                                 Traceback (most recent call last)",
      "\u001b[0;32mpomegranate/bayes.pyx\u001b[0m in \u001b[0;36mpomegranate.bayes.BayesModel.from_summaries\u001b[0;34m()\u001b[0m\n",
      "\u001b[0;32mpomegranate/distributions.pyx\u001b[0m in \u001b[0;36mpomegranate.distributions.MultivariateGaussianDistribution.from_summaries\u001b[0;34m()\u001b[0m\n",
      "\u001b[0;31mTypeError\u001b[0m: Cannot cast ufunc subtract output from dtype('complex128') to dtype('float64') with casting rule 'same_kind'"
     ]
    },
    {
     "name": "stderr",
     "output_type": "stream",
     "text": [
      "Exception ignored in: 'pomegranate.hmm.HiddenMarkovModel._from_summaries'\n",
      "Traceback (most recent call last):\n",
      "  File \"pomegranate/bayes.pyx\", line 710, in pomegranate.bayes.BayesModel.from_summaries\n",
      "  File \"pomegranate/distributions.pyx\", line 2259, in pomegranate.distributions.MultivariateGaussianDistribution.from_summaries\n",
      "TypeError: Cannot cast ufunc subtract output from dtype('complex128') to dtype('float64') with casting rule 'same_kind'\n"
     ]
    },
    {
     "name": "stdout",
     "output_type": "stream",
     "text": [
      "[43] Improvement: 0.0027372855693101883\tTime (s): 541.3\n"
     ]
    },
    {
     "ename": "TypeError",
     "evalue": "Cannot cast ufunc subtract output from dtype('complex128') to dtype('float64') with casting rule 'same_kind'",
     "output_type": "error",
     "traceback": [
      "\u001b[0;31m---------------------------------------------------------------------------\u001b[0m",
      "\u001b[0;31mLinAlgError\u001b[0m                               Traceback (most recent call last)",
      "\u001b[0;32mpomegranate/distributions.pyx\u001b[0m in \u001b[0;36mpomegranate.distributions.MultivariateGaussianDistribution.from_summaries\u001b[0;34m()\u001b[0m\n",
      "\u001b[0;32m/usr/local/lib/python3.5/dist-packages/scipy/linalg/decomp_cholesky.py\u001b[0m in \u001b[0;36mcholesky\u001b[0;34m(a, lower, overwrite_a, check_finite)\u001b[0m\n\u001b[1;32m     80\u001b[0m     c, lower = _cholesky(a, lower=lower, overwrite_a=overwrite_a, clean=True,\n\u001b[0;32m---> 81\u001b[0;31m                             check_finite=check_finite)\n\u001b[0m\u001b[1;32m     82\u001b[0m     \u001b[0;32mreturn\u001b[0m \u001b[0mc\u001b[0m\u001b[0;34m\u001b[0m\u001b[0m\n",
      "\u001b[0;32m/usr/local/lib/python3.5/dist-packages/scipy/linalg/decomp_cholesky.py\u001b[0m in \u001b[0;36m_cholesky\u001b[0;34m(a, lower, overwrite_a, clean, check_finite)\u001b[0m\n\u001b[1;32m     29\u001b[0m     \u001b[0;32mif\u001b[0m \u001b[0minfo\u001b[0m \u001b[0;34m>\u001b[0m \u001b[0;36m0\u001b[0m\u001b[0;34m:\u001b[0m\u001b[0;34m\u001b[0m\u001b[0m\n\u001b[0;32m---> 30\u001b[0;31m         \u001b[0;32mraise\u001b[0m \u001b[0mLinAlgError\u001b[0m\u001b[0;34m(\u001b[0m\u001b[0;34m\"%d-th leading minor not positive definite\"\u001b[0m \u001b[0;34m%\u001b[0m \u001b[0minfo\u001b[0m\u001b[0;34m)\u001b[0m\u001b[0;34m\u001b[0m\u001b[0m\n\u001b[0m\u001b[1;32m     31\u001b[0m     \u001b[0;32mif\u001b[0m \u001b[0minfo\u001b[0m \u001b[0;34m<\u001b[0m \u001b[0;36m0\u001b[0m\u001b[0;34m:\u001b[0m\u001b[0;34m\u001b[0m\u001b[0m\n",
      "\u001b[0;31mLinAlgError\u001b[0m: 24-th leading minor not positive definite",
      "\nDuring handling of the above exception, another exception occurred:\n",
      "\u001b[0;31mTypeError\u001b[0m                                 Traceback (most recent call last)",
      "\u001b[0;32mpomegranate/bayes.pyx\u001b[0m in \u001b[0;36mpomegranate.bayes.BayesModel.from_summaries\u001b[0;34m()\u001b[0m\n",
      "\u001b[0;32mpomegranate/distributions.pyx\u001b[0m in \u001b[0;36mpomegranate.distributions.MultivariateGaussianDistribution.from_summaries\u001b[0;34m()\u001b[0m\n",
      "\u001b[0;31mTypeError\u001b[0m: Cannot cast ufunc subtract output from dtype('complex128') to dtype('float64') with casting rule 'same_kind'"
     ]
    },
    {
     "name": "stderr",
     "output_type": "stream",
     "text": [
      "Exception ignored in: 'pomegranate.hmm.HiddenMarkovModel._from_summaries'\n",
      "Traceback (most recent call last):\n",
      "  File \"pomegranate/bayes.pyx\", line 710, in pomegranate.bayes.BayesModel.from_summaries\n",
      "  File \"pomegranate/distributions.pyx\", line 2259, in pomegranate.distributions.MultivariateGaussianDistribution.from_summaries\n",
      "TypeError: Cannot cast ufunc subtract output from dtype('complex128') to dtype('float64') with casting rule 'same_kind'\n"
     ]
    },
    {
     "name": "stdout",
     "output_type": "stream",
     "text": [
      "[44] Improvement: 0.003487061243504286\tTime (s): 533.4\n"
     ]
    },
    {
     "ename": "TypeError",
     "evalue": "Cannot cast ufunc subtract output from dtype('complex128') to dtype('float64') with casting rule 'same_kind'",
     "output_type": "error",
     "traceback": [
      "\u001b[0;31m---------------------------------------------------------------------------\u001b[0m",
      "\u001b[0;31mLinAlgError\u001b[0m                               Traceback (most recent call last)",
      "\u001b[0;32mpomegranate/distributions.pyx\u001b[0m in \u001b[0;36mpomegranate.distributions.MultivariateGaussianDistribution.from_summaries\u001b[0;34m()\u001b[0m\n",
      "\u001b[0;32m/usr/local/lib/python3.5/dist-packages/scipy/linalg/decomp_cholesky.py\u001b[0m in \u001b[0;36mcholesky\u001b[0;34m(a, lower, overwrite_a, check_finite)\u001b[0m\n\u001b[1;32m     80\u001b[0m     c, lower = _cholesky(a, lower=lower, overwrite_a=overwrite_a, clean=True,\n\u001b[0;32m---> 81\u001b[0;31m                             check_finite=check_finite)\n\u001b[0m\u001b[1;32m     82\u001b[0m     \u001b[0;32mreturn\u001b[0m \u001b[0mc\u001b[0m\u001b[0;34m\u001b[0m\u001b[0m\n",
      "\u001b[0;32m/usr/local/lib/python3.5/dist-packages/scipy/linalg/decomp_cholesky.py\u001b[0m in \u001b[0;36m_cholesky\u001b[0;34m(a, lower, overwrite_a, clean, check_finite)\u001b[0m\n\u001b[1;32m     29\u001b[0m     \u001b[0;32mif\u001b[0m \u001b[0minfo\u001b[0m \u001b[0;34m>\u001b[0m \u001b[0;36m0\u001b[0m\u001b[0;34m:\u001b[0m\u001b[0;34m\u001b[0m\u001b[0m\n\u001b[0;32m---> 30\u001b[0;31m         \u001b[0;32mraise\u001b[0m \u001b[0mLinAlgError\u001b[0m\u001b[0;34m(\u001b[0m\u001b[0;34m\"%d-th leading minor not positive definite\"\u001b[0m \u001b[0;34m%\u001b[0m \u001b[0minfo\u001b[0m\u001b[0;34m)\u001b[0m\u001b[0;34m\u001b[0m\u001b[0m\n\u001b[0m\u001b[1;32m     31\u001b[0m     \u001b[0;32mif\u001b[0m \u001b[0minfo\u001b[0m \u001b[0;34m<\u001b[0m \u001b[0;36m0\u001b[0m\u001b[0;34m:\u001b[0m\u001b[0;34m\u001b[0m\u001b[0m\n",
      "\u001b[0;31mLinAlgError\u001b[0m: 24-th leading minor not positive definite",
      "\nDuring handling of the above exception, another exception occurred:\n",
      "\u001b[0;31mTypeError\u001b[0m                                 Traceback (most recent call last)",
      "\u001b[0;32mpomegranate/bayes.pyx\u001b[0m in \u001b[0;36mpomegranate.bayes.BayesModel.from_summaries\u001b[0;34m()\u001b[0m\n",
      "\u001b[0;32mpomegranate/distributions.pyx\u001b[0m in \u001b[0;36mpomegranate.distributions.MultivariateGaussianDistribution.from_summaries\u001b[0;34m()\u001b[0m\n",
      "\u001b[0;31mTypeError\u001b[0m: Cannot cast ufunc subtract output from dtype('complex128') to dtype('float64') with casting rule 'same_kind'"
     ]
    },
    {
     "name": "stderr",
     "output_type": "stream",
     "text": [
      "Exception ignored in: 'pomegranate.hmm.HiddenMarkovModel._from_summaries'\n",
      "Traceback (most recent call last):\n",
      "  File \"pomegranate/bayes.pyx\", line 710, in pomegranate.bayes.BayesModel.from_summaries\n",
      "  File \"pomegranate/distributions.pyx\", line 2259, in pomegranate.distributions.MultivariateGaussianDistribution.from_summaries\n",
      "TypeError: Cannot cast ufunc subtract output from dtype('complex128') to dtype('float64') with casting rule 'same_kind'\n"
     ]
    },
    {
     "name": "stdout",
     "output_type": "stream",
     "text": [
      "[45] Improvement: 0.004502558847889304\tTime (s): 538.3\n"
     ]
    },
    {
     "ename": "TypeError",
     "evalue": "Cannot cast ufunc subtract output from dtype('complex128') to dtype('float64') with casting rule 'same_kind'",
     "output_type": "error",
     "traceback": [
      "\u001b[0;31m---------------------------------------------------------------------------\u001b[0m",
      "\u001b[0;31mLinAlgError\u001b[0m                               Traceback (most recent call last)",
      "\u001b[0;32mpomegranate/distributions.pyx\u001b[0m in \u001b[0;36mpomegranate.distributions.MultivariateGaussianDistribution.from_summaries\u001b[0;34m()\u001b[0m\n",
      "\u001b[0;32m/usr/local/lib/python3.5/dist-packages/scipy/linalg/decomp_cholesky.py\u001b[0m in \u001b[0;36mcholesky\u001b[0;34m(a, lower, overwrite_a, check_finite)\u001b[0m\n\u001b[1;32m     80\u001b[0m     c, lower = _cholesky(a, lower=lower, overwrite_a=overwrite_a, clean=True,\n\u001b[0;32m---> 81\u001b[0;31m                             check_finite=check_finite)\n\u001b[0m\u001b[1;32m     82\u001b[0m     \u001b[0;32mreturn\u001b[0m \u001b[0mc\u001b[0m\u001b[0;34m\u001b[0m\u001b[0m\n",
      "\u001b[0;32m/usr/local/lib/python3.5/dist-packages/scipy/linalg/decomp_cholesky.py\u001b[0m in \u001b[0;36m_cholesky\u001b[0;34m(a, lower, overwrite_a, clean, check_finite)\u001b[0m\n\u001b[1;32m     29\u001b[0m     \u001b[0;32mif\u001b[0m \u001b[0minfo\u001b[0m \u001b[0;34m>\u001b[0m \u001b[0;36m0\u001b[0m\u001b[0;34m:\u001b[0m\u001b[0;34m\u001b[0m\u001b[0m\n\u001b[0;32m---> 30\u001b[0;31m         \u001b[0;32mraise\u001b[0m \u001b[0mLinAlgError\u001b[0m\u001b[0;34m(\u001b[0m\u001b[0;34m\"%d-th leading minor not positive definite\"\u001b[0m \u001b[0;34m%\u001b[0m \u001b[0minfo\u001b[0m\u001b[0;34m)\u001b[0m\u001b[0;34m\u001b[0m\u001b[0m\n\u001b[0m\u001b[1;32m     31\u001b[0m     \u001b[0;32mif\u001b[0m \u001b[0minfo\u001b[0m \u001b[0;34m<\u001b[0m \u001b[0;36m0\u001b[0m\u001b[0;34m:\u001b[0m\u001b[0;34m\u001b[0m\u001b[0m\n",
      "\u001b[0;31mLinAlgError\u001b[0m: 24-th leading minor not positive definite",
      "\nDuring handling of the above exception, another exception occurred:\n",
      "\u001b[0;31mTypeError\u001b[0m                                 Traceback (most recent call last)",
      "\u001b[0;32mpomegranate/bayes.pyx\u001b[0m in \u001b[0;36mpomegranate.bayes.BayesModel.from_summaries\u001b[0;34m()\u001b[0m\n",
      "\u001b[0;32mpomegranate/distributions.pyx\u001b[0m in \u001b[0;36mpomegranate.distributions.MultivariateGaussianDistribution.from_summaries\u001b[0;34m()\u001b[0m\n",
      "\u001b[0;31mTypeError\u001b[0m: Cannot cast ufunc subtract output from dtype('complex128') to dtype('float64') with casting rule 'same_kind'"
     ]
    },
    {
     "name": "stderr",
     "output_type": "stream",
     "text": [
      "Exception ignored in: 'pomegranate.hmm.HiddenMarkovModel._from_summaries'\n",
      "Traceback (most recent call last):\n",
      "  File \"pomegranate/bayes.pyx\", line 710, in pomegranate.bayes.BayesModel.from_summaries\n",
      "  File \"pomegranate/distributions.pyx\", line 2259, in pomegranate.distributions.MultivariateGaussianDistribution.from_summaries\n",
      "TypeError: Cannot cast ufunc subtract output from dtype('complex128') to dtype('float64') with casting rule 'same_kind'\n"
     ]
    },
    {
     "name": "stdout",
     "output_type": "stream",
     "text": [
      "[46] Improvement: 0.005859382683411241\tTime (s): 544.0\n"
     ]
    },
    {
     "ename": "TypeError",
     "evalue": "Cannot cast ufunc subtract output from dtype('complex128') to dtype('float64') with casting rule 'same_kind'",
     "output_type": "error",
     "traceback": [
      "\u001b[0;31m---------------------------------------------------------------------------\u001b[0m",
      "\u001b[0;31mLinAlgError\u001b[0m                               Traceback (most recent call last)",
      "\u001b[0;32mpomegranate/distributions.pyx\u001b[0m in \u001b[0;36mpomegranate.distributions.MultivariateGaussianDistribution.from_summaries\u001b[0;34m()\u001b[0m\n",
      "\u001b[0;32m/usr/local/lib/python3.5/dist-packages/scipy/linalg/decomp_cholesky.py\u001b[0m in \u001b[0;36mcholesky\u001b[0;34m(a, lower, overwrite_a, check_finite)\u001b[0m\n\u001b[1;32m     80\u001b[0m     c, lower = _cholesky(a, lower=lower, overwrite_a=overwrite_a, clean=True,\n\u001b[0;32m---> 81\u001b[0;31m                             check_finite=check_finite)\n\u001b[0m\u001b[1;32m     82\u001b[0m     \u001b[0;32mreturn\u001b[0m \u001b[0mc\u001b[0m\u001b[0;34m\u001b[0m\u001b[0m\n",
      "\u001b[0;32m/usr/local/lib/python3.5/dist-packages/scipy/linalg/decomp_cholesky.py\u001b[0m in \u001b[0;36m_cholesky\u001b[0;34m(a, lower, overwrite_a, clean, check_finite)\u001b[0m\n\u001b[1;32m     29\u001b[0m     \u001b[0;32mif\u001b[0m \u001b[0minfo\u001b[0m \u001b[0;34m>\u001b[0m \u001b[0;36m0\u001b[0m\u001b[0;34m:\u001b[0m\u001b[0;34m\u001b[0m\u001b[0m\n\u001b[0;32m---> 30\u001b[0;31m         \u001b[0;32mraise\u001b[0m \u001b[0mLinAlgError\u001b[0m\u001b[0;34m(\u001b[0m\u001b[0;34m\"%d-th leading minor not positive definite\"\u001b[0m \u001b[0;34m%\u001b[0m \u001b[0minfo\u001b[0m\u001b[0;34m)\u001b[0m\u001b[0;34m\u001b[0m\u001b[0m\n\u001b[0m\u001b[1;32m     31\u001b[0m     \u001b[0;32mif\u001b[0m \u001b[0minfo\u001b[0m \u001b[0;34m<\u001b[0m \u001b[0;36m0\u001b[0m\u001b[0;34m:\u001b[0m\u001b[0;34m\u001b[0m\u001b[0m\n",
      "\u001b[0;31mLinAlgError\u001b[0m: 24-th leading minor not positive definite",
      "\nDuring handling of the above exception, another exception occurred:\n",
      "\u001b[0;31mTypeError\u001b[0m                                 Traceback (most recent call last)",
      "\u001b[0;32mpomegranate/bayes.pyx\u001b[0m in \u001b[0;36mpomegranate.bayes.BayesModel.from_summaries\u001b[0;34m()\u001b[0m\n",
      "\u001b[0;32mpomegranate/distributions.pyx\u001b[0m in \u001b[0;36mpomegranate.distributions.MultivariateGaussianDistribution.from_summaries\u001b[0;34m()\u001b[0m\n",
      "\u001b[0;31mTypeError\u001b[0m: Cannot cast ufunc subtract output from dtype('complex128') to dtype('float64') with casting rule 'same_kind'"
     ]
    },
    {
     "name": "stderr",
     "output_type": "stream",
     "text": [
      "Exception ignored in: 'pomegranate.hmm.HiddenMarkovModel._from_summaries'\n",
      "Traceback (most recent call last):\n",
      "  File \"pomegranate/bayes.pyx\", line 710, in pomegranate.bayes.BayesModel.from_summaries\n",
      "  File \"pomegranate/distributions.pyx\", line 2259, in pomegranate.distributions.MultivariateGaussianDistribution.from_summaries\n",
      "TypeError: Cannot cast ufunc subtract output from dtype('complex128') to dtype('float64') with casting rule 'same_kind'\n"
     ]
    },
    {
     "name": "stdout",
     "output_type": "stream",
     "text": [
      "[47] Improvement: 0.007597721880301833\tTime (s): 538.6\n"
     ]
    },
    {
     "ename": "TypeError",
     "evalue": "Cannot cast ufunc subtract output from dtype('complex128') to dtype('float64') with casting rule 'same_kind'",
     "output_type": "error",
     "traceback": [
      "\u001b[0;31m---------------------------------------------------------------------------\u001b[0m",
      "\u001b[0;31mLinAlgError\u001b[0m                               Traceback (most recent call last)",
      "\u001b[0;32mpomegranate/distributions.pyx\u001b[0m in \u001b[0;36mpomegranate.distributions.MultivariateGaussianDistribution.from_summaries\u001b[0;34m()\u001b[0m\n",
      "\u001b[0;32m/usr/local/lib/python3.5/dist-packages/scipy/linalg/decomp_cholesky.py\u001b[0m in \u001b[0;36mcholesky\u001b[0;34m(a, lower, overwrite_a, check_finite)\u001b[0m\n\u001b[1;32m     80\u001b[0m     c, lower = _cholesky(a, lower=lower, overwrite_a=overwrite_a, clean=True,\n\u001b[0;32m---> 81\u001b[0;31m                             check_finite=check_finite)\n\u001b[0m\u001b[1;32m     82\u001b[0m     \u001b[0;32mreturn\u001b[0m \u001b[0mc\u001b[0m\u001b[0;34m\u001b[0m\u001b[0m\n",
      "\u001b[0;32m/usr/local/lib/python3.5/dist-packages/scipy/linalg/decomp_cholesky.py\u001b[0m in \u001b[0;36m_cholesky\u001b[0;34m(a, lower, overwrite_a, clean, check_finite)\u001b[0m\n\u001b[1;32m     29\u001b[0m     \u001b[0;32mif\u001b[0m \u001b[0minfo\u001b[0m \u001b[0;34m>\u001b[0m \u001b[0;36m0\u001b[0m\u001b[0;34m:\u001b[0m\u001b[0;34m\u001b[0m\u001b[0m\n\u001b[0;32m---> 30\u001b[0;31m         \u001b[0;32mraise\u001b[0m \u001b[0mLinAlgError\u001b[0m\u001b[0;34m(\u001b[0m\u001b[0;34m\"%d-th leading minor not positive definite\"\u001b[0m \u001b[0;34m%\u001b[0m \u001b[0minfo\u001b[0m\u001b[0;34m)\u001b[0m\u001b[0;34m\u001b[0m\u001b[0m\n\u001b[0m\u001b[1;32m     31\u001b[0m     \u001b[0;32mif\u001b[0m \u001b[0minfo\u001b[0m \u001b[0;34m<\u001b[0m \u001b[0;36m0\u001b[0m\u001b[0;34m:\u001b[0m\u001b[0;34m\u001b[0m\u001b[0m\n",
      "\u001b[0;31mLinAlgError\u001b[0m: 24-th leading minor not positive definite",
      "\nDuring handling of the above exception, another exception occurred:\n",
      "\u001b[0;31mTypeError\u001b[0m                                 Traceback (most recent call last)",
      "\u001b[0;32mpomegranate/bayes.pyx\u001b[0m in \u001b[0;36mpomegranate.bayes.BayesModel.from_summaries\u001b[0;34m()\u001b[0m\n",
      "\u001b[0;32mpomegranate/distributions.pyx\u001b[0m in \u001b[0;36mpomegranate.distributions.MultivariateGaussianDistribution.from_summaries\u001b[0;34m()\u001b[0m\n",
      "\u001b[0;31mTypeError\u001b[0m: Cannot cast ufunc subtract output from dtype('complex128') to dtype('float64') with casting rule 'same_kind'"
     ]
    },
    {
     "name": "stderr",
     "output_type": "stream",
     "text": [
      "Exception ignored in: 'pomegranate.hmm.HiddenMarkovModel._from_summaries'\n",
      "Traceback (most recent call last):\n",
      "  File \"pomegranate/bayes.pyx\", line 710, in pomegranate.bayes.BayesModel.from_summaries\n",
      "  File \"pomegranate/distributions.pyx\", line 2259, in pomegranate.distributions.MultivariateGaussianDistribution.from_summaries\n",
      "TypeError: Cannot cast ufunc subtract output from dtype('complex128') to dtype('float64') with casting rule 'same_kind'\n"
     ]
    },
    {
     "name": "stdout",
     "output_type": "stream",
     "text": [
      "[48] Improvement: 0.009630846790969372\tTime (s): 543.9\n"
     ]
    },
    {
     "ename": "TypeError",
     "evalue": "Cannot cast ufunc subtract output from dtype('complex128') to dtype('float64') with casting rule 'same_kind'",
     "output_type": "error",
     "traceback": [
      "\u001b[0;31m---------------------------------------------------------------------------\u001b[0m",
      "\u001b[0;31mLinAlgError\u001b[0m                               Traceback (most recent call last)",
      "\u001b[0;32mpomegranate/distributions.pyx\u001b[0m in \u001b[0;36mpomegranate.distributions.MultivariateGaussianDistribution.from_summaries\u001b[0;34m()\u001b[0m\n",
      "\u001b[0;32m/usr/local/lib/python3.5/dist-packages/scipy/linalg/decomp_cholesky.py\u001b[0m in \u001b[0;36mcholesky\u001b[0;34m(a, lower, overwrite_a, check_finite)\u001b[0m\n\u001b[1;32m     80\u001b[0m     c, lower = _cholesky(a, lower=lower, overwrite_a=overwrite_a, clean=True,\n\u001b[0;32m---> 81\u001b[0;31m                             check_finite=check_finite)\n\u001b[0m\u001b[1;32m     82\u001b[0m     \u001b[0;32mreturn\u001b[0m \u001b[0mc\u001b[0m\u001b[0;34m\u001b[0m\u001b[0m\n",
      "\u001b[0;32m/usr/local/lib/python3.5/dist-packages/scipy/linalg/decomp_cholesky.py\u001b[0m in \u001b[0;36m_cholesky\u001b[0;34m(a, lower, overwrite_a, clean, check_finite)\u001b[0m\n\u001b[1;32m     29\u001b[0m     \u001b[0;32mif\u001b[0m \u001b[0minfo\u001b[0m \u001b[0;34m>\u001b[0m \u001b[0;36m0\u001b[0m\u001b[0;34m:\u001b[0m\u001b[0;34m\u001b[0m\u001b[0m\n\u001b[0;32m---> 30\u001b[0;31m         \u001b[0;32mraise\u001b[0m \u001b[0mLinAlgError\u001b[0m\u001b[0;34m(\u001b[0m\u001b[0;34m\"%d-th leading minor not positive definite\"\u001b[0m \u001b[0;34m%\u001b[0m \u001b[0minfo\u001b[0m\u001b[0;34m)\u001b[0m\u001b[0;34m\u001b[0m\u001b[0m\n\u001b[0m\u001b[1;32m     31\u001b[0m     \u001b[0;32mif\u001b[0m \u001b[0minfo\u001b[0m \u001b[0;34m<\u001b[0m \u001b[0;36m0\u001b[0m\u001b[0;34m:\u001b[0m\u001b[0;34m\u001b[0m\u001b[0m\n",
      "\u001b[0;31mLinAlgError\u001b[0m: 24-th leading minor not positive definite",
      "\nDuring handling of the above exception, another exception occurred:\n",
      "\u001b[0;31mTypeError\u001b[0m                                 Traceback (most recent call last)",
      "\u001b[0;32mpomegranate/bayes.pyx\u001b[0m in \u001b[0;36mpomegranate.bayes.BayesModel.from_summaries\u001b[0;34m()\u001b[0m\n",
      "\u001b[0;32mpomegranate/distributions.pyx\u001b[0m in \u001b[0;36mpomegranate.distributions.MultivariateGaussianDistribution.from_summaries\u001b[0;34m()\u001b[0m\n",
      "\u001b[0;31mTypeError\u001b[0m: Cannot cast ufunc subtract output from dtype('complex128') to dtype('float64') with casting rule 'same_kind'"
     ]
    },
    {
     "name": "stderr",
     "output_type": "stream",
     "text": [
      "Exception ignored in: 'pomegranate.hmm.HiddenMarkovModel._from_summaries'\n",
      "Traceback (most recent call last):\n",
      "  File \"pomegranate/bayes.pyx\", line 710, in pomegranate.bayes.BayesModel.from_summaries\n",
      "  File \"pomegranate/distributions.pyx\", line 2259, in pomegranate.distributions.MultivariateGaussianDistribution.from_summaries\n",
      "TypeError: Cannot cast ufunc subtract output from dtype('complex128') to dtype('float64') with casting rule 'same_kind'\n"
     ]
    },
    {
     "name": "stdout",
     "output_type": "stream",
     "text": [
      "[49] Improvement: 0.011602562153711915\tTime (s): 532.9\n"
     ]
    },
    {
     "ename": "TypeError",
     "evalue": "Cannot cast ufunc subtract output from dtype('complex128') to dtype('float64') with casting rule 'same_kind'",
     "output_type": "error",
     "traceback": [
      "\u001b[0;31m---------------------------------------------------------------------------\u001b[0m",
      "\u001b[0;31mLinAlgError\u001b[0m                               Traceback (most recent call last)",
      "\u001b[0;32mpomegranate/distributions.pyx\u001b[0m in \u001b[0;36mpomegranate.distributions.MultivariateGaussianDistribution.from_summaries\u001b[0;34m()\u001b[0m\n",
      "\u001b[0;32m/usr/local/lib/python3.5/dist-packages/scipy/linalg/decomp_cholesky.py\u001b[0m in \u001b[0;36mcholesky\u001b[0;34m(a, lower, overwrite_a, check_finite)\u001b[0m\n\u001b[1;32m     80\u001b[0m     c, lower = _cholesky(a, lower=lower, overwrite_a=overwrite_a, clean=True,\n\u001b[0;32m---> 81\u001b[0;31m                             check_finite=check_finite)\n\u001b[0m\u001b[1;32m     82\u001b[0m     \u001b[0;32mreturn\u001b[0m \u001b[0mc\u001b[0m\u001b[0;34m\u001b[0m\u001b[0m\n",
      "\u001b[0;32m/usr/local/lib/python3.5/dist-packages/scipy/linalg/decomp_cholesky.py\u001b[0m in \u001b[0;36m_cholesky\u001b[0;34m(a, lower, overwrite_a, clean, check_finite)\u001b[0m\n\u001b[1;32m     29\u001b[0m     \u001b[0;32mif\u001b[0m \u001b[0minfo\u001b[0m \u001b[0;34m>\u001b[0m \u001b[0;36m0\u001b[0m\u001b[0;34m:\u001b[0m\u001b[0;34m\u001b[0m\u001b[0m\n\u001b[0;32m---> 30\u001b[0;31m         \u001b[0;32mraise\u001b[0m \u001b[0mLinAlgError\u001b[0m\u001b[0;34m(\u001b[0m\u001b[0;34m\"%d-th leading minor not positive definite\"\u001b[0m \u001b[0;34m%\u001b[0m \u001b[0minfo\u001b[0m\u001b[0;34m)\u001b[0m\u001b[0;34m\u001b[0m\u001b[0m\n\u001b[0m\u001b[1;32m     31\u001b[0m     \u001b[0;32mif\u001b[0m \u001b[0minfo\u001b[0m \u001b[0;34m<\u001b[0m \u001b[0;36m0\u001b[0m\u001b[0;34m:\u001b[0m\u001b[0;34m\u001b[0m\u001b[0m\n",
      "\u001b[0;31mLinAlgError\u001b[0m: 24-th leading minor not positive definite",
      "\nDuring handling of the above exception, another exception occurred:\n",
      "\u001b[0;31mTypeError\u001b[0m                                 Traceback (most recent call last)",
      "\u001b[0;32mpomegranate/bayes.pyx\u001b[0m in \u001b[0;36mpomegranate.bayes.BayesModel.from_summaries\u001b[0;34m()\u001b[0m\n",
      "\u001b[0;32mpomegranate/distributions.pyx\u001b[0m in \u001b[0;36mpomegranate.distributions.MultivariateGaussianDistribution.from_summaries\u001b[0;34m()\u001b[0m\n",
      "\u001b[0;31mTypeError\u001b[0m: Cannot cast ufunc subtract output from dtype('complex128') to dtype('float64') with casting rule 'same_kind'"
     ]
    },
    {
     "name": "stderr",
     "output_type": "stream",
     "text": [
      "Exception ignored in: 'pomegranate.hmm.HiddenMarkovModel._from_summaries'\n",
      "Traceback (most recent call last):\n",
      "  File \"pomegranate/bayes.pyx\", line 710, in pomegranate.bayes.BayesModel.from_summaries\n",
      "  File \"pomegranate/distributions.pyx\", line 2259, in pomegranate.distributions.MultivariateGaussianDistribution.from_summaries\n",
      "TypeError: Cannot cast ufunc subtract output from dtype('complex128') to dtype('float64') with casting rule 'same_kind'\n"
     ]
    },
    {
     "name": "stdout",
     "output_type": "stream",
     "text": [
      "[50] Improvement: 0.01280992547981441\tTime (s): 542.9\n"
     ]
    },
    {
     "ename": "TypeError",
     "evalue": "Cannot cast ufunc subtract output from dtype('complex128') to dtype('float64') with casting rule 'same_kind'",
     "output_type": "error",
     "traceback": [
      "\u001b[0;31m---------------------------------------------------------------------------\u001b[0m",
      "\u001b[0;31mLinAlgError\u001b[0m                               Traceback (most recent call last)",
      "\u001b[0;32mpomegranate/distributions.pyx\u001b[0m in \u001b[0;36mpomegranate.distributions.MultivariateGaussianDistribution.from_summaries\u001b[0;34m()\u001b[0m\n",
      "\u001b[0;32m/usr/local/lib/python3.5/dist-packages/scipy/linalg/decomp_cholesky.py\u001b[0m in \u001b[0;36mcholesky\u001b[0;34m(a, lower, overwrite_a, check_finite)\u001b[0m\n\u001b[1;32m     80\u001b[0m     c, lower = _cholesky(a, lower=lower, overwrite_a=overwrite_a, clean=True,\n\u001b[0;32m---> 81\u001b[0;31m                             check_finite=check_finite)\n\u001b[0m\u001b[1;32m     82\u001b[0m     \u001b[0;32mreturn\u001b[0m \u001b[0mc\u001b[0m\u001b[0;34m\u001b[0m\u001b[0m\n",
      "\u001b[0;32m/usr/local/lib/python3.5/dist-packages/scipy/linalg/decomp_cholesky.py\u001b[0m in \u001b[0;36m_cholesky\u001b[0;34m(a, lower, overwrite_a, clean, check_finite)\u001b[0m\n\u001b[1;32m     29\u001b[0m     \u001b[0;32mif\u001b[0m \u001b[0minfo\u001b[0m \u001b[0;34m>\u001b[0m \u001b[0;36m0\u001b[0m\u001b[0;34m:\u001b[0m\u001b[0;34m\u001b[0m\u001b[0m\n\u001b[0;32m---> 30\u001b[0;31m         \u001b[0;32mraise\u001b[0m \u001b[0mLinAlgError\u001b[0m\u001b[0;34m(\u001b[0m\u001b[0;34m\"%d-th leading minor not positive definite\"\u001b[0m \u001b[0;34m%\u001b[0m \u001b[0minfo\u001b[0m\u001b[0;34m)\u001b[0m\u001b[0;34m\u001b[0m\u001b[0m\n\u001b[0m\u001b[1;32m     31\u001b[0m     \u001b[0;32mif\u001b[0m \u001b[0minfo\u001b[0m \u001b[0;34m<\u001b[0m \u001b[0;36m0\u001b[0m\u001b[0;34m:\u001b[0m\u001b[0;34m\u001b[0m\u001b[0m\n",
      "\u001b[0;31mLinAlgError\u001b[0m: 23-th leading minor not positive definite",
      "\nDuring handling of the above exception, another exception occurred:\n",
      "\u001b[0;31mTypeError\u001b[0m                                 Traceback (most recent call last)",
      "\u001b[0;32mpomegranate/bayes.pyx\u001b[0m in \u001b[0;36mpomegranate.bayes.BayesModel.from_summaries\u001b[0;34m()\u001b[0m\n",
      "\u001b[0;32mpomegranate/distributions.pyx\u001b[0m in \u001b[0;36mpomegranate.distributions.MultivariateGaussianDistribution.from_summaries\u001b[0;34m()\u001b[0m\n",
      "\u001b[0;31mTypeError\u001b[0m: Cannot cast ufunc subtract output from dtype('complex128') to dtype('float64') with casting rule 'same_kind'"
     ]
    },
    {
     "name": "stderr",
     "output_type": "stream",
     "text": [
      "Exception ignored in: 'pomegranate.hmm.HiddenMarkovModel._from_summaries'\n",
      "Traceback (most recent call last):\n",
      "  File \"pomegranate/bayes.pyx\", line 710, in pomegranate.bayes.BayesModel.from_summaries\n",
      "  File \"pomegranate/distributions.pyx\", line 2259, in pomegranate.distributions.MultivariateGaussianDistribution.from_summaries\n",
      "TypeError: Cannot cast ufunc subtract output from dtype('complex128') to dtype('float64') with casting rule 'same_kind'\n"
     ]
    },
    {
     "name": "stdout",
     "output_type": "stream",
     "text": [
      "[51] Improvement: 0.01246536965481937\tTime (s): 535.5\n"
     ]
    },
    {
     "ename": "TypeError",
     "evalue": "Cannot cast ufunc subtract output from dtype('complex128') to dtype('float64') with casting rule 'same_kind'",
     "output_type": "error",
     "traceback": [
      "\u001b[0;31m---------------------------------------------------------------------------\u001b[0m",
      "\u001b[0;31mLinAlgError\u001b[0m                               Traceback (most recent call last)",
      "\u001b[0;32mpomegranate/distributions.pyx\u001b[0m in \u001b[0;36mpomegranate.distributions.MultivariateGaussianDistribution.from_summaries\u001b[0;34m()\u001b[0m\n",
      "\u001b[0;32m/usr/local/lib/python3.5/dist-packages/scipy/linalg/decomp_cholesky.py\u001b[0m in \u001b[0;36mcholesky\u001b[0;34m(a, lower, overwrite_a, check_finite)\u001b[0m\n\u001b[1;32m     80\u001b[0m     c, lower = _cholesky(a, lower=lower, overwrite_a=overwrite_a, clean=True,\n\u001b[0;32m---> 81\u001b[0;31m                             check_finite=check_finite)\n\u001b[0m\u001b[1;32m     82\u001b[0m     \u001b[0;32mreturn\u001b[0m \u001b[0mc\u001b[0m\u001b[0;34m\u001b[0m\u001b[0m\n",
      "\u001b[0;32m/usr/local/lib/python3.5/dist-packages/scipy/linalg/decomp_cholesky.py\u001b[0m in \u001b[0;36m_cholesky\u001b[0;34m(a, lower, overwrite_a, clean, check_finite)\u001b[0m\n\u001b[1;32m     29\u001b[0m     \u001b[0;32mif\u001b[0m \u001b[0minfo\u001b[0m \u001b[0;34m>\u001b[0m \u001b[0;36m0\u001b[0m\u001b[0;34m:\u001b[0m\u001b[0;34m\u001b[0m\u001b[0m\n\u001b[0;32m---> 30\u001b[0;31m         \u001b[0;32mraise\u001b[0m \u001b[0mLinAlgError\u001b[0m\u001b[0;34m(\u001b[0m\u001b[0;34m\"%d-th leading minor not positive definite\"\u001b[0m \u001b[0;34m%\u001b[0m \u001b[0minfo\u001b[0m\u001b[0;34m)\u001b[0m\u001b[0;34m\u001b[0m\u001b[0m\n\u001b[0m\u001b[1;32m     31\u001b[0m     \u001b[0;32mif\u001b[0m \u001b[0minfo\u001b[0m \u001b[0;34m<\u001b[0m \u001b[0;36m0\u001b[0m\u001b[0;34m:\u001b[0m\u001b[0;34m\u001b[0m\u001b[0m\n",
      "\u001b[0;31mLinAlgError\u001b[0m: 23-th leading minor not positive definite",
      "\nDuring handling of the above exception, another exception occurred:\n",
      "\u001b[0;31mTypeError\u001b[0m                                 Traceback (most recent call last)",
      "\u001b[0;32mpomegranate/bayes.pyx\u001b[0m in \u001b[0;36mpomegranate.bayes.BayesModel.from_summaries\u001b[0;34m()\u001b[0m\n",
      "\u001b[0;32mpomegranate/distributions.pyx\u001b[0m in \u001b[0;36mpomegranate.distributions.MultivariateGaussianDistribution.from_summaries\u001b[0;34m()\u001b[0m\n",
      "\u001b[0;31mTypeError\u001b[0m: Cannot cast ufunc subtract output from dtype('complex128') to dtype('float64') with casting rule 'same_kind'"
     ]
    },
    {
     "name": "stderr",
     "output_type": "stream",
     "text": [
      "Exception ignored in: 'pomegranate.hmm.HiddenMarkovModel._from_summaries'\n",
      "Traceback (most recent call last):\n",
      "  File \"pomegranate/bayes.pyx\", line 710, in pomegranate.bayes.BayesModel.from_summaries\n",
      "  File \"pomegranate/distributions.pyx\", line 2259, in pomegranate.distributions.MultivariateGaussianDistribution.from_summaries\n",
      "TypeError: Cannot cast ufunc subtract output from dtype('complex128') to dtype('float64') with casting rule 'same_kind'\n"
     ]
    },
    {
     "name": "stdout",
     "output_type": "stream",
     "text": [
      "[52] Improvement: 0.010371301788836718\tTime (s): 541.7\n"
     ]
    },
    {
     "ename": "LinAlgError",
     "evalue": "39-th leading minor not positive definite",
     "output_type": "error",
     "traceback": [
      "\u001b[0;31m---------------------------------------------------------------------------\u001b[0m",
      "\u001b[0;31mLinAlgError\u001b[0m                               Traceback (most recent call last)",
      "\u001b[0;32mpomegranate/distributions.pyx\u001b[0m in \u001b[0;36mpomegranate.distributions.MultivariateGaussianDistribution.from_summaries\u001b[0;34m()\u001b[0m\n",
      "\u001b[0;32m/usr/local/lib/python3.5/dist-packages/scipy/linalg/decomp_cholesky.py\u001b[0m in \u001b[0;36mcholesky\u001b[0;34m(a, lower, overwrite_a, check_finite)\u001b[0m\n\u001b[1;32m     80\u001b[0m     c, lower = _cholesky(a, lower=lower, overwrite_a=overwrite_a, clean=True,\n\u001b[0;32m---> 81\u001b[0;31m                             check_finite=check_finite)\n\u001b[0m\u001b[1;32m     82\u001b[0m     \u001b[0;32mreturn\u001b[0m \u001b[0mc\u001b[0m\u001b[0;34m\u001b[0m\u001b[0m\n",
      "\u001b[0;32m/usr/local/lib/python3.5/dist-packages/scipy/linalg/decomp_cholesky.py\u001b[0m in \u001b[0;36m_cholesky\u001b[0;34m(a, lower, overwrite_a, clean, check_finite)\u001b[0m\n\u001b[1;32m     29\u001b[0m     \u001b[0;32mif\u001b[0m \u001b[0minfo\u001b[0m \u001b[0;34m>\u001b[0m \u001b[0;36m0\u001b[0m\u001b[0;34m:\u001b[0m\u001b[0;34m\u001b[0m\u001b[0m\n\u001b[0;32m---> 30\u001b[0;31m         \u001b[0;32mraise\u001b[0m \u001b[0mLinAlgError\u001b[0m\u001b[0;34m(\u001b[0m\u001b[0;34m\"%d-th leading minor not positive definite\"\u001b[0m \u001b[0;34m%\u001b[0m \u001b[0minfo\u001b[0m\u001b[0;34m)\u001b[0m\u001b[0;34m\u001b[0m\u001b[0m\n\u001b[0m\u001b[1;32m     31\u001b[0m     \u001b[0;32mif\u001b[0m \u001b[0minfo\u001b[0m \u001b[0;34m<\u001b[0m \u001b[0;36m0\u001b[0m\u001b[0;34m:\u001b[0m\u001b[0;34m\u001b[0m\u001b[0m\n",
      "\u001b[0;31mLinAlgError\u001b[0m: 27-th leading minor not positive definite",
      "\nDuring handling of the above exception, another exception occurred:\n",
      "\u001b[0;31mLinAlgError\u001b[0m                               Traceback (most recent call last)",
      "\u001b[0;32mpomegranate/bayes.pyx\u001b[0m in \u001b[0;36mpomegranate.bayes.BayesModel.from_summaries\u001b[0;34m()\u001b[0m\n",
      "\u001b[0;32mpomegranate/distributions.pyx\u001b[0m in \u001b[0;36mpomegranate.distributions.MultivariateGaussianDistribution.from_summaries\u001b[0;34m()\u001b[0m\n",
      "\u001b[0;32m/usr/local/lib/python3.5/dist-packages/scipy/linalg/decomp_cholesky.py\u001b[0m in \u001b[0;36mcholesky\u001b[0;34m(a, lower, overwrite_a, check_finite)\u001b[0m\n\u001b[1;32m     79\u001b[0m     \"\"\"\n\u001b[1;32m     80\u001b[0m     c, lower = _cholesky(a, lower=lower, overwrite_a=overwrite_a, clean=True,\n\u001b[0;32m---> 81\u001b[0;31m                             check_finite=check_finite)\n\u001b[0m\u001b[1;32m     82\u001b[0m     \u001b[0;32mreturn\u001b[0m \u001b[0mc\u001b[0m\u001b[0;34m\u001b[0m\u001b[0m\n\u001b[1;32m     83\u001b[0m \u001b[0;34m\u001b[0m\u001b[0m\n",
      "\u001b[0;32m/usr/local/lib/python3.5/dist-packages/scipy/linalg/decomp_cholesky.py\u001b[0m in \u001b[0;36m_cholesky\u001b[0;34m(a, lower, overwrite_a, clean, check_finite)\u001b[0m\n\u001b[1;32m     28\u001b[0m     \u001b[0mc\u001b[0m\u001b[0;34m,\u001b[0m \u001b[0minfo\u001b[0m \u001b[0;34m=\u001b[0m \u001b[0mpotrf\u001b[0m\u001b[0;34m(\u001b[0m\u001b[0ma1\u001b[0m\u001b[0;34m,\u001b[0m \u001b[0mlower\u001b[0m\u001b[0;34m=\u001b[0m\u001b[0mlower\u001b[0m\u001b[0;34m,\u001b[0m \u001b[0moverwrite_a\u001b[0m\u001b[0;34m=\u001b[0m\u001b[0moverwrite_a\u001b[0m\u001b[0;34m,\u001b[0m \u001b[0mclean\u001b[0m\u001b[0;34m=\u001b[0m\u001b[0mclean\u001b[0m\u001b[0;34m)\u001b[0m\u001b[0;34m\u001b[0m\u001b[0m\n\u001b[1;32m     29\u001b[0m     \u001b[0;32mif\u001b[0m \u001b[0minfo\u001b[0m \u001b[0;34m>\u001b[0m \u001b[0;36m0\u001b[0m\u001b[0;34m:\u001b[0m\u001b[0;34m\u001b[0m\u001b[0m\n\u001b[0;32m---> 30\u001b[0;31m         \u001b[0;32mraise\u001b[0m \u001b[0mLinAlgError\u001b[0m\u001b[0;34m(\u001b[0m\u001b[0;34m\"%d-th leading minor not positive definite\"\u001b[0m \u001b[0;34m%\u001b[0m \u001b[0minfo\u001b[0m\u001b[0;34m)\u001b[0m\u001b[0;34m\u001b[0m\u001b[0m\n\u001b[0m\u001b[1;32m     31\u001b[0m     \u001b[0;32mif\u001b[0m \u001b[0minfo\u001b[0m \u001b[0;34m<\u001b[0m \u001b[0;36m0\u001b[0m\u001b[0;34m:\u001b[0m\u001b[0;34m\u001b[0m\u001b[0m\n\u001b[1;32m     32\u001b[0m         raise ValueError('illegal value in %d-th argument of internal potrf'\n",
      "\u001b[0;31mLinAlgError\u001b[0m: 39-th leading minor not positive definite"
     ]
    },
    {
     "name": "stderr",
     "output_type": "stream",
     "text": [
      "Exception ignored in: 'pomegranate.hmm.HiddenMarkovModel._from_summaries'\n",
      "Traceback (most recent call last):\n",
      "  File \"pomegranate/bayes.pyx\", line 710, in pomegranate.bayes.BayesModel.from_summaries\n",
      "  File \"pomegranate/distributions.pyx\", line 2261, in pomegranate.distributions.MultivariateGaussianDistribution.from_summaries\n",
      "  File \"/usr/local/lib/python3.5/dist-packages/scipy/linalg/decomp_cholesky.py\", line 81, in cholesky\n",
      "    check_finite=check_finite)\n",
      "  File \"/usr/local/lib/python3.5/dist-packages/scipy/linalg/decomp_cholesky.py\", line 30, in _cholesky\n",
      "    raise LinAlgError(\"%d-th leading minor not positive definite\" % info)\n",
      "numpy.linalg.linalg.LinAlgError: 39-th leading minor not positive definite\n"
     ]
    },
    {
     "name": "stdout",
     "output_type": "stream",
     "text": [
      "[53] Improvement: 57.83760084374808\tTime (s): 541.0\n"
     ]
    },
    {
     "ename": "TypeError",
     "evalue": "Cannot cast ufunc subtract output from dtype('complex128') to dtype('float64') with casting rule 'same_kind'",
     "output_type": "error",
     "traceback": [
      "\u001b[0;31m---------------------------------------------------------------------------\u001b[0m",
      "\u001b[0;31mLinAlgError\u001b[0m                               Traceback (most recent call last)",
      "\u001b[0;32mpomegranate/distributions.pyx\u001b[0m in \u001b[0;36mpomegranate.distributions.MultivariateGaussianDistribution.from_summaries\u001b[0;34m()\u001b[0m\n",
      "\u001b[0;32m/usr/local/lib/python3.5/dist-packages/scipy/linalg/decomp_cholesky.py\u001b[0m in \u001b[0;36mcholesky\u001b[0;34m(a, lower, overwrite_a, check_finite)\u001b[0m\n\u001b[1;32m     80\u001b[0m     c, lower = _cholesky(a, lower=lower, overwrite_a=overwrite_a, clean=True,\n\u001b[0;32m---> 81\u001b[0;31m                             check_finite=check_finite)\n\u001b[0m\u001b[1;32m     82\u001b[0m     \u001b[0;32mreturn\u001b[0m \u001b[0mc\u001b[0m\u001b[0;34m\u001b[0m\u001b[0m\n",
      "\u001b[0;32m/usr/local/lib/python3.5/dist-packages/scipy/linalg/decomp_cholesky.py\u001b[0m in \u001b[0;36m_cholesky\u001b[0;34m(a, lower, overwrite_a, clean, check_finite)\u001b[0m\n\u001b[1;32m     29\u001b[0m     \u001b[0;32mif\u001b[0m \u001b[0minfo\u001b[0m \u001b[0;34m>\u001b[0m \u001b[0;36m0\u001b[0m\u001b[0;34m:\u001b[0m\u001b[0;34m\u001b[0m\u001b[0m\n\u001b[0;32m---> 30\u001b[0;31m         \u001b[0;32mraise\u001b[0m \u001b[0mLinAlgError\u001b[0m\u001b[0;34m(\u001b[0m\u001b[0;34m\"%d-th leading minor not positive definite\"\u001b[0m \u001b[0;34m%\u001b[0m \u001b[0minfo\u001b[0m\u001b[0;34m)\u001b[0m\u001b[0;34m\u001b[0m\u001b[0m\n\u001b[0m\u001b[1;32m     31\u001b[0m     \u001b[0;32mif\u001b[0m \u001b[0minfo\u001b[0m \u001b[0;34m<\u001b[0m \u001b[0;36m0\u001b[0m\u001b[0;34m:\u001b[0m\u001b[0;34m\u001b[0m\u001b[0m\n",
      "\u001b[0;31mLinAlgError\u001b[0m: 22-th leading minor not positive definite",
      "\nDuring handling of the above exception, another exception occurred:\n",
      "\u001b[0;31mTypeError\u001b[0m                                 Traceback (most recent call last)",
      "\u001b[0;32mpomegranate/bayes.pyx\u001b[0m in \u001b[0;36mpomegranate.bayes.BayesModel.from_summaries\u001b[0;34m()\u001b[0m\n",
      "\u001b[0;32mpomegranate/distributions.pyx\u001b[0m in \u001b[0;36mpomegranate.distributions.MultivariateGaussianDistribution.from_summaries\u001b[0;34m()\u001b[0m\n",
      "\u001b[0;31mTypeError\u001b[0m: Cannot cast ufunc subtract output from dtype('complex128') to dtype('float64') with casting rule 'same_kind'"
     ]
    },
    {
     "name": "stderr",
     "output_type": "stream",
     "text": [
      "Exception ignored in: 'pomegranate.hmm.HiddenMarkovModel._from_summaries'\n",
      "Traceback (most recent call last):\n",
      "  File \"pomegranate/bayes.pyx\", line 710, in pomegranate.bayes.BayesModel.from_summaries\n",
      "  File \"pomegranate/distributions.pyx\", line 2259, in pomegranate.distributions.MultivariateGaussianDistribution.from_summaries\n",
      "TypeError: Cannot cast ufunc subtract output from dtype('complex128') to dtype('float64') with casting rule 'same_kind'\n"
     ]
    },
    {
     "name": "stdout",
     "output_type": "stream",
     "text": [
      "[54] Improvement: 0.004460606258362532\tTime (s): 541.7\n"
     ]
    },
    {
     "ename": "TypeError",
     "evalue": "Cannot cast ufunc subtract output from dtype('complex128') to dtype('float64') with casting rule 'same_kind'",
     "output_type": "error",
     "traceback": [
      "\u001b[0;31m---------------------------------------------------------------------------\u001b[0m",
      "\u001b[0;31mLinAlgError\u001b[0m                               Traceback (most recent call last)",
      "\u001b[0;32mpomegranate/distributions.pyx\u001b[0m in \u001b[0;36mpomegranate.distributions.MultivariateGaussianDistribution.from_summaries\u001b[0;34m()\u001b[0m\n",
      "\u001b[0;32m/usr/local/lib/python3.5/dist-packages/scipy/linalg/decomp_cholesky.py\u001b[0m in \u001b[0;36mcholesky\u001b[0;34m(a, lower, overwrite_a, check_finite)\u001b[0m\n\u001b[1;32m     80\u001b[0m     c, lower = _cholesky(a, lower=lower, overwrite_a=overwrite_a, clean=True,\n\u001b[0;32m---> 81\u001b[0;31m                             check_finite=check_finite)\n\u001b[0m\u001b[1;32m     82\u001b[0m     \u001b[0;32mreturn\u001b[0m \u001b[0mc\u001b[0m\u001b[0;34m\u001b[0m\u001b[0m\n",
      "\u001b[0;32m/usr/local/lib/python3.5/dist-packages/scipy/linalg/decomp_cholesky.py\u001b[0m in \u001b[0;36m_cholesky\u001b[0;34m(a, lower, overwrite_a, clean, check_finite)\u001b[0m\n\u001b[1;32m     29\u001b[0m     \u001b[0;32mif\u001b[0m \u001b[0minfo\u001b[0m \u001b[0;34m>\u001b[0m \u001b[0;36m0\u001b[0m\u001b[0;34m:\u001b[0m\u001b[0;34m\u001b[0m\u001b[0m\n\u001b[0;32m---> 30\u001b[0;31m         \u001b[0;32mraise\u001b[0m \u001b[0mLinAlgError\u001b[0m\u001b[0;34m(\u001b[0m\u001b[0;34m\"%d-th leading minor not positive definite\"\u001b[0m \u001b[0;34m%\u001b[0m \u001b[0minfo\u001b[0m\u001b[0;34m)\u001b[0m\u001b[0;34m\u001b[0m\u001b[0m\n\u001b[0m\u001b[1;32m     31\u001b[0m     \u001b[0;32mif\u001b[0m \u001b[0minfo\u001b[0m \u001b[0;34m<\u001b[0m \u001b[0;36m0\u001b[0m\u001b[0;34m:\u001b[0m\u001b[0;34m\u001b[0m\u001b[0m\n",
      "\u001b[0;31mLinAlgError\u001b[0m: 22-th leading minor not positive definite",
      "\nDuring handling of the above exception, another exception occurred:\n",
      "\u001b[0;31mTypeError\u001b[0m                                 Traceback (most recent call last)",
      "\u001b[0;32mpomegranate/bayes.pyx\u001b[0m in \u001b[0;36mpomegranate.bayes.BayesModel.from_summaries\u001b[0;34m()\u001b[0m\n",
      "\u001b[0;32mpomegranate/distributions.pyx\u001b[0m in \u001b[0;36mpomegranate.distributions.MultivariateGaussianDistribution.from_summaries\u001b[0;34m()\u001b[0m\n",
      "\u001b[0;31mTypeError\u001b[0m: Cannot cast ufunc subtract output from dtype('complex128') to dtype('float64') with casting rule 'same_kind'"
     ]
    },
    {
     "name": "stderr",
     "output_type": "stream",
     "text": [
      "Exception ignored in: 'pomegranate.hmm.HiddenMarkovModel._from_summaries'\n",
      "Traceback (most recent call last):\n",
      "  File \"pomegranate/bayes.pyx\", line 710, in pomegranate.bayes.BayesModel.from_summaries\n",
      "  File \"pomegranate/distributions.pyx\", line 2259, in pomegranate.distributions.MultivariateGaussianDistribution.from_summaries\n",
      "TypeError: Cannot cast ufunc subtract output from dtype('complex128') to dtype('float64') with casting rule 'same_kind'\n"
     ]
    },
    {
     "name": "stdout",
     "output_type": "stream",
     "text": [
      "[55] Improvement: 0.0024528754875063896\tTime (s): 541.1\n"
     ]
    },
    {
     "ename": "TypeError",
     "evalue": "Cannot cast ufunc subtract output from dtype('complex128') to dtype('float64') with casting rule 'same_kind'",
     "output_type": "error",
     "traceback": [
      "\u001b[0;31m---------------------------------------------------------------------------\u001b[0m",
      "\u001b[0;31mLinAlgError\u001b[0m                               Traceback (most recent call last)",
      "\u001b[0;32mpomegranate/distributions.pyx\u001b[0m in \u001b[0;36mpomegranate.distributions.MultivariateGaussianDistribution.from_summaries\u001b[0;34m()\u001b[0m\n",
      "\u001b[0;32m/usr/local/lib/python3.5/dist-packages/scipy/linalg/decomp_cholesky.py\u001b[0m in \u001b[0;36mcholesky\u001b[0;34m(a, lower, overwrite_a, check_finite)\u001b[0m\n\u001b[1;32m     80\u001b[0m     c, lower = _cholesky(a, lower=lower, overwrite_a=overwrite_a, clean=True,\n\u001b[0;32m---> 81\u001b[0;31m                             check_finite=check_finite)\n\u001b[0m\u001b[1;32m     82\u001b[0m     \u001b[0;32mreturn\u001b[0m \u001b[0mc\u001b[0m\u001b[0;34m\u001b[0m\u001b[0m\n",
      "\u001b[0;32m/usr/local/lib/python3.5/dist-packages/scipy/linalg/decomp_cholesky.py\u001b[0m in \u001b[0;36m_cholesky\u001b[0;34m(a, lower, overwrite_a, clean, check_finite)\u001b[0m\n\u001b[1;32m     29\u001b[0m     \u001b[0;32mif\u001b[0m \u001b[0minfo\u001b[0m \u001b[0;34m>\u001b[0m \u001b[0;36m0\u001b[0m\u001b[0;34m:\u001b[0m\u001b[0;34m\u001b[0m\u001b[0m\n\u001b[0;32m---> 30\u001b[0;31m         \u001b[0;32mraise\u001b[0m \u001b[0mLinAlgError\u001b[0m\u001b[0;34m(\u001b[0m\u001b[0;34m\"%d-th leading minor not positive definite\"\u001b[0m \u001b[0;34m%\u001b[0m \u001b[0minfo\u001b[0m\u001b[0;34m)\u001b[0m\u001b[0;34m\u001b[0m\u001b[0m\n\u001b[0m\u001b[1;32m     31\u001b[0m     \u001b[0;32mif\u001b[0m \u001b[0minfo\u001b[0m \u001b[0;34m<\u001b[0m \u001b[0;36m0\u001b[0m\u001b[0;34m:\u001b[0m\u001b[0;34m\u001b[0m\u001b[0m\n",
      "\u001b[0;31mLinAlgError\u001b[0m: 24-th leading minor not positive definite",
      "\nDuring handling of the above exception, another exception occurred:\n",
      "\u001b[0;31mTypeError\u001b[0m                                 Traceback (most recent call last)",
      "\u001b[0;32mpomegranate/bayes.pyx\u001b[0m in \u001b[0;36mpomegranate.bayes.BayesModel.from_summaries\u001b[0;34m()\u001b[0m\n",
      "\u001b[0;32mpomegranate/distributions.pyx\u001b[0m in \u001b[0;36mpomegranate.distributions.MultivariateGaussianDistribution.from_summaries\u001b[0;34m()\u001b[0m\n",
      "\u001b[0;31mTypeError\u001b[0m: Cannot cast ufunc subtract output from dtype('complex128') to dtype('float64') with casting rule 'same_kind'"
     ]
    },
    {
     "name": "stderr",
     "output_type": "stream",
     "text": [
      "Exception ignored in: 'pomegranate.hmm.HiddenMarkovModel._from_summaries'\n",
      "Traceback (most recent call last):\n",
      "  File \"pomegranate/bayes.pyx\", line 710, in pomegranate.bayes.BayesModel.from_summaries\n",
      "  File \"pomegranate/distributions.pyx\", line 2259, in pomegranate.distributions.MultivariateGaussianDistribution.from_summaries\n",
      "TypeError: Cannot cast ufunc subtract output from dtype('complex128') to dtype('float64') with casting rule 'same_kind'\n"
     ]
    },
    {
     "name": "stdout",
     "output_type": "stream",
     "text": [
      "[56] Improvement: 0.00127413310110569\tTime (s): 541.1\n"
     ]
    },
    {
     "ename": "TypeError",
     "evalue": "Cannot cast ufunc subtract output from dtype('complex128') to dtype('float64') with casting rule 'same_kind'",
     "output_type": "error",
     "traceback": [
      "\u001b[0;31m---------------------------------------------------------------------------\u001b[0m",
      "\u001b[0;31mLinAlgError\u001b[0m                               Traceback (most recent call last)",
      "\u001b[0;32mpomegranate/distributions.pyx\u001b[0m in \u001b[0;36mpomegranate.distributions.MultivariateGaussianDistribution.from_summaries\u001b[0;34m()\u001b[0m\n",
      "\u001b[0;32m/usr/local/lib/python3.5/dist-packages/scipy/linalg/decomp_cholesky.py\u001b[0m in \u001b[0;36mcholesky\u001b[0;34m(a, lower, overwrite_a, check_finite)\u001b[0m\n\u001b[1;32m     80\u001b[0m     c, lower = _cholesky(a, lower=lower, overwrite_a=overwrite_a, clean=True,\n\u001b[0;32m---> 81\u001b[0;31m                             check_finite=check_finite)\n\u001b[0m\u001b[1;32m     82\u001b[0m     \u001b[0;32mreturn\u001b[0m \u001b[0mc\u001b[0m\u001b[0;34m\u001b[0m\u001b[0m\n",
      "\u001b[0;32m/usr/local/lib/python3.5/dist-packages/scipy/linalg/decomp_cholesky.py\u001b[0m in \u001b[0;36m_cholesky\u001b[0;34m(a, lower, overwrite_a, clean, check_finite)\u001b[0m\n\u001b[1;32m     29\u001b[0m     \u001b[0;32mif\u001b[0m \u001b[0minfo\u001b[0m \u001b[0;34m>\u001b[0m \u001b[0;36m0\u001b[0m\u001b[0;34m:\u001b[0m\u001b[0;34m\u001b[0m\u001b[0m\n\u001b[0;32m---> 30\u001b[0;31m         \u001b[0;32mraise\u001b[0m \u001b[0mLinAlgError\u001b[0m\u001b[0;34m(\u001b[0m\u001b[0;34m\"%d-th leading minor not positive definite\"\u001b[0m \u001b[0;34m%\u001b[0m \u001b[0minfo\u001b[0m\u001b[0;34m)\u001b[0m\u001b[0;34m\u001b[0m\u001b[0m\n\u001b[0m\u001b[1;32m     31\u001b[0m     \u001b[0;32mif\u001b[0m \u001b[0minfo\u001b[0m \u001b[0;34m<\u001b[0m \u001b[0;36m0\u001b[0m\u001b[0;34m:\u001b[0m\u001b[0;34m\u001b[0m\u001b[0m\n",
      "\u001b[0;31mLinAlgError\u001b[0m: 24-th leading minor not positive definite",
      "\nDuring handling of the above exception, another exception occurred:\n",
      "\u001b[0;31mTypeError\u001b[0m                                 Traceback (most recent call last)",
      "\u001b[0;32mpomegranate/bayes.pyx\u001b[0m in \u001b[0;36mpomegranate.bayes.BayesModel.from_summaries\u001b[0;34m()\u001b[0m\n",
      "\u001b[0;32mpomegranate/distributions.pyx\u001b[0m in \u001b[0;36mpomegranate.distributions.MultivariateGaussianDistribution.from_summaries\u001b[0;34m()\u001b[0m\n",
      "\u001b[0;31mTypeError\u001b[0m: Cannot cast ufunc subtract output from dtype('complex128') to dtype('float64') with casting rule 'same_kind'"
     ]
    },
    {
     "name": "stderr",
     "output_type": "stream",
     "text": [
      "Exception ignored in: 'pomegranate.hmm.HiddenMarkovModel._from_summaries'\n",
      "Traceback (most recent call last):\n",
      "  File \"pomegranate/bayes.pyx\", line 710, in pomegranate.bayes.BayesModel.from_summaries\n",
      "  File \"pomegranate/distributions.pyx\", line 2259, in pomegranate.distributions.MultivariateGaussianDistribution.from_summaries\n",
      "TypeError: Cannot cast ufunc subtract output from dtype('complex128') to dtype('float64') with casting rule 'same_kind'\n"
     ]
    },
    {
     "name": "stdout",
     "output_type": "stream",
     "text": [
      "[57] Improvement: 0.0006458016578108072\tTime (s): 540.1\n"
     ]
    },
    {
     "ename": "TypeError",
     "evalue": "Cannot cast ufunc subtract output from dtype('complex128') to dtype('float64') with casting rule 'same_kind'",
     "output_type": "error",
     "traceback": [
      "\u001b[0;31m---------------------------------------------------------------------------\u001b[0m",
      "\u001b[0;31mLinAlgError\u001b[0m                               Traceback (most recent call last)",
      "\u001b[0;32mpomegranate/distributions.pyx\u001b[0m in \u001b[0;36mpomegranate.distributions.MultivariateGaussianDistribution.from_summaries\u001b[0;34m()\u001b[0m\n",
      "\u001b[0;32m/usr/local/lib/python3.5/dist-packages/scipy/linalg/decomp_cholesky.py\u001b[0m in \u001b[0;36mcholesky\u001b[0;34m(a, lower, overwrite_a, check_finite)\u001b[0m\n\u001b[1;32m     80\u001b[0m     c, lower = _cholesky(a, lower=lower, overwrite_a=overwrite_a, clean=True,\n\u001b[0;32m---> 81\u001b[0;31m                             check_finite=check_finite)\n\u001b[0m\u001b[1;32m     82\u001b[0m     \u001b[0;32mreturn\u001b[0m \u001b[0mc\u001b[0m\u001b[0;34m\u001b[0m\u001b[0m\n",
      "\u001b[0;32m/usr/local/lib/python3.5/dist-packages/scipy/linalg/decomp_cholesky.py\u001b[0m in \u001b[0;36m_cholesky\u001b[0;34m(a, lower, overwrite_a, clean, check_finite)\u001b[0m\n\u001b[1;32m     29\u001b[0m     \u001b[0;32mif\u001b[0m \u001b[0minfo\u001b[0m \u001b[0;34m>\u001b[0m \u001b[0;36m0\u001b[0m\u001b[0;34m:\u001b[0m\u001b[0;34m\u001b[0m\u001b[0m\n\u001b[0;32m---> 30\u001b[0;31m         \u001b[0;32mraise\u001b[0m \u001b[0mLinAlgError\u001b[0m\u001b[0;34m(\u001b[0m\u001b[0;34m\"%d-th leading minor not positive definite\"\u001b[0m \u001b[0;34m%\u001b[0m \u001b[0minfo\u001b[0m\u001b[0;34m)\u001b[0m\u001b[0;34m\u001b[0m\u001b[0m\n\u001b[0m\u001b[1;32m     31\u001b[0m     \u001b[0;32mif\u001b[0m \u001b[0minfo\u001b[0m \u001b[0;34m<\u001b[0m \u001b[0;36m0\u001b[0m\u001b[0;34m:\u001b[0m\u001b[0;34m\u001b[0m\u001b[0m\n",
      "\u001b[0;31mLinAlgError\u001b[0m: 23-th leading minor not positive definite",
      "\nDuring handling of the above exception, another exception occurred:\n",
      "\u001b[0;31mTypeError\u001b[0m                                 Traceback (most recent call last)",
      "\u001b[0;32mpomegranate/bayes.pyx\u001b[0m in \u001b[0;36mpomegranate.bayes.BayesModel.from_summaries\u001b[0;34m()\u001b[0m\n",
      "\u001b[0;32mpomegranate/distributions.pyx\u001b[0m in \u001b[0;36mpomegranate.distributions.MultivariateGaussianDistribution.from_summaries\u001b[0;34m()\u001b[0m\n",
      "\u001b[0;31mTypeError\u001b[0m: Cannot cast ufunc subtract output from dtype('complex128') to dtype('float64') with casting rule 'same_kind'"
     ]
    },
    {
     "name": "stderr",
     "output_type": "stream",
     "text": [
      "Exception ignored in: 'pomegranate.hmm.HiddenMarkovModel._from_summaries'\n",
      "Traceback (most recent call last):\n",
      "  File \"pomegranate/bayes.pyx\", line 710, in pomegranate.bayes.BayesModel.from_summaries\n",
      "  File \"pomegranate/distributions.pyx\", line 2259, in pomegranate.distributions.MultivariateGaussianDistribution.from_summaries\n",
      "TypeError: Cannot cast ufunc subtract output from dtype('complex128') to dtype('float64') with casting rule 'same_kind'\n"
     ]
    },
    {
     "name": "stdout",
     "output_type": "stream",
     "text": [
      "[58] Improvement: 0.00032188952900469303\tTime (s): 542.9\n"
     ]
    },
    {
     "ename": "TypeError",
     "evalue": "Cannot cast ufunc subtract output from dtype('complex128') to dtype('float64') with casting rule 'same_kind'",
     "output_type": "error",
     "traceback": [
      "\u001b[0;31m---------------------------------------------------------------------------\u001b[0m",
      "\u001b[0;31mLinAlgError\u001b[0m                               Traceback (most recent call last)",
      "\u001b[0;32mpomegranate/distributions.pyx\u001b[0m in \u001b[0;36mpomegranate.distributions.MultivariateGaussianDistribution.from_summaries\u001b[0;34m()\u001b[0m\n",
      "\u001b[0;32m/usr/local/lib/python3.5/dist-packages/scipy/linalg/decomp_cholesky.py\u001b[0m in \u001b[0;36mcholesky\u001b[0;34m(a, lower, overwrite_a, check_finite)\u001b[0m\n\u001b[1;32m     80\u001b[0m     c, lower = _cholesky(a, lower=lower, overwrite_a=overwrite_a, clean=True,\n\u001b[0;32m---> 81\u001b[0;31m                             check_finite=check_finite)\n\u001b[0m\u001b[1;32m     82\u001b[0m     \u001b[0;32mreturn\u001b[0m \u001b[0mc\u001b[0m\u001b[0;34m\u001b[0m\u001b[0m\n",
      "\u001b[0;32m/usr/local/lib/python3.5/dist-packages/scipy/linalg/decomp_cholesky.py\u001b[0m in \u001b[0;36m_cholesky\u001b[0;34m(a, lower, overwrite_a, clean, check_finite)\u001b[0m\n\u001b[1;32m     29\u001b[0m     \u001b[0;32mif\u001b[0m \u001b[0minfo\u001b[0m \u001b[0;34m>\u001b[0m \u001b[0;36m0\u001b[0m\u001b[0;34m:\u001b[0m\u001b[0;34m\u001b[0m\u001b[0m\n\u001b[0;32m---> 30\u001b[0;31m         \u001b[0;32mraise\u001b[0m \u001b[0mLinAlgError\u001b[0m\u001b[0;34m(\u001b[0m\u001b[0;34m\"%d-th leading minor not positive definite\"\u001b[0m \u001b[0;34m%\u001b[0m \u001b[0minfo\u001b[0m\u001b[0;34m)\u001b[0m\u001b[0;34m\u001b[0m\u001b[0m\n\u001b[0m\u001b[1;32m     31\u001b[0m     \u001b[0;32mif\u001b[0m \u001b[0minfo\u001b[0m \u001b[0;34m<\u001b[0m \u001b[0;36m0\u001b[0m\u001b[0;34m:\u001b[0m\u001b[0;34m\u001b[0m\u001b[0m\n",
      "\u001b[0;31mLinAlgError\u001b[0m: 23-th leading minor not positive definite",
      "\nDuring handling of the above exception, another exception occurred:\n",
      "\u001b[0;31mTypeError\u001b[0m                                 Traceback (most recent call last)",
      "\u001b[0;32mpomegranate/bayes.pyx\u001b[0m in \u001b[0;36mpomegranate.bayes.BayesModel.from_summaries\u001b[0;34m()\u001b[0m\n",
      "\u001b[0;32mpomegranate/distributions.pyx\u001b[0m in \u001b[0;36mpomegranate.distributions.MultivariateGaussianDistribution.from_summaries\u001b[0;34m()\u001b[0m\n",
      "\u001b[0;31mTypeError\u001b[0m: Cannot cast ufunc subtract output from dtype('complex128') to dtype('float64') with casting rule 'same_kind'"
     ]
    },
    {
     "name": "stderr",
     "output_type": "stream",
     "text": [
      "Exception ignored in: 'pomegranate.hmm.HiddenMarkovModel._from_summaries'\n",
      "Traceback (most recent call last):\n",
      "  File \"pomegranate/bayes.pyx\", line 710, in pomegranate.bayes.BayesModel.from_summaries\n",
      "  File \"pomegranate/distributions.pyx\", line 2259, in pomegranate.distributions.MultivariateGaussianDistribution.from_summaries\n",
      "TypeError: Cannot cast ufunc subtract output from dtype('complex128') to dtype('float64') with casting rule 'same_kind'\n"
     ]
    },
    {
     "name": "stdout",
     "output_type": "stream",
     "text": [
      "[59] Improvement: 0.000154552748426795\tTime (s): 543.1\n"
     ]
    },
    {
     "ename": "TypeError",
     "evalue": "Cannot cast ufunc subtract output from dtype('complex128') to dtype('float64') with casting rule 'same_kind'",
     "output_type": "error",
     "traceback": [
      "\u001b[0;31m---------------------------------------------------------------------------\u001b[0m",
      "\u001b[0;31mLinAlgError\u001b[0m                               Traceback (most recent call last)",
      "\u001b[0;32mpomegranate/distributions.pyx\u001b[0m in \u001b[0;36mpomegranate.distributions.MultivariateGaussianDistribution.from_summaries\u001b[0;34m()\u001b[0m\n",
      "\u001b[0;32m/usr/local/lib/python3.5/dist-packages/scipy/linalg/decomp_cholesky.py\u001b[0m in \u001b[0;36mcholesky\u001b[0;34m(a, lower, overwrite_a, check_finite)\u001b[0m\n\u001b[1;32m     80\u001b[0m     c, lower = _cholesky(a, lower=lower, overwrite_a=overwrite_a, clean=True,\n\u001b[0;32m---> 81\u001b[0;31m                             check_finite=check_finite)\n\u001b[0m\u001b[1;32m     82\u001b[0m     \u001b[0;32mreturn\u001b[0m \u001b[0mc\u001b[0m\u001b[0;34m\u001b[0m\u001b[0m\n",
      "\u001b[0;32m/usr/local/lib/python3.5/dist-packages/scipy/linalg/decomp_cholesky.py\u001b[0m in \u001b[0;36m_cholesky\u001b[0;34m(a, lower, overwrite_a, clean, check_finite)\u001b[0m\n\u001b[1;32m     29\u001b[0m     \u001b[0;32mif\u001b[0m \u001b[0minfo\u001b[0m \u001b[0;34m>\u001b[0m \u001b[0;36m0\u001b[0m\u001b[0;34m:\u001b[0m\u001b[0;34m\u001b[0m\u001b[0m\n\u001b[0;32m---> 30\u001b[0;31m         \u001b[0;32mraise\u001b[0m \u001b[0mLinAlgError\u001b[0m\u001b[0;34m(\u001b[0m\u001b[0;34m\"%d-th leading minor not positive definite\"\u001b[0m \u001b[0;34m%\u001b[0m \u001b[0minfo\u001b[0m\u001b[0;34m)\u001b[0m\u001b[0;34m\u001b[0m\u001b[0m\n\u001b[0m\u001b[1;32m     31\u001b[0m     \u001b[0;32mif\u001b[0m \u001b[0minfo\u001b[0m \u001b[0;34m<\u001b[0m \u001b[0;36m0\u001b[0m\u001b[0;34m:\u001b[0m\u001b[0;34m\u001b[0m\u001b[0m\n",
      "\u001b[0;31mLinAlgError\u001b[0m: 23-th leading minor not positive definite",
      "\nDuring handling of the above exception, another exception occurred:\n",
      "\u001b[0;31mTypeError\u001b[0m                                 Traceback (most recent call last)",
      "\u001b[0;32mpomegranate/bayes.pyx\u001b[0m in \u001b[0;36mpomegranate.bayes.BayesModel.from_summaries\u001b[0;34m()\u001b[0m\n",
      "\u001b[0;32mpomegranate/distributions.pyx\u001b[0m in \u001b[0;36mpomegranate.distributions.MultivariateGaussianDistribution.from_summaries\u001b[0;34m()\u001b[0m\n",
      "\u001b[0;31mTypeError\u001b[0m: Cannot cast ufunc subtract output from dtype('complex128') to dtype('float64') with casting rule 'same_kind'"
     ]
    },
    {
     "name": "stderr",
     "output_type": "stream",
     "text": [
      "Exception ignored in: 'pomegranate.hmm.HiddenMarkovModel._from_summaries'\n",
      "Traceback (most recent call last):\n",
      "  File \"pomegranate/bayes.pyx\", line 710, in pomegranate.bayes.BayesModel.from_summaries\n",
      "  File \"pomegranate/distributions.pyx\", line 2259, in pomegranate.distributions.MultivariateGaussianDistribution.from_summaries\n",
      "TypeError: Cannot cast ufunc subtract output from dtype('complex128') to dtype('float64') with casting rule 'same_kind'\n"
     ]
    },
    {
     "name": "stdout",
     "output_type": "stream",
     "text": [
      "[60] Improvement: 6.717629730701447e-05\tTime (s): 534.9\n"
     ]
    },
    {
     "ename": "TypeError",
     "evalue": "Cannot cast ufunc subtract output from dtype('complex128') to dtype('float64') with casting rule 'same_kind'",
     "output_type": "error",
     "traceback": [
      "\u001b[0;31m---------------------------------------------------------------------------\u001b[0m",
      "\u001b[0;31mLinAlgError\u001b[0m                               Traceback (most recent call last)",
      "\u001b[0;32mpomegranate/distributions.pyx\u001b[0m in \u001b[0;36mpomegranate.distributions.MultivariateGaussianDistribution.from_summaries\u001b[0;34m()\u001b[0m\n",
      "\u001b[0;32m/usr/local/lib/python3.5/dist-packages/scipy/linalg/decomp_cholesky.py\u001b[0m in \u001b[0;36mcholesky\u001b[0;34m(a, lower, overwrite_a, check_finite)\u001b[0m\n\u001b[1;32m     80\u001b[0m     c, lower = _cholesky(a, lower=lower, overwrite_a=overwrite_a, clean=True,\n\u001b[0;32m---> 81\u001b[0;31m                             check_finite=check_finite)\n\u001b[0m\u001b[1;32m     82\u001b[0m     \u001b[0;32mreturn\u001b[0m \u001b[0mc\u001b[0m\u001b[0;34m\u001b[0m\u001b[0m\n",
      "\u001b[0;32m/usr/local/lib/python3.5/dist-packages/scipy/linalg/decomp_cholesky.py\u001b[0m in \u001b[0;36m_cholesky\u001b[0;34m(a, lower, overwrite_a, clean, check_finite)\u001b[0m\n\u001b[1;32m     29\u001b[0m     \u001b[0;32mif\u001b[0m \u001b[0minfo\u001b[0m \u001b[0;34m>\u001b[0m \u001b[0;36m0\u001b[0m\u001b[0;34m:\u001b[0m\u001b[0;34m\u001b[0m\u001b[0m\n\u001b[0;32m---> 30\u001b[0;31m         \u001b[0;32mraise\u001b[0m \u001b[0mLinAlgError\u001b[0m\u001b[0;34m(\u001b[0m\u001b[0;34m\"%d-th leading minor not positive definite\"\u001b[0m \u001b[0;34m%\u001b[0m \u001b[0minfo\u001b[0m\u001b[0;34m)\u001b[0m\u001b[0;34m\u001b[0m\u001b[0m\n\u001b[0m\u001b[1;32m     31\u001b[0m     \u001b[0;32mif\u001b[0m \u001b[0minfo\u001b[0m \u001b[0;34m<\u001b[0m \u001b[0;36m0\u001b[0m\u001b[0;34m:\u001b[0m\u001b[0;34m\u001b[0m\u001b[0m\n",
      "\u001b[0;31mLinAlgError\u001b[0m: 23-th leading minor not positive definite",
      "\nDuring handling of the above exception, another exception occurred:\n",
      "\u001b[0;31mTypeError\u001b[0m                                 Traceback (most recent call last)",
      "\u001b[0;32mpomegranate/bayes.pyx\u001b[0m in \u001b[0;36mpomegranate.bayes.BayesModel.from_summaries\u001b[0;34m()\u001b[0m\n",
      "\u001b[0;32mpomegranate/distributions.pyx\u001b[0m in \u001b[0;36mpomegranate.distributions.MultivariateGaussianDistribution.from_summaries\u001b[0;34m()\u001b[0m\n",
      "\u001b[0;31mTypeError\u001b[0m: Cannot cast ufunc subtract output from dtype('complex128') to dtype('float64') with casting rule 'same_kind'"
     ]
    },
    {
     "name": "stderr",
     "output_type": "stream",
     "text": [
      "Exception ignored in: 'pomegranate.hmm.HiddenMarkovModel._from_summaries'\n",
      "Traceback (most recent call last):\n",
      "  File \"pomegranate/bayes.pyx\", line 710, in pomegranate.bayes.BayesModel.from_summaries\n",
      "  File \"pomegranate/distributions.pyx\", line 2259, in pomegranate.distributions.MultivariateGaussianDistribution.from_summaries\n",
      "TypeError: Cannot cast ufunc subtract output from dtype('complex128') to dtype('float64') with casting rule 'same_kind'\n"
     ]
    },
    {
     "name": "stdout",
     "output_type": "stream",
     "text": [
      "[61] Improvement: 2.1627172827720642e-05\tTime (s): 537.9\n"
     ]
    },
    {
     "ename": "TypeError",
     "evalue": "Cannot cast ufunc subtract output from dtype('complex128') to dtype('float64') with casting rule 'same_kind'",
     "output_type": "error",
     "traceback": [
      "\u001b[0;31m---------------------------------------------------------------------------\u001b[0m",
      "\u001b[0;31mLinAlgError\u001b[0m                               Traceback (most recent call last)",
      "\u001b[0;32mpomegranate/distributions.pyx\u001b[0m in \u001b[0;36mpomegranate.distributions.MultivariateGaussianDistribution.from_summaries\u001b[0;34m()\u001b[0m\n",
      "\u001b[0;32m/usr/local/lib/python3.5/dist-packages/scipy/linalg/decomp_cholesky.py\u001b[0m in \u001b[0;36mcholesky\u001b[0;34m(a, lower, overwrite_a, check_finite)\u001b[0m\n\u001b[1;32m     80\u001b[0m     c, lower = _cholesky(a, lower=lower, overwrite_a=overwrite_a, clean=True,\n\u001b[0;32m---> 81\u001b[0;31m                             check_finite=check_finite)\n\u001b[0m\u001b[1;32m     82\u001b[0m     \u001b[0;32mreturn\u001b[0m \u001b[0mc\u001b[0m\u001b[0;34m\u001b[0m\u001b[0m\n",
      "\u001b[0;32m/usr/local/lib/python3.5/dist-packages/scipy/linalg/decomp_cholesky.py\u001b[0m in \u001b[0;36m_cholesky\u001b[0;34m(a, lower, overwrite_a, clean, check_finite)\u001b[0m\n\u001b[1;32m     29\u001b[0m     \u001b[0;32mif\u001b[0m \u001b[0minfo\u001b[0m \u001b[0;34m>\u001b[0m \u001b[0;36m0\u001b[0m\u001b[0;34m:\u001b[0m\u001b[0;34m\u001b[0m\u001b[0m\n\u001b[0;32m---> 30\u001b[0;31m         \u001b[0;32mraise\u001b[0m \u001b[0mLinAlgError\u001b[0m\u001b[0;34m(\u001b[0m\u001b[0;34m\"%d-th leading minor not positive definite\"\u001b[0m \u001b[0;34m%\u001b[0m \u001b[0minfo\u001b[0m\u001b[0;34m)\u001b[0m\u001b[0;34m\u001b[0m\u001b[0m\n\u001b[0m\u001b[1;32m     31\u001b[0m     \u001b[0;32mif\u001b[0m \u001b[0minfo\u001b[0m \u001b[0;34m<\u001b[0m \u001b[0;36m0\u001b[0m\u001b[0;34m:\u001b[0m\u001b[0;34m\u001b[0m\u001b[0m\n",
      "\u001b[0;31mLinAlgError\u001b[0m: 23-th leading minor not positive definite",
      "\nDuring handling of the above exception, another exception occurred:\n",
      "\u001b[0;31mTypeError\u001b[0m                                 Traceback (most recent call last)",
      "\u001b[0;32mpomegranate/bayes.pyx\u001b[0m in \u001b[0;36mpomegranate.bayes.BayesModel.from_summaries\u001b[0;34m()\u001b[0m\n",
      "\u001b[0;32mpomegranate/distributions.pyx\u001b[0m in \u001b[0;36mpomegranate.distributions.MultivariateGaussianDistribution.from_summaries\u001b[0;34m()\u001b[0m\n",
      "\u001b[0;31mTypeError\u001b[0m: Cannot cast ufunc subtract output from dtype('complex128') to dtype('float64') with casting rule 'same_kind'"
     ]
    },
    {
     "name": "stderr",
     "output_type": "stream",
     "text": [
      "Exception ignored in: 'pomegranate.hmm.HiddenMarkovModel._from_summaries'\n",
      "Traceback (most recent call last):\n",
      "  File \"pomegranate/bayes.pyx\", line 710, in pomegranate.bayes.BayesModel.from_summaries\n",
      "  File \"pomegranate/distributions.pyx\", line 2259, in pomegranate.distributions.MultivariateGaussianDistribution.from_summaries\n",
      "TypeError: Cannot cast ufunc subtract output from dtype('complex128') to dtype('float64') with casting rule 'same_kind'\n"
     ]
    },
    {
     "name": "stdout",
     "output_type": "stream",
     "text": [
      "[62] Improvement: -1.4025717973709106e-06\tTime (s): 544.4\n",
      "Total Training Improvement: 2551.5645321204793\n",
      "Total Training Time (s): 33826.2032\n"
     ]
    },
    {
     "data": {
      "text/plain": [
       "2551.5645321204793"
      ]
     },
     "execution_count": 76,
     "metadata": {},
     "output_type": "execute_result"
    }
   ],
   "source": [
    "example_sentence_hmm.fit(example_features, algorithm='viterbi', n_jobs=12, verbose=True)"
   ]
  },
  {
   "cell_type": "markdown",
   "metadata": {},
   "source": [
    "## Enroll"
   ]
  },
  {
   "cell_type": "code",
   "execution_count": 54,
   "metadata": {},
   "outputs": [
    {
     "data": {
      "text/plain": [
       "GMMHMM(algorithm='viterbi', covariance_type='diag', covars_prior=0.01,\n",
       "    init_params='stmcw', n_components=39, n_iter=10, n_mix=8,\n",
       "    params='stmcw', random_state=None, startprob_prior=1.0, tol=0.01,\n",
       "    transmat_prior=1.0, verbose=False)"
      ]
     },
     "execution_count": 54,
     "metadata": {},
     "output_type": "execute_result"
    }
   ],
   "source": [
    "def make_speaker_classifier(inspeaker_classifier):\n",
    "    n_components = 3 * len(phones)\n",
    "    initial, transitions = make_matrix_beads(n_components)\n",
    "\n",
    "    classifier = hmm.GMMHMM(\n",
    "        n_components=n_components, n_mix=8, covariance_type='diag', init_params='mcw', params='tmcw'\n",
    "    )\n",
    "\n",
    "    classifier.startprob_ = initial\n",
    "    classifier.transmat_ = transitions"
   ]
  },
  {
   "cell_type": "code",
   "execution_count": null,
   "metadata": {},
   "outputs": [],
   "source": []
  },
  {
   "cell_type": "code",
   "execution_count": null,
   "metadata": {},
   "outputs": [],
   "source": [
    "def perform_enrollments(classifier, enrollments):\n",
    "    labels = enrollments[['is_male', 'speaker_id', 'sentence_id']].values\n",
    "    features = [load_mfcc(path) for path in enrollments_1['pcm_path']]\n",
    "    classifier.fit(features, labels)\n",
    "    "
   ]
  },
  {
   "cell_type": "markdown",
   "metadata": {},
   "source": [
    "## Trial"
   ]
  },
  {
   "cell_type": "code",
   "execution_count": null,
   "metadata": {},
   "outputs": [],
   "source": [
    "def save_results(label, results):\n",
    "    path = os.path.join(root, 'result', label)\n",
    "    with open(path) as opened:\n",
    "        pickle.dump(results, opened)\n",
    "        \n",
    "def load_results(label):\n",
    "    path = os.path.join(root, 'result', label)\n",
    "    with open(path) as opened:\n",
    "        return pickle.load(opened)\n",
    "    \n",
    "def perform_trial(classifier, path):\n",
    "    features = load_mfcc(path)\n",
    "    return classifier.predict_single_proba(features)\n",
    "\n",
    "def perform_trials(classifier, trials):\n",
    "    paths = trials['pcm_path'].unique()\n",
    "    results = {}\n",
    "    for path in paths:\n",
    "        results[path] = perform_trial(classifier, path)\n",
    "    return results"
   ]
  },
  {
   "cell_type": "code",
   "execution_count": null,
   "metadata": {},
   "outputs": [],
   "source": []
  }
 ],
 "metadata": {
  "kernelspec": {
   "display_name": "Python 3",
   "language": "python",
   "name": "python3"
  },
  "language_info": {
   "codemirror_mode": {
    "name": "ipython",
    "version": 3
   },
   "file_extension": ".py",
   "mimetype": "text/x-python",
   "name": "python",
   "nbconvert_exporter": "python",
   "pygments_lexer": "ipython3",
   "version": "3.5.2"
  }
 },
 "nbformat": 4,
 "nbformat_minor": 2
}
