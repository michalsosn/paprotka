{
 "cells": [
  {
   "cell_type": "markdown",
   "metadata": {},
   "source": [
    "# DNN DeepSpech"
   ]
  },
  {
   "cell_type": "markdown",
   "metadata": {},
   "source": [
    "## COMPARISON OF MULTIPLE FEATURES AND MODELING METHODS FORTEXT-DEPENDENT SPEAKER VERIFICATION\n",
    "### https://arxiv.org/pdf/1707.04373.pdf\n",
    "\n",
    "#### Features\n",
    "1. MFCC: MFCCs are extracted from 16kHz utterance with 40 filter-banks distributed between 0 and 8kHz. Static 19-dimensional coefficients plus energy and their delta and delta-delta form a 60-dimensional vector. CMVN is applied per utterance.\n",
    "2. FBank: FBank computation has the same steps with MFCC extraction, except that no DCT transform is applied. The  Fbank coefficient is 120 dimension (40 + ∆ + ∆∆).\n",
    "3. BN feature: BN features are extracted from phonetic and speaker discriminant DNNs. We denote them as pBN and sBN, respectively. The configuration of the DNN structure is described below.\n",
    "\n",
    "#### Models\n",
    "1. DNN: The training data is a subset from Librispeech and RSR2015, containing about 460 and 50 hours respectively.  The fully connected  DNN  consists  of  4  hidden  layers  with  1200  nodes  per layer, plus a BN layer with 60 nodes. The input is FBank with symmetric 5-frame expansion, resulting in 11 frames in total. The number  of  nodes  in  the  output  layer  is  determined  by  different tasks. For  phoneme  classification,  we  use  2142  tied  triphonestates  and  for  speaker  classification, 1472  speaker  identities (1172  from  Librispeech  and  300  from  RSR2015) become the corresponding outputs. BN features are the linear outputs of the last hidden layer without any activation function.\n",
    "2. GMM-UBM and i-vector: A gender-dependent UBM with 1024 mixtures is trained. For i-vector modeling, the rank of the matrix T is 600. Log-likelihood without normalization and cosine distance is used to generate verification scores in these two systems respectively.\n",
    "3. HMM: To generate the alignment for the HMM-based modeling, we use MFCCs to train the HMM. 39 mono-phones plus a silence model are used, each of which contains 3 states. To model the complexity of silence, a GMM with 16 mixtures is used for every silence state, while other states are all modeled by 8 Gaussians, resulting 984 Gaussians in total. This HMM is further extended to a triphone system and remains 2142 senones. The transcriptions for DNN  training  is  generated  by  the  senone  alignment. Only MFCCs are used for HMM training and alignment.\n",
    "4. GMM-HMM and i-vector/HMM: The GMM of every state is reestimated using the HMM alignments and different speaker features. The total number of mixtures in our model is 984. The dimension of i-vector is again set to 600. Viterbi and FB alignments are both investigated."
   ]
  },
  {
   "cell_type": "code",
   "execution_count": 8,
   "metadata": {},
   "outputs": [],
   "source": [
    "import concurrent.futures as cf\n",
    "import functools as ft\n",
    "import itertools as it\n",
    "import json\n",
    "import math\n",
    "import operator as op\n",
    "import os\n",
    "import re\n",
    "import sys\n",
    "\n",
    "from IPython.display import display\n",
    "from ipywidgets import interact, interact_manual, widgets\n",
    "import matplotlib.pyplot as plt\n",
    "import numpy as np\n",
    "import pandas as pd\n",
    "import pickle\n",
    "from scipy import interpolate, linalg, misc, optimize, spatial, stats\n",
    "from sklearn import metrics, mixture, cluster, utils\n",
    "import tensorflow as tf\n",
    "from deepspeech.utils import audioToInputVector\n",
    "\n",
    "from paprotka.dataset import reddots"
   ]
  },
  {
   "cell_type": "markdown",
   "metadata": {},
   "source": [
    "# Load"
   ]
  },
  {
   "cell_type": "code",
   "execution_count": 19,
   "metadata": {},
   "outputs": [],
   "source": [
    "with open('paths.json') as opened:\n",
    "    paths = json.load(opened)\n",
    "    \n",
    "root = paths['reddots_root']\n",
    "deepspeech_root = paths['deepspeech_root']\n",
    "\n",
    "# sys.path.insert(1, os.path.join(sys.path[0], '..'))"
   ]
  },
  {
   "cell_type": "code",
   "execution_count": 12,
   "metadata": {},
   "outputs": [],
   "source": [
    "def audiofile_to_input_vector(audio_filename, fs=16000, numcep=26, numcontext=9):\n",
    "    audio = np.fromfile(audio_filename, np.int16)\n",
    "    return audioToInputVector(audio, 16000, numcep, numcontext)"
   ]
  },
  {
   "cell_type": "code",
   "execution_count": 16,
   "metadata": {},
   "outputs": [
    {
     "name": "stdout",
     "output_type": "stream",
     "text": [
      "15305 f0002/20150224142650384_f0002_14438.pcm\n"
     ]
    }
   ],
   "source": [
    "all_paths = [os.path.join(os.path.basename(root), file) for root, _, files in os.walk(root + '/pcm') \n",
    "                                      for file in files \n",
    "                                      if file.endswith('.pcm')]\n",
    "print(len(all_paths), all_paths[0])"
   ]
  },
  {
   "cell_type": "code",
   "execution_count": 18,
   "metadata": {},
   "outputs": [],
   "source": [
    "all_mfcc = {path: audiofile_to_input_vector(root + '/pcm/' + path) for path in all_paths}"
   ]
  },
  {
   "cell_type": "code",
   "execution_count": 49,
   "metadata": {},
   "outputs": [
    {
     "name": "stdout",
     "output_type": "stream",
     "text": [
      "      sentence_id                  content  \\\n",
      "1609           31  My voice is my password   \n",
      "\n",
      "                                                 phones  \n",
      "1609  M AY1 _ V OY1 S _ IH1 Z _ M AY1 _ P AE1 S W ER2 D  \n"
     ]
    }
   ],
   "source": [
    "script = pd.read_csv(root + '/infos/phones.csv', sep=';')\n",
    "print(script.loc[script['sentence_id'] == 31])"
   ]
  },
  {
   "cell_type": "code",
   "execution_count": 50,
   "metadata": {},
   "outputs": [],
   "source": [
    "def load_sets(eid, tid=None):\n",
    "    tid = tid if tid else eid\n",
    "    \n",
    "    enrollments = reddots.load_enrollments(root + '/ndx/f_part_{}.trn'.format(eid), \n",
    "                                           root + '/ndx/m_part_{}.trn'.format(eid))\n",
    "    trials = reddots.load_trials(root + '/ndx/f_part_{}.ndx'.format(tid), \n",
    "                                 root + '/ndx/m_part_{}.ndx'.format(tid))\n",
    "    \n",
    "    enrollments = enrollments.merge(script, how='left', on='sentence_id')\n",
    "    trials = trials.merge(script, how='left', left_on='expected_sentence_id', right_on='sentence_id')\n",
    "    del trials['sentence_id']\n",
    "    trials.rename(columns={'content': 'expected_content', 'phones': 'expected_phones'}, inplace=True)\n",
    "    trials = trials.merge(script, how='left', left_on='trial_sentence_id', right_on='sentence_id')\n",
    "    del trials['sentence_id']\n",
    "    trials.rename(columns={'content': 'trial_content', 'phones': 'trial_phones'}, inplace=True)\n",
    "    \n",
    "    return enrollments, trials"
   ]
  },
  {
   "cell_type": "code",
   "execution_count": 51,
   "metadata": {},
   "outputs": [
    {
     "name": "stdout",
     "output_type": "stream",
     "text": [
      "Enrollments\n",
      "is_male                  bool\n",
      "pcm_path               object\n",
      "sentence_id             int16\n",
      "speaker_id              int16\n",
      "timestamp      datetime64[ns]\n",
      "content                object\n",
      "phones                 object\n",
      "dtype: object\n",
      "Trials\n",
      "correct_sentence                  bool\n",
      "expected_is_male                  bool\n",
      "expected_sentence_id             int16\n",
      "expected_speaker_id              int16\n",
      "pcm_path                        object\n",
      "target_person                     bool\n",
      "trial_is_male                     bool\n",
      "trial_sentence_id                int16\n",
      "trial_speaker_id                 int16\n",
      "trial_timestamp         datetime64[ns]\n",
      "expected_content                object\n",
      "expected_phones                 object\n",
      "trial_content                   object\n",
      "trial_phones                    object\n",
      "dtype: object\n"
     ]
    }
   ],
   "source": [
    "enrollments_1, trials_1 = load_sets('01')\n",
    "print('Enrollments', enrollments_1.dtypes, sep='\\n')\n",
    "print('Trials', trials_1.dtypes, sep='\\n')"
   ]
  },
  {
   "cell_type": "code",
   "execution_count": 81,
   "metadata": {},
   "outputs": [],
   "source": [
    "enrollments_2, trials_2 = load_sets('02')\n",
    "enrollments_3, trials_3 = load_sets('03')\n",
    "enrollments_4_td, trials_4_td = load_sets('04_td', '04')"
   ]
  },
  {
   "cell_type": "code",
   "execution_count": 106,
   "metadata": {},
   "outputs": [
    {
     "name": "stdout",
     "output_type": "stream",
     "text": [
      "10857 4448\n"
     ]
    }
   ],
   "source": [
    "trialed_paths = set(path for trials in (trials_1, trials_2, trials_3, trials_4_td) for path in trials.pcm_path)\n",
    "untrialed_paths = [path for path in all_paths if path not in trialed_paths]\n",
    "print(len(trialed_paths), len(untrialed_paths))"
   ]
  },
  {
   "cell_type": "code",
   "execution_count": 107,
   "metadata": {},
   "outputs": [],
   "source": [
    "trialed_paths = [path for path in trialed_paths if all_mfcc[path].shape[0] >= 85]\n",
    "untrialed_paths = [path for path in untrialed_paths if all_mfcc[path].shape[0] >= 85]"
   ]
  },
  {
   "cell_type": "code",
   "execution_count": 127,
   "metadata": {},
   "outputs": [],
   "source": [
    "def write_model(path, model):\n",
    "    with open(path, 'wb') as opened:\n",
    "        pickle.dump(model, opened)\n",
    "        \n",
    "def read_model(path):\n",
    "    with open(path, 'rb') as opened:\n",
    "        return pickle.load(opened)\n",
    "    \n",
    "def save_results(label, results):\n",
    "    path = os.path.join(root, 'result', 'dnn', label)\n",
    "    with open(path, 'wb') as opened:\n",
    "        pickle.dump(results, opened)\n",
    "        \n",
    "def load_results(label):\n",
    "    path = os.path.join(root, 'result', 'dnn', label)\n",
    "    with open(path, 'rb') as opened:\n",
    "        return pickle.load(opened)"
   ]
  },
  {
   "cell_type": "markdown",
   "metadata": {},
   "source": [
    "# Train\n",
    "\n",
    "LSTM training done for us by Mozilla team! :)"
   ]
  },
  {
   "cell_type": "markdown",
   "metadata": {},
   "source": [
    "## Align frames using LSTM"
   ]
  },
  {
   "cell_type": "code",
   "execution_count": 76,
   "metadata": {},
   "outputs": [],
   "source": [
    "def load_graph(model_file_path):\n",
    "    with tf.gfile.GFile(model_file_path, 'rb') as opened:\n",
    "        graph_def = tf.GraphDef()\n",
    "        graph_def.ParseFromString(opened.read())\n",
    "        return graph_def\n",
    "\n",
    "def softmax(x):\n",
    "    e_x = np.exp(x - np.max(x))\n",
    "    return e_x / e_x.sum()\n",
    "\n",
    "def run_inference(graph_def, mfccs, mfcc_lens):\n",
    "    with tf.Graph().as_default() as graph:\n",
    "        tf.import_graph_def(graph_def, name=\"prefix\")\n",
    "\n",
    "        results = []\n",
    "        with tf.Session(graph=graph) as session:\n",
    "            # we are interested only into logits, not CTC decoding\n",
    "            inputs = {'input': graph.get_tensor_by_name('prefix/input_node:0'),\n",
    "                      'input_lengths': graph.get_tensor_by_name('prefix/input_lengths:0')}\n",
    "            outputs = {'outputs': graph.get_tensor_by_name('prefix/logits:0')}\n",
    "\n",
    "            for mfcc, mfcc_len in zip(mfccs, mfcc_lens):\n",
    "                output = session.run(outputs['outputs'], feed_dict={\n",
    "                    inputs['input']: [mfcc],\n",
    "                    inputs['input_lengths']: [mfcc_len]\n",
    "                })\n",
    "                results.append(output)\n",
    "            \n",
    "        return results\n",
    "\n",
    "#             text = alphabet.string_from_label(char_index)\n",
    "#             for i in range(0, len(output)):\n",
    "#                 softmax_output = softmax(output[i][0])"
   ]
  },
  {
   "cell_type": "code",
   "execution_count": 28,
   "metadata": {},
   "outputs": [],
   "source": [
    "graph_def = load_graph(deepspeech_root + '/models/output_graph.pb')"
   ]
  },
  {
   "cell_type": "code",
   "execution_count": 70,
   "metadata": {},
   "outputs": [],
   "source": [
    "alphabet = np.array([' ', 'a', 'b', 'c', 'd', 'e', 'f', 'g', 'h', 'i', 'j', 'k', 'l', 'm', 'n', \n",
    "                     'o', 'p', 'q', 'r', 's', 't', 'u', 'v', 'w', 'x', 'y', 'z', \"'\", \"*\"])\n",
    "\n",
    "def decode_max(alphabet, inference):\n",
    "    return ''.join(alphabet[n] for n in inference[:, 0, :].argmax(axis=1))\n",
    "\n",
    "def decode_max_nonoise(alphabet, inference):\n",
    "    return ''.join(alphabet[n] for n in inference[:, 0, :-1].argmax(axis=1))"
   ]
  },
  {
   "cell_type": "code",
   "execution_count": 79,
   "metadata": {},
   "outputs": [
    {
     "name": "stdout",
     "output_type": "stream",
     "text": [
      "(94, 1, 29) (163, 1, 29) (149, 1, 29) (188, 1, 29)\n"
     ]
    }
   ],
   "source": [
    "example_mfccs = [all_mfcc[path] for path in (\n",
    "    'm0002/20150713085938321_m0002_31.pcm', 'f0008/20150411081830530_f0008_31.pcm',\n",
    "    'm0005/20150527153345950_m0005_31.pcm', 'm0043/20150401161616565_m0043_31.pcm'\n",
    ")]\n",
    "example_inferences = run_inference(graph_def, example_mfccs, list(map(len, example_mfccs)))\n",
    "print(*[inference.shape for inference in example_inferences])"
   ]
  },
  {
   "cell_type": "code",
   "execution_count": 80,
   "metadata": {
    "scrolled": false
   },
   "outputs": [
    {
     "name": "stdout",
     "output_type": "stream",
     "text": [
      "0 ******m*y****   v*o**ii*c******e**s****  *m*a*****p*o***s*****bbllee**************************\n",
      "1 *************************************mmy*********  v*o****ii**cce*****  **isss*****  mmy****** pp*a*ss**s**********rr*d********************************************\n",
      "2 ********************************************m*y***** vvo****ii*c***  *i***ss**  mmy****  b*o******e*ss*****w**o******ddd*****************************\n",
      "3 **************************************m*y******  *v*o*******see**************  *hi*ss*  *m*ig**t*  b*uss*****p**o**rr***********************************************************************\n",
      "\n",
      "0 boff  mmyylre   voooiiiicee   eeesss t    mlaarr  ppouusssssiibbllee iddd bhannnneeeeeeeeeaaee\n",
      "1 whoaahaaahuuaammmhhmaaaaarmmdddddf  mmmyymmry ree  vvoouwiiiiccceeddd   diissss  is  mmyyg ht  pppaasssssswouu wworrrdddddeerbbbbenneeedsssssss ssssdsdeessseeaaaey\n",
      "2 thhmhhmmmmmmmmmmmmammmmmmmmmmmmmmmmmmmmff  mmmyyy e  vvoolliiiccce    iii'sss   mmyyne   blolwllleeysss   wwlooarrrrdddddds    dsdssdddddddeeeeeaaadd\n",
      "3 wtaaaahmaaddmmmmmmmmmmmmmmmmmaaadddd mmmyyn  aa  vvooarryiiiseeeddssssoddssho  thissss   mmightt   buusssss  phhoarrrrrokkeeeeddeeleeeeeeeeeeseeeeeedddee  eeeeeeeeeeeeeeeeeeddddddeeeeeaaee\n"
     ]
    }
   ],
   "source": [
    "for i, inference in enumerate(example_inferences):\n",
    "    print(i, decode_max(alphabet, inference))\n",
    "    \n",
    "print()\n",
    "for i, inference in enumerate(example_inferences):\n",
    "    print(i, decode_max_nonoise(alphabet, inference))"
   ]
  },
  {
   "cell_type": "code",
   "execution_count": 83,
   "metadata": {},
   "outputs": [],
   "source": [
    "def infer_all(all_mfcc, graph_def):\n",
    "    path_sequence = []\n",
    "    mfcc_sequence = []\n",
    "    mfcc_len_sequence = []\n",
    "\n",
    "    for path, mfcc in all_mfcc.items():\n",
    "        path_sequence.append(path)\n",
    "        mfcc_sequence.append(mfcc)\n",
    "        mfcc_len_sequence.append(len(mfcc))\n",
    "\n",
    "    inferences_sequence = run_inference(graph_def, mfcc_sequence, mfcc_len_sequence)\n",
    "\n",
    "    all_inferences = {path: inference for path, inference in zip(path_sequence, inferences_sequence)}\n",
    "    return all_inferences\n",
    "\n",
    "all_inferences = infer_all(all_mfcc, graph_def)"
   ]
  },
  {
   "cell_type": "code",
   "execution_count": 87,
   "metadata": {},
   "outputs": [],
   "source": [
    "# save_results('all_inferences.pickle', all_inferences)"
   ]
  },
  {
   "cell_type": "code",
   "execution_count": 103,
   "metadata": {},
   "outputs": [
    {
     "name": "stdout",
     "output_type": "stream",
     "text": [
      "******m*y****   v*o**ii*c******e**s****  *m*a*****p*o***s*****bbllee**************************\n",
      "boff  mmyylre   voooiiiicee   eeesss t    mlaarr  ppouusssssiibbllee iddd bhannnneeeeeeeeeaaee\n"
     ]
    }
   ],
   "source": [
    "print(decode_max(alphabet, example_inference))\n",
    "print(decode_max_nonoise(alphabet, example_inference))"
   ]
  },
  {
   "cell_type": "markdown",
   "metadata": {},
   "source": [
    "## Assign frames to classes"
   ]
  },
  {
   "cell_type": "code",
   "execution_count": 215,
   "metadata": {},
   "outputs": [
    {
     "name": "stdout",
     "output_type": "stream",
     "text": [
      "***m**mmmmmmmmmmmm*mmmmmmmmmmmmmmmmmmmm****mmmyyy *  vvoo**iiiccc*    iii*sss   mmyy**   b*o*****ee*sss***ww*oo*****dddddd*****d*d**ddddddd********dd\n",
      "my voice is my password\n",
      "********************************************m*y***** vvo****ii*c***  *i***ss**  mmy****  b*o******e*ss*****w**o******ddd*****************************\n"
     ]
    }
   ],
   "source": [
    "def assign_classes_spread(inference):\n",
    "    frame_n = inference.shape[0]\n",
    "    noise_k = inference.shape[2] - 1\n",
    "    \n",
    "    assignment = inference[:, 0, :].argmax(axis=1)\n",
    "    assignment_no_noise = inference[:, 0, :-1].argmax(axis=1)\n",
    "    \n",
    "    prev_k = noise_k\n",
    "    for i in range(frame_n):\n",
    "        if assignment[i] == assignment_no_noise[i]:\n",
    "            prev_k = assignment[i]\n",
    "        elif assignment[i] == noise_k and assignment_no_noise[i] == prev_k:\n",
    "            assignment[i] = prev_k\n",
    "    \n",
    "    next_k = noise_k\n",
    "    for i in range(frame_n - 1, 0, -1):\n",
    "        if assignment[i] == assignment_no_noise[i]:\n",
    "            prev_k = assignment[i]\n",
    "        elif assignment[i] == noise_k and assignment_no_noise[i] == prev_k:\n",
    "            assignment[i] = prev_k\n",
    "            \n",
    "    return assignment\n",
    "    \n",
    "print(''.join(alphabet[n] for n in assign_classes_spread(example_inferences[2])))\n",
    "\n",
    "def assign_classes(inference):\n",
    "    assignment = inference[:, 0, :].argmax(axis=1)\n",
    "    return assignment\n",
    "\n",
    "print(''.join(alphabet[n] for n in assign_classes(example_inferences[2])))"
   ]
  },
  {
   "cell_type": "code",
   "execution_count": 364,
   "metadata": {},
   "outputs": [
    {
     "name": "stdout",
     "output_type": "stream",
     "text": [
      "32 39 45 97 122\n"
     ]
    }
   ],
   "source": [
    "print(ord(' '), ord(\"'\"), ord('-'), ord('a'), ord('z'))"
   ]
  },
  {
   "cell_type": "code",
   "execution_count": 374,
   "metadata": {},
   "outputs": [
    {
     "name": "stdout",
     "output_type": "stream",
     "text": [
      "[26  7  9  5 18 26  0 14  9  5  3 26  5  3  8 15 19 12 15 23  1  3 10  1]\n",
      "zgierz nieczechoslowacja\n"
     ]
    }
   ],
   "source": [
    "def char_to_state(letter):\n",
    "    if letter == ' ':\n",
    "        return 0\n",
    "    elif letter == \"'\":\n",
    "        return 27\n",
    "    elif 'a' <= letter <= 'z':\n",
    "        return ord(letter) - 96\n",
    "\n",
    "def content_to_states(content):\n",
    "    chars = (char_to_state(c) for c in content.lower())\n",
    "    return np.array([c for c in chars if c is not None])\n",
    "\n",
    "# def add_noise_states(states):\n",
    "#     result = [28]\n",
    "#     for state in states:\n",
    "#         if state == 0:\n",
    "#             result.extend((28, 0, 28))\n",
    "#         else:\n",
    "#             result.append(state)\n",
    "#     result.append(28)\n",
    "#     return np.array(result)\n",
    "    \n",
    "print(content_to_states('zgierz nie-czechoslowacja'))\n",
    "print(''.join(alphabet[n] for n in content_to_states('zgierz nie-czechoslowacja')))"
   ]
  },
  {
   "cell_type": "code",
   "execution_count": 375,
   "metadata": {},
   "outputs": [
    {
     "data": {
      "text/html": [
       "<div>\n",
       "<style scoped>\n",
       "    .dataframe tbody tr th:only-of-type {\n",
       "        vertical-align: middle;\n",
       "    }\n",
       "\n",
       "    .dataframe tbody tr th {\n",
       "        vertical-align: top;\n",
       "    }\n",
       "\n",
       "    .dataframe thead th {\n",
       "        text-align: right;\n",
       "    }\n",
       "</style>\n",
       "<table border=\"1\" class=\"dataframe\">\n",
       "  <thead>\n",
       "    <tr style=\"text-align: right;\">\n",
       "      <th></th>\n",
       "      <th>sentence_id</th>\n",
       "      <th>content</th>\n",
       "      <th>phones</th>\n",
       "      <th>states</th>\n",
       "    </tr>\n",
       "  </thead>\n",
       "  <tbody>\n",
       "    <tr>\n",
       "      <th>0</th>\n",
       "      <td>14230</td>\n",
       "      <td>Defeated the team of big show and kane</td>\n",
       "      <td>D IH0 F IY1 T AH0 D _ DH AH0 _ T IY1 M _ AH1 V...</td>\n",
       "      <td>[4, 5, 6, 5, 1, 20, 5, 4, 0, 20, 8, 5, 0, 20, ...</td>\n",
       "    </tr>\n",
       "    <tr>\n",
       "      <th>1</th>\n",
       "      <td>399</td>\n",
       "      <td>Asia pacific european and wall street bourses</td>\n",
       "      <td>EY1 ZH AH0 _ P AH0 S IH1 F IH0 K _ Y UH2 R AH0...</td>\n",
       "      <td>[1, 19, 9, 1, 0, 16, 1, 3, 9, 6, 9, 3, 0, 5, 2...</td>\n",
       "    </tr>\n",
       "    <tr>\n",
       "      <th>2</th>\n",
       "      <td>242</td>\n",
       "      <td>People are expecting another big build he said</td>\n",
       "      <td>P IY1 P AH0 L _ AA1 R _ IH0 K S P EH1 K T IH0 ...</td>\n",
       "      <td>[16, 5, 15, 16, 12, 5, 0, 1, 18, 5, 0, 5, 24, ...</td>\n",
       "    </tr>\n",
       "    <tr>\n",
       "      <th>3</th>\n",
       "      <td>14478</td>\n",
       "      <td>It was completed in sixteen seventy</td>\n",
       "      <td>IH1 T _ W AA1 Z _ K AH0 M P L IY1 T AH0 D _ IH...</td>\n",
       "      <td>[9, 20, 0, 23, 1, 19, 0, 3, 15, 13, 16, 12, 5,...</td>\n",
       "    </tr>\n",
       "    <tr>\n",
       "      <th>4</th>\n",
       "      <td>16211</td>\n",
       "      <td>And he finished twenty fourth in points</td>\n",
       "      <td>AH0 N D _ HH IY1 _ F IH1 N IH0 SH T _ T W EH1 ...</td>\n",
       "      <td>[1, 14, 4, 0, 8, 5, 0, 6, 9, 14, 9, 19, 8, 5, ...</td>\n",
       "    </tr>\n",
       "  </tbody>\n",
       "</table>\n",
       "</div>"
      ],
      "text/plain": [
       "   sentence_id                                         content  \\\n",
       "0        14230          Defeated the team of big show and kane   \n",
       "1          399   Asia pacific european and wall street bourses   \n",
       "2          242  People are expecting another big build he said   \n",
       "3        14478             It was completed in sixteen seventy   \n",
       "4        16211         And he finished twenty fourth in points   \n",
       "\n",
       "                                              phones  \\\n",
       "0  D IH0 F IY1 T AH0 D _ DH AH0 _ T IY1 M _ AH1 V...   \n",
       "1  EY1 ZH AH0 _ P AH0 S IH1 F IH0 K _ Y UH2 R AH0...   \n",
       "2  P IY1 P AH0 L _ AA1 R _ IH0 K S P EH1 K T IH0 ...   \n",
       "3  IH1 T _ W AA1 Z _ K AH0 M P L IY1 T AH0 D _ IH...   \n",
       "4  AH0 N D _ HH IY1 _ F IH1 N IH0 SH T _ T W EH1 ...   \n",
       "\n",
       "                                              states  \n",
       "0  [4, 5, 6, 5, 1, 20, 5, 4, 0, 20, 8, 5, 0, 20, ...  \n",
       "1  [1, 19, 9, 1, 0, 16, 1, 3, 9, 6, 9, 3, 0, 5, 2...  \n",
       "2  [16, 5, 15, 16, 12, 5, 0, 1, 18, 5, 0, 5, 24, ...  \n",
       "3  [9, 20, 0, 23, 1, 19, 0, 3, 15, 13, 16, 12, 5,...  \n",
       "4  [1, 14, 4, 0, 8, 5, 0, 6, 9, 14, 9, 19, 8, 5, ...  "
      ]
     },
     "execution_count": 375,
     "metadata": {},
     "output_type": "execute_result"
    }
   ],
   "source": [
    "script['states'] = script.content.apply(content_to_states)\n",
    "script.head()"
   ]
  },
  {
   "cell_type": "code",
   "execution_count": 430,
   "metadata": {},
   "outputs": [
    {
     "name": "stdout",
     "output_type": "stream",
     "text": [
      "(94, 1, 29)\n",
      "(94, 29)\n",
      "11.8654\n",
      "[ 0.59634233  0.72222394  0.86294973  0.60728657  0.63306111  0.56145412\n",
      "  0.74815196  0.62338269  0.64274633  0.68527055  0.53969759  0.6374594\n",
      "  0.65914148  0.69943362  0.60925603  0.69571215  0.63578564  0.4558191\n",
      "  0.6690765   0.64011556  0.80236673  0.64805824  0.64757371  0.78311878\n",
      "  0.38001737  0.64368486  0.36416525  0.64836836  1.        ]\n"
     ]
    }
   ],
   "source": [
    "# def inference_proba(x):\n",
    "#     e_x = np.exp(x - np.max(x, axis=1)[:, np.newaxis])\n",
    "#     return e_x / e_x.sum(axis=1)[:, np.newaxis]\n",
    "\n",
    "# def inference_proba(x):\n",
    "#     e_x = np.exp(x - np.max(x, axis=1)[:, np.newaxis])\n",
    "#     return e_x / e_x.max(axis=1)[:, np.newaxis]\n",
    "\n",
    "# def inference_proba(x):\n",
    "#     e_x = x - x.min()\n",
    "#     return e_x / e_x.sum(axis=1)[:, np.newaxis]\n",
    "\n",
    "def inference_proba(x):\n",
    "    e_x = x - x.min()\n",
    "    return e_x / e_x.max(axis=1)[:, np.newaxis]\n",
    "\n",
    "print(example_inference.shape)\n",
    "print(inference_proba(example_inference[:, 0, :]).shape)\n",
    "print(inference_proba(example_inference[:, 0, :]).sum(axis=1).min())\n",
    "print(inference_proba(example_inference[:, 0, :])[0])"
   ]
  },
  {
   "cell_type": "code",
   "execution_count": 464,
   "metadata": {},
   "outputs": [
    {
     "name": "stdout",
     "output_type": "stream",
     "text": [
      "*******myyyyy voiiccce  iiiiiiisss     myy  ppppppaassssssssssssword**************************\n",
      "3.02761829024e-05\n"
     ]
    }
   ],
   "source": [
    "# hidden: expected_states, visible: inference\n",
    "def assign_most_likely(inference_proba, expected_states):\n",
    "    noise_value = 28\n",
    "    hidden_n = len(expected_states)\n",
    "    frame_n, visible_n = inference_proba.shape\n",
    "    \n",
    "    inference_noise = inference_proba[:, -1]\n",
    "    inference_per_hidden = inference_proba[:, expected_states]\n",
    "    skipped = (inference_noise[:, np.newaxis] > inference_per_hidden).all(axis=1)\n",
    "    \n",
    "    joint_proba = np.zeros(hidden_n, dtype=np.float64)\n",
    "    max_proba_ix = np.zeros((frame_n - 1, hidden_n), dtype=np.bool8)\n",
    "    \n",
    "    initial_hidden = np.zeros(hidden_n, dtype=np.float64)\n",
    "    initial_hidden[0] = 1.0\n",
    "    \n",
    "    next_state_proba = np.zeros((2, hidden_n), dtype=np.float64)\n",
    "    \n",
    "    prefix = 0\n",
    "    suffix = 0\n",
    "    for i, inference_row in enumerate(inference_per_hidden):\n",
    "        if skipped[i]:\n",
    "            continue\n",
    "        \n",
    "        suffix = i + 1\n",
    "        if prefix == 0:\n",
    "            joint_proba = initial_hidden * inference_row\n",
    "            prefix = i + 1\n",
    "        else:\n",
    "            next_state_proba[0, :] = joint_proba\n",
    "            next_state_proba[1, 1:] = joint_proba[:-1]\n",
    "            \n",
    "            next_state_proba *= inference_row\n",
    "            \n",
    "            joint_proba = next_state_proba.max(axis=0)\n",
    "            max_proba_ix[i - 1] = next_state_proba.argmax(axis=0)\n",
    "        joint_proba /= joint_proba.sum()\n",
    "    \n",
    "    most_likely_path = np.zeros(frame_n, dtype=np.int32)\n",
    "    most_likely_path[-1] = len(joint_proba) - 1 # joint_proba.argmax()\n",
    "    for i in range(frame_n - 1, 0, -1):\n",
    "        is_from_prev = max_proba_ix[i - 1, most_likely_path[i]]\n",
    "        most_likely_path[i - 1] = most_likely_path[i] - is_from_prev\n",
    "    most_likely_path = np.array([expected_states[i] for i in most_likely_path])\n",
    "#     most_likely_path[skipped] = noise_value\n",
    "    most_likely_path[:prefix] = noise_value\n",
    "    most_likely_path[suffix:] = noise_value\n",
    "    \n",
    "    return most_likely_path, joint_proba[-1]\n",
    "    \n",
    "def assign_most_likely_simple(inferences, sentence_id):\n",
    "    return assign_most_likely(\n",
    "        inference_proba(inferences[:, 0, :]),\n",
    "        script[script.sentence_id == sentence_id].states.iloc[0]\n",
    "    )\n",
    "\n",
    "ex_result = assign_most_likely_simple(example_inferences[0], 31)\n",
    "print(''.join(alphabet[n] for n in ex_result[0]))\n",
    "print(ex_result[1])"
   ]
  },
  {
   "cell_type": "code",
   "execution_count": 160,
   "metadata": {},
   "outputs": [],
   "source": [
    "# all_assignments = {path: assign_classes(inference) for path, inference in all_inferences.items()}\n",
    "# all_assignments = {path: assign_classes_spread(inference) for path, inference in all_inferences.items()}"
   ]
  },
  {
   "cell_type": "code",
   "execution_count": 465,
   "metadata": {},
   "outputs": [],
   "source": [
    "assignment_cache = {}"
   ]
  },
  {
   "cell_type": "markdown",
   "metadata": {},
   "source": [
    "## Build per-speaker per-class GMMs"
   ]
  },
  {
   "cell_type": "code",
   "execution_count": 434,
   "metadata": {},
   "outputs": [
    {
     "name": "stdout",
     "output_type": "stream",
     "text": [
      "31\n"
     ]
    }
   ],
   "source": [
    "recording_regex = re.compile(r'([mf])(\\d+)/(\\d+)_[mf]\\d+_(\\d+)')\n",
    "\n",
    "def path_to_sentence_id(value):\n",
    "    match = recording_regex.match(value)\n",
    "    if match:\n",
    "        return int(match.group(4))\n",
    "\n",
    "print(path_to_sentence_id('m0002/20150713085938321_m0002_31.pcm'))"
   ]
  },
  {
   "cell_type": "code",
   "execution_count": 435,
   "metadata": {},
   "outputs": [],
   "source": [
    "letter_classes = np.arange(1, 27)\n",
    "\n",
    "def is_accepted_class(k):\n",
    "    return 1 <= k < 27"
   ]
  },
  {
   "cell_type": "code",
   "execution_count": 436,
   "metadata": {},
   "outputs": [],
   "source": [
    "def build_class_stacks(assignment_cache, all_inferences, paths):\n",
    "    stacks = {klass: [] for klass in letter_classes}\n",
    "    \n",
    "    for path in paths:\n",
    "        sentence_id = path_to_sentence_id(path)\n",
    "        \n",
    "        if not (script.sentence_id == sentence_id).any() or \\\n",
    "           not isinstance(script[script.sentence_id == sentence_id].phones.iloc[0], str):\n",
    "            continue\n",
    "        \n",
    "        key = (path, sentence_id)\n",
    "        if key in assignment_cache:\n",
    "            assignments = assignment_cache[key][0]\n",
    "        else:\n",
    "            inferences = all_inferences[path]\n",
    "            result = assign_most_likely_simple(inferences, sentence_id)\n",
    "            assignment_cache[key] = result\n",
    "            assignments = result[0]\n",
    "        \n",
    "        mfcc = all_mfcc[path]\n",
    "        for klass, frame in zip(assignments, mfcc):\n",
    "            if is_accepted_class(klass):\n",
    "                stacks[klass].append(frame)\n",
    "    \n",
    "    stacks = {klass: np.vstack(frames) for klass, frames in stacks.items() if frames}\n",
    "    return stacks\n",
    "\n",
    "class_stacks = build_class_stacks(assignment_cache, all_inferences, untrialed_paths)"
   ]
  },
  {
   "cell_type": "code",
   "execution_count": 450,
   "metadata": {
    "scrolled": true
   },
   "outputs": [
    {
     "name": "stdout",
     "output_type": "stream",
     "text": [
      "Initialization 0\n",
      "  Iteration 0\n",
      "  Iteration 10\n",
      "  Iteration 20\n",
      "  Iteration 30\n",
      "  Iteration 40\n",
      "  Iteration 50\n",
      "  Iteration 60\n",
      "  Iteration 70\n",
      "  Iteration 80\n",
      "  Iteration 90\n",
      "Initialization converged: True\n",
      "Initialization 0\n",
      "  Iteration 0\n",
      "  Iteration 10\n",
      "  Iteration 20\n",
      "  Iteration 30\n",
      "  Iteration 40\n",
      "  Iteration 50\n",
      "  Iteration 60\n",
      "  Iteration 70\n",
      "  Iteration 80\n",
      "Initialization converged: True\n",
      "Initialization 0\n",
      "  Iteration 0\n",
      "  Iteration 10\n",
      "  Iteration 20\n",
      "  Iteration 30\n",
      "  Iteration 40\n",
      "  Iteration 50\n",
      "  Iteration 60\n",
      "  Iteration 70\n",
      "  Iteration 80\n",
      "  Iteration 90\n",
      "Initialization converged: True\n",
      "Initialization 0\n",
      "  Iteration 0\n",
      "  Iteration 10\n",
      "  Iteration 20\n",
      "  Iteration 30\n",
      "  Iteration 40\n",
      "  Iteration 50\n",
      "  Iteration 60\n",
      "  Iteration 70\n",
      "  Iteration 80\n",
      "Initialization converged: True\n",
      "Initialization 0\n",
      "  Iteration 0\n",
      "  Iteration 10\n",
      "  Iteration 20\n",
      "  Iteration 30\n",
      "  Iteration 40\n",
      "  Iteration 50\n",
      "  Iteration 60\n",
      "  Iteration 70\n",
      "  Iteration 80\n",
      "Initialization converged: True\n",
      "Initialization 0\n",
      "  Iteration 0\n",
      "  Iteration 10\n",
      "  Iteration 20\n",
      "  Iteration 30\n",
      "  Iteration 40\n",
      "  Iteration 50\n",
      "Initialization converged: True\n",
      "Initialization 0\n",
      "  Iteration 0\n",
      "  Iteration 10\n",
      "  Iteration 20\n",
      "  Iteration 30\n",
      "  Iteration 40\n",
      "  Iteration 50\n",
      "  Iteration 60\n",
      "  Iteration 70\n",
      "Initialization converged: True\n",
      "Initialization 0\n",
      "  Iteration 0\n",
      "  Iteration 10\n",
      "  Iteration 20\n",
      "  Iteration 30\n",
      "  Iteration 40\n",
      "  Iteration 50\n",
      "  Iteration 60\n",
      "  Iteration 70\n",
      "  Iteration 80\n",
      "  Iteration 90\n",
      "  Iteration 100\n",
      "  Iteration 110\n",
      "  Iteration 120\n",
      "  Iteration 130\n",
      "  Iteration 140\n",
      "Initialization converged: True\n",
      "Initialization 0\n",
      "  Iteration 0\n",
      "  Iteration 10\n",
      "  Iteration 20\n",
      "  Iteration 30\n",
      "  Iteration 40\n",
      "  Iteration 50\n",
      "  Iteration 60\n",
      "  Iteration 70\n",
      "  Iteration 80\n",
      "  Iteration 90\n",
      "  Iteration 100\n",
      "  Iteration 110\n",
      "  Iteration 120\n",
      "  Iteration 130\n",
      "  Iteration 140\n",
      "  Iteration 150\n",
      "  Iteration 160\n",
      "Initialization converged: True\n",
      "Initialization 0\n",
      "  Iteration 0\n",
      "  Iteration 10\n",
      "Initialization converged: True\n",
      "Initialization 0\n",
      "  Iteration 0\n",
      "  Iteration 10\n",
      "  Iteration 20\n",
      "  Iteration 30\n",
      "Initialization converged: True\n",
      "Initialization 0\n",
      "  Iteration 0\n",
      "  Iteration 10\n",
      "  Iteration 20\n",
      "  Iteration 30\n",
      "  Iteration 40\n",
      "  Iteration 50\n",
      "  Iteration 60\n",
      "Initialization converged: True\n",
      "Initialization 0\n",
      "  Iteration 0\n",
      "  Iteration 10\n",
      "  Iteration 20\n",
      "  Iteration 30\n",
      "Initialization converged: True\n",
      "Initialization 0\n",
      "  Iteration 0\n",
      "  Iteration 10\n",
      "  Iteration 20\n",
      "  Iteration 30\n",
      "  Iteration 40\n",
      "  Iteration 50\n",
      "  Iteration 60\n",
      "  Iteration 70\n",
      "  Iteration 80\n",
      "  Iteration 90\n",
      "  Iteration 100\n",
      "  Iteration 110\n",
      "  Iteration 120\n",
      "  Iteration 130\n",
      "  Iteration 140\n",
      "  Iteration 150\n",
      "Initialization converged: True\n",
      "Initialization 0\n",
      "  Iteration 0\n",
      "  Iteration 10\n",
      "  Iteration 20\n",
      "  Iteration 30\n",
      "  Iteration 40\n",
      "  Iteration 50\n",
      "  Iteration 60\n",
      "  Iteration 70\n",
      "  Iteration 80\n",
      "  Iteration 90\n",
      "Initialization converged: True\n",
      "Initialization 0\n",
      "  Iteration 0\n",
      "  Iteration 10\n",
      "  Iteration 20\n",
      "  Iteration 30\n",
      "  Iteration 40\n",
      "  Iteration 50\n",
      "  Iteration 60\n",
      "Initialization converged: True\n",
      "Initialization 0\n",
      "  Iteration 0\n",
      "Initialization converged: True\n",
      "Initialization 0\n",
      "  Iteration 0\n",
      "  Iteration 10\n",
      "  Iteration 20\n",
      "  Iteration 30\n",
      "  Iteration 40\n",
      "  Iteration 50\n",
      "  Iteration 60\n",
      "  Iteration 70\n",
      "  Iteration 80\n",
      "  Iteration 90\n",
      "  Iteration 100\n",
      "Initialization converged: True\n",
      "Initialization 0\n",
      "  Iteration 0\n",
      "  Iteration 10\n",
      "  Iteration 20\n",
      "  Iteration 30\n",
      "  Iteration 40\n",
      "  Iteration 50\n",
      "  Iteration 60\n",
      "  Iteration 70\n",
      "  Iteration 80\n",
      "  Iteration 90\n",
      "Initialization converged: True\n",
      "Initialization 0\n",
      "  Iteration 0\n",
      "  Iteration 10\n",
      "  Iteration 20\n",
      "  Iteration 30\n",
      "  Iteration 40\n",
      "  Iteration 50\n",
      "  Iteration 60\n",
      "  Iteration 70\n",
      "  Iteration 80\n",
      "  Iteration 90\n",
      "  Iteration 100\n",
      "  Iteration 110\n",
      "Initialization converged: True\n",
      "Initialization 0\n",
      "  Iteration 0\n",
      "  Iteration 10\n",
      "  Iteration 20\n",
      "  Iteration 30\n",
      "  Iteration 40\n",
      "  Iteration 50\n",
      "  Iteration 60\n",
      "Initialization converged: True\n",
      "Initialization 0\n",
      "  Iteration 0\n",
      "  Iteration 10\n",
      "  Iteration 20\n",
      "  Iteration 30\n",
      "  Iteration 40\n",
      "  Iteration 50\n",
      "Initialization converged: True\n",
      "Initialization 0\n",
      "  Iteration 0\n",
      "  Iteration 10\n",
      "  Iteration 20\n",
      "  Iteration 30\n",
      "  Iteration 40\n",
      "  Iteration 50\n",
      "  Iteration 60\n",
      "  Iteration 70\n",
      "  Iteration 80\n",
      "Initialization converged: True\n",
      "Initialization 0\n",
      "  Iteration 0\n",
      "  Iteration 10\n",
      "Initialization converged: True\n",
      "Initialization 0\n",
      "  Iteration 0\n",
      "  Iteration 10\n",
      "  Iteration 20\n",
      "  Iteration 30\n",
      "  Iteration 40\n",
      "  Iteration 50\n",
      "  Iteration 60\n",
      "  Iteration 70\n",
      "  Iteration 80\n",
      "  Iteration 90\n",
      "Initialization converged: True\n",
      "Initialization 0\n",
      "  Iteration 0\n",
      "Initialization converged: True\n"
     ]
    }
   ],
   "source": [
    "def train_class_ubm(stack):\n",
    "    ubm = mixture.GaussianMixture(\n",
    "        n_components=32, max_iter=2000, covariance_type='diag', \n",
    "        random_state=13, verbose=1\n",
    "    )\n",
    "    ubm.fit(stack)\n",
    "    return ubm\n",
    "\n",
    "class_ubms = {klass: train_class_ubm(stack) for klass, stack in class_stacks.items()}"
   ]
  },
  {
   "cell_type": "code",
   "execution_count": 451,
   "metadata": {},
   "outputs": [],
   "source": [
    "write_model(root + '/models/dnn/ubm_models_4_32.pickle', class_ubms)"
   ]
  },
  {
   "cell_type": "markdown",
   "metadata": {},
   "source": [
    "# Enroll\n",
    "## Speaker scores"
   ]
  },
  {
   "cell_type": "code",
   "execution_count": 452,
   "metadata": {},
   "outputs": [],
   "source": [
    "def load_ubms_copy():\n",
    "    return read_model(root + '/models/dnn/ubm_models_4_32.pickle')\n",
    "\n",
    "def map_adapt(gmm, features, relevance_factor=3.0):\n",
    "    proba = gmm.predict_proba(features)\n",
    "    zero_stats = proba.sum(axis=0)\n",
    "    first_stats = proba.T @ features\n",
    "    new_means = first_stats / zero_stats[:, np.newaxis]\n",
    "    new_means[~np.isfinite(new_means)] = gmm.means_[~np.isfinite(new_means)]\n",
    "    replace_factor = zero_stats / (zero_stats + relevance_factor)\n",
    "    adapted_means = gmm.means_ + replace_factor[:, np.newaxis] * (new_means - gmm.means_)\n",
    "    gmm.means_ = adapted_means\n",
    "    \n",
    "# example = load_ubm_copy()\n",
    "# map_adapt(example, speaker_stack)\n",
    "# example"
   ]
  },
  {
   "cell_type": "code",
   "execution_count": 453,
   "metadata": {},
   "outputs": [],
   "source": [
    "def split_enrollments(enrollments):\n",
    "    unique_males = enrollments[enrollments.is_male].speaker_id.unique()\n",
    "    unique_females = enrollments[~enrollments.is_male].speaker_id.unique()\n",
    "    unique_sentences = enrollments.sentence_id.unique()\n",
    "    return unique_males, unique_females, unique_sentences\n",
    "\n",
    "def map_adapt_classes(speaker_gmms, speaker_stacks):\n",
    "    for klass, stack in speaker_stacks.items():\n",
    "        speaker_gmm = speaker_gmms[klass]\n",
    "        map_adapt(speaker_gmm, stack)\n",
    "\n",
    "def enroll_speakers(assignment_cache, all_inferences, enrollments):\n",
    "    males, females, _ = split_enrollments(enrollments)\n",
    "    \n",
    "    speaker_class_gmms = {}\n",
    "    for is_male, speaker_ids in ((True, males), (False, females)):\n",
    "        for speaker_id in speaker_ids:\n",
    "            speaker_mask = (enrollments.is_male == is_male) & (enrollments.speaker_id == speaker_id)\n",
    "            speaker_paths = enrollments[speaker_mask].pcm_path\n",
    "            speaker_gmms = load_ubms_copy()\n",
    "            \n",
    "            speaker_stacks = build_class_stacks(assignment_cache, all_inferences, speaker_paths)\n",
    "            map_adapt_classes(speaker_gmms, speaker_stacks)\n",
    "            \n",
    "            speaker_class_gmms[(is_male, speaker_id)] = speaker_gmms\n",
    "            \n",
    "    return speaker_class_gmms"
   ]
  },
  {
   "cell_type": "code",
   "execution_count": 454,
   "metadata": {},
   "outputs": [
    {
     "name": "stderr",
     "output_type": "stream",
     "text": [
      "/usr/local/lib/python3.5/dist-packages/ipykernel_launcher.py:8: RuntimeWarning: invalid value encountered in true_divide\n",
      "  \n"
     ]
    }
   ],
   "source": [
    "enrollments_1_speaker_class_gmms = enroll_speakers(assignment_cache, all_inferences, enrollments_1)"
   ]
  },
  {
   "cell_type": "code",
   "execution_count": 455,
   "metadata": {},
   "outputs": [],
   "source": [
    "# fast - not really need to save as long as we have ubms\n",
    "# write_model(root + '/models/dnn/enrollment_1_speaker_class_gmms_1.pickle', enrollments_1_speaker_class_gmms)"
   ]
  },
  {
   "cell_type": "markdown",
   "metadata": {},
   "source": [
    "# Evaluate"
   ]
  },
  {
   "cell_type": "code",
   "execution_count": 456,
   "metadata": {},
   "outputs": [],
   "source": [
    "def score_class_gmm(class_gmms, assignment_cache, all_inferences, all_mfcc, path, sentence_id):\n",
    "    key = (path, sentence_id)\n",
    "    if key in assignment_cache:\n",
    "        assignments = assignment_cache[key][0]\n",
    "    else:\n",
    "        inferences = all_inferences[path]\n",
    "        result = assign_most_likely_simple(inferences, sentence_id)\n",
    "        assignment_cache[key] = result\n",
    "        assignments = result[0]\n",
    "    \n",
    "    features = all_mfcc[path]\n",
    "    total_proba = 0\n",
    "    for klass, frame in zip(assignments, features):\n",
    "        if is_accepted_class(klass):\n",
    "            class_gmm = class_gmms[klass]\n",
    "            proba = class_gmm.score([frame])\n",
    "            total_proba += proba\n",
    "    return total_proba"
   ]
  },
  {
   "cell_type": "code",
   "execution_count": 186,
   "metadata": {},
   "outputs": [],
   "source": [
    "# ubm_scores = {path: score_class_gmm(class_ubms, assignment_cache, all_inferences, all_mfcc, path) for path in trialed_paths}"
   ]
  },
  {
   "cell_type": "code",
   "execution_count": 188,
   "metadata": {},
   "outputs": [],
   "source": [
    "# speaker_scores = {}\n",
    "# sentence_scores = {}"
   ]
  },
  {
   "cell_type": "code",
   "execution_count": 466,
   "metadata": {},
   "outputs": [],
   "source": [
    "def perform_trials(assignment_cache, class_ubms, speaker_class_gmms, all_inferences, all_mfcc, trials):\n",
    "    size = len(trials)\n",
    "    size_100 = size // 100\n",
    "    \n",
    "    scores = np.zeros((size, 3), dtype=np.float64)\n",
    "    flags = np.zeros((size, 6), dtype=np.bool)\n",
    "    \n",
    "    for i, trial in trials.iterrows():\n",
    "        if all_mfcc[trial.pcm_path].shape[0] < 85:\n",
    "            flags[i, 5] = True\n",
    "            continue\n",
    "        \n",
    "        ubm_score = score_class_gmm(class_ubms, assignment_cache, all_inferences, all_mfcc, \n",
    "                                    trial.pcm_path, trial.expected_sentence_id)\n",
    "        \n",
    "        class_gmms = speaker_class_gmms[(trial.expected_is_male, trial.expected_speaker_id)]\n",
    "        speaker_score = score_class_gmm(class_gmms, assignment_cache, all_inferences, all_mfcc, \n",
    "                                        trial.pcm_path, trial.expected_sentence_id)\n",
    "        sentence_score = assignment_cache[(trial.pcm_path, trial.expected_sentence_id)][1]\n",
    "        \n",
    "        expected_is_male = trial.expected_is_male\n",
    "        trial_is_male = trial.trial_is_male\n",
    "        gender_right = trial.expected_is_male == trial.trial_is_male\n",
    "        target_right = gender_right and (trial.expected_speaker_id == trial.trial_speaker_id)\n",
    "        sentence_right = trial.expected_sentence_id == trial.trial_sentence_id\n",
    "        \n",
    "        scores[i, :] = (speaker_score, sentence_score, ubm_score)\n",
    "        flags[i, :] = (expected_is_male, trial_is_male, gender_right, target_right, sentence_right, False)\n",
    "        \n",
    "        if i % size_100 == size_100 - 1:\n",
    "            print(i, end=' ')\n",
    "        \n",
    "    return pd.DataFrame.from_dict({\n",
    "        'speaker_score': scores[:, 0], 'sentence_score': scores[:, 1], 'ubm_score': scores[:, 2],\n",
    "        'expected_is_male': flags[:, 0], 'trial_is_male': flags[:, 1], 'gender_right': flags[:, 2],\n",
    "        'target_right': flags[:, 3], 'sentence_right': flags[:, 4], 'too_short': flags[:, 5]\n",
    "    })"
   ]
  },
  {
   "cell_type": "code",
   "execution_count": 467,
   "metadata": {},
   "outputs": [
    {
     "name": "stdout",
     "output_type": "stream",
     "text": [
      "99 199 299 399 499 599 699 799 899 999 1099 1199 1299 1399 1499 1599 1699 1799 1899 1999 2099 2199 2299 2399 2499 2599 2699 2799 2899 2999 3099 3199 3299 3399 3499 3599 3699 3799 3899 3999 4099 4199 4299 4399 4499 4599 4699 4799 4899 4999 5099 5199 5299 5399 5499 5599 5699 5799 5899 5999 6099 6199 6299 6399 6499 6599 6699 6799 6899 6999 7099 7199 7299 7399 7499 7599 7699 7799 7899 7999 8099 8199 8299 8399 8499 8599 8699 8799 8899 8999 9099 9199 9299 9399 9499 9599 9699 9799 9899 9999 "
     ]
    }
   ],
   "source": [
    "trials_1_results = perform_trials(assignment_cache, class_ubms, enrollments_1_speaker_class_gmms, \n",
    "                                  all_inferences, all_mfcc, trials_1.head(10000))"
   ]
  },
  {
   "cell_type": "code",
   "execution_count": 415,
   "metadata": {},
   "outputs": [],
   "source": [
    "# save_results('ubm_scores_3.pickle', ubm_scores)\n",
    "# save_results('speaker_scores_3.pickle', speaker_scores)\n",
    "# # save_results('sentence_scores.pickle', sentence_scores)\n",
    "# trials_1_results.to_pickle(os.path.join(root, 'result', 'dnn', 'trials_1_results_3.pickle.gz'), compression='gzip')"
   ]
  },
  {
   "cell_type": "markdown",
   "metadata": {},
   "source": [
    "# Visualize"
   ]
  },
  {
   "cell_type": "code",
   "execution_count": 459,
   "metadata": {},
   "outputs": [],
   "source": [
    "def equal_error_rate(fpr, tpr, thresholds):\n",
    "    eer = optimize.brentq(lambda x : 1. - x - interpolate.interp1d(fpr, tpr)(x), 0., 1.)\n",
    "    threshold = interpolate.interp1d(fpr, thresholds)(eer)\n",
    "    return eer, threshold\n",
    "\n",
    "def plot_roc(fpr, tpr, auc, eer, title):\n",
    "    plt.figure(figsize=(8, 6))\n",
    "    print(auc, eer)\n",
    "    plt.plot(fpr, tpr, color='darkorange',\n",
    "             label='ROC curve (area = {:.2%}, EER = {:.2%})'.format(auc, eer))\n",
    "    plt.plot([0, 1], [0, 1], color='navy', lw=2, linestyle='--')\n",
    "    plt.xlim([0.0, 1.0])\n",
    "    plt.ylim([0.0, 1.05])\n",
    "    plt.xlabel('False Positive Rate')\n",
    "    plt.ylabel('True Positive Rate')\n",
    "    if title:\n",
    "        plt.title(title)\n",
    "    plt.legend(loc=\"lower right\")\n",
    "    plt.show()\n",
    "    \n",
    "def visualize_roc(fpr, tpr, thresholds, title=None):\n",
    "    roc_auc = metrics.auc(fpr, tpr)\n",
    "    eer, threshold = equal_error_rate(fpr, tpr, thresholds)\n",
    "    plot_roc(fpr, tpr, roc_auc, eer, title=title)\n",
    "    \n",
    "def visualize_results(results):\n",
    "    # is target right, disregarding sentence\n",
    "    roc_target_right = metrics.roc_curve(results.target_right, results.speaker_prob)\n",
    "    visualize_roc(*roc_target_right, title='ROC - speaker correct problem')\n",
    "\n",
    "    # is sentence correct or wrong, disregarding target\n",
    "    roc_sentence_right = metrics.roc_curve(results.sentence_right, results.sentence_prob)\n",
    "    visualize_roc(*roc_sentence_right, title='ROC - sentence correct problem')\n",
    "\n",
    "    # is target right, when the sentence is correct\n",
    "    roc_both_right = metrics.roc_curve(results.target_right & results.sentence_right, results.both_prob)\n",
    "    visualize_roc(*roc_both_right, title='ROC - speaker and sentence correct problem')"
   ]
  },
  {
   "cell_type": "code",
   "execution_count": 469,
   "metadata": {},
   "outputs": [],
   "source": [
    "trials_1_results['speaker_prob'] = np.exp(trials_1_results.speaker_score - np.maximum(trials_1_results.ubm_score, trials_1_results.speaker_score))\n",
    "# trials_1_results['sentence_prob'] = np.exp(trials_1_results.sentence_score - np.maximum(trials_1_results.ubm_score, trials_1_results.sentence_score))\n",
    "# trials_1_results['both_prob'] = np.exp(trials_1_results.speaker_score - np.maximum(trials_1_results.ubm_score, trials_1_results.speaker_score)\n",
    "#                                      + trials_1_results.sentence_score - np.maximum(trials_1_results.ubm_score, trials_1_results.sentence_score))\n",
    "trials_1_results['sentence_prob'] = trials_1_results.sentence_score\n",
    "trials_1_results['both_prob'] = np.exp(trials_1_results.speaker_score - np.maximum(trials_1_results.ubm_score, trials_1_results.speaker_score)) \\\n",
    "                              * trials_1_results.sentence_score"
   ]
  },
  {
   "cell_type": "code",
   "execution_count": 449,
   "metadata": {},
   "outputs": [
    {
     "name": "stdout",
     "output_type": "stream",
     "text": [
      "0.651172441883 0.39514866979612306\n"
     ]
    },
    {
     "data": {
      "image/png": "[encoded data removed]",
      "text/plain": [
       "<matplotlib.figure.Figure at 0x7f5aaea54390>"
      ]
     },
     "metadata": {},
     "output_type": "display_data"
    },
    {
     "name": "stdout",
     "output_type": "stream",
     "text": [
      "0.867348330558 0.17653061224489297\n"
     ]
    },
    {
     "data": {
      "image/png": "[encoded data removed]",
      "text/plain": [
       "<matplotlib.figure.Figure at 0x7f5c60adb2e8>"
      ]
     },
     "metadata": {},
     "output_type": "display_data"
    },
    {
     "name": "stdout",
     "output_type": "stream",
     "text": [
      "0.843797572322 0.24239573534109743\n"
     ]
    },
    {
     "data": {
      "image/png": "[encoded data removed]",
      "text/plain": [
       "<matplotlib.figure.Figure at 0x7f5c607cc5c0>"
      ]
     },
     "metadata": {},
     "output_type": "display_data"
    }
   ],
   "source": [
    "# viterbi - wider 8\n",
    "visualize_results(trials_1_results[~trials_1_results.too_short])"
   ]
  }
 ],
 "metadata": {
  "kernelspec": {
   "display_name": "Python 3",
   "language": "python",
   "name": "python3"
  },
  "language_info": {
   "codemirror_mode": {
    "name": "ipython",
    "version": 3
   },
   "file_extension": ".py",
   "mimetype": "text/x-python",
   "name": "python",
   "nbconvert_exporter": "python",
   "pygments_lexer": "ipython3",
   "version": "3.5.2"
  }
 },
 "nbformat": 4,
 "nbformat_minor": 2
}
